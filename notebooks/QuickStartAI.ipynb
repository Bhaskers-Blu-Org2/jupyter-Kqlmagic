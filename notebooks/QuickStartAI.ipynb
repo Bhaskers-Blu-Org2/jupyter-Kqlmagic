{
 "cells": [
  {
   "cell_type": "markdown",
   "metadata": {},
   "source": [
    "![alt text](images/Kusto.jpg \"Kusto Magic\")"
   ]
  },
  {
   "cell_type": "markdown",
   "metadata": {},
   "source": [
    "# Kqlmagic Quick Start\n",
    "1. Press F11 to switch browser to full screen mode  \n",
    "2. If in running jupyter lab, in View tab, select 'Single-Document Mode' and 'Presentation Mode' or  (Ctrl + Shift + D)  \n",
    "3. In Kernel tab, select 'Restart Kernel and Clear All Outputs...', to start from fresh\n",
    "4. Repeat: press Shift+Enter to run cells sequentially"
   ]
  },
  {
   "cell_type": "markdown",
   "metadata": {},
   "source": [
    "## Make sure that you have the lastest version of  Kqlmagic\n",
    "Download Kqlmagic from PyPI and install/update\n",
    "(if latest version is already installed you can skip this step)"
   ]
  },
  {
   "cell_type": "code",
   "execution_count": null,
   "metadata": {},
   "outputs": [],
   "source": [
    "#!pip install Kqlmagic --upgrade"
   ]
  },
  {
   "cell_type": "markdown",
   "metadata": {},
   "source": [
    "## If you want to pre-set defaults, set environment varaible, before activation notebook, or within notebook\n",
    "- **KQLMAGIC_NOTEBOOK_APP** - set the notebook application (default **jupyternotebook**)\n",
    "- **KQLMAGIC_LOAD_MODE** - set the kqlmagic load mode (default **verbose**). If silent, it will load without welcome output\n",
    "- **KQLMAGIC_CONFIGURATION** - modify the default configuration, key=value pairs must be separated by a **semicolon**\n",
    "\n",
    "- **KQLMAGIC_CONNECTION_STR** - set the default connection string (default **None**). If set it will connect to it on Kqlmagic load"
   ]
  },
  {
   "cell_type": "code",
   "execution_count": null,
   "metadata": {},
   "outputs": [],
   "source": [
    "# you can try it within the notebook, by setting the environment variable using %env magic\n",
    "\n",
    "#%env KQLMAGIC_NOTEBOOK_APP=jupyterlab\n",
    "#%env KQLMAGIC_LOAD_MODE=silent\n",
    "#%env KQLMAGIC_CONFIGURATION=\"show_query_time=False;plot_package='plotly';display_limit=100\"\n",
    "\n",
    "#%env KQLMAGIC_CONNECTION_STR=appinsights://appid='DEMO_APP';appkey='DEMO_KEY'"
   ]
  },
  {
   "cell_type": "markdown",
   "metadata": {},
   "source": [
    "## Add Kqlmagic to notebook magics"
   ]
  },
  {
   "cell_type": "code",
   "execution_count": 1,
   "metadata": {
    "scrolled": false
   },
   "outputs": [
    {
     "name": "stdout",
     "output_type": "stream",
     "text": [
      "C:\\My Projects\\jupyter-Kqlmagic-microsoft-vsc\\azure\n"
     ]
    },
    {
     "data": {
      "text/html": [
       "<html>\n",
       "            <head>\n",
       "            <style>\n",
       "            .kql-magic-banner {\n",
       "                display: flex; \n",
       "                background-color: #d9edf7;\n",
       "            }\n",
       "            .kql-magic-banner > div {\n",
       "                margin: 10px; \n",
       "                padding: 20px; \n",
       "                color: #3a87ad; \n",
       "                font-size: 13px;\n",
       "            }\n",
       "            </style>\n",
       "            </head>\n",
       "            <body>\n",
       "                <div class='kql-magic-banner'>\n",
       "                    <div><img src='data:image/png;base64,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'></div>\n",
       "                    <div>\n",
       "                        <p>Kusto is a log analytics cloud platform optimized for ad-hoc big data queries. Read more about it here: http://aka.ms/kdocs</p>\n",
       "                        <p>   &bull; kql language reference: Click on 'Help' tab > and Select 'kql referece'<br>\n",
       "                          &bull; Kqlmagic configuarion: Run in cell '%config Kqlmagic'<br>\n",
       "                          &bull; Kqlmagic syntax: Run in cell '%kql?'<br>\n",
       "                          &bull; Kqlmagic upgrate syntax: Run in cell '!pip install Kqlmagic --no-cache-dir --upgrade'<br>\n",
       "                    </div>\n",
       "                </div>\n",
       "            </body>\n",
       "            </html>"
      ],
      "text/plain": [
       "<IPython.core.display.HTML object>"
      ]
     },
     "metadata": {},
     "output_type": "display_data"
    },
    {
     "data": {
      "text/html": [
       "<html>\n",
       "        <head>\n",
       "        \n",
       "        </head>\n",
       "        <body>\n",
       "        <div><p style='padding: 10px; color: #3a87ad; background-color: #d9edf7; border-color: #bce9f1'>Kqlmagic&nbsppackage&nbspis&nbspupdated&nbspfrequently.&nbspRun&nbsp&apos;!pip&nbspinstall&nbspKqlmagic&nbsp--no-cache-dir&nbsp--upgrade&apos;&nbspto&nbspuse&nbspthe&nbsplatest&nbspversion.<br>Kqlmagic&nbspversion:&nbsp0.1.61,&nbspsource:&nbsphttps://github.com/Microsoft/jupyter-Kqlmagic</p></div>\n",
       "        </body>\n",
       "        </html>"
      ],
      "text/plain": [
       "<IPython.core.display.HTML object>"
      ]
     },
     "metadata": {},
     "output_type": "display_data"
    },
    {
     "data": {
      "application/javascript": [
       "IPython.notebook.kernel.reconnect();"
      ],
      "text/plain": [
       "<IPython.core.display.Javascript object>"
      ]
     },
     "metadata": {},
     "output_type": "display_data"
    },
    {
     "data": {
      "application/javascript": [
       "IPython.notebook.kernel.execute(\"NOTEBOOK_URL = '\" + window.location + \"'\");"
      ],
      "text/plain": [
       "<IPython.core.display.Javascript object>"
      ]
     },
     "metadata": {},
     "output_type": "display_data"
    },
    {
     "name": "stdout",
     "output_type": "stream",
     "text": [
      "c:\\My Projects\\jupyter-Kqlmagic-microsoft-vsc\\notebooks\n",
      "popd -> c:\\My Projects\\jupyter-Kqlmagic-microsoft-vsc\\notebooks\n"
     ]
    }
   ],
   "source": [
    "%pushd C:\\My Projects\\jupyter-Kqlmagic-microsoft-vsc\\azure\n",
    "%reload_ext Kqlmagic\n",
    "%popd"
   ]
  },
  {
   "cell_type": "markdown",
   "metadata": {},
   "source": [
    "  - ### <span style=\"color:#82CAFA\">*Note: information is included in the Kqlmagic banner, and in the note below it, with version and location of the open source code*</span>\n",
    "  - ### <span style=\"color:#82CAFA\">*Note: after Kqlmagic was loaded, kql reference was added to Help menu (Help tab)*</span>"
   ]
  },
  {
   "cell_type": "markdown",
   "metadata": {},
   "source": [
    "## Connect to appid@appinsights\n",
    "there are few options to authenticate with Apllication Insights:<br>\n",
    "```python\n",
    "%kql appinsights://appid='<app-id>';appkey='<app-key>';alias='<appid-friendly-name>'\n",
    "```\n",
    "```python\n",
    "%kql appinsights://code;appid='<app-id>';alias='<appid-friendly-name>'\n",
    "```\n",
    "```python\n",
    "%kql appinsights://tenant='<tenant-id>';clientid='<aad-appid>';clientsecret='<aad-appkey>';appid='<app-id>';alias='<appid-friendly-name>'\n",
    "```\n",
    "```python\n",
    "%kql appinsights://username='<username>';password='<password>';appid='<app-id>';alias='<appid-friendly-name>'\n",
    "```\n",
    "\n",
    "Notes:<br>\n",
    "(1) username/password works only on corporate network.<br>\n",
    "(2) alias is optional.<br>\n",
    "(3) if credentials are missing, and a previous connection was established the credentials will be inherited.<br>\n",
    "(4) if secret (password / clientsecret / appkey) is missing, user will be prompted to provide it.<br>\n",
    "(5) if tenant is missing, and a previous connection was established the tenant will be inherited."
   ]
  },
  {
   "cell_type": "code",
   "execution_count": 2,
   "metadata": {
    "scrolled": false
   },
   "outputs": [
    {
     "data": {
      "text/html": [
       "<!DOCTYPE html>\n",
       "            <html><body>\n",
       "\n",
       "            <button onclick=\"this.style.visibility='visible';kql_MagicLaunchWindowFunction('Kqlmagic_temp_files/_DEMO_APP_at_appinsights_schema.html','fullscreen=no,directories=no,location=no,menubar=no,resizable=yes,scrollbars=yes,status=no,titlebar=no,toolbar=no,','_DEMO_APP_at_appinsights_schema','')\">popup schema DEMO_APP@appinsights</button>\n",
       "\n",
       "            <script>\n",
       "\n",
       "            function kql_MagicLaunchWindowFunction(file_path, window_params, window_name, notebooks_host) {\n",
       "                var url;\n",
       "                if (file_path.startsWith('http')) {\n",
       "                    url = file_path;\n",
       "                } else {\n",
       "                    var base_url = '';\n",
       "\n",
       "                    // check if azure notebook\n",
       "                    var azure_host = (notebooks_host == null || notebooks_host.length == 0) ? 'https://notebooks.azure.com' : notebooks_host;\n",
       "                    var start = azure_host.search('//');\n",
       "                    var azure_host_suffix = '.' + azure_host.substring(start+2);\n",
       "\n",
       "                    var loc = String(window.location);\n",
       "                    var end = loc.search(azure_host_suffix);\n",
       "                    start = loc.search('//');\n",
       "                    if (start > 0 && end > 0) {\n",
       "                        var parts = loc.substring(start+2, end).split('-');\n",
       "                        if (parts.length == 2) {\n",
       "                            var library = parts[0];\n",
       "                            var user = parts[1];\n",
       "                            base_url = azure_host + '/api/user/' +user+ '/library/' +library+ '/html/';\n",
       "                        }\n",
       "                    }\n",
       "\n",
       "                    // check if local jupyter lab\n",
       "                    if (base_url.length == 0) {\n",
       "                        var configDataScipt  = document.getElementById('jupyter-config-data');\n",
       "                        if (configDataScipt != null) {\n",
       "                            var jupyterConfigData = JSON.parse(configDataScipt.textContent);\n",
       "                            if (jupyterConfigData['appName'] == 'JupyterLab' && jupyterConfigData['serverRoot'] != null &&  jupyterConfigData['treeUrl'] != null) {\n",
       "                                var basePath = 'c:/My Projects/jupyter-Kqlmagic-microsoft-vsc/notebooks' + '/';\n",
       "                                if (basePath.startsWith(jupyterConfigData['serverRoot'])) {\n",
       "                                    base_url = '/files/' + basePath.substring(jupyterConfigData['serverRoot'].length+1);\n",
       "                                }\n",
       "                            } \n",
       "                        }\n",
       "                    }\n",
       "\n",
       "                    // assume local jupyter notebook\n",
       "                    if (base_url.length == 0) {\n",
       "\n",
       "                        var parts = loc.split('/');\n",
       "                        parts.pop();\n",
       "                        base_url = parts.join('/') + '/';\n",
       "                    }\n",
       "                    url = base_url + file_path;\n",
       "                }\n",
       "\n",
       "                window.focus();\n",
       "                var w = screen.width / 2;\n",
       "                var h = screen.height / 2;\n",
       "                params = 'width='+w+',height='+h;\n",
       "                kql_Magic__DEMO_APP_at_appinsights_schema = window.open(url, window_name, window_params + params);\n",
       "            }\n",
       "            </script>\n",
       "\n",
       "            </body></html>"
      ],
      "text/plain": [
       "<IPython.core.display.HTML object>"
      ]
     },
     "metadata": {},
     "output_type": "display_data"
    },
    {
     "data": {
      "application/javascript": [
       "IPython.notebook.kernel.reconnect();"
      ],
      "text/plain": [
       "<IPython.core.display.Javascript object>"
      ]
     },
     "metadata": {},
     "output_type": "display_data"
    }
   ],
   "source": [
    "%kql appinsights://appid='DEMO_APP';appkey='DEMO_KEY'"
   ]
  },
  {
   "cell_type": "markdown",
   "metadata": {},
   "source": [
    "  - ### <span style=\"color:#82CAFA\">*Note - popup window that opened with the appid@appinsights schema*</span>\n",
    "  - ### <span style=\"color:#82CAFA\">*Note - Help menu contains the appid@appinsights schema*</span>"
   ]
  },
  {
   "cell_type": "markdown",
   "metadata": {},
   "source": [
    "## Once connected you can query the current appid@appinsights"
   ]
  },
  {
   "cell_type": "code",
   "execution_count": 3,
   "metadata": {
    "scrolled": false
   },
   "outputs": [
    {
     "data": {
      "text/html": [
       "<html>\n",
       "        <head>\n",
       "        \n",
       "        </head>\n",
       "        <body>\n",
       "        <div><p style='padding: 10px; color: #3a87ad; background-color: #d9edf7; border-color: #bce9f1'>&nbsp*&nbspDEMO_APP@appinsights</p></div>\n",
       "        </body>\n",
       "        </html>"
      ],
      "text/plain": [
       "<IPython.core.display.HTML object>"
      ]
     },
     "metadata": {},
     "output_type": "display_data"
    },
    {
     "data": {
      "text/html": [
       "<html>\n",
       "        <head>\n",
       "        \n",
       "        </head>\n",
       "        <body>\n",
       "        <table>\n",
       "    <tr>\n",
       "        <th>client_City</th>\n",
       "        <th>count_</th>\n",
       "    </tr>\n",
       "    <tr>\n",
       "        <td>Bothell</td>\n",
       "        <td>3909321</td>\n",
       "    </tr>\n",
       "    <tr>\n",
       "        <td>Peterborough</td>\n",
       "        <td>1466952</td>\n",
       "    </tr>\n",
       "    <tr>\n",
       "        <td>Baotou</td>\n",
       "        <td>1194837</td>\n",
       "    </tr>\n",
       "    <tr>\n",
       "        <td>Rottweil</td>\n",
       "        <td>1014910</td>\n",
       "    </tr>\n",
       "    <tr>\n",
       "        <td>Nantes</td>\n",
       "        <td>873396</td>\n",
       "    </tr>\n",
       "    <tr>\n",
       "        <td>Sao Goncalo</td>\n",
       "        <td>747577</td>\n",
       "    </tr>\n",
       "    <tr>\n",
       "        <td>Yokohama</td>\n",
       "        <td>696221</td>\n",
       "    </tr>\n",
       "    <tr>\n",
       "        <td>Lake Stevens</td>\n",
       "        <td>592257</td>\n",
       "    </tr>\n",
       "    <tr>\n",
       "        <td>Zapopan</td>\n",
       "        <td>274678</td>\n",
       "    </tr>\n",
       "    <tr>\n",
       "        <td>Tokyo</td>\n",
       "        <td>104551</td>\n",
       "    </tr>\n",
       "</table>\n",
       "        </body>\n",
       "        </html>"
      ],
      "text/plain": [
       "<IPython.core.display.HTML object>"
      ]
     },
     "metadata": {},
     "output_type": "display_data"
    },
    {
     "data": {
      "text/html": [
       "<html>\n",
       "        <head>\n",
       "        \n",
       "        </head>\n",
       "        <body>\n",
       "        <div><p style='padding: 10px; color: #3a87ad; background-color: #d9edf7; border-color: #bce9f1'>Done&nbsp(00:06.926):&nbsp10&nbsprecords</p></div>\n",
       "        </body>\n",
       "        </html>"
      ],
      "text/plain": [
       "<IPython.core.display.HTML object>"
      ]
     },
     "metadata": {},
     "output_type": "display_data"
    },
    {
     "data": {
      "text/html": [],
      "text/plain": [
       "[{'client_City': 'Bothell', 'count_': 3909321},\n",
       " {'client_City': 'Peterborough', 'count_': 1466952},\n",
       " {'client_City': 'Baotou', 'count_': 1194837},\n",
       " {'client_City': 'Rottweil', 'count_': 1014910},\n",
       " {'client_City': 'Nantes', 'count_': 873396},\n",
       " {'client_City': 'Sao Goncalo', 'count_': 747577},\n",
       " {'client_City': 'Yokohama', 'count_': 696221},\n",
       " {'client_City': 'Lake Stevens', 'count_': 592257},\n",
       " {'client_City': 'Zapopan', 'count_': 274678},\n",
       " {'client_City': 'Tokyo', 'count_': 104551}]"
      ]
     },
     "execution_count": 3,
     "metadata": {},
     "output_type": "execute_result"
    }
   ],
   "source": [
    "%kql pageViews | where client_City != '' | summarize count() by client_City | sort by count_ | limit 10"
   ]
  },
  {
   "cell_type": "markdown",
   "metadata": {},
   "source": [
    "## Python code can access the result by the \\_ variable"
   ]
  },
  {
   "cell_type": "code",
   "execution_count": 4,
   "metadata": {},
   "outputs": [
    {
     "data": {
      "text/html": [
       "<html>\n",
       "        <head>\n",
       "        \n",
       "        </head>\n",
       "        <body>\n",
       "        <table>\n",
       "    <tr>\n",
       "        <th>client_City</th>\n",
       "        <th>count_</th>\n",
       "    </tr>\n",
       "    <tr>\n",
       "        <td>Bothell</td>\n",
       "        <td>3909321</td>\n",
       "    </tr>\n",
       "    <tr>\n",
       "        <td>Peterborough</td>\n",
       "        <td>1466952</td>\n",
       "    </tr>\n",
       "    <tr>\n",
       "        <td>Baotou</td>\n",
       "        <td>1194837</td>\n",
       "    </tr>\n",
       "    <tr>\n",
       "        <td>Rottweil</td>\n",
       "        <td>1014910</td>\n",
       "    </tr>\n",
       "    <tr>\n",
       "        <td>Nantes</td>\n",
       "        <td>873396</td>\n",
       "    </tr>\n",
       "    <tr>\n",
       "        <td>Sao Goncalo</td>\n",
       "        <td>747577</td>\n",
       "    </tr>\n",
       "    <tr>\n",
       "        <td>Yokohama</td>\n",
       "        <td>696221</td>\n",
       "    </tr>\n",
       "    <tr>\n",
       "        <td>Lake Stevens</td>\n",
       "        <td>592257</td>\n",
       "    </tr>\n",
       "    <tr>\n",
       "        <td>Zapopan</td>\n",
       "        <td>274678</td>\n",
       "    </tr>\n",
       "    <tr>\n",
       "        <td>Tokyo</td>\n",
       "        <td>104551</td>\n",
       "    </tr>\n",
       "</table>\n",
       "        </body>\n",
       "        </html>"
      ],
      "text/plain": [
       "<IPython.core.display.HTML object>"
      ]
     },
     "metadata": {},
     "output_type": "display_data"
    },
    {
     "data": {
      "text/html": [],
      "text/plain": [
       "[{'client_City': 'Bothell', 'count_': 3909321},\n",
       " {'client_City': 'Peterborough', 'count_': 1466952},\n",
       " {'client_City': 'Baotou', 'count_': 1194837},\n",
       " {'client_City': 'Rottweil', 'count_': 1014910},\n",
       " {'client_City': 'Nantes', 'count_': 873396},\n",
       " {'client_City': 'Sao Goncalo', 'count_': 747577},\n",
       " {'client_City': 'Yokohama', 'count_': 696221},\n",
       " {'client_City': 'Lake Stevens', 'count_': 592257},\n",
       " {'client_City': 'Zapopan', 'count_': 274678},\n",
       " {'client_City': 'Tokyo', 'count_': 104551}]"
      ]
     },
     "execution_count": 4,
     "metadata": {},
     "output_type": "execute_result"
    }
   ],
   "source": [
    "_"
   ]
  },
  {
   "cell_type": "markdown",
   "metadata": {},
   "source": [
    "## Converts result data to a dataframe"
   ]
  },
  {
   "cell_type": "code",
   "execution_count": 5,
   "metadata": {},
   "outputs": [
    {
     "data": {
      "text/html": [
       "<div>\n",
       "<style scoped>\n",
       "    .dataframe tbody tr th:only-of-type {\n",
       "        vertical-align: middle;\n",
       "    }\n",
       "\n",
       "    .dataframe tbody tr th {\n",
       "        vertical-align: top;\n",
       "    }\n",
       "\n",
       "    .dataframe thead th {\n",
       "        text-align: right;\n",
       "    }\n",
       "</style>\n",
       "<table border=\"1\" class=\"dataframe\">\n",
       "  <thead>\n",
       "    <tr style=\"text-align: right;\">\n",
       "      <th></th>\n",
       "      <th>client_City</th>\n",
       "      <th>count_</th>\n",
       "    </tr>\n",
       "  </thead>\n",
       "  <tbody>\n",
       "    <tr>\n",
       "      <th>0</th>\n",
       "      <td>Bothell</td>\n",
       "      <td>3909321</td>\n",
       "    </tr>\n",
       "    <tr>\n",
       "      <th>1</th>\n",
       "      <td>Peterborough</td>\n",
       "      <td>1466952</td>\n",
       "    </tr>\n",
       "    <tr>\n",
       "      <th>2</th>\n",
       "      <td>Baotou</td>\n",
       "      <td>1194837</td>\n",
       "    </tr>\n",
       "    <tr>\n",
       "      <th>3</th>\n",
       "      <td>Rottweil</td>\n",
       "      <td>1014910</td>\n",
       "    </tr>\n",
       "    <tr>\n",
       "      <th>4</th>\n",
       "      <td>Nantes</td>\n",
       "      <td>873396</td>\n",
       "    </tr>\n",
       "    <tr>\n",
       "      <th>5</th>\n",
       "      <td>Sao Goncalo</td>\n",
       "      <td>747577</td>\n",
       "    </tr>\n",
       "    <tr>\n",
       "      <th>6</th>\n",
       "      <td>Yokohama</td>\n",
       "      <td>696221</td>\n",
       "    </tr>\n",
       "    <tr>\n",
       "      <th>7</th>\n",
       "      <td>Lake Stevens</td>\n",
       "      <td>592257</td>\n",
       "    </tr>\n",
       "    <tr>\n",
       "      <th>8</th>\n",
       "      <td>Zapopan</td>\n",
       "      <td>274678</td>\n",
       "    </tr>\n",
       "    <tr>\n",
       "      <th>9</th>\n",
       "      <td>Tokyo</td>\n",
       "      <td>104551</td>\n",
       "    </tr>\n",
       "  </tbody>\n",
       "</table>\n",
       "</div>"
      ],
      "text/plain": [
       "    client_City   count_\n",
       "0       Bothell  3909321\n",
       "1  Peterborough  1466952\n",
       "2        Baotou  1194837\n",
       "3      Rottweil  1014910\n",
       "4        Nantes   873396\n",
       "5   Sao Goncalo   747577\n",
       "6      Yokohama   696221\n",
       "7  Lake Stevens   592257\n",
       "8       Zapopan   274678\n",
       "9         Tokyo   104551"
      ]
     },
     "execution_count": 5,
     "metadata": {},
     "output_type": "execute_result"
    }
   ],
   "source": [
    "df = _.to_dataframe()\n",
    "df"
   ]
  },
  {
   "cell_type": "code",
   "execution_count": 6,
   "metadata": {},
   "outputs": [
    {
     "data": {
      "text/html": [
       "<div>\n",
       "<style scoped>\n",
       "    .dataframe tbody tr th:only-of-type {\n",
       "        vertical-align: middle;\n",
       "    }\n",
       "\n",
       "    .dataframe tbody tr th {\n",
       "        vertical-align: top;\n",
       "    }\n",
       "\n",
       "    .dataframe thead th {\n",
       "        text-align: right;\n",
       "    }\n",
       "</style>\n",
       "<table border=\"1\" class=\"dataframe\">\n",
       "  <thead>\n",
       "    <tr style=\"text-align: right;\">\n",
       "      <th></th>\n",
       "      <th>client_City</th>\n",
       "      <th>count_</th>\n",
       "    </tr>\n",
       "  </thead>\n",
       "  <tbody>\n",
       "    <tr>\n",
       "      <th>0</th>\n",
       "      <td>Bothell</td>\n",
       "      <td>3909321</td>\n",
       "    </tr>\n",
       "    <tr>\n",
       "      <th>1</th>\n",
       "      <td>Peterborough</td>\n",
       "      <td>1466952</td>\n",
       "    </tr>\n",
       "    <tr>\n",
       "      <th>2</th>\n",
       "      <td>Baotou</td>\n",
       "      <td>1194837</td>\n",
       "    </tr>\n",
       "    <tr>\n",
       "      <th>3</th>\n",
       "      <td>Rottweil</td>\n",
       "      <td>1014910</td>\n",
       "    </tr>\n",
       "    <tr>\n",
       "      <th>4</th>\n",
       "      <td>Nantes</td>\n",
       "      <td>873396</td>\n",
       "    </tr>\n",
       "  </tbody>\n",
       "</table>\n",
       "</div>"
      ],
      "text/plain": [
       "    client_City   count_\n",
       "0       Bothell  3909321\n",
       "1  Peterborough  1466952\n",
       "2        Baotou  1194837\n",
       "3      Rottweil  1014910\n",
       "4        Nantes   873396"
      ]
     },
     "execution_count": 6,
     "metadata": {},
     "output_type": "execute_result"
    }
   ],
   "source": [
    "df.head()"
   ]
  },
  {
   "cell_type": "code",
   "execution_count": 7,
   "metadata": {},
   "outputs": [
    {
     "data": {
      "text/plain": [
       "0         Bothell\n",
       "1    Peterborough\n",
       "2          Baotou\n",
       "3        Rottweil\n",
       "4          Nantes\n",
       "5     Sao Goncalo\n",
       "6        Yokohama\n",
       "7    Lake Stevens\n",
       "8         Zapopan\n",
       "9           Tokyo\n",
       "Name: client_City, dtype: object"
      ]
     },
     "execution_count": 7,
     "metadata": {},
     "output_type": "execute_result"
    }
   ],
   "source": [
    "df.client_City"
   ]
  },
  {
   "cell_type": "code",
   "execution_count": 8,
   "metadata": {},
   "outputs": [
    {
     "data": {
      "text/plain": [
       "client_City    Baotou\n",
       "count_         104551\n",
       "dtype: object"
      ]
     },
     "execution_count": 8,
     "metadata": {},
     "output_type": "execute_result"
    }
   ],
   "source": [
    "df.min()"
   ]
  },
  {
   "cell_type": "code",
   "execution_count": 9,
   "metadata": {},
   "outputs": [
    {
     "data": {
      "text/plain": [
       "'{\"client_City\":{\"0\":\"Bothell\",\"1\":\"Peterborough\",\"2\":\"Baotou\",\"3\":\"Rottweil\",\"4\":\"Nantes\",\"5\":\"Sao Goncalo\",\"6\":\"Yokohama\",\"7\":\"Lake Stevens\",\"8\":\"Zapopan\",\"9\":\"Tokyo\"},\"count_\":{\"0\":3909321,\"1\":1466952,\"2\":1194837,\"3\":1014910,\"4\":873396,\"5\":747577,\"6\":696221,\"7\":592257,\"8\":274678,\"9\":104551}}'"
      ]
     },
     "execution_count": 9,
     "metadata": {},
     "output_type": "execute_result"
    }
   ],
   "source": [
    "df.to_json()"
   ]
  },
  {
   "cell_type": "code",
   "execution_count": 10,
   "metadata": {},
   "outputs": [
    {
     "data": {
      "text/plain": [
       "Index(['client_City', 'count_'], dtype='object')"
      ]
     },
     "execution_count": 10,
     "metadata": {},
     "output_type": "execute_result"
    }
   ],
   "source": [
    "df.columns"
   ]
  },
  {
   "cell_type": "markdown",
   "metadata": {},
   "source": [
    "## Excution of another cell overrides \\_ , However,  \\_kql\\_raw\\_result\\_ python variable holds last kql query result "
   ]
  },
  {
   "cell_type": "code",
   "execution_count": 11,
   "metadata": {},
   "outputs": [
    {
     "data": {
      "text/plain": [
       "Index(['client_City', 'count_'], dtype='object')"
      ]
     },
     "execution_count": 11,
     "metadata": {},
     "output_type": "execute_result"
    }
   ],
   "source": [
    "_"
   ]
  },
  {
   "cell_type": "code",
   "execution_count": 12,
   "metadata": {},
   "outputs": [
    {
     "data": {
      "text/html": [
       "<html>\n",
       "        <head>\n",
       "        \n",
       "        </head>\n",
       "        <body>\n",
       "        <table>\n",
       "    <tr>\n",
       "        <th>client_City</th>\n",
       "        <th>count_</th>\n",
       "    </tr>\n",
       "    <tr>\n",
       "        <td>Bothell</td>\n",
       "        <td>3909321</td>\n",
       "    </tr>\n",
       "    <tr>\n",
       "        <td>Peterborough</td>\n",
       "        <td>1466952</td>\n",
       "    </tr>\n",
       "    <tr>\n",
       "        <td>Baotou</td>\n",
       "        <td>1194837</td>\n",
       "    </tr>\n",
       "    <tr>\n",
       "        <td>Rottweil</td>\n",
       "        <td>1014910</td>\n",
       "    </tr>\n",
       "    <tr>\n",
       "        <td>Nantes</td>\n",
       "        <td>873396</td>\n",
       "    </tr>\n",
       "    <tr>\n",
       "        <td>Sao Goncalo</td>\n",
       "        <td>747577</td>\n",
       "    </tr>\n",
       "    <tr>\n",
       "        <td>Yokohama</td>\n",
       "        <td>696221</td>\n",
       "    </tr>\n",
       "    <tr>\n",
       "        <td>Lake Stevens</td>\n",
       "        <td>592257</td>\n",
       "    </tr>\n",
       "    <tr>\n",
       "        <td>Zapopan</td>\n",
       "        <td>274678</td>\n",
       "    </tr>\n",
       "    <tr>\n",
       "        <td>Tokyo</td>\n",
       "        <td>104551</td>\n",
       "    </tr>\n",
       "</table>\n",
       "        </body>\n",
       "        </html>"
      ],
      "text/plain": [
       "<IPython.core.display.HTML object>"
      ]
     },
     "metadata": {},
     "output_type": "display_data"
    },
    {
     "data": {
      "text/html": [],
      "text/plain": [
       "[{'client_City': 'Bothell', 'count_': 3909321},\n",
       " {'client_City': 'Peterborough', 'count_': 1466952},\n",
       " {'client_City': 'Baotou', 'count_': 1194837},\n",
       " {'client_City': 'Rottweil', 'count_': 1014910},\n",
       " {'client_City': 'Nantes', 'count_': 873396},\n",
       " {'client_City': 'Sao Goncalo', 'count_': 747577},\n",
       " {'client_City': 'Yokohama', 'count_': 696221},\n",
       " {'client_City': 'Lake Stevens', 'count_': 592257},\n",
       " {'client_City': 'Zapopan', 'count_': 274678},\n",
       " {'client_City': 'Tokyo', 'count_': 104551}]"
      ]
     },
     "execution_count": 12,
     "metadata": {},
     "output_type": "execute_result"
    }
   ],
   "source": [
    "_kql_raw_result_"
   ]
  },
  {
   "cell_type": "code",
   "execution_count": 13,
   "metadata": {},
   "outputs": [
    {
     "data": {
      "text/html": [
       "<html>\n",
       "        <head>\n",
       "        \n",
       "        </head>\n",
       "        <body>\n",
       "        <table>\n",
       "    <tr>\n",
       "        <th>client_City</th>\n",
       "        <th>count_</th>\n",
       "    </tr>\n",
       "    <tr>\n",
       "        <td>Bothell</td>\n",
       "        <td>3909321</td>\n",
       "    </tr>\n",
       "    <tr>\n",
       "        <td>Peterborough</td>\n",
       "        <td>1466952</td>\n",
       "    </tr>\n",
       "    <tr>\n",
       "        <td>Baotou</td>\n",
       "        <td>1194837</td>\n",
       "    </tr>\n",
       "    <tr>\n",
       "        <td>Rottweil</td>\n",
       "        <td>1014910</td>\n",
       "    </tr>\n",
       "    <tr>\n",
       "        <td>Nantes</td>\n",
       "        <td>873396</td>\n",
       "    </tr>\n",
       "    <tr>\n",
       "        <td>Sao Goncalo</td>\n",
       "        <td>747577</td>\n",
       "    </tr>\n",
       "    <tr>\n",
       "        <td>Yokohama</td>\n",
       "        <td>696221</td>\n",
       "    </tr>\n",
       "    <tr>\n",
       "        <td>Lake Stevens</td>\n",
       "        <td>592257</td>\n",
       "    </tr>\n",
       "    <tr>\n",
       "        <td>Zapopan</td>\n",
       "        <td>274678</td>\n",
       "    </tr>\n",
       "    <tr>\n",
       "        <td>Tokyo</td>\n",
       "        <td>104551</td>\n",
       "    </tr>\n",
       "</table>\n",
       "        </body>\n",
       "        </html>"
      ],
      "text/plain": [
       "<IPython.core.display.HTML object>"
      ]
     },
     "metadata": {},
     "output_type": "display_data"
    },
    {
     "data": {
      "text/html": [],
      "text/plain": [
       "[{'client_City': 'Bothell', 'count_': 3909321},\n",
       " {'client_City': 'Peterborough', 'count_': 1466952},\n",
       " {'client_City': 'Baotou', 'count_': 1194837},\n",
       " {'client_City': 'Rottweil', 'count_': 1014910},\n",
       " {'client_City': 'Nantes', 'count_': 873396},\n",
       " {'client_City': 'Sao Goncalo', 'count_': 747577},\n",
       " {'client_City': 'Yokohama', 'count_': 696221},\n",
       " {'client_City': 'Lake Stevens', 'count_': 592257},\n",
       " {'client_City': 'Zapopan', 'count_': 274678},\n",
       " {'client_City': 'Tokyo', 'count_': 104551}]"
      ]
     },
     "execution_count": 13,
     "metadata": {},
     "output_type": "execute_result"
    }
   ],
   "source": [
    "_"
   ]
  },
  {
   "cell_type": "markdown",
   "metadata": {},
   "source": [
    "## Show a chart, render the query to the proper chart"
   ]
  },
  {
   "cell_type": "code",
   "execution_count": 14,
   "metadata": {},
   "outputs": [
    {
     "data": {
      "text/html": [
       "<html>\n",
       "        <head>\n",
       "        \n",
       "        </head>\n",
       "        <body>\n",
       "        <div><p style='padding: 10px; color: #3a87ad; background-color: #d9edf7; border-color: #bce9f1'>&nbsp*&nbspDEMO_APP@appinsights</p></div>\n",
       "        </body>\n",
       "        </html>"
      ],
      "text/plain": [
       "<IPython.core.display.HTML object>"
      ]
     },
     "metadata": {},
     "output_type": "display_data"
    },
    {
     "data": {
      "application/vnd.jupyter.widget-view+json": {
       "model_id": "c5aa7e8a8f814cc8a320589a717f3863",
       "version_major": 2,
       "version_minor": 0
      },
      "text/plain": [
       "FigureWidget({\n",
       "    'data': [{'domain': {'x': [0.0, 1.0], 'y': [0.0, 1.0]},\n",
       "              'labels': [Bothell, P…"
      ]
     },
     "metadata": {},
     "output_type": "display_data"
    },
    {
     "data": {
      "text/html": [
       "<html>\n",
       "        <head>\n",
       "        \n",
       "        </head>\n",
       "        <body>\n",
       "        <div><p style='padding: 10px; color: #3a87ad; background-color: #d9edf7; border-color: #bce9f1'>Done&nbsp(00:01.189):&nbsp10&nbsprecords</p></div>\n",
       "        </body>\n",
       "        </html>"
      ],
      "text/plain": [
       "<IPython.core.display.HTML object>"
      ]
     },
     "metadata": {},
     "output_type": "display_data"
    },
    {
     "data": {
      "text/html": [],
      "text/plain": [
       "[{'client_City': 'Bothell', 'count_': 3909321},\n",
       " {'client_City': 'Peterborough', 'count_': 1466952},\n",
       " {'client_City': 'Baotou', 'count_': 1194837},\n",
       " {'client_City': 'Rottweil', 'count_': 1014910},\n",
       " {'client_City': 'Nantes', 'count_': 873396},\n",
       " {'client_City': 'Sao Goncalo', 'count_': 747577},\n",
       " {'client_City': 'Yokohama', 'count_': 696221},\n",
       " {'client_City': 'Lake Stevens', 'count_': 592257},\n",
       " {'client_City': 'Zapopan', 'count_': 274678},\n",
       " {'client_City': 'Tokyo', 'count_': 104551}]"
      ]
     },
     "execution_count": 14,
     "metadata": {},
     "output_type": "execute_result"
    }
   ],
   "source": [
    "%kql pageViews | where client_City != '' | summarize count() by client_City | sort by count_ | limit 10 | render piechart title='my apple pie' "
   ]
  },
  {
   "cell_type": "markdown",
   "metadata": {},
   "source": [
    "  - ### <span style=\"color:#82CAFA\">*Note: the chart is interactive, hoover to the right upper corner to get the menu, click on the legend to toggle facets, hoover on the chart to get value and percentage*</span>"
   ]
  },
  {
   "cell_type": "markdown",
   "metadata": {},
   "source": [
    "## Assign kql query result to a python variable"
   ]
  },
  {
   "cell_type": "code",
   "execution_count": 15,
   "metadata": {},
   "outputs": [],
   "source": [
    "%kql my_bar_chart << pageViews | where client_City != '' | summarize count() by client_City | sort by count_ | limit 10 | render barchart title='my bar chart'"
   ]
  },
  {
   "cell_type": "markdown",
   "metadata": {},
   "source": [
    "  - ### <span style=\"color:#82CAFA\">*Note: nothing is displayed when the result is assigtned to a variable*</span>"
   ]
  },
  {
   "cell_type": "markdown",
   "metadata": {},
   "source": [
    "## Display kql result object"
   ]
  },
  {
   "cell_type": "code",
   "execution_count": 16,
   "metadata": {},
   "outputs": [
    {
     "data": {
      "application/vnd.jupyter.widget-view+json": {
       "model_id": "18837198dee94cd0bc4e06c4bfb6f0ef",
       "version_major": 2,
       "version_minor": 0
      },
      "text/plain": [
       "FigureWidget({\n",
       "    'data': [{'marker': {'color': 'rgb(31, 118, 179)'},\n",
       "              'name': 'count_',\n",
       "       …"
      ]
     },
     "metadata": {},
     "output_type": "display_data"
    },
    {
     "data": {
      "text/html": [],
      "text/plain": [
       "[{'client_City': 'Bothell', 'count_': 3909321},\n",
       " {'client_City': 'Peterborough', 'count_': 1466952},\n",
       " {'client_City': 'Baotou', 'count_': 1194837},\n",
       " {'client_City': 'Rottweil', 'count_': 1014910},\n",
       " {'client_City': 'Nantes', 'count_': 873396},\n",
       " {'client_City': 'Sao Goncalo', 'count_': 747577},\n",
       " {'client_City': 'Yokohama', 'count_': 696221},\n",
       " {'client_City': 'Lake Stevens', 'count_': 592257},\n",
       " {'client_City': 'Zapopan', 'count_': 274678},\n",
       " {'client_City': 'Tokyo', 'count_': 104551}]"
      ]
     },
     "execution_count": 16,
     "metadata": {},
     "output_type": "execute_result"
    }
   ],
   "source": [
    "my_bar_chart"
   ]
  },
  {
   "cell_type": "markdown",
   "metadata": {},
   "source": [
    "## Access table data"
   ]
  },
  {
   "cell_type": "code",
   "execution_count": 17,
   "metadata": {},
   "outputs": [
    {
     "data": {
      "text/html": [
       "<html>\n",
       "        <head>\n",
       "        \n",
       "        </head>\n",
       "        <body>\n",
       "        <table>\n",
       "    <tr>\n",
       "        <th>client_City</th>\n",
       "        <th>count_</th>\n",
       "    </tr>\n",
       "    <tr>\n",
       "        <td>Bothell</td>\n",
       "        <td>3909321</td>\n",
       "    </tr>\n",
       "    <tr>\n",
       "        <td>Peterborough</td>\n",
       "        <td>1466952</td>\n",
       "    </tr>\n",
       "    <tr>\n",
       "        <td>Baotou</td>\n",
       "        <td>1194837</td>\n",
       "    </tr>\n",
       "    <tr>\n",
       "        <td>Rottweil</td>\n",
       "        <td>1014910</td>\n",
       "    </tr>\n",
       "    <tr>\n",
       "        <td>Nantes</td>\n",
       "        <td>873396</td>\n",
       "    </tr>\n",
       "    <tr>\n",
       "        <td>Sao Goncalo</td>\n",
       "        <td>747577</td>\n",
       "    </tr>\n",
       "    <tr>\n",
       "        <td>Yokohama</td>\n",
       "        <td>696221</td>\n",
       "    </tr>\n",
       "    <tr>\n",
       "        <td>Lake Stevens</td>\n",
       "        <td>592257</td>\n",
       "    </tr>\n",
       "    <tr>\n",
       "        <td>Zapopan</td>\n",
       "        <td>274678</td>\n",
       "    </tr>\n",
       "    <tr>\n",
       "        <td>Tokyo</td>\n",
       "        <td>104551</td>\n",
       "    </tr>\n",
       "</table>\n",
       "        </body>\n",
       "        </html>"
      ],
      "text/plain": [
       "<IPython.core.display.HTML object>"
      ]
     },
     "metadata": {},
     "output_type": "display_data"
    }
   ],
   "source": [
    "my_bar_chart.show_table()"
   ]
  },
  {
   "cell_type": "code",
   "execution_count": 18,
   "metadata": {},
   "outputs": [
    {
     "data": {
      "text/plain": [
       "{'client_City': 'Peterborough', 'count_': 1466952}"
      ]
     },
     "execution_count": 18,
     "metadata": {},
     "output_type": "execute_result"
    }
   ],
   "source": [
    "my_bar_chart[1]"
   ]
  },
  {
   "cell_type": "code",
   "execution_count": 19,
   "metadata": {},
   "outputs": [
    {
     "data": {
      "text/plain": [
       "{'count_': 1466952}"
      ]
     },
     "execution_count": 19,
     "metadata": {},
     "output_type": "execute_result"
    }
   ],
   "source": [
    "my_bar_chart[1][1:]"
   ]
  },
  {
   "cell_type": "code",
   "execution_count": 20,
   "metadata": {},
   "outputs": [
    {
     "data": {
      "text/plain": [
       "'Peterborough'"
      ]
     },
     "execution_count": 20,
     "metadata": {},
     "output_type": "execute_result"
    }
   ],
   "source": [
    "my_bar_chart[1]['client_City']"
   ]
  },
  {
   "cell_type": "code",
   "execution_count": 21,
   "metadata": {},
   "outputs": [
    {
     "data": {
      "text/plain": [
       "[{'client_City': 'Peterborough', 'count_': 1466952},\n",
       " {'client_City': 'Baotou', 'count_': 1194837},\n",
       " {'client_City': 'Rottweil', 'count_': 1014910},\n",
       " {'client_City': 'Nantes', 'count_': 873396}]"
      ]
     },
     "execution_count": 21,
     "metadata": {},
     "output_type": "execute_result"
    }
   ],
   "source": [
    "my_bar_chart[1:5]"
   ]
  },
  {
   "cell_type": "code",
   "execution_count": 22,
   "metadata": {},
   "outputs": [
    {
     "data": {
      "text/html": [
       "<html>\n",
       "        <head>\n",
       "        \n",
       "        </head>\n",
       "        <body>\n",
       "        <div><p style='padding: 10px; color: #3a87ad; background-color: #d9edf7; border-color: #bce9f1'>&nbsp*&nbspDEMO_APP@appinsights</p></div>\n",
       "        </body>\n",
       "        </html>"
      ],
      "text/plain": [
       "<IPython.core.display.HTML object>"
      ]
     },
     "metadata": {},
     "output_type": "display_data"
    },
    {
     "data": {
      "text/html": [
       "<html>\n",
       "        <head>\n",
       "        \n",
       "        </head>\n",
       "        <body>\n",
       "        <table>\n",
       "    <tr>\n",
       "        <th>name</th>\n",
       "        <th>customDimensions</th>\n",
       "    </tr>\n",
       "    <tr>\n",
       "        <td>GET Home/Index</td>\n",
       "        <td>{<br>    \u001b[34;01m&quot;_MS.ProcessedByMetricExtractors&quot;\u001b[39;49;00m: \u001b[33m&quot;(Name:&#x27;Requests&#x27;, Ver:&#x27;1.1&#x27;)&quot;\u001b[39;49;00m<br>}<br></td>\n",
       "    </tr>\n",
       "    <tr>\n",
       "        <td>GET Home/Index</td>\n",
       "        <td>{<br>    \u001b[34;01m&quot;_MS.ProcessedByMetricExtractors&quot;\u001b[39;49;00m: \u001b[33m&quot;(Name:&#x27;Requests&#x27;, Ver:&#x27;1.1&#x27;)&quot;\u001b[39;49;00m<br>}<br></td>\n",
       "    </tr>\n",
       "    <tr>\n",
       "        <td>GET Home/Index</td>\n",
       "        <td>{<br>    \u001b[34;01m&quot;_MS.ProcessedByMetricExtractors&quot;\u001b[39;49;00m: \u001b[33m&quot;(Name:&#x27;Requests&#x27;, Ver:&#x27;1.1&#x27;)&quot;\u001b[39;49;00m<br>}<br></td>\n",
       "    </tr>\n",
       "    <tr>\n",
       "        <td>GET Home/Index</td>\n",
       "        <td>{<br>    \u001b[34;01m&quot;_MS.ProcessedByMetricExtractors&quot;\u001b[39;49;00m: \u001b[33m&quot;(Name:&#x27;Requests&#x27;, Ver:&#x27;1.1&#x27;)&quot;\u001b[39;49;00m<br>}<br></td>\n",
       "    </tr>\n",
       "    <tr>\n",
       "        <td>GET Home/Index</td>\n",
       "        <td>{<br>    \u001b[34;01m&quot;_MS.ProcessedByMetricExtractors&quot;\u001b[39;49;00m: \u001b[33m&quot;(Name:&#x27;Requests&#x27;, Ver:&#x27;1.1&#x27;)&quot;\u001b[39;49;00m<br>}<br></td>\n",
       "    </tr>\n",
       "</table>\n",
       "        </body>\n",
       "        </html>"
      ],
      "text/plain": [
       "<IPython.core.display.HTML object>"
      ]
     },
     "metadata": {},
     "output_type": "display_data"
    },
    {
     "data": {
      "text/html": [
       "<html>\n",
       "        <head>\n",
       "        \n",
       "        </head>\n",
       "        <body>\n",
       "        <div><p style='padding: 10px; color: #3a87ad; background-color: #d9edf7; border-color: #bce9f1'>Done&nbsp(00:00.994):&nbsp5&nbsprecords</p></div>\n",
       "        </body>\n",
       "        </html>"
      ],
      "text/plain": [
       "<IPython.core.display.HTML object>"
      ]
     },
     "metadata": {},
     "output_type": "display_data"
    },
    {
     "data": {
      "text/html": [],
      "text/plain": [
       "[{'name': 'GET Home/Index', 'customDimensions': {'_MS.ProcessedByMetricExtractors': \"(Name:'Requests', Ver:'1.1')\"}},\n",
       " {'name': 'GET Home/Index', 'customDimensions': {'_MS.ProcessedByMetricExtractors': \"(Name:'Requests', Ver:'1.1')\"}},\n",
       " {'name': 'GET Home/Index', 'customDimensions': {'_MS.ProcessedByMetricExtractors': \"(Name:'Requests', Ver:'1.1')\"}},\n",
       " {'name': 'GET Home/Index', 'customDimensions': {'_MS.ProcessedByMetricExtractors': \"(Name:'Requests', Ver:'1.1')\"}},\n",
       " {'name': 'GET Home/Index', 'customDimensions': {'_MS.ProcessedByMetricExtractors': \"(Name:'Requests', Ver:'1.1')\"}}]"
      ]
     },
     "execution_count": 22,
     "metadata": {},
     "output_type": "execute_result"
    }
   ],
   "source": [
    "requests = %kql requests | project name, customDimensions | limit 5\n",
    "requests"
   ]
  },
  {
   "cell_type": "code",
   "execution_count": 23,
   "metadata": {},
   "outputs": [
    {
     "data": {
      "text/plain": [
       "[{'name': 'GET Home/Index', 'customDimensions': {'_MS.ProcessedByMetricExtractors': \"(Name:'Requests', Ver:'1.1')\"}},\n",
       " {'name': 'GET Home/Index', 'customDimensions': {'_MS.ProcessedByMetricExtractors': \"(Name:'Requests', Ver:'1.1')\"}}]"
      ]
     },
     "execution_count": 23,
     "metadata": {},
     "output_type": "execute_result"
    }
   ],
   "source": [
    "requests[1:3]"
   ]
  },
  {
   "cell_type": "code",
   "execution_count": 24,
   "metadata": {},
   "outputs": [
    {
     "data": {
      "text/plain": [
       "'GET Home/Index'"
      ]
     },
     "execution_count": 24,
     "metadata": {},
     "output_type": "execute_result"
    }
   ],
   "source": [
    "requests[1]['name']"
   ]
  },
  {
   "cell_type": "code",
   "execution_count": 25,
   "metadata": {},
   "outputs": [
    {
     "data": {
      "text/plain": [
       "{\n",
       "    \u001b[34;01m\"_MS.ProcessedByMetricExtractors\"\u001b[39;49;00m: \u001b[33m\"(Name:'Requests', Ver:'1.1')\"\u001b[39;49;00m\n",
       "}"
      ]
     },
     "execution_count": 25,
     "metadata": {},
     "output_type": "execute_result"
    }
   ],
   "source": [
    "requests[1]['customDimensions']"
   ]
  },
  {
   "cell_type": "code",
   "execution_count": 26,
   "metadata": {},
   "outputs": [
    {
     "data": {
      "text/plain": [
       "\"(Name:'Requests', Ver:'1.1')\""
      ]
     },
     "execution_count": 26,
     "metadata": {},
     "output_type": "execute_result"
    }
   ],
   "source": [
    "requests[1]['customDimensions']['_MS.ProcessedByMetricExtractors']"
   ]
  },
  {
   "cell_type": "markdown",
   "metadata": {},
   "source": [
    "  - ### <span style=\"color:#82CAFA\">*Note: that you can access directly dynamic object data.*</span>"
   ]
  },
  {
   "cell_type": "code",
   "execution_count": 27,
   "metadata": {},
   "outputs": [
    {
     "data": {
      "text/html": [
       "<div>\n",
       "<style scoped>\n",
       "    .dataframe tbody tr th:only-of-type {\n",
       "        vertical-align: middle;\n",
       "    }\n",
       "\n",
       "    .dataframe tbody tr th {\n",
       "        vertical-align: top;\n",
       "    }\n",
       "\n",
       "    .dataframe thead th {\n",
       "        text-align: right;\n",
       "    }\n",
       "</style>\n",
       "<table border=\"1\" class=\"dataframe\">\n",
       "  <thead>\n",
       "    <tr style=\"text-align: right;\">\n",
       "      <th></th>\n",
       "      <th>name</th>\n",
       "      <th>customDimensions</th>\n",
       "    </tr>\n",
       "  </thead>\n",
       "  <tbody>\n",
       "    <tr>\n",
       "      <th>0</th>\n",
       "      <td>GET Home/Index</td>\n",
       "      <td>{'_MS.ProcessedByMetricExtractors': '(Name:'Re...</td>\n",
       "    </tr>\n",
       "    <tr>\n",
       "      <th>1</th>\n",
       "      <td>GET Home/Index</td>\n",
       "      <td>{'_MS.ProcessedByMetricExtractors': '(Name:'Re...</td>\n",
       "    </tr>\n",
       "    <tr>\n",
       "      <th>2</th>\n",
       "      <td>GET Home/Index</td>\n",
       "      <td>{'_MS.ProcessedByMetricExtractors': '(Name:'Re...</td>\n",
       "    </tr>\n",
       "    <tr>\n",
       "      <th>3</th>\n",
       "      <td>GET Home/Index</td>\n",
       "      <td>{'_MS.ProcessedByMetricExtractors': '(Name:'Re...</td>\n",
       "    </tr>\n",
       "    <tr>\n",
       "      <th>4</th>\n",
       "      <td>GET Home/Index</td>\n",
       "      <td>{'_MS.ProcessedByMetricExtractors': '(Name:'Re...</td>\n",
       "    </tr>\n",
       "  </tbody>\n",
       "</table>\n",
       "</div>"
      ],
      "text/plain": [
       "             name                                   customDimensions\n",
       "0  GET Home/Index  {'_MS.ProcessedByMetricExtractors': '(Name:'Re...\n",
       "1  GET Home/Index  {'_MS.ProcessedByMetricExtractors': '(Name:'Re...\n",
       "2  GET Home/Index  {'_MS.ProcessedByMetricExtractors': '(Name:'Re...\n",
       "3  GET Home/Index  {'_MS.ProcessedByMetricExtractors': '(Name:'Re...\n",
       "4  GET Home/Index  {'_MS.ProcessedByMetricExtractors': '(Name:'Re..."
      ]
     },
     "execution_count": 27,
     "metadata": {},
     "output_type": "execute_result"
    }
   ],
   "source": [
    "df = requests.to_dataframe()\n",
    "df"
   ]
  },
  {
   "cell_type": "code",
   "execution_count": 28,
   "metadata": {},
   "outputs": [
    {
     "data": {
      "text/plain": [
       "\"(Name:'Requests', Ver:'1.1')\""
      ]
     },
     "execution_count": 28,
     "metadata": {},
     "output_type": "execute_result"
    }
   ],
   "source": [
    "df['customDimensions'][0]['_MS.ProcessedByMetricExtractors']"
   ]
  },
  {
   "cell_type": "markdown",
   "metadata": {},
   "source": [
    "  - ### <span style=\"color:#82CAFA\">*Note: that access to data in dataframe is different, you first specify the column and then the row.*</span>"
   ]
  },
  {
   "cell_type": "code",
   "execution_count": 29,
   "metadata": {},
   "outputs": [
    {
     "data": {
      "text/plain": [
       "'GET Home/Index'"
      ]
     },
     "execution_count": 29,
     "metadata": {},
     "output_type": "execute_result"
    }
   ],
   "source": [
    "df['name'][1]"
   ]
  },
  {
   "cell_type": "markdown",
   "metadata": {},
   "source": [
    "  - ### <span style=\"color:#82CAFA\">*Note: that datetime in dataframe is Timestamp.*</span>"
   ]
  },
  {
   "cell_type": "markdown",
   "metadata": {},
   "source": [
    "## Cell mixed with single line kql queries "
   ]
  },
  {
   "cell_type": "code",
   "execution_count": 30,
   "metadata": {},
   "outputs": [
    {
     "name": "stdout",
     "output_type": "stream",
     "text": [
      "+--------------+---------+\n",
      "| client_City  |  count_ |\n",
      "+--------------+---------+\n",
      "|   Bothell    | 3909321 |\n",
      "| Peterborough | 1466952 |\n",
      "|    Baotou    | 1194837 |\n",
      "|   Rottweil   | 1014910 |\n",
      "|    Nantes    |  873396 |\n",
      "| Sao Goncalo  |  747577 |\n",
      "|   Yokohama   |  696221 |\n",
      "| Lake Stevens |  592257 |\n",
      "|   Zapopan    |  274678 |\n",
      "|    Tokyo     |  104551 |\n",
      "+--------------+---------+\n"
     ]
    },
    {
     "data": {
      "application/vnd.jupyter.widget-view+json": {
       "model_id": "c951cc7de8444ef08724507cb17986a2",
       "version_major": 2,
       "version_minor": 0
      },
      "text/plain": [
       "FigureWidget({\n",
       "    'data': [{'marker': {'color': 'rgb(31, 118, 179)'},\n",
       "              'name': 'count_',\n",
       "       …"
      ]
     },
     "metadata": {},
     "output_type": "display_data"
    },
    {
     "data": {
      "text/html": [],
      "text/plain": [
       "[{'client_City': 'Bothell', 'count_': 3909321},\n",
       " {'client_City': 'Peterborough', 'count_': 1466952},\n",
       " {'client_City': 'Baotou', 'count_': 1194837},\n",
       " {'client_City': 'Rottweil', 'count_': 1014910},\n",
       " {'client_City': 'Nantes', 'count_': 873396},\n",
       " {'client_City': 'Sao Goncalo', 'count_': 747577},\n",
       " {'client_City': 'Yokohama', 'count_': 696221},\n",
       " {'client_City': 'Lake Stevens', 'count_': 592257},\n",
       " {'client_City': 'Zapopan', 'count_': 274678},\n",
       " {'client_City': 'Tokyo', 'count_': 104551}]"
      ]
     },
     "metadata": {},
     "output_type": "display_data"
    },
    {
     "data": {
      "application/vnd.jupyter.widget-view+json": {
       "model_id": "07bbaeb60ff14540ab4e55e4679925c3",
       "version_major": 2,
       "version_minor": 0
      },
      "text/plain": [
       "FigureWidget({\n",
       "    'data': [{'domain': {'x': [0.0, 1.0], 'y': [0.0, 1.0]},\n",
       "              'labels': [Bothell, P…"
      ]
     },
     "metadata": {},
     "output_type": "display_data"
    },
    {
     "data": {
      "text/html": [],
      "text/plain": [
       "[{'client_City': 'Bothell', 'count_': 3909321},\n",
       " {'client_City': 'Peterborough', 'count_': 1466952},\n",
       " {'client_City': 'Baotou', 'count_': 1194837},\n",
       " {'client_City': 'Rottweil', 'count_': 1014910},\n",
       " {'client_City': 'Nantes', 'count_': 873396},\n",
       " {'client_City': 'Sao Goncalo', 'count_': 747577},\n",
       " {'client_City': 'Yokohama', 'count_': 696221},\n",
       " {'client_City': 'Lake Stevens', 'count_': 592257},\n",
       " {'client_City': 'Zapopan', 'count_': 274678},\n",
       " {'client_City': 'Tokyo', 'count_': 104551}]"
      ]
     },
     "metadata": {},
     "output_type": "display_data"
    }
   ],
   "source": [
    "%kql bar_chart << pageViews | where client_City != '' | summarize count() by client_City | sort by count_ | limit 10 | render barchart title='my bar chart'\n",
    "print(bar_chart)\n",
    "%kql pie_chart << pageViews | where client_City != '' | summarize count() by client_City | sort by count_ | limit 10 | render piechart title='my pie chart'\n",
    "display(bar_chart)\n",
    "display(pie_chart)"
   ]
  },
  {
   "cell_type": "markdown",
   "metadata": {},
   "source": [
    "  - ### <span style=\"color:#82CAFA\">*Note: single line magics (starts with only one \\%) can share the same cell with python code*</span>"
   ]
  },
  {
   "cell_type": "markdown",
   "metadata": {},
   "source": [
    "## Multiline query "
   ]
  },
  {
   "cell_type": "code",
   "execution_count": 31,
   "metadata": {},
   "outputs": [
    {
     "data": {
      "text/html": [
       "<html>\n",
       "        <head>\n",
       "        \n",
       "        </head>\n",
       "        <body>\n",
       "        <div><p style='padding: 10px; color: #3a87ad; background-color: #d9edf7; border-color: #bce9f1'>&nbsp*&nbspDEMO_APP@appinsights</p></div>\n",
       "        </body>\n",
       "        </html>"
      ],
      "text/plain": [
       "<IPython.core.display.HTML object>"
      ]
     },
     "metadata": {},
     "output_type": "display_data"
    },
    {
     "data": {
      "application/vnd.jupyter.widget-view+json": {
       "model_id": "4578b541dd694a0181e04cb92afdb03c",
       "version_major": 2,
       "version_minor": 0
      },
      "text/plain": [
       "FigureWidget({\n",
       "    'data': [{'marker': {'color': 'rgb(31, 118, 179)'},\n",
       "              'name': 'count_',\n",
       "       …"
      ]
     },
     "metadata": {},
     "output_type": "display_data"
    },
    {
     "data": {
      "text/html": [
       "<html>\n",
       "        <head>\n",
       "        \n",
       "        </head>\n",
       "        <body>\n",
       "        <div><p style='padding: 10px; color: #3a87ad; background-color: #d9edf7; border-color: #bce9f1'>Done&nbsp(00:01.129):&nbsp10&nbsprecords</p></div>\n",
       "        </body>\n",
       "        </html>"
      ],
      "text/plain": [
       "<IPython.core.display.HTML object>"
      ]
     },
     "metadata": {},
     "output_type": "display_data"
    },
    {
     "data": {
      "text/html": [],
      "text/plain": [
       "[{'client_City': 'Bothell', 'count_': 3909321},\n",
       " {'client_City': 'Peterborough', 'count_': 1466952},\n",
       " {'client_City': 'Baotou', 'count_': 1194837},\n",
       " {'client_City': 'Rottweil', 'count_': 1014910},\n",
       " {'client_City': 'Nantes', 'count_': 873396},\n",
       " {'client_City': 'Sao Goncalo', 'count_': 747577},\n",
       " {'client_City': 'Yokohama', 'count_': 696221},\n",
       " {'client_City': 'Lake Stevens', 'count_': 592257},\n",
       " {'client_City': 'Zapopan', 'count_': 274678},\n",
       " {'client_City': 'Tokyo', 'count_': 104551}]"
      ]
     },
     "execution_count": 31,
     "metadata": {},
     "output_type": "execute_result"
    }
   ],
   "source": [
    "%%kql \n",
    "    pageViews \n",
    "    | where client_City != '' \n",
    "    | summarize count() by client_City \n",
    "    | sort by count_ \n",
    "    | limit 10\n",
    "    | render columnchart title='my column chart' "
   ]
  },
  {
   "cell_type": "markdown",
   "metadata": {},
   "source": [
    "  - ### <span style=\"color:#82CAFA\">*Note: that this is a multiline magic, it starts with \\%\\%. It can include only kql code*</span>"
   ]
  },
  {
   "cell_type": "markdown",
   "metadata": {},
   "source": [
    "## Show last chart result as a table"
   ]
  },
  {
   "cell_type": "code",
   "execution_count": 32,
   "metadata": {},
   "outputs": [
    {
     "data": {
      "text/html": [
       "<html>\n",
       "        <head>\n",
       "        \n",
       "        </head>\n",
       "        <body>\n",
       "        <table>\n",
       "    <tr>\n",
       "        <th>client_City</th>\n",
       "        <th>count_</th>\n",
       "    </tr>\n",
       "    <tr>\n",
       "        <td>Bothell</td>\n",
       "        <td>3909321</td>\n",
       "    </tr>\n",
       "    <tr>\n",
       "        <td>Peterborough</td>\n",
       "        <td>1466952</td>\n",
       "    </tr>\n",
       "    <tr>\n",
       "        <td>Baotou</td>\n",
       "        <td>1194837</td>\n",
       "    </tr>\n",
       "    <tr>\n",
       "        <td>Rottweil</td>\n",
       "        <td>1014910</td>\n",
       "    </tr>\n",
       "    <tr>\n",
       "        <td>Nantes</td>\n",
       "        <td>873396</td>\n",
       "    </tr>\n",
       "    <tr>\n",
       "        <td>Sao Goncalo</td>\n",
       "        <td>747577</td>\n",
       "    </tr>\n",
       "    <tr>\n",
       "        <td>Yokohama</td>\n",
       "        <td>696221</td>\n",
       "    </tr>\n",
       "    <tr>\n",
       "        <td>Lake Stevens</td>\n",
       "        <td>592257</td>\n",
       "    </tr>\n",
       "    <tr>\n",
       "        <td>Zapopan</td>\n",
       "        <td>274678</td>\n",
       "    </tr>\n",
       "    <tr>\n",
       "        <td>Tokyo</td>\n",
       "        <td>104551</td>\n",
       "    </tr>\n",
       "</table>\n",
       "        </body>\n",
       "        </html>"
      ],
      "text/plain": [
       "<IPython.core.display.HTML object>"
      ]
     },
     "metadata": {},
     "output_type": "display_data"
    }
   ],
   "source": [
    "_.show_table()"
   ]
  },
  {
   "cell_type": "markdown",
   "metadata": {},
   "source": [
    "## Show last result in a popup window"
   ]
  },
  {
   "cell_type": "code",
   "execution_count": 33,
   "metadata": {},
   "outputs": [
    {
     "data": {
      "text/html": [
       "<!DOCTYPE html>\n",
       "            <html><body>\n",
       "\n",
       "            <button onclick=\"this.style.visibility='hidden';kql_MagicLaunchWindowFunction('Kqlmagic_temp_files/3efd0124e04b4acab4f124ed85d759a4.html','fullscreen=no,directories=no,location=no,menubar=no,resizable=yes,scrollbars=yes,status=no,titlebar=no,toolbar=no,','3efd0124e04b4acab4f124ed85d759a4','')\">popup columnchart - my column chart </button>\n",
       "\n",
       "            <script>\n",
       "\n",
       "            function kql_MagicLaunchWindowFunction(file_path, window_params, window_name, notebooks_host) {\n",
       "                var url;\n",
       "                if (file_path.startsWith('http')) {\n",
       "                    url = file_path;\n",
       "                } else {\n",
       "                    var base_url = '';\n",
       "\n",
       "                    // check if azure notebook\n",
       "                    var azure_host = (notebooks_host == null || notebooks_host.length == 0) ? 'https://notebooks.azure.com' : notebooks_host;\n",
       "                    var start = azure_host.search('//');\n",
       "                    var azure_host_suffix = '.' + azure_host.substring(start+2);\n",
       "\n",
       "                    var loc = String(window.location);\n",
       "                    var end = loc.search(azure_host_suffix);\n",
       "                    start = loc.search('//');\n",
       "                    if (start > 0 && end > 0) {\n",
       "                        var parts = loc.substring(start+2, end).split('-');\n",
       "                        if (parts.length == 2) {\n",
       "                            var library = parts[0];\n",
       "                            var user = parts[1];\n",
       "                            base_url = azure_host + '/api/user/' +user+ '/library/' +library+ '/html/';\n",
       "                        }\n",
       "                    }\n",
       "\n",
       "                    // check if local jupyter lab\n",
       "                    if (base_url.length == 0) {\n",
       "                        var configDataScipt  = document.getElementById('jupyter-config-data');\n",
       "                        if (configDataScipt != null) {\n",
       "                            var jupyterConfigData = JSON.parse(configDataScipt.textContent);\n",
       "                            if (jupyterConfigData['appName'] == 'JupyterLab' && jupyterConfigData['serverRoot'] != null &&  jupyterConfigData['treeUrl'] != null) {\n",
       "                                var basePath = 'c:/My Projects/jupyter-Kqlmagic-microsoft-vsc/notebooks' + '/';\n",
       "                                if (basePath.startsWith(jupyterConfigData['serverRoot'])) {\n",
       "                                    base_url = '/files/' + basePath.substring(jupyterConfigData['serverRoot'].length+1);\n",
       "                                }\n",
       "                            } \n",
       "                        }\n",
       "                    }\n",
       "\n",
       "                    // assume local jupyter notebook\n",
       "                    if (base_url.length == 0) {\n",
       "\n",
       "                        var parts = loc.split('/');\n",
       "                        parts.pop();\n",
       "                        base_url = parts.join('/') + '/';\n",
       "                    }\n",
       "                    url = base_url + file_path;\n",
       "                }\n",
       "\n",
       "                window.focus();\n",
       "                var w = screen.width / 2;\n",
       "                var h = screen.height / 2;\n",
       "                params = 'width='+w+',height='+h;\n",
       "                kql_Magic_3efd0124e04b4acab4f124ed85d759a4 = window.open(url, window_name, window_params + params);\n",
       "            }\n",
       "            </script>\n",
       "\n",
       "            </body></html>"
      ],
      "text/plain": [
       "<IPython.core.display.HTML object>"
      ]
     },
     "metadata": {},
     "output_type": "display_data"
    }
   ],
   "source": [
    "_.popup()"
   ]
  },
  {
   "cell_type": "markdown",
   "metadata": {},
   "source": [
    "## Resize poup window, and to adjust the chart inside the window press F5"
   ]
  },
  {
   "cell_type": "markdown",
   "metadata": {},
   "source": [
    "  - ### <span style=\"color:#82CAFA\">*Note: when you F5, you loose the latest chart display state*</span>"
   ]
  },
  {
   "cell_type": "markdown",
   "metadata": {},
   "source": [
    "## Show last chart result as a table in a popup window"
   ]
  },
  {
   "cell_type": "code",
   "execution_count": 34,
   "metadata": {},
   "outputs": [
    {
     "data": {
      "text/html": [
       "<!DOCTYPE html>\n",
       "            <html><body>\n",
       "\n",
       "            <button onclick=\"this.style.visibility='hidden';kql_MagicLaunchWindowFunction('Kqlmagic_temp_files/a0d09a1c44ac404890e85d4695bca4c0.html','fullscreen=no,directories=no,location=no,menubar=no,resizable=yes,scrollbars=yes,status=no,titlebar=no,toolbar=no,','a0d09a1c44ac404890e85d4695bca4c0','')\">popup table - my column chart </button>\n",
       "\n",
       "            <script>\n",
       "\n",
       "            function kql_MagicLaunchWindowFunction(file_path, window_params, window_name, notebooks_host) {\n",
       "                var url;\n",
       "                if (file_path.startsWith('http')) {\n",
       "                    url = file_path;\n",
       "                } else {\n",
       "                    var base_url = '';\n",
       "\n",
       "                    // check if azure notebook\n",
       "                    var azure_host = (notebooks_host == null || notebooks_host.length == 0) ? 'https://notebooks.azure.com' : notebooks_host;\n",
       "                    var start = azure_host.search('//');\n",
       "                    var azure_host_suffix = '.' + azure_host.substring(start+2);\n",
       "\n",
       "                    var loc = String(window.location);\n",
       "                    var end = loc.search(azure_host_suffix);\n",
       "                    start = loc.search('//');\n",
       "                    if (start > 0 && end > 0) {\n",
       "                        var parts = loc.substring(start+2, end).split('-');\n",
       "                        if (parts.length == 2) {\n",
       "                            var library = parts[0];\n",
       "                            var user = parts[1];\n",
       "                            base_url = azure_host + '/api/user/' +user+ '/library/' +library+ '/html/';\n",
       "                        }\n",
       "                    }\n",
       "\n",
       "                    // check if local jupyter lab\n",
       "                    if (base_url.length == 0) {\n",
       "                        var configDataScipt  = document.getElementById('jupyter-config-data');\n",
       "                        if (configDataScipt != null) {\n",
       "                            var jupyterConfigData = JSON.parse(configDataScipt.textContent);\n",
       "                            if (jupyterConfigData['appName'] == 'JupyterLab' && jupyterConfigData['serverRoot'] != null &&  jupyterConfigData['treeUrl'] != null) {\n",
       "                                var basePath = 'c:/My Projects/jupyter-Kqlmagic-microsoft-vsc/notebooks' + '/';\n",
       "                                if (basePath.startsWith(jupyterConfigData['serverRoot'])) {\n",
       "                                    base_url = '/files/' + basePath.substring(jupyterConfigData['serverRoot'].length+1);\n",
       "                                }\n",
       "                            } \n",
       "                        }\n",
       "                    }\n",
       "\n",
       "                    // assume local jupyter notebook\n",
       "                    if (base_url.length == 0) {\n",
       "\n",
       "                        var parts = loc.split('/');\n",
       "                        parts.pop();\n",
       "                        base_url = parts.join('/') + '/';\n",
       "                    }\n",
       "                    url = base_url + file_path;\n",
       "                }\n",
       "\n",
       "                window.focus();\n",
       "                var w = screen.width / 2;\n",
       "                var h = screen.height / 2;\n",
       "                params = 'width='+w+',height='+h;\n",
       "                kql_Magic_a0d09a1c44ac404890e85d4695bca4c0 = window.open(url, window_name, window_params + params);\n",
       "            }\n",
       "            </script>\n",
       "\n",
       "            </body></html>"
      ],
      "text/plain": [
       "<IPython.core.display.HTML object>"
      ]
     },
     "metadata": {},
     "output_type": "display_data"
    }
   ],
   "source": [
    "_kql_raw_result_.popup_table()"
   ]
  },
  {
   "cell_type": "markdown",
   "metadata": {},
   "source": [
    "## More complex chart"
   ]
  },
  {
   "cell_type": "code",
   "execution_count": 35,
   "metadata": {},
   "outputs": [
    {
     "data": {
      "text/html": [
       "<html>\n",
       "        <head>\n",
       "        \n",
       "        </head>\n",
       "        <body>\n",
       "        <div><p style='padding: 10px; color: #3a87ad; background-color: #d9edf7; border-color: #bce9f1'>&nbsp*&nbspDEMO_APP@appinsights</p></div>\n",
       "        </body>\n",
       "        </html>"
      ],
      "text/plain": [
       "<IPython.core.display.HTML object>"
      ]
     },
     "metadata": {},
     "output_type": "display_data"
    },
    {
     "data": {
      "application/vnd.jupyter.widget-view+json": {
       "model_id": "e008822a06ed4694b5ef517f6e0d96eb",
       "version_major": 2,
       "version_minor": 0
      },
      "text/plain": [
       "FigureWidget({\n",
       "    'data': [{'domain': {'x': [0.0, 0.475], 'y': [0.0, 1.0]},\n",
       "              'labels': [Bothell,…"
      ]
     },
     "metadata": {},
     "output_type": "display_data"
    },
    {
     "data": {
      "text/html": [
       "<html>\n",
       "        <head>\n",
       "        \n",
       "        </head>\n",
       "        <body>\n",
       "        <div><p style='padding: 10px; color: #3a87ad; background-color: #d9edf7; border-color: #bce9f1'>Done&nbsp(00:01.219):&nbsp10&nbsprecords</p></div>\n",
       "        </body>\n",
       "        </html>"
      ],
      "text/plain": [
       "<IPython.core.display.HTML object>"
      ]
     },
     "metadata": {},
     "output_type": "display_data"
    },
    {
     "data": {
      "text/html": [],
      "text/plain": [
       "[{'client_City': 'Bothell', 'count_': 3909321, 'count2': 15282790681041},\n",
       " {'client_City': 'Peterborough', 'count_': 1466952, 'count2': 2151948170304},\n",
       " {'client_City': 'Baotou', 'count_': 1194837, 'count2': 1427635456569},\n",
       " {'client_City': 'Rottweil', 'count_': 1014910, 'count2': 1030042308100},\n",
       " {'client_City': 'Nantes', 'count_': 873396, 'count2': 762820572816},\n",
       " {'client_City': 'Sao Goncalo', 'count_': 747577, 'count2': 558871370929},\n",
       " {'client_City': 'Yokohama', 'count_': 696221, 'count2': 484723680841},\n",
       " {'client_City': 'Lake Stevens', 'count_': 592257, 'count2': 350768354049},\n",
       " {'client_City': 'Zapopan', 'count_': 274678, 'count2': 75448003684},\n",
       " {'client_City': 'Tokyo', 'count_': 104551, 'count2': 10930911601}]"
      ]
     },
     "execution_count": 35,
     "metadata": {},
     "output_type": "execute_result"
    }
   ],
   "source": [
    "%%kql \n",
    "    pageViews \n",
    "    | where client_City != '' \n",
    "    | summarize count() by client_City \n",
    "    | sort by count_ \n",
    "    | extend count2 = count_*count_ \n",
    "    | limit 10 \n",
    "    | render piechart title='my pie chart #2' "
   ]
  },
  {
   "cell_type": "markdown",
   "metadata": {},
   "source": [
    "## Convert result data to dictionary of columns"
   ]
  },
  {
   "cell_type": "code",
   "execution_count": 36,
   "metadata": {},
   "outputs": [
    {
     "name": "stdout",
     "output_type": "stream",
     "text": [
      "{'client_City': ('Bothell', 'Peterborough', 'Baotou', 'Rottweil', 'Nantes', 'Sao Goncalo', 'Yokohama', 'Lake Stevens', 'Zapopan', 'Tokyo'), 'count_': (3909321, 1466952, 1194837, 1014910, 873396, 747577, 696221, 592257, 274678, 104551), 'count2': (15282790681041, 2151948170304, 1427635456569, 1030042308100, 762820572816, 558871370929, 484723680841, 350768354049, 75448003684, 10930911601)}\n"
     ]
    }
   ],
   "source": [
    "dict_of_columns = _kql_raw_result_.to_dict()\n",
    "print(dict_of_columns)"
   ]
  },
  {
   "cell_type": "code",
   "execution_count": 37,
   "metadata": {},
   "outputs": [
    {
     "data": {
      "text/html": [
       "<a href=\".\\files\\csv_file.csv\" download>csv results</a>"
      ],
      "text/plain": [
       "csv results at c:\\My Projects\\jupyter-Kqlmagic-microsoft-vsc\\notebooks\\csv_file.csv"
      ]
     },
     "execution_count": 37,
     "metadata": {},
     "output_type": "execute_result"
    }
   ],
   "source": [
    "_kql_raw_result_.to_csv('csv_file.csv')\n",
    "#%cat csv_file.csv"
   ]
  },
  {
   "cell_type": "markdown",
   "metadata": {},
   "source": [
    "# Get last kql query attributes "
   ]
  },
  {
   "cell_type": "markdown",
   "metadata": {},
   "source": [
    "## Query string"
   ]
  },
  {
   "cell_type": "code",
   "execution_count": 38,
   "metadata": {},
   "outputs": [
    {
     "data": {
      "text/plain": [
       "\"pageViews \\n    | where client_City != '' \\n    | summarize count() by client_City \\n    | sort by count_ \\n    | extend count2 = count_*count_ \\n    | limit 10 \\n    | render piechart title='my pie chart #2'\""
      ]
     },
     "execution_count": 38,
     "metadata": {},
     "output_type": "execute_result"
    }
   ],
   "source": [
    "_kql_raw_result_.query"
   ]
  },
  {
   "cell_type": "markdown",
   "metadata": {},
   "source": [
    "## Query render title"
   ]
  },
  {
   "cell_type": "code",
   "execution_count": 39,
   "metadata": {},
   "outputs": [
    {
     "data": {
      "text/plain": [
       "'my pie chart #2'"
      ]
     },
     "execution_count": 39,
     "metadata": {},
     "output_type": "execute_result"
    }
   ],
   "source": [
    "_kql_raw_result_.title"
   ]
  },
  {
   "cell_type": "markdown",
   "metadata": {},
   "source": [
    "## Query render visualization"
   ]
  },
  {
   "cell_type": "code",
   "execution_count": 40,
   "metadata": {},
   "outputs": [
    {
     "data": {
      "text/plain": [
       "'piechart'"
      ]
     },
     "execution_count": 40,
     "metadata": {},
     "output_type": "execute_result"
    }
   ],
   "source": [
    "_kql_raw_result_.visualization"
   ]
  },
  {
   "cell_type": "markdown",
   "metadata": {},
   "source": [
    "## Number of records in query response "
   ]
  },
  {
   "cell_type": "code",
   "execution_count": 41,
   "metadata": {},
   "outputs": [
    {
     "data": {
      "text/plain": [
       "10"
      ]
     },
     "execution_count": 41,
     "metadata": {},
     "output_type": "execute_result"
    }
   ],
   "source": [
    "_kql_raw_result_.records_count"
   ]
  },
  {
   "cell_type": "markdown",
   "metadata": {},
   "source": [
    "## List of columns in query table response"
   ]
  },
  {
   "cell_type": "code",
   "execution_count": 42,
   "metadata": {},
   "outputs": [
    {
     "data": {
      "text/plain": [
       "['client_City', 'count_', 'count2']"
      ]
     },
     "execution_count": 42,
     "metadata": {},
     "output_type": "execute_result"
    }
   ],
   "source": [
    "_kql_raw_result_.columns_name"
   ]
  },
  {
   "cell_type": "markdown",
   "metadata": {},
   "source": [
    "## Kqlmagic time metric (in seconds)"
   ]
  },
  {
   "cell_type": "code",
   "execution_count": 43,
   "metadata": {},
   "outputs": [
    {
     "data": {
      "text/plain": [
       "1540141546.415921"
      ]
     },
     "execution_count": 43,
     "metadata": {},
     "output_type": "execute_result"
    }
   ],
   "source": [
    "_kql_raw_result_.start_time"
   ]
  },
  {
   "cell_type": "code",
   "execution_count": 44,
   "metadata": {},
   "outputs": [
    {
     "data": {
      "text/plain": [
       "1540141547.6347866"
      ]
     },
     "execution_count": 44,
     "metadata": {},
     "output_type": "execute_result"
    }
   ],
   "source": [
    "_kql_raw_result_.end_time"
   ]
  },
  {
   "cell_type": "code",
   "execution_count": 45,
   "metadata": {},
   "outputs": [
    {
     "data": {
      "text/plain": [
       "1.2188656330108643"
      ]
     },
     "execution_count": 45,
     "metadata": {},
     "output_type": "execute_result"
    }
   ],
   "source": [
    "_kql_raw_result_.elapsed_timespan"
   ]
  },
  {
   "cell_type": "markdown",
   "metadata": {},
   "source": [
    "## Query connection database@cluster"
   ]
  },
  {
   "cell_type": "code",
   "execution_count": 46,
   "metadata": {},
   "outputs": [
    {
     "data": {
      "text/plain": [
       "'DEMO_APP@appinsights'"
      ]
     },
     "execution_count": 46,
     "metadata": {},
     "output_type": "execute_result"
    }
   ],
   "source": [
    "_kql_raw_result_.connection"
   ]
  },
  {
   "cell_type": "markdown",
   "metadata": {},
   "source": [
    "## Query Options (settings) "
   ]
  },
  {
   "cell_type": "code",
   "execution_count": 47,
   "metadata": {},
   "outputs": [
    {
     "data": {
      "text/plain": [
       "{'auto_dataframe': False,\n",
       " 'short_errors': True,\n",
       " 'feedback': True,\n",
       " 'show_conn_info': 'current',\n",
       " 'columns_to_local_vars': False,\n",
       " 'show_query_time': True,\n",
       " 'enable_suppress_result': True,\n",
       " 'plotly_fs_includejs': False,\n",
       " 'popup_window': False,\n",
       " 'auto_limit': 0,\n",
       " 'display_limit': None,\n",
       " 'prettytable_style': 'DEFAULT',\n",
       " 'last_raw_result_var': '_kql_raw_result_',\n",
       " 'table_package': 'prettytable',\n",
       " 'plot_package': 'plotly',\n",
       " 'dsn_filename': 'odbc.ini',\n",
       " 'validate_connection_string': True,\n",
       " 'auto_popup_schema': True,\n",
       " 'json_display': 'formatted',\n",
       " 'popup_help': False,\n",
       " 'popup_schema': False,\n",
       " 'palette_colors': 10,\n",
       " 'palette_desaturation': 1.0,\n",
       " 'params_dict': None,\n",
       " 'palette_name': 'tab10',\n",
       " 'temp_folder_name': 'Kqlmagic_temp_files',\n",
       " 'cache_folder_name': 'Kqlmagic_cache_files',\n",
       " 'export_folder_name': 'Kqlmagic_exported_files',\n",
       " 'notebook_app': 'jupyternotebook',\n",
       " 'add_kql_ref_to_help': True,\n",
       " 'add_schema_to_help': True,\n",
       " 'cache': False,\n",
       " 'use_cache': False,\n",
       " 'version': False,\n",
       " 'palette': False,\n",
       " 'popup_palettes': False,\n",
       " 'palette_reverse': False,\n",
       " 'save_as': None}"
      ]
     },
     "execution_count": 47,
     "metadata": {},
     "output_type": "execute_result"
    }
   ],
   "source": [
    "_kql_raw_result_.options"
   ]
  },
  {
   "cell_type": "markdown",
   "metadata": {},
   "source": [
    "## Completion query information (query metadata)"
   ]
  },
  {
   "cell_type": "code",
   "execution_count": 48,
   "metadata": {},
   "outputs": [
    {
     "data": {
      "text/plain": [
       "{\n",
       "    \u001b[34;01m\"Count\"\u001b[39;49;00m: \u001b[34m2\u001b[39;49;00m,\n",
       "    \u001b[34;01m\"StatusCode\"\u001b[39;49;00m: \u001b[34m0\u001b[39;49;00m,\n",
       "    \u001b[34;01m\"StatusDescription\"\u001b[39;49;00m: \u001b[33m\"Query completed successfully\"\u001b[39;49;00m\n",
       "}"
      ]
     },
     "execution_count": 48,
     "metadata": {},
     "output_type": "execute_result"
    }
   ],
   "source": [
    "_kql_raw_result_.completion_query_info"
   ]
  },
  {
   "cell_type": "markdown",
   "metadata": {},
   "source": [
    "## Completion query resource consumption (query metadata)"
   ]
  },
  {
   "cell_type": "code",
   "execution_count": 49,
   "metadata": {},
   "outputs": [
    {
     "data": {
      "text/plain": [
       "{\n",
       "    \u001b[34;01m\"ExecutionTime\"\u001b[39;49;00m: \u001b[34m0.3124949\u001b[39;49;00m,\n",
       "    \u001b[34;01m\"dataset_statistics\"\u001b[39;49;00m: [\n",
       "        {\n",
       "            \u001b[34;01m\"table_row_count\"\u001b[39;49;00m: \u001b[34m10\u001b[39;49;00m,\n",
       "            \u001b[34;01m\"table_size\"\u001b[39;49;00m: \u001b[34m262\u001b[39;49;00m\n",
       "        }\n",
       "    ],\n",
       "    \u001b[34;01m\"input_dataset_statistics\"\u001b[39;49;00m: {\n",
       "        \u001b[34;01m\"extents\"\u001b[39;49;00m: {\n",
       "            \u001b[34;01m\"scanned\"\u001b[39;49;00m: \u001b[34m1109\u001b[39;49;00m,\n",
       "            \u001b[34;01m\"total\"\u001b[39;49;00m: \u001b[34m1516\u001b[39;49;00m\n",
       "        },\n",
       "        \u001b[34;01m\"rows\"\u001b[39;49;00m: {\n",
       "            \u001b[34;01m\"scanned\"\u001b[39;49;00m: \u001b[34m1703208455\u001b[39;49;00m,\n",
       "            \u001b[34;01m\"total\"\u001b[39;49;00m: \u001b[34m3446864555\u001b[39;49;00m\n",
       "        },\n",
       "        \u001b[34;01m\"rowstores\"\u001b[39;49;00m: {\n",
       "            \u001b[34;01m\"scanned_rows\"\u001b[39;49;00m: \u001b[34m0\u001b[39;49;00m\n",
       "        }\n",
       "    },\n",
       "    \u001b[34;01m\"resource_usage\"\u001b[39;49;00m: {\n",
       "        \u001b[34;01m\"cache\"\u001b[39;49;00m: {\n",
       "            \u001b[34;01m\"disk\"\u001b[39;49;00m: {\n",
       "                \u001b[34;01m\"hits\"\u001b[39;49;00m: \u001b[34m0\u001b[39;49;00m,\n",
       "                \u001b[34;01m\"misses\"\u001b[39;49;00m: \u001b[34m0\u001b[39;49;00m,\n",
       "                \u001b[34;01m\"total\"\u001b[39;49;00m: \u001b[34m0\u001b[39;49;00m\n",
       "            },\n",
       "            \u001b[34;01m\"memory\"\u001b[39;49;00m: {\n",
       "                \u001b[34;01m\"hits\"\u001b[39;49;00m: \u001b[34m69052\u001b[39;49;00m,\n",
       "                \u001b[34;01m\"misses\"\u001b[39;49;00m: \u001b[34m0\u001b[39;49;00m,\n",
       "                \u001b[34;01m\"total\"\u001b[39;49;00m: \u001b[34m69052\u001b[39;49;00m\n",
       "            }\n",
       "        },\n",
       "        \u001b[34;01m\"cpu\"\u001b[39;49;00m: {\n",
       "            \u001b[34;01m\"kernel\"\u001b[39;49;00m: \u001b[33m\"00:00:00\"\u001b[39;49;00m,\n",
       "            \u001b[34;01m\"total cpu\"\u001b[39;49;00m: \u001b[33m\"00:00:03.1875000\"\u001b[39;49;00m,\n",
       "            \u001b[34;01m\"user\"\u001b[39;49;00m: \u001b[33m\"00:00:03.1875000\"\u001b[39;49;00m\n",
       "        },\n",
       "        \u001b[34;01m\"memory\"\u001b[39;49;00m: {\n",
       "            \u001b[34;01m\"peak_per_node\"\u001b[39;49;00m: \u001b[34m0\u001b[39;49;00m\n",
       "        }\n",
       "    }\n",
       "}"
      ]
     },
     "execution_count": 49,
     "metadata": {},
     "output_type": "execute_result"
    }
   ],
   "source": [
    "_kql_raw_result_.completion_query_resource_consumption"
   ]
  },
  {
   "cell_type": "code",
   "execution_count": 50,
   "metadata": {},
   "outputs": [
    {
     "data": {
      "text/plain": [
       "69052"
      ]
     },
     "execution_count": 50,
     "metadata": {},
     "output_type": "execute_result"
    }
   ],
   "source": [
    "_kql_raw_result_.completion_query_resource_consumption['resource_usage']['cache']['memory']['hits']"
   ]
  },
  {
   "cell_type": "markdown",
   "metadata": {},
   "source": [
    "## Query raw json response"
   ]
  },
  {
   "cell_type": "code",
   "execution_count": 51,
   "metadata": {
    "scrolled": true
   },
   "outputs": [
    {
     "data": {
      "text/plain": [
       "{\n",
       "    \u001b[34;01m\"Tables\"\u001b[39;49;00m: [\n",
       "        {\n",
       "            \u001b[34;01m\"Columns\"\u001b[39;49;00m: [\n",
       "                {\n",
       "                    \u001b[34;01m\"ColumnName\"\u001b[39;49;00m: \u001b[33m\"client_City\"\u001b[39;49;00m,\n",
       "                    \u001b[34;01m\"ColumnType\"\u001b[39;49;00m: \u001b[33m\"string\"\u001b[39;49;00m,\n",
       "                    \u001b[34;01m\"DataType\"\u001b[39;49;00m: \u001b[33m\"String\"\u001b[39;49;00m\n",
       "                },\n",
       "                {\n",
       "                    \u001b[34;01m\"ColumnName\"\u001b[39;49;00m: \u001b[33m\"count_\"\u001b[39;49;00m,\n",
       "                    \u001b[34;01m\"ColumnType\"\u001b[39;49;00m: \u001b[33m\"long\"\u001b[39;49;00m,\n",
       "                    \u001b[34;01m\"DataType\"\u001b[39;49;00m: \u001b[33m\"Int64\"\u001b[39;49;00m\n",
       "                },\n",
       "                {\n",
       "                    \u001b[34;01m\"ColumnName\"\u001b[39;49;00m: \u001b[33m\"count2\"\u001b[39;49;00m,\n",
       "                    \u001b[34;01m\"ColumnType\"\u001b[39;49;00m: \u001b[33m\"long\"\u001b[39;49;00m,\n",
       "                    \u001b[34;01m\"DataType\"\u001b[39;49;00m: \u001b[33m\"Int64\"\u001b[39;49;00m\n",
       "                }\n",
       "            ],\n",
       "            \u001b[34;01m\"Rows\"\u001b[39;49;00m: [\n",
       "                [\n",
       "                    \u001b[33m\"Bothell\"\u001b[39;49;00m,\n",
       "                    \u001b[34m3909321\u001b[39;49;00m,\n",
       "                    \u001b[34m15282790681041\u001b[39;49;00m\n",
       "                ],\n",
       "                [\n",
       "                    \u001b[33m\"Peterborough\"\u001b[39;49;00m,\n",
       "                    \u001b[34m1466952\u001b[39;49;00m,\n",
       "                    \u001b[34m2151948170304\u001b[39;49;00m\n",
       "                ],\n",
       "                [\n",
       "                    \u001b[33m\"Baotou\"\u001b[39;49;00m,\n",
       "                    \u001b[34m1194837\u001b[39;49;00m,\n",
       "                    \u001b[34m1427635456569\u001b[39;49;00m\n",
       "                ],\n",
       "                [\n",
       "                    \u001b[33m\"Rottweil\"\u001b[39;49;00m,\n",
       "                    \u001b[34m1014910\u001b[39;49;00m,\n",
       "                    \u001b[34m1030042308100\u001b[39;49;00m\n",
       "                ],\n",
       "                [\n",
       "                    \u001b[33m\"Nantes\"\u001b[39;49;00m,\n",
       "                    \u001b[34m873396\u001b[39;49;00m,\n",
       "                    \u001b[34m762820572816\u001b[39;49;00m\n",
       "                ],\n",
       "                [\n",
       "                    \u001b[33m\"Sao Goncalo\"\u001b[39;49;00m,\n",
       "                    \u001b[34m747577\u001b[39;49;00m,\n",
       "                    \u001b[34m558871370929\u001b[39;49;00m\n",
       "                ],\n",
       "                [\n",
       "                    \u001b[33m\"Yokohama\"\u001b[39;49;00m,\n",
       "                    \u001b[34m696221\u001b[39;49;00m,\n",
       "                    \u001b[34m484723680841\u001b[39;49;00m\n",
       "                ],\n",
       "                [\n",
       "                    \u001b[33m\"Lake Stevens\"\u001b[39;49;00m,\n",
       "                    \u001b[34m592257\u001b[39;49;00m,\n",
       "                    \u001b[34m350768354049\u001b[39;49;00m\n",
       "                ],\n",
       "                [\n",
       "                    \u001b[33m\"Zapopan\"\u001b[39;49;00m,\n",
       "                    \u001b[34m274678\u001b[39;49;00m,\n",
       "                    \u001b[34m75448003684\u001b[39;49;00m\n",
       "                ],\n",
       "                [\n",
       "                    \u001b[33m\"Tokyo\"\u001b[39;49;00m,\n",
       "                    \u001b[34m104551\u001b[39;49;00m,\n",
       "                    \u001b[34m10930911601\u001b[39;49;00m\n",
       "                ]\n",
       "            ],\n",
       "            \u001b[34;01m\"TableName\"\u001b[39;49;00m: \u001b[33m\"Table_0\"\u001b[39;49;00m\n",
       "        },\n",
       "        {\n",
       "            \u001b[34;01m\"Columns\"\u001b[39;49;00m: [\n",
       "                {\n",
       "                    \u001b[34;01m\"ColumnName\"\u001b[39;49;00m: \u001b[33m\"Value\"\u001b[39;49;00m,\n",
       "                    \u001b[34;01m\"ColumnType\"\u001b[39;49;00m: \u001b[33m\"string\"\u001b[39;49;00m,\n",
       "                    \u001b[34;01m\"DataType\"\u001b[39;49;00m: \u001b[33m\"String\"\u001b[39;49;00m\n",
       "                }\n",
       "            ],\n",
       "            \u001b[34;01m\"Rows\"\u001b[39;49;00m: [\n",
       "                [\n",
       "                    \u001b[33m\"{\\\"Visualization\\\":\\\"piechart\\\",\\\"Title\\\":\\\"my pie chart #2\\\",\\\"XColumn\\\":null,\\\"Series\\\":null,\\\"YColumns\\\":null,\\\"XTitle\\\":null,\\\"YTitle\\\":null,\\\"XAxis\\\":null,\\\"YAxis\\\":null,\\\"Legend\\\":null,\\\"YSplit\\\":null,\\\"Accumulate\\\":false,\\\"IsQuerySorted\\\":true,\\\"Kind\\\":null}\"\u001b[39;49;00m\n",
       "                ]\n",
       "            ],\n",
       "            \u001b[34;01m\"TableName\"\u001b[39;49;00m: \u001b[33m\"Table_1\"\u001b[39;49;00m\n",
       "        },\n",
       "        {\n",
       "            \u001b[34;01m\"Columns\"\u001b[39;49;00m: [\n",
       "                {\n",
       "                    \u001b[34;01m\"ColumnName\"\u001b[39;49;00m: \u001b[33m\"Timestamp\"\u001b[39;49;00m,\n",
       "                    \u001b[34;01m\"ColumnType\"\u001b[39;49;00m: \u001b[33m\"datetime\"\u001b[39;49;00m,\n",
       "                    \u001b[34;01m\"DataType\"\u001b[39;49;00m: \u001b[33m\"DateTime\"\u001b[39;49;00m\n",
       "                },\n",
       "                {\n",
       "                    \u001b[34;01m\"ColumnName\"\u001b[39;49;00m: \u001b[33m\"Severity\"\u001b[39;49;00m,\n",
       "                    \u001b[34;01m\"ColumnType\"\u001b[39;49;00m: \u001b[33m\"int\"\u001b[39;49;00m,\n",
       "                    \u001b[34;01m\"DataType\"\u001b[39;49;00m: \u001b[33m\"Int32\"\u001b[39;49;00m\n",
       "                },\n",
       "                {\n",
       "                    \u001b[34;01m\"ColumnName\"\u001b[39;49;00m: \u001b[33m\"SeverityName\"\u001b[39;49;00m,\n",
       "                    \u001b[34;01m\"ColumnType\"\u001b[39;49;00m: \u001b[33m\"string\"\u001b[39;49;00m,\n",
       "                    \u001b[34;01m\"DataType\"\u001b[39;49;00m: \u001b[33m\"String\"\u001b[39;49;00m\n",
       "                },\n",
       "                {\n",
       "                    \u001b[34;01m\"ColumnName\"\u001b[39;49;00m: \u001b[33m\"StatusCode\"\u001b[39;49;00m,\n",
       "                    \u001b[34;01m\"ColumnType\"\u001b[39;49;00m: \u001b[33m\"int\"\u001b[39;49;00m,\n",
       "                    \u001b[34;01m\"DataType\"\u001b[39;49;00m: \u001b[33m\"Int32\"\u001b[39;49;00m\n",
       "                },\n",
       "                {\n",
       "                    \u001b[34;01m\"ColumnName\"\u001b[39;49;00m: \u001b[33m\"StatusDescription\"\u001b[39;49;00m,\n",
       "                    \u001b[34;01m\"ColumnType\"\u001b[39;49;00m: \u001b[33m\"string\"\u001b[39;49;00m,\n",
       "                    \u001b[34;01m\"DataType\"\u001b[39;49;00m: \u001b[33m\"String\"\u001b[39;49;00m\n",
       "                },\n",
       "                {\n",
       "                    \u001b[34;01m\"ColumnName\"\u001b[39;49;00m: \u001b[33m\"Count\"\u001b[39;49;00m,\n",
       "                    \u001b[34;01m\"ColumnType\"\u001b[39;49;00m: \u001b[33m\"int\"\u001b[39;49;00m,\n",
       "                    \u001b[34;01m\"DataType\"\u001b[39;49;00m: \u001b[33m\"Int32\"\u001b[39;49;00m\n",
       "                },\n",
       "                {\n",
       "                    \u001b[34;01m\"ColumnName\"\u001b[39;49;00m: \u001b[33m\"RequestId\"\u001b[39;49;00m,\n",
       "                    \u001b[34;01m\"ColumnType\"\u001b[39;49;00m: \u001b[33m\"guid\"\u001b[39;49;00m,\n",
       "                    \u001b[34;01m\"DataType\"\u001b[39;49;00m: \u001b[33m\"Guid\"\u001b[39;49;00m\n",
       "                },\n",
       "                {\n",
       "                    \u001b[34;01m\"ColumnName\"\u001b[39;49;00m: \u001b[33m\"ActivityId\"\u001b[39;49;00m,\n",
       "                    \u001b[34;01m\"ColumnType\"\u001b[39;49;00m: \u001b[33m\"guid\"\u001b[39;49;00m,\n",
       "                    \u001b[34;01m\"DataType\"\u001b[39;49;00m: \u001b[33m\"Guid\"\u001b[39;49;00m\n",
       "                },\n",
       "                {\n",
       "                    \u001b[34;01m\"ColumnName\"\u001b[39;49;00m: \u001b[33m\"SubActivityId\"\u001b[39;49;00m,\n",
       "                    \u001b[34;01m\"ColumnType\"\u001b[39;49;00m: \u001b[33m\"guid\"\u001b[39;49;00m,\n",
       "                    \u001b[34;01m\"DataType\"\u001b[39;49;00m: \u001b[33m\"Guid\"\u001b[39;49;00m\n",
       "                },\n",
       "                {\n",
       "                    \u001b[34;01m\"ColumnName\"\u001b[39;49;00m: \u001b[33m\"ClientActivityId\"\u001b[39;49;00m,\n",
       "                    \u001b[34;01m\"ColumnType\"\u001b[39;49;00m: \u001b[33m\"string\"\u001b[39;49;00m,\n",
       "                    \u001b[34;01m\"DataType\"\u001b[39;49;00m: \u001b[33m\"String\"\u001b[39;49;00m\n",
       "                }\n",
       "            ],\n",
       "            \u001b[34;01m\"Rows\"\u001b[39;49;00m: [\n",
       "                [\n",
       "                    \u001b[33m\"2018-10-21T17:05:47.5722704Z\"\u001b[39;49;00m,\n",
       "                    \u001b[34m4\u001b[39;49;00m,\n",
       "                    \u001b[33m\"Info\"\u001b[39;49;00m,\n",
       "                    \u001b[34m0\u001b[39;49;00m,\n",
       "                    \u001b[33m\"Query completed successfully\"\u001b[39;49;00m,\n",
       "                    \u001b[34m2\u001b[39;49;00m,\n",
       "                    \u001b[33m\"6dab0eb5-d2f6-48e6-81ac-8cbe0ad069cc\"\u001b[39;49;00m,\n",
       "                    \u001b[33m\"6dab0eb5-d2f6-48e6-81ac-8cbe0ad069cc\"\u001b[39;49;00m,\n",
       "                    \u001b[33m\"9f6e751e-14f5-4a91-b13c-9736278fb689\"\u001b[39;49;00m,\n",
       "                    \u001b[33m\"52252af2-2d3e-46c9-997c-7324dd4b2212\"\u001b[39;49;00m\n",
       "                ],\n",
       "                [\n",
       "                    \u001b[33m\"2018-10-21T17:05:47.5754988Z\"\u001b[39;49;00m,\n",
       "                    \u001b[34m6\u001b[39;49;00m,\n",
       "                    \u001b[33m\"Stats\"\u001b[39;49;00m,\n",
       "                    \u001b[34m0\u001b[39;49;00m,\n",
       "                    \u001b[33m\"{\\\"ExecutionTime\\\":0.3124949,\\\"resource_usage\\\":{\\\"cache\\\":{\\\"memory\\\":{\\\"hits\\\":69052,\\\"misses\\\":0,\\\"total\\\":69052},\\\"disk\\\":{\\\"hits\\\":0,\\\"misses\\\":0,\\\"total\\\":0}},\\\"cpu\\\":{\\\"user\\\":\\\"00:00:03.1875000\\\",\\\"kernel\\\":\\\"00:00:00\\\",\\\"total cpu\\\":\\\"00:00:03.1875000\\\"},\\\"memory\\\":{\\\"peak_per_node\\\":0}},\\\"input_dataset_statistics\\\":{\\\"extents\\\":{\\\"total\\\":1516,\\\"scanned\\\":1109},\\\"rows\\\":{\\\"total\\\":3446864555,\\\"scanned\\\":1703208455},\\\"rowstores\\\":{\\\"scanned_rows\\\":0}},\\\"dataset_statistics\\\":[{\\\"table_row_count\\\":10,\\\"table_size\\\":262}]}\"\u001b[39;49;00m,\n",
       "                    \u001b[34m1\u001b[39;49;00m,\n",
       "                    \u001b[33m\"6dab0eb5-d2f6-48e6-81ac-8cbe0ad069cc\"\u001b[39;49;00m,\n",
       "                    \u001b[33m\"6dab0eb5-d2f6-48e6-81ac-8cbe0ad069cc\"\u001b[39;49;00m,\n",
       "                    \u001b[33m\"9f6e751e-14f5-4a91-b13c-9736278fb689\"\u001b[39;49;00m,\n",
       "                    \u001b[33m\"52252af2-2d3e-46c9-997c-7324dd4b2212\"\u001b[39;49;00m\n",
       "                ]\n",
       "            ],\n",
       "            \u001b[34;01m\"TableName\"\u001b[39;49;00m: \u001b[33m\"Table_2\"\u001b[39;49;00m\n",
       "        },\n",
       "        {\n",
       "            \u001b[34;01m\"Columns\"\u001b[39;49;00m: [\n",
       "                {\n",
       "                    \u001b[34;01m\"ColumnName\"\u001b[39;49;00m: \u001b[33m\"Ordinal\"\u001b[39;49;00m,\n",
       "                    \u001b[34;01m\"ColumnType\"\u001b[39;49;00m: \u001b[33m\"long\"\u001b[39;49;00m,\n",
       "                    \u001b[34;01m\"DataType\"\u001b[39;49;00m: \u001b[33m\"Int64\"\u001b[39;49;00m\n",
       "                },\n",
       "                {\n",
       "                    \u001b[34;01m\"ColumnName\"\u001b[39;49;00m: \u001b[33m\"Kind\"\u001b[39;49;00m,\n",
       "                    \u001b[34;01m\"ColumnType\"\u001b[39;49;00m: \u001b[33m\"string\"\u001b[39;49;00m,\n",
       "                    \u001b[34;01m\"DataType\"\u001b[39;49;00m: \u001b[33m\"String\"\u001b[39;49;00m\n",
       "                },\n",
       "                {\n",
       "                    \u001b[34;01m\"ColumnName\"\u001b[39;49;00m: \u001b[33m\"Name\"\u001b[39;49;00m,\n",
       "                    \u001b[34;01m\"ColumnType\"\u001b[39;49;00m: \u001b[33m\"string\"\u001b[39;49;00m,\n",
       "                    \u001b[34;01m\"DataType\"\u001b[39;49;00m: \u001b[33m\"String\"\u001b[39;49;00m\n",
       "                },\n",
       "                {\n",
       "                    \u001b[34;01m\"ColumnName\"\u001b[39;49;00m: \u001b[33m\"Id\"\u001b[39;49;00m,\n",
       "                    \u001b[34;01m\"ColumnType\"\u001b[39;49;00m: \u001b[33m\"string\"\u001b[39;49;00m,\n",
       "                    \u001b[34;01m\"DataType\"\u001b[39;49;00m: \u001b[33m\"String\"\u001b[39;49;00m\n",
       "                },\n",
       "                {\n",
       "                    \u001b[34;01m\"ColumnName\"\u001b[39;49;00m: \u001b[33m\"PrettyName\"\u001b[39;49;00m,\n",
       "                    \u001b[34;01m\"ColumnType\"\u001b[39;49;00m: \u001b[33m\"string\"\u001b[39;49;00m,\n",
       "                    \u001b[34;01m\"DataType\"\u001b[39;49;00m: \u001b[33m\"String\"\u001b[39;49;00m\n",
       "                }\n",
       "            ],\n",
       "            \u001b[34;01m\"Rows\"\u001b[39;49;00m: [\n",
       "                [\n",
       "                    \u001b[34m0\u001b[39;49;00m,\n",
       "                    \u001b[33m\"QueryResult\"\u001b[39;49;00m,\n",
       "                    \u001b[33m\"PrimaryResult\"\u001b[39;49;00m,\n",
       "                    \u001b[33m\"99b77ad0-9ea7-4e24-a524-70d0981af693\"\u001b[39;49;00m,\n",
       "                    \u001b[33m\"\"\u001b[39;49;00m\n",
       "                ],\n",
       "                [\n",
       "                    \u001b[34m1\u001b[39;49;00m,\n",
       "                    \u001b[33m\"QueryProperties\"\u001b[39;49;00m,\n",
       "                    \u001b[33m\"@ExtendedProperties\"\u001b[39;49;00m,\n",
       "                    \u001b[33m\"55580390-2e5b-4275-991e-ae8b6ba66e06\"\u001b[39;49;00m,\n",
       "                    \u001b[33m\"\"\u001b[39;49;00m\n",
       "                ],\n",
       "                [\n",
       "                    \u001b[34m2\u001b[39;49;00m,\n",
       "                    \u001b[33m\"QueryStatus\"\u001b[39;49;00m,\n",
       "                    \u001b[33m\"QueryStatus\"\u001b[39;49;00m,\n",
       "                    \u001b[33m\"00000000-0000-0000-0000-000000000000\"\u001b[39;49;00m,\n",
       "                    \u001b[33m\"\"\u001b[39;49;00m\n",
       "                ]\n",
       "            ],\n",
       "            \u001b[34;01m\"TableName\"\u001b[39;49;00m: \u001b[33m\"Table_3\"\u001b[39;49;00m\n",
       "        }\n",
       "    ]\n",
       "}"
      ]
     },
     "execution_count": 51,
     "metadata": {},
     "output_type": "execute_result"
    }
   ],
   "source": [
    "_kql_raw_result_.raw_json"
   ]
  },
  {
   "cell_type": "code",
   "execution_count": 52,
   "metadata": {},
   "outputs": [
    {
     "data": {
      "text/plain": [
       "'Table_1'"
      ]
     },
     "execution_count": 52,
     "metadata": {},
     "output_type": "execute_result"
    }
   ],
   "source": [
    "_kql_raw_result_.raw_json['Tables'][1]['TableName']"
   ]
  },
  {
   "cell_type": "code",
   "execution_count": 53,
   "metadata": {},
   "outputs": [
    {
     "data": {
      "text/plain": [
       "'Value'"
      ]
     },
     "execution_count": 53,
     "metadata": {},
     "output_type": "execute_result"
    }
   ],
   "source": [
    "_kql_raw_result_.raw_json['Tables'][1]['Columns'][0]['ColumnName']"
   ]
  },
  {
   "cell_type": "code",
   "execution_count": 54,
   "metadata": {},
   "outputs": [
    {
     "data": {
      "text/plain": [
       "'QueryResult'"
      ]
     },
     "execution_count": 54,
     "metadata": {},
     "output_type": "execute_result"
    }
   ],
   "source": [
    "_kql_raw_result_.raw_json['Tables'][3]['Rows'][0][1]"
   ]
  },
  {
   "cell_type": "markdown",
   "metadata": {},
   "source": [
    "# Advanced part"
   ]
  },
  {
   "cell_type": "markdown",
   "metadata": {},
   "source": [
    "## Kql query with option -c2lv (-columns_to_local_vars)"
   ]
  },
  {
   "cell_type": "code",
   "execution_count": 55,
   "metadata": {},
   "outputs": [],
   "source": [
    "%%kql -c2lv \n",
    "    pageViews \n",
    "    | where client_City != '' \n",
    "    | summarize count() by client_City \n",
    "    | sort by count_ | limit 10\n",
    "    | render columnchart title='my column chart' "
   ]
  },
  {
   "cell_type": "markdown",
   "metadata": {},
   "source": [
    "  - ### <span style=\"color:#82CAFA\">*Note: option are specified before the query*</span>\n",
    "  - ### <span style=\"color:#82CAFA\">*Note: c2lv is abbreviation of columns_to_local_vars options*</span>\n",
    "  - ### <span style=\"color:#82CAFA\">*Note: columns_to_local_vars option returns data result in local variables from column names*</span>"
   ]
  },
  {
   "cell_type": "markdown",
   "metadata": {},
   "source": [
    "### result data is assigned to local variables with columns names"
   ]
  },
  {
   "cell_type": "code",
   "execution_count": 56,
   "metadata": {},
   "outputs": [
    {
     "data": {
      "text/plain": [
       "('Bothell',\n",
       " 'Peterborough',\n",
       " 'Baotou',\n",
       " 'Rottweil',\n",
       " 'Nantes',\n",
       " 'Sao Goncalo',\n",
       " 'Yokohama',\n",
       " 'Lake Stevens',\n",
       " 'Zapopan',\n",
       " 'Tokyo')"
      ]
     },
     "execution_count": 56,
     "metadata": {},
     "output_type": "execute_result"
    }
   ],
   "source": [
    "client_City"
   ]
  },
  {
   "cell_type": "code",
   "execution_count": 57,
   "metadata": {},
   "outputs": [
    {
     "data": {
      "text/plain": [
       "(3909321,\n",
       " 1466952,\n",
       " 1194837,\n",
       " 1014910,\n",
       " 873396,\n",
       " 747577,\n",
       " 696221,\n",
       " 592257,\n",
       " 274678,\n",
       " 104551)"
      ]
     },
     "execution_count": 57,
     "metadata": {},
     "output_type": "execute_result"
    }
   ],
   "source": [
    "count_"
   ]
  },
  {
   "cell_type": "markdown",
   "metadata": {},
   "source": [
    "## Kql query with option -ph (-popup_help)"
   ]
  },
  {
   "cell_type": "code",
   "execution_count": 58,
   "metadata": {},
   "outputs": [
    {
     "data": {
      "text/html": [
       "<!DOCTYPE html>\n",
       "            <html><body>\n",
       "\n",
       "            <button onclick=\"this.style.visibility='visible';kql_MagicLaunchWindowFunction('http://aka.ms/kdocs','fullscreen=no,directories=no,location=no,menubar=no,resizable=yes,scrollbars=yes,status=no,titlebar=no,toolbar=no,','KustoQueryLanguage','')\">popup kql help </button>\n",
       "\n",
       "            <script>\n",
       "\n",
       "            function kql_MagicLaunchWindowFunction(file_path, window_params, window_name, notebooks_host) {\n",
       "                var url;\n",
       "                if (file_path.startsWith('http')) {\n",
       "                    url = file_path;\n",
       "                } else {\n",
       "                    var base_url = '';\n",
       "\n",
       "                    // check if azure notebook\n",
       "                    var azure_host = (notebooks_host == null || notebooks_host.length == 0) ? 'https://notebooks.azure.com' : notebooks_host;\n",
       "                    var start = azure_host.search('//');\n",
       "                    var azure_host_suffix = '.' + azure_host.substring(start+2);\n",
       "\n",
       "                    var loc = String(window.location);\n",
       "                    var end = loc.search(azure_host_suffix);\n",
       "                    start = loc.search('//');\n",
       "                    if (start > 0 && end > 0) {\n",
       "                        var parts = loc.substring(start+2, end).split('-');\n",
       "                        if (parts.length == 2) {\n",
       "                            var library = parts[0];\n",
       "                            var user = parts[1];\n",
       "                            base_url = azure_host + '/api/user/' +user+ '/library/' +library+ '/html/';\n",
       "                        }\n",
       "                    }\n",
       "\n",
       "                    // check if local jupyter lab\n",
       "                    if (base_url.length == 0) {\n",
       "                        var configDataScipt  = document.getElementById('jupyter-config-data');\n",
       "                        if (configDataScipt != null) {\n",
       "                            var jupyterConfigData = JSON.parse(configDataScipt.textContent);\n",
       "                            if (jupyterConfigData['appName'] == 'JupyterLab' && jupyterConfigData['serverRoot'] != null &&  jupyterConfigData['treeUrl'] != null) {\n",
       "                                var basePath = 'c:/My Projects/jupyter-Kqlmagic-microsoft-vsc/notebooks' + '/';\n",
       "                                if (basePath.startsWith(jupyterConfigData['serverRoot'])) {\n",
       "                                    base_url = '/files/' + basePath.substring(jupyterConfigData['serverRoot'].length+1);\n",
       "                                }\n",
       "                            } \n",
       "                        }\n",
       "                    }\n",
       "\n",
       "                    // assume local jupyter notebook\n",
       "                    if (base_url.length == 0) {\n",
       "\n",
       "                        var parts = loc.split('/');\n",
       "                        parts.pop();\n",
       "                        base_url = parts.join('/') + '/';\n",
       "                    }\n",
       "                    url = base_url + file_path;\n",
       "                }\n",
       "\n",
       "                window.focus();\n",
       "                var w = screen.width / 2;\n",
       "                var h = screen.height / 2;\n",
       "                params = 'width='+w+',height='+h;\n",
       "                kql_Magic_KustoQueryLanguage = window.open(url, window_name, window_params + params);\n",
       "            }\n",
       "            </script>\n",
       "\n",
       "            </body></html>"
      ],
      "text/plain": [
       "<IPython.core.display.HTML object>"
      ]
     },
     "metadata": {},
     "output_type": "display_data"
    }
   ],
   "source": [
    "%kql -ph"
   ]
  },
  {
   "cell_type": "markdown",
   "metadata": {},
   "source": [
    "  - ### <span style=\"color:#82CAFA\">*Note - current appid@appinsights is always shown*</span>"
   ]
  },
  {
   "cell_type": "markdown",
   "metadata": {},
   "source": [
    "## Kql query with negated option -f (-feedback)"
   ]
  },
  {
   "cell_type": "code",
   "execution_count": 59,
   "metadata": {},
   "outputs": [
    {
     "data": {
      "text/html": [
       "<html>\n",
       "        <head>\n",
       "        \n",
       "        </head>\n",
       "        <body>\n",
       "        <div><p style='padding: 10px; color: #3a87ad; background-color: #d9edf7; border-color: #bce9f1'>&nbsp*&nbspDEMO_APP@appinsights</p></div>\n",
       "        </body>\n",
       "        </html>"
      ],
      "text/plain": [
       "<IPython.core.display.HTML object>"
      ]
     },
     "metadata": {},
     "output_type": "display_data"
    },
    {
     "data": {
      "application/vnd.jupyter.widget-view+json": {
       "model_id": "6a4acef916fe43198b0928bf2af487d4",
       "version_major": 2,
       "version_minor": 0
      },
      "text/plain": [
       "FigureWidget({\n",
       "    'data': [{'marker': {'color': 'rgb(31, 118, 179)'},\n",
       "              'name': 'count_',\n",
       "       …"
      ]
     },
     "metadata": {},
     "output_type": "display_data"
    },
    {
     "data": {
      "text/html": [
       "<html>\n",
       "        <head>\n",
       "        \n",
       "        </head>\n",
       "        <body>\n",
       "        \n",
       "        </body>\n",
       "        </html>"
      ],
      "text/plain": [
       "<IPython.core.display.HTML object>"
      ]
     },
     "metadata": {},
     "output_type": "display_data"
    },
    {
     "data": {
      "text/html": [],
      "text/plain": [
       "[{'client_City': 'Bothell', 'count_': 3909321},\n",
       " {'client_City': 'Peterborough', 'count_': 1466952},\n",
       " {'client_City': 'Baotou', 'count_': 1194837},\n",
       " {'client_City': 'Rottweil', 'count_': 1014910},\n",
       " {'client_City': 'Nantes', 'count_': 873396},\n",
       " {'client_City': 'Sao Goncalo', 'count_': 747577},\n",
       " {'client_City': 'Yokohama', 'count_': 696221},\n",
       " {'client_City': 'Lake Stevens', 'count_': 592257},\n",
       " {'client_City': 'Zapopan', 'count_': 274678},\n",
       " {'client_City': 'Tokyo', 'count_': 104551}]"
      ]
     },
     "execution_count": 59,
     "metadata": {},
     "output_type": "execute_result"
    }
   ],
   "source": [
    "%%kql -!feedback \n",
    "    pageViews \n",
    "    | where client_City != '' \n",
    "    | summarize count() by client_City \n",
    "    | sort by count_ \n",
    "    | limit 10 \n",
    "    | render barchart title='my bar chart'"
   ]
  },
  {
   "cell_type": "markdown",
   "metadata": {},
   "source": [
    "  - ### <span style=\"color:#82CAFA\">*Note: the feedback message 'Done..... records' was not displayed because of the negated feedback option*</span>\n",
    "  - ### <span style=\"color:#82CAFA\">*Note: option is negated by adding \\! before the option*</span>\n",
    "  - ### <span style=\"color:#82CAFA\">*Note: full option name instead of abbreviation can be used too*</span>\n",
    "  - ### <span style=\"color:#82CAFA\">*Note: feedback option is on by default, so to turn it off, it must be negated*</span>"
   ]
  },
  {
   "cell_type": "markdown",
   "metadata": {},
   "source": [
    "## Get default value of optionfeedback (f)"
   ]
  },
  {
   "cell_type": "code",
   "execution_count": 60,
   "metadata": {},
   "outputs": [
    {
     "data": {
      "text/plain": [
       "True"
      ]
     },
     "execution_count": 60,
     "metadata": {},
     "output_type": "execute_result"
    }
   ],
   "source": [
    "%config Kqlmagic.feedback"
   ]
  },
  {
   "cell_type": "markdown",
   "metadata": {},
   "source": [
    "  - ### <span style=\"color:#82CAFA\">*Note: options have defaults, and can be accessed to read or modify using %config magic*</span>"
   ]
  },
  {
   "cell_type": "markdown",
   "metadata": {},
   "source": [
    "## Set default value of option feedback (f) to False"
   ]
  },
  {
   "cell_type": "code",
   "execution_count": 61,
   "metadata": {},
   "outputs": [
    {
     "data": {
      "text/plain": [
       "False"
      ]
     },
     "execution_count": 61,
     "metadata": {},
     "output_type": "execute_result"
    }
   ],
   "source": [
    "%config Kqlmagic.feedback=False\n",
    "%config Kqlmagic.feedback"
   ]
  },
  {
   "cell_type": "code",
   "execution_count": 62,
   "metadata": {},
   "outputs": [
    {
     "data": {
      "text/html": [
       "<html>\n",
       "        <head>\n",
       "        \n",
       "        </head>\n",
       "        <body>\n",
       "        <div><p style='padding: 10px; color: #3a87ad; background-color: #d9edf7; border-color: #bce9f1'>&nbsp*&nbspDEMO_APP@appinsights</p></div>\n",
       "        </body>\n",
       "        </html>"
      ],
      "text/plain": [
       "<IPython.core.display.HTML object>"
      ]
     },
     "metadata": {},
     "output_type": "display_data"
    },
    {
     "data": {
      "text/html": [
       "<html>\n",
       "        <head>\n",
       "        \n",
       "        </head>\n",
       "        <body>\n",
       "        <table>\n",
       "    <tr>\n",
       "        <th>client_City</th>\n",
       "        <th>count_</th>\n",
       "        <th>count2</th>\n",
       "    </tr>\n",
       "    <tr>\n",
       "        <td>Bothell</td>\n",
       "        <td>3909321</td>\n",
       "        <td>15282790681041</td>\n",
       "    </tr>\n",
       "    <tr>\n",
       "        <td>Peterborough</td>\n",
       "        <td>1466952</td>\n",
       "        <td>2151948170304</td>\n",
       "    </tr>\n",
       "    <tr>\n",
       "        <td>Baotou</td>\n",
       "        <td>1194837</td>\n",
       "        <td>1427635456569</td>\n",
       "    </tr>\n",
       "    <tr>\n",
       "        <td>Rottweil</td>\n",
       "        <td>1014910</td>\n",
       "        <td>1030042308100</td>\n",
       "    </tr>\n",
       "    <tr>\n",
       "        <td>Nantes</td>\n",
       "        <td>873396</td>\n",
       "        <td>762820572816</td>\n",
       "    </tr>\n",
       "</table>\n",
       "        </body>\n",
       "        </html>"
      ],
      "text/plain": [
       "<IPython.core.display.HTML object>"
      ]
     },
     "metadata": {},
     "output_type": "display_data"
    },
    {
     "data": {
      "text/html": [
       "<html>\n",
       "        <head>\n",
       "        \n",
       "        </head>\n",
       "        <body>\n",
       "        \n",
       "        </body>\n",
       "        </html>"
      ],
      "text/plain": [
       "<IPython.core.display.HTML object>"
      ]
     },
     "metadata": {},
     "output_type": "display_data"
    },
    {
     "data": {
      "text/html": [],
      "text/plain": [
       "[{'client_City': 'Bothell', 'count_': 3909321, 'count2': 15282790681041},\n",
       " {'client_City': 'Peterborough', 'count_': 1466952, 'count2': 2151948170304},\n",
       " {'client_City': 'Baotou', 'count_': 1194837, 'count2': 1427635456569},\n",
       " {'client_City': 'Rottweil', 'count_': 1014910, 'count2': 1030042308100},\n",
       " {'client_City': 'Nantes', 'count_': 873396, 'count2': 762820572816}]"
      ]
     },
     "execution_count": 62,
     "metadata": {},
     "output_type": "execute_result"
    }
   ],
   "source": [
    "%%kql \n",
    "    pageViews \n",
    "    | where client_City != '' \n",
    "    | summarize count() by client_City \n",
    "    | sort by count_ \n",
    "    | extend count2 = count_*count_ \n",
    "    | limit 5"
   ]
  },
  {
   "cell_type": "markdown",
   "metadata": {},
   "source": [
    "  - ### <span style=\"color:#82CAFA\">*Note: feedback message was not displayed, because the default feedback option was set to False*</span>"
   ]
  },
  {
   "cell_type": "code",
   "execution_count": 63,
   "metadata": {},
   "outputs": [
    {
     "data": {
      "text/plain": [
       "True"
      ]
     },
     "execution_count": 63,
     "metadata": {},
     "output_type": "execute_result"
    }
   ],
   "source": [
    "%config Kqlmagic.feedback=True\n",
    "%config Kqlmagic.feedback"
   ]
  },
  {
   "cell_type": "markdown",
   "metadata": {},
   "source": [
    "## Kql query with option -version (print kqlmagic version)"
   ]
  },
  {
   "cell_type": "code",
   "execution_count": 64,
   "metadata": {},
   "outputs": [
    {
     "name": "stdout",
     "output_type": "stream",
     "text": [
      "Kqlmagic version: 0.1.61\n"
     ]
    }
   ],
   "source": [
    "%kql -version"
   ]
  },
  {
   "cell_type": "markdown",
   "metadata": {},
   "source": [
    "## Show all option defaults with help"
   ]
  },
  {
   "cell_type": "code",
   "execution_count": 65,
   "metadata": {},
   "outputs": [
    {
     "name": "stdout",
     "output_type": "stream",
     "text": [
      "Kqlmagic options\n",
      "--------------\n",
      "Kqlmagic.add_kql_ref_to_help=<Bool>\n",
      "    Current: True\n",
      "    On Kqlmagic load auto add kql reference to Help menu.\n",
      "Kqlmagic.add_schema_to_help=<Bool>\n",
      "    Current: True\n",
      "    On connection to database@cluster add  schema to Help menu.\n",
      "Kqlmagic.auto_dataframe=<Bool>\n",
      "    Current: False\n",
      "    Return Pandas dataframe instead of regular result sets. Abbreviation: ad\n",
      "Kqlmagic.auto_limit=<Int>\n",
      "    Current: 0\n",
      "    Automatically limit the size of the returned result sets. Abbreviation: al\n",
      "Kqlmagic.auto_popup_schema=<Bool>\n",
      "    Current: True\n",
      "    Popup schema when connecting to a new database. Abbreviation: aps\n",
      "Kqlmagic.cache=<Bool>\n",
      "    Current: False\n",
      "    Cache query results.\n",
      "Kqlmagic.cache_folder_name=<Unicode>\n",
      "    Current: 'Kqlmagic_cache_files'\n",
      "    Set the folder name for cache files\n",
      "Kqlmagic.columns_to_local_vars=<Bool>\n",
      "    Current: False\n",
      "    Return data into local variables from column names. Abbreviation: c2lv\n",
      "Kqlmagic.display_limit=<Int>\n",
      "    Current: None\n",
      "    Automatically limit the number of rows displayed (full result set is still\n",
      "    stored). Abbreviation: dl\n",
      "Kqlmagic.dsn_filename=<Unicode>\n",
      "    Current: 'odbc.ini'\n",
      "    Path to DSN file. When the first argument is of the form [section], a kql\n",
      "    connection string is formed from the matching section in the DSN file.\n",
      "    Abbreviation: dl\n",
      "Kqlmagic.enable_suppress_result=<Bool>\n",
      "    Current: True\n",
      "    Suppress result when magic ends with a semicolon ;. Abbreviation: esr\n",
      "Kqlmagic.export_folder_name=<Unicode>\n",
      "    Current: 'Kqlmagic_exported_files'\n",
      "    Set the folder name  for exported files\n",
      "Kqlmagic.feedback=<Bool>\n",
      "    Current: True\n",
      "    Show number of records returned, and assigned variables. Abbreviation: f\n",
      "Kqlmagic.json_display=<Enum>\n",
      "    Current: 'formatted'\n",
      "    Choices: ['raw', 'native', 'formatted']\n",
      "    Set json/dict display format. Abbreviation: jd\n",
      "Kqlmagic.last_raw_result_var=<Unicode>\n",
      "    Current: '_kql_raw_result_'\n",
      "    Set the name of the variable that will contain last raw result.\n",
      "    Abbreviation: var\n",
      "Kqlmagic.notebook_app=<Enum>\n",
      "    Current: 'jupyternotebook'\n",
      "    Choices: ['jupyterlab', 'jupyternotebook']\n",
      "    Set notebook application used.\n",
      "Kqlmagic.palette_colors=<Int>\n",
      "    Current: 10\n",
      "    Set pallete number of colors to be used for charts. Abbreviation: pc\n",
      "Kqlmagic.palette_desaturation=<Float>\n",
      "    Current: 1.0\n",
      "    Set pallete desaturation to be used for charts. Abbreviation: pd\n",
      "Kqlmagic.palette_name=<Unicode>\n",
      "    Current: 'tab10'\n",
      "    Set pallete by name to be used for charts. Abbreviation: pn\n",
      "Kqlmagic.params_dict=<Unicode>\n",
      "    Current: None\n",
      "    paremeters dictionary name, if None, python shell user namespace will be\n",
      "    used.\n",
      "Kqlmagic.plot_package=<Enum>\n",
      "    Current: 'plotly'\n",
      "    Choices: ['matplotlib', 'plotly']\n",
      "    Set the plot package. Abbreviation: pp\n",
      "Kqlmagic.plotly_fs_includejs=<Bool>\n",
      "    Current: False\n",
      "    Include plotly javascript code in popup window. If set to False (default),\n",
      "    it download the script from https://cdn.plot.ly/plotly-latest.min.js.\n",
      "    Abbreviation: pfi\n",
      "Kqlmagic.prettytable_style=<Enum>\n",
      "    Current: 'DEFAULT'\n",
      "    Choices: ['DEFAULT', 'MSWORD_FRIENDLY', 'PLAIN_COLUMNS', 'RANDOM']\n",
      "    Set the table printing style to any of prettytable's defined styles.\n",
      "    Abbreviation: ptst\n",
      "Kqlmagic.short_errors=<Bool>\n",
      "    Current: True\n",
      "    Don't display the full traceback on KQL Programming Error. Abbreviation: se\n",
      "Kqlmagic.show_conn_info=<Enum>\n",
      "    Current: 'current'\n",
      "    Choices: ['list', 'current', 'None']\n",
      "    Show connection info, either current, the whole list, or None. Abbreviation:\n",
      "    sci\n",
      "Kqlmagic.show_query_time=<Bool>\n",
      "    Current: True\n",
      "    Print query execution elapsed time. Abbreviation: sqt\n",
      "Kqlmagic.table_package=<Enum>\n",
      "    Current: 'prettytable'\n",
      "    Choices: ['prettytable', 'pandas', 'plotly', 'qgrid']\n",
      "    Set the table display package. Abbreviation: tp\n",
      "Kqlmagic.temp_folder_name=<Unicode>\n",
      "    Current: 'Kqlmagic_temp_files'\n",
      "    Set the folder name for temporary files\n",
      "Kqlmagic.use_cache=<Bool>\n",
      "    Current: False\n",
      "    use cached query results, instead of executing the query.\n",
      "Kqlmagic.validate_connection_string=<Bool>\n",
      "    Current: True\n",
      "    Validate connectionString with an implicit query, when query statement is\n",
      "    missing. Abbreviation: vc\n"
     ]
    }
   ],
   "source": [
    "%config Kqlmagic"
   ]
  },
  {
   "cell_type": "markdown",
   "metadata": {},
   "source": [
    "## Show query results in a popup window"
   ]
  },
  {
   "cell_type": "code",
   "execution_count": 66,
   "metadata": {},
   "outputs": [
    {
     "data": {
      "text/html": [
       "<html>\n",
       "        <head>\n",
       "        \n",
       "        </head>\n",
       "        <body>\n",
       "        <div><p style='padding: 10px; color: #3a87ad; background-color: #d9edf7; border-color: #bce9f1'>&nbsp*&nbspDEMO_APP@appinsights</p></div>\n",
       "        </body>\n",
       "        </html>"
      ],
      "text/plain": [
       "<IPython.core.display.HTML object>"
      ]
     },
     "metadata": {},
     "output_type": "display_data"
    },
    {
     "data": {
      "text/html": [
       "<!DOCTYPE html>\n",
       "            <html><body>\n",
       "\n",
       "            <button onclick=\"this.style.visibility='hidden';kql_MagicLaunchWindowFunction('Kqlmagic_temp_files/7b910b6610ce498195658c9cdb45b25d.html','fullscreen=no,directories=no,location=no,menubar=no,resizable=yes,scrollbars=yes,status=no,titlebar=no,toolbar=no,','7b910b6610ce498195658c9cdb45b25d','')\">popup scatterchart - Michael's chart </button>\n",
       "\n",
       "            <script>\n",
       "\n",
       "            function kql_MagicLaunchWindowFunction(file_path, window_params, window_name, notebooks_host) {\n",
       "                var url;\n",
       "                if (file_path.startsWith('http')) {\n",
       "                    url = file_path;\n",
       "                } else {\n",
       "                    var base_url = '';\n",
       "\n",
       "                    // check if azure notebook\n",
       "                    var azure_host = (notebooks_host == null || notebooks_host.length == 0) ? 'https://notebooks.azure.com' : notebooks_host;\n",
       "                    var start = azure_host.search('//');\n",
       "                    var azure_host_suffix = '.' + azure_host.substring(start+2);\n",
       "\n",
       "                    var loc = String(window.location);\n",
       "                    var end = loc.search(azure_host_suffix);\n",
       "                    start = loc.search('//');\n",
       "                    if (start > 0 && end > 0) {\n",
       "                        var parts = loc.substring(start+2, end).split('-');\n",
       "                        if (parts.length == 2) {\n",
       "                            var library = parts[0];\n",
       "                            var user = parts[1];\n",
       "                            base_url = azure_host + '/api/user/' +user+ '/library/' +library+ '/html/';\n",
       "                        }\n",
       "                    }\n",
       "\n",
       "                    // check if local jupyter lab\n",
       "                    if (base_url.length == 0) {\n",
       "                        var configDataScipt  = document.getElementById('jupyter-config-data');\n",
       "                        if (configDataScipt != null) {\n",
       "                            var jupyterConfigData = JSON.parse(configDataScipt.textContent);\n",
       "                            if (jupyterConfigData['appName'] == 'JupyterLab' && jupyterConfigData['serverRoot'] != null &&  jupyterConfigData['treeUrl'] != null) {\n",
       "                                var basePath = 'c:/My Projects/jupyter-Kqlmagic-microsoft-vsc/notebooks' + '/';\n",
       "                                if (basePath.startsWith(jupyterConfigData['serverRoot'])) {\n",
       "                                    base_url = '/files/' + basePath.substring(jupyterConfigData['serverRoot'].length+1);\n",
       "                                }\n",
       "                            } \n",
       "                        }\n",
       "                    }\n",
       "\n",
       "                    // assume local jupyter notebook\n",
       "                    if (base_url.length == 0) {\n",
       "\n",
       "                        var parts = loc.split('/');\n",
       "                        parts.pop();\n",
       "                        base_url = parts.join('/') + '/';\n",
       "                    }\n",
       "                    url = base_url + file_path;\n",
       "                }\n",
       "\n",
       "                window.focus();\n",
       "                var w = screen.width / 2;\n",
       "                var h = screen.height / 2;\n",
       "                params = 'width='+w+',height='+h;\n",
       "                kql_Magic_7b910b6610ce498195658c9cdb45b25d = window.open(url, window_name, window_params + params);\n",
       "            }\n",
       "            </script>\n",
       "\n",
       "            </body></html>"
      ],
      "text/plain": [
       "<IPython.core.display.HTML object>"
      ]
     },
     "metadata": {},
     "output_type": "display_data"
    },
    {
     "data": {
      "text/html": [
       "<html>\n",
       "        <head>\n",
       "        \n",
       "        </head>\n",
       "        <body>\n",
       "        <div><p style='padding: 10px; color: #3a87ad; background-color: #d9edf7; border-color: #bce9f1'>Done&nbsp(00:01.268):&nbsp1000&nbsprecords</p></div>\n",
       "        </body>\n",
       "        </html>"
      ],
      "text/plain": [
       "<IPython.core.display.HTML object>"
      ]
     },
     "metadata": {},
     "output_type": "display_data"
    },
    {
     "data": {
      "text/html": [],
      "text/plain": [
       "[{'e1': 6.885164822471777, 'e2': 7.4807052354618495, 'e3': 6.075372525688422, 'e4': 7.091791324618022, 'e5': 6.317645924276638},\n",
       " {'e1': 7.134988177498415, 'e2': 7.192410300680415, 'e3': 6.094137421537333, 'e4': 7.620103886992352, 'e5': 5.956379952273665},\n",
       " {'e1': 7.764259507179662, 'e2': 6.657494650290428, 'e3': 4.593132768716019, 'e4': 6.7544005769964155, 'e5': 6.2927938972685},\n",
       " {'e1': 5.537471893769482, 'e2': 7.507332730045631, 'e3': 6.848947558525684, 'e4': 7.426334368091671, 'e5': 8.790591227467827},\n",
       " {'e1': 8.107504840950062, 'e2': 5.5050827918479985, 'e3': 9.53443045840088, 'e4': 5.2583033906519026, 'e5': 7.833778912803126},\n",
       " {'e1': 5.965409851898356, 'e2': 6.766093325015281, 'e3': 7.5132596534341705, 'e4': 6.568883533276695, 'e5': 8.34724354092112},\n",
       " {'e1': 5.571230612698226, 'e2': 5.676456432403699, 'e3': 6.298931574387698, 'e4': 7.078941334620738, 'e5': 6.805804950328613},\n",
       " {'e1': 6.79266391496983, 'e2': 6.980838284800218, 'e3': 5.836678159834288, 'e4': 6.659565496805157, 'e5': 7.431277665689861},\n",
       " {'e1': 8.612242390709126, 'e2': 9.0408390712358, 'e3': 5.821992192097714, 'e4': 5.92097211326844, 'e5': 7.830893665676877},\n",
       " {'e1': 7.500480864162146, 'e2': 7.632134801782843, 'e3': 6.672742001386208, 'e4': 5.727830461265324, 'e5': 7.146806086475765},\n",
       " {'e1': 7.275067663435695, 'e2': 7.476288285838557, 'e3': 8.190018663072866, 'e4': 7.515422628998751, 'e5': 7.447147432988165},\n",
       " {'e1': 8.518503655151154, 'e2': 4.386335330181528, 'e3': 6.873068547638228, 'e4': 6.392102972017813, 'e5': 5.109843424152736},\n",
       " {'e1': 6.334116977616598, 'e2': 6.918189859912327, 'e3': 7.461481913298989, 'e4': 6.967728075918101, 'e5': 7.863769980948624},\n",
       " {'e1': 7.799418806379226, 'e2': 7.217016632010541, 'e3': 5.7803307595856905, 'e4': 8.13314888743814, 'e5': 7.413497007500276},\n",
       " {'e1': 7.201437360774142, 'e2': 6.649702119936097, 'e3': 7.311648612740961, 'e4': 7.7068377399381545, 'e5': 5.248024181641339},\n",
       " {'e1': 5.71894618454834, 'e2': 7.739380035167474, 'e3': 7.209974644717882, 'e4': 5.302373535924333, 'e5': 6.024218863919702},\n",
       " {'e1': 7.109950443617003, 'e2': 5.584221330133414, 'e3': 6.513571251401899, 'e4': 6.511952412769844, 'e5': 4.5734939025765},\n",
       " {'e1': 6.063072919911135, 'e2': 4.375398150019987, 'e3': 6.973369729915688, 'e4': 8.49273201902903, 'e5': 7.608172913900095},\n",
       " {'e1': 8.235241629097674, 'e2': 8.012728271611175, 'e3': 7.335036290971903, 'e4': 6.381912675585095, 'e5': 7.385437571913018},\n",
       " {'e1': 8.670132655677161, 'e2': 7.123250954292451, 'e3': 7.357148106542921, 'e4': 5.991779458216474, 'e5': 8.667309200702965},\n",
       " {'e1': 7.166676580441053, 'e2': 6.181716494596255, 'e3': 4.204639534074403, 'e4': 6.4363500113596785, 'e5': 7.430321297360331},\n",
       " {'e1': 6.497533118038088, 'e2': 5.8012850182696845, 'e3': 6.365770201172047, 'e4': 7.603801678577589, 'e5': 5.683482208737713},\n",
       " {'e1': 6.037511617287222, 'e2': 7.259906754893685, 'e3': 7.309480888492017, 'e4': 7.088755094707196, 'e5': 8.08180065257154},\n",
       " {'e1': 5.969045071826501, 'e2': 6.497815969627558, 'e3': 4.410855426400656, 'e4': 5.807565720833731, 'e5': 6.82964986202309},\n",
       " {'e1': 7.4406853124261785, 'e2': 6.259040111104195, 'e3': 6.892055288663076, 'e4': 7.375203129329975, 'e5': 4.971939182997961},\n",
       " {'e1': 7.064132478266612, 'e2': 7.024774114422618, 'e3': 6.508251907467168, 'e4': 8.286480673698915, 'e5': 6.469511762854427},\n",
       " {'e1': 5.810626943032013, 'e2': 6.0076532207345865, 'e3': 7.679099052802151, 'e4': 6.538512604750065, 'e5': 8.321768898744319},\n",
       " {'e1': 8.74809359057123, 'e2': 8.250299499795641, 'e3': 4.973398576540277, 'e4': 7.620435198623375, 'e5': 6.694549632829501},\n",
       " {'e1': 7.505133316222518, 'e2': 6.23935828670607, 'e3': 7.200041037525143, 'e4': 6.7407861919987155, 'e5': 8.247498782069847},\n",
       " {'e1': 6.285776132968953, 'e2': 8.870862677121234, 'e3': 7.1611429278430725, 'e4': 6.530610285490479, 'e5': 7.44145863221565},\n",
       " {'e1': 5.248975103385143, 'e2': 6.901251985438851, 'e3': 6.990542374480526, 'e4': 5.364189816532149, 'e5': 5.9091797587749495},\n",
       " {'e1': 9.14164895716456, 'e2': 6.797461555543444, 'e3': 4.9532070806048525, 'e4': 6.354239180736201, 'e5': 8.413871704185262},\n",
       " {'e1': 6.497252769315768, 'e2': 7.193645275134138, 'e3': 7.20460935234788, 'e4': 7.28396210967872, 'e5': 5.333396859922027},\n",
       " {'e1': 4.766374514107455, 'e2': 6.458571331579716, 'e3': 6.4230038405379775, 'e4': 4.9572737501093425, 'e5': 6.425629565154732},\n",
       " {'e1': 6.754124864916037, 'e2': 7.266130574708208, 'e3': 7.019356201538716, 'e4': 6.2400502539234814, 'e5': 4.770275598336277},\n",
       " {'e1': 6.906030077207791, 'e2': 7.4636650708994265, 'e3': 8.886114562773741, 'e4': 6.9440339721204225, 'e5': 5.406287791104209},\n",
       " {'e1': 7.599769443637078, 'e2': 6.856414391102002, 'e3': 5.878542046320305, 'e4': 6.934867177331503, 'e5': 7.243637044963064},\n",
       " {'e1': 7.503950556147384, 'e2': 8.903026862893702, 'e3': 8.261033306209463, 'e4': 4.127043685436249, 'e5': 8.394250984707037},\n",
       " {'e1': 6.6271455862149065, 'e2': 5.454568509845961, 'e3': 6.600906963869599, 'e4': 6.932821232901116, 'e5': 8.072041295460886},\n",
       " {'e1': 8.561800241806395, 'e2': 5.87080135736618, 'e3': 8.385005642482724, 'e4': 5.330528690115795, 'e5': 7.343330422419412},\n",
       " {'e1': 7.78748892468921, 'e2': 5.801154375449199, 'e3': 7.795948677117975, 'e4': 7.696903971389954, 'e5': 7.020457013826894},\n",
       " {'e1': 6.147158478236349, 'e2': 6.078142084802544, 'e3': 6.40474619906198, 'e4': 6.839962738554184, 'e5': 8.245274472574785},\n",
       " {'e1': 8.701737182436082, 'e2': 8.572496759729912, 'e3': 6.655411561795474, 'e4': 7.191314597109051, 'e5': 7.212933440478559},\n",
       " {'e1': 7.47644644683737, 'e2': 6.681023387548427, 'e3': 6.746000105348542, 'e4': 5.442596038410068, 'e5': 6.579702204847227},\n",
       " {'e1': 6.414112368300636, 'e2': 8.08409481282031, 'e3': 5.653993221979169, 'e4': 8.466807403783672, 'e5': 7.542682430429714},\n",
       " {'e1': 8.843965443931323, 'e2': 7.040504422466091, 'e3': 8.816304944591533, 'e4': 5.694371678198166, 'e5': 4.541865252179162},\n",
       " {'e1': 7.593439730693782, 'e2': 7.330558962234704, 'e3': 5.243663388982895, 'e4': 6.286064458501313, 'e5': 7.128325006106977},\n",
       " {'e1': 7.786854029834185, 'e2': 7.401432603483731, 'e3': 7.069034340491446, 'e4': 6.698385364914478, 'e5': 5.797187914726226},\n",
       " {'e1': 6.592982523314257, 'e2': 8.361617434983428, 'e3': 6.282536297843426, 'e4': 7.331956460058189, 'e5': 5.586893308307932},\n",
       " {'e1': 7.901539446289796, 'e2': 7.214046247108525, 'e3': 6.9256603635997775, 'e4': 7.394527696918276, 'e5': 5.779297807936191},\n",
       " {'e1': 7.356581032934602, 'e2': 7.235420666160889, 'e3': 8.490334506431985, 'e4': 6.489381288161213, 'e5': 5.180220168975383},\n",
       " {'e1': 7.533379206733443, 'e2': 6.959598007205027, 'e3': 6.98849282764179, 'e4': 7.839031172479867, 'e5': 7.1039275352631135},\n",
       " {'e1': 7.072841474866813, 'e2': 7.3149651924975725, 'e3': 5.560140455674314, 'e4': 7.3766918706649305, 'e5': 8.331607735682566},\n",
       " {'e1': 7.308480800496341, 'e2': 6.569556761267692, 'e3': 6.341610816269473, 'e4': 5.645278420188944, 'e5': 5.631629315421811},\n",
       " {'e1': 7.528671559320184, 'e2': 6.554063519873156, 'e3': 5.767308083348465, 'e4': 7.086039060667094, 'e5': 5.426771735421932},\n",
       " {'e1': 7.984150963923823, 'e2': 5.772947851355505, 'e3': 7.96166815402932, 'e4': 5.033859793017853, 'e5': 6.682207619641658},\n",
       " {'e1': 7.47930214499951, 'e2': 5.471391917210208, 'e3': 6.857044922801633, 'e4': 7.427145323439363, 'e5': 9.990407859235665},\n",
       " {'e1': 6.645067147805283, 'e2': 6.339420323733977, 'e3': 6.004934600124573, 'e4': 7.567361028955577, 'e5': 5.948907778369211},\n",
       " {'e1': 6.77509087399947, 'e2': 6.932741979632185, 'e3': 7.996294610620259, 'e4': 5.805603420785692, 'e5': 6.345162840253922},\n",
       " {'e1': 6.446344657219968, 'e2': 7.559227410198991, 'e3': 9.051625542245347, 'e4': 6.860240239604856, 'e5': 6.1343280453829765},\n",
       " {'e1': 8.633467389708605, 'e2': 6.641718116436655, 'e3': 7.37882102192473, 'e4': 7.762592051160119, 'e5': 5.601901330131061},\n",
       " {'e1': 6.055290528560198, 'e2': 4.725750955132139, 'e3': 6.845520964000125, 'e4': 9.371010530363847, 'e5': 7.513467833686195},\n",
       " {'e1': 5.938335137941356, 'e2': 4.452440244555883, 'e3': 6.690707175074511, 'e4': 6.401998527363237, 'e5': 7.349593296193636},\n",
       " {'e1': 6.166084422522333, 'e2': 7.379495481016586, 'e3': 6.657106792509727, 'e4': 8.231713990473194, 'e5': 5.612429004400642},\n",
       " {'e1': 8.047649799342848, 'e2': 7.898890996321641, 'e3': 7.551207035513771, 'e4': 6.37806581728607, 'e5': 7.622170611094595},\n",
       " {'e1': 7.326451401466335, 'e2': 6.824973154813813, 'e3': 7.914524000280093, 'e4': 5.872854710240783, 'e5': 5.556718666588223},\n",
       " {'e1': 5.781675551084033, 'e2': 6.967281092506605, 'e3': 7.54743802706297, 'e4': 6.483270763729568, 'e5': 5.810121328216369},\n",
       " {'e1': 5.976807365504447, 'e2': 6.5652540425228985, 'e3': 8.601668059424236, 'e4': 7.20573159524306, 'e5': 5.301077973945518},\n",
       " {'e1': 7.983526189545161, 'e2': 6.985746870709368, 'e3': 8.133393881334017, 'e4': 7.382606253390169, 'e5': 7.258371017838078},\n",
       " {'e1': 7.13352479922962, 'e2': 5.168521297919163, 'e3': 8.359766789374838, 'e4': 6.883999806670459, 'e5': 5.782716031958611},\n",
       " {'e1': 7.872416105479636, 'e2': 8.686561772525973, 'e3': 7.628628913942908, 'e4': 5.827265150785566, 'e5': 7.177140977369958},\n",
       " {'e1': 5.741326105964291, 'e2': 7.708489936438704, 'e3': 8.393436825360604, 'e4': 6.856854146151907, 'e5': 6.465261665885788},\n",
       " {'e1': 8.856712852750256, 'e2': 6.933042764294192, 'e3': 7.27911799592467, 'e4': 8.236973611245853, 'e5': 8.064078366229593},\n",
       " {'e1': 5.081657478078916, 'e2': 7.051289829791783, 'e3': 7.844015709529935, 'e4': 8.31783822541462, 'e5': 6.209582580091026},\n",
       " {'e1': 4.5325079610628825, 'e2': 7.253940741107316, 'e3': 7.107980964837547, 'e4': 9.3240575013998, 'e5': 7.829707006938169},\n",
       " {'e1': 7.402721085093111, 'e2': 7.053622932912181, 'e3': 6.301909089017606, 'e4': 5.773459679731989, 'e5': 6.496590705848373},\n",
       " {'e1': 6.347755479231638, 'e2': 5.953796163019221, 'e3': 8.032577229781067, 'e4': 9.472333928702183, 'e5': 8.50514229353295},\n",
       " {'e1': 7.798476967499971, 'e2': 4.824215756604924, 'e3': 6.665618438417361, 'e4': 6.697328624605814, 'e5': 6.1913486706906085},\n",
       " {'e1': 7.4011457438253085, 'e2': 7.007810905709403, 'e3': 7.6542841002514175, 'e4': 6.964906031760962, 'e5': 6.985985994073602},\n",
       " {'e1': 9.304893298190816, 'e2': 7.952343298676393, 'e3': 8.367483767295976, 'e4': 6.474281663254613, 'e5': 8.396092860674806},\n",
       " {'e1': 5.142004068606558, 'e2': 7.442529107891371, 'e3': 7.498429992888131, 'e4': 7.375579700870803, 'e5': 7.659132963150595},\n",
       " {'e1': 7.111147279736907, 'e2': 6.9812433583446305, 'e3': 7.858892715896763, 'e4': 8.795336583888524, 'e5': 7.781482803613054},\n",
       " {'e1': 8.72061339275397, 'e2': 6.329900445812428, 'e3': 5.11570351593389, 'e4': 8.159273585029728, 'e5': 8.500790375736853},\n",
       " {'e1': 8.922080808611815, 'e2': 6.221102866425721, 'e3': 7.501771020540851, 'e4': 8.079449970124907, 'e5': 7.520864175116071},\n",
       " {'e1': 7.498356680169815, 'e2': 7.67851531692945, 'e3': 7.813231303140061, 'e4': 8.009989005598841, 'e5': 6.111891053803474},\n",
       " {'e1': 6.353563363799018, 'e2': 6.84448021902165, 'e3': 8.427158445141389, 'e4': 7.453397733794577, 'e5': 7.6771645215385},\n",
       " {'e1': 6.304903554582649, 'e2': 7.001223677873911, 'e3': 7.036028869241953, 'e4': 7.628891857579729, 'e5': 4.8965924260869444},\n",
       " {'e1': 6.421887802875069, 'e2': 8.369683681422154, 'e3': 8.996721331004832, 'e4': 8.249630162965477, 'e5': 7.8898791503371815},\n",
       " {'e1': 6.202861962039544, 'e2': 7.633862411992162, 'e3': 8.466587752811519, 'e4': 6.268169921623952, 'e5': 6.452749271406743},\n",
       " {'e1': 7.465806754719616, 'e2': 8.363951731390156, 'e3': 7.658815964113788, 'e4': 5.873620318013634, 'e5': 7.656951479206593},\n",
       " {'e1': 6.441063804186024, 'e2': 6.925917180882013, 'e3': 6.924676642417549, 'e4': 6.781210918553926, 'e5': 6.270421188215084},\n",
       " {'e1': 6.4789101501245625, 'e2': 5.846987321486755, 'e3': 9.205607599988838, 'e4': 7.725799825977136, 'e5': 6.489778769575688},\n",
       " {'e1': 7.213743528483189, 'e2': 6.613152104630288, 'e3': 6.47366379079228, 'e4': 6.0605231433929685, 'e5': 7.663620635462626},\n",
       " {'e1': 7.42847687153823, 'e2': 6.571601677926697, 'e3': 7.358456449421611, 'e4': 5.954008246203185, 'e5': 5.927077044199049},\n",
       " {'e1': 7.645168582828475, 'e2': 7.485950184327586, 'e3': 7.706803622086082, 'e4': 7.8370470703927015, 'e5': 5.526157793416904},\n",
       " {'e1': 6.409994147266075, 'e2': 7.691805840649759, 'e3': 6.275938225133412, 'e4': 6.148852007840625, 'e5': 8.177093433438204},\n",
       " {'e1': 8.535081762135038, 'e2': 5.198465135380716, 'e3': 7.740153202574936, 'e4': 5.341643555831749, 'e5': 9.261230919167364},\n",
       " {'e1': 8.969331910590814, 'e2': 5.304864820243157, 'e3': 7.1242994054003725, 'e4': 7.606097117079806, 'e5': 6.975523985058453},\n",
       " {'e1': 6.819456996895594, 'e2': 7.472325749663629, 'e3': 7.083725398241274, 'e4': 6.167413185049234, 'e5': 5.492316836126661},\n",
       " {'e1': 7.095996180798635, 'e2': 7.3719504762826755, 'e3': 5.880979208464093, 'e4': 7.054000706521742, 'e5': 7.560738805376827},\n",
       " {'e1': 5.823140198318176, 'e2': 6.564690567383149, 'e3': 6.939714717610419, 'e4': 8.161036537608231, 'e5': 9.690431829641762},\n",
       " {'e1': 8.06792932166586, 'e2': 5.307760316048434, 'e3': 9.301954165828418, 'e4': 6.08003085518463, 'e5': 6.3784733621225085},\n",
       " {'e1': 6.283040307789774, 'e2': 6.797173564203946, 'e3': 8.38474889111564, 'e4': 6.451566795737648, 'e5': 7.81973234502181},\n",
       " {'e1': 8.914635338248464, 'e2': 7.6517654012320095, 'e3': 8.266603020019113, 'e4': 5.818205565890281, 'e5': 8.47797874686231},\n",
       " {'e1': 6.159062949029186, 'e2': 6.450745574259137, 'e3': 6.174989422281285, 'e4': 8.00953958135516, 'e5': 6.788634452933615},\n",
       " {'e1': 7.434886748118196, 'e2': 6.495936032807624, 'e3': 7.004199695729094, 'e4': 8.901831236376047, 'e5': 6.977120379341982},\n",
       " {'e1': 8.248152649730068, 'e2': 6.013684300227847, 'e3': 8.293273969194237, 'e4': 7.480436588291055, 'e5': 5.827150613165256},\n",
       " {'e1': 6.687036078418489, 'e2': 8.493820420460395, 'e3': 5.993499583397511, 'e4': 6.500606381866095, 'e5': 7.967887380333078},\n",
       " {'e1': 7.803101365091296, 'e2': 7.243065957185583, 'e3': 6.5745739764683275, 'e4': 6.920066567856737, 'e5': 8.362792791628944},\n",
       " {'e1': 6.6067050260850815, 'e2': 7.097085154628019, 'e3': 5.480353173948148, 'e4': 7.4497818864014915, 'e5': 6.972053380838237},\n",
       " {'e1': 7.352997476155903, 'e2': 8.044203685700715, 'e3': 7.8937493456299475, 'e4': 5.913576747833741, 'e5': 6.854740695316254},\n",
       " {'e1': 5.671172061779239, 'e2': 6.6661887694365545, 'e3': 6.328542064233858, 'e4': 8.018750259995747, 'e5': 6.031811871447723},\n",
       " {'e1': 7.301896616879459, 'e2': 5.151204948914415, 'e3': 8.022636212415986, 'e4': 7.0442336214592975, 'e5': 6.157979145177459},\n",
       " {'e1': 8.288054091451013, 'e2': 6.739625386511206, 'e3': 7.979003104836718, 'e4': 7.30591530775683, 'e5': 7.988558011857415},\n",
       " {'e1': 7.465088246862191, 'e2': 6.689250310515162, 'e3': 6.28809151823856, 'e4': 7.606019939013196, 'e5': 8.930483443305356},\n",
       " {'e1': 8.184780599538083, 'e2': 7.930033169913331, 'e3': 5.658556001900177, 'e4': 7.6763742489430715, 'e5': 9.111372071422037},\n",
       " {'e1': 6.409587873198251, 'e2': 7.7050610420470775, 'e3': 7.13697868127623, 'e4': 8.032378734421803, 'e5': 8.423100618508577},\n",
       " {'e1': 7.060898592461778, 'e2': 6.145677960436121, 'e3': 7.3119243194702985, 'e4': 5.990305928239975, 'e5': 5.039073015281394},\n",
       " {'e1': 7.2218808024425165, 'e2': 6.946659514867873, 'e3': 7.407191365746989, 'e4': 6.850550996273361, 'e5': 7.213717871831616},\n",
       " {'e1': 6.828665555162894, 'e2': 7.0279014575773315, 'e3': 5.731513603343462, 'e4': 6.994177947690134, 'e5': 6.6777751589328975},\n",
       " {'e1': 6.166022698912816, 'e2': 8.626906173572642, 'e3': 6.720801252896457, 'e4': 6.451352567931124, 'e5': 7.430525887916355},\n",
       " {'e1': 6.7094354155701215, 'e2': 5.870013307841116, 'e3': 6.445929681849208, 'e4': 5.6200406875096345, 'e5': 5.896196061427836},\n",
       " {'e1': 6.62462110015499, 'e2': 7.860774220005058, 'e3': 5.362076215561917, 'e4': 8.353437351022718, 'e5': 7.108699592241988},\n",
       " {'e1': 8.464581280459738, 'e2': 5.958056649150918, 'e3': 9.867460056911295, 'e4': 7.486808008333261, 'e5': 7.553314178799261},\n",
       " {'e1': 7.70649873902058, 'e2': 4.360105859122985, 'e3': 8.54061791460477, 'e4': 6.124774325854347, 'e5': 6.286667598810708},\n",
       " {'e1': 6.498019452801979, 'e2': 6.9303972939088565, 'e3': 6.316520457814191, 'e4': 6.497091108199222, 'e5': 5.364193509635772},\n",
       " {'e1': 8.094428450755833, 'e2': 6.783360858568379, 'e3': 6.619035206151026, 'e4': 7.756034180771464, 'e5': 9.1683303459497},\n",
       " {'e1': 7.073419464890213, 'e2': 6.605892097040115, 'e3': 6.319438135669965, 'e4': 6.6619393539228495, 'e5': 6.197908177746333},\n",
       " {'e1': 8.925939428819012, 'e2': 7.266254501114036, 'e3': 7.222824292312301, 'e4': 7.715493197400237, 'e5': 8.149076928528872},\n",
       " {'e1': 8.336090258181152, 'e2': 6.240442082337771, 'e3': 7.958013189859167, 'e4': 5.286776281465377, 'e5': 7.570323925780549},\n",
       " {'e1': 6.184402973193947, 'e2': 8.883063491377731, 'e3': 8.341014686663039, 'e4': 8.327524567224886, 'e5': 6.33540646481688},\n",
       " {'e1': 8.664308820813265, 'e2': 6.515854033526297, 'e3': 6.501267885505363, 'e4': 8.577757057362886, 'e5': 7.225487268083846},\n",
       " {'e1': 9.387810650630378, 'e2': 6.459413549352849, 'e3': 9.60340539494149, 'e4': 5.943161098321546, 'e5': 6.24695647348959},\n",
       " {'e1': 4.4933943816266675, 'e2': 5.798178586777095, 'e3': 8.846818297869813, 'e4': 7.239303607239534, 'e5': 5.760685517745319},\n",
       " {'e1': 6.926080361458834, 'e2': 5.567828106494994, 'e3': 5.907725383598204, 'e4': 7.229084751830761, 'e5': 5.514166315756168},\n",
       " {'e1': 6.216976782421953, 'e2': 6.541114881131921, 'e3': 7.304791552232041, 'e4': 6.827158468873417, 'e5': 6.532943037468172},\n",
       " {'e1': 8.779681668158492, 'e2': 6.29094473925928, 'e3': 8.143502255120978, 'e4': 7.009106903366522, 'e5': 4.878930441694826},\n",
       " {'e1': 5.583474084267353, 'e2': 8.193153701482029, 'e3': 9.918149235954141, 'e4': 6.643053604086549, 'e5': 5.257915385304145},\n",
       " {'e1': 8.453848844641959, 'e2': 6.791505281615679, 'e3': 7.289970847201164, 'e4': 8.041031277323773, 'e5': 7.105713703852071},\n",
       " {'e1': 4.9131281303811996, 'e2': 5.309171874449659, 'e3': 5.779814303404251, 'e4': 4.495756165116563, 'e5': 4.776704788516657},\n",
       " {'e1': 7.728621958863641, 'e2': 6.8658956012978205, 'e3': 8.245853851408917, 'e4': 7.007053618672134, 'e5': 7.073834541407175},\n",
       " {'e1': 7.299564342849357, 'e2': 9.679554695470603, 'e3': 6.362527603859851, 'e4': 6.378555006726395, 'e5': 7.070107432944589},\n",
       " {'e1': 8.117034855632575, 'e2': 8.412084392779445, 'e3': 7.034206520012361, 'e4': 7.864132116182306, 'e5': 7.0167402487834},\n",
       " {'e1': 7.000379406337752, 'e2': 9.048253286433921, 'e3': 6.1207460184872176, 'e4': 6.307195815555199, 'e5': 7.107869984097984},\n",
       " {'e1': 6.39350460407064, 'e2': 6.536776004154616, 'e3': 7.260882829643041, 'e4': 7.119592582332748, 'e5': 5.065408035308245},\n",
       " {'e1': 5.211534571655478, 'e2': 6.715457446739483, 'e3': 6.099628529240869, 'e4': 6.611681195518732, 'e5': 6.959449673812898},\n",
       " {'e1': 5.695328801259526, 'e2': 7.963635851575817, 'e3': 7.810139593068486, 'e4': 6.471501260380231, 'e5': 6.467277656347869},\n",
       " {'e1': 6.53907286727994, 'e2': 8.111609309656581, 'e3': 7.9471394745212525, 'e4': 7.878293521099641, 'e5': 6.819706908450137},\n",
       " {'e1': 6.518638551720571, 'e2': 5.994059506908293, 'e3': 7.450520142832259, 'e4': 8.164825885547742, 'e5': 6.606092710198263},\n",
       " {'e1': 6.466693908987683, 'e2': 7.542833030527862, 'e3': 8.423790463672775, 'e4': 5.336408640174208, 'e5': 4.995232266039556},\n",
       " {'e1': 5.4883816687477305, 'e2': 7.318008798641153, 'e3': 6.5070273572546675, 'e4': 6.171004560136935, 'e5': 6.590342663146972},\n",
       " {'e1': 7.935369333750128, 'e2': 8.579541333497637, 'e3': 6.52991963948783, 'e4': 8.20876688374379, 'e5': 6.6248707077428595},\n",
       " {'e1': 7.783478723018682, 'e2': 7.489378972426417, 'e3': 8.129755655468323, 'e4': 5.7982937870558064, 'e5': 7.585160501646241},\n",
       " {'e1': 7.271120616796611, 'e2': 7.636090283818457, 'e3': 6.521235901557438, 'e4': 6.520030455500922, 'e5': 6.076427530075039},\n",
       " {'e1': 6.374369309277912, 'e2': 5.445781683716815, 'e3': 5.416676945297261, 'e4': 7.16102956294253, 'e5': 6.548877898244445},\n",
       " {'e1': 6.13672556274056, 'e2': 6.284140612526321, 'e3': 5.609666839629087, 'e4': 4.921213852521605, 'e5': 6.364477693733143},\n",
       " {'e1': 6.814932678945908, 'e2': 5.769620574019855, 'e3': 7.555830638935608, 'e4': 8.299230400488485, 'e5': 6.576657801664119},\n",
       " {'e1': 6.427731648273803, 'e2': 6.03082227690384, 'e3': 7.57494198635527, 'e4': 7.3860943720167995, 'e5': 7.129498926656319},\n",
       " {'e1': 6.63573374968133, 'e2': 8.353191513668307, 'e3': 4.919620895326896, 'e4': 7.206784015069936, 'e5': 6.736183433316032},\n",
       " {'e1': 7.7350137571810755, 'e2': 7.05275921166215, 'e3': 7.933351276781973, 'e4': 6.513273943370353, 'e5': 6.895782200615145},\n",
       " {'e1': 8.429823011203188, 'e2': 7.150610385226129, 'e3': 5.993377462631645, 'e4': 8.558408514341323, 'e5': 5.868342190338457},\n",
       " {'e1': 9.267613724674199, 'e2': 8.640240166798561, 'e3': 5.994660624149276, 'e4': 8.445340839188685, 'e5': 7.070293637661046},\n",
       " {'e1': 7.13134895877614, 'e2': 6.973363154290062, 'e3': 6.78645496133666, 'e4': 8.025236746019045, 'e5': 8.95311236389636},\n",
       " {'e1': 7.507336250691597, 'e2': 6.8630941318502945, 'e3': 7.702676330974429, 'e4': 8.477075879707165, 'e5': 8.765794243192293},\n",
       " {'e1': 8.093958247012898, 'e2': 9.012318725248278, 'e3': 7.612827200623962, 'e4': 9.009676680575819, 'e5': 6.804361346926408},\n",
       " {'e1': 7.7361219450056495, 'e2': 5.949114385936963, 'e3': 7.569101388977781, 'e4': 7.15256731367334, 'e5': 7.154532378693735},\n",
       " {'e1': 7.031736390480221, 'e2': 7.007021363571553, 'e3': 6.3752703948394425, 'e4': 10.010948712711196, 'e5': 8.761015919721963},\n",
       " {'e1': 5.764771496330037, 'e2': 7.002904307217523, 'e3': 7.894375378216974, 'e4': 5.047173621314417, 'e5': 7.427472535561147},\n",
       " {'e1': 8.24642227619936, 'e2': 6.780577223642802, 'e3': 5.117829967275629, 'e4': 4.8302407224936985, 'e5': 8.17601184178571},\n",
       " {'e1': 6.874960316925565, 'e2': 6.422952200539003, 'e3': 8.449636691878846, 'e4': 8.920556834519642, 'e5': 6.833938531424699},\n",
       " {'e1': 6.580428293409053, 'e2': 6.175585568128053, 'e3': 6.646541869851563, 'e4': 5.621761436143623, 'e5': 6.811452545755935},\n",
       " {'e1': 6.942279746239165, 'e2': 6.23331488032074, 'e3': 5.522453676785199, 'e4': 7.365062667107985, 'e5': 8.15740779020477},\n",
       " {'e1': 9.987664530837305, 'e2': 7.899771085034506, 'e3': 5.848520411016367, 'e4': 6.15541180597162, 'e5': 8.644158471824268},\n",
       " {'e1': 8.272924453629747, 'e2': 8.36824054844846, 'e3': 6.273862873289905, 'e4': 6.542630381404238, 'e5': 7.6260448800986715},\n",
       " {'e1': 4.746956745573583, 'e2': 6.977889797306226, 'e3': 5.001189946686016, 'e4': 7.206332543776589, 'e5': 7.184244302293733},\n",
       " {'e1': 6.42503102982706, 'e2': 6.303988662261407, 'e3': 7.404691735764784, 'e4': 6.609974320444768, 'e5': 6.992370673615527},\n",
       " {'e1': 6.7694365406723565, 'e2': 7.26181351286358, 'e3': 6.54347488526426, 'e4': 6.881271904206491, 'e5': 7.689917445699078},\n",
       " {'e1': 8.837676138295372, 'e2': 6.3046561155223095, 'e3': 5.119035183982673, 'e4': 7.671243133302605, 'e5': 6.753257233284089},\n",
       " {'e1': 6.343227686130634, 'e2': 6.543043765516845, 'e3': 6.882416556525904, 'e4': 7.0404613537707315, 'e5': 6.4337552372273645},\n",
       " {'e1': 6.73938994064561, 'e2': 8.117799728622533, 'e3': 7.272354853704934, 'e4': 6.037883632709497, 'e5': 5.771607550458273},\n",
       " {'e1': 6.700107801512882, 'e2': 8.175313364571307, 'e3': 5.493908125051021, 'e4': 7.775619570639782, 'e5': 5.082474592649371},\n",
       " {'e1': 8.755028184800103, 'e2': 6.267925039481859, 'e3': 8.826203711532905, 'e4': 7.269197933008394, 'e5': 5.898121208950614},\n",
       " {'e1': 6.363182391827555, 'e2': 7.260226362995914, 'e3': 6.634833041384526, 'e4': 8.052503825693822, 'e5': 6.137870549475206},\n",
       " {'e1': 7.6923935913110455, 'e2': 7.83858354535751, 'e3': 6.315539468414176, 'e4': 8.530800765957572, 'e5': 7.489734380553422},\n",
       " {'e1': 5.741807102834232, 'e2': 7.4436089064779125, 'e3': 8.084175628394673, 'e4': 6.900345310091177, 'e5': 6.291036687974228},\n",
       " {'e1': 6.307165555542945, 'e2': 4.6430883770972535, 'e3': 8.046622607597296, 'e4': 7.676991553104266, 'e5': 6.740598861792078},\n",
       " {'e1': 8.701866671428839, 'e2': 7.5940067636428585, 'e3': 7.899671357629859, 'e4': 7.862310936235931, 'e5': 6.639089463803114},\n",
       " {'e1': 5.29721980401212, 'e2': 6.81819241908307, 'e3': 7.05178619137351, 'e4': 7.731219110847321, 'e5': 8.589099342765257},\n",
       " {'e1': 8.583880965064337, 'e2': 5.963799452484874, 'e3': 4.945157709372804, 'e4': 7.004670697438704, 'e5': 7.021667474620511},\n",
       " {'e1': 8.277627531622295, 'e2': 5.323554008497139, 'e3': 7.530236916885172, 'e4': 6.689366543402428, 'e5': 8.21056622769395},\n",
       " {'e1': 7.324072466089445, 'e2': 6.257429993094164, 'e3': 7.439725166141193, 'e4': 6.664548245348872, 'e5': 4.743949169654246},\n",
       " {'e1': 6.777911314550332, 'e2': 8.685148386867327, 'e3': 7.290148961781913, 'e4': 6.910850053943046, 'e5': 5.743922371126092},\n",
       " {'e1': 6.813779707110646, 'e2': 6.688805793002121, 'e3': 7.883859194737389, 'e4': 7.140334202857405, 'e5': 5.23289342266359},\n",
       " {'e1': 7.8555656220497365, 'e2': 7.708327353437283, 'e3': 7.221620941372223, 'e4': 7.9359287302080554, 'e5': 5.828489129085203},\n",
       " {'e1': 5.423006617188158, 'e2': 6.596740087244328, 'e3': 6.423026107613491, 'e4': 5.439590777228617, 'e5': 8.474622468725524},\n",
       " {'e1': 5.75821646825788, 'e2': 5.70647888610798, 'e3': 9.037889983720746, 'e4': 6.3466801954141525, 'e5': 5.992750115996329},\n",
       " {'e1': 7.111037431319054, 'e2': 5.5898995695485505, 'e3': 7.958016684236597, 'e4': 8.003271276532159, 'e5': 5.316204023021895},\n",
       " {'e1': 8.292888542877227, 'e2': 6.604965018897192, 'e3': 8.701049182717872, 'e4': 7.884662589735541, 'e5': 6.964245422245299},\n",
       " {'e1': 6.628636672191282, 'e2': 7.170602197516301, 'e3': 6.864879578907073, 'e4': 6.189867835622331, 'e5': 6.797607399086955},\n",
       " {'e1': 5.416032255298497, 'e2': 7.058565614642274, 'e3': 7.226142978067752, 'e4': 5.897726451323265, 'e5': 5.726978079996067},\n",
       " {'e1': 6.170185044487007, 'e2': 7.854590507922688, 'e3': 7.133701990095144, 'e4': 6.525968437756554, 'e5': 8.696642346847918},\n",
       " {'e1': 7.1779469952338735, 'e2': 6.813075802176089, 'e3': 6.161678593113544, 'e4': 8.006280355384597, 'e5': 5.1404700497654625},\n",
       " {'e1': 8.570560997365272, 'e2': 6.230513201538383, 'e3': 7.853396889075148, 'e4': 4.4878185266229735, 'e5': 6.8498645087995245},\n",
       " {'e1': 6.979600716232886, 'e2': 5.461781964107244, 'e3': 7.752209987980859, 'e4': 7.056065549958602, 'e5': 6.762219134801946},\n",
       " {'e1': 6.347234680032671, 'e2': 7.447445726167186, 'e3': 8.196695820197158, 'e4': 7.32446437098016, 'e5': 8.84377276019615},\n",
       " {'e1': 7.578905023316208, 'e2': 7.565534243194614, 'e3': 7.42389705427611, 'e4': 6.640993587089464, 'e5': 7.136072120946636},\n",
       " {'e1': 6.188314257732871, 'e2': 5.279472984453592, 'e3': 5.804665528687132, 'e4': 5.830604052777965, 'e5': 8.09263901464868},\n",
       " {'e1': 6.252823096228022, 'e2': 7.427814855343337, 'e3': 6.404666530787373, 'e4': 7.989087769376898, 'e5': 5.954795670421695},\n",
       " {'e1': 6.844735344379936, 'e2': 7.385051114327278, 'e3': 5.998050203559764, 'e4': 7.7414843187478795, 'e5': 5.972064843570962},\n",
       " {'e1': 8.555656855777501, 'e2': 8.164981278606831, 'e3': 6.01420619321444, 'e4': 5.719682652543874, 'e5': 7.931420162614297},\n",
       " {'e1': 6.029313497819396, 'e2': 7.892741114682311, 'e3': 6.652338481810007, 'e4': 7.455740675076013, 'e5': 6.432794574934032},\n",
       " {'e1': 8.085583514464588, 'e2': 6.461963807213054, 'e3': 7.4789913501660426, 'e4': 5.367473995664838, 'e5': 5.150870642362715},\n",
       " {'e1': 5.660696954597235, 'e2': 6.320679789661402, 'e3': 6.323588573172085, 'e4': 7.028951282269087, 'e5': 4.662575684709756},\n",
       " {'e1': 6.1507342224740045, 'e2': 7.526510543014704, 'e3': 6.335076466395386, 'e4': 6.706771058918166, 'e5': 6.568848200124524},\n",
       " {'e1': 9.490982687477736, 'e2': 5.945511859531315, 'e3': 6.0912635130467025, 'e4': 4.806036619052628, 'e5': 6.357391330578616},\n",
       " {'e1': 7.025457557136781, 'e2': 8.390022282483061, 'e3': 5.1358669729892314, 'e4': 5.7350260082435165, 'e5': 6.575253362860892},\n",
       " {'e1': 6.336818955488592, 'e2': 7.978855086817985, 'e3': 6.918108611105717, 'e4': 5.616516943849399, 'e5': 6.839828442108276},\n",
       " {'e1': 6.243601730572839, 'e2': 7.281993173922909, 'e3': 5.858057062176252, 'e4': 7.449299787781492, 'e5': 8.694236622214486},\n",
       " {'e1': 8.049649094117928, 'e2': 8.734430759152787, 'e3': 7.3699959885642725, 'e4': 8.343535455384679, 'e5': 9.382348577267466},\n",
       " {'e1': 7.065579196907723, 'e2': 6.763276397341081, 'e3': 6.408006022089541, 'e4': 6.074159294133218, 'e5': 8.332107835526317},\n",
       " {'e1': 6.422406266086667, 'e2': 8.482503846793925, 'e3': 7.610236213409037, 'e4': 7.860078613166925, 'e5': 6.17139797420137},\n",
       " {'e1': 6.276849345732614, 'e2': 5.001143331456906, 'e3': 6.5752811997095195, 'e4': 7.1621794873866165, 'e5': 6.522778937936988},\n",
       " {'e1': 6.587844595324756, 'e2': 7.293987176553799, 'e3': 7.08520882695074, 'e4': 8.38325625049783, 'e5': 8.109099888866183},\n",
       " {'e1': 6.972613033030141, 'e2': 5.202269326608474, 'e3': 6.631245501004135, 'e4': 8.261972078821067, 'e5': 5.6379421877352565},\n",
       " {'e1': 6.5259042199355815, 'e2': 5.14069877861985, 'e3': 6.029063590284624, 'e4': 7.869060732599785, 'e5': 9.37705546786038},\n",
       " {'e1': 7.222237469136933, 'e2': 6.491235679893244, 'e3': 7.517767463948879, 'e4': 9.866336260380242, 'e5': 6.978774149878256},\n",
       " {'e1': 7.754594750968996, 'e2': 6.047217854657681, 'e3': 6.869009931708908, 'e4': 5.576398686784942, 'e5': 7.782153644680791},\n",
       " {'e1': 5.596480094228891, 'e2': 6.3337152188873365, 'e3': 7.775845839102978, 'e4': 6.672854675557671, 'e5': 7.586540441089573},\n",
       " {'e1': 4.899155751475442, 'e2': 7.257085557244961, 'e3': 7.550222770675054, 'e4': 8.670115081700645, 'e5': 7.945936595897393},\n",
       " {'e1': 6.853577013000236, 'e2': 6.757489450884404, 'e3': 6.920579951334548, 'e4': 6.003392118909243, 'e5': 5.60108990313824},\n",
       " {'e1': 4.235305402316015, 'e2': 8.218004632105796, 'e3': 5.739929854178443, 'e4': 5.224914831124158, 'e5': 7.0197721876656916},\n",
       " {'e1': 6.9840149797286415, 'e2': 7.600797089215822, 'e3': 8.132609558902093, 'e4': 8.09599021298252, 'e5': 7.1350431823477924},\n",
       " {'e1': 5.332248899585121, 'e2': 6.859950275194523, 'e3': 6.708650016302652, 'e4': 6.373832778369278, 'e5': 5.931632832667455},\n",
       " {'e1': 8.64262415713642, 'e2': 3.7785671301151087, 'e3': 6.329689036089778, 'e4': 6.765471172479978, 'e5': 8.39153691278981},\n",
       " {'e1': 6.874042313714199, 'e2': 8.399222566281383, 'e3': 9.170686945586596, 'e4': 6.4033737926141185, 'e5': 6.734800830575104},\n",
       " {'e1': 5.828596058618983, 'e2': 9.359424029378381, 'e3': 6.22429735211104, 'e4': 8.155837553109356, 'e5': 6.845584924424171},\n",
       " {'e1': 6.342680829212678, 'e2': 7.499039082017685, 'e3': 7.699632081765106, 'e4': 8.601954490283966, 'e5': 7.012927270293823},\n",
       " {'e1': 7.457953461723431, 'e2': 7.181787099867558, 'e3': 8.287176252762631, 'e4': 5.238618234780903, 'e5': 6.28943057683743},\n",
       " {'e1': 5.351300474121857, 'e2': 7.267186804109333, 'e3': 5.887644114446467, 'e4': 6.933188407143199, 'e5': 8.115962061389178},\n",
       " {'e1': 7.586539692893102, 'e2': 9.39540881907904, 'e3': 5.5465880763721, 'e4': 7.428147751896967, 'e5': 4.29905003906352},\n",
       " {'e1': 5.595071949336914, 'e2': 6.865393247452045, 'e3': 5.48672069265644, 'e4': 7.578202348014689, 'e5': 8.566315405356024},\n",
       " {'e1': 6.603009875510779, 'e2': 8.324434174386376, 'e3': 7.8033403765463865, 'e4': 6.903932349358464, 'e5': 6.413314841565521},\n",
       " {'e1': 7.351642670741333, 'e2': 6.818421620159763, 'e3': 6.093402088897432, 'e4': 5.6917455729180855, 'e5': 5.48515012798237},\n",
       " {'e1': 6.706157783459396, 'e2': 7.4892729871412556, 'e3': 9.067663490110037, 'e4': 7.740366566976269, 'e5': 6.376795429808768},\n",
       " {'e1': 4.737697170593387, 'e2': 6.824450347002848, 'e3': 7.00554639178708, 'e4': 7.768105251645217, 'e5': 8.393645541173063},\n",
       " {'e1': 8.341991301993382, 'e2': 6.768511515941756, 'e3': 5.895499308450376, 'e4': 8.00199743084752, 'e5': 7.1710417009565885},\n",
       " {'e1': 5.706607132047545, 'e2': 6.424119098851725, 'e3': 8.471420392019185, 'e4': 6.3341047776506, 'e5': 7.081853412297839},\n",
       " {'e1': 5.886450518690337, 'e2': 6.783696747159055, 'e3': 8.77725259430241, 'e4': 7.134153936617431, 'e5': 5.688303240617474},\n",
       " {'e1': 7.415134080289894, 'e2': 5.444528069406626, 'e3': 5.894779896434497, 'e4': 6.066688669788468, 'e5': 6.255545598526541},\n",
       " {'e1': 7.957102215162971, 'e2': 7.455110342370481, 'e3': 6.575262384036304, 'e4': 5.844103912725098, 'e5': 6.021302988475445},\n",
       " {'e1': 7.65557466605336, 'e2': 6.995002063177182, 'e3': 7.270889849044168, 'e4': 7.736753913354843, 'e5': 4.104927689762322},\n",
       " {'e1': 8.222815698170454, 'e2': 6.454350821718452, 'e3': 8.918612676342029, 'e4': 8.522099904580452, 'e5': 6.388124054308213},\n",
       " {'e1': 8.19167725753867, 'e2': 4.783232384010278, 'e3': 6.4295925873979565, 'e4': 6.525671668724693, 'e5': 8.814163288183419},\n",
       " {'e1': 5.405326882851824, 'e2': 6.777252310706576, 'e3': 7.378036352382219, 'e4': 8.948770165186652, 'e5': 5.307149289595554},\n",
       " {'e1': 7.22373903859844, 'e2': 7.67174207262233, 'e3': 6.373199222049632, 'e4': 6.855193031859258, 'e5': 7.291920229324883},\n",
       " {'e1': 6.7975375193695715, 'e2': 6.921062446140366, 'e3': 7.8228951511167315, 'e4': 8.685873092014424, 'e5': 6.861686245068569},\n",
       " {'e1': 5.831889858641384, 'e2': 8.344022353245364, 'e3': 6.583404467103869, 'e4': 6.008961192364787, 'e5': 6.665833358411525},\n",
       " {'e1': 6.883409058734307, 'e2': 7.894219074808448, 'e3': 6.612353593548042, 'e4': 6.1146919213157975, 'e5': 5.65372711098004},\n",
       " {'e1': 6.112163154016268, 'e2': 7.207197529138343, 'e3': 7.7029164472781755, 'e4': 6.330266154462043, 'e5': 7.390496713650826},\n",
       " {'e1': 7.241325310659688, 'e2': 7.588027713619351, 'e3': 5.883843214124627, 'e4': 7.625197076419054, 'e5': 6.173049491030224},\n",
       " {'e1': 8.281460796316475, 'e2': 7.236252128697601, 'e3': 9.584725488210784, 'e4': 5.775721075794751, 'e5': 6.68493061522237},\n",
       " {'e1': 8.21509891624022, 'e2': 7.01802970689776, 'e3': 6.938120793994413, 'e4': 8.010191131945671, 'e5': 7.261694016838184},\n",
       " {'e1': 7.658923363236541, 'e2': 7.141623652639506, 'e3': 5.713235128119145, 'e4': 5.499031325562728, 'e5': 6.712966650281491},\n",
       " {'e1': 9.417132081215154, 'e2': 6.645729284155177, 'e3': 7.8591106440428735, 'e4': 7.997365168379271, 'e5': 5.855105434773059},\n",
       " {'e1': 5.975198325004016, 'e2': 5.532120563049152, 'e3': 7.098285330218997, 'e4': 8.46283347996388, 'e5': 7.716714560273908},\n",
       " {'e1': 7.133735513948099, 'e2': 7.585857196522182, 'e3': 5.850574074935418, 'e4': 9.482002819077398, 'e5': 6.11332269671849},\n",
       " {'e1': 6.033138113983628, 'e2': 7.883744161424514, 'e3': 7.294594814226872, 'e4': 6.4890212346443095, 'e5': 6.622507820416075},\n",
       " {'e1': 6.343990254315804, 'e2': 6.122277008817054, 'e3': 5.113691693529737, 'e4': 5.311463161106612, 'e5': 8.250529000350594},\n",
       " {'e1': 5.837601352782815, 'e2': 6.112274128870796, 'e3': 5.784586243694303, 'e4': 7.888930611167607, 'e5': 5.485270992148877},\n",
       " {'e1': 7.366483058759794, 'e2': 7.211169798972961, 'e3': 6.084331300111583, 'e4': 6.146631280068931, 'e5': 5.539155109239584},\n",
       " {'e1': 6.9718757145133, 'e2': 6.023668148334834, 'e3': 5.408324755942652, 'e4': 9.55875054971542, 'e5': 7.14356091197456},\n",
       " {'e1': 6.131268699633516, 'e2': 7.615616612232854, 'e3': 9.627350107470784, 'e4': 7.244188160148635, 'e5': 6.687490533392806},\n",
       " {'e1': 6.402609877027947, 'e2': 5.961320785978961, 'e3': 8.356416157685889, 'e4': 4.899713689515136, 'e5': 6.412395460582954},\n",
       " {'e1': 6.569007839445244, 'e2': 9.416275873236515, 'e3': 6.6015037316191, 'e4': 8.21379614875792, 'e5': 6.125473162744808},\n",
       " {'e1': 7.953848797630032, 'e2': 8.230068733157017, 'e3': 7.677397145968879, 'e4': 6.562694603527845, 'e5': 6.976677987836861},\n",
       " {'e1': 4.332494129315929, 'e2': 7.986865148613739, 'e3': 6.617638232534701, 'e4': 7.666641745588793, 'e5': 5.316025967024392},\n",
       " {'e1': 8.221917309582219, 'e2': 7.143738284012759, 'e3': 5.981818580913065, 'e4': 5.398943865534246, 'e5': 7.22143612303611},\n",
       " {'e1': 6.124028222853342, 'e2': 5.426744315753217, 'e3': 5.635894376012058, 'e4': 7.862099391203881, 'e5': 6.806267881646158},\n",
       " {'e1': 7.497411981653854, 'e2': 5.585485056614048, 'e3': 5.217797445768728, 'e4': 6.263618683409658, 'e5': 8.342040004348911},\n",
       " {'e1': 7.837959955731387, 'e2': 7.271808208386689, 'e3': 6.479363481595954, 'e4': 6.664468566957721, 'e5': 6.079607639665665},\n",
       " {'e1': 5.928599147693794, 'e2': 5.770358733615742, 'e3': 7.515882570903759, 'e4': 8.829945568943447, 'e5': 9.670081801976716},\n",
       " {'e1': 6.6456354113802, 'e2': 8.133879643309323, 'e3': 5.210408069355181, 'e4': 7.575114351510868, 'e5': 7.7624628678164544},\n",
       " {'e1': 7.321256753779451, 'e2': 7.747584906616009, 'e3': 6.96127184159857, 'e4': 7.672342356383182, 'e5': 5.896577824364582},\n",
       " {'e1': 7.303168313162437, 'e2': 6.508428770315794, 'e3': 6.3402688946622305, 'e4': 7.4905528882963885, 'e5': 6.011194802550995},\n",
       " {'e1': 7.355022231540015, 'e2': 7.618820886548954, 'e3': 5.19996049458098, 'e4': 8.220632865421, 'e5': 9.263208891812184},\n",
       " {'e1': 6.353102215198203, 'e2': 8.554402208243319, 'e3': 8.145180414827964, 'e4': 5.470971503507682, 'e5': 5.519604098038835},\n",
       " {'e1': 5.267099859755161, 'e2': 8.963019959270595, 'e3': 9.551950050594042, 'e4': 10.356569023957661, 'e5': 6.08430403271927},\n",
       " {'e1': 6.353798382613737, 'e2': 6.7293216859609375, 'e3': 6.141375808243117, 'e4': 6.558419844637561, 'e5': 8.000200075295666},\n",
       " {'e1': 6.644832198879461, 'e2': 5.18110958262623, 'e3': 6.231531307935752, 'e4': 6.979374474559868, 'e5': 5.391711880763921},\n",
       " {'e1': 7.515658042926671, 'e2': 6.021451126282782, 'e3': 7.587055178792265, 'e4': 6.734247158487688, 'e5': 6.377093593465191},\n",
       " {'e1': 7.43120941672298, 'e2': 5.520918928599102, 'e3': 8.821298286513821, 'e4': 6.548730836725515, 'e5': 5.600130829501039},\n",
       " {'e1': 8.41310373300323, 'e2': 7.809189788044366, 'e3': 6.296845324407305, 'e4': 6.810554790237608, 'e5': 7.439400705930331},\n",
       " {'e1': 7.260333558599463, 'e2': 8.163874572679667, 'e3': 7.52129470731531, 'e4': 7.727604744488504, 'e5': 8.968830891617998},\n",
       " {'e1': 7.182468800261257, 'e2': 7.5796691672130905, 'e3': 5.197420775079472, 'e4': 4.975805169930565, 'e5': 8.469690872826233},\n",
       " {'e1': 8.378273805656468, 'e2': 8.1833439712443, 'e3': 6.821387976958786, 'e4': 6.2293046180424705, 'e5': 7.11140327706914},\n",
       " {'e1': 5.28219969701693, 'e2': 8.049674196131123, 'e3': 7.159613532658847, 'e4': 9.324313441550315, 'e5': 7.301068190328742},\n",
       " {'e1': 8.516224122964307, 'e2': 6.159526644726068, 'e3': 7.072932481864099, 'e4': 6.843168583122264, 'e5': 7.253973616281985},\n",
       " {'e1': 8.160684175401387, 'e2': 9.457721941645826, 'e3': 6.312090235739627, 'e4': 7.231301121037152, 'e5': 8.316096616056335},\n",
       " {'e1': 8.05166156402237, 'e2': 6.812863409115619, 'e3': 9.170456174529876, 'e4': 7.681978562467636, 'e5': 7.268145978645229},\n",
       " {'e1': 5.428766566340639, 'e2': 6.029492250927848, 'e3': 7.049230371571171, 'e4': 5.298359210134521, 'e5': 8.251866967460947},\n",
       " {'e1': 6.903793321181546, 'e2': 8.36066394140065, 'e3': 6.586778468362893, 'e4': 5.015321672513824, 'e5': 7.809909502573604},\n",
       " {'e1': 8.429261800710718, 'e2': 7.4022792931404275, 'e3': 9.1553827966765, 'e4': 7.344250177743829, 'e5': 8.289020154170698},\n",
       " {'e1': 8.136882501950847, 'e2': 6.55981248160336, 'e3': 7.557812628763196, 'e4': 7.856988747527401, 'e5': 8.446790990753602},\n",
       " {'e1': 7.844760319128533, 'e2': 5.861913524519544, 'e3': 6.758825829669542, 'e4': 8.49768779255654, 'e5': 8.085465771861701},\n",
       " {'e1': 9.247150431252711, 'e2': 6.64449704146439, 'e3': 9.013551216242293, 'e4': 5.625445754581508, 'e5': 7.064182529487887},\n",
       " {'e1': 8.533019072656705, 'e2': 7.623977178999416, 'e3': 6.49071538171445, 'e4': 5.69834219282446, 'e5': 6.592075202092659},\n",
       " {'e1': 5.609125047120855, 'e2': 6.152801793556594, 'e3': 8.12195406842877, 'e4': 6.915379933062737, 'e5': 7.766142722637215},\n",
       " {'e1': 6.419330491796935, 'e2': 6.3764554991208655, 'e3': 8.371867114880638, 'e4': 6.24996873650014, 'e5': 6.726451447786336},\n",
       " {'e1': 5.691198042551067, 'e2': 6.442395410352337, 'e3': 7.768116707468868, 'e4': 7.235351775852817, 'e5': 6.501854230666997},\n",
       " {'e1': 8.314721286562655, 'e2': 6.270732736020086, 'e3': 6.978756141122193, 'e4': 7.251153302385569, 'e5': 5.820653841438766},\n",
       " {'e1': 8.171188440192815, 'e2': 6.115535846294813, 'e3': 8.201283894876815, 'e4': 8.038436539526241, 'e5': 6.076701003576819},\n",
       " {'e1': 7.8188020953302955, 'e2': 5.491748921909693, 'e3': 7.777095810611684, 'e4': 6.796995486522054, 'e5': 7.598974610644794},\n",
       " {'e1': 7.744301410523082, 'e2': 8.967500014382162, 'e3': 7.005346081979427, 'e4': 6.298992107716203, 'e5': 6.717789983739792},\n",
       " {'e1': 4.749738793125977, 'e2': 6.61786437988429, 'e3': 8.331704759876601, 'e4': 7.134505773956956, 'e5': 7.103257048866387},\n",
       " {'e1': 7.5055152180740645, 'e2': 7.271053053589943, 'e3': 9.001546260623607, 'e4': 6.298637487755361, 'e5': 7.912262304282494},\n",
       " {'e1': 7.080505477942216, 'e2': 7.942441457355915, 'e3': 7.317805729426599, 'e4': 8.81734481146934, 'e5': 9.436108196831759},\n",
       " {'e1': 6.693972360190072, 'e2': 7.721805035227634, 'e3': 7.831540537474557, 'e4': 7.101963513037379, 'e5': 6.429291357279154},\n",
       " {'e1': 7.9388235919235415, 'e2': 7.747342071053218, 'e3': 6.962618003952602, 'e4': 6.361278624419079, 'e5': 7.959723618617016},\n",
       " {'e1': 6.091268834446707, 'e2': 7.6722662969449, 'e3': 8.964246609342235, 'e4': 7.260119772705717, 'e5': 7.586010359098782},\n",
       " {'e1': 6.093692506678195, 'e2': 8.541353260817893, 'e3': 8.518306411604069, 'e4': 9.49744109537206, 'e5': 6.722285530057744},\n",
       " {'e1': 5.514135386262229, 'e2': 8.084596747671064, 'e3': 6.044508867596421, 'e4': 8.868673362696141, 'e5': 5.547024125052319},\n",
       " {'e1': 6.08534418851087, 'e2': 7.1356747255499, 'e3': 7.3684128571202105, 'e4': 7.289982869774681, 'e5': 7.362018733971353},\n",
       " {'e1': 7.092179545584315, 'e2': 6.0483756003331965, 'e3': 8.100323867025313, 'e4': 6.868978020629904, 'e5': 5.928239203014501},\n",
       " {'e1': 6.812450824560668, 'e2': 6.345277127101123, 'e3': 6.381974781009574, 'e4': 7.143802139070315, 'e5': 7.569859977195834},\n",
       " {'e1': 6.063944027041684, 'e2': 7.561617620861632, 'e3': 8.351936739200962, 'e4': 5.370988805717859, 'e5': 6.93975948877457},\n",
       " {'e1': 8.617382464172838, 'e2': 7.762741002663621, 'e3': 7.1250239937651045, 'e4': 6.723917545422568, 'e5': 6.697263323636507},\n",
       " {'e1': 6.584691924400035, 'e2': 5.500871962707767, 'e3': 7.950463138052269, 'e4': 8.328406139622341, 'e5': 5.432099607028785},\n",
       " {'e1': 8.056647260587212, 'e2': 4.719568371370556, 'e3': 6.922496625735381, 'e4': 4.783556889127625, 'e5': 6.032834356004125},\n",
       " {'e1': 5.0295151871465675, 'e2': 7.338755973745169, 'e3': 7.834762067671193, 'e4': 7.370596268121068, 'e5': 6.811259930352274},\n",
       " {'e1': 6.128994239683247, 'e2': 9.970209392450357, 'e3': 7.708178331476063, 'e4': 8.125580705070915, 'e5': 6.687265520033349},\n",
       " {'e1': 7.747971699983929, 'e2': 5.5053517007328985, 'e3': 8.370142690637213, 'e4': 7.417148109775592, 'e5': 8.006426065674171},\n",
       " {'e1': 7.581614446347796, 'e2': 9.063879611694881, 'e3': 7.3313367503657245, 'e4': 6.241167914586707, 'e5': 6.701710131716896},\n",
       " {'e1': 7.2446180382941066, 'e2': 6.762095318599129, 'e3': 7.5853233812005705, 'e4': 6.1407246560210345, 'e5': 8.498219213461939},\n",
       " {'e1': 5.471727678814087, 'e2': 5.825812347818291, 'e3': 8.177655770338303, 'e4': 6.321834915627214, 'e5': 5.741103836531244},\n",
       " {'e1': 6.933227551342563, 'e2': 7.556370794398502, 'e3': 7.9759448597944615, 'e4': 7.283321975858942, 'e5': 7.426595871010535},\n",
       " {'e1': 5.114457670268102, 'e2': 7.39603539360383, 'e3': 8.000596573754025, 'e4': 6.467085940915588, 'e5': 5.747815322333714},\n",
       " {'e1': 8.789069159304539, 'e2': 7.247697593708853, 'e3': 8.148073036345824, 'e4': 6.763347981811661, 'e5': 7.555712887043153},\n",
       " {'e1': 7.2378292945906955, 'e2': 6.876675206014363, 'e3': 5.898449574837876, 'e4': 8.052346548082221, 'e5': 7.426869773559106},\n",
       " {'e1': 5.385187068546877, 'e2': 7.2288067141661285, 'e3': 8.690422201195553, 'e4': 5.622453507866413, 'e5': 6.3746815739827865},\n",
       " {'e1': 6.003092507810756, 'e2': 6.625162387359028, 'e3': 6.848929783976447, 'e4': 6.831721991210743, 'e5': 7.237765750695456},\n",
       " {'e1': 5.979115748915901, 'e2': 8.337895306390177, 'e3': 7.725242249156909, 'e4': 7.290274245957914, 'e5': 7.137177573448759},\n",
       " {'e1': 5.751470235764598, 'e2': 8.137013109689343, 'e3': 6.290484876334288, 'e4': 7.793460476851268, 'e5': 7.151743826310265},\n",
       " {'e1': 9.57010033140707, 'e2': 7.60861677577396, 'e3': 8.380264523453745, 'e4': 6.965160859375718, 'e5': 5.790261864801544},\n",
       " {'e1': 7.804282621580046, 'e2': 6.244281126381457, 'e3': 9.047549437630423, 'e4': 6.469985166818794, 'e5': 7.125639909615343},\n",
       " {'e1': 7.208838705582482, 'e2': 6.624673796747972, 'e3': 8.631955231794002, 'e4': 8.319478690232366, 'e5': 5.849069868960116},\n",
       " {'e1': 7.732829395108778, 'e2': 6.17943161199165, 'e3': 9.480875455519856, 'e4': 9.07378337502571, 'e5': 7.802068174876688},\n",
       " {'e1': 5.972518651691732, 'e2': 7.035436373226838, 'e3': 3.854493123669005, 'e4': 6.925303302085845, 'e5': 5.990504397479891},\n",
       " {'e1': 6.823592755049715, 'e2': 8.370141069574752, 'e3': 6.2360064677318725, 'e4': 6.1598581088053095, 'e5': 7.370251040982137},\n",
       " {'e1': 5.949172316361173, 'e2': 6.085627431257662, 'e3': 7.7785239179203085, 'e4': 5.475342309837612, 'e5': 6.659452101733338},\n",
       " {'e1': 7.096596842434267, 'e2': 7.022997180866326, 'e3': 5.767912748622301, 'e4': 7.146922187202511, 'e5': 8.259886196717936},\n",
       " {'e1': 6.479562466526479, 'e2': 7.332298222695259, 'e3': 6.916241704720174, 'e4': 6.884107742077278, 'e5': 7.682630278584298},\n",
       " {'e1': 7.8821074976512655, 'e2': 6.828761384275542, 'e3': 7.628685070820347, 'e4': 4.7191752586787326, 'e5': 8.371393166985913},\n",
       " {'e1': 8.193871025663565, 'e2': 5.894073722619338, 'e3': 7.096739264687859, 'e4': 6.592417340727438, 'e5': 8.442836455865057},\n",
       " {'e1': 7.0323043378603085, 'e2': 7.161774328370636, 'e3': 8.35983991654318, 'e4': 8.492717392671015, 'e5': 7.630100147590676},\n",
       " {'e1': 6.956481544163918, 'e2': 6.433565011073226, 'e3': 7.561578414539761, 'e4': 7.138414740490296, 'e5': 6.412993986295033},\n",
       " {'e1': 6.126214405374341, 'e2': 7.186186033498088, 'e3': 5.906870935601476, 'e4': 6.780368744414271, 'e5': 6.256276514173686},\n",
       " {'e1': 5.931866144137118, 'e2': 4.781788372108026, 'e3': 6.246278418656923, 'e4': 6.764552806925805, 'e5': 4.611261676238488},\n",
       " {'e1': 8.404994565416164, 'e2': 8.799530517529641, 'e3': 6.073714252140782, 'e4': 7.454577681082618, 'e5': 7.520714746109123},\n",
       " {'e1': 8.575598324805355, 'e2': 7.240080632650953, 'e3': 8.597997448336017, 'e4': 7.044226852304923, 'e5': 8.707940578565687},\n",
       " {'e1': 6.379144834138604, 'e2': 8.653749603549329, 'e3': 6.272286019731816, 'e4': 7.0076234136087105, 'e5': 7.05390468584183},\n",
       " {'e1': 8.328443620866524, 'e2': 8.938860654016757, 'e3': 7.135828600057081, 'e4': 6.656576371345528, 'e5': 6.658543413336277},\n",
       " {'e1': 8.375154906250083, 'e2': 8.423709956470871, 'e3': 5.184938960619072, 'e4': 6.4878399543298535, 'e5': 7.593359325812706},\n",
       " {'e1': 5.208066003476109, 'e2': 7.26192644160191, 'e3': 5.472664720710815, 'e4': 7.483639254030868, 'e5': 7.366024162053408},\n",
       " {'e1': 5.394164715459194, 'e2': 8.729762417170171, 'e3': 6.9786543611196885, 'e4': 6.204851896924945, 'e5': 9.176878937810416},\n",
       " {'e1': 7.429968887173888, 'e2': 7.20796393764929, 'e3': 7.8273974981014565, 'e4': 7.756685852538366, 'e5': 6.678041233156949},\n",
       " {'e1': 7.721011077728607, 'e2': 8.124820412089372, 'e3': 8.385740751017101, 'e4': 6.698764931767024, 'e5': 8.288886001044109},\n",
       " {'e1': 7.385717057077012, 'e2': 7.269583748495498, 'e3': 7.74876678678142, 'e4': 9.391365034930006, 'e5': 7.486319709132988},\n",
       " {'e1': 6.703411866857596, 'e2': 8.188910081351228, 'e3': 5.09496746998683, 'e4': 7.030783032137293, 'e5': 7.186999320501876},\n",
       " {'e1': 8.829975619768751, 'e2': 6.223640001046975, 'e3': 7.204411173465668, 'e4': 3.9568642498175093, 'e5': 5.449701155406294},\n",
       " {'e1': 8.542256173391959, 'e2': 5.926371014226593, 'e3': 5.6919865922697825, 'e4': 6.1900112603526, 'e5': 6.052998658477718},\n",
       " {'e1': 5.5432644234826975, 'e2': 5.897770724362139, 'e3': 6.8881116816878505, 'e4': 6.897720311444642, 'e5': 7.109423151803045},\n",
       " {'e1': 8.015082560171209, 'e2': 5.308448428148044, 'e3': 5.860617329251399, 'e4': 7.422767251535997, 'e5': 7.901706373551225},\n",
       " {'e1': 7.972569654295216, 'e2': 6.886886072263425, 'e3': 6.818692644143036, 'e4': 7.05930154976179, 'e5': 7.633209088991862},\n",
       " {'e1': 8.754207527412701, 'e2': 6.242179749051121, 'e3': 5.8348377030626315, 'e4': 6.683850686834269, 'e5': 8.205189545680422},\n",
       " {'e1': 7.0547237280605675, 'e2': 6.117506513255647, 'e3': 9.309609294275308, 'e4': 6.663225180280385, 'e5': 6.761424741733806},\n",
       " {'e1': 7.639747971406436, 'e2': 6.448004036413476, 'e3': 6.2726938875779945, 'e4': 6.738575345821036, 'e5': 5.288130939468288},\n",
       " {'e1': 5.3732505043281975, 'e2': 5.8177756298995895, 'e3': 6.697490224929352, 'e4': 5.676394291156211, 'e5': 5.640848916430147},\n",
       " {'e1': 5.244807665846052, 'e2': 6.2313712110489154, 'e3': 6.487896698613306, 'e4': 7.864577383464625, 'e5': 5.630664663927181},\n",
       " {'e1': 7.360282360325996, 'e2': 7.069088614739876, 'e3': 4.340484393706172, 'e4': 5.787785797967959, 'e5': 10.066034982831782},\n",
       " {'e1': 6.89075282936709, 'e2': 6.70029585870444, 'e3': 6.434130626533096, 'e4': 5.765392555189831, 'e5': 7.561599155886112},\n",
       " {'e1': 6.598169352213345, 'e2': 8.814695384916224, 'e3': 6.350461664854514, 'e4': 5.08367497270544, 'e5': 7.620737319418319},\n",
       " {'e1': 4.648811439166609, 'e2': 7.1406490745179205, 'e3': 7.924067161600214, 'e4': 5.096425056558911, 'e5': 7.722915178659958},\n",
       " {'e1': 9.293250999352312, 'e2': 7.38889625082022, 'e3': 7.505167383405059, 'e4': 7.553725847670492, 'e5': 6.453163813851361},\n",
       " {'e1': 7.489400255385766, 'e2': 6.110057285015688, 'e3': 6.80025015076916, 'e4': 8.896616797528749, 'e5': 7.125692856157788},\n",
       " {'e1': 6.509023295058077, 'e2': 4.578402733339216, 'e3': 5.620176874846621, 'e4': 6.9814934412967276, 'e5': 8.336680820416866},\n",
       " {'e1': 7.13207531509982, 'e2': 6.226163752046633, 'e3': 8.142181511852321, 'e4': 7.916938212325166, 'e5': 6.024381687639185},\n",
       " {'e1': 7.260207376734524, 'e2': 9.512210554825236, 'e3': 7.159610718420337, 'e4': 6.441073074862356, 'e5': 8.126415745909062},\n",
       " {'e1': 7.375736267240444, 'e2': 7.123416738023946, 'e3': 5.58313751884386, 'e4': 8.130473642989902, 'e5': 6.488745746097734},\n",
       " {'e1': 5.692128787621163, 'e2': 7.167321923058805, 'e3': 6.792660008402401, 'e4': 7.635260046178725, 'e5': 6.105823077294916},\n",
       " {'e1': 7.709692500022271, 'e2': 5.37209354766825, 'e3': 6.142112638056223, 'e4': 5.666363556835091, 'e5': 7.118047573807258},\n",
       " {'e1': 6.4070772789287505, 'e2': 5.339134510126847, 'e3': 7.542660905828983, 'e4': 7.936871215679466, 'e5': 5.799853690849688},\n",
       " {'e1': 6.8006512214288195, 'e2': 7.784700866740057, 'e3': 5.87992618707163, 'e4': 7.97284447270522, 'e5': 6.448667906469819},\n",
       " {'e1': 8.488431247115324, 'e2': 8.22224465880022, 'e3': 6.241404304579711, 'e4': 6.034007001753544, 'e5': 7.536774054904947},\n",
       " {'e1': 7.0058748183997945, 'e2': 9.242953581410909, 'e3': 7.1606366591163075, 'e4': 6.28887606851235, 'e5': 6.83070871984131},\n",
       " {'e1': 7.403810479857407, 'e2': 6.902655421209698, 'e3': 7.5066679018041, 'e4': 7.353079140875562, 'e5': 7.02897300130537},\n",
       " {'e1': 6.127191388868654, 'e2': 7.0700067578866825, 'e3': 7.944991563529992, 'e4': 6.904084330821325, 'e5': 5.786568766412075},\n",
       " {'e1': 6.264383023699129, 'e2': 8.010728798153238, 'e3': 8.120188398474747, 'e4': 6.811213995450107, 'e5': 5.8765800158218235},\n",
       " {'e1': 8.384733570859328, 'e2': 6.921248267246934, 'e3': 6.235290582648259, 'e4': 6.861734341507852, 'e5': 8.083402606545656},\n",
       " {'e1': 6.368919214011903, 'e2': 7.060943856982634, 'e3': 7.791284686449492, 'e4': 5.684222148768724, 'e5': 6.443418871667042},\n",
       " {'e1': 6.28668368374453, 'e2': 7.902998343791468, 'e3': 5.265030350049496, 'e4': 5.92183359219984, 'e5': 6.350613157930386},\n",
       " {'e1': 7.362258852271107, 'e2': 6.865613663063675, 'e3': 6.357501442633262, 'e4': 7.620411590850622, 'e5': 6.592979386680059},\n",
       " {'e1': 8.572703699122776, 'e2': 8.20582357953113, 'e3': 6.201823961918212, 'e4': 7.867202045071774, 'e5': 6.318180532983629},\n",
       " {'e1': 7.856071225768428, 'e2': 7.549490770816563, 'e3': 6.1991824147529115, 'e4': 7.7517767228077865, 'e5': 6.1184450322127635},\n",
       " {'e1': 7.748999365228934, 'e2': 5.356343374996312, 'e3': 9.518561945318043, 'e4': 9.283894811563636, 'e5': 7.368847122909182},\n",
       " {'e1': 7.975695982985595, 'e2': 7.842550747275866, 'e3': 6.421858837934513, 'e4': 8.359038590404804, 'e5': 6.057266406686262},\n",
       " {'e1': 6.898775482457076, 'e2': 5.4132075757785545, 'e3': 4.980759449073226, 'e4': 10.786843822970184, 'e5': 8.16807922788088},\n",
       " {'e1': 6.9607961941569325, 'e2': 8.424798267744062, 'e3': 7.323740334613718, 'e4': 6.8138959372130214, 'e5': 5.672864517419933},\n",
       " {'e1': 7.089813994296538, 'e2': 7.346538638064712, 'e3': 6.921154901429691, 'e4': 7.437920604689731, 'e5': 7.586636485318929},\n",
       " {'e1': 8.275521012740988, 'e2': 7.76394329883908, 'e3': 7.940716285915828, 'e4': 6.937721268751985, 'e5': 7.223008277636795},\n",
       " {'e1': 6.823758297841722, 'e2': 6.777311136344149, 'e3': 6.606158071612198, 'e4': 9.164274153942623, 'e5': 6.5935727768816985},\n",
       " {'e1': 7.068417855238972, 'e2': 8.072820324262509, 'e3': 6.341304776103186, 'e4': 5.423060667541582, 'e5': 6.963544996508408},\n",
       " {'e1': 7.210231367676634, 'e2': 6.625631021182631, 'e3': 8.074093785681459, 'e4': 7.589009800660482, 'e5': 6.480880523266606},\n",
       " {'e1': 7.6674547258154515, 'e2': 8.239278304997406, 'e3': 8.473738889601806, 'e4': 8.0412969515146, 'e5': 6.542712828913902},\n",
       " {'e1': 5.987123441829427, 'e2': 6.63918001337997, 'e3': 5.226566891082932, 'e4': 7.293025454645314, 'e5': 8.647721383410527},\n",
       " {'e1': 6.365574678746182, 'e2': 8.17948238084692, 'e3': 5.745578856697242, 'e4': 7.057390632092245, 'e5': 7.479529743013828},\n",
       " {'e1': 4.074051988380187, 'e2': 6.29742275403474, 'e3': 7.7921155566223055, 'e4': 6.345295082349697, 'e5': 4.954205389956351},\n",
       " {'e1': 8.653109931244376, 'e2': 8.30221560497929, 'e3': 6.2855642189360275, 'e4': 7.5361053872521175, 'e5': 6.717801989251596},\n",
       " {'e1': 5.910657988381216, 'e2': 8.839529899713153, 'e3': 5.358168402006979, 'e4': 7.262101720626839, 'e5': 8.535419068011471},\n",
       " {'e1': 5.086225214516566, 'e2': 8.90777568551121, 'e3': 5.679985728099396, 'e4': 5.3542010473031585, 'e5': 7.233930989874663},\n",
       " {'e1': 5.9113977151950525, 'e2': 6.050440699727941, 'e3': 5.974119774108723, 'e4': 7.254026402062041, 'e5': 7.838840937201324},\n",
       " {'e1': 6.642591353898604, 'e2': 5.227898010271223, 'e3': 7.439213511756893, 'e4': 8.59618119073031, 'e5': 7.81457496113402},\n",
       " {'e1': 6.258716011470593, 'e2': 5.316883763990767, 'e3': 6.416993313241694, 'e4': 6.064095530702861, 'e5': 6.852430123756438},\n",
       " {'e1': 5.778500704210639, 'e2': 6.815158260198739, 'e3': 7.473694315610771, 'e4': 8.422359879763823, 'e5': 6.551926663415452},\n",
       " {'e1': 7.625282681638404, 'e2': 7.536667530417243, 'e3': 7.558846169544437, 'e4': 7.667676983221187, 'e5': 5.671339263584703},\n",
       " {'e1': 6.674578519015864, 'e2': 5.384290008883731, 'e3': 7.41075421964698, 'e4': 5.48333887337005, 'e5': 7.396487484342771},\n",
       " {'e1': 7.6008691736837575, 'e2': 7.083362125969403, 'e3': 6.663727874703654, 'e4': 4.750485402573862, 'e5': 5.371458687510487},\n",
       " {'e1': 6.563505130456366, 'e2': 9.337807016287757, 'e3': 8.803677812256222, 'e4': 7.288418940609565, 'e5': 5.954148252786383},\n",
       " {'e1': 5.874086107634215, 'e2': 4.986230851309422, 'e3': 6.91922606057106, 'e4': 6.9876913951385715, 'e5': 5.983779977149014},\n",
       " {'e1': 8.028066006230034, 'e2': 7.331390658892771, 'e3': 6.60587021156209, 'e4': 6.994855834103129, 'e5': 7.496249040188156},\n",
       " {'e1': 8.410835452020772, 'e2': 6.0174341962114095, 'e3': 6.87331531062983, 'e4': 5.638466275207951, 'e5': 7.546189962831723},\n",
       " {'e1': 6.979110646789336, 'e2': 7.090536701976823, 'e3': 7.160221633795289, 'e4': 7.451206490813486, 'e5': 4.055710433927515},\n",
       " {'e1': 5.911991436277362, 'e2': 6.67590339774656, 'e3': 6.877861312033168, 'e4': 5.552833014852153, 'e5': 7.334612654537649},\n",
       " {'e1': 7.106868435298328, 'e2': 5.649168794801079, 'e3': 8.411739320410893, 'e4': 6.1683977271592525, 'e5': 5.919126743240786},\n",
       " {'e1': 5.422474689410295, 'e2': 9.569833659274773, 'e3': 6.794910886989587, 'e4': 8.441714549488381, 'e5': 8.817663625179174},\n",
       " {'e1': 6.341609256839642, 'e2': 8.359942133375572, 'e3': 9.227783140808562, 'e4': 6.599787801870136, 'e5': 5.7254376339102055},\n",
       " {'e1': 5.573750359843292, 'e2': 6.26302075443954, 'e3': 6.972783244344229, 'e4': 5.548684543605874, 'e5': 5.735190587883433},\n",
       " {'e1': 6.3246195115927355, 'e2': 7.134235621854884, 'e3': 8.710296214548148, 'e4': 8.43955078669672, 'e5': 7.368340370599449},\n",
       " {'e1': 8.299099653538649, 'e2': 7.126180504286413, 'e3': 6.2989596267177195, 'e4': 6.271318123199884, 'e5': 4.4019692189766175},\n",
       " {'e1': 8.85907876512595, 'e2': 7.386655639251354, 'e3': 7.610056231715242, 'e4': 7.284117764484593, 'e5': 8.318205101210934},\n",
       " {'e1': 6.494072830023044, 'e2': 7.302733086914035, 'e3': 8.76545221669087, 'e4': 6.040041648661776, 'e5': 7.135416152502776},\n",
       " {'e1': 6.663197418033776, 'e2': 7.862708937719304, 'e3': 6.968359727964057, 'e4': 7.050252917466949, 'e5': 6.835269944811025},\n",
       " {'e1': 9.423892153739875, 'e2': 6.342087351260805, 'e3': 6.54669736210474, 'e4': 6.866333921743153, 'e5': 8.710588936460503},\n",
       " {'e1': 7.038042475303495, 'e2': 5.77498864612206, 'e3': 5.285950741735755, 'e4': 8.893071430653787, 'e5': 6.768889689761377},\n",
       " {'e1': 5.729196562903364, 'e2': 8.34650533745404, 'e3': 4.953285192373183, 'e4': 6.252373573254679, 'e5': 5.274332522284791},\n",
       " {'e1': 7.470094722267183, 'e2': 6.3526646668030065, 'e3': 6.910771003327089, 'e4': 9.778086852482126, 'e5': 6.007265456262671},\n",
       " {'e1': 7.350841584079889, 'e2': 8.792717959563872, 'e3': 7.3952066011140385, 'e4': 6.317642260594801, 'e5': 8.337685296449106},\n",
       " {'e1': 7.406337960859483, 'e2': 5.8656009068592745, 'e3': 5.219690358922795, 'e4': 4.496493140812159, 'e5': 6.8909567797024645},\n",
       " {'e1': 6.693264908921593, 'e2': 7.329315399760387, 'e3': 6.761878205151975, 'e4': 8.001418855361859, 'e5': 8.827755943635932},\n",
       " {'e1': 6.237121127469292, 'e2': 6.271010699144793, 'e3': 6.693115339207774, 'e4': 6.410367865942408, 'e5': 8.193792292419467},\n",
       " {'e1': 8.37116468325504, 'e2': 7.9074735337856215, 'e3': 4.87889128027724, 'e4': 9.117819386908407, 'e5': 6.665808967927297},\n",
       " {'e1': 7.355320801578112, 'e2': 7.466333322380816, 'e3': 6.315399623649547, 'e4': 6.992504590370337, 'e5': 7.043619190446518},\n",
       " {'e1': 7.019449695368516, 'e2': 8.41559531188341, 'e3': 6.539029255799647, 'e4': 6.877908060271186, 'e5': 6.374738880133748},\n",
       " {'e1': 6.125910809011522, 'e2': 7.888018599108916, 'e3': 6.9408691915413225, 'e4': 7.247639113327498, 'e5': 7.836755417232184},\n",
       " {'e1': 6.512873892650371, 'e2': 6.253330746285595, 'e3': 7.488881255034187, 'e4': 4.520058936875037, 'e5': 5.9244715468605715},\n",
       " {'e1': 8.342079819262164, 'e2': 5.776360066842534, 'e3': 4.742559907278775, 'e4': 6.354370487416837, 'e5': 5.85596258230945},\n",
       " {'e1': 7.136452073215237, 'e2': 6.919435185293169, 'e3': 6.111786671736117, 'e4': 5.900141607623181, 'e5': 5.420619081095594},\n",
       " {'e1': 7.391762133871688, 'e2': 5.72457904889077, 'e3': 6.467015907982637, 'e4': 5.803131447848483, 'e5': 7.909143498170521},\n",
       " {'e1': 6.731208112314765, 'e2': 7.462711621547412, 'e3': 8.617707625176239, 'e4': 6.443699316194449, 'e5': 6.799761962440528},\n",
       " {'e1': 5.36278396181902, 'e2': 5.955530585838911, 'e3': 7.274858689953641, 'e4': 6.692240998818423, 'e5': 8.651798683678344},\n",
       " {'e1': 5.609885733548916, 'e2': 7.702035793414762, 'e3': 6.251526326962568, 'e4': 6.22808995858289, 'e5': 5.958012311779648},\n",
       " {'e1': 7.439316783358391, 'e2': 7.887858492701982, 'e3': 5.740836147330177, 'e4': 7.960250934000801, 'e5': 5.046874621115446},\n",
       " {'e1': 6.274252118567406, 'e2': 5.357223117992226, 'e3': 8.07278733613628, 'e4': 6.514359766979992, 'e5': 7.455506989176083},\n",
       " {'e1': 5.964511757332377, 'e2': 6.418629400883135, 'e3': 5.546823726494861, 'e4': 7.336350106545167, 'e5': 6.432381589473662},\n",
       " {'e1': 8.152227891545424, 'e2': 7.70403286391462, 'e3': 7.568630604763962, 'e4': 4.897614700190843, 'e5': 7.277054021494774},\n",
       " {'e1': 6.635596964968122, 'e2': 8.48442258336762, 'e3': 5.801265070593093, 'e4': 8.420553425926364, 'e5': 5.587581302268676},\n",
       " {'e1': 5.097625623420136, 'e2': 7.108592073449436, 'e3': 7.744252948515362, 'e4': 6.703687043097331, 'e5': 4.832521844758127},\n",
       " {'e1': 7.811483681880241, 'e2': 6.854045535862105, 'e3': 7.863577701584942, 'e4': 6.031985306955469, 'e5': 6.985808506211196},\n",
       " {'e1': 6.21393663485548, 'e2': 6.7258778165625275, 'e3': 6.571713675095566, 'e4': 8.292457678358343, 'e5': 6.468851384296061},\n",
       " {'e1': 7.680897671039001, 'e2': 6.09467963383526, 'e3': 7.217672826586649, 'e4': 7.9724895571972905, 'e5': 5.803559460764132},\n",
       " {'e1': 7.880600669027499, 'e2': 8.954409390800127, 'e3': 7.902162681978319, 'e4': 7.174167935696318, 'e5': 8.817807425999447},\n",
       " {'e1': 8.24609742107136, 'e2': 4.564323401815018, 'e3': 9.505140576973808, 'e4': 8.39396310862415, 'e5': 6.265597618997709},\n",
       " {'e1': 7.215240061952804, 'e2': 8.222830094813684, 'e3': 7.103454934540935, 'e4': 5.259972556546539, 'e5': 7.70739473057781},\n",
       " {'e1': 6.1323076054873535, 'e2': 8.60513606084052, 'e3': 6.708786512670681, 'e4': 7.925751446968199, 'e5': 7.68646777132628},\n",
       " {'e1': 8.3676734587288, 'e2': 6.84033935386809, 'e3': 6.023051549207274, 'e4': 8.11509215866523, 'e5': 5.991575592646868},\n",
       " {'e1': 6.894356029362961, 'e2': 7.333647846068926, 'e3': 6.097972783582533, 'e4': 7.134192511400716, 'e5': 6.2371068061670885},\n",
       " {'e1': 7.09684985439012, 'e2': 7.681968525566764, 'e3': 6.8413795975506515, 'e4': 7.040771085215073, 'e5': 4.805073745455683},\n",
       " {'e1': 6.976276843142869, 'e2': 6.892422766121066, 'e3': 5.765062403540996, 'e4': 9.00078498522688, 'e5': 6.35577268869537},\n",
       " {'e1': 7.082831647044854, 'e2': 5.167099714289242, 'e3': 7.695727919106937, 'e4': 9.27765662038137, 'e5': 7.691804215907087},\n",
       " {'e1': 5.974752540922849, 'e2': 9.167675840165822, 'e3': 8.618347964137893, 'e4': 9.19716723483288, 'e5': 7.248084841565645},\n",
       " {'e1': 8.793371150641551, 'e2': 8.63978907438102, 'e3': 6.9549157183248065, 'e4': 6.537847860398855, 'e5': 7.90454883629917},\n",
       " {'e1': 6.517547283425176, 'e2': 6.318317748935753, 'e3': 6.674085277231944, 'e4': 7.113182962984819, 'e5': 9.268473709106331},\n",
       " {'e1': 7.369224991074124, 'e2': 7.0567273353490165, 'e3': 7.466720438159068, 'e4': 5.655968450705109, 'e5': 3.9119175618288136},\n",
       " {'e1': 6.453415904606327, 'e2': 6.22653175492696, 'e3': 5.01090249298872, 'e4': 8.515436062072164, 'e5': 5.614478974494059},\n",
       " {'e1': 8.743998051661086, 'e2': 6.596205162956179, 'e3': 7.58818179094835, 'e4': 6.782365661019064, 'e5': 6.696575751179876},\n",
       " {'e1': 5.891624186701352, 'e2': 4.775557139652346, 'e3': 4.879384166920603, 'e4': 4.514874998877249, 'e5': 8.438155782652439},\n",
       " {'e1': 7.934727923498603, 'e2': 6.3264224893915015, 'e3': 7.557803411395517, 'e4': 7.7414949132005475, 'e5': 7.0779034310502515},\n",
       " {'e1': 8.95587337435716, 'e2': 7.114459308789815, 'e3': 7.98715285562306, 'e4': 8.878779950415955, 'e5': 5.154496224137117},\n",
       " {'e1': 7.078892117614662, 'e2': 5.611279816900136, 'e3': 7.697100775893808, 'e4': 8.348905279055394, 'e5': 7.744643219985276},\n",
       " {'e1': 7.599598636549721, 'e2': 6.5750216516003315, 'e3': 7.24061556917, 'e4': 7.415209043239668, 'e5': 8.012609632409008},\n",
       " {'e1': 8.422620048221804, 'e2': 5.350363358576461, 'e3': 6.510223165830329, 'e4': 6.88045049837815, 'e5': 6.079160879810141},\n",
       " {'e1': 8.053548361713254, 'e2': 7.270957469676678, 'e3': 8.090098427482527, 'e4': 6.7026926930133195, 'e5': 6.274757228848918},\n",
       " {'e1': 6.399135481426036, 'e2': 6.869850310361688, 'e3': 7.901276393015096, 'e4': 6.6029466002503066, 'e5': 8.326764287933894},\n",
       " {'e1': 6.608691957379344, 'e2': 7.600884545739462, 'e3': 9.671118246400816, 'e4': 8.119465198173147, 'e5': 7.081400653492279},\n",
       " {'e1': 7.494456634908069, 'e2': 7.72578917829426, 'e3': 6.990326446216562, 'e4': 8.508723560368935, 'e5': 5.165651035663673},\n",
       " {'e1': 8.057298890581905, 'e2': 7.693054471594283, 'e3': 6.522484316565054, 'e4': 6.32220874140509, 'e5': 6.4286751444863635},\n",
       " {'e1': 7.4396036955125044, 'e2': 9.595166628219824, 'e3': 5.362881563492478, 'e4': 7.836020149051539, 'e5': 7.320323857183911},\n",
       " {'e1': 5.631420444037618, 'e2': 6.229502818533521, 'e3': 7.158852843263417, 'e4': 9.361478027570122, 'e5': 7.224560677934459},\n",
       " {'e1': 8.08683593287658, 'e2': 5.445889453330856, 'e3': 5.906248433031266, 'e4': 6.3831006177813405, 'e5': 6.223660677277587},\n",
       " {'e1': 4.591918372859857, 'e2': 7.207639851223316, 'e3': 9.29786569104318, 'e4': 6.998501545984715, 'e5': 5.838731863185135},\n",
       " {'e1': 8.6942083534947, 'e2': 6.840136673429111, 'e3': 6.063389983280251, 'e4': 8.421239536929644, 'e5': 6.960743963894523},\n",
       " {'e1': 5.068125211480892, 'e2': 6.547589179306757, 'e3': 5.7994440250704535, 'e4': 5.416823373470195, 'e5': 7.297831179714906},\n",
       " {'e1': 9.665255067487786, 'e2': 6.9998108598808635, 'e3': 6.023001227658804, 'e4': 7.90449870758607, 'e5': 4.693498695865303},\n",
       " {'e1': 6.751493259888724, 'e2': 7.609640199642896, 'e3': 6.144997318801878, 'e4': 5.408964023821969, 'e5': 7.767675487551014},\n",
       " {'e1': 8.739014161887923, 'e2': 7.389083768114949, 'e3': 5.637196706676826, 'e4': 5.922486654429784, 'e5': 8.208774724365876},\n",
       " {'e1': 7.047730275810538, 'e2': 7.965917849481945, 'e3': 5.644224015455968, 'e4': 6.6588317956151375, 'e5': 7.486710376162034},\n",
       " {'e1': 6.899001607626855, 'e2': 7.4499987609828295, 'e3': 7.327246112716555, 'e4': 7.500149993383459, 'e5': 5.892571017303103},\n",
       " {'e1': 6.7681465814496224, 'e2': 6.800371329289315, 'e3': 7.052472510919053, 'e4': 8.122419954836314, 'e5': 6.854218883103175},\n",
       " {'e1': 6.149626602309992, 'e2': 5.897195096542715, 'e3': 8.095828321677423, 'e4': 8.496021379185008, 'e5': 6.2631584894322545},\n",
       " {'e1': 5.661440969596218, 'e2': 6.891469923984776, 'e3': 8.823010416614393, 'e4': 6.479266780060448, 'e5': 5.144970410096702},\n",
       " {'e1': 6.637682960562841, 'e2': 7.670690172997949, 'e3': 5.425649847571914, 'e4': 7.572939024148855, 'e5': 6.081670362488163},\n",
       " {'e1': 6.083861280690693, 'e2': 6.999125558200687, 'e3': 6.7232813549728325, 'e4': 7.412570141291468, 'e5': 8.276121988149283},\n",
       " {'e1': 5.596925081281766, 'e2': 8.512420414033322, 'e3': 6.854042403011759, 'e4': 5.114645538716617, 'e5': 8.011209400077101},\n",
       " {'e1': 8.65714310870351, 'e2': 7.207560050618822, 'e3': 7.296390654394219, 'e4': 6.770981891755146, 'e5': 5.7613370760504345},\n",
       " {'e1': 6.345854896435238, 'e2': 6.590406390137697, 'e3': 7.092669048800831, 'e4': 4.6169061340801605, 'e5': 4.530987236753411},\n",
       " {'e1': 7.272087649326517, 'e2': 8.424869659411298, 'e3': 7.720966292780918, 'e4': 6.958884892896325, 'e5': 7.607269172179613},\n",
       " {'e1': 7.00464019513797, 'e2': 7.1800150945651255, 'e3': 6.288451966767417, 'e4': 7.03213943138821, 'e5': 6.306437607222247},\n",
       " {'e1': 6.0489201081105675, 'e2': 8.12245789583278, 'e3': 6.061042181069897, 'e4': 8.221035287989272, 'e5': 7.959942444858683},\n",
       " {'e1': 6.800366968592699, 'e2': 7.498451633083668, 'e3': 8.60492051346037, 'e4': 9.06091372947722, 'e5': 7.4759057755302365},\n",
       " {'e1': 7.992735383017082, 'e2': 8.265251379889568, 'e3': 7.1253762936837255, 'e4': 8.319233197006191, 'e5': 6.72294343601453},\n",
       " {'e1': 7.228185798317557, 'e2': 5.300311142154893, 'e3': 7.764786519965972, 'e4': 6.922845520594142, 'e5': 7.301762016646578},\n",
       " {'e1': 7.947062101185821, 'e2': 7.815100129676943, 'e3': 6.704512302355873, 'e4': 7.388309264277045, 'e5': 5.67846042708325},\n",
       " {'e1': 6.066401127872675, 'e2': 8.113755045630372, 'e3': 4.954520747266244, 'e4': 6.142510100432617, 'e5': 7.37651929176147},\n",
       " {'e1': 5.619689006825612, 'e2': 6.028751562815016, 'e3': 6.2476094781931275, 'e4': 6.7324072103932044, 'e5': 6.6940972601207775},\n",
       " {'e1': 5.284987043057063, 'e2': 5.57297229683455, 'e3': 7.592029608362607, 'e4': 7.840289933954708, 'e5': 7.044184444614911},\n",
       " {'e1': 3.9934361283706243, 'e2': 6.289818379377714, 'e3': 6.681377835098584, 'e4': 7.09415404639719, 'e5': 7.429070041832251},\n",
       " {'e1': 5.325663155116618, 'e2': 7.8220950531925535, 'e3': 5.4719882248804534, 'e4': 7.617841625451097, 'e5': 7.636148075016175},\n",
       " {'e1': 7.23139593312523, 'e2': 5.259969191297389, 'e3': 6.285397336321919, 'e4': 7.889703318134078, 'e5': 8.187906438895808},\n",
       " {'e1': 6.6616958287480355, 'e2': 8.099545092295061, 'e3': 9.762059003227813, 'e4': 7.482935124542741, 'e5': 8.350892065655882},\n",
       " {'e1': 7.479565615979248, 'e2': 8.227775829781566, 'e3': 6.068561153990989, 'e4': 7.330313516755679, 'e5': 7.044849714943465},\n",
       " {'e1': 7.435072779322657, 'e2': 7.204829310214461, 'e3': 6.640556550036694, 'e4': 5.326574159722556, 'e5': 7.397225746943976},\n",
       " {'e1': 6.692191695928105, 'e2': 6.673921641185327, 'e3': 7.214643163579338, 'e4': 8.318393341017748, 'e5': 7.9707099415805835},\n",
       " {'e1': 5.9317560056888805, 'e2': 7.958932515778601, 'e3': 9.294817266082958, 'e4': 5.984782164593152, 'e5': 7.725342648984623},\n",
       " {'e1': 6.262852753567933, 'e2': 5.087703296769963, 'e3': 6.387320777057217, 'e4': 6.495832512492595, 'e5': 6.829372385944144},\n",
       " {'e1': 6.399332449137777, 'e2': 6.909312054489805, 'e3': 7.2430996999506325, 'e4': 7.902102161896458, 'e5': 6.869463861614272},\n",
       " {'e1': 8.1946939327202, 'e2': 6.449079426466595, 'e3': 7.794064566038524, 'e4': 6.183380705191499, 'e5': 5.896578388754068},\n",
       " {'e1': 6.979679717848994, 'e2': 7.956593660234051, 'e3': 5.524137078311985, 'e4': 7.210341287719638, 'e5': 8.143653426492973},\n",
       " {'e1': 5.49553766179266, 'e2': 7.379551012722768, 'e3': 8.699632882431661, 'e4': 6.860618536933948, 'e5': 7.510094780186008},\n",
       " {'e1': 6.237210587307929, 'e2': 8.016896059919198, 'e3': 7.503120201668491, 'e4': 8.386824986612348, 'e5': 7.2249488834349105},\n",
       " {'e1': 6.13044348252128, 'e2': 5.681091657276134, 'e3': 6.7887918582828775, 'e4': 8.620089733588234, 'e5': 8.535859880215519},\n",
       " {'e1': 7.827266277174014, 'e2': 5.03899359080146, 'e3': 5.263416899553477, 'e4': 6.174388442359801, 'e5': 6.503327331149419},\n",
       " {'e1': 6.338066261361089, 'e2': 7.259826900069407, 'e3': 8.303239398432195, 'e4': 6.4355093166670665, 'e5': 5.689806449914003},\n",
       " {'e1': 7.367780251101759, 'e2': 7.282663184189772, 'e3': 8.785515208512754, 'e4': 8.397411995756189, 'e5': 7.8499978359967315},\n",
       " {'e1': 7.304258040418577, 'e2': 7.2082293894799365, 'e3': 9.002514924009198, 'e4': 4.968944877060342, 'e5': 6.0606225100946505},\n",
       " {'e1': 7.723667907820531, 'e2': 7.357489859291387, 'e3': 8.78324764167414, 'e4': 7.016758855888861, 'e5': 5.322276579994226},\n",
       " {'e1': 8.35441641278619, 'e2': 8.093426328771503, 'e3': 5.888745567083121, 'e4': 6.5684755495805485, 'e5': 6.7706016543542695},\n",
       " {'e1': 7.614897069522406, 'e2': 5.420636218984919, 'e3': 7.150277193819698, 'e4': 4.687190999845494, 'e5': 7.744368253924085},\n",
       " {'e1': 5.355949631232375, 'e2': 7.948714986909445, 'e3': 7.661354931856456, 'e4': 7.9655185392288175, 'e5': 6.823148973378994},\n",
       " {'e1': 6.579425206102458, 'e2': 8.194856628683777, 'e3': 7.211712470748366, 'e4': 8.71368060482567, 'e5': 7.6528846186865715},\n",
       " {'e1': 6.734857565696343, 'e2': 5.071221310194713, 'e3': 9.638716215159139, 'e4': 6.640286934031344, 'e5': 8.054856699600418},\n",
       " {'e1': 6.640843828380082, 'e2': 9.036032682077169, 'e3': 5.1579593120074545, 'e4': 4.716273419162636, 'e5': 7.933084853786067},\n",
       " {'e1': 7.51692045617522, 'e2': 7.52274123993387, 'e3': 6.076158160590621, 'e4': 9.598672267469238, 'e5': 6.938620129236516},\n",
       " {'e1': 6.508462632338555, 'e2': 8.07049048236143, 'e3': 6.448852430702958, 'e4': 6.812873596370288, 'e5': 7.078973422177447},\n",
       " {'e1': 6.758095398676453, 'e2': 7.062944429968152, 'e3': 6.260221573326247, 'e4': 6.897308723395212, 'e5': 7.603176807398653},\n",
       " {'e1': 6.6926913689009915, 'e2': 9.440663985999963, 'e3': 6.894968149400183, 'e4': 6.553480724465217, 'e5': 7.006591665637358},\n",
       " {'e1': 6.9123686153823884, 'e2': 7.012894880569814, 'e3': 8.632440080815888, 'e4': 6.167304664651224, 'e5': 6.074829913006248},\n",
       " {'e1': 8.077113725282405, 'e2': 6.604926847665853, 'e3': 7.0469761266860536, 'e4': 7.00351258305233, 'e5': 8.479627622618517},\n",
       " {'e1': 4.999684181847094, 'e2': 8.998362286131574, 'e3': 6.570121310989904, 'e4': 6.5545558455579895, 'e5': 8.44214471290068},\n",
       " {'e1': 7.704884690147873, 'e2': 6.775795512505982, 'e3': 7.597235476676661, 'e4': 6.5685670283064335, 'e5': 7.605753220947248},\n",
       " {'e1': 7.487284036348953, 'e2': 7.095709318839114, 'e3': 5.221882153443852, 'e4': 6.823626467037745, 'e5': 6.725100224699291},\n",
       " {'e1': 8.642434627698941, 'e2': 7.001449836113582, 'e3': 5.870371978609874, 'e4': 7.81873271105891, 'e5': 7.114903017329264},\n",
       " {'e1': 9.202592454595795, 'e2': 6.155164651547344, 'e3': 9.130768414600178, 'e4': 6.3752388942279445, 'e5': 8.354232636607195},\n",
       " {'e1': 8.620781807710781, 'e2': 5.839021645609972, 'e3': 6.102294060092627, 'e4': 8.942177183853438, 'e5': 6.51814608753457},\n",
       " {'e1': 5.769029314728426, 'e2': 5.966696712698751, 'e3': 7.07536984957889, 'e4': 5.813968918134673, 'e5': 8.52485512185806},\n",
       " {'e1': 6.433342222145418, 'e2': 7.802129571772349, 'e3': 6.465761647172775, 'e4': 9.03494986048418, 'e5': 9.346313077167693},\n",
       " {'e1': 7.0640569039808945, 'e2': 8.399731126248653, 'e3': 4.409462856852374, 'e4': 7.263143077898218, 'e5': 8.256383258610043},\n",
       " {'e1': 7.663890780798784, 'e2': 5.579762501554243, 'e3': 7.497505249737551, 'e4': 5.957594808925027, 'e5': 7.069139955572452},\n",
       " {'e1': 5.9355885035572165, 'e2': 6.975142439646006, 'e3': 6.663766625528249, 'e4': 6.65711512889817, 'e5': 6.658450322081855},\n",
       " {'e1': 6.898564474988072, 'e2': 7.500138917502614, 'e3': 8.179627812952576, 'e4': 7.0210267608049275, 'e5': 6.679353508771889},\n",
       " {'e1': 6.335227965870143, 'e2': 8.888782461316353, 'e3': 5.611885016848731, 'e4': 7.009201228284065, 'e5': 8.224831138607124},\n",
       " {'e1': 6.487248015469927, 'e2': 7.95323949469566, 'e3': 7.230782105450356, 'e4': 7.301453692056341, 'e5': 7.659322690125915},\n",
       " {'e1': 8.092007680618098, 'e2': 5.388114673306694, 'e3': 6.836693467890827, 'e4': 6.4332566038834145, 'e5': 6.457122463225134},\n",
       " {'e1': 6.073293575449172, 'e2': 7.920904772449183, 'e3': 5.905626971454304, 'e4': 7.10065202638476, 'e5': 4.880497337635368},\n",
       " {'e1': 8.15477058459952, 'e2': 6.155962984185642, 'e3': 8.009465184716714, 'e4': 8.58042877699889, 'e5': 8.404138735833161},\n",
       " {'e1': 8.409504355067636, 'e2': 7.6268816230802265, 'e3': 6.963082747431084, 'e4': 6.5873626920813555, 'e5': 6.5836693516137945},\n",
       " {'e1': 8.895758327919417, 'e2': 7.120175202421494, 'e3': 6.775529584443756, 'e4': 7.486578221709471, 'e5': 6.384915762398587},\n",
       " {'e1': 7.063359527879161, 'e2': 6.1820710584301155, 'e3': 7.231484963217793, 'e4': 8.300055542358104, 'e5': 6.257754454209193},\n",
       " {'e1': 7.852001218073046, 'e2': 7.323000898926611, 'e3': 7.609843785649889, 'e4': 8.08157501539952, 'e5': 7.4084566055853935},\n",
       " {'e1': 6.217982921075872, 'e2': 7.793749441064583, 'e3': 6.509206123820817, 'e4': 7.67650355907532, 'e5': 8.749003469515648},\n",
       " {'e1': 8.126380971300373, 'e2': 6.626123674987179, 'e3': 5.796635670818324, 'e4': 6.9417874263813495, 'e5': 6.919074915764078},\n",
       " {'e1': 7.085436922819805, 'e2': 6.809317932618282, 'e3': 6.4185300171473845, 'e4': 6.700107406848688, 'e5': 7.706025598591181},\n",
       " {'e1': 8.500702977420328, 'e2': 6.647908161510937, 'e3': 4.800181908911457, 'e4': 5.201116131924849, 'e5': 6.1601603613928955},\n",
       " {'e1': 7.554780815154395, 'e2': 7.675110473687983, 'e3': 8.445134669860652, 'e4': 7.541314394756982, 'e5': 5.102168885521968},\n",
       " {'e1': 6.231421509880172, 'e2': 7.22976229149412, 'e3': 8.459307101127614, 'e4': 7.433160991943928, 'e5': 6.663166462511012},\n",
       " {'e1': 6.4161637649604515, 'e2': 7.082718189720058, 'e3': 6.321710727515278, 'e4': 6.4192706753999955, 'e5': 6.010752313541735},\n",
       " {'e1': 5.15322857828752, 'e2': 6.6823744834133345, 'e3': 8.007734710637703, 'e4': 7.000331349197572, 'e5': 7.025623982361825},\n",
       " {'e1': 5.924418315649463, 'e2': 7.640632012477489, 'e3': 6.403704347418664, 'e4': 6.6044080907281835, 'e5': 5.429528534898889},\n",
       " {'e1': 5.692998270918042, 'e2': 8.700515965328933, 'e3': 7.648825432969201, 'e4': 6.72807096375303, 'e5': 7.385431367436189},\n",
       " {'e1': 8.248634001183449, 'e2': 7.403582073330204, 'e3': 7.369107647242305, 'e4': 6.7444126328689125, 'e5': 6.285145970385176},\n",
       " {'e1': 5.200162433190091, 'e2': 5.49150160292851, 'e3': 5.860975645168024, 'e4': 6.22898959442659, 'e5': 8.542076037127178},\n",
       " {'e1': 7.770011518039074, 'e2': 7.559055340330367, 'e3': 9.369361871415904, 'e4': 7.441928870528286, 'e5': 6.856622368766969},\n",
       " {'e1': 4.780616760203634, 'e2': 7.546896107024234, 'e3': 8.215576044683822, 'e4': 7.613142692345027, 'e5': 7.5090414485201915},\n",
       " {'e1': 9.662949123942026, 'e2': 8.310120839052148, 'e3': 8.218795312568368, 'e4': 7.38074339750179, 'e5': 8.12579267353205},\n",
       " {'e1': 6.140063474184345, 'e2': 9.07851080294632, 'e3': 8.337387117705077, 'e4': 6.312750036368359, 'e5': 7.805067141923285},\n",
       " {'e1': 7.9915871097125, 'e2': 8.540729070693406, 'e3': 7.014279436464499, 'e4': 6.63370972182344, 'e5': 6.008418267082693},\n",
       " {'e1': 7.457766291557969, 'e2': 8.133241047257235, 'e3': 7.307670799234595, 'e4': 7.158095921716388, 'e5': 6.911169178861065},\n",
       " {'e1': 9.076079344738796, 'e2': 7.529317437968524, 'e3': 7.367354831200637, 'e4': 6.066978747565976, 'e5': 6.090557845092371},\n",
       " {'e1': 5.357775653593956, 'e2': 7.892585196445236, 'e3': 7.029951801325879, 'e4': 8.498546517767394, 'e5': 6.998224586903205},\n",
       " {'e1': 6.038482291636959, 'e2': 8.274883036101032, 'e3': 7.241866689317443, 'e4': 7.565171838111612, 'e5': 5.98293068196272},\n",
       " {'e1': 5.1446602968669914, 'e2': 7.754636275526185, 'e3': 6.3797358531824955, 'e4': 7.739929626229559, 'e5': 8.28909516955981},\n",
       " {'e1': 7.608595941240722, 'e2': 8.122945116086548, 'e3': 5.714328717172351, 'e4': 7.847099362927189, 'e5': 9.345080759389017},\n",
       " {'e1': 8.91960803599049, 'e2': 7.7240901020154435, 'e3': 6.707670134370229, 'e4': 7.04821761973271, 'e5': 7.245483164846635},\n",
       " {'e1': 8.146918763666491, 'e2': 6.934674039893778, 'e3': 6.936217088042755, 'e4': 5.565045513262059, 'e5': 6.991696974480333},\n",
       " {'e1': 8.263962082685456, 'e2': 5.994927565582736, 'e3': 5.937170295956739, 'e4': 5.921496517239257, 'e5': 6.4135464271471765},\n",
       " {'e1': 9.005621678111702, 'e2': 8.110091209675645, 'e3': 8.492204061837567, 'e4': 8.819666123431844, 'e5': 5.811041543388916},\n",
       " {'e1': 5.22070998780084, 'e2': 6.716250708685273, 'e3': 7.7254700275852075, 'e4': 6.646865958952762, 'e5': 5.644526701752197},\n",
       " {'e1': 5.997684335529651, 'e2': 7.427899191430566, 'e3': 7.061014432842697, 'e4': 6.269509271356117, 'e5': 7.295012837517651},\n",
       " {'e1': 6.896371136215002, 'e2': 6.195616437248732, 'e3': 7.4209431936886014, 'e4': 7.107181705953483, 'e5': 9.50599171595094},\n",
       " {'e1': 6.756576829495294, 'e2': 9.505604962348041, 'e3': 4.885578493281537, 'e4': 7.237208675807204, 'e5': 7.0760218317099515},\n",
       " {'e1': 7.878419098076673, 'e2': 6.860989910393604, 'e3': 8.762812469398995, 'e4': 6.51371385554021, 'e5': 8.53308580148337},\n",
       " {'e1': 7.479966160100412, 'e2': 5.887781008882445, 'e3': 5.1984873716757996, 'e4': 7.364231207892121, 'e5': 7.402828997472422},\n",
       " {'e1': 5.367693311553305, 'e2': 7.453315287007657, 'e3': 5.847222321443967, 'e4': 5.5234092030712825, 'e5': 6.813422546117589},\n",
       " {'e1': 5.761020302863701, 'e2': 9.204026681231502, 'e3': 8.976718916782279, 'e4': 8.960485765047155, 'e5': 7.847455325947569},\n",
       " {'e1': 5.980909748505205, 'e2': 7.175226407386103, 'e3': 6.222722005057874, 'e4': 5.484155441781282, 'e5': 5.836495329674451},\n",
       " {'e1': 6.565072945292723, 'e2': 8.119514474430433, 'e3': 6.933908216051292, 'e4': 6.7315510991140926, 'e5': 7.254996794745063},\n",
       " {'e1': 8.200714874259686, 'e2': 7.2031797046689165, 'e3': 6.321699046655502, 'e4': 5.331125283382511, 'e5': 8.646700298970778},\n",
       " {'e1': 5.898284576518638, 'e2': 4.833661408118775, 'e3': 9.343198385899262, 'e4': 6.81025785773495, 'e5': 5.390703312965318},\n",
       " {'e1': 6.591633289056666, 'e2': 6.297120081250046, 'e3': 8.028963650890786, 'e4': 6.384154568415327, 'e5': 6.304178709773026},\n",
       " {'e1': 5.598033011059225, 'e2': 7.691772365428576, 'e3': 5.0987381197421575, 'e4': 7.87986116994153, 'e5': 5.861823252062768},\n",
       " {'e1': 6.973825808110062, 'e2': 6.871658279812996, 'e3': 7.375647406568404, 'e4': 4.406123440719368, 'e5': 5.825489999239039},\n",
       " {'e1': 6.533544020275093, 'e2': 6.8654575866763485, 'e3': 8.40540466184654, 'e4': 6.987846957067026, 'e5': 6.573786362023351},\n",
       " {'e1': 5.030644793225833, 'e2': 6.723879097098865, 'e3': 5.5727578779451505, 'e4': 6.6091236155560935, 'e5': 6.290646515922601},\n",
       " {'e1': 5.208395364673864, 'e2': 8.189500888968142, 'e3': 6.56476634482998, 'e4': 7.831907970695118, 'e5': 7.460790671311991},\n",
       " {'e1': 8.442592497630786, 'e2': 7.4335523327583815, 'e3': 8.100471825476163, 'e4': 6.629922632985319, 'e5': 8.366698159644281},\n",
       " {'e1': 7.1549954727521685, 'e2': 7.17094690674359, 'e3': 8.241657347500905, 'e4': 7.075931001248373, 'e5': 7.963386110924246},\n",
       " {'e1': 5.926989778919699, 'e2': 7.300512736918254, 'e3': 7.414513511611628, 'e4': 8.556769299713622, 'e5': 7.373086607233484},\n",
       " {'e1': 5.636589646803081, 'e2': 8.029402625941332, 'e3': 5.748881010320127, 'e4': 7.342156012772935, 'e5': 7.6126680781585945},\n",
       " {'e1': 5.554909176161582, 'e2': 6.48614786050399, 'e3': 6.711973140237928, 'e4': 8.59373506907459, 'e5': 6.998619281923242},\n",
       " {'e1': 4.633838919635313, 'e2': 8.945459271337526, 'e3': 6.89737286117575, 'e4': 5.944678595541401, 'e5': 5.131155661861917},\n",
       " {'e1': 8.963680312328552, 'e2': 6.34465886511945, 'e3': 8.55658294839932, 'e4': 6.885630564551733, 'e5': 5.591736792473018},\n",
       " {'e1': 9.606681166904242, 'e2': 7.221652709858921, 'e3': 6.75178052182082, 'e4': 6.7074033325596725, 'e5': 7.540670195106732},\n",
       " {'e1': 6.257648826513229, 'e2': 6.936168532541981, 'e3': 7.643590409641271, 'e4': 8.166760889061784, 'e5': 8.779103013378782},\n",
       " {'e1': 8.083477148877849, 'e2': 5.71023287502316, 'e3': 9.813768932369754, 'e4': 7.157813791206861, 'e5': 5.562019631714365},\n",
       " {'e1': 7.448568453799402, 'e2': 6.078235913622326, 'e3': 7.23521239088397, 'e4': 8.263339170875277, 'e5': 7.7568752372929035},\n",
       " {'e1': 7.832778434537509, 'e2': 7.124240251137376, 'e3': 8.107755496579609, 'e4': 7.618875073515412, 'e5': 7.835660409702497},\n",
       " {'e1': 4.564617771301734, 'e2': 5.650455494132398, 'e3': 7.700783659923255, 'e4': 7.276649488902448, 'e5': 8.869897286376512},\n",
       " {'e1': 7.14431633689048, 'e2': 7.624271291151779, 'e3': 7.628436548086691, 'e4': 6.5477222834671425, 'e5': 7.985139995954679},\n",
       " {'e1': 7.675828303531539, 'e2': 6.084534303288378, 'e3': 7.439423788508712, 'e4': 7.330140550101326, 'e5': 5.6845626399527465},\n",
       " {'e1': 6.606432514931783, 'e2': 9.419894450315034, 'e3': 5.5990249152329685, 'e4': 7.531261992695867, 'e5': 8.653145791402187},\n",
       " {'e1': 7.55785064753022, 'e2': 6.074965850628629, 'e3': 7.714190861054554, 'e4': 9.33400305125652, 'e5': 6.520083643140677},\n",
       " {'e1': 5.1349326060152904, 'e2': 6.006151695652765, 'e3': 7.265104427179835, 'e4': 6.122379653905411, 'e5': 8.691710536763422},\n",
       " {'e1': 8.111882881037916, 'e2': 7.833869188253317, 'e3': 6.477962699564487, 'e4': 3.7189182323335666, 'e5': 5.440931261867688},\n",
       " {'e1': 7.068975186925009, 'e2': 5.657475248850534, 'e3': 8.133745099258839, 'e4': 8.532863729325385, 'e5': 6.825049191641748},\n",
       " {'e1': 7.41773499270781, 'e2': 7.559833813455158, 'e3': 6.1610407077781275, 'e4': 8.189526404401178, 'e5': 5.600413046447745},\n",
       " {'e1': 8.852524308685608, 'e2': 8.64918398584464, 'e3': 6.37662769147343, 'e4': 6.389302078507609, 'e5': 9.789225325885065},\n",
       " {'e1': 3.640922609458353, 'e2': 6.286220375339663, 'e3': 9.87519340627028, 'e4': 8.290673543686076, 'e5': 8.545057742745811},\n",
       " {'e1': 6.080253183175386, 'e2': 5.972150184970075, 'e3': 6.00378581081135, 'e4': 8.95151951084737, 'e5': 8.986021484174588},\n",
       " {'e1': 8.181062363819702, 'e2': 4.9017426779053865, 'e3': 6.161377018659929, 'e4': 8.220723749311793, 'e5': 7.2431387018376485},\n",
       " {'e1': 5.88510983724605, 'e2': 5.298996045049211, 'e3': 7.971164459243239, 'e4': 6.179681442716512, 'e5': 5.916253906823034},\n",
       " {'e1': 7.147674231033127, 'e2': 8.408441843984454, 'e3': 7.703384453459801, 'e4': 6.112933292112774, 'e5': 5.731815305156264},\n",
       " {'e1': 6.5662284282576575, 'e2': 6.563245585273736, 'e3': 5.69376884079921, 'e4': 7.544637265521844, 'e5': 8.17514834640336},\n",
       " {'e1': 5.147068639877597, 'e2': 6.391734474200464, 'e3': 6.3596587596016745, 'e4': 7.599288207907757, 'e5': 9.99265430591478},\n",
       " {'e1': 8.20920609812371, 'e2': 7.76144131971423, 'e3': 7.273217544963725, 'e4': 5.315263599212169, 'e5': 6.587919939650082},\n",
       " {'e1': 8.742018090447727, 'e2': 6.692512865167128, 'e3': 6.662207694417575, 'e4': 7.115363643891923, 'e5': 7.248604600015804},\n",
       " {'e1': 7.632494586949456, 'e2': 6.86205706597858, 'e3': 8.67659372071784, 'e4': 5.4622279806946885, 'e5': 7.5459187918151995},\n",
       " {'e1': 6.246020828771384, 'e2': 7.067020933963984, 'e3': 7.170919523602308, 'e4': 8.802395572019229, 'e5': 5.890137753113753},\n",
       " {'e1': 7.1180091522062465, 'e2': 7.871582751558175, 'e3': 5.743683360110545, 'e4': 7.587871683773113, 'e5': 6.169339212607069},\n",
       " {'e1': 7.895080599289402, 'e2': 8.334074559061884, 'e3': 7.48847770264974, 'e4': 7.006871529284219, 'e5': 6.522389443201779},\n",
       " {'e1': 6.981609530227505, 'e2': 6.528204554712974, 'e3': 6.97414139811107, 'e4': 7.363216361320291, 'e5': 7.126325834163351},\n",
       " {'e1': 8.841554183753253, 'e2': 7.958826982437973, 'e3': 5.917339120419053, 'e4': 7.784772716221111, 'e5': 7.504501183297197},\n",
       " {'e1': 7.442972274685642, 'e2': 7.5661928406099825, 'e3': 8.471138391280363, 'e4': 7.8704265581806325, 'e5': 7.982407477752271},\n",
       " {'e1': 6.037579719175847, 'e2': 7.030249860387232, 'e3': 6.739081800931697, 'e4': 6.581481238468663, 'e5': 11.198344905834178},\n",
       " {'e1': 7.965995095309424, 'e2': 7.23872902349249, 'e3': 6.9391127801978545, 'e4': 7.363303262093504, 'e5': 9.033549804596241},\n",
       " {'e1': 6.097458953435424, 'e2': 7.227170484794148, 'e3': 7.72275300230663, 'e4': 7.725731273670768, 'e5': 6.554890487769627},\n",
       " {'e1': 6.53508606738706, 'e2': 6.042137718734873, 'e3': 6.52270398148329, 'e4': 5.6680663435156635, 'e5': 5.811289503179288},\n",
       " {'e1': 7.452217412109553, 'e2': 7.530327353874122, 'e3': 5.3840821035840785, 'e4': 7.589352470048703, 'e5': 7.462120594859196},\n",
       " {'e1': 8.729235190976835, 'e2': 7.530491033756701, 'e3': 7.720674142889372, 'e4': 6.985446146219783, 'e5': 8.291476433174063},\n",
       " {'e1': 6.895395600143873, 'e2': 5.8453647139669505, 'e3': 7.65250398021737, 'e4': 5.437215943925619, 'e5': 7.682822230720398},\n",
       " {'e1': 6.893280586349323, 'e2': 8.809860330328426, 'e3': 5.607725075914664, 'e4': 7.933661310854785, 'e5': 6.067445819126848},\n",
       " {'e1': 7.460278251699709, 'e2': 7.332308340296686, 'e3': 7.756876623602342, 'e4': 8.395855308913559, 'e5': 5.808533250058637},\n",
       " {'e1': 7.767243691537278, 'e2': 7.700135419754705, 'e3': 6.062654560001472, 'e4': 7.300336168937044, 'e5': 6.470701299273092},\n",
       " {'e1': 7.487172836871268, 'e2': 8.479920647744237, 'e3': 6.550826035123748, 'e4': 5.446432360468395, 'e5': 7.452145321270551},\n",
       " {'e1': 6.003294850271145, 'e2': 5.793354253576081, 'e3': 7.698399827808835, 'e4': 7.846780349967416, 'e5': 6.353138174929475},\n",
       " {'e1': 6.703761785824168, 'e2': 7.704594494667872, 'e3': 6.7369602331026925, 'e4': 7.514836178638426, 'e5': 7.88481613875463},\n",
       " {'e1': 7.317890356842188, 'e2': 8.177095004767382, 'e3': 6.748207310746482, 'e4': 8.813206191079828, 'e5': 7.024984590374725},\n",
       " {'e1': 7.6517756969876185, 'e2': 7.187388154975723, 'e3': 9.468652601041958, 'e4': 8.095963068184757, 'e5': 6.180703283624585},\n",
       " {'e1': 7.6317080163739, 'e2': 8.015655430942722, 'e3': 7.083643099062952, 'e4': 7.383191333900562, 'e5': 7.941711830542336},\n",
       " {'e1': 7.6667540877494975, 'e2': 6.0541374524447304, 'e3': 5.571600749644934, 'e4': 6.5201047393596605, 'e5': 7.958819060590097},\n",
       " {'e1': 6.087617035395648, 'e2': 6.932987345442039, 'e3': 6.600893263072273, 'e4': 7.631498340953168, 'e5': 7.230109043456677},\n",
       " {'e1': 7.435897036854273, 'e2': 6.329181814120619, 'e3': 8.318540384041064, 'e4': 6.24005413816999, 'e5': 6.281643452998559},\n",
       " {'e1': 6.001315931553901, 'e2': 5.029548423196899, 'e3': 6.15747854774871, 'e4': 8.157595996842819, 'e5': 7.2539204053782615},\n",
       " {'e1': 6.755437778928307, 'e2': 6.523995752058178, 'e3': 6.845869911996705, 'e4': 6.874190264548881, 'e5': 8.125982124849473},\n",
       " {'e1': 8.331478697617946, 'e2': 8.148243832979661, 'e3': 8.41597930014671, 'e4': 7.290778822439767, 'e5': 7.90726714590249},\n",
       " {'e1': 6.953651272420485, 'e2': 7.012541056219629, 'e3': 6.753695592692541, 'e4': 5.5255756839644254, 'e5': 4.13048687759824},\n",
       " {'e1': 6.868765511978718, 'e2': 7.196360318531991, 'e3': 6.453596867681433, 'e4': 6.630435445531646, 'e5': 7.567435882342977},\n",
       " {'e1': 8.61240652045765, 'e2': 6.394597893998145, 'e3': 7.623855463363187, 'e4': 7.444660927650132, 'e5': 6.64240696229421},\n",
       " {'e1': 7.130675513086202, 'e2': 7.513831834794564, 'e3': 8.30601378225719, 'e4': 7.862557129258937, 'e5': 8.339373034105481},\n",
       " {'e1': 4.547379681173452, 'e2': 7.162609738000896, 'e3': 6.834438727794989, 'e4': 5.053258249595539, 'e5': 5.7230935856748815},\n",
       " {'e1': 9.32668349362077, 'e2': 5.588658887012118, 'e3': 7.852120275070509, 'e4': 7.583685725604514, 'e5': 7.343027531861907},\n",
       " {'e1': 5.155680917978909, 'e2': 6.016890781034965, 'e3': 8.47825379490575, 'e4': 4.255599482483066, 'e5': 5.017553075020897},\n",
       " {'e1': 6.679414426942396, 'e2': 6.311732641420843, 'e3': 7.925002399159461, 'e4': 6.252472701193194, 'e5': 6.289044965478701},\n",
       " {'e1': 6.876970918643584, 'e2': 4.955187987094563, 'e3': 7.512401811020438, 'e4': 7.277518977824828, 'e5': 9.150406659533658},\n",
       " {'e1': 8.302206654749321, 'e2': 6.595216194373387, 'e3': 7.856061316954678, 'e4': 6.408042436591032, 'e5': 6.137016465240191},\n",
       " {'e1': 9.246440450213411, 'e2': 7.326594330626311, 'e3': 7.385104726888767, 'e4': 4.239843232046207, 'e5': 7.6129457970927055},\n",
       " {'e1': 6.638591870507609, 'e2': 8.736443890618455, 'e3': 5.257810613890344, 'e4': 7.533324724324425, 'e5': 8.31009483798978},\n",
       " {'e1': 7.469189813604007, 'e2': 6.870309276080041, 'e3': 6.313465678807618, 'e4': 5.865793752320277, 'e5': 6.591155787252466},\n",
       " {'e1': 6.705712245730518, 'e2': 6.676320010181786, 'e3': 7.621512722709145, 'e4': 7.501122126383928, 'e5': 8.285182921156656},\n",
       " {'e1': 6.587791144675113, 'e2': 7.790996727835288, 'e3': 8.241832522113414, 'e4': 7.770450494504578, 'e5': 6.774100528816136},\n",
       " {'e1': 8.044151199584874, 'e2': 5.954771579977614, 'e3': 6.359754284230777, 'e4': 7.7734816075714495, 'e5': 6.18733487441867},\n",
       " {'e1': 7.821118687097552, 'e2': 7.811769608793296, 'e3': 6.168693826893885, 'e4': 5.7416521187941445, 'e5': 6.674881575086825},\n",
       " {'e1': 9.264095420083665, 'e2': 7.1908948027245465, 'e3': 6.802233244721586, 'e4': 7.856268158674638, 'e5': 5.408764250801546},\n",
       " {'e1': 7.6782141168450915, 'e2': 7.68752902484288, 'e3': 6.497278691766753, 'e4': 8.368751348189086, 'e5': 8.052637955263153},\n",
       " {'e1': 5.792215093593969, 'e2': 8.7292339605853, 'e3': 5.9679078250342, 'e4': 7.667841679191521, 'e5': 6.2253508800983965},\n",
       " {'e1': 4.393464720319082, 'e2': 6.53870057956479, 'e3': 8.90532125411474, 'e4': 8.167498641007583, 'e5': 8.06001371549322},\n",
       " {'e1': 7.490262195485527, 'e2': 6.710099469831795, 'e3': 6.094005439835548, 'e4': 6.896859759152608, 'e5': 7.315816289891559},\n",
       " {'e1': 7.381579263017305, 'e2': 6.650874371482424, 'e3': 6.827326469826709, 'e4': 7.3674226389589625, 'e5': 8.169583940407595},\n",
       " {'e1': 6.725736167516318, 'e2': 8.58433702987847, 'e3': 6.396946445456122, 'e4': 7.544478390616922, 'e5': 7.751809512995154},\n",
       " {'e1': 7.697599397216841, 'e2': 4.07517837304039, 'e3': 7.090139051986498, 'e4': 6.801107022133662, 'e5': 8.664599726219055},\n",
       " {'e1': 7.715896591931057, 'e2': 7.065909198437789, 'e3': 8.482607132187097, 'e4': 6.299273731626256, 'e5': 7.273042433284002},\n",
       " {'e1': 7.8107437409875535, 'e2': 6.546441692430106, 'e3': 6.46026283214432, 'e4': 4.457806197958023, 'e5': 5.876014150987555},\n",
       " {'e1': 6.223495308932051, 'e2': 6.931752325955163, 'e3': 5.814726731550074, 'e4': 5.895754019217212, 'e5': 8.58176356293626},\n",
       " {'e1': 6.677686572456941, 'e2': 6.64908415427874, 'e3': 7.206300106118932, 'e4': 9.338671921344952, 'e5': 8.497212986766952},\n",
       " {'e1': 7.100130443766383, 'e2': 5.327786845088047, 'e3': 10.456985973363363, 'e4': 6.435987222083163, 'e5': 5.860818853123245},\n",
       " {'e1': 7.8766037621800145, 'e2': 6.216601681073019, 'e3': 4.538220099808659, 'e4': 7.383666530757213, 'e5': 6.881897434057441},\n",
       " {'e1': 5.421979616977906, 'e2': 7.186582850248296, 'e3': 4.678917530715789, 'e4': 6.734207631582798, 'e5': 8.40175040463304},\n",
       " {'e1': 6.495416879531737, 'e2': 6.873340554103534, 'e3': 6.8710399707078285, 'e4': 6.061185197552463, 'e5': 4.979569341862428},\n",
       " {'e1': 5.769414609968589, 'e2': 8.70633292783429, 'e3': 8.464464695050129, 'e4': 5.88772497431113, 'e5': 6.2578268484904465},\n",
       " {'e1': 7.4917946833440014, 'e2': 7.638518067299499, 'e3': 5.847498900156666, 'e4': 6.762928153936339, 'e5': 6.464218702415131},\n",
       " {'e1': 6.842211649584046, 'e2': 5.879564467271705, 'e3': 7.624292770150773, 'e4': 5.607150574808135, 'e5': 8.24930028868952},\n",
       " {'e1': 7.6171187648558485, 'e2': 6.346529780091787, 'e3': 7.3852361636179555, 'e4': 8.678106620147528, 'e5': 8.643875911757648},\n",
       " {'e1': 7.503196198984638, 'e2': 6.615606946310553, 'e3': 7.066136953410872, 'e4': 7.190177935209778, 'e5': 6.3252707709642735},\n",
       " {'e1': 6.642881061536372, 'e2': 8.958699670735648, 'e3': 8.494111149030427, 'e4': 6.09023900916405, 'e5': 7.058627390018834},\n",
       " {'e1': 7.709388467073253, 'e2': 6.252548531726198, 'e3': 8.885496853735981, 'e4': 5.729948818655026, 'e5': 6.288036782617148},\n",
       " {'e1': 6.208078328887122, 'e2': 7.282554535393563, 'e3': 6.231180230651298, 'e4': 7.018079238243586, 'e5': 6.725244576287671},\n",
       " {'e1': 5.713457642635547, 'e2': 7.504742598328601, 'e3': 6.155868762259834, 'e4': 6.6071211943895385, 'e5': 5.56571723588915},\n",
       " {'e1': 6.776643127381404, 'e2': 7.735039096525624, 'e3': 8.40916392854605, 'e4': 6.418609280156553, 'e5': 5.120659453429832},\n",
       " {'e1': 6.503786839900974, 'e2': 6.463308506866745, 'e3': 6.676752627709101, 'e4': 5.342959160821515, 'e5': 6.24850289093894},\n",
       " {'e1': 7.697113166975966, 'e2': 7.199263926772559, 'e3': 6.184683639404886, 'e4': 5.6642908551765405, 'e5': 7.326889289744669},\n",
       " {'e1': 6.281399291868832, 'e2': 7.077514072047877, 'e3': 4.320081530779959, 'e4': 8.223167797159267, 'e5': 8.273642216661957},\n",
       " {'e1': 7.532360769793341, 'e2': 7.436900184895922, 'e3': 6.892738596648349, 'e4': 4.6121853566321525, 'e5': 8.29163484363296},\n",
       " {'e1': 6.577774121444872, 'e2': 6.6412335719100355, 'e3': 5.600483792754039, 'e4': 7.029459463764423, 'e5': 7.198039514207154},\n",
       " {'e1': 7.458019401213376, 'e2': 5.197045269190771, 'e3': 5.292867172194832, 'e4': 5.587506116130909, 'e5': 8.116968179737704},\n",
       " {'e1': 7.2279699638343216, 'e2': 8.889084488372788, 'e3': 6.343491277617089, 'e4': 5.975749228482957, 'e5': 5.245420611867971},\n",
       " {'e1': 5.088945068765876, 'e2': 9.133291843288587, 'e3': 7.384900083356791, 'e4': 6.326646981971842, 'e5': 7.23410722795528},\n",
       " {'e1': 6.558900065460152, 'e2': 6.164216708178878, 'e3': 7.337303073526724, 'e4': 5.730371125068368, 'e5': 5.336812097909814},\n",
       " {'e1': 6.708909296118083, 'e2': 7.131430697121287, 'e3': 8.08276177033989, 'e4': 7.503152999246934, 'e5': 7.742069074781051},\n",
       " {'e1': 6.1530260146306, 'e2': 8.66927208049212, 'e3': 5.227800055064625, 'e4': 5.3290472300842495, 'e5': 7.054718839247299},\n",
       " {'e1': 7.853357204051354, 'e2': 6.8052347130061275, 'e3': 8.021308179419336, 'e4': 5.287221337766965, 'e5': 6.669666314400031},\n",
       " {'e1': 6.760005192105474, 'e2': 7.324048037540849, 'e3': 7.924301940255112, 'e4': 8.43184955069526, 'e5': 5.613819334366925},\n",
       " {'e1': 5.9237196032041535, 'e2': 7.923797653388788, 'e3': 5.314569884002189, 'e4': 8.309874450607282, 'e5': 6.889025952318025},\n",
       " {'e1': 7.359703919927738, 'e2': 6.23987498359251, 'e3': 8.175072779380217, 'e4': 7.098602020415434, 'e5': 7.7366825935111825},\n",
       " {'e1': 6.444059887878978, 'e2': 7.484876979431401, 'e3': 6.633089874542039, 'e4': 7.061573922247596, 'e5': 9.840510093272657},\n",
       " {'e1': 7.991152399963854, 'e2': 8.542296910057933, 'e3': 7.623767050405827, 'e4': 8.211486994927142, 'e5': 6.5525298687207725},\n",
       " {'e1': 7.039093973153083, 'e2': 6.754376885387279, 'e3': 7.1799989812434255, 'e4': 7.973878522811631, 'e5': 7.483939646466952},\n",
       " {'e1': 7.746393291449172, 'e2': 5.75230122529655, 'e3': 6.000289236936525, 'e4': 8.61369156495764, 'e5': 8.335279521788692},\n",
       " {'e1': 6.0064872700353265, 'e2': 7.598481094958331, 'e3': 7.772567698667563, 'e4': 8.199197440756597, 'e5': 4.843742084323326},\n",
       " {'e1': 7.292443323920204, 'e2': 6.25072045054891, 'e3': 6.474891843596118, 'e4': 6.707014697808173, 'e5': 6.844974483970415},\n",
       " {'e1': 6.279035124582387, 'e2': 8.147239220990427, 'e3': 5.987151974658171, 'e4': 9.236477403890802, 'e5': 7.637449929418004},\n",
       " {'e1': 8.183392535676793, 'e2': 4.5384672329021605, 'e3': 6.419670129942549, 'e4': 7.886885897879082, 'e5': 6.014693936556332},\n",
       " {'e1': 5.860056551413544, 'e2': 7.306636137730454, 'e3': 7.5707974645564216, 'e4': 7.89634591379518, 'e5': 8.441891348691131},\n",
       " {'e1': 6.5723157160633505, 'e2': 7.086253990012926, 'e3': 5.995822300810234, 'e4': 7.373426057195108, 'e5': 8.71658952641381},\n",
       " {'e1': 5.666252931591247, 'e2': 7.095029665652849, 'e3': 6.045302971002375, 'e4': 7.318339855606604, 'e5': 9.035736087336549},\n",
       " {'e1': 5.688013904716167, 'e2': 7.192054871414552, 'e3': 7.4616242586727966, 'e4': 8.501729954456007, 'e5': 6.91687544069036},\n",
       " {'e1': 6.4843721547958815, 'e2': 6.4045477689849815, 'e3': 6.723947476994309, 'e4': 7.553676206385586, 'e5': 8.00358050572532},\n",
       " {'e1': 6.397269727471517, 'e2': 7.867467283834291, 'e3': 7.28729074212002, 'e4': 5.86626545054033, 'e5': 6.8519368067005475},\n",
       " {'e1': 5.978960892670019, 'e2': 8.57368306754969, 'e3': 8.320793867649382, 'e4': 7.33544450081224, 'e5': 5.848390560091997},\n",
       " {'e1': 8.892461913626295, 'e2': 6.413241586128311, 'e3': 6.915493995669935, 'e4': 7.681739428141239, 'e5': 5.152501778272933},\n",
       " {'e1': 6.776874336857331, 'e2': 8.076601300702858, 'e3': 6.681013199780854, 'e4': 6.16295129867717, 'e5': 6.545972500069446},\n",
       " {'e1': 6.401814270544099, 'e2': 7.467156328161757, 'e3': 6.709627674608965, 'e4': 7.638584274932199, 'e5': 7.712377972431164},\n",
       " {'e1': 7.742131581152925, 'e2': 6.321381167182933, 'e3': 8.424155639534215, 'e4': 9.153230735214137, 'e5': 8.206227372005099},\n",
       " {'e1': 8.159090689708531, 'e2': 5.895157238498431, 'e3': 8.225392598136782, 'e4': 7.120793743331774, 'e5': 6.508324363552959},\n",
       " {'e1': 7.523044082736636, 'e2': 8.923043701766675, 'e3': 6.82942868721008, 'e4': 9.64578173529679, 'e5': 8.234545471341423},\n",
       " {'e1': 9.283491202379102, 'e2': 7.194001903906034, 'e3': 7.125622879688959, 'e4': 6.57603674597443, 'e5': 6.50957409259077},\n",
       " {'e1': 8.51257543465589, 'e2': 8.065402765758249, 'e3': 6.0811806673450075, 'e4': 6.162483976815546, 'e5': 6.724313675030819},\n",
       " {'e1': 7.268009432485116, 'e2': 7.126017583140198, 'e3': 6.329334125599095, 'e4': 6.103150232060978, 'e5': 8.586295642424279},\n",
       " {'e1': 7.70320212748609, 'e2': 7.128439089926077, 'e3': 8.14873673566079, 'e4': 6.205084279811996, 'e5': 6.691535785184733},\n",
       " {'e1': 7.933671164246002, 'e2': 8.537899287025082, 'e3': 7.20958900897874, 'e4': 5.7105294349696605, 'e5': 9.93523365577234},\n",
       " {'e1': 8.637555192888842, 'e2': 9.161700139584033, 'e3': 8.072819625879697, 'e4': 9.167125136740742, 'e5': 6.782979972913074},\n",
       " {'e1': 5.661674522803364, 'e2': 7.741643353047273, 'e3': 6.700769671487002, 'e4': 6.3949674544226465, 'e5': 6.0120024567001344},\n",
       " {'e1': 7.805026237486884, 'e2': 6.8667311914967515, 'e3': 6.511605968012408, 'e4': 7.299829527706046, 'e5': 8.191245812592328},\n",
       " {'e1': 6.386270208082935, 'e2': 6.076005501285244, 'e3': 7.68819911801098, 'e4': 7.675833970634237, 'e5': 5.979148953287824},\n",
       " {'e1': 5.990642141102359, 'e2': 6.251390512239494, 'e3': 8.199273374585987, 'e4': 4.786040279425027, 'e5': 7.58069472773809},\n",
       " {'e1': 7.116891253633426, 'e2': 5.072688548289712, 'e3': 4.998796397251879, 'e4': 8.207111043925096, 'e5': 7.8650692071824375},\n",
       " {'e1': 8.709643473532905, 'e2': 5.011375820210345, 'e3': 6.218981989639509, 'e4': 5.550946957968426, 'e5': 6.180007664665299},\n",
       " {'e1': 7.473781784298351, 'e2': 8.921106613489108, 'e3': 7.421596928350982, 'e4': 7.406860848137282, 'e5': 8.273632006194683},\n",
       " {'e1': 7.103732477689315, 'e2': 5.164792047927575, 'e3': 6.600899807019002, 'e4': 7.84566366018983, 'e5': 6.39740454199146},\n",
       " {'e1': 7.610371649754243, 'e2': 6.043351470743148, 'e3': 6.649815606944112, 'e4': 7.8242542285872645, 'e5': 9.571848578860198},\n",
       " {'e1': 8.924611145836893, 'e2': 7.348668476635643, 'e3': 6.247287893347645, 'e4': 8.89392789610204, 'e5': 6.931697638212857},\n",
       " {'e1': 6.729234183583182, 'e2': 6.248904407595903, 'e3': 4.821244167720749, 'e4': 5.839815859192592, 'e5': 7.5331321771027255},\n",
       " {'e1': 5.438872385861899, 'e2': 7.874947521474331, 'e3': 7.8137341956315876, 'e4': 7.369631935822218, 'e5': 6.95034232741429},\n",
       " {'e1': 7.974216762437619, 'e2': 7.7759170574944205, 'e3': 5.612469050624614, 'e4': 6.1974349315631825, 'e5': 5.908695219316881},\n",
       " {'e1': 5.572984311690959, 'e2': 7.2534844625381485, 'e3': 7.203646339750054, 'e4': 5.731751978638124, 'e5': 7.0777490775879865},\n",
       " {'e1': 8.117040476260534, 'e2': 7.570012502600758, 'e3': 6.481633268805067, 'e4': 7.625237739019799, 'e5': 7.867663535973521},\n",
       " {'e1': 5.727835061552521, 'e2': 5.52357594103376, 'e3': 7.311759294226542, 'e4': 4.874488353464242, 'e5': 7.432586905126768},\n",
       " {'e1': 4.957003054392739, 'e2': 6.838984286857725, 'e3': 7.097958444894841, 'e4': 5.390874754203296, 'e5': 6.492056126295145},\n",
       " {'e1': 8.316267541830216, 'e2': 7.986531384456062, 'e3': 5.6454809496144005, 'e4': 5.5306322077410455, 'e5': 7.426150385895559},\n",
       " {'e1': 6.750952322328332, 'e2': 6.156982882489076, 'e3': 7.682261679211541, 'e4': 6.022699379328151, 'e5': 6.055247010547991},\n",
       " {'e1': 6.291296235941897, 'e2': 6.49457669553034, 'e3': 7.797814069066468, 'e4': 7.583766212466306, 'e5': 5.981463323224032},\n",
       " {'e1': 4.8511563559275, 'e2': 6.952398319160471, 'e3': 7.199644136910125, 'e4': 5.437710499548072, 'e5': 6.564190672102348},\n",
       " {'e1': 7.952800486986832, 'e2': 7.403271296031706, 'e3': 5.714073516868096, 'e4': 7.699415535186214, 'e5': 5.993667444509384},\n",
       " {'e1': 9.018045020131636, 'e2': 6.511898977342792, 'e3': 7.03253271362554, 'e4': 6.406235737288341, 'e5': 9.679154783670455},\n",
       " {'e1': 6.166790139963837, 'e2': 7.183157282767554, 'e3': 7.337982493726205, 'e4': 5.828294840082752, 'e5': 6.308225876085781},\n",
       " {'e1': 7.336244455047252, 'e2': 6.393831090105989, 'e3': 8.486062962328715, 'e4': 6.807113301500735, 'e5': 6.960318577472903},\n",
       " {'e1': 7.075777517711502, 'e2': 5.964016267113169, 'e3': 5.333673220367964, 'e4': 8.510627999442407, 'e5': 7.2747600984256735},\n",
       " {'e1': 8.043871592007536, 'e2': 6.609582787089794, 'e3': 7.5169654742643806, 'e4': 7.17403028436052, 'e5': 6.693028666942849},\n",
       " {'e1': 6.451472077976174, 'e2': 8.092599491842645, 'e3': 8.190967055076992, 'e4': 5.06328382415039, 'e5': 7.2926478242556945},\n",
       " {'e1': 7.176644720039374, 'e2': 5.446860761171551, 'e3': 5.453356704673455, 'e4': 6.553548693658011, 'e5': 8.003007625335602},\n",
       " {'e1': 7.5071725650089425, 'e2': 6.7729891489340135, 'e3': 6.050834124252169, 'e4': 7.089697623893207, 'e5': 6.289097987446997},\n",
       " {'e1': 7.925759614751531, 'e2': 7.865840192196026, 'e3': 7.43569871652455, 'e4': 9.059584242428175, 'e5': 7.639902144743048},\n",
       " {'e1': 7.777821643158228, 'e2': 9.224429020359848, 'e3': 6.718106890629969, 'e4': 7.639025453908497, 'e5': 4.499179786988472},\n",
       " {'e1': 7.95486358788135, 'e2': 9.16462428382635, 'e3': 7.972363239367025, 'e4': 7.029771717820377, 'e5': 6.405504638561476},\n",
       " {'e1': 6.9594325897458456, 'e2': 6.710623052694163, 'e3': 7.4100871651713955, 'e4': 7.611153307758122, 'e5': 5.933097971809576},\n",
       " {'e1': 5.167126317320026, 'e2': 6.984914780732021, 'e3': 8.243109024781988, 'e4': 6.4367346920447925, 'e5': 6.241657105347667},\n",
       " {'e1': 4.951439068791898, 'e2': 6.86674965419543, 'e3': 7.167903478042836, 'e4': 5.760037498556418, 'e5': 6.290508143732965},\n",
       " {'e1': 6.738196250738383, 'e2': 7.662139184947794, 'e3': 7.638851835706681, 'e4': 7.954180487959295, 'e5': 6.424083077180424},\n",
       " {'e1': 6.454331952894891, 'e2': 9.082728104249886, 'e3': 5.567963939455927, 'e4': 7.389526125450338, 'e5': 8.143483723147918},\n",
       " {'e1': 6.051869860758939, 'e2': 5.305961777948183, 'e3': 7.538641392116124, 'e4': 6.790164312018249, 'e5': 7.7938458328557285},\n",
       " {'e1': 7.875344162646489, 'e2': 4.540152670664712, 'e3': 7.15057966240259, 'e4': 6.2939818524580815, 'e5': 6.0874027467279825},\n",
       " {'e1': 7.484247598857536, 'e2': 6.948695212548235, 'e3': 7.098109406969424, 'e4': 6.324200823834939, 'e5': 8.332077908903383},\n",
       " {'e1': 5.267903182019385, 'e2': 5.012790311491969, 'e3': 7.0552307999898645, 'e4': 5.578676722702781, 'e5': 6.9246374962082},\n",
       " {'e1': 8.567450054414042, 'e2': 6.892473173777582, 'e3': 7.855205866137009, 'e4': 6.16906192207355, 'e5': 6.840606410650396},\n",
       " {'e1': 6.582095068861582, 'e2': 5.234220877619804, 'e3': 9.520307163396136, 'e4': 7.108175268847631, 'e5': 7.512834785259492},\n",
       " {'e1': 6.041902979854549, 'e2': 6.517141100661808, 'e3': 8.901929515995542, 'e4': 6.881375097732044, 'e5': 5.427689044369034},\n",
       " {'e1': 7.620516639344206, 'e2': 7.660543345793164, 'e3': 8.983662124554881, 'e4': 8.597745766337841, 'e5': 8.084628805409139},\n",
       " {'e1': 5.030016669464392, 'e2': 6.545573470365891, 'e3': 7.419438692393537, 'e4': 7.656544210283817, 'e5': 7.007202896994366},\n",
       " {'e1': 7.0986062163139785, 'e2': 5.2771357949425575, 'e3': 7.204608371603298, 'e4': 5.302769438977398, 'e5': 8.771545036854912},\n",
       " {'e1': 5.772768043859817, 'e2': 7.432890930783124, 'e3': 7.0827337777961965, 'e4': 7.369670900584568, 'e5': 6.93144592027504},\n",
       " {'e1': 6.814824752897728, 'e2': 6.029137393723589, 'e3': 5.36009974757944, 'e4': 8.388109058815074, 'e5': 5.3402878267290115},\n",
       " {'e1': 6.8546845220967425, 'e2': 8.041504995168918, 'e3': 6.258128723474041, 'e4': 6.649445608037988, 'e5': 6.113331291063348},\n",
       " {'e1': 7.957789123264644, 'e2': 6.68520287613182, 'e3': 7.457454697837996, 'e4': 5.819414175184146, 'e5': 7.5002321698127865},\n",
       " {'e1': 8.971385895153054, 'e2': 7.268390870434467, 'e3': 5.61136609508337, 'e4': 8.57831375549198, 'e5': 7.838519861413664},\n",
       " {'e1': 7.927225984815575, 'e2': 7.9701596473584235, 'e3': 5.324835508569741, 'e4': 7.1001603423231305, 'e5': 8.3281588782239},\n",
       " {'e1': 7.160714076230812, 'e2': 7.117936478346956, 'e3': 5.540216162842247, 'e4': 8.186073399093797, 'e5': 8.019994198850124},\n",
       " {'e1': 6.815545470474537, 'e2': 5.498221258864032, 'e3': 4.830001359584153, 'e4': 7.529969364246645, 'e5': 6.149080888801622},\n",
       " {'e1': 4.990875296145408, 'e2': 5.640308363511646, 'e3': 7.439503140449423, 'e4': 8.139439261893862, 'e5': 7.066096777421498},\n",
       " {'e1': 7.3166636070115185, 'e2': 7.289130582258144, 'e3': 7.43816035594155, 'e4': 7.091584773291302, 'e5': 5.604765666686084},\n",
       " {'e1': 8.469422214271958, 'e2': 7.240985482857068, 'e3': 7.966091675323977, 'e4': 6.688422825288765, 'e5': 8.164172766995561},\n",
       " {'e1': 7.478451476783888, 'e2': 6.872061204397403, 'e3': 8.63644804757263, 'e4': 5.278181760998536, 'e5': 5.290833408146926},\n",
       " {'e1': 6.276053381236581, 'e2': 5.110054647313137, 'e3': 6.835069169076454, 'e4': 8.067176865552145, 'e5': 7.398764207140485},\n",
       " {'e1': 8.113474589959807, 'e2': 5.747645990494272, 'e3': 6.793646977191679, 'e4': 8.088621019638058, 'e5': 5.6950513046649105},\n",
       " {'e1': 5.993514366620155, 'e2': 8.509664373212019, 'e3': 5.075657753300694, 'e4': 6.253643468850864, 'e5': 5.54081204943564},\n",
       " {'e1': 7.526815679294893, 'e2': 6.241027741565127, 'e3': 6.572774863655025, 'e4': 7.2722195190036345, 'e5': 6.5635665098488},\n",
       " {'e1': 8.61617131910435, 'e2': 5.048361722108269, 'e3': 7.646127605973886, 'e4': 6.739358259044844, 'e5': 5.185632279422077},\n",
       " {'e1': 6.370734271418856, 'e2': 7.238493993965368, 'e3': 7.03176192704689, 'e4': 7.745277581197473, 'e5': 8.343619385922066},\n",
       " {'e1': 6.475954114370191, 'e2': 6.488935790978725, 'e3': 6.6457900860633465, 'e4': 8.359541464311178, 'e5': 7.930361201075965},\n",
       " {'e1': 6.707049362128188, 'e2': 6.380480785798343, 'e3': 6.691338414409825, 'e4': 9.268019547247633, 'e5': 7.3831886079977815},\n",
       " {'e1': 5.970741548290558, 'e2': 5.2532505991823175, 'e3': 6.521004621539061, 'e4': 7.8878225069041825, 'e5': 9.0498916024888},\n",
       " {'e1': 7.250258572522284, 'e2': 6.701450698454026, 'e3': 4.701685796771148, 'e4': 5.818546485667409, 'e5': 5.938921016651027},\n",
       " {'e1': 5.870608362173007, 'e2': 5.365523528495828, 'e3': 8.558003983139677, 'e4': 6.740015720882791, 'e5': 8.096215532529566},\n",
       " {'e1': 8.35541070780172, 'e2': 6.4296893198709535, 'e3': 6.442449694391416, 'e4': 6.679022618841382, 'e5': 5.7532186176277},\n",
       " {'e1': 5.938078085106059, 'e2': 6.777786684109862, 'e3': 7.488214084889025, 'e4': 7.853979161808265, 'e5': 7.896326499594274},\n",
       " {'e1': 5.221913880367639, 'e2': 8.142150027148649, 'e3': 8.343799176696447, 'e4': 5.482901449020049, 'e5': 6.665887053126082},\n",
       " {'e1': 7.247731106734303, 'e2': 6.102105303302175, 'e3': 8.814196020319887, 'e4': 6.237929542379398, 'e5': 7.468695130489249},\n",
       " {'e1': 7.111193713415351, 'e2': 5.963454867988527, 'e3': 3.9349691638025845, 'e4': 6.855662638748329, 'e5': 5.608633906691927},\n",
       " {'e1': 7.062024518083133, 'e2': 8.959350234972474, 'e3': 8.183363200094764, 'e4': 5.558501963802419, 'e5': 6.1409955634045295},\n",
       " {'e1': 6.41058912777388, 'e2': 8.15834669222056, 'e3': 7.989299817575999, 'e4': 6.706664437360065, 'e5': 6.141291369327496},\n",
       " {'e1': 7.566843927658537, 'e2': 8.297608903611879, 'e3': 8.88508263905544, 'e4': 5.528908294565805, 'e5': 5.68071294490089},\n",
       " {'e1': 7.365632582541765, 'e2': 6.079868906007841, 'e3': 7.855659793025132, 'e4': 6.429207057462181, 'e5': 7.6495375128856695},\n",
       " {'e1': 7.799003067532928, 'e2': 7.598960776954341, 'e3': 6.008669431978557, 'e4': 7.7479957869078335, 'e5': 7.203693047953836},\n",
       " {'e1': 7.9333144895710985, 'e2': 6.004078901022214, 'e3': 6.930495225891226, 'e4': 9.91892140242025, 'e5': 7.4162057069704685},\n",
       " {'e1': 6.722441253337384, 'e2': 8.256751285928006, 'e3': 5.327471373925005, 'e4': 7.261823785716634, 'e5': 8.230347521484289},\n",
       " {'e1': 7.212941247891088, 'e2': 6.656674764916503, 'e3': 6.814120476879754, 'e4': 6.051328399396569, 'e5': 6.091830606596249},\n",
       " {'e1': 6.83364478725969, 'e2': 5.954175312931233, 'e3': 5.912066757850979, 'e4': 7.4816767926584875, 'e5': 7.3878375280322635},\n",
       " {'e1': 6.509887801001108, 'e2': 7.265461679529814, 'e3': 6.21625785583286, 'e4': 6.902404442745935, 'e5': 8.440381098167475},\n",
       " {'e1': 6.823233418003483, 'e2': 5.57992393663441, 'e3': 7.166417032669486, 'e4': 7.67178987584677, 'e5': 6.918571134453302},\n",
       " {'e1': 7.59082867750338, 'e2': 5.047544978598317, 'e3': 6.491281209162733, 'e4': 6.769093387543838, 'e5': 7.086027262482588},\n",
       " {'e1': 7.312150219103915, 'e2': 8.663797660808596, 'e3': 7.841140857874001, 'e4': 5.375446023581646, 'e5': 4.750119549222351},\n",
       " {'e1': 7.449694033703955, 'e2': 6.219199249441801, 'e3': 5.322652605049339, 'e4': 9.273008429160864, 'e5': 7.344883342179751},\n",
       " {'e1': 5.443763804040344, 'e2': 7.209158980973088, 'e3': 9.19850508237448, 'e4': 6.704043498776603, 'e5': 5.244932395917248},\n",
       " {'e1': 5.649652339953732, 'e2': 5.697654171031482, 'e3': 7.671345981325023, 'e4': 7.556919614717657, 'e5': 7.989751868898178},\n",
       " {'e1': 6.679433280302328, 'e2': 7.178758210124518, 'e3': 7.274450550586551, 'e4': 6.531019683186689, 'e5': 8.205762266976812},\n",
       " {'e1': 6.966024790775581, 'e2': 6.34039018577207, 'e3': 6.057213281414436, 'e4': 7.326946148050798, 'e5': 6.977341339991562},\n",
       " {'e1': 5.386607151430449, 'e2': 7.194896226516505, 'e3': 7.059198835948419, 'e4': 6.484024981356773, 'e5': 8.17890449900835},\n",
       " {'e1': 7.13502752816694, 'e2': 7.257178183598356, 'e3': 7.215445876897531, 'e4': 6.66062649662636, 'e5': 9.608181933934421},\n",
       " {'e1': 8.514914202244082, 'e2': 8.702283729822257, 'e3': 3.6568663924206968, 'e4': 7.34065394796643, 'e5': 6.344765206853165},\n",
       " {'e1': 7.483446964555519, 'e2': 6.464891455385731, 'e3': 8.098045515629408, 'e4': 5.106568577921729, 'e5': 5.903661832014623},\n",
       " {'e1': 6.764990262714555, 'e2': 5.196490965754228, 'e3': 5.27896159953624, 'e4': 5.408499899165857, 'e5': 8.168671321390947},\n",
       " {'e1': 6.127404917783268, 'e2': 6.1122761336027125, 'e3': 7.765434476709509, 'e4': 7.4988222236311595, 'e5': 6.90763892884399},\n",
       " {'e1': 7.627096244990062, 'e2': 6.573413725185532, 'e3': 7.421994646100796, 'e4': 7.1829794047046835, 'e5': 9.20338639537049},\n",
       " {'e1': 6.819465983072178, 'e2': 8.422239648068818, 'e3': 7.536095313187247, 'e4': 7.538219941914343, 'e5': 7.989726124242756},\n",
       " {'e1': 5.947937297063768, 'e2': 6.367774821412444, 'e3': 8.343614440168814, 'e4': 5.521579338156042, 'e5': 7.3648114094534},\n",
       " {'e1': 8.05483645687739, 'e2': 8.422699637387533, 'e3': 6.923722239668347, 'e4': 5.3725199503090755, 'e5': 7.357779151942328},\n",
       " {'e1': 5.3175839544688985, 'e2': 7.901895511160824, 'e3': 7.864779319546455, 'e4': 7.233603268287368, 'e5': 4.82603112603018},\n",
       " {'e1': 5.885177288998973, 'e2': 7.241993218880117, 'e3': 8.522384836001454, 'e4': 5.9663787554428165, 'e5': 5.307634520889511},\n",
       " {'e1': 6.8384158000230855, 'e2': 6.828985069348111, 'e3': 7.2781700954791075, 'e4': 8.30580554153762, 'e5': 5.162623706698824},\n",
       " {'e1': 8.632968955893363, 'e2': 6.917041163244084, 'e3': 5.868582921068812, 'e4': 7.1910464024468, 'e5': 5.59251254075581},\n",
       " {'e1': 7.552902672146722, 'e2': 7.716606446238225, 'e3': 5.341478327617392, 'e4': 5.149499324265526, 'e5': 8.434986176637778},\n",
       " {'e1': 7.016676502402512, 'e2': 6.477988813847071, 'e3': 8.260261085096888, 'e4': 8.920072536966586, 'e5': 7.339920973538796},\n",
       " {'e1': 8.302930441180555, 'e2': 6.511488920116801, 'e3': 7.080174388523807, 'e4': 7.023893576870332, 'e5': 7.6050602022332185},\n",
       " {'e1': 6.873701840874459, 'e2': 6.08765681914341, 'e3': 6.897701491348119, 'e4': 8.182946237070711, 'e5': 5.7168895920735805},\n",
       " {'e1': 8.340110874688575, 'e2': 6.939380529737801, 'e3': 7.644886834217357, 'e4': 6.988221737773399, 'e5': 7.8472097110772765},\n",
       " {'e1': 6.433094311110279, 'e2': 6.103099739493661, 'e3': 6.405979012218083, 'e4': 6.356211652488055, 'e5': 5.495755143589085},\n",
       " {'e1': 7.220118315294218, 'e2': 5.851682003277189, 'e3': 5.988869624645333, 'e4': 7.122059158499448, 'e5': 7.071990866258341},\n",
       " {'e1': 7.506321217879608, 'e2': 7.051181387146352, 'e3': 8.039758523147684, 'e4': 7.4958726073632596, 'e5': 6.172154118680086},\n",
       " {'e1': 7.608930959855186, 'e2': 7.164489418092441, 'e3': 6.136810289672215, 'e4': 7.520208567339369, 'e5': 6.384393108766439},\n",
       " {'e1': 5.907348187430112, 'e2': 6.034963393689869, 'e3': 4.459903595326408, 'e4': 7.281548165650086, 'e5': 7.028316725048344},\n",
       " {'e1': 7.714368675813935, 'e2': 7.7664923940833095, 'e3': 6.627332784896975, 'e4': 5.791103788401075, 'e5': 5.821360424216782},\n",
       " {'e1': 6.169212729045962, 'e2': 5.363540377383494, 'e3': 6.258289738403606, 'e4': 6.854440697047801, 'e5': 7.554137215118529},\n",
       " {'e1': 6.677437258322512, 'e2': 5.115710525683229, 'e3': 8.35655378709415, 'e4': 7.562890059314513, 'e5': 6.148229556610372},\n",
       " {'e1': 7.756287128520379, 'e2': 5.969678077820639, 'e3': 8.045443243360992, 'e4': 7.180352723981821, 'e5': 6.170707376104504},\n",
       " {'e1': 8.387236352564765, 'e2': 8.06250805078586, 'e3': 6.556009953969965, 'e4': 7.141009195360502, 'e5': 4.560574502600712},\n",
       " {'e1': 4.756395679201998, 'e2': 4.968606995190038, 'e3': 8.154948611658408, 'e4': 6.587404832938783, 'e5': 7.408142095240191},\n",
       " {'e1': 7.536516558615513, 'e2': 7.234477948269584, 'e3': 4.91431241870072, 'e4': 7.994806031506989, 'e5': 4.898687008024492},\n",
       " {'e1': 5.85748665878893, 'e2': 5.700572751519758, 'e3': 5.898974988527119, 'e4': 6.430438143237154, 'e5': 6.798080231495952},\n",
       " {'e1': 6.951630008642165, 'e2': 7.2563883968730245, 'e3': 7.6046127828018895, 'e4': 7.797117200750418, 'e5': 8.903551083137282},\n",
       " {'e1': 6.967630403349321, 'e2': 7.496942096316273, 'e3': 8.559892362725806, 'e4': 8.046864153313287, 'e5': 5.3974752580781615},\n",
       " {'e1': 9.207310731236122, 'e2': 7.836547074307971, 'e3': 6.117360955887275, 'e4': 6.88798204440753, 'e5': 8.985321172865627},\n",
       " {'e1': 6.482898204368613, 'e2': 5.593560678929698, 'e3': 8.004072428523155, 'e4': 7.6709989105245775, 'e5': 6.684104067516215},\n",
       " {'e1': 7.0552047128247795, 'e2': 4.892712124777736, 'e3': 7.007672356259093, 'e4': 5.292096408910451, 'e5': 6.970668267662601},\n",
       " {'e1': 8.081267329565625, 'e2': 8.087977170700174, 'e3': 8.466277773091633, 'e4': 7.7682934340133505, 'e5': 5.234570472467214},\n",
       " {'e1': 8.345043953093267, 'e2': 4.775624259232901, 'e3': 7.1081018052098, 'e4': 5.959885881230767, 'e5': 7.288046278554522},\n",
       " {'e1': 7.352702972899919, 'e2': 6.980099744986702, 'e3': 6.98230504977372, 'e4': 8.858498164987234, 'e5': 7.17322609059836},\n",
       " {'e1': 6.745343079635956, 'e2': 6.652233841615068, 'e3': 6.253043518047092, 'e4': 5.6950896765989185, 'e5': 7.962084837632453},\n",
       " {'e1': 5.363851358979815, 'e2': 7.882306867817729, 'e3': 7.374468463695529, 'e4': 6.823903241607042, 'e5': 6.184299119229584},\n",
       " {'e1': 7.543963983749954, 'e2': 7.191847577068929, 'e3': 4.690591383198687, 'e4': 7.25696765009616, 'e5': 6.337362498606846},\n",
       " {'e1': 5.969551139575476, 'e2': 8.605286377279029, 'e3': 7.119246200868801, 'e4': 6.62399284283633, 'e5': 5.710990945073738},\n",
       " {'e1': 7.526214753972777, 'e2': 8.071423851232506, 'e3': 5.62191199598599, 'e4': 5.376568933739847, 'e5': 8.177612456020599},\n",
       " {'e1': 5.804706394099841, 'e2': 7.964873405111205, 'e3': 7.508296830076077, 'e4': 6.133875679788349, 'e5': 5.201479075835253},\n",
       " {'e1': 7.446762004181748, 'e2': 6.601176287405025, 'e3': 5.456155192640491, 'e4': 6.631760999241036, 'e5': 5.910942276852617},\n",
       " {'e1': 7.001249938570684, 'e2': 7.222563029098787, 'e3': 5.580661561746937, 'e4': 7.320825806592997, 'e5': 7.066827612155892},\n",
       " {'e1': 6.084881323462699, 'e2': 6.9856536831222735, 'e3': 7.548430974293651, 'e4': 6.696228986509824, 'e5': 6.789568500310307},\n",
       " {'e1': 8.009319149092999, 'e2': 7.638889192241858, 'e3': 7.123294871367312, 'e4': 7.159921225799391, 'e5': 7.935900094620399},\n",
       " {'e1': 7.651619355498078, 'e2': 7.050361957173637, 'e3': 7.2042356287945095, 'e4': 8.126440936829049, 'e5': 6.509240879199737},\n",
       " {'e1': 5.290669190262932, 'e2': 7.058351805507744, 'e3': 5.7880961664296535, 'e4': 7.089270390045683, 'e5': 6.460058989460262},\n",
       " {'e1': 7.933921192404309, 'e2': 6.851027859630314, 'e3': 6.257097784058822, 'e4': 8.01002887065928, 'e5': 6.9792975978032},\n",
       " {'e1': 5.953416384811951, 'e2': 7.306626070067867, 'e3': 5.920010273531542, 'e4': 7.805013202728653, 'e5': 6.027177999501837},\n",
       " {'e1': 7.160851771550793, 'e2': 7.136507548169956, 'e3': 5.676522341989537, 'e4': 6.876677533959326, 'e5': 5.32265673364839},\n",
       " {'e1': 6.424095385394685, 'e2': 8.246112102352889, 'e3': 8.519101651994083, 'e4': 7.439842619364861, 'e5': 5.445181280009408},\n",
       " {'e1': 5.790958693342331, 'e2': 7.272348060778131, 'e3': 4.613265316917609, 'e4': 7.01686939958567, 'e5': 7.343954237894024},\n",
       " {'e1': 7.028446058650653, 'e2': 8.041899659870177, 'e3': 7.148577737349293, 'e4': 5.948698287454616, 'e5': 8.966000507520453},\n",
       " {'e1': 5.431161537039505, 'e2': 8.181734803091446, 'e3': 7.990016434043941, 'e4': 7.925313986827901, 'e5': 7.881863412605026},\n",
       " {'e1': 6.504423663289772, 'e2': 5.7790325304532395, 'e3': 7.5421903690397, 'e4': 6.203933571441675, 'e5': 8.441338489933191},\n",
       " {'e1': 7.292850863434923, 'e2': 7.654389939925561, 'e3': 6.43057058771845, 'e4': 5.737584876278727, 'e5': 6.491681460329486},\n",
       " {'e1': 9.140591511368195, 'e2': 8.262491629683241, 'e3': 4.860504498934922, 'e4': 5.957286000300629, 'e5': 7.618571678603734},\n",
       " {'e1': 6.728202187292633, 'e2': 5.545468690338766, 'e3': 6.8694078537029, 'e4': 7.029280751512768, 'e5': 7.3281845684297195},\n",
       " {'e1': 7.3572134887739615, 'e2': 6.044054014632383, 'e3': 6.403006242786436, 'e4': 7.661183144245199, 'e5': 7.027792629319165},\n",
       " {'e1': 6.648002517729185, 'e2': 7.868388785444456, 'e3': 8.280710879509227, 'e4': 8.613912722006983, 'e5': 8.42167724468571},\n",
       " {'e1': 7.037215047314014, 'e2': 6.6097541246434055, 'e3': 6.390955985416506, 'e4': 4.3822308433881165, 'e5': 6.7888542480931235},\n",
       " {'e1': 5.478539881748372, 'e2': 7.411254428608087, 'e3': 6.72891467963902, 'e4': 8.072359160709304, 'e5': 6.918862081784967},\n",
       " {'e1': 5.783203431367161, 'e2': 6.274272605676343, 'e3': 6.315342800921468, 'e4': 7.691253554144891, 'e5': 6.8101763627187815},\n",
       " {'e1': 6.605776470732944, 'e2': 7.4892425118379835, 'e3': 7.584971029818251, 'e4': 6.434407935407138, 'e5': 7.738897678625361},\n",
       " {'e1': 5.344834812477358, 'e2': 6.775665470920158, 'e3': 5.445090546510122, 'e4': 6.461166076329452, 'e5': 7.626222636193119},\n",
       " {'e1': 6.978291059555025, 'e2': 7.516550836628715, 'e3': 7.384351704041826, 'e4': 8.568315674562994, 'e5': 7.865901722853726},\n",
       " {'e1': 7.837460080391726, 'e2': 8.012376015769938, 'e3': 6.316741907635666, 'e4': 7.766841639486757, 'e5': 6.496975539217586},\n",
       " {'e1': 7.46795442235241, 'e2': 8.157086240760002, 'e3': 6.904994411866289, 'e4': 7.779414583709299, 'e5': 7.456295426276105},\n",
       " {'e1': 7.9375989189358425, 'e2': 7.332234451717278, 'e3': 5.5924672029387885, 'e4': 5.312667595225927, 'e5': 6.891442228261782},\n",
       " {'e1': 8.46008823164916, 'e2': 6.787895970732516, 'e3': 7.698329399317257, 'e4': 6.932669595910439, 'e5': 5.989048776439724},\n",
       " {'e1': 7.54227613841049, 'e2': 6.053430209758229, 'e3': 8.763189798835018, 'e4': 6.309942505298448, 'e5': 5.940289717540058},\n",
       " {'e1': 8.060260411043249, 'e2': 7.091575315131897, 'e3': 7.245004830595374, 'e4': 6.729768451648697, 'e5': 7.834683668647683},\n",
       " {'e1': 5.471572309941479, 'e2': 6.935948364506076, 'e3': 6.949777056835393, 'e4': 7.06974214839665, 'e5': 7.898014577137426},\n",
       " {'e1': 5.701575878138255, 'e2': 4.0012985489163135, 'e3': 9.142647702203064, 'e4': 6.79905030546909, 'e5': 6.592139967341941},\n",
       " {'e1': 8.545181842560812, 'e2': 9.478737165228464, 'e3': 8.01583511571426, 'e4': 6.801552688240248, 'e5': 8.237076074715986},\n",
       " {'e1': 6.804605052336674, 'e2': 8.541937020062598, 'e3': 6.774453584049962, 'e4': 7.6352606062315695, 'e5': 6.076356909683157},\n",
       " {'e1': 5.696618023985108, 'e2': 5.9220893967290005, 'e3': 7.551105435049896, 'e4': 5.339940266902322, 'e5': 8.225642993049231},\n",
       " {'e1': 6.78256417372536, 'e2': 8.84970772056499, 'e3': 9.252184760473543, 'e4': 6.588992661767389, 'e5': 6.2284892191997985},\n",
       " {'e1': 8.470401942827717, 'e2': 8.081658164800745, 'e3': 8.490590333248914, 'e4': 6.79409394180799, 'e5': 5.768693610116813},\n",
       " {'e1': 6.8050868426329005, 'e2': 7.368976364064841, 'e3': 7.157477816742331, 'e4': 7.281352929713621, 'e5': 5.682226581819819},\n",
       " {'e1': 7.795005310930422, 'e2': 6.42256455470553, 'e3': 6.944024955510952, 'e4': 8.434012981083008, 'e5': 6.891530192252122},\n",
       " {'e1': 7.964942409826928, 'e2': 6.060786004701973, 'e3': 5.033913589496844, 'e4': 8.53375302929015, 'e5': 7.06022886276194},\n",
       " {'e1': 6.542407034789204, 'e2': 8.589470529010583, 'e3': 7.1407369626787895, 'e4': 6.949237226239177, 'e5': 6.126111633249446},\n",
       " {'e1': 6.363012826820535, 'e2': 5.31610837028116, 'e3': 5.105557853131272, 'e4': 7.651809509171496, 'e5': 6.635919150956395},\n",
       " {'e1': 6.752838811884854, 'e2': 8.40404348987703, 'e3': 7.010492847900934, 'e4': 7.6413490062162985, 'e5': 6.683814196575365},\n",
       " {'e1': 8.38492168228928, 'e2': 5.53498178032808, 'e3': 6.7200560134084215, 'e4': 7.696401005296909, 'e5': 7.261740407849051},\n",
       " {'e1': 7.1091213336478205, 'e2': 6.386062286207628, 'e3': 5.90176138608457, 'e4': 5.20539344378538, 'e5': 7.488202775152822},\n",
       " {'e1': 8.521520712845724, 'e2': 6.2648636649096945, 'e3': 5.525269925876286, 'e4': 7.366636099231196, 'e5': 8.907499739553295},\n",
       " {'e1': 6.190004482135485, 'e2': 6.053089916222987, 'e3': 6.977656962418928, 'e4': 7.341017149797738, 'e5': 7.628858357716981},\n",
       " {'e1': 7.859380195508489, 'e2': 5.906104825556419, 'e3': 6.632603634299511, 'e4': 6.709346902075884, 'e5': 7.021352840062357},\n",
       " {'e1': 5.0012942098093065, 'e2': 8.227857049323278, 'e3': 7.51137144712907, 'e4': 6.48513193095216, 'e5': 5.461048233466397},\n",
       " {'e1': 5.655354608294091, 'e2': 7.734718387504206, 'e3': 6.346695453652089, 'e4': 7.360955154736771, 'e5': 7.325958624399731},\n",
       " {'e1': 6.389640294900791, 'e2': 8.490022058648806, 'e3': 8.167189964329234, 'e4': 8.053401955897845, 'e5': 4.192885848805605},\n",
       " {'e1': 6.813907662748073, 'e2': 6.517016302968201, 'e3': 7.002850504686486, 'e4': 7.225767505323592, 'e5': 6.535064694581074},\n",
       " {'e1': 5.594745920856616, 'e2': 7.147752787616834, 'e3': 6.989195914088943, 'e4': 6.457012651830836, 'e5': 7.619187016834601},\n",
       " {'e1': 9.271785718370307, 'e2': 6.781787679626816, 'e3': 8.039573919174448, 'e4': 6.3818553216350296, 'e5': 8.755588286663748},\n",
       " {'e1': 8.053089336569208, 'e2': 6.376814468562185, 'e3': 7.993105836406021, 'e4': 7.388497169353155, 'e5': 6.8024411724668505},\n",
       " {'e1': 6.616072683848527, 'e2': 7.095555400906699, 'e3': 5.920345905775087, 'e4': 6.021275443188779, 'e5': 6.880315247890452},\n",
       " {'e1': 3.9078956141031798, 'e2': 4.839343824988435, 'e3': 7.527656838336476, 'e4': 7.173987253571699, 'e5': 8.64018636562245},\n",
       " {'e1': 6.877476734399136, 'e2': 5.471967340563419, 'e3': 5.039910479882904, 'e4': 5.655366896990701, 'e5': 7.3863487532708945},\n",
       " {'e1': 7.821504683446487, 'e2': 7.607564063261229, 'e3': 7.61180266582025, 'e4': 8.969161249235478, 'e5': 6.708775770139932},\n",
       " {'e1': 7.645517689782613, 'e2': 6.968633161278071, 'e3': 6.202047897894619, 'e4': 7.59830806060399, 'e5': 7.020760114841781},\n",
       " {'e1': 6.605552774400859, 'e2': 8.118148967847691, 'e3': 7.578230098785647, 'e4': 6.90422098156324, 'e5': 6.512464284401374},\n",
       " {'e1': 7.469725339561014, 'e2': 6.8447676888415865, 'e3': 6.572783064221576, 'e4': 7.352306536068919, 'e5': 6.685114788049724},\n",
       " {'e1': 8.323696346214467, 'e2': 6.087383325751327, 'e3': 7.294881844522735, 'e4': 4.7582732953111435, 'e5': 8.606814498340878},\n",
       " {'e1': 7.808076715386732, 'e2': 8.340152696051844, 'e3': 6.599505382142977, 'e4': 8.302264633800174, 'e5': 5.485693137825675},\n",
       " {'e1': 5.770619490201222, 'e2': 8.081889028568092, 'e3': 7.171538404101819, 'e4': 6.943147013165227, 'e5': 7.547964829301513},\n",
       " {'e1': 8.298788596297225, 'e2': 4.723632768492701, 'e3': 5.771089415497782, 'e4': 8.027944050201592, 'e5': 6.96623114528882},\n",
       " {'e1': 7.533365505283319, 'e2': 7.830613464065821, 'e3': 8.650690063656969, 'e4': 7.647451292477542, 'e5': 7.128857799594417},\n",
       " {'e1': 5.499074817260862, 'e2': 7.867692152279626, 'e3': 7.548252849514634, 'e4': 6.39308183075862, 'e5': 6.471013116972798},\n",
       " {'e1': 6.657234785318385, 'e2': 6.439800695359573, 'e3': 7.300607110746255, 'e4': 8.185979838836847, 'e5': 6.940708838614107},\n",
       " {'e1': 8.157125117108379, 'e2': 6.406353538869822, 'e3': 7.026117505061476, 'e4': 7.337483607587827, 'e5': 7.2681519306914275},\n",
       " {'e1': 7.6323629397804424, 'e2': 6.6109801962090105, 'e3': 6.378285231567393, 'e4': 7.208437102277249, 'e5': 7.188497597139151},\n",
       " {'e1': 9.334773434880514, 'e2': 7.149219935250966, 'e3': 7.409025688323631, 'e4': 5.692614979431378, 'e5': 8.276049157835331},\n",
       " {'e1': 6.480314861238116, 'e2': 8.43769767686385, 'e3': 6.139267254696509, 'e4': 6.655658316779024, 'e5': 6.852802757892998},\n",
       " {'e1': 7.688815836401295, 'e2': 7.925607534488488, 'e3': 6.299698047179213, 'e4': 6.536985661756099, 'e5': 6.245642227741811},\n",
       " {'e1': 7.307188610876087, 'e2': 6.787491599524472, 'e3': 5.146369333836973, 'e4': 6.110646432931648, 'e5': 6.504004670919676},\n",
       " {'e1': 8.536941466758552, 'e2': 6.807533961488029, 'e3': 5.655138957832376, 'e4': 7.23298575031576, 'e5': 9.301289571375273},\n",
       " {'e1': 7.463468219064628, 'e2': 5.75289994035485, 'e3': 7.2960927147008565, 'e4': 7.004771169272294, 'e5': 5.3758615364018265},\n",
       " {'e1': 9.005067949940669, 'e2': 6.022802467116344, 'e3': 8.70133021378596, 'e4': 6.984145453130019, 'e5': 7.664466989102548},\n",
       " {'e1': 7.117107008573277, 'e2': 8.000416410256745, 'e3': 6.620151981870258, 'e4': 8.282407913990903, 'e5': 5.927257299827613},\n",
       " {'e1': 7.542294563095489, 'e2': 6.20150341344521, 'e3': 6.582626332698306, 'e4': 7.4281238299151235, 'e5': 6.569911016501117},\n",
       " {'e1': 6.140758681357294, 'e2': 4.773324398666065, 'e3': 6.618264559058321, 'e4': 7.188362453623443, 'e5': 7.585110802122853},\n",
       " {'e1': 6.293537253924486, 'e2': 8.963201501522214, 'e3': 6.052872076994483, 'e4': 5.891181347868536, 'e5': 6.810094043842533},\n",
       " {'e1': 8.870574535349336, 'e2': 7.97617509768087, 'e3': 7.389487246021335, 'e4': 7.673590114371807, 'e5': 7.215803841392259},\n",
       " {'e1': 6.528084036987639, 'e2': 8.779201088411059, 'e3': 5.5402895027570285, 'e4': 7.6364281003039345, 'e5': 7.080648435967551},\n",
       " {'e1': 7.959955360859367, 'e2': 5.326954246422378, 'e3': 6.874443694674801, 'e4': 6.1102271200272416, 'e5': 5.333682140167813},\n",
       " {'e1': 6.1694950532154635, 'e2': 6.696007077179421, 'e3': 8.909515838510194, 'e4': 7.12566932253581, 'e5': 7.844325122288357},\n",
       " {'e1': 6.200742690650345, 'e2': 7.702876869798722, 'e3': 4.995253362277427, 'e4': 7.939760160882594, 'e5': 6.307255463233399},\n",
       " {'e1': 6.368093724521374, 'e2': 6.872087940170137, 'e3': 4.6002594055071135, 'e4': 7.355746872010337, 'e5': 5.5138292748607265},\n",
       " {'e1': 5.508505869857642, 'e2': 5.386394589475973, 'e3': 3.4408904953692088, 'e4': 7.933641978206322, 'e5': 5.813736404847445},\n",
       " {'e1': 7.228148138971517, 'e2': 10.1568705620883, 'e3': 6.488550593362033, 'e4': 6.7237589206035056, 'e5': 8.252012772680379},\n",
       " {'e1': 6.53519356846421, 'e2': 6.298531818041365, 'e3': 7.332740735156007, 'e4': 6.760242772026704, 'e5': 7.047680907727964},\n",
       " {'e1': 5.592947995300357, 'e2': 8.940008371036885, 'e3': 7.516800014910219, 'e4': 7.440477519842318, 'e5': 4.535952553049786}]"
      ]
     },
     "execution_count": 66,
     "metadata": {},
     "output_type": "execute_result"
    }
   ],
   "source": [
    "%%kql -pw \n",
    "    let randn = () {rand() + rand() + rand() + rand() + rand() + rand() + rand() + rand() + rand() + rand() + rand() + rand() + rand() + rand()};\n",
    "range c from 1 to 1000 step 1 \n",
    "    | limit 1000\n",
    "    | extend e1 = randn()\n",
    "    | extend e2 = randn()\n",
    "    | extend e3 = randn()\n",
    "    | extend e4 = randn()\n",
    "    | extend e5 = randn()\n",
    "    | project e1,e2,e3,e4,e5\n",
    "    | render scatterchart title=\"Michael's chart\""
   ]
  },
  {
   "cell_type": "markdown",
   "metadata": {},
   "source": [
    "  - ### <span style=\"color:#82CAFA\">*Note: popup_window option (abbr: pw) cause the result to be displayed in a popup window*</span>"
   ]
  },
  {
   "cell_type": "markdown",
   "metadata": {},
   "source": [
    "## Empty table"
   ]
  },
  {
   "cell_type": "code",
   "execution_count": 67,
   "metadata": {},
   "outputs": [
    {
     "data": {
      "text/html": [
       "<html>\n",
       "        <head>\n",
       "        \n",
       "        </head>\n",
       "        <body>\n",
       "        <div><p style='padding: 10px; color: #3a87ad; background-color: #d9edf7; border-color: #bce9f1'>&nbsp*&nbspDEMO_APP@appinsights</p></div>\n",
       "        </body>\n",
       "        </html>"
      ],
      "text/plain": [
       "<IPython.core.display.HTML object>"
      ]
     },
     "metadata": {},
     "output_type": "display_data"
    },
    {
     "data": {
      "text/html": [
       "<html>\n",
       "        <head>\n",
       "        \n",
       "        </head>\n",
       "        <body>\n",
       "        <table>\n",
       "    <tr>\n",
       "        <th>client_City</th>\n",
       "        <th>count_</th>\n",
       "        <th>count2</th>\n",
       "    </tr>\n",
       "</table>\n",
       "        </body>\n",
       "        </html>"
      ],
      "text/plain": [
       "<IPython.core.display.HTML object>"
      ]
     },
     "metadata": {},
     "output_type": "display_data"
    },
    {
     "data": {
      "text/html": [
       "<html>\n",
       "        <head>\n",
       "        \n",
       "        </head>\n",
       "        <body>\n",
       "        <div><p style='padding: 10px; color: #3a87ad; background-color: #d9edf7; border-color: #bce9f1'>Done&nbsp(00:01.202):&nbsp0&nbsprecords</p></div>\n",
       "        </body>\n",
       "        </html>"
      ],
      "text/plain": [
       "<IPython.core.display.HTML object>"
      ]
     },
     "metadata": {},
     "output_type": "display_data"
    },
    {
     "data": {
      "text/html": [],
      "text/plain": [
       "[]"
      ]
     },
     "execution_count": 67,
     "metadata": {},
     "output_type": "execute_result"
    }
   ],
   "source": [
    "%%kql \n",
    "    pageViews \n",
    "    | where client_City != '' \n",
    "    | summarize count() by client_City \n",
    "    | sort by count_ \n",
    "    | extend count2 = count_*count_ \n",
    "    | limit 0"
   ]
  },
  {
   "cell_type": "code",
   "execution_count": 68,
   "metadata": {},
   "outputs": [
    {
     "data": {
      "text/html": [
       "<html>\n",
       "        <head>\n",
       "        \n",
       "        </head>\n",
       "        <body>\n",
       "        <div><p style='padding: 10px; color: #3a87ad; background-color: #d9edf7; border-color: #bce9f1'>&nbsp*&nbspDEMO_APP@appinsights</p></div>\n",
       "        </body>\n",
       "        </html>"
      ],
      "text/plain": [
       "<IPython.core.display.HTML object>"
      ]
     },
     "metadata": {},
     "output_type": "display_data"
    },
    {
     "data": {
      "text/html": [
       "<html>\n",
       "        <head>\n",
       "        <style>#uuid-cd16b1653faa42aaac8601e86e1311ae {\n",
       "                display: block; \n",
       "                font-style:italic;\n",
       "                font-size:300%;\n",
       "                text-align:center;\n",
       "            } </style>\n",
       "        </head>\n",
       "        <body>\n",
       "        <div id=\"uuid-cd16b1653faa42aaac8601e86e1311ae\"><br><br>EMPTY CHART (no data)<br><br>.</div>\n",
       "        </body>\n",
       "        </html>"
      ],
      "text/plain": [
       "<IPython.core.display.HTML object>"
      ]
     },
     "metadata": {},
     "output_type": "display_data"
    },
    {
     "data": {
      "text/html": [
       "<html>\n",
       "        <head>\n",
       "        \n",
       "        </head>\n",
       "        <body>\n",
       "        <div><p style='padding: 10px; color: #3a87ad; background-color: #d9edf7; border-color: #bce9f1'>Done&nbsp(00:01.451):&nbsp0&nbsprecords</p></div>\n",
       "        </body>\n",
       "        </html>"
      ],
      "text/plain": [
       "<IPython.core.display.HTML object>"
      ]
     },
     "metadata": {},
     "output_type": "display_data"
    },
    {
     "data": {
      "text/html": [],
      "text/plain": [
       "[]"
      ]
     },
     "execution_count": 68,
     "metadata": {},
     "output_type": "execute_result"
    }
   ],
   "source": [
    "%%kql \n",
    "    pageViews \n",
    "    | where client_City != '' \n",
    "    | summarize count() by client_City \n",
    "    | sort by count_ \n",
    "    | extend count2 = count_*count_ \n",
    "    | limit 0 \n",
    "    | render piechart title='my chart'"
   ]
  },
  {
   "cell_type": "code",
   "execution_count": 69,
   "metadata": {},
   "outputs": [
    {
     "data": {
      "text/plain": [
       "0"
      ]
     },
     "execution_count": 69,
     "metadata": {},
     "output_type": "execute_result"
    }
   ],
   "source": [
    "len(_kql_raw_result_)"
   ]
  },
  {
   "cell_type": "code",
   "execution_count": 70,
   "metadata": {},
   "outputs": [
    {
     "data": {
      "text/html": [
       "<!DOCTYPE html>\n",
       "            <html><body>\n",
       "\n",
       "            <button onclick=\"this.style.visibility='hidden';kql_MagicLaunchWindowFunction('Kqlmagic_temp_files/62be0683d41f41eb8053af8174a93e2a.html','fullscreen=no,directories=no,location=no,menubar=no,resizable=yes,scrollbars=yes,status=no,titlebar=no,toolbar=no,','62be0683d41f41eb8053af8174a93e2a','')\">popup piechart - my chart </button>\n",
       "\n",
       "            <script>\n",
       "\n",
       "            function kql_MagicLaunchWindowFunction(file_path, window_params, window_name, notebooks_host) {\n",
       "                var url;\n",
       "                if (file_path.startsWith('http')) {\n",
       "                    url = file_path;\n",
       "                } else {\n",
       "                    var base_url = '';\n",
       "\n",
       "                    // check if azure notebook\n",
       "                    var azure_host = (notebooks_host == null || notebooks_host.length == 0) ? 'https://notebooks.azure.com' : notebooks_host;\n",
       "                    var start = azure_host.search('//');\n",
       "                    var azure_host_suffix = '.' + azure_host.substring(start+2);\n",
       "\n",
       "                    var loc = String(window.location);\n",
       "                    var end = loc.search(azure_host_suffix);\n",
       "                    start = loc.search('//');\n",
       "                    if (start > 0 && end > 0) {\n",
       "                        var parts = loc.substring(start+2, end).split('-');\n",
       "                        if (parts.length == 2) {\n",
       "                            var library = parts[0];\n",
       "                            var user = parts[1];\n",
       "                            base_url = azure_host + '/api/user/' +user+ '/library/' +library+ '/html/';\n",
       "                        }\n",
       "                    }\n",
       "\n",
       "                    // check if local jupyter lab\n",
       "                    if (base_url.length == 0) {\n",
       "                        var configDataScipt  = document.getElementById('jupyter-config-data');\n",
       "                        if (configDataScipt != null) {\n",
       "                            var jupyterConfigData = JSON.parse(configDataScipt.textContent);\n",
       "                            if (jupyterConfigData['appName'] == 'JupyterLab' && jupyterConfigData['serverRoot'] != null &&  jupyterConfigData['treeUrl'] != null) {\n",
       "                                var basePath = 'c:/My Projects/jupyter-Kqlmagic-microsoft-vsc/notebooks' + '/';\n",
       "                                if (basePath.startsWith(jupyterConfigData['serverRoot'])) {\n",
       "                                    base_url = '/files/' + basePath.substring(jupyterConfigData['serverRoot'].length+1);\n",
       "                                }\n",
       "                            } \n",
       "                        }\n",
       "                    }\n",
       "\n",
       "                    // assume local jupyter notebook\n",
       "                    if (base_url.length == 0) {\n",
       "\n",
       "                        var parts = loc.split('/');\n",
       "                        parts.pop();\n",
       "                        base_url = parts.join('/') + '/';\n",
       "                    }\n",
       "                    url = base_url + file_path;\n",
       "                }\n",
       "\n",
       "                window.focus();\n",
       "                var w = screen.width / 2;\n",
       "                var h = screen.height / 2;\n",
       "                params = 'width='+w+',height='+h;\n",
       "                kql_Magic_62be0683d41f41eb8053af8174a93e2a = window.open(url, window_name, window_params + params);\n",
       "            }\n",
       "            </script>\n",
       "\n",
       "            </body></html>"
      ],
      "text/plain": [
       "<IPython.core.display.HTML object>"
      ]
     },
     "metadata": {},
     "output_type": "display_data"
    }
   ],
   "source": [
    "_kql_raw_result_.popup()"
   ]
  },
  {
   "cell_type": "code",
   "execution_count": 71,
   "metadata": {},
   "outputs": [
    {
     "data": {
      "text/html": [
       "<html>\n",
       "        <head>\n",
       "        \n",
       "        </head>\n",
       "        <body>\n",
       "        <table>\n",
       "    <tr>\n",
       "        <th>client_City</th>\n",
       "        <th>count_</th>\n",
       "        <th>count2</th>\n",
       "    </tr>\n",
       "</table>\n",
       "        </body>\n",
       "        </html>"
      ],
      "text/plain": [
       "<IPython.core.display.HTML object>"
      ]
     },
     "metadata": {},
     "output_type": "display_data"
    }
   ],
   "source": [
    "_kql_raw_result_.show_table()"
   ]
  },
  {
   "cell_type": "code",
   "execution_count": 72,
   "metadata": {},
   "outputs": [
    {
     "data": {
      "text/html": [
       "<div>\n",
       "<style scoped>\n",
       "    .dataframe tbody tr th:only-of-type {\n",
       "        vertical-align: middle;\n",
       "    }\n",
       "\n",
       "    .dataframe tbody tr th {\n",
       "        vertical-align: top;\n",
       "    }\n",
       "\n",
       "    .dataframe thead th {\n",
       "        text-align: right;\n",
       "    }\n",
       "</style>\n",
       "<table border=\"1\" class=\"dataframe\">\n",
       "  <thead>\n",
       "    <tr style=\"text-align: right;\">\n",
       "      <th></th>\n",
       "      <th>client_City</th>\n",
       "      <th>count_</th>\n",
       "      <th>count2</th>\n",
       "    </tr>\n",
       "  </thead>\n",
       "  <tbody>\n",
       "  </tbody>\n",
       "</table>\n",
       "</div>"
      ],
      "text/plain": [
       "Empty DataFrame\n",
       "Columns: [client_City, count_, count2]\n",
       "Index: []"
      ]
     },
     "execution_count": 72,
     "metadata": {},
     "output_type": "execute_result"
    }
   ],
   "source": [
    "df = _kql_raw_result_.to_dataframe()\n",
    "df"
   ]
  },
  {
   "cell_type": "code",
   "execution_count": 73,
   "metadata": {},
   "outputs": [
    {
     "data": {
      "text/plain": [
       "'{\"client_City\":{},\"count_\":{},\"count2\":{}}'"
      ]
     },
     "execution_count": 73,
     "metadata": {},
     "output_type": "execute_result"
    }
   ],
   "source": [
    "df.to_json()"
   ]
  },
  {
   "cell_type": "code",
   "execution_count": 74,
   "metadata": {
    "scrolled": true
   },
   "outputs": [
    {
     "data": {
      "text/plain": [
       "{\n",
       "    \u001b[34;01m\"Tables\"\u001b[39;49;00m: [\n",
       "        {\n",
       "            \u001b[34;01m\"Columns\"\u001b[39;49;00m: [\n",
       "                {\n",
       "                    \u001b[34;01m\"ColumnName\"\u001b[39;49;00m: \u001b[33m\"client_City\"\u001b[39;49;00m,\n",
       "                    \u001b[34;01m\"ColumnType\"\u001b[39;49;00m: \u001b[33m\"string\"\u001b[39;49;00m,\n",
       "                    \u001b[34;01m\"DataType\"\u001b[39;49;00m: \u001b[33m\"String\"\u001b[39;49;00m\n",
       "                },\n",
       "                {\n",
       "                    \u001b[34;01m\"ColumnName\"\u001b[39;49;00m: \u001b[33m\"count_\"\u001b[39;49;00m,\n",
       "                    \u001b[34;01m\"ColumnType\"\u001b[39;49;00m: \u001b[33m\"long\"\u001b[39;49;00m,\n",
       "                    \u001b[34;01m\"DataType\"\u001b[39;49;00m: \u001b[33m\"Int64\"\u001b[39;49;00m\n",
       "                },\n",
       "                {\n",
       "                    \u001b[34;01m\"ColumnName\"\u001b[39;49;00m: \u001b[33m\"count2\"\u001b[39;49;00m,\n",
       "                    \u001b[34;01m\"ColumnType\"\u001b[39;49;00m: \u001b[33m\"long\"\u001b[39;49;00m,\n",
       "                    \u001b[34;01m\"DataType\"\u001b[39;49;00m: \u001b[33m\"Int64\"\u001b[39;49;00m\n",
       "                }\n",
       "            ],\n",
       "            \u001b[34;01m\"Rows\"\u001b[39;49;00m: [],\n",
       "            \u001b[34;01m\"TableName\"\u001b[39;49;00m: \u001b[33m\"Table_0\"\u001b[39;49;00m\n",
       "        },\n",
       "        {\n",
       "            \u001b[34;01m\"Columns\"\u001b[39;49;00m: [\n",
       "                {\n",
       "                    \u001b[34;01m\"ColumnName\"\u001b[39;49;00m: \u001b[33m\"Value\"\u001b[39;49;00m,\n",
       "                    \u001b[34;01m\"ColumnType\"\u001b[39;49;00m: \u001b[33m\"string\"\u001b[39;49;00m,\n",
       "                    \u001b[34;01m\"DataType\"\u001b[39;49;00m: \u001b[33m\"String\"\u001b[39;49;00m\n",
       "                }\n",
       "            ],\n",
       "            \u001b[34;01m\"Rows\"\u001b[39;49;00m: [\n",
       "                [\n",
       "                    \u001b[33m\"{\\\"Visualization\\\":\\\"piechart\\\",\\\"Title\\\":\\\"my chart\\\",\\\"XColumn\\\":null,\\\"Series\\\":null,\\\"YColumns\\\":null,\\\"XTitle\\\":null,\\\"YTitle\\\":null,\\\"XAxis\\\":null,\\\"YAxis\\\":null,\\\"Legend\\\":null,\\\"YSplit\\\":null,\\\"Accumulate\\\":false,\\\"IsQuerySorted\\\":true,\\\"Kind\\\":null}\"\u001b[39;49;00m\n",
       "                ]\n",
       "            ],\n",
       "            \u001b[34;01m\"TableName\"\u001b[39;49;00m: \u001b[33m\"Table_1\"\u001b[39;49;00m\n",
       "        },\n",
       "        {\n",
       "            \u001b[34;01m\"Columns\"\u001b[39;49;00m: [\n",
       "                {\n",
       "                    \u001b[34;01m\"ColumnName\"\u001b[39;49;00m: \u001b[33m\"Timestamp\"\u001b[39;49;00m,\n",
       "                    \u001b[34;01m\"ColumnType\"\u001b[39;49;00m: \u001b[33m\"datetime\"\u001b[39;49;00m,\n",
       "                    \u001b[34;01m\"DataType\"\u001b[39;49;00m: \u001b[33m\"DateTime\"\u001b[39;49;00m\n",
       "                },\n",
       "                {\n",
       "                    \u001b[34;01m\"ColumnName\"\u001b[39;49;00m: \u001b[33m\"Severity\"\u001b[39;49;00m,\n",
       "                    \u001b[34;01m\"ColumnType\"\u001b[39;49;00m: \u001b[33m\"int\"\u001b[39;49;00m,\n",
       "                    \u001b[34;01m\"DataType\"\u001b[39;49;00m: \u001b[33m\"Int32\"\u001b[39;49;00m\n",
       "                },\n",
       "                {\n",
       "                    \u001b[34;01m\"ColumnName\"\u001b[39;49;00m: \u001b[33m\"SeverityName\"\u001b[39;49;00m,\n",
       "                    \u001b[34;01m\"ColumnType\"\u001b[39;49;00m: \u001b[33m\"string\"\u001b[39;49;00m,\n",
       "                    \u001b[34;01m\"DataType\"\u001b[39;49;00m: \u001b[33m\"String\"\u001b[39;49;00m\n",
       "                },\n",
       "                {\n",
       "                    \u001b[34;01m\"ColumnName\"\u001b[39;49;00m: \u001b[33m\"StatusCode\"\u001b[39;49;00m,\n",
       "                    \u001b[34;01m\"ColumnType\"\u001b[39;49;00m: \u001b[33m\"int\"\u001b[39;49;00m,\n",
       "                    \u001b[34;01m\"DataType\"\u001b[39;49;00m: \u001b[33m\"Int32\"\u001b[39;49;00m\n",
       "                },\n",
       "                {\n",
       "                    \u001b[34;01m\"ColumnName\"\u001b[39;49;00m: \u001b[33m\"StatusDescription\"\u001b[39;49;00m,\n",
       "                    \u001b[34;01m\"ColumnType\"\u001b[39;49;00m: \u001b[33m\"string\"\u001b[39;49;00m,\n",
       "                    \u001b[34;01m\"DataType\"\u001b[39;49;00m: \u001b[33m\"String\"\u001b[39;49;00m\n",
       "                },\n",
       "                {\n",
       "                    \u001b[34;01m\"ColumnName\"\u001b[39;49;00m: \u001b[33m\"Count\"\u001b[39;49;00m,\n",
       "                    \u001b[34;01m\"ColumnType\"\u001b[39;49;00m: \u001b[33m\"int\"\u001b[39;49;00m,\n",
       "                    \u001b[34;01m\"DataType\"\u001b[39;49;00m: \u001b[33m\"Int32\"\u001b[39;49;00m\n",
       "                },\n",
       "                {\n",
       "                    \u001b[34;01m\"ColumnName\"\u001b[39;49;00m: \u001b[33m\"RequestId\"\u001b[39;49;00m,\n",
       "                    \u001b[34;01m\"ColumnType\"\u001b[39;49;00m: \u001b[33m\"guid\"\u001b[39;49;00m,\n",
       "                    \u001b[34;01m\"DataType\"\u001b[39;49;00m: \u001b[33m\"Guid\"\u001b[39;49;00m\n",
       "                },\n",
       "                {\n",
       "                    \u001b[34;01m\"ColumnName\"\u001b[39;49;00m: \u001b[33m\"ActivityId\"\u001b[39;49;00m,\n",
       "                    \u001b[34;01m\"ColumnType\"\u001b[39;49;00m: \u001b[33m\"guid\"\u001b[39;49;00m,\n",
       "                    \u001b[34;01m\"DataType\"\u001b[39;49;00m: \u001b[33m\"Guid\"\u001b[39;49;00m\n",
       "                },\n",
       "                {\n",
       "                    \u001b[34;01m\"ColumnName\"\u001b[39;49;00m: \u001b[33m\"SubActivityId\"\u001b[39;49;00m,\n",
       "                    \u001b[34;01m\"ColumnType\"\u001b[39;49;00m: \u001b[33m\"guid\"\u001b[39;49;00m,\n",
       "                    \u001b[34;01m\"DataType\"\u001b[39;49;00m: \u001b[33m\"Guid\"\u001b[39;49;00m\n",
       "                },\n",
       "                {\n",
       "                    \u001b[34;01m\"ColumnName\"\u001b[39;49;00m: \u001b[33m\"ClientActivityId\"\u001b[39;49;00m,\n",
       "                    \u001b[34;01m\"ColumnType\"\u001b[39;49;00m: \u001b[33m\"string\"\u001b[39;49;00m,\n",
       "                    \u001b[34;01m\"DataType\"\u001b[39;49;00m: \u001b[33m\"String\"\u001b[39;49;00m\n",
       "                }\n",
       "            ],\n",
       "            \u001b[34;01m\"Rows\"\u001b[39;49;00m: [\n",
       "                [\n",
       "                    \u001b[33m\"2018-10-21T17:05:55.4673611Z\"\u001b[39;49;00m,\n",
       "                    \u001b[34m4\u001b[39;49;00m,\n",
       "                    \u001b[33m\"Info\"\u001b[39;49;00m,\n",
       "                    \u001b[34m0\u001b[39;49;00m,\n",
       "                    \u001b[33m\"Query completed successfully\"\u001b[39;49;00m,\n",
       "                    \u001b[34m2\u001b[39;49;00m,\n",
       "                    \u001b[33m\"646c046d-c0ee-443a-816a-6aaff30c2da0\"\u001b[39;49;00m,\n",
       "                    \u001b[33m\"646c046d-c0ee-443a-816a-6aaff30c2da0\"\u001b[39;49;00m,\n",
       "                    \u001b[33m\"ab07864f-67ac-46d2-9510-138485e73867\"\u001b[39;49;00m,\n",
       "                    \u001b[33m\"f35ef432-8c30-4ce3-9d95-2d4f212ec2d4\"\u001b[39;49;00m\n",
       "                ],\n",
       "                [\n",
       "                    \u001b[33m\"2018-10-21T17:05:55.4599127Z\"\u001b[39;49;00m,\n",
       "                    \u001b[34m6\u001b[39;49;00m,\n",
       "                    \u001b[33m\"Stats\"\u001b[39;49;00m,\n",
       "                    \u001b[34m0\u001b[39;49;00m,\n",
       "                    \u001b[33m\"{\\\"ExecutionTime\\\":0.2656103,\\\"resource_usage\\\":{\\\"cache\\\":{\\\"memory\\\":{\\\"hits\\\":69052,\\\"misses\\\":0,\\\"total\\\":69052},\\\"disk\\\":{\\\"hits\\\":0,\\\"misses\\\":0,\\\"total\\\":0}},\\\"cpu\\\":{\\\"user\\\":\\\"00:00:02.8437500\\\",\\\"kernel\\\":\\\"00:00:00\\\",\\\"total cpu\\\":\\\"00:00:02.8437500\\\"},\\\"memory\\\":{\\\"peak_per_node\\\":0}},\\\"input_dataset_statistics\\\":{\\\"extents\\\":{\\\"total\\\":1516,\\\"scanned\\\":1109},\\\"rows\\\":{\\\"total\\\":3446864555,\\\"scanned\\\":1703208455},\\\"rowstores\\\":{\\\"scanned_rows\\\":0}},\\\"dataset_statistics\\\":[{\\\"table_row_count\\\":0,\\\"table_size\\\":0}]}\"\u001b[39;49;00m,\n",
       "                    \u001b[34m1\u001b[39;49;00m,\n",
       "                    \u001b[33m\"646c046d-c0ee-443a-816a-6aaff30c2da0\"\u001b[39;49;00m,\n",
       "                    \u001b[33m\"646c046d-c0ee-443a-816a-6aaff30c2da0\"\u001b[39;49;00m,\n",
       "                    \u001b[33m\"ab07864f-67ac-46d2-9510-138485e73867\"\u001b[39;49;00m,\n",
       "                    \u001b[33m\"f35ef432-8c30-4ce3-9d95-2d4f212ec2d4\"\u001b[39;49;00m\n",
       "                ]\n",
       "            ],\n",
       "            \u001b[34;01m\"TableName\"\u001b[39;49;00m: \u001b[33m\"Table_2\"\u001b[39;49;00m\n",
       "        },\n",
       "        {\n",
       "            \u001b[34;01m\"Columns\"\u001b[39;49;00m: [\n",
       "                {\n",
       "                    \u001b[34;01m\"ColumnName\"\u001b[39;49;00m: \u001b[33m\"Ordinal\"\u001b[39;49;00m,\n",
       "                    \u001b[34;01m\"ColumnType\"\u001b[39;49;00m: \u001b[33m\"long\"\u001b[39;49;00m,\n",
       "                    \u001b[34;01m\"DataType\"\u001b[39;49;00m: \u001b[33m\"Int64\"\u001b[39;49;00m\n",
       "                },\n",
       "                {\n",
       "                    \u001b[34;01m\"ColumnName\"\u001b[39;49;00m: \u001b[33m\"Kind\"\u001b[39;49;00m,\n",
       "                    \u001b[34;01m\"ColumnType\"\u001b[39;49;00m: \u001b[33m\"string\"\u001b[39;49;00m,\n",
       "                    \u001b[34;01m\"DataType\"\u001b[39;49;00m: \u001b[33m\"String\"\u001b[39;49;00m\n",
       "                },\n",
       "                {\n",
       "                    \u001b[34;01m\"ColumnName\"\u001b[39;49;00m: \u001b[33m\"Name\"\u001b[39;49;00m,\n",
       "                    \u001b[34;01m\"ColumnType\"\u001b[39;49;00m: \u001b[33m\"string\"\u001b[39;49;00m,\n",
       "                    \u001b[34;01m\"DataType\"\u001b[39;49;00m: \u001b[33m\"String\"\u001b[39;49;00m\n",
       "                },\n",
       "                {\n",
       "                    \u001b[34;01m\"ColumnName\"\u001b[39;49;00m: \u001b[33m\"Id\"\u001b[39;49;00m,\n",
       "                    \u001b[34;01m\"ColumnType\"\u001b[39;49;00m: \u001b[33m\"string\"\u001b[39;49;00m,\n",
       "                    \u001b[34;01m\"DataType\"\u001b[39;49;00m: \u001b[33m\"String\"\u001b[39;49;00m\n",
       "                },\n",
       "                {\n",
       "                    \u001b[34;01m\"ColumnName\"\u001b[39;49;00m: \u001b[33m\"PrettyName\"\u001b[39;49;00m,\n",
       "                    \u001b[34;01m\"ColumnType\"\u001b[39;49;00m: \u001b[33m\"string\"\u001b[39;49;00m,\n",
       "                    \u001b[34;01m\"DataType\"\u001b[39;49;00m: \u001b[33m\"String\"\u001b[39;49;00m\n",
       "                }\n",
       "            ],\n",
       "            \u001b[34;01m\"Rows\"\u001b[39;49;00m: [\n",
       "                [\n",
       "                    \u001b[34m0\u001b[39;49;00m,\n",
       "                    \u001b[33m\"QueryResult\"\u001b[39;49;00m,\n",
       "                    \u001b[33m\"PrimaryResult\"\u001b[39;49;00m,\n",
       "                    \u001b[33m\"ef5e2f5b-f950-4c4f-bc15-4cd68ed9646a\"\u001b[39;49;00m,\n",
       "                    \u001b[33m\"\"\u001b[39;49;00m\n",
       "                ],\n",
       "                [\n",
       "                    \u001b[34m1\u001b[39;49;00m,\n",
       "                    \u001b[33m\"QueryProperties\"\u001b[39;49;00m,\n",
       "                    \u001b[33m\"@ExtendedProperties\"\u001b[39;49;00m,\n",
       "                    \u001b[33m\"7b0a1507-615f-4607-a979-eef166a3a1f5\"\u001b[39;49;00m,\n",
       "                    \u001b[33m\"\"\u001b[39;49;00m\n",
       "                ],\n",
       "                [\n",
       "                    \u001b[34m2\u001b[39;49;00m,\n",
       "                    \u001b[33m\"QueryStatus\"\u001b[39;49;00m,\n",
       "                    \u001b[33m\"QueryStatus\"\u001b[39;49;00m,\n",
       "                    \u001b[33m\"00000000-0000-0000-0000-000000000000\"\u001b[39;49;00m,\n",
       "                    \u001b[33m\"\"\u001b[39;49;00m\n",
       "                ]\n",
       "            ],\n",
       "            \u001b[34;01m\"TableName\"\u001b[39;49;00m: \u001b[33m\"Table_3\"\u001b[39;49;00m\n",
       "        }\n",
       "    ]\n",
       "}"
      ]
     },
     "execution_count": 74,
     "metadata": {},
     "output_type": "execute_result"
    }
   ],
   "source": [
    "_kql_raw_result_.raw_json"
   ]
  },
  {
   "cell_type": "markdown",
   "metadata": {},
   "source": [
    "## Kql request with fork - return multiple tables"
   ]
  },
  {
   "cell_type": "code",
   "execution_count": 75,
   "metadata": {},
   "outputs": [
    {
     "data": {
      "text/html": [
       "<html>\n",
       "        <head>\n",
       "        \n",
       "        </head>\n",
       "        <body>\n",
       "        <div><p style='padding: 10px; color: #3a87ad; background-color: #d9edf7; border-color: #bce9f1'>&nbsp*&nbspDEMO_APP@appinsights</p></div>\n",
       "        </body>\n",
       "        </html>"
      ],
      "text/plain": [
       "<IPython.core.display.HTML object>"
      ]
     },
     "metadata": {},
     "output_type": "display_data"
    },
    {
     "data": {
      "text/html": [
       "<html>\n",
       "        <head>\n",
       "        \n",
       "        </head>\n",
       "        <body>\n",
       "        <table>\n",
       "    <tr>\n",
       "        <th>client_City</th>\n",
       "        <th>count_</th>\n",
       "        <th>count2</th>\n",
       "    </tr>\n",
       "    <tr>\n",
       "        <td>Bothell</td>\n",
       "        <td>3909321</td>\n",
       "        <td>15282790681041</td>\n",
       "    </tr>\n",
       "    <tr>\n",
       "        <td>Peterborough</td>\n",
       "        <td>1466952</td>\n",
       "        <td>2151948170304</td>\n",
       "    </tr>\n",
       "    <tr>\n",
       "        <td>Baotou</td>\n",
       "        <td>1194837</td>\n",
       "        <td>1427635456569</td>\n",
       "    </tr>\n",
       "    <tr>\n",
       "        <td>Rottweil</td>\n",
       "        <td>1014910</td>\n",
       "        <td>1030042308100</td>\n",
       "    </tr>\n",
       "    <tr>\n",
       "        <td>Nantes</td>\n",
       "        <td>873396</td>\n",
       "        <td>762820572816</td>\n",
       "    </tr>\n",
       "    <tr>\n",
       "        <td>Sao Goncalo</td>\n",
       "        <td>747577</td>\n",
       "        <td>558871370929</td>\n",
       "    </tr>\n",
       "    <tr>\n",
       "        <td>Yokohama</td>\n",
       "        <td>696221</td>\n",
       "        <td>484723680841</td>\n",
       "    </tr>\n",
       "    <tr>\n",
       "        <td>Lake Stevens</td>\n",
       "        <td>592257</td>\n",
       "        <td>350768354049</td>\n",
       "    </tr>\n",
       "    <tr>\n",
       "        <td>Zapopan</td>\n",
       "        <td>274678</td>\n",
       "        <td>75448003684</td>\n",
       "    </tr>\n",
       "    <tr>\n",
       "        <td>Tokyo</td>\n",
       "        <td>104551</td>\n",
       "        <td>10930911601</td>\n",
       "    </tr>\n",
       "</table>\n",
       "        </body>\n",
       "        </html>"
      ],
      "text/plain": [
       "<IPython.core.display.HTML object>"
      ]
     },
     "metadata": {},
     "output_type": "display_data"
    },
    {
     "data": {
      "text/html": [
       "<html>\n",
       "        <head>\n",
       "        \n",
       "        </head>\n",
       "        <body>\n",
       "        <div><p style='padding: 10px; color: #3a87ad; background-color: #d9edf7; border-color: #bce9f1'>Done&nbsp(00:01.096):&nbsp10&nbsprecords</p></div>\n",
       "        </body>\n",
       "        </html>"
      ],
      "text/plain": [
       "<IPython.core.display.HTML object>"
      ]
     },
     "metadata": {},
     "output_type": "display_data"
    },
    {
     "data": {
      "text/html": [],
      "text/plain": [
       "[{'client_City': 'Bothell', 'count_': 3909321, 'count2': 15282790681041},\n",
       " {'client_City': 'Peterborough', 'count_': 1466952, 'count2': 2151948170304},\n",
       " {'client_City': 'Baotou', 'count_': 1194837, 'count2': 1427635456569},\n",
       " {'client_City': 'Rottweil', 'count_': 1014910, 'count2': 1030042308100},\n",
       " {'client_City': 'Nantes', 'count_': 873396, 'count2': 762820572816},\n",
       " {'client_City': 'Sao Goncalo', 'count_': 747577, 'count2': 558871370929},\n",
       " {'client_City': 'Yokohama', 'count_': 696221, 'count2': 484723680841},\n",
       " {'client_City': 'Lake Stevens', 'count_': 592257, 'count2': 350768354049},\n",
       " {'client_City': 'Zapopan', 'count_': 274678, 'count2': 75448003684},\n",
       " {'client_City': 'Tokyo', 'count_': 104551, 'count2': 10930911601}]"
      ]
     },
     "execution_count": 75,
     "metadata": {},
     "output_type": "execute_result"
    }
   ],
   "source": [
    "%%kql \n",
    "    pageViews \n",
    "    | where client_City != '' \n",
    "    | summarize count() by client_City \n",
    "    | sort by count_ \n",
    "    | extend count2 = count_*count_ \n",
    "    | fork (limit 10) (project client_City \n",
    "    | limit 5)"
   ]
  },
  {
   "cell_type": "code",
   "execution_count": 76,
   "metadata": {},
   "outputs": [
    {
     "data": {
      "text/html": [
       "<html>\n",
       "        <head>\n",
       "        \n",
       "        </head>\n",
       "        <body>\n",
       "        <div><p style='padding: 10px; color: #3a87ad; background-color: #d9edf7; border-color: #bce9f1'>&nbsp*&nbspDEMO_APP@appinsights</p></div>\n",
       "        </body>\n",
       "        </html>"
      ],
      "text/plain": [
       "<IPython.core.display.HTML object>"
      ]
     },
     "metadata": {},
     "output_type": "display_data"
    },
    {
     "data": {
      "text/html": [
       "<html>\n",
       "        <head>\n",
       "        \n",
       "        </head>\n",
       "        <body>\n",
       "        <table>\n",
       "    <tr>\n",
       "        <th>client_City</th>\n",
       "    </tr>\n",
       "    <tr>\n",
       "        <td>Bothell</td>\n",
       "    </tr>\n",
       "    <tr>\n",
       "        <td>Peterborough</td>\n",
       "    </tr>\n",
       "    <tr>\n",
       "        <td>Baotou</td>\n",
       "    </tr>\n",
       "    <tr>\n",
       "        <td>Rottweil</td>\n",
       "    </tr>\n",
       "    <tr>\n",
       "        <td>Nantes</td>\n",
       "    </tr>\n",
       "</table>\n",
       "        </body>\n",
       "        </html>"
      ],
      "text/plain": [
       "<IPython.core.display.HTML object>"
      ]
     },
     "metadata": {},
     "output_type": "display_data"
    },
    {
     "data": {
      "text/html": [
       "<html>\n",
       "        <head>\n",
       "        \n",
       "        </head>\n",
       "        <body>\n",
       "        <div><p style='padding: 10px; color: #3a87ad; background-color: #d9edf7; border-color: #bce9f1'>Done&nbsp(00:01.096):&nbsp5&nbsprecords</p></div>\n",
       "        </body>\n",
       "        </html>"
      ],
      "text/plain": [
       "<IPython.core.display.HTML object>"
      ]
     },
     "metadata": {},
     "output_type": "display_data"
    },
    {
     "data": {
      "text/html": [],
      "text/plain": [
       "[{'client_City': 'Bothell'},\n",
       " {'client_City': 'Peterborough'},\n",
       " {'client_City': 'Baotou'},\n",
       " {'client_City': 'Rottweil'},\n",
       " {'client_City': 'Nantes'}]"
      ]
     },
     "execution_count": 76,
     "metadata": {},
     "output_type": "execute_result"
    }
   ],
   "source": [
    "_kql_raw_result_.fork_result(1)"
   ]
  },
  {
   "cell_type": "markdown",
   "metadata": {},
   "source": [
    "## Submit same query"
   ]
  },
  {
   "cell_type": "code",
   "execution_count": 77,
   "metadata": {
    "scrolled": false
   },
   "outputs": [
    {
     "data": {
      "text/html": [
       "<html>\n",
       "        <head>\n",
       "        \n",
       "        </head>\n",
       "        <body>\n",
       "        <div><p style='padding: 10px; color: #3a87ad; background-color: #d9edf7; border-color: #bce9f1'>&nbsp*&nbspDEMO_APP@appinsights</p></div>\n",
       "        </body>\n",
       "        </html>"
      ],
      "text/plain": [
       "<IPython.core.display.HTML object>"
      ]
     },
     "metadata": {},
     "output_type": "display_data"
    },
    {
     "data": {
      "text/html": [
       "<html>\n",
       "        <head>\n",
       "        \n",
       "        </head>\n",
       "        <body>\n",
       "        <table>\n",
       "    <tr>\n",
       "        <th>client_City</th>\n",
       "        <th>count_</th>\n",
       "        <th>count2</th>\n",
       "    </tr>\n",
       "    <tr>\n",
       "        <td>Bothell</td>\n",
       "        <td>3909321</td>\n",
       "        <td>15282790681041</td>\n",
       "    </tr>\n",
       "    <tr>\n",
       "        <td>Peterborough</td>\n",
       "        <td>1466952</td>\n",
       "        <td>2151948170304</td>\n",
       "    </tr>\n",
       "    <tr>\n",
       "        <td>Baotou</td>\n",
       "        <td>1194837</td>\n",
       "        <td>1427635456569</td>\n",
       "    </tr>\n",
       "    <tr>\n",
       "        <td>Rottweil</td>\n",
       "        <td>1014910</td>\n",
       "        <td>1030042308100</td>\n",
       "    </tr>\n",
       "    <tr>\n",
       "        <td>Nantes</td>\n",
       "        <td>873396</td>\n",
       "        <td>762820572816</td>\n",
       "    </tr>\n",
       "    <tr>\n",
       "        <td>Sao Goncalo</td>\n",
       "        <td>747577</td>\n",
       "        <td>558871370929</td>\n",
       "    </tr>\n",
       "    <tr>\n",
       "        <td>Yokohama</td>\n",
       "        <td>696221</td>\n",
       "        <td>484723680841</td>\n",
       "    </tr>\n",
       "    <tr>\n",
       "        <td>Lake Stevens</td>\n",
       "        <td>592257</td>\n",
       "        <td>350768354049</td>\n",
       "    </tr>\n",
       "    <tr>\n",
       "        <td>Zapopan</td>\n",
       "        <td>274678</td>\n",
       "        <td>75448003684</td>\n",
       "    </tr>\n",
       "    <tr>\n",
       "        <td>Tokyo</td>\n",
       "        <td>104551</td>\n",
       "        <td>10930911601</td>\n",
       "    </tr>\n",
       "</table>\n",
       "        </body>\n",
       "        </html>"
      ],
      "text/plain": [
       "<IPython.core.display.HTML object>"
      ]
     },
     "metadata": {},
     "output_type": "display_data"
    },
    {
     "data": {
      "text/html": [
       "<html>\n",
       "        <head>\n",
       "        \n",
       "        </head>\n",
       "        <body>\n",
       "        <div><p style='padding: 10px; color: #3a87ad; background-color: #d9edf7; border-color: #bce9f1'>Done&nbsp(00:00.340):&nbsp10&nbsprecords</p></div>\n",
       "        </body>\n",
       "        </html>"
      ],
      "text/plain": [
       "<IPython.core.display.HTML object>"
      ]
     },
     "metadata": {},
     "output_type": "display_data"
    },
    {
     "data": {
      "text/html": [],
      "text/plain": [
       "[{'client_City': 'Bothell', 'count_': 3909321, 'count2': 15282790681041},\n",
       " {'client_City': 'Peterborough', 'count_': 1466952, 'count2': 2151948170304},\n",
       " {'client_City': 'Baotou', 'count_': 1194837, 'count2': 1427635456569},\n",
       " {'client_City': 'Rottweil', 'count_': 1014910, 'count2': 1030042308100},\n",
       " {'client_City': 'Nantes', 'count_': 873396, 'count2': 762820572816},\n",
       " {'client_City': 'Sao Goncalo', 'count_': 747577, 'count2': 558871370929},\n",
       " {'client_City': 'Yokohama', 'count_': 696221, 'count2': 484723680841},\n",
       " {'client_City': 'Lake Stevens', 'count_': 592257, 'count2': 350768354049},\n",
       " {'client_City': 'Zapopan', 'count_': 274678, 'count2': 75448003684},\n",
       " {'client_City': 'Tokyo', 'count_': 104551, 'count2': 10930911601}]"
      ]
     },
     "execution_count": 77,
     "metadata": {},
     "output_type": "execute_result"
    }
   ],
   "source": [
    " _kql_raw_result_.submit()"
   ]
  },
  {
   "cell_type": "code",
   "execution_count": 78,
   "metadata": {},
   "outputs": [
    {
     "data": {
      "text/html": [
       "<html>\n",
       "        <head>\n",
       "        \n",
       "        </head>\n",
       "        <body>\n",
       "        <div><p style='padding: 10px; color: #3a87ad; background-color: #d9edf7; border-color: #bce9f1'>&nbsp*&nbspDEMO_APP@appinsights</p></div>\n",
       "        </body>\n",
       "        </html>"
      ],
      "text/plain": [
       "<IPython.core.display.HTML object>"
      ]
     },
     "metadata": {},
     "output_type": "display_data"
    },
    {
     "data": {
      "text/html": [
       "<html>\n",
       "        <head>\n",
       "        \n",
       "        </head>\n",
       "        <body>\n",
       "        <table>\n",
       "    <tr>\n",
       "        <th>client_City</th>\n",
       "    </tr>\n",
       "    <tr>\n",
       "        <td>Bothell</td>\n",
       "    </tr>\n",
       "    <tr>\n",
       "        <td>Peterborough</td>\n",
       "    </tr>\n",
       "    <tr>\n",
       "        <td>Baotou</td>\n",
       "    </tr>\n",
       "    <tr>\n",
       "        <td>Rottweil</td>\n",
       "    </tr>\n",
       "    <tr>\n",
       "        <td>Nantes</td>\n",
       "    </tr>\n",
       "</table>\n",
       "        </body>\n",
       "        </html>"
      ],
      "text/plain": [
       "<IPython.core.display.HTML object>"
      ]
     },
     "metadata": {},
     "output_type": "display_data"
    },
    {
     "data": {
      "text/html": [
       "<html>\n",
       "        <head>\n",
       "        \n",
       "        </head>\n",
       "        <body>\n",
       "        <div><p style='padding: 10px; color: #3a87ad; background-color: #d9edf7; border-color: #bce9f1'>Done&nbsp(00:00.340):&nbsp5&nbsprecords</p></div>\n",
       "        </body>\n",
       "        </html>"
      ],
      "text/plain": [
       "<IPython.core.display.HTML object>"
      ]
     },
     "metadata": {},
     "output_type": "display_data"
    },
    {
     "data": {
      "text/html": [],
      "text/plain": [
       "[{'client_City': 'Bothell'},\n",
       " {'client_City': 'Peterborough'},\n",
       " {'client_City': 'Baotou'},\n",
       " {'client_City': 'Rottweil'},\n",
       " {'client_City': 'Nantes'}]"
      ]
     },
     "execution_count": 78,
     "metadata": {},
     "output_type": "execute_result"
    }
   ],
   "source": [
    " _kql_raw_result_.fork_result(1)"
   ]
  },
  {
   "cell_type": "markdown",
   "metadata": {},
   "source": [
    "## Refresh query"
   ]
  },
  {
   "cell_type": "code",
   "execution_count": 79,
   "metadata": {},
   "outputs": [
    {
     "data": {
      "text/html": [
       "<html>\n",
       "        <head>\n",
       "        \n",
       "        </head>\n",
       "        <body>\n",
       "        <div><p style='padding: 10px; color: #3a87ad; background-color: #d9edf7; border-color: #bce9f1'>&nbsp*&nbspDEMO_APP@appinsights</p></div>\n",
       "        </body>\n",
       "        </html>"
      ],
      "text/plain": [
       "<IPython.core.display.HTML object>"
      ]
     },
     "metadata": {},
     "output_type": "display_data"
    },
    {
     "data": {
      "text/html": [
       "<html>\n",
       "        <head>\n",
       "        \n",
       "        </head>\n",
       "        <body>\n",
       "        <table>\n",
       "    <tr>\n",
       "        <th>client_City</th>\n",
       "    </tr>\n",
       "    <tr>\n",
       "        <td>Bothell</td>\n",
       "    </tr>\n",
       "    <tr>\n",
       "        <td>Peterborough</td>\n",
       "    </tr>\n",
       "    <tr>\n",
       "        <td>Baotou</td>\n",
       "    </tr>\n",
       "    <tr>\n",
       "        <td>Rottweil</td>\n",
       "    </tr>\n",
       "    <tr>\n",
       "        <td>Nantes</td>\n",
       "    </tr>\n",
       "</table>\n",
       "        </body>\n",
       "        </html>"
      ],
      "text/plain": [
       "<IPython.core.display.HTML object>"
      ]
     },
     "metadata": {},
     "output_type": "display_data"
    },
    {
     "data": {
      "text/html": [
       "<html>\n",
       "        <head>\n",
       "        \n",
       "        </head>\n",
       "        <body>\n",
       "        <div><p style='padding: 10px; color: #3a87ad; background-color: #d9edf7; border-color: #bce9f1'>Done&nbsp(00:00.721):&nbsp5&nbsprecords</p></div>\n",
       "        </body>\n",
       "        </html>"
      ],
      "text/plain": [
       "<IPython.core.display.HTML object>"
      ]
     },
     "metadata": {},
     "output_type": "display_data"
    },
    {
     "data": {
      "text/html": [],
      "text/plain": [
       "[{'client_City': 'Bothell'},\n",
       " {'client_City': 'Peterborough'},\n",
       " {'client_City': 'Baotou'},\n",
       " {'client_City': 'Rottweil'},\n",
       " {'client_City': 'Nantes'}]"
      ]
     },
     "execution_count": 79,
     "metadata": {},
     "output_type": "execute_result"
    }
   ],
   "source": [
    "_kql_raw_result_.fork_result(1).refresh()"
   ]
  },
  {
   "cell_type": "code",
   "execution_count": 80,
   "metadata": {},
   "outputs": [
    {
     "data": {
      "text/html": [
       "<html>\n",
       "        <head>\n",
       "        \n",
       "        </head>\n",
       "        <body>\n",
       "        <div><p style='padding: 10px; color: #3a87ad; background-color: #d9edf7; border-color: #bce9f1'>&nbsp*&nbspDEMO_APP@appinsights</p></div>\n",
       "        </body>\n",
       "        </html>"
      ],
      "text/plain": [
       "<IPython.core.display.HTML object>"
      ]
     },
     "metadata": {},
     "output_type": "display_data"
    },
    {
     "data": {
      "text/html": [
       "<html>\n",
       "        <head>\n",
       "        \n",
       "        </head>\n",
       "        <body>\n",
       "        <table>\n",
       "    <tr>\n",
       "        <th>client_City</th>\n",
       "        <th>count_</th>\n",
       "        <th>count2</th>\n",
       "    </tr>\n",
       "    <tr>\n",
       "        <td>Bothell</td>\n",
       "        <td>3909321</td>\n",
       "        <td>15282790681041</td>\n",
       "    </tr>\n",
       "    <tr>\n",
       "        <td>Peterborough</td>\n",
       "        <td>1466952</td>\n",
       "        <td>2151948170304</td>\n",
       "    </tr>\n",
       "    <tr>\n",
       "        <td>Baotou</td>\n",
       "        <td>1194837</td>\n",
       "        <td>1427635456569</td>\n",
       "    </tr>\n",
       "    <tr>\n",
       "        <td>Rottweil</td>\n",
       "        <td>1014910</td>\n",
       "        <td>1030042308100</td>\n",
       "    </tr>\n",
       "    <tr>\n",
       "        <td>Nantes</td>\n",
       "        <td>873396</td>\n",
       "        <td>762820572816</td>\n",
       "    </tr>\n",
       "    <tr>\n",
       "        <td>Sao Goncalo</td>\n",
       "        <td>747577</td>\n",
       "        <td>558871370929</td>\n",
       "    </tr>\n",
       "    <tr>\n",
       "        <td>Yokohama</td>\n",
       "        <td>696221</td>\n",
       "        <td>484723680841</td>\n",
       "    </tr>\n",
       "    <tr>\n",
       "        <td>Lake Stevens</td>\n",
       "        <td>592257</td>\n",
       "        <td>350768354049</td>\n",
       "    </tr>\n",
       "    <tr>\n",
       "        <td>Zapopan</td>\n",
       "        <td>274678</td>\n",
       "        <td>75448003684</td>\n",
       "    </tr>\n",
       "    <tr>\n",
       "        <td>Tokyo</td>\n",
       "        <td>104551</td>\n",
       "        <td>10930911601</td>\n",
       "    </tr>\n",
       "</table>\n",
       "        </body>\n",
       "        </html>"
      ],
      "text/plain": [
       "<IPython.core.display.HTML object>"
      ]
     },
     "metadata": {},
     "output_type": "display_data"
    },
    {
     "data": {
      "text/html": [
       "<html>\n",
       "        <head>\n",
       "        \n",
       "        </head>\n",
       "        <body>\n",
       "        <div><p style='padding: 10px; color: #3a87ad; background-color: #d9edf7; border-color: #bce9f1'>Done&nbsp(00:00.721):&nbsp10&nbsprecords</p></div>\n",
       "        </body>\n",
       "        </html>"
      ],
      "text/plain": [
       "<IPython.core.display.HTML object>"
      ]
     },
     "metadata": {},
     "output_type": "display_data"
    },
    {
     "data": {
      "text/html": [],
      "text/plain": [
       "[{'client_City': 'Bothell', 'count_': 3909321, 'count2': 15282790681041},\n",
       " {'client_City': 'Peterborough', 'count_': 1466952, 'count2': 2151948170304},\n",
       " {'client_City': 'Baotou', 'count_': 1194837, 'count2': 1427635456569},\n",
       " {'client_City': 'Rottweil', 'count_': 1014910, 'count2': 1030042308100},\n",
       " {'client_City': 'Nantes', 'count_': 873396, 'count2': 762820572816},\n",
       " {'client_City': 'Sao Goncalo', 'count_': 747577, 'count2': 558871370929},\n",
       " {'client_City': 'Yokohama', 'count_': 696221, 'count2': 484723680841},\n",
       " {'client_City': 'Lake Stevens', 'count_': 592257, 'count2': 350768354049},\n",
       " {'client_City': 'Zapopan', 'count_': 274678, 'count2': 75448003684},\n",
       " {'client_City': 'Tokyo', 'count_': 104551, 'count2': 10930911601}]"
      ]
     },
     "execution_count": 80,
     "metadata": {},
     "output_type": "execute_result"
    }
   ],
   "source": [
    "_kql_raw_result_.fork_result(0)"
   ]
  },
  {
   "cell_type": "code",
   "execution_count": 81,
   "metadata": {},
   "outputs": [
    {
     "data": {
      "text/html": [
       "<html>\n",
       "        <head>\n",
       "        \n",
       "        </head>\n",
       "        <body>\n",
       "        <table>\n",
       "    <tr>\n",
       "        <th>client_City</th>\n",
       "        <th>count_</th>\n",
       "        <th>count2</th>\n",
       "    </tr>\n",
       "    <tr>\n",
       "        <td>Bothell</td>\n",
       "        <td>3909321</td>\n",
       "        <td>15282790681041</td>\n",
       "    </tr>\n",
       "    <tr>\n",
       "        <td>Peterborough</td>\n",
       "        <td>1466952</td>\n",
       "        <td>2151948170304</td>\n",
       "    </tr>\n",
       "    <tr>\n",
       "        <td>Baotou</td>\n",
       "        <td>1194837</td>\n",
       "        <td>1427635456569</td>\n",
       "    </tr>\n",
       "    <tr>\n",
       "        <td>Rottweil</td>\n",
       "        <td>1014910</td>\n",
       "        <td>1030042308100</td>\n",
       "    </tr>\n",
       "    <tr>\n",
       "        <td>Nantes</td>\n",
       "        <td>873396</td>\n",
       "        <td>762820572816</td>\n",
       "    </tr>\n",
       "    <tr>\n",
       "        <td>Sao Goncalo</td>\n",
       "        <td>747577</td>\n",
       "        <td>558871370929</td>\n",
       "    </tr>\n",
       "    <tr>\n",
       "        <td>Yokohama</td>\n",
       "        <td>696221</td>\n",
       "        <td>484723680841</td>\n",
       "    </tr>\n",
       "    <tr>\n",
       "        <td>Lake Stevens</td>\n",
       "        <td>592257</td>\n",
       "        <td>350768354049</td>\n",
       "    </tr>\n",
       "    <tr>\n",
       "        <td>Zapopan</td>\n",
       "        <td>274678</td>\n",
       "        <td>75448003684</td>\n",
       "    </tr>\n",
       "    <tr>\n",
       "        <td>Tokyo</td>\n",
       "        <td>104551</td>\n",
       "        <td>10930911601</td>\n",
       "    </tr>\n",
       "</table>\n",
       "        </body>\n",
       "        </html>"
      ],
      "text/plain": [
       "<IPython.core.display.HTML object>"
      ]
     },
     "metadata": {},
     "output_type": "display_data"
    },
    {
     "data": {
      "text/html": [],
      "text/plain": [
       "[{'client_City': 'Bothell', 'count_': 3909321, 'count2': 15282790681041},\n",
       " {'client_City': 'Peterborough', 'count_': 1466952, 'count2': 2151948170304},\n",
       " {'client_City': 'Baotou', 'count_': 1194837, 'count2': 1427635456569},\n",
       " {'client_City': 'Rottweil', 'count_': 1014910, 'count2': 1030042308100},\n",
       " {'client_City': 'Nantes', 'count_': 873396, 'count2': 762820572816},\n",
       " {'client_City': 'Sao Goncalo', 'count_': 747577, 'count2': 558871370929},\n",
       " {'client_City': 'Yokohama', 'count_': 696221, 'count2': 484723680841},\n",
       " {'client_City': 'Lake Stevens', 'count_': 592257, 'count2': 350768354049},\n",
       " {'client_City': 'Zapopan', 'count_': 274678, 'count2': 75448003684},\n",
       " {'client_City': 'Tokyo', 'count_': 104551, 'count2': 10930911601}]"
      ]
     },
     "execution_count": 81,
     "metadata": {},
     "output_type": "execute_result"
    }
   ],
   "source": [
    "_kql_raw_result_"
   ]
  },
  {
   "cell_type": "code",
   "execution_count": null,
   "metadata": {},
   "outputs": [],
   "source": []
  }
 ],
 "metadata": {
  "kernelspec": {
   "display_name": "Python 3",
   "language": "python",
   "name": "python3"
  },
  "language_info": {
   "codemirror_mode": {
    "name": "ipython",
    "version": 3
   },
   "file_extension": ".py",
   "mimetype": "text/x-python",
   "name": "python",
   "nbconvert_exporter": "python",
   "pygments_lexer": "ipython3",
   "version": "3.6.1"
  }
 },
 "nbformat": 4,
 "nbformat_minor": 2
}
