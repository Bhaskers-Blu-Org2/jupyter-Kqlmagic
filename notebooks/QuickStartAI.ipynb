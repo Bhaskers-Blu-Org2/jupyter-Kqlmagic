{
 "cells": [
  {
   "cell_type": "markdown",
   "metadata": {},
   "source": [
    "![alt text](images/Kusto.jpg \"Kusto Magic\")"
   ]
  },
  {
   "cell_type": "markdown",
   "metadata": {},
   "source": [
    "# Kqlmagic Quick Start\n",
    "1. Press F11 to switch browser to full screen mode  \n",
    "2. If in running jupyter lab, in View tab, select 'Single-Document Mode' and 'Presentation Mode' or  (Ctrl + Shift + D)  \n",
    "3. In Kernel tab, select 'Restart Kernel and Clear All Outputs...', to start from fresh\n",
    "4. Repeat: press Shift+Enter to run cells sequentially"
   ]
  },
  {
   "cell_type": "markdown",
   "metadata": {},
   "source": [
    "## Make sure that you have the lastest version of  Kqlmagic\n",
    "Download Kqlmagic from PyPI and install/update\n",
    "(if latest version is already installed you can skip this step)"
   ]
  },
  {
   "cell_type": "code",
   "execution_count": null,
   "metadata": {},
   "outputs": [],
   "source": [
    "#!pip install Kqlmagic --no-cache-dir --upgrade"
   ]
  },
  {
   "cell_type": "markdown",
   "metadata": {},
   "source": [
    "## If you want to pre-set defaults, set environment varaible, before activation notebook, or within notebook\n",
    "- **KQLMAGIC_NOTEBOOK_APP** - set the notebook application (default **jupyternotebook**)\n",
    "- **KQLMAGIC_LOAD_MODE** - set the kqlmagic load mode (default **verbose**). If silent, it will load without welcome output\n",
    "- **KQLMAGIC_CONFIGURATION** - modify the default configuration, key=value pairs must be separated by a **semicolon**\n",
    "\n",
    "- **KQLMAGIC_CONNECTION_STR** - set the default connection string (default **None**). If set it will connect to it on Kqlmagic load"
   ]
  },
  {
   "cell_type": "code",
   "execution_count": null,
   "metadata": {},
   "outputs": [],
   "source": [
    "# you can try it within the notebook, by setting the environment variable using %env magic\n",
    "\n",
    "#%env KQLMAGIC_NOTEBOOK_APP=jupyterlab\n",
    "#%env KQLMAGIC_LOAD_MODE=silent\n",
    "#%env KQLMAGIC_CONFIGURATION=\"show_query_time=False;plot_package='plotly';display_limit=100\"\n",
    "\n",
    "#%env KQLMAGIC_CONNECTION_STR=appinsights://appid='DEMO_APP';appkey='DEMO_KEY'\n",
    "\n",
    "#%env KQLMAGIC_LOG_LEVEL=DEBUG\n",
    "#%env KQLMAGIC_LOG_FILE_MODE=Append\n",
    "#%env KQLMAGIC_LOG_FILE=michael.log\n",
    "#%env KQLMAGIC_LOG_FILE_PREFIX=myLog"
   ]
  },
  {
   "cell_type": "markdown",
   "metadata": {},
   "source": [
    "## Add Kqlmagic to notebook magics"
   ]
  },
  {
   "cell_type": "code",
   "execution_count": 1,
   "metadata": {
    "scrolled": false
   },
   "outputs": [
    {
     "data": {
      "application/javascript": [
       "try {IPython.notebook.kernel.execute(\"NOTEBOOK_URL = '\" + window.location + \"'\");} catch(err) {;}"
      ],
      "text/plain": [
       "<IPython.core.display.Javascript object>"
      ]
     },
     "metadata": {},
     "output_type": "display_data"
    },
    {
     "data": {
      "application/javascript": [
       "try {IPython.notebook.kernel.reconnect();} catch(err) {;}"
      ],
      "text/plain": [
       "<IPython.core.display.Javascript object>"
      ]
     },
     "metadata": {},
     "output_type": "display_data"
    },
    {
     "data": {
      "text/html": [
       "<html>\n",
       "            <head>\n",
       "            <style>\n",
       "            .kql-magic-banner {\n",
       "                display: flex; \n",
       "                background-color: #d9edf7;\n",
       "            }\n",
       "            .kql-magic-banner > div {\n",
       "                margin: 10px; \n",
       "                padding: 20px; \n",
       "                color: #3a87ad; \n",
       "                font-size: 13px;\n",
       "            }\n",
       "            </style>\n",
       "            </head>\n",
       "            <body>\n",
       "                <div class='kql-magic-banner'>\n",
       "                    <div><img src='data:image/png;base64,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'></div>\n",
       "                    <div>\n",
       "                        <p>Kql Query Language, aka kql, is the query language for advanced analytics on Azure Monitor resources. The current supported data sources are \n",
       "                        Azure Data Explorer (Kusto), Log Analytics and Application Insights. To get more information execute '%kql --help \"kql\"'</p>\n",
       "                        <p>   &bull; kql reference: Click on 'Help' tab > and Select 'kql reference' or execute '%kql --help \"kql\"'<br>\n",
       "                          &bull; Kqlmagic configuration: execute '%config Kqlmagic'<br>\n",
       "                          &bull; Kqlmagic usage: execute '%kql --usage'<br>\n",
       "                    </div>\n",
       "                </div>\n",
       "            </body>\n",
       "            </html>"
      ],
      "text/plain": [
       "<IPython.core.display.HTML object>"
      ]
     },
     "metadata": {},
     "output_type": "display_data"
    },
    {
     "data": {
      "text/html": [
       "<html>\n",
       "        <head>\n",
       "        \n",
       "        </head>\n",
       "        <body>\n",
       "        <div><p style='padding: 10px; color: #3a87ad; background-color: #d9edf7; border-color: #bce9f1'>Kqlmagic&nbsp;package&nbsp;is&nbsp;updated&nbsp;frequently.&nbsp;Run&nbsp;&apos;!pip&nbsp;install&nbsp;Kqlmagic&nbsp;--no-cache-dir&nbsp;--upgrade&apos;&nbsp;to&nbsp;use&nbsp;the&nbsp;latest&nbsp;version.<br>Kqlmagic&nbsp;version:&nbsp;0.1.102,&nbsp;source:&nbsp;https://github.com/Microsoft/jupyter-Kqlmagic</p></div>\n",
       "        </body>\n",
       "        </html>"
      ],
      "text/plain": [
       "<IPython.core.display.HTML object>"
      ]
     },
     "metadata": {},
     "output_type": "display_data"
    },
    {
     "data": {
      "text/html": [
       "<!DOCTYPE html>\n",
       "            <html><body>\n",
       "            <div style='padding: 10px; color: #3a87ad; background-color: #d9edf7; border-color: #bce9f1'>\n",
       "            Click to find out what's new in Kqlmagic \n",
       "\n",
       "            <button onclick=\"this.style.visibility='visible';kql_MagicLaunchWindowFunction('Kqlmagic_temp_files/what_new_history.html','fullscreen=no,directories=no,location=no,menubar=no,resizable=yes,scrollbars=yes,status=no,titlebar=no,toolbar=no,','what_new_history','')\">What's New? </button>\n",
       "            \n",
       "            </div>\n",
       "\n",
       "            <script>\n",
       "\n",
       "            function kql_MagicLaunchWindowFunction(file_path, window_params, window_name, notebooks_host) {\n",
       "                var url;\n",
       "                if (notebooks_host == 'text') {\n",
       "                    url = ''\n",
       "                } else if (file_path.startsWith('http')) {\n",
       "                    url = file_path;\n",
       "                } else {\n",
       "                    var base_url = '';\n",
       "\n",
       "                    // check if azure notebook\n",
       "                    var azure_host = (notebooks_host == null || notebooks_host.length == 0) ? 'https://notebooks.azure.com' : notebooks_host;\n",
       "                    var start = azure_host.search('//');\n",
       "                    var azure_host_suffix = '.' + azure_host.substring(start+2);\n",
       "\n",
       "                    var loc = String(window.location);\n",
       "                    var end = loc.search(azure_host_suffix);\n",
       "                    start = loc.search('//');\n",
       "                    if (start > 0 && end > 0) {\n",
       "                        var parts = loc.substring(start+2, end).split('-');\n",
       "                        if (parts.length == 2) {\n",
       "                            var library = parts[0];\n",
       "                            var user = parts[1];\n",
       "                            base_url = azure_host + '/api/user/' +user+ '/library/' +library+ '/html/';\n",
       "                        }\n",
       "                    }\n",
       "\n",
       "                    // check if local jupyter lab\n",
       "                    if (base_url.length == 0) {\n",
       "                        var configDataScipt  = document.getElementById('jupyter-config-data');\n",
       "                        if (configDataScipt != null) {\n",
       "                            var jupyterConfigData = JSON.parse(configDataScipt.textContent);\n",
       "                            if (jupyterConfigData['appName'] == 'JupyterLab' && jupyterConfigData['serverRoot'] != null &&  jupyterConfigData['treeUrl'] != null) {\n",
       "                                var basePath = 'C:/MyProjects/KqlmagicAtMicrosoftGithub/jupyter-Kqlmagic/notebooks' + '/';\n",
       "                                if (basePath.startsWith(jupyterConfigData['serverRoot'])) {\n",
       "                                    base_url = '/files/' + basePath.substring(jupyterConfigData['serverRoot'].length+1);\n",
       "                                }\n",
       "                            } \n",
       "                        }\n",
       "                    }\n",
       "\n",
       "                    // assume local jupyter notebook\n",
       "                    if (base_url.length == 0) {\n",
       "\n",
       "                        var parts = loc.split('/');\n",
       "                        parts.pop();\n",
       "                        base_url = parts.join('/') + '/';\n",
       "                    }\n",
       "                    url = base_url + file_path;\n",
       "                }\n",
       "\n",
       "                window.focus();\n",
       "                var w = screen.width / 2;\n",
       "                var h = screen.height / 2;\n",
       "                params = 'width='+w+',height='+h;\n",
       "                kql_Magic_what_new_history = window.open(url, window_name, window_params + params);\n",
       "                if (url == '') {\n",
       "                    var el = kql_Magic_what_new_history.document.createElement('p');\n",
       "                    kql_Magic_what_new_history.document.body.overflow = 'auto';\n",
       "                    el.style.top = 0;\n",
       "                    el.style.left = 0;\n",
       "                    el.innerHTML = file_path;\n",
       "                    kql_Magic_what_new_history.document.body.appendChild(el);\n",
       "                }\n",
       "            }\n",
       "            </script>\n",
       "\n",
       "            </body></html>"
      ],
      "text/plain": [
       "<IPython.core.display.HTML object>"
      ]
     },
     "metadata": {},
     "output_type": "display_data"
    }
   ],
   "source": [
    "%reload_ext Kqlmagic"
   ]
  },
  {
   "cell_type": "code",
   "execution_count": null,
   "metadata": {},
   "outputs": [],
   "source": [
    "%kql --usage"
   ]
  },
  {
   "cell_type": "code",
   "execution_count": null,
   "metadata": {},
   "outputs": [],
   "source": [
    "%kql --help \"kql\""
   ]
  },
  {
   "cell_type": "markdown",
   "metadata": {},
   "source": [
    "  - ### <span style=\"color:#82CAFA\">*Note: information is included in the Kqlmagic banner, and in the note below it, with version and location of the open source code*</span>\n",
    "  - ### <span style=\"color:#82CAFA\">*Note: after Kqlmagic was loaded, kql reference was added to Help menu (Help tab)*</span>"
   ]
  },
  {
   "cell_type": "markdown",
   "metadata": {},
   "source": [
    "## Get help"
   ]
  },
  {
   "cell_type": "code",
   "execution_count": null,
   "metadata": {
    "scrolled": false
   },
   "outputs": [],
   "source": [
    "%kql --help \"help\" -pw"
   ]
  },
  {
   "cell_type": "markdown",
   "metadata": {},
   "source": [
    "## Get Application Insights reference"
   ]
  },
  {
   "cell_type": "code",
   "execution_count": null,
   "metadata": {},
   "outputs": [],
   "source": [
    "%kql --help \"ApplicationInsights\""
   ]
  },
  {
   "cell_type": "markdown",
   "metadata": {},
   "source": [
    "## Connect to appid@appinsights\n",
    "there are few options to authenticate with Apllication Insights:<br>\n",
    "```python\n",
    "%kql appinsights://appid='<app-id>';appkey='<app-key>';alias='<appid-friendly-name>'\n",
    "```\n",
    "```python\n",
    "%kql appinsights://code;appid='<app-id>';alias='<appid-friendly-name>'\n",
    "```\n",
    "```python\n",
    "%kql appinsights://tenant='<tenant-id>';clientid='<aad-appid>';clientsecret='<aad-appkey>';appid='<app-id>';alias='<appid-friendly-name>'\n",
    "```\n",
    "```python\n",
    "%kql appinsights://username='<username>';password='<password>';appid='<app-id>';alias='<appid-friendly-name>'\n",
    "```\n",
    "```python\n",
    "%kql appinsights://anonymous;appid='<app-id>';alias='<appid-friendly-name>'\n",
    "```\n",
    "\n",
    "Notes:<br>\n",
    "(1) username/password works only on corporate network.<br>\n",
    "(2) alias is optional.<br>\n",
    "(3) if credentials are missing, and a previous connection was established the credentials will be inherited.<br>\n",
    "(4) if secret (password / clientsecret / appkey) is missing, user will be prompted to provide it.<br>\n",
    "(5) if tenant is missing, and a previous connection was established the tenant will be inherited.<br>\n",
    "(6) **a not quoted value, is a python expression, that is evaluated and its result is used as the value. This is how you can parametrize the connection string**\n",
    "<br>(7) anonymous authentication, is NO authentication, for the case that your cluster is local."
   ]
  },
  {
   "cell_type": "code",
   "execution_count": 2,
   "metadata": {
    "scrolled": false
   },
   "outputs": [
    {
     "data": {
      "text/html": [
       "<!DOCTYPE html>\n",
       "            <html><body>\n",
       "            <div style=''>\n",
       "            \n",
       "\n",
       "            <button onclick=\"this.style.visibility='visible';kql_MagicLaunchWindowFunction('Kqlmagic_temp_files/_DEMO_APP_at_applicationinsights_schema.html','fullscreen=no,directories=no,location=no,menubar=no,resizable=yes,scrollbars=yes,status=no,titlebar=no,toolbar=no,','_DEMO_APP_at_applicationinsights_schema','')\">popup schema DEMO_APP@applicationinsights</button>\n",
       "            \n",
       "            </div>\n",
       "\n",
       "            <script>\n",
       "\n",
       "            function kql_MagicLaunchWindowFunction(file_path, window_params, window_name, notebooks_host) {\n",
       "                var url;\n",
       "                if (notebooks_host == 'text') {\n",
       "                    url = ''\n",
       "                } else if (file_path.startsWith('http')) {\n",
       "                    url = file_path;\n",
       "                } else {\n",
       "                    var base_url = '';\n",
       "\n",
       "                    // check if azure notebook\n",
       "                    var azure_host = (notebooks_host == null || notebooks_host.length == 0) ? 'https://notebooks.azure.com' : notebooks_host;\n",
       "                    var start = azure_host.search('//');\n",
       "                    var azure_host_suffix = '.' + azure_host.substring(start+2);\n",
       "\n",
       "                    var loc = String(window.location);\n",
       "                    var end = loc.search(azure_host_suffix);\n",
       "                    start = loc.search('//');\n",
       "                    if (start > 0 && end > 0) {\n",
       "                        var parts = loc.substring(start+2, end).split('-');\n",
       "                        if (parts.length == 2) {\n",
       "                            var library = parts[0];\n",
       "                            var user = parts[1];\n",
       "                            base_url = azure_host + '/api/user/' +user+ '/library/' +library+ '/html/';\n",
       "                        }\n",
       "                    }\n",
       "\n",
       "                    // check if local jupyter lab\n",
       "                    if (base_url.length == 0) {\n",
       "                        var configDataScipt  = document.getElementById('jupyter-config-data');\n",
       "                        if (configDataScipt != null) {\n",
       "                            var jupyterConfigData = JSON.parse(configDataScipt.textContent);\n",
       "                            if (jupyterConfigData['appName'] == 'JupyterLab' && jupyterConfigData['serverRoot'] != null &&  jupyterConfigData['treeUrl'] != null) {\n",
       "                                var basePath = 'C:/MyProjects/KqlmagicAtMicrosoftGithub/jupyter-Kqlmagic/notebooks' + '/';\n",
       "                                if (basePath.startsWith(jupyterConfigData['serverRoot'])) {\n",
       "                                    base_url = '/files/' + basePath.substring(jupyterConfigData['serverRoot'].length+1);\n",
       "                                }\n",
       "                            } \n",
       "                        }\n",
       "                    }\n",
       "\n",
       "                    // assume local jupyter notebook\n",
       "                    if (base_url.length == 0) {\n",
       "\n",
       "                        var parts = loc.split('/');\n",
       "                        parts.pop();\n",
       "                        base_url = parts.join('/') + '/';\n",
       "                    }\n",
       "                    url = base_url + file_path;\n",
       "                }\n",
       "\n",
       "                window.focus();\n",
       "                var w = screen.width / 2;\n",
       "                var h = screen.height / 2;\n",
       "                params = 'width='+w+',height='+h;\n",
       "                kql_Magic__DEMO_APP_at_applicationinsights_schema = window.open(url, window_name, window_params + params);\n",
       "                if (url == '') {\n",
       "                    var el = kql_Magic__DEMO_APP_at_applicationinsights_schema.document.createElement('p');\n",
       "                    kql_Magic__DEMO_APP_at_applicationinsights_schema.document.body.overflow = 'auto';\n",
       "                    el.style.top = 0;\n",
       "                    el.style.left = 0;\n",
       "                    el.innerHTML = file_path;\n",
       "                    kql_Magic__DEMO_APP_at_applicationinsights_schema.document.body.appendChild(el);\n",
       "                }\n",
       "            }\n",
       "            </script>\n",
       "\n",
       "            </body></html>"
      ],
      "text/plain": [
       "<IPython.core.display.HTML object>"
      ]
     },
     "metadata": {},
     "output_type": "display_data"
    },
    {
     "data": {
      "application/javascript": [
       "try {IPython.notebook.kernel.reconnect();} catch(err) {;}"
      ],
      "text/plain": [
       "<IPython.core.display.Javascript object>"
      ]
     },
     "metadata": {},
     "output_type": "display_data"
    }
   ],
   "source": [
    "%kql appinsights://appid='DEMO_APP';appkey='DEMO_KEY'"
   ]
  },
  {
   "cell_type": "markdown",
   "metadata": {},
   "source": [
    "  - ### <span style=\"color:#82CAFA\">*Note - popup window that opened with the appid@appinsights schema*</span>\n",
    "  - ### <span style=\"color:#82CAFA\">*Note - Help menu contains the appid@appinsights schema*</span>"
   ]
  },
  {
   "cell_type": "markdown",
   "metadata": {},
   "source": [
    "## Get help on connection string, how to authenticate and get access to you data resource"
   ]
  },
  {
   "cell_type": "code",
   "execution_count": null,
   "metadata": {},
   "outputs": [],
   "source": [
    "%kql --help \"conn\" -popup_window"
   ]
  },
  {
   "cell_type": "markdown",
   "metadata": {},
   "source": [
    "## Once connected you can query the current appid@appinsights"
   ]
  },
  {
   "cell_type": "code",
   "execution_count": null,
   "metadata": {
    "scrolled": false
   },
   "outputs": [],
   "source": [
    "%kql  -sq pageViews | where client_City != '' | summarize count() by client_City | sort by count_ | limit 10 "
   ]
  },
  {
   "cell_type": "markdown",
   "metadata": {},
   "source": [
    "## Python code can access the result by the \\_ variable"
   ]
  },
  {
   "cell_type": "code",
   "execution_count": null,
   "metadata": {},
   "outputs": [],
   "source": [
    "_"
   ]
  },
  {
   "cell_type": "markdown",
   "metadata": {},
   "source": [
    "## Converts result data to a dataframe"
   ]
  },
  {
   "cell_type": "code",
   "execution_count": null,
   "metadata": {},
   "outputs": [],
   "source": [
    "df = _.to_dataframe()\n",
    "df"
   ]
  },
  {
   "cell_type": "code",
   "execution_count": null,
   "metadata": {},
   "outputs": [],
   "source": [
    "df.head()"
   ]
  },
  {
   "cell_type": "code",
   "execution_count": null,
   "metadata": {},
   "outputs": [],
   "source": [
    "df.client_City"
   ]
  },
  {
   "cell_type": "code",
   "execution_count": null,
   "metadata": {},
   "outputs": [],
   "source": [
    "df.min()"
   ]
  },
  {
   "cell_type": "code",
   "execution_count": null,
   "metadata": {},
   "outputs": [],
   "source": [
    "df.to_json()"
   ]
  },
  {
   "cell_type": "code",
   "execution_count": null,
   "metadata": {},
   "outputs": [],
   "source": [
    "df.columns"
   ]
  },
  {
   "cell_type": "markdown",
   "metadata": {},
   "source": [
    "## Excution of another cell overrides \\_ , However,  \\_kql\\_raw\\_result\\_ python variable holds last kql query result "
   ]
  },
  {
   "cell_type": "code",
   "execution_count": null,
   "metadata": {},
   "outputs": [],
   "source": [
    "_"
   ]
  },
  {
   "cell_type": "code",
   "execution_count": null,
   "metadata": {},
   "outputs": [],
   "source": [
    "_kql_raw_result_"
   ]
  },
  {
   "cell_type": "code",
   "execution_count": null,
   "metadata": {},
   "outputs": [],
   "source": [
    "_"
   ]
  },
  {
   "cell_type": "markdown",
   "metadata": {},
   "source": [
    "## Show a chart, render the query to the proper chart"
   ]
  },
  {
   "cell_type": "code",
   "execution_count": 3,
   "metadata": {},
   "outputs": [
    {
     "data": {
      "text/html": [
       "<html>\n",
       "        <head>\n",
       "        \n",
       "        </head>\n",
       "        <body>\n",
       "        <div><p style='padding: 10px; color: #3a87ad; background-color: #d9edf7; border-color: #bce9f1'>&nbsp;*&nbsp;DEMO_APP@applicationinsights</p></div>\n",
       "        </body>\n",
       "        </html>"
      ],
      "text/plain": [
       "<IPython.core.display.HTML object>"
      ]
     },
     "metadata": {},
     "output_type": "display_data"
    },
    {
     "data": {
      "application/vnd.jupyter.widget-view+json": {
       "model_id": "4088121f27c146bdb3cc19cf7f7e658b",
       "version_major": 2,
       "version_minor": 0
      },
      "text/plain": [
       "FigureWidget({\n",
       "    'data': [{'domain': {'x': [0.0, 1.0], 'y': [0.0, 1.0]},\n",
       "              'labels': [Bothell, P…"
      ]
     },
     "metadata": {},
     "output_type": "display_data"
    },
    {
     "data": {
      "text/html": [
       "<html>\n",
       "        <head>\n",
       "        \n",
       "        </head>\n",
       "        <body>\n",
       "        <div><p style='padding: 10px; color: #3a87ad; background-color: #d9edf7; border-color: #bce9f1'>Done&nbsp;(00:03.945):&nbsp;10&nbsp;records</p></div>\n",
       "        </body>\n",
       "        </html>"
      ],
      "text/plain": [
       "<IPython.core.display.HTML object>"
      ]
     },
     "metadata": {},
     "output_type": "display_data"
    },
    {
     "data": {
      "text/html": [],
      "text/plain": [
       "[{'client_City': 'Bothell', 'count_': 1277318},\n",
       " {'client_City': 'Peterborough', 'count_': 413537},\n",
       " {'client_City': 'Hohhot', 'count_': 334461},\n",
       " {'client_City': 'Villingen-Schwenningen', 'count_': 284909},\n",
       " {'client_City': 'Nantes', 'count_': 245760},\n",
       " {'client_City': 'Cabo Frio', 'count_': 243844},\n",
       " {'client_City': 'Zapopan', 'count_': 90070},\n",
       " {'client_City': 'Bristow', 'count_': 235},\n",
       " {'client_City': 'Chicago', 'count_': 93},\n",
       " {'client_City': 'Mexico City', 'count_': 58}]"
      ]
     },
     "execution_count": 3,
     "metadata": {},
     "output_type": "execute_result"
    }
   ],
   "source": [
    "%kql pageViews | where client_City != '' | summarize count() by client_City | sort by count_ | limit 10 | render piechart title='my apple pie' "
   ]
  },
  {
   "cell_type": "code",
   "execution_count": 4,
   "metadata": {},
   "outputs": [],
   "source": [
    "p = _"
   ]
  },
  {
   "cell_type": "code",
   "execution_count": 25,
   "metadata": {},
   "outputs": [
    {
     "name": "stdout",
     "output_type": "stream",
     "text": [
      "----------plotly\n",
      "----------1\n",
      "----------2\n",
      "file: immm.pdf\n",
      "----------3\n",
      "----------4\n",
      "image results at C:\\MyProjects\\KqlmagicAtMicrosoftGithub\\jupyter-Kqlmagic\\notebooks\\immm.pdf\n",
      "image results at C:\\MyProjects\\KqlmagicAtMicrosoftGithub\\jupyter-Kqlmagic\\notebooks\\immm.pdf\n"
     ]
    },
    {
     "data": {
      "application/pdf": "[encoded data removed]",
      "text/plain": [
       "b'%PDF-1.4\\n%\\xd3\\xeb\\xe9\\xe1\\n1 0 obj\\n<</Creator (Chromium)\\n/Producer (Skia/PDF m59)\\n/CreationDate (D:20190905001934+00\\'00\\')\\n/ModDate (D:20190905001934+00\\'00\\')>>\\nendobj\\n2 0 obj\\n<</Filter /FlateDecode\\n/Length 2604>> stream\\nx\\x9c\\xed[\\xdb\\x8e\\x1b\\xc7\\x11}\\xe7W\\xccs\\x80mu\\xdd\\xfa\\x02\\x18\\x01$%\\xd6\\xb3\\xe3\\x05\\xf2\\x01vl\\xc3X\\x05\\x88\\xf3\\xff@N\\xf5\\x0c\\x973$\\x9b\\x9c!\\xb9\\x89\\x14H\\xab%\\xc8j\\xf6\\xad\\xea\\x9c\\xbat\\xcf\\xd2\\x10\\xf1\\xf3Dx\\x91\\\\\\x87\\x9f>\\xef\\xfe\\xb5s\\x89q\\x85\\xa0\\x84\\xca5\\x96\\xe1\\x8f\\x7f\\xec\\xfe\\xfe\\xa7\\xe1\\x9fh\\x0b\\xd9\\xa2\\x98Zm\\xfd\\x96\\x9f\\xd0\\x99\\x06\\xff\\xf9\\xdb\\xa7a|\\xf3\\xc7\\xaf\\xbbw\\x9f\\xe2\\xf0\\xeb\\xbf\\xdb\\x989\\xda`\\xf8\\xc5h\\xbf\\xec~\\xc0\\xcf~*\\x0b\\xac\\x85\\x05\\x13Z\\xa0\\x9c\\x85\\xd6O\\xf8\\xee\\x13\\x1d\\x86\\xc7X\\xf8m\\xc3\\x07b\\x1e\\x82&A\\x97\\xc8\\xbe\\xa2#\\xc9ai\\\\l\\xe0\\x14\\x87\\xcf\\xed\\x1da\\x84\\x97\\x1dW\\r\\x9c+\\xe5\\xf6Y\\xa2\\x04-%\\xb5\\xd6P\"\\x91\\xe6A\\x88C\\xe2\\xa2\\x0c!\\x07\\x8d\\xa26\\xfc\\xb4\\x13\\xa6\\x90S\\xa1\\n\\xa9\\x86\\x18-\\x1b\\xf6%\\x11s\\xc6\\xea\\xc2\\x14\\xa4\\x18\\tCX\\x83r\\xca.\\xac\\xc1\\x94\\xac\\xb6\\x01\\xb4\\x04\\x82J \\xf6\\tj\\x89x+\\x96\\xf0\\rL\\x01!\\xde\\x15\\xa5Z\\x06I\\x1a\\xac\\xc6\\x98\\x06\\xc2\\xa4\\x1c\\xf1\\xaf\\r\\x90\\xd1Mj\\x86\\xfe\\xa1\\xd8BV\\xa2\\x0eRb`\\x89\\n\\xa1P\\x88\\x95\\xaa\\xb80\\x07IL\\xd8\\x81\\xe4\\x10\\xb1\\x17\\xbc\\xc5\\x00\\xd8\\xbbV)\\x03)\\x87\\x9a\\xb4d\\x1d4\\xa2\\x97U\\xc1\\xaa\\x14\\xcb\\xce\\xb0W\\x81\\x10\\xbd\\xac\\x14(\\xc9\\xd7g\\xc4\\x19\\xdd\\x95\\xc4\\xa5\\x02e%\\xc1J\"\\x0c6(\\x15\\xa8\\x88\\x12\\xe6\\xcf\\x04\\x1b\\x0b\\xcc\\xa0\\x8c/B\\xab\\x98>\\xd7@\\x85c\\xeb\\xce9\\xe4lh\\',\\x8fjTL\\x845\\xa3\\x0b\\xacF\\xd5\\xa0\\x08Q\\xf4\\x16\\xc5\\xe2jN\\x03C\\xd1\\xac\\xd8\\x93\\xf7\\x96\\x02M\\x88\\xd6\\x01\\xdb\\n\\xd8\\x84\\xe4A5\\x86\\x94\\x18\\xbd\\x19z*Z]\\xc4\\x01\\xf6\\x82\\x0e\\xa0\\x94P\\xb3\\x8e\\x9dU]\\x0b\\x98\\x1a\\xc3\\x05\\x98\\x9ahpY\\x85\\xbd\\xf1Ml\\\\\\xa2k\\xab\\xc9\\xaa@-l\\x05\\xd6\\x88UZo\\x0b1\\xa7\\xe8`\\xca\\xa1Xu\\xb5\\xe1\\x9b\\xb0\\x1d\\xd6\\x98\\xa1\\xaal5\\xb5\\xa9\\xa1\\x1c\\xc0\\x063\\x05\\xe6j\\xa5u\\xa6 \\xd07\\r\\x10\\x00!\\x80\\x11vXC$\\xa5\\x04\\xfca\\x18I\\xd8\\xab\\x8aaW\\x86Vq5W\\xac\\xa7\\xed\\x1acZb|\\xb3\\xedP0\\xa32z\\xab\\xa6\\xd2\\xd0\\xc7\\xc9\\xcce@L\\x8c\\x8a\\xefAObVF\\x83\\xd5P\\xd1\\x1bcj\\n\\xe8\\x02\\xd4+i\\xc8\\x9a\\x1b\\xf4\\xa0\\x94\"\\xe2\\x18(\\x01X\\x80z$\\x01o)k\\xdb6\\xb8\\x01M\\x81\\x1b\\x92`c#\\xc38\\xd5\\xe1\\xc0\\xc6\\x8d\\xd11\\xab\\xa1\\xb5\\x00\\xe4\\x9c\\xc1A)@\\x80/\\x11P+\\x8c\\x05Q\\xe5\\x86E\\x80:\\xe9\\xd8%\\xa6\\xe8\\xc3\\x00\\xc9\\xb1\\x98C\\x1d\\xea\\x03.1uu\\xcc&m@5l13l\\xa7` \\xb17\\x1b\\x98f\\xe6\\x8bM\\xa0Q\\xc1N\\xa1\\xefX\\xc0#\\x88\\x80\\xdcT\\xc5W\\xbd\\xe7\\xfc\\xcb\\xee\\xb7\\xe6\\x8b\\xfa~\\x86\\xb3\\x04\\xc9\\x19\\xba%\\xac;\\xe1\\xad\\\\tt\\x1f\\x9ew\\xef\\xbe\\x8f\\xe0\\xde\\xf0\\xfc\\xcb\\x8e\\xf6\\xde\\xf5\\x89\\xb1.X5\\n>?\\x7fn\\xfe\\xea\\xf9\\xe7\\xe1\\xbb\\x18\\xd9\\xfe<<\\xff\\xbe\\x03la\\xa3\\xc4\\xf6\\xda`\\xdc\\x1ar\\xe0\\xd6\\x8f\\x0e\\r\\xb95\\xc0@\\xd8\\x05\\x98\\xf7\\xda\\xa0\\x1f\\xa6\\x1e j>\\x0c\\xa4e\\x12\\x93\\x02\\x1a\\xf3\\x86\\xef[\\x83\\x04\\x86\\x97O \\xf4Q\\xc3_\\x9f/\\xec\\x06\\x98\\x88\\x88\\x0c\\x04>V\\xff\\xa7\\xcbmQ\\x9e&\\x85\\x8b\\xac1\\xc9\\x8a\\x06\\x9a\\xb6%\\xc9X@\\xb8\\xd7\\x06\\xeb\\xf4\\x88e\\xbf\\xccK\\x06\\x9c\\x02\\x05\\x18\\x9b\\xe0\\xfe\\x81\\x03x\\'k\\x01a)9\\x17\\x10\\xe0\\x93\\xdd\\x9bk\\xc6FS\\x0c\\xf0\\xd1\\x800@C\\x19\\x1e@\\r\\x84$\\'.\\xa2\\x05F\\x81O\\r\\xb0\\x87\\x0b9y\\xbc\\xc8\\xe2n\\xc8\\xe0.=\\xae\\xe0M\\xa9\\xc2\\r\\xb9\\x0c\\x7f\\x0b\\xca3\\xfcyD\\xf0\\xab\\x19\\x14\\xf1)C\"s\\xa5\"\\xe6`\\x11\\xc1]\\xba\\xb4O[\\x10\\x8b\\x08\\x8a\\xd9\\x13\\xfc\\x06\\x11\\xd0#\\xb5\\x94\\x06Y\\xa7\\xecpxq\\r,%WA\\x0c\\xaf\\xa8Vj\\xd1c\\x10\\x8b4K$(E\\xc0J\\xbd\\x8e\\xbd>\\x88\\xbb=F\\x18 C`\\x04L\\x99\\xa1u\\x8f\\x0f\\xcdk\\x19\\xd4\\x1b\\xaa\\xdf\\xa3\\x9c\\xa7\\xd6\\xfb\\xce\\xd4\\x13\\x15\\xefb\\x90>\\x8eA\\xe9!\\x0cB\\xd8\\x1e0\\x04\\xd0\\xe2\\xefZJ\\xb5\\x90\\x9cePK\\xee`H|F\\xf8\\x90\\n\\xdf\\x0c\\xfe \\x10!\\x19`\\xa4A\\x1eV9!?h\\xac\\x81z=\\x06xT&\\x00\\t\\xe0GhC\\xb0tx2\\x11\\xe0\\xa7\\xd9c\\x16!~)\\xb6\\x82\\x0f\\x88\\x1eH\\x18\\xc4\\xd3\\x08\\x85}R\\xa2\\xe8Y\\x86\\x05\\x8f\\xc5\\x18`\\xa4\\xb0\\xc5\\xba\\xa7\\xb0\\'\\x00\\x9b\\xf8\\x84H\\x8a\\x88W|\\xaed\\x1e\\x16\\xd9n\\x8b\\x01\\xc8b\\xec\\xc4\\xff\\x8fH\\xf1P\\x9f-\\x17\\xba\\x8e\\xc5\\x9e\\x9b?/\\xbe\\x16F\\xde\\x06\\xa2\\xdd\\x86.D\\xebC \\n\\x80\\x01\\x8b0O{q\\x88.%g!\\nXD\\x8b\\x19i\\xaag\\x14\\x9e4V\\xc7( \\x96\\x91O!\\x1b\\x12A\\x8c,\\x8a|\\x06).\\x9c\\x064\\x01!r\\x8e\\x8a\\xacU\\x87s\\x18\\xdf\\x020\\xcfP\\xa8 \\x81\\x03\\xee\\x93W\\\\c!\\x16<\\xa9\\xc2\\xc0`\\x97\\xec\\xf9\\xb6\\x90\\\\\\x05\\x1cRm\\x0c\\x9b\\x11r\\x8e\\xfdu\\xdd\\'\\x1d@\\xc4\\xdcm}\\xbc\\x9c\\x11li\\xe8\\re\\xb4\\xd1\\x95v\\x03\\xc2\\xf9\\x81(N\\xce]\\x1a\\xde\\x0fH\\x92\\xd4\\xd9t\\x9a\\x82\\x17\\x1b\\xca\\x8b\\xb3D\\x13\\x0fQ\\x87\\x91\\xec\\xfd\\xc4\\xd9r<\\xd4\\xc6\\xb5\\xf6t\\xf1\\xdf\\xd2\\xdd]\\xe4\\xff\\xb8\\x99\\xe3\\x1fz=\\x1eC~O\\xbd\\x82\\xa2A\\x9bW^|>[\\xee\\xb3\\x17A\\xe4\\x0cDi\\x90\\xe0\\xe3\\xc9K\\xffV\\xea\\x12\\x8aQ\\xa9^\\xf1\\xc5\\xe2\\xe1\\xa4\\x84\\xb1<\\xf6\\x8a%\\xa3\\xbe\\xe4\\xe1\\xd4m\\x8c\\xa9\\xdd\\xfa\\xb8b\\xd8p\\x8d^\\xccq\\xf2\\xb3\\x00\\x84\\xc1\\x1bK\\x0b\\x87-\\x9f\\x84\\x16\\xa1\\t\\xf0\\xf5\\x18\\x16{\\xf7\\x8c\\x92{A\\x91\\x1eL\\xb7\\'k\\xe9\\n\\xbe\\x08tCTF8\\xef\\x03\\xac\\x0b\\x97.\\xc0\\xcacp\\xa4\\x08\\x19\"\\x9e\\x15\\xd7\\x11Hs\\xc19$\\tR\\x13\\x94w^\\x89\"\\xe5\\x86\\xc3\\x85\\xb2\\x81\\xa4\"\\x9e~g\\x86\\x87G\\x16S\\x90\\xfe\\x0fl\\xa8\\x07\\xb0:T\\xa8(\\xbbKI(\\xc1Op\\x18\\xcb\\xb6\\x125jHF\\xe4G\\n\\xa8\\x8e\\x01X\\xba\\tG\\x05\\x8c\\xa9\\x14O\\xa2\\x05\\xef\\x1d\\xa7\\xe4\\xa5Z\\xbb8\\xda\\x9e\\x92G\\x99l\\xcaH\\xb4\\x0e\\xdf\\xe7:\\xf9\\xe6\\xe2\\x07Q3S\\xf7\\xab\\x81\\xae\\xef\\xe4\\xfb]\\xdevDn.\\x837\\xe6;\\xd5\\x8f4\\xb3\\xb7\\x8c\\x15\\xddBp\\x16\\xaa(X+\\xcaLk`3\\xca\\xe4PE\\xacD\\n\\x8f\\x92\\xd1O\\xefX\\x93\\x1f\\x9c\\x00\\xb3\\xe4%*R\\xe6P[zr\\n\\xf3\\x8d@\\xcd\\xd1]\\x08\\xd8\\x84\\x1c+ S\\xaf\\xf2\\x98D\\x07\\x95C,6\\xc1`\\xe1\\x02\\xff2\\xa9\\xb92j\\x84\\x99a\\xfa.P6W\\x93\\xbd\\x1e\\xd7\\xdc\\xec\\xda\\xb2k\\x8dv\\xd8\\xb5#\\xec\\xa7\\x8cp,\\xed\\xfcN\\x92;\\x9c\\xcf3\\xa9A\\x9a\\xa2\\'\\xaanqw\\xe7\\x0c\\xe4\\xcd\\xa5?\\xee\\xc6\\x03\\x91\\xd7\\x17\\x9fn)9\\x0f*\\xa4\\xb0~\\x7f\\xd0\\xce\\xd8\\x8a\\x9f8\\xbf\\x8cB\\xf2\\x03\\x8f&\\xf5C\\x8e\\xa1\\xa1\\xaf$?\\x82u\\xf4\\xf9\\xd1\\xe0\\xb0G$\\xbf\"r#\\xaa\\n\\xac\\x1f\\xfd\\x90\\xd0O\\xd9\\r\\xde\\xe31\\x98b?\\x1c\\x97xZ\\xb1uO\\xec\\xb6\\xfb\\xa4^\\xea\\xd9\\x8d\\xb8}\\x14\\xbe\\xbf\\xe2\\xde\\x84\\x82\\xc1\\xdc\\xe9B\\xc0\\x95\\xcd\\xee\\xad\\xdb\\xa3\\xdb\\xd0u\\xa1\\xdd\\x92\\xf1A\\x87\\x17\\xebY\\xe4xD\\x85\\'\\x13F9\\xf1\\xdeo\\x8e\\xd2\\xa2\\xc0u\\x84\\xd41\\x8e\\x80\\xad\\xc5\\x1d\\xe7L\\n\\x16e\\xcf\\x16<\\xf1\\xf4r\\xb1M\\xb7\\x94tY\\x94\\n\\x8d\\xae\\xd9\\xbd\\xc9\\x9eEVb\\x9e\\xb8\\xe5\\xb7)M\\xa6\\xd3\\x89\\xb6_\\x06\\r{\\x02\\xca\\x8c\\x81\\x9b9\\xa4~W\\xe0~\\xbd\\xa6\\x07QH<HP9q\\xcb\\xfd\\x8c\\xa2s\\xb6\\xd1\\xadK\\xbb\\xb5[75\\xe9\\xd5JW\\xf3\\x83/\\x84@=:t\\x8f\\xc9\\x1ft~\\xbe\\x85@\\x0eY\\x89:\\x81\\x919\\xef\\xd1=JM\\x82\\x92g\\xbe#\\x812\\xc8_\\x16R\\x10(\\xd6\\x89-%\\x8eQh!\\xe8\\xd2gq\\xd3\\xb3\\xa7\\x0f\\xd83\\x05\\xa1\\x8c\\xe82\\x92%\\xabNd\\xc9x\\x1dN\\xb8\\xa7\\xdb\\x0e\\t\\xb9\\x14W\\x85\\xdf\\xcb\\xc1iW\\xd1\\x07Q\\x08Q\\xda/\\x89\\xed4\\xb3\\x19\\x8f9(\"I\\x13.s\\x84w\\x8b\\xb2=\\xb9\\x08\\x98H\\xab\\x8e}\\xba\\xf1ik\\x1e\\xdf%|74\\xee#`J\\xb52\\xd5C\\xc3\\xc7\\xaf\\x83\\xa7]:v{\\xf4\"\\xe0:\\x9e\\x02N\\xa1pJi\\xf0\\x0bT\\xc8\\xd2\\xe5*\\xd0{S\\x8d\\xa8\\x1e\\xe3\\xfc\\x89\\x0cCe.UA\\xd3\\xc30\\xe0\\xd6\\x99\\xc1_fR\\x14\\xbc@UB\\xce\\xf32\\x1b\\xe1\\xbct>\\xc2o\\xd7\\x1e\\xf38LQP\\x85\\x00\\xb6Q\\x1fB,\\x8d\\x03\\xa0\\x95\\x1d\\x1c\\xe5k\\xba\\x90\\xbd\\x88\\x80\\xe2\\xa7\\xcf\\xfe\\\\\\xc2\\x91\\xaeV?\\n\\xf3\\x94\\x86\\'\\xbf\\xbe\\xf4\\xff\\x13&6\\x9b\\xe6\\xf5\\x89\\x9c\\'$O~\\x93\\x03\\x94m\\x19\\xcc\\x1f\\xb1\\xa1\\x0c\\xf6\\xbd\\xb1\\x9d\\xbf\\xddYv\\xef,\\xd7\\x81li\\xa8\\xf5\\xd7\\xeb7\\x82l1\\xdd\\xdd #\\x8f\\xab5\\xfae\\xe2\\xdbz\\x93\\xff\\xfd\\xf5\\xdeJk\\x1eid\\xf5]\\xef\\xad\\xe6\\\\\\xccw\\xb7=\\xb9\\x84T\\x0c\\xa9\\xe6[{\\x8do7g\\xdfn\\xce6\\xf1j\\x89\\xcc\\xf5\\x17\\xd4\\xb7\\xf2j1\\xdf\\xdd\\xbc\\xf2G@\\x95\\xcd\\xe8\\xady\\xf5%\\xdcU\\xad\\xb4\\xe8R\\'\\xebn\\x1do\\xb5\\xe6b\\xae\\xbb\\xadi\\xfe\\x90e\\xf5S\\xfb\\xb7\\rz\\xffg\\x17F+q\\xb1\\xd0\\xee\\xdaK\\xc4[\\x811\\x9f\\xecn\\\\d\\x7f\\xb2\\xca\\x9f\\xaf~c\\x92\\x7f\\xc5\\xb713;/\\xb4\\xb5\\xf6\\x06\\xeeV;\\xcf\\'\\xbb\\xdb\\xce(\\xd42\\xf1\\xdb\\'\\xbd_\\xf8\\r\\xc9J;/\\xb4\\xb5\\xfeZ\\xecVK\\xcf\\xa7\\xbb\\xdb\\xd2\\xb5\\xfa_G<\\xe6*\\xec\\x16G\\xff%\\x9c\\xe3\\xaf4\\xf3\\\\U\\xeb\\xafmn\\xb5\\xf2l\\xb6{\\x8d\\xcc(\\xa1\\xc00~\\xf3\\x93\\x92oG\\xcd\\xeb\\xa0\\xb44\\xc8\\xda\\x1b\\x8c\\x1b\\x91\\xb4\\x98\\xec\\x12\\x94\\x1e\\xf2wv7\\xc0+/\\xe0%\\xfe\\xb7\\x7fK\\\\\\xd9\\x84\\xab\\x14$U\\xd2\\x98\\x8e\\x15\\x0f\\xc4\\xc5\\x14MS=6\\xba\\xf5\\xea\\x04t\\xe1Xk\\x8a3+\\xca\\xbe\\xc5*\\xe5\\x9a\\xd6\\xb4L\\xc5\\xb9C\\x02\\x8a\\xa8t\\x8cx\\xe7\\x02\\xa7\\x05N\\xbb+\\xbb0\\xcb\\xc7\\xcb\\xb3\\\\\\x01\\x1e\\xf9\\xdfB\\xa9\\xf8\\x9f}\\x11#\\xef\\xc8%\\xcd\\xb0\\x00\\x1c\\xe0\\xbfz\\x1c\\x1b\\x91\\xf0\\xee\\x93\\x9c\\x91\\xffx\\xbf\\xe7\\xf0\\x8b\\xf1\\x16\\xd0Q\\xae,-\\xbc\\x9d\\xd4\\x9dC\\xcb\\xcd\\xc5\\xde,\\x08\\xfc\\xb0\\xfb\\x0f\\xf4\\xb4\\x05\\xe1\\nendstream\\nendobj\\n3 0 obj\\n<</Type /Catalog\\n/Pages 4 0 R>>\\nendobj\\n4 0 obj\\n<</Type /Pages\\n/Count 1\\n/Kids [5 0 R]>>\\nendobj\\n5 0 obj\\n<</Type /Page\\n/Resources <</ProcSets [/PDF /Text /ImageB /ImageC /ImageI]\\n/ExtGState <</G0 6 0 R\\n/G1 7 0 R\\n/G2 8 0 R\\n/G3 9 0 R>>\\n/Font <</F0 10 0 R>>>>\\n/MediaBox [0 0 529 379]\\n/Contents 2 0 R\\n/Parent 4 0 R>>\\nendobj\\n6 0 obj\\n<</Type /ExtGState\\n/Type /ExtGState\\n/CA 1\\n/ca 1\\n/LC 0\\n/LJ 0\\n/LW 0\\n/ML 4\\n/SA true\\n/BM /Normal>>\\nendobj\\n7 0 obj\\n<</Type /ExtGState\\n/Type /ExtGState\\n/CA 0\\n/ca 0\\n/LC 0\\n/LJ 0\\n/LW 0\\n/ML 4\\n/SA true\\n/BM /Normal>>\\nendobj\\n8 0 obj\\n<</Type /ExtGState\\n/Type /ExtGState\\n/CA 1\\n/ca 1\\n/LC 0\\n/LJ 1\\n/LW 1.5\\n/ML 4\\n/SA true\\n/BM /Normal>>\\nendobj\\n9 0 obj\\n<</Type /ExtGState\\n/Type /ExtGState\\n/CA 0\\n/ca 0\\n/LC 0\\n/LJ 0\\n/LW 1\\n/ML 4\\n/SA true\\n/BM /Normal>>\\nendobj\\n10 0 obj\\n<</Type /Font\\n/Subtype /Type0\\n/BaseFont /Verdana\\n/Encoding /Identity-H\\n/DescendantFonts [11 0 R]\\n/ToUnicode 14 0 R>>\\nendobj\\n11 0 obj\\n<</Type /Font\\n/FontDescriptor 12 0 R\\n/BaseFont /Verdana\\n/Subtype /CIDFontType2\\n/CIDToGIDMap /Identity\\n/CIDSystemInfo <</Registry (Adobe)\\n/Ordering (Identity)\\n/Supplement 0>>\\n/W [0 [1000 0 0 351.5625] 8 [1076.17188] 16 [454.10156 363.76953] 18 36 635.74219 37 [685.54688 698.24219 0 0 574.70703 0 751.46484] 48 [842.77344 748.04688 0 603.02734] 52 60 683.59375 61 [685.05859] 66 [635.74219 0 600.58594 623.04688 520.99609 0 595.70313 0 623.04688 632.8125 274.41406 0 0 274.41406 972.65625 632.8125 606.93359 623.04688 0 426.75781 520.99609 394.04297 632.8125 0 818.35938 591.79688 591.79688]]\\n/DW 0>>\\nendobj\\n12 0 obj\\n<</Type /FontDescriptor\\n/FontName /Verdana\\n/Flags 4\\n/Ascent 1005.37109\\n/Descent 209.96094\\n/StemV 0\\n/CapHeight 727.05078\\n/ItalicAngle 0\\n/FontBBox [-559.57031 -303.22266 1522.94922 1050.78125]\\n/FontFile2 13 0 R>>\\nendobj\\n13 0 obj\\n<</Filter /FlateDecode\\n/Length 17617\\n/Length1 35388>> stream\\nx\\x9c\\xed\\xbdw@TW\\xf68~\\xeek\\xd3+\\xc3\\x00C\\x99\\x19\\x06\\x10\\x18`\\x90jgT\\xach,Q\\x02(\\n\\n\\n\\x06\\x05\\x01\\xbb\\xab\\xa6Xb\\x8a&\\xd95=1\\xbd\\'X\\x83\\xc6$n\\x8ak\\xda&\\xa6n\\xba\\xa6m\\x92\\x8d\\x89\\x9b\\x18\\xd752\\xf3=\\xf7\\xbe\\xf7\\xc6AM>\\xf9}~\\xdf\\xef\\x7f\\xa2\\xe7\\xdd\\xf3\\xee\\xbb\\xf5\\xf4s\\xdfC\\x81\\x00\\x80\\x01\\xd6\\x00\\x0f\\xf9m\\xed\\x8dm\\x8b\\xa7\\xdf0\\x03 \\r+\\x85\\xef\\x17\\xd4\\xcfo|w\\xfd\\xbf.\\x03X=\\x05@\\xff\\xcd\\xfc\\xfa\\xa5m\\xba+$\\x0e\\x80\\xc4c\\x03OK\\xeb\\xecz2\\xfc\\xbf_\\x03\\xf87\\x00\\xc4\\xfe\\xa3i~\\xe7\\xd2\\xe2U3\\xfe\\x89\\xcf\\xfb\\xe1\\xfd;MM\\x8d\\xf5\\x96\\x17\\xcc\\x19\\xd8\\xf68B\\x1a\\xde6\\xfcsQ\\xe0:\\xc4\\xf7!\\x94\\xccmY6\\xa7\\xd1\\xd9\\xba\\t`h\\x1d\\xc0\\xe0\\xe3s\\xda\\xe6\\xcew\\x19\\x17\\xff\\x17\\xc0\\x8d\\x0b\\x10>\\x9e\\xbd\\xb8\\xd3S=c\\xa6\\x03 \\xf3{\\x00\\xee\\xf6\\xd9\\xf3\\xeb\\xdbz\\xc6f`\\xdf8#\\x806\\x1e\\xe8\\xda\\xc5)+*v\\xbda\\x9ai\\x19\\xf4\\x0b$j\\x81\\xfe<\\xb2\\xaa<\\x8b\\x96\\xef\\x99+\\x8e\\xfd\\xba\\xae\\xe7Fc@\\xdb\\x84\\xb7:\\xe0X\\x0f\\xa0W\\xad!4\\x19\\xc0x\\x14\\x9f/4\\x06\\x94\\xfa\\xc8\\x8f\\xb8\\x88\\xd6\\xe0u\\x19h\\xe0R\\x10\\xb1\\xa7\\x15\\x02P\\x0b\\xc0_/|\\x8f\\xb4\"Z\\xa5\\x0b\\xf7\\xa6\\x0c|\\x06\\xf1\\xf1\\x8f\\xc1C\\xd25\\xf0\\x82\\xe8\\x84\\xdb\\xb4\\xb7\\xc3_\\xc47\\xa1\\x83\\xcb\\x80\\xfb\\xf8{`\\x17\\xc2\\x8dX\\xff >\\x7f\\x8b\\xfb\\x16n\\xc4\\xfb[\\xb0\\xec\\xe1\\xef\\t\\x7f\\x8e\\xf5W\\x89N\\xe2\\xc4\\xf2n\\xda\\x06a<\\xc2\\xd3r=\\xdc\\x8a\\xb0\\x1ca!\\x7f\\x0f\\xa9\\xc1~_\\xe3\\x18!\\x84_\\xa4k\\x88Q\\xa8\\x85\\xad\\xb8\\xeb.q)\\xb8\\xc4\\x95pP\\xdc\\x02\\x1dR6\\x96\\x168(\\xdc\\x02\\x07\\xa5\"\\xbc\\xe7\\xe1 ?\\x03\\xae\\xe2\\xef\\x85\\x1c\\xf1jx]\\xe8\\xc4\\xfag\\xb1\\xcdi,\\xc7A\\x87\\xf0\\xb6\\\\\\x8a\\x9b\\xb1n)\\xac\\x13~\\xc0\\xbd\\x7f\\x04\\xdb\\xe9\\x98\\x9aoa\\xba\\xb8\\x02\\xcaq\\xd7\\x12\\x96\\xabp\\xfe\\x1f\\x11F\"<\\x8ak\\xd8+:\\xc3\\xa7q\\xedS\\x84\\xbfC\\x93p\\x1a\\xf6\\x08~h\\xc6\\xb2Ex\\x11\\xe6!]\\xca).Za\\x0fW\\x00Or\\x7f\\r?/\\xec\\x83\\xbf\"\\xfe\\xb4\\xe6 \\xec\\xa1\\xf5\\xc2G0\\x8f\\xf5\\xc3v\\xfc<\\xd6\\x7f\\x01\\xdf\\x07\\x86\\xe0\\xb3m\\xd8v0\\xceQ\\x89\\xe5 \\x8a\\x0bEP+:\\xe0q\\xa4\\xc3r,\\x9f\\xc6gO\\xb3}S\\xc0}\\xd3=+{j\\xa3\\xebgk:\\x1f\\xd05\\xe2\\xfa\\xa2\\x01\\xd7\\xb4\\x95+\\x08\\xff\\x0b\\xe1\\x17\\xc4\\xc5\\xc8\\xda\\xce\\x02\\xba\\xae^\\x80|\\x12*\\x19\\x8f\\xeeR\\xf8\\xf5\\x18\\xf2d\\x0f\\xc5\\x85\\x13\\xb0\\x07ys\\x17\\x05\\xcd\\x9b\\xf0\\x88\\xe8\\xe4\\x92\\x91V5\\x94w\\x9a\\xc3`\\xa64\\xc7gw\\xe3\\xfd\\xfb2O\\x89\\x11\\xfb\\xb5\\x88\\xa9\\xf0,\\x96\\x7f\\x11\\x0f\\xb1=n\\x16\\x1f\\x86\\x85x\\xbf\\x11\\xc7\\xbd\\ta\\x19\\xd6]\\xaa\\xb9\\x0f\\xf7\\xf1\\x11\\xd4\\xe2\\xfdB*{T\\xae\\x10\\xd6!?>\\xc6\\xf2g\\xec[ f\\xc2\\x03\\x08O\\xe0\\xfdv\\x95Nl\\xceM\\xb0T\\xf3!\\xee\\xc5\\t\\xb7\\xe0\\xfc\\xb7\\xf0\\x8f\\x85\\x8f\\xa2\\xecn\\xe12\\xc2GQ^\\xb7*c=\\xc6h\\x8e|\\xe7\\xbe\\x0c\\xd3\\xfd\\x01\\xf2|/\\xc2\\xf3\"@\\xb9\\xc8!\\xe0\\xde\\xa9\\x0cc\\xbf\\x138\\xc6\\tc\\x0e\\xae\\x99\\xcecar$\\x97\\x16E\\xf6f@-\\xc2*\\x8a\\xd35\\xa8\\xc0\\xe4L\\x01*\\x17H\\x9f\\x12\\x1c\\xf7(\\x96\\xf1\\x081H3/\\x96\\xb9\\x08\\xf5\\x08\\x95\\x08HgR \\xac\\x82xn$\\xc43yE\\x99\\xa1\\xb2I\\xe5\\x83\\xca\\x06\\xca\\xbcY\\xf8\\n\\xf9\\x85kg{\\xf8\\x07\\xea\\x02\\xca\\x18\\xee\\tiC|B%\\x05x\\x83\\x02\\xee\\xffQ\\x05\\xae\\xc1y\\x07Q}a\\xb2\\x88\\xeb\\x8c\\x8c\\x8d\\xb2EeF-\\x99L\\xa3\\xdc\\xd3\\xbd\\xd3}R\\x99RK\\xa6{y\\xd0B\\xd7\\xc0t\\x10eK-\\xa9\\xde\\xe1\\x1e\\x1fe\\xe5\\x0c\\x94\\x1b,\\xf9Gq\\xcf(\\xb3T\\xde\\xd4\\x92\\xe9$\\x955\\xd4G\\xaa\\x13Jy\\x83\\xba\\x1e\\xaa\\x9fTG\\xd4\\x92\\xd1\\x8f\\xca\\xa2Z*\\xb4PKa\\x83\\xac\\xdf\\xd2\\xb5\\x8an~\\x82kq\\xc1|\\xd1\\x00\\xf3\\xf8\\x93\\xa0\\x97&\\xe3\\xfaq?B\\x18\\xe9R\\x0b\\xb7\\xea&`\\xfb\\xff\\xa0\\xfc~\\x0bO\\x8a\\xff@\\xfb\\xf6%\\xbc+,\\x82w\\xa9M\\xe3\\xb6\\x80Ex\\x17n\\xe0\\xde\\x83+( \\xbe\\r\\xcb\\xb6\\x08\\x1d\\xce\\xa2\\xd5\\xd94PK\\x95\\xce\\xe7\\x94\\xbcB\\x03\\x1e<X\\xc6 \\x1frP\\'\\x7f\\xc2r&\\x96\\xa7\\xb1\\\\\\x834$\\x94?X^Gm\\x1a\\xb5+\\xcc\\xae\\xa1ma \\xd3Y\\xfc-\\xba\\x9eE\\xdf\\xc4\\xb3\\xe9z\\x0e=\\xa3K\\x03l\\xa36\\x91\\xd9%E\\xbe\\xb8\\xb98\\x87\\xb2\\x7f\\xaa\\xd7T7\\x959\\xa8<\\xd6\\xa8\\xed\\xcf.#\\xfdQ\\xef\\x90\\xfeo2\\xfb\\xf1,lS\\xe5\\x11a#\\xd5O\\xd2\\x05\\xf5\\xb2\\xfcsv,\\x01\\xe7\\xd2P/,\\x9d@/9\\t@\\x83\\xdeP\\xd2`9\\x1cyU\\x10~5\\xe2\\x0b\\xb6*:\\x88r\\xa0\\xfa\\x00J\\'|\\xe6R\\xed\\xbf\\xd8\\x17\\xda\\x99l\\xe0s\\xea\\x07\\xc4zXL\\xe9\\xa0\\xd8\\xfbr\\x94\\x83\\x1d\\xb8V\\xaa\\x0f\\xab\\xd8z\\xa9\\xfcP\\xd9\\x91m\\xfaV\\xd1\\x84v\\x1a\\xed\\x1c\\xdd\\x07\\xff\\xb0l\\xeb\\x85\\x10\\xe3\\xcd\\xd3\\n?\\x06\\x8b)\\xf2sAb6k\\x1e\\xda\\x8f=\\x82\\x15e\\x83\\xf6\\xed\\x86|\\xe9F\\xe8\\x92.\\x87\\x85\\x8cg\\xb4\\x8e\\xb6\\xc1\\x92\\xd6\\xd1\\xf5K\\x97\\x84\\xc3T\\x86\\xc5\\xdb\\xd0^ \\xaf\\x14{\\xb2\\x8a\\xf2^\\xfb\\x13\\xd8\\xb5\\xd4\\x7f]\\x1d\\x0e3\\x19\\xc052\\x19Ri\\x80\\xc0\\xfa\\xfe\\x07\\xf4t,\\xcd\\xcb\\xe0\\x11\\x8e\\xc2$\\x89`\\x1f\\x04F\\x8f\\xc3`\\xa7\\xf4\\xa0\\xfdz\\xd1\\x82\\xca\\xb0B\\x0b\\xaa;\\x8c\\x1eqX\\xbf\\x1d\\xae\\xd3\\x0e\\x81\\x83\\xda\\xe9\\xd8\\xbe\\x1c\\xe9^\\x8bu\\xed\\x08\\xb7C\\xbdv$\\x96\\x0f@\\x0e\\xf33\\xdfA\\xa7\\xf0<\\xec\\xe1_\\xc2\\xfd\\xfe\\x17tL\\xeegA\\x91P\\x00CE7\\xca\\x8c\\x9b\\xd1\\xe5\\xaf\\xc2\\x7f Y\\xbc\\x01\\xef\\x13d\\x9f\\xc3J\\xea\\x13G\\xca\\xfa\\xc9\\xfc\\xe0^h\\xa5~\\x10\\xed\\xf9\\x1e\\xb4g\\xd7i8\\xd8\\xa3qa\\x1f\\x0f\\xea\\xef4\\xac\\xbb\\x1e\\xa1\\x0e.\\x96vc\\xf9\\x1a\\x0cg\\xbaF\\xf5\\xe7%V?\\x8f\\xca7\\xf3\\xc1Hc\\xaa/\\x9a\\x89\\x90\\x8c@}pL\\x84Ot^\\xa4\\x15\\xed\\x83r\\xf7\\xaa\\xae\\x0e\\xf7B\\xeb*I\\x02\\xda\\xca\\x1f\\x11\\xbeF\\xd8\\xa1\\x94?#\\xbc\\x04g\\xfdH\\x9d\\x8a\\x8e\\x99PWF\\xc16\\x80\\x1e\\xa4PO\\x1c\\xc0\\xe9\\x95X\\xea\\x14\\xfb\\xce\\xcb%IG\\x18\\x16\\x05x\\xcf)mz\\xd5\\x0fcug\\xd9\\xda\\xdee\\xf8\\x8b\\xdf\\x7f\\xfe\\x07\\xca\\xdf\\xb0UQe\\x96\\xf0\"\\xc6;\\xbf\\xf1\\\\\\xb1I\\x8f*\\xe5\\x93\\x92\\x1eiA\\xed\\xfe\\x060#Mc\\xa8\\xecQ\\xfe\\xab\\xb6J-\\x99\\xbcR:\\xab\\xfeJ)Y\\xdcEy\\x8e\\xf2Fy\\x8e\\xa5l\\xc7\\x94q#v\\xcc\\xca\\xf8\\x08\\xd4\\x9fS_\\x8e\\xb6\\x9a\\xe2sXL\\x84\\xc0b\\xad\\xd3P\\xa4\\x9b\\x8a\\xf2Om\\xcf\\x13p\\x13\\xce]De\\x1b\\xf9\\x9c\\x85\\xb2!\\xa2\\xbc\\x8f\\xa6q\\t\\xd3\\x97Jx\\xf6l\\xbe^\\xf8\\xb9\\xf0\\xf3\\xff\\xe7\\xe7l\\xdf\\xdb\\xbb\\x0c\\x7f\\xf5\\x9b\\xcf;\\xffXy\\xb6\\xafV\\xed\\xcf\\xffT\\x9e\\xads\\xe7\\x94\\xe8\\xef\\xd0v\\x19h\\xfc\\xad\\xd3`,\\xf8h\\xf8[\\xf1Qn\\x95\\x0c*\\x1e\\xfeV\\x00H\\xa71\\x8c\\x12g\\xe71\\xdd;+\\xae@\\x9bp\\x1f\\xc6\\x8c/2\\xbf\\x83\\xb6\\x1f\\xed\\xe1B\\x84\\'uk0&\\x9f\\x0c\\xf34\\x9f\\xa2\\xef\\xb9\\x1c\\xdaq\\xaeO\\xd9\\xfe\\x7f\\xc4:\\r\\xc6\\'W\\x80C-Y=\\xaeI\\x8d!\\xc4\\x16:\\xce\\xaf\\xeb\\xa4t\\x9c/\\x07\\x06k;`:\\x86\\x02\\x95\\xfc\\rh\\x87\\x108/\\xc6\\xd5\\n\\xa0\\r\\x1dG\\xe3\\x11a\\x18\\xc6G\\x98\\x97R\\x90x\\xee>1\\x81+!\\x98!kZ`\\x19[+\\xfa\\x1c\\xcdH\\xb4!\\'\\xd0\\xf7(\\xfe\\x80\\xc5X\\xb2]\\x8e\\xa19\\x8c\\x12\\x8b\\x17\\xd0\\xfd\\xd0\\xfc\\x04m\\x06\\xfa\\t\\xd8\\x85\\xf0\\xb8\\x8c\\x9f\\x89\\xb1\\xa3|\\xc6.\\xd5o\\xd0v\\x18\\x9f\\x94k\\xf6#\\xbc\\x84v\\xee\\x14\\xe6\\x13f\\xd8 \\xf4\\x87\\xad\\xc2\\xcd\\xd0 \\\\\\x85u\\x1fB\\x7f\\x9c\\xbf^\\xb4\\xc3e\\xc2\\n\\x18/\\xfc\\x02\\x8b0.h\\x11\\xbe\\xc1\\xfbO\\xe1>\\xe1\\xdf\\xb0\\\\\\xf8\\x1c\\xebf\\xc3D\\xe1&\\xec#\\xdf\\xa7\\n\\xd5\\xe1\\x93b6\\\\\\xc3\\x7f\\x077\\xa2\\xafm\\x10\\xaa _x\\x07\\xc7Z\\x84\\xeb\\xfc\\n}r\\x00\\x8a\\x857`\\xae( -\\xff\\x84c\\xcd\\x83\\x15B\\r\\xee}?\\xdc+\\xbc\\x0c+\\x85b\\x18%\\xcc\\x82%X\\x0e\\xe1\\x7f\\t? \\xbc\\x82\\xfd\\xb7\\xe0\\x9e>\\x80U\\xe2p,\\x97#h\\xd0\\xa6\\x8e\\x84\\xd5b\"\\xfa\\xf7 \\xe6\\xf3U0\\x0c\\xe7\\xde\\x831\\xce\\x1e\\xf1+\\x04/\\xe6\\xc6\\xab`\\xb5\\x80\\xed\\xc5\\xd5X>\\xc5\\xfa-@\\x08`\\x0c\\xf9\\x84p\\x07\\xc6=\\x8f\\xc2t\\xe1~\\xf4\\xd5\\r\\x90\\x86\\xcf\\xd7\\xb1y\\xfe\\x00H/@\\x1e\\x05\\xba\\x9e\\xb3\\x81\\xae\\x0f\\xc1\\xc7\\xd6\\xf8;@\\xd7\\xc7Jl\\xcb\\xf6\\x11\\r\\x8906\\xb2\\xaf \\xf4A\\x98\\x80\\xd0\\xaa\\xdc_-\\rge\\xae|\\x8f\\xb9\\xdf\\x99\\xbdw\\xd1\\xfd3p \\x98P\\x0f(\\x1d\\xa2\\x01i\\xf2G@\\xd3\\x17\\xd6\\x08cq\\x8c\\xa7\\xa2@\\xa6\\xdf\\xd9\\x10\\x88\\x06J\\xdb?\\x02\\x94\\xf6\\xd1\\xc0x\\x10\\r\\x94\\x1f*(\\xfc\\xe7C\\xb8\\x86\\x8fQv\\x96\\xb3\\xf5\\xac\\xa34\\xa2k\\xa5t`\\xfb\\x7f\\x11\\xf2U\\xde\\x0b\\x7f\\x81\\rl/\\xc9XOe\\xe6N\\xb8\\x9c\\xad\\x11\\xc7\\xc6\\x18\\x7f\\x19\\xe5\\xbb\\xf8\\x1d\\xdc/v\\xc2\\\\J[6\\'\\x9d\\x87\\xf2D\\xa1=\\x93\\x1f\\xda\\x1e\\xdb\\xb0g\\xaf\\xe28\\xca:\\xc4\\xfe0P\\xe5\\xa5\\xf4\\x10\\xae\\xe9JhD\\x9b\\xb2\\x97\\x82\\xf07|\\x9e\\n~\\xb6\\x16e\\x8d\\x91uP9\\xa1\\xebhDZ\\xa9\\xeb\\x18\\x86\\xf5\\x1f\\xc2\\x15\\x12\\xc6\\x9c\\x9a4l\\x7f\\x19\\xe4H\\x93\\xb0n/\\xc2\\xb70W#\\xb2\\xfdJ\\xe2\\x1aHa4\\xf8\\x96\\x8d\\xb1@\\x91\\x87V\\xca\\x7f\\xcdv\\xc8\\xd7\\xdc\\x8f}o\\x87\\x14:?\\x1b?EY+\\xea\\n\\xda\\x89\\x0f%Bn\\x16\\xddd0\\xc6AA\\x8c?h\\x9c<\\x82\\x96\\x18\\x13\\xcdG[K\\xe3\\xd6zZ\\xe2~.bc<\\x85\\xb9+\\x96\\xdc<8\\x84\\xe0F\\xd8\\x85\\x10\\x83\\xe0A0#\\xc4!X\\x11\\x9eEx]\\xfc\\x17\\x1c\\xe2\\xa7\\x01Q\\xda{\"e\\x19\\xecG\\xf83\\x82\\x96+\\x0b\\x87\\xb14 t\\xd3R\\\\\\xc0\\x9eq\\x08\\x8f\\xe3\\xb3\\x93J[\\x83R2\\x9c_\\x02\\xe3\\x11\\x9eB\\x98\\xad\\xc0(\\x84\\xe5\\x08c\\x10\\xd6#T#\\x0c\\xfd\\xa3\\xedh<M\\xe3C\\xb4\\xf3\\x0e\\x84g\\xc4\\x1e\\xd8)\\xbe\\x8a\\xb0\\x1fF\\x8a\\xf7`\\xbc\\xf7\\x05\\xe2\\xcf\\xc3RQ\\xc2\\xf2\\r\\xd8)\\xb5`\\xf9\\nL\\x14/\\x85g\\xd1.\\xed\\x94\\x9e\\x81g1\\xefh@\\xbbr\\x8d\\xf0(\\xd6\\xdf\\x8a\\xb0\\x1b&J\\x12<*9\\xb1\\xed\\x1cX+^\\x87\\xf6{5\\x8e\\xf1\\x19\\xdeW\\xc2Hi\\x14\\x8e\\xfd-l\\x91\\xe2\\xf1\\x9e\\xfaH\\xda\\x0f\\xfd\\x93\\xb8\\x10\\xef\\xef\\xc0q\\xd2qL\\x9a\\xe3|\\x0c\\x83X\\x0e\\xb4\\x04\\xee#_\\x85\\x8f\\x92W!\\x8b\\\\\\x14\\xee \\'\\xc3=\\xe42\\xa4}0\\xfc\\x04\\xb6\\x1d\\xa8\\xa1\\xebM`9L\\x8b\\x18\\x84g\\xa9|\\x89\\x04ms=\\xe2\\xf18V\\x05\\x96\\x898\\x1e\\xe2\\\\?xV\\xf3!\\xae\\xfd\\'\\xf4\\xd3t~+\\x93\\xb7\\x06\\xd1\\x87uoa\\x89u\\\\\\xbf\\xf0$19\\xdc\\xc3\\xbf\\x87\\xeb\\xc4\\xe7H\\xa7A\\x9a7a\\xa7p\\t\\xfa\\xc3\\x918\\x16\\xf5\\xed\\xa9\\xb0Ss\\x00\\xfb\\xe3\\x98\\xec\\x8cf7\\x8eK\\xef\\xb3Q\\xe6h\\x0c\\xf03\\xae\\xfd6\\xd8C\\xe6\\xc0t\\xee\\x1b@\\x1f\\x05#\\xf5\\xc5\\xb03\\x1a\\x8cG\\xb1\\xbd\\x13\\x96 \\xcc\\x94\\x96#\\xad\\x9d0\\x06\\xc1\"\\xee\\x04\\xf4x\\x91\\x13b\\x07=\\xe3\\x05 .\\x04\\t\"\\xc7\\xc3\\x84\\xe3h\\x9b\\xde?\\xf8\\x90\\x17DI\\xa3\\xd5\\xe9\\rF\\x93\\xd9b\\xb5\\xd9c\\x1c\\xb1\\xce\\xb8\\xf8\\x04WbRr\\x8a\\xdb\\xe3M\\xf5\\xa5\\xa5g\\xf4\\xc9\\xcc\\xca\\xf6\\xe7\\xe4\\xe6\\x05\\xf2\\xfb\\x16\\x14\\x16\\x15\\x97\\x94\\xf6\\xeb?`\\xe0\\xa0\\xc1C\\xca\\x82C\\x87\\r/\\x1f1r\\xd4\\xe81c+\\xc6\\x8d\\xbfh\\xc2\\xc4I\\x93/\\x9e2\\xb5\\xf2\\x92\\xaa\\xea\\x9ai\\xd3kg\\xcc\\xac\\xab\\x87Y\\xb3\\x1b\\x1a\\xe7\\xccmj\\x9ewi\\xcb\\xfc\\x05\\xadm\\x0b\\xdb;:\\x17-^\\xb2t\\xd9\\xf2\\x15+\\xff\\xb4j\\xf5\\x9a\\xcb.\\xbf\\xe2\\xca\\xb5\\xeb\\xd6o\\xb8j\\xe3\\xd5\\xd7\\\\{\\xdd\\xa6\\xcd\\xd7\\xdfp\\xe3\\x9f\\xff\\xb2\\xe5\\xa6\\x9bo\\xb9\\x15n\\xbf\\xe3\\xce\\xbb\\xb6\\xde}\\xcf\\xbd\\xf7\\xdd\\xff\\xc0\\x83\\x0f=\\xfc\\xc8\\xa3\\xfcc\\x8f?\\xf1d\\xd7\\xb6\\xed;v\\xee\\xda\\xfdT\\xf7\\x9e\\xbdO\\xef{\\xe6\\xd9\\xe7\\xf6\\xff\\x15^x\\xf1\\xa5\\x03\\x7f;\\xf8\\xf2+\\xaf\\xbe\\xf6\\xfa\\xdf\\xdfx\\x13\\x0e\\xbd\\xf5\\xf6;\\xef\\xbe\\xf7>|\\xf0\\xe1G\\x1f\\x7f\\xf2\\xe9g H!\\xdc\\xe9\\xc7\\xb0\\x06$\\x98\\x0e\\xab\\xc8j\\xb2\\x89\\xdc@\\xee&]$\\xcc%r\\xa5\\\\5\\xf77\\xeee\\xee\\x13\\x9e\\xe7%^\\xc7\\x1by\\x1f\\x9f\\xc1\\x17\\xf2\\xa3\\xf8U\\xfcF\\xfe\\x1a\\xfen\\xfe\\xef\\xfc{\\x82I\\x98 \\xcc\\x14\\x96\\t\\x7f\\x12\\xd6\\x0b7\\n7\\tw\\x08\\xf7\\n\\x0f\\x0b\\xbb\\x84\\xe7\\x84\\x0f\\x84o\\x85\\xff\\x88\\xc9b\\xa58S\\\\/n\\x147\\x99\\xcbR\\xd6\\xa6\\xdc\\x99\\xf2j\\xca\\xbfS\\xfe\\xeb\\x89\\xf5\\xa4z2<\\xf9\\x9e\"\\xcf\\x00\\xcf \\xcf\\x10O\\xb9\\xa7\\xcd\\xb3\\xccs\\x95g\\x97\\xe7Y\\xcf1\\xaf\\xe8\\x8d\\xf1:\\xbdHco\\x867\\xcf;#\\x95K\\x95R-\\xa9\\xf6\\xd4\\xd8TWjJ\\xaa?utj}jc:\\xa4s\\xe9\\xc6tk\\xba#=>\\xfd\\xee\\xf4G\\xd3_I\\x7f#\\xfd\\xeb\\x8cy9\\xf3s:\\x1et?x\\xcd\\xaf\\xc2\\xafq\\xe1\\xaf\\xc3=\\xe10\\xee\\xd2\\x03[\\xd9\\xee\\xb6\\x92\\'\\xc9).\\x9e\\xed\\xee\\x00\\xee\\xee\\x1f<\\xe0\\xee\\xb4\\xbc!jwW\\xe2\\xee\\xae\\xe3\\xef\\xc5\\xdd\\x11\\xc1,L\\x12\\x96\\n+qw\\x9b\\x85-\\xc2\\xad\\xc2=\\xc2C\\xc2cB\\xb7\\xf0\\x0f\\xe1\\x1b\\xe1\\x84\\xe8\\x12\\xfb\\x8a\\xd5b\\xbdx\\x15\\xdb\\xdd\\x1a\\xdc\\xdd\\xd6\\x94\\xd7R~\\xf2\\xd8=q\\xb8\\xbb\\x80\\xa7\\xc0\\xd3?\\xb2\\xbbN\\xcfj\\xcfVO\\xf79\\xbb\\x9b\\xa6\\xec\\xce\\x86\\xbbKPvW\\x97\\xdap\\xd6\\xee\\x1e\\x89\\xda\\xdd\\xc2\\x07\\x13\\x1f\\xdc\\xf0+\\xfc\\x1a\\x13\\xfe\\x8a\\xee.\\xfc\\x05\\xee\\xefT\\xd8\\x01\\x0f\\xc0-\\xe1\\x8dd!Y\\x0b}\\x01B\\x16&\\xc7\\xdd\\x08\\xbb\\xc2\\x99p;\\xcc\\x80\\x8a\\xd3[\\xb1>\\x8eV\\x87\\x8fb\\x8c\\xfa\\x0f,\\x13\\xc3\\ta\\xcc2{\\xfe\\xd3\\xf3K\\xcf\\xbfC\\xc7\\xe8\\xb3\\x9e\\xbf\\xf5\\xec\\t\\xbd\\x18\\xba2\\xfcy\\xf8p\\xf8\\xb3\\xf0\\xa7\\xe1\\x0f\\x8f/\\xf9\\xc2\\xf0\\x95\\xf0\\xc53_\\xae\\x91\\x95\\xe3\\xf0Zv\\xbd\\xf2\\xf0\\x7f\\x8fT\\x1e^\\xf2\\xc5\\x14Ui>\\xdfq\\xb8\\xdfa\\xff\\x11\\xdf\\xe7\\xb5\\x9f\\xcd\\xfbl\\xd9\\xe1\\xa6\\xc3\\x83>\\xdd\\xf2\\xe9=\\x9f^\\r\\xf0\\xe9\\x03\\x08\\x9d\\x9f.\\xfct&\\x96\\xf9\\x9f\\xae\\xfa\\xf4O\\xecn\\xc1\\xa7\\x97~t\\xe7G[>\\xfc\\xe1\\xa3\\x8e\\x8fj?q\\xbd_\\xfa~\\xd1\\xf4k\\xa7\\xa7\\x03\\xe8/A\\xfd\\xebf*\\xfa\\xe1\\xd9Y\\x07\\xb7\\x81\\x02w\\x03^\\xb7\\xf4\\xaa\\xbf\\x86\\xd6p\\xfb\\xb0\\xa7\\x95\\xbe\\xbb\\x91k\\xf9A\\xeas~\\x00?\\xee\\xf7\\xb2\\x19~\\x08?\\x8e\\x9f\\x8c\\xe5\\x1c\\xbe)\\xaav\\x16\\xdf\\xc2\\xaf\\xe1\\x1f\\xf9\\xcd^w\\xca\\xc0\\xf0[\\x7fo|\\xa5\\xcdr\\x04\\x99\\x8e<\\xdc\\x0bW\\xc2Z~%l\\x81\\xafa\\x1d\\\\\\x07W\\xc3\\x1d\\xf00\\xdc\\x07V\\xd8\\x88[\\xbf\\x02n\\x84c\\xf0o\\xb8\\x16n\\x82\\r\\x84\\xa0\\xa6\\xfe\\x08w\\xc2#\\xf03\\xfc\\x04\\xc7\\xe1\\x1ex\\x0c\\x0e\\xc2\\x01x\\x1cf\\xc1l\\xd8\\x0c\\r\\xf0\\n4\\xc2\\xdf\\xe0e\\xf8;\\xbc\\n\\xaf\\xc1\\xeb\\xf0O\\x98\\x03\\x87\\xe0\\rx\\x13\\x9e\\x80\\xb9\\xf0\\x03\\\\\\x0f\\xef\\xc0[\\xf064\\xc1\\xb7\\xf0/\\xb8\\n\\xe6A3\\\\\\n\\xf31\\x17Z\\x00[\\xa1\\x15\\x16B\\x1b\\xb4C\\x07,\\x82NX\\x0cK\\xe0\\x1bX\\n\\xcba\\x19\\xac\\x80?\\xc1Jx\\n\\xee\\x86\\xd5\\xb0\\n\\xad\\xc5e\\xf0\\x1d|\\x8f\\x16\\xb9\\x9c\\x8c \\x1c\\xe1\\x89@D\\xf8\\x15N\\x93\\x91d\\x14\\x19M\\xc6@\\x0f\\x84\\x88D4D\\x0ba2\\x96T\\x90qd<\\xb9\\x88L :\\xa2\\'\\x06b$\\x13\\xc9$8\\x01\\xff!\\x93\\xc9\\xc5d\\n\\x99J*\\xc9%\\xa4\\x8aT\\x93\\x1a2\\x8dL\\'\\xb5d\\x06\\x99I\\xeaH=\\x9c\\x84wI?\\xd2\\x9f\\xcc\"\\xb3I\\x03i$s\\x88\\x89\\x98\\xc9\\\\\\xd2D,\\xc4Jl\\xc4\\x0e\\x87\\xe1\\x08\\x89!\\x0e\\xd2L\\xe6\\x91X\\xe2$\\x03\\xc8\\xa5\\xa4\\x85\\xcc\\'\\x0bH+i#q$\\x1e\\x9e\\x84.\\x92@\\\\\\xa8\\x15\\xed$\\x91$\\x91d\\x92B:H\\'\\xfc\\x17N\\xc1\\xe7\\xf0\\x05q\\x13\\x0f\\xf1\\x92T\\xb2\\x88,&K\\xc8R\\xb2\\x8c,\\'+\\xc8J\\xe2#i$\\x9dd\\x90?\\x11j\\x17\\xd7\\x90\\xcb\\xc8\\xe5\\xb0\\x97\\xf4!\\x99$\\x8bd\\xc3\\x97\\xf0\\x15\\xb9\\x02\\xde\\x83\\xcf\\xe0\\x03\\x94\\xcf\\x8f\\xe0Sx\\x1f>\\xe1\\xc6q\\xe3\\xf9g\\xf8\\x15\\xfcs\\xdcXr\\x07\\xb9\\x93\\xdcE6\\xa2\\xbd\\xb9\\x9b\\xdcC\\xee#\\xf7\\x93\\x07\\xc8\\x83\\xe4!\\xe2\\'\\x0f\\x93G\\xc8\\xa3\\xe41\\x92C\\x1e\\'O\\xa05\\xea\"\\xdb\\xc8v\\xb2\\x83\\xec$\\xbb\\xc8n\\xf2\\x14\\xe9&\\xb9d\\x0f\\xd9K\\x9e&\\xfb\\xc83\\xe4Y\\xf2\\x1c\\xd9O\\xfeJ\\x9e\\'y\\xe4\\x05\\xf2\"\\t\\x90|\\xf2\\x129@\\xfeF\\x0e\\x92\\x97\\xc9+\\xe4U\\xf2\\x1ay\\x9d\\xfc\\x9d\\x1b@\\xde o\\x92\\xbe\\xa4\\x80\\x1c\"\\x85\\xe4-\\xf26y\\x87\\xbcK\\xde#\\xef\\x93\\x7f\\x90\\x0f\\xc8\\x87\\xe4#\\xf21\\xf9\\x84|J>#\\x87\\xc9\\x11\\xf29\\xf9\\x82|I\\xbe\\xe27q\\x99\\\\\\x16\\x97\\xcd\\xf9\\xb9\\x1c.\\x97\\xcb\\xe3\\x02\\\\>\\xd7\\x97+\\xe0\\n\\xf9\\xcd\\\\\\x11W\\xcc\\x95\\xa0\\x9d\\xbc\\x9a\\xbb\\x86\\xdf\\xcd?\\xc5\\xfd\\x05u\\xeb&\\xeef\\xee\\x16\\xeeV\\xbe\\x9b\\xdf\\xc3\\xdd\\xc6\\xdd\\xce\\xdd\\xc1\\xdd\\xc9\\xdf\\xca\\xdf\\xc6\\xdf\\xce\\xdfA\\xae\\'7\\xf0\\x9d\\xfc\"~1\\xbf\\x84_\\xca/\\xe3\\xee\\x87m\\x98\\xa1\\xf6#E\\xb0\\x0bv\\xc3\\x0b\\xe4F\\xd8\\x01;\\xe1E\\xee\\x01\\xb8\\x1c\\xfe\\x8aq\\xd3Nx\\x89\\x0c$\\x83\\xb8\\x07\\xb9!\\\\\\x19\\xff\\x12\\x17\\xe4\\x86\\xf2\\x07H\\t\\xff7\\xfe \\xff2\\xff\\n\\xff*\\xff\\x1a\\xff:\\xfa\\x987\\xf87\\xb9\\x87\\xb8\\x87\\xb9G\\xe0\\x17\\xf2\\x17\\xeeQ\\xee1R\\xca=\\xce=\\xc1=\\x89\\x9a\\xb4\\x8f\\xeb\\xe2\\xb6q\\xdb\\xb9\\x1d\\xdcN~-\\xbf\\x8e_\\xcfo\\x10m\\xa2]l\\x15;\\xc4\\x85b\\x1b\\xc6\\xd8\\xb7\\xc0Qx\\x1e\\xee\\x87M\\xdc.\\xfe\\x10<\\x07\\xfb\\xf9\\xb7\\xf8\\xb7a\\x0b\\xf7D0y\\xfa\\xb4\\x9a\\xea\\xca\\xa9S.\\x1e?\\xba\\xb4\\xa4 \\x90\\x97\\x9b\\x93\\x91\\xeev\\xc4\\xd8m&\\xa3(p9\\x9e.>}\\x84o\\x84\\xaf\\xbei\\xa3gD\\x93g\\xa3\\xaf\\xbc\\xae<7\\xa7br\\xd5\\x88\\xf2D\\xaf\\xb7:7\\xc7\\x83\\xd5\\xe5\\x9e.R\\xe7\\x19\\xd15rqS\\xfc\\xc6\\x11\\xb4A\\x97\\xdd\\xdf\\xc5\\xa5\\x8f\\xa00\\xaf+xu\\x1d\"\\xber\\xaf\\xd7\\x8bOb\\xce<\\xe9\\x0e\\xef\\xbf&\\xea\\x91\\xa7\\xb9+X\\xdf\\x05W{\\xb6\\xe5\\xec\\xdfxM\\xb7\\x15f\\xd5\\xf9\\x8d\\r\\xbe\\x86\\xfa\\xe9U]|=\\xce\\xb5\\rp1MS\\xaa\\xe8\\x9a(\\xd45y\\xba\\x04\\xec\\xcd.\\x89X\\xa3,\\x91>k\\xaa\\xc3\\xab\\xaf\\x1c{\\x9d\\xb7\\x1e\\xab\\x9d\\xc3\\xab\\xd6{\\xf7\\'v\\xd9\\xb1\\x1c\\xd1e\\xf3w\\x8d\\xc2\\x16\\xa3\\x96\\x7f\\x99\\xc8o\\x1c\\x11\\xdf\\xec\\xa1\\xb7\\x1b7\\xae\\xf7tm\\x9dT\\x15\\xfd\\xd4K\\xaf\\xd5\\xd5\\xd5\\xf1\\xbd\\xc80\\xd27\\xb2n\\xe3\\xc6\\x91>\\xcf\\xc8\\x8du\\x1b\\xeb\\xbb\\xc3kf\\xf9<V\\xdf\\xc6m\\x15\\x15\\x1b\\xdbF\\xd4y\\xba`bU\\x17\\xc1\\xfa\\xbdW\\'v\\x8d\\xbc\\xa6\\xba\\xcbZ\\xd7D\\x06\\xe0\\x96\\xe9>FN\\xae*K\\xf4\\xdap\\x14\\xaf\\x97\\xee\\xf7\\xea\\xee \\xcc\\xc2\\x9b\\xae5\\x93\\xaa\\xe4{\\x0f\\xccJ\\xdc\\x0e\\xc1\\x80\\xbf\\xba\\x8b\\xab\\xa3O\\xf6\\xabOb\\xa7\\xd2\\'k\\xd4\\'\\x91\\xeeu>F\\xeb\\xe1U|\"\\x87\\x03W\\\\\\xec\\xab\\x98TS\\xe5\\x19\\xb1\\xb1NY\\xb0R\\xd3\\xef|w]\\xdcp$\\xf2\\x18?\\xde\\xb1[;T\\x90\\x8a)\\xc3\\x90\\x01\\x1c\\x0c\\xdb\\xe6#\\x1b&m\\x0b\\x92\\r\\x17\\xd7T\\xedA\\x0f\\xe3\\xd90\\xa5j;G\\xb8\\xe1u\\xc3\\xaa\\xb7\\xa5\\xe1\\xb3\\xaa=\\x1e\\x80 \\xab\\xe5h-\\xad\\xa47\\x1ezCG\\x9a\\x8c7Z\\xd6>qO\\x10`\\r{*\\xb0\\nv?\\xbb\\x9b\\x00\\xab\\xd3\\xaau\\x04fwsr\\x9dU\\x9e(\\x83M\\x14\\xc4\\x80uv\\xb7 ?\\t\\xaa\\xad\\x05\\xac\\xd3\\xcauk\\xe4\\xd6\\x99Jk->\\xb1\\xd2\\'{\\x81C\\xcf\\xc2\\x1e\\xca?\\xdb\\x80\\xee9\\xa8\\x17\\x83\\xda\\xa0.h\\xe4L\\\\\\xe26B\\xab\\xb6c\\xcd^l\\xab#\\xb0\\xc3\\x88\\x967q\\x1b\\x8e9\\x99Uw\\x935\\xdbt\\xc1D\\xb9\\xc5\\x1al\\x11\\x94\\xd7\\xbfa\\xea\\x99\\x85M\\xad\\xa9\\xdaa\\x04\\xec\\xc6\\xae8\\xd10\\xfa\\xa3\\x908\\x9a\\xea\\x94\\xd6\\x94\\xd8#\\xe2\\x9b\\xb0\\xb2\\xca\\xe7\\x19\\xe1i\\xe8\\nN\\xacZY\\xdd\\xb4\\xb1\\xae\\x9a\\xca\\xeb\\xe5\\xb4O\\x17\\xa1\\xd7iU^\\x9f\\xb5\\xcb\\xe3z9q\\xa3\\xf5+\\xca\\xa1i\\xfe*#\\xb7\\xb1\\xe2\\xe2.!\\x83\\x8e\\xa8\\xef\\x97\\xa8\\x8f\\x1a\\xd3#\\xf7\\xf4u\\xcd\\xf4-\\xf5\\xd2\\x9dvU\\xfa\\x96y\\xb1\\xd2\\xd7\\xe5\\xf1L\\xaf\\xc2F\\xdb`TR\\xf5\\xc6\\x8d\\x1e\\xfc\\xe3C\\n\\xcd\\xae\\xac\\x92\\xaf\\xf4\\x11\\xc9I\\xc2\\x91\\xaa\\xbb\\xd6\\xccR\\xdb&&U\\xfb\\xa2n\\x8d\\xd8\\x95\\t\\xf7\\x8e$*u\\x91\\xd9V\\xa8\\xb3\\xb5\\xe3l\\x14\\xd9\\xa8N\\xd75\\xfb\\xbc\\xb3\\xe1\\xea\\xbb\\xc84ze\\x7f\\xd9\\xf2\\xb7\\x95\\x80O\\x9e_\\xc8P&\\xdd8}c\\x8d\\xcf\\xeb\\xf3v%\\xd3\\x89\\x95u\\xe0\\xad9\\xa9\\x9a\\x8d\\x80+\\xb9\\x99\\xae\\xe4i\\x98B* \\x9b\\x8c\\r&T\\xfe\\\\\\xf0S\\xe5O\\xe4\\xdd\\xca\\x7f{\\xdf\\xad<\\xf6n\\xd8=\\xf3\\xa7\\x1f\\x7f\\xe2\\xdc?\\xa1\\x9b\\xc9\\xdc\\x8e\\xd5\\xdd\\xa4\\xcf\\x0e,,CcI9\\xb8\\x118\\x98@\\x86\\xa3\\xdcM \\xc3`&\\x02G\\x86\\x92\\x1c\\xe8\\x8f\\xcf\\xd2\\xa1\\x88\\xa4A%I\\xa3\\xfd\\x86\\xdaH\\x90\\x94\\x81\\x1f\\xeb\\xcb\\xc8\\x10\\xe8\\x87\\xe5\\x102\\x08\\xb2\\xb1\\x1c\\x8ce\\x05\\x96\\x83\\xb6\\x97\\x8dvw\\x13\\xf7\\xf6\\x1fh\\x91\\xb2\\xfd(-\\x92\\xb7\\x93#8i\\xd2v!\\x8cw(Ba\\xf7\\xd0D\\xcc\\xc8\\xb2I\\x02T\\x82\\x95\\x0c\\x04\\x0f\\x02G\\xc6\\xe0\\xa4\\xe98\\xc8\\x00,\\xfbb\\xd9\\x1f\\xcb|,\\xfb)\\x8b)%9Ag\\xae\\xfb?8\\xcc\\t\\x1c\\xe3__\\x85\\xdd\\x1f\\xbc\\x17v\\xff\\x03w8\\xd4NJH>\\xc4a\\xabb\\xa5W\\x91\\xd2\\xabP)\\x0b\\xb0wL\\xae\\xfb\\xab\\xec/+\\xdf\\xc7\\xcd\\xbc\\xc7\\x85\\xdd\\xef\\xf2a\\xb7\\x01w5\\x12\\xf7\\xaeC\\'\\x9b\\xc3\\x06\\x08(\\x03\\xe4)\\x1dsI\\xce\\xf6\\xfe\\xeeMC\\xcdx\\x7f\\x17\\xc2\\x93\\x08<X\\xf0\\xfa\\x1c\\xc2\\x1b\\x08\\x9fa\\x0b\\xc1\\xbe\\xba\\x9b\\xf8\\x83}\\xc87\\xd9\\xff\\xac\\xfc\\x027\\xfc\\xb9\\xf7H\\xa5\\xe5H\\xe0\\xc8\\xea#w\\x1dy\\xee\\xc8gG\\xa4\\x98w\\xc8[\\x95oC\\xd8\\xfd\\x16A:\\x84\\xf7\\x07S\\xb6g\\x15\\x94X\\xb7{\\xb6\\x07\\xb7O\\xdc\\xde\\xb6}\\xcd\\xf6\\xad\\xdb\\xbb\\xb6\\xbf\\xb9\\xfd\\xf0v\\xfd\\xfe\\xed\\xc7\\xb6s\\xb4I\\xdb\\xae\\xb8\\xf8\\x12w9\\xb1T\\xba+\\xb9\\tSgN\\xe5Z\\xa7\\x90\\xbb\\xa6<9\\x85\\x9btq\\x9c0\\xf9b\\xa7p\\xf1\\xe4Xa\\xec\\x98\\xc9\\xc2\\xc81\\xa5\\xc2\\xa81\\x05\\xc2h\\x841\\xc5\\xfd\\x85Ae\\x05\\xc2\\xe0\\xb2\\xc1\\xc2\\x902\\xaf0\\xbc,Y\\x18V6Y\\x18\\x8a\\x10D(+.\\x10\\n\\n\\x1b\\x84\\xc2\\xe2\"\\xa1\\xb8h\\x8aPT\\x9c\"\\xbcYt\\xb8\\xe8X\\x11\\xdf\\x1d\\xfea\\xc7\\xce\\xf4\\xd1%\\xdd\\xe1\\xc3;vZ}X\\xfe\\x104\\xed\\xd4YJv\\xbaF\\x0b\\x8bw\\xac\\xdb\\x81\\xcb:\\xb6c\\x07kq*\\x18\\xde\\xa1K+\\xd9\\xe1\\x18-\\\\\\xb5!Fhki[\\xcaYn\\xff\\xecN.x\\x873\\xa1$x\\xbb3\\xb1$xS\\x1cb[\\xe2\\x12K\\xd6\\xad\\x8dq[\\xae\\xb4\\xac\\xb5\\\\g\\xd9d\\xd9\\xec\\xbe\\xd2}\\x9d{S\\xe0\\xba5k\\xd7l\\xd8t\\xfd\\xe6\\xb5\\x9b\\xd7o\\xde`\\t^\\xae\\xb3\\x96X\\xda\\xdd\\xed\\\\p\\xa1\\xceXb\\x99O<\\x07\\x89\\xe7o\\xa4\\xec\\xc0\\x8f\\x078\\xcfK\\xc1\\x978\\x98E`\\x96u\\x16\\x17\\xac\\xdfZ\\xcfY\\xa6\\x91\\\\\\x87M\\xc8q\\xa4\\x0b~G\\x7f!\\xdb\\x11#d9b\\x05\\xb7#E\\xf0z\\x86\\x0b\\x1e\\xc7 \\xe1e\\xd7\\x08\\xc1\\x958JHt\\r\\x12\\\\\\x8e\\x02!\\x16\\xdb\\xc5\\xe0r\\xed\\x0e\\x97`Chs\\x90\\xa0c\\xe8\\xf0\\x12\\x8b9\\xdb\\r\\x121\\xbdP\\xe16>_\\xe1\\xd6\\xef\\xafp\\xeb\\x10\\xc4}\\x15n\\xe1\\x99\\n7\\xbf\\xa7\\xc2\\xcd\\xed\\xadp\\x93\\xdd\\x15nx\\xaa\\xc2\\xfd\\xc2\\xf3\\xd9\\xee\\xfd\\xcfe\\xbb\\x9f\\tV\\xee\\xf3\\xba\\xf7\\xee\\xf1\\xba\\x9f\\xda\\xedu?\\xff\\xc2\\x8b&\\xcc\\xc0M\\x98\\x88\\x1b1\\x1f7bZn\\xb4\\xee[\\xb3\\x8f\\x0b\\xeeY\\xb3\\x87\\xb3\\xec.\\xdb=a\\xf7\\xea\\xdd\\x82ew\\x00\\xd1VD\\x9f\\xdb\\xfd\\xc6\\xee\\xf0n\\xad^W*\\x18M\\x1c\\x06 <\\x87\\x86\\x9a\\x9b(\\xa2\\xa2\\x86I\\x97\\xbd\\x02\\xd0\\x0fu\\xc5\\xa0ZW\\\\<l\\x9b\\xb3\\xc0_\\xd1\\xd50y\\xd8\\xdak\\xafM\\xee\\xda\\x82~\\xa5kMr5\\x9a\\xfe\\n\\xf4^\\x18P^W\\xdd\\xa5\\xad\\xb8XA\\xc1O\\x7f::;:\\xfc\\xe7\\xf9\\xe9\\xe2GtI#\\x9a\\xea\\xbb$_y\\x07\\xbd1\\xd3\\x1b3\\xba|\\xf3\\x88.\\x0b\\xc5-\\xber?\\xe9r\\x8ch\\xear v\\xce \\x1d\\xea\\x8f\\xbfCy(O\\xc4.\\xb0\\xe8|s\\xd2\\xb5t\\xe2\\x95\\xe23h\\xbb\\x8e\\x19\\xf2\\r\\x99\\xd1\\x01\\xe7i\\xdfy\\xce\\x8c~\\xa5\\xb7?\\xde/\\xa5H\\x0e\\xf1\\x98x\\x08s\\xf4Z\\xfe\\x13\\xcc\\x9c \\xfc\\xcf\\xf0\\x91\\xd0\\xd2PC\\xa8\\x9a\\xff3\\xb81\\xcf\\xda\\x829\\xd3\\x1e\\xcc\\x94\\xfe\\x1eI\\xc2\\xf6aLH\\x7f\\x16\\xc3v\\xd8\\x8f\\xd9R\\xf4\\xcfe\\xf0g\\xcc\\xa4_\\xc3\\xb8\\xfe\\xc7H\\xdd\\xcd\\x98w=\\n]\\xbd\\xdamf\\xb5\\xf7a\\xbe\\xf6\\x04F\\xb6{\\xe1\\x05\\xac\\xdb\\x809\\xd6\\xcd\\x18m>\\x16\\xd5\\xae\\x15\\xd6\\xc3&\\xb8\\r3\\xac\\xb7I\\xb2R\\xf7\\x02\\xe7 \\xf2\\n\\xbe\\x05#w\\x083\\x92\\xeb\\xc0\\x059P\\x0e\\xd31\\xffZ\\x85\\xb9\\xe0v8H\\xc6a\\xdd`\\xac\\x9b\\x88\\xb5\\xed\\x98\\x8b\\xdd\\x80\\xb5{0\\xe7;\\xf7g0\\xda\\xceZ\\xcc\\xe7\\x16`\\xcc\\xbd\\x07\\xa3k\\xfa\\x93\\x8d\\xb5S0+\\x9c\\xc7\\xea\\xe4\\x9f\\x85\\x98\\xcf]\\x85y\\xdc\\x83\\xf04\\xaek9\\xae\\xecz8_\\xcez\\x19\\xe7\\xe5\\xbc\\x98\\x05~\\x85=_\\xc1\\xa8\\xfb\\x00\\xee\\xe8AX+9@\\x0f \\x1e\\xa2T\\x15j\\x19m!|\\x04 \\xd4\\x10\\xfe\\x85f\\xca\\xdcq\\xee\\x1e\\xeezx\\x92\\x9b\\x07\\xbd2m\\xd6\\xaf\\x9d\\xf5\\xdb+\\x1e\\x12\\x8f\\xf5\\x9e\\x8c\\x8d\\xb4G\\x1e)\\xfaJ9(\\xcfv\\xba1\\xfcA\\xe8x\\xe8Il\\x99\\x12\\xda\\x10\\x9ap\\x9e\\x15\\xff\\x81\\x1fm\\x04\\x0b\\x7f\\x8b#\\xc5\\xc1\\x9e\\xd0\\xccPu\\x98\\x0b-\\xc5\\xecv\\xfd\\xe9\\xea\\xf0\\xb7\\xa17{\\x82\\xbfn\\x08\\xe7\\x85S\\x90\\x9b\\xf7 gw 7\\xd7a\\xfe{\\x0fJP\\x17\\xe2\\x9b\\xe0.\\x94\\x83[QB\\x96\"\\x15\\xb7\\xc05\\x98\\xcb,\\xc5\\x9a\\xb7\\xd1\\xec\\'\\xe3\\x1e\\xe6!w:0\\x8b\\x87\\xf0\\x07x\\xb7Z\\x99n\\xc8\\xef\\x03Y\\xf9?@7\\xc21\\x19x\\xfa\\rm6R\\x05\\xb9\\xa6\\x19\\x80{B\\x99\\xd6\\xe7\\x01\\x18\\xb6\\xca`\\xda\\t`q\\xfc\\xcf`\\x93\\x00\\xecig \\x06dpT\\x9e\\x0b\\xceL\\x80\\xb8\\x832$\\x8c=\\x03\\x89yg )\\xe7,x\\xe5<pB\\x06\\xf7\\xe5\\x00\\xde\\x91\\x00\\xa9\\xf7\\xc8\\x90\\x96/C\\xc6\\x1c\\x80L\\xdc[\\xd6\\xe13\\xe0\\xe7\\x00\\xf2^\\x04\\xc8_\\x05PP\\x02P\\xa4\\x97\\xa18\\x03\\xa0\\xb4\\n\\xa0\\xdf\\x1a\\x80\\x0192\\x0c\\xbc\\x0f`\\xd0O\\xf4\\x9b\\xe3\\x0bp\\x01.\\xc0\\x05\\xb8\\x00\\x17\\xe0\\x02\\\\\\x80\\x0bp\\x01.\\xc0\\x05\\xb8\\x00\\x17\\xe0\\x02\\\\\\x80\\x0bp\\x01.\\xc0\\x05\\xf8_\\x03}\\x87\\x0e\\x1a\\x90\\xe87\\\\\\x1ap<%q\\x02P\\x08\\xbc\\xfe\\xc9\\xeb\\xec\\xd27\\xdfk\\xf3\\xda\\xd2\\xf1B\\xb0\\xd5\\xa95\\xf4\\x03),\\x01\\x11\\x00\\x11\\xfe\\x12\\xfeB\\xab\\x11\\x8f\\x82\\x01,\\x90\\x08}\\xa0\\x10n\\x0f\\xb6\\xeb\\xb4\\x92^\\x17/\\xb9,\\xc5\\xf1\\xda8}||\\x9c+K\\x9b\\xa1\\xcf\\x8a\\xcfp\\x8d4\\x8d\\xb6\\x04\\x8b+MU\\x96&s\\xcc2\\xf7\\xe2\\xf4e\\xfe\\xc5}\\x85\\xf4I\\x01~\\x02\\xcf\\xf1\\xbc{\\x92\\x8e\\xb3\\xf0f\\xad\\x7f\\x92\\'!\\x98\\xc0%$\\xf4\\x9d\\x14\\xa3\\x9f`\\x0c\\x9a9\\xa39/\\x1b\\x9c\\xc4\\xe9\\xcc\\xcc6\\x9a%\\x8b5h\\xe5\\xacI\\xd9\\x16\\xfa]]j\\xb6U\\n\\x14\\x1e-\\x0c\\xd4\\x1e\\r\\xd4\\xda\\xfb\\xf7\\x97\\xb1@-\\x941\\xac\\xacL.k\\xfb\\xe6\\x93Z\\xe2\\x90|\\xa9\\x19\\xc5E%\\x85\\x05\\xcet\\xe2#\\xd1\\xf7\\xa4(\\xc3\\x97*\\xc5:\\x9c\\x85\\x05%\\xd18\\xdf\\xf9\\xcc\\xf6\\xdd{\\x9f\\xdd\\xbek/\\xb7\\xe3\\xf4\\xf1\\xfby#\\xb7\\x96\\xde\\xd0\\xcaSOW7\\xcc\\xa9\\xaa\\x9a\\xd3P-\\xdc\\x18\\xc1\\x8a\\x0e\\x7f\\xf8\\xe1g\\x87?\\xfcx\\xff\\xa9\\x80x\\xe8\\xd7\\xd7\\x10\\xfb\\x04kH\\xf7c\\x1b6<\\xfe\\xf8\\xfa\\xf5\\xa18\\x05\\xc1\\xb5\\xdf\\xc2\\xf5\\xe5u\\xdc\\xd7H{O\\xd0A\\x86Y8\\xc2Y\\xc4\\t0A\\x9c\\t3E$0\\x17\\xc0\\x95\\x03.\\x1e\\xd7\\xee-\\xf6\\xf2\\xba\\x9e\\xcd\\\\\\x1b\\xd7w\\x17\\xfd\\xaa\\xb7\\x07/\\xdf\\x93d\\xdaw7WI\\xb4\\x90K\\xba\\xc3\\xdf\\x04\\xf5\\x16\\x0b75@\\xca\\x08G\\x02\\xb5\\xfe\\xa3H\\x04\\xe4\\xa0\\xcfVH\\xbe\\xff\\xf1Gl\\xcd\\xc1U\\xe1#\\xc2&\\xf1G\\xe4\\x98\\x0f\\x9e\\n\\xa6\\x96\\x90\\xfe\\x86\"\\xe3@\\xfb\\xc0\\xf8\\xa2\\x94\\x11d\\x8c\\xa1\\xdcXa\\xaf\\x88/O1\\xc6\\x8e\\xd1q\\xde1\\xbc\\xde2\\xd4\\x14>\\x89\\xad\\r$\\x085`\\t\\x9f\\x06#\\x18\\x15\\xfc\\xf8n\\xa3\\x91\\x9bj\\xf1Bw\\xf8\\xd8N:1\"\\xc7\\x83N\\x83\\x01\\xb1x\\xfa\\x08\\xeeL\\xb7\\xa4\\xbb\\xd3\\xb9D\\xad\\xc1\\xd0M\\x82;k\\x12\\x05\\xa3\\x11\\x91\\xa0\\xbe&\\xd1H\\x1b$z%\\xec\\x1b\\x8c\\xa1\\x9d%\\xabN\\x87W#\\xed.\\xdd\\x9cf=\\xe1\\xf7\\xfb\\x8f\"\\xd4F0\\xdc\\r\\xddO-\\xb1r^\\x0fg\\xb3\\xda\\xbd\\x1e;))).\\xca\\xe8\\x93A\\x19\\xa6\\x91(\\xcf\\xe2\\x9c\\x94m\\xc2\\xa6_C\\'C\\xc7\\xffs\\x8a\\xe8\\x88\\xf1?\\xa1\\xff\\xfa\\x12\\x12\\xd2|\\xcbf\\xceX\\x91\\x96\\x9a\\xe0L\\xf3.k\\x98\\xb1\\x92\\xfb6\\xd4\\x1a\\xba\\x8a\\xac$\\x1b\\xc9\\xb5dEh\\xf5\\xe9]\\x93>\\xba\\xf5\\xe6\\xc3\\x17\\x8d\\xbf\\xe8\\xa2\\tc\\x7f\\xb8\\xee\\xf6\\xb7.\\xbeh\\xf2EHf\\xe2\\x04\\x10\\x06\\x89\\xef\\xa1\\x8c\\xbf\\xb6\\xc3\\xa4n\\xc5\\xac\"&+\\xdb\\x13\\xd6 2\\xd4\\xc4h# \\x9dL \\xe3\\xbc\\x8a\\x07Kj\\xc4\\x91\\x92d\\xe4\\xcd\\xfch\\xa2\\xb5\\xd8\\xdc6N\\xe4\\xdc\\x16b\\xb1\\x18\\xcd\\x8c\\x1af\\x93\\xd1(M5{\\xb82\\xbe\\x95o\\xe3y\\xdeh\\xb5rS\\xf9\\xee\\xf0\\xe1\\xa0\\x81R\\x88wR\\n\\xf1\\x94\\xc8\\xc9\\x94J|\\n\\xed\\xc5K&\\x13^\\xad&\\x93\\x84W:\\x02\\x1fP_1\\xd6\\x16\"\\xdd\\xfa\\x17\\x04j\\x03\\x85\\xa8\\x10=\\x05e\\x85\\x01*L\\xf2C/\\xca\\x94\\xcd[\\\\PRZRRZh\\xf3\\n\\x83N\\x7fHJB\\xaf\\x94mN\\xcf+\\x16n#\\xf97\\xf3_o\\x88u$\\x8c\\x1fz\\xeay\\x94\\xb8\\xbb\\x91\\n\\xd7\\x8b\\xc7\\xc0C\\xb4\\xc1I\\x13\\xddunN\\xe4%\\x9b\\x93\\x8f\\xb5\\xa5\\xd9\\x06\\x8a\\xfdL\\xc5\\xe6\\xb2\\xe4\\xb2\\x94\\xfe\\xee\\nq\\xb4i\\x84yB\\xf2\\x84\\x941\\xee\\x99|\\xadP+N\\xd3U\\xdaf&\\xccH\\xacM\\x9a\\x99<3e\\x1e\\xdf 5\\xdaf\\xc5\\xb6\\xa6\\xb4q\\x9d\\xb6\\xd5\\xae\\xd5I\\xabS\\xd2qS\\xdf\\xec\\xa4k\\xe7\\xa8\\x14{)\\x06\\x16\\xab%W\\x1bH\\xca\\xb7\\x04-\\x92%\\xc8D-h\\xc4MR\\x9c\\n\\x91\\xa5\\xc6b1\\x8c\\x8d\\xe18\\xf7X\\xa2us\\xda\\xa1\\xfa(I\\xd5\\xaa\\x92\\x1at\\xd6h\\xbdN#\\xa5\\x9f\\xd3H\\xe9\\xe7\\x14(\\xed\\x9c\\x94\\x8a\\ttP\\xa7\\x93\\xce\\xe6tz\\xeeL\\xb5\\xa4\\xbaS9\\xa4\\xf9-^\\xeb\\t$\\x1a\\xbd0J!\\x11\\xed\\xfd\\x19\\xfd\\xd0\\x96P\\xb2\\xf6\\xcd\\xc7\\x0b\\xa9E\\n\\x96P\\xea\\x153{\\xa1\\xf1\\xe1]!}!O%\\x91\\xfe\\xf5\\n\\xd7\\x9f\\xb66\\xbf=m\\xffu\\xb7\\\\5\\xed\\x9dF\\xfd\\xa8\\xa3\\xad_\\x11\\xc1\\x9f\\xdd\\xa7\\xb9\\xe2\\xd2/g\\xf3\\xdeC5;\\xab\\xf7~\\xb4\\xba\\xf3\\x8a\\xe0\\xb0\\xb7|\\x03>yf\\xea\\x8d\\xc3\\x86,\\x1d\\xd3\\xfc\\xd2\\x14\\xaa\\xe1\\x0f\\xa2\\xa6\\xaeDz\\x0f\\x86c\\xc1*\\x83A\\x0c\\xb8\\x0c\\xb1\\x81,CF k\\xd0 C\\xb1\\xa3ojQ`\\xaca\\x84cx\\xea\\xf0@%\\xa9\\x16\\xab\\rS\\x03\\xf3\\x0cs\\x02\\xf3\\x06-5,\\x0et\\x16\\xaf\\x18\\xe4*\\x1aP>\\x80\\x1b8\\x00\\xf9@rm\\xb9\\\\nn\\xd6X\\xb7\\xae/g1\\xb9M\\x9c\\xc9d\\x1b\\xab\\xd3\\xfbz\\xd1\\xcc\\x17\\xa1YB\\x8d\\xcf[\\xcad\\xb2T\\xa0\\xd2U*Q\\x1a\\x95\\xa6\\xe49{upF:xk\\x9c^>/e@\\xa9`\\xe4]L*\\x8dL\\x12\\xb7\\x96Y\\xca\\xdce\\x9c\\xf1\\xd6!\\xd6\\xafk\\xad_\\xfb\\xfd\\xb6\\xb8\\xfeV$g \\x10\\x90\\xe9*\\x9b\\xe92;\\xb3\\xdb\\x81\\x9e\\xfe\\xfdk\\xa9\\x82;\\x9d2\\x11\\xd1:\\xf7).d\\n]\\x1aQt_1\\xde\\x9eQz\\x99\\xeaT\\xedi\\x9fX\\xa7S0\\xe7\\x0f\\x19;\\xbc\\xe2\\xd5e+\\x8f\\x8d\\xb7L\\xfd\\xfa\\xd2\\xb2\\xebr\\xf2r\\x0bss\\xd7\\x8c\\xad\\x19y\\xf3\\xae\\xbc,\\xff\\xac!3\\xdf\\x9bI\\x991\\xff\\x81\\xe1\\xa3\\xc7>\\xb9$\\x7f%\\xf7\\xba\\xff\\xf2\\xb9s\\x1e)\\x1b9|\\xa0\\xefP\\xbf\\xb1\\xd9Y9\\xf3&MlNq\\xc7=\\xb0zy\\xc9$\\x97\\xcbQ>\\xe4\\x90o`fN\\xfe\\x86i+\\xf7\\xc4\\x9b\\xb5\\x85hI\\xc7\\xa3>\\xec\\x10\\x0f\\x81\\x1eu\\xbbj\\x87V5\\x07:\\x15!*\\xc2\\xa9\\x88V\\xb5\\x14:\\x15!*\\xc2\\xa9\\x88\\x16\\xe9-\\xb7Q\\x11\\xa2\"\\x9c\\x8c\\x04Sk\\x04\\x93\\xc3\\x94f*2\\x95\\x9b\\xdaL\\x921\\x9eR\\xdah\\x1a\\x8d\\x02g\\x944:\\xd3\\x18\"\\xd2\\xcfl\\x12h\\xb5(\\xf2\\x1a\\x9e\\xd7\\x96\\xe9\\'\\xe89\\xf4\\rn\\x0b\\xa71\\n(\\xfa;)\\x8f\\x10\\xf99h\\xa6\\xcd\\x04\\x8f^g\\x92&H\\x04\\x9d\\xc8\\x97A\\x03U\\x10\\xa2\\xa7M\\xf0\\xfe\\xd4N*\\x01\\x84~4S@\\xdb\\x12b\\x91\\xdcR\\x99\\xc4K\\x19\\xd4<I\\x1c3\\xde\\xf1Q\\xc6\\x9b\\t\\x8e\\xc4\\x96%\\x05TC\\xc4\\x10t\\xd0\\x85\\xcc$\\xf5\\xaf\\xa5\\x1e\\x1a\\xd9\\x1e\\xf0\\x0f\\xea)@\\xb7\\x8dVi\\xbd\\xb5G\\xd8\\xef\\'\\xb5\\xd1\\xdfH\\x10\\x9f\\xcd\\x876\\x8a\\x14\\xda\\n\\xbd6\"\\xec\\xf8d\\x7fO)w\\xa8\\xfb\\x93\\xd0\\xec\\x9e\\xe7\\xc8\\xbd\\xa1Zr\\xef\\xd7\\xfc\\xe8\\xd3\\xed\\xdc\\xd6\\x9e:\\xaa3O\\xa3\\xce\\xacE\\x9ed\\xc3\\';\\xbc*\\xddR\\x15\\xbae\\xd5\\xe8\\xb5.\\xad_;X[l\\x1b\\xec\\xac\\xd0\\x96\\xdbj\\xb4S\\xb2\\xe6i\\x97k\\x8d\\xc9\\xc9\\xae1\\xd4S\\x05\\xd3\\xf9\\xf4\\xa0\\xdc:\\xbe&\\xdd;6]J\\xe1,z7\\xd2No\\x1e+\\xe9=\\xa9Z\\x03e\\xd3\\xee\\x9aT\\xcf\\x84d\\x92\\xdc\\x1d\\xfe>\\x18O\\xb7\\x9c\\xec\\xa4[N6SJ%3\\x1b\\x9c\\xec\\xe8\\xa5)\\x8e\\x88\\xa6\\xc4\\xd78\\xbc\\xe0I\\xd6\\x01\\xeb\\x02w\\xe5Xr\\xdc9\\x9c\\xee6\\xbf\\xac \\xb6\\xfe\\xb2~0j\\x1d\\xf5\\x07\\xce\\xe8G\\xc0_\\xdbS\\x10\\xa0\\xda\\x81d\\xf9m\\xed@\\x8d\\xb0yc\\xbd6U)\\x84\\xb5\\xe3\\x86\\x8d\\xfe\\xdb\\x15\\xcb?\\xbf\\xc8<\\xf9\\xe3y\\xa3\\xd6\\x16\\xe5\\xe4\\x16\\x07\\x8a\\xfe2\\xbd\\xea\\xde\\x81\\xfc\\x9a\\x9e\\xa1\\xfe\\x1a\\xef\\xb2\\xdd\\xe3&V\\x91\\x0f\\x9a\\x9e\\x1d:\\xb2\\xa20\\xed\\xed\\xa21\\x99\\x05\\xfe\\xa5\\x13\\xc6\\xcf\\xf3d\\xb8\\xe3\\x8d\\\\\\xf8\\xc9P\\xa7 d\\x15\\x95>\\xa1D\\x0f\\x0fb\\xbc\\x97\\n\\xa5\\xf0b\\xb0P29M\\xfd\\xd3\\x0b\\xfb\\x16\\x96\\x8eI\\x1f\\xd6wx\\xe9LRi\\x9a\\xe8\\x99\\xe8m\\xf4.\\xeakv\\xf1Yc\\x92cb\\xe2\\xc6&\\xf3\\x16\\xae\\x18C\\tWN\\xc0\\xfe\\x1b\\x06g7\\xda\\x1b\\xb0\\xeb0~\\xf8\\xe1L \\xc1\\xc4\\x10\\x980\\x01\\xa5\\xb4\\x95R\\x17n\\xefo\\xe9\\xef\\xee\\xcf\\x05T\\xa5\\n\\xc8!\\xc5\\x8e\\x9a\\x80W\\x87\\xbdv\\xd3\\xee\\xba\\x9b\\xfba\\xd0p\\x94\\xc6\\x0e_SB\\xdad\\x9a\\xa2\\x98\\xd1\\x10\\xc2\\xde\\x1f\\xe9\\x188j\\xefOi\\xe9\\x00J\\xc5\\x0c\\xae\\xb8\\xc8^Z\\x92FI\\x16\\xeb\\xa3T\\x04\\x8dJ@\\xcdy\\xc3\\x8b\\x07C\\xef~\\xb0`\\xe7\\x88\\xca\\xda\\xa9\\xb5U\\xc4\\xb9g\\xe0\\xc4,}\\xd2\\xc2\\x81\\xef\\x87!v\\xca\\xbd\\x97\\xce\\xbc~\\\\U\\xf5\\xab\\xa5eym\\x83\\xa7\\xde0\\x9e\\xe3\\x86\\xf6\\xcf\\xbb\\xb4\\xec\\xfa\\x07\\xc8\\x17_\\x84\\x8e\\x94\\x0f\\xbf\\x98\\xd8\\xffz\\x80\\x14,Y\\xb8Zoz\\xce\\x92\\x18\\xfa\\xf9\\xab\\xc2b_\\xf1\\xe0\\xbd\\xd7\\xd6.\\xcf\\xf582\\xb3\\x9dY\\xee;\\x9f*\\xce\\xc9\\xdaF\\xa3\\xf2\\xe5\\xe1O\\x85\\xdb\\xc5\\x9f!\\x012\\xa1\\x944\\xed\\x81\\x0cT^\\x13\\xee1\\xbd[A\\xd2T\\xc4\\xa7\"\\xa9\\x94zS)\\x96\\xeb/\\x8a-L-\\xeaSTX\\x1e;4\\xb5\\xbc\\xcf\\x88\\xc2\\x89\\xb1\\xd3\\x12j\\x12k\\xdcSRg\\xfa\\xabsf\\xf6\\x9dR8\\xa5\\xb4N;\\xcb<\\xcb>+\\xa1\\xceW\\xd7g\\xb1y\\xb1}E\\xce:{\\xb2\\xc4=\\x9c\\xf1@\\x80\\xcbp\\xea\\x03\\x02\\x9f<\\xca\\xca\\x15\\x8fF\\x16\\xf6b\\x9f\\x8b\\xb1\\x8fF6\\xa6\\x1a\\x97\\x07bHL\\x0c\\x04\\xf4\\xa6\\xac^\\x8d\\xb2\\xa2\\x9cJ\\x96\\x17\\x9c\\x19\\x1eE\\xf2\\xef\\x90\\x19\\xe9Q\\x19\\xe9\\x11\\x8c&\\xc6H\\x8f\\xd7D7\\xc0BY\\x93\\xa9@}^ 3zWM\\x81W\\xba\\t\\xf9\\x8b\\x1cE\\xa3\\xc2\\x98\\xfc\\xa5\\xaa6X\\xd8\\n\\x03\\x0b\\x8f*\\xb1\\xa2=\\xae\\x7f-\\xfd(8\\xa5:\\xe7\\xaa\\x1c.+\\xa7\\x80/\\x0ed\\x05J|#|\\x95\\xbe\\x06\\xdf-\\x19\\x92\\xcb\\xe3\\xe33\\x92m\\xb4\\x1d\\xbbT\\xa3H\\xc8v\\x87\\xcaE\\x1af\\x06\\xa5\\xc5\\x19\\x98 \\xa4)n\\x1d\\xbd\\x0b\\xaf\\xe6\\x06(\\x08q%%1L:\\xfaHJ\\xb6 \\xdc\\x1ez\\xfb\\xcb\\x9fBG6_\\xb1\\xb4\\x838\\xde\\xfd\\x8c\\xe8W-\\xbf\\xe6\\xcfG\\xef_\\xb3\\xea\\xeeI\\x93\\xd3\\xaf\\x1e6{\\x9c{\\xd2\\xe2@[m\\xcd\\xfc\\xbd\\x9bnx\\x92\\xdc\\xf5\\xd70\\x9cza\\xe5\\xcb\\x03\\xa5\\xe0\\xcd\\xed\\x0f\\x1d~\\xef\\xfe\\xc6\\x17J\\xa5A]\\xdc\\x84KW/\\x9d3\\xba9\\xcb> f\\xd8u=\\x1d\\xd3[\\xfb93R\\xfb>4o}\\xd7\\x16\\xd4\\xc2\\x85\\xe1/X\\x0cO\\xb5pg\\xb0H+$\\x08Y\\xc2\\xa0\\xf4A\\xfe\\xe2\\xbcq\\xe9\\xe3\\xfc\\xc3\\xf3\\xaa\\x84\\x99q\\xb5\\xf1\\x93\\x13\\xdb\\xc8\\x8at\\x8b-\\xb9`\\x8c#k\\x8cCJV\\xacX\\xb1M\\xf7{j\\xa8s\\xc9a<\\xd3C\\xab\\x1c\\xc6\\xcb\\xac\\xcaQY\\x91\\xa3\\x84\\xf1\\xf6\\x9a\\x1c\\xaf\\x8b\\x85\\xed.\\x816tm\\xa1z\\x17Q<E\\xed\\xfa\\xb3\\xd0)\\xc0l\\x98\\xaau\\x9cF\\x12\\xce\\x98/{\\xa9l\\xcc(\\xa9\\x81i\\x9d=\\xa2u\\x11\\x95C\\x13\\'l\\xaa\\xae\\x99\\x16\\xfaaO\\xd1\\xf44}\\xf2\\xbc\\xa1\\x9f\\xfc\\xea\\xa8\\xbd\\xaf~\\xfa_*\\xaa\\xaaI\\xce?Z\\xbaGL\\x9d\\xfeJ\\xb0_\\xa0\\xa5l\\xf3\\x83%\\xc1\\xdc\\x96a\\x17m\\x1dIx~\\xd8\\x0b\\xa1\\xe7\\xdb\\xdaW\\x1a\\x8c\\xa8kD\\xf7m\\xbf\\xfc\\xb4\\xa2\\xc1\\xfb\\xae\\xf8\\x92\\xa4\\x0c\\x1f~q\\xe8\\xd7\\xfbn\\xdbW\\x94\\xdbg\\xe7\\xbd3\\x97\\xe6\\xbac\\xb33c\\xb3P\\xe7\\x0ebj\\xebG/\\x12\\x0biPH*\\x82v\\xd1\\x18k\\xecc\\x9c\\xcaU\\xc6\\xaeN\\x90\\xec\\xb6\\x9c\\xa2\\x14\\xea`\\xad\\x94B))\\x9a\\xe4\"-\\x9f[\\xa4\\xd1:\\x9fVi\\xba\\xab\\xc6\\x19k\\xcf\\xb1D\\x8c\\x98\\xc5\\xc3\\xa2\\xd7\\xee\\xf0OA\\x075b\\x96\\x0c\\x1a\\xac\\xd3Z\\xbcZ4\\xe9\\xc8\\x8d3yU\\xba:\\nfI\\xe9\\xb1\\xc0r\\x00\\xe4\\xc8\\xd7\\xaaa\\xfcf\\xa7b\\x11\\x7fb\\x8e\\x19\\x91/w\\xd2\\xe1\\xe8\\xa3\\xa0\\x8dE\\xce\\x0b\\x8b-\\xc5\\xc1b.%\\x9aa&9\\xef\\xcaqh\\xcctDMw\\xf8\\xf4N\\xba6D>\\x94\\xd3\\x0b\\x8d\\x96rRCm0\\x9d\\x01\\x91\\xef\\xd8\\x0c\\x88\\xfc\\x9b\\xcd@\\x91\\xddt\\x02MK\\x11K\\xca\\xd8O\\x8f\\xdf_P\\xab\\xde\\xb2HY\\xf6\\xf9\\xc8nE\\x0b\\xb1\\xe2(\\xf3\\xf0\\xb5\\x8a\\xdf\\xc2\\xb4#:`#J\\\\\\x87\\xb5\\x94\\xcb\\xb2J\\xb1F\\xf4V\\xf4O\\x195\\xe5\\xe5\\xdbz\\x8e\\x91=\\xf7\\xde3v\\xf2\\xd8\\x96\\x9a\\x9b\\x9e\\x08\\xedH\\xcb\\x0c\\xac\\x9b\\xfd=\\x81\\xda\\x05\\x81@\\x9f\\xd5%\\xa3\\xf2\\xaf\\x9a\\x15z\\x99H\\x97?P\\xdc\\xaf\\x88\\xbc\\xd2\\xfaH\\xe9\\xb0~\\xe2\\xa1\\xf8\\x0c\\xff\\xfa\\x19\\xf3\\xfe\\x92\\xabu\\xbf\\xca\\t%c\\xe3\\x12M\\xa1\\xc91))3{n\\xad\\x99\\x97\\x9e`\\xe9y/1\\xadO\\x03\\x8d\\x1b:\\xc2_\\x89#\\xc5\\xef1n\\xb898F$&\\x9d\\xe4p\\x92D\\x9d#6=\\xb6$v\\xb8c\\x9a\\xb6J_e\\x9ef\\x9d\\x96Y\\xc7\\xd7;\\xda\\xb8\\xc5\\x966G\\x8c\\xd3\\xe9*\\xb2s\\xd9\\xd9\\x19E\\x92\\xde\\t\\x0b\\xd1\\x8f\\x13\\xea\\xca\\x039e9\\xad9b\\xb4Y\\x93C\\x06O\\xac\\xd1\\xa8\\xd4\\x19\\xb5\\xb2\\xfeXk\\x8c\\x0e\\xca\\x03c\\x12\\xa5\\xbc\\xb1\\xc9/\\x93\\x91\\xea\\x0fRt\\x10\\xf3\\xfd\\x14(\\xe9\\xd2%\\xd9\\xe5\\xa7\\x9d\\xc7Y\\xf5rM\\xa5\\x85\\xe2\\xc8\\xd2\\xea\\xd1\\x837U\\xde\\x13\\xfa\\xcf\\xac\\xba\\x96\\xa6Y3\\x89\\xe9\\xbe\\xa5?\\xde`Y\\xf1\\xd3\\xc6\\x85\\xbbF\\x8d\\x18?u\\xf8\\xc8\\xa7\\x9b6\\x9d\\x9aon\\x89\\xcf\\x8e\\x8bI\\x9cV?\\x93\\xa4?\\xdfMR\\x1b\\xea\\xe7\\x0c\\x18\\xf3\\xaf\\xb93\\xc6\\x8c\\xaf\\xf8j\\xcb\\x1d\\x9f\\x8f\\x1a;j\\xd6,J\\x1d\\xd4\\x07a5\\xea\\x83\\x0e\\xba\\xb6\\x8b\\xc5\\xec\\x1b\\xeeX*0\\x1c\\xa7!\\xc5Z^\\xa3\\x05~\\x82\\x81\\xe3y\\x94\\xc0w\\x82\\x16&\\x8b\\r\\x06\\x8b\\x81p\\xa2J\\x04Q\\x91?k\\x8dHXX\\xfa\\xbf\\x92\\xc2\\xc3\\xaa\\x14~\\xafH\\xa1\\xbe\\x97\\x14R1<\\xee/`\\x81\\xa5,t\\xf4\\xdc\\x84\\x05C(Z\\xc2\\xea\\x1e\\x0b\\xb7\\xbeg\\xd9\\x01\\xfe)\\xd1\\x1b\\x9a\\xde\\xd5S\\x88;b{\\x13\\x07\"f \\x99\\xdb\\xf9b-\\xdd\\x9b\\x83)\\x9a\\xd6\\xaa\\xe5\\xb4ZQ\\xaf\\xe1\\x89\\xa8\\xd5qC\\xadQ)=\\x17e<9Uuw\\xd4p\\x0et\\\\\\xfbU\\xad<\\xb5S\\xd1\\xdc\\xe3l\\x87T\\x85\\xe5\\x1d\\x02\\xdb!\\xde\\x7f\\x17Lgm\\xedL\\xa1e\\xc2\\xc50\\x05^j\\xb2\\x98\\x82\\xa6\\x89&^\\xcb\\xabQ,\\xaf\\xd2\\x92W\\x03\\x1e\\xde\\x81q\\xfe[l\\x16Q\\xa5\\xa3\\x18\\xa1\\xa3\\xc8f\\x11U\\xf2\\x89*A\\x19B\\xa7\\xa2\\x08\\xa3\\xa3\\xd8b<\\x87\\x8e\\x91{\\xb9\\x02\\xca\\x06\\x95\\rB\\x92.\\xf4\\xcb\\xe7I\\x94\\xa2\\x85x-\\x14\\x07\\x1e\\xe8I8p\\x80\\xfb\\xe7\\x01\\xee\\x83\\x9e>\\xe2\\xa1\\x9enn\\xb4B\\xd5\\x13HU#\\xb99X\\\\\\xa9\\'\\xfd\\xb8~b\\x89\\xbe\\x95\\xab\\xe3[\\xc5:\\xfdj\\xae\\x8d_-\\xb6\\xe9\\rSu\\x95\\xfa\\x1a\\x03\\xdf@\\x7f\\xdfN\\xc7\\x8bz\\x8e\\xd7I\\x1cpBPI\\x86\\x84Yr,\\xee\\xaf\\x11\\x82t\\x9bB\\x90\\xeeI\\x082\\xaa\\tV\\xa1\\\\\\x98\"\\xe0\\x8f\\xc6\\xa0\\xe3\\t\\xfb\\rw^\\xe4\\x86\\x9a\\xd4\\xa8\\xe4\\x1cF\\x9d\\n\\x9a\\x98\\xd8: EeM\\xb0D\\x0e2eg\\xc7\\xf8\\xc2\\xf2\\x1ep\\xb19\\xe2\\x19O\\x8c2O\\xcc\\x16\\xb3\\xdb<\\xd1\\xcc\\x8bZey\\xa2\\xca\\x1bE\\xce\\x83I5\";b\\x10Y\\xd0\\x8aBO\\xa9\\x1b\\xa3\\xb1\\xfe\\x7f\\x17\\xf5\\xefTQ\\xffA\\x11u\\xd3\\x19\\x96\\x1cUR\\xaa\\xde5\\x98X\\xab\\\\\\x92C\\x18\\x0c|v\\x16\\t\\xf3\\x04\\xae\\xb6\\x9a\\xfe\\x16T\\x83@j\\xab1\\xc6\\xa1\\xb6\\xa4\\x1dj\\xdb\\x91\\x8b\\xc4G\\xa8f\\x10\\xe2\\x15O\\x1c\\x08\\xcdZ\\x1cj\\xdcC\\xcc\\xe4Z\\xb2\\x86\\xc4\\x88\\xfc\\xe9\\x9b\\xf8\\xe6S=\\xe2\\xa1\\xd3/\\xf0\\x83\\x15\\x8e\\xf6\\xa36\\x80t\\xec F\\x93\\xe9YFS)|\\\\9\\xdb\\x1aZc\\xd4\\xb85E\\x9a\\x11\\x9aI\\x9az\\xcdB\\x8df\\xb1D,\\x84\\x93\\xdc$V*\\x92\\xca\\xa5\\x8b\\xa5KI\\x9d\\xb4\\x9a\\xb4I\\x06#\\x11$\\xae\\x86`\\xe6\\x88\\xf6C+\\xf1D\\xd0J\\x84\\xd3\\xb0\\x83F\\x95q\\x9a(\\xc6!\\xbeS!\\xd4q\\x95P\\xa7d\\xb2\\xc40\\xf5:[\\xcf>\\x0f\\xe6E\\xe9\\x99\\xac]\\x19\\x8c\\x9fF\\xc6O\\xbd\\xccO4QA\\x03\\xc7i\\x8d\\xa6\\xe84\\x1d\\x99\\xc8\\xb1\\x8e\\x1cc\"\\xc7N>\\xb8\\x18\\x811QP\\x99(D\\x98(\\xb0\\xc6\\x82\\xcaDAe\\xa2 ;h\\x89=b\\xab\\x15\\xa2\\xed\\xd5\\xd1\\xb3y\\xd8\\xe3\\x973\\x15\\x95\\x8b\\x94Q\\xed\\x0bkk\\x81\\xe6{^\\x85S\\xa8p\\xfd~\\xe9\\x19\\xb2\\x87\\x14rW\\xee\\x11\\x8bN\\xbd&\\x1e\\xfa5(\\xec\\xc7\\x98\\x90\\xda\\xe8-\\xc8\\x1f+\\xb8\\x89+\\x98>\\xc018\\xb9\\xc2Q\\x91<\\xd1<\\xc5\\xd2h\\xd1$\\x14\\x81\\xc6\\xaa\\xe14\\x1a]|\\x91\\x9e\\xd7i-^\\xb7\\x97\\xb3\\xf5\\n;l\\x91\\xb0\\xc3Tc\\x8b\\xf5@>\\x04\\xa1\\r\\x04x6\\xfcM\\xc4\\xee\\xc1\\x19\\x1a\\x9f\\x0c\\x1a\\x18u\\xd5\\xf4\\xec\\x98j\\xf6\\xbeQ\\x83\\x91\\xef\\x94`\\xa4\\xd5k\\xf1\\x96y\\xb9\\x04\\x8d\\xa0\\x10Z\\xa3\\x10Z_\\xa3q\\xe8\\x98\\x1b\\xd0\\xa9d\\xd5E\\xc8\\xaacd\\xd5\\xa9d\\xd5\\xa9d\\xd5\\xa93 \\xf2\\x15#\\xab\\xae\\xc5sv0r\\\\=\\xfe\\xa4\\x9eT\\xf1\\x06\\xec\\x14]\\r@\\xd8\\xa9Btv\\x87\\xe6L\\x8e0\\xb7\\x8c\\x182\\xfe\\xad\\xad\\x07\\x0e\\x90?\\xaf\\xdb;zj\\xed\\xdfKJ\\xf3W\\xccx\\xf1\\xc1\\xa5[0\\xcc\\x10,\\xb3\\x1f\\x1e2~|\\xcf\\xbb\\xe2\\xa1\\xdc\\xfc\\xfe\\x8f\\xac\\x1f\\xdf\\x9e\\xe6N\\xecy\\xdc\\x1f\\xc8\\x9f\\x87\\x1a\\xb2\\x0ec\\x08\\x0ec\\x88|2a\\x0f\\x04\\x14\\xb1\\xccU\\xe53\\x8f\\x1a\\x9bk)\\x16\\xcf\\xb6\\x1c\\xc7\\xaeNv\\x8de1\\x9eCO\\xafh\\xca\\xdc\\xe0K\\xd4:\\xdcY\\xda\\xcc\\xf84wZ\\xa0\\xbf\\xb6\\xc4\\xda/\\xa6\\xd8]\\x92=V;\\xc2:&f\\x84{l\\x9f\\xf2\\xec*nj\\xe2T\\xf7\\xd4\\xdcK\\x13\\xe6$6\\xba\\xe7\\xf8\\xeb\\x02+\\x9cm\\xee6Ogvg\\xee:\\xbbO\\x174[K\\xb5\\xf4\\x82\\x06\\xd5\\xe6\\xca\\x14\\x92%\\xaf7\\xbd\\x88\\xa5\\x00\\x18\\xafx3Uo\\x92\\x199\\x91\\xcf\\x8cu\\xb1\\xf3e\\x172s\\x17%\\xb5\\xcb\\xd6+K\\xb0\\xa9\\xc2\\xf2\\x14\\xca\\x07x]:\\x16\\x94*\\xae\\xecX\\xd0\\xc2\\x04\\xa1\\xb3\\xc0R\\xd0V\\xc0\\xe9\\xe6\\xf5U\\xcf\\xfb\"\\xe7\\x19\\xf4\\x1a\\x89hh\\xb6E3\\xb3\\xd8*\\xdb%\\x99M\\xb6\\xb9\\x99\\xcbl\\x8b3\\xaf\\xb2\\xad\\xcb\\xbc\\xc9vK\\xa6\\x9e\\xe6a\\xc8\\xb9\\xc8!\\x90C\\r}0]\\x10\"\\x87\\x7f}\\xd4\\xcc\\x8cFAig\\x922\\xa7S\\xe4&\\x8d\\x99\\xf8\\xee\\x96\\xbbC\\xe1\\xb5\\xe6\\x85$\\xf3\\xf2\\xee\\xd7\\xebgW<9\\xeb\\xc0sd\\xd0\\xcfw\\x10\\xa9\\xd1<5\\xf4\\xaf\\xeb\\xef\\xfak\\xdd\\xb2\\xe0\\xf7\\x93\\x1fx\\x88<|\\xc9#\\x03\\x83\\xa3\\x07\\r<9c\\xce\\xc6\\x8e\\xd93\\\\\\x0e\\x97#\\xfb\\xd5{\\x9f\\xfeqP\\xcew\\xa3g^\\xd9T;/\\xc9\\x9c\\x19\\x9b\\xb3\\x1dy\\xecB+8\\x03\\xb5L\\x82\\xb7\\xf6\\xa1\\xf1;-\\x13\\x07\\x1d\\x95`0\\x0c\\x8d\\x89\\x98DU\\xa7\\x84p(\\xa2;R\\xb8G1\\x95\\x855\\xa3\\xc8h\\x8e\\x13\\x05Q#]\"\\xad\\x93x\\xc9\\x81Q\\x96\\xa8\\x11.\\x11\\xd6\\t\\xbc\\xe0\\xe09^K\\xcaI\\x05W\\xc5u\\x90\\x95\\x9c\\x04\"G\\x8f\\xc7\\x83%V+L\\xe5yN;\\x02\\xc6\\xd2\\xdf\\xaa\\xe2\\x05\\xccO\\x06\\xe0\\xd0\\xf3\\xa0\\x13W\\xb4@k\\xd1\\x12\\xfck\\xe0\\xfd|1?\\x95o\\xe4W\\xf0\\x12\\xdf\\xa0AF\\xd0h\\xb2\\x169Au\\xc1/\\x9b\\x96\\xda\\xf5\\xd6\\x9e\\xda\\xfd\\xf4\\xa2\\xdd\\xaf\\x1c\\xb9\\xa1\\x1f \\x85\\x84\\x883z>\\x0f\\x9d\\xec\\xf9\\xfc\\x1d\\xf26y[<D_c\\x9d\\xfa\\\\L\\xc1\\xdd\\xaf\\xc2\\xddkY\\x1c\\xd8\\xb6\\x0f\\xf8\\xf0)y\\x9f;k\\xb4\\x92,C\\xa55\\x18\\x0bJ\\xda\\x18m\\x86\\xb6D;R[\\xa9\\x9d\\xa3]\\xac\\xd5jwp\\x1c\\xaf\\xd1\\xf0\\xc5\\x12.Z[L\\xb4\\x82\\x96GK$p\\xba\\x0e\\x16$6\\xeb\\x99\\xa8\\xe0\\xf2\\xe8\\x01M@\\xce\\x15\\xd9I\\x17Yo]~\\xb46~\\xfd~\\xf6\\xae\\x82\\xbe\\x02\\x8bEW\\xa5\\xfdu1\\x7f\\xfd\\xe9\\xeb\\x85\\xc9\\xa7\\xe7\\xf0]\\xddBs\\xd7\\x8e_o@\\xfa\\x85O\\x87\\xde\\x11]\\xe1q\\x98\\xbf\\xd9v\\x93\\x89\\x1c\\xae\\x95\\x0b\\xd8\\n\\x03\\x10P^\\x9f\\x89.\\xba\\x8d\\xd0;K\\xd1Z6\\x85\\x8f\\x08\\xc9\\xc2R\\xc8\\xc0\\xfc\\xee\\xd8P\\x03\\xa40\\xd7#3-9|L9\\xb0(\\xab1\\xea\\x05_\\x82>\\xd6\\'\\xf8\\xed\\xd4\\xd4\\xe4\\xb0k.\\xbbV\\x9b\\'\\xa5L\\xcfi6\\xd7%\\xb7\\xe6\\xae\\xd0/w\\xb4%\\xaf\\xc8\\xd1s\\xda\\xcc\\xc1\\xf9\\xb6\\xa0\\x8d\\xb3\\xd9<\\xda\\xa4\\xa7\\xc3\\xaf(#9j&$\\x91\\xa4\\xa4\\xf82\\x8f\\xd0w\\xa8VO\\xb4\\x96d\\x92\\xfct\\xf8\\x84J\\xc1d[\\x1f\\x1aa\\x9e\\xfc\\x8d\\x08\\xf3\\x98\\xaax\\xc5,\\x00\\xe2\\xa8Q\\x89 \\xccK\\xb1\\x8c\\x9dy*\\x17$\\x1b@b.\\xd1\\x1e\\x89;m\\xcc\\x1f\\xb23Z%\\xb2\\xa1\\x16W1\\xdd\\xec\\xed\\x92\\xc4\\x1c\\xa5$\\x07E\\xb1:\\x9d\\xa4\\x06\\xa4\\xd7c.\\xe9..+\\xe6\\xd1\\x82\\x9dd&\\x98\\x9923\\xed\\x92\\xa7\\xa5]\\xf2\\xd40(O>\\x1d\\xddQ\\x93\\x97h\\xa0\\xbfI\\xd9\\x8f\\x194v&l\\xd0\\xd2\\x9e\\x06\\x96\\xe7\\x18\\x8c\\x0c\\x97\\xe8\\xf4\\x06\\'\\x9d\\xca\\xc0\\x9c\\xacAO\\'4\\x18\\x95\\xe8\\xca gK;j\\x0ck\\xa3\\xb2\\xcd(\\xd7\\xf9\\xf5\\x99*[\\x7fk\\x8f\\x82\\x16\\x14\\x04d\\x9b\\xcf\\x0eN\\xfd6f\\xfa\\xd9\\xa9\\x03\\x15\\xf1Z\\xa0\\xce\\xb4X\\xc9\\xa5\\xe8\\xab_L\\xa4J\\xcf\\xfb2\\x81\\xb7IJ^E\\xcfu\\x92\\x9fN\\x98\\x9a\\x19X>\\xf9\\xa6\\xb7\\xe67\\xce!)\\xf7\\xe5fg\\xb6\\r\\x1e\\xbb\\xbb^_\\xfaf\\xe3\\xe2\\'\\x83e\\xc3\\x9e\\xae\\xfc\\xb6|RC\\xe7\\x92\\xd9\\xf7-\\xb1\\r\\xb6\\xc7\\xb9\\x0f\\xde\\xb6\\xfa\\x8e\\xdc\\\\\\x8f698%>\\xce\\xda\\'\\xfd9KZ\\x9f@\\xde\\r-\\xa1dR*:b\\xe2\\xea\\xa7\\xd6\\xd5\\x8f\\xa7\\xff^\\xd3\\x1e\\x94\\xc5\\xcdh\\x02b\\xc0C\\xaa\\x83YE\\\\\\xb1e`l\\xbe\\xa7\\x9c\\x1ba\\xa9\\x88\\rz.\\xb1\\xcf\\xb5\\xaf\\xd6\\xaeH2\\x9auR\\xdc0\\x9b`$)AIo\\xd0:\\x86\\xc6De$\\x8e(\\x01v\\xf4:w>\\xce^\\xab9\\xba\\x95\\xb7\\xb5\\x8e\\xc4\\xe8\\xb7\\xb5\\xc7Tw~<h`baVO[w2\\x11\\xe8V\\xba\\x03}S`g\\xf2\\xb09\\xd5\\x9dZ\\x96\\xca\\x99\\x13uZ\\xf5ME\\xe4\\xb5F$\\x82\\xd2\\xb10X\\xc7\\x82\\x03\\xea\\xc9%\\x86\\xe3\\xd5e\\xec\\x0e\\x7f\\xca\\x1c\\xa2\\x91\\xc6i\\xcc\\xd5\\x1bYc\\xa3\\x9c\\x970\\xe4D\\xd0@{\\x1a%\\xda\\xd3H\\x97\\xc9^qt\\x87\\x7f\\xdcM\\xd7`\\xdc\\xe0=;n\\xa2|?\\xe3\\xf7e\\taB@}\\xbf|\\xe4\\xa4\\x9e\\x98kh\\xeaB\\xb9l\\x97\\x8f\\xf246\\xf9Dw\\xf3\\x84\\xe1\\xa3\\x1e\\x993\\xf3\\xba\\x11\\xc6\\xae}\\x13\\xb6\\xb7\\x1e\\xf8\\xea\\xf9+o\\x9c\\xfc\\xd0\\xe8\\x89\\x1dcn\\xdf\\xc6\\x95^sx\\xdc\\x84\\t\\xb9\\x98\\xeb;z\\xde\\x19zq\\xe8\\xcd\\xd0\\xd7\\x07\\xdf\\x18\\xd5\\xafgMZ\\xd2\\xebh\\x19\\x9b\\xc3\\xff\\xe4\\x7f\\x16\\x96\\x80\\x17~\\x0e\\x8e\\xb3\\xf8&\\xf88?I5g;\\xd3\\xe2\\x07\\x90b\\xf3\\x00gq\\xfc\\x182A_n\\x9e\\xe0\\x1c\\x1a_M\\xa6\\x9a\\x9bI\\xa3y9\\xe90\\xc7X\\xad\\x8e2\\xa3\\xe0\\xf5\\xba\\xcax\\x9d\\xc5\\xc7\\x92\\x1c\\x1f{\\xd5\\x19\\t\\xac>U9\\xf1)e\\x11b\\xd7\\xfa\\xe2T\\x85\\x8b\\x13\\x14\\xca\\xc7)\\x947\\xd5\\xc41\\xb5\\x8a\\x8b\\xe2\\x8ez\\xe8\\xa0\\xd3\\xcbV\\xdaS\\xa3c\\xca\\xa8\\xd32\\xee0\\xf5\\xd41\\xcf\\xafc\\xf4\\xc6\\xc0\\xea$#\\xb3nmj\\x94\\xde1\\x9a*\\xf7\\xd1\\'\\x13\\xb5\\xechB9\\xbd\\xb3B\\xd4\\xa1\\x84\\xac9\\xec\\xe52\\xff\\xf3\\x8c\\x87g.{e\\xf4\\x98\\x89$\\xf7?u{\\xc6\\xeb+\\x9f\\xbad\\xeb\\x9e]\\xf7\\xf5_\\x1c\\xc8\\x1a\\x1d\\xab\\x1f\\x99[0j\\xf4\\xe8\\x8fo$v\\xd2\\xaf\\xa4\\xcf\\xa1\\xe1\\xa3\\xdf\\x7f\\xf3\\x95\\x0fR\\xe2c\\x036\\xd4\\x8fy\\xe1\\xaf\\x85:a%\\xc4cd\\xeb\\r\\xf6\\xc9\\x10\\xfc\\xa6|a\\xa0iP\\xcap\\xa1\\xc2T\\x91Rc\\x9a\\xe8\\x9cg\\xaa\\x8b[jZ\\x9eb&\\x83\\xdcnK\\xd2\\xe0X\\xc1@\\x1d&{\\x03f0h\\xca,(}^f:\\xbd\\x8c\\xb8\\t(b\\xcc\\xfa%`\\x84s,\\xa28\\t\\xaa\\x01\\xc6h(\\xc1\\x05\\x1e\\x85\\x03\\xc7\\x831\\x8c\\xf0\\x9b\\xbc4l.\\xf3\\xf2\\xee\\xc8+\\xb9\\xc8\\xfb;\\xe5e_0\\xa6\\x860\\xc6\\x11\\x96c\\x90D\\xbb\\xca\\x06\\xbb\\xca\\x06\\xbb\\xc2\\x86\\xcc\\x1a;{udgY\\xa7\\x9d1\\xc3\\xce^\\xb6\\xdaY_;G\\'\\xb5\\xaf\\xf5\\x9c\\x95\\x8b\\xab\\x01\\xae,\\xe3\\x85rH\\xe5g!.\\xfb6\\xc2{\\xe6\\x1c(\\x16\\xf9\\xe2\\x01\\x1be\\x8a=V1pB\\xdd\\xe9\\x97\\x87\\x94\\x14m\\xaal\\xffg_\\xfd\\xcc\\x03\\xf3C\\xdf\\x85\\x0e\\x12\\xff\\xf1\\xcf\\x7fy\\x8a\\xdc\\xb8\\xe5\\xa6\\x1dF.q\\xee-}\\xf3\\xf3\\xa7\\xe5\\xbc\\x9eYBrI,\\xb2dX\\xe8\\xe4\\xcf\\xd9\\x7f\\xbeg\\xfb\\x95\\xd4Z\\xb5\\x84\\xaa\\x85\\xe1\\xc8\\r\\x1f\\xc6\\xb9w\\x07s\\x07\\xc7\\x0c\\xc9.\\xc8\\x19\\x90_\\xae\\xab\\x88\\x19\\x97=,\\xa7\"\\x7f\\x1a\\xa9\\x15k\\x9c\\xf3H\\x8b8\\xcf\\xb9Rl\\xf3\\xd8RE\\xbb763\\x98\"h\\x9e\\r\\xef\\x8f\\x18,\\x8drP\\xa2QN\\x930\\x99\\xd3\\x18\\x82\\xbc)oh\\xac\\xc6\"\\x11\\xc9\\x9bfg\\x0eQ5d\\xf6(\\xe7h?\\xe3\\x10\\x0b\\x82\\xd4\\x82\\xd8U\\x87hW\\x1d\\xa2\\x9d\\xbdA`tt\\x81\\x14\\x0f\\xd4\\xa60\\xed\\x02-\\xb3x\\xec\\xec\\x16\\x98\\xe1\\x81l\\xc6g=\\xb3\\x7f.\\xe6\\t-\\xf2\\xf7\\x07\\x8c\\xeb7\\x14\\xb8\\x0b\\xca\\n8\\xbf\\x1a0\\xfbU\\xde\\xfbe\\xde#\\xcb\\xfd\\x8cy~f\\xe1\\xfc\\x89\\xf1*\\xa7\\xe3U\\xde\\xc7\\xcb,\\x7f\\xaa&\\xdeJ\\'\\x8f\\xef\\x0e\\x87\\x82\\xe9t\\x01\\xf1L\\xed\\xe2\\x99\\xc4\\xc4\\xb3\\xcf8\\xe2\\xd9 \\x14\\xc7\\xeb\\xda\\xbe\\x11\\x8b\\x16\\xe5\\xf6\\xbe\\xfc\\r\\xafW\\x0b\\xb2\\xcf\\xc3;f\\xf4\\xcaP\\x1a\\xd2\\xad\\xe0\\xed\\xfd\\x92\\xb0\\x98\\xea*g\\xa3~\\x8f9:\\xd4M[\\x94\\xb6\\n\\xc3C\\xa1\\xd0\\xf1\\xea\\x87\\'\\xeb\\xf3\\x0e6\\xd4\\xad\\xf2\\xf9R\\xa6\\xde\\xb6\\xf4\\xe0\\xbf&\\x8d\\x1c\\xbawz\\xfd\\x15c\\xd04V\\\\\\x16\\xbcm\\xfb\\x95\\xb7L\\xbe\\x7fu\\xe8\\xcb\\xd0\\x89\\x84\\xb8\\xfd\\xf6\\xe2\\xbc\\xac>\\x0b\\xca\\xe7\\x94\\x0f\\xc7\\xf8Q\\xb3\\xf9\\xd0\\xb8Q\\x13\\xfad\\xe6\\x9f~\\x8f\\xabOM~\\xf3\\xc0\\xbe\\xe7\\xcb\\xd0>\\xee\\xc1\\xect&\\xfa8\\'Y\\x1e\\x8c\\xe1c\\x9d\\xb1\\x8bby\\xabI;,F0\\x13b\\xd2r\\xe8\\xcb\\xa2c\\x9f3*\\xd9;\\x0e:7\\xea9\\xc9\\xac#\\'{7\\x16\\xfd\\xd0DQ9\\x108\\x1d\\xb41f\\x0bQ\\xcc\\xa6q\\x8f\\x82\\x84\\x14\\x9f\\x97\\xaa\\xc6A;\\x19\\xf3i\\xe4\\x92\\xccl.\\xfb\\x1c\\x07\\xf4r\\x18\\x14\\xef\\x8e\\xaf\\x8b\\xe7\\xac\\x06\\x95\\xa9\\x06U\\xf5\\r\\x11\\xafg0\\xca\\xe1\\r\\x0bl\\x98\\xd730v\\x1a\\\\&\\xd5\\xeb\\x99\"\\x1f\\xf3\\x98Xc\\x93\\xea\\xf5L\\xaaI2\\xd1\\xcc\\x99\\x05d&6\\x84\\x89\\x9e\\xbe\\xd3Q(\\xc2\\xec\\xb2iC\\xdc96\\xe1\\xacC\\xbb\\xc8!\\x91\\x9f\\x9e&\\x94\\xc9\\xf1\\x8f\\xd7g;\\xf3\\x8aXu\\x82\\xceXa\\xe6>{|\\xc2\\x8c\\x8a\\xf1\\x0f\\x8d\\xdf\\xb7\\xafj\\xdf\\xec]\\xcfr+\\xc7\\xaf\\xcf\\xc8\\xce\\x1a7\\xf0\\xf4\\xb3\\xe8\\xee^\\x1f3\\xf9\\xc3\\xd7Q\\xf3\\x9f\\xc4 \\xfb\\n\\xf1#\\xfa\\xa5 \\xd9<4\\x0e\\x13\\x80\\x93Q\\x07\\x03\\'\\xa3\\x12\\x9d\\xd3\\x11\\x96\\x89gR$\\x8d\\xa0\\xa8\\x05\\xcb\\x95\\x06G\\xb8\\xabv#\\xbd\\x868\\x1e\\xc1\\xc5(\\\\\\x13\\x15\\xf1\\x08\\xbd\\xcec\\xcf\\xe4\\\\$\\n\\x8f\\xce\\xc5D\\x15\\xa7KQ\\xcf\\x17\\x11yV\\xe9\\xb5_y\\x95\\xe9\\xa8!\\xe5\\x1cJF)\\xc7K\\xa2\\xa8]\\xad#\\xba\\x1b\\x98,\\xe501\\xa9\\x13\\x18\\xdf\\x04\\xc6d\\x819L\\x811Yp\\x11\\xf6%\\x04\\xa9[-\\xd2\\x0f0>U\\x0ff\\x15~+\\'\\x83*\\xbfE\\x95\\xdf\\xa2,\\x91\\xec<6,\\x9f\\xc7n\\xd0FXY\\xfb\\xa5\\xcc\\xe0/\\xfd_\\xd3\\xa0\\xb6\\x0c\\xf9\\x1a\\xf9~+\\xfa\\x87\\xf8\\x8a\\x0by\\xfa\\x9d\\xdf\\x15\\xef\\xbcc\\xdc\\xb7O\\x8c\\x7f\\xe1T\\xbaPK\\xbf\\x88@\\xae-A\\xcd\\xe3\\x89\\x1e\\xf3\\x1c.\\x8a7\\xe4\\x0cox\\x957@y\\xa3\\xd2\\xf4t\\x14o\\x14\\x9c6U\\xe4\\x1f\\x10\\x19\\xfa;\\xe4\\x8f\\x1cT\\xd3\\xa6\\xaa\\xcb\\xe3\\x08\\xd1R\\xf2\\xdc\\xa0h\\xa3\\x1c\\xe409WNY]\\xab\\t\\xfd\\x08E\\xa6\\x1e\\x89P\\x8f\\xb0\\xf6D\\xa5\\x1e\\x89\\xc4\\x88D\\xa0\\x9d\\t\\x8dY\\x18\\xb2A8C;F9F\\xb7\\xb3h\\xc6\\xbe\\x88\\\\\\xb2o\\x1f\\xd2\\x85\\xd9&M\\x1cz4??t\\xe8\\x9fz\\x1d<JQ\\xb8\\x18\\x85\\x0bQ8\\xdf\\xcb@\\x9d\\x8c\\xa2n\\xaf\\x03\\xcc(\\xd1>\\x19%\\xda\\'\\xa3\\xc4\\xf9d\\xd4\\x17\\x83\\xbd\\x13\\xc1\\xf3\\xa9\\x88&\\xcaHJQ\\xb8\\x18\\x85\\x0bQ8\\xdf\\xcb\\xa8\\x1e\\x8b\\xe2\\x97\\x9a\\xed\\x8e\\xab\\xe1\\xd3\\xf8\\xac\\x98\\xb4\\x98\\xacrOy\\xc6S\\xd9\\x9a\\xdd\\xe9$\\xdd\\x9d\\x9c\\xa4\\x8d\\x1b\\x96\\x99*$\\x8b\\xc4\\x9a\\xa4\\r\\xe6\\x12wn~n0wbn[\\xae\\xf8\\xdbL\\xcc\\xa5^=\\x8e2.\\x97\\x05\\\\$\\x9e\\xb1\\x93\\xf9^B-4\\xe3)\\xf5\\xd16\\xc6\\xd7|\\xd6(Ia\\xedO\\xcc\\x10\\x13z\\xaa\\xe4`Le\\xa1\\x10\\xa9\\xb7\\xa6\\x1b\\x92,\\xaa\\x1f\\xb6\\xa8\\x86\\xd8\\xa2\\xf8\\xe1\\xa4\\x1a\\x0b[\\x8f\\x85\\xad\\xc7\\xc2\\xd6ca\\xeb\\xb1\\xb8\\xac\\xcc\\xc1\\xa8\\xfc\\x88~\\x95c\\x8dJ\\x9c\\xacT\\xa8\\xe8B\\xadl\\xa1\\xd6\\xee\\xf0[r\\xe6l\\xcd\\xa0CZY\\x88`\\xa5N\\x87\\xae\\xcf\\xaaz\\x1fD~e\\x16\\x1a\\x91p\\x90\\xb9\\x0b\\xab\\xdb\\xa5\\xae\\xd3\\xa5\\xae\\xd3\\x15Y\\xa7\\x8b\\xad\\xd3\\xc5\\xd6\\xe9b\\xebt\\xb1u\\xba\\\\I\\xaa\\xe4\\'E\\xde\\x16%\\xb1\\xc6I\\xaa\\xb9HRU\\x80\"\\xb2\\x9fH\\xd2\\xd3!\\x92\\xe4\\x8c^F\\x82f\\xba\\x8a\\xa4z\\xb75h]c\\xe5\\xad\\x81\\xda3\\x81D\\xc4aX\\xa3UB\\xad\\xa5\\xe7uQA\\x87\\xecGjQ\\x87\\x06\\xa1\\x1f\\x19\\xd4S\\x80\\xf9\\xb4\\xfc\\x89\\xde\\xb96HV\\xac\\x88\\x8b\\xc1\\x14\\xdav\\x96\\xc7\\x89\\x95c\\x0e\\xd9\\xefh\\xe2\\xf6\\x99b\\xe3*\\'M\\xb8s\\x02/\\xc8\\xe8\\xf8\\xdb\\xa8\\x0bzrv\\xfb]}\\xda\\xf7]\\xda\\xfd$\\xb7r\\xf4\\xbaL\\x7f\\xce\\x84\\xc1q\\x83Sz\\x8a\\xb9\\x95c\\xd7f\\xfa\\xfd\\xd4-\\t\\xb5+\\xc7L\\xae\\x9bZ7\\xf5\\xb3\\x83jt\\x81\\x1a\\xec$mgG\\x17\\xe2\\xff\\xcb\\xe8\".*\\xba\\x90\\xdf5\\xa8\\xa1DH=\\r?L\\x05\\xe8\\xacP\\x82\\x1e\\x9e\\xdb\\x98\\xb6\\xfc\\xb1\\xa0\\x82\\x85\\x13rh\\xf1\\xdbA\\x05\\xd3\\xa8^\\xd1\\x84l\\x1f#a\\xc6\\xff\\x85\\xa0\\xe2\\x0f\\xc4\\x14\\xb1\\x7f \\xa6`\\xcc\\xc3\\x90\\x82\\xe5vG\\x84\\x85\\xc89\\x03\\xc4\\x91\\xba\\xa0k\\xa0\\xb9\\xc8Z\\xe4\\x18\\xe8\\xac0\\x97[\\xcb\\x1d\\x15N\\xad\\xa5L\\'\\xc4\\x96\\xf1zc\\xaf\\xc3\\x0ec\\x14\\x0b\\x8dQ,4*/\\x8a\\x8c*\\x0b\\x8d\\xf4\\x8b\\x0bFzcbBP\\xe1\\xcdi\\xf5\\xcc\\xe3\\xb0\\xac\\xec\\xca\\xa7\\xea\\xdd\\xe1\\x0f\\xd5\\xf8\\xef\\x075\\xe5>\\xa1\\x1e~\\x9c\\xa2\\xdfm\\xd0\\xc3\\x8f\\x04K\\x82;\\xa1,\\xa15A\\xb0\\xab\\x8e\\xd0\\xae\\xbe\\x0e\\xb4+<K\\xa8\\xb1\\x0b,\\x19a\\x9c\\xb33n\\xd9\\x13%\\x95\\xc7\\x92\\x9a\\x1fHJ&\\xe8\\xaa\\x91\\xd87\\xf3\\xca7\\x94,\\x99\\x90X&(\\xd1 5\\x81\\xae\\x8a~\\x1c\\x8fW\\xf6F\\x91>\\xc3\\xeb\\xda\\xf8\\xf3\\x05|\\xb5\\xe7\\xbc\\'T\\xbe\\x9a\\'\\xb5\\xc4\\n\\xbeT9\\x1d\\x04>\\xea7\\x1c\\x84\\x85\\xa1o\\xfeu4\\xf4-\\x89;\\xfa/\\x12\\xff\\xfc#7\\xdd\\xf2\\xf0#7oy\\x94\\xcb\\x0b\\xfd\\x18z\\x91\\x0c\"6\\xfc38\\xf4B\\xe8\\xc7\\x0f\\xde~\\xfb\\x83\\xb7>x\\x9f\\x9eY\\x85\\x1a\\x84\\xcd\\xc87zf\\xd5\\x1cL/\\xe0\\xfa\\xc7\\x16x\\x86scb\\x87y*\\xeds\\xed\\xab\\xb4+\\x93\\xf4\\xeay\\x95\\x98\\x12\\x94t\\x06\\xa3\\xa3\\x97\\tv\\xfc\\xe6\\xd9\\x95\\xcc9\\x07\\x12\\x9f\\xe9\\x9cr^\\xa5\\xb0\\xecMU\\xf9\\x8e)\\xaf\\xd2\\xedg\\x7f\\x0bs.\\xefN\\x9c{p\\x15\\xf9T\\xb7\\xf7\\t\\xd6\\xd9\\x07W\\xc6?zpuB\\x95\\xb6\\xc8\\t\\x96b\\x9a\\xff\\xd0\\t\\xd6y\\x8f\\xb0~\\xff\\x0c+\\xa2jg\\x9fa]4j\\xd8\\x8e\\x86K\\xae\\x1d\\xb3o_\\xc5\\xd3\\xf3^9\\xf2\\xfc\\xc6M\\x93\\xee\\xab\\x98\\xd81\\xe6\\x8e.n\\xd0\\x86#\\x17\\x8d\\x9d\\x94\\x91\\x19\\xca\\x11\\xff\\xbb\\xa8lj\\xe8\\x8d\\xd0\\xf7\\xaf\\x1c\\x1c\\xd9\\xbfg}\\x9a\\xeb\\x1d\\x90\\xad(\\xdf\\x8e1\\xa3\\x1d>\\n:\\xc0d5yL\\xbcQgA\\xdb:\\\\o\\x11u\\xda\\xe8o\\x90\\x8e\\x05m\\x8c\\xde\\xe0\\x08:\\xda\\x1c\\x9cQ\\xa3\\x92T\\xa3\\x92T\\x13!\\xa9\\x86QI\\xc3H\\xaaa\\xf4\\xd00\\x92j\\\\:\\x95\\xa4\\xbaH\\x9c\\xa7\\xd0_%)}\\xff\\'O\\xa5K\\xa3\\xf4\\xd4\\xe9\\xd5\\x13*FOD\\xfe+\\x1fUm\\x889\\xaf\\xf5\\xb2\\xd1t\\x18\\x98\\xe3\\n\\xd8\\xe4O\\xcf|\\xe7\\xb8#\\xbe]\\x9f=\\xa1\\xe4\\x92{*\\xf6\\xedk{\\xb4\\xbaoN\\x0e\\xbfY\\xaf\\x1b?\\xf8\\xf4?\\x85\\xda\\xfbk*D\\r\\xd2fA\\xf8+\\xfe}a)\\x14\\x92[\\x82\\x97H\\x9c.1\\x96KH\\xcc\\xd0e\\xa7\\x15\\xe8\\x06\\xa5\\r\\xd3\\x8dK\\x9b!\\xd6:/\\xf6V\\x06\\xa6\\x14\\xb4\\x8a-\\xce:OC\\xa0\\xb1\\xc0\\xb1\\\\\\\\m\\xeb\\xf4,\\xcb\\xec\\xf4o$\\x1bLk]\\xeb3\\xffLnM4\\x809>KH\\xe1\\xd7\\xa4\\x92\\xd4 \\x95\\xeb\\xd4\\xd4\\x8c!)\\x02;\\x08a\\x87q\\x1a\\x8da\\x08\\xaf\\xf3\\x9a\\x99\\xd9\\xa1\\xe4\\xc8b\\xb4\\xcbbT\\xcbR)\\x9d\\xa5\\xba\\x8a,\\xe5\\xf3\\xe6\\xa4\\x9a\\xac\\xc4bf\\xe4\\xe2\\xd9\\x91R<\\xfb\\x90!\\x9e\\xd9\\xfbx$\\xe8.v\\xb2`Vm\\xa3Y=\\xdb5\\xf7:g1G\\xd9V\\xb3\\xaa\\xa4O\\xd5\\x98\\x13\\xc1\\x1b\\xafa\\xeeOQ\\xc5\\x88\\x1f<\\xae\\xbc\\tv(\\xaa\\x18\\xd1\\xc0\\x93\\xaa\\x06\\x9e\\x0c\\xf6a\\x1ax\\x9d\\xf2*af\\xf1\\xeabQ\\xc3l\\x9e\\x86\\x9d\\xffk\\\\L \\xd6\\x15\\xb13\\xfd3\\'\\xfb\\xca\\xcbC\\xbf\\xf2=\\xb4j\\xd1\"g^xa\\xdfm\\xb2SH\\xf9\\x97\\xb9\\xd4\\xb3\\x8e\\xe2\\xa2>\\x91w\\x84\\xeaYG\\xe4\\\\2N~O\\x18\\xe7\\xe4\\xdf\\xef\\xf9h\\xe5\\x1b#\\xf5\\xd5\\x1f6\\xac\\xbc&#\\xa3%\\xf3\\xb2\\xe2\\x1bW\\xf4\\x1f\\xd0\\xef\\xf1K\\x1b^/\\xd7\\x8f\\xfe\\xfb\\xec\\xb9\\xd7\\xf9\\xb3g\\x14]\\xe6\\xbfb\\xd4(2\\xec\\x96\\x17\\x07\\xfa\\xde\\x1e>ab\\xe5\\xb0\\xd4\\xd4x]\\xbc\\xb9\\xcfM\\x0bF,\\xcf\\x0f\\x94\\xf6\\xf5\\xbd\\\\<f\\xc2E#|>\\xa71^\\x9f2f,J\\xcc\\x90\\xf0w\\\\\\x8fx\\'$\\xc2\\xa1`\\x9aQt\\x89~\\x917X5CL\\x06\\xbd\\x98\\x98\\x18W\\xc6\\xeb&$\\xafN\\xe6\\xccpM\\xb2\\xd6dU\\x99jU\\xd5\\xc7\\xaa\\xa8\\x8f\\xaf\\xc6\\xca4\\xc2\\xcaD\\xc0\\xca\\x92\\x1d+\\x13\\x04\\xabK\\xaf\\xd5\\x04M\\xd6R\\r=\\x1a\\xb6\\xb1OL<\\xec\\xab\\x12\\xa3\\xf2\\xb1\\xc4\\t\\xf5c\\tE\\x854I\\xec\\x98\\x8d\\x8dA?\\xe5\\x93=\\xa3&\\x8e}i\\xb2!)\\xda\\x9b\\x14\\x14Dt(`=QP+\\xbf\\x94+,\\x94?@\\x97\\xcf{\\x8bm\\x98s\\xd2\\xaf\\x80b\\xbd\\xb63g\\x8e\\\\O\\xf1\\x9f\\xfa>\\xba}\\xf5\\xea}\\xe4\\xca\\xd0Jm\\xbcs\\xfc\\x84\\xbc\\x06\\xa7^o\\xb6w\\xbf\\xcaM\\xbe\\x93\\x0c\\r=wg\\x88\\xaf\\x9a\\xed\\xcfLO\\xd4!\\x9d\\xb6a\\x04p\\tZ\\x1d\\'\\x99\\x15t\\x18\\xa4\\x04\\xcdr\\r\\xcf\\x89\\xb1:\\xd16L\\xd4\\x13\\xad\\x83\\xeb\\xe56\\xb8\\xdf\\x0c\\xe4\\xce\\r\\xdeN\\x9c\\'x\\xfb!\\x98,\\x1f\\x02\\x9e\\x13\\xb3q\\x8a\\xff\\xf8N\\r\\x02N\\x04\\x93\\xa2\\x0e\\x81\\xcc\\xf2Y\\xa0\\x1c\\xaf\\x19Tv\\x9d\\x1d\\xb7\\xfd\\xee\\x19\\x90\\x16\\xfd\\x06\\xd3\\x19m$\\xb6\\xd7\\xb2\\xc6Z\\x95UZ\\xd5\\x8fi)w\\x98\\x03\\xd1\\xb2!\\xb4j\\xb8\\x86\\xc8/\\xcc\\xe0i\\xd7\\xc7\\x9d}6\\xdf\\xdb\\xf9\\x9f1\\x82\\xcc\\x85\\x0cR\\xa2\\xb5b\\x85u\\x85gXf+\\x14.\\xd97\\xf3\\x89\\xe6\\xae\\x17\\xf7Y]\\x89\\x95\\x93\\xc7<^\\xb1oe\\xc5\\xc4\\xf7\\xdf\\xe4\\xde\\xed\\xb9r\\xea2\\x7fN\\xe6\\xb8\\x81\\xfc0\\xea!*\\x01\\xa4\\x12\\xe4\\x95\\x91\\x94\\xee\\xc3`\\xebT\\xe4hG2\\x18\\x9eU\"\\xb0\\x9f\"\\x87,f\\xf5l\\xc5\\x18\\xfeU==\\xd0\\x88&\\xd3\\xd3\\xca\\xefg\\xfd\\xb4S\\xf9m\\xb6\\x9f\\xce|J\"\\xd1\\x90\\xe7xp=\\x0bM\\xf9d>\\x87dsY|\\xba\\x90!\\xa6i\\xfd\\x86\"2P,\\'\\x15\\xe2%\\xa4J\\xa8\\x16/1\\xcc\\xe7f\\t\\r\\xday\\xba\\x06\\xfd\\xa5\\x86e\\xe4O\\\\\\xbb\\xd0\\xa9]\\xa1\\xeb\\xd0/7\\xa4\\x18]\\xb8^\\x8dK\\x12%\\xd0Yu\\x9c\\x8e\\x1d\\xfe\\xe3U/M\\x15\\xb5\\x06^g\\x948I\\xe4\\xb4\\xf47Y\\x02\\x12\\x0f.f\\xd42\\x18\\xab\\xaf3[\\xcde\\xe6V3\\x0f\\x12\\x8d\\xabYd\\xa6~\\xe9 Q\\x9blb\\xa1\\x98\\xfc\\xeb-W(\\xdfe\\x150\\xa3\\xc5~\\xa5%\\xae?\\xfb\\x051\\xfa\\xeb,\\xf8\\x97\\xbe[\\x07\\xbf\\x9a-\\x11\\xfaK\\xa7>R\\x18C\\nI\\x8cT\\x12\\xfa\\xe4\\x89\\xd0\\x91\\xd0\\x17\\x8f\\x87>|\\xf1u\\x12w\\x1bIy^\\xa8\\xfd\\xf5^\\xbe\\xf6\\xf4\\xbdB\\xed\\xe9\\xbb\\xf8z\\n\\xb8\\x8fA\\xe8\\x83\\xd7 \\xdd\\r\\xc4>\\xd4\\x80\\x19{8\"\\xf7:\\x15G\\xd2\\x12Y\\x04\\x17\\xd7\\xe8\\x0c\\x89\\xc4\\xc1;4\\x89\\xba>|\\x1f\\xcd \\x18H\\x8a\\xf8\"\\xa1H*\\xd2\\x0c\\xd4\\r\\xd6\\x8f\\x83\\nR\\xce\\x97\\x0b\\xe5R\\xb9\\xa6B7^_C\\xa6\\xf25\\xe2TM\\x8dn\\xaa\\xa1\\x95\\xd4\\xf1\\xcdb\\x9d\\xa6U7\\xc7\\xe0\\xb3p\\xa0-\\xe3\\xf2\\xb5\\x13\\xb8\\xa0\\xf6O\\\\\\x1bJ\\xa2Ko\\xd03\\x9a\\x12\\x17\\xb2\\x9ew\\t\\xa2@8\\x11\\xa5\\\\\\x12$\\xfa\\xbe%\\x99~\\xa0 \\xc4\\xd3\\xab$\\nXM$\\xceD\\x90\\xcc\\x06A\\xd0\\x03\\xf5o\\xa9:k\\xa9\\x84;\\xba\\xd6d1\\x11\\xfa{hA\\xd3L\\x93 q\\x02\\x11\\x98;\\x10.\\xa7\\x9f\"\\xd6\\x16\\xb0\\x0f\\x16\\xfc\\x05\\xb68\\xe5\\xf7\\x84\\xfc~\\xf9\\xcb\\xb5\\xf5\\xd6\\xa3\\x91\\xbfP\\xcb\\xbe[\\xf02\\x8a\\xd2\\x0f\\x17\\n\\x89\\xb0\\xe6(\\xc6\\xa9\\x7f\\xfd\\x88\\xec\\x0cM<J\\xffQ\\xfe\\x8fCc\\xc8\\xe3\\xa1\\x8b\\xb9\\\\.?TC\\x1e\\xe8\\xf9\\x10\\xe7\\x1e\\x8c\\xb1\\xebj\\xa4\\xa6\\x86~\\xc3\\xa1\\t\\x87T)\\x169U\\x8ai\\xa5Q\\x16X\\x913\\x9a\\xd4\\xca\\x93*\\xa9\\x95\\x0f\\x00\\x83\\xc3j\\x04\\xf6m\\xdbD\\xa9Nj\\x93$\\x1d\\xaf\\x11\\x13\\xf88q$\\x19\\xc3W\\xc1%d\\x19\\xaf\\xe34T\\x0eE\\x97\\xc0\\x0bc`\\xa4\\xc0\\x01\\xcf\\t8$\\xd7D\\x08\\xe1x^\\x88\\x10\\xc5\\x08I0\\x16\\xe6\\xc1r\\x10\\xe1Z\\x9dEGx!F\\x18!4\\n\\x8b\\x90\\xc8\\x97k\\xad_\\xca\\x14a\\x04a\\xbf7\\xa5~\\xc3\\x81\\x7f\\xf7\\x13\\xf9#1E\\xc0\\xa8l\\x11auO\\xe7\\xcbo\\x86\\x86\\xbfF.!5B\\xed)\\ryK\\xe8s\\xfaE\\xf9?\\x11\\xc9\\xe7FF\\xfe\\xd3\\xa0\\x02P\\xff\\x03!\\xd4\\x17\\xbcS\\xfe\\xe3x\\xc4\\xfb+8\\x0f\\t\\x10Tp!\\xaa\\x8d\\x88\\xe4\\xa8Vp)\\xaa^\\x03\\x03\\xa1Q\\xc1\\xb5\\x10\\x0b\\x1a\\x05\\xd7\\x81\\x19\\xb6*\\xb8\\x89\\xbc\\x08O(\\xb8\\x19\\xb2\\xb9v\\xfa?\\x1a\\t<\\xcek\\xe4ng8\\xfb_\\xed\\xb9\\x87\\x18.\\xb1\\xfan\\x86kX\\xfd\\x8b\\x0c\\xd72\\xfc\\x1d\\x86\\xebp\\xa4\\x06\\xeeK\\x05\\'`\\xe6G+8\\x87x\\xa5\\x82\\xf3P\\xc07(\\xb8\\x10\\xd5F\\x84x~\\x8b\\x82KQ\\xf5\\x1aX\\xcc?\\xa1\\xe0Z\\\\\\xe7O\\n\\xae\\x83$!M\\xc1M\\xfc\\x06!\\xa8\\xe0f\\x98\\xa29\\xc8p}\\xd4^\\x0ct\\x9d\\xda$\\x86\\x1b\\xa3\\xea\\xcd\\x14\\xd7\\xe60\\xdcJ\\xd7\\xa9\\xed\\xc7\\xf0\\x18\\xc4\\xed\\xda\\x91\\x0cwD\\xb5\\x8fe\\xe3T1\\xdc\\x19U\\x9f\\xc0\\xfa61<\\x91\\xb5Y\\xcc\\xf0\\xe4\\xa86\\xee(<\\x8d\\xb5_\\xc7\\xf0\\\\\\x86\\xff\\x99\\xe2\\xda\\xa85k\\xa3\\xc67F\\xd5\\x1b\\x95\\xf5?\\xec)\\xc8\\xef[\\xe2\\x19\\xdf<\\xbb\\xbd\\xb5\\xa3uN\\xa7gxk{[k{}gs\\xeb\\x82<\\xcf\\xd0\\x96\\x16\\xcf\\xe4\\xe6\\xb9M\\x9d\\x1d\\x9e\\xc9\\x8d\\x1d\\x8d\\xed\\x8b\\x1b\\x1b\\xf2*\\x1b\\xdb\\x1b\\xea\\x17\\xd4On\\x9c\\xbb\\xa8\\xa5\\xbe=\\xd2q\\x80R\\xefQ\\x1e\\xe0m\\x07\\x8e\\xe1)\\xce+,T\\x1f5wx\\xea=\\x9d\\xed\\xf5\\r\\x8d\\xf3\\xeb\\xdb/\\xf5\\xb4\\xce\\xf1t65F\\xcd=\\xb7\\xbduQ\\x1b\\xad\\x9e\\xdd:\\xbf\\xad~AscG\\xde\\xf8\\xfaNl\\xb3\\xc43\\xbc\\xbe\\xbd\\xb3\\xf1\\xccl\\x9e\\x8eEmm-\\xcd\\x8d\\r\\x9e9\\xad\\x0b:\\xf3<\\xd5\\xad\\x8b<\\xf3\\xeb\\x97y\\x16u4\\xe2\\x988\\x0f\\xad\\xf6t\\xb6zf\\xb77\\xd6w6\\xe6x\\x1a\\x9a;\\xdaZ\\xea\\x97\\xe5x\\xea\\x174x\\xda\\xda\\x9b\\xf1\\xe9ll\\xd2\\x88e}\\x87\\xa7\\xad\\xb1}~sg\\'\\x0e7k\\x19[SK\\xf3\\xec\\xc6\\x05t,|\\xd0\\xe1imW\\x919t\\x86\\x9csW\\xde\\xd6\\xde\\xda\\xb0hvg\\x8e\\x87\\x12\\t\\xfb\\xe6\\xd0>\\xea\\x04\\xcd\\x0b<K\\x9a\\x9ag7E\\xadl\\tN\\xda\\xbc`v\\xcb\\xa2\\x06\\xa4hd\\xf5\\xad\\x0bZ\\x96y2\\x9b\\xb3<\\x8d\\xf3g\\xe1Z\\xce4\\xc7\\x11~o\\xb5\\xacyC\\xf3\\x82\\xb9\\x9e\\xf6\\xc6\\x8e\\xce\\xf6\\xe6\\xd9\\x94{g&\\xa0\\xdd#c\\rd\\x14\\xc8l\\xc6Y:\\x1b\\xe7SV\\xb77\\xe3\\xac\\r\\xadK\\x16\\xb4\\xb4\\xd67\\xf4\\xa6^\\xbdL\\xaa\\xc6v\\xba\\x9dV\\x9c\\n\\xaf\\x8b:\\xdb\\x16uz\\x1a\\x1a\\xe96i\\x9b\\xa6\\xc6\\x96\\xb6\\xde\\x14E\\xb9Y\\xb0LiN\\x19\\x82\\x03\"}\\x9a\\x9ag5\\xe3\\x9a\\xf3\\x9a:;\\xdb\\x06\\x04\\x02K\\x96,\\xc9\\x9b\\xaf\\xd2/\\x0f\\x19\\x1e\\xe8\\\\\\xd6\\xd6:\\xb7\\xbd\\xbe\\xadiY\\x80\\xce\\xdf\\x11\\x80\\x8b\\xa0\\x15\\xdaa>\\xd4C\\x0bb\\xb3`\\x191\\xa1E\\xa2\\xff\\xaa\\xf4\\xb7\\x08g\\x9e]\\x0c\\x9dX.\\x80\\x06\\xbc\\xb6C\\x03\\x7f+\\xbf\\x8d\\x7f\\x86\\x7f\\x0ea\\x0f\\xbf\\x97\\x7f\\x0c\\x1e\\x06\\x0fZ\\xb5|\\xe8\\x0b%\\x88\\x8d\\x87f\\x98\\x8d\\xedZ\\xa1\\x03a\\x0e\\xf6\\xf5\\xc0p6Z\\x1b\\xbb\\xd6cM3b\\x0b \\x0f\\x9f\\x0c\\xc5\\xf1[\\xb0\\x9c\\x8cus\\xa1\\t\\x9fu\\xb0\\xbbF,\\x1b\\xb1\\xf5b\\xbc6`\\xcbJv\\xd7\\xc0\\xd6Q\\xcf\\x9e\\xcf\\x85E\\xd8\\x93\\xae\\xe8\\xdc\\x19\\x07\\x9c\\xd5\\xdesV\\x0f\\xf9i\\x87\\xb2\\x0e\\x0f\\x14\\xe3\\x0c\\x85\\xf8\\xe7\\xec^\\xcdl5\\x14\\xebd+o\\xc0\\xe7\\xf3\\xd9\\x08\\x97b\\x1d\\x9d\\x8b>i\\xc2\\xda\\xf3\\xef{.\\xbb_\\x84;W[\\xcf\\xc6r>\\xde\\xd3\\x19\\x9a\\xd9.\\xf3\\xb0\\'\\xa5\\x89<\\xce\\x12F-:C\\'[\\xcb\\xf9F\\xed`#\\xb6\\xe1^\\x9a\\x19u<XO\\xf7\\xd1\\xc9(Z\\xcdf\\xf4\\xb0u.\\xc3r\\x11\\xa3\\xa4\\xbcNy?jkZ\\xd7\\xca\\xd6\\xd4\\x8e-\\xea\\xd9\\x8c9x\\xdf\\xc0\\xda\\xb51Z-c52\\xf7=\\xec\\xff\\x8bjV\\xfa\\xceVFiT\\xee\\xeb\\xd9\\xd8ml\\xd5\\xf3\\xb1U\\'{F{\\xcdb\\xebP\\xe9\\xd4\\xc2vD{\\xa9\\xeb\\x92{t0\\x1a\\xb5\\x9fS3\\'\\xb2\\x87\\x9c?D\\xf36v\\xdf\\x80}f\\xe3}\\x0e\\xa3\\x97,I\\xf2\\xbc9\\x91y\\xce\\xdeA3\\x93\\x85%\\x8cN\\xb3\\xf1z~\\x9a-QvJ[\\xcf\\xc6\\xdd,bR\\xd1p^\\xda\\xd3>-\\x0c\\xcb\\xc4\\xf6YXR\\xf9\\x99\\xa5\\xd0\\xe5|\\xa3\\xcbk\\xf8\\xdf\\xd2\\xf6\\xcc\\xe8\\rl\\xa4\\xb9X\\xd7\\xce\\xa4\\xac\\x93qnvD\\xf7\\xce\\xb7\\x03u\\xf6s\\xd750J\\x06\\xe8N\\xe4\\xbdt\\xb2\\xf9T\\xad\\xa6\\xe3\\xcb{m\\xc0\\x9a%l\\xe7\\xadLg~O\\xf6\\xea{IU#\\xe3K\\xabr\\x95w%\\xe3\\xf4\\xff(kcW\\x0f[\\xad\\xcaMu\\x1c\\xda\\xb2\\x85\\xe9\\xd9o\\xcb\\xa8lo\\x16(\\x9c93\\xba\\xaa!\\xcd\\n\\x95\\xa9\\xfc\\xd0\\xf5\\xceb\\x94\\x96y\\xdb\\xc4h\\xde\\x86\\x96%\\x80\\x7f\\x96\\xb0?y\\x8c\\x17\\xbd\\xe5/O\\xd1\\xf0\\x00\\xe2\\xcb\\x18m\\xe62\\xea\\xb4\\xe1\\x08\\xcb\\xb0V\\xdd\\x7f\\x07D\\xdb\\xdfz\\xa6\\x15\\xea\\xfd\\x11\\xbc\\x8b\\xb6\\xcd\\x8d\\xbd,0\\xb3\\xc1\\xbd\\x9e\\xe3\\x8e\\x84\\x14\\xa1\\xafP!\\x8c\\x12\\x06\\xe3\\xb5\\x7f\\xaf\\x91\\x16`\\xff\\x8b\\xb0\\xddb\\xc6\\x0bj\\xd7\\x87\\xe2\\xb3v\\xdc5]G\\xfd\\xff\\x01\\xccs}\\xaf\\nendstream\\nendobj\\n14 0 obj\\n<</Filter /FlateDecode\\n/Length 353>> stream\\nx\\x9c]\\x92\\xdbj\\x840\\x10\\x86\\xef\\xf3\\x14\\xb9\\xdc^,\\x1a\\x8f[\\x10a\\xeb\\xb2\\xe0E\\x0f\\xd4\\xf6\\x01\\xdc8n\\x85\\x1a%\\xba\\x17\\xbe}\\xe3\\xfc{\\x80\\x06\\x14\\xbe\\xc9\\xfc3\\xff0\\xf1\\x8a\\xf2P\\x9an\\x96\\xde\\x87\\x1dtE\\xb3l;\\xd3X\\x9a\\x86\\x8b\\xd5$Ot\\xee\\x8cP\\x81l:=_\\x89\\xff\\xba\\xafG\\xe19q\\xb5L3\\xf5\\xa5i\\x07\\x91eRz\\x9f\\xeev\\x9a\\xed\"7\\xfbf8\\xd1\\x93\\xf0\\xdemC\\xb63g\\xb9\\xf9.*\\xc7\\xd5e\\x1c\\x7f\\xa9\\'3K_\\xe4\\xb9l\\xa8u\\x95^\\xeb\\xf1\\xad\\xeeIz,\\xdb\\x96\\x8d\\xbb\\xef\\xe6e\\xeb4\\x8f\\x8c\\xafe$\\x190+\\xb8\\xd1CC\\xd3Xk\\xb2\\xb59\\x93\\xc8|wr\\x99\\x1d\\xdd\\xc9\\x05\\x99\\xe6\\xdf\\xbd\\xf2!;\\xb5\\xfa\\xa7\\xb6\\x9c\\x1e\\xbat\\xdf\\x0f\\xfc\\x9ci\\x07\\x8a\\x99\\x82g\\xa6(\\x01\\xbd\\x80vL!t1ta\\x02\\nA\\xd0\\xc5\\xd0\\x85\\x07\\xd0\\x9e)\\n@G\\x10\\xfa%1\\x9b\\xbd\\xbaz\\x98\\xbc\\x0f\\xa5|\\xceS\\n\\xf6\\x0e,V\\xb0\\xa0\\xd0-\\x84\\x13\\x05\\x97\\xaa@\\x10f\\xdd<\\xac\\x83KgA@\\xc0)\\xa8\\x19\\xa1f\\x14\\xddFf_\\n\\xc1=\\x82\\xa8\\x99\\xa4\\x08\\x1eo#s\\xb0\\xe0`\\x8cF1\\xc6J\\xd1(\\x86<\\x86<M\\xaf\\xb3b\\xb8uG\\xeb[\\xba?\\x00}\\xb1\\xd6\\xed\\x9e\\x1f\\x1c/}]wg\\xe8\\xfe&\\xc7a\\\\U\\xeb\\xf7\\x07\\x9d\\xdb\\xbaw\\nendstream\\nendobj\\nxref\\n0 15\\n0000000000 65535 f \\n0000000015 00000 n \\n0000000154 00000 n \\n0000002829 00000 n \\n0000002876 00000 n \\n0000002931 00000 n \\n0000003154 00000 n \\n0000003264 00000 n \\n0000003374 00000 n \\n0000003486 00000 n \\n0000003596 00000 n \\n0000003729 00000 n \\n0000004345 00000 n \\n0000004572 00000 n \\n0000022277 00000 n \\ntrailer\\n<</Size 15\\n/Root 3 0 R\\n/Info 1 0 R>>\\nstartxref\\n22701\\n%%EOF'"
      ]
     },
     "execution_count": 25,
     "metadata": {},
     "output_type": "execute_result"
    }
   ],
   "source": [
    "p.to_image(filename='immm.pdf', show=True)"
   ]
  },
  {
   "cell_type": "code",
   "execution_count": 13,
   "metadata": {},
   "outputs": [
    {
     "data": {
      "text/html": [
       "<a href=\"c:\\MyProjects\\x\" download>csv results</a>"
      ],
      "text/plain": [
       "csv results at c:\\MyProjects\\x"
      ]
     },
     "execution_count": 13,
     "metadata": {},
     "output_type": "execute_result"
    }
   ],
   "source": [
    "p.to_csv('c:\\\\MyProjects\\\\x')"
   ]
  },
  {
   "cell_type": "markdown",
   "metadata": {},
   "source": [
    "  - ### <span style=\"color:#82CAFA\">*Note: the chart is interactive, hoover to the right upper corner to get the menu, click on the legend to toggle facets, hoover on the chart to get value and percentage*</span>"
   ]
  },
  {
   "cell_type": "code",
   "execution_count": null,
   "metadata": {},
   "outputs": [],
   "source": []
  },
  {
   "cell_type": "markdown",
   "metadata": {},
   "source": [
    "## Assign kql query result to a python variable"
   ]
  },
  {
   "cell_type": "code",
   "execution_count": null,
   "metadata": {},
   "outputs": [],
   "source": [
    "%kql my_bar_chart << pageViews | where client_City != '' | summarize count() by client_City | sort by count_ | limit 10 | render barchart title='my bar chart'"
   ]
  },
  {
   "cell_type": "markdown",
   "metadata": {},
   "source": [
    "  - ### <span style=\"color:#82CAFA\">*Note: nothing is displayed when the result is assigtned to a variable*</span>"
   ]
  },
  {
   "cell_type": "markdown",
   "metadata": {},
   "source": [
    "## Display kql result object"
   ]
  },
  {
   "cell_type": "code",
   "execution_count": null,
   "metadata": {},
   "outputs": [],
   "source": [
    "my_bar_chart"
   ]
  },
  {
   "cell_type": "markdown",
   "metadata": {},
   "source": [
    "## Access table data"
   ]
  },
  {
   "cell_type": "code",
   "execution_count": null,
   "metadata": {},
   "outputs": [],
   "source": [
    "my_bar_chart.show_table()"
   ]
  },
  {
   "cell_type": "code",
   "execution_count": null,
   "metadata": {},
   "outputs": [],
   "source": [
    "my_bar_chart[1]"
   ]
  },
  {
   "cell_type": "code",
   "execution_count": null,
   "metadata": {},
   "outputs": [],
   "source": [
    "my_bar_chart[1][1:]"
   ]
  },
  {
   "cell_type": "code",
   "execution_count": null,
   "metadata": {},
   "outputs": [],
   "source": [
    "my_bar_chart[1]['client_City']"
   ]
  },
  {
   "cell_type": "code",
   "execution_count": null,
   "metadata": {},
   "outputs": [],
   "source": [
    "my_bar_chart[1:5]"
   ]
  },
  {
   "cell_type": "code",
   "execution_count": null,
   "metadata": {},
   "outputs": [],
   "source": [
    "requests = %kql requests | project name, customDimensions | limit 5\n",
    "requests"
   ]
  },
  {
   "cell_type": "code",
   "execution_count": null,
   "metadata": {},
   "outputs": [],
   "source": [
    "requests[1:3]"
   ]
  },
  {
   "cell_type": "code",
   "execution_count": null,
   "metadata": {},
   "outputs": [],
   "source": [
    "requests[1]['name']"
   ]
  },
  {
   "cell_type": "code",
   "execution_count": null,
   "metadata": {},
   "outputs": [],
   "source": [
    "requests[1]['customDimensions']"
   ]
  },
  {
   "cell_type": "code",
   "execution_count": null,
   "metadata": {},
   "outputs": [],
   "source": [
    "requests[1]['customDimensions']['_MS.ProcessedByMetricExtractors']"
   ]
  },
  {
   "cell_type": "markdown",
   "metadata": {},
   "source": [
    "  - ### <span style=\"color:#82CAFA\">*Note: that you can access directly dynamic object data.*</span>"
   ]
  },
  {
   "cell_type": "code",
   "execution_count": null,
   "metadata": {},
   "outputs": [],
   "source": [
    "df = requests.to_dataframe()\n",
    "df"
   ]
  },
  {
   "cell_type": "code",
   "execution_count": null,
   "metadata": {},
   "outputs": [],
   "source": [
    "df['customDimensions'][0]['_MS.ProcessedByMetricExtractors']"
   ]
  },
  {
   "cell_type": "markdown",
   "metadata": {},
   "source": [
    "  - ### <span style=\"color:#82CAFA\">*Note: that access to data in dataframe is different, you first specify the column and then the row.*</span>"
   ]
  },
  {
   "cell_type": "code",
   "execution_count": null,
   "metadata": {},
   "outputs": [],
   "source": [
    "df['name'][1]"
   ]
  },
  {
   "cell_type": "markdown",
   "metadata": {},
   "source": [
    "  - ### <span style=\"color:#82CAFA\">*Note: that datetime in dataframe is Timestamp.*</span>"
   ]
  },
  {
   "cell_type": "markdown",
   "metadata": {},
   "source": [
    "## Cell mixed with single line kql queries "
   ]
  },
  {
   "cell_type": "code",
   "execution_count": null,
   "metadata": {},
   "outputs": [],
   "source": [
    "%kql bar_chart << pageViews | where client_City != '' | summarize count() by client_City | sort by count_ | limit 10 | render barchart title='my bar chart'\n",
    "print(bar_chart)\n",
    "%kql pie_chart << pageViews | where client_City != '' | summarize count() by client_City | sort by count_ | limit 10 | render piechart title='my pie chart'\n",
    "display(bar_chart)\n",
    "display(pie_chart)"
   ]
  },
  {
   "cell_type": "markdown",
   "metadata": {},
   "source": [
    "  - ### <span style=\"color:#82CAFA\">*Note: single line magics (starts with only one \\%) can share the same cell with python code*</span>"
   ]
  },
  {
   "cell_type": "markdown",
   "metadata": {},
   "source": [
    "## Multiline query "
   ]
  },
  {
   "cell_type": "code",
   "execution_count": null,
   "metadata": {},
   "outputs": [],
   "source": [
    "%%kql \n",
    "    pageViews \n",
    "    | where client_City != '' \n",
    "    | summarize count() by client_City \n",
    "    | sort by count_ \n",
    "    | limit 10\n",
    "    | render columnchart title='my column chart' "
   ]
  },
  {
   "cell_type": "markdown",
   "metadata": {},
   "source": [
    "  - ### <span style=\"color:#82CAFA\">*Note: that this is a multiline magic, it starts with \\%\\%. It can include only kql code*</span>"
   ]
  },
  {
   "cell_type": "markdown",
   "metadata": {},
   "source": [
    "## Show last chart result as a table"
   ]
  },
  {
   "cell_type": "code",
   "execution_count": null,
   "metadata": {},
   "outputs": [],
   "source": [
    "_.show_table()"
   ]
  },
  {
   "cell_type": "markdown",
   "metadata": {},
   "source": [
    "## Show last result in a popup window"
   ]
  },
  {
   "cell_type": "code",
   "execution_count": null,
   "metadata": {},
   "outputs": [],
   "source": [
    "_.popup()"
   ]
  },
  {
   "cell_type": "markdown",
   "metadata": {},
   "source": [
    "## Resize poup window, and to adjust the chart inside the window press F5"
   ]
  },
  {
   "cell_type": "markdown",
   "metadata": {},
   "source": [
    "  - ### <span style=\"color:#82CAFA\">*Note: when you F5, you loose the latest chart display state*</span>"
   ]
  },
  {
   "cell_type": "markdown",
   "metadata": {},
   "source": [
    "## Show last chart result as a table in a popup window"
   ]
  },
  {
   "cell_type": "code",
   "execution_count": null,
   "metadata": {},
   "outputs": [],
   "source": [
    "_kql_raw_result_.popup_table()"
   ]
  },
  {
   "cell_type": "markdown",
   "metadata": {},
   "source": [
    "## More complex chart"
   ]
  },
  {
   "cell_type": "code",
   "execution_count": null,
   "metadata": {},
   "outputs": [],
   "source": [
    "%%kql \n",
    "    pageViews \n",
    "    | where client_City != '' \n",
    "    | summarize count() by client_City \n",
    "    | sort by count_ \n",
    "    | extend count2 = count_*count_ \n",
    "    | limit 10 \n",
    "    | render piechart title='my pie chart #2' "
   ]
  },
  {
   "cell_type": "markdown",
   "metadata": {},
   "source": [
    "## Convert result data to dictionary of columns"
   ]
  },
  {
   "cell_type": "code",
   "execution_count": null,
   "metadata": {},
   "outputs": [],
   "source": [
    "dict_of_columns = _kql_raw_result_.to_dict()\n",
    "print(dict_of_columns)"
   ]
  },
  {
   "cell_type": "code",
   "execution_count": null,
   "metadata": {},
   "outputs": [],
   "source": [
    "_kql_raw_result_.to_csv('csv_file.csv')\n",
    "#%cat csv_file.csv"
   ]
  },
  {
   "cell_type": "markdown",
   "metadata": {},
   "source": [
    "# Get last kql query attributes "
   ]
  },
  {
   "cell_type": "markdown",
   "metadata": {},
   "source": [
    "## Query string"
   ]
  },
  {
   "cell_type": "code",
   "execution_count": null,
   "metadata": {},
   "outputs": [],
   "source": [
    "_kql_raw_result_.query"
   ]
  },
  {
   "cell_type": "markdown",
   "metadata": {},
   "source": [
    "## Query render title"
   ]
  },
  {
   "cell_type": "code",
   "execution_count": null,
   "metadata": {},
   "outputs": [],
   "source": [
    "_kql_raw_result_.title"
   ]
  },
  {
   "cell_type": "markdown",
   "metadata": {},
   "source": [
    "## Query render visualization"
   ]
  },
  {
   "cell_type": "code",
   "execution_count": null,
   "metadata": {},
   "outputs": [],
   "source": [
    "_kql_raw_result_.visualization"
   ]
  },
  {
   "cell_type": "markdown",
   "metadata": {},
   "source": [
    "## Number of records in query response "
   ]
  },
  {
   "cell_type": "code",
   "execution_count": null,
   "metadata": {},
   "outputs": [],
   "source": [
    "_kql_raw_result_.records_count"
   ]
  },
  {
   "cell_type": "markdown",
   "metadata": {},
   "source": [
    "## List of columns in query table response"
   ]
  },
  {
   "cell_type": "code",
   "execution_count": null,
   "metadata": {},
   "outputs": [],
   "source": [
    "_kql_raw_result_.columns_name"
   ]
  },
  {
   "cell_type": "markdown",
   "metadata": {},
   "source": [
    "## Kqlmagic time metric (in seconds)"
   ]
  },
  {
   "cell_type": "code",
   "execution_count": null,
   "metadata": {},
   "outputs": [],
   "source": [
    "_kql_raw_result_.start_time"
   ]
  },
  {
   "cell_type": "code",
   "execution_count": null,
   "metadata": {},
   "outputs": [],
   "source": [
    "_kql_raw_result_.end_time"
   ]
  },
  {
   "cell_type": "code",
   "execution_count": null,
   "metadata": {},
   "outputs": [],
   "source": [
    "_kql_raw_result_.elapsed_timespan"
   ]
  },
  {
   "cell_type": "markdown",
   "metadata": {},
   "source": [
    "## Query connection database@cluster"
   ]
  },
  {
   "cell_type": "code",
   "execution_count": null,
   "metadata": {},
   "outputs": [],
   "source": [
    "_kql_raw_result_.connection"
   ]
  },
  {
   "cell_type": "markdown",
   "metadata": {},
   "source": [
    "## Query Options (settings) "
   ]
  },
  {
   "cell_type": "code",
   "execution_count": null,
   "metadata": {},
   "outputs": [],
   "source": [
    "_kql_raw_result_.options"
   ]
  },
  {
   "cell_type": "markdown",
   "metadata": {},
   "source": [
    "## Completion query information (query metadata)"
   ]
  },
  {
   "cell_type": "code",
   "execution_count": null,
   "metadata": {},
   "outputs": [],
   "source": [
    "_kql_raw_result_.completion_query_info"
   ]
  },
  {
   "cell_type": "markdown",
   "metadata": {},
   "source": [
    "## Completion query resource consumption (query metadata)"
   ]
  },
  {
   "cell_type": "code",
   "execution_count": null,
   "metadata": {},
   "outputs": [],
   "source": [
    "_kql_raw_result_.completion_query_resource_consumption"
   ]
  },
  {
   "cell_type": "code",
   "execution_count": null,
   "metadata": {},
   "outputs": [],
   "source": [
    "_kql_raw_result_.completion_query_resource_consumption['resource_usage']['cache']['memory']['hits']"
   ]
  },
  {
   "cell_type": "markdown",
   "metadata": {},
   "source": [
    "## Completion query data set info (query metadata)"
   ]
  },
  {
   "cell_type": "code",
   "execution_count": null,
   "metadata": {},
   "outputs": [],
   "source": [
    " _kql_raw_result_.dataSetCompletion"
   ]
  },
  {
   "cell_type": "markdown",
   "metadata": {},
   "source": [
    "## Query raw json response"
   ]
  },
  {
   "cell_type": "code",
   "execution_count": null,
   "metadata": {
    "scrolled": false
   },
   "outputs": [],
   "source": [
    "_kql_raw_result_.raw_json"
   ]
  },
  {
   "cell_type": "code",
   "execution_count": null,
   "metadata": {},
   "outputs": [],
   "source": [
    "_kql_raw_result_.raw_json['Tables'][1]['TableName']"
   ]
  },
  {
   "cell_type": "code",
   "execution_count": null,
   "metadata": {},
   "outputs": [],
   "source": [
    "_kql_raw_result_.raw_json['Tables'][1]['Columns'][0]['ColumnName']"
   ]
  },
  {
   "cell_type": "code",
   "execution_count": null,
   "metadata": {},
   "outputs": [],
   "source": [
    "_kql_raw_result_.raw_json['Tables'][3]['Rows'][0][1]"
   ]
  },
  {
   "cell_type": "markdown",
   "metadata": {},
   "source": [
    "# Advanced part"
   ]
  },
  {
   "cell_type": "markdown",
   "metadata": {},
   "source": [
    "## Kql query with option -c2lv (-columns_to_local_vars)"
   ]
  },
  {
   "cell_type": "code",
   "execution_count": null,
   "metadata": {},
   "outputs": [],
   "source": [
    "%%kql -c2lv\n",
    "    pageViews \n",
    "    | where client_City != '' \n",
    "    | summarize count() by client_City \n",
    "    | sort by count_ | limit 10\n",
    "    | render columnchart title='my column chart' "
   ]
  },
  {
   "cell_type": "markdown",
   "metadata": {},
   "source": [
    "  - ### <span style=\"color:#82CAFA\">*Note: option are specified before the query*</span>\n",
    "  - ### <span style=\"color:#82CAFA\">*Note: c2lv is abbreviation of columns_to_local_vars options*</span>\n",
    "  - ### <span style=\"color:#82CAFA\">*Note: columns_to_local_vars option returns data result in local variables from column names*</span>"
   ]
  },
  {
   "cell_type": "markdown",
   "metadata": {},
   "source": [
    "### result data is assigned to local variables with columns names"
   ]
  },
  {
   "cell_type": "code",
   "execution_count": null,
   "metadata": {},
   "outputs": [],
   "source": [
    "client_City"
   ]
  },
  {
   "cell_type": "code",
   "execution_count": null,
   "metadata": {},
   "outputs": [],
   "source": [
    "count_"
   ]
  },
  {
   "cell_type": "markdown",
   "metadata": {},
   "source": [
    "  - ### <span style=\"color:#82CAFA\">*Note - current appid@appinsights is always shown*</span>"
   ]
  },
  {
   "cell_type": "markdown",
   "metadata": {},
   "source": [
    "## Kql query with negated option -f (-feedback)"
   ]
  },
  {
   "cell_type": "code",
   "execution_count": null,
   "metadata": {},
   "outputs": [],
   "source": [
    "%%kql -!feedback \n",
    "    pageViews \n",
    "    | where client_City != '' \n",
    "    | summarize count() by client_City \n",
    "    | sort by count_ \n",
    "    | limit 10 \n",
    "    | render barchart title='my bar chart'"
   ]
  },
  {
   "cell_type": "markdown",
   "metadata": {},
   "source": [
    "  - ### <span style=\"color:#82CAFA\">*Note: the feedback message 'Done..... records' was not displayed because of the negated feedback option*</span>\n",
    "  - ### <span style=\"color:#82CAFA\">*Note: option is negated by adding \\! before the option*</span>\n",
    "  - ### <span style=\"color:#82CAFA\">*Note: full option name instead of abbreviation can be used too*</span>\n",
    "  - ### <span style=\"color:#82CAFA\">*Note: feedback option is on by default, so to turn it off, it must be negated*</span>"
   ]
  },
  {
   "cell_type": "markdown",
   "metadata": {},
   "source": [
    "## Get default value of option feedback (f)"
   ]
  },
  {
   "cell_type": "code",
   "execution_count": null,
   "metadata": {},
   "outputs": [],
   "source": [
    "%config Kqlmagic.feedback"
   ]
  },
  {
   "cell_type": "markdown",
   "metadata": {},
   "source": [
    "  - ### <span style=\"color:#82CAFA\">*Note: options have defaults, and can be accessed to read or modify using %config magic*</span>"
   ]
  },
  {
   "cell_type": "markdown",
   "metadata": {},
   "source": [
    "## Set default value of option feedback (f) to False"
   ]
  },
  {
   "cell_type": "code",
   "execution_count": null,
   "metadata": {},
   "outputs": [],
   "source": [
    "%config Kqlmagic.feedback=False\n",
    "%config Kqlmagic.feedback"
   ]
  },
  {
   "cell_type": "code",
   "execution_count": null,
   "metadata": {},
   "outputs": [],
   "source": [
    "%%kql \n",
    "    pageViews \n",
    "    | where client_City != '' \n",
    "    | summarize count() by client_City \n",
    "    | sort by count_ \n",
    "    | extend count2 = count_*count_ \n",
    "    | limit 5"
   ]
  },
  {
   "cell_type": "markdown",
   "metadata": {},
   "source": [
    "  - ### <span style=\"color:#82CAFA\">*Note: feedback message was not displayed, because the default feedback option was set to False*</span>"
   ]
  },
  {
   "cell_type": "code",
   "execution_count": null,
   "metadata": {},
   "outputs": [],
   "source": [
    "%config Kqlmagic.feedback=True\n",
    "%config Kqlmagic.feedback"
   ]
  },
  {
   "cell_type": "markdown",
   "metadata": {},
   "source": [
    "## Show all option defaults with help"
   ]
  },
  {
   "cell_type": "code",
   "execution_count": null,
   "metadata": {},
   "outputs": [],
   "source": [
    "%config Kqlmagic"
   ]
  },
  {
   "cell_type": "markdown",
   "metadata": {},
   "source": [
    "## Show query results in a popup window"
   ]
  },
  {
   "cell_type": "code",
   "execution_count": null,
   "metadata": {},
   "outputs": [],
   "source": [
    "%%kql -pw \n",
    "    let randn = () {rand() + rand() + rand() + rand() + rand() + rand() + rand() + rand() + rand() + rand() + rand() + rand() + rand() + rand()};\n",
    "range c from 1 to 1000 step 1 \n",
    "    | limit 1000\n",
    "    | extend e1 = randn()\n",
    "    | extend e2 = randn()\n",
    "    | extend e3 = randn()\n",
    "    | extend e4 = randn()\n",
    "    | extend e5 = randn()\n",
    "    | project e1,e2,e3,e4,e5\n",
    "    | render scatterchart title=\"Michael's chart\""
   ]
  },
  {
   "cell_type": "markdown",
   "metadata": {},
   "source": [
    "  - ### <span style=\"color:#82CAFA\">*Note: popup_window option (abbr: pw) cause the result to be displayed in a popup window*</span>"
   ]
  },
  {
   "cell_type": "markdown",
   "metadata": {},
   "source": [
    "## Empty table"
   ]
  },
  {
   "cell_type": "code",
   "execution_count": null,
   "metadata": {},
   "outputs": [],
   "source": [
    "%%kql \n",
    "    pageViews \n",
    "    | where client_City != '' \n",
    "    | summarize count() by client_City \n",
    "    | sort by count_ \n",
    "    | extend count2 = count_*count_ \n",
    "    | limit 0"
   ]
  },
  {
   "cell_type": "code",
   "execution_count": null,
   "metadata": {},
   "outputs": [],
   "source": [
    "%%kql \n",
    "    pageViews \n",
    "    | where client_City != '' \n",
    "    | summarize count() by client_City \n",
    "    | sort by count_ \n",
    "    | extend count2 = count_*count_ \n",
    "    | limit 0 \n",
    "    | render piechart title='my chart'"
   ]
  },
  {
   "cell_type": "code",
   "execution_count": null,
   "metadata": {},
   "outputs": [],
   "source": [
    "len(_kql_raw_result_)"
   ]
  },
  {
   "cell_type": "code",
   "execution_count": null,
   "metadata": {},
   "outputs": [],
   "source": [
    "_kql_raw_result_.popup()"
   ]
  },
  {
   "cell_type": "code",
   "execution_count": null,
   "metadata": {},
   "outputs": [],
   "source": [
    "_kql_raw_result_.show_table()"
   ]
  },
  {
   "cell_type": "code",
   "execution_count": null,
   "metadata": {},
   "outputs": [],
   "source": [
    "df = _kql_raw_result_.to_dataframe()\n",
    "df"
   ]
  },
  {
   "cell_type": "code",
   "execution_count": null,
   "metadata": {},
   "outputs": [],
   "source": [
    "df.to_json()"
   ]
  },
  {
   "cell_type": "code",
   "execution_count": null,
   "metadata": {
    "scrolled": true
   },
   "outputs": [],
   "source": [
    "_kql_raw_result_.raw_json"
   ]
  },
  {
   "cell_type": "markdown",
   "metadata": {},
   "source": [
    "## Kql request with fork - return multiple tables"
   ]
  },
  {
   "cell_type": "code",
   "execution_count": null,
   "metadata": {},
   "outputs": [],
   "source": [
    "%%kql \n",
    "    pageViews \n",
    "    | where client_City != '' \n",
    "    | summarize count() by client_City \n",
    "    | sort by count_ \n",
    "    | extend count2 = count_*count_ \n",
    "    | fork (limit 10) (project client_City \n",
    "    | limit 5)"
   ]
  },
  {
   "cell_type": "code",
   "execution_count": null,
   "metadata": {},
   "outputs": [],
   "source": [
    "_kql_raw_result_.fork_result(1)"
   ]
  },
  {
   "cell_type": "markdown",
   "metadata": {},
   "source": [
    "## Submit same query"
   ]
  },
  {
   "cell_type": "code",
   "execution_count": null,
   "metadata": {
    "scrolled": false
   },
   "outputs": [],
   "source": [
    " _kql_raw_result_.submit()"
   ]
  },
  {
   "cell_type": "code",
   "execution_count": null,
   "metadata": {},
   "outputs": [],
   "source": [
    " _kql_raw_result_.fork_result(1)"
   ]
  },
  {
   "cell_type": "markdown",
   "metadata": {},
   "source": [
    "## Refresh query"
   ]
  },
  {
   "cell_type": "code",
   "execution_count": null,
   "metadata": {},
   "outputs": [],
   "source": [
    "_kql_raw_result_.fork_result(1).refresh()"
   ]
  },
  {
   "cell_type": "code",
   "execution_count": null,
   "metadata": {},
   "outputs": [],
   "source": [
    "_kql_raw_result_.fork_result(0)"
   ]
  },
  {
   "cell_type": "code",
   "execution_count": null,
   "metadata": {},
   "outputs": [],
   "source": [
    "_kql_raw_result_"
   ]
  },
  {
   "cell_type": "code",
   "execution_count": null,
   "metadata": {},
   "outputs": [],
   "source": []
  }
 ],
 "metadata": {
  "kernelspec": {
   "display_name": "Python 3",
   "language": "python",
   "name": "python3"
  },
  "language_info": {
   "codemirror_mode": {
    "name": "ipython",
    "version": 3
   },
   "file_extension": ".py",
   "mimetype": "text/x-python",
   "name": "python",
   "nbconvert_exporter": "python",
   "pygments_lexer": "ipython3",
   "version": "3.7.3"
  }
 },
 "nbformat": 4,
 "nbformat_minor": 2
}
