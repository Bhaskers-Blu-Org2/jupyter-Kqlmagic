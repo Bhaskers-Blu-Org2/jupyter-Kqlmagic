{
 "cells": [
  {
   "cell_type": "markdown",
   "metadata": {},
   "source": [
    " # Kqlmagic  - __palette__ features\n",
    "***\n",
    "Explains how to customize and use Kqlmagic **palette** features\n",
    "***\n",
    "***\n",
    "\n"
   ]
  },
  {
   "cell_type": "markdown",
   "metadata": {},
   "source": [
    "## Make sure that you have the lastest version of  Kqlmagic\n",
    "Download Kqlmagic from PyPI and install/update\n",
    "(if latest version ims already installed you can skip this step)"
   ]
  },
  {
   "cell_type": "code",
   "execution_count": null,
   "metadata": {},
   "outputs": [],
   "source": [
    "#!pip install Kqlmagic --upgrade"
   ]
  },
  {
   "cell_type": "markdown",
   "metadata": {},
   "source": [
    "## Add Kqlmagic to notebook magics"
   ]
  },
  {
   "cell_type": "code",
   "execution_count": 1,
   "metadata": {},
   "outputs": [
    {
     "name": "stdout",
     "output_type": "stream",
     "text": [
      "C:\\My Projects\\jupyter-Kqlmagic-microsoft-vsc\\azure\n"
     ]
    },
    {
     "data": {
      "text/html": [
       "<html>\n",
       "            <head>\n",
       "            <style>\n",
       "            .kql-magic-banner {\n",
       "                display: flex; \n",
       "                background-color: #d9edf7;\n",
       "            }\n",
       "            .kql-magic-banner > div {\n",
       "                margin: 10px; \n",
       "                padding: 20px; \n",
       "                color: #3a87ad; \n",
       "                font-size: 13px;\n",
       "            }\n",
       "            </style>\n",
       "            </head>\n",
       "            <body>\n",
       "                <div class='kql-magic-banner'>\n",
       "                    <div><img src='data:image/png;base64,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'></div>\n",
       "                    <div>\n",
       "                        <p>Kusto is a log analytics cloud platform optimized for ad-hoc big data queries. Read more about it here: http://aka.ms/kdocs</p>\n",
       "                        <p>   &bull; kql language reference: Click on 'Help' tab > and Select 'kql referece'<br>\n",
       "                          &bull; Kqlmagic configuarion: Run in cell '%config Kqlmagic'<br>\n",
       "                          &bull; Kqlmagic syntax: Run in cell '%kql?'<br>\n",
       "                          &bull; Kqlmagic upgrate syntax: Run in cell '!pip install Kqlmagic --no-cache-dir --upgrade'<br>\n",
       "                    </div>\n",
       "                </div>\n",
       "            </body>\n",
       "            </html>"
      ],
      "text/plain": [
       "<IPython.core.display.HTML object>"
      ]
     },
     "metadata": {},
     "output_type": "display_data"
    },
    {
     "data": {
      "text/html": [
       "<html>\n",
       "        <head>\n",
       "        \n",
       "        </head>\n",
       "        <body>\n",
       "        <div><p style='padding: 10px; color: #3a87ad; background-color: #d9edf7; border-color: #bce9f1'>Kqlmagic&nbsppackage&nbspis&nbspupdated&nbspfrequently.&nbspRun&nbsp&apos;!pip&nbspinstall&nbspKqlmagic&nbsp--no-cache-dir&nbsp--upgrade&apos;&nbspto&nbspuse&nbspthe&nbsplatest&nbspversion.<br>Kqlmagic&nbspversion:&nbsp0.1.61,&nbspsource:&nbsphttps://github.com/Microsoft/jupyter-Kqlmagic</p></div>\n",
       "        </body>\n",
       "        </html>"
      ],
      "text/plain": [
       "<IPython.core.display.HTML object>"
      ]
     },
     "metadata": {},
     "output_type": "display_data"
    },
    {
     "data": {
      "application/javascript": [
       "IPython.notebook.kernel.reconnect();"
      ],
      "text/plain": [
       "<IPython.core.display.Javascript object>"
      ]
     },
     "metadata": {},
     "output_type": "display_data"
    },
    {
     "data": {
      "application/javascript": [
       "IPython.notebook.kernel.execute(\"NOTEBOOK_URL = '\" + window.location + \"'\");"
      ],
      "text/plain": [
       "<IPython.core.display.Javascript object>"
      ]
     },
     "metadata": {},
     "output_type": "display_data"
    },
    {
     "name": "stdout",
     "output_type": "stream",
     "text": [
      "c:\\My Projects\\jupyter-Kqlmagic-microsoft-vsc\\notebooks\n",
      "popd -> c:\\My Projects\\jupyter-Kqlmagic-microsoft-vsc\\notebooks\n"
     ]
    }
   ],
   "source": [
    "%pushd C:\\My Projects\\jupyter-Kqlmagic-microsoft-vsc\\azure\n",
    "%reload_ext Kqlmagic\n",
    "%popd"
   ]
  },
  {
   "cell_type": "markdown",
   "metadata": {},
   "source": [
    "## Authenticate to get access to data"
   ]
  },
  {
   "cell_type": "code",
   "execution_count": 2,
   "metadata": {},
   "outputs": [
    {
     "data": {
      "text/html": [
       "<!DOCTYPE html>\n",
       "                    <html><body><script>\n",
       "\n",
       "                        // close authentication window\n",
       "                        if (kql_MagicUserCodeAuthWindow && kql_MagicUserCodeAuthWindow.opener != null && !kql_MagicUserCodeAuthWindow.closed) {\n",
       "                            kql_MagicUserCodeAuthWindow.close()\n",
       "                        }\n",
       "                        // TODO: make sure, you clear the right cell. BTW, not sure it is a must to do any clearing\n",
       "\n",
       "                        // clear output cell\n",
       "                        Jupyter.notebook.clear_output(Jupyter.notebook.get_selected_index())\n",
       "\n",
       "                        // TODO: if in run all mode, move to last cell, otherwise move to next cell\n",
       "                        // move to next cell\n",
       "\n",
       "                    </script></body></html>"
      ],
      "text/plain": [
       "<IPython.core.display.HTML object>"
      ]
     },
     "metadata": {},
     "output_type": "display_data"
    },
    {
     "data": {
      "text/html": [
       "<!DOCTYPE html>\n",
       "            <html><body>\n",
       "\n",
       "            <button onclick=\"this.style.visibility='visible';kql_MagicLaunchWindowFunction('Kqlmagic_temp_files/_Samples_at_help_schema.html','fullscreen=no,directories=no,location=no,menubar=no,resizable=yes,scrollbars=yes,status=no,titlebar=no,toolbar=no,','_Samples_at_help_schema','')\">popup schema Samples@help</button>\n",
       "\n",
       "            <script>\n",
       "\n",
       "            function kql_MagicLaunchWindowFunction(file_path, window_params, window_name, notebooks_host) {\n",
       "                var url;\n",
       "                if (file_path.startsWith('http')) {\n",
       "                    url = file_path;\n",
       "                } else {\n",
       "                    var base_url = '';\n",
       "\n",
       "                    // check if azure notebook\n",
       "                    var azure_host = (notebooks_host == null || notebooks_host.length == 0) ? 'https://notebooks.azure.com' : notebooks_host;\n",
       "                    var start = azure_host.search('//');\n",
       "                    var azure_host_suffix = '.' + azure_host.substring(start+2);\n",
       "\n",
       "                    var loc = String(window.location);\n",
       "                    var end = loc.search(azure_host_suffix);\n",
       "                    start = loc.search('//');\n",
       "                    if (start > 0 && end > 0) {\n",
       "                        var parts = loc.substring(start+2, end).split('-');\n",
       "                        if (parts.length == 2) {\n",
       "                            var library = parts[0];\n",
       "                            var user = parts[1];\n",
       "                            base_url = azure_host + '/api/user/' +user+ '/library/' +library+ '/html/';\n",
       "                        }\n",
       "                    }\n",
       "\n",
       "                    // check if local jupyter lab\n",
       "                    if (base_url.length == 0) {\n",
       "                        var configDataScipt  = document.getElementById('jupyter-config-data');\n",
       "                        if (configDataScipt != null) {\n",
       "                            var jupyterConfigData = JSON.parse(configDataScipt.textContent);\n",
       "                            if (jupyterConfigData['appName'] == 'JupyterLab' && jupyterConfigData['serverRoot'] != null &&  jupyterConfigData['treeUrl'] != null) {\n",
       "                                var basePath = 'c:/My Projects/jupyter-Kqlmagic-microsoft-vsc/notebooks' + '/';\n",
       "                                if (basePath.startsWith(jupyterConfigData['serverRoot'])) {\n",
       "                                    base_url = '/files/' + basePath.substring(jupyterConfigData['serverRoot'].length+1);\n",
       "                                }\n",
       "                            } \n",
       "                        }\n",
       "                    }\n",
       "\n",
       "                    // assume local jupyter notebook\n",
       "                    if (base_url.length == 0) {\n",
       "\n",
       "                        var parts = loc.split('/');\n",
       "                        parts.pop();\n",
       "                        base_url = parts.join('/') + '/';\n",
       "                    }\n",
       "                    url = base_url + file_path;\n",
       "                }\n",
       "\n",
       "                window.focus();\n",
       "                var w = screen.width / 2;\n",
       "                var h = screen.height / 2;\n",
       "                params = 'width='+w+',height='+h;\n",
       "                kql_Magic__Samples_at_help_schema = window.open(url, window_name, window_params + params);\n",
       "            }\n",
       "            </script>\n",
       "\n",
       "            </body></html>"
      ],
      "text/plain": [
       "<IPython.core.display.HTML object>"
      ]
     },
     "metadata": {},
     "output_type": "display_data"
    },
    {
     "data": {
      "application/javascript": [
       "IPython.notebook.kernel.reconnect();"
      ],
      "text/plain": [
       "<IPython.core.display.Javascript object>"
      ]
     },
     "metadata": {},
     "output_type": "display_data"
    }
   ],
   "source": [
    "%kql kusto://code;cluster='help';database='Samples'"
   ]
  },
  {
   "cell_type": "markdown",
   "metadata": {},
   "source": [
    "## Query and render to piechart"
   ]
  },
  {
   "cell_type": "code",
   "execution_count": 3,
   "metadata": {},
   "outputs": [
    {
     "data": {
      "text/html": [
       "<html>\n",
       "        <head>\n",
       "        \n",
       "        </head>\n",
       "        <body>\n",
       "        <div><p style='padding: 10px; color: #3a87ad; background-color: #d9edf7; border-color: #bce9f1'>&nbsp*&nbspSamples@help</p></div>\n",
       "        </body>\n",
       "        </html>"
      ],
      "text/plain": [
       "<IPython.core.display.HTML object>"
      ]
     },
     "metadata": {},
     "output_type": "display_data"
    },
    {
     "data": {
      "application/vnd.jupyter.widget-view+json": {
       "model_id": "704d552a801e46ffbdcb1893f1f6a08d",
       "version_major": 2,
       "version_minor": 0
      },
      "text/plain": [
       "FigureWidget({\n",
       "    'data': [{'domain': {'x': [0.0, 1.0], 'y': [0.0, 1.0]},\n",
       "              'labels': [TEXAS, KAN…"
      ]
     },
     "metadata": {},
     "output_type": "display_data"
    },
    {
     "data": {
      "text/html": [
       "<html>\n",
       "        <head>\n",
       "        \n",
       "        </head>\n",
       "        <body>\n",
       "        <div><p style='padding: 10px; color: #3a87ad; background-color: #d9edf7; border-color: #bce9f1'>Done&nbsp(00:00.766):&nbsp10&nbsprecords</p></div>\n",
       "        </body>\n",
       "        </html>"
      ],
      "text/plain": [
       "<IPython.core.display.HTML object>"
      ]
     },
     "metadata": {},
     "output_type": "display_data"
    },
    {
     "data": {
      "text/html": [],
      "text/plain": [
       "[{'State': 'TEXAS', 'count_': 4701},\n",
       " {'State': 'KANSAS', 'count_': 3166},\n",
       " {'State': 'IOWA', 'count_': 2337},\n",
       " {'State': 'ILLINOIS', 'count_': 2022},\n",
       " {'State': 'MISSOURI', 'count_': 2016},\n",
       " {'State': 'GEORGIA', 'count_': 1983},\n",
       " {'State': 'MINNESOTA', 'count_': 1881},\n",
       " {'State': 'WISCONSIN', 'count_': 1850},\n",
       " {'State': 'NEBRASKA', 'count_': 1766},\n",
       " {'State': 'NEW YORK', 'count_': 1750}]"
      ]
     },
     "execution_count": 3,
     "metadata": {},
     "output_type": "execute_result"
    }
   ],
   "source": [
    "%%kql  \n",
    "    StormEvents \n",
    "    | summarize count() by State\n",
    "    | sort by count_ \n",
    "    | limit 10 \n",
    "    | render piechart"
   ]
  },
  {
   "cell_type": "markdown",
   "metadata": {},
   "source": [
    "## Use palette Reds for the piechart\n",
    "- set option -palette_name or -pn to Reds"
   ]
  },
  {
   "cell_type": "code",
   "execution_count": 4,
   "metadata": {},
   "outputs": [
    {
     "data": {
      "text/html": [
       "<html>\n",
       "        <head>\n",
       "        \n",
       "        </head>\n",
       "        <body>\n",
       "        <div><p style='padding: 10px; color: #3a87ad; background-color: #d9edf7; border-color: #bce9f1'>&nbsp*&nbspSamples@help</p></div>\n",
       "        </body>\n",
       "        </html>"
      ],
      "text/plain": [
       "<IPython.core.display.HTML object>"
      ]
     },
     "metadata": {},
     "output_type": "display_data"
    },
    {
     "data": {
      "application/vnd.jupyter.widget-view+json": {
       "model_id": "74206d868f814ad397b17ae701ecdc3f",
       "version_major": 2,
       "version_minor": 0
      },
      "text/plain": [
       "FigureWidget({\n",
       "    'data': [{'domain': {'x': [0.0, 1.0], 'y': [0.0, 1.0]},\n",
       "              'labels': [TEXAS, KAN…"
      ]
     },
     "metadata": {},
     "output_type": "display_data"
    },
    {
     "data": {
      "text/html": [
       "<html>\n",
       "        <head>\n",
       "        \n",
       "        </head>\n",
       "        <body>\n",
       "        <div><p style='padding: 10px; color: #3a87ad; background-color: #d9edf7; border-color: #bce9f1'>Done&nbsp(00:00.849):&nbsp10&nbsprecords</p></div>\n",
       "        </body>\n",
       "        </html>"
      ],
      "text/plain": [
       "<IPython.core.display.HTML object>"
      ]
     },
     "metadata": {},
     "output_type": "display_data"
    },
    {
     "data": {
      "text/html": [],
      "text/plain": [
       "[{'State': 'TEXAS', 'count_': 4701},\n",
       " {'State': 'KANSAS', 'count_': 3166},\n",
       " {'State': 'IOWA', 'count_': 2337},\n",
       " {'State': 'ILLINOIS', 'count_': 2022},\n",
       " {'State': 'MISSOURI', 'count_': 2016},\n",
       " {'State': 'GEORGIA', 'count_': 1983},\n",
       " {'State': 'MINNESOTA', 'count_': 1881},\n",
       " {'State': 'WISCONSIN', 'count_': 1850},\n",
       " {'State': 'NEBRASKA', 'count_': 1766},\n",
       " {'State': 'NEW YORK', 'count_': 1750}]"
      ]
     },
     "execution_count": 4,
     "metadata": {},
     "output_type": "execute_result"
    }
   ],
   "source": [
    "%%kql  -palette_name Reds \n",
    "    StormEvents \n",
    "    | summarize count() by State\n",
    "    | sort by count_ \n",
    "    | limit 10 \n",
    "    | render piechart"
   ]
  },
  {
   "cell_type": "markdown",
   "metadata": {},
   "source": [
    "  - ### <span style=\"color:#82CAFA\">*Note - to set a different palette, use option -palette_name*</span>"
   ]
  },
  {
   "cell_type": "markdown",
   "metadata": {},
   "source": [
    "## Use desaturated Reds for the piechart\n",
    "- set option -palette_desaturation or -pd with a value between 0 to 1"
   ]
  },
  {
   "cell_type": "code",
   "execution_count": 5,
   "metadata": {},
   "outputs": [
    {
     "data": {
      "text/html": [
       "<html>\n",
       "        <head>\n",
       "        \n",
       "        </head>\n",
       "        <body>\n",
       "        <div><p style='padding: 10px; color: #3a87ad; background-color: #d9edf7; border-color: #bce9f1'>&nbsp*&nbspSamples@help</p></div>\n",
       "        </body>\n",
       "        </html>"
      ],
      "text/plain": [
       "<IPython.core.display.HTML object>"
      ]
     },
     "metadata": {},
     "output_type": "display_data"
    },
    {
     "data": {
      "application/vnd.jupyter.widget-view+json": {
       "model_id": "96f5f47514bf4c68b2297cc15277d358",
       "version_major": 2,
       "version_minor": 0
      },
      "text/plain": [
       "FigureWidget({\n",
       "    'data': [{'domain': {'x': [0.0, 1.0], 'y': [0.0, 1.0]},\n",
       "              'labels': [TEXAS, KAN…"
      ]
     },
     "metadata": {},
     "output_type": "display_data"
    },
    {
     "data": {
      "text/html": [
       "<html>\n",
       "        <head>\n",
       "        \n",
       "        </head>\n",
       "        <body>\n",
       "        <div><p style='padding: 10px; color: #3a87ad; background-color: #d9edf7; border-color: #bce9f1'>Done&nbsp(00:00.762):&nbsp10&nbsprecords</p></div>\n",
       "        </body>\n",
       "        </html>"
      ],
      "text/plain": [
       "<IPython.core.display.HTML object>"
      ]
     },
     "metadata": {},
     "output_type": "display_data"
    },
    {
     "data": {
      "text/html": [],
      "text/plain": [
       "[{'State': 'TEXAS', 'count_': 4701},\n",
       " {'State': 'KANSAS', 'count_': 3166},\n",
       " {'State': 'IOWA', 'count_': 2337},\n",
       " {'State': 'ILLINOIS', 'count_': 2022},\n",
       " {'State': 'MISSOURI', 'count_': 2016},\n",
       " {'State': 'GEORGIA', 'count_': 1983},\n",
       " {'State': 'MINNESOTA', 'count_': 1881},\n",
       " {'State': 'WISCONSIN', 'count_': 1850},\n",
       " {'State': 'NEBRASKA', 'count_': 1766},\n",
       " {'State': 'NEW YORK', 'count_': 1750}]"
      ]
     },
     "execution_count": 5,
     "metadata": {},
     "output_type": "execute_result"
    }
   ],
   "source": [
    "%%kql  -palette_name Reds -palette_desaturation 0.5 \n",
    "    StormEvents \n",
    "    | summarize count() by State\n",
    "    | sort by count_ \n",
    "    | limit 10 \n",
    "    | render piechart"
   ]
  },
  {
   "cell_type": "markdown",
   "metadata": {},
   "source": [
    "## Show current default palette "
   ]
  },
  {
   "cell_type": "code",
   "execution_count": 6,
   "metadata": {},
   "outputs": [
    {
     "data": {
      "text/html": [
       "<div style=\"display:inline-block;padding:10px;\"><div>tab10 (10 colors)</div><div style=\"background-color:rgb(31, 118, 179);height:20px;width:20px;display:inline-block;\"></div><div style=\"background-color:rgb(254, 127, 14);height:20px;width:20px;display:inline-block;\"></div><div style=\"background-color:rgb(44, 160, 44);height:20px;width:20px;display:inline-block;\"></div><div style=\"background-color:rgb(214, 39, 39);height:20px;width:20px;display:inline-block;\"></div><div style=\"background-color:rgb(147, 102, 189);height:20px;width:20px;display:inline-block;\"></div><div style=\"background-color:rgb(140, 86, 74);height:20px;width:20px;display:inline-block;\"></div><div style=\"background-color:rgb(227, 119, 193);height:20px;width:20px;display:inline-block;\"></div><div style=\"background-color:rgb(127, 127, 127);height:20px;width:20px;display:inline-block;\"></div><div style=\"background-color:rgb(188, 189, 33);height:20px;width:20px;display:inline-block;\"></div><div style=\"background-color:rgb(23, 189, 206);height:20px;width:20px;display:inline-block;\"></div></div>"
      ],
      "text/plain": [
       "<IPython.core.display.HTML object>"
      ]
     },
     "metadata": {},
     "output_type": "display_data"
    }
   ],
   "source": [
    "%kql -palette"
   ]
  },
  {
   "cell_type": "markdown",
   "metadata": {},
   "source": [
    "### palette desaturated by half (0.5)\n",
    "- -pd is an abreviation of -palette_desaturation\n",
    "- desturation value must be between  to 1"
   ]
  },
  {
   "cell_type": "code",
   "execution_count": 7,
   "metadata": {},
   "outputs": [
    {
     "data": {
      "text/html": [
       "<div style=\"display:inline-block;padding:10px;\"><div>tab10 (10 colors, desaturation 0.5)</div><div style=\"background-color:rgb(68, 112, 142);height:20px;width:20px;display:inline-block;\"></div><div style=\"background-color:rgb(194, 130, 74);height:20px;width:20px;display:inline-block;\"></div><div style=\"background-color:rgb(73, 131, 73);height:20px;width:20px;display:inline-block;\"></div><div style=\"background-color:rgb(170, 82, 83);height:20px;width:20px;display:inline-block;\"></div><div style=\"background-color:rgb(147, 124, 167);height:20px;width:20px;display:inline-block;\"></div><div style=\"background-color:rgb(123, 96, 91);height:20px;width:20px;display:inline-block;\"></div><div style=\"background-color:rgb(199, 146, 183);height:20px;width:20px;display:inline-block;\"></div><div style=\"background-color:rgb(127, 127, 127);height:20px;width:20px;display:inline-block;\"></div><div style=\"background-color:rgb(149, 150, 72);height:20px;width:20px;display:inline-block;\"></div><div style=\"background-color:rgb(69, 152, 161);height:20px;width:20px;display:inline-block;\"></div></div>"
      ],
      "text/plain": [
       "<IPython.core.display.HTML object>"
      ]
     },
     "metadata": {},
     "output_type": "display_data"
    }
   ],
   "source": [
    "%kql -palette -pd 0.5"
   ]
  },
  {
   "cell_type": "markdown",
   "metadata": {},
   "source": [
    "  - ### <span style=\"color:#82CAFA\">*Note - desaturation value is explicitly specified only if it is less than 1*</span>"
   ]
  },
  {
   "cell_type": "markdown",
   "metadata": {},
   "source": [
    "### palette extended to 40 colors\n",
    "- -pc is an abreviation of palettte_colors"
   ]
  },
  {
   "cell_type": "code",
   "execution_count": 8,
   "metadata": {},
   "outputs": [
    {
     "data": {
      "text/html": [
       "<div style=\"display:inline-block;padding:10px;\"><div>tab10 (40 colors, desaturation 0.5)</div><div style=\"background-color:rgb(68, 112, 142);height:20px;width:20px;display:inline-block;\"></div><div style=\"background-color:rgb(194, 130, 74);height:20px;width:20px;display:inline-block;\"></div><div style=\"background-color:rgb(73, 131, 73);height:20px;width:20px;display:inline-block;\"></div><div style=\"background-color:rgb(170, 82, 83);height:20px;width:20px;display:inline-block;\"></div><div style=\"background-color:rgb(147, 124, 167);height:20px;width:20px;display:inline-block;\"></div><div style=\"background-color:rgb(123, 96, 91);height:20px;width:20px;display:inline-block;\"></div><div style=\"background-color:rgb(199, 146, 183);height:20px;width:20px;display:inline-block;\"></div><div style=\"background-color:rgb(127, 127, 127);height:20px;width:20px;display:inline-block;\"></div><div style=\"background-color:rgb(149, 150, 72);height:20px;width:20px;display:inline-block;\"></div><div style=\"background-color:rgb(69, 152, 161);height:20px;width:20px;display:inline-block;\"></div><div style=\"background-color:rgb(68, 112, 142);height:20px;width:20px;display:inline-block;\"></div><div style=\"background-color:rgb(194, 130, 74);height:20px;width:20px;display:inline-block;\"></div><div style=\"background-color:rgb(73, 131, 73);height:20px;width:20px;display:inline-block;\"></div><div style=\"background-color:rgb(170, 82, 83);height:20px;width:20px;display:inline-block;\"></div><div style=\"background-color:rgb(147, 124, 167);height:20px;width:20px;display:inline-block;\"></div><div style=\"background-color:rgb(123, 96, 91);height:20px;width:20px;display:inline-block;\"></div><div style=\"background-color:rgb(199, 146, 183);height:20px;width:20px;display:inline-block;\"></div><div style=\"background-color:rgb(127, 127, 127);height:20px;width:20px;display:inline-block;\"></div><div style=\"background-color:rgb(149, 150, 72);height:20px;width:20px;display:inline-block;\"></div><div style=\"background-color:rgb(69, 152, 161);height:20px;width:20px;display:inline-block;\"></div><div style=\"background-color:rgb(68, 112, 142);height:20px;width:20px;display:inline-block;\"></div><div style=\"background-color:rgb(194, 130, 74);height:20px;width:20px;display:inline-block;\"></div><div style=\"background-color:rgb(73, 131, 73);height:20px;width:20px;display:inline-block;\"></div><div style=\"background-color:rgb(170, 82, 83);height:20px;width:20px;display:inline-block;\"></div><div style=\"background-color:rgb(147, 124, 167);height:20px;width:20px;display:inline-block;\"></div><div style=\"background-color:rgb(123, 96, 91);height:20px;width:20px;display:inline-block;\"></div><div style=\"background-color:rgb(199, 146, 183);height:20px;width:20px;display:inline-block;\"></div><div style=\"background-color:rgb(127, 127, 127);height:20px;width:20px;display:inline-block;\"></div><div style=\"background-color:rgb(149, 150, 72);height:20px;width:20px;display:inline-block;\"></div><div style=\"background-color:rgb(69, 152, 161);height:20px;width:20px;display:inline-block;\"></div><div style=\"background-color:rgb(68, 112, 142);height:20px;width:20px;display:inline-block;\"></div><div style=\"background-color:rgb(194, 130, 74);height:20px;width:20px;display:inline-block;\"></div><div style=\"background-color:rgb(73, 131, 73);height:20px;width:20px;display:inline-block;\"></div><div style=\"background-color:rgb(170, 82, 83);height:20px;width:20px;display:inline-block;\"></div><div style=\"background-color:rgb(147, 124, 167);height:20px;width:20px;display:inline-block;\"></div><div style=\"background-color:rgb(123, 96, 91);height:20px;width:20px;display:inline-block;\"></div><div style=\"background-color:rgb(199, 146, 183);height:20px;width:20px;display:inline-block;\"></div><div style=\"background-color:rgb(127, 127, 127);height:20px;width:20px;display:inline-block;\"></div><div style=\"background-color:rgb(149, 150, 72);height:20px;width:20px;display:inline-block;\"></div><div style=\"background-color:rgb(69, 152, 161);height:20px;width:20px;display:inline-block;\"></div></div>"
      ],
      "text/plain": [
       "<IPython.core.display.HTML object>"
      ]
     },
     "metadata": {},
     "output_type": "display_data"
    }
   ],
   "source": [
    "%kql -palette -pd 0.5 -pc 40"
   ]
  },
  {
   "cell_type": "markdown",
   "metadata": {},
   "source": [
    "### alternative Reds palette, desaturated by 0.9, 40 colors "
   ]
  },
  {
   "cell_type": "code",
   "execution_count": 9,
   "metadata": {},
   "outputs": [
    {
     "data": {
      "text/html": [
       "<div style=\"display:inline-block;padding:10px;\"><div>Reds (40 colors, desaturation 0.5)</div><div style=\"background-color:rgb(249, 242, 239);height:20px;width:20px;display:inline-block;\"></div><div style=\"background-color:rgb(248, 239, 235);height:20px;width:20px;display:inline-block;\"></div><div style=\"background-color:rgb(246, 235, 230);height:20px;width:20px;display:inline-block;\"></div><div style=\"background-color:rgb(245, 232, 226);height:20px;width:20px;display:inline-block;\"></div><div style=\"background-color:rgb(243, 228, 221);height:20px;width:20px;display:inline-block;\"></div><div style=\"background-color:rgb(240, 222, 215);height:20px;width:20px;display:inline-block;\"></div><div style=\"background-color:rgb(238, 217, 207);height:20px;width:20px;display:inline-block;\"></div><div style=\"background-color:rgb(235, 211, 200);height:20px;width:20px;display:inline-block;\"></div><div style=\"background-color:rgb(232, 204, 192);height:20px;width:20px;display:inline-block;\"></div><div style=\"background-color:rgb(230, 198, 185);height:20px;width:20px;display:inline-block;\"></div><div style=\"background-color:rgb(227, 192, 179);height:20px;width:20px;display:inline-block;\"></div><div style=\"background-color:rgb(225, 186, 172);height:20px;width:20px;display:inline-block;\"></div><div style=\"background-color:rgb(222, 179, 164);height:20px;width:20px;display:inline-block;\"></div><div style=\"background-color:rgb(220, 173, 158);height:20px;width:20px;display:inline-block;\"></div><div style=\"background-color:rgb(218, 167, 151);height:20px;width:20px;display:inline-block;\"></div><div style=\"background-color:rgb(216, 161, 145);height:20px;width:20px;display:inline-block;\"></div><div style=\"background-color:rgb(214, 154, 138);height:20px;width:20px;display:inline-block;\"></div><div style=\"background-color:rgb(211, 148, 132);height:20px;width:20px;display:inline-block;\"></div><div style=\"background-color:rgb(209, 143, 127);height:20px;width:20px;display:inline-block;\"></div><div style=\"background-color:rgb(207, 137, 121);height:20px;width:20px;display:inline-block;\"></div><div style=\"background-color:rgb(204, 130, 115);height:20px;width:20px;display:inline-block;\"></div><div style=\"background-color:rgb(201, 124, 110);height:20px;width:20px;display:inline-block;\"></div><div style=\"background-color:rgb(198, 117, 105);height:20px;width:20px;display:inline-block;\"></div><div style=\"background-color:rgb(195, 111, 101);height:20px;width:20px;display:inline-block;\"></div><div style=\"background-color:rgb(191, 103, 95);height:20px;width:20px;display:inline-block;\"></div><div style=\"background-color:rgb(187, 97, 91);height:20px;width:20px;display:inline-block;\"></div><div style=\"background-color:rgb(181, 92, 87);height:20px;width:20px;display:inline-block;\"></div><div style=\"background-color:rgb(176, 86, 83);height:20px;width:20px;display:inline-block;\"></div><div style=\"background-color:rgb(169, 79, 79);height:20px;width:20px;display:inline-block;\"></div><div style=\"background-color:rgb(163, 73, 74);height:20px;width:20px;display:inline-block;\"></div><div style=\"background-color:rgb(156, 67, 70);height:20px;width:20px;display:inline-block;\"></div><div style=\"background-color:rgb(150, 64, 67);height:20px;width:20px;display:inline-block;\"></div><div style=\"background-color:rgb(144, 61, 63);height:20px;width:20px;display:inline-block;\"></div><div style=\"background-color:rgb(138, 58, 60);height:20px;width:20px;display:inline-block;\"></div><div style=\"background-color:rgb(132, 55, 58);height:20px;width:20px;display:inline-block;\"></div><div style=\"background-color:rgb(126, 51, 54);height:20px;width:20px;display:inline-block;\"></div><div style=\"background-color:rgb(115, 45, 49);height:20px;width:20px;display:inline-block;\"></div><div style=\"background-color:rgb(105, 40, 45);height:20px;width:20px;display:inline-block;\"></div><div style=\"background-color:rgb(96, 35, 41);height:20px;width:20px;display:inline-block;\"></div><div style=\"background-color:rgb(86, 30, 36);height:20px;width:20px;display:inline-block;\"></div></div>"
      ],
      "text/plain": [
       "<IPython.core.display.HTML object>"
      ]
     },
     "metadata": {},
     "output_type": "display_data"
    }
   ],
   "source": [
    "%kql -palette -pn Reds -pd 0.5 -pc 40"
   ]
  },
  {
   "cell_type": "markdown",
   "metadata": {},
   "source": [
    "## Builtin palettes"
   ]
  },
  {
   "cell_type": "markdown",
   "metadata": {},
   "source": [
    "### popup all builtin palettes\n",
    "- push the button to open a popup window with the palettes"
   ]
  },
  {
   "cell_type": "code",
   "execution_count": 10,
   "metadata": {},
   "outputs": [
    {
     "data": {
      "text/html": [
       "<!DOCTYPE html>\n",
       "            <html><body>\n",
       "\n",
       "            <button onclick=\"this.style.visibility='visible';kql_MagicLaunchWindowFunction('Kqlmagic_temp_files/10_colors_palettes.html','fullscreen=no,directories=no,location=no,menubar=no,resizable=yes,scrollbars=yes,status=no,titlebar=no,toolbar=no,','10_colors_palettes','')\">popup 10 colors palettes</button>\n",
       "\n",
       "            <script>\n",
       "\n",
       "            function kql_MagicLaunchWindowFunction(file_path, window_params, window_name, notebooks_host) {\n",
       "                var url;\n",
       "                if (file_path.startsWith('http')) {\n",
       "                    url = file_path;\n",
       "                } else {\n",
       "                    var base_url = '';\n",
       "\n",
       "                    // check if azure notebook\n",
       "                    var azure_host = (notebooks_host == null || notebooks_host.length == 0) ? 'https://notebooks.azure.com' : notebooks_host;\n",
       "                    var start = azure_host.search('//');\n",
       "                    var azure_host_suffix = '.' + azure_host.substring(start+2);\n",
       "\n",
       "                    var loc = String(window.location);\n",
       "                    var end = loc.search(azure_host_suffix);\n",
       "                    start = loc.search('//');\n",
       "                    if (start > 0 && end > 0) {\n",
       "                        var parts = loc.substring(start+2, end).split('-');\n",
       "                        if (parts.length == 2) {\n",
       "                            var library = parts[0];\n",
       "                            var user = parts[1];\n",
       "                            base_url = azure_host + '/api/user/' +user+ '/library/' +library+ '/html/';\n",
       "                        }\n",
       "                    }\n",
       "\n",
       "                    // check if local jupyter lab\n",
       "                    if (base_url.length == 0) {\n",
       "                        var configDataScipt  = document.getElementById('jupyter-config-data');\n",
       "                        if (configDataScipt != null) {\n",
       "                            var jupyterConfigData = JSON.parse(configDataScipt.textContent);\n",
       "                            if (jupyterConfigData['appName'] == 'JupyterLab' && jupyterConfigData['serverRoot'] != null &&  jupyterConfigData['treeUrl'] != null) {\n",
       "                                var basePath = 'c:/My Projects/jupyter-Kqlmagic-microsoft-vsc/notebooks' + '/';\n",
       "                                if (basePath.startsWith(jupyterConfigData['serverRoot'])) {\n",
       "                                    base_url = '/files/' + basePath.substring(jupyterConfigData['serverRoot'].length+1);\n",
       "                                }\n",
       "                            } \n",
       "                        }\n",
       "                    }\n",
       "\n",
       "                    // assume local jupyter notebook\n",
       "                    if (base_url.length == 0) {\n",
       "\n",
       "                        var parts = loc.split('/');\n",
       "                        parts.pop();\n",
       "                        base_url = parts.join('/') + '/';\n",
       "                    }\n",
       "                    url = base_url + file_path;\n",
       "                }\n",
       "\n",
       "                window.focus();\n",
       "                var w = screen.width / 2;\n",
       "                var h = screen.height / 2;\n",
       "                params = 'width='+w+',height='+h;\n",
       "                kql_Magic_10_colors_palettes = window.open(url, window_name, window_params + params);\n",
       "            }\n",
       "            </script>\n",
       "\n",
       "            </body></html>"
      ],
      "text/plain": [
       "<IPython.core.display.HTML object>"
      ]
     },
     "metadata": {},
     "output_type": "display_data"
    }
   ],
   "source": [
    "%kql -popup_palettes"
   ]
  },
  {
   "cell_type": "markdown",
   "metadata": {},
   "source": [
    "### popup all builtin palettes desaturated\n",
    "- set option -palette_desaturation or -pd with a value between 0 to 1\n",
    "- push the button to open a popup window with the palettes"
   ]
  },
  {
   "cell_type": "code",
   "execution_count": 11,
   "metadata": {},
   "outputs": [
    {
     "data": {
      "text/html": [
       "<!DOCTYPE html>\n",
       "            <html><body>\n",
       "\n",
       "            <button onclick=\"this.style.visibility='visible';kql_MagicLaunchWindowFunction('Kqlmagic_temp_files/10_colors_palettes_desaturation0.5.html','fullscreen=no,directories=no,location=no,menubar=no,resizable=yes,scrollbars=yes,status=no,titlebar=no,toolbar=no,','10_colors_palettes_desaturation0.5','')\">popup 10 colors palettes (desaturation 0.5)</button>\n",
       "\n",
       "            <script>\n",
       "\n",
       "            function kql_MagicLaunchWindowFunction(file_path, window_params, window_name, notebooks_host) {\n",
       "                var url;\n",
       "                if (file_path.startsWith('http')) {\n",
       "                    url = file_path;\n",
       "                } else {\n",
       "                    var base_url = '';\n",
       "\n",
       "                    // check if azure notebook\n",
       "                    var azure_host = (notebooks_host == null || notebooks_host.length == 0) ? 'https://notebooks.azure.com' : notebooks_host;\n",
       "                    var start = azure_host.search('//');\n",
       "                    var azure_host_suffix = '.' + azure_host.substring(start+2);\n",
       "\n",
       "                    var loc = String(window.location);\n",
       "                    var end = loc.search(azure_host_suffix);\n",
       "                    start = loc.search('//');\n",
       "                    if (start > 0 && end > 0) {\n",
       "                        var parts = loc.substring(start+2, end).split('-');\n",
       "                        if (parts.length == 2) {\n",
       "                            var library = parts[0];\n",
       "                            var user = parts[1];\n",
       "                            base_url = azure_host + '/api/user/' +user+ '/library/' +library+ '/html/';\n",
       "                        }\n",
       "                    }\n",
       "\n",
       "                    // check if local jupyter lab\n",
       "                    if (base_url.length == 0) {\n",
       "                        var configDataScipt  = document.getElementById('jupyter-config-data');\n",
       "                        if (configDataScipt != null) {\n",
       "                            var jupyterConfigData = JSON.parse(configDataScipt.textContent);\n",
       "                            if (jupyterConfigData['appName'] == 'JupyterLab' && jupyterConfigData['serverRoot'] != null &&  jupyterConfigData['treeUrl'] != null) {\n",
       "                                var basePath = 'c:/My Projects/jupyter-Kqlmagic-microsoft-vsc/notebooks' + '/';\n",
       "                                if (basePath.startsWith(jupyterConfigData['serverRoot'])) {\n",
       "                                    base_url = '/files/' + basePath.substring(jupyterConfigData['serverRoot'].length+1);\n",
       "                                }\n",
       "                            } \n",
       "                        }\n",
       "                    }\n",
       "\n",
       "                    // assume local jupyter notebook\n",
       "                    if (base_url.length == 0) {\n",
       "\n",
       "                        var parts = loc.split('/');\n",
       "                        parts.pop();\n",
       "                        base_url = parts.join('/') + '/';\n",
       "                    }\n",
       "                    url = base_url + file_path;\n",
       "                }\n",
       "\n",
       "                window.focus();\n",
       "                var w = screen.width / 2;\n",
       "                var h = screen.height / 2;\n",
       "                params = 'width='+w+',height='+h;\n",
       "                kql_Magic_10_colors_palettes_desaturation0.5 = window.open(url, window_name, window_params + params);\n",
       "            }\n",
       "            </script>\n",
       "\n",
       "            </body></html>"
      ],
      "text/plain": [
       "<IPython.core.display.HTML object>"
      ]
     },
     "metadata": {},
     "output_type": "display_data"
    }
   ],
   "source": [
    "%kql -popup_palettes -palette_desaturation 0.5"
   ]
  },
  {
   "cell_type": "markdown",
   "metadata": {},
   "source": [
    "### popup all builtin n_colors palettes desaturated\n",
    "- set option -palette_colrs or -pc with a value greater than 0\n",
    "- set option -palette_desaturation or -pd with a value between 0 to 1\n",
    "- push the button to open a popup window with the palettes"
   ]
  },
  {
   "cell_type": "code",
   "execution_count": 12,
   "metadata": {},
   "outputs": [
    {
     "data": {
      "text/html": [
       "<!DOCTYPE html>\n",
       "            <html><body>\n",
       "\n",
       "            <button onclick=\"this.style.visibility='visible';kql_MagicLaunchWindowFunction('Kqlmagic_temp_files/20_colors_palettes_desaturation0.5.html','fullscreen=no,directories=no,location=no,menubar=no,resizable=yes,scrollbars=yes,status=no,titlebar=no,toolbar=no,','20_colors_palettes_desaturation0.5','')\">popup 20 colors palettes (desaturation 0.5)</button>\n",
       "\n",
       "            <script>\n",
       "\n",
       "            function kql_MagicLaunchWindowFunction(file_path, window_params, window_name, notebooks_host) {\n",
       "                var url;\n",
       "                if (file_path.startsWith('http')) {\n",
       "                    url = file_path;\n",
       "                } else {\n",
       "                    var base_url = '';\n",
       "\n",
       "                    // check if azure notebook\n",
       "                    var azure_host = (notebooks_host == null || notebooks_host.length == 0) ? 'https://notebooks.azure.com' : notebooks_host;\n",
       "                    var start = azure_host.search('//');\n",
       "                    var azure_host_suffix = '.' + azure_host.substring(start+2);\n",
       "\n",
       "                    var loc = String(window.location);\n",
       "                    var end = loc.search(azure_host_suffix);\n",
       "                    start = loc.search('//');\n",
       "                    if (start > 0 && end > 0) {\n",
       "                        var parts = loc.substring(start+2, end).split('-');\n",
       "                        if (parts.length == 2) {\n",
       "                            var library = parts[0];\n",
       "                            var user = parts[1];\n",
       "                            base_url = azure_host + '/api/user/' +user+ '/library/' +library+ '/html/';\n",
       "                        }\n",
       "                    }\n",
       "\n",
       "                    // check if local jupyter lab\n",
       "                    if (base_url.length == 0) {\n",
       "                        var configDataScipt  = document.getElementById('jupyter-config-data');\n",
       "                        if (configDataScipt != null) {\n",
       "                            var jupyterConfigData = JSON.parse(configDataScipt.textContent);\n",
       "                            if (jupyterConfigData['appName'] == 'JupyterLab' && jupyterConfigData['serverRoot'] != null &&  jupyterConfigData['treeUrl'] != null) {\n",
       "                                var basePath = 'c:/My Projects/jupyter-Kqlmagic-microsoft-vsc/notebooks' + '/';\n",
       "                                if (basePath.startsWith(jupyterConfigData['serverRoot'])) {\n",
       "                                    base_url = '/files/' + basePath.substring(jupyterConfigData['serverRoot'].length+1);\n",
       "                                }\n",
       "                            } \n",
       "                        }\n",
       "                    }\n",
       "\n",
       "                    // assume local jupyter notebook\n",
       "                    if (base_url.length == 0) {\n",
       "\n",
       "                        var parts = loc.split('/');\n",
       "                        parts.pop();\n",
       "                        base_url = parts.join('/') + '/';\n",
       "                    }\n",
       "                    url = base_url + file_path;\n",
       "                }\n",
       "\n",
       "                window.focus();\n",
       "                var w = screen.width / 2;\n",
       "                var h = screen.height / 2;\n",
       "                params = 'width='+w+',height='+h;\n",
       "                kql_Magic_20_colors_palettes_desaturation0.5 = window.open(url, window_name, window_params + params);\n",
       "            }\n",
       "            </script>\n",
       "\n",
       "            </body></html>"
      ],
      "text/plain": [
       "<IPython.core.display.HTML object>"
      ]
     },
     "metadata": {},
     "output_type": "display_data"
    }
   ],
   "source": [
    "%kql -popup_palettes -pd 0.5 -pc 20"
   ]
  },
  {
   "cell_type": "markdown",
   "metadata": {},
   "source": [
    "## Configure default palette properties\n",
    "- palette_name\n",
    "- palette_desaturation\n",
    "- palette_colors"
   ]
  },
  {
   "cell_type": "markdown",
   "metadata": {},
   "source": [
    "### show palette name of the default palette"
   ]
  },
  {
   "cell_type": "code",
   "execution_count": 13,
   "metadata": {},
   "outputs": [
    {
     "data": {
      "text/plain": [
       "'tab10'"
      ]
     },
     "execution_count": 13,
     "metadata": {},
     "output_type": "execute_result"
    }
   ],
   "source": [
    "%config Kqlmagic.palette_name"
   ]
  },
  {
   "cell_type": "markdown",
   "metadata": {},
   "source": [
    "### modify the default palette"
   ]
  },
  {
   "cell_type": "code",
   "execution_count": 14,
   "metadata": {},
   "outputs": [
    {
     "data": {
      "text/plain": [
       "'Greens'"
      ]
     },
     "execution_count": 14,
     "metadata": {},
     "output_type": "execute_result"
    }
   ],
   "source": [
    "%config Kqlmagic.palette_name = 'Greens'\n",
    "%config Kqlmagic.palette_name"
   ]
  },
  {
   "cell_type": "markdown",
   "metadata": {},
   "source": [
    "### show palette desaturation default"
   ]
  },
  {
   "cell_type": "code",
   "execution_count": 15,
   "metadata": {},
   "outputs": [
    {
     "data": {
      "text/plain": [
       "1.0"
      ]
     },
     "execution_count": 15,
     "metadata": {},
     "output_type": "execute_result"
    }
   ],
   "source": [
    "%config Kqlmagic.palette_desaturation"
   ]
  },
  {
   "cell_type": "markdown",
   "metadata": {},
   "source": [
    "### modify palette desaturation"
   ]
  },
  {
   "cell_type": "code",
   "execution_count": 16,
   "metadata": {},
   "outputs": [
    {
     "data": {
      "text/plain": [
       "0.95"
      ]
     },
     "execution_count": 16,
     "metadata": {},
     "output_type": "execute_result"
    }
   ],
   "source": [
    "%config Kqlmagic.palette_desaturation = 0.95\n",
    "%config Kqlmagic.palette_desaturation"
   ]
  },
  {
   "cell_type": "markdown",
   "metadata": {},
   "source": [
    "### show number of colors in default palette"
   ]
  },
  {
   "cell_type": "code",
   "execution_count": 17,
   "metadata": {},
   "outputs": [
    {
     "data": {
      "text/plain": [
       "10"
      ]
     },
     "execution_count": 17,
     "metadata": {},
     "output_type": "execute_result"
    }
   ],
   "source": [
    "%config Kqlmagic.palette_colors"
   ]
  },
  {
   "cell_type": "markdown",
   "metadata": {},
   "source": [
    "### modify number of colors in default palette"
   ]
  },
  {
   "cell_type": "code",
   "execution_count": 18,
   "metadata": {},
   "outputs": [
    {
     "data": {
      "text/plain": [
       "6"
      ]
     },
     "execution_count": 18,
     "metadata": {},
     "output_type": "execute_result"
    }
   ],
   "source": [
    "%config Kqlmagic.palette_colors = 6\n",
    "%config Kqlmagic.palette_colors"
   ]
  },
  {
   "cell_type": "markdown",
   "metadata": {},
   "source": [
    "### show the deault palette based on the new defaults"
   ]
  },
  {
   "cell_type": "code",
   "execution_count": 19,
   "metadata": {},
   "outputs": [
    {
     "data": {
      "text/html": [
       "<div style=\"display:inline-block;padding:10px;\"><div>Greens (6 colors, desaturation 0.95)</div><div style=\"background-color:rgb(225, 242, 220);height:20px;width:20px;display:inline-block;\"></div><div style=\"background-color:rgb(188, 227, 182);height:20px;width:20px;display:inline-block;\"></div><div style=\"background-color:rgb(143, 206, 141);height:20px;width:20px;display:inline-block;\"></div><div style=\"background-color:rgb(88, 179, 105);height:20px;width:20px;display:inline-block;\"></div><div style=\"background-color:rgb(46, 145, 76);height:20px;width:20px;display:inline-block;\"></div><div style=\"background-color:rgb(7, 110, 47);height:20px;width:20px;display:inline-block;\"></div></div>"
      ],
      "text/plain": [
       "<IPython.core.display.HTML object>"
      ]
     },
     "metadata": {},
     "output_type": "display_data"
    }
   ],
   "source": [
    "%kql -palette"
   ]
  },
  {
   "cell_type": "code",
   "execution_count": 20,
   "metadata": {},
   "outputs": [
    {
     "data": {
      "text/html": [
       "<html>\n",
       "        <head>\n",
       "        \n",
       "        </head>\n",
       "        <body>\n",
       "        <div><p style='padding: 10px; color: #3a87ad; background-color: #d9edf7; border-color: #bce9f1'>&nbsp*&nbspSamples@help</p></div>\n",
       "        </body>\n",
       "        </html>"
      ],
      "text/plain": [
       "<IPython.core.display.HTML object>"
      ]
     },
     "metadata": {},
     "output_type": "display_data"
    },
    {
     "data": {
      "application/vnd.jupyter.widget-view+json": {
       "model_id": "c8b69a1e8d654da491dc624b23cca238",
       "version_major": 2,
       "version_minor": 0
      },
      "text/plain": [
       "FigureWidget({\n",
       "    'data': [{'domain': {'x': [0.0, 1.0], 'y': [0.0, 1.0]},\n",
       "              'labels': [TEXAS, KAN…"
      ]
     },
     "metadata": {},
     "output_type": "display_data"
    },
    {
     "data": {
      "text/html": [
       "<html>\n",
       "        <head>\n",
       "        \n",
       "        </head>\n",
       "        <body>\n",
       "        <div><p style='padding: 10px; color: #3a87ad; background-color: #d9edf7; border-color: #bce9f1'>Done&nbsp(00:00.825):&nbsp10&nbsprecords</p></div>\n",
       "        </body>\n",
       "        </html>"
      ],
      "text/plain": [
       "<IPython.core.display.HTML object>"
      ]
     },
     "metadata": {},
     "output_type": "display_data"
    },
    {
     "data": {
      "text/html": [],
      "text/plain": [
       "[{'State': 'TEXAS', 'count_': 4701},\n",
       " {'State': 'KANSAS', 'count_': 3166},\n",
       " {'State': 'IOWA', 'count_': 2337},\n",
       " {'State': 'ILLINOIS', 'count_': 2022},\n",
       " {'State': 'MISSOURI', 'count_': 2016},\n",
       " {'State': 'GEORGIA', 'count_': 1983},\n",
       " {'State': 'MINNESOTA', 'count_': 1881},\n",
       " {'State': 'WISCONSIN', 'count_': 1850},\n",
       " {'State': 'NEBRASKA', 'count_': 1766},\n",
       " {'State': 'NEW YORK', 'count_': 1750}]"
      ]
     },
     "execution_count": 20,
     "metadata": {},
     "output_type": "execute_result"
    }
   ],
   "source": [
    "%%kql -palette_desaturation 0.5 \n",
    "    StormEvents \n",
    "    | summarize count() by State\n",
    "    | sort by count_ \n",
    "    | limit 10 \n",
    "    | render piechart"
   ]
  },
  {
   "cell_type": "markdown",
   "metadata": {},
   "source": [
    "  - ### <span style=\"color:#82CAFA\">*Note - The palette size extends automativally, if required by chart (in above chart extended from 6 colors palette to 10 colors palette*</span>"
   ]
  },
  {
   "cell_type": "markdown",
   "metadata": {},
   "source": [
    "## Reverse color order of palette\n",
    "- Set option -palette_reverse / -pr"
   ]
  },
  {
   "cell_type": "code",
   "execution_count": 21,
   "metadata": {},
   "outputs": [
    {
     "data": {
      "text/html": [
       "<html>\n",
       "        <head>\n",
       "        \n",
       "        </head>\n",
       "        <body>\n",
       "        <div><p style='padding: 10px; color: #3a87ad; background-color: #d9edf7; border-color: #bce9f1'>&nbsp*&nbspSamples@help</p></div>\n",
       "        </body>\n",
       "        </html>"
      ],
      "text/plain": [
       "<IPython.core.display.HTML object>"
      ]
     },
     "metadata": {},
     "output_type": "display_data"
    },
    {
     "data": {
      "application/vnd.jupyter.widget-view+json": {
       "model_id": "6d25858a4e4f4dc8910ed570548fb26e",
       "version_major": 2,
       "version_minor": 0
      },
      "text/plain": [
       "FigureWidget({\n",
       "    'data': [{'domain': {'x': [0.0, 1.0], 'y': [0.0, 1.0]},\n",
       "              'labels': [TEXAS, KAN…"
      ]
     },
     "metadata": {},
     "output_type": "display_data"
    },
    {
     "data": {
      "text/html": [
       "<html>\n",
       "        <head>\n",
       "        \n",
       "        </head>\n",
       "        <body>\n",
       "        <div><p style='padding: 10px; color: #3a87ad; background-color: #d9edf7; border-color: #bce9f1'>Done&nbsp(00:00.781):&nbsp10&nbsprecords</p></div>\n",
       "        </body>\n",
       "        </html>"
      ],
      "text/plain": [
       "<IPython.core.display.HTML object>"
      ]
     },
     "metadata": {},
     "output_type": "display_data"
    },
    {
     "data": {
      "text/html": [],
      "text/plain": [
       "[{'State': 'TEXAS', 'count_': 4701},\n",
       " {'State': 'KANSAS', 'count_': 3166},\n",
       " {'State': 'IOWA', 'count_': 2337},\n",
       " {'State': 'ILLINOIS', 'count_': 2022},\n",
       " {'State': 'MISSOURI', 'count_': 2016},\n",
       " {'State': 'GEORGIA', 'count_': 1983},\n",
       " {'State': 'MINNESOTA', 'count_': 1881},\n",
       " {'State': 'WISCONSIN', 'count_': 1850},\n",
       " {'State': 'NEBRASKA', 'count_': 1766},\n",
       " {'State': 'NEW YORK', 'count_': 1750}]"
      ]
     },
     "execution_count": 21,
     "metadata": {},
     "output_type": "execute_result"
    }
   ],
   "source": [
    "%%kql  -palette_reverse \n",
    "    StormEvents \n",
    "    | summarize count() by State\n",
    "    | sort by count_ \n",
    "    | limit 10 \n",
    "    | render piechart"
   ]
  },
  {
   "cell_type": "code",
   "execution_count": 22,
   "metadata": {},
   "outputs": [
    {
     "data": {
      "text/plain": [
       "20"
      ]
     },
     "execution_count": 22,
     "metadata": {},
     "output_type": "execute_result"
    }
   ],
   "source": [
    "%config Kqlmagic.palette_colors = 20\n",
    "%config Kqlmagic.palette_colors"
   ]
  },
  {
   "cell_type": "markdown",
   "metadata": {},
   "source": [
    "## Palette derivative names\n",
    "- basic names\n",
    "- subset names\n",
    "- reversed names\n",
    "- custom"
   ]
  },
  {
   "cell_type": "markdown",
   "metadata": {},
   "source": [
    "### basic pastel palette"
   ]
  },
  {
   "cell_type": "code",
   "execution_count": 23,
   "metadata": {},
   "outputs": [
    {
     "data": {
      "text/html": [
       "<div style=\"display:inline-block;padding:10px;\"><div>pastel (20 colors, desaturation 0.95)</div><div style=\"background-color:rgb(163, 201, 241);height:20px;width:20px;display:inline-block;\"></div><div style=\"background-color:rgb(251, 180, 133);height:20px;width:20px;display:inline-block;\"></div><div style=\"background-color:rgb(143, 226, 162);height:20px;width:20px;display:inline-block;\"></div><div style=\"background-color:rgb(252, 161, 157);height:20px;width:20px;display:inline-block;\"></div><div style=\"background-color:rgb(208, 188, 253);height:20px;width:20px;display:inline-block;\"></div><div style=\"background-color:rgb(220, 187, 156);height:20px;width:20px;display:inline-block;\"></div><div style=\"background-color:rgb(248, 177, 227);height:20px;width:20px;display:inline-block;\"></div><div style=\"background-color:rgb(207, 207, 207);height:20px;width:20px;display:inline-block;\"></div><div style=\"background-color:rgb(252, 251, 165);height:20px;width:20px;display:inline-block;\"></div><div style=\"background-color:rgb(186, 240, 238);height:20px;width:20px;display:inline-block;\"></div><div style=\"background-color:rgb(163, 201, 241);height:20px;width:20px;display:inline-block;\"></div><div style=\"background-color:rgb(251, 180, 133);height:20px;width:20px;display:inline-block;\"></div><div style=\"background-color:rgb(143, 226, 162);height:20px;width:20px;display:inline-block;\"></div><div style=\"background-color:rgb(252, 161, 157);height:20px;width:20px;display:inline-block;\"></div><div style=\"background-color:rgb(208, 188, 253);height:20px;width:20px;display:inline-block;\"></div><div style=\"background-color:rgb(220, 187, 156);height:20px;width:20px;display:inline-block;\"></div><div style=\"background-color:rgb(248, 177, 227);height:20px;width:20px;display:inline-block;\"></div><div style=\"background-color:rgb(207, 207, 207);height:20px;width:20px;display:inline-block;\"></div><div style=\"background-color:rgb(252, 251, 165);height:20px;width:20px;display:inline-block;\"></div><div style=\"background-color:rgb(186, 240, 238);height:20px;width:20px;display:inline-block;\"></div></div>"
      ],
      "text/plain": [
       "<IPython.core.display.HTML object>"
      ]
     },
     "metadata": {},
     "output_type": "display_data"
    }
   ],
   "source": [
    "%kql -palette -pn pastel"
   ]
  },
  {
   "cell_type": "markdown",
   "metadata": {},
   "source": [
    "  - ### <span style=\"color:#82CAFA\">*Note - When not specified, palette_name, palette_colors and palette_desaturation default properties are used*</span>"
   ]
  },
  {
   "cell_type": "markdown",
   "metadata": {},
   "source": [
    "### subset derived from a basic palette"
   ]
  },
  {
   "cell_type": "code",
   "execution_count": 24,
   "metadata": {},
   "outputs": [
    {
     "data": {
      "text/html": [
       "<div style=\"display:inline-block;padding:10px;\"><div>pastel[4:11] (20 colors, desaturation 0.95)</div><div style=\"background-color:rgb(208, 188, 253);height:20px;width:20px;display:inline-block;\"></div><div style=\"background-color:rgb(220, 187, 156);height:20px;width:20px;display:inline-block;\"></div><div style=\"background-color:rgb(248, 177, 227);height:20px;width:20px;display:inline-block;\"></div><div style=\"background-color:rgb(207, 207, 207);height:20px;width:20px;display:inline-block;\"></div><div style=\"background-color:rgb(252, 251, 165);height:20px;width:20px;display:inline-block;\"></div><div style=\"background-color:rgb(186, 240, 238);height:20px;width:20px;display:inline-block;\"></div><div style=\"background-color:rgb(163, 201, 241);height:20px;width:20px;display:inline-block;\"></div></div>"
      ],
      "text/plain": [
       "<IPython.core.display.HTML object>"
      ]
     },
     "metadata": {},
     "output_type": "display_data"
    }
   ],
   "source": [
    "%kql -palette -pn pastel[4:11]"
   ]
  },
  {
   "cell_type": "markdown",
   "metadata": {},
   "source": [
    "### reversed from a basic palette "
   ]
  },
  {
   "cell_type": "code",
   "execution_count": 25,
   "metadata": {},
   "outputs": [
    {
     "data": {
      "text/html": [
       "<div style=\"display:inline-block;padding:10px;\"><div>pastel_r (20 colors, desaturation 0.95)</div><div style=\"background-color:rgb(186, 240, 238);height:20px;width:20px;display:inline-block;\"></div><div style=\"background-color:rgb(252, 251, 165);height:20px;width:20px;display:inline-block;\"></div><div style=\"background-color:rgb(207, 207, 207);height:20px;width:20px;display:inline-block;\"></div><div style=\"background-color:rgb(248, 177, 227);height:20px;width:20px;display:inline-block;\"></div><div style=\"background-color:rgb(220, 187, 156);height:20px;width:20px;display:inline-block;\"></div><div style=\"background-color:rgb(208, 188, 253);height:20px;width:20px;display:inline-block;\"></div><div style=\"background-color:rgb(252, 161, 157);height:20px;width:20px;display:inline-block;\"></div><div style=\"background-color:rgb(143, 226, 162);height:20px;width:20px;display:inline-block;\"></div><div style=\"background-color:rgb(251, 180, 133);height:20px;width:20px;display:inline-block;\"></div><div style=\"background-color:rgb(163, 201, 241);height:20px;width:20px;display:inline-block;\"></div><div style=\"background-color:rgb(186, 240, 238);height:20px;width:20px;display:inline-block;\"></div><div style=\"background-color:rgb(252, 251, 165);height:20px;width:20px;display:inline-block;\"></div><div style=\"background-color:rgb(207, 207, 207);height:20px;width:20px;display:inline-block;\"></div><div style=\"background-color:rgb(248, 177, 227);height:20px;width:20px;display:inline-block;\"></div><div style=\"background-color:rgb(220, 187, 156);height:20px;width:20px;display:inline-block;\"></div><div style=\"background-color:rgb(208, 188, 253);height:20px;width:20px;display:inline-block;\"></div><div style=\"background-color:rgb(252, 161, 157);height:20px;width:20px;display:inline-block;\"></div><div style=\"background-color:rgb(143, 226, 162);height:20px;width:20px;display:inline-block;\"></div><div style=\"background-color:rgb(251, 180, 133);height:20px;width:20px;display:inline-block;\"></div><div style=\"background-color:rgb(163, 201, 241);height:20px;width:20px;display:inline-block;\"></div></div>"
      ],
      "text/plain": [
       "<IPython.core.display.HTML object>"
      ]
     },
     "metadata": {},
     "output_type": "display_data"
    }
   ],
   "source": [
    "%kql -palette -pn pastel_r"
   ]
  },
  {
   "cell_type": "markdown",
   "metadata": {},
   "source": [
    "### reversed subset of a basic palette"
   ]
  },
  {
   "cell_type": "code",
   "execution_count": 26,
   "metadata": {},
   "outputs": [
    {
     "data": {
      "text/html": [
       "<div style=\"display:inline-block;padding:10px;\"><div>pastel[4:11]_r (20 colors, desaturation 0.95)</div><div style=\"background-color:rgb(163, 201, 241);height:20px;width:20px;display:inline-block;\"></div><div style=\"background-color:rgb(186, 240, 238);height:20px;width:20px;display:inline-block;\"></div><div style=\"background-color:rgb(252, 251, 165);height:20px;width:20px;display:inline-block;\"></div><div style=\"background-color:rgb(207, 207, 207);height:20px;width:20px;display:inline-block;\"></div><div style=\"background-color:rgb(248, 177, 227);height:20px;width:20px;display:inline-block;\"></div><div style=\"background-color:rgb(220, 187, 156);height:20px;width:20px;display:inline-block;\"></div><div style=\"background-color:rgb(208, 188, 253);height:20px;width:20px;display:inline-block;\"></div></div>"
      ],
      "text/plain": [
       "<IPython.core.display.HTML object>"
      ]
     },
     "metadata": {},
     "output_type": "display_data"
    }
   ],
   "source": [
    "%kql -palette -pn pastel[4:11]_r"
   ]
  },
  {
   "cell_type": "markdown",
   "metadata": {},
   "source": [
    "## piechart rendered using a derived palette"
   ]
  },
  {
   "cell_type": "code",
   "execution_count": 27,
   "metadata": {},
   "outputs": [
    {
     "data": {
      "text/html": [
       "<html>\n",
       "        <head>\n",
       "        \n",
       "        </head>\n",
       "        <body>\n",
       "        <div><p style='padding: 10px; color: #3a87ad; background-color: #d9edf7; border-color: #bce9f1'>&nbsp*&nbspSamples@help</p></div>\n",
       "        </body>\n",
       "        </html>"
      ],
      "text/plain": [
       "<IPython.core.display.HTML object>"
      ]
     },
     "metadata": {},
     "output_type": "display_data"
    },
    {
     "data": {
      "application/vnd.jupyter.widget-view+json": {
       "model_id": "6e097d1708ee46fc900b2f61ecd06418",
       "version_major": 2,
       "version_minor": 0
      },
      "text/plain": [
       "FigureWidget({\n",
       "    'data': [{'domain': {'x': [0.0, 1.0], 'y': [0.0, 1.0]},\n",
       "              'labels': [TEXAS, KAN…"
      ]
     },
     "metadata": {},
     "output_type": "display_data"
    },
    {
     "data": {
      "text/html": [
       "<html>\n",
       "        <head>\n",
       "        \n",
       "        </head>\n",
       "        <body>\n",
       "        <div><p style='padding: 10px; color: #3a87ad; background-color: #d9edf7; border-color: #bce9f1'>Done&nbsp(00:00.785):&nbsp7&nbsprecords</p></div>\n",
       "        </body>\n",
       "        </html>"
      ],
      "text/plain": [
       "<IPython.core.display.HTML object>"
      ]
     },
     "metadata": {},
     "output_type": "display_data"
    },
    {
     "data": {
      "text/html": [],
      "text/plain": [
       "[{'State': 'TEXAS', 'count_': 4701},\n",
       " {'State': 'KANSAS', 'count_': 3166},\n",
       " {'State': 'IOWA', 'count_': 2337},\n",
       " {'State': 'ILLINOIS', 'count_': 2022},\n",
       " {'State': 'MISSOURI', 'count_': 2016},\n",
       " {'State': 'GEORGIA', 'count_': 1983},\n",
       " {'State': 'MINNESOTA', 'count_': 1881}]"
      ]
     },
     "execution_count": 27,
     "metadata": {},
     "output_type": "execute_result"
    }
   ],
   "source": [
    "%%kql -pn pastel[4:11]_r \n",
    "    StormEvents \n",
    "    | summarize count() by State\n",
    "    | sort by count_ \n",
    "    | limit 7 \n",
    "    | render piechart"
   ]
  },
  {
   "cell_type": "markdown",
   "metadata": {},
   "source": [
    "### config default palette with a derived palette"
   ]
  },
  {
   "cell_type": "code",
   "execution_count": 28,
   "metadata": {},
   "outputs": [
    {
     "data": {
      "text/plain": [
       "'pastel[4:11]_r'"
      ]
     },
     "execution_count": 28,
     "metadata": {},
     "output_type": "execute_result"
    }
   ],
   "source": [
    "%config Kqlmagic.palette_name = 'pastel[4:11]_r'\n",
    "%config Kqlmagic.palette_name"
   ]
  },
  {
   "cell_type": "markdown",
   "metadata": {},
   "source": [
    "### barchart rendered using the new default palette "
   ]
  },
  {
   "cell_type": "code",
   "execution_count": 29,
   "metadata": {},
   "outputs": [
    {
     "data": {
      "text/html": [
       "<html>\n",
       "        <head>\n",
       "        \n",
       "        </head>\n",
       "        <body>\n",
       "        <div><p style='padding: 10px; color: #3a87ad; background-color: #d9edf7; border-color: #bce9f1'>&nbsp*&nbspSamples@help</p></div>\n",
       "        </body>\n",
       "        </html>"
      ],
      "text/plain": [
       "<IPython.core.display.HTML object>"
      ]
     },
     "metadata": {},
     "output_type": "display_data"
    },
    {
     "data": {
      "application/vnd.jupyter.widget-view+json": {
       "model_id": "2b62dadc523c4cb1b4d0c9c6ef6b2946",
       "version_major": 2,
       "version_minor": 0
      },
      "text/plain": [
       "FigureWidget({\n",
       "    'data': [{'marker': {'color': 'rgb(163, 201, 241)'},\n",
       "              'name': 'count_',\n",
       "      …"
      ]
     },
     "metadata": {},
     "output_type": "display_data"
    },
    {
     "data": {
      "text/html": [
       "<html>\n",
       "        <head>\n",
       "        \n",
       "        </head>\n",
       "        <body>\n",
       "        <div><p style='padding: 10px; color: #3a87ad; background-color: #d9edf7; border-color: #bce9f1'>Done&nbsp(00:00.758):&nbsp7&nbsprecords</p></div>\n",
       "        </body>\n",
       "        </html>"
      ],
      "text/plain": [
       "<IPython.core.display.HTML object>"
      ]
     },
     "metadata": {},
     "output_type": "display_data"
    },
    {
     "data": {
      "text/html": [],
      "text/plain": [
       "[{'State': 'TEXAS', 'count_': 4701, 'count2': 6581.4, 'count3': 11282.4},\n",
       " {'State': 'KANSAS', 'count_': 3166, 'count2': 4432.4, 'count3': 7598.4},\n",
       " {'State': 'IOWA', 'count_': 2337, 'count2': 3271.7999999999997, 'count3': 5608.8},\n",
       " {'State': 'ILLINOIS', 'count_': 2022, 'count2': 2830.7999999999997, 'count3': 4852.8},\n",
       " {'State': 'MISSOURI', 'count_': 2016, 'count2': 2822.3999999999996, 'count3': 4838.4},\n",
       " {'State': 'GEORGIA', 'count_': 1983, 'count2': 2776.2, 'count3': 4759.2},\n",
       " {'State': 'MINNESOTA', 'count_': 1881, 'count2': 2633.3999999999996, 'count3': 4514.4}]"
      ]
     },
     "execution_count": 29,
     "metadata": {},
     "output_type": "execute_result"
    }
   ],
   "source": [
    "%%kql \n",
    "    StormEvents \n",
    "    | summarize count() by State\n",
    "    | extend count2 = count_*1.4 \n",
    "    | extend count3 = count_*2.4\n",
    "    | sort by count_ \n",
    "    | limit 7 \n",
    "    | render barchart"
   ]
  },
  {
   "cell_type": "markdown",
   "metadata": {},
   "source": [
    "## Custom palette\n",
    "- define an alternative basic palette\n",
    "- have same characteristics as basic palette, a subset can be derived and/or reversed"
   ]
  },
  {
   "cell_type": "markdown",
   "metadata": {},
   "source": [
    "### show custom palette\n",
    "- make sure that there are no white spaces in the string that defines the custom palette"
   ]
  },
  {
   "cell_type": "code",
   "execution_count": 30,
   "metadata": {},
   "outputs": [
    {
     "data": {
      "text/html": [
       "<div style=\"display:inline-block;padding:10px;\"><div>['rgb(127,155,173)','rgb(103,135,156)','rgb(82,114,140)','rgb(63,93,122)','rgb(48,73,102)'] (20 colors, desaturation 0.95)</div><div style=\"background-color:rgb(127,155,173);height:20px;width:20px;display:inline-block;\"></div><div style=\"background-color:rgb(103,135,156);height:20px;width:20px;display:inline-block;\"></div><div style=\"background-color:rgb(82,114,140);height:20px;width:20px;display:inline-block;\"></div><div style=\"background-color:rgb(63,93,122);height:20px;width:20px;display:inline-block;\"></div><div style=\"background-color:rgb(48,73,102);height:20px;width:20px;display:inline-block;\"></div></div>"
      ],
      "text/plain": [
       "<IPython.core.display.HTML object>"
      ]
     },
     "metadata": {},
     "output_type": "display_data"
    }
   ],
   "source": [
    "%kql -palette -pn ['rgb(127,155,173)','rgb(103,135,156)','rgb(82,114,140)','rgb(63,93,122)','rgb(48,73,102)']"
   ]
  },
  {
   "cell_type": "markdown",
   "metadata": {},
   "source": [
    "### show derived subset palette from the custom palette"
   ]
  },
  {
   "cell_type": "code",
   "execution_count": 31,
   "metadata": {},
   "outputs": [
    {
     "data": {
      "text/html": [
       "<div style=\"display:inline-block;padding:10px;\"><div>['rgb(127,155,173)','rgb(103,135,156)','rgb(82,114,140)','rgb(63,93,122)','rgb(48,73,102)'][1:4] (20 colors, desaturation 0.95)</div><div style=\"background-color:rgb(103,135,156);height:20px;width:20px;display:inline-block;\"></div><div style=\"background-color:rgb(82,114,140);height:20px;width:20px;display:inline-block;\"></div><div style=\"background-color:rgb(63,93,122);height:20px;width:20px;display:inline-block;\"></div></div>"
      ],
      "text/plain": [
       "<IPython.core.display.HTML object>"
      ]
     },
     "metadata": {},
     "output_type": "display_data"
    }
   ],
   "source": [
    "%kql -palette -pn ['rgb(127,155,173)','rgb(103,135,156)','rgb(82,114,140)','rgb(63,93,122)','rgb(48,73,102)'][1:4]"
   ]
  },
  {
   "cell_type": "markdown",
   "metadata": {},
   "source": [
    "### show derived reversed subset palette from custom palette"
   ]
  },
  {
   "cell_type": "code",
   "execution_count": 32,
   "metadata": {},
   "outputs": [
    {
     "data": {
      "text/html": [
       "<div style=\"display:inline-block;padding:10px;\"><div>['rgb(127,155,173)','rgb(103,135,156)','rgb(82,114,140)','rgb(63,93,122)','rgb(48,73,102)'][1:4]_r (20 colors, desaturation 0.95)</div><div style=\"background-color:rgb(63,93,122);height:20px;width:20px;display:inline-block;\"></div><div style=\"background-color:rgb(82,114,140);height:20px;width:20px;display:inline-block;\"></div><div style=\"background-color:rgb(103,135,156);height:20px;width:20px;display:inline-block;\"></div></div>"
      ],
      "text/plain": [
       "<IPython.core.display.HTML object>"
      ]
     },
     "metadata": {},
     "output_type": "display_data"
    }
   ],
   "source": [
    "%kql -palette -pn ['rgb(127,155,173)','rgb(103,135,156)','rgb(82,114,140)','rgb(63,93,122)','rgb(48,73,102)'][1:4]_r"
   ]
  },
  {
   "cell_type": "markdown",
   "metadata": {},
   "source": [
    "### columnchart rendered using a custom palette"
   ]
  },
  {
   "cell_type": "code",
   "execution_count": 33,
   "metadata": {},
   "outputs": [
    {
     "data": {
      "text/html": [
       "<html>\n",
       "        <head>\n",
       "        \n",
       "        </head>\n",
       "        <body>\n",
       "        <div><p style='padding: 10px; color: #3a87ad; background-color: #d9edf7; border-color: #bce9f1'>&nbsp*&nbspSamples@help</p></div>\n",
       "        </body>\n",
       "        </html>"
      ],
      "text/plain": [
       "<IPython.core.display.HTML object>"
      ]
     },
     "metadata": {},
     "output_type": "display_data"
    },
    {
     "data": {
      "application/vnd.jupyter.widget-view+json": {
       "model_id": "ff30a187359a4469b8dbf2b142676397",
       "version_major": 2,
       "version_minor": 0
      },
      "text/plain": [
       "FigureWidget({\n",
       "    'data': [{'marker': {'color': 'rgb(63,93,122)'},\n",
       "              'name': 'count_',\n",
       "          …"
      ]
     },
     "metadata": {},
     "output_type": "display_data"
    },
    {
     "data": {
      "text/html": [
       "<html>\n",
       "        <head>\n",
       "        \n",
       "        </head>\n",
       "        <body>\n",
       "        <div><p style='padding: 10px; color: #3a87ad; background-color: #d9edf7; border-color: #bce9f1'>Done&nbsp(00:00.771):&nbsp7&nbsprecords</p></div>\n",
       "        </body>\n",
       "        </html>"
      ],
      "text/plain": [
       "<IPython.core.display.HTML object>"
      ]
     },
     "metadata": {},
     "output_type": "display_data"
    },
    {
     "data": {
      "text/html": [],
      "text/plain": [
       "[{'State': 'TEXAS', 'count_': 4701, 'count2': 6581.4, 'count3': 11282.4},\n",
       " {'State': 'KANSAS', 'count_': 3166, 'count2': 4432.4, 'count3': 7598.4},\n",
       " {'State': 'IOWA', 'count_': 2337, 'count2': 3271.7999999999997, 'count3': 5608.8},\n",
       " {'State': 'ILLINOIS', 'count_': 2022, 'count2': 2830.7999999999997, 'count3': 4852.8},\n",
       " {'State': 'MISSOURI', 'count_': 2016, 'count2': 2822.3999999999996, 'count3': 4838.4},\n",
       " {'State': 'GEORGIA', 'count_': 1983, 'count2': 2776.2, 'count3': 4759.2},\n",
       " {'State': 'MINNESOTA', 'count_': 1881, 'count2': 2633.3999999999996, 'count3': 4514.4}]"
      ]
     },
     "execution_count": 33,
     "metadata": {},
     "output_type": "execute_result"
    }
   ],
   "source": [
    "%%kql -pn ['rgb(127,155,173)','rgb(103,135,156)','rgb(82,114,140)','rgb(63,93,122)','rgb(48,73,102)'][1:4]_r \n",
    "    StormEvents \n",
    "    | summarize count() by State\n",
    "    | extend count2 = count_*1.4 \n",
    "    | extend count3 = count_*2.4\n",
    "    | sort by count_ \n",
    "    | limit 7 \n",
    "    | render columnchart"
   ]
  },
  {
   "cell_type": "markdown",
   "metadata": {},
   "source": [
    "### set custom palette as default palette"
   ]
  },
  {
   "cell_type": "code",
   "execution_count": 34,
   "metadata": {},
   "outputs": [
    {
     "data": {
      "text/plain": [
       "\"['rgb(127,155,173)','rgb(103,135,156)','rgb(82,114,140)','rgb(63,93,122)','rgb(48,73,102)'][1:4]_r\""
      ]
     },
     "execution_count": 34,
     "metadata": {},
     "output_type": "execute_result"
    }
   ],
   "source": [
    "%config Kqlmagic.palette_name = \"['rgb(127,155,173)','rgb(103,135,156)','rgb(82,114,140)','rgb(63,93,122)','rgb(48,73,102)'][1:4]_r\"\n",
    "%config Kqlmagic.palette_name"
   ]
  },
  {
   "cell_type": "markdown",
   "metadata": {},
   "source": [
    "### barchart rendered using default palette (set to the custom chart)"
   ]
  },
  {
   "cell_type": "code",
   "execution_count": 35,
   "metadata": {},
   "outputs": [
    {
     "data": {
      "text/html": [
       "<html>\n",
       "        <head>\n",
       "        \n",
       "        </head>\n",
       "        <body>\n",
       "        <div><p style='padding: 10px; color: #3a87ad; background-color: #d9edf7; border-color: #bce9f1'>&nbsp*&nbspSamples@help</p></div>\n",
       "        </body>\n",
       "        </html>"
      ],
      "text/plain": [
       "<IPython.core.display.HTML object>"
      ]
     },
     "metadata": {},
     "output_type": "display_data"
    },
    {
     "data": {
      "application/vnd.jupyter.widget-view+json": {
       "model_id": "af71a30cdb904fba9505d17faa1d261b",
       "version_major": 2,
       "version_minor": 0
      },
      "text/plain": [
       "FigureWidget({\n",
       "    'data': [{'marker': {'color': 'rgb(63,93,122)'},\n",
       "              'name': 'count_',\n",
       "          …"
      ]
     },
     "metadata": {},
     "output_type": "display_data"
    },
    {
     "data": {
      "text/html": [
       "<html>\n",
       "        <head>\n",
       "        \n",
       "        </head>\n",
       "        <body>\n",
       "        <div><p style='padding: 10px; color: #3a87ad; background-color: #d9edf7; border-color: #bce9f1'>Done&nbsp(00:00.760):&nbsp7&nbsprecords</p></div>\n",
       "        </body>\n",
       "        </html>"
      ],
      "text/plain": [
       "<IPython.core.display.HTML object>"
      ]
     },
     "metadata": {},
     "output_type": "display_data"
    },
    {
     "data": {
      "text/html": [],
      "text/plain": [
       "[{'State': 'TEXAS', 'count_': 4701, 'count2': 6581.4, 'count3': 11282.4},\n",
       " {'State': 'KANSAS', 'count_': 3166, 'count2': 4432.4, 'count3': 7598.4},\n",
       " {'State': 'IOWA', 'count_': 2337, 'count2': 3271.7999999999997, 'count3': 5608.8},\n",
       " {'State': 'ILLINOIS', 'count_': 2022, 'count2': 2830.7999999999997, 'count3': 4852.8},\n",
       " {'State': 'MISSOURI', 'count_': 2016, 'count2': 2822.3999999999996, 'count3': 4838.4},\n",
       " {'State': 'GEORGIA', 'count_': 1983, 'count2': 2776.2, 'count3': 4759.2},\n",
       " {'State': 'MINNESOTA', 'count_': 1881, 'count2': 2633.3999999999996, 'count3': 4514.4}]"
      ]
     },
     "execution_count": 35,
     "metadata": {},
     "output_type": "execute_result"
    }
   ],
   "source": [
    "%%kql \n",
    "    StormEvents \n",
    "    | summarize count() by State\n",
    "    | extend count2 = count_*1.4 \n",
    "    | extend count3 = count_*2.4\n",
    "    | sort by count_ \n",
    "    | limit 7 \n",
    "    | render barchart"
   ]
  },
  {
   "cell_type": "markdown",
   "metadata": {},
   "source": [
    "## Python integration"
   ]
  },
  {
   "cell_type": "code",
   "execution_count": 36,
   "metadata": {},
   "outputs": [
    {
     "data": {
      "text/html": [
       "<html>\n",
       "        <head>\n",
       "        \n",
       "        </head>\n",
       "        <body>\n",
       "        <div><p style='padding: 10px; color: #3a87ad; background-color: #d9edf7; border-color: #bce9f1'>&nbsp*&nbspSamples@help</p></div>\n",
       "        </body>\n",
       "        </html>"
      ],
      "text/plain": [
       "<IPython.core.display.HTML object>"
      ]
     },
     "metadata": {},
     "output_type": "display_data"
    },
    {
     "data": {
      "application/vnd.jupyter.widget-view+json": {
       "model_id": "0de0539ac4714c069177e3353c8341b7",
       "version_major": 2,
       "version_minor": 0
      },
      "text/plain": [
       "FigureWidget({\n",
       "    'data': [{'domain': {'x': [0.0, 0.31666666666666665], 'y': [0.0, 1.0]},\n",
       "              'labe…"
      ]
     },
     "metadata": {},
     "output_type": "display_data"
    },
    {
     "data": {
      "text/html": [
       "<html>\n",
       "        <head>\n",
       "        \n",
       "        </head>\n",
       "        <body>\n",
       "        <div><p style='padding: 10px; color: #3a87ad; background-color: #d9edf7; border-color: #bce9f1'>Done&nbsp(00:00.759):&nbsp10&nbsprecords</p></div>\n",
       "        </body>\n",
       "        </html>"
      ],
      "text/plain": [
       "<IPython.core.display.HTML object>"
      ]
     },
     "metadata": {},
     "output_type": "display_data"
    },
    {
     "data": {
      "text/html": [],
      "text/plain": [
       "[{'State': 'TEXAS', 'count_': 4701, 'count2': 6581.4, 'count3': 11282.4},\n",
       " {'State': 'KANSAS', 'count_': 3166, 'count2': 4432.4, 'count3': 7598.4},\n",
       " {'State': 'IOWA', 'count_': 2337, 'count2': 3271.7999999999997, 'count3': 5608.8},\n",
       " {'State': 'ILLINOIS', 'count_': 2022, 'count2': 2830.7999999999997, 'count3': 4852.8},\n",
       " {'State': 'MISSOURI', 'count_': 2016, 'count2': 2822.3999999999996, 'count3': 4838.4},\n",
       " {'State': 'GEORGIA', 'count_': 1983, 'count2': 2776.2, 'count3': 4759.2},\n",
       " {'State': 'MINNESOTA', 'count_': 1881, 'count2': 2633.3999999999996, 'count3': 4514.4},\n",
       " {'State': 'WISCONSIN', 'count_': 1850, 'count2': 2590.0, 'count3': 4440.0},\n",
       " {'State': 'NEBRASKA', 'count_': 1766, 'count2': 2472.3999999999996, 'count3': 4238.4},\n",
       " {'State': 'NEW YORK', 'count_': 1750, 'count2': 2450.0, 'count3': 4200.0}]"
      ]
     },
     "execution_count": 36,
     "metadata": {},
     "output_type": "execute_result"
    }
   ],
   "source": [
    "%%kql -pn Spectral -pd 0.95 -pc 10\n",
    "    StormEvents \n",
    "    | summarize count() by State\n",
    "    | extend count2 = count_*1.4 \n",
    "    | extend count3 = count_*2.4\n",
    "    | sort by count_ \n",
    "    | limit 10\n",
    "    | render piechart"
   ]
  },
  {
   "cell_type": "markdown",
   "metadata": {},
   "source": [
    "### get last kql result palette "
   ]
  },
  {
   "cell_type": "code",
   "execution_count": 37,
   "metadata": {},
   "outputs": [
    {
     "data": {
      "text/html": [
       "<div style=\"display:inline-block;padding:10px;\"><div>Spectral (10 colors, desaturation 0.95)</div><div style=\"background-color:rgb(203, 59, 80);height:20px;width:20px;display:inline-block;\"></div><div style=\"background-color:rgb(233, 102, 73);height:20px;width:20px;display:inline-block;\"></div><div style=\"background-color:rgb(246, 155, 92);height:20px;width:20px;display:inline-block;\"></div><div style=\"background-color:rgb(250, 205, 127);height:20px;width:20px;display:inline-block;\"></div><div style=\"background-color:rgb(252, 239, 169);height:20px;width:20px;display:inline-block;\"></div><div style=\"background-color:rgb(242, 248, 175);height:20px;width:20px;display:inline-block;\"></div><div style=\"background-color:rgb(208, 234, 158);height:20px;width:20px;display:inline-block;\"></div><div style=\"background-color:rgb(152, 211, 165);height:20px;width:20px;display:inline-block;\"></div><div style=\"background-color:rgb(94, 180, 168);height:20px;width:20px;display:inline-block;\"></div><div style=\"background-color:rgb(57, 129, 183);height:20px;width:20px;display:inline-block;\"></div></div>"
      ],
      "text/plain": [
       "['rgb(203, 59, 80)',\n",
       " 'rgb(233, 102, 73)',\n",
       " 'rgb(246, 155, 92)',\n",
       " 'rgb(250, 205, 127)',\n",
       " 'rgb(252, 239, 169)',\n",
       " 'rgb(242, 248, 175)',\n",
       " 'rgb(208, 234, 158)',\n",
       " 'rgb(152, 211, 165)',\n",
       " 'rgb(94, 180, 168)',\n",
       " 'rgb(57, 129, 183)']"
      ]
     },
     "execution_count": 37,
     "metadata": {},
     "output_type": "execute_result"
    }
   ],
   "source": [
    "_kql_raw_result_.palette"
   ]
  },
  {
   "cell_type": "markdown",
   "metadata": {},
   "source": [
    "### get a slice from palette\n",
    "- behave as list of colors"
   ]
  },
  {
   "cell_type": "code",
   "execution_count": 38,
   "metadata": {},
   "outputs": [
    {
     "data": {
      "text/html": [
       "<div style=\"display:inline-block;padding:10px;\"><div>Spectral[3:10] (7 colors, desaturation 0.95)</div><div style=\"background-color:rgb(250, 205, 127);height:20px;width:20px;display:inline-block;\"></div><div style=\"background-color:rgb(252, 239, 169);height:20px;width:20px;display:inline-block;\"></div><div style=\"background-color:rgb(242, 248, 175);height:20px;width:20px;display:inline-block;\"></div><div style=\"background-color:rgb(208, 234, 158);height:20px;width:20px;display:inline-block;\"></div><div style=\"background-color:rgb(152, 211, 165);height:20px;width:20px;display:inline-block;\"></div><div style=\"background-color:rgb(94, 180, 168);height:20px;width:20px;display:inline-block;\"></div><div style=\"background-color:rgb(57, 129, 183);height:20px;width:20px;display:inline-block;\"></div></div>"
      ],
      "text/plain": [
       "['rgb(250, 205, 127)',\n",
       " 'rgb(252, 239, 169)',\n",
       " 'rgb(242, 248, 175)',\n",
       " 'rgb(208, 234, 158)',\n",
       " 'rgb(152, 211, 165)',\n",
       " 'rgb(94, 180, 168)',\n",
       " 'rgb(57, 129, 183)']"
      ]
     },
     "execution_count": 38,
     "metadata": {},
     "output_type": "execute_result"
    }
   ],
   "source": [
    "_kql_raw_result_.palette[3:]"
   ]
  },
  {
   "cell_type": "markdown",
   "metadata": {},
   "source": [
    "### get one color from palette"
   ]
  },
  {
   "cell_type": "code",
   "execution_count": 39,
   "metadata": {},
   "outputs": [
    {
     "data": {
      "text/html": [
       "<div style=\"display:inline-block;padding:10px;\"><div>Spectral[7]</div><div style=\"background-color:rgb(152, 211, 165);height:20px;width:20px;display:inline-block;\"></div></div>"
      ],
      "text/plain": [
       "rgb(152, 211, 165)"
      ]
     },
     "execution_count": 39,
     "metadata": {},
     "output_type": "execute_result"
    }
   ],
   "source": [
    "_kql_raw_result_.palette[7]"
   ]
  },
  {
   "cell_type": "markdown",
   "metadata": {},
   "source": [
    "### get the palette raw rgb data"
   ]
  },
  {
   "cell_type": "code",
   "execution_count": 40,
   "metadata": {},
   "outputs": [
    {
     "data": {
      "text/plain": [
       "['rgb(203, 59, 80)',\n",
       " 'rgb(233, 102, 73)',\n",
       " 'rgb(246, 155, 92)',\n",
       " 'rgb(250, 205, 127)',\n",
       " 'rgb(252, 239, 169)',\n",
       " 'rgb(242, 248, 175)',\n",
       " 'rgb(208, 234, 158)',\n",
       " 'rgb(152, 211, 165)',\n",
       " 'rgb(94, 180, 168)',\n",
       " 'rgb(57, 129, 183)']"
      ]
     },
     "execution_count": 40,
     "metadata": {},
     "output_type": "execute_result"
    }
   ],
   "source": [
    "list(_kql_raw_result_.palette)"
   ]
  },
  {
   "cell_type": "markdown",
   "metadata": {},
   "source": [
    "### get palette_name (name of the palette)"
   ]
  },
  {
   "cell_type": "code",
   "execution_count": 41,
   "metadata": {},
   "outputs": [
    {
     "data": {
      "text/plain": [
       "'Spectral'"
      ]
     },
     "execution_count": 41,
     "metadata": {},
     "output_type": "execute_result"
    }
   ],
   "source": [
    "_kql_raw_result_.options['palette_name']"
   ]
  },
  {
   "cell_type": "markdown",
   "metadata": {},
   "source": [
    "### get palette_colors value (number of colors in palette)"
   ]
  },
  {
   "cell_type": "code",
   "execution_count": 42,
   "metadata": {},
   "outputs": [
    {
     "data": {
      "text/plain": [
       "10"
      ]
     },
     "execution_count": 42,
     "metadata": {},
     "output_type": "execute_result"
    }
   ],
   "source": [
    "_kql_raw_result_.options['palette_colors']"
   ]
  },
  {
   "cell_type": "markdown",
   "metadata": {},
   "source": [
    "### get palette_desaturation value"
   ]
  },
  {
   "cell_type": "code",
   "execution_count": 43,
   "metadata": {},
   "outputs": [
    {
     "data": {
      "text/plain": [
       "0.95"
      ]
     },
     "execution_count": 43,
     "metadata": {},
     "output_type": "execute_result"
    }
   ],
   "source": [
    "_kql_raw_result_.options['palette_desaturation']"
   ]
  },
  {
   "cell_type": "markdown",
   "metadata": {},
   "source": [
    "### get palette_reverse state"
   ]
  },
  {
   "cell_type": "code",
   "execution_count": 44,
   "metadata": {},
   "outputs": [
    {
     "data": {
      "text/plain": [
       "False"
      ]
     },
     "execution_count": 44,
     "metadata": {},
     "output_type": "execute_result"
    }
   ],
   "source": [
    "_kql_raw_result_.options['palette_reverse']"
   ]
  },
  {
   "cell_type": "markdown",
   "metadata": {},
   "source": [
    "### get builin palettes"
   ]
  },
  {
   "cell_type": "code",
   "execution_count": 45,
   "metadata": {
    "scrolled": true
   },
   "outputs": [
    {
     "data": {
      "text/html": [
       "<div style=\"text-align:center\"><h1>10 colors palettes (desaturation 0.95)</h1></div><div style=\"display:inline-block;padding:10px;\"><div>deep</div><div style=\"background-color:rgb(78, 114, 173);height:20px;width:20px;display:inline-block;\"></div><div style=\"background-color:rgb(217, 132, 85);height:20px;width:20px;display:inline-block;\"></div><div style=\"background-color:rgb(87, 165, 105);height:20px;width:20px;display:inline-block;\"></div><div style=\"background-color:rgb(193, 80, 84);height:20px;width:20px;display:inline-block;\"></div><div style=\"background-color:rgb(129, 115, 177);height:20px;width:20px;display:inline-block;\"></div><div style=\"background-color:rgb(145, 120, 97);height:20px;width:20px;display:inline-block;\"></div><div style=\"background-color:rgb(216, 140, 194);height:20px;width:20px;display:inline-block;\"></div><div style=\"background-color:rgb(140, 140, 140);height:20px;width:20px;display:inline-block;\"></div><div style=\"background-color:rgb(201, 183, 118);height:20px;width:20px;display:inline-block;\"></div><div style=\"background-color:rgb(102, 179, 202);height:20px;width:20px;display:inline-block;\"></div></div><div style=\"display:inline-block;padding:10px;\"><div>muted</div><div style=\"background-color:rgb(75, 120, 204);height:20px;width:20px;display:inline-block;\"></div><div style=\"background-color:rgb(233, 134, 78);height:20px;width:20px;display:inline-block;\"></div><div style=\"background-color:rgb(108, 201, 102);height:20px;width:20px;display:inline-block;\"></div><div style=\"background-color:rgb(211, 97, 97);height:20px;width:20px;display:inline-block;\"></div><div style=\"background-color:rgb(148, 109, 178);height:20px;width:20px;display:inline-block;\"></div><div style=\"background-color:rgb(138, 97, 62);height:20px;width:20px;display:inline-block;\"></div><div style=\"background-color:rgb(217, 128, 191);height:20px;width:20px;display:inline-block;\"></div><div style=\"background-color:rgb(121, 121, 121);height:20px;width:20px;display:inline-block;\"></div><div style=\"background-color:rgb(210, 185, 105);height:20px;width:20px;display:inline-block;\"></div><div style=\"background-color:rgb(132, 197, 223);height:20px;width:20px;display:inline-block;\"></div></div><div style=\"display:inline-block;padding:10px;\"><div>bright</div><div style=\"background-color:rgb(8, 65, 248);height:20px;width:20px;display:inline-block;\"></div><div style=\"background-color:rgb(248, 124, 6);height:20px;width:20px;display:inline-block;\"></div><div style=\"background-color:rgb(30, 196, 58);height:20px;width:20px;display:inline-block;\"></div><div style=\"background-color:rgb(226, 5, 16);height:20px;width:20px;display:inline-block;\"></div><div style=\"background-color:rgb(138, 47, 221);height:20px;width:20px;display:inline-block;\"></div><div style=\"background-color:rgb(155, 72, 3);height:20px;width:20px;display:inline-block;\"></div><div style=\"background-color:rgb(236, 80, 191);height:20px;width:20px;display:inline-block;\"></div><div style=\"background-color:rgb(163, 163, 163);height:20px;width:20px;display:inline-block;\"></div><div style=\"background-color:rgb(248, 192, 6);height:20px;width:20px;display:inline-block;\"></div><div style=\"background-color:rgb(6, 210, 248);height:20px;width:20px;display:inline-block;\"></div></div><div style=\"display:inline-block;padding:10px;\"><div>pastel</div><div style=\"background-color:rgb(163, 201, 241);height:20px;width:20px;display:inline-block;\"></div><div style=\"background-color:rgb(251, 180, 133);height:20px;width:20px;display:inline-block;\"></div><div style=\"background-color:rgb(143, 226, 162);height:20px;width:20px;display:inline-block;\"></div><div style=\"background-color:rgb(252, 161, 157);height:20px;width:20px;display:inline-block;\"></div><div style=\"background-color:rgb(208, 188, 253);height:20px;width:20px;display:inline-block;\"></div><div style=\"background-color:rgb(220, 187, 156);height:20px;width:20px;display:inline-block;\"></div><div style=\"background-color:rgb(248, 177, 227);height:20px;width:20px;display:inline-block;\"></div><div style=\"background-color:rgb(207, 207, 207);height:20px;width:20px;display:inline-block;\"></div><div style=\"background-color:rgb(252, 251, 165);height:20px;width:20px;display:inline-block;\"></div><div style=\"background-color:rgb(186, 240, 238);height:20px;width:20px;display:inline-block;\"></div></div><div style=\"display:inline-block;padding:10px;\"><div>dark</div><div style=\"background-color:rgb(3, 29, 123);height:20px;width:20px;display:inline-block;\"></div><div style=\"background-color:rgb(172, 65, 17);height:20px;width:20px;display:inline-block;\"></div><div style=\"background-color:rgb(20, 110, 29);height:20px;width:20px;display:inline-block;\"></div><div style=\"background-color:rgb(136, 11, 3);height:20px;width:20px;display:inline-block;\"></div><div style=\"background-color:rgb(88, 32, 110);height:20px;width:20px;display:inline-block;\"></div><div style=\"background-color:rgb(87, 47, 14);height:20px;width:20px;display:inline-block;\"></div><div style=\"background-color:rgb(159, 55, 128);height:20px;width:20px;display:inline-block;\"></div><div style=\"background-color:rgb(60, 60, 60);height:20px;width:20px;display:inline-block;\"></div><div style=\"background-color:rgb(179, 131, 14);height:20px;width:20px;display:inline-block;\"></div><div style=\"background-color:rgb(2, 96, 113);height:20px;width:20px;display:inline-block;\"></div></div><div style=\"display:inline-block;padding:10px;\"><div>colorblind</div><div style=\"background-color:rgb(5, 113, 173);height:20px;width:20px;display:inline-block;\"></div><div style=\"background-color:rgb(216, 141, 10);height:20px;width:20px;display:inline-block;\"></div><div style=\"background-color:rgb(5, 154, 113);height:20px;width:20px;display:inline-block;\"></div><div style=\"background-color:rgb(207, 94, 5);height:20px;width:20px;display:inline-block;\"></div><div style=\"background-color:rgb(201, 122, 186);height:20px;width:20px;display:inline-block;\"></div><div style=\"background-color:rgb(199, 145, 99);height:20px;width:20px;display:inline-block;\"></div><div style=\"background-color:rgb(249, 176, 227);height:20px;width:20px;display:inline-block;\"></div><div style=\"background-color:rgb(148, 148, 148);height:20px;width:20px;display:inline-block;\"></div><div style=\"background-color:rgb(231, 220, 55);height:20px;width:20px;display:inline-block;\"></div><div style=\"background-color:rgb(89, 178, 229);height:20px;width:20px;display:inline-block;\"></div></div><div style=\"display:inline-block;padding:10px;\"><div>Accent</div><div style=\"background-color:rgb(128, 199, 128);height:20px;width:20px;display:inline-block;\"></div><div style=\"background-color:rgb(190, 174, 211);height:20px;width:20px;display:inline-block;\"></div><div style=\"background-color:rgb(250, 192, 136);height:20px;width:20px;display:inline-block;\"></div><div style=\"background-color:rgb(252, 252, 155);height:20px;width:20px;display:inline-block;\"></div><div style=\"background-color:rgb(58, 108, 173);height:20px;width:20px;display:inline-block;\"></div><div style=\"background-color:rgb(234, 7, 126);height:20px;width:20px;display:inline-block;\"></div><div style=\"background-color:rgb(186, 91, 27);height:20px;width:20px;display:inline-block;\"></div><div style=\"background-color:rgb(102, 102, 102);height:20px;width:20px;display:inline-block;\"></div><div style=\"background-color:rgb(128, 199, 128);height:20px;width:20px;display:inline-block;\"></div><div style=\"background-color:rgb(190, 174, 211);height:20px;width:20px;display:inline-block;\"></div></div><div style=\"display:inline-block;padding:10px;\"><div>Blues</div><div style=\"background-color:rgb(229, 239, 248);height:20px;width:20px;display:inline-block;\"></div><div style=\"background-color:rgb(212, 227, 242);height:20px;width:20px;display:inline-block;\"></div><div style=\"background-color:rgb(192, 216, 235);height:20px;width:20px;display:inline-block;\"></div><div style=\"background-color:rgb(162, 202, 224);height:20px;width:20px;display:inline-block;\"></div><div style=\"background-color:rgb(127, 183, 215);height:20px;width:20px;display:inline-block;\"></div><div style=\"background-color:rgb(95, 163, 205);height:20px;width:20px;display:inline-block;\"></div><div style=\"background-color:rgb(66, 142, 193);height:20px;width:20px;display:inline-block;\"></div><div style=\"background-color:rgb(42, 118, 180);height:20px;width:20px;display:inline-block;\"></div><div style=\"background-color:rgb(22, 95, 163);height:20px;width:20px;display:inline-block;\"></div><div style=\"background-color:rgb(11, 71, 138);height:20px;width:20px;display:inline-block;\"></div></div><div style=\"display:inline-block;padding:10px;\"><div>BrBG</div><div style=\"background-color:rgb(131, 77, 12);height:20px;width:20px;display:inline-block;\"></div><div style=\"background-color:rgb(177, 119, 41);height:20px;width:20px;display:inline-block;\"></div><div style=\"background-color:rgb(210, 174, 104);height:20px;width:20px;display:inline-block;\"></div><div style=\"background-color:rgb(236, 217, 171);height:20px;width:20px;display:inline-block;\"></div><div style=\"background-color:rgb(244, 238, 223);height:20px;width:20px;display:inline-block;\"></div><div style=\"background-color:rgb(224, 239, 237);height:20px;width:20px;display:inline-block;\"></div><div style=\"background-color:rgb(175, 222, 215);height:20px;width:20px;display:inline-block;\"></div><div style=\"background-color:rgb(108, 187, 176);height:20px;width:20px;display:inline-block;\"></div><div style=\"background-color:rgb(45, 138, 131);height:20px;width:20px;display:inline-block;\"></div><div style=\"background-color:rgb(3, 95, 87);height:20px;width:20px;display:inline-block;\"></div></div><div style=\"display:inline-block;padding:10px;\"><div>BuGn</div><div style=\"background-color:rgb(234, 246, 249);height:20px;width:20px;display:inline-block;\"></div><div style=\"background-color:rgb(218, 240, 240);height:20px;width:20px;display:inline-block;\"></div><div style=\"background-color:rgb(196, 231, 224);height:20px;width:20px;display:inline-block;\"></div><div style=\"background-color:rgb(158, 216, 202);height:20px;width:20px;display:inline-block;\"></div><div style=\"background-color:rgb(122, 199, 176);height:20px;width:20px;display:inline-block;\"></div><div style=\"background-color:rgb(91, 184, 146);height:20px;width:20px;display:inline-block;\"></div><div style=\"background-color:rgb(65, 168, 114);height:20px;width:20px;display:inline-block;\"></div><div style=\"background-color:rgb(42, 142, 77);height:20px;width:20px;display:inline-block;\"></div><div style=\"background-color:rgb(18, 119, 55);height:20px;width:20px;display:inline-block;\"></div><div style=\"background-color:rgb(2, 95, 39);height:20px;width:20px;display:inline-block;\"></div></div><div style=\"display:inline-block;padding:10px;\"><div>BuPu</div><div style=\"background-color:rgb(230, 240, 246);height:20px;width:20px;display:inline-block;\"></div><div style=\"background-color:rgb(210, 224, 237);height:20px;width:20px;display:inline-block;\"></div><div style=\"background-color:rgb(186, 207, 226);height:20px;width:20px;display:inline-block;\"></div><div style=\"background-color:rgb(162, 189, 217);height:20px;width:20px;display:inline-block;\"></div><div style=\"background-color:rgb(147, 164, 203);height:20px;width:20px;display:inline-block;\"></div><div style=\"background-color:rgb(141, 135, 189);height:20px;width:20px;display:inline-block;\"></div><div style=\"background-color:rgb(139, 105, 173);height:20px;width:20px;display:inline-block;\"></div><div style=\"background-color:rgb(135, 74, 158);height:20px;width:20px;display:inline-block;\"></div><div style=\"background-color:rgb(129, 39, 136);height:20px;width:20px;display:inline-block;\"></div><div style=\"background-color:rgb(111, 13, 107);height:20px;width:20px;display:inline-block;\"></div></div><div style=\"display:inline-block;padding:10px;\"><div>CMRmap</div><div style=\"background-color:rgb(29, 29, 90);height:20px;width:20px;display:inline-block;\"></div><div style=\"background-color:rgb(57, 41, 152);height:20px;width:20px;display:inline-block;\"></div><div style=\"background-color:rgb(90, 43, 177);height:20px;width:20px;display:inline-block;\"></div><div style=\"background-color:rgb(144, 52, 131);height:20px;width:20px;display:inline-block;\"></div><div style=\"background-color:rgb(214, 63, 73);height:20px;width:20px;display:inline-block;\"></div><div style=\"background-color:rgb(240, 89, 29);height:20px;width:20px;display:inline-block;\"></div><div style=\"background-color:rgb(223, 131, 7);height:20px;width:20px;display:inline-block;\"></div><div style=\"background-color:rgb(224, 177, 26);height:20px;width:20px;display:inline-block;\"></div><div style=\"background-color:rgb(225, 209, 85);height:20px;width:20px;display:inline-block;\"></div><div style=\"background-color:rgb(234, 234, 164);height:20px;width:20px;display:inline-block;\"></div></div><div style=\"display:inline-block;padding:10px;\"><div>Dark2</div><div style=\"background-color:rgb(30, 154, 117);height:20px;width:20px;display:inline-block;\"></div><div style=\"background-color:rgb(211, 95, 7);height:20px;width:20px;display:inline-block;\"></div><div style=\"background-color:rgb(118, 113, 177);height:20px;width:20px;display:inline-block;\"></div><div style=\"background-color:rgb(226, 45, 137);height:20px;width:20px;display:inline-block;\"></div><div style=\"background-color:rgb(101, 162, 33);height:20px;width:20px;display:inline-block;\"></div><div style=\"background-color:rgb(224, 168, 7);height:20px;width:20px;display:inline-block;\"></div><div style=\"background-color:rgb(162, 116, 32);height:20px;width:20px;display:inline-block;\"></div><div style=\"background-color:rgb(102, 102, 102);height:20px;width:20px;display:inline-block;\"></div><div style=\"background-color:rgb(30, 154, 117);height:20px;width:20px;display:inline-block;\"></div><div style=\"background-color:rgb(211, 95, 7);height:20px;width:20px;display:inline-block;\"></div></div><div style=\"display:inline-block;padding:10px;\"><div>GnBu</div><div style=\"background-color:rgb(230, 244, 225);height:20px;width:20px;display:inline-block;\"></div><div style=\"background-color:rgb(215, 238, 210);height:20px;width:20px;display:inline-block;\"></div><div style=\"background-color:rgb(198, 231, 195);height:20px;width:20px;display:inline-block;\"></div><div style=\"background-color:rgb(172, 220, 183);height:20px;width:20px;display:inline-block;\"></div><div style=\"background-color:rgb(141, 208, 189);height:20px;width:20px;display:inline-block;\"></div><div style=\"background-color:rgb(109, 192, 199);height:20px;width:20px;display:inline-block;\"></div><div style=\"background-color:rgb(78, 174, 205);height:20px;width:20px;display:inline-block;\"></div><div style=\"background-color:rgb(52, 145, 189);height:20px;width:20px;display:inline-block;\"></div><div style=\"background-color:rgb(27, 119, 176);height:20px;width:20px;display:inline-block;\"></div><div style=\"background-color:rgb(11, 92, 156);height:20px;width:20px;display:inline-block;\"></div></div><div style=\"display:inline-block;padding:10px;\"><div>Greens</div><div style=\"background-color:rgb(234, 246, 230);height:20px;width:20px;display:inline-block;\"></div><div style=\"background-color:rgb(216, 238, 210);height:20px;width:20px;display:inline-block;\"></div><div style=\"background-color:rgb(193, 229, 187);height:20px;width:20px;display:inline-block;\"></div><div style=\"background-color:rgb(165, 216, 159);height:20px;width:20px;display:inline-block;\"></div><div style=\"background-color:rgb(133, 201, 133);height:20px;width:20px;display:inline-block;\"></div><div style=\"background-color:rgb(99, 184, 110);height:20px;width:20px;display:inline-block;\"></div><div style=\"background-color:rgb(65, 165, 92);height:20px;width:20px;display:inline-block;\"></div><div style=\"background-color:rgb(42, 141, 73);height:20px;width:20px;display:inline-block;\"></div><div style=\"background-color:rgb(18, 119, 55);height:20px;width:20px;display:inline-block;\"></div><div style=\"background-color:rgb(2, 95, 39);height:20px;width:20px;display:inline-block;\"></div></div><div style=\"display:inline-block;padding:10px;\"><div>Greys</div><div style=\"background-color:rgb(244, 244, 244);height:20px;width:20px;display:inline-block;\"></div><div style=\"background-color:rgb(229, 229, 229);height:20px;width:20px;display:inline-block;\"></div><div style=\"background-color:rgb(212, 212, 212);height:20px;width:20px;display:inline-block;\"></div><div style=\"background-color:rgb(191, 191, 191);height:20px;width:20px;display:inline-block;\"></div><div style=\"background-color:rgb(164, 164, 164);height:20px;width:20px;display:inline-block;\"></div><div style=\"background-color:rgb(137, 137, 137);height:20px;width:20px;display:inline-block;\"></div><div style=\"background-color:rgb(112, 112, 112);height:20px;width:20px;display:inline-block;\"></div><div style=\"background-color:rgb(87, 87, 87);height:20px;width:20px;display:inline-block;\"></div><div style=\"background-color:rgb(56, 56, 56);height:20px;width:20px;display:inline-block;\"></div><div style=\"background-color:rgb(26, 26, 26);height:20px;width:20px;display:inline-block;\"></div></div><div style=\"display:inline-block;padding:10px;\"><div>OrRd</div><div style=\"background-color:rgb(253, 235, 211);height:20px;width:20px;display:inline-block;\"></div><div style=\"background-color:rgb(251, 222, 183);height:20px;width:20px;display:inline-block;\"></div><div style=\"background-color:rgb(250, 207, 156);height:20px;width:20px;display:inline-block;\"></div><div style=\"background-color:rgb(250, 189, 137);height:20px;width:20px;display:inline-block;\"></div><div style=\"background-color:rgb(248, 158, 108);height:20px;width:20px;display:inline-block;\"></div><div style=\"background-color:rgb(243, 128, 86);height:20px;width:20px;display:inline-block;\"></div><div style=\"background-color:rgb(232, 99, 72);height:20px;width:20px;display:inline-block;\"></div><div style=\"background-color:rgb(214, 60, 42);height:20px;width:20px;display:inline-block;\"></div><div style=\"background-color:rgb(190, 25, 18);height:20px;width:20px;display:inline-block;\"></div><div style=\"background-color:rgb(160, 4, 4);height:20px;width:20px;display:inline-block;\"></div></div><div style=\"display:inline-block;padding:10px;\"><div>Oranges</div><div style=\"background-color:rgb(253, 234, 215);height:20px;width:20px;display:inline-block;\"></div><div style=\"background-color:rgb(251, 220, 188);height:20px;width:20px;display:inline-block;\"></div><div style=\"background-color:rgb(250, 202, 155);height:20px;width:20px;display:inline-block;\"></div><div style=\"background-color:rgb(249, 177, 115);height:20px;width:20px;display:inline-block;\"></div><div style=\"background-color:rgb(248, 153, 81);height:20px;width:20px;display:inline-block;\"></div><div style=\"background-color:rgb(243, 128, 50);height:20px;width:20px;display:inline-block;\"></div><div style=\"background-color:rgb(233, 103, 23);height:20px;width:20px;display:inline-block;\"></div><div style=\"background-color:rgb(215, 79, 9);height:20px;width:20px;display:inline-block;\"></div><div style=\"background-color:rgb(183, 63, 6);height:20px;width:20px;display:inline-block;\"></div><div style=\"background-color:rgb(151, 51, 7);height:20px;width:20px;display:inline-block;\"></div></div><div style=\"display:inline-block;padding:10px;\"><div>PRGn</div><div style=\"background-color:rgb(111, 40, 123);height:20px;width:20px;display:inline-block;\"></div><div style=\"background-color:rgb(145, 99, 161);height:20px;width:20px;display:inline-block;\"></div><div style=\"background-color:rgb(181, 150, 195);height:20px;width:20px;display:inline-block;\"></div><div style=\"background-color:rgb(217, 196, 222);height:20px;width:20px;display:inline-block;\"></div><div style=\"background-color:rgb(239, 231, 240);height:20px;width:20px;display:inline-block;\"></div><div style=\"background-color:rgb(233, 243, 231);height:20px;width:20px;display:inline-block;\"></div><div style=\"background-color:rgb(199, 231, 193);height:20px;width:20px;display:inline-block;\"></div><div style=\"background-color:rgb(145, 204, 143);height:20px;width:20px;display:inline-block;\"></div><div style=\"background-color:rgb(79, 161, 90);height:20px;width:20px;display:inline-block;\"></div><div style=\"background-color:rgb(26, 112, 53);height:20px;width:20px;display:inline-block;\"></div></div><div style=\"display:inline-block;padding:10px;\"><div>Paired</div><div style=\"background-color:rgb(167, 205, 225);height:20px;width:20px;display:inline-block;\"></div><div style=\"background-color:rgb(34, 119, 176);height:20px;width:20px;display:inline-block;\"></div><div style=\"background-color:rgb(178, 220, 140);height:20px;width:20px;display:inline-block;\"></div><div style=\"background-color:rgb(53, 157, 46);height:20px;width:20px;display:inline-block;\"></div><div style=\"background-color:rgb(248, 156, 155);height:20px;width:20px;display:inline-block;\"></div><div style=\"background-color:rgb(221, 31, 32);height:20px;width:20px;display:inline-block;\"></div><div style=\"background-color:rgb(249, 190, 114);height:20px;width:20px;display:inline-block;\"></div><div style=\"background-color:rgb(248, 127, 6);height:20px;width:20px;display:inline-block;\"></div><div style=\"background-color:rgb(201, 178, 213);height:20px;width:20px;display:inline-block;\"></div><div style=\"background-color:rgb(106, 63, 151);height:20px;width:20px;display:inline-block;\"></div></div><div style=\"display:inline-block;padding:10px;\"><div>Pastel1</div><div style=\"background-color:rgb(249, 181, 175);height:20px;width:20px;display:inline-block;\"></div><div style=\"background-color:rgb(180, 204, 225);height:20px;width:20px;display:inline-block;\"></div><div style=\"background-color:rgb(204, 234, 197);height:20px;width:20px;display:inline-block;\"></div><div style=\"background-color:rgb(221, 203, 227);height:20px;width:20px;display:inline-block;\"></div><div style=\"background-color:rgb(251, 216, 168);height:20px;width:20px;display:inline-block;\"></div><div style=\"background-color:rgb(253, 253, 205);height:20px;width:20px;display:inline-block;\"></div><div style=\"background-color:rgb(227, 215, 190);height:20px;width:20px;display:inline-block;\"></div><div style=\"background-color:rgb(252, 218, 235);height:20px;width:20px;display:inline-block;\"></div><div style=\"background-color:rgb(242, 242, 242);height:20px;width:20px;display:inline-block;\"></div><div style=\"background-color:rgb(249, 181, 175);height:20px;width:20px;display:inline-block;\"></div></div><div style=\"display:inline-block;padding:10px;\"><div>Pastel2</div><div style=\"background-color:rgb(180, 224, 204);height:20px;width:20px;display:inline-block;\"></div><div style=\"background-color:rgb(250, 205, 174);height:20px;width:20px;display:inline-block;\"></div><div style=\"background-color:rgb(203, 213, 231);height:20px;width:20px;display:inline-block;\"></div><div style=\"background-color:rgb(242, 203, 227);height:20px;width:20px;display:inline-block;\"></div><div style=\"background-color:rgb(229, 243, 202);height:20px;width:20px;display:inline-block;\"></div><div style=\"background-color:rgb(252, 240, 176);height:20px;width:20px;display:inline-block;\"></div><div style=\"background-color:rgb(240, 225, 204);height:20px;width:20px;display:inline-block;\"></div><div style=\"background-color:rgb(204, 204, 204);height:20px;width:20px;display:inline-block;\"></div><div style=\"background-color:rgb(180, 224, 204);height:20px;width:20px;display:inline-block;\"></div><div style=\"background-color:rgb(250, 205, 174);height:20px;width:20px;display:inline-block;\"></div></div><div style=\"display:inline-block;padding:10px;\"><div>PiYG</div><div style=\"background-color:rgb(187, 28, 120);height:20px;width:20px;display:inline-block;\"></div><div style=\"background-color:rgb(214, 103, 164);height:20px;width:20px;display:inline-block;\"></div><div style=\"background-color:rgb(233, 165, 204);height:20px;width:20px;display:inline-block;\"></div><div style=\"background-color:rgb(247, 210, 231);height:20px;width:20px;display:inline-block;\"></div><div style=\"background-color:rgb(249, 236, 243);height:20px;width:20px;display:inline-block;\"></div><div style=\"background-color:rgb(239, 245, 229);height:20px;width:20px;display:inline-block;\"></div><div style=\"background-color:rgb(213, 236, 183);height:20px;width:20px;display:inline-block;\"></div><div style=\"background-color:rgb(167, 211, 116);height:20px;width:20px;display:inline-block;\"></div><div style=\"background-color:rgb(117, 176, 61);height:20px;width:20px;display:inline-block;\"></div><div style=\"background-color:rgb(73, 138, 34);height:20px;width:20px;display:inline-block;\"></div></div><div style=\"display:inline-block;padding:10px;\"><div>PuBu</div><div style=\"background-color:rgb(241, 235, 244);height:20px;width:20px;display:inline-block;\"></div><div style=\"background-color:rgb(223, 221, 236);height:20px;width:20px;display:inline-block;\"></div><div style=\"background-color:rgb(201, 206, 227);height:20px;width:20px;display:inline-block;\"></div><div style=\"background-color:rgb(170, 190, 218);height:20px;width:20px;display:inline-block;\"></div><div style=\"background-color:rgb(135, 176, 209);height:20px;width:20px;display:inline-block;\"></div><div style=\"background-color:rgb(96, 159, 198);height:20px;width:20px;display:inline-block;\"></div><div style=\"background-color:rgb(53, 140, 187);height:20px;width:20px;display:inline-block;\"></div><div style=\"background-color:rgb(17, 116, 174);height:20px;width:20px;display:inline-block;\"></div><div style=\"background-color:rgb(8, 98, 152);height:20px;width:20px;display:inline-block;\"></div><div style=\"background-color:rgb(6, 79, 123);height:20px;width:20px;display:inline-block;\"></div></div><div style=\"display:inline-block;padding:10px;\"><div>PuBuGn</div><div style=\"background-color:rgb(241, 232, 242);height:20px;width:20px;display:inline-block;\"></div><div style=\"background-color:rgb(223, 218, 235);height:20px;width:20px;display:inline-block;\"></div><div style=\"background-color:rgb(201, 206, 227);height:20px;width:20px;display:inline-block;\"></div><div style=\"background-color:rgb(170, 190, 218);height:20px;width:20px;display:inline-block;\"></div><div style=\"background-color:rgb(127, 175, 209);height:20px;width:20px;display:inline-block;\"></div><div style=\"background-color:rgb(88, 159, 198);height:20px;width:20px;display:inline-block;\"></div><div style=\"background-color:rgb(53, 141, 184);height:20px;width:20px;display:inline-block;\"></div><div style=\"background-color:rgb(13, 128, 143);height:20px;width:20px;display:inline-block;\"></div><div style=\"background-color:rgb(4, 114, 108);height:20px;width:20px;display:inline-block;\"></div><div style=\"background-color:rgb(3, 95, 77);height:20px;width:20px;display:inline-block;\"></div></div><div style=\"display:inline-block;padding:10px;\"><div>PuOr</div><div style=\"background-color:rgb(169, 85, 10);height:20px;width:20px;display:inline-block;\"></div><div style=\"background-color:rgb(210, 121, 22);height:20px;width:20px;display:inline-block;\"></div><div style=\"background-color:rgb(240, 167, 79);height:20px;width:20px;display:inline-block;\"></div><div style=\"background-color:rgb(251, 209, 155);height:20px;width:20px;display:inline-block;\"></div><div style=\"background-color:rgb(249, 236, 218);height:20px;width:20px;display:inline-block;\"></div><div style=\"background-color:rgb(233, 234, 241);height:20px;width:20px;display:inline-block;\"></div><div style=\"background-color:rgb(203, 202, 225);height:20px;width:20px;display:inline-block;\"></div><div style=\"background-color:rgb(163, 155, 197);height:20px;width:20px;display:inline-block;\"></div><div style=\"background-color:rgb(120, 101, 163);height:20px;width:20px;display:inline-block;\"></div><div style=\"background-color:rgb(80, 37, 127);height:20px;width:20px;display:inline-block;\"></div></div><div style=\"display:inline-block;padding:10px;\"><div>PuRd</div><div style=\"background-color:rgb(235, 230, 241);height:20px;width:20px;display:inline-block;\"></div><div style=\"background-color:rgb(222, 207, 229);height:20px;width:20px;display:inline-block;\"></div><div style=\"background-color:rgb(209, 179, 213);height:20px;width:20px;display:inline-block;\"></div><div style=\"background-color:rgb(200, 152, 199);height:20px;width:20px;display:inline-block;\"></div><div style=\"background-color:rgb(212, 120, 183);height:20px;width:20px;display:inline-block;\"></div><div style=\"background-color:rgb(222, 83, 161);height:20px;width:20px;display:inline-block;\"></div><div style=\"background-color:rgb(224, 43, 133);height:20px;width:20px;display:inline-block;\"></div><div style=\"background-color:rgb(205, 26, 95);height:20px;width:20px;display:inline-block;\"></div><div style=\"background-color:rgb(171, 12, 76);height:20px;width:20px;display:inline-block;\"></div><div style=\"background-color:rgb(134, 3, 57);height:20px;width:20px;display:inline-block;\"></div></div><div style=\"display:inline-block;padding:10px;\"><div>Purples</div><div style=\"background-color:rgb(242, 241, 247);height:20px;width:20px;display:inline-block;\"></div><div style=\"background-color:rgb(229, 228, 240);height:20px;width:20px;display:inline-block;\"></div><div style=\"background-color:rgb(213, 213, 232);height:20px;width:20px;display:inline-block;\"></div><div style=\"background-color:rgb(191, 192, 220);height:20px;width:20px;display:inline-block;\"></div><div style=\"background-color:rgb(169, 167, 206);height:20px;width:20px;display:inline-block;\"></div><div style=\"background-color:rgb(148, 144, 193);height:20px;width:20px;display:inline-block;\"></div><div style=\"background-color:rgb(127, 122, 182);height:20px;width:20px;display:inline-block;\"></div><div style=\"background-color:rgb(110, 90, 164);height:20px;width:20px;display:inline-block;\"></div><div style=\"background-color:rgb(94, 59, 149);height:20px;width:20px;display:inline-block;\"></div><div style=\"background-color:rgb(78, 30, 135);height:20px;width:20px;display:inline-block;\"></div></div><div style=\"display:inline-block;padding:10px;\"><div>RdBu</div><div style=\"background-color:rgb(166, 25, 44);height:20px;width:20px;display:inline-block;\"></div><div style=\"background-color:rgb(203, 84, 73);height:20px;width:20px;display:inline-block;\"></div><div style=\"background-color:rgb(232, 146, 117);height:20px;width:20px;display:inline-block;\"></div><div style=\"background-color:rgb(247, 200, 176);height:20px;width:20px;display:inline-block;\"></div><div style=\"background-color:rgb(249, 234, 225);height:20px;width:20px;display:inline-block;\"></div><div style=\"background-color:rgb(230, 238, 243);height:20px;width:20px;display:inline-block;\"></div><div style=\"background-color:rgb(187, 217, 232);height:20px;width:20px;display:inline-block;\"></div><div style=\"background-color:rgb(125, 181, 211);height:20px;width:20px;display:inline-block;\"></div><div style=\"background-color:rgb(63, 137, 187);height:20px;width:20px;display:inline-block;\"></div><div style=\"background-color:rgb(33, 96, 161);height:20px;width:20px;display:inline-block;\"></div></div><div style=\"display:inline-block;padding:10px;\"><div>RdGy</div><div style=\"background-color:rgb(166, 25, 44);height:20px;width:20px;display:inline-block;\"></div><div style=\"background-color:rgb(203, 84, 73);height:20px;width:20px;display:inline-block;\"></div><div style=\"background-color:rgb(232, 146, 117);height:20px;width:20px;display:inline-block;\"></div><div style=\"background-color:rgb(247, 200, 176);height:20px;width:20px;display:inline-block;\"></div><div style=\"background-color:rgb(253, 238, 230);height:20px;width:20px;display:inline-block;\"></div><div style=\"background-color:rgb(241, 241, 241);height:20px;width:20px;display:inline-block;\"></div><div style=\"background-color:rgb(210, 210, 210);height:20px;width:20px;display:inline-block;\"></div><div style=\"background-color:rgb(171, 171, 171);height:20px;width:20px;display:inline-block;\"></div><div style=\"background-color:rgb(123, 123, 123);height:20px;width:20px;display:inline-block;\"></div><div style=\"background-color:rgb(72, 72, 72);height:20px;width:20px;display:inline-block;\"></div></div><div style=\"display:inline-block;padding:10px;\"><div>RdPu</div><div style=\"background-color:rgb(252, 230, 227);height:20px;width:20px;display:inline-block;\"></div><div style=\"background-color:rgb(251, 212, 209);height:20px;width:20px;display:inline-block;\"></div><div style=\"background-color:rgb(250, 192, 191);height:20px;width:20px;display:inline-block;\"></div><div style=\"background-color:rgb(247, 164, 183);height:20px;width:20px;display:inline-block;\"></div><div style=\"background-color:rgb(244, 126, 169);height:20px;width:20px;display:inline-block;\"></div><div style=\"background-color:rgb(233, 89, 157);height:20px;width:20px;display:inline-block;\"></div><div style=\"background-color:rgb(212, 52, 148);height:20px;width:20px;display:inline-block;\"></div><div style=\"background-color:rgb(177, 13, 128);height:20px;width:20px;display:inline-block;\"></div><div style=\"background-color:rgb(141, 4, 119);height:20px;width:20px;display:inline-block;\"></div><div style=\"background-color:rgb(105, 3, 112);height:20px;width:20px;display:inline-block;\"></div></div><div style=\"display:inline-block;padding:10px;\"><div>RdYlBu</div><div style=\"background-color:rgb(205, 47, 43);height:20px;width:20px;display:inline-block;\"></div><div style=\"background-color:rgb(233, 99, 65);height:20px;width:20px;display:inline-block;\"></div><div style=\"background-color:rgb(246, 155, 92);height:20px;width:20px;display:inline-block;\"></div><div style=\"background-color:rgb(250, 205, 130);height:20px;width:20px;display:inline-block;\"></div><div style=\"background-color:rgb(252, 239, 171);height:20px;width:20px;display:inline-block;\"></div><div style=\"background-color:rgb(240, 248, 217);height:20px;width:20px;display:inline-block;\"></div><div style=\"background-color:rgb(206, 233, 241);height:20px;width:20px;display:inline-block;\"></div><div style=\"background-color:rgb(156, 203, 224);height:20px;width:20px;display:inline-block;\"></div><div style=\"background-color:rgb(109, 161, 200);height:20px;width:20px;display:inline-block;\"></div><div style=\"background-color:rgb(69, 111, 174);height:20px;width:20px;display:inline-block;\"></div></div><div style=\"display:inline-block;padding:10px;\"><div>RdYlGn</div><div style=\"background-color:rgb(205, 47, 43);height:20px;width:20px;display:inline-block;\"></div><div style=\"background-color:rgb(233, 99, 65);height:20px;width:20px;display:inline-block;\"></div><div style=\"background-color:rgb(246, 155, 92);height:20px;width:20px;display:inline-block;\"></div><div style=\"background-color:rgb(250, 205, 127);height:20px;width:20px;display:inline-block;\"></div><div style=\"background-color:rgb(252, 239, 169);height:20px;width:20px;display:inline-block;\"></div><div style=\"background-color:rgb(236, 245, 169);height:20px;width:20px;display:inline-block;\"></div><div style=\"background-color:rgb(198, 228, 129);height:20px;width:20px;display:inline-block;\"></div><div style=\"background-color:rgb(147, 206, 106);height:20px;width:20px;display:inline-block;\"></div><div style=\"background-color:rgb(89, 179, 97);height:20px;width:20px;display:inline-block;\"></div><div style=\"background-color:rgb(26, 144, 77);height:20px;width:20px;display:inline-block;\"></div></div><div style=\"display:inline-block;padding:10px;\"><div>Reds</div><div style=\"background-color:rgb(253, 230, 219);height:20px;width:20px;display:inline-block;\"></div><div style=\"background-color:rgb(251, 208, 189);height:20px;width:20px;display:inline-block;\"></div><div style=\"background-color:rgb(249, 181, 155);height:20px;width:20px;display:inline-block;\"></div><div style=\"background-color:rgb(248, 151, 121);height:20px;width:20px;display:inline-block;\"></div><div style=\"background-color:rgb(247, 122, 92);height:20px;width:20px;display:inline-block;\"></div><div style=\"background-color:rgb(242, 92, 67);height:20px;width:20px;display:inline-block;\"></div><div style=\"background-color:rgb(231, 60, 47);height:20px;width:20px;display:inline-block;\"></div><div style=\"background-color:rgb(204, 34, 35);height:20px;width:20px;display:inline-block;\"></div><div style=\"background-color:rgb(177, 23, 28);height:20px;width:20px;display:inline-block;\"></div><div style=\"background-color:rgb(144, 14, 21);height:20px;width:20px;display:inline-block;\"></div></div><div style=\"display:inline-block;padding:10px;\"><div>Set1</div><div style=\"background-color:rgb(222, 31, 32);height:20px;width:20px;display:inline-block;\"></div><div style=\"background-color:rgb(58, 125, 180);height:20px;width:20px;display:inline-block;\"></div><div style=\"background-color:rgb(79, 172, 76);height:20px;width:20px;display:inline-block;\"></div><div style=\"background-color:rgb(150, 80, 160);height:20px;width:20px;display:inline-block;\"></div><div style=\"background-color:rgb(248, 127, 6);height:20px;width:20px;display:inline-block;\"></div><div style=\"background-color:rgb(249, 249, 56);height:20px;width:20px;display:inline-block;\"></div><div style=\"background-color:rgb(162, 86, 43);height:20px;width:20px;display:inline-block;\"></div><div style=\"background-color:rgb(244, 131, 190);height:20px;width:20px;display:inline-block;\"></div><div style=\"background-color:rgb(153, 153, 153);height:20px;width:20px;display:inline-block;\"></div><div style=\"background-color:rgb(222, 31, 32);height:20px;width:20px;display:inline-block;\"></div></div><div style=\"display:inline-block;padding:10px;\"><div>Set2</div><div style=\"background-color:rgb(104, 191, 164);height:20px;width:20px;display:inline-block;\"></div><div style=\"background-color:rgb(248, 142, 101);height:20px;width:20px;display:inline-block;\"></div><div style=\"background-color:rgb(142, 160, 201);height:20px;width:20px;display:inline-block;\"></div><div style=\"background-color:rgb(228, 140, 194);height:20px;width:20px;display:inline-block;\"></div><div style=\"background-color:rgb(165, 212, 87);height:20px;width:20px;display:inline-block;\"></div><div style=\"background-color:rgb(249, 213, 52);height:20px;width:20px;display:inline-block;\"></div><div style=\"background-color:rgb(226, 195, 150);height:20px;width:20px;display:inline-block;\"></div><div style=\"background-color:rgb(179, 179, 179);height:20px;width:20px;display:inline-block;\"></div><div style=\"background-color:rgb(104, 191, 164);height:20px;width:20px;display:inline-block;\"></div><div style=\"background-color:rgb(248, 142, 101);height:20px;width:20px;display:inline-block;\"></div></div><div style=\"display:inline-block;padding:10px;\"><div>Set3</div><div style=\"background-color:rgb(142, 209, 197);height:20px;width:20px;display:inline-block;\"></div><div style=\"background-color:rgb(253, 253, 180);height:20px;width:20px;display:inline-block;\"></div><div style=\"background-color:rgb(190, 186, 217);height:20px;width:20px;display:inline-block;\"></div><div style=\"background-color:rgb(247, 130, 117);height:20px;width:20px;display:inline-block;\"></div><div style=\"background-color:rgb(130, 176, 208);height:20px;width:20px;display:inline-block;\"></div><div style=\"background-color:rgb(249, 179, 101);height:20px;width:20px;display:inline-block;\"></div><div style=\"background-color:rgb(178, 219, 107);height:20px;width:20px;display:inline-block;\"></div><div style=\"background-color:rgb(250, 206, 228);height:20px;width:20px;display:inline-block;\"></div><div style=\"background-color:rgb(217, 217, 217);height:20px;width:20px;display:inline-block;\"></div><div style=\"background-color:rgb(186, 129, 187);height:20px;width:20px;display:inline-block;\"></div></div><div style=\"display:inline-block;padding:10px;\"><div>Spectral</div><div style=\"background-color:rgb(203, 59, 80);height:20px;width:20px;display:inline-block;\"></div><div style=\"background-color:rgb(233, 102, 73);height:20px;width:20px;display:inline-block;\"></div><div style=\"background-color:rgb(246, 155, 92);height:20px;width:20px;display:inline-block;\"></div><div style=\"background-color:rgb(250, 205, 127);height:20px;width:20px;display:inline-block;\"></div><div style=\"background-color:rgb(252, 239, 169);height:20px;width:20px;display:inline-block;\"></div><div style=\"background-color:rgb(242, 248, 175);height:20px;width:20px;display:inline-block;\"></div><div style=\"background-color:rgb(208, 234, 158);height:20px;width:20px;display:inline-block;\"></div><div style=\"background-color:rgb(152, 211, 165);height:20px;width:20px;display:inline-block;\"></div><div style=\"background-color:rgb(94, 180, 168);height:20px;width:20px;display:inline-block;\"></div><div style=\"background-color:rgb(57, 129, 183);height:20px;width:20px;display:inline-block;\"></div></div><div style=\"display:inline-block;padding:10px;\"><div>Wistia</div><div style=\"background-color:rgb(234, 242, 91);height:20px;width:20px;display:inline-block;\"></div><div style=\"background-color:rgb(242, 233, 57);height:20px;width:20px;display:inline-block;\"></div><div style=\"background-color:rgb(249, 224, 29);height:20px;width:20px;display:inline-block;\"></div><div style=\"background-color:rgb(248, 208, 20);height:20px;width:20px;display:inline-block;\"></div><div style=\"background-color:rgb(248, 193, 10);height:20px;width:20px;display:inline-block;\"></div><div style=\"background-color:rgb(248, 180, 6);height:20px;width:20px;display:inline-block;\"></div><div style=\"background-color:rgb(248, 171, 6);height:20px;width:20px;display:inline-block;\"></div><div style=\"background-color:rgb(248, 160, 6);height:20px;width:20px;display:inline-block;\"></div><div style=\"background-color:rgb(247, 149, 6);height:20px;width:20px;display:inline-block;\"></div><div style=\"background-color:rgb(246, 138, 6);height:20px;width:20px;display:inline-block;\"></div></div><div style=\"display:inline-block;padding:10px;\"><div>YlGn</div><div style=\"background-color:rgb(248, 251, 198);height:20px;width:20px;display:inline-block;\"></div><div style=\"background-color:rgb(232, 244, 177);height:20px;width:20px;display:inline-block;\"></div><div style=\"background-color:rgb(209, 234, 161);height:20px;width:20px;display:inline-block;\"></div><div style=\"background-color:rgb(176, 220, 145);height:20px;width:20px;display:inline-block;\"></div><div style=\"background-color:rgb(140, 204, 130);height:20px;width:20px;display:inline-block;\"></div><div style=\"background-color:rgb(102, 186, 112);height:20px;width:20px;display:inline-block;\"></div><div style=\"background-color:rgb(65, 165, 92);height:20px;width:20px;display:inline-block;\"></div><div style=\"background-color:rgb(42, 135, 72);height:20px;width:20px;display:inline-block;\"></div><div style=\"background-color:rgb(18, 113, 60);height:20px;width:20px;display:inline-block;\"></div><div style=\"background-color:rgb(2, 91, 50);height:20px;width:20px;display:inline-block;\"></div></div><div style=\"display:inline-block;padding:10px;\"><div>YlGnBu</div><div style=\"background-color:rgb(240, 248, 189);height:20px;width:20px;display:inline-block;\"></div><div style=\"background-color:rgb(219, 239, 179);height:20px;width:20px;display:inline-block;\"></div><div style=\"background-color:rgb(188, 227, 182);height:20px;width:20px;display:inline-block;\"></div><div style=\"background-color:rgb(134, 205, 185);height:20px;width:20px;display:inline-block;\"></div><div style=\"background-color:rgb(90, 187, 190);height:20px;width:20px;display:inline-block;\"></div><div style=\"background-color:rgb(55, 166, 190);height:20px;width:20px;display:inline-block;\"></div><div style=\"background-color:rgb(33, 139, 186);height:20px;width:20px;display:inline-block;\"></div><div style=\"background-color:rgb(36, 102, 168);height:20px;width:20px;display:inline-block;\"></div><div style=\"background-color:rgb(38, 71, 153);height:20px;width:20px;display:inline-block;\"></div><div style=\"background-color:rgb(31, 47, 128);height:20px;width:20px;display:inline-block;\"></div></div><div style=\"display:inline-block;padding:10px;\"><div>YlOrBr</div><div style=\"background-color:rgb(253, 248, 200);height:20px;width:20px;display:inline-block;\"></div><div style=\"background-color:rgb(252, 236, 171);height:20px;width:20px;display:inline-block;\"></div><div style=\"background-color:rgb(251, 220, 137);height:20px;width:20px;display:inline-block;\"></div><div style=\"background-color:rgb(249, 197, 88);height:20px;width:20px;display:inline-block;\"></div><div style=\"background-color:rgb(249, 167, 59);height:20px;width:20px;display:inline-block;\"></div><div style=\"background-color:rgb(242, 138, 38);height:20px;width:20px;display:inline-block;\"></div><div style=\"background-color:rgb(227, 109, 23);height:20px;width:20px;display:inline-block;\"></div><div style=\"background-color:rgb(204, 83, 10);height:20px;width:20px;display:inline-block;\"></div><div style=\"background-color:rgb(171, 63, 7);height:20px;width:20px;display:inline-block;\"></div><div style=\"background-color:rgb(135, 49, 7);height:20px;width:20px;display:inline-block;\"></div></div><div style=\"display:inline-block;padding:10px;\"><div>YlOrRd</div><div style=\"background-color:rgb(252, 240, 174);height:20px;width:20px;display:inline-block;\"></div><div style=\"background-color:rgb(251, 226, 144);height:20px;width:20px;display:inline-block;\"></div><div style=\"background-color:rgb(250, 209, 114);height:20px;width:20px;display:inline-block;\"></div><div style=\"background-color:rgb(249, 180, 83);height:20px;width:20px;display:inline-block;\"></div><div style=\"background-color:rgb(248, 154, 70);height:20px;width:20px;display:inline-block;\"></div><div style=\"background-color:rgb(247, 120, 58);height:20px;width:20px;display:inline-block;\"></div><div style=\"background-color:rgb(244, 77, 46);height:20px;width:20px;display:inline-block;\"></div><div style=\"background-color:rgb(226, 39, 35);height:20px;width:20px;display:inline-block;\"></div><div style=\"background-color:rgb(200, 16, 37);height:20px;width:20px;display:inline-block;\"></div><div style=\"background-color:rgb(167, 4, 40);height:20px;width:20px;display:inline-block;\"></div></div><div style=\"display:inline-block;padding:10px;\"><div>afmhot</div><div style=\"background-color:rgb(44, 1, 1);height:20px;width:20px;display:inline-block;\"></div><div style=\"background-color:rgb(89, 2, 2);height:20px;width:20px;display:inline-block;\"></div><div style=\"background-color:rgb(134, 13, 3);height:20px;width:20px;display:inline-block;\"></div><div style=\"background-color:rgb(181, 60, 4);height:20px;width:20px;display:inline-block;\"></div><div style=\"background-color:rgb(226, 105, 5);height:20px;width:20px;display:inline-block;\"></div><div style=\"background-color:rgb(249, 149, 28);height:20px;width:20px;display:inline-block;\"></div><div style=\"background-color:rgb(250, 194, 73);height:20px;width:20px;display:inline-block;\"></div><div style=\"background-color:rgb(251, 241, 120);height:20px;width:20px;display:inline-block;\"></div><div style=\"background-color:rgb(252, 252, 165);height:20px;width:20px;display:inline-block;\"></div><div style=\"background-color:rgb(253, 253, 210);height:20px;width:20px;display:inline-block;\"></div></div><div style=\"display:inline-block;padding:10px;\"><div>autumn</div><div style=\"background-color:rgb(248, 28, 6);height:20px;width:20px;display:inline-block;\"></div><div style=\"background-color:rgb(248, 50, 6);height:20px;width:20px;display:inline-block;\"></div><div style=\"background-color:rgb(248, 71, 6);height:20px;width:20px;display:inline-block;\"></div><div style=\"background-color:rgb(248, 94, 6);height:20px;width:20px;display:inline-block;\"></div><div style=\"background-color:rgb(248, 116, 6);height:20px;width:20px;display:inline-block;\"></div><div style=\"background-color:rgb(248, 138, 6);height:20px;width:20px;display:inline-block;\"></div><div style=\"background-color:rgb(248, 160, 6);height:20px;width:20px;display:inline-block;\"></div><div style=\"background-color:rgb(248, 183, 6);height:20px;width:20px;display:inline-block;\"></div><div style=\"background-color:rgb(248, 204, 6);height:20px;width:20px;display:inline-block;\"></div><div style=\"background-color:rgb(248, 226, 6);height:20px;width:20px;display:inline-block;\"></div></div><div style=\"display:inline-block;padding:10px;\"><div>binary</div><div style=\"background-color:rgb(232, 232, 232);height:20px;width:20px;display:inline-block;\"></div><div style=\"background-color:rgb(209, 209, 209);height:20px;width:20px;display:inline-block;\"></div><div style=\"background-color:rgb(186, 186, 186);height:20px;width:20px;display:inline-block;\"></div><div style=\"background-color:rgb(162, 162, 162);height:20px;width:20px;display:inline-block;\"></div><div style=\"background-color:rgb(139, 139, 139);height:20px;width:20px;display:inline-block;\"></div><div style=\"background-color:rgb(116, 116, 116);height:20px;width:20px;display:inline-block;\"></div><div style=\"background-color:rgb(93, 93, 93);height:20px;width:20px;display:inline-block;\"></div><div style=\"background-color:rgb(69, 69, 69);height:20px;width:20px;display:inline-block;\"></div><div style=\"background-color:rgb(46, 46, 46);height:20px;width:20px;display:inline-block;\"></div><div style=\"background-color:rgb(23, 23, 23);height:20px;width:20px;display:inline-block;\"></div></div><div style=\"display:inline-block;padding:10px;\"><div>bone</div><div style=\"background-color:rgb(20, 20, 27);height:20px;width:20px;display:inline-block;\"></div><div style=\"background-color:rgb(40, 40, 55);height:20px;width:20px;display:inline-block;\"></div><div style=\"background-color:rgb(60, 60, 83);height:20px;width:20px;display:inline-block;\"></div><div style=\"background-color:rgb(82, 82, 112);height:20px;width:20px;display:inline-block;\"></div><div style=\"background-color:rgb(102, 109, 132);height:20px;width:20px;display:inline-block;\"></div><div style=\"background-color:rgb(122, 136, 152);height:20px;width:20px;display:inline-block;\"></div><div style=\"background-color:rgb(142, 164, 172);height:20px;width:20px;display:inline-block;\"></div><div style=\"background-color:rgb(163, 192, 193);height:20px;width:20px;display:inline-block;\"></div><div style=\"background-color:rgb(192, 214, 214);height:20px;width:20px;display:inline-block;\"></div><div style=\"background-color:rgb(223, 234, 234);height:20px;width:20px;display:inline-block;\"></div></div><div style=\"display:inline-block;padding:10px;\"><div>brg</div><div style=\"background-color:rgb(48, 5, 203);height:20px;width:20px;display:inline-block;\"></div><div style=\"background-color:rgb(91, 4, 158);height:20px;width:20px;display:inline-block;\"></div><div style=\"background-color:rgb(134, 3, 114);height:20px;width:20px;display:inline-block;\"></div><div style=\"background-color:rgb(181, 4, 70);height:20px;width:20px;display:inline-block;\"></div><div style=\"background-color:rgb(226, 5, 27);height:20px;width:20px;display:inline-block;\"></div><div style=\"background-color:rgb(226, 27, 5);height:20px;width:20px;display:inline-block;\"></div><div style=\"background-color:rgb(181, 70, 4);height:20px;width:20px;display:inline-block;\"></div><div style=\"background-color:rgb(134, 114, 3);height:20px;width:20px;display:inline-block;\"></div><div style=\"background-color:rgb(91, 158, 4);height:20px;width:20px;display:inline-block;\"></div><div style=\"background-color:rgb(48, 203, 5);height:20px;width:20px;display:inline-block;\"></div></div><div style=\"display:inline-block;padding:10px;\"><div>bwr</div><div style=\"background-color:rgb(51, 51, 249);height:20px;width:20px;display:inline-block;\"></div><div style=\"background-color:rgb(96, 96, 250);height:20px;width:20px;display:inline-block;\"></div><div style=\"background-color:rgb(140, 140, 252);height:20px;width:20px;display:inline-block;\"></div><div style=\"background-color:rgb(187, 187, 253);height:20px;width:20px;display:inline-block;\"></div><div style=\"background-color:rgb(232, 232, 254);height:20px;width:20px;display:inline-block;\"></div><div style=\"background-color:rgb(254, 232, 232);height:20px;width:20px;display:inline-block;\"></div><div style=\"background-color:rgb(253, 187, 187);height:20px;width:20px;display:inline-block;\"></div><div style=\"background-color:rgb(252, 140, 140);height:20px;width:20px;display:inline-block;\"></div><div style=\"background-color:rgb(250, 96, 96);height:20px;width:20px;display:inline-block;\"></div><div style=\"background-color:rgb(249, 51, 51);height:20px;width:20px;display:inline-block;\"></div></div><div style=\"display:inline-block;padding:10px;\"><div>cividis</div><div style=\"background-color:rgb(3, 50, 109);height:20px;width:20px;display:inline-block;\"></div><div style=\"background-color:rgb(48, 66, 107);height:20px;width:20px;display:inline-block;\"></div><div style=\"background-color:rgb(73, 82, 107);height:20px;width:20px;display:inline-block;\"></div><div style=\"background-color:rgb(94, 98, 110);height:20px;width:20px;display:inline-block;\"></div><div style=\"background-color:rgb(114, 115, 116);height:20px;width:20px;display:inline-block;\"></div><div style=\"background-color:rgb(134, 131, 120);height:20px;width:20px;display:inline-block;\"></div><div style=\"background-color:rgb(156, 148, 118);height:20px;width:20px;display:inline-block;\"></div><div style=\"background-color:rgb(179, 167, 112);height:20px;width:20px;display:inline-block;\"></div><div style=\"background-color:rgb(203, 186, 101);height:20px;width:20px;display:inline-block;\"></div><div style=\"background-color:rgb(227, 205, 83);height:20px;width:20px;display:inline-block;\"></div></div><div style=\"display:inline-block;padding:10px;\"><div>cool</div><div style=\"background-color:rgb(28, 227, 249);height:20px;width:20px;display:inline-block;\"></div><div style=\"background-color:rgb(51, 206, 249);height:20px;width:20px;display:inline-block;\"></div><div style=\"background-color:rgb(73, 184, 250);height:20px;width:20px;display:inline-block;\"></div><div style=\"background-color:rgb(97, 162, 250);height:20px;width:20px;display:inline-block;\"></div><div style=\"background-color:rgb(119, 141, 251);height:20px;width:20px;display:inline-block;\"></div><div style=\"background-color:rgb(141, 119, 251);height:20px;width:20px;display:inline-block;\"></div><div style=\"background-color:rgb(162, 97, 250);height:20px;width:20px;display:inline-block;\"></div><div style=\"background-color:rgb(184, 73, 250);height:20px;width:20px;display:inline-block;\"></div><div style=\"background-color:rgb(206, 51, 249);height:20px;width:20px;display:inline-block;\"></div><div style=\"background-color:rgb(227, 28, 249);height:20px;width:20px;display:inline-block;\"></div></div><div style=\"display:inline-block;padding:10px;\"><div>coolwarm</div><div style=\"background-color:rgb(89, 117, 220);height:20px;width:20px;display:inline-block;\"></div><div style=\"background-color:rgb(119, 152, 242);height:20px;width:20px;display:inline-block;\"></div><div style=\"background-color:rgb(150, 182, 251);height:20px;width:20px;display:inline-block;\"></div><div style=\"background-color:rgb(182, 205, 248);height:20px;width:20px;display:inline-block;\"></div><div style=\"background-color:rgb(209, 218, 232);height:20px;width:20px;display:inline-block;\"></div><div style=\"background-color:rgb(231, 214, 204);height:20px;width:20px;display:inline-block;\"></div><div style=\"background-color:rgb(243, 193, 170);height:20px;width:20px;display:inline-block;\"></div><div style=\"background-color:rgb(242, 163, 133);height:20px;width:20px;display:inline-block;\"></div><div style=\"background-color:rgb(230, 125, 99);height:20px;width:20px;display:inline-block;\"></div><div style=\"background-color:rgb(208, 80, 68);height:20px;width:20px;display:inline-block;\"></div></div><div style=\"display:inline-block;padding:10px;\"><div>copper</div><div style=\"background-color:rgb(27, 18, 11);height:20px;width:20px;display:inline-block;\"></div><div style=\"background-color:rgb(55, 36, 23);height:20px;width:20px;display:inline-block;\"></div><div style=\"background-color:rgb(83, 54, 35);height:20px;width:20px;display:inline-block;\"></div><div style=\"background-color:rgb(113, 73, 47);height:20px;width:20px;display:inline-block;\"></div><div style=\"background-color:rgb(141, 91, 59);height:20px;width:20px;display:inline-block;\"></div><div style=\"background-color:rgb(169, 109, 71);height:20px;width:20px;display:inline-block;\"></div><div style=\"background-color:rgb(197, 127, 83);height:20px;width:20px;display:inline-block;\"></div><div style=\"background-color:rgb(226, 146, 95);height:20px;width:20px;display:inline-block;\"></div><div style=\"background-color:rgb(251, 164, 107);height:20px;width:20px;display:inline-block;\"></div><div style=\"background-color:rgb(251, 181, 118);height:20px;width:20px;display:inline-block;\"></div></div><div style=\"display:inline-block;padding:10px;\"><div>cubehelix</div><div style=\"background-color:rgb(25, 18, 42);height:20px;width:20px;display:inline-block;\"></div><div style=\"background-color:rgb(24, 51, 74);height:20px;width:20px;display:inline-block;\"></div><div style=\"background-color:rgb(25, 89, 71);height:20px;width:20px;display:inline-block;\"></div><div style=\"background-color:rgb(61, 115, 52);height:20px;width:20px;display:inline-block;\"></div><div style=\"background-color:rgb(124, 120, 55);height:20px;width:20px;display:inline-block;\"></div><div style=\"background-color:rgb(185, 122, 104);height:20px;width:20px;display:inline-block;\"></div><div style=\"background-color:rgb(210, 135, 175);height:20px;width:20px;display:inline-block;\"></div><div style=\"background-color:rgb(202, 170, 229);height:20px;width:20px;display:inline-block;\"></div><div style=\"background-color:rgb(194, 210, 242);height:20px;width:20px;display:inline-block;\"></div><div style=\"background-color:rgb(214, 239, 238);height:20px;width:20px;display:inline-block;\"></div></div><div style=\"display:inline-block;padding:10px;\"><div>flag</div><div style=\"background-color:rgb(78, 124, 250);height:20px;width:20px;display:inline-block;\"></div><div style=\"background-color:rgb(84, 2, 2);height:20px;width:20px;display:inline-block;\"></div><div style=\"background-color:rgb(252, 254, 254);height:20px;width:20px;display:inline-block;\"></div><div style=\"background-color:rgb(0, 0, 0);height:20px;width:20px;display:inline-block;\"></div><div style=\"background-color:rgb(252, 219, 176);height:20px;width:20px;display:inline-block;\"></div><div style=\"background-color:rgb(4, 4, 170);height:20px;width:20px;display:inline-block;\"></div><div style=\"background-color:rgb(248, 15, 6);height:20px;width:20px;display:inline-block;\"></div><div style=\"background-color:rgb(8, 24, 248);height:20px;width:20px;display:inline-block;\"></div><div style=\"background-color:rgb(163, 4, 4);height:20px;width:20px;display:inline-block;\"></div><div style=\"background-color:rgb(183, 223, 253);height:20px;width:20px;display:inline-block;\"></div></div><div style=\"display:inline-block;padding:10px;\"><div>gist_earth</div><div style=\"background-color:rgb(17, 38, 116);height:20px;width:20px;display:inline-block;\"></div><div style=\"background-color:rgb(32, 84, 120);height:20px;width:20px;display:inline-block;\"></div><div style=\"background-color:rgb(48, 121, 125);height:20px;width:20px;display:inline-block;\"></div><div style=\"background-color:rgb(59, 138, 101);height:20px;width:20px;display:inline-block;\"></div><div style=\"background-color:rgb(70, 151, 75);height:20px;width:20px;display:inline-block;\"></div><div style=\"background-color:rgb(118, 163, 83);height:20px;width:20px;display:inline-block;\"></div><div style=\"background-color:rgb(155, 173, 91);height:20px;width:20px;display:inline-block;\"></div><div style=\"background-color:rgb(184, 174, 98);height:20px;width:20px;display:inline-block;\"></div><div style=\"background-color:rgb(199, 167, 125);height:20px;width:20px;display:inline-block;\"></div><div style=\"background-color:rgb(226, 195, 182);height:20px;width:20px;display:inline-block;\"></div></div><div style=\"display:inline-block;padding:10px;\"><div>gist_gray</div><div style=\"background-color:rgb(23, 23, 23);height:20px;width:20px;display:inline-block;\"></div><div style=\"background-color:rgb(46, 46, 46);height:20px;width:20px;display:inline-block;\"></div><div style=\"background-color:rgb(69, 69, 69);height:20px;width:20px;display:inline-block;\"></div><div style=\"background-color:rgb(93, 93, 93);height:20px;width:20px;display:inline-block;\"></div><div style=\"background-color:rgb(116, 116, 116);height:20px;width:20px;display:inline-block;\"></div><div style=\"background-color:rgb(139, 139, 139);height:20px;width:20px;display:inline-block;\"></div><div style=\"background-color:rgb(162, 162, 162);height:20px;width:20px;display:inline-block;\"></div><div style=\"background-color:rgb(186, 186, 186);height:20px;width:20px;display:inline-block;\"></div><div style=\"background-color:rgb(209, 209, 209);height:20px;width:20px;display:inline-block;\"></div><div style=\"background-color:rgb(232, 232, 232);height:20px;width:20px;display:inline-block;\"></div></div><div style=\"display:inline-block;padding:10px;\"><div>gist_heat</div><div style=\"background-color:rgb(33, 0, 0);height:20px;width:20px;display:inline-block;\"></div><div style=\"background-color:rgb(67, 1, 1);height:20px;width:20px;display:inline-block;\"></div><div style=\"background-color:rgb(100, 2, 2);height:20px;width:20px;display:inline-block;\"></div><div style=\"background-color:rgb(136, 3, 3);height:20px;width:20px;display:inline-block;\"></div><div style=\"background-color:rgb(169, 4, 4);height:20px;width:20px;display:inline-block;\"></div><div style=\"background-color:rgb(203, 27, 5);height:20px;width:20px;display:inline-block;\"></div><div style=\"background-color:rgb(236, 71, 6);height:20px;width:20px;display:inline-block;\"></div><div style=\"background-color:rgb(248, 117, 6);height:20px;width:20px;display:inline-block;\"></div><div style=\"background-color:rgb(250, 163, 75);height:20px;width:20px;display:inline-block;\"></div><div style=\"background-color:rgb(252, 209, 165);height:20px;width:20px;display:inline-block;\"></div></div><div style=\"display:inline-block;padding:10px;\"><div>gist_ncar</div><div style=\"background-color:rgb(4, 30, 167);height:20px;width:20px;display:inline-block;\"></div><div style=\"background-color:rgb(6, 210, 248);height:20px;width:20px;display:inline-block;\"></div><div style=\"background-color:rgb(6, 243, 135);height:20px;width:20px;display:inline-block;\"></div><div style=\"background-color:rgb(89, 204, 5);height:20px;width:20px;display:inline-block;\"></div><div style=\"background-color:rgb(163, 249, 45);height:20px;width:20px;display:inline-block;\"></div><div style=\"background-color:rgb(248, 234, 6);height:20px;width:20px;display:inline-block;\"></div><div style=\"background-color:rgb(248, 175, 19);height:20px;width:20px;display:inline-block;\"></div><div style=\"background-color:rgb(248, 24, 6);height:20px;width:20px;display:inline-block;\"></div><div style=\"background-color:rgb(203, 29, 249);height:20px;width:20px;display:inline-block;\"></div><div style=\"background-color:rgb(235, 143, 237);height:20px;width:20px;display:inline-block;\"></div></div><div style=\"display:inline-block;padding:10px;\"><div>gist_rainbow</div><div style=\"background-color:rgb(248, 85, 6);height:20px;width:20px;display:inline-block;\"></div><div style=\"background-color:rgb(248, 203, 6);height:20px;width:20px;display:inline-block;\"></div><div style=\"background-color:rgb(175, 248, 6);height:20px;width:20px;display:inline-block;\"></div><div style=\"background-color:rgb(52, 248, 6);height:20px;width:20px;display:inline-block;\"></div><div style=\"background-color:rgb(6, 248, 77);height:20px;width:20px;display:inline-block;\"></div><div style=\"background-color:rgb(6, 248, 195);height:20px;width:20px;display:inline-block;\"></div><div style=\"background-color:rgb(6, 183, 248);height:20px;width:20px;display:inline-block;\"></div><div style=\"background-color:rgb(6, 59, 248);height:20px;width:20px;display:inline-block;\"></div><div style=\"background-color:rgb(71, 6, 248);height:20px;width:20px;display:inline-block;\"></div><div style=\"background-color:rgb(190, 6, 248);height:20px;width:20px;display:inline-block;\"></div></div><div style=\"display:inline-block;padding:10px;\"><div>gist_stern</div><div style=\"background-color:rgb(205, 27, 49);height:20px;width:20px;display:inline-block;\"></div><div style=\"background-color:rgb(94, 47, 90);height:20px;width:20px;display:inline-block;\"></div><div style=\"background-color:rgb(70, 70, 136);height:20px;width:20px;display:inline-block;\"></div><div style=\"background-color:rgb(95, 95, 183);height:20px;width:20px;display:inline-block;\"></div><div style=\"background-color:rgb(118, 118, 229);height:20px;width:20px;display:inline-block;\"></div><div style=\"background-color:rgb(140, 140, 204);height:20px;width:20px;display:inline-block;\"></div><div style=\"background-color:rgb(160, 160, 109);height:20px;width:20px;display:inline-block;\"></div><div style=\"background-color:rgb(181, 181, 10);height:20px;width:20px;display:inline-block;\"></div><div style=\"background-color:rgb(205, 205, 84);height:20px;width:20px;display:inline-block;\"></div><div style=\"background-color:rgb(230, 230, 169);height:20px;width:20px;display:inline-block;\"></div></div><div style=\"display:inline-block;padding:10px;\"><div>gist_yarg</div><div style=\"background-color:rgb(232, 232, 232);height:20px;width:20px;display:inline-block;\"></div><div style=\"background-color:rgb(209, 209, 209);height:20px;width:20px;display:inline-block;\"></div><div style=\"background-color:rgb(186, 186, 186);height:20px;width:20px;display:inline-block;\"></div><div style=\"background-color:rgb(162, 162, 162);height:20px;width:20px;display:inline-block;\"></div><div style=\"background-color:rgb(139, 139, 139);height:20px;width:20px;display:inline-block;\"></div><div style=\"background-color:rgb(116, 116, 116);height:20px;width:20px;display:inline-block;\"></div><div style=\"background-color:rgb(93, 93, 93);height:20px;width:20px;display:inline-block;\"></div><div style=\"background-color:rgb(69, 69, 69);height:20px;width:20px;display:inline-block;\"></div><div style=\"background-color:rgb(46, 46, 46);height:20px;width:20px;display:inline-block;\"></div><div style=\"background-color:rgb(23, 23, 23);height:20px;width:20px;display:inline-block;\"></div></div><div style=\"display:inline-block;padding:10px;\"><div>gnuplot</div><div style=\"background-color:rgb(76, 3, 133);height:20px;width:20px;display:inline-block;\"></div><div style=\"background-color:rgb(108, 7, 225);height:20px;width:20px;display:inline-block;\"></div><div style=\"background-color:rgb(132, 11, 246);height:20px;width:20px;display:inline-block;\"></div><div style=\"background-color:rgb(151, 16, 187);height:20px;width:20px;display:inline-block;\"></div><div style=\"background-color:rgb(168, 27, 72);height:20px;width:20px;display:inline-block;\"></div><div style=\"background-color:rgb(183, 43, 4);height:20px;width:20px;display:inline-block;\"></div><div style=\"background-color:rgb(198, 67, 5);height:20px;width:20px;display:inline-block;\"></div><div style=\"background-color:rgb(212, 99, 5);height:20px;width:20px;display:inline-block;\"></div><div style=\"background-color:rgb(225, 139, 5);height:20px;width:20px;display:inline-block;\"></div><div style=\"background-color:rgb(237, 188, 6);height:20px;width:20px;display:inline-block;\"></div></div><div style=\"display:inline-block;padding:10px;\"><div>gnuplot2</div><div style=\"background-color:rgb(2, 2, 89);height:20px;width:20px;display:inline-block;\"></div><div style=\"background-color:rgb(4, 4, 179);height:20px;width:20px;display:inline-block;\"></div><div style=\"background-color:rgb(21, 6, 248);height:20px;width:20px;display:inline-block;\"></div><div style=\"background-color:rgb(93, 6, 248);height:20px;width:20px;display:inline-block;\"></div><div style=\"background-color:rgb(161, 23, 231);height:20px;width:20px;display:inline-block;\"></div><div style=\"background-color:rgb(230, 68, 189);height:20px;width:20px;display:inline-block;\"></div><div style=\"background-color:rgb(251, 113, 147);height:20px;width:20px;display:inline-block;\"></div><div style=\"background-color:rgb(251, 158, 101);height:20px;width:20px;display:inline-block;\"></div><div style=\"background-color:rgb(249, 201, 56);height:20px;width:20px;display:inline-block;\"></div><div style=\"background-color:rgb(248, 243, 11);height:20px;width:20px;display:inline-block;\"></div></div><div style=\"display:inline-block;padding:10px;\"><div>gray</div><div style=\"background-color:rgb(23, 23, 23);height:20px;width:20px;display:inline-block;\"></div><div style=\"background-color:rgb(46, 46, 46);height:20px;width:20px;display:inline-block;\"></div><div style=\"background-color:rgb(69, 69, 69);height:20px;width:20px;display:inline-block;\"></div><div style=\"background-color:rgb(93, 93, 93);height:20px;width:20px;display:inline-block;\"></div><div style=\"background-color:rgb(116, 116, 116);height:20px;width:20px;display:inline-block;\"></div><div style=\"background-color:rgb(139, 139, 139);height:20px;width:20px;display:inline-block;\"></div><div style=\"background-color:rgb(162, 162, 162);height:20px;width:20px;display:inline-block;\"></div><div style=\"background-color:rgb(186, 186, 186);height:20px;width:20px;display:inline-block;\"></div><div style=\"background-color:rgb(209, 209, 209);height:20px;width:20px;display:inline-block;\"></div><div style=\"background-color:rgb(232, 232, 232);height:20px;width:20px;display:inline-block;\"></div></div><div style=\"display:inline-block;padding:10px;\"><div>hot</div><div style=\"background-color:rgb(69, 1, 1);height:20px;width:20px;display:inline-block;\"></div><div style=\"background-color:rgb(128, 3, 3);height:20px;width:20px;display:inline-block;\"></div><div style=\"background-color:rgb(186, 4, 4);height:20px;width:20px;display:inline-block;\"></div><div style=\"background-color:rgb(248, 6, 6);height:20px;width:20px;display:inline-block;\"></div><div style=\"background-color:rgb(248, 63, 6);height:20px;width:20px;display:inline-block;\"></div><div style=\"background-color:rgb(248, 120, 6);height:20px;width:20px;display:inline-block;\"></div><div style=\"background-color:rgb(248, 178, 6);height:20px;width:20px;display:inline-block;\"></div><div style=\"background-color:rgb(248, 238, 6);height:20px;width:20px;display:inline-block;\"></div><div style=\"background-color:rgb(250, 250, 78);height:20px;width:20px;display:inline-block;\"></div><div style=\"background-color:rgb(252, 252, 166);height:20px;width:20px;display:inline-block;\"></div></div><div style=\"display:inline-block;padding:10px;\"><div>hsv</div><div style=\"background-color:rgb(248, 135, 6);height:20px;width:20px;display:inline-block;\"></div><div style=\"background-color:rgb(232, 248, 6);height:20px;width:20px;display:inline-block;\"></div><div style=\"background-color:rgb(103, 248, 6);height:20px;width:20px;display:inline-block;\"></div><div style=\"background-color:rgb(6, 248, 43);height:20px;width:20px;display:inline-block;\"></div><div style=\"background-color:rgb(6, 248, 172);height:20px;width:20px;display:inline-block;\"></div><div style=\"background-color:rgb(6, 195, 248);height:20px;width:20px;display:inline-block;\"></div><div style=\"background-color:rgb(6, 66, 248);height:20px;width:20px;display:inline-block;\"></div><div style=\"background-color:rgb(81, 6, 248);height:20px;width:20px;display:inline-block;\"></div><div style=\"background-color:rgb(210, 6, 248);height:20px;width:20px;display:inline-block;\"></div><div style=\"background-color:rgb(248, 6, 158);height:20px;width:20px;display:inline-block;\"></div></div><div style=\"display:inline-block;padding:10px;\"><div>icefire</div><div style=\"background-color:rgb(124, 186, 204);height:20px;width:20px;display:inline-block;\"></div><div style=\"background-color:rgb(66, 143, 202);height:20px;width:20px;display:inline-block;\"></div><div style=\"background-color:rgb(73, 93, 184);height:20px;width:20px;display:inline-block;\"></div><div style=\"background-color:rgb(59, 57, 100);height:20px;width:20px;display:inline-block;\"></div><div style=\"background-color:rgb(34, 33, 42);height:20px;width:20px;display:inline-block;\"></div><div style=\"background-color:rgb(45, 30, 33);height:20px;width:20px;display:inline-block;\"></div><div style=\"background-color:rgb(96, 42, 55);height:20px;width:20px;display:inline-block;\"></div><div style=\"background-color:rgb(165, 50, 69);height:20px;width:20px;display:inline-block;\"></div><div style=\"background-color:rgb(215, 87, 55);height:20px;width:20px;display:inline-block;\"></div><div style=\"background-color:rgb(238, 149, 91);height:20px;width:20px;display:inline-block;\"></div></div><div style=\"display:inline-block;padding:10px;\"><div>inferno</div><div style=\"background-color:rgb(20, 11, 51);height:20px;width:20px;display:inline-block;\"></div><div style=\"background-color:rgb(57, 11, 96);height:20px;width:20px;display:inline-block;\"></div><div style=\"background-color:rgb(93, 21, 107);height:20px;width:20px;display:inline-block;\"></div><div style=\"background-color:rgb(130, 35, 105);height:20px;width:20px;display:inline-block;\"></div><div style=\"background-color:rgb(166, 49, 94);height:20px;width:20px;display:inline-block;\"></div><div style=\"background-color:rgb(199, 68, 76);height:20px;width:20px;display:inline-block;\"></div><div style=\"background-color:rgb(225, 95, 51);height:20px;width:20px;display:inline-block;\"></div><div style=\"background-color:rgb(241, 131, 21);height:20px;width:20px;display:inline-block;\"></div><div style=\"background-color:rgb(246, 172, 24);height:20px;width:20px;display:inline-block;\"></div><div style=\"background-color:rgb(240, 216, 80);height:20px;width:20px;display:inline-block;\"></div></div><div style=\"display:inline-block;padding:10px;\"><div>magma</div><div style=\"background-color:rgb(18, 13, 48);height:20px;width:20px;display:inline-block;\"></div><div style=\"background-color:rgb(50, 18, 100);height:20px;width:20px;display:inline-block;\"></div><div style=\"background-color:rgb(87, 23, 123);height:20px;width:20px;display:inline-block;\"></div><div style=\"background-color:rgb(123, 38, 127);height:20px;width:20px;display:inline-block;\"></div><div style=\"background-color:rgb(160, 51, 124);height:20px;width:20px;display:inline-block;\"></div><div style=\"background-color:rgb(197, 65, 115);height:20px;width:20px;display:inline-block;\"></div><div style=\"background-color:rgb(229, 87, 100);height:20px;width:20px;display:inline-block;\"></div><div style=\"background-color:rgb(245, 127, 97);height:20px;width:20px;display:inline-block;\"></div><div style=\"background-color:rgb(250, 169, 118);height:20px;width:20px;display:inline-block;\"></div><div style=\"background-color:rgb(251, 210, 151);height:20px;width:20px;display:inline-block;\"></div></div><div style=\"display:inline-block;padding:10px;\"><div>mako</div><div style=\"background-color:rgb(34, 21, 37);height:20px;width:20px;display:inline-block;\"></div><div style=\"background-color:rgb(53, 39, 74);height:20px;width:20px;display:inline-block;\"></div><div style=\"background-color:rgb(64, 58, 114);height:20px;width:20px;display:inline-block;\"></div><div style=\"background-color:rgb(62, 83, 148);height:20px;width:20px;display:inline-block;\"></div><div style=\"background-color:rgb(56, 109, 157);height:20px;width:20px;display:inline-block;\"></div><div style=\"background-color:rgb(54, 133, 162);height:20px;width:20px;display:inline-block;\"></div><div style=\"background-color:rgb(56, 158, 167);height:20px;width:20px;display:inline-block;\"></div><div style=\"background-color:rgb(70, 184, 170);height:20px;width:20px;display:inline-block;\"></div><div style=\"background-color:rgb(111, 208, 172);height:20px;width:20px;display:inline-block;\"></div><div style=\"background-color:rgb(174, 225, 192);height:20px;width:20px;display:inline-block;\"></div></div><div style=\"display:inline-block;padding:10px;\"><div>nipy_spectral</div><div style=\"background-color:rgb(129, 3, 145);height:20px;width:20px;display:inline-block;\"></div><div style=\"background-color:rgb(5, 5, 195);height:20px;width:20px;display:inline-block;\"></div><div style=\"background-color:rgb(5, 131, 215);height:20px;width:20px;display:inline-block;\"></div><div style=\"background-color:rgb(4, 165, 156);height:20px;width:20px;display:inline-block;\"></div><div style=\"background-color:rgb(3, 152, 3);height:20px;width:20px;display:inline-block;\"></div><div style=\"background-color:rgb(5, 212, 5);height:20px;width:20px;display:inline-block;\"></div><div style=\"background-color:rgb(131, 248, 6);height:20px;width:20px;display:inline-block;\"></div><div style=\"background-color:rgb(241, 213, 6);height:20px;width:20px;display:inline-block;\"></div><div style=\"background-color:rgb(248, 94, 6);height:20px;width:20px;display:inline-block;\"></div><div style=\"background-color:rgb(212, 5, 5);height:20px;width:20px;display:inline-block;\"></div></div><div style=\"display:inline-block;padding:10px;\"><div>ocean</div><div style=\"background-color:rgb(2, 90, 24);height:20px;width:20px;display:inline-block;\"></div><div style=\"background-color:rgb(1, 57, 45);height:20px;width:20px;display:inline-block;\"></div><div style=\"background-color:rgb(1, 24, 67);height:20px;width:20px;display:inline-block;\"></div><div style=\"background-color:rgb(2, 13, 90);height:20px;width:20px;display:inline-block;\"></div><div style=\"background-color:rgb(2, 47, 113);height:20px;width:20px;display:inline-block;\"></div><div style=\"background-color:rgb(3, 80, 135);height:20px;width:20px;display:inline-block;\"></div><div style=\"background-color:rgb(4, 113, 157);height:20px;width:20px;display:inline-block;\"></div><div style=\"background-color:rgb(51, 149, 182);height:20px;width:20px;display:inline-block;\"></div><div style=\"background-color:rgb(119, 184, 206);height:20px;width:20px;display:inline-block;\"></div><div style=\"background-color:rgb(187, 219, 230);height:20px;width:20px;display:inline-block;\"></div></div><div style=\"display:inline-block;padding:10px;\"><div>pink</div><div style=\"background-color:rgb(98, 63, 63);height:20px;width:20px;display:inline-block;\"></div><div style=\"background-color:rgb(136, 89, 89);height:20px;width:20px;display:inline-block;\"></div><div style=\"background-color:rgb(165, 109, 109);height:20px;width:20px;display:inline-block;\"></div><div style=\"background-color:rgb(191, 127, 127);height:20px;width:20px;display:inline-block;\"></div><div style=\"background-color:rgb(201, 158, 141);height:20px;width:20px;display:inline-block;\"></div><div style=\"background-color:rgb(211, 183, 155);height:20px;width:20px;display:inline-block;\"></div><div style=\"background-color:rgb(220, 206, 167);height:20px;width:20px;display:inline-block;\"></div><div style=\"background-color:rgb(229, 227, 179);height:20px;width:20px;display:inline-block;\"></div><div style=\"background-color:rgb(238, 238, 205);height:20px;width:20px;display:inline-block;\"></div><div style=\"background-color:rgb(246, 246, 231);height:20px;width:20px;display:inline-block;\"></div></div><div style=\"display:inline-block;padding:10px;\"><div>plasma</div><div style=\"background-color:rgb(62, 7, 151);height:20px;width:20px;display:inline-block;\"></div><div style=\"background-color:rgb(97, 4, 162);height:20px;width:20px;display:inline-block;\"></div><div style=\"background-color:rgb(131, 10, 162);height:20px;width:20px;display:inline-block;\"></div><div style=\"background-color:rgb(162, 35, 149);height:20px;width:20px;display:inline-block;\"></div><div style=\"background-color:rgb(188, 61, 130);height:20px;width:20px;display:inline-block;\"></div><div style=\"background-color:rgb(210, 87, 111);height:20px;width:20px;display:inline-block;\"></div><div style=\"background-color:rgb(227, 113, 93);height:20px;width:20px;display:inline-block;\"></div><div style=\"background-color:rgb(241, 142, 73);height:20px;width:20px;display:inline-block;\"></div><div style=\"background-color:rgb(247, 172, 54);height:20px;width:20px;display:inline-block;\"></div><div style=\"background-color:rgb(246, 206, 41);height:20px;width:20px;display:inline-block;\"></div></div><div style=\"display:inline-block;padding:10px;\"><div>prism</div><div style=\"background-color:rgb(243, 6, 100);height:20px;width:20px;display:inline-block;\"></div><div style=\"background-color:rgb(178, 4, 180);height:20px;width:20px;display:inline-block;\"></div><div style=\"background-color:rgb(115, 6, 241);height:20px;width:20px;display:inline-block;\"></div><div style=\"background-color:rgb(97, 6, 248);height:20px;width:20px;display:inline-block;\"></div><div style=\"background-color:rgb(43, 6, 248);height:20px;width:20px;display:inline-block;\"></div><div style=\"background-color:rgb(6, 7, 248);height:20px;width:20px;display:inline-block;\"></div><div style=\"background-color:rgb(5, 69, 209);height:20px;width:20px;display:inline-block;\"></div><div style=\"background-color:rgb(4, 87, 190);height:20px;width:20px;display:inline-block;\"></div><div style=\"background-color:rgb(3, 150, 109);height:20px;width:20px;display:inline-block;\"></div><div style=\"background-color:rgb(33, 207, 18);height:20px;width:20px;display:inline-block;\"></div></div><div style=\"display:inline-block;padding:10px;\"><div>rainbow</div><div style=\"background-color:rgb(85, 75, 247);height:20px;width:20px;display:inline-block;\"></div><div style=\"background-color:rgb(40, 137, 239);height:20px;width:20px;display:inline-block;\"></div><div style=\"background-color:rgb(16, 188, 226);height:20px;width:20px;display:inline-block;\"></div><div style=\"background-color:rgb(62, 227, 210);height:20px;width:20px;display:inline-block;\"></div><div style=\"background-color:rgb(108, 248, 191);height:20px;width:20px;display:inline-block;\"></div><div style=\"background-color:rgb(153, 249, 168);height:20px;width:20px;display:inline-block;\"></div><div style=\"background-color:rgb(195, 229, 140);height:20px;width:20px;display:inline-block;\"></div><div style=\"background-color:rgb(241, 190, 108);height:20px;width:20px;display:inline-block;\"></div><div style=\"background-color:rgb(250, 138, 75);height:20px;width:20px;display:inline-block;\"></div><div style=\"background-color:rgb(249, 75, 41);height:20px;width:20px;display:inline-block;\"></div></div><div style=\"display:inline-block;padding:10px;\"><div>rocket</div><div style=\"background-color:rgb(34, 20, 47);height:20px;width:20px;display:inline-block;\"></div><div style=\"background-color:rgb(67, 28, 69);height:20px;width:20px;display:inline-block;\"></div><div style=\"background-color:rgb(103, 32, 84);height:20px;width:20px;display:inline-block;\"></div><div style=\"background-color:rgb(142, 31, 91);height:20px;width:20px;display:inline-block;\"></div><div style=\"background-color:rgb(180, 26, 87);height:20px;width:20px;display:inline-block;\"></div><div style=\"background-color:rgb(213, 44, 74);height:20px;width:20px;display:inline-block;\"></div><div style=\"background-color:rgb(232, 83, 66);height:20px;width:20px;display:inline-block;\"></div><div style=\"background-color:rgb(239, 127, 90);height:20px;width:20px;display:inline-block;\"></div><div style=\"background-color:rgb(242, 165, 127);height:20px;width:20px;display:inline-block;\"></div><div style=\"background-color:rgb(244, 200, 172);height:20px;width:20px;display:inline-block;\"></div></div><div style=\"display:inline-block;padding:10px;\"><div>seismic</div><div style=\"background-color:rgb(3, 3, 137);height:20px;width:20px;display:inline-block;\"></div><div style=\"background-color:rgb(5, 5, 200);height:20px;width:20px;display:inline-block;\"></div><div style=\"background-color:rgb(26, 26, 249);height:20px;width:20px;display:inline-block;\"></div><div style=\"background-color:rgb(120, 120, 251);height:20px;width:20px;display:inline-block;\"></div><div style=\"background-color:rgb(210, 210, 253);height:20px;width:20px;display:inline-block;\"></div><div style=\"background-color:rgb(253, 210, 210);height:20px;width:20px;display:inline-block;\"></div><div style=\"background-color:rgb(251, 120, 120);height:20px;width:20px;display:inline-block;\"></div><div style=\"background-color:rgb(249, 26, 26);height:20px;width:20px;display:inline-block;\"></div><div style=\"background-color:rgb(214, 5, 5);height:20px;width:20px;display:inline-block;\"></div><div style=\"background-color:rgb(169, 4, 4);height:20px;width:20px;display:inline-block;\"></div></div><div style=\"display:inline-block;padding:10px;\"><div>spring</div><div style=\"background-color:rgb(249, 28, 227);height:20px;width:20px;display:inline-block;\"></div><div style=\"background-color:rgb(249, 51, 206);height:20px;width:20px;display:inline-block;\"></div><div style=\"background-color:rgb(250, 73, 184);height:20px;width:20px;display:inline-block;\"></div><div style=\"background-color:rgb(250, 97, 162);height:20px;width:20px;display:inline-block;\"></div><div style=\"background-color:rgb(251, 119, 141);height:20px;width:20px;display:inline-block;\"></div><div style=\"background-color:rgb(251, 141, 119);height:20px;width:20px;display:inline-block;\"></div><div style=\"background-color:rgb(250, 162, 97);height:20px;width:20px;display:inline-block;\"></div><div style=\"background-color:rgb(250, 184, 73);height:20px;width:20px;display:inline-block;\"></div><div style=\"background-color:rgb(249, 206, 51);height:20px;width:20px;display:inline-block;\"></div><div style=\"background-color:rgb(249, 227, 28);height:20px;width:20px;display:inline-block;\"></div></div><div style=\"display:inline-block;padding:10px;\"><div>summer</div><div style=\"background-color:rgb(25, 136, 100);height:20px;width:20px;display:inline-block;\"></div><div style=\"background-color:rgb(48, 147, 101);height:20px;width:20px;display:inline-block;\"></div><div style=\"background-color:rgb(71, 159, 102);height:20px;width:20px;display:inline-block;\"></div><div style=\"background-color:rgb(95, 171, 103);height:20px;width:20px;display:inline-block;\"></div><div style=\"background-color:rgb(117, 183, 104);height:20px;width:20px;display:inline-block;\"></div><div style=\"background-color:rgb(139, 194, 104);height:20px;width:20px;display:inline-block;\"></div><div style=\"background-color:rgb(161, 205, 104);height:20px;width:20px;display:inline-block;\"></div><div style=\"background-color:rgb(184, 217, 104);height:20px;width:20px;display:inline-block;\"></div><div style=\"background-color:rgb(206, 228, 105);height:20px;width:20px;display:inline-block;\"></div><div style=\"background-color:rgb(229, 239, 105);height:20px;width:20px;display:inline-block;\"></div></div><div style=\"display:inline-block;padding:10px;\"><div>tab10</div><div style=\"background-color:rgb(34, 118, 176);height:20px;width:20px;display:inline-block;\"></div><div style=\"background-color:rgb(248, 127, 20);height:20px;width:20px;display:inline-block;\"></div><div style=\"background-color:rgb(46, 157, 46);height:20px;width:20px;display:inline-block;\"></div><div style=\"background-color:rgb(209, 43, 44);height:20px;width:20px;display:inline-block;\"></div><div style=\"background-color:rgb(147, 105, 186);height:20px;width:20px;display:inline-block;\"></div><div style=\"background-color:rgb(138, 87, 76);height:20px;width:20px;display:inline-block;\"></div><div style=\"background-color:rgb(224, 121, 192);height:20px;width:20px;display:inline-block;\"></div><div style=\"background-color:rgb(127, 127, 127);height:20px;width:20px;display:inline-block;\"></div><div style=\"background-color:rgb(184, 185, 37);height:20px;width:20px;display:inline-block;\"></div><div style=\"background-color:rgb(27, 186, 202);height:20px;width:20px;display:inline-block;\"></div></div><div style=\"display:inline-block;padding:10px;\"><div>tab20</div><div style=\"background-color:rgb(34, 118, 176);height:20px;width:20px;display:inline-block;\"></div><div style=\"background-color:rgb(175, 199, 230);height:20px;width:20px;display:inline-block;\"></div><div style=\"background-color:rgb(248, 127, 20);height:20px;width:20px;display:inline-block;\"></div><div style=\"background-color:rgb(251, 187, 123);height:20px;width:20px;display:inline-block;\"></div><div style=\"background-color:rgb(46, 157, 46);height:20px;width:20px;display:inline-block;\"></div><div style=\"background-color:rgb(153, 220, 140);height:20px;width:20px;display:inline-block;\"></div><div style=\"background-color:rgb(209, 43, 44);height:20px;width:20px;display:inline-block;\"></div><div style=\"background-color:rgb(252, 154, 152);height:20px;width:20px;display:inline-block;\"></div><div style=\"background-color:rgb(147, 105, 186);height:20px;width:20px;display:inline-block;\"></div><div style=\"background-color:rgb(196, 176, 212);height:20px;width:20px;display:inline-block;\"></div></div><div style=\"display:inline-block;padding:10px;\"><div>tab20b</div><div style=\"background-color:rgb(58, 60, 119);height:20px;width:20px;display:inline-block;\"></div><div style=\"background-color:rgb(84, 85, 160);height:20px;width:20px;display:inline-block;\"></div><div style=\"background-color:rgb(109, 112, 204);height:20px;width:20px;display:inline-block;\"></div><div style=\"background-color:rgb(157, 159, 220);height:20px;width:20px;display:inline-block;\"></div><div style=\"background-color:rgb(98, 119, 58);height:20px;width:20px;display:inline-block;\"></div><div style=\"background-color:rgb(139, 159, 84);height:20px;width:20px;display:inline-block;\"></div><div style=\"background-color:rgb(179, 204, 109);height:20px;width:20px;display:inline-block;\"></div><div style=\"background-color:rgb(205, 217, 157);height:20px;width:20px;display:inline-block;\"></div><div style=\"background-color:rgb(137, 108, 51);height:20px;width:20px;display:inline-block;\"></div><div style=\"background-color:rgb(185, 156, 60);height:20px;width:20px;display:inline-block;\"></div></div><div style=\"display:inline-block;padding:10px;\"><div>tab20c</div><div style=\"background-color:rgb(52, 129, 185);height:20px;width:20px;display:inline-block;\"></div><div style=\"background-color:rgb(109, 173, 211);height:20px;width:20px;display:inline-block;\"></div><div style=\"background-color:rgb(159, 201, 223);height:20px;width:20px;display:inline-block;\"></div><div style=\"background-color:rgb(199, 218, 237);height:20px;width:20px;display:inline-block;\"></div><div style=\"background-color:rgb(224, 86, 18);height:20px;width:20px;display:inline-block;\"></div><div style=\"background-color:rgb(248, 141, 64);height:20px;width:20px;display:inline-block;\"></div><div style=\"background-color:rgb(249, 174, 110);height:20px;width:20px;display:inline-block;\"></div><div style=\"background-color:rgb(250, 207, 164);height:20px;width:20px;display:inline-block;\"></div><div style=\"background-color:rgb(51, 160, 85);height:20px;width:20px;display:inline-block;\"></div><div style=\"background-color:rgb(118, 194, 119);height:20px;width:20px;display:inline-block;\"></div></div><div style=\"display:inline-block;padding:10px;\"><div>terrain</div><div style=\"background-color:rgb(25, 112, 209);height:20px;width:20px;display:inline-block;\"></div><div style=\"background-color:rgb(5, 165, 203);height:20px;width:20px;display:inline-block;\"></div><div style=\"background-color:rgb(25, 203, 106);height:20px;width:20px;display:inline-block;\"></div><div style=\"background-color:rgb(119, 224, 127);height:20px;width:20px;display:inline-block;\"></div><div style=\"background-color:rgb(208, 243, 146);height:20px;width:20px;display:inline-block;\"></div><div style=\"background-color:rgb(229, 223, 142);height:20px;width:20px;display:inline-block;\"></div><div style=\"background-color:rgb(184, 165, 117);height:20px;width:20px;display:inline-block;\"></div><div style=\"background-color:rgb(136, 105, 91);height:20px;width:20px;display:inline-block;\"></div><div style=\"background-color:rgb(162, 137, 132);height:20px;width:20px;display:inline-block;\"></div><div style=\"background-color:rgb(208, 196, 193);height:20px;width:20px;display:inline-block;\"></div></div><div style=\"display:inline-block;padding:10px;\"><div>viridis</div><div style=\"background-color:rgb(72, 35, 112);height:20px;width:20px;display:inline-block;\"></div><div style=\"background-color:rgb(68, 63, 131);height:20px;width:20px;display:inline-block;\"></div><div style=\"background-color:rgb(58, 88, 138);height:20px;width:20px;display:inline-block;\"></div><div style=\"background-color:rgb(47, 110, 139);height:20px;width:20px;display:inline-block;\"></div><div style=\"background-color:rgb(39, 131, 139);height:20px;width:20px;display:inline-block;\"></div><div style=\"background-color:rgb(33, 151, 135);height:20px;width:20px;display:inline-block;\"></div><div style=\"background-color:rgb(45, 172, 125);height:20px;width:20px;display:inline-block;\"></div><div style=\"background-color:rgb(84, 193, 106);height:20px;width:20px;display:inline-block;\"></div><div style=\"background-color:rgb(134, 209, 76);height:20px;width:20px;display:inline-block;\"></div><div style=\"background-color:rgb(191, 218, 39);height:20px;width:20px;display:inline-block;\"></div></div><div style=\"display:inline-block;padding:10px;\"><div>vlag</div><div style=\"background-color:rgb(89, 130, 185);height:20px;width:20px;display:inline-block;\"></div><div style=\"background-color:rgb(128, 154, 192);height:20px;width:20px;display:inline-block;\"></div><div style=\"background-color:rgb(164, 179, 204);height:20px;width:20px;display:inline-block;\"></div><div style=\"background-color:rgb(202, 208, 220);height:20px;width:20px;display:inline-block;\"></div><div style=\"background-color:rgb(239, 237, 240);height:20px;width:20px;display:inline-block;\"></div><div style=\"background-color:rgb(246, 233, 232);height:20px;width:20px;display:inline-block;\"></div><div style=\"background-color:rgb(229, 197, 195);height:20px;width:20px;display:inline-block;\"></div><div style=\"background-color:rgb(213, 161, 158);height:20px;width:20px;display:inline-block;\"></div><div style=\"background-color:rgb(198, 127, 125);height:20px;width:20px;display:inline-block;\"></div><div style=\"background-color:rgb(183, 93, 92);height:20px;width:20px;display:inline-block;\"></div></div><div style=\"display:inline-block;padding:10px;\"><div>winter</div><div style=\"background-color:rgb(6, 27, 237);height:20px;width:20px;display:inline-block;\"></div><div style=\"background-color:rgb(5, 49, 226);height:20px;width:20px;display:inline-block;\"></div><div style=\"background-color:rgb(5, 71, 214);height:20px;width:20px;display:inline-block;\"></div><div style=\"background-color:rgb(5, 93, 203);height:20px;width:20px;display:inline-block;\"></div><div style=\"background-color:rgb(4, 115, 192);height:20px;width:20px;display:inline-block;\"></div><div style=\"background-color:rgb(4, 136, 180);height:20px;width:20px;display:inline-block;\"></div><div style=\"background-color:rgb(4, 158, 169);height:20px;width:20px;display:inline-block;\"></div><div style=\"background-color:rgb(4, 181, 158);height:20px;width:20px;display:inline-block;\"></div><div style=\"background-color:rgb(5, 203, 148);height:20px;width:20px;display:inline-block;\"></div><div style=\"background-color:rgb(5, 226, 137);height:20px;width:20px;display:inline-block;\"></div></div>"
      ],
      "text/plain": [
       "['deep',\n",
       " 'muted',\n",
       " 'bright',\n",
       " 'pastel',\n",
       " 'dark',\n",
       " 'colorblind',\n",
       " 'Accent',\n",
       " 'Blues',\n",
       " 'BrBG',\n",
       " 'BuGn',\n",
       " 'BuPu',\n",
       " 'CMRmap',\n",
       " 'Dark2',\n",
       " 'GnBu',\n",
       " 'Greens',\n",
       " 'Greys',\n",
       " 'OrRd',\n",
       " 'Oranges',\n",
       " 'PRGn',\n",
       " 'Paired',\n",
       " 'Pastel1',\n",
       " 'Pastel2',\n",
       " 'PiYG',\n",
       " 'PuBu',\n",
       " 'PuBuGn',\n",
       " 'PuOr',\n",
       " 'PuRd',\n",
       " 'Purples',\n",
       " 'RdBu',\n",
       " 'RdGy',\n",
       " 'RdPu',\n",
       " 'RdYlBu',\n",
       " 'RdYlGn',\n",
       " 'Reds',\n",
       " 'Set1',\n",
       " 'Set2',\n",
       " 'Set3',\n",
       " 'Spectral',\n",
       " 'Wistia',\n",
       " 'YlGn',\n",
       " 'YlGnBu',\n",
       " 'YlOrBr',\n",
       " 'YlOrRd',\n",
       " 'afmhot',\n",
       " 'autumn',\n",
       " 'binary',\n",
       " 'bone',\n",
       " 'brg',\n",
       " 'bwr',\n",
       " 'cividis',\n",
       " 'cool',\n",
       " 'coolwarm',\n",
       " 'copper',\n",
       " 'cubehelix',\n",
       " 'flag',\n",
       " 'gist_earth',\n",
       " 'gist_gray',\n",
       " 'gist_heat',\n",
       " 'gist_ncar',\n",
       " 'gist_rainbow',\n",
       " 'gist_stern',\n",
       " 'gist_yarg',\n",
       " 'gnuplot',\n",
       " 'gnuplot2',\n",
       " 'gray',\n",
       " 'hot',\n",
       " 'hsv',\n",
       " 'icefire',\n",
       " 'inferno',\n",
       " 'magma',\n",
       " 'mako',\n",
       " 'nipy_spectral',\n",
       " 'ocean',\n",
       " 'pink',\n",
       " 'plasma',\n",
       " 'prism',\n",
       " 'rainbow',\n",
       " 'rocket',\n",
       " 'seismic',\n",
       " 'spring',\n",
       " 'summer',\n",
       " 'tab10',\n",
       " 'tab20',\n",
       " 'tab20b',\n",
       " 'tab20c',\n",
       " 'terrain',\n",
       " 'viridis',\n",
       " 'vlag',\n",
       " 'winter']"
      ]
     },
     "execution_count": 45,
     "metadata": {},
     "output_type": "execute_result"
    }
   ],
   "source": [
    "_kql_raw_result_.palettes"
   ]
  },
  {
   "cell_type": "markdown",
   "metadata": {},
   "source": [
    "### get builtin palette by name"
   ]
  },
  {
   "cell_type": "code",
   "execution_count": 46,
   "metadata": {},
   "outputs": [
    {
     "data": {
      "text/html": [
       "<div style=\"display:inline-block;padding:10px;\"><div>Oranges (10 colors, desaturation 0.95)</div><div style=\"background-color:rgb(253, 234, 215);height:20px;width:20px;display:inline-block;\"></div><div style=\"background-color:rgb(251, 220, 188);height:20px;width:20px;display:inline-block;\"></div><div style=\"background-color:rgb(250, 202, 155);height:20px;width:20px;display:inline-block;\"></div><div style=\"background-color:rgb(249, 177, 115);height:20px;width:20px;display:inline-block;\"></div><div style=\"background-color:rgb(248, 153, 81);height:20px;width:20px;display:inline-block;\"></div><div style=\"background-color:rgb(243, 128, 50);height:20px;width:20px;display:inline-block;\"></div><div style=\"background-color:rgb(233, 103, 23);height:20px;width:20px;display:inline-block;\"></div><div style=\"background-color:rgb(215, 79, 9);height:20px;width:20px;display:inline-block;\"></div><div style=\"background-color:rgb(183, 63, 6);height:20px;width:20px;display:inline-block;\"></div><div style=\"background-color:rgb(151, 51, 7);height:20px;width:20px;display:inline-block;\"></div></div>"
      ],
      "text/plain": [
       "['rgb(253, 234, 215)',\n",
       " 'rgb(251, 220, 188)',\n",
       " 'rgb(250, 202, 155)',\n",
       " 'rgb(249, 177, 115)',\n",
       " 'rgb(248, 153, 81)',\n",
       " 'rgb(243, 128, 50)',\n",
       " 'rgb(233, 103, 23)',\n",
       " 'rgb(215, 79, 9)',\n",
       " 'rgb(183, 63, 6)',\n",
       " 'rgb(151, 51, 7)']"
      ]
     },
     "execution_count": 46,
     "metadata": {},
     "output_type": "execute_result"
    }
   ],
   "source": [
    "_kql_raw_result_.palettes['Oranges']"
   ]
  },
  {
   "cell_type": "markdown",
   "metadata": {},
   "source": [
    "### get builtin palette by index "
   ]
  },
  {
   "cell_type": "code",
   "execution_count": 47,
   "metadata": {
    "scrolled": true
   },
   "outputs": [
    {
     "data": {
      "text/html": [
       "<div style=\"display:inline-block;padding:10px;\"><div>colorblind (10 colors, desaturation 0.95)</div><div style=\"background-color:rgb(5, 113, 173);height:20px;width:20px;display:inline-block;\"></div><div style=\"background-color:rgb(216, 141, 10);height:20px;width:20px;display:inline-block;\"></div><div style=\"background-color:rgb(5, 154, 113);height:20px;width:20px;display:inline-block;\"></div><div style=\"background-color:rgb(207, 94, 5);height:20px;width:20px;display:inline-block;\"></div><div style=\"background-color:rgb(201, 122, 186);height:20px;width:20px;display:inline-block;\"></div><div style=\"background-color:rgb(199, 145, 99);height:20px;width:20px;display:inline-block;\"></div><div style=\"background-color:rgb(249, 176, 227);height:20px;width:20px;display:inline-block;\"></div><div style=\"background-color:rgb(148, 148, 148);height:20px;width:20px;display:inline-block;\"></div><div style=\"background-color:rgb(231, 220, 55);height:20px;width:20px;display:inline-block;\"></div><div style=\"background-color:rgb(89, 178, 229);height:20px;width:20px;display:inline-block;\"></div></div>"
      ],
      "text/plain": [
       "['rgb(5, 113, 173)',\n",
       " 'rgb(216, 141, 10)',\n",
       " 'rgb(5, 154, 113)',\n",
       " 'rgb(207, 94, 5)',\n",
       " 'rgb(201, 122, 186)',\n",
       " 'rgb(199, 145, 99)',\n",
       " 'rgb(249, 176, 227)',\n",
       " 'rgb(148, 148, 148)',\n",
       " 'rgb(231, 220, 55)',\n",
       " 'rgb(89, 178, 229)']"
      ]
     },
     "execution_count": 47,
     "metadata": {},
     "output_type": "execute_result"
    }
   ],
   "source": [
    "_kql_raw_result_.palettes[5]"
   ]
  },
  {
   "cell_type": "markdown",
   "metadata": {},
   "source": [
    "### get slice of an indexed builtin palette"
   ]
  },
  {
   "cell_type": "code",
   "execution_count": 48,
   "metadata": {},
   "outputs": [
    {
     "data": {
      "text/html": [
       "<div style=\"display:inline-block;padding:10px;\"><div>colorblind[0:6] (6 colors, desaturation 0.95)</div><div style=\"background-color:rgb(5, 113, 173);height:20px;width:20px;display:inline-block;\"></div><div style=\"background-color:rgb(216, 141, 10);height:20px;width:20px;display:inline-block;\"></div><div style=\"background-color:rgb(5, 154, 113);height:20px;width:20px;display:inline-block;\"></div><div style=\"background-color:rgb(207, 94, 5);height:20px;width:20px;display:inline-block;\"></div><div style=\"background-color:rgb(201, 122, 186);height:20px;width:20px;display:inline-block;\"></div><div style=\"background-color:rgb(199, 145, 99);height:20px;width:20px;display:inline-block;\"></div></div>"
      ],
      "text/plain": [
       "['rgb(5, 113, 173)',\n",
       " 'rgb(216, 141, 10)',\n",
       " 'rgb(5, 154, 113)',\n",
       " 'rgb(207, 94, 5)',\n",
       " 'rgb(201, 122, 186)',\n",
       " 'rgb(199, 145, 99)']"
      ]
     },
     "execution_count": 48,
     "metadata": {},
     "output_type": "execute_result"
    }
   ],
   "source": [
    "_kql_raw_result_.palettes[5][:6]"
   ]
  },
  {
   "cell_type": "markdown",
   "metadata": {},
   "source": [
    "### get a color of a slice from an indexed builtin palette"
   ]
  },
  {
   "cell_type": "code",
   "execution_count": 49,
   "metadata": {
    "scrolled": true
   },
   "outputs": [
    {
     "data": {
      "text/html": [
       "<div style=\"display:inline-block;padding:10px;\"><div>colorblind[3]</div><div style=\"background-color:rgb(207, 94, 5);height:20px;width:20px;display:inline-block;\"></div></div>"
      ],
      "text/plain": [
       "rgb(207, 94, 5)"
      ]
     },
     "execution_count": 49,
     "metadata": {},
     "output_type": "execute_result"
    }
   ],
   "source": [
    "_kql_raw_result_.palettes[5][:6][3]"
   ]
  },
  {
   "cell_type": "markdown",
   "metadata": {},
   "source": [
    "### get slice of a named builtin palette"
   ]
  },
  {
   "cell_type": "code",
   "execution_count": 50,
   "metadata": {},
   "outputs": [
    {
     "data": {
      "text/html": [
       "<div style=\"display:inline-block;padding:10px;\"><div>terrain[0:6] (6 colors, desaturation 0.95)</div><div style=\"background-color:rgb(25, 112, 209);height:20px;width:20px;display:inline-block;\"></div><div style=\"background-color:rgb(5, 165, 203);height:20px;width:20px;display:inline-block;\"></div><div style=\"background-color:rgb(25, 203, 106);height:20px;width:20px;display:inline-block;\"></div><div style=\"background-color:rgb(119, 224, 127);height:20px;width:20px;display:inline-block;\"></div><div style=\"background-color:rgb(208, 243, 146);height:20px;width:20px;display:inline-block;\"></div><div style=\"background-color:rgb(229, 223, 142);height:20px;width:20px;display:inline-block;\"></div></div>"
      ],
      "text/plain": [
       "['rgb(25, 112, 209)',\n",
       " 'rgb(5, 165, 203)',\n",
       " 'rgb(25, 203, 106)',\n",
       " 'rgb(119, 224, 127)',\n",
       " 'rgb(208, 243, 146)',\n",
       " 'rgb(229, 223, 142)']"
      ]
     },
     "execution_count": 50,
     "metadata": {},
     "output_type": "execute_result"
    }
   ],
   "source": [
    "_kql_raw_result_.palettes['terrain'][:6]"
   ]
  },
  {
   "cell_type": "markdown",
   "metadata": {},
   "source": [
    "### get all the names of the builtin palettes"
   ]
  },
  {
   "cell_type": "code",
   "execution_count": 51,
   "metadata": {
    "scrolled": true
   },
   "outputs": [
    {
     "data": {
      "text/plain": [
       "['deep',\n",
       " 'muted',\n",
       " 'bright',\n",
       " 'pastel',\n",
       " 'dark',\n",
       " 'colorblind',\n",
       " 'Accent',\n",
       " 'Blues',\n",
       " 'BrBG',\n",
       " 'BuGn',\n",
       " 'BuPu',\n",
       " 'CMRmap',\n",
       " 'Dark2',\n",
       " 'GnBu',\n",
       " 'Greens',\n",
       " 'Greys',\n",
       " 'OrRd',\n",
       " 'Oranges',\n",
       " 'PRGn',\n",
       " 'Paired',\n",
       " 'Pastel1',\n",
       " 'Pastel2',\n",
       " 'PiYG',\n",
       " 'PuBu',\n",
       " 'PuBuGn',\n",
       " 'PuOr',\n",
       " 'PuRd',\n",
       " 'Purples',\n",
       " 'RdBu',\n",
       " 'RdGy',\n",
       " 'RdPu',\n",
       " 'RdYlBu',\n",
       " 'RdYlGn',\n",
       " 'Reds',\n",
       " 'Set1',\n",
       " 'Set2',\n",
       " 'Set3',\n",
       " 'Spectral',\n",
       " 'Wistia',\n",
       " 'YlGn',\n",
       " 'YlGnBu',\n",
       " 'YlOrBr',\n",
       " 'YlOrRd',\n",
       " 'afmhot',\n",
       " 'autumn',\n",
       " 'binary',\n",
       " 'bone',\n",
       " 'brg',\n",
       " 'bwr',\n",
       " 'cividis',\n",
       " 'cool',\n",
       " 'coolwarm',\n",
       " 'copper',\n",
       " 'cubehelix',\n",
       " 'flag',\n",
       " 'gist_earth',\n",
       " 'gist_gray',\n",
       " 'gist_heat',\n",
       " 'gist_ncar',\n",
       " 'gist_rainbow',\n",
       " 'gist_stern',\n",
       " 'gist_yarg',\n",
       " 'gnuplot',\n",
       " 'gnuplot2',\n",
       " 'gray',\n",
       " 'hot',\n",
       " 'hsv',\n",
       " 'icefire',\n",
       " 'inferno',\n",
       " 'magma',\n",
       " 'mako',\n",
       " 'nipy_spectral',\n",
       " 'ocean',\n",
       " 'pink',\n",
       " 'plasma',\n",
       " 'prism',\n",
       " 'rainbow',\n",
       " 'rocket',\n",
       " 'seismic',\n",
       " 'spring',\n",
       " 'summer',\n",
       " 'tab10',\n",
       " 'tab20',\n",
       " 'tab20b',\n",
       " 'tab20c',\n",
       " 'terrain',\n",
       " 'viridis',\n",
       " 'vlag',\n",
       " 'winter']"
      ]
     },
     "execution_count": 51,
     "metadata": {},
     "output_type": "execute_result"
    }
   ],
   "source": [
    "list(_kql_raw_result_.palettes)"
   ]
  },
  {
   "cell_type": "markdown",
   "metadata": {},
   "source": [
    "### get the raw rgb data of a slice from an indexed buitin palette"
   ]
  },
  {
   "cell_type": "code",
   "execution_count": 52,
   "metadata": {
    "scrolled": true
   },
   "outputs": [
    {
     "data": {
      "text/plain": [
       "['rgb(5, 113, 173)',\n",
       " 'rgb(216, 141, 10)',\n",
       " 'rgb(5, 154, 113)',\n",
       " 'rgb(207, 94, 5)',\n",
       " 'rgb(201, 122, 186)',\n",
       " 'rgb(199, 145, 99)']"
      ]
     },
     "execution_count": 52,
     "metadata": {},
     "output_type": "execute_result"
    }
   ],
   "source": [
    "list(_kql_raw_result_.palettes[5][:6])"
   ]
  }
 ],
 "metadata": {
  "kernelspec": {
   "display_name": "Python 3",
   "language": "python",
   "name": "python3"
  },
  "language_info": {
   "codemirror_mode": {
    "name": "ipython",
    "version": 3
   },
   "file_extension": ".py",
   "mimetype": "text/x-python",
   "name": "python",
   "nbconvert_exporter": "python",
   "pygments_lexer": "ipython3",
   "version": "3.6.1"
  }
 },
 "nbformat": 4,
 "nbformat_minor": 2
}
