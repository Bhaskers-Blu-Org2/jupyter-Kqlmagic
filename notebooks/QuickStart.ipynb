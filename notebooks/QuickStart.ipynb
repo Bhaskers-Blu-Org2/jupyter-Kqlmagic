{
 "cells": [
  {
   "cell_type": "markdown",
   "metadata": {},
   "source": [
    "![alt text](images/Kusto.jpg \"Kusto Magic\")"
   ]
  },
  {
   "cell_type": "markdown",
   "metadata": {},
   "source": [
    "# Kqlmagic Quick Start\n",
    "1. Press F11 to switch browser to full screen mode  \n",
    "2. If in running jupyter lab, in View tab, select 'Single-Document Mode' and 'Presentation Mode' or  (Ctrl + Shift + D)  \n",
    "3. In Kernel tab, select 'Restart Kernel and Clear All Outputs...', to start from fresh\n",
    "4. Repeat: press Shift+Enter to run cells sequentially"
   ]
  },
  {
   "cell_type": "markdown",
   "metadata": {},
   "source": [
    "## Make sure that you have the lastest version of  Kqlmagic\n",
    "Download Kqlmagic from PyPI and install/update\n",
    "(if latest version is already installed you can skip this step)"
   ]
  },
  {
   "cell_type": "code",
   "execution_count": 1,
   "metadata": {},
   "outputs": [],
   "source": [
    "#!pip install Kqlmagic --upgrade"
   ]
  },
  {
   "cell_type": "markdown",
   "metadata": {},
   "source": [
    "## If you want to pre-set defaults, set environment varaible, before activation notebook, or within notebook\n",
    "- **KQLMAGIC_NOTEBOOK_APP** - set the notebook application (default **jupyternotebook**)\n",
    "- **KQLMAGIC_LOAD_MODE** - set the kqlmagic load mode (default **verbose**). If silent, it will load without welcome output\n",
    "- **KQLMAGIC_CONFIGURATION** - modify the default configuration, key=value pairs must be separated by a **semicolon**\n",
    "\n",
    "- **KQLMAGIC_CONNECTION_STR** - set the default connection string (default **None**). If set it will connect to it on Kqlmagic load"
   ]
  },
  {
   "cell_type": "code",
   "execution_count": 2,
   "metadata": {},
   "outputs": [],
   "source": [
    "# you can try it within the notebook, by setting the environment variable using %env magic\n",
    "\n",
    "#%env KQLMAGIC_NOTEBOOK_APP=jupyterlab\n",
    "#%env KQLMAGIC_LOAD_MODE=silent\n",
    "#%env KQLMAGIC_CONFIGURATION=\"show_query_time=False;plot_package='plotly';display_limit=100\"\n",
    "\n",
    "#%env KQLMAGIC_CONNECTION_STR=kusto://username='michabin@microsoft.com';cluster='help';database='Samples'"
   ]
  },
  {
   "cell_type": "markdown",
   "metadata": {},
   "source": [
    "## Add Kqlmagic to notebook magics"
   ]
  },
  {
   "cell_type": "code",
   "execution_count": 3,
   "metadata": {
    "scrolled": false
   },
   "outputs": [
    {
     "name": "stdout",
     "output_type": "stream",
     "text": [
      "C:\\My Projects\\jupyter-Kqlmagic-microsoft-vsc\\azure\n"
     ]
    },
    {
     "data": {
      "text/html": [
       "<html>\n",
       "            <head>\n",
       "            <style>\n",
       "            .kql-magic-banner {\n",
       "                display: flex; \n",
       "                background-color: #d9edf7;\n",
       "            }\n",
       "            .kql-magic-banner > div {\n",
       "                margin: 10px; \n",
       "                padding: 20px; \n",
       "                color: #3a87ad; \n",
       "                font-size: 13px;\n",
       "            }\n",
       "            </style>\n",
       "            </head>\n",
       "            <body>\n",
       "                <div class='kql-magic-banner'>\n",
       "                    <div><img src='data:image/png;base64,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'></div>\n",
       "                    <div>\n",
       "                        <p>Kusto is a log analytics cloud platform optimized for ad-hoc big data queries. Read more about it here: http://aka.ms/kdocs</p>\n",
       "                        <p>   &bull; kql language reference: Click on 'Help' tab > and Select 'kql referece'<br>\n",
       "                          &bull; Kqlmagic configuarion: Run in cell '%config Kqlmagic'<br>\n",
       "                          &bull; Kqlmagic syntax: Run in cell '%kql?'<br>\n",
       "                          &bull; Kqlmagic upgrate syntax: Run in cell '!pip install Kqlmagic --no-cache-dir --upgrade'<br>\n",
       "                    </div>\n",
       "                </div>\n",
       "            </body>\n",
       "            </html>"
      ],
      "text/plain": [
       "<IPython.core.display.HTML object>"
      ]
     },
     "metadata": {},
     "output_type": "display_data"
    },
    {
     "data": {
      "text/html": [
       "<html>\n",
       "        <head>\n",
       "        \n",
       "        </head>\n",
       "        <body>\n",
       "        <div><p style='padding: 10px; color: #3a87ad; background-color: #d9edf7; border-color: #bce9f1'>Kqlmagic&nbsppackage&nbspis&nbspupdated&nbspfrequently.&nbspRun&nbsp&apos;!pip&nbspinstall&nbspKqlmagic&nbsp--no-cache-dir&nbsp--upgrade&apos;&nbspto&nbspuse&nbspthe&nbsplatest&nbspversion.<br>Kqlmagic&nbspversion:&nbsp0.1.61,&nbspsource:&nbsphttps://github.com/Microsoft/jupyter-Kqlmagic</p></div>\n",
       "        </body>\n",
       "        </html>"
      ],
      "text/plain": [
       "<IPython.core.display.HTML object>"
      ]
     },
     "metadata": {},
     "output_type": "display_data"
    },
    {
     "data": {
      "application/javascript": [
       "IPython.notebook.kernel.reconnect();"
      ],
      "text/plain": [
       "<IPython.core.display.Javascript object>"
      ]
     },
     "metadata": {},
     "output_type": "display_data"
    },
    {
     "data": {
      "application/javascript": [
       "IPython.notebook.kernel.execute(\"NOTEBOOK_URL = '\" + window.location + \"'\");"
      ],
      "text/plain": [
       "<IPython.core.display.Javascript object>"
      ]
     },
     "metadata": {},
     "output_type": "display_data"
    },
    {
     "name": "stdout",
     "output_type": "stream",
     "text": [
      "c:\\My Projects\\jupyter-Kqlmagic-microsoft-vsc\\notebooks\n",
      "popd -> c:\\My Projects\\jupyter-Kqlmagic-microsoft-vsc\\notebooks\n"
     ]
    }
   ],
   "source": [
    "%pushd C:\\My Projects\\jupyter-Kqlmagic-microsoft-vsc\\azure\n",
    "%reload_ext Kqlmagic\n",
    "%popd"
   ]
  },
  {
   "cell_type": "markdown",
   "metadata": {},
   "source": [
    "  - ### <span style=\"color:#82CAFA\">*Note: information is included in the kqlmagic banner, and in the note below it, with version and location of the open source code*</span>\n",
    "  - ### <span style=\"color:#82CAFA\">*Note: after kql magic was loaded, kql reference was added to Help memnu (Help tab)*</span>"
   ]
  },
  {
   "cell_type": "markdown",
   "metadata": {},
   "source": [
    "## Connect to database@cluster\n",
    "there are few options to authenticate with Azure Data Explorer (Kusto):<br>\n",
    "```python\n",
    "%kql kusto://code;cluster='<cluster-name>';database='<database-name>';alias='<database-friendly-name>'\n",
    "```\n",
    "```python\n",
    "%kql kusto://tenant='<tenant-id>';clientid='<aad-appid>';clientsecret='<aad-appkey>';cluster='<cluster-name>';database='<database-name>';alias='<database-friendly-name>'\n",
    "```\n",
    "```python\n",
    "%kql kusto://tenant='<tenant-id>';certificate='<certificate>';certificate_thumbprint='<thumbprint>';cluster='<cluster-name>';database='<database-name>';alias='<database-friendly-name>'\n",
    "```\n",
    "```python\n",
    "%kql kusto://tenant='<tenant-id>';certificate_pem_file='<pem_filename>';certificate_thumbprint='<thumbprint>';cluster='<cluster-name>';database='<database-name>';alias='<database-friendly-name>'\n",
    "```\n",
    "```python\n",
    "%kql kusto://username='<username>';password='<password>';cluster='<cluster-name>';database='<database-name>';alias='<database-friendly-name>'\n",
    "```\n",
    "\n",
    "Notes:<br>\n",
    "(1) username/password works only on corporate network.<br>\n",
    "(2) alias is optional.<br>\n",
    "(3) if credentials are missing, and a previous connection was established the credentials will be inherited.<br>\n",
    "(4) if secret (password / clientsecret / thumbprint) is missing, user will be prompted to provide it.<br>\n",
    "(5) if cluster is missing, and a previous connection was established the cluster will be inherited.<br>\n",
    "(6) if tenant is missing, and a previous connection was established the tenant will be inherited.<br>\n",
    "(7) if only the database change, a new connection van be set as follow: \n",
    "**&lt;new-database-name&gt;@&lt;current-cluster&gt;**"
   ]
  },
  {
   "cell_type": "code",
   "execution_count": 4,
   "metadata": {
    "scrolled": false
   },
   "outputs": [
    {
     "data": {
      "text/html": [
       "<!DOCTYPE html>\n",
       "                    <html><body><script>\n",
       "\n",
       "                        // close authentication window\n",
       "                        if (kql_MagicUserCodeAuthWindow && kql_MagicUserCodeAuthWindow.opener != null && !kql_MagicUserCodeAuthWindow.closed) {\n",
       "                            kql_MagicUserCodeAuthWindow.close()\n",
       "                        }\n",
       "                        // TODO: make sure, you clear the right cell. BTW, not sure it is a must to do any clearing\n",
       "\n",
       "                        // clear output cell\n",
       "                        Jupyter.notebook.clear_output(Jupyter.notebook.get_selected_index())\n",
       "\n",
       "                        // TODO: if in run all mode, move to last cell, otherwise move to next cell\n",
       "                        // move to next cell\n",
       "\n",
       "                    </script></body></html>"
      ],
      "text/plain": [
       "<IPython.core.display.HTML object>"
      ]
     },
     "metadata": {},
     "output_type": "display_data"
    },
    {
     "data": {
      "text/html": [
       "<!DOCTYPE html>\n",
       "            <html><body>\n",
       "\n",
       "            <button onclick=\"this.style.visibility='visible';kql_MagicLaunchWindowFunction('Kqlmagic_temp_files/_Samples_at_help_schema.html','fullscreen=no,directories=no,location=no,menubar=no,resizable=yes,scrollbars=yes,status=no,titlebar=no,toolbar=no,','_Samples_at_help_schema','')\">popup schema Samples@help</button>\n",
       "\n",
       "            <script>\n",
       "\n",
       "            function kql_MagicLaunchWindowFunction(file_path, window_params, window_name, notebooks_host) {\n",
       "                var url;\n",
       "                if (file_path.startsWith('http')) {\n",
       "                    url = file_path;\n",
       "                } else {\n",
       "                    var base_url = '';\n",
       "\n",
       "                    // check if azure notebook\n",
       "                    var azure_host = (notebooks_host == null || notebooks_host.length == 0) ? 'https://notebooks.azure.com' : notebooks_host;\n",
       "                    var start = azure_host.search('//');\n",
       "                    var azure_host_suffix = '.' + azure_host.substring(start+2);\n",
       "\n",
       "                    var loc = String(window.location);\n",
       "                    var end = loc.search(azure_host_suffix);\n",
       "                    start = loc.search('//');\n",
       "                    if (start > 0 && end > 0) {\n",
       "                        var parts = loc.substring(start+2, end).split('-');\n",
       "                        if (parts.length == 2) {\n",
       "                            var library = parts[0];\n",
       "                            var user = parts[1];\n",
       "                            base_url = azure_host + '/api/user/' +user+ '/library/' +library+ '/html/';\n",
       "                        }\n",
       "                    }\n",
       "\n",
       "                    // check if local jupyter lab\n",
       "                    if (base_url.length == 0) {\n",
       "                        var configDataScipt  = document.getElementById('jupyter-config-data');\n",
       "                        if (configDataScipt != null) {\n",
       "                            var jupyterConfigData = JSON.parse(configDataScipt.textContent);\n",
       "                            if (jupyterConfigData['appName'] == 'JupyterLab' && jupyterConfigData['serverRoot'] != null &&  jupyterConfigData['treeUrl'] != null) {\n",
       "                                var basePath = 'c:/My Projects/jupyter-Kqlmagic-microsoft-vsc/notebooks' + '/';\n",
       "                                if (basePath.startsWith(jupyterConfigData['serverRoot'])) {\n",
       "                                    base_url = '/files/' + basePath.substring(jupyterConfigData['serverRoot'].length+1);\n",
       "                                }\n",
       "                            } \n",
       "                        }\n",
       "                    }\n",
       "\n",
       "                    // assume local jupyter notebook\n",
       "                    if (base_url.length == 0) {\n",
       "\n",
       "                        var parts = loc.split('/');\n",
       "                        parts.pop();\n",
       "                        base_url = parts.join('/') + '/';\n",
       "                    }\n",
       "                    url = base_url + file_path;\n",
       "                }\n",
       "\n",
       "                window.focus();\n",
       "                var w = screen.width / 2;\n",
       "                var h = screen.height / 2;\n",
       "                params = 'width='+w+',height='+h;\n",
       "                kql_Magic__Samples_at_help_schema = window.open(url, window_name, window_params + params);\n",
       "            }\n",
       "            </script>\n",
       "\n",
       "            </body></html>"
      ],
      "text/plain": [
       "<IPython.core.display.HTML object>"
      ]
     },
     "metadata": {},
     "output_type": "display_data"
    },
    {
     "data": {
      "application/javascript": [
       "IPython.notebook.kernel.reconnect();"
      ],
      "text/plain": [
       "<IPython.core.display.Javascript object>"
      ]
     },
     "metadata": {},
     "output_type": "display_data"
    }
   ],
   "source": [
    "%kql kusto://code;cluster='help';database='Samples'"
   ]
  },
  {
   "cell_type": "markdown",
   "metadata": {},
   "source": [
    "  - ### <span style=\"color:#82CAFA\">*Note - popup window that opened with the database@cluster schema*</span>\n",
    "  - ### <span style=\"color:#82CAFA\">*Note - Help menu contains the databse@cluster schema*</span>"
   ]
  },
  {
   "cell_type": "markdown",
   "metadata": {},
   "source": [
    "## Once connected you can query the current database@cluster"
   ]
  },
  {
   "cell_type": "code",
   "execution_count": 5,
   "metadata": {
    "scrolled": false
   },
   "outputs": [
    {
     "data": {
      "text/html": [
       "<html>\n",
       "        <head>\n",
       "        \n",
       "        </head>\n",
       "        <body>\n",
       "        <div><p style='padding: 10px; color: #3a87ad; background-color: #d9edf7; border-color: #bce9f1'>&nbsp*&nbspSamples@help</p></div>\n",
       "        </body>\n",
       "        </html>"
      ],
      "text/plain": [
       "<IPython.core.display.HTML object>"
      ]
     },
     "metadata": {},
     "output_type": "display_data"
    },
    {
     "data": {
      "text/html": [
       "<html>\n",
       "        <head>\n",
       "        \n",
       "        </head>\n",
       "        <body>\n",
       "        <table>\n",
       "    <tr>\n",
       "        <th>State</th>\n",
       "        <th>count_</th>\n",
       "    </tr>\n",
       "    <tr>\n",
       "        <td>TEXAS</td>\n",
       "        <td>4701</td>\n",
       "    </tr>\n",
       "    <tr>\n",
       "        <td>KANSAS</td>\n",
       "        <td>3166</td>\n",
       "    </tr>\n",
       "    <tr>\n",
       "        <td>IOWA</td>\n",
       "        <td>2337</td>\n",
       "    </tr>\n",
       "    <tr>\n",
       "        <td>ILLINOIS</td>\n",
       "        <td>2022</td>\n",
       "    </tr>\n",
       "    <tr>\n",
       "        <td>MISSOURI</td>\n",
       "        <td>2016</td>\n",
       "    </tr>\n",
       "    <tr>\n",
       "        <td>GEORGIA</td>\n",
       "        <td>1983</td>\n",
       "    </tr>\n",
       "    <tr>\n",
       "        <td>MINNESOTA</td>\n",
       "        <td>1881</td>\n",
       "    </tr>\n",
       "    <tr>\n",
       "        <td>WISCONSIN</td>\n",
       "        <td>1850</td>\n",
       "    </tr>\n",
       "    <tr>\n",
       "        <td>NEBRASKA</td>\n",
       "        <td>1766</td>\n",
       "    </tr>\n",
       "    <tr>\n",
       "        <td>NEW YORK</td>\n",
       "        <td>1750</td>\n",
       "    </tr>\n",
       "</table>\n",
       "        </body>\n",
       "        </html>"
      ],
      "text/plain": [
       "<IPython.core.display.HTML object>"
      ]
     },
     "metadata": {},
     "output_type": "display_data"
    },
    {
     "data": {
      "text/html": [
       "<html>\n",
       "        <head>\n",
       "        \n",
       "        </head>\n",
       "        <body>\n",
       "        <div><p style='padding: 10px; color: #3a87ad; background-color: #d9edf7; border-color: #bce9f1'>Done&nbsp(00:00.840):&nbsp10&nbsprecords</p></div>\n",
       "        </body>\n",
       "        </html>"
      ],
      "text/plain": [
       "<IPython.core.display.HTML object>"
      ]
     },
     "metadata": {},
     "output_type": "display_data"
    },
    {
     "data": {
      "text/html": [],
      "text/plain": [
       "[{'State': 'TEXAS', 'count_': 4701},\n",
       " {'State': 'KANSAS', 'count_': 3166},\n",
       " {'State': 'IOWA', 'count_': 2337},\n",
       " {'State': 'ILLINOIS', 'count_': 2022},\n",
       " {'State': 'MISSOURI', 'count_': 2016},\n",
       " {'State': 'GEORGIA', 'count_': 1983},\n",
       " {'State': 'MINNESOTA', 'count_': 1881},\n",
       " {'State': 'WISCONSIN', 'count_': 1850},\n",
       " {'State': 'NEBRASKA', 'count_': 1766},\n",
       " {'State': 'NEW YORK', 'count_': 1750}]"
      ]
     },
     "execution_count": 5,
     "metadata": {},
     "output_type": "execute_result"
    }
   ],
   "source": [
    "%kql StormEvents | summarize count() by State | sort by count_ | limit 10"
   ]
  },
  {
   "cell_type": "markdown",
   "metadata": {},
   "source": [
    "## Python code can access the result by the \\_ variable"
   ]
  },
  {
   "cell_type": "code",
   "execution_count": 6,
   "metadata": {},
   "outputs": [
    {
     "data": {
      "text/html": [
       "<html>\n",
       "        <head>\n",
       "        \n",
       "        </head>\n",
       "        <body>\n",
       "        <table>\n",
       "    <tr>\n",
       "        <th>State</th>\n",
       "        <th>count_</th>\n",
       "    </tr>\n",
       "    <tr>\n",
       "        <td>TEXAS</td>\n",
       "        <td>4701</td>\n",
       "    </tr>\n",
       "    <tr>\n",
       "        <td>KANSAS</td>\n",
       "        <td>3166</td>\n",
       "    </tr>\n",
       "    <tr>\n",
       "        <td>IOWA</td>\n",
       "        <td>2337</td>\n",
       "    </tr>\n",
       "    <tr>\n",
       "        <td>ILLINOIS</td>\n",
       "        <td>2022</td>\n",
       "    </tr>\n",
       "    <tr>\n",
       "        <td>MISSOURI</td>\n",
       "        <td>2016</td>\n",
       "    </tr>\n",
       "    <tr>\n",
       "        <td>GEORGIA</td>\n",
       "        <td>1983</td>\n",
       "    </tr>\n",
       "    <tr>\n",
       "        <td>MINNESOTA</td>\n",
       "        <td>1881</td>\n",
       "    </tr>\n",
       "    <tr>\n",
       "        <td>WISCONSIN</td>\n",
       "        <td>1850</td>\n",
       "    </tr>\n",
       "    <tr>\n",
       "        <td>NEBRASKA</td>\n",
       "        <td>1766</td>\n",
       "    </tr>\n",
       "    <tr>\n",
       "        <td>NEW YORK</td>\n",
       "        <td>1750</td>\n",
       "    </tr>\n",
       "</table>\n",
       "        </body>\n",
       "        </html>"
      ],
      "text/plain": [
       "<IPython.core.display.HTML object>"
      ]
     },
     "metadata": {},
     "output_type": "display_data"
    },
    {
     "data": {
      "text/html": [],
      "text/plain": [
       "[{'State': 'TEXAS', 'count_': 4701},\n",
       " {'State': 'KANSAS', 'count_': 3166},\n",
       " {'State': 'IOWA', 'count_': 2337},\n",
       " {'State': 'ILLINOIS', 'count_': 2022},\n",
       " {'State': 'MISSOURI', 'count_': 2016},\n",
       " {'State': 'GEORGIA', 'count_': 1983},\n",
       " {'State': 'MINNESOTA', 'count_': 1881},\n",
       " {'State': 'WISCONSIN', 'count_': 1850},\n",
       " {'State': 'NEBRASKA', 'count_': 1766},\n",
       " {'State': 'NEW YORK', 'count_': 1750}]"
      ]
     },
     "execution_count": 6,
     "metadata": {},
     "output_type": "execute_result"
    }
   ],
   "source": [
    "_"
   ]
  },
  {
   "cell_type": "markdown",
   "metadata": {},
   "source": [
    "## Converts result data to a dataframe"
   ]
  },
  {
   "cell_type": "code",
   "execution_count": 7,
   "metadata": {},
   "outputs": [
    {
     "data": {
      "text/html": [
       "<div>\n",
       "<style scoped>\n",
       "    .dataframe tbody tr th:only-of-type {\n",
       "        vertical-align: middle;\n",
       "    }\n",
       "\n",
       "    .dataframe tbody tr th {\n",
       "        vertical-align: top;\n",
       "    }\n",
       "\n",
       "    .dataframe thead th {\n",
       "        text-align: right;\n",
       "    }\n",
       "</style>\n",
       "<table border=\"1\" class=\"dataframe\">\n",
       "  <thead>\n",
       "    <tr style=\"text-align: right;\">\n",
       "      <th></th>\n",
       "      <th>State</th>\n",
       "      <th>count_</th>\n",
       "    </tr>\n",
       "  </thead>\n",
       "  <tbody>\n",
       "    <tr>\n",
       "      <th>0</th>\n",
       "      <td>TEXAS</td>\n",
       "      <td>4701</td>\n",
       "    </tr>\n",
       "    <tr>\n",
       "      <th>1</th>\n",
       "      <td>KANSAS</td>\n",
       "      <td>3166</td>\n",
       "    </tr>\n",
       "    <tr>\n",
       "      <th>2</th>\n",
       "      <td>IOWA</td>\n",
       "      <td>2337</td>\n",
       "    </tr>\n",
       "    <tr>\n",
       "      <th>3</th>\n",
       "      <td>ILLINOIS</td>\n",
       "      <td>2022</td>\n",
       "    </tr>\n",
       "    <tr>\n",
       "      <th>4</th>\n",
       "      <td>MISSOURI</td>\n",
       "      <td>2016</td>\n",
       "    </tr>\n",
       "    <tr>\n",
       "      <th>5</th>\n",
       "      <td>GEORGIA</td>\n",
       "      <td>1983</td>\n",
       "    </tr>\n",
       "    <tr>\n",
       "      <th>6</th>\n",
       "      <td>MINNESOTA</td>\n",
       "      <td>1881</td>\n",
       "    </tr>\n",
       "    <tr>\n",
       "      <th>7</th>\n",
       "      <td>WISCONSIN</td>\n",
       "      <td>1850</td>\n",
       "    </tr>\n",
       "    <tr>\n",
       "      <th>8</th>\n",
       "      <td>NEBRASKA</td>\n",
       "      <td>1766</td>\n",
       "    </tr>\n",
       "    <tr>\n",
       "      <th>9</th>\n",
       "      <td>NEW YORK</td>\n",
       "      <td>1750</td>\n",
       "    </tr>\n",
       "  </tbody>\n",
       "</table>\n",
       "</div>"
      ],
      "text/plain": [
       "       State  count_\n",
       "0      TEXAS    4701\n",
       "1     KANSAS    3166\n",
       "2       IOWA    2337\n",
       "3   ILLINOIS    2022\n",
       "4   MISSOURI    2016\n",
       "5    GEORGIA    1983\n",
       "6  MINNESOTA    1881\n",
       "7  WISCONSIN    1850\n",
       "8   NEBRASKA    1766\n",
       "9   NEW YORK    1750"
      ]
     },
     "execution_count": 7,
     "metadata": {},
     "output_type": "execute_result"
    }
   ],
   "source": [
    "df = _.to_dataframe()\n",
    "df"
   ]
  },
  {
   "cell_type": "code",
   "execution_count": 8,
   "metadata": {},
   "outputs": [
    {
     "data": {
      "text/html": [
       "<div>\n",
       "<style scoped>\n",
       "    .dataframe tbody tr th:only-of-type {\n",
       "        vertical-align: middle;\n",
       "    }\n",
       "\n",
       "    .dataframe tbody tr th {\n",
       "        vertical-align: top;\n",
       "    }\n",
       "\n",
       "    .dataframe thead th {\n",
       "        text-align: right;\n",
       "    }\n",
       "</style>\n",
       "<table border=\"1\" class=\"dataframe\">\n",
       "  <thead>\n",
       "    <tr style=\"text-align: right;\">\n",
       "      <th></th>\n",
       "      <th>State</th>\n",
       "      <th>count_</th>\n",
       "    </tr>\n",
       "  </thead>\n",
       "  <tbody>\n",
       "    <tr>\n",
       "      <th>0</th>\n",
       "      <td>TEXAS</td>\n",
       "      <td>4701</td>\n",
       "    </tr>\n",
       "    <tr>\n",
       "      <th>1</th>\n",
       "      <td>KANSAS</td>\n",
       "      <td>3166</td>\n",
       "    </tr>\n",
       "    <tr>\n",
       "      <th>2</th>\n",
       "      <td>IOWA</td>\n",
       "      <td>2337</td>\n",
       "    </tr>\n",
       "    <tr>\n",
       "      <th>3</th>\n",
       "      <td>ILLINOIS</td>\n",
       "      <td>2022</td>\n",
       "    </tr>\n",
       "    <tr>\n",
       "      <th>4</th>\n",
       "      <td>MISSOURI</td>\n",
       "      <td>2016</td>\n",
       "    </tr>\n",
       "  </tbody>\n",
       "</table>\n",
       "</div>"
      ],
      "text/plain": [
       "      State  count_\n",
       "0     TEXAS    4701\n",
       "1    KANSAS    3166\n",
       "2      IOWA    2337\n",
       "3  ILLINOIS    2022\n",
       "4  MISSOURI    2016"
      ]
     },
     "execution_count": 8,
     "metadata": {},
     "output_type": "execute_result"
    }
   ],
   "source": [
    "df.head()"
   ]
  },
  {
   "cell_type": "code",
   "execution_count": 9,
   "metadata": {},
   "outputs": [
    {
     "data": {
      "text/plain": [
       "0        TEXAS\n",
       "1       KANSAS\n",
       "2         IOWA\n",
       "3     ILLINOIS\n",
       "4     MISSOURI\n",
       "5      GEORGIA\n",
       "6    MINNESOTA\n",
       "7    WISCONSIN\n",
       "8     NEBRASKA\n",
       "9     NEW YORK\n",
       "Name: State, dtype: object"
      ]
     },
     "execution_count": 9,
     "metadata": {},
     "output_type": "execute_result"
    }
   ],
   "source": [
    "df.State"
   ]
  },
  {
   "cell_type": "code",
   "execution_count": 10,
   "metadata": {},
   "outputs": [
    {
     "data": {
      "text/plain": [
       "State     GEORGIA\n",
       "count_       1750\n",
       "dtype: object"
      ]
     },
     "execution_count": 10,
     "metadata": {},
     "output_type": "execute_result"
    }
   ],
   "source": [
    "df.min()"
   ]
  },
  {
   "cell_type": "code",
   "execution_count": 11,
   "metadata": {},
   "outputs": [
    {
     "data": {
      "text/plain": [
       "'{\"State\":{\"0\":\"TEXAS\",\"1\":\"KANSAS\",\"2\":\"IOWA\",\"3\":\"ILLINOIS\",\"4\":\"MISSOURI\",\"5\":\"GEORGIA\",\"6\":\"MINNESOTA\",\"7\":\"WISCONSIN\",\"8\":\"NEBRASKA\",\"9\":\"NEW YORK\"},\"count_\":{\"0\":4701,\"1\":3166,\"2\":2337,\"3\":2022,\"4\":2016,\"5\":1983,\"6\":1881,\"7\":1850,\"8\":1766,\"9\":1750}}'"
      ]
     },
     "execution_count": 11,
     "metadata": {},
     "output_type": "execute_result"
    }
   ],
   "source": [
    "df.to_json()"
   ]
  },
  {
   "cell_type": "code",
   "execution_count": 12,
   "metadata": {},
   "outputs": [
    {
     "data": {
      "text/plain": [
       "Index(['State', 'count_'], dtype='object')"
      ]
     },
     "execution_count": 12,
     "metadata": {},
     "output_type": "execute_result"
    }
   ],
   "source": [
    "df.columns"
   ]
  },
  {
   "cell_type": "markdown",
   "metadata": {},
   "source": [
    "## Excution of another cell overrides \\_ , However,  \\_kql\\_raw\\_result\\_ python variable holds last kql query result "
   ]
  },
  {
   "cell_type": "code",
   "execution_count": 13,
   "metadata": {},
   "outputs": [
    {
     "data": {
      "text/plain": [
       "Index(['State', 'count_'], dtype='object')"
      ]
     },
     "execution_count": 13,
     "metadata": {},
     "output_type": "execute_result"
    }
   ],
   "source": [
    "_"
   ]
  },
  {
   "cell_type": "code",
   "execution_count": 14,
   "metadata": {},
   "outputs": [
    {
     "data": {
      "text/html": [
       "<html>\n",
       "        <head>\n",
       "        \n",
       "        </head>\n",
       "        <body>\n",
       "        <table>\n",
       "    <tr>\n",
       "        <th>State</th>\n",
       "        <th>count_</th>\n",
       "    </tr>\n",
       "    <tr>\n",
       "        <td>TEXAS</td>\n",
       "        <td>4701</td>\n",
       "    </tr>\n",
       "    <tr>\n",
       "        <td>KANSAS</td>\n",
       "        <td>3166</td>\n",
       "    </tr>\n",
       "    <tr>\n",
       "        <td>IOWA</td>\n",
       "        <td>2337</td>\n",
       "    </tr>\n",
       "    <tr>\n",
       "        <td>ILLINOIS</td>\n",
       "        <td>2022</td>\n",
       "    </tr>\n",
       "    <tr>\n",
       "        <td>MISSOURI</td>\n",
       "        <td>2016</td>\n",
       "    </tr>\n",
       "    <tr>\n",
       "        <td>GEORGIA</td>\n",
       "        <td>1983</td>\n",
       "    </tr>\n",
       "    <tr>\n",
       "        <td>MINNESOTA</td>\n",
       "        <td>1881</td>\n",
       "    </tr>\n",
       "    <tr>\n",
       "        <td>WISCONSIN</td>\n",
       "        <td>1850</td>\n",
       "    </tr>\n",
       "    <tr>\n",
       "        <td>NEBRASKA</td>\n",
       "        <td>1766</td>\n",
       "    </tr>\n",
       "    <tr>\n",
       "        <td>NEW YORK</td>\n",
       "        <td>1750</td>\n",
       "    </tr>\n",
       "</table>\n",
       "        </body>\n",
       "        </html>"
      ],
      "text/plain": [
       "<IPython.core.display.HTML object>"
      ]
     },
     "metadata": {},
     "output_type": "display_data"
    },
    {
     "data": {
      "text/html": [],
      "text/plain": [
       "[{'State': 'TEXAS', 'count_': 4701},\n",
       " {'State': 'KANSAS', 'count_': 3166},\n",
       " {'State': 'IOWA', 'count_': 2337},\n",
       " {'State': 'ILLINOIS', 'count_': 2022},\n",
       " {'State': 'MISSOURI', 'count_': 2016},\n",
       " {'State': 'GEORGIA', 'count_': 1983},\n",
       " {'State': 'MINNESOTA', 'count_': 1881},\n",
       " {'State': 'WISCONSIN', 'count_': 1850},\n",
       " {'State': 'NEBRASKA', 'count_': 1766},\n",
       " {'State': 'NEW YORK', 'count_': 1750}]"
      ]
     },
     "execution_count": 14,
     "metadata": {},
     "output_type": "execute_result"
    }
   ],
   "source": [
    "_kql_raw_result_"
   ]
  },
  {
   "cell_type": "code",
   "execution_count": 15,
   "metadata": {},
   "outputs": [
    {
     "data": {
      "text/html": [
       "<html>\n",
       "        <head>\n",
       "        \n",
       "        </head>\n",
       "        <body>\n",
       "        <table>\n",
       "    <tr>\n",
       "        <th>State</th>\n",
       "        <th>count_</th>\n",
       "    </tr>\n",
       "    <tr>\n",
       "        <td>TEXAS</td>\n",
       "        <td>4701</td>\n",
       "    </tr>\n",
       "    <tr>\n",
       "        <td>KANSAS</td>\n",
       "        <td>3166</td>\n",
       "    </tr>\n",
       "    <tr>\n",
       "        <td>IOWA</td>\n",
       "        <td>2337</td>\n",
       "    </tr>\n",
       "    <tr>\n",
       "        <td>ILLINOIS</td>\n",
       "        <td>2022</td>\n",
       "    </tr>\n",
       "    <tr>\n",
       "        <td>MISSOURI</td>\n",
       "        <td>2016</td>\n",
       "    </tr>\n",
       "    <tr>\n",
       "        <td>GEORGIA</td>\n",
       "        <td>1983</td>\n",
       "    </tr>\n",
       "    <tr>\n",
       "        <td>MINNESOTA</td>\n",
       "        <td>1881</td>\n",
       "    </tr>\n",
       "    <tr>\n",
       "        <td>WISCONSIN</td>\n",
       "        <td>1850</td>\n",
       "    </tr>\n",
       "    <tr>\n",
       "        <td>NEBRASKA</td>\n",
       "        <td>1766</td>\n",
       "    </tr>\n",
       "    <tr>\n",
       "        <td>NEW YORK</td>\n",
       "        <td>1750</td>\n",
       "    </tr>\n",
       "</table>\n",
       "        </body>\n",
       "        </html>"
      ],
      "text/plain": [
       "<IPython.core.display.HTML object>"
      ]
     },
     "metadata": {},
     "output_type": "display_data"
    },
    {
     "data": {
      "text/html": [],
      "text/plain": [
       "[{'State': 'TEXAS', 'count_': 4701},\n",
       " {'State': 'KANSAS', 'count_': 3166},\n",
       " {'State': 'IOWA', 'count_': 2337},\n",
       " {'State': 'ILLINOIS', 'count_': 2022},\n",
       " {'State': 'MISSOURI', 'count_': 2016},\n",
       " {'State': 'GEORGIA', 'count_': 1983},\n",
       " {'State': 'MINNESOTA', 'count_': 1881},\n",
       " {'State': 'WISCONSIN', 'count_': 1850},\n",
       " {'State': 'NEBRASKA', 'count_': 1766},\n",
       " {'State': 'NEW YORK', 'count_': 1750}]"
      ]
     },
     "execution_count": 15,
     "metadata": {},
     "output_type": "execute_result"
    }
   ],
   "source": [
    "_"
   ]
  },
  {
   "cell_type": "markdown",
   "metadata": {},
   "source": [
    "## Show a chart, render the query to the proper chart"
   ]
  },
  {
   "cell_type": "code",
   "execution_count": 16,
   "metadata": {},
   "outputs": [
    {
     "data": {
      "text/html": [
       "<html>\n",
       "        <head>\n",
       "        \n",
       "        </head>\n",
       "        <body>\n",
       "        <div><p style='padding: 10px; color: #3a87ad; background-color: #d9edf7; border-color: #bce9f1'>&nbsp*&nbspSamples@help</p></div>\n",
       "        </body>\n",
       "        </html>"
      ],
      "text/plain": [
       "<IPython.core.display.HTML object>"
      ]
     },
     "metadata": {},
     "output_type": "display_data"
    },
    {
     "data": {
      "application/vnd.jupyter.widget-view+json": {
       "model_id": "35d2c5d05a064d68a59fdad4efd9f779",
       "version_major": 2,
       "version_minor": 0
      },
      "text/plain": [
       "FigureWidget({\n",
       "    'data': [{'domain': {'x': [0.0, 1.0], 'y': [0.0, 1.0]},\n",
       "              'labels': [TEXAS, KAN…"
      ]
     },
     "metadata": {},
     "output_type": "display_data"
    },
    {
     "data": {
      "text/html": [
       "<html>\n",
       "        <head>\n",
       "        \n",
       "        </head>\n",
       "        <body>\n",
       "        <div><p style='padding: 10px; color: #3a87ad; background-color: #d9edf7; border-color: #bce9f1'>Done&nbsp(00:00.790):&nbsp10&nbsprecords</p></div>\n",
       "        </body>\n",
       "        </html>"
      ],
      "text/plain": [
       "<IPython.core.display.HTML object>"
      ]
     },
     "metadata": {},
     "output_type": "display_data"
    },
    {
     "data": {
      "text/html": [],
      "text/plain": [
       "[{'State': 'TEXAS', 'count_': 4701},\n",
       " {'State': 'KANSAS', 'count_': 3166},\n",
       " {'State': 'IOWA', 'count_': 2337},\n",
       " {'State': 'ILLINOIS', 'count_': 2022},\n",
       " {'State': 'MISSOURI', 'count_': 2016},\n",
       " {'State': 'GEORGIA', 'count_': 1983},\n",
       " {'State': 'MINNESOTA', 'count_': 1881},\n",
       " {'State': 'WISCONSIN', 'count_': 1850},\n",
       " {'State': 'NEBRASKA', 'count_': 1766},\n",
       " {'State': 'NEW YORK', 'count_': 1750}]"
      ]
     },
     "execution_count": 16,
     "metadata": {},
     "output_type": "execute_result"
    }
   ],
   "source": [
    "%kql StormEvents | summarize count() by State | sort by count_ | limit 10 | render piechart title='my apple pie' "
   ]
  },
  {
   "cell_type": "markdown",
   "metadata": {},
   "source": [
    "  - ### <span style=\"color:#82CAFA\">*Note: the chart is interactive, hoover to the right upper corner to get the menu, click on the legend to toggle facets, hoover on the chart to get value and percentage*</span>"
   ]
  },
  {
   "cell_type": "markdown",
   "metadata": {},
   "source": [
    "## Assign kql query result to a python variable"
   ]
  },
  {
   "cell_type": "code",
   "execution_count": 17,
   "metadata": {},
   "outputs": [],
   "source": [
    "%kql my_bar_chart << StormEvents | summarize count() by State | sort by count_ | limit 10 | render barchart title='my bar chart'"
   ]
  },
  {
   "cell_type": "markdown",
   "metadata": {},
   "source": [
    "  - ### <span style=\"color:#82CAFA\">*Note: nothing is displayed when the result is assigtned to a variable*</span>"
   ]
  },
  {
   "cell_type": "markdown",
   "metadata": {},
   "source": [
    "## Display kql result object"
   ]
  },
  {
   "cell_type": "code",
   "execution_count": 18,
   "metadata": {},
   "outputs": [
    {
     "data": {
      "application/vnd.jupyter.widget-view+json": {
       "model_id": "e60530ad73784c97893c482a46794105",
       "version_major": 2,
       "version_minor": 0
      },
      "text/plain": [
       "FigureWidget({\n",
       "    'data': [{'marker': {'color': 'rgb(31, 118, 179)'},\n",
       "              'name': 'count_',\n",
       "       …"
      ]
     },
     "metadata": {},
     "output_type": "display_data"
    },
    {
     "data": {
      "text/html": [],
      "text/plain": [
       "[{'State': 'TEXAS', 'count_': 4701},\n",
       " {'State': 'KANSAS', 'count_': 3166},\n",
       " {'State': 'IOWA', 'count_': 2337},\n",
       " {'State': 'ILLINOIS', 'count_': 2022},\n",
       " {'State': 'MISSOURI', 'count_': 2016},\n",
       " {'State': 'GEORGIA', 'count_': 1983},\n",
       " {'State': 'MINNESOTA', 'count_': 1881},\n",
       " {'State': 'WISCONSIN', 'count_': 1850},\n",
       " {'State': 'NEBRASKA', 'count_': 1766},\n",
       " {'State': 'NEW YORK', 'count_': 1750}]"
      ]
     },
     "execution_count": 18,
     "metadata": {},
     "output_type": "execute_result"
    }
   ],
   "source": [
    "my_bar_chart"
   ]
  },
  {
   "cell_type": "markdown",
   "metadata": {},
   "source": [
    "## Access table data"
   ]
  },
  {
   "cell_type": "code",
   "execution_count": 19,
   "metadata": {},
   "outputs": [
    {
     "data": {
      "text/html": [
       "<html>\n",
       "        <head>\n",
       "        \n",
       "        </head>\n",
       "        <body>\n",
       "        <table>\n",
       "    <tr>\n",
       "        <th>State</th>\n",
       "        <th>count_</th>\n",
       "    </tr>\n",
       "    <tr>\n",
       "        <td>TEXAS</td>\n",
       "        <td>4701</td>\n",
       "    </tr>\n",
       "    <tr>\n",
       "        <td>KANSAS</td>\n",
       "        <td>3166</td>\n",
       "    </tr>\n",
       "    <tr>\n",
       "        <td>IOWA</td>\n",
       "        <td>2337</td>\n",
       "    </tr>\n",
       "    <tr>\n",
       "        <td>ILLINOIS</td>\n",
       "        <td>2022</td>\n",
       "    </tr>\n",
       "    <tr>\n",
       "        <td>MISSOURI</td>\n",
       "        <td>2016</td>\n",
       "    </tr>\n",
       "    <tr>\n",
       "        <td>GEORGIA</td>\n",
       "        <td>1983</td>\n",
       "    </tr>\n",
       "    <tr>\n",
       "        <td>MINNESOTA</td>\n",
       "        <td>1881</td>\n",
       "    </tr>\n",
       "    <tr>\n",
       "        <td>WISCONSIN</td>\n",
       "        <td>1850</td>\n",
       "    </tr>\n",
       "    <tr>\n",
       "        <td>NEBRASKA</td>\n",
       "        <td>1766</td>\n",
       "    </tr>\n",
       "    <tr>\n",
       "        <td>NEW YORK</td>\n",
       "        <td>1750</td>\n",
       "    </tr>\n",
       "</table>\n",
       "        </body>\n",
       "        </html>"
      ],
      "text/plain": [
       "<IPython.core.display.HTML object>"
      ]
     },
     "metadata": {},
     "output_type": "display_data"
    }
   ],
   "source": [
    "my_bar_chart.show_table()"
   ]
  },
  {
   "cell_type": "code",
   "execution_count": 20,
   "metadata": {},
   "outputs": [
    {
     "data": {
      "text/plain": [
       "{'State': 'KANSAS', 'count_': 3166}"
      ]
     },
     "execution_count": 20,
     "metadata": {},
     "output_type": "execute_result"
    }
   ],
   "source": [
    "my_bar_chart[1]"
   ]
  },
  {
   "cell_type": "code",
   "execution_count": 21,
   "metadata": {},
   "outputs": [
    {
     "data": {
      "text/plain": [
       "{'count_': 3166}"
      ]
     },
     "execution_count": 21,
     "metadata": {},
     "output_type": "execute_result"
    }
   ],
   "source": [
    "my_bar_chart[1][1:]"
   ]
  },
  {
   "cell_type": "code",
   "execution_count": 22,
   "metadata": {},
   "outputs": [
    {
     "data": {
      "text/plain": [
       "'KANSAS'"
      ]
     },
     "execution_count": 22,
     "metadata": {},
     "output_type": "execute_result"
    }
   ],
   "source": [
    "my_bar_chart[1]['State']"
   ]
  },
  {
   "cell_type": "code",
   "execution_count": 23,
   "metadata": {},
   "outputs": [
    {
     "data": {
      "text/plain": [
       "[{'State': 'KANSAS', 'count_': 3166},\n",
       " {'State': 'IOWA', 'count_': 2337},\n",
       " {'State': 'ILLINOIS', 'count_': 2022},\n",
       " {'State': 'MISSOURI', 'count_': 2016}]"
      ]
     },
     "execution_count": 23,
     "metadata": {},
     "output_type": "execute_result"
    }
   ],
   "source": [
    "my_bar_chart[1:5]"
   ]
  },
  {
   "cell_type": "code",
   "execution_count": 24,
   "metadata": {},
   "outputs": [
    {
     "data": {
      "text/html": [
       "<html>\n",
       "        <head>\n",
       "        \n",
       "        </head>\n",
       "        <body>\n",
       "        <div><p style='padding: 10px; color: #3a87ad; background-color: #d9edf7; border-color: #bce9f1'>&nbsp*&nbspSamples@help</p></div>\n",
       "        </body>\n",
       "        </html>"
      ],
      "text/plain": [
       "<IPython.core.display.HTML object>"
      ]
     },
     "metadata": {},
     "output_type": "display_data"
    },
    {
     "data": {
      "text/html": [
       "<html>\n",
       "        <head>\n",
       "        \n",
       "        </head>\n",
       "        <body>\n",
       "        <table>\n",
       "    <tr>\n",
       "        <th>StartTime</th>\n",
       "        <th>State</th>\n",
       "        <th>StormSummary</th>\n",
       "    </tr>\n",
       "    <tr>\n",
       "        <td>2007-09-29 08:11:00+00:00</td>\n",
       "        <td>ATLANTIC SOUTH</td>\n",
       "        <td>{<br>    \u001b[34;01m&quot;Details&quot;\u001b[39;49;00m: {<br>        \u001b[34;01m&quot;Description&quot;\u001b[39;49;00m: \u001b[33m&quot;A waterspout formed in the Atlantic southeast of Melbourne Beach and briefly moved toward shore.&quot;\u001b[39;49;00m,<br>        \u001b[34;01m&quot;Location&quot;\u001b[39;49;00m: \u001b[33m&quot;ATLANTIC SOUTH&quot;\u001b[39;49;00m<br>    },<br>    \u001b[34;01m&quot;EndTime&quot;\u001b[39;49;00m: \u001b[33m&quot;2007-09-29T08:11:00.0000000Z&quot;\u001b[39;49;00m,<br>    \u001b[34;01m&quot;StartTime&quot;\u001b[39;49;00m: \u001b[33m&quot;2007-09-29T08:11:00.0000000Z&quot;\u001b[39;49;00m,<br>    \u001b[34;01m&quot;TotalDamages&quot;\u001b[39;49;00m: \u001b[34m0\u001b[39;49;00m<br>}<br></td>\n",
       "    </tr>\n",
       "    <tr>\n",
       "        <td>2007-09-18 20:00:00+00:00</td>\n",
       "        <td>FLORIDA</td>\n",
       "        <td>{<br>    \u001b[34;01m&quot;Details&quot;\u001b[39;49;00m: {<br>        \u001b[34;01m&quot;Description&quot;\u001b[39;49;00m: \u001b[33m&quot;As much as 9 inches of rain fell in a 24-hour period across parts of coastal Volusia County.&quot;\u001b[39;49;00m,<br>        \u001b[34;01m&quot;Location&quot;\u001b[39;49;00m: \u001b[33m&quot;FLORIDA&quot;\u001b[39;49;00m<br>    },<br>    \u001b[34;01m&quot;EndTime&quot;\u001b[39;49;00m: \u001b[33m&quot;2007-09-19T18:00:00.0000000Z&quot;\u001b[39;49;00m,<br>    \u001b[34;01m&quot;StartTime&quot;\u001b[39;49;00m: \u001b[33m&quot;2007-09-18T20:00:00.0000000Z&quot;\u001b[39;49;00m,<br>    \u001b[34;01m&quot;TotalDamages&quot;\u001b[39;49;00m: \u001b[34m0\u001b[39;49;00m<br>}<br></td>\n",
       "    </tr>\n",
       "    <tr>\n",
       "        <td>2007-09-20 21:57:00+00:00</td>\n",
       "        <td>FLORIDA</td>\n",
       "        <td>{<br>    \u001b[34;01m&quot;Details&quot;\u001b[39;49;00m: {<br>        \u001b[34;01m&quot;Description&quot;\u001b[39;49;00m: \u001b[33m&quot;A tornado touched down in the Town of Eustis at the northern end of West Crooked Lake. The tornado quickly intensified to EF1 strength as it moved north northwest through Eustis. The track was just under two miles long and had a maximum width of 300 yards.  The tornado destroyed 7 homes. Twenty seven homes received major damage and 81 homes reported minor damage. There were no serious injuries and property damage was set at $6.2 million.&quot;\u001b[39;49;00m,<br>        \u001b[34;01m&quot;Location&quot;\u001b[39;49;00m: \u001b[33m&quot;FLORIDA&quot;\u001b[39;49;00m<br>    },<br>    \u001b[34;01m&quot;EndTime&quot;\u001b[39;49;00m: \u001b[33m&quot;2007-09-20T22:05:00.0000000Z&quot;\u001b[39;49;00m,<br>    \u001b[34;01m&quot;StartTime&quot;\u001b[39;49;00m: \u001b[33m&quot;2007-09-20T21:57:00.0000000Z&quot;\u001b[39;49;00m,<br>    \u001b[34;01m&quot;TotalDamages&quot;\u001b[39;49;00m: \u001b[34m6200000\u001b[39;49;00m<br>}<br></td>\n",
       "    </tr>\n",
       "</table>\n",
       "        </body>\n",
       "        </html>"
      ],
      "text/plain": [
       "<IPython.core.display.HTML object>"
      ]
     },
     "metadata": {},
     "output_type": "display_data"
    },
    {
     "data": {
      "text/html": [
       "<html>\n",
       "        <head>\n",
       "        \n",
       "        </head>\n",
       "        <body>\n",
       "        <div><p style='padding: 10px; color: #3a87ad; background-color: #d9edf7; border-color: #bce9f1'>Done&nbsp(00:00.858):&nbsp3&nbsprecords</p></div>\n",
       "        </body>\n",
       "        </html>"
      ],
      "text/plain": [
       "<IPython.core.display.HTML object>"
      ]
     },
     "metadata": {},
     "output_type": "display_data"
    },
    {
     "data": {
      "text/html": [],
      "text/plain": [
       "[{'StartTime': datetime.datetime(2007, 9, 29, 8, 11, tzinfo=tzutc()), 'State': 'ATLANTIC SOUTH', 'StormSummary': {'TotalDamages': 0, 'StartTime': '2007-09-29T08:11:00.0000000Z', 'EndTime': '2007-09-29T08:11:00.0000000Z', 'Details': {'Description': 'A waterspout formed in the Atlantic southeast of Melbourne Beach and briefly moved toward shore.', 'Location': 'ATLANTIC SOUTH'}}},\n",
       " {'StartTime': datetime.datetime(2007, 9, 18, 20, 0, tzinfo=tzutc()), 'State': 'FLORIDA', 'StormSummary': {'TotalDamages': 0, 'StartTime': '2007-09-18T20:00:00.0000000Z', 'EndTime': '2007-09-19T18:00:00.0000000Z', 'Details': {'Description': 'As much as 9 inches of rain fell in a 24-hour period across parts of coastal Volusia County.', 'Location': 'FLORIDA'}}},\n",
       " {'StartTime': datetime.datetime(2007, 9, 20, 21, 57, tzinfo=tzutc()), 'State': 'FLORIDA', 'StormSummary': {'TotalDamages': 6200000, 'StartTime': '2007-09-20T21:57:00.0000000Z', 'EndTime': '2007-09-20T22:05:00.0000000Z', 'Details': {'Description': 'A tornado touched down in the Town of Eustis at the northern end of West Crooked Lake. The tornado quickly intensified to EF1 strength as it moved north northwest through Eustis. The track was just under two miles long and had a maximum width of 300 yards.  The tornado destroyed 7 homes. Twenty seven homes received major damage and 81 homes reported minor damage. There were no serious injuries and property damage was set at $6.2 million.', 'Location': 'FLORIDA'}}}]"
      ]
     },
     "execution_count": 24,
     "metadata": {},
     "output_type": "execute_result"
    }
   ],
   "source": [
    "storm_events = %kql StormEvents | project StartTime, State, StormSummary | limit 3\n",
    "storm_events"
   ]
  },
  {
   "cell_type": "code",
   "execution_count": 25,
   "metadata": {},
   "outputs": [
    {
     "data": {
      "text/plain": [
       "[{'StartTime': datetime.datetime(2007, 9, 18, 20, 0, tzinfo=tzutc()), 'State': 'FLORIDA', 'StormSummary': {'TotalDamages': 0, 'StartTime': '2007-09-18T20:00:00.0000000Z', 'EndTime': '2007-09-19T18:00:00.0000000Z', 'Details': {'Description': 'As much as 9 inches of rain fell in a 24-hour period across parts of coastal Volusia County.', 'Location': 'FLORIDA'}}},\n",
       " {'StartTime': datetime.datetime(2007, 9, 20, 21, 57, tzinfo=tzutc()), 'State': 'FLORIDA', 'StormSummary': {'TotalDamages': 6200000, 'StartTime': '2007-09-20T21:57:00.0000000Z', 'EndTime': '2007-09-20T22:05:00.0000000Z', 'Details': {'Description': 'A tornado touched down in the Town of Eustis at the northern end of West Crooked Lake. The tornado quickly intensified to EF1 strength as it moved north northwest through Eustis. The track was just under two miles long and had a maximum width of 300 yards.  The tornado destroyed 7 homes. Twenty seven homes received major damage and 81 homes reported minor damage. There were no serious injuries and property damage was set at $6.2 million.', 'Location': 'FLORIDA'}}}]"
      ]
     },
     "execution_count": 25,
     "metadata": {},
     "output_type": "execute_result"
    }
   ],
   "source": [
    "storm_events[1:3]"
   ]
  },
  {
   "cell_type": "code",
   "execution_count": 26,
   "metadata": {},
   "outputs": [
    {
     "data": {
      "text/plain": [
       "datetime.datetime(2007, 9, 18, 20, 0, tzinfo=tzutc())"
      ]
     },
     "execution_count": 26,
     "metadata": {},
     "output_type": "execute_result"
    }
   ],
   "source": [
    "storm_events[1]['StartTime']"
   ]
  },
  {
   "cell_type": "code",
   "execution_count": 27,
   "metadata": {},
   "outputs": [
    {
     "data": {
      "text/plain": [
       "'FLORIDA'"
      ]
     },
     "execution_count": 27,
     "metadata": {},
     "output_type": "execute_result"
    }
   ],
   "source": [
    "storm_events[1]['State']"
   ]
  },
  {
   "cell_type": "code",
   "execution_count": 28,
   "metadata": {},
   "outputs": [
    {
     "data": {
      "text/plain": [
       "{\n",
       "    \u001b[34;01m\"Details\"\u001b[39;49;00m: {\n",
       "        \u001b[34;01m\"Description\"\u001b[39;49;00m: \u001b[33m\"As much as 9 inches of rain fell in a 24-hour period across parts of coastal Volusia County.\"\u001b[39;49;00m,\n",
       "        \u001b[34;01m\"Location\"\u001b[39;49;00m: \u001b[33m\"FLORIDA\"\u001b[39;49;00m\n",
       "    },\n",
       "    \u001b[34;01m\"EndTime\"\u001b[39;49;00m: \u001b[33m\"2007-09-19T18:00:00.0000000Z\"\u001b[39;49;00m,\n",
       "    \u001b[34;01m\"StartTime\"\u001b[39;49;00m: \u001b[33m\"2007-09-18T20:00:00.0000000Z\"\u001b[39;49;00m,\n",
       "    \u001b[34;01m\"TotalDamages\"\u001b[39;49;00m: \u001b[34m0\u001b[39;49;00m\n",
       "}"
      ]
     },
     "execution_count": 28,
     "metadata": {},
     "output_type": "execute_result"
    }
   ],
   "source": [
    "storm_events[1]['StormSummary']"
   ]
  },
  {
   "cell_type": "code",
   "execution_count": 29,
   "metadata": {},
   "outputs": [
    {
     "data": {
      "text/plain": [
       "{\n",
       "    \u001b[34;01m\"Description\"\u001b[39;49;00m: \u001b[33m\"As much as 9 inches of rain fell in a 24-hour period across parts of coastal Volusia County.\"\u001b[39;49;00m,\n",
       "    \u001b[34;01m\"Location\"\u001b[39;49;00m: \u001b[33m\"FLORIDA\"\u001b[39;49;00m\n",
       "}"
      ]
     },
     "execution_count": 29,
     "metadata": {},
     "output_type": "execute_result"
    }
   ],
   "source": [
    "storm_events[1]['StormSummary']['Details']"
   ]
  },
  {
   "cell_type": "code",
   "execution_count": 30,
   "metadata": {},
   "outputs": [
    {
     "data": {
      "text/plain": [
       "'As much as 9 inches of rain fell in a 24-hour period across parts of coastal Volusia County.'"
      ]
     },
     "execution_count": 30,
     "metadata": {},
     "output_type": "execute_result"
    }
   ],
   "source": [
    "storm_events[1]['StormSummary']['Details']['Description']"
   ]
  },
  {
   "cell_type": "markdown",
   "metadata": {},
   "source": [
    "  - ### <span style=\"color:#82CAFA\">*Note: that you can access directly dynamic object data.*</span>"
   ]
  },
  {
   "cell_type": "code",
   "execution_count": 31,
   "metadata": {},
   "outputs": [
    {
     "data": {
      "text/html": [
       "<div>\n",
       "<style scoped>\n",
       "    .dataframe tbody tr th:only-of-type {\n",
       "        vertical-align: middle;\n",
       "    }\n",
       "\n",
       "    .dataframe tbody tr th {\n",
       "        vertical-align: top;\n",
       "    }\n",
       "\n",
       "    .dataframe thead th {\n",
       "        text-align: right;\n",
       "    }\n",
       "</style>\n",
       "<table border=\"1\" class=\"dataframe\">\n",
       "  <thead>\n",
       "    <tr style=\"text-align: right;\">\n",
       "      <th></th>\n",
       "      <th>StartTime</th>\n",
       "      <th>State</th>\n",
       "      <th>StormSummary</th>\n",
       "    </tr>\n",
       "  </thead>\n",
       "  <tbody>\n",
       "    <tr>\n",
       "      <th>0</th>\n",
       "      <td>2007-09-29 08:11:00</td>\n",
       "      <td>ATLANTIC SOUTH</td>\n",
       "      <td>{'TotalDamages': 0, 'StartTime': '2007-09-29T0...</td>\n",
       "    </tr>\n",
       "    <tr>\n",
       "      <th>1</th>\n",
       "      <td>2007-09-18 20:00:00</td>\n",
       "      <td>FLORIDA</td>\n",
       "      <td>{'TotalDamages': 0, 'StartTime': '2007-09-18T2...</td>\n",
       "    </tr>\n",
       "    <tr>\n",
       "      <th>2</th>\n",
       "      <td>2007-09-20 21:57:00</td>\n",
       "      <td>FLORIDA</td>\n",
       "      <td>{'TotalDamages': 6200000, 'StartTime': '2007-0...</td>\n",
       "    </tr>\n",
       "  </tbody>\n",
       "</table>\n",
       "</div>"
      ],
      "text/plain": [
       "            StartTime           State  \\\n",
       "0 2007-09-29 08:11:00  ATLANTIC SOUTH   \n",
       "1 2007-09-18 20:00:00         FLORIDA   \n",
       "2 2007-09-20 21:57:00         FLORIDA   \n",
       "\n",
       "                                        StormSummary  \n",
       "0  {'TotalDamages': 0, 'StartTime': '2007-09-29T0...  \n",
       "1  {'TotalDamages': 0, 'StartTime': '2007-09-18T2...  \n",
       "2  {'TotalDamages': 6200000, 'StartTime': '2007-0...  "
      ]
     },
     "execution_count": 31,
     "metadata": {},
     "output_type": "execute_result"
    }
   ],
   "source": [
    "df = storm_events.to_dataframe()\n",
    "df"
   ]
  },
  {
   "cell_type": "code",
   "execution_count": 32,
   "metadata": {},
   "outputs": [
    {
     "data": {
      "text/plain": [
       "'A waterspout formed in the Atlantic southeast of Melbourne Beach and briefly moved toward shore.'"
      ]
     },
     "execution_count": 32,
     "metadata": {},
     "output_type": "execute_result"
    }
   ],
   "source": [
    "df['StormSummary'][0]['Details']['Description']"
   ]
  },
  {
   "cell_type": "markdown",
   "metadata": {},
   "source": [
    "  - ### <span style=\"color:#82CAFA\">*Note: that access to data in dataframe is different, you first specify the column and then the row.*</span>"
   ]
  },
  {
   "cell_type": "code",
   "execution_count": 33,
   "metadata": {},
   "outputs": [
    {
     "data": {
      "text/plain": [
       "Timestamp('2007-09-18 20:00:00')"
      ]
     },
     "execution_count": 33,
     "metadata": {},
     "output_type": "execute_result"
    }
   ],
   "source": [
    "df['StartTime'][1]"
   ]
  },
  {
   "cell_type": "markdown",
   "metadata": {},
   "source": [
    "  - ### <span style=\"color:#82CAFA\">*Note: that datetime in dataframe is Timestamp.*</span>"
   ]
  },
  {
   "cell_type": "markdown",
   "metadata": {},
   "source": [
    "## Cell mixed with single line kql queries "
   ]
  },
  {
   "cell_type": "code",
   "execution_count": 34,
   "metadata": {},
   "outputs": [
    {
     "name": "stdout",
     "output_type": "stream",
     "text": [
      "+-----------+--------+\n",
      "|   State   | count_ |\n",
      "+-----------+--------+\n",
      "|   TEXAS   |  4701  |\n",
      "|   KANSAS  |  3166  |\n",
      "|    IOWA   |  2337  |\n",
      "|  ILLINOIS |  2022  |\n",
      "|  MISSOURI |  2016  |\n",
      "|  GEORGIA  |  1983  |\n",
      "| MINNESOTA |  1881  |\n",
      "| WISCONSIN |  1850  |\n",
      "|  NEBRASKA |  1766  |\n",
      "|  NEW YORK |  1750  |\n",
      "+-----------+--------+\n"
     ]
    },
    {
     "data": {
      "application/vnd.jupyter.widget-view+json": {
       "model_id": "d403b44b44584d15b57f40fc55ea5f07",
       "version_major": 2,
       "version_minor": 0
      },
      "text/plain": [
       "FigureWidget({\n",
       "    'data': [{'marker': {'color': 'rgb(31, 118, 179)'},\n",
       "              'name': 'count_',\n",
       "       …"
      ]
     },
     "metadata": {},
     "output_type": "display_data"
    },
    {
     "data": {
      "text/html": [],
      "text/plain": [
       "[{'State': 'TEXAS', 'count_': 4701},\n",
       " {'State': 'KANSAS', 'count_': 3166},\n",
       " {'State': 'IOWA', 'count_': 2337},\n",
       " {'State': 'ILLINOIS', 'count_': 2022},\n",
       " {'State': 'MISSOURI', 'count_': 2016},\n",
       " {'State': 'GEORGIA', 'count_': 1983},\n",
       " {'State': 'MINNESOTA', 'count_': 1881},\n",
       " {'State': 'WISCONSIN', 'count_': 1850},\n",
       " {'State': 'NEBRASKA', 'count_': 1766},\n",
       " {'State': 'NEW YORK', 'count_': 1750}]"
      ]
     },
     "metadata": {},
     "output_type": "display_data"
    },
    {
     "data": {
      "application/vnd.jupyter.widget-view+json": {
       "model_id": "b2a2ba24470e407fa2143be07d82639a",
       "version_major": 2,
       "version_minor": 0
      },
      "text/plain": [
       "FigureWidget({\n",
       "    'data': [{'domain': {'x': [0.0, 1.0], 'y': [0.0, 1.0]},\n",
       "              'labels': [TEXAS, KAN…"
      ]
     },
     "metadata": {},
     "output_type": "display_data"
    },
    {
     "data": {
      "text/html": [],
      "text/plain": [
       "[{'State': 'TEXAS', 'count_': 4701},\n",
       " {'State': 'KANSAS', 'count_': 3166},\n",
       " {'State': 'IOWA', 'count_': 2337},\n",
       " {'State': 'ILLINOIS', 'count_': 2022},\n",
       " {'State': 'MISSOURI', 'count_': 2016},\n",
       " {'State': 'GEORGIA', 'count_': 1983},\n",
       " {'State': 'MINNESOTA', 'count_': 1881},\n",
       " {'State': 'WISCONSIN', 'count_': 1850},\n",
       " {'State': 'NEBRASKA', 'count_': 1766},\n",
       " {'State': 'NEW YORK', 'count_': 1750}]"
      ]
     },
     "metadata": {},
     "output_type": "display_data"
    }
   ],
   "source": [
    "%kql bar_chart << StormEvents | summarize count() by State | sort by count_ | limit 10 | render barchart title='my bar chart'\n",
    "print(bar_chart)\n",
    "%kql pie_chart << StormEvents | summarize count() by State | sort by count_ | limit 10 | render piechart title='my pie chart'\n",
    "display(bar_chart)\n",
    "display(pie_chart)"
   ]
  },
  {
   "cell_type": "markdown",
   "metadata": {},
   "source": [
    "  - ### <span style=\"color:#82CAFA\">*Note: single line magics (starts with only one \\%) can share the same cell with python code*</span>"
   ]
  },
  {
   "cell_type": "markdown",
   "metadata": {},
   "source": [
    "## Multiline query "
   ]
  },
  {
   "cell_type": "code",
   "execution_count": 35,
   "metadata": {},
   "outputs": [
    {
     "data": {
      "text/html": [
       "<html>\n",
       "        <head>\n",
       "        \n",
       "        </head>\n",
       "        <body>\n",
       "        <div><p style='padding: 10px; color: #3a87ad; background-color: #d9edf7; border-color: #bce9f1'>&nbsp*&nbspSamples@help</p></div>\n",
       "        </body>\n",
       "        </html>"
      ],
      "text/plain": [
       "<IPython.core.display.HTML object>"
      ]
     },
     "metadata": {},
     "output_type": "display_data"
    },
    {
     "data": {
      "application/vnd.jupyter.widget-view+json": {
       "model_id": "c90feb91dc8944cbb249c200cc4d7346",
       "version_major": 2,
       "version_minor": 0
      },
      "text/plain": [
       "FigureWidget({\n",
       "    'data': [{'marker': {'color': 'rgb(31, 118, 179)'},\n",
       "              'name': 'count_',\n",
       "       …"
      ]
     },
     "metadata": {},
     "output_type": "display_data"
    },
    {
     "data": {
      "text/html": [
       "<html>\n",
       "        <head>\n",
       "        \n",
       "        </head>\n",
       "        <body>\n",
       "        <div><p style='padding: 10px; color: #3a87ad; background-color: #d9edf7; border-color: #bce9f1'>Done&nbsp(00:00.774):&nbsp10&nbsprecords</p></div>\n",
       "        </body>\n",
       "        </html>"
      ],
      "text/plain": [
       "<IPython.core.display.HTML object>"
      ]
     },
     "metadata": {},
     "output_type": "display_data"
    },
    {
     "data": {
      "text/html": [],
      "text/plain": [
       "[{'State': 'TEXAS', 'count_': 4701},\n",
       " {'State': 'KANSAS', 'count_': 3166},\n",
       " {'State': 'IOWA', 'count_': 2337},\n",
       " {'State': 'ILLINOIS', 'count_': 2022},\n",
       " {'State': 'MISSOURI', 'count_': 2016},\n",
       " {'State': 'GEORGIA', 'count_': 1983},\n",
       " {'State': 'MINNESOTA', 'count_': 1881},\n",
       " {'State': 'WISCONSIN', 'count_': 1850},\n",
       " {'State': 'NEBRASKA', 'count_': 1766},\n",
       " {'State': 'NEW YORK', 'count_': 1750}]"
      ]
     },
     "execution_count": 35,
     "metadata": {},
     "output_type": "execute_result"
    }
   ],
   "source": [
    "%%kql \n",
    "    StormEvents\n",
    "    | summarize count() by State\n",
    "    | sort by count_ \n",
    "    | limit 10 \n",
    "    | render columnchart title='my column chart' "
   ]
  },
  {
   "cell_type": "markdown",
   "metadata": {},
   "source": [
    "  - ### <span style=\"color:#82CAFA\">*Note: that this is a multiline magic, it starts with \\%\\%. It can include only kql code*</span>"
   ]
  },
  {
   "cell_type": "markdown",
   "metadata": {},
   "source": [
    "## Show last chart result as a table"
   ]
  },
  {
   "cell_type": "code",
   "execution_count": 36,
   "metadata": {},
   "outputs": [
    {
     "data": {
      "text/html": [
       "<html>\n",
       "        <head>\n",
       "        \n",
       "        </head>\n",
       "        <body>\n",
       "        <table>\n",
       "    <tr>\n",
       "        <th>State</th>\n",
       "        <th>count_</th>\n",
       "    </tr>\n",
       "    <tr>\n",
       "        <td>TEXAS</td>\n",
       "        <td>4701</td>\n",
       "    </tr>\n",
       "    <tr>\n",
       "        <td>KANSAS</td>\n",
       "        <td>3166</td>\n",
       "    </tr>\n",
       "    <tr>\n",
       "        <td>IOWA</td>\n",
       "        <td>2337</td>\n",
       "    </tr>\n",
       "    <tr>\n",
       "        <td>ILLINOIS</td>\n",
       "        <td>2022</td>\n",
       "    </tr>\n",
       "    <tr>\n",
       "        <td>MISSOURI</td>\n",
       "        <td>2016</td>\n",
       "    </tr>\n",
       "    <tr>\n",
       "        <td>GEORGIA</td>\n",
       "        <td>1983</td>\n",
       "    </tr>\n",
       "    <tr>\n",
       "        <td>MINNESOTA</td>\n",
       "        <td>1881</td>\n",
       "    </tr>\n",
       "    <tr>\n",
       "        <td>WISCONSIN</td>\n",
       "        <td>1850</td>\n",
       "    </tr>\n",
       "    <tr>\n",
       "        <td>NEBRASKA</td>\n",
       "        <td>1766</td>\n",
       "    </tr>\n",
       "    <tr>\n",
       "        <td>NEW YORK</td>\n",
       "        <td>1750</td>\n",
       "    </tr>\n",
       "</table>\n",
       "        </body>\n",
       "        </html>"
      ],
      "text/plain": [
       "<IPython.core.display.HTML object>"
      ]
     },
     "metadata": {},
     "output_type": "display_data"
    }
   ],
   "source": [
    "_.show_table()"
   ]
  },
  {
   "cell_type": "markdown",
   "metadata": {},
   "source": [
    "## Show last result in a popup window"
   ]
  },
  {
   "cell_type": "code",
   "execution_count": 37,
   "metadata": {},
   "outputs": [
    {
     "data": {
      "text/html": [
       "<!DOCTYPE html>\n",
       "            <html><body>\n",
       "\n",
       "            <button onclick=\"this.style.visibility='hidden';kql_MagicLaunchWindowFunction('Kqlmagic_temp_files/b2304f5d0da440bc9470bbbd16967ebf.html','fullscreen=no,directories=no,location=no,menubar=no,resizable=yes,scrollbars=yes,status=no,titlebar=no,toolbar=no,','b2304f5d0da440bc9470bbbd16967ebf','')\">popup columnchart - my column chart </button>\n",
       "\n",
       "            <script>\n",
       "\n",
       "            function kql_MagicLaunchWindowFunction(file_path, window_params, window_name, notebooks_host) {\n",
       "                var url;\n",
       "                if (file_path.startsWith('http')) {\n",
       "                    url = file_path;\n",
       "                } else {\n",
       "                    var base_url = '';\n",
       "\n",
       "                    // check if azure notebook\n",
       "                    var azure_host = (notebooks_host == null || notebooks_host.length == 0) ? 'https://notebooks.azure.com' : notebooks_host;\n",
       "                    var start = azure_host.search('//');\n",
       "                    var azure_host_suffix = '.' + azure_host.substring(start+2);\n",
       "\n",
       "                    var loc = String(window.location);\n",
       "                    var end = loc.search(azure_host_suffix);\n",
       "                    start = loc.search('//');\n",
       "                    if (start > 0 && end > 0) {\n",
       "                        var parts = loc.substring(start+2, end).split('-');\n",
       "                        if (parts.length == 2) {\n",
       "                            var library = parts[0];\n",
       "                            var user = parts[1];\n",
       "                            base_url = azure_host + '/api/user/' +user+ '/library/' +library+ '/html/';\n",
       "                        }\n",
       "                    }\n",
       "\n",
       "                    // check if local jupyter lab\n",
       "                    if (base_url.length == 0) {\n",
       "                        var configDataScipt  = document.getElementById('jupyter-config-data');\n",
       "                        if (configDataScipt != null) {\n",
       "                            var jupyterConfigData = JSON.parse(configDataScipt.textContent);\n",
       "                            if (jupyterConfigData['appName'] == 'JupyterLab' && jupyterConfigData['serverRoot'] != null &&  jupyterConfigData['treeUrl'] != null) {\n",
       "                                var basePath = 'c:/My Projects/jupyter-Kqlmagic-microsoft-vsc/notebooks' + '/';\n",
       "                                if (basePath.startsWith(jupyterConfigData['serverRoot'])) {\n",
       "                                    base_url = '/files/' + basePath.substring(jupyterConfigData['serverRoot'].length+1);\n",
       "                                }\n",
       "                            } \n",
       "                        }\n",
       "                    }\n",
       "\n",
       "                    // assume local jupyter notebook\n",
       "                    if (base_url.length == 0) {\n",
       "\n",
       "                        var parts = loc.split('/');\n",
       "                        parts.pop();\n",
       "                        base_url = parts.join('/') + '/';\n",
       "                    }\n",
       "                    url = base_url + file_path;\n",
       "                }\n",
       "\n",
       "                window.focus();\n",
       "                var w = screen.width / 2;\n",
       "                var h = screen.height / 2;\n",
       "                params = 'width='+w+',height='+h;\n",
       "                kql_Magic_b2304f5d0da440bc9470bbbd16967ebf = window.open(url, window_name, window_params + params);\n",
       "            }\n",
       "            </script>\n",
       "\n",
       "            </body></html>"
      ],
      "text/plain": [
       "<IPython.core.display.HTML object>"
      ]
     },
     "metadata": {},
     "output_type": "display_data"
    }
   ],
   "source": [
    "_.popup()"
   ]
  },
  {
   "cell_type": "markdown",
   "metadata": {},
   "source": [
    "## Resize poup window, and to adjust the chart inside the window press F5"
   ]
  },
  {
   "cell_type": "markdown",
   "metadata": {},
   "source": [
    "  - ### <span style=\"color:#82CAFA\">*Note: when you F5, you loose the latest chart display state*</span>"
   ]
  },
  {
   "cell_type": "markdown",
   "metadata": {},
   "source": [
    "## Show last chart result as a table in a popup window"
   ]
  },
  {
   "cell_type": "code",
   "execution_count": 38,
   "metadata": {},
   "outputs": [
    {
     "data": {
      "text/html": [
       "<!DOCTYPE html>\n",
       "            <html><body>\n",
       "\n",
       "            <button onclick=\"this.style.visibility='hidden';kql_MagicLaunchWindowFunction('Kqlmagic_temp_files/e7497620cf99436a9a38aa0b1b1aebc9.html','fullscreen=no,directories=no,location=no,menubar=no,resizable=yes,scrollbars=yes,status=no,titlebar=no,toolbar=no,','e7497620cf99436a9a38aa0b1b1aebc9','')\">popup table - my column chart </button>\n",
       "\n",
       "            <script>\n",
       "\n",
       "            function kql_MagicLaunchWindowFunction(file_path, window_params, window_name, notebooks_host) {\n",
       "                var url;\n",
       "                if (file_path.startsWith('http')) {\n",
       "                    url = file_path;\n",
       "                } else {\n",
       "                    var base_url = '';\n",
       "\n",
       "                    // check if azure notebook\n",
       "                    var azure_host = (notebooks_host == null || notebooks_host.length == 0) ? 'https://notebooks.azure.com' : notebooks_host;\n",
       "                    var start = azure_host.search('//');\n",
       "                    var azure_host_suffix = '.' + azure_host.substring(start+2);\n",
       "\n",
       "                    var loc = String(window.location);\n",
       "                    var end = loc.search(azure_host_suffix);\n",
       "                    start = loc.search('//');\n",
       "                    if (start > 0 && end > 0) {\n",
       "                        var parts = loc.substring(start+2, end).split('-');\n",
       "                        if (parts.length == 2) {\n",
       "                            var library = parts[0];\n",
       "                            var user = parts[1];\n",
       "                            base_url = azure_host + '/api/user/' +user+ '/library/' +library+ '/html/';\n",
       "                        }\n",
       "                    }\n",
       "\n",
       "                    // check if local jupyter lab\n",
       "                    if (base_url.length == 0) {\n",
       "                        var configDataScipt  = document.getElementById('jupyter-config-data');\n",
       "                        if (configDataScipt != null) {\n",
       "                            var jupyterConfigData = JSON.parse(configDataScipt.textContent);\n",
       "                            if (jupyterConfigData['appName'] == 'JupyterLab' && jupyterConfigData['serverRoot'] != null &&  jupyterConfigData['treeUrl'] != null) {\n",
       "                                var basePath = 'c:/My Projects/jupyter-Kqlmagic-microsoft-vsc/notebooks' + '/';\n",
       "                                if (basePath.startsWith(jupyterConfigData['serverRoot'])) {\n",
       "                                    base_url = '/files/' + basePath.substring(jupyterConfigData['serverRoot'].length+1);\n",
       "                                }\n",
       "                            } \n",
       "                        }\n",
       "                    }\n",
       "\n",
       "                    // assume local jupyter notebook\n",
       "                    if (base_url.length == 0) {\n",
       "\n",
       "                        var parts = loc.split('/');\n",
       "                        parts.pop();\n",
       "                        base_url = parts.join('/') + '/';\n",
       "                    }\n",
       "                    url = base_url + file_path;\n",
       "                }\n",
       "\n",
       "                window.focus();\n",
       "                var w = screen.width / 2;\n",
       "                var h = screen.height / 2;\n",
       "                params = 'width='+w+',height='+h;\n",
       "                kql_Magic_e7497620cf99436a9a38aa0b1b1aebc9 = window.open(url, window_name, window_params + params);\n",
       "            }\n",
       "            </script>\n",
       "\n",
       "            </body></html>"
      ],
      "text/plain": [
       "<IPython.core.display.HTML object>"
      ]
     },
     "metadata": {},
     "output_type": "display_data"
    }
   ],
   "source": [
    "_kql_raw_result_.popup_table()"
   ]
  },
  {
   "cell_type": "markdown",
   "metadata": {},
   "source": [
    "## More complex chart"
   ]
  },
  {
   "cell_type": "code",
   "execution_count": 39,
   "metadata": {},
   "outputs": [
    {
     "data": {
      "text/html": [
       "<html>\n",
       "        <head>\n",
       "        \n",
       "        </head>\n",
       "        <body>\n",
       "        <div><p style='padding: 10px; color: #3a87ad; background-color: #d9edf7; border-color: #bce9f1'>&nbsp*&nbspSamples@help</p></div>\n",
       "        </body>\n",
       "        </html>"
      ],
      "text/plain": [
       "<IPython.core.display.HTML object>"
      ]
     },
     "metadata": {},
     "output_type": "display_data"
    },
    {
     "data": {
      "application/vnd.jupyter.widget-view+json": {
       "model_id": "a64440b01705411fae8f51a8852eafb3",
       "version_major": 2,
       "version_minor": 0
      },
      "text/plain": [
       "FigureWidget({\n",
       "    'data': [{'domain': {'x': [0.0, 0.475], 'y': [0.0, 1.0]},\n",
       "              'labels': [TEXAS, K…"
      ]
     },
     "metadata": {},
     "output_type": "display_data"
    },
    {
     "data": {
      "text/html": [
       "<html>\n",
       "        <head>\n",
       "        \n",
       "        </head>\n",
       "        <body>\n",
       "        <div><p style='padding: 10px; color: #3a87ad; background-color: #d9edf7; border-color: #bce9f1'>Done&nbsp(00:00.771):&nbsp10&nbsprecords</p></div>\n",
       "        </body>\n",
       "        </html>"
      ],
      "text/plain": [
       "<IPython.core.display.HTML object>"
      ]
     },
     "metadata": {},
     "output_type": "display_data"
    },
    {
     "data": {
      "text/html": [],
      "text/plain": [
       "[{'State': 'TEXAS', 'count_': 4701, 'count2': 22099401},\n",
       " {'State': 'KANSAS', 'count_': 3166, 'count2': 10023556},\n",
       " {'State': 'IOWA', 'count_': 2337, 'count2': 5461569},\n",
       " {'State': 'ILLINOIS', 'count_': 2022, 'count2': 4088484},\n",
       " {'State': 'MISSOURI', 'count_': 2016, 'count2': 4064256},\n",
       " {'State': 'GEORGIA', 'count_': 1983, 'count2': 3932289},\n",
       " {'State': 'MINNESOTA', 'count_': 1881, 'count2': 3538161},\n",
       " {'State': 'WISCONSIN', 'count_': 1850, 'count2': 3422500},\n",
       " {'State': 'NEBRASKA', 'count_': 1766, 'count2': 3118756},\n",
       " {'State': 'NEW YORK', 'count_': 1750, 'count2': 3062500}]"
      ]
     },
     "execution_count": 39,
     "metadata": {},
     "output_type": "execute_result"
    }
   ],
   "source": [
    "%%kql \n",
    "    StormEvents\n",
    "    | summarize count() by State\n",
    "    | sort by count_ \n",
    "    | extend count2 = count_*count_ \n",
    "    | limit 10 \n",
    "    | render piechart title='my pie chart #2' "
   ]
  },
  {
   "cell_type": "markdown",
   "metadata": {},
   "source": [
    "## Convert result data to dictionary of columns"
   ]
  },
  {
   "cell_type": "code",
   "execution_count": 40,
   "metadata": {},
   "outputs": [
    {
     "name": "stdout",
     "output_type": "stream",
     "text": [
      "{'State': ('TEXAS', 'KANSAS', 'IOWA', 'ILLINOIS', 'MISSOURI', 'GEORGIA', 'MINNESOTA', 'WISCONSIN', 'NEBRASKA', 'NEW YORK'), 'count_': (4701, 3166, 2337, 2022, 2016, 1983, 1881, 1850, 1766, 1750), 'count2': (22099401, 10023556, 5461569, 4088484, 4064256, 3932289, 3538161, 3422500, 3118756, 3062500)}\n"
     ]
    }
   ],
   "source": [
    "dict_of_columns = _kql_raw_result_.to_dict()\n",
    "print(dict_of_columns)"
   ]
  },
  {
   "cell_type": "code",
   "execution_count": 41,
   "metadata": {},
   "outputs": [
    {
     "data": {
      "text/html": [
       "<a href=\".\\files\\csv_file.csv\" download>csv results</a>"
      ],
      "text/plain": [
       "csv results at c:\\My Projects\\jupyter-Kqlmagic-microsoft-vsc\\notebooks\\csv_file.csv"
      ]
     },
     "execution_count": 41,
     "metadata": {},
     "output_type": "execute_result"
    }
   ],
   "source": [
    "_kql_raw_result_.to_csv('csv_file.csv')\n",
    "#%cat csv_file.csv"
   ]
  },
  {
   "cell_type": "markdown",
   "metadata": {},
   "source": [
    "# Get last kql query attributes "
   ]
  },
  {
   "cell_type": "markdown",
   "metadata": {},
   "source": [
    "## Query string"
   ]
  },
  {
   "cell_type": "code",
   "execution_count": 42,
   "metadata": {},
   "outputs": [
    {
     "data": {
      "text/plain": [
       "\"StormEvents\\n    | summarize count() by State\\n    | sort by count_ \\n    | extend count2 = count_*count_ \\n    | limit 10 \\n    | render piechart title='my pie chart #2'\""
      ]
     },
     "execution_count": 42,
     "metadata": {},
     "output_type": "execute_result"
    }
   ],
   "source": [
    "_kql_raw_result_.query"
   ]
  },
  {
   "cell_type": "markdown",
   "metadata": {},
   "source": [
    "## Query render title"
   ]
  },
  {
   "cell_type": "code",
   "execution_count": 43,
   "metadata": {},
   "outputs": [
    {
     "data": {
      "text/plain": [
       "'my pie chart #2'"
      ]
     },
     "execution_count": 43,
     "metadata": {},
     "output_type": "execute_result"
    }
   ],
   "source": [
    "_kql_raw_result_.title"
   ]
  },
  {
   "cell_type": "markdown",
   "metadata": {},
   "source": [
    "## Query render visualization"
   ]
  },
  {
   "cell_type": "code",
   "execution_count": 44,
   "metadata": {},
   "outputs": [
    {
     "data": {
      "text/plain": [
       "'piechart'"
      ]
     },
     "execution_count": 44,
     "metadata": {},
     "output_type": "execute_result"
    }
   ],
   "source": [
    "_kql_raw_result_.visualization"
   ]
  },
  {
   "cell_type": "markdown",
   "metadata": {},
   "source": [
    "## Number of records in query response "
   ]
  },
  {
   "cell_type": "code",
   "execution_count": 45,
   "metadata": {},
   "outputs": [
    {
     "data": {
      "text/plain": [
       "10"
      ]
     },
     "execution_count": 45,
     "metadata": {},
     "output_type": "execute_result"
    }
   ],
   "source": [
    "_kql_raw_result_.records_count"
   ]
  },
  {
   "cell_type": "markdown",
   "metadata": {},
   "source": [
    "## List of columns in query table response"
   ]
  },
  {
   "cell_type": "code",
   "execution_count": 46,
   "metadata": {},
   "outputs": [
    {
     "data": {
      "text/plain": [
       "['State', 'count_', 'count2']"
      ]
     },
     "execution_count": 46,
     "metadata": {},
     "output_type": "execute_result"
    }
   ],
   "source": [
    "_kql_raw_result_.columns_name"
   ]
  },
  {
   "cell_type": "markdown",
   "metadata": {},
   "source": [
    "## Kqlmagic time metric (in seconds)"
   ]
  },
  {
   "cell_type": "code",
   "execution_count": 47,
   "metadata": {},
   "outputs": [
    {
     "data": {
      "text/plain": [
       "1540141397.1576884"
      ]
     },
     "execution_count": 47,
     "metadata": {},
     "output_type": "execute_result"
    }
   ],
   "source": [
    "_kql_raw_result_.start_time"
   ]
  },
  {
   "cell_type": "code",
   "execution_count": 48,
   "metadata": {},
   "outputs": [
    {
     "data": {
      "text/plain": [
       "1540141397.9288795"
      ]
     },
     "execution_count": 48,
     "metadata": {},
     "output_type": "execute_result"
    }
   ],
   "source": [
    "_kql_raw_result_.end_time"
   ]
  },
  {
   "cell_type": "code",
   "execution_count": 49,
   "metadata": {},
   "outputs": [
    {
     "data": {
      "text/plain": [
       "0.7711911201477051"
      ]
     },
     "execution_count": 49,
     "metadata": {},
     "output_type": "execute_result"
    }
   ],
   "source": [
    "_kql_raw_result_.elapsed_timespan"
   ]
  },
  {
   "cell_type": "markdown",
   "metadata": {},
   "source": [
    "## Query connection database@cluster"
   ]
  },
  {
   "cell_type": "code",
   "execution_count": 50,
   "metadata": {},
   "outputs": [
    {
     "data": {
      "text/plain": [
       "'Samples@help'"
      ]
     },
     "execution_count": 50,
     "metadata": {},
     "output_type": "execute_result"
    }
   ],
   "source": [
    "_kql_raw_result_.connection"
   ]
  },
  {
   "cell_type": "markdown",
   "metadata": {},
   "source": [
    "## Query Options (settings) "
   ]
  },
  {
   "cell_type": "code",
   "execution_count": 51,
   "metadata": {},
   "outputs": [
    {
     "data": {
      "text/plain": [
       "{'auto_dataframe': False,\n",
       " 'short_errors': True,\n",
       " 'feedback': True,\n",
       " 'show_conn_info': 'current',\n",
       " 'columns_to_local_vars': False,\n",
       " 'show_query_time': True,\n",
       " 'enable_suppress_result': True,\n",
       " 'plotly_fs_includejs': False,\n",
       " 'popup_window': False,\n",
       " 'auto_limit': 0,\n",
       " 'display_limit': None,\n",
       " 'prettytable_style': 'DEFAULT',\n",
       " 'last_raw_result_var': '_kql_raw_result_',\n",
       " 'table_package': 'prettytable',\n",
       " 'plot_package': 'plotly',\n",
       " 'dsn_filename': 'odbc.ini',\n",
       " 'validate_connection_string': True,\n",
       " 'auto_popup_schema': True,\n",
       " 'json_display': 'formatted',\n",
       " 'popup_help': False,\n",
       " 'popup_schema': False,\n",
       " 'palette_colors': 10,\n",
       " 'palette_desaturation': 1.0,\n",
       " 'params_dict': None,\n",
       " 'palette_name': 'tab10',\n",
       " 'temp_folder_name': 'Kqlmagic_temp_files',\n",
       " 'cache_folder_name': 'Kqlmagic_cache_files',\n",
       " 'export_folder_name': 'Kqlmagic_exported_files',\n",
       " 'notebook_app': 'jupyternotebook',\n",
       " 'add_kql_ref_to_help': True,\n",
       " 'add_schema_to_help': True,\n",
       " 'cache': False,\n",
       " 'use_cache': False,\n",
       " 'version': False,\n",
       " 'palette': False,\n",
       " 'popup_palettes': False,\n",
       " 'palette_reverse': False,\n",
       " 'save_as': None}"
      ]
     },
     "execution_count": 51,
     "metadata": {},
     "output_type": "execute_result"
    }
   ],
   "source": [
    "_kql_raw_result_.options"
   ]
  },
  {
   "cell_type": "markdown",
   "metadata": {},
   "source": [
    "## Completion query information (query metadata)"
   ]
  },
  {
   "cell_type": "code",
   "execution_count": 52,
   "metadata": {},
   "outputs": [
    {
     "data": {
      "text/plain": [
       "{\n",
       "    \u001b[34;01m\"Count\"\u001b[39;49;00m: \u001b[34m1\u001b[39;49;00m,\n",
       "    \u001b[34;01m\"Text\"\u001b[39;49;00m: \u001b[33m\"Query completed successfully\"\u001b[39;49;00m\n",
       "}"
      ]
     },
     "execution_count": 52,
     "metadata": {},
     "output_type": "execute_result"
    }
   ],
   "source": [
    "_kql_raw_result_.completion_query_info"
   ]
  },
  {
   "cell_type": "markdown",
   "metadata": {},
   "source": [
    "## Completion query resource consumption (query metadata)"
   ]
  },
  {
   "cell_type": "code",
   "execution_count": 53,
   "metadata": {},
   "outputs": [
    {
     "data": {
      "text/plain": [
       "{\n",
       "    \u001b[34;01m\"ExecutionTime\"\u001b[39;49;00m: \u001b[34m0.0\u001b[39;49;00m,\n",
       "    \u001b[34;01m\"dataset_statistics\"\u001b[39;49;00m: [\n",
       "        {\n",
       "            \u001b[34;01m\"table_row_count\"\u001b[39;49;00m: \u001b[34m10\u001b[39;49;00m,\n",
       "            \u001b[34;01m\"table_size\"\u001b[39;49;00m: \u001b[34m293\u001b[39;49;00m\n",
       "        }\n",
       "    ],\n",
       "    \u001b[34;01m\"input_dataset_statistics\"\u001b[39;49;00m: {\n",
       "        \u001b[34;01m\"extents\"\u001b[39;49;00m: {\n",
       "            \u001b[34;01m\"scanned\"\u001b[39;49;00m: \u001b[34m1\u001b[39;49;00m,\n",
       "            \u001b[34;01m\"total\"\u001b[39;49;00m: \u001b[34m1\u001b[39;49;00m\n",
       "        },\n",
       "        \u001b[34;01m\"rows\"\u001b[39;49;00m: {\n",
       "            \u001b[34;01m\"scanned\"\u001b[39;49;00m: \u001b[34m59066\u001b[39;49;00m,\n",
       "            \u001b[34;01m\"total\"\u001b[39;49;00m: \u001b[34m59066\u001b[39;49;00m\n",
       "        },\n",
       "        \u001b[34;01m\"rowstores\"\u001b[39;49;00m: {\n",
       "            \u001b[34;01m\"scanned_rows\"\u001b[39;49;00m: \u001b[34m0\u001b[39;49;00m\n",
       "        }\n",
       "    },\n",
       "    \u001b[34;01m\"resource_usage\"\u001b[39;49;00m: {\n",
       "        \u001b[34;01m\"cache\"\u001b[39;49;00m: {\n",
       "            \u001b[34;01m\"disk\"\u001b[39;49;00m: {\n",
       "                \u001b[34;01m\"hits\"\u001b[39;49;00m: \u001b[34m0\u001b[39;49;00m,\n",
       "                \u001b[34;01m\"misses\"\u001b[39;49;00m: \u001b[34m0\u001b[39;49;00m,\n",
       "                \u001b[34;01m\"total\"\u001b[39;49;00m: \u001b[34m0\u001b[39;49;00m\n",
       "            },\n",
       "            \u001b[34;01m\"memory\"\u001b[39;49;00m: {\n",
       "                \u001b[34;01m\"hits\"\u001b[39;49;00m: \u001b[34m71\u001b[39;49;00m,\n",
       "                \u001b[34;01m\"misses\"\u001b[39;49;00m: \u001b[34m0\u001b[39;49;00m,\n",
       "                \u001b[34;01m\"total\"\u001b[39;49;00m: \u001b[34m71\u001b[39;49;00m\n",
       "            }\n",
       "        },\n",
       "        \u001b[34;01m\"cpu\"\u001b[39;49;00m: {\n",
       "            \u001b[34;01m\"kernel\"\u001b[39;49;00m: \u001b[33m\"00:00:00\"\u001b[39;49;00m,\n",
       "            \u001b[34;01m\"total cpu\"\u001b[39;49;00m: \u001b[33m\"00:00:00\"\u001b[39;49;00m,\n",
       "            \u001b[34;01m\"user\"\u001b[39;49;00m: \u001b[33m\"00:00:00\"\u001b[39;49;00m\n",
       "        },\n",
       "        \u001b[34;01m\"memory\"\u001b[39;49;00m: {\n",
       "            \u001b[34;01m\"peak_per_node\"\u001b[39;49;00m: \u001b[34m0\u001b[39;49;00m\n",
       "        }\n",
       "    }\n",
       "}"
      ]
     },
     "execution_count": 53,
     "metadata": {},
     "output_type": "execute_result"
    }
   ],
   "source": [
    "_kql_raw_result_.completion_query_resource_consumption"
   ]
  },
  {
   "cell_type": "code",
   "execution_count": 54,
   "metadata": {},
   "outputs": [
    {
     "data": {
      "text/plain": [
       "71"
      ]
     },
     "execution_count": 54,
     "metadata": {},
     "output_type": "execute_result"
    }
   ],
   "source": [
    "_kql_raw_result_.completion_query_resource_consumption['resource_usage']['cache']['memory']['hits']"
   ]
  },
  {
   "cell_type": "markdown",
   "metadata": {},
   "source": [
    "## Query raw json response"
   ]
  },
  {
   "cell_type": "code",
   "execution_count": 55,
   "metadata": {
    "scrolled": true
   },
   "outputs": [
    {
     "data": {
      "text/plain": [
       "[\n",
       "    {\n",
       "        \u001b[34;01m\"FrameType\"\u001b[39;49;00m: \u001b[33m\"DataSetHeader\"\u001b[39;49;00m,\n",
       "        \u001b[34;01m\"IsProgressive\"\u001b[39;49;00m: \u001b[34mfalse\u001b[39;49;00m,\n",
       "        \u001b[34;01m\"Version\"\u001b[39;49;00m: \u001b[33m\"v2.0\"\u001b[39;49;00m\n",
       "    },\n",
       "    {\n",
       "        \u001b[34;01m\"Columns\"\u001b[39;49;00m: [\n",
       "            {\n",
       "                \u001b[34;01m\"ColumnName\"\u001b[39;49;00m: \u001b[33m\"TableId\"\u001b[39;49;00m,\n",
       "                \u001b[34;01m\"ColumnType\"\u001b[39;49;00m: \u001b[33m\"int\"\u001b[39;49;00m\n",
       "            },\n",
       "            {\n",
       "                \u001b[34;01m\"ColumnName\"\u001b[39;49;00m: \u001b[33m\"Key\"\u001b[39;49;00m,\n",
       "                \u001b[34;01m\"ColumnType\"\u001b[39;49;00m: \u001b[33m\"string\"\u001b[39;49;00m\n",
       "            },\n",
       "            {\n",
       "                \u001b[34;01m\"ColumnName\"\u001b[39;49;00m: \u001b[33m\"Value\"\u001b[39;49;00m,\n",
       "                \u001b[34;01m\"ColumnType\"\u001b[39;49;00m: \u001b[33m\"dynamic\"\u001b[39;49;00m\n",
       "            }\n",
       "        ],\n",
       "        \u001b[34;01m\"FrameType\"\u001b[39;49;00m: \u001b[33m\"DataTable\"\u001b[39;49;00m,\n",
       "        \u001b[34;01m\"Rows\"\u001b[39;49;00m: [\n",
       "            [\n",
       "                \u001b[34m1\u001b[39;49;00m,\n",
       "                \u001b[33m\"Visualization\"\u001b[39;49;00m,\n",
       "                \u001b[33m\"{\\\"Visualization\\\":\\\"piechart\\\",\\\"Title\\\":\\\"my pie chart #2\\\",\\\"XColumn\\\":null,\\\"Series\\\":null,\\\"YColumns\\\":null,\\\"XTitle\\\":null,\\\"YTitle\\\":null,\\\"XAxis\\\":null,\\\"YAxis\\\":null,\\\"Legend\\\":null,\\\"YSplit\\\":null,\\\"Accumulate\\\":false,\\\"IsQuerySorted\\\":true,\\\"Kind\\\":null}\"\u001b[39;49;00m\n",
       "            ]\n",
       "        ],\n",
       "        \u001b[34;01m\"TableId\"\u001b[39;49;00m: \u001b[34m0\u001b[39;49;00m,\n",
       "        \u001b[34;01m\"TableKind\"\u001b[39;49;00m: \u001b[33m\"QueryProperties\"\u001b[39;49;00m,\n",
       "        \u001b[34;01m\"TableName\"\u001b[39;49;00m: \u001b[33m\"@ExtendedProperties\"\u001b[39;49;00m\n",
       "    },\n",
       "    {\n",
       "        \u001b[34;01m\"Columns\"\u001b[39;49;00m: [\n",
       "            {\n",
       "                \u001b[34;01m\"ColumnName\"\u001b[39;49;00m: \u001b[33m\"State\"\u001b[39;49;00m,\n",
       "                \u001b[34;01m\"ColumnType\"\u001b[39;49;00m: \u001b[33m\"string\"\u001b[39;49;00m\n",
       "            },\n",
       "            {\n",
       "                \u001b[34;01m\"ColumnName\"\u001b[39;49;00m: \u001b[33m\"count_\"\u001b[39;49;00m,\n",
       "                \u001b[34;01m\"ColumnType\"\u001b[39;49;00m: \u001b[33m\"long\"\u001b[39;49;00m\n",
       "            },\n",
       "            {\n",
       "                \u001b[34;01m\"ColumnName\"\u001b[39;49;00m: \u001b[33m\"count2\"\u001b[39;49;00m,\n",
       "                \u001b[34;01m\"ColumnType\"\u001b[39;49;00m: \u001b[33m\"long\"\u001b[39;49;00m\n",
       "            }\n",
       "        ],\n",
       "        \u001b[34;01m\"FrameType\"\u001b[39;49;00m: \u001b[33m\"DataTable\"\u001b[39;49;00m,\n",
       "        \u001b[34;01m\"Rows\"\u001b[39;49;00m: [\n",
       "            [\n",
       "                \u001b[33m\"TEXAS\"\u001b[39;49;00m,\n",
       "                \u001b[34m4701\u001b[39;49;00m,\n",
       "                \u001b[34m22099401\u001b[39;49;00m\n",
       "            ],\n",
       "            [\n",
       "                \u001b[33m\"KANSAS\"\u001b[39;49;00m,\n",
       "                \u001b[34m3166\u001b[39;49;00m,\n",
       "                \u001b[34m10023556\u001b[39;49;00m\n",
       "            ],\n",
       "            [\n",
       "                \u001b[33m\"IOWA\"\u001b[39;49;00m,\n",
       "                \u001b[34m2337\u001b[39;49;00m,\n",
       "                \u001b[34m5461569\u001b[39;49;00m\n",
       "            ],\n",
       "            [\n",
       "                \u001b[33m\"ILLINOIS\"\u001b[39;49;00m,\n",
       "                \u001b[34m2022\u001b[39;49;00m,\n",
       "                \u001b[34m4088484\u001b[39;49;00m\n",
       "            ],\n",
       "            [\n",
       "                \u001b[33m\"MISSOURI\"\u001b[39;49;00m,\n",
       "                \u001b[34m2016\u001b[39;49;00m,\n",
       "                \u001b[34m4064256\u001b[39;49;00m\n",
       "            ],\n",
       "            [\n",
       "                \u001b[33m\"GEORGIA\"\u001b[39;49;00m,\n",
       "                \u001b[34m1983\u001b[39;49;00m,\n",
       "                \u001b[34m3932289\u001b[39;49;00m\n",
       "            ],\n",
       "            [\n",
       "                \u001b[33m\"MINNESOTA\"\u001b[39;49;00m,\n",
       "                \u001b[34m1881\u001b[39;49;00m,\n",
       "                \u001b[34m3538161\u001b[39;49;00m\n",
       "            ],\n",
       "            [\n",
       "                \u001b[33m\"WISCONSIN\"\u001b[39;49;00m,\n",
       "                \u001b[34m1850\u001b[39;49;00m,\n",
       "                \u001b[34m3422500\u001b[39;49;00m\n",
       "            ],\n",
       "            [\n",
       "                \u001b[33m\"NEBRASKA\"\u001b[39;49;00m,\n",
       "                \u001b[34m1766\u001b[39;49;00m,\n",
       "                \u001b[34m3118756\u001b[39;49;00m\n",
       "            ],\n",
       "            [\n",
       "                \u001b[33m\"NEW YORK\"\u001b[39;49;00m,\n",
       "                \u001b[34m1750\u001b[39;49;00m,\n",
       "                \u001b[34m3062500\u001b[39;49;00m\n",
       "            ]\n",
       "        ],\n",
       "        \u001b[34;01m\"TableId\"\u001b[39;49;00m: \u001b[34m1\u001b[39;49;00m,\n",
       "        \u001b[34;01m\"TableKind\"\u001b[39;49;00m: \u001b[33m\"PrimaryResult\"\u001b[39;49;00m,\n",
       "        \u001b[34;01m\"TableName\"\u001b[39;49;00m: \u001b[33m\"PrimaryResult\"\u001b[39;49;00m\n",
       "    },\n",
       "    {\n",
       "        \u001b[34;01m\"Columns\"\u001b[39;49;00m: [\n",
       "            {\n",
       "                \u001b[34;01m\"ColumnName\"\u001b[39;49;00m: \u001b[33m\"Timestamp\"\u001b[39;49;00m,\n",
       "                \u001b[34;01m\"ColumnType\"\u001b[39;49;00m: \u001b[33m\"datetime\"\u001b[39;49;00m\n",
       "            },\n",
       "            {\n",
       "                \u001b[34;01m\"ColumnName\"\u001b[39;49;00m: \u001b[33m\"ClientRequestId\"\u001b[39;49;00m,\n",
       "                \u001b[34;01m\"ColumnType\"\u001b[39;49;00m: \u001b[33m\"string\"\u001b[39;49;00m\n",
       "            },\n",
       "            {\n",
       "                \u001b[34;01m\"ColumnName\"\u001b[39;49;00m: \u001b[33m\"ActivityId\"\u001b[39;49;00m,\n",
       "                \u001b[34;01m\"ColumnType\"\u001b[39;49;00m: \u001b[33m\"guid\"\u001b[39;49;00m\n",
       "            },\n",
       "            {\n",
       "                \u001b[34;01m\"ColumnName\"\u001b[39;49;00m: \u001b[33m\"SubActivityId\"\u001b[39;49;00m,\n",
       "                \u001b[34;01m\"ColumnType\"\u001b[39;49;00m: \u001b[33m\"guid\"\u001b[39;49;00m\n",
       "            },\n",
       "            {\n",
       "                \u001b[34;01m\"ColumnName\"\u001b[39;49;00m: \u001b[33m\"ParentActivityId\"\u001b[39;49;00m,\n",
       "                \u001b[34;01m\"ColumnType\"\u001b[39;49;00m: \u001b[33m\"guid\"\u001b[39;49;00m\n",
       "            },\n",
       "            {\n",
       "                \u001b[34;01m\"ColumnName\"\u001b[39;49;00m: \u001b[33m\"Level\"\u001b[39;49;00m,\n",
       "                \u001b[34;01m\"ColumnType\"\u001b[39;49;00m: \u001b[33m\"int\"\u001b[39;49;00m\n",
       "            },\n",
       "            {\n",
       "                \u001b[34;01m\"ColumnName\"\u001b[39;49;00m: \u001b[33m\"LevelName\"\u001b[39;49;00m,\n",
       "                \u001b[34;01m\"ColumnType\"\u001b[39;49;00m: \u001b[33m\"string\"\u001b[39;49;00m\n",
       "            },\n",
       "            {\n",
       "                \u001b[34;01m\"ColumnName\"\u001b[39;49;00m: \u001b[33m\"StatusCode\"\u001b[39;49;00m,\n",
       "                \u001b[34;01m\"ColumnType\"\u001b[39;49;00m: \u001b[33m\"int\"\u001b[39;49;00m\n",
       "            },\n",
       "            {\n",
       "                \u001b[34;01m\"ColumnName\"\u001b[39;49;00m: \u001b[33m\"StatusCodeName\"\u001b[39;49;00m,\n",
       "                \u001b[34;01m\"ColumnType\"\u001b[39;49;00m: \u001b[33m\"string\"\u001b[39;49;00m\n",
       "            },\n",
       "            {\n",
       "                \u001b[34;01m\"ColumnName\"\u001b[39;49;00m: \u001b[33m\"EventType\"\u001b[39;49;00m,\n",
       "                \u001b[34;01m\"ColumnType\"\u001b[39;49;00m: \u001b[33m\"int\"\u001b[39;49;00m\n",
       "            },\n",
       "            {\n",
       "                \u001b[34;01m\"ColumnName\"\u001b[39;49;00m: \u001b[33m\"EventTypeName\"\u001b[39;49;00m,\n",
       "                \u001b[34;01m\"ColumnType\"\u001b[39;49;00m: \u001b[33m\"string\"\u001b[39;49;00m\n",
       "            },\n",
       "            {\n",
       "                \u001b[34;01m\"ColumnName\"\u001b[39;49;00m: \u001b[33m\"Payload\"\u001b[39;49;00m,\n",
       "                \u001b[34;01m\"ColumnType\"\u001b[39;49;00m: \u001b[33m\"string\"\u001b[39;49;00m\n",
       "            }\n",
       "        ],\n",
       "        \u001b[34;01m\"FrameType\"\u001b[39;49;00m: \u001b[33m\"DataTable\"\u001b[39;49;00m,\n",
       "        \u001b[34;01m\"Rows\"\u001b[39;49;00m: [\n",
       "            [\n",
       "                \u001b[33m\"2018-10-21T17:03:17.873036Z\"\u001b[39;49;00m,\n",
       "                \u001b[33m\"KPC.execute;7025b1c4-ed27-475b-accd-cc8a6d083375\"\u001b[39;49;00m,\n",
       "                \u001b[33m\"c74639fb-b89b-40c3-b72a-02ce136c5742\"\u001b[39;49;00m,\n",
       "                \u001b[33m\"83751a93-a3e1-4840-9a0b-a1eccd8b3f3d\"\u001b[39;49;00m,\n",
       "                \u001b[33m\"dd3ccfbc-2aae-4b86-bf14-3f2b86effd79\"\u001b[39;49;00m,\n",
       "                \u001b[34m4\u001b[39;49;00m,\n",
       "                \u001b[33m\"Info\"\u001b[39;49;00m,\n",
       "                \u001b[34m0\u001b[39;49;00m,\n",
       "                \u001b[33m\"S_OK (0)\"\u001b[39;49;00m,\n",
       "                \u001b[34m4\u001b[39;49;00m,\n",
       "                \u001b[33m\"QueryInfo\"\u001b[39;49;00m,\n",
       "                \u001b[33m\"{\\\"Count\\\":1,\\\"Text\\\":\\\"Query completed successfully\\\"}\"\u001b[39;49;00m\n",
       "            ],\n",
       "            [\n",
       "                \u001b[33m\"2018-10-21T17:03:17.8598143Z\"\u001b[39;49;00m,\n",
       "                \u001b[33m\"KPC.execute;7025b1c4-ed27-475b-accd-cc8a6d083375\"\u001b[39;49;00m,\n",
       "                \u001b[33m\"c74639fb-b89b-40c3-b72a-02ce136c5742\"\u001b[39;49;00m,\n",
       "                \u001b[33m\"83751a93-a3e1-4840-9a0b-a1eccd8b3f3d\"\u001b[39;49;00m,\n",
       "                \u001b[33m\"dd3ccfbc-2aae-4b86-bf14-3f2b86effd79\"\u001b[39;49;00m,\n",
       "                \u001b[34m6\u001b[39;49;00m,\n",
       "                \u001b[33m\"Stats\"\u001b[39;49;00m,\n",
       "                \u001b[34m0\u001b[39;49;00m,\n",
       "                \u001b[33m\"S_OK (0)\"\u001b[39;49;00m,\n",
       "                \u001b[34m0\u001b[39;49;00m,\n",
       "                \u001b[33m\"QueryResourceConsumption\"\u001b[39;49;00m,\n",
       "                \u001b[33m\"{\\\"ExecutionTime\\\":0.0,\\\"resource_usage\\\":{\\\"cache\\\":{\\\"memory\\\":{\\\"hits\\\":71,\\\"misses\\\":0,\\\"total\\\":71},\\\"disk\\\":{\\\"hits\\\":0,\\\"misses\\\":0,\\\"total\\\":0}},\\\"cpu\\\":{\\\"user\\\":\\\"00:00:00\\\",\\\"kernel\\\":\\\"00:00:00\\\",\\\"total cpu\\\":\\\"00:00:00\\\"},\\\"memory\\\":{\\\"peak_per_node\\\":0}},\\\"input_dataset_statistics\\\":{\\\"extents\\\":{\\\"total\\\":1,\\\"scanned\\\":1},\\\"rows\\\":{\\\"total\\\":59066,\\\"scanned\\\":59066},\\\"rowstores\\\":{\\\"scanned_rows\\\":0}},\\\"dataset_statistics\\\":[{\\\"table_row_count\\\":10,\\\"table_size\\\":293}]}\"\u001b[39;49;00m\n",
       "            ]\n",
       "        ],\n",
       "        \u001b[34;01m\"TableId\"\u001b[39;49;00m: \u001b[34m2\u001b[39;49;00m,\n",
       "        \u001b[34;01m\"TableKind\"\u001b[39;49;00m: \u001b[33m\"QueryCompletionInformation\"\u001b[39;49;00m,\n",
       "        \u001b[34;01m\"TableName\"\u001b[39;49;00m: \u001b[33m\"QueryCompletionInformation\"\u001b[39;49;00m\n",
       "    },\n",
       "    {\n",
       "        \u001b[34;01m\"Cancelled\"\u001b[39;49;00m: \u001b[34mfalse\u001b[39;49;00m,\n",
       "        \u001b[34;01m\"FrameType\"\u001b[39;49;00m: \u001b[33m\"DataSetCompletion\"\u001b[39;49;00m,\n",
       "        \u001b[34;01m\"HasErrors\"\u001b[39;49;00m: \u001b[34mfalse\u001b[39;49;00m\n",
       "    }\n",
       "]"
      ]
     },
     "execution_count": 55,
     "metadata": {},
     "output_type": "execute_result"
    }
   ],
   "source": [
    "_kql_raw_result_.raw_json"
   ]
  },
  {
   "cell_type": "code",
   "execution_count": 56,
   "metadata": {},
   "outputs": [
    {
     "data": {
      "text/plain": [
       "'v2.0'"
      ]
     },
     "execution_count": 56,
     "metadata": {},
     "output_type": "execute_result"
    }
   ],
   "source": [
    "_kql_raw_result_.raw_json[0]['Version']"
   ]
  },
  {
   "cell_type": "code",
   "execution_count": 57,
   "metadata": {},
   "outputs": [
    {
     "data": {
      "text/plain": [
       "[\n",
       "    {\n",
       "        \u001b[34;01m\"ColumnName\"\u001b[39;49;00m: \u001b[33m\"TableId\"\u001b[39;49;00m,\n",
       "        \u001b[34;01m\"ColumnType\"\u001b[39;49;00m: \u001b[33m\"int\"\u001b[39;49;00m\n",
       "    },\n",
       "    {\n",
       "        \u001b[34;01m\"ColumnName\"\u001b[39;49;00m: \u001b[33m\"Key\"\u001b[39;49;00m,\n",
       "        \u001b[34;01m\"ColumnType\"\u001b[39;49;00m: \u001b[33m\"string\"\u001b[39;49;00m\n",
       "    },\n",
       "    {\n",
       "        \u001b[34;01m\"ColumnName\"\u001b[39;49;00m: \u001b[33m\"Value\"\u001b[39;49;00m,\n",
       "        \u001b[34;01m\"ColumnType\"\u001b[39;49;00m: \u001b[33m\"dynamic\"\u001b[39;49;00m\n",
       "    }\n",
       "]"
      ]
     },
     "execution_count": 57,
     "metadata": {},
     "output_type": "execute_result"
    }
   ],
   "source": [
    "_kql_raw_result_.raw_json[1]['Columns']"
   ]
  },
  {
   "cell_type": "code",
   "execution_count": 58,
   "metadata": {},
   "outputs": [
    {
     "data": {
      "text/plain": [
       "'string'"
      ]
     },
     "execution_count": 58,
     "metadata": {},
     "output_type": "execute_result"
    }
   ],
   "source": [
    "_kql_raw_result_.raw_json[1]['Columns'][1]['ColumnType']"
   ]
  },
  {
   "cell_type": "markdown",
   "metadata": {},
   "source": [
    "# Advanced part"
   ]
  },
  {
   "cell_type": "markdown",
   "metadata": {},
   "source": [
    "## Kql query with option -c2lv (-columns_to_local_vars)"
   ]
  },
  {
   "cell_type": "code",
   "execution_count": 59,
   "metadata": {},
   "outputs": [],
   "source": [
    "%%kql -c2lv \n",
    "    StormEvents\n",
    "    | summarize count() by State\n",
    "    | sort by count_ \n",
    "    | limit 10 \n",
    "    | render columnchart title='my column chart' "
   ]
  },
  {
   "cell_type": "markdown",
   "metadata": {},
   "source": [
    "  - ### <span style=\"color:#82CAFA\">*Note: option are specified before the query*</span>\n",
    "  - ### <span style=\"color:#82CAFA\">*Note: c2lv is abbreviation of columns_to_local_vars options*</span>\n",
    "  - ### <span style=\"color:#82CAFA\">*Note: columns_to_local_vars option returns data result in local variables from column names*</span>"
   ]
  },
  {
   "cell_type": "markdown",
   "metadata": {},
   "source": [
    "### result data is assigned to local variables with columns names"
   ]
  },
  {
   "cell_type": "code",
   "execution_count": 60,
   "metadata": {},
   "outputs": [
    {
     "data": {
      "text/plain": [
       "('TEXAS',\n",
       " 'KANSAS',\n",
       " 'IOWA',\n",
       " 'ILLINOIS',\n",
       " 'MISSOURI',\n",
       " 'GEORGIA',\n",
       " 'MINNESOTA',\n",
       " 'WISCONSIN',\n",
       " 'NEBRASKA',\n",
       " 'NEW YORK')"
      ]
     },
     "execution_count": 60,
     "metadata": {},
     "output_type": "execute_result"
    }
   ],
   "source": [
    "State"
   ]
  },
  {
   "cell_type": "code",
   "execution_count": 61,
   "metadata": {},
   "outputs": [
    {
     "data": {
      "text/plain": [
       "(4701, 3166, 2337, 2022, 2016, 1983, 1881, 1850, 1766, 1750)"
      ]
     },
     "execution_count": 61,
     "metadata": {},
     "output_type": "execute_result"
    }
   ],
   "source": [
    "count_"
   ]
  },
  {
   "cell_type": "markdown",
   "metadata": {},
   "source": [
    "## Kql query with option -ph (-popup_help)"
   ]
  },
  {
   "cell_type": "code",
   "execution_count": 62,
   "metadata": {},
   "outputs": [
    {
     "data": {
      "text/html": [
       "<!DOCTYPE html>\n",
       "            <html><body>\n",
       "\n",
       "            <button onclick=\"this.style.visibility='visible';kql_MagicLaunchWindowFunction('http://aka.ms/kdocs','fullscreen=no,directories=no,location=no,menubar=no,resizable=yes,scrollbars=yes,status=no,titlebar=no,toolbar=no,','KustoQueryLanguage','')\">popup kql help </button>\n",
       "\n",
       "            <script>\n",
       "\n",
       "            function kql_MagicLaunchWindowFunction(file_path, window_params, window_name, notebooks_host) {\n",
       "                var url;\n",
       "                if (file_path.startsWith('http')) {\n",
       "                    url = file_path;\n",
       "                } else {\n",
       "                    var base_url = '';\n",
       "\n",
       "                    // check if azure notebook\n",
       "                    var azure_host = (notebooks_host == null || notebooks_host.length == 0) ? 'https://notebooks.azure.com' : notebooks_host;\n",
       "                    var start = azure_host.search('//');\n",
       "                    var azure_host_suffix = '.' + azure_host.substring(start+2);\n",
       "\n",
       "                    var loc = String(window.location);\n",
       "                    var end = loc.search(azure_host_suffix);\n",
       "                    start = loc.search('//');\n",
       "                    if (start > 0 && end > 0) {\n",
       "                        var parts = loc.substring(start+2, end).split('-');\n",
       "                        if (parts.length == 2) {\n",
       "                            var library = parts[0];\n",
       "                            var user = parts[1];\n",
       "                            base_url = azure_host + '/api/user/' +user+ '/library/' +library+ '/html/';\n",
       "                        }\n",
       "                    }\n",
       "\n",
       "                    // check if local jupyter lab\n",
       "                    if (base_url.length == 0) {\n",
       "                        var configDataScipt  = document.getElementById('jupyter-config-data');\n",
       "                        if (configDataScipt != null) {\n",
       "                            var jupyterConfigData = JSON.parse(configDataScipt.textContent);\n",
       "                            if (jupyterConfigData['appName'] == 'JupyterLab' && jupyterConfigData['serverRoot'] != null &&  jupyterConfigData['treeUrl'] != null) {\n",
       "                                var basePath = 'c:/My Projects/jupyter-Kqlmagic-microsoft-vsc/notebooks' + '/';\n",
       "                                if (basePath.startsWith(jupyterConfigData['serverRoot'])) {\n",
       "                                    base_url = '/files/' + basePath.substring(jupyterConfigData['serverRoot'].length+1);\n",
       "                                }\n",
       "                            } \n",
       "                        }\n",
       "                    }\n",
       "\n",
       "                    // assume local jupyter notebook\n",
       "                    if (base_url.length == 0) {\n",
       "\n",
       "                        var parts = loc.split('/');\n",
       "                        parts.pop();\n",
       "                        base_url = parts.join('/') + '/';\n",
       "                    }\n",
       "                    url = base_url + file_path;\n",
       "                }\n",
       "\n",
       "                window.focus();\n",
       "                var w = screen.width / 2;\n",
       "                var h = screen.height / 2;\n",
       "                params = 'width='+w+',height='+h;\n",
       "                kql_Magic_KustoQueryLanguage = window.open(url, window_name, window_params + params);\n",
       "            }\n",
       "            </script>\n",
       "\n",
       "            </body></html>"
      ],
      "text/plain": [
       "<IPython.core.display.HTML object>"
      ]
     },
     "metadata": {},
     "output_type": "display_data"
    }
   ],
   "source": [
    "%kql -ph"
   ]
  },
  {
   "cell_type": "markdown",
   "metadata": {},
   "source": [
    "  - ### <span style=\"color:#82CAFA\">*Note - current database@cluster is always shown*</span>"
   ]
  },
  {
   "cell_type": "markdown",
   "metadata": {},
   "source": [
    "## Kql query with negated option -f (-feedback)"
   ]
  },
  {
   "cell_type": "code",
   "execution_count": 63,
   "metadata": {},
   "outputs": [
    {
     "data": {
      "text/html": [
       "<html>\n",
       "        <head>\n",
       "        \n",
       "        </head>\n",
       "        <body>\n",
       "        <div><p style='padding: 10px; color: #3a87ad; background-color: #d9edf7; border-color: #bce9f1'>&nbsp*&nbspSamples@help</p></div>\n",
       "        </body>\n",
       "        </html>"
      ],
      "text/plain": [
       "<IPython.core.display.HTML object>"
      ]
     },
     "metadata": {},
     "output_type": "display_data"
    },
    {
     "data": {
      "application/vnd.jupyter.widget-view+json": {
       "model_id": "fa078d833507499c841c50b0b21ad099",
       "version_major": 2,
       "version_minor": 0
      },
      "text/plain": [
       "FigureWidget({\n",
       "    'data': [{'marker': {'color': 'rgb(31, 118, 179)'},\n",
       "              'name': 'count_',\n",
       "       …"
      ]
     },
     "metadata": {},
     "output_type": "display_data"
    },
    {
     "data": {
      "text/html": [
       "<html>\n",
       "        <head>\n",
       "        \n",
       "        </head>\n",
       "        <body>\n",
       "        \n",
       "        </body>\n",
       "        </html>"
      ],
      "text/plain": [
       "<IPython.core.display.HTML object>"
      ]
     },
     "metadata": {},
     "output_type": "display_data"
    },
    {
     "data": {
      "text/html": [],
      "text/plain": [
       "[{'State': 'TEXAS', 'count_': 4701},\n",
       " {'State': 'KANSAS', 'count_': 3166},\n",
       " {'State': 'IOWA', 'count_': 2337},\n",
       " {'State': 'ILLINOIS', 'count_': 2022},\n",
       " {'State': 'MISSOURI', 'count_': 2016},\n",
       " {'State': 'GEORGIA', 'count_': 1983},\n",
       " {'State': 'MINNESOTA', 'count_': 1881},\n",
       " {'State': 'WISCONSIN', 'count_': 1850},\n",
       " {'State': 'NEBRASKA', 'count_': 1766},\n",
       " {'State': 'NEW YORK', 'count_': 1750}]"
      ]
     },
     "execution_count": 63,
     "metadata": {},
     "output_type": "execute_result"
    }
   ],
   "source": [
    "%%kql -!feedback \n",
    "    StormEvents\n",
    "    | summarize count() by State\n",
    "    | sort by count_ \n",
    "    | limit 10 \n",
    "    | render barchart title='my bar chart'"
   ]
  },
  {
   "cell_type": "markdown",
   "metadata": {},
   "source": [
    "  - ### <span style=\"color:#82CAFA\">*Note: the feedback message 'Done..... records' was not displayed because of the negated feedback option*</span>\n",
    "  - ### <span style=\"color:#82CAFA\">*Note: option is negated by adding \\! before the option*</span>\n",
    "  - ### <span style=\"color:#82CAFA\">*Note: full option name instead of abbreviation can be used too*</span>\n",
    "  - ### <span style=\"color:#82CAFA\">*Note: feedback option is on by default, so to turn it off, it must be negated*</span>"
   ]
  },
  {
   "cell_type": "markdown",
   "metadata": {},
   "source": [
    "## Get default value of optionfeedback (f)"
   ]
  },
  {
   "cell_type": "code",
   "execution_count": 64,
   "metadata": {},
   "outputs": [
    {
     "data": {
      "text/plain": [
       "True"
      ]
     },
     "execution_count": 64,
     "metadata": {},
     "output_type": "execute_result"
    }
   ],
   "source": [
    "%config Kqlmagic.feedback"
   ]
  },
  {
   "cell_type": "markdown",
   "metadata": {},
   "source": [
    "  - ### <span style=\"color:#82CAFA\">*Note: options have defaults, and can be accessed to read or modify using %config magic*</span>"
   ]
  },
  {
   "cell_type": "markdown",
   "metadata": {},
   "source": [
    "## Set default value of option feedback (f) to False"
   ]
  },
  {
   "cell_type": "code",
   "execution_count": 65,
   "metadata": {},
   "outputs": [
    {
     "data": {
      "text/plain": [
       "False"
      ]
     },
     "execution_count": 65,
     "metadata": {},
     "output_type": "execute_result"
    }
   ],
   "source": [
    "%config Kqlmagic.feedback=False\n",
    "%config Kqlmagic.feedback"
   ]
  },
  {
   "cell_type": "code",
   "execution_count": 66,
   "metadata": {},
   "outputs": [
    {
     "data": {
      "text/html": [
       "<html>\n",
       "        <head>\n",
       "        \n",
       "        </head>\n",
       "        <body>\n",
       "        <div><p style='padding: 10px; color: #3a87ad; background-color: #d9edf7; border-color: #bce9f1'>&nbsp*&nbspSamples@help</p></div>\n",
       "        </body>\n",
       "        </html>"
      ],
      "text/plain": [
       "<IPython.core.display.HTML object>"
      ]
     },
     "metadata": {},
     "output_type": "display_data"
    },
    {
     "data": {
      "text/html": [
       "<html>\n",
       "        <head>\n",
       "        \n",
       "        </head>\n",
       "        <body>\n",
       "        <table>\n",
       "    <tr>\n",
       "        <th>State</th>\n",
       "        <th>count_</th>\n",
       "        <th>count2</th>\n",
       "    </tr>\n",
       "    <tr>\n",
       "        <td>TEXAS</td>\n",
       "        <td>4701</td>\n",
       "        <td>22099401</td>\n",
       "    </tr>\n",
       "    <tr>\n",
       "        <td>KANSAS</td>\n",
       "        <td>3166</td>\n",
       "        <td>10023556</td>\n",
       "    </tr>\n",
       "    <tr>\n",
       "        <td>IOWA</td>\n",
       "        <td>2337</td>\n",
       "        <td>5461569</td>\n",
       "    </tr>\n",
       "    <tr>\n",
       "        <td>ILLINOIS</td>\n",
       "        <td>2022</td>\n",
       "        <td>4088484</td>\n",
       "    </tr>\n",
       "    <tr>\n",
       "        <td>MISSOURI</td>\n",
       "        <td>2016</td>\n",
       "        <td>4064256</td>\n",
       "    </tr>\n",
       "</table>\n",
       "        </body>\n",
       "        </html>"
      ],
      "text/plain": [
       "<IPython.core.display.HTML object>"
      ]
     },
     "metadata": {},
     "output_type": "display_data"
    },
    {
     "data": {
      "text/html": [
       "<html>\n",
       "        <head>\n",
       "        \n",
       "        </head>\n",
       "        <body>\n",
       "        \n",
       "        </body>\n",
       "        </html>"
      ],
      "text/plain": [
       "<IPython.core.display.HTML object>"
      ]
     },
     "metadata": {},
     "output_type": "display_data"
    },
    {
     "data": {
      "text/html": [],
      "text/plain": [
       "[{'State': 'TEXAS', 'count_': 4701, 'count2': 22099401},\n",
       " {'State': 'KANSAS', 'count_': 3166, 'count2': 10023556},\n",
       " {'State': 'IOWA', 'count_': 2337, 'count2': 5461569},\n",
       " {'State': 'ILLINOIS', 'count_': 2022, 'count2': 4088484},\n",
       " {'State': 'MISSOURI', 'count_': 2016, 'count2': 4064256}]"
      ]
     },
     "execution_count": 66,
     "metadata": {},
     "output_type": "execute_result"
    }
   ],
   "source": [
    "%%kql \n",
    "    StormEvents\n",
    "    | summarize count() by State\n",
    "    | sort by count_ \n",
    "    | extend count2 = count_*count_ \n",
    "    | limit 5"
   ]
  },
  {
   "cell_type": "markdown",
   "metadata": {},
   "source": [
    "  - ### <span style=\"color:#82CAFA\">*Note: feedback message was not displayed, because the default feedback option was set to False*</span>"
   ]
  },
  {
   "cell_type": "code",
   "execution_count": 67,
   "metadata": {},
   "outputs": [
    {
     "data": {
      "text/plain": [
       "True"
      ]
     },
     "execution_count": 67,
     "metadata": {},
     "output_type": "execute_result"
    }
   ],
   "source": [
    "%config Kqlmagic.feedback=True\n",
    "%config Kqlmagic.feedback"
   ]
  },
  {
   "cell_type": "markdown",
   "metadata": {},
   "source": [
    "## Kql query with option -version (print kqlmagic version)"
   ]
  },
  {
   "cell_type": "code",
   "execution_count": 68,
   "metadata": {},
   "outputs": [
    {
     "name": "stdout",
     "output_type": "stream",
     "text": [
      "Kqlmagic version: 0.1.61\n"
     ]
    }
   ],
   "source": [
    "%kql -version"
   ]
  },
  {
   "cell_type": "markdown",
   "metadata": {},
   "source": [
    "## Show all option defaults with help"
   ]
  },
  {
   "cell_type": "code",
   "execution_count": 69,
   "metadata": {},
   "outputs": [
    {
     "name": "stdout",
     "output_type": "stream",
     "text": [
      "Kqlmagic options\n",
      "--------------\n",
      "Kqlmagic.add_kql_ref_to_help=<Bool>\n",
      "    Current: True\n",
      "    On Kqlmagic load auto add kql reference to Help menu.\n",
      "Kqlmagic.add_schema_to_help=<Bool>\n",
      "    Current: True\n",
      "    On connection to database@cluster add  schema to Help menu.\n",
      "Kqlmagic.auto_dataframe=<Bool>\n",
      "    Current: False\n",
      "    Return Pandas dataframe instead of regular result sets. Abbreviation: ad\n",
      "Kqlmagic.auto_limit=<Int>\n",
      "    Current: 0\n",
      "    Automatically limit the size of the returned result sets. Abbreviation: al\n",
      "Kqlmagic.auto_popup_schema=<Bool>\n",
      "    Current: True\n",
      "    Popup schema when connecting to a new database. Abbreviation: aps\n",
      "Kqlmagic.cache=<Bool>\n",
      "    Current: False\n",
      "    Cache query results.\n",
      "Kqlmagic.cache_folder_name=<Unicode>\n",
      "    Current: 'Kqlmagic_cache_files'\n",
      "    Set the folder name for cache files\n",
      "Kqlmagic.columns_to_local_vars=<Bool>\n",
      "    Current: False\n",
      "    Return data into local variables from column names. Abbreviation: c2lv\n",
      "Kqlmagic.display_limit=<Int>\n",
      "    Current: None\n",
      "    Automatically limit the number of rows displayed (full result set is still\n",
      "    stored). Abbreviation: dl\n",
      "Kqlmagic.dsn_filename=<Unicode>\n",
      "    Current: 'odbc.ini'\n",
      "    Path to DSN file. When the first argument is of the form [section], a kql\n",
      "    connection string is formed from the matching section in the DSN file.\n",
      "    Abbreviation: dl\n",
      "Kqlmagic.enable_suppress_result=<Bool>\n",
      "    Current: True\n",
      "    Suppress result when magic ends with a semicolon ;. Abbreviation: esr\n",
      "Kqlmagic.export_folder_name=<Unicode>\n",
      "    Current: 'Kqlmagic_exported_files'\n",
      "    Set the folder name  for exported files\n",
      "Kqlmagic.feedback=<Bool>\n",
      "    Current: True\n",
      "    Show number of records returned, and assigned variables. Abbreviation: f\n",
      "Kqlmagic.json_display=<Enum>\n",
      "    Current: 'formatted'\n",
      "    Choices: ['raw', 'native', 'formatted']\n",
      "    Set json/dict display format. Abbreviation: jd\n",
      "Kqlmagic.last_raw_result_var=<Unicode>\n",
      "    Current: '_kql_raw_result_'\n",
      "    Set the name of the variable that will contain last raw result.\n",
      "    Abbreviation: var\n",
      "Kqlmagic.notebook_app=<Enum>\n",
      "    Current: 'jupyternotebook'\n",
      "    Choices: ['jupyterlab', 'jupyternotebook']\n",
      "    Set notebook application used.\n",
      "Kqlmagic.palette_colors=<Int>\n",
      "    Current: 10\n",
      "    Set pallete number of colors to be used for charts. Abbreviation: pc\n",
      "Kqlmagic.palette_desaturation=<Float>\n",
      "    Current: 1.0\n",
      "    Set pallete desaturation to be used for charts. Abbreviation: pd\n",
      "Kqlmagic.palette_name=<Unicode>\n",
      "    Current: 'tab10'\n",
      "    Set pallete by name to be used for charts. Abbreviation: pn\n",
      "Kqlmagic.params_dict=<Unicode>\n",
      "    Current: None\n",
      "    paremeters dictionary name, if None, python shell user namespace will be\n",
      "    used.\n",
      "Kqlmagic.plot_package=<Enum>\n",
      "    Current: 'plotly'\n",
      "    Choices: ['matplotlib', 'plotly']\n",
      "    Set the plot package. Abbreviation: pp\n",
      "Kqlmagic.plotly_fs_includejs=<Bool>\n",
      "    Current: False\n",
      "    Include plotly javascript code in popup window. If set to False (default),\n",
      "    it download the script from https://cdn.plot.ly/plotly-latest.min.js.\n",
      "    Abbreviation: pfi\n",
      "Kqlmagic.prettytable_style=<Enum>\n",
      "    Current: 'DEFAULT'\n",
      "    Choices: ['DEFAULT', 'MSWORD_FRIENDLY', 'PLAIN_COLUMNS', 'RANDOM']\n",
      "    Set the table printing style to any of prettytable's defined styles.\n",
      "    Abbreviation: ptst\n",
      "Kqlmagic.short_errors=<Bool>\n",
      "    Current: True\n",
      "    Don't display the full traceback on KQL Programming Error. Abbreviation: se\n",
      "Kqlmagic.show_conn_info=<Enum>\n",
      "    Current: 'current'\n",
      "    Choices: ['list', 'current', 'None']\n",
      "    Show connection info, either current, the whole list, or None. Abbreviation:\n",
      "    sci\n",
      "Kqlmagic.show_query_time=<Bool>\n",
      "    Current: True\n",
      "    Print query execution elapsed time. Abbreviation: sqt\n",
      "Kqlmagic.table_package=<Enum>\n",
      "    Current: 'prettytable'\n",
      "    Choices: ['prettytable', 'pandas', 'plotly', 'qgrid']\n",
      "    Set the table display package. Abbreviation: tp\n",
      "Kqlmagic.temp_folder_name=<Unicode>\n",
      "    Current: 'Kqlmagic_temp_files'\n",
      "    Set the folder name for temporary files\n",
      "Kqlmagic.use_cache=<Bool>\n",
      "    Current: False\n",
      "    use cached query results, instead of executing the query.\n",
      "Kqlmagic.validate_connection_string=<Bool>\n",
      "    Current: True\n",
      "    Validate connectionString with an implicit query, when query statement is\n",
      "    missing. Abbreviation: vc\n"
     ]
    }
   ],
   "source": [
    "%config Kqlmagic"
   ]
  },
  {
   "cell_type": "markdown",
   "metadata": {},
   "source": [
    "## Show query results in a popup window"
   ]
  },
  {
   "cell_type": "code",
   "execution_count": 70,
   "metadata": {},
   "outputs": [
    {
     "data": {
      "text/html": [
       "<html>\n",
       "        <head>\n",
       "        \n",
       "        </head>\n",
       "        <body>\n",
       "        <div><p style='padding: 10px; color: #3a87ad; background-color: #d9edf7; border-color: #bce9f1'>&nbsp*&nbspSamples@help</p></div>\n",
       "        </body>\n",
       "        </html>"
      ],
      "text/plain": [
       "<IPython.core.display.HTML object>"
      ]
     },
     "metadata": {},
     "output_type": "display_data"
    },
    {
     "data": {
      "text/html": [
       "<!DOCTYPE html>\n",
       "            <html><body>\n",
       "\n",
       "            <button onclick=\"this.style.visibility='hidden';kql_MagicLaunchWindowFunction('Kqlmagic_temp_files/b2b34e047ce14f6ab6344ef5002d8b00.html','fullscreen=no,directories=no,location=no,menubar=no,resizable=yes,scrollbars=yes,status=no,titlebar=no,toolbar=no,','b2b34e047ce14f6ab6344ef5002d8b00','')\">popup scatterchart - Michael's chart </button>\n",
       "\n",
       "            <script>\n",
       "\n",
       "            function kql_MagicLaunchWindowFunction(file_path, window_params, window_name, notebooks_host) {\n",
       "                var url;\n",
       "                if (file_path.startsWith('http')) {\n",
       "                    url = file_path;\n",
       "                } else {\n",
       "                    var base_url = '';\n",
       "\n",
       "                    // check if azure notebook\n",
       "                    var azure_host = (notebooks_host == null || notebooks_host.length == 0) ? 'https://notebooks.azure.com' : notebooks_host;\n",
       "                    var start = azure_host.search('//');\n",
       "                    var azure_host_suffix = '.' + azure_host.substring(start+2);\n",
       "\n",
       "                    var loc = String(window.location);\n",
       "                    var end = loc.search(azure_host_suffix);\n",
       "                    start = loc.search('//');\n",
       "                    if (start > 0 && end > 0) {\n",
       "                        var parts = loc.substring(start+2, end).split('-');\n",
       "                        if (parts.length == 2) {\n",
       "                            var library = parts[0];\n",
       "                            var user = parts[1];\n",
       "                            base_url = azure_host + '/api/user/' +user+ '/library/' +library+ '/html/';\n",
       "                        }\n",
       "                    }\n",
       "\n",
       "                    // check if local jupyter lab\n",
       "                    if (base_url.length == 0) {\n",
       "                        var configDataScipt  = document.getElementById('jupyter-config-data');\n",
       "                        if (configDataScipt != null) {\n",
       "                            var jupyterConfigData = JSON.parse(configDataScipt.textContent);\n",
       "                            if (jupyterConfigData['appName'] == 'JupyterLab' && jupyterConfigData['serverRoot'] != null &&  jupyterConfigData['treeUrl'] != null) {\n",
       "                                var basePath = 'c:/My Projects/jupyter-Kqlmagic-microsoft-vsc/notebooks' + '/';\n",
       "                                if (basePath.startsWith(jupyterConfigData['serverRoot'])) {\n",
       "                                    base_url = '/files/' + basePath.substring(jupyterConfigData['serverRoot'].length+1);\n",
       "                                }\n",
       "                            } \n",
       "                        }\n",
       "                    }\n",
       "\n",
       "                    // assume local jupyter notebook\n",
       "                    if (base_url.length == 0) {\n",
       "\n",
       "                        var parts = loc.split('/');\n",
       "                        parts.pop();\n",
       "                        base_url = parts.join('/') + '/';\n",
       "                    }\n",
       "                    url = base_url + file_path;\n",
       "                }\n",
       "\n",
       "                window.focus();\n",
       "                var w = screen.width / 2;\n",
       "                var h = screen.height / 2;\n",
       "                params = 'width='+w+',height='+h;\n",
       "                kql_Magic_b2b34e047ce14f6ab6344ef5002d8b00 = window.open(url, window_name, window_params + params);\n",
       "            }\n",
       "            </script>\n",
       "\n",
       "            </body></html>"
      ],
      "text/plain": [
       "<IPython.core.display.HTML object>"
      ]
     },
     "metadata": {},
     "output_type": "display_data"
    },
    {
     "data": {
      "text/html": [
       "<html>\n",
       "        <head>\n",
       "        \n",
       "        </head>\n",
       "        <body>\n",
       "        <div><p style='padding: 10px; color: #3a87ad; background-color: #d9edf7; border-color: #bce9f1'>Done&nbsp(00:01.139):&nbsp1000&nbsprecords</p></div>\n",
       "        </body>\n",
       "        </html>"
      ],
      "text/plain": [
       "<IPython.core.display.HTML object>"
      ]
     },
     "metadata": {},
     "output_type": "display_data"
    },
    {
     "data": {
      "text/html": [],
      "text/plain": [
       "[{'e1': 6.428730700264657, 'e2': 8.764453108329608, 'e3': 8.459750161598643, 'e4': 7.120791223715583, 'e5': 8.266568598026662},\n",
       " {'e1': 4.873483082264265, 'e2': 6.758282141006126, 'e3': 6.564561492023567, 'e4': 8.245410342750755, 'e5': 8.039472965736937},\n",
       " {'e1': 6.454267283549092, 'e2': 6.812705344001259, 'e3': 5.698127392776944, 'e4': 7.763737147858621, 'e5': 6.879166878801625},\n",
       " {'e1': 9.353122441319572, 'e2': 6.6416197640302235, 'e3': 5.622366593574075, 'e4': 7.440063765040665, 'e5': 5.924698150365785},\n",
       " {'e1': 7.571687473732577, 'e2': 5.737676652566812, 'e3': 8.106114422777283, 'e4': 8.342323576263647, 'e5': 4.61339962802191},\n",
       " {'e1': 6.2735825582522535, 'e2': 8.223639612524686, 'e3': 5.409491059018595, 'e4': 7.356839254199413, 'e5': 4.765404538855806},\n",
       " {'e1': 3.7831682670980196, 'e2': 7.833273616140919, 'e3': 7.102408494265044, 'e4': 7.033725184959355, 'e5': 8.014988883855759},\n",
       " {'e1': 6.7321983566673484, 'e2': 6.15857504693205, 'e3': 6.997412458564701, 'e4': 7.484271448235514, 'e5': 7.39535225829862},\n",
       " {'e1': 8.296327790108306, 'e2': 7.035927319881048, 'e3': 7.280024089115734, 'e4': 7.093067477864217, 'e5': 5.683949263293888},\n",
       " {'e1': 5.163362970905074, 'e2': 7.956785969411674, 'e3': 5.771747851989536, 'e4': 7.7079887362710275, 'e5': 7.17324643631759},\n",
       " {'e1': 7.553245271174933, 'e2': 7.213985366279989, 'e3': 7.595041425102212, 'e4': 6.219240041312761, 'e5': 6.134685832763196},\n",
       " {'e1': 8.021523792135772, 'e2': 4.137155840959911, 'e3': 7.971718435770586, 'e4': 6.565284444797601, 'e5': 5.5915933786598915},\n",
       " {'e1': 6.2243839584308125, 'e2': 7.618832352752869, 'e3': 8.913316312349904, 'e4': 5.721895317440423, 'e5': 5.77925918794861},\n",
       " {'e1': 6.725216762417263, 'e2': 8.395974903329195, 'e3': 8.69936755253449, 'e4': 6.629365053788341, 'e5': 8.01334927827081},\n",
       " {'e1': 6.633450437874434, 'e2': 9.01609038670084, 'e3': 6.660915861855921, 'e4': 7.721453553836344, 'e5': 7.783220078226304},\n",
       " {'e1': 7.82743715688052, 'e2': 5.813186028274686, 'e3': 7.316452940514014, 'e4': 8.028703808621549, 'e5': 4.806479475625024},\n",
       " {'e1': 6.740680526498723, 'e2': 5.2392697050690895, 'e3': 8.530105508643274, 'e4': 5.715977065880793, 'e5': 8.391808735511182},\n",
       " {'e1': 7.483321133798049, 'e2': 8.411424441097994, 'e3': 6.548990648299041, 'e4': 6.66306819147526, 'e5': 8.014566860709694},\n",
       " {'e1': 7.404795682567696, 'e2': 7.357311687806732, 'e3': 5.945127981992845, 'e4': 7.473648112876506, 'e5': 7.2927631616281285},\n",
       " {'e1': 8.018700028557017, 'e2': 8.68609906234569, 'e3': 6.776402856358119, 'e4': 8.928563502841655, 'e5': 5.479221412901942},\n",
       " {'e1': 6.8558279297695925, 'e2': 8.188137437169972, 'e3': 8.538667447928926, 'e4': 5.3268936450352795, 'e5': 5.293126352377257},\n",
       " {'e1': 7.995215585038901, 'e2': 8.166474739086885, 'e3': 6.322127981522203, 'e4': 5.586303938697694, 'e5': 5.464391918699031},\n",
       " {'e1': 6.826724824185982, 'e2': 9.39682681956823, 'e3': 7.504226726151766, 'e4': 8.537362752843904, 'e5': 6.103421155892204},\n",
       " {'e1': 5.499205589719727, 'e2': 9.136062651792763, 'e3': 6.826954119076832, 'e4': 5.378233077891704, 'e5': 6.197002704682855},\n",
       " {'e1': 6.65944081954184, 'e2': 6.287796539336786, 'e3': 6.983001164891126, 'e4': 7.227394315198246, 'e5': 7.6817800115041885},\n",
       " {'e1': 8.28838421159634, 'e2': 6.341759842569217, 'e3': 6.2235703756899605, 'e4': 7.48673172865808, 'e5': 7.836036887997564},\n",
       " {'e1': 6.8784844497816415, 'e2': 9.192817197036726, 'e3': 7.189919515295014, 'e4': 5.948813090363154, 'e5': 6.725603726541776},\n",
       " {'e1': 9.254889704071338, 'e2': 7.352378034879985, 'e3': 7.166889565805001, 'e4': 7.152892856966489, 'e5': 7.735314982794074},\n",
       " {'e1': 6.431812367281804, 'e2': 6.6252277471627545, 'e3': 6.368636153559828, 'e4': 8.810568708678682, 'e5': 7.299514350687783},\n",
       " {'e1': 6.5579763608930834, 'e2': 7.196421828240192, 'e3': 6.241051980457013, 'e4': 7.963026121472773, 'e5': 4.470381513848635},\n",
       " {'e1': 9.380086960006418, 'e2': 8.948467488860677, 'e3': 5.633360528070788, 'e4': 8.617013791689798, 'e5': 6.983286642122006},\n",
       " {'e1': 3.883318906602347, 'e2': 8.2872280898149, 'e3': 8.536686658992563, 'e4': 6.222231666791914, 'e5': 5.666759088633029},\n",
       " {'e1': 7.003594808099549, 'e2': 8.1087827319706, 'e3': 5.813156813503395, 'e4': 8.059907554998409, 'e5': 6.396754003537767},\n",
       " {'e1': 9.885298918837446, 'e2': 6.907068502893086, 'e3': 7.294381035979712, 'e4': 7.490323561539157, 'e5': 8.503154344028548},\n",
       " {'e1': 5.566107841134467, 'e2': 6.033988461506246, 'e3': 8.385486421985355, 'e4': 7.251027290873, 'e5': 8.08272031947913},\n",
       " {'e1': 7.675614586792043, 'e2': 8.741119072370813, 'e3': 8.0499602587662, 'e4': 5.919203632396792, 'e5': 7.3024317249133865},\n",
       " {'e1': 7.343078852603628, 'e2': 7.069665868718834, 'e3': 6.256650933615531, 'e4': 7.293831121918225, 'e5': 6.6183500465982235},\n",
       " {'e1': 6.725034692584656, 'e2': 7.748060883690712, 'e3': 6.46189257546041, 'e4': 8.041461946190164, 'e5': 6.356235796978078},\n",
       " {'e1': 4.945903113926451, 'e2': 7.675322527373183, 'e3': 6.9339709789895885, 'e4': 8.786364043340292, 'e5': 6.662106425766664},\n",
       " {'e1': 7.021082565783411, 'e2': 9.662313934126955, 'e3': 8.010913581960297, 'e4': 7.154341110333812, 'e5': 6.572245226880027},\n",
       " {'e1': 6.994423199991235, 'e2': 8.873711612147158, 'e3': 7.083617714115689, 'e4': 5.744858610194263, 'e5': 6.969255688650114},\n",
       " {'e1': 8.364930043350249, 'e2': 7.82702802168638, 'e3': 7.540584109675438, 'e4': 6.252774081813632, 'e5': 5.243228267973839},\n",
       " {'e1': 6.514676434017779, 'e2': 8.036640488787224, 'e3': 5.698630011299423, 'e4': 9.395346555792978, 'e5': 7.5604475111679585},\n",
       " {'e1': 7.332530222490767, 'e2': 6.877753649363373, 'e3': 7.557239446056133, 'e4': 8.292258087722383, 'e5': 5.7591314247986},\n",
       " {'e1': 7.686494402695976, 'e2': 8.489442220116086, 'e3': 5.223479306122366, 'e4': 7.205047044935991, 'e5': 6.474668373305925},\n",
       " {'e1': 6.271485452381785, 'e2': 9.20359277816508, 'e3': 7.805248458772703, 'e4': 5.9885068604481475, 'e5': 7.533198373753574},\n",
       " {'e1': 7.365002263314625, 'e2': 8.012270680924896, 'e3': 7.863388593817138, 'e4': 5.815909660936409, 'e5': 6.287371799090381},\n",
       " {'e1': 6.911818539300951, 'e2': 6.322059444820981, 'e3': 7.43519386591177, 'e4': 5.9268463691864595, 'e5': 5.8255674226239185},\n",
       " {'e1': 8.074011593027599, 'e2': 8.480166397960687, 'e3': 8.156951841584348, 'e4': 8.260133089464757, 'e5': 4.4782894468642995},\n",
       " {'e1': 7.123210823418457, 'e2': 6.249531986046596, 'e3': 7.0782710587812465, 'e4': 6.4167305197009, 'e5': 6.240145632923666},\n",
       " {'e1': 6.322774606523575, 'e2': 6.696239373606604, 'e3': 7.683787524240584, 'e4': 6.433591781999065, 'e5': 7.421030148361667},\n",
       " {'e1': 7.753399844300938, 'e2': 6.130128336518779, 'e3': 4.99859733756593, 'e4': 6.809569305496153, 'e5': 8.975637181791427},\n",
       " {'e1': 7.057095150343864, 'e2': 5.366951336524502, 'e3': 7.605496557603484, 'e4': 8.263784203414149, 'e5': 5.700639851075003},\n",
       " {'e1': 5.972571594342534, 'e2': 8.419408789720588, 'e3': 6.563180501493619, 'e4': 5.012097062264893, 'e5': 7.772529920103334},\n",
       " {'e1': 8.333254012985165, 'e2': 5.662007596845178, 'e3': 6.491175502631612, 'e4': 7.245015953366588, 'e5': 8.847551354649845},\n",
       " {'e1': 7.292708169324217, 'e2': 6.931972684248439, 'e3': 8.597843602708716, 'e4': 6.112024303573704, 'e5': 8.482241666027218},\n",
       " {'e1': 5.28981746068462, 'e2': 6.98613908068724, 'e3': 6.72776568660846, 'e4': 6.1488127849229, 'e5': 7.992773620538954},\n",
       " {'e1': 5.47313124991489, 'e2': 8.444644663671129, 'e3': 7.811027529221171, 'e4': 6.782976290304196, 'e5': 5.748983486657699},\n",
       " {'e1': 8.074941167239439, 'e2': 8.005394123949776, 'e3': 6.277970519968299, 'e4': 5.621739132486118, 'e5': 5.792069069652136},\n",
       " {'e1': 6.059493040932631, 'e2': 6.277260337516863, 'e3': 7.610907204995993, 'e4': 7.239992972526768, 'e5': 8.634801733482405},\n",
       " {'e1': 6.447561336384402, 'e2': 5.919729842092422, 'e3': 7.946157572760316, 'e4': 7.8233629798315, 'e5': 7.195107343679271},\n",
       " {'e1': 7.1672991251208416, 'e2': 7.694679673873725, 'e3': 5.484627132270729, 'e4': 6.887689746000228, 'e5': 6.053420748404545},\n",
       " {'e1': 8.32855662537044, 'e2': 8.189725363116013, 'e3': 7.533892850172999, 'e4': 7.095557468790131, 'e5': 6.818369339883023},\n",
       " {'e1': 7.769586516147491, 'e2': 6.453212502396178, 'e3': 6.148342162213523, 'e4': 6.914496333014458, 'e5': 6.3163304590772364},\n",
       " {'e1': 8.161068750038755, 'e2': 4.801688027788982, 'e3': 7.101345166638174, 'e4': 6.022735107215961, 'e5': 7.680538995917203},\n",
       " {'e1': 8.054018538657179, 'e2': 8.095759046473429, 'e3': 8.559221707655007, 'e4': 6.69214027512086, 'e5': 6.844261291772157},\n",
       " {'e1': 9.327623293331522, 'e2': 9.220318268351253, 'e3': 7.985726125059182, 'e4': 8.206428063996649, 'e5': 9.108633210600718},\n",
       " {'e1': 7.950617190729586, 'e2': 5.741834369183869, 'e3': 6.164644580795381, 'e4': 6.801370791969397, 'e5': 5.807300206328797},\n",
       " {'e1': 7.3339334541289745, 'e2': 7.628529827708517, 'e3': 7.0507549220255274, 'e4': 7.8161722869983965, 'e5': 8.888620644472567},\n",
       " {'e1': 6.791590790073622, 'e2': 5.650059962353716, 'e3': 5.548783904647489, 'e4': 8.149330036386239, 'e5': 5.355540757200137},\n",
       " {'e1': 6.2735359600346605, 'e2': 7.531773690688722, 'e3': 6.877262306381406, 'e4': 8.521293714930312, 'e5': 6.753157291917351},\n",
       " {'e1': 6.463154300315491, 'e2': 7.124708662747085, 'e3': 7.37432322458073, 'e4': 7.287149876356878, 'e5': 7.498553926398445},\n",
       " {'e1': 9.203818427183615, 'e2': 7.149588504184845, 'e3': 7.354730234165152, 'e4': 6.381837587441208, 'e5': 6.233101755590347},\n",
       " {'e1': 7.306024644678823, 'e2': 5.3583997165558, 'e3': 4.27634685242737, 'e4': 6.551727740436298, 'e5': 7.636380224830654},\n",
       " {'e1': 7.723203166550688, 'e2': 7.20635909482078, 'e3': 5.089251317071194, 'e4': 8.130651257033353, 'e5': 5.819823083025907},\n",
       " {'e1': 5.726187065471233, 'e2': 6.772555687904217, 'e3': 4.651816734800817, 'e4': 6.092152708398361, 'e5': 6.562008468706218},\n",
       " {'e1': 6.617290319671392, 'e2': 6.89485770837548, 'e3': 7.7459184091183815, 'e4': 7.232525610580404, 'e5': 8.295811931963136},\n",
       " {'e1': 6.982597016980797, 'e2': 7.752258182812623, 'e3': 6.382237879968128, 'e4': 7.443897057864295, 'e5': 7.957324768111521},\n",
       " {'e1': 4.3667083015254695, 'e2': 6.342403760214948, 'e3': 6.585355294050679, 'e4': 6.314150533146582, 'e5': 8.189808013087298},\n",
       " {'e1': 6.502918597177479, 'e2': 6.466269455898603, 'e3': 7.438966636036582, 'e4': 4.955075441907198, 'e5': 7.297061093655227},\n",
       " {'e1': 7.819850631733862, 'e2': 4.873280420369714, 'e3': 6.589429167427934, 'e4': 6.679753925699498, 'e5': 5.215045176272477},\n",
       " {'e1': 4.181612045095426, 'e2': 6.143704686858348, 'e3': 6.78841083648644, 'e4': 5.524947484048831, 'e5': 7.141716136970783},\n",
       " {'e1': 8.512070497182757, 'e2': 6.361842149253459, 'e3': 8.838045763059888, 'e4': 6.694496281686523, 'e5': 7.552653805443439},\n",
       " {'e1': 5.8484651991899375, 'e2': 5.959336448918998, 'e3': 5.222451467582583, 'e4': 8.12802733696041, 'e5': 7.5772886614698765},\n",
       " {'e1': 6.429766668605341, 'e2': 7.010680159633687, 'e3': 6.879316246393574, 'e4': 7.558425445950745, 'e5': 7.3623091887737955},\n",
       " {'e1': 6.524376550283008, 'e2': 6.004907094058809, 'e3': 7.369906782817698, 'e4': 6.805353794076248, 'e5': 8.566365972490962},\n",
       " {'e1': 6.966862164993884, 'e2': 7.392131029362641, 'e3': 5.89517864874041, 'e4': 9.129217931155777, 'e5': 6.793327534613839},\n",
       " {'e1': 7.147689056006722, 'e2': 7.399997817777768, 'e3': 6.842991088985122, 'e4': 5.7057334381481315, 'e5': 6.18577908008962},\n",
       " {'e1': 6.5306713449458424, 'e2': 8.753749462872383, 'e3': 8.558614880148829, 'e4': 6.82131594203933, 'e5': 5.675663956512451},\n",
       " {'e1': 8.20903322866279, 'e2': 6.5847461283692885, 'e3': 7.845040220461157, 'e4': 6.9524197264467915, 'e5': 5.505646627264637},\n",
       " {'e1': 8.387500526788266, 'e2': 7.728745163484152, 'e3': 6.799355747797652, 'e4': 8.90739919828064, 'e5': 5.754099588149195},\n",
       " {'e1': 8.4723774900749, 'e2': 6.192435043674036, 'e3': 6.941655083658395, 'e4': 7.149424119027113, 'e5': 6.088746971713506},\n",
       " {'e1': 8.142772849546818, 'e2': 10.088948655594711, 'e3': 7.545087974835497, 'e4': 8.360777132633014, 'e5': 6.67096225874793},\n",
       " {'e1': 7.071529970080478, 'e2': 7.698207417297386, 'e3': 7.606849617048681, 'e4': 7.228269008092106, 'e5': 6.502789207523066},\n",
       " {'e1': 7.742390037278721, 'e2': 8.116293959548708, 'e3': 7.91107130729982, 'e4': 6.746926110652126, 'e5': 8.533710018043545},\n",
       " {'e1': 7.12408084488704, 'e2': 6.234994263352532, 'e3': 7.622932240649398, 'e4': 6.468215466783663, 'e5': 8.139843724829012},\n",
       " {'e1': 8.297981479978358, 'e2': 7.175003825835151, 'e3': 5.985327550443677, 'e4': 8.484398485706395, 'e5': 10.198770167020541},\n",
       " {'e1': 8.32676703541524, 'e2': 6.676082536054615, 'e3': 7.696960391269624, 'e4': 6.719860145407791, 'e5': 5.65337753528479},\n",
       " {'e1': 7.616824568112158, 'e2': 7.810901052665651, 'e3': 6.44416024764629, 'e4': 6.727221847863487, 'e5': 7.1355570912073185},\n",
       " {'e1': 5.621483879067508, 'e2': 5.0895829511492785, 'e3': 6.820837102841582, 'e4': 7.883608363604957, 'e5': 7.271650898059825},\n",
       " {'e1': 5.947330503002797, 'e2': 5.450162336469622, 'e3': 7.900814535681081, 'e4': 6.920306315983128, 'e5': 6.041103306539467},\n",
       " {'e1': 6.516313163533357, 'e2': 9.001920184623753, 'e3': 7.623459533813067, 'e4': 5.55964462163951, 'e5': 6.229195605978288},\n",
       " {'e1': 6.209707651373259, 'e2': 6.121860128372504, 'e3': 7.009990770464443, 'e4': 7.692378314231478, 'e5': 6.548252237821336},\n",
       " {'e1': 7.51025170024283, 'e2': 6.394223560802363, 'e3': 6.092883077919899, 'e4': 6.74992934260958, 'e5': 6.194337674537675},\n",
       " {'e1': 7.730481491904862, 'e2': 6.004321773837571, 'e3': 8.768271663082638, 'e4': 7.2274467733500005, 'e5': 8.497254254053},\n",
       " {'e1': 6.792895892620451, 'e2': 6.948223986577634, 'e3': 4.635116285275099, 'e4': 8.280461283901916, 'e5': 7.33945843275231},\n",
       " {'e1': 5.381223783158234, 'e2': 6.1067786939739515, 'e3': 6.3302134200051725, 'e4': 7.058388467645696, 'e5': 5.046840356013638},\n",
       " {'e1': 6.2706609155439414, 'e2': 6.160469034046819, 'e3': 5.743776031213902, 'e4': 8.95813301874937, 'e5': 7.720502209608407},\n",
       " {'e1': 8.08751390358863, 'e2': 7.074948069367987, 'e3': 7.456882639664348, 'e4': 7.559720632709151, 'e5': 7.881527493289735},\n",
       " {'e1': 7.420058940504661, 'e2': 5.396850443641428, 'e3': 5.224642675614731, 'e4': 5.78065776098666, 'e5': 6.552447981583309},\n",
       " {'e1': 7.3511959141427745, 'e2': 5.8871176027290195, 'e3': 7.16780331904964, 'e4': 7.51096640728881, 'e5': 7.07429544576228},\n",
       " {'e1': 9.539410844468764, 'e2': 8.138381169820525, 'e3': 7.268061728717175, 'e4': 4.91316228938025, 'e5': 8.085255936994795},\n",
       " {'e1': 8.154111081820222, 'e2': 8.214787617387577, 'e3': 7.5506956865814026, 'e4': 6.19373476347958, 'e5': 7.075694376310996},\n",
       " {'e1': 4.632667374974211, 'e2': 6.729744934663269, 'e3': 5.302574465848088, 'e4': 7.371521034022647, 'e5': 6.733391662484807},\n",
       " {'e1': 7.644425782934656, 'e2': 8.114135262827228, 'e3': 3.969962252933011, 'e4': 7.038497578406559, 'e5': 7.4520883423709225},\n",
       " {'e1': 5.8237085383696625, 'e2': 4.687980343936319, 'e3': 6.836717785269165, 'e4': 7.01490708096261, 'e5': 3.2643461330858976},\n",
       " {'e1': 5.829459593726586, 'e2': 4.472137233450043, 'e3': 7.833985542562621, 'e4': 6.944174972702649, 'e5': 7.481353639965363},\n",
       " {'e1': 6.616170090327321, 'e2': 8.440753054580542, 'e3': 5.766897837310012, 'e4': 7.3022631795555775, 'e5': 6.957567434906361},\n",
       " {'e1': 8.736809768922452, 'e2': 7.714860198748327, 'e3': 8.614349048527236, 'e4': 8.58262028475742, 'e5': 6.092512882143157},\n",
       " {'e1': 6.866425450773536, 'e2': 7.246785060966068, 'e3': 8.489168464768694, 'e4': 5.98167392462335, 'e5': 6.380412434987243},\n",
       " {'e1': 5.062421914837738, 'e2': 7.367818764784475, 'e3': 6.957268645422215, 'e4': 8.784491577277606, 'e5': 6.552032960377378},\n",
       " {'e1': 7.569710698990705, 'e2': 4.704554104783056, 'e3': 8.530251218372658, 'e4': 4.634927756324675, 'e5': 5.8752956412197035},\n",
       " {'e1': 5.703475599955129, 'e2': 5.9850775234264875, 'e3': 7.151080112532332, 'e4': 7.703310454172133, 'e5': 8.33844238098369},\n",
       " {'e1': 6.466841650890797, 'e2': 8.073472856066182, 'e3': 6.918551871152909, 'e4': 6.72190341206203, 'e5': 6.140799595705775},\n",
       " {'e1': 6.314308241472231, 'e2': 7.66884548276977, 'e3': 5.373500652942667, 'e4': 8.805184545120767, 'e5': 7.057431158251491},\n",
       " {'e1': 7.146416879315842, 'e2': 6.253198799341773, 'e3': 6.981680798623774, 'e4': 6.300640446347243, 'e5': 7.93377839253746},\n",
       " {'e1': 5.967117997529604, 'e2': 7.204596331713837, 'e3': 6.993969776227598, 'e4': 6.43592161847362, 'e5': 6.579707887433809},\n",
       " {'e1': 7.662382290911454, 'e2': 6.089974080399658, 'e3': 6.790495526668664, 'e4': 8.544832826599752, 'e5': 7.737412435736185},\n",
       " {'e1': 9.185229722778223, 'e2': 5.3528024767923705, 'e3': 7.144252753487693, 'e4': 7.00964765896634, 'e5': 5.367845614301915},\n",
       " {'e1': 7.925208622032196, 'e2': 6.5363643189786265, 'e3': 7.160963020710231, 'e4': 7.13014957698073, 'e5': 6.887137888240705},\n",
       " {'e1': 7.308468116623548, 'e2': 8.853729507465824, 'e3': 6.962552255823114, 'e4': 6.606462731976307, 'e5': 7.980872049996149},\n",
       " {'e1': 9.128497670077907, 'e2': 7.804805953584963, 'e3': 8.148866126572013, 'e4': 7.157161512870915, 'e5': 6.643142945935847},\n",
       " {'e1': 4.4005714919850885, 'e2': 7.403381555691191, 'e3': 9.292217214376707, 'e4': 6.364838789008581, 'e5': 5.9465348358541785},\n",
       " {'e1': 7.886501998643786, 'e2': 6.3265631759675935, 'e3': 5.015390360527018, 'e4': 4.640887232211163, 'e5': 6.969535602870991},\n",
       " {'e1': 7.264017172995054, 'e2': 6.831287527388133, 'e3': 5.700715737289311, 'e4': 5.986456005098434, 'e5': 7.5255600441473},\n",
       " {'e1': 6.735504965865613, 'e2': 6.796515042897944, 'e3': 6.596800490265941, 'e4': 6.24623298395716, 'e5': 8.79319095518218},\n",
       " {'e1': 5.941083095159347, 'e2': 7.899400361553225, 'e3': 8.715708453811096, 'e4': 6.4648258756170005, 'e5': 4.973110537049138},\n",
       " {'e1': 6.5173434672101465, 'e2': 5.571633370227318, 'e3': 9.203922222045149, 'e4': 6.253737252093638, 'e5': 7.4408397183440975},\n",
       " {'e1': 8.274147579328721, 'e2': 6.468696778453005, 'e3': 5.987521148382585, 'e4': 4.231861912207868, 'e5': 6.4818114980708375},\n",
       " {'e1': 6.173010641561308, 'e2': 6.671523826095129, 'e3': 8.522424688412313, 'e4': 7.050333023731247, 'e5': 8.710710674725537},\n",
       " {'e1': 6.423963246825813, 'e2': 6.030822788747604, 'e3': 7.0973992156370995, 'e4': 7.8810719964452804, 'e5': 7.210900356308205},\n",
       " {'e1': 6.753770823395547, 'e2': 6.347727187271882, 'e3': 5.638727267103735, 'e4': 5.569486511462801, 'e5': 5.423877298241929},\n",
       " {'e1': 6.604855444653156, 'e2': 7.914599346190926, 'e3': 6.006481994085735, 'e4': 8.797914298955375, 'e5': 6.93914056614664},\n",
       " {'e1': 7.281002719434179, 'e2': 7.081325250008222, 'e3': 6.195969260787381, 'e4': 6.592065640324255, 'e5': 6.975082527814692},\n",
       " {'e1': 8.513754585447776, 'e2': 5.3207713649427495, 'e3': 7.061349309909094, 'e4': 6.838842606771631, 'e5': 8.906901532927087},\n",
       " {'e1': 8.267112048250084, 'e2': 8.994364344473817, 'e3': 7.035103526557593, 'e4': 5.976517252125222, 'e5': 7.254360410129435},\n",
       " {'e1': 7.593690021227693, 'e2': 6.781398899670432, 'e3': 7.464147143260424, 'e4': 8.11790629892907, 'e5': 6.190697247613706},\n",
       " {'e1': 7.061785352233711, 'e2': 6.962357391438676, 'e3': 5.917969333155689, 'e4': 6.367206803275067, 'e5': 6.568734334855077},\n",
       " {'e1': 8.024529417730239, 'e2': 6.765369244761748, 'e3': 5.4577007658424845, 'e4': 8.18520692875976, 'e5': 8.6316118107408},\n",
       " {'e1': 6.992717747962833, 'e2': 7.170369538138821, 'e3': 7.74480574343388, 'e4': 7.116347674866231, 'e5': 7.638936299114555},\n",
       " {'e1': 7.40098308060937, 'e2': 7.702778567598106, 'e3': 9.226828965370554, 'e4': 7.432321915470602, 'e5': 7.7863643623435745},\n",
       " {'e1': 6.900788475283187, 'e2': 8.560348991554804, 'e3': 7.323227148212792, 'e4': 7.209037368947387, 'e5': 8.735132536194532},\n",
       " {'e1': 6.875978075549275, 'e2': 5.601387123523485, 'e3': 7.236144647191328, 'e4': 7.371410138223531, 'e5': 5.970342016712575},\n",
       " {'e1': 6.071435803478114, 'e2': 6.474667595260421, 'e3': 6.485914256961455, 'e4': 7.449792115487889, 'e5': 9.350881131125885},\n",
       " {'e1': 7.377923160794955, 'e2': 5.094937636830422, 'e3': 7.780409418041703, 'e4': 7.341871282797048, 'e5': 8.516275471882533},\n",
       " {'e1': 6.697291910906509, 'e2': 6.842791257040786, 'e3': 5.611896791167176, 'e4': 4.735737669877248, 'e5': 6.943222464343373},\n",
       " {'e1': 6.965330684417508, 'e2': 7.005243752579995, 'e3': 5.877199141966592, 'e4': 5.291371695674544, 'e5': 7.318014294725468},\n",
       " {'e1': 7.69126444828583, 'e2': 7.0057567714271745, 'e3': 7.87523534311452, 'e4': 7.670794033854536, 'e5': 7.008421921432522},\n",
       " {'e1': 5.39323621062922, 'e2': 6.451647442636647, 'e3': 5.823108739267857, 'e4': 7.2788181635058855, 'e5': 5.22759085717522},\n",
       " {'e1': 7.508046362300676, 'e2': 5.9713460660303435, 'e3': 7.524152869701047, 'e4': 7.8777706098504146, 'e5': 6.277227933718569},\n",
       " {'e1': 5.7034727759448005, 'e2': 5.478210711986584, 'e3': 6.219925545363133, 'e4': 6.4863578716440395, 'e5': 8.403882887782025},\n",
       " {'e1': 6.5000019551251595, 'e2': 5.660692023428062, 'e3': 7.932211657200034, 'e4': 8.705334687187932, 'e5': 6.346663192854226},\n",
       " {'e1': 6.531528726037738, 'e2': 6.461289039439464, 'e3': 10.059288346719468, 'e4': 6.592427081477583, 'e5': 7.800856327563123},\n",
       " {'e1': 5.774020748892851, 'e2': 5.428032660776824, 'e3': 8.38424695704311, 'e4': 6.945586961205299, 'e5': 5.7324832325002095},\n",
       " {'e1': 8.854549963226559, 'e2': 6.13098356209099, 'e3': 8.38520005722467, 'e4': 6.1427902378744195, 'e5': 5.524712748139339},\n",
       " {'e1': 5.827635297369946, 'e2': 6.385710355783651, 'e3': 9.517640231294942, 'e4': 7.0062944633801365, 'e5': 7.052263948281478},\n",
       " {'e1': 7.108807093371469, 'e2': 6.2771835025711, 'e3': 7.508483864392428, 'e4': 7.0682778807929605, 'e5': 8.450717216494986},\n",
       " {'e1': 8.660182933351733, 'e2': 6.677266514464096, 'e3': 8.079231934304254, 'e4': 5.1831903451771275, 'e5': 6.996675333316534},\n",
       " {'e1': 6.973987040977912, 'e2': 8.386645224268165, 'e3': 7.762274881067037, 'e4': 7.574174526912397, 'e5': 6.174950335957995},\n",
       " {'e1': 6.17946088467598, 'e2': 6.064843289074044, 'e3': 5.8178780957087675, 'e4': 7.004993994047194, 'e5': 8.99819221612494},\n",
       " {'e1': 7.5973720928238375, 'e2': 8.79843422602416, 'e3': 6.548194878830772, 'e4': 7.24903248370851, 'e5': 5.804202798432186},\n",
       " {'e1': 5.980023339151887, 'e2': 7.841791592386087, 'e3': 9.406973822826423, 'e4': 7.045130883601698, 'e5': 7.2664644647643115},\n",
       " {'e1': 8.283017447591748, 'e2': 8.121970191146005, 'e3': 6.41029908784552, 'e4': 7.085000987144308, 'e5': 6.6957727285407636},\n",
       " {'e1': 6.128398796670107, 'e2': 6.946628346159791, 'e3': 5.1197945358770935, 'e4': 7.130831389248119, 'e5': 7.930780667798607},\n",
       " {'e1': 6.769351147236538, 'e2': 8.144682134378144, 'e3': 8.815492872931808, 'e4': 7.707715791197308, 'e5': 7.05885968178415},\n",
       " {'e1': 6.008829145394513, 'e2': 6.688339402440631, 'e3': 7.449382482149795, 'e4': 7.355788939157585, 'e5': 7.771554864679987},\n",
       " {'e1': 5.804297402655304, 'e2': 9.120142679820821, 'e3': 6.08414825371276, 'e4': 7.357497462498876, 'e5': 6.053206114906767},\n",
       " {'e1': 8.336569289118552, 'e2': 7.071149603591938, 'e3': 6.529584208597522, 'e4': 4.3925721520593095, 'e5': 7.902944081922277},\n",
       " {'e1': 7.3161599567496935, 'e2': 8.972718946618974, 'e3': 7.427659594499618, 'e4': 5.711289155018724, 'e5': 7.000362392646362},\n",
       " {'e1': 7.134829286404926, 'e2': 7.1573456814419805, 'e3': 8.617434285401828, 'e4': 6.228997040229288, 'e5': 7.4569285854129355},\n",
       " {'e1': 7.725684325094009, 'e2': 7.182112948728358, 'e3': 7.856092273355885, 'e4': 6.454493054244017, 'e5': 6.318090596330979},\n",
       " {'e1': 7.144243565988855, 'e2': 5.685787736073242, 'e3': 7.240101449738165, 'e4': 6.781096112943189, 'e5': 8.098328465385306},\n",
       " {'e1': 7.781173271693605, 'e2': 7.258415089397935, 'e3': 6.179200190682293, 'e4': 5.582575329479584, 'e5': 6.097299179943733},\n",
       " {'e1': 7.356335291619406, 'e2': 8.964170511946945, 'e3': 7.522446452350631, 'e4': 5.589582560603356, 'e5': 8.64905378917764},\n",
       " {'e1': 6.1052892739652584, 'e2': 6.987883521371844, 'e3': 6.126174310216479, 'e4': 7.183170330077483, 'e5': 7.831442601092853},\n",
       " {'e1': 9.405068573819062, 'e2': 6.810806542007082, 'e3': 7.18240756888497, 'e4': 6.183456311549452, 'e5': 7.60083935842923},\n",
       " {'e1': 7.328983854861333, 'e2': 6.9016805250841635, 'e3': 7.541339123878852, 'e4': 7.287425359243128, 'e5': 6.424842846362836},\n",
       " {'e1': 6.67311744691871, 'e2': 9.27661753525318, 'e3': 7.319024245133334, 'e4': 8.392651819386879, 'e5': 6.6275061598311344},\n",
       " {'e1': 5.4334549733384545, 'e2': 5.895200578634735, 'e3': 8.484499867963844, 'e4': 8.068828419915068, 'e5': 8.945297316064979},\n",
       " {'e1': 7.088894035853502, 'e2': 7.043500622047336, 'e3': 8.601618013269595, 'e4': 6.088592283092911, 'e5': 6.095795421342186},\n",
       " {'e1': 6.503392249704707, 'e2': 8.599942980134431, 'e3': 8.381308508653525, 'e4': 7.298255385455529, 'e5': 7.46777213374556},\n",
       " {'e1': 6.658233348489727, 'e2': 6.660635094997644, 'e3': 6.575228805546196, 'e4': 6.364534534689648, 'e5': 6.821018103048913},\n",
       " {'e1': 7.217714611602149, 'e2': 6.586070325305837, 'e3': 7.285497350221566, 'e4': 7.361696317400907, 'e5': 6.931416627191578},\n",
       " {'e1': 7.496007661579176, 'e2': 9.16387569137823, 'e3': 7.600084441389307, 'e4': 6.353020290216884, 'e5': 7.138554502877917},\n",
       " {'e1': 8.03738023286153, 'e2': 7.048720767231314, 'e3': 6.6609469636761665, 'e4': 7.9041195317374076, 'e5': 9.619731987931846},\n",
       " {'e1': 8.248547622508863, 'e2': 7.311340342004854, 'e3': 5.009775209126196, 'e4': 7.263282358745602, 'e5': 7.749150788624826},\n",
       " {'e1': 5.6333020503713325, 'e2': 5.346568033027698, 'e3': 4.084463226349105, 'e4': 6.183540212031319, 'e5': 7.162769715714525},\n",
       " {'e1': 6.0864426223470405, 'e2': 6.661635697624953, 'e3': 8.658962807130248, 'e4': 7.245846366294185, 'e5': 5.176559667166767},\n",
       " {'e1': 8.181486937602777, 'e2': 8.000809603391913, 'e3': 6.688979936756427, 'e4': 5.560425046119031, 'e5': 7.179771144111547},\n",
       " {'e1': 6.990361278436754, 'e2': 9.137284436343672, 'e3': 7.692041902484728, 'e4': 6.250705898932543, 'e5': 5.544652590918178},\n",
       " {'e1': 6.7363286099195765, 'e2': 8.376010953147057, 'e3': 4.338944346504503, 'e4': 7.160539639727358, 'e5': 7.126976297992445},\n",
       " {'e1': 7.4465364971184185, 'e2': 6.45387793117229, 'e3': 7.333074673059123, 'e4': 7.661415166976483, 'e5': 7.658035906716874},\n",
       " {'e1': 5.0785982673131285, 'e2': 6.997667466720212, 'e3': 8.95566954004954, 'e4': 7.092195762062975, 'e5': 6.138848526936717},\n",
       " {'e1': 7.571647530688808, 'e2': 6.3509203843075674, 'e3': 6.802044243122971, 'e4': 9.192501320522663, 'e5': 9.723012651454528},\n",
       " {'e1': 5.871417601248817, 'e2': 8.075767453612185, 'e3': 7.6332614215122625, 'e4': 7.827701515457156, 'e5': 5.503067368230316},\n",
       " {'e1': 9.02491628028589, 'e2': 7.740946755036148, 'e3': 6.675962816559196, 'e4': 6.190490097464213, 'e5': 6.4568656364062615},\n",
       " {'e1': 7.135334475427033, 'e2': 7.2166195873672825, 'e3': 5.94051563020229, 'e4': 6.739010038525902, 'e5': 5.648890119517487},\n",
       " {'e1': 8.245017450749717, 'e2': 6.669615478667947, 'e3': 7.69881564641961, 'e4': 6.398750914751966, 'e5': 8.683575959639471},\n",
       " {'e1': 6.020529294815632, 'e2': 6.418759935807002, 'e3': 8.047125261600447, 'e4': 4.673607591060263, 'e5': 7.000655643342329},\n",
       " {'e1': 8.24965017940164, 'e2': 8.709799687878725, 'e3': 7.22051600361165, 'e4': 6.760014699567734, 'e5': 6.5934263747300035},\n",
       " {'e1': 7.907241777559421, 'e2': 7.443281637763867, 'e3': 7.54844752258674, 'e4': 7.670908846686389, 'e5': 7.63483631189472},\n",
       " {'e1': 7.483488220021366, 'e2': 7.394356058798356, 'e3': 7.4126381118145765, 'e4': 6.555758556818144, 'e5': 7.534230122427839},\n",
       " {'e1': 6.43995235363743, 'e2': 8.906833981882789, 'e3': 7.44527115307692, 'e4': 5.802774908471229, 'e5': 9.328861841627457},\n",
       " {'e1': 7.32914172664923, 'e2': 6.32355305436052, 'e3': 7.302330642914198, 'e4': 5.422394831983162, 'e5': 5.937534874922143},\n",
       " {'e1': 7.5352213391926535, 'e2': 6.170494777037982, 'e3': 7.705298889685269, 'e4': 8.873962557621685, 'e5': 6.2523455163193855},\n",
       " {'e1': 8.804302101478784, 'e2': 4.73095796190514, 'e3': 3.4862950458516813, 'e4': 8.014925778290555, 'e5': 8.304150555282796},\n",
       " {'e1': 6.2496836404054426, 'e2': 8.095626532941091, 'e3': 6.602368857805192, 'e4': 6.8152996350858945, 'e5': 7.479510937554755},\n",
       " {'e1': 5.965690942753774, 'e2': 6.216096997816461, 'e3': 8.04750324091155, 'e4': 6.644504010697081, 'e5': 7.275950664980027},\n",
       " {'e1': 5.796702803533295, 'e2': 8.664338224830697, 'e3': 7.8720423978202065, 'e4': 7.372430382545542, 'e5': 8.306757980131431},\n",
       " {'e1': 7.9326965571981525, 'e2': 7.984761892182638, 'e3': 8.100362969171472, 'e4': 7.029035906949911, 'e5': 8.646128206556654},\n",
       " {'e1': 8.742140719137012, 'e2': 6.945772728596737, 'e3': 7.4194231698884705, 'e4': 5.945600200636744, 'e5': 8.112691873898106},\n",
       " {'e1': 5.9727707376291885, 'e2': 8.969094300080533, 'e3': 8.308049141601748, 'e4': 6.985710803317775, 'e5': 7.067861813192337},\n",
       " {'e1': 6.197591292137391, 'e2': 4.955221784372427, 'e3': 6.217753028520134, 'e4': 7.536316424172424, 'e5': 5.451832379698242},\n",
       " {'e1': 7.646439915451339, 'e2': 4.975096840916072, 'e3': 6.378675518134292, 'e4': 6.922059718227686, 'e5': 7.566877739388843},\n",
       " {'e1': 7.75312113615738, 'e2': 5.840295215975555, 'e3': 6.0108764795232075, 'e4': 7.789095778503103, 'e5': 7.300363080626461},\n",
       " {'e1': 7.589679904938783, 'e2': 5.95725314490943, 'e3': 6.820453386897198, 'e4': 8.887986713703352, 'e5': 8.049672781871642},\n",
       " {'e1': 6.564041669227455, 'e2': 6.5602158793809435, 'e3': 7.573327516647773, 'e4': 7.094472793664927, 'e5': 4.296326318835371},\n",
       " {'e1': 7.870637396282174, 'e2': 4.103508482922111, 'e3': 5.6323053591311085, 'e4': 5.092788251929582, 'e5': 7.5512429379227655},\n",
       " {'e1': 8.004290226593763, 'e2': 9.117820550498928, 'e3': 6.12708204225811, 'e4': 6.588352667952981, 'e5': 9.546111846861466},\n",
       " {'e1': 7.536853758866842, 'e2': 5.861243486526469, 'e3': 8.539200569511404, 'e4': 6.743199232696912, 'e5': 6.517633116619663},\n",
       " {'e1': 8.768146702477505, 'e2': 6.962596448066844, 'e3': 6.766597707545936, 'e4': 6.242863305856719, 'e5': 8.90678356209342},\n",
       " {'e1': 7.712613299853677, 'e2': 7.900809307301406, 'e3': 7.825995762929389, 'e4': 6.535462974260625, 'e5': 6.442761213647353},\n",
       " {'e1': 6.31898010974043, 'e2': 7.037367224746217, 'e3': 6.453420537578057, 'e4': 7.197303920148668, 'e5': 7.006269044230904},\n",
       " {'e1': 8.11458142297861, 'e2': 7.17969361458895, 'e3': 7.588584123169664, 'e4': 7.88428696554353, 'e5': 8.351436202907891},\n",
       " {'e1': 7.972896933153982, 'e2': 8.4744129373999, 'e3': 8.949818896828518, 'e4': 6.651215293676918, 'e5': 5.644914401885095},\n",
       " {'e1': 6.308586280103818, 'e2': 9.570833720454022, 'e3': 7.736803942595123, 'e4': 8.293395080579247, 'e5': 6.7904915473757255},\n",
       " {'e1': 8.182597446857008, 'e2': 7.944358676198987, 'e3': 6.842244113110498, 'e4': 7.682369042883568, 'e5': 5.541631149569876},\n",
       " {'e1': 7.66856781510211, 'e2': 8.053808386854197, 'e3': 8.550784471338144, 'e4': 6.937341324579904, 'e5': 5.939208941922125},\n",
       " {'e1': 7.720955825164888, 'e2': 6.9737201173339365, 'e3': 8.602224189045536, 'e4': 6.509508715523018, 'e5': 6.6563104366435155},\n",
       " {'e1': 5.733371548364915, 'e2': 8.079479057539102, 'e3': 7.310511484789935, 'e4': 5.944502767594013, 'e5': 6.914958022286132},\n",
       " {'e1': 8.640335168895245, 'e2': 7.094933291548862, 'e3': 6.413127756477665, 'e4': 6.937331225501918, 'e5': 7.970109736512482},\n",
       " {'e1': 8.702459391893166, 'e2': 7.814238056715726, 'e3': 6.421540538489032, 'e4': 4.878955047017552, 'e5': 5.160031255368177},\n",
       " {'e1': 8.793006275232386, 'e2': 8.606314344210602, 'e3': 5.699448460577868, 'e4': 6.830033586312984, 'e5': 9.803815055622403},\n",
       " {'e1': 8.487311773174309, 'e2': 7.355912398719796, 'e3': 6.942000143479451, 'e4': 5.223756362348139, 'e5': 7.970202125531672},\n",
       " {'e1': 8.154377604972664, 'e2': 6.065571967370588, 'e3': 6.970376246645592, 'e4': 8.483291694385766, 'e5': 7.8979697524277235},\n",
       " {'e1': 7.55329592536394, 'e2': 7.0902357039086965, 'e3': 7.503766679348758, 'e4': 5.105405403986563, 'e5': 7.662720967654482},\n",
       " {'e1': 9.664892036426862, 'e2': 7.349053529901521, 'e3': 5.119106810861705, 'e4': 8.435899898815078, 'e5': 5.949409253311646},\n",
       " {'e1': 7.368393932599654, 'e2': 7.734456430587964, 'e3': 7.10238896627881, 'e4': 8.229594490181121, 'e5': 5.003455296914293},\n",
       " {'e1': 7.029500811598919, 'e2': 7.806529638517069, 'e3': 5.835251518033755, 'e4': 7.545597142630326, 'e5': 8.799502648529785},\n",
       " {'e1': 8.6642410983927, 'e2': 6.219670017417431, 'e3': 7.6695659853709985, 'e4': 8.126865130343534, 'e5': 8.346767999621466},\n",
       " {'e1': 7.840365772353613, 'e2': 6.483659733067, 'e3': 5.583493138292381, 'e4': 7.003960912386347, 'e5': 8.926433844629916},\n",
       " {'e1': 6.2220010377033095, 'e2': 7.0104678515460535, 'e3': 7.740566527938267, 'e4': 6.635555133435808, 'e5': 7.553031949624627},\n",
       " {'e1': 5.847518460096568, 'e2': 6.881481874739773, 'e3': 9.640331976234625, 'e4': 6.316392227239894, 'e5': 8.836026993285165},\n",
       " {'e1': 8.476104262762313, 'e2': 6.35436431807447, 'e3': 6.294046289548982, 'e4': 7.464908019630564, 'e5': 5.3865998388932965},\n",
       " {'e1': 7.841209114479685, 'e2': 5.096435885970069, 'e3': 6.467480674342852, 'e4': 7.668325664365655, 'e5': 7.078752326060307},\n",
       " {'e1': 7.456147185328955, 'e2': 8.046532740126239, 'e3': 7.207480064883339, 'e4': 6.4091673818459505, 'e5': 5.52876665395166},\n",
       " {'e1': 5.683922995944997, 'e2': 5.963493833047065, 'e3': 7.132996147848576, 'e4': 7.965732017230979, 'e5': 6.955343427455125},\n",
       " {'e1': 6.331411468151928, 'e2': 5.570157607829764, 'e3': 7.390113921887276, 'e4': 6.796370311771186, 'e5': 5.75309871385519},\n",
       " {'e1': 7.65833503334008, 'e2': 5.372526999531897, 'e3': 6.389476881617937, 'e4': 8.087889038143436, 'e5': 7.268268285827414},\n",
       " {'e1': 6.533614564011118, 'e2': 7.846955715569838, 'e3': 7.735176126520801, 'e4': 6.180811634433585, 'e5': 6.890028273590525},\n",
       " {'e1': 6.775321402317413, 'e2': 8.17788811702952, 'e3': 8.034931423679563, 'e4': 7.568733889019658, 'e5': 6.735110887634529},\n",
       " {'e1': 6.690159210254236, 'e2': 5.788844509198124, 'e3': 5.5293056345766, 'e4': 6.898966123695405, 'e5': 7.994383677523051},\n",
       " {'e1': 7.670581049522186, 'e2': 6.287374514886878, 'e3': 6.474529652425525, 'e4': 7.801131764328704, 'e5': 7.446039751082052},\n",
       " {'e1': 7.378827401232433, 'e2': 6.339651275582545, 'e3': 5.500937275649782, 'e4': 4.998162015562368, 'e5': 6.192235713251704},\n",
       " {'e1': 8.225512383666304, 'e2': 7.922545390072478, 'e3': 7.018492598331896, 'e4': 7.8077702274885485, 'e5': 5.842297366694854},\n",
       " {'e1': 7.077818694282647, 'e2': 7.681093872458957, 'e3': 7.404801495562705, 'e4': 7.383033109813497, 'e5': 5.074219995434287},\n",
       " {'e1': 7.206014042126127, 'e2': 7.7004437650956055, 'e3': 5.656387990045972, 'e4': 5.749636329546644, 'e5': 6.471343774882132},\n",
       " {'e1': 6.633217441014249, 'e2': 8.5832333162624, 'e3': 6.208217729989118, 'e4': 7.905866630060439, 'e5': 5.774445822746435},\n",
       " {'e1': 7.454230175636144, 'e2': 6.461755243632778, 'e3': 6.016676733682595, 'e4': 8.434867629452416, 'e5': 8.637450166344374},\n",
       " {'e1': 5.747135349166266, 'e2': 7.7551998071920005, 'e3': 6.659489335080069, 'e4': 7.27266241401089, 'e5': 6.096126199624814},\n",
       " {'e1': 6.572561631455157, 'e2': 8.90617200067604, 'e3': 6.514256008448032, 'e4': 4.948685990799107, 'e5': 7.4294164353317775},\n",
       " {'e1': 7.65222976453017, 'e2': 7.898339572564551, 'e3': 7.735010613483084, 'e4': 6.900068548517176, 'e5': 7.506614094959748},\n",
       " {'e1': 6.372546727179623, 'e2': 6.736524995881016, 'e3': 5.192323677474985, 'e4': 6.287455353414684, 'e5': 8.108281135879048},\n",
       " {'e1': 7.506943944897, 'e2': 5.962592520553423, 'e3': 7.399549619455984, 'e4': 5.343733505837639, 'e5': 4.773386281024064},\n",
       " {'e1': 7.6976967512343695, 'e2': 7.099172421559953, 'e3': 6.430988539230855, 'e4': 9.801478395951044, 'e5': 4.549661804789909},\n",
       " {'e1': 8.914257783171394, 'e2': 6.273615277698782, 'e3': 6.6841857335166575, 'e4': 8.060975924428732, 'e5': 6.576028040885498},\n",
       " {'e1': 7.9973746832089425, 'e2': 6.646161064466795, 'e3': 8.933430067183819, 'e4': 8.381801351389194, 'e5': 5.790588790094743},\n",
       " {'e1': 6.817409046856229, 'e2': 7.970969564210799, 'e3': 7.84079068786864, 'e4': 6.692309633362873, 'e5': 7.214010521102941},\n",
       " {'e1': 7.209819691093017, 'e2': 9.605460669834272, 'e3': 7.752872531166816, 'e4': 5.300220349106037, 'e5': 8.688523123814024},\n",
       " {'e1': 5.219252900067819, 'e2': 6.706887004756752, 'e3': 8.646192172519413, 'e4': 5.936704981046383, 'e5': 6.8644712730754645},\n",
       " {'e1': 6.783132176068479, 'e2': 7.691634827345529, 'e3': 6.8728456669340146, 'e4': 6.255897382052728, 'e5': 6.627079985606432},\n",
       " {'e1': 5.711106020557304, 'e2': 7.087140362917579, 'e3': 5.498889581613608, 'e4': 8.639205858798297, 'e5': 6.229751197996234},\n",
       " {'e1': 6.930426143282014, 'e2': 6.803733572498075, 'e3': 7.253816822499198, 'e4': 8.056856251265401, 'e5': 8.662348920135688},\n",
       " {'e1': 6.34603665978837, 'e2': 8.791681689514373, 'e3': 6.207670340494438, 'e4': 6.264138469942558, 'e5': 6.190606175025186},\n",
       " {'e1': 8.62872474478171, 'e2': 7.120222370900079, 'e3': 6.05576396350556, 'e4': 6.644943561533416, 'e5': 6.414790186768223},\n",
       " {'e1': 7.398775470358868, 'e2': 5.782199158656026, 'e3': 7.548140481541215, 'e4': 6.638819419602446, 'e5': 5.92202714404564},\n",
       " {'e1': 8.031910692618265, 'e2': 7.515667767346846, 'e3': 7.52760794576113, 'e4': 5.142209423034892, 'e5': 7.359252143945998},\n",
       " {'e1': 7.533961179567299, 'e2': 9.00174374312413, 'e3': 7.354382454026005, 'e4': 6.6461148941292745, 'e5': 7.146114463088335},\n",
       " {'e1': 6.2089538724119375, 'e2': 10.005145400097241, 'e3': 7.425468260068127, 'e4': 8.447420589854149, 'e5': 7.573142047897558},\n",
       " {'e1': 8.63122504518494, 'e2': 8.950048419490606, 'e3': 8.364354092016942, 'e4': 6.791108550191597, 'e5': 5.197930386816014},\n",
       " {'e1': 7.499397329284296, 'e2': 7.392317530605201, 'e3': 7.303429107965131, 'e4': 6.06496446217035, 'e5': 6.94044587807554},\n",
       " {'e1': 5.017745843782542, 'e2': 7.030216898675942, 'e3': 7.245128448831482, 'e4': 6.780439690257335, 'e5': 7.740445162126436},\n",
       " {'e1': 6.014042715128472, 'e2': 5.997978636524404, 'e3': 4.235746347591734, 'e4': 7.3583367831588316, 'e5': 6.401008885760888},\n",
       " {'e1': 4.985704800742101, 'e2': 8.459630932772798, 'e3': 7.165642712794961, 'e4': 5.725328991663715, 'e5': 4.89715856274301},\n",
       " {'e1': 8.301787458601396, 'e2': 5.776264711823879, 'e3': 9.713781097813731, 'e4': 6.697445662252373, 'e5': 7.7061632479213875},\n",
       " {'e1': 7.421794913525126, 'e2': 5.650882756946584, 'e3': 7.6962446906015725, 'e4': 7.942458443368853, 'e5': 8.419349730906308},\n",
       " {'e1': 7.361681897528062, 'e2': 7.4387639669790016, 'e3': 7.49954384578545, 'e4': 8.20616211503833, 'e5': 6.351755600344311},\n",
       " {'e1': 8.79150467442145, 'e2': 6.32887642396879, 'e3': 7.80396556935526, 'e4': 4.18463082575237, 'e5': 3.8464240243526593},\n",
       " {'e1': 8.042207333854645, 'e2': 6.866103495546883, 'e3': 6.673170065480688, 'e4': 7.8867157882929595, 'e5': 7.790882304640651},\n",
       " {'e1': 6.291386094599119, 'e2': 5.954140974850638, 'e3': 5.993057580369061, 'e4': 7.415951118313656, 'e5': 6.942676095290879},\n",
       " {'e1': 8.125575010882526, 'e2': 8.366939113562871, 'e3': 7.461888914192098, 'e4': 4.8949710500368235, 'e5': 7.535481788029131},\n",
       " {'e1': 7.17471765387342, 'e2': 6.7950390727494945, 'e3': 6.206267116640561, 'e4': 6.020139416788343, 'e5': 6.636920420444792},\n",
       " {'e1': 5.844327007965397, 'e2': 6.602074955859256, 'e3': 7.709816581918208, 'e4': 6.126528439114498, 'e5': 6.071362056956122},\n",
       " {'e1': 7.81745300742679, 'e2': 7.492455302803209, 'e3': 6.249464962299398, 'e4': 7.507908189974974, 'e5': 6.376987352992733},\n",
       " {'e1': 4.79153009981866, 'e2': 7.235595381032185, 'e3': 7.135067714501124, 'e4': 7.229071528799013, 'e5': 7.311807920451243},\n",
       " {'e1': 6.508422996271409, 'e2': 7.154067448466121, 'e3': 7.221215635939588, 'e4': 6.822214798508244, 'e5': 7.430642357954784},\n",
       " {'e1': 6.625535880915139, 'e2': 8.270288420514262, 'e3': 5.105646039749364, 'e4': 6.853415704669316, 'e5': 6.682270008159081},\n",
       " {'e1': 6.6271185128732, 'e2': 7.189825634489514, 'e3': 6.371489426060925, 'e4': 7.133156072530908, 'e5': 5.011779876675398},\n",
       " {'e1': 5.965389504892409, 'e2': 6.0889098184245105, 'e3': 7.474822832195646, 'e4': 9.084140746070851, 'e5': 7.6233267532281355},\n",
       " {'e1': 7.5409949123297615, 'e2': 7.6173837207442245, 'e3': 6.37215599136196, 'e4': 8.100202405862662, 'e5': 5.988403791547234},\n",
       " {'e1': 9.30604536297274, 'e2': 5.393664423981552, 'e3': 4.96746030752947, 'e4': 5.814028938085351, 'e5': 8.331370308034764},\n",
       " {'e1': 6.234555929421627, 'e2': 8.639213337261486, 'e3': 7.812503772764397, 'e4': 8.21150148622371, 'e5': 6.148567429133777},\n",
       " {'e1': 7.955167813293638, 'e2': 6.96603421139863, 'e3': 6.266834447466163, 'e4': 7.0296518880506005, 'e5': 6.36276914668528},\n",
       " {'e1': 6.777731548431245, 'e2': 6.137078839568482, 'e3': 7.672118308188546, 'e4': 7.015448201314498, 'e5': 8.126376100527462},\n",
       " {'e1': 5.1911536219523935, 'e2': 6.798585026142433, 'e3': 6.100141372522761, 'e4': 7.329415565877035, 'e5': 8.17756328225861},\n",
       " {'e1': 7.847150274114967, 'e2': 8.27953316264996, 'e3': 6.425584724924053, 'e4': 7.338941942139649, 'e5': 4.164920707231976},\n",
       " {'e1': 4.77567221827826, 'e2': 6.573280665500981, 'e3': 6.720053584855281, 'e4': 7.870599072196295, 'e5': 8.220493344960769},\n",
       " {'e1': 7.340380094092934, 'e2': 5.830667949239048, 'e3': 7.881778327545556, 'e4': 7.803397924750857, 'e5': 6.134133933505031},\n",
       " {'e1': 6.599933202530585, 'e2': 8.008981682485347, 'e3': 4.938388769765646, 'e4': 8.231150018112622, 'e5': 7.312112485391948},\n",
       " {'e1': 8.363997150970418, 'e2': 7.052368641728154, 'e3': 6.814065546949978, 'e4': 5.842255031289062, 'e5': 6.423527963019035},\n",
       " {'e1': 6.8439904282834645, 'e2': 6.44944688903999, 'e3': 6.564040548589072, 'e4': 7.081589352850985, 'e5': 8.307312968958227},\n",
       " {'e1': 5.44476326815582, 'e2': 7.483219391821186, 'e3': 7.261989105869438, 'e4': 7.202030480183893, 'e5': 7.686681988934699},\n",
       " {'e1': 6.387438497372424, 'e2': 5.693068724719152, 'e3': 5.704908501995927, 'e4': 8.55752154179104, 'e5': 7.743339900956853},\n",
       " {'e1': 7.256398920618738, 'e2': 5.97140012492262, 'e3': 8.423259303309958, 'e4': 8.559116994448942, 'e5': 8.009209824724378},\n",
       " {'e1': 8.117040820467505, 'e2': 8.670372987351824, 'e3': 6.287165984921451, 'e4': 8.133784681481144, 'e5': 8.006778438288618},\n",
       " {'e1': 7.166878360077788, 'e2': 6.990061092305199, 'e3': 7.060816290860283, 'e4': 7.369195430331387, 'e5': 6.9757889565053235},\n",
       " {'e1': 7.344099641343278, 'e2': 7.067563822093159, 'e3': 8.347466879593112, 'e4': 6.74982773836464, 'e5': 7.683252109192592},\n",
       " {'e1': 6.29876409149722, 'e2': 6.333718486512473, 'e3': 9.23745281220458, 'e4': 8.135230682705647, 'e5': 6.856842356992979},\n",
       " {'e1': 7.446712116994744, 'e2': 8.034988704077513, 'e3': 8.022379680966665, 'e4': 5.536644222323575, 'e5': 8.295810807497043},\n",
       " {'e1': 5.844045536541477, 'e2': 8.70991110114811, 'e3': 5.7847452629079, 'e4': 7.076487645635097, 'e5': 4.975388527256375},\n",
       " {'e1': 8.10176799635273, 'e2': 6.1307411019744835, 'e3': 7.332443416116753, 'e4': 6.162168485996241, 'e5': 4.679013200484491},\n",
       " {'e1': 8.372251014737559, 'e2': 7.901594908520065, 'e3': 9.304631991803397, 'e4': 5.655123977238208, 'e5': 7.521391049410706},\n",
       " {'e1': 7.410442630552507, 'e2': 6.841425717203077, 'e3': 7.1556592980666665, 'e4': 8.42177962976455, 'e5': 4.127345927856757},\n",
       " {'e1': 8.167134033529525, 'e2': 6.149837044038328, 'e3': 6.154349176378107, 'e4': 7.48300042946475, 'e5': 5.3766731165371064},\n",
       " {'e1': 7.955965423536317, 'e2': 6.357732029635465, 'e3': 7.493225118831206, 'e4': 7.8533639303045115, 'e5': 6.8503579251723465},\n",
       " {'e1': 6.270174837207871, 'e2': 7.9943837496063255, 'e3': 5.264701076858868, 'e4': 7.059710058687871, 'e5': 4.542044922175726},\n",
       " {'e1': 6.861752427624742, 'e2': 7.0224100068265045, 'e3': 6.20795468118357, 'e4': 6.284374632134293, 'e5': 6.807416698187697},\n",
       " {'e1': 5.844566404369711, 'e2': 7.4372722288911435, 'e3': 8.589355008910697, 'e4': 6.2229894850144, 'e5': 6.92331656819204},\n",
       " {'e1': 7.5246439453331, 'e2': 8.382387347869132, 'e3': 8.135867333641492, 'e4': 3.930630860694214, 'e5': 6.211157853854907},\n",
       " {'e1': 5.790521178729979, 'e2': 7.624372021504981, 'e3': 7.5873254401655625, 'e4': 7.1062238197389425, 'e5': 6.4728015105149215},\n",
       " {'e1': 5.820119523867368, 'e2': 7.8577787773378205, 'e3': 5.910312695894092, 'e4': 6.90899185043267, 'e5': 6.860217255716008},\n",
       " {'e1': 7.224686874359334, 'e2': 8.158417329523271, 'e3': 6.669339152100141, 'e4': 6.222852545826385, 'e5': 7.289906901279593},\n",
       " {'e1': 6.90022799008587, 'e2': 5.190652311613673, 'e3': 7.246087118196115, 'e4': 7.814961314175823, 'e5': 6.49759513910086},\n",
       " {'e1': 7.8907094298074965, 'e2': 9.223189592003047, 'e3': 6.712888034992876, 'e4': 8.33442024988213, 'e5': 6.847510045140665},\n",
       " {'e1': 6.867975167205732, 'e2': 9.577098721362058, 'e3': 6.787201889255147, 'e4': 6.935257228317063, 'e5': 6.566444262318052},\n",
       " {'e1': 5.570561522258859, 'e2': 6.873434401879825, 'e3': 7.033756126915547, 'e4': 6.337859247550811, 'e5': 9.133462908023128},\n",
       " {'e1': 6.590239995316475, 'e2': 7.2453336637515005, 'e3': 7.705175361457489, 'e4': 7.657849274670562, 'e5': 8.854462644239366},\n",
       " {'e1': 8.288403011211813, 'e2': 6.749603010784727, 'e3': 6.88544885634933, 'e4': 6.317537546059629, 'e5': 8.096384183337333},\n",
       " {'e1': 6.515007005469106, 'e2': 6.192735205888859, 'e3': 4.7201300513067075, 'e4': 7.601446975223162, 'e5': 7.672226237345301},\n",
       " {'e1': 7.351745163479472, 'e2': 6.282165621708028, 'e3': 8.488690342198236, 'e4': 6.830079804066087, 'e5': 4.964484204814859},\n",
       " {'e1': 5.775693466736804, 'e2': 7.757259314100961, 'e3': 5.276225374581783, 'e4': 7.88778047332657, 'e5': 5.587054911108074},\n",
       " {'e1': 5.386722965178712, 'e2': 6.875580195909291, 'e3': 7.801639306468143, 'e4': 8.10965305173991, 'e5': 8.52663444535339},\n",
       " {'e1': 5.940936897283739, 'e2': 7.331315995215961, 'e3': 7.100974479864556, 'e4': 7.5817339238313055, 'e5': 6.17077692997103},\n",
       " {'e1': 7.951541645707262, 'e2': 5.815818410932079, 'e3': 6.573908936040436, 'e4': 6.7952710413016355, 'e5': 7.071739854334186},\n",
       " {'e1': 6.604373442616725, 'e2': 7.476822658497667, 'e3': 7.674943370637114, 'e4': 5.182356191774185, 'e5': 7.001252530062497},\n",
       " {'e1': 6.821469404094506, 'e2': 5.97392551099365, 'e3': 6.539056846465859, 'e4': 7.0893337511263095, 'e5': 6.209947734941218},\n",
       " {'e1': 6.231624220426702, 'e2': 8.164926837063032, 'e3': 6.278973954239228, 'e4': 8.098514196318717, 'e5': 8.74904247619611},\n",
       " {'e1': 7.555699187538302, 'e2': 5.972563252112241, 'e3': 9.655696438437964, 'e4': 8.931851961388006, 'e5': 6.530058589654182},\n",
       " {'e1': 7.414531819068864, 'e2': 7.220229245826779, 'e3': 6.264184193861156, 'e4': 6.455927418677537, 'e5': 6.729214283426631},\n",
       " {'e1': 7.013651506616099, 'e2': 7.089631403290671, 'e3': 5.296669914228545, 'e4': 7.08543966804315, 'e5': 4.3971020416379245},\n",
       " {'e1': 8.050553151694336, 'e2': 8.90732759589041, 'e3': 5.7451283268919155, 'e4': 7.527348385172157, 'e5': 5.250075509465187},\n",
       " {'e1': 6.674811397932546, 'e2': 7.926699304806823, 'e3': 7.894106614676582, 'e4': 6.69251699731703, 'e5': 6.9075751215232915},\n",
       " {'e1': 6.157766938880822, 'e2': 5.854946896693019, 'e3': 5.811526060577024, 'e4': 5.247554563361017, 'e5': 7.732771168829301},\n",
       " {'e1': 6.825242864084269, 'e2': 6.822617928419129, 'e3': 7.7852906425335044, 'e4': 8.016531858791664, 'e5': 7.713902613360522},\n",
       " {'e1': 8.77840691757184, 'e2': 7.26987491785002, 'e3': 5.131384897815232, 'e4': 5.676830896524038, 'e5': 6.945358962640265},\n",
       " {'e1': 8.766057864390604, 'e2': 8.140261084532208, 'e3': 8.271416096894889, 'e4': 7.183203313112063, 'e5': 7.376175000538612},\n",
       " {'e1': 8.003965983359858, 'e2': 6.8035136616761, 'e3': 7.064344013532391, 'e4': 8.60097550815879, 'e5': 6.417171373108204},\n",
       " {'e1': 6.481860651200677, 'e2': 8.24832155444221, 'e3': 5.992324927328403, 'e4': 6.871500508420583, 'e5': 6.833677704883955},\n",
       " {'e1': 6.743826876811445, 'e2': 5.60411926802404, 'e3': 6.78860121230395, 'e4': 8.862803411996717, 'e5': 8.994122619252098},\n",
       " {'e1': 6.465968275662887, 'e2': 6.133594732037982, 'e3': 7.026473127571405, 'e4': 7.3713968156242275, 'e5': 6.494378170080633},\n",
       " {'e1': 7.015889258520739, 'e2': 5.6528848749469045, 'e3': 7.054374455466278, 'e4': 5.782478302722272, 'e5': 7.026323681776756},\n",
       " {'e1': 6.620925258598603, 'e2': 6.5998940281259735, 'e3': 7.485864856210497, 'e4': 8.070880791824129, 'e5': 6.704687720699658},\n",
       " {'e1': 6.561187856529217, 'e2': 9.205801734129032, 'e3': 7.959845736184271, 'e4': 7.042615470369795, 'e5': 5.597185582683486},\n",
       " {'e1': 8.417825403395696, 'e2': 6.735105540988936, 'e3': 7.147614290539531, 'e4': 8.481888674530245, 'e5': 8.338204368151239},\n",
       " {'e1': 9.004001943644845, 'e2': 8.112954353923689, 'e3': 6.163563504970623, 'e4': 7.669394426772285, 'e5': 7.193630467463806},\n",
       " {'e1': 9.994927298217124, 'e2': 7.647260482337662, 'e3': 8.518035992426626, 'e4': 5.09787507996096, 'e5': 6.75270898423569},\n",
       " {'e1': 7.839323996481424, 'e2': 6.817328338119272, 'e3': 6.537294905956082, 'e4': 8.320085563650123, 'e5': 8.146182334261033},\n",
       " {'e1': 7.449680849065464, 'e2': 7.577905317549823, 'e3': 9.36955172328791, 'e4': 5.647517036076998, 'e5': 7.488002631752756},\n",
       " {'e1': 7.110166092705414, 'e2': 6.852998827139317, 'e3': 7.408319724346849, 'e4': 7.488175068458443, 'e5': 7.025894705586864},\n",
       " {'e1': 5.951699989116065, 'e2': 8.695662901596942, 'e3': 7.256386078826742, 'e4': 7.112147135922345, 'e5': 6.367678015429886},\n",
       " {'e1': 8.142250537925484, 'e2': 8.384793203008115, 'e3': 7.876003003787509, 'e4': 6.104278921902957, 'e5': 6.391883474731118},\n",
       " {'e1': 7.813543452167025, 'e2': 5.567248733300387, 'e3': 6.563961796971028, 'e4': 6.711884347551729, 'e5': 6.842756779988694},\n",
       " {'e1': 6.404605148921533, 'e2': 7.808491113295379, 'e3': 7.930677743257929, 'e4': 7.2988436941232, 'e5': 6.64579086157375},\n",
       " {'e1': 7.599342775425386, 'e2': 5.809503221280523, 'e3': 6.3469950666892085, 'e4': 7.945322711931797, 'e5': 9.839356119495152},\n",
       " {'e1': 7.521067037752153, 'e2': 5.429703625117863, 'e3': 6.357882668665531, 'e4': 7.6191287097020375, 'e5': 6.479400255723098},\n",
       " {'e1': 5.754698987783739, 'e2': 3.917238873451643, 'e3': 4.609724140092811, 'e4': 7.036100069381782, 'e5': 7.34226811451831},\n",
       " {'e1': 9.43725273803072, 'e2': 7.810931069520214, 'e3': 7.809092056518403, 'e4': 5.338517986554616, 'e5': 6.749941774330386},\n",
       " {'e1': 7.706636030359771, 'e2': 6.933602249973807, 'e3': 7.770731639724527, 'e4': 8.012372875657173, 'e5': 4.412908011150984},\n",
       " {'e1': 8.19004082003707, 'e2': 7.512728438510155, 'e3': 7.74959635623447, 'e4': 6.4611329112554765, 'e5': 6.780040872960729},\n",
       " {'e1': 6.16150725921243, 'e2': 8.364564079667712, 'e3': 7.607799448955765, 'e4': 5.600717155401523, 'e5': 7.13798299333695},\n",
       " {'e1': 5.0036510580609646, 'e2': 5.991575806650708, 'e3': 5.1489215383862685, 'e4': 5.407791739529008, 'e5': 8.536919368655175},\n",
       " {'e1': 7.962354015029643, 'e2': 8.695807420322385, 'e3': 5.1247429619996, 'e4': 7.057785573600638, 'e5': 6.414007833962554},\n",
       " {'e1': 7.136551645281331, 'e2': 6.1216097622922, 'e3': 7.212541219668138, 'e4': 6.449617394815003, 'e5': 5.915349070705079},\n",
       " {'e1': 7.117185892542334, 'e2': 4.756512852410097, 'e3': 7.604191398157804, 'e4': 8.092616156433909, 'e5': 8.131683493251204},\n",
       " {'e1': 7.7605446705454915, 'e2': 6.728341661013943, 'e3': 6.462514077714973, 'e4': 6.43229024002382, 'e5': 7.666251807678099},\n",
       " {'e1': 5.97644406740072, 'e2': 8.184636739891106, 'e3': 6.487137886409994, 'e4': 6.632484769321393, 'e5': 6.18056194776676},\n",
       " {'e1': 5.422020788529352, 'e2': 6.867801966472536, 'e3': 9.001670155355633, 'e4': 7.6925048854394635, 'e5': 8.25909662077079},\n",
       " {'e1': 7.5605962266206985, 'e2': 7.901240830384628, 'e3': 5.652073266061325, 'e4': 7.116951806128939, 'e5': 6.824191033189901},\n",
       " {'e1': 5.623196775929171, 'e2': 4.925133275423957, 'e3': 7.0696220682191715, 'e4': 7.366220209879469, 'e5': 7.199640745899321},\n",
       " {'e1': 7.926405186207373, 'e2': 8.592262868695636, 'e3': 5.009453974300324, 'e4': 7.3612425066067235, 'e5': 9.559002967572882},\n",
       " {'e1': 7.677362885697797, 'e2': 6.390050310989912, 'e3': 7.625221591388997, 'e4': 6.138668708669584, 'e5': 8.405187610147733},\n",
       " {'e1': 6.529360174025664, 'e2': 7.328761697109785, 'e3': 6.71923739879788, 'e4': 7.416378989467233, 'e5': 8.37858973075472},\n",
       " {'e1': 6.881109400418013, 'e2': 7.3976840310319565, 'e3': 6.243033979292661, 'e4': 6.944543767944273, 'e5': 7.947216043394418},\n",
       " {'e1': 8.669219212135745, 'e2': 7.197652058747751, 'e3': 5.31440353473908, 'e4': 5.351162159306918, 'e5': 6.531453290178648},\n",
       " {'e1': 5.9459491018950414, 'e2': 6.400999078221622, 'e3': 5.7538219809655455, 'e4': 6.898374718976971, 'e5': 6.535919283414599},\n",
       " {'e1': 7.349938976348706, 'e2': 5.587177819011724, 'e3': 6.772693935649048, 'e4': 7.4132377301236545, 'e5': 5.741484307138321},\n",
       " {'e1': 8.927336254623341, 'e2': 7.566037183703939, 'e3': 6.157679538345497, 'e4': 7.291108867838777, 'e5': 6.066007794254576},\n",
       " {'e1': 7.296759508466114, 'e2': 7.126976072151969, 'e3': 7.891315205097209, 'e4': 8.314197489277866, 'e5': 6.700420613674178},\n",
       " {'e1': 7.248674296335914, 'e2': 8.594683599894363, 'e3': 7.026090432576022, 'e4': 6.834619274594587, 'e5': 8.092076573162155},\n",
       " {'e1': 7.778303550846535, 'e2': 6.400370085268712, 'e3': 7.578499237103431, 'e4': 8.416999450970305, 'e5': 6.964677695614062},\n",
       " {'e1': 5.762289029141174, 'e2': 8.083710136191558, 'e3': 7.433599515952014, 'e4': 8.228915865233851, 'e5': 5.216390279396356},\n",
       " {'e1': 6.846358041582085, 'e2': 7.577245413279535, 'e3': 7.477209297706695, 'e4': 9.025700116506517, 'e5': 4.872709306052219},\n",
       " {'e1': 7.374849497741096, 'e2': 8.14992650186672, 'e3': 9.020392782684167, 'e4': 7.942334895051043, 'e5': 8.810453686575007},\n",
       " {'e1': 5.4120368443791715, 'e2': 8.234268078678959, 'e3': 9.44979818298847, 'e4': 7.745649451586737, 'e5': 8.323560839271165},\n",
       " {'e1': 9.259162169392164, 'e2': 4.929190569511307, 'e3': 6.697669834967778, 'e4': 8.04066276993626, 'e5': 7.372079001853906},\n",
       " {'e1': 7.038479125283046, 'e2': 5.994155339643172, 'e3': 6.711703270466392, 'e4': 6.655003422394361, 'e5': 8.33520354453501},\n",
       " {'e1': 7.251352822838062, 'e2': 9.374550297789936, 'e3': 7.0520505471646135, 'e4': 5.686103354189464, 'e5': 5.950369665640053},\n",
       " {'e1': 7.465530301860397, 'e2': 8.15446317949611, 'e3': 7.484330404936075, 'e4': 7.1582442034928055, 'e5': 6.779096724853367},\n",
       " {'e1': 7.851037415813632, 'e2': 6.686683338868369, 'e3': 5.904116322452529, 'e4': 6.175828073907818, 'e5': 8.232996645836003},\n",
       " {'e1': 6.959067601948619, 'e2': 6.55063766418813, 'e3': 7.2621254395989965, 'e4': 5.667657257380641, 'e5': 7.486181435556184},\n",
       " {'e1': 8.057295717459594, 'e2': 6.0847464038578725, 'e3': 6.525363744900184, 'e4': 5.98577152999692, 'e5': 5.733686743920481},\n",
       " {'e1': 6.594102061392829, 'e2': 6.518676641591355, 'e3': 4.936234401206892, 'e4': 7.664119668169703, 'e5': 7.14454357190162},\n",
       " {'e1': 6.259056218751446, 'e2': 7.747462675101524, 'e3': 7.7299134328945955, 'e4': 7.247391131643063, 'e5': 7.776419124113854},\n",
       " {'e1': 7.709129154707622, 'e2': 6.974284611807375, 'e3': 6.951062669848133, 'e4': 6.901023995143534, 'e5': 7.34773437003019},\n",
       " {'e1': 7.208960994324712, 'e2': 6.716203708309099, 'e3': 8.07531414286748, 'e4': 9.409624594392577, 'e5': 6.242660007120023},\n",
       " {'e1': 6.565069869886545, 'e2': 5.6673870505533035, 'e3': 7.185513390399177, 'e4': 8.151477834323497, 'e5': 7.157641914896074},\n",
       " {'e1': 7.727941105808724, 'e2': 8.251008598522043, 'e3': 6.056551227265946, 'e4': 6.891849576096627, 'e5': 7.966321877548949},\n",
       " {'e1': 6.207282211964127, 'e2': 7.21480707092592, 'e3': 8.950677864587306, 'e4': 4.955804783270626, 'e5': 7.06055085040593},\n",
       " {'e1': 7.992309267786391, 'e2': 5.058297754059834, 'e3': 8.417882316287127, 'e4': 7.931250930412593, 'e5': 7.331727862751757},\n",
       " {'e1': 7.624175057409975, 'e2': 5.660857124741272, 'e3': 8.103979663586863, 'e4': 6.07777144566976, 'e5': 6.980043594486027},\n",
       " {'e1': 6.511186491467447, 'e2': 5.359933176845197, 'e3': 7.295550044739353, 'e4': 4.166573991362069, 'e5': 6.895033662207876},\n",
       " {'e1': 6.572120031755924, 'e2': 7.883710113397536, 'e3': 9.447551622157366, 'e4': 6.564905096915223, 'e5': 8.398110691949631},\n",
       " {'e1': 6.753739539705557, 'e2': 6.518389284692247, 'e3': 5.933978976881619, 'e4': 8.13291871807607, 'e5': 6.578313002717599},\n",
       " {'e1': 8.712846891050797, 'e2': 6.7581639700503064, 'e3': 5.959556055172152, 'e4': 5.648925570543778, 'e5': 7.110743690795419},\n",
       " {'e1': 8.226382040375299, 'e2': 6.746866258044811, 'e3': 8.523994013052535, 'e4': 7.1244342844049555, 'e5': 6.35172718769958},\n",
       " {'e1': 6.11767070977784, 'e2': 6.1641502795499905, 'e3': 5.309618337946304, 'e4': 7.736066931030944, 'e5': 5.031899028622167},\n",
       " {'e1': 7.999295757912515, 'e2': 4.764814381837092, 'e3': 9.253317743664159, 'e4': 6.007762608355237, 'e5': 6.807865533191434},\n",
       " {'e1': 6.116791430455081, 'e2': 6.245703277913607, 'e3': 7.859361125933388, 'e4': 7.669822003256334, 'e5': 7.059305349356996},\n",
       " {'e1': 6.515635015453993, 'e2': 5.3834910668930975, 'e3': 7.1825042066133475, 'e4': 5.707856968369068, 'e5': 7.585880033586037},\n",
       " {'e1': 6.8810140538901825, 'e2': 5.160618502258325, 'e3': 6.688927895500798, 'e4': 7.193955040939154, 'e5': 6.833614130638142},\n",
       " {'e1': 6.45662177820914, 'e2': 6.550372853162741, 'e3': 6.159439795246452, 'e4': 6.564267846493371, 'e5': 6.644595635409466},\n",
       " {'e1': 7.318441434961496, 'e2': 5.084371652926478, 'e3': 7.849191887221169, 'e4': 7.137334382667834, 'e5': 6.425082986348829},\n",
       " {'e1': 6.239456349389465, 'e2': 6.843026176965874, 'e3': 7.5281880081706305, 'e4': 7.181573080544751, 'e5': 7.433704274766373},\n",
       " {'e1': 7.117872647770347, 'e2': 5.079687928167116, 'e3': 7.949372030992338, 'e4': 7.446474995425614, 'e5': 6.193275025058584},\n",
       " {'e1': 7.289377993148205, 'e2': 7.796975207344295, 'e3': 5.455218914757172, 'e4': 5.717932007208371, 'e5': 6.4011796690093234},\n",
       " {'e1': 6.288975095807384, 'e2': 5.458930073403332, 'e3': 6.588970707829896, 'e4': 5.857625759976539, 'e5': 6.432054699746402},\n",
       " {'e1': 7.416242746369217, 'e2': 6.120505527027856, 'e3': 6.22410553458935, 'e4': 8.227541645348802, 'e5': 8.207444400876593},\n",
       " {'e1': 7.138868280786506, 'e2': 7.440242454365224, 'e3': 7.959436061398434, 'e4': 5.938458359219291, 'e5': 8.449134019176393},\n",
       " {'e1': 6.423288949648063, 'e2': 5.683270509565419, 'e3': 6.919773435408494, 'e4': 6.4925155025393835, 'e5': 4.719785063935428},\n",
       " {'e1': 7.796240569435648, 'e2': 5.476805935618528, 'e3': 6.368701949951921, 'e4': 8.473322342423774, 'e5': 7.8917506563418085},\n",
       " {'e1': 6.688986886029774, 'e2': 8.876161511462284, 'e3': 7.427818524923967, 'e4': 7.15640386274134, 'e5': 7.004516516826038},\n",
       " {'e1': 6.760427338763104, 'e2': 6.710819552148968, 'e3': 5.621490837970408, 'e4': 8.03735849551536, 'e5': 6.3758174874853895},\n",
       " {'e1': 5.84374981796323, 'e2': 6.4352041605934565, 'e3': 6.31358173393366, 'e4': 5.825824243177919, 'e5': 6.184754731193},\n",
       " {'e1': 6.590000133790186, 'e2': 4.849254982763965, 'e3': 8.989574129244211, 'e4': 5.771558295355606, 'e5': 7.745707561924941},\n",
       " {'e1': 8.351062660511113, 'e2': 5.608223355930253, 'e3': 7.455221029359793, 'e4': 6.953674877657225, 'e5': 6.967744021250671},\n",
       " {'e1': 6.501862251912156, 'e2': 7.66630787969537, 'e3': 6.5689809105892945, 'e4': 8.593864190057934, 'e5': 6.496311542199461},\n",
       " {'e1': 4.5120253324547805, 'e2': 6.249924891941917, 'e3': 6.556867995450889, 'e4': 7.279719372769401, 'e5': 6.9461201851615595},\n",
       " {'e1': 7.560138903508835, 'e2': 7.580677963735065, 'e3': 4.838004794363648, 'e4': 7.102438870343036, 'e5': 6.868676755849673},\n",
       " {'e1': 6.406782172447293, 'e2': 6.593755409752945, 'e3': 6.105892567592453, 'e4': 7.670921624841753, 'e5': 7.910822525443514},\n",
       " {'e1': 6.762799367314996, 'e2': 8.544932908334223, 'e3': 6.657691060909338, 'e4': 7.201006179257356, 'e5': 5.595622456041261},\n",
       " {'e1': 5.685838783931977, 'e2': 7.5507801652555475, 'e3': 7.527055351642517, 'e4': 6.297762851542252, 'e5': 7.162147395555814},\n",
       " {'e1': 6.97143365695416, 'e2': 5.3921400122694765, 'e3': 5.33130210952764, 'e4': 7.1491294618616354, 'e5': 9.045526877422239},\n",
       " {'e1': 7.406680238945956, 'e2': 8.132424790229676, 'e3': 7.465552396082806, 'e4': 7.3585255737678885, 'e5': 5.893933958355008},\n",
       " {'e1': 6.671167724769407, 'e2': 5.510319594444879, 'e3': 8.716102142769625, 'e4': 7.605905120226406, 'e5': 7.650212384063788},\n",
       " {'e1': 5.755675615082692, 'e2': 4.259539733788765, 'e3': 8.464281189252935, 'e4': 8.878147063004697, 'e5': 7.01193132602518},\n",
       " {'e1': 6.704038296723201, 'e2': 5.50746856004369, 'e3': 7.242076003554048, 'e4': 7.040094836078533, 'e5': 6.3817887757963545},\n",
       " {'e1': 5.386483259597074, 'e2': 5.715524160406829, 'e3': 8.221375184252768, 'e4': 6.631740458699742, 'e5': 5.023676522744465},\n",
       " {'e1': 8.915756205859218, 'e2': 4.726231070037856, 'e3': 6.534820526640758, 'e4': 8.455112279981606, 'e5': 8.09627944341472},\n",
       " {'e1': 9.107357997159541, 'e2': 7.806035126798559, 'e3': 8.698412799937438, 'e4': 5.775572076838083, 'e5': 6.004779477474703},\n",
       " {'e1': 7.809697549736142, 'e2': 7.200635097678528, 'e3': 6.929793454068311, 'e4': 5.9639146388350435, 'e5': 7.056942934454369},\n",
       " {'e1': 5.605228992633856, 'e2': 6.602638863217519, 'e3': 7.705571556711388, 'e4': 6.5490860875621575, 'e5': 7.192321322305882},\n",
       " {'e1': 9.400327942874865, 'e2': 5.517465866024649, 'e3': 7.828235192149306, 'e4': 8.467027066924956, 'e5': 5.115037546564639},\n",
       " {'e1': 5.325673272711121, 'e2': 7.121515899927059, 'e3': 9.094085714376268, 'e4': 7.384275353342464, 'e5': 8.282328635828897},\n",
       " {'e1': 7.140094898654505, 'e2': 7.415413637245747, 'e3': 4.791634435624425, 'e4': 6.11994194242448, 'e5': 5.594341301902429},\n",
       " {'e1': 6.25808450509259, 'e2': 5.963989411984594, 'e3': 7.666912535779783, 'e4': 6.600523751730863, 'e5': 8.052888631887484},\n",
       " {'e1': 5.477912100627973, 'e2': 6.435926108303658, 'e3': 8.512070295901419, 'e4': 5.222537701146963, 'e5': 7.5087595286513515},\n",
       " {'e1': 6.8460785890536595, 'e2': 6.33962752880393, 'e3': 7.762389316917886, 'e4': 8.50041251738656, 'e5': 5.22595420011753},\n",
       " {'e1': 9.379133066489704, 'e2': 6.316493778700689, 'e3': 7.271972037332668, 'e4': 7.442631728023796, 'e5': 6.776733005888275},\n",
       " {'e1': 8.257840222091868, 'e2': 8.053561241709476, 'e3': 5.94397990414344, 'e4': 7.318265608208852, 'e5': 8.468983266480487},\n",
       " {'e1': 7.531598414199435, 'e2': 7.483307951835714, 'e3': 6.928133274671358, 'e4': 7.322528569244597, 'e5': 6.259356374069401},\n",
       " {'e1': 7.927786431493749, 'e2': 7.634112847457238, 'e3': 8.129080705601826, 'e4': 7.641388692726074, 'e5': 6.413741412067905},\n",
       " {'e1': 5.487057681736979, 'e2': 4.669999251935082, 'e3': 6.753434017476648, 'e4': 6.546608974744795, 'e5': 5.344258762695811},\n",
       " {'e1': 6.976499962343075, 'e2': 4.106569779305394, 'e3': 8.240392550883685, 'e4': 6.1600550389595226, 'e5': 7.31634600703665},\n",
       " {'e1': 7.630686922765542, 'e2': 9.56924518948872, 'e3': 8.736810597142405, 'e4': 6.063225037064771, 'e5': 7.297480651528988},\n",
       " {'e1': 6.012802878189524, 'e2': 6.463096235831351, 'e3': 7.590517486046018, 'e4': 8.009672042407868, 'e5': 7.6568053954455735},\n",
       " {'e1': 7.610721572317574, 'e2': 7.174607753719818, 'e3': 7.011375075057365, 'e4': 8.462569140044337, 'e5': 6.158383812334736},\n",
       " {'e1': 6.20426554560609, 'e2': 5.455753105983124, 'e3': 5.356014853730519, 'e4': 6.7465172908275095, 'e5': 6.7682411962791456},\n",
       " {'e1': 7.439723582182503, 'e2': 7.866907307198279, 'e3': 7.329527312088748, 'e4': 8.53243295855566, 'e5': 7.587964267660913},\n",
       " {'e1': 8.505694770628946, 'e2': 7.971408280416085, 'e3': 7.4970383618404535, 'e4': 6.132908610581518, 'e5': 7.593383114270975},\n",
       " {'e1': 6.790976042293316, 'e2': 7.551242573233454, 'e3': 5.625686155522688, 'e4': 6.8299154609947585, 'e5': 6.330450117201358},\n",
       " {'e1': 7.552594496677044, 'e2': 6.959217304091079, 'e3': 6.15141590276249, 'e4': 6.750628176728763, 'e5': 7.704506623695746},\n",
       " {'e1': 7.987164125465389, 'e2': 9.451896285750154, 'e3': 7.500552990182354, 'e4': 7.405042985061099, 'e5': 6.054793231369903},\n",
       " {'e1': 6.318873193208962, 'e2': 6.2658817046284225, 'e3': 8.038442282961928, 'e4': 8.074689563971392, 'e5': 7.596762365809527},\n",
       " {'e1': 6.451534323542138, 'e2': 7.264072271419366, 'e3': 5.668150902878203, 'e4': 7.774517888025601, 'e5': 5.890874851352544},\n",
       " {'e1': 6.657374301990108, 'e2': 7.347722455465597, 'e3': 5.648936590829645, 'e4': 6.542104511829545, 'e5': 5.777209724136641},\n",
       " {'e1': 5.8212855332988, 'e2': 7.329056139182749, 'e3': 6.642741870087508, 'e4': 6.522258158814628, 'e5': 6.12050357651904},\n",
       " {'e1': 6.993115960281263, 'e2': 7.092357912916102, 'e3': 7.465751967648215, 'e4': 7.545025623711191, 'e5': 7.424400750587094},\n",
       " {'e1': 4.909120990156087, 'e2': 7.830205084423708, 'e3': 7.143026294417457, 'e4': 5.733687008352853, 'e5': 7.501806812143218},\n",
       " {'e1': 7.576336878803066, 'e2': 9.323687126844767, 'e3': 6.859057722381853, 'e4': 7.54126312861564, 'e5': 8.14134937573867},\n",
       " {'e1': 7.510879595104559, 'e2': 5.663800648406464, 'e3': 7.670781666803717, 'e4': 7.289200203105745, 'e5': 7.997063617673622},\n",
       " {'e1': 6.112410950393153, 'e2': 7.04956545411522, 'e3': 8.178863210968856, 'e4': 4.651621244852153, 'e5': 5.894062525311957},\n",
       " {'e1': 6.961436580193434, 'e2': 7.9899622911242645, 'e3': 7.687932308925771, 'e4': 6.441181767170188, 'e5': 8.505778195323238},\n",
       " {'e1': 6.3041343320160035, 'e2': 7.266579454779591, 'e3': 7.758716100330254, 'e4': 7.639551013003544, 'e5': 6.805230322238136},\n",
       " {'e1': 6.853320746750946, 'e2': 8.071935818753502, 'e3': 8.37991418354323, 'e4': 7.5093686296508295, 'e5': 7.339221189373787},\n",
       " {'e1': 8.22477404528678, 'e2': 5.730794596156983, 'e3': 6.2799331321021965, 'e4': 7.124219173102794, 'e5': 6.957396620078253},\n",
       " {'e1': 5.094310353697722, 'e2': 5.441336665350839, 'e3': 6.378540936948241, 'e4': 7.7312529521274955, 'e5': 7.452085104771789},\n",
       " {'e1': 6.851165748072732, 'e2': 6.1018921501789665, 'e3': 9.186221627679481, 'e4': 6.594523398720281, 'e5': 7.0121723373568905},\n",
       " {'e1': 6.196288950906165, 'e2': 6.901411005860546, 'e3': 7.886589531989411, 'e4': 5.878373775934105, 'e5': 6.222351453809427},\n",
       " {'e1': 6.428686135365105, 'e2': 4.737376718151386, 'e3': 7.2072714840948615, 'e4': 7.008379738254653, 'e5': 6.250764878655099},\n",
       " {'e1': 7.756882539192997, 'e2': 7.385156967786679, 'e3': 6.756996088419899, 'e4': 7.607429331827256, 'e5': 7.669696274321355},\n",
       " {'e1': 7.968292919705292, 'e2': 6.814778263544124, 'e3': 6.5667298906529, 'e4': 6.759039048089163, 'e5': 5.386777918867614},\n",
       " {'e1': 5.9489809688821875, 'e2': 6.141773477093051, 'e3': 5.651074559157449, 'e4': 7.240197371630888, 'e5': 6.1478984070802065},\n",
       " {'e1': 8.221502471309503, 'e2': 7.365637907173403, 'e3': 5.524336887531726, 'e4': 6.356045581721226, 'e5': 5.924033348829206},\n",
       " {'e1': 8.023933923449938, 'e2': 7.411241881338132, 'e3': 5.712644324553304, 'e4': 8.078108047019343, 'e5': 7.557838156892525},\n",
       " {'e1': 4.9603671033257815, 'e2': 6.5129697412486385, 'e3': 5.477771520578691, 'e4': 7.633693025363236, 'e5': 7.098548692182832},\n",
       " {'e1': 6.781267060502676, 'e2': 7.693766484450951, 'e3': 4.806276596903, 'e4': 5.957411630652994, 'e5': 7.308740784054785},\n",
       " {'e1': 7.720418052268451, 'e2': 6.434371605832182, 'e3': 8.720014417337602, 'e4': 6.9496316534686535, 'e5': 8.746227082346303},\n",
       " {'e1': 5.698695286186468, 'e2': 7.9394105610298, 'e3': 8.536445720290558, 'e4': 8.36439887002449, 'e5': 8.884082424983225},\n",
       " {'e1': 7.101861936679937, 'e2': 7.133132355788521, 'e3': 7.006162656849055, 'e4': 8.621101787339235, 'e5': 7.3282595118067455},\n",
       " {'e1': 7.176067281078307, 'e2': 6.093871310951586, 'e3': 5.35917514797924, 'e4': 5.272273812977136, 'e5': 7.693587207873577},\n",
       " {'e1': 8.902476928016313, 'e2': 9.269705601001414, 'e3': 6.554541181993097, 'e4': 5.951468724154722, 'e5': 6.153735429575847},\n",
       " {'e1': 6.774666942277597, 'e2': 7.47355946093074, 'e3': 6.279292661512628, 'e4': 8.390108926650035, 'e5': 6.262940044977388},\n",
       " {'e1': 5.993729855789731, 'e2': 6.43427097982039, 'e3': 8.113883106287236, 'e4': 5.223089652196725, 'e5': 6.127724926462719},\n",
       " {'e1': 6.411542689502124, 'e2': 8.338859620087616, 'e3': 7.10349028950581, 'e4': 7.167001001450241, 'e5': 7.336818647790785},\n",
       " {'e1': 6.0771831641993, 'e2': 7.843728796171233, 'e3': 6.053608964976157, 'e4': 8.219181307704595, 'e5': 7.124195707341292},\n",
       " {'e1': 7.789106460560526, 'e2': 8.023266237784695, 'e3': 6.042448229959763, 'e4': 6.116442722860471, 'e5': 7.094065791826887},\n",
       " {'e1': 7.535451391262582, 'e2': 6.882058582862799, 'e3': 8.481516099211987, 'e4': 6.584007222611778, 'e5': 8.68716156493984},\n",
       " {'e1': 5.746588939646692, 'e2': 9.479548799520575, 'e3': 5.278121291226734, 'e4': 5.198046582964817, 'e5': 8.539937852265677},\n",
       " {'e1': 8.534098109274773, 'e2': 7.303493174215792, 'e3': 7.319524560038963, 'e4': 6.8812276341437055, 'e5': 7.836946248556239},\n",
       " {'e1': 5.893304403912859, 'e2': 6.252496508155951, 'e3': 7.275495105048151, 'e4': 7.801640323662438, 'e5': 5.775606147661631},\n",
       " {'e1': 8.078687522128414, 'e2': 5.688266133166016, 'e3': 7.145635240346648, 'e4': 7.660420737964548, 'e5': 6.282377524741953},\n",
       " {'e1': 7.93178578060418, 'e2': 8.817238328322054, 'e3': 6.392082741052731, 'e4': 5.849849004765132, 'e5': 6.808570814863642},\n",
       " {'e1': 7.815279304360279, 'e2': 5.120177165168716, 'e3': 6.196497404954112, 'e4': 7.217612838844691, 'e5': 5.802674973213233},\n",
       " {'e1': 8.30091230927442, 'e2': 7.416612137075951, 'e3': 8.200967353889506, 'e4': 7.520123364827348, 'e5': 7.336984688772626},\n",
       " {'e1': 8.439435938403912, 'e2': 8.375298132336775, 'e3': 5.135604726731017, 'e4': 5.932160753372188, 'e5': 6.192012554458556},\n",
       " {'e1': 7.612408919508664, 'e2': 7.620776242914467, 'e3': 4.933311742270948, 'e4': 6.676142932893712, 'e5': 6.2159044918859},\n",
       " {'e1': 7.597337039209528, 'e2': 7.8010891934959945, 'e3': 9.607164849410509, 'e4': 7.316144442749066, 'e5': 7.02996287849515},\n",
       " {'e1': 7.25584488810565, 'e2': 5.359288466398558, 'e3': 6.536910437324316, 'e4': 8.790522292038936, 'e5': 7.902786200109193},\n",
       " {'e1': 6.268406366038321, 'e2': 5.575082333553805, 'e3': 6.895594535070336, 'e4': 7.480882477277071, 'e5': 6.620137277922949},\n",
       " {'e1': 6.673439499108551, 'e2': 6.441197276167958, 'e3': 6.7076065723647, 'e4': 8.6475744941624, 'e5': 7.978032978408099},\n",
       " {'e1': 8.302161387424642, 'e2': 6.677896935511392, 'e3': 5.570160868455944, 'e4': 5.966492061837219, 'e5': 6.06824942184526},\n",
       " {'e1': 6.419081394187158, 'e2': 7.599820064691355, 'e3': 8.370892422796674, 'e4': 8.24549554642821, 'e5': 6.0974464694526755},\n",
       " {'e1': 8.248442289236172, 'e2': 6.93981070667386, 'e3': 9.507353760762028, 'e4': 8.37214624096638, 'e5': 7.092778533999975},\n",
       " {'e1': 6.082979760588286, 'e2': 6.267913746590513, 'e3': 6.197343398583901, 'e4': 4.032280351678147, 'e5': 7.031958464304426},\n",
       " {'e1': 8.709830873412395, 'e2': 7.546801799063129, 'e3': 5.928952868358201, 'e4': 5.499743917171078, 'e5': 8.044898515904507},\n",
       " {'e1': 5.843959470642904, 'e2': 5.993985177941539, 'e3': 5.779198191680512, 'e4': 7.886606785159825, 'e5': 7.138617532993137},\n",
       " {'e1': 7.83011286895569, 'e2': 8.369081117306317, 'e3': 4.875994066352559, 'e4': 7.560050638262795, 'e5': 8.881508708400982},\n",
       " {'e1': 7.071516344355347, 'e2': 7.979881712198588, 'e3': 8.111399906635718, 'e4': 6.801529311406713, 'e5': 5.583876943576886},\n",
       " {'e1': 7.055357361636357, 'e2': 7.216505218564182, 'e3': 5.70450563472224, 'e4': 7.473412264814611, 'e5': 5.639580081504878},\n",
       " {'e1': 7.366108702616371, 'e2': 8.69602192796216, 'e3': 5.898154228111125, 'e4': 6.437940931447527, 'e5': 7.293433770801186},\n",
       " {'e1': 7.135042276740448, 'e2': 8.142518803876378, 'e3': 5.992539686288653, 'e4': 5.904829496003969, 'e5': 7.60193615409651},\n",
       " {'e1': 6.587564813778051, 'e2': 7.358028280489167, 'e3': 7.655645263699329, 'e4': 6.077443561391737, 'e5': 5.54156066279952},\n",
       " {'e1': 9.72557635849753, 'e2': 7.38087331454297, 'e3': 8.04396887280693, 'e4': 6.953615807065784, 'e5': 6.527739002801401},\n",
       " {'e1': 8.510661450291547, 'e2': 6.763032140501688, 'e3': 6.432696705623944, 'e4': 7.038651467475709, 'e5': 7.909671191694604},\n",
       " {'e1': 8.11596547733779, 'e2': 6.30636204786109, 'e3': 6.662919130027951, 'e4': 6.910619795803582, 'e5': 8.92938947707953},\n",
       " {'e1': 7.400175421252632, 'e2': 8.169464344704885, 'e3': 7.7800253123250895, 'e4': 6.526948470539696, 'e5': 6.777610676585788},\n",
       " {'e1': 7.112426115032486, 'e2': 7.033827049174416, 'e3': 5.456802575301805, 'e4': 6.143137413623731, 'e5': 7.305508782634385},\n",
       " {'e1': 5.8612737292259345, 'e2': 5.538506096038831, 'e3': 5.8931307035439895, 'e4': 7.699016059839907, 'e5': 8.23112431492377},\n",
       " {'e1': 7.106557988268942, 'e2': 7.380036754131242, 'e3': 8.319200654884064, 'e4': 6.6349643949696375, 'e5': 7.389165297125794},\n",
       " {'e1': 8.443434795070916, 'e2': 8.77711818589417, 'e3': 6.245061933015689, 'e4': 6.481390006751212, 'e5': 4.574982357179758},\n",
       " {'e1': 5.961937805247669, 'e2': 7.666039594623237, 'e3': 6.745074973728178, 'e4': 8.33033261458497, 'e5': 6.467681453219835},\n",
       " {'e1': 7.481809126572983, 'e2': 7.748368866294628, 'e3': 7.1815596268779665, 'e4': 7.555420789174928, 'e5': 6.757136123348355},\n",
       " {'e1': 8.708968186485217, 'e2': 7.934598919478411, 'e3': 6.830413376486221, 'e4': 8.306672386006952, 'e5': 7.584978477102964},\n",
       " {'e1': 7.614312589911043, 'e2': 7.703563725487434, 'e3': 7.5336109180941335, 'e4': 6.838894327463021, 'e5': 7.014092694543395},\n",
       " {'e1': 7.2732649656558115, 'e2': 6.171553631478013, 'e3': 7.455816947810191, 'e4': 6.337932383596224, 'e5': 9.151926398915117},\n",
       " {'e1': 5.314131176565921, 'e2': 6.960420854980041, 'e3': 8.249120343372619, 'e4': 4.595821470986257, 'e5': 5.411538190107061},\n",
       " {'e1': 8.354411577976133, 'e2': 7.056021016219783, 'e3': 7.261971743546581, 'e4': 7.632470182105612, 'e5': 5.714943045887164},\n",
       " {'e1': 6.622274264987405, 'e2': 7.8400678330739115, 'e3': 8.539572289399954, 'e4': 5.841016306070508, 'e5': 6.823950652504607},\n",
       " {'e1': 6.176452410973311, 'e2': 8.018318728252376, 'e3': 9.453318393640828, 'e4': 8.197599513719577, 'e5': 5.885514693562673},\n",
       " {'e1': 7.883910137501561, 'e2': 5.610283636452177, 'e3': 5.706354907107928, 'e4': 5.329363310712368, 'e5': 8.635594773334475},\n",
       " {'e1': 7.713756462071899, 'e2': 6.972243323514706, 'e3': 7.9802107290742335, 'e4': 7.290126385877106, 'e5': 6.660643276463528},\n",
       " {'e1': 6.7841679550782406, 'e2': 5.025830173426141, 'e3': 6.198059674963383, 'e4': 7.45872732555414, 'e5': 4.789445969973547},\n",
       " {'e1': 7.014247001887402, 'e2': 7.382178216710926, 'e3': 8.618902558088363, 'e4': 5.79511956294045, 'e5': 6.31976800128759},\n",
       " {'e1': 8.114991242249339, 'e2': 6.127895786617573, 'e3': 6.4505382340372925, 'e4': 8.493368602447958, 'e5': 6.381375212243452},\n",
       " {'e1': 8.138598799971925, 'e2': 7.17011803216945, 'e3': 5.569727298175559, 'e4': 6.0252747844609935, 'e5': 7.273309106572903},\n",
       " {'e1': 8.43696498971174, 'e2': 6.579767502558021, 'e3': 4.618069575580167, 'e4': 8.01109416548015, 'e5': 5.14339176392001},\n",
       " {'e1': 5.4798470595020055, 'e2': 6.745244389104116, 'e3': 7.248316320732121, 'e4': 8.22202369049518, 'e5': 5.882757854309717},\n",
       " {'e1': 7.756437750868357, 'e2': 5.863936936118433, 'e3': 7.016221353885813, 'e4': 6.925162039980626, 'e5': 6.468935739815468},\n",
       " {'e1': 5.968625774438222, 'e2': 5.1948862845890345, 'e3': 5.585955629641417, 'e4': 6.1063675881968456, 'e5': 8.13853528805372},\n",
       " {'e1': 5.972294935468499, 'e2': 6.631809436293741, 'e3': 7.760466485749799, 'e4': 7.722543676184206, 'e5': 7.861931011634077},\n",
       " {'e1': 7.577744954147922, 'e2': 5.3931911674446695, 'e3': 7.329632215748689, 'e4': 7.266083946755555, 'e5': 5.134490902673615},\n",
       " {'e1': 9.183007275170581, 'e2': 7.727028197767158, 'e3': 6.872789892510476, 'e4': 6.726065418723728, 'e5': 6.2996645005031935},\n",
       " {'e1': 8.690936158698229, 'e2': 5.894393920984988, 'e3': 5.401415601627226, 'e4': 5.349018070793529, 'e5': 8.820626002120441},\n",
       " {'e1': 7.469009525316899, 'e2': 7.071910195240874, 'e3': 7.274836852820658, 'e4': 5.898923594669007, 'e5': 6.207197237911242},\n",
       " {'e1': 8.32775182699252, 'e2': 5.106529819369266, 'e3': 8.197867896254868, 'e4': 5.994559534954253, 'e5': 7.1954162226117475},\n",
       " {'e1': 8.494771573993182, 'e2': 7.289111332408585, 'e3': 6.350458971937536, 'e4': 6.0597583264776596, 'e5': 6.258308299686698},\n",
       " {'e1': 7.401068896208689, 'e2': 8.127695261345904, 'e3': 9.182779529234436, 'e4': 8.921940994640632, 'e5': 8.705598268648705},\n",
       " {'e1': 8.391041607752138, 'e2': 8.027814621232945, 'e3': 8.629456712399877, 'e4': 5.818905813271286, 'e5': 7.830780096965247},\n",
       " {'e1': 7.079250172085246, 'e2': 6.659806138403168, 'e3': 4.7860977763881465, 'e4': 6.160083322917653, 'e5': 7.829016184350588},\n",
       " {'e1': 4.793153516435516, 'e2': 6.963491443364794, 'e3': 5.999528835395713, 'e4': 6.934450686608934, 'e5': 8.001458710250134},\n",
       " {'e1': 6.954880195494867, 'e2': 6.888217605556999, 'e3': 6.994067017068079, 'e4': 6.582899606163128, 'e5': 6.939919301744377},\n",
       " {'e1': 6.174076536898967, 'e2': 6.76435719555397, 'e3': 7.757084310217751, 'e4': 5.652698447785742, 'e5': 7.097026047797913},\n",
       " {'e1': 7.7917679311344195, 'e2': 6.242659073535246, 'e3': 6.948295570541978, 'e4': 6.271209119912586, 'e5': 7.74663858054611},\n",
       " {'e1': 8.094306636327481, 'e2': 6.450255741184811, 'e3': 6.258644179736126, 'e4': 4.683703534307032, 'e5': 8.254450030782401},\n",
       " {'e1': 7.872352142158713, 'e2': 7.533478145295169, 'e3': 6.27163317685091, 'e4': 5.976662130250515, 'e5': 6.343249135148975},\n",
       " {'e1': 5.743160018541896, 'e2': 7.905782206032937, 'e3': 7.371115275113561, 'e4': 6.756871808739143, 'e5': 7.301175115352177},\n",
       " {'e1': 8.01640841452458, 'e2': 8.408972139601403, 'e3': 8.171565264924578, 'e4': 7.5458481932622306, 'e5': 6.755379066237091},\n",
       " {'e1': 8.579933489606212, 'e2': 8.39763528308323, 'e3': 6.239176694168, 'e4': 7.584634056550499, 'e5': 6.978196030520036},\n",
       " {'e1': 9.63703521546099, 'e2': 8.850308892344504, 'e3': 8.558478033851701, 'e4': 6.46737760205967, 'e5': 7.158994514367951},\n",
       " {'e1': 7.472399838878136, 'e2': 7.184490642452475, 'e3': 6.765548134635288, 'e4': 6.686293580860962, 'e5': 5.798577248720158},\n",
       " {'e1': 9.020793857692855, 'e2': 6.154556479813452, 'e3': 5.27268412777981, 'e4': 8.163242657730253, 'e5': 7.800911371829147},\n",
       " {'e1': 9.284995888262332, 'e2': 6.290694890791171, 'e3': 9.536328514159454, 'e4': 7.790877955075625, 'e5': 6.696207864423566},\n",
       " {'e1': 8.844934877806464, 'e2': 6.692219907922948, 'e3': 6.7750574684117915, 'e4': 7.7674554406977165, 'e5': 7.270104622496274},\n",
       " {'e1': 7.19751833654909, 'e2': 5.691375630618802, 'e3': 6.598124947301324, 'e4': 5.689764729585964, 'e5': 5.902224053432976},\n",
       " {'e1': 5.017127520288907, 'e2': 5.183956963343374, 'e3': 7.048603355620451, 'e4': 8.275124599566077, 'e5': 6.702492781312394},\n",
       " {'e1': 5.830735536112784, 'e2': 5.902863203146999, 'e3': 7.8728787604599075, 'e4': 4.63827595074665, 'e5': 5.6811629550267115},\n",
       " {'e1': 6.06465085581633, 'e2': 6.943646790060479, 'e3': 8.92232944294772, 'e4': 7.896017134731545, 'e5': 5.99450670373182},\n",
       " {'e1': 7.593024246770485, 'e2': 7.26948866816286, 'e3': 7.0514174328258115, 'e4': 7.015046746231952, 'e5': 8.763555013568116},\n",
       " {'e1': 5.581065547337303, 'e2': 7.43148083846803, 'e3': 7.820228533730045, 'e4': 8.544384524759952, 'e5': 6.899759947564424},\n",
       " {'e1': 8.01702259790871, 'e2': 5.461900884546495, 'e3': 6.000292926795277, 'e4': 5.804130232772116, 'e5': 6.7452215219063305},\n",
       " {'e1': 8.859954827421578, 'e2': 6.080096388774309, 'e3': 7.116455610453751, 'e4': 4.991460151423863, 'e5': 7.147676152665974},\n",
       " {'e1': 5.2275915868221885, 'e2': 8.42246589892328, 'e3': 7.796534063712623, 'e4': 7.379218189182771, 'e5': 5.77781241722301},\n",
       " {'e1': 7.9016516563183, 'e2': 8.11657278155537, 'e3': 7.287221359483515, 'e4': 6.85113867252831, 'e5': 6.669336621355762},\n",
       " {'e1': 7.483404321878549, 'e2': 6.788232601926016, 'e3': 6.11167478124732, 'e4': 8.27000881000578, 'e5': 6.2171720182263455},\n",
       " {'e1': 6.251146472489142, 'e2': 6.294561846523528, 'e3': 4.521600287239825, 'e4': 6.5711648050452975, 'e5': 4.963882315696845},\n",
       " {'e1': 6.819216115439719, 'e2': 5.008367941953314, 'e3': 7.275758585824576, 'e4': 5.35640229528962, 'e5': 6.340444091584089},\n",
       " {'e1': 7.168949011501854, 'e2': 7.711273492959626, 'e3': 8.353900639044209, 'e4': 7.564756481643582, 'e5': 7.429024892389002},\n",
       " {'e1': 5.091204372179667, 'e2': 7.323957215043727, 'e3': 7.214224613640594, 'e4': 6.794513277490996, 'e5': 6.021095229434063},\n",
       " {'e1': 7.678108708213584, 'e2': 6.8423972275070115, 'e3': 5.9774227963024344, 'e4': 8.330058494917147, 'e5': 6.040717089756492},\n",
       " {'e1': 8.920034231592002, 'e2': 6.9471550004720735, 'e3': 7.957470314367165, 'e4': 6.2167959022995385, 'e5': 7.179474895556841},\n",
       " {'e1': 6.315299318219655, 'e2': 6.041863084392967, 'e3': 7.817578764246177, 'e4': 8.526931065248412, 'e5': 6.3745351814263245},\n",
       " {'e1': 6.845774889885039, 'e2': 5.7994134927152095, 'e3': 5.8896308088726, 'e4': 6.563822361362086, 'e5': 6.632275730335622},\n",
       " {'e1': 6.7212305533131635, 'e2': 7.317171911873656, 'e3': 7.077663164475292, 'e4': 7.64888781257092, 'e5': 7.736958943533654},\n",
       " {'e1': 7.210253972332587, 'e2': 6.087814045252587, 'e3': 5.114529573507205, 'e4': 7.322419496763443, 'e5': 7.4816411133354075},\n",
       " {'e1': 8.705084286401984, 'e2': 5.846302481666617, 'e3': 7.006805584827685, 'e4': 5.467882082361465, 'e5': 5.912254437788176},\n",
       " {'e1': 8.337323281285446, 'e2': 6.046488064190811, 'e3': 8.386783413083913, 'e4': 7.549752230276539, 'e5': 5.91648166487487},\n",
       " {'e1': 6.950164432347183, 'e2': 6.622605733053946, 'e3': 8.607530321340764, 'e4': 6.941745423087218, 'e5': 7.197219769881768},\n",
       " {'e1': 7.700906337181056, 'e2': 7.483675689340714, 'e3': 6.5102807998760355, 'e4': 6.694401728729022, 'e5': 7.505021850385445},\n",
       " {'e1': 6.592289852054137, 'e2': 7.014914475612254, 'e3': 6.749691976773261, 'e4': 6.309837828260225, 'e5': 6.807309612383712},\n",
       " {'e1': 8.511135889244633, 'e2': 7.126756576624063, 'e3': 7.704610818549689, 'e4': 6.681283056876839, 'e5': 6.725249051485614},\n",
       " {'e1': 4.618481538365946, 'e2': 6.842290184160256, 'e3': 7.012430258753183, 'e4': 7.407128049602005, 'e5': 7.0740300082241285},\n",
       " {'e1': 6.110001147262388, 'e2': 8.25198148125456, 'e3': 7.049895179588554, 'e4': 5.629322463199376, 'e5': 7.5215796882266615},\n",
       " {'e1': 7.84817555051335, 'e2': 5.906838752219652, 'e3': 8.375258989224974, 'e4': 7.298067235710926, 'e5': 7.111414447522622},\n",
       " {'e1': 7.173190049351281, 'e2': 5.426268838367057, 'e3': 7.022938266293491, 'e4': 6.428004066020785, 'e5': 6.581209752660977},\n",
       " {'e1': 7.355566051321993, 'e2': 5.9749513652226405, 'e3': 5.9761731350385645, 'e4': 6.983067375795899, 'e5': 7.495710876278176},\n",
       " {'e1': 7.9483726576654234, 'e2': 8.09487442552079, 'e3': 8.03380934650455, 'e4': 7.831808706811112, 'e5': 7.97389818814376},\n",
       " {'e1': 5.7890752230652165, 'e2': 5.148451520697398, 'e3': 5.764680631762869, 'e4': 6.7891319129549075, 'e5': 9.644274221618062},\n",
       " {'e1': 8.94317636164344, 'e2': 4.609257240082422, 'e3': 7.020619101546653, 'e4': 8.582325414579074, 'e5': 7.947759914876242},\n",
       " {'e1': 7.159585880817787, 'e2': 7.247661148614132, 'e3': 6.389469770434763, 'e4': 6.6781116204703705, 'e5': 4.745623111154789},\n",
       " {'e1': 7.178151626799785, 'e2': 8.756501433619633, 'e3': 7.1452153874601425, 'e4': 7.427974428664933, 'e5': 8.830349804914857},\n",
       " {'e1': 7.2379337124476315, 'e2': 6.723842567924611, 'e3': 9.325326375455274, 'e4': 7.901354003769064, 'e5': 6.184402050838929},\n",
       " {'e1': 7.742024091823348, 'e2': 7.400214763554177, 'e3': 6.647828973219041, 'e4': 9.335026041365229, 'e5': 6.6061400916247734},\n",
       " {'e1': 6.244105427455714, 'e2': 6.286212340851673, 'e3': 8.544708174053017, 'e4': 7.817645673297065, 'e5': 8.221827739602782},\n",
       " {'e1': 7.283387970349634, 'e2': 8.312265522115469, 'e3': 8.166877207399764, 'e4': 4.7613998577647685, 'e5': 7.48999381002804},\n",
       " {'e1': 6.705127221752124, 'e2': 6.344202423178464, 'e3': 5.090471854272493, 'e4': 7.102892364951359, 'e5': 7.665934544019207},\n",
       " {'e1': 7.345217048915623, 'e2': 7.332301501311136, 'e3': 5.847406559503767, 'e4': 6.165974346800202, 'e5': 5.961509107241388},\n",
       " {'e1': 6.95332074373552, 'e2': 6.898117917734832, 'e3': 8.902051200984504, 'e4': 8.666708423894212, 'e5': 4.953698056918075},\n",
       " {'e1': 6.195011674476588, 'e2': 7.649824786422861, 'e3': 8.569079582737958, 'e4': 7.733969682194555, 'e5': 5.75419487009047},\n",
       " {'e1': 6.687864927179351, 'e2': 5.8344709802186925, 'e3': 6.778689085665184, 'e4': 7.602243501380154, 'e5': 6.27558709147218},\n",
       " {'e1': 6.387277042239878, 'e2': 7.6810980548560295, 'e3': 6.767511613936405, 'e4': 6.098392567887288, 'e5': 6.423082852838311},\n",
       " {'e1': 10.177004764844742, 'e2': 7.52985193757542, 'e3': 7.216731219516377, 'e4': 8.427900739312673, 'e5': 5.234093484672029},\n",
       " {'e1': 7.795534405734589, 'e2': 6.598004390717737, 'e3': 6.204993490375381, 'e4': 6.1047158871669405, 'e5': 7.809516465673105},\n",
       " {'e1': 5.752024475730614, 'e2': 7.562488194473663, 'e3': 7.462903358952272, 'e4': 6.134496747257579, 'e5': 7.293289102457723},\n",
       " {'e1': 7.988501537984309, 'e2': 7.468266813266021, 'e3': 6.042489797876248, 'e4': 6.1374539167838735, 'e5': 6.689518737360737},\n",
       " {'e1': 9.38108802689495, 'e2': 8.3136245019847, 'e3': 8.182183157240042, 'e4': 6.345303936463344, 'e5': 6.591551651370198},\n",
       " {'e1': 5.555066352767994, 'e2': 6.869808476677191, 'e3': 5.929182982618446, 'e4': 7.5256586427972465, 'e5': 7.000040213524342},\n",
       " {'e1': 7.133291202537867, 'e2': 7.106013056515845, 'e3': 4.696464426406977, 'e4': 6.811416091630857, 'e5': 9.146388132927534},\n",
       " {'e1': 5.4978234400634065, 'e2': 7.715023824426761, 'e3': 7.091003777746248, 'e4': 6.28968371571541, 'e5': 6.732504490491682},\n",
       " {'e1': 6.422236841850994, 'e2': 7.133729213504277, 'e3': 7.758747009657896, 'e4': 7.86612229480766, 'e5': 6.835863504876207},\n",
       " {'e1': 4.274176644471809, 'e2': 5.2530001961744395, 'e3': 7.157634205598033, 'e4': 5.991504970375516, 'e5': 6.222011532494951},\n",
       " {'e1': 5.760099706561297, 'e2': 7.052064377629046, 'e3': 8.826999595650696, 'e4': 8.091042644549258, 'e5': 4.712941686014539},\n",
       " {'e1': 7.449307335467963, 'e2': 5.87703794277926, 'e3': 7.815706135738352, 'e4': 7.912634181718537, 'e5': 7.613865827098489},\n",
       " {'e1': 5.836527309107787, 'e2': 6.6081586384135145, 'e3': 7.317014670754351, 'e4': 5.070923975925931, 'e5': 3.9245984733237407},\n",
       " {'e1': 7.994373120677507, 'e2': 6.338851002613344, 'e3': 8.438151564104432, 'e4': 6.908169103600585, 'e5': 7.923699259632811},\n",
       " {'e1': 6.779754108069681, 'e2': 5.205132021675395, 'e3': 8.547777274542474, 'e4': 8.283350862536844, 'e5': 6.293779822821474},\n",
       " {'e1': 6.038962897316322, 'e2': 7.8102764656926755, 'e3': 7.970145250620109, 'e4': 7.2830755618544245, 'e5': 7.375135369511202},\n",
       " {'e1': 8.398496693858126, 'e2': 4.684873262728558, 'e3': 7.288116854287468, 'e4': 8.07765581589905, 'e5': 6.955806664320956},\n",
       " {'e1': 4.487193954750531, 'e2': 7.330021913408016, 'e3': 7.1703132523226785, 'e4': 6.046904562427213, 'e5': 8.247765064603923},\n",
       " {'e1': 7.281576424975193, 'e2': 7.02309022516376, 'e3': 6.576519806130289, 'e4': 8.291001779416034, 'e5': 5.85875900757296},\n",
       " {'e1': 8.943421979300307, 'e2': 8.924127662037078, 'e3': 6.751133672233331, 'e4': 7.507391860864702, 'e5': 6.042069824593669},\n",
       " {'e1': 8.710559496461316, 'e2': 8.43023584611808, 'e3': 7.5428000627167915, 'e4': 6.1752894715828255, 'e5': 5.69342541281175},\n",
       " {'e1': 8.879404015601875, 'e2': 5.417722946691313, 'e3': 6.952840377935785, 'e4': 6.293349103982011, 'e5': 7.203460647980312},\n",
       " {'e1': 7.197351062685119, 'e2': 7.818564211641628, 'e3': 5.459858825565551, 'e4': 7.403954121372403, 'e5': 7.818907404564745},\n",
       " {'e1': 6.769688889268956, 'e2': 9.276814348324693, 'e3': 8.606298961496597, 'e4': 4.993894873803897, 'e5': 7.593916541013275},\n",
       " {'e1': 7.328582275457984, 'e2': 6.683970920534292, 'e3': 6.528450706795073, 'e4': 7.481047778699535, 'e5': 6.985927231458227},\n",
       " {'e1': 7.073443474185495, 'e2': 7.763177141516644, 'e3': 5.175161467977626, 'e4': 8.209336670393, 'e5': 5.9714936224251165},\n",
       " {'e1': 6.628903632615738, 'e2': 8.401644162792715, 'e3': 8.87498270023109, 'e4': 8.946745612060992, 'e5': 7.205393504699149},\n",
       " {'e1': 7.3594069428965545, 'e2': 5.910217349557836, 'e3': 5.24910263085933, 'e4': 5.713083240994753, 'e5': 5.57463320710479},\n",
       " {'e1': 6.281180258514396, 'e2': 8.349302235246235, 'e3': 6.261257345337118, 'e4': 8.037702400061294, 'e5': 5.9401131824879325},\n",
       " {'e1': 6.50363958674246, 'e2': 3.68980060222063, 'e3': 7.552713589244972, 'e4': 8.249359245298248, 'e5': 5.693322039087784},\n",
       " {'e1': 6.536776133295068, 'e2': 8.829756203330597, 'e3': 7.159443190321746, 'e4': 9.119958086181494, 'e5': 7.748680016952968},\n",
       " {'e1': 6.834661825112048, 'e2': 8.987765413893932, 'e3': 7.731895697617578, 'e4': 4.928398926435159, 'e5': 5.671345600572069},\n",
       " {'e1': 7.726085860374448, 'e2': 7.727613966242298, 'e3': 8.495474264504145, 'e4': 8.174996420464414, 'e5': 7.174789042674084},\n",
       " {'e1': 8.40487690662362, 'e2': 7.913264805771578, 'e3': 7.273424277731754, 'e4': 7.465074477806974, 'e5': 4.9562284544528135},\n",
       " {'e1': 6.780617146949305, 'e2': 6.77392185337483, 'e3': 6.9728149916334985, 'e4': 7.809650255082407, 'e5': 7.2419866436912095},\n",
       " {'e1': 7.8688223971608435, 'e2': 6.74733296726086, 'e3': 8.293928396776058, 'e4': 5.16414295812319, 'e5': 6.3562712219001405},\n",
       " {'e1': 7.437976634439437, 'e2': 8.263642614952325, 'e3': 7.252274485611401, 'e4': 6.237561836758999, 'e5': 8.37398188392042},\n",
       " {'e1': 6.165140409359706, 'e2': 8.028683856031508, 'e3': 8.797073807043686, 'e4': 8.23789476957139, 'e5': 7.142888811340795},\n",
       " {'e1': 8.552004586026408, 'e2': 6.036749312687239, 'e3': 6.242252332334298, 'e4': 8.519197726841474, 'e5': 7.4724003325147805},\n",
       " {'e1': 6.1454429376721365, 'e2': 8.393909471682248, 'e3': 6.911786117835003, 'e4': 6.19466526916681, 'e5': 5.948733833721384},\n",
       " {'e1': 7.916907776699654, 'e2': 10.209737037682542, 'e3': 6.892531571119294, 'e4': 6.157438884469784, 'e5': 6.8453553446995095},\n",
       " {'e1': 7.384839795171575, 'e2': 7.748742044906116, 'e3': 5.3078997601459195, 'e4': 5.757051899370509, 'e5': 5.558090515837765},\n",
       " {'e1': 6.811787474385996, 'e2': 6.468532928994833, 'e3': 7.690845362699915, 'e4': 9.799380839204876, 'e5': 7.772080633649991},\n",
       " {'e1': 9.127934613422351, 'e2': 8.426072240295335, 'e3': 7.891408135114567, 'e4': 9.283566118976534, 'e5': 8.480230155343975},\n",
       " {'e1': 9.014409366106378, 'e2': 7.51062988006901, 'e3': 7.172181544087635, 'e4': 5.9614813440959855, 'e5': 7.535031480249483},\n",
       " {'e1': 7.585646934031021, 'e2': 8.528853730250137, 'e3': 5.357718180037272, 'e4': 5.549731807517907, 'e5': 9.337004022236117},\n",
       " {'e1': 5.870142137568625, 'e2': 5.542503571689782, 'e3': 7.228299351042487, 'e4': 6.417794355640694, 'e5': 4.848237265535541},\n",
       " {'e1': 6.715044938778336, 'e2': 6.991794728755625, 'e3': 7.478000225571686, 'e4': 7.062852565164482, 'e5': 8.28329462355281},\n",
       " {'e1': 7.596424258424201, 'e2': 4.796888261226289, 'e3': 9.453578133268826, 'e4': 6.424774082474781, 'e5': 5.969139946861391},\n",
       " {'e1': 6.4266199002546465, 'e2': 6.084548180744545, 'e3': 8.133632839746555, 'e4': 9.515278854466537, 'e5': 6.615808872396274},\n",
       " {'e1': 6.14140506707157, 'e2': 5.215812552308192, 'e3': 8.061785776576855, 'e4': 6.576113816993208, 'e5': 7.397159744274088},\n",
       " {'e1': 7.292444238388083, 'e2': 7.716011316499456, 'e3': 6.6945666371041375, 'e4': 5.937520497791162, 'e5': 8.507645182779644},\n",
       " {'e1': 7.492111431726729, 'e2': 7.1515992236313615, 'e3': 5.179887830736905, 'e4': 5.875207937623708, 'e5': 6.8749648479913485},\n",
       " {'e1': 7.523445359927696, 'e2': 7.841494543608633, 'e3': 6.127560250481618, 'e4': 5.03042158327, 'e5': 5.958755806883239},\n",
       " {'e1': 7.915721421928984, 'e2': 7.098959177613422, 'e3': 9.59535340112186, 'e4': 8.465877516627776, 'e5': 5.977677895588884},\n",
       " {'e1': 4.2153724146656835, 'e2': 7.700007289434831, 'e3': 6.5803385043190605, 'e4': 7.653395688282805, 'e5': 8.334997908463768},\n",
       " {'e1': 7.921015876810947, 'e2': 7.918242767567701, 'e3': 7.488976345044269, 'e4': 7.019234689538647, 'e5': 7.295645776629827},\n",
       " {'e1': 5.420265553697426, 'e2': 7.074867737673173, 'e3': 7.518515831226881, 'e4': 6.395733701422431, 'e5': 4.832289156197804},\n",
       " {'e1': 6.061860867114004, 'e2': 5.954694501968979, 'e3': 8.800479942971686, 'e4': 8.02332995853614, 'e5': 6.53055373508125},\n",
       " {'e1': 6.351025908457076, 'e2': 8.273413446236967, 'e3': 5.692931300112858, 'e4': 7.235901372924717, 'e5': 7.724532177122549},\n",
       " {'e1': 6.77457183277666, 'e2': 9.011825877899843, 'e3': 7.2400842770034295, 'e4': 6.345965361201664, 'e5': 6.542344624160354},\n",
       " {'e1': 7.27847088775183, 'e2': 6.0574748108410805, 'e3': 8.184045908831408, 'e4': 6.1071151098391, 'e5': 6.503196382193149},\n",
       " {'e1': 5.842688544605832, 'e2': 7.809625181524029, 'e3': 7.031584063148042, 'e4': 8.183839947597818, 'e5': 6.865733569623871},\n",
       " {'e1': 6.611416426576433, 'e2': 8.14479126114473, 'e3': 6.852099384882042, 'e4': 6.14303361166544, 'e5': 6.095202998711119},\n",
       " {'e1': 4.798182835407334, 'e2': 5.976212524531647, 'e3': 6.809140164309231, 'e4': 7.935160054226182, 'e5': 7.0168372345263785},\n",
       " {'e1': 6.716746285421091, 'e2': 9.451859784606759, 'e3': 5.564496120068487, 'e4': 7.728999542796396, 'e5': 5.887965703195847},\n",
       " {'e1': 6.790566727924607, 'e2': 7.866874457672189, 'e3': 7.266549164316113, 'e4': 8.201813842691575, 'e5': 3.9692595037061484},\n",
       " {'e1': 6.102048641604091, 'e2': 6.5384613090974675, 'e3': 8.935748970453309, 'e4': 8.636555190445554, 'e5': 6.712875533230136},\n",
       " {'e1': 5.6680125547733535, 'e2': 8.019934965365918, 'e3': 7.41475149581575, 'e4': 7.812020785621109, 'e5': 6.495778568950488},\n",
       " {'e1': 6.404179075281114, 'e2': 6.195513378859187, 'e3': 4.711476233888226, 'e4': 8.714013004683416, 'e5': 7.719823644456734},\n",
       " {'e1': 6.2620737711111225, 'e2': 7.941441907402245, 'e3': 6.21529076099587, 'e4': 7.1997577965165425, 'e5': 4.793508914578845},\n",
       " {'e1': 6.82604110282621, 'e2': 8.37116318551696, 'e3': 7.674475186065543, 'e4': 6.778694547554957, 'e5': 5.926215482479895},\n",
       " {'e1': 8.266513851495844, 'e2': 5.866262668517425, 'e3': 7.342127198592726, 'e4': 8.18736708035058, 'e5': 6.851425170808944},\n",
       " {'e1': 5.064566190882852, 'e2': 7.709123744955091, 'e3': 8.512108731205942, 'e4': 8.395270620106873, 'e5': 5.166695218190838},\n",
       " {'e1': 7.724245309366195, 'e2': 9.127790470828318, 'e3': 7.182881482307506, 'e4': 6.859525544746446, 'e5': 6.092307997805997},\n",
       " {'e1': 8.244242493170931, 'e2': 7.882412789989942, 'e3': 7.70732837687737, 'e4': 6.504220074493804, 'e5': 9.014071587069836},\n",
       " {'e1': 8.642835236590452, 'e2': 4.579208055033742, 'e3': 5.607673172445954, 'e4': 6.668456423333451, 'e5': 6.682474935419234},\n",
       " {'e1': 5.110835724410393, 'e2': 6.552826782680642, 'e3': 7.075941952777473, 'e4': 6.570189407736792, 'e5': 7.402642331492362},\n",
       " {'e1': 8.822469958612636, 'e2': 6.771496977946984, 'e3': 6.42922993337786, 'e4': 5.365684335111522, 'e5': 6.942146137370494},\n",
       " {'e1': 6.952202858636863, 'e2': 6.437352633803563, 'e3': 5.282173197567115, 'e4': 8.111332837655102, 'e5': 8.088824902249486},\n",
       " {'e1': 5.47124248232263, 'e2': 6.718015466048821, 'e3': 7.8707756592413, 'e4': 6.8751743401651675, 'e5': 7.267229592098001},\n",
       " {'e1': 5.74232372847296, 'e2': 7.7865235103146135, 'e3': 8.027279940641343, 'e4': 7.164486383109766, 'e5': 8.622809274800971},\n",
       " {'e1': 7.649691934051092, 'e2': 7.1302673203535125, 'e3': 5.634954568811448, 'e4': 6.4827011041386795, 'e5': 8.05308402891421},\n",
       " {'e1': 5.316815691869415, 'e2': 7.51491424648121, 'e3': 5.370158943376681, 'e4': 6.735904513410097, 'e5': 9.152557854611626},\n",
       " {'e1': 6.568877528065262, 'e2': 4.804459166529075, 'e3': 8.065201518420565, 'e4': 6.762493010671223, 'e5': 5.320281233659878},\n",
       " {'e1': 6.817190998810585, 'e2': 6.608141365917196, 'e3': 6.142702659456122, 'e4': 7.5791267457415845, 'e5': 4.5706500725535895},\n",
       " {'e1': 8.283116636444076, 'e2': 4.538492567341186, 'e3': 6.795226429850351, 'e4': 5.886095009400049, 'e5': 8.570324405472224},\n",
       " {'e1': 7.158632542805478, 'e2': 6.2606398974776365, 'e3': 7.994557041436854, 'e4': 5.928489455993942, 'e5': 5.611958459848245},\n",
       " {'e1': 5.315822753699267, 'e2': 8.464193655252775, 'e3': 6.359513595917848, 'e4': 8.839185197684428, 'e5': 7.111311726081038},\n",
       " {'e1': 7.150989310317749, 'e2': 5.827024954561428, 'e3': 7.167867096811748, 'e4': 6.041105748885065, 'e5': 7.9453729314588495},\n",
       " {'e1': 6.974652592571914, 'e2': 8.907779906170825, 'e3': 6.346442538532676, 'e4': 10.435113868790566, 'e5': 7.116137275202785},\n",
       " {'e1': 7.218683310730743, 'e2': 4.956176942866124, 'e3': 7.609783574478514, 'e4': 6.8474974440012435, 'e5': 4.5375137050689744},\n",
       " {'e1': 7.985267176458436, 'e2': 8.157239998699083, 'e3': 6.339081386056734, 'e4': 6.821802728676615, 'e5': 6.9155730235380855},\n",
       " {'e1': 6.026581894386509, 'e2': 6.394769747823134, 'e3': 5.484747726772456, 'e4': 6.630572780854645, 'e5': 6.23508659983753},\n",
       " {'e1': 7.078521371049432, 'e2': 8.094888800134948, 'e3': 7.261064719308349, 'e4': 7.970438064191555, 'e5': 7.255384133698081},\n",
       " {'e1': 7.344533515201003, 'e2': 6.643325684598905, 'e3': 7.814445316016668, 'e4': 7.69240122690782, 'e5': 7.202599645060158},\n",
       " {'e1': 9.628953197173784, 'e2': 8.86855767702274, 'e3': 7.088877056403326, 'e4': 7.526408451340355, 'e5': 7.344554813684284},\n",
       " {'e1': 6.841095675893874, 'e2': 6.3289772778912825, 'e3': 7.98570581747071, 'e4': 7.8974230872938564, 'e5': 5.780749244498541},\n",
       " {'e1': 7.9376916659349455, 'e2': 5.02103970237849, 'e3': 5.3688098974215785, 'e4': 6.927180213242285, 'e5': 9.86178941397112},\n",
       " {'e1': 5.842274964455973, 'e2': 7.503315214635498, 'e3': 6.237713214133591, 'e4': 6.10179408382695, 'e5': 6.438109069514744},\n",
       " {'e1': 8.284821385581106, 'e2': 7.681904729741502, 'e3': 8.006489644936009, 'e4': 7.50568465006217, 'e5': 7.327472365480297},\n",
       " {'e1': 6.285888085908283, 'e2': 6.3432142992845, 'e3': 6.984334435375696, 'e4': 6.35158046958698, 'e5': 7.98060993433937},\n",
       " {'e1': 6.388424571330264, 'e2': 6.891224324756414, 'e3': 8.662964421787834, 'e4': 7.096971166488521, 'e5': 7.661556810787112},\n",
       " {'e1': 6.5579908618898095, 'e2': 7.154360545460362, 'e3': 6.901437675405793, 'e4': 6.097924379203251, 'e5': 6.892158363475894},\n",
       " {'e1': 7.077632632462567, 'e2': 6.780882700025338, 'e3': 7.283710809874874, 'e4': 5.444993835408307, 'e5': 7.776767867897234},\n",
       " {'e1': 5.737844052604136, 'e2': 4.2872131390244235, 'e3': 6.203559348573819, 'e4': 7.026155947102318, 'e5': 5.159577303842552},\n",
       " {'e1': 6.742445562865167, 'e2': 6.704461387916366, 'e3': 7.9396147821933285, 'e4': 8.7736992044815, 'e5': 7.896816234261084},\n",
       " {'e1': 4.684958951893439, 'e2': 5.622551980529837, 'e3': 8.444890147372067, 'e4': 8.107876710078335, 'e5': 6.027714478188897},\n",
       " {'e1': 9.516596036966257, 'e2': 7.582931536338422, 'e3': 8.227391664618747, 'e4': 6.395563985801377, 'e5': 5.839375541701411},\n",
       " {'e1': 5.7190146976899126, 'e2': 7.4698521861222185, 'e3': 8.024569012165307, 'e4': 7.437997750925467, 'e5': 4.589261918223885},\n",
       " {'e1': 7.430141282585754, 'e2': 4.313673013126118, 'e3': 5.624732267631028, 'e4': 6.192654407327688, 'e5': 7.342599941803282},\n",
       " {'e1': 6.717709988899262, 'e2': 8.545505365877856, 'e3': 6.070778230617751, 'e4': 6.750562207728226, 'e5': 8.267626812945736},\n",
       " {'e1': 7.142361392136704, 'e2': 7.607641143723091, 'e3': 5.74996448520919, 'e4': 6.2643551910180175, 'e5': 7.476261923859032},\n",
       " {'e1': 8.462374610372748, 'e2': 7.7971433000281065, 'e3': 7.9709548859080055, 'e4': 6.495676541827479, 'e5': 6.419568911333137},\n",
       " {'e1': 5.864534558676552, 'e2': 7.023075994321625, 'e3': 6.830091713262762, 'e4': 8.293573757664104, 'e5': 7.215383923655797},\n",
       " {'e1': 7.898028705405583, 'e2': 6.881093126370011, 'e3': 6.282031547237375, 'e4': 6.105583006849646, 'e5': 6.017567747416076},\n",
       " {'e1': 5.544570459103578, 'e2': 7.869611097501211, 'e3': 8.189376181846235, 'e4': 5.697668190986427, 'e5': 4.649375535416097},\n",
       " {'e1': 7.141727390978054, 'e2': 7.99592379769625, 'e3': 7.747604848246738, 'e4': 5.113287805218382, 'e5': 8.38506922387758},\n",
       " {'e1': 5.937327407145151, 'e2': 7.208897505357209, 'e3': 7.376402487421289, 'e4': 5.914540865807146, 'e5': 7.764303079975864},\n",
       " {'e1': 5.535976579668615, 'e2': 6.859919468697777, 'e3': 8.258407373249078, 'e4': 8.159916688926897, 'e5': 5.72611411236829},\n",
       " {'e1': 8.221982112663733, 'e2': 7.153819917489816, 'e3': 7.520382461216295, 'e4': 5.610129125435332, 'e5': 7.355705580030346},\n",
       " {'e1': 5.361181258897789, 'e2': 7.072846990625656, 'e3': 5.634191915089311, 'e4': 5.054051924248351, 'e5': 8.105991244289498},\n",
       " {'e1': 6.441417660087666, 'e2': 8.127505925506204, 'e3': 6.3984329967362745, 'e4': 7.612393327504692, 'e5': 6.103000491608411},\n",
       " {'e1': 6.703003278294652, 'e2': 6.87094032636494, 'e3': 7.454917595579334, 'e4': 5.4503682918745735, 'e5': 5.1678417405},\n",
       " {'e1': 6.478081397267851, 'e2': 8.005245105320588, 'e3': 6.1319732937210505, 'e4': 8.05288830918654, 'e5': 8.284858880789628},\n",
       " {'e1': 6.114194350311389, 'e2': 7.976632552393242, 'e3': 7.464185067459325, 'e4': 7.652817749940572, 'e5': 6.870054689068462},\n",
       " {'e1': 6.8460102809082, 'e2': 5.209863639893743, 'e3': 8.070911264648664, 'e4': 8.268435784018251, 'e5': 8.077805418531918},\n",
       " {'e1': 6.627046948581346, 'e2': 7.16470933344141, 'e3': 8.282244357593441, 'e4': 7.935898820419961, 'e5': 4.422536511596201},\n",
       " {'e1': 7.04222686908523, 'e2': 7.6368329907919605, 'e3': 6.400247230579658, 'e4': 8.235959351009749, 'e5': 5.4872381213423544},\n",
       " {'e1': 7.0918264727338896, 'e2': 8.050037246983592, 'e3': 7.864263728542587, 'e4': 4.350824130564898, 'e5': 6.873993268251471},\n",
       " {'e1': 5.456837448553179, 'e2': 5.071820159285355, 'e3': 8.230237654041279, 'e4': 7.303934328630015, 'e5': 8.166472473562209},\n",
       " {'e1': 6.552043419414407, 'e2': 7.890119353501637, 'e3': 5.004221428860586, 'e4': 8.386120312855729, 'e5': 7.47413607140525},\n",
       " {'e1': 9.14941953643419, 'e2': 8.843016369737585, 'e3': 6.8443631264312215, 'e4': 6.429990103173632, 'e5': 7.0442393753983925},\n",
       " {'e1': 6.15948454030667, 'e2': 6.906907836008181, 'e3': 5.883101575950415, 'e4': 7.846149206983089, 'e5': 5.625177030322747},\n",
       " {'e1': 5.912167245800418, 'e2': 6.742890707549652, 'e3': 8.818584849785639, 'e4': 8.23376890537966, 'e5': 4.40895028160166},\n",
       " {'e1': 6.048694735261277, 'e2': 8.764635636468807, 'e3': 5.6715849747207425, 'e4': 6.929718183285435, 'e5': 6.861335485206049},\n",
       " {'e1': 7.387401625365902, 'e2': 7.926363007479444, 'e3': 6.533520035396415, 'e4': 8.323716132950425, 'e5': 6.177318707861142},\n",
       " {'e1': 7.4976887762385065, 'e2': 7.697042927130135, 'e3': 7.64881391119153, 'e4': 8.153412262221071, 'e5': 6.4760442830475275},\n",
       " {'e1': 6.336547816583158, 'e2': 6.038431383981191, 'e3': 9.791185765541208, 'e4': 6.376947924393266, 'e5': 7.502283826035306},\n",
       " {'e1': 5.363619868202795, 'e2': 6.713022826446336, 'e3': 7.8231616115115985, 'e4': 7.4094773419370465, 'e5': 6.94318459333512},\n",
       " {'e1': 7.365508132933005, 'e2': 7.8159407132820995, 'e3': 7.719968613573563, 'e4': 7.123620703514562, 'e5': 7.561162026414314},\n",
       " {'e1': 7.560368753335888, 'e2': 6.979743267234445, 'e3': 6.386820973635082, 'e4': 6.194980189331225, 'e5': 8.064470722750006},\n",
       " {'e1': 6.979694014814413, 'e2': 6.305256832133685, 'e3': 9.282847852308329, 'e4': 6.9570606646112925, 'e5': 6.976319764731673},\n",
       " {'e1': 7.382915120253056, 'e2': 5.595403018315691, 'e3': 7.1905517454962675, 'e4': 6.545409305960978, 'e5': 6.927148171874522},\n",
       " {'e1': 9.375016873623334, 'e2': 9.75574445266907, 'e3': 8.269398549584027, 'e4': 5.631713358471166, 'e5': 6.417232334017126},\n",
       " {'e1': 6.13445981171571, 'e2': 6.618520429483407, 'e3': 7.500764632817933, 'e4': 6.479945641657668, 'e5': 7.560236895717326},\n",
       " {'e1': 6.923067033668661, 'e2': 9.131284274174782, 'e3': 6.745548912082669, 'e4': 7.466191893250414, 'e5': 7.534707303256533},\n",
       " {'e1': 7.6804390886529985, 'e2': 7.593800567008802, 'e3': 5.867144248479826, 'e4': 7.9630116075893955, 'e5': 7.602713253890607},\n",
       " {'e1': 8.759587933770423, 'e2': 7.494430723473505, 'e3': 6.205199824148953, 'e4': 8.386984849098958, 'e5': 7.355129526473256},\n",
       " {'e1': 6.624026384427576, 'e2': 8.333429101855447, 'e3': 6.927924930437983, 'e4': 7.861164859580077, 'e5': 5.88153494497495},\n",
       " {'e1': 7.432509542839067, 'e2': 6.947935299862646, 'e3': 7.63712005646914, 'e4': 6.753383538138284, 'e5': 5.52042590643853},\n",
       " {'e1': 7.919426954926509, 'e2': 6.171200079068839, 'e3': 7.00770675765275, 'e4': 6.29147284126173, 'e5': 6.62484877105268},\n",
       " {'e1': 7.090686945719965, 'e2': 8.58336887221338, 'e3': 5.52499483960113, 'e4': 6.8438622086949525, 'e5': 6.581585002946276},\n",
       " {'e1': 5.067155676742554, 'e2': 8.949800849203093, 'e3': 7.615075105695205, 'e4': 6.757882397951442, 'e5': 5.301493138960528},\n",
       " {'e1': 7.966510763316156, 'e2': 7.968491446414639, 'e3': 7.094768446744431, 'e4': 8.382337047024503, 'e5': 6.353250381477288},\n",
       " {'e1': 7.476347280868446, 'e2': 7.5435252541074265, 'e3': 7.688570820104121, 'e4': 6.616802225007964, 'e5': 7.160096944334398},\n",
       " {'e1': 9.483471093519148, 'e2': 6.3131441566518305, 'e3': 6.994533647128977, 'e4': 6.901277279464368, 'e5': 7.7001237873871515},\n",
       " {'e1': 8.093286549655662, 'e2': 8.43685790961824, 'e3': 6.751959250512808, 'e4': 7.376137753343186, 'e5': 9.18486732555518},\n",
       " {'e1': 6.36508603662246, 'e2': 6.80263639534792, 'e3': 6.370336036472709, 'e4': 6.856846951609123, 'e5': 7.3599091575756015},\n",
       " {'e1': 6.976505591293281, 'e2': 7.043325865000804, 'e3': 6.25588958296384, 'e4': 8.406212168448723, 'e5': 6.620338755575248},\n",
       " {'e1': 6.35634564882087, 'e2': 6.859411492442904, 'e3': 8.930394406348757, 'e4': 6.458228863333157, 'e5': 7.5742952114054205},\n",
       " {'e1': 7.3352592693052925, 'e2': 7.99377314165671, 'e3': 6.084339260585701, 'e4': 6.0747277106069255, 'e5': 8.330834895548534},\n",
       " {'e1': 7.358736582368057, 'e2': 6.974690289561148, 'e3': 7.259012001786976, 'e4': 7.953555244299375, 'e5': 7.423268300334859},\n",
       " {'e1': 5.635981299814053, 'e2': 7.856089923609257, 'e3': 8.234212948779145, 'e4': 5.964268988339363, 'e5': 8.507755678034252},\n",
       " {'e1': 6.506309610713515, 'e2': 6.288743902160029, 'e3': 6.055350526798756, 'e4': 6.168577366748491, 'e5': 6.174981198771966},\n",
       " {'e1': 7.398782556902523, 'e2': 7.857895997088513, 'e3': 7.338665105443228, 'e4': 7.561779711508679, 'e5': 6.024023945128047},\n",
       " {'e1': 7.482342960616373, 'e2': 6.3444791282125665, 'e3': 7.269867394327521, 'e4': 5.772189365054703, 'e5': 6.894842145121764},\n",
       " {'e1': 8.023312324086167, 'e2': 7.042309590148965, 'e3': 7.622161304070615, 'e4': 5.8301103370306055, 'e5': 7.167534950261917},\n",
       " {'e1': 5.93057839538816, 'e2': 6.562852005247114, 'e3': 6.641857219072964, 'e4': 6.230009236198837, 'e5': 8.415811030497029},\n",
       " {'e1': 5.583920830253366, 'e2': 7.57267491079139, 'e3': 7.753183775559964, 'e4': 6.5951065965892735, 'e5': 8.86899393049166},\n",
       " {'e1': 7.2108438554410395, 'e2': 5.880255740272807, 'e3': 8.495220939837505, 'e4': 6.122258069610008, 'e5': 9.29538016272727},\n",
       " {'e1': 5.980156845925475, 'e2': 6.7045957981930115, 'e3': 8.83406741838747, 'e4': 6.200860938997082, 'e5': 7.981911749679241},\n",
       " {'e1': 7.444845489609853, 'e2': 7.642862697751446, 'e3': 7.43279119256484, 'e4': 6.935601482694427, 'e5': 7.595536953239579},\n",
       " {'e1': 6.547087963787948, 'e2': 6.532353634563915, 'e3': 5.207515088536931, 'e4': 5.412041733594078, 'e5': 6.569182030471574},\n",
       " {'e1': 6.758256225370549, 'e2': 5.128724205691579, 'e3': 7.151140966099876, 'e4': 7.622275228491837, 'e5': 5.338601133214134},\n",
       " {'e1': 6.147083149443051, 'e2': 8.313406675524499, 'e3': 8.689536248171251, 'e4': 6.362042355746486, 'e5': 6.251842978309312},\n",
       " {'e1': 6.850337068883823, 'e2': 5.600146254841062, 'e3': 6.307478966304726, 'e4': 6.844186482074863, 'e5': 9.334146588073574},\n",
       " {'e1': 7.731859838402685, 'e2': 7.99235719939097, 'e3': 5.0785802253110255, 'e4': 6.029052544572953, 'e5': 5.77924217625759},\n",
       " {'e1': 4.611213154134239, 'e2': 8.936089502501677, 'e3': 8.975848073574618, 'e4': 8.084502103267457, 'e5': 6.753757547010053},\n",
       " {'e1': 7.692495644440029, 'e2': 7.38294968750398, 'e3': 7.131433119963154, 'e4': 5.659720573079225, 'e5': 5.359386810279915},\n",
       " {'e1': 6.650654973423544, 'e2': 5.9997933560334475, 'e3': 6.676563497675369, 'e4': 7.37684836105712, 'e5': 6.77278864767044},\n",
       " {'e1': 8.611623898767277, 'e2': 7.377542219730358, 'e3': 8.231845902967244, 'e4': 7.647430866985266, 'e5': 6.930563662864698},\n",
       " {'e1': 5.703583376024161, 'e2': 6.046556064974786, 'e3': 7.263293139251669, 'e4': 7.922854112785625, 'e5': 6.8936307608449985},\n",
       " {'e1': 8.944930218330782, 'e2': 6.547733503466213, 'e3': 7.902906639693904, 'e4': 8.119523658164269, 'e5': 5.595081265619798},\n",
       " {'e1': 6.981324145158643, 'e2': 7.707731453847059, 'e3': 9.250193763660269, 'e4': 7.452245816036866, 'e5': 6.82656069450559},\n",
       " {'e1': 7.123117335337966, 'e2': 5.723319303792546, 'e3': 7.5947432157109365, 'e4': 6.962535947188428, 'e5': 7.433512870944989},\n",
       " {'e1': 6.477182124604385, 'e2': 8.088564652901118, 'e3': 5.644293092296927, 'e4': 8.882183345250523, 'e5': 8.525569025426954},\n",
       " {'e1': 7.183164044214018, 'e2': 8.947909188374606, 'e3': 8.45332962720872, 'e4': 5.705044021518733, 'e5': 9.277348052662287},\n",
       " {'e1': 5.289326586195963, 'e2': 6.970022999369852, 'e3': 5.144095847618184, 'e4': 7.586321926973693, 'e5': 5.554582825332729},\n",
       " {'e1': 6.950209504499981, 'e2': 8.074434864348465, 'e3': 7.365949285234328, 'e4': 7.0686382554106535, 'e5': 6.283791553140834},\n",
       " {'e1': 6.106915909164476, 'e2': 6.789281990171311, 'e3': 6.882108352377685, 'e4': 6.311366562169902, 'e5': 8.030605037427335},\n",
       " {'e1': 7.871767458117256, 'e2': 5.218694556255401, 'e3': 8.649306984434487, 'e4': 6.417439039237149, 'e5': 6.755109406594674},\n",
       " {'e1': 7.754384955276871, 'e2': 7.772207108227852, 'e3': 9.014877586346065, 'e4': 7.337225268172546, 'e5': 6.369647609826176},\n",
       " {'e1': 7.014677704786717, 'e2': 6.487532219528517, 'e3': 6.7009429740703155, 'e4': 4.561361295535259, 'e5': 7.05482014539521},\n",
       " {'e1': 6.350946995077802, 'e2': 6.660378580740267, 'e3': 6.459888232053701, 'e4': 7.406706087929177, 'e5': 5.878174914101361},\n",
       " {'e1': 8.656438083258797, 'e2': 5.0703355180377585, 'e3': 5.581896370096585, 'e4': 6.609261494966569, 'e5': 6.555787145317204},\n",
       " {'e1': 6.3354426370886445, 'e2': 7.740883919870615, 'e3': 8.710274916432155, 'e4': 5.046353563496369, 'e5': 7.238117110392909},\n",
       " {'e1': 7.453655662781762, 'e2': 8.193131867284706, 'e3': 5.626067743556636, 'e4': 7.161469788436619, 'e5': 5.954048146353955},\n",
       " {'e1': 7.532289814908423, 'e2': 6.353176116167291, 'e3': 6.780072189126705, 'e4': 8.604439003160937, 'e5': 6.576661079767234},\n",
       " {'e1': 7.724430784526341, 'e2': 5.196896367959792, 'e3': 8.389811417496366, 'e4': 6.266882996589487, 'e5': 6.746943755567795},\n",
       " {'e1': 6.3968778610636425, 'e2': 5.853350094631586, 'e3': 6.340124315525189, 'e4': 6.838843506054071, 'e5': 5.701539985388847},\n",
       " {'e1': 8.737260162677659, 'e2': 8.852249778340774, 'e3': 5.918857568331308, 'e4': 8.459967417622602, 'e5': 8.7660201753346},\n",
       " {'e1': 7.441933004475618, 'e2': 6.429602730282007, 'e3': 5.743631778053571, 'e4': 8.38823082208714, 'e5': 6.368232993564671},\n",
       " {'e1': 4.889163994837393, 'e2': 6.265482053696582, 'e3': 5.576535667782963, 'e4': 6.826786552920963, 'e5': 7.838747610358636},\n",
       " {'e1': 10.054176964506006, 'e2': 8.054507419013161, 'e3': 6.047796455570373, 'e4': 7.469483845490399, 'e5': 6.947159213697729},\n",
       " {'e1': 5.5433136091377, 'e2': 7.316009981512257, 'e3': 5.4716242102047525, 'e4': 7.855397427357033, 'e5': 7.707184098141722},\n",
       " {'e1': 4.563406136149004, 'e2': 6.364586290998095, 'e3': 6.160787506317091, 'e4': 5.306006114251189, 'e5': 7.3489759297192565},\n",
       " {'e1': 7.564262415896683, 'e2': 6.420244842742088, 'e3': 9.288742758903975, 'e4': 6.609145287020858, 'e5': 6.462486733506382},\n",
       " {'e1': 7.334195923636657, 'e2': 7.00876814883912, 'e3': 7.887716629951152, 'e4': 7.884085621543809, 'e5': 8.284410421119015},\n",
       " {'e1': 7.674127724920959, 'e2': 7.855199485080637, 'e3': 8.118360196287492, 'e4': 7.419742732361232, 'e5': 5.6641291931660565},\n",
       " {'e1': 8.270328866186508, 'e2': 6.729601254279855, 'e3': 6.793181779622912, 'e4': 7.200805085465133, 'e5': 6.426035491158944},\n",
       " {'e1': 7.815620376121593, 'e2': 7.813039231815116, 'e3': 7.215834163858686, 'e4': 7.215125678773807, 'e5': 6.413070220776774},\n",
       " {'e1': 5.548166235050772, 'e2': 7.768497804487795, 'e3': 7.1226342695029, 'e4': 6.655456936416361, 'e5': 5.735172119710443},\n",
       " {'e1': 6.967289278178031, 'e2': 5.909390502302454, 'e3': 6.510442382061466, 'e4': 8.67284643842504, 'e5': 7.739099271046307},\n",
       " {'e1': 5.479434810735415, 'e2': 8.52256852069429, 'e3': 6.919394615253169, 'e4': 7.827309664180268, 'e5': 7.8084680928564305},\n",
       " {'e1': 6.169676098881596, 'e2': 6.442193670946224, 'e3': 8.848740346148924, 'e4': 7.606344978663141, 'e5': 7.330093941205887},\n",
       " {'e1': 5.728955663457554, 'e2': 7.075052271387252, 'e3': 6.372470644941144, 'e4': 8.056129972615654, 'e5': 5.791359666450026},\n",
       " {'e1': 5.402427334002263, 'e2': 5.862120663960057, 'e3': 8.46498687083315, 'e4': 5.899023934280654, 'e5': 4.2897752495302806},\n",
       " {'e1': 7.351534529182795, 'e2': 5.8944642331452615, 'e3': 6.251881638559581, 'e4': 7.293755895446686, 'e5': 5.798721225585915},\n",
       " {'e1': 7.516834445741307, 'e2': 6.3164787595031076, 'e3': 7.700189931029666, 'e4': 8.024154689290766, 'e5': 5.623258274437802},\n",
       " {'e1': 5.988304901718891, 'e2': 8.063909832441796, 'e3': 6.4718155761236, 'e4': 8.493046223571628, 'e5': 6.173394233776163},\n",
       " {'e1': 8.665496750717955, 'e2': 9.661258356798582, 'e3': 4.925556560170728, 'e4': 9.238213880333133, 'e5': 8.307662726632278},\n",
       " {'e1': 6.585553063610379, 'e2': 7.2941075410776035, 'e3': 5.80815369807134, 'e4': 6.288683693692235, 'e5': 8.357935792205613},\n",
       " {'e1': 6.87521762711166, 'e2': 6.739911664908525, 'e3': 4.541260968353604, 'e4': 7.329542355107969, 'e5': 6.329388368037616},\n",
       " {'e1': 8.84342884284921, 'e2': 6.6225004318084935, 'e3': 6.8221459365202906, 'e4': 4.633155271900116, 'e5': 6.256024946015912},\n",
       " {'e1': 5.238472712756169, 'e2': 7.384846455603686, 'e3': 6.518089002397203, 'e4': 6.760192915850314, 'e5': 7.320493976103163},\n",
       " {'e1': 6.493006021442038, 'e2': 8.323411158823607, 'e3': 6.424523925172374, 'e4': 7.439576082628041, 'e5': 6.706804464629666},\n",
       " {'e1': 9.51038300866286, 'e2': 6.314818079456359, 'e3': 6.290796784329914, 'e4': 7.834225305831076, 'e5': 6.419302674954301},\n",
       " {'e1': 6.168008494637888, 'e2': 6.855840000593107, 'e3': 5.728741252564319, 'e4': 8.714174824837016, 'e5': 7.187374674054853},\n",
       " {'e1': 9.280413306111207, 'e2': 6.975828203882001, 'e3': 6.334260023903249, 'e4': 4.9696571390177375, 'e5': 5.206906275589566},\n",
       " {'e1': 8.815241673698637, 'e2': 8.753559048095445, 'e3': 7.197600894209936, 'e4': 6.14181588522183, 'e5': 8.238340832666225},\n",
       " {'e1': 7.107202878322991, 'e2': 6.895833391412102, 'e3': 6.511988532854927, 'e4': 8.384092110225332, 'e5': 7.056693660389057},\n",
       " {'e1': 6.903485978147485, 'e2': 7.242943440359028, 'e3': 5.902341481815702, 'e4': 6.222444834017878, 'e5': 6.034856603457265},\n",
       " {'e1': 6.668792724187286, 'e2': 9.326490958110737, 'e3': 7.563530952197485, 'e4': 6.735816852335417, 'e5': 7.53043423593774},\n",
       " {'e1': 6.658151741952965, 'e2': 7.029581418729952, 'e3': 7.40932307559724, 'e4': 7.3781079883652465, 'e5': 4.551419284519118},\n",
       " {'e1': 6.827110304432574, 'e2': 7.04345844066138, 'e3': 7.145704482536926, 'e4': 7.3773041912373785, 'e5': 7.837481166660634},\n",
       " {'e1': 6.920329386553931, 'e2': 8.304127339868264, 'e3': 8.617843136151818, 'e4': 5.34515009783741, 'e5': 8.339376734124729},\n",
       " {'e1': 6.818012653985324, 'e2': 5.8666746395533185, 'e3': 6.853406911855276, 'e4': 6.259508253967777, 'e5': 5.419331343845656},\n",
       " {'e1': 6.586131601898834, 'e2': 7.964289300806502, 'e3': 4.646225789661279, 'e4': 8.419722816065493, 'e5': 9.169402987549875},\n",
       " {'e1': 6.632721124670765, 'e2': 8.057987421837606, 'e3': 5.528916349902628, 'e4': 8.13824827266322, 'e5': 8.198000965001917},\n",
       " {'e1': 4.692121474543952, 'e2': 7.772914223386611, 'e3': 4.518397940805797, 'e4': 6.755429842111718, 'e5': 7.152131731192777},\n",
       " {'e1': 8.760032772692485, 'e2': 6.349331348371727, 'e3': 6.13267926111375, 'e4': 8.64517405975743, 'e5': 7.043720781604269},\n",
       " {'e1': 5.898544948969211, 'e2': 5.833056587591739, 'e3': 7.4435571372122675, 'e4': 7.576399905503037, 'e5': 6.897207712983521},\n",
       " {'e1': 6.477500352756082, 'e2': 8.471895002802956, 'e3': 7.199110294365108, 'e4': 6.163106063308936, 'e5': 7.3741170258223425},\n",
       " {'e1': 4.952787391835239, 'e2': 6.36473941095129, 'e3': 7.671905283863757, 'e4': 7.026398129116367, 'e5': 7.733611328173664},\n",
       " {'e1': 5.334038910675807, 'e2': 7.854900346394399, 'e3': 9.047702580954656, 'e4': 6.251778437068336, 'e5': 6.464663936518113},\n",
       " {'e1': 7.056350830430307, 'e2': 6.366487753802235, 'e3': 7.519308229330138, 'e4': 5.9885907470897735, 'e5': 6.303796440167819},\n",
       " {'e1': 7.7216291174973115, 'e2': 6.677165121556908, 'e3': 5.149552075595067, 'e4': 6.656125777941782, 'e5': 5.560617028171676},\n",
       " {'e1': 5.524878424676645, 'e2': 4.810119011345874, 'e3': 8.899784927897356, 'e4': 6.281136729050557, 'e5': 7.959722787205318},\n",
       " {'e1': 8.282306232718263, 'e2': 8.239061914703836, 'e3': 9.40297403542192, 'e4': 5.674833034298866, 'e5': 8.324134409428975},\n",
       " {'e1': 8.641008560137141, 'e2': 5.216681939035141, 'e3': 7.844195218320634, 'e4': 5.153449026861207, 'e5': 6.544193624483209},\n",
       " {'e1': 5.400702293234185, 'e2': 8.901530419605644, 'e3': 9.933693569093473, 'e4': 4.708576756693667, 'e5': 7.439669978907104},\n",
       " {'e1': 6.7948788459824145, 'e2': 7.159224621633643, 'e3': 8.4888274352042, 'e4': 6.1131177847465645, 'e5': 5.6799192846981175},\n",
       " {'e1': 8.020195643663854, 'e2': 4.606936783205415, 'e3': 7.533259599930474, 'e4': 6.846175251135969, 'e5': 6.989072626078718},\n",
       " {'e1': 7.399277757477203, 'e2': 8.576326664946587, 'e3': 8.48517015094916, 'e4': 8.370458544478254, 'e5': 6.451787862624825},\n",
       " {'e1': 6.35366588860823, 'e2': 6.356389266568692, 'e3': 7.169796963097637, 'e4': 7.1941054352426725, 'e5': 7.93363936697108},\n",
       " {'e1': 6.705322047097108, 'e2': 5.4134880388161255, 'e3': 6.850691021524451, 'e4': 7.5850992855081225, 'e5': 4.092142031655883},\n",
       " {'e1': 8.096930110376546, 'e2': 5.802979834580598, 'e3': 8.604477205718338, 'e4': 8.069230864453992, 'e5': 6.577619212117332},\n",
       " {'e1': 6.409672596498915, 'e2': 7.536661597697433, 'e3': 10.497975832457659, 'e4': 5.629644390610767, 'e5': 8.247267503183409},\n",
       " {'e1': 5.520456070902297, 'e2': 7.319357078440785, 'e3': 6.68253297735205, 'e4': 5.334260520262991, 'e5': 8.769700755541866},\n",
       " {'e1': 7.956830724734677, 'e2': 7.055683176562264, 'e3': 6.696201187358487, 'e4': 7.969188021010951, 'e5': 10.182905952702322},\n",
       " {'e1': 7.55594085897495, 'e2': 7.851174821938412, 'e3': 7.328831496969446, 'e4': 6.150885945699298, 'e5': 5.329785600553077},\n",
       " {'e1': 5.998169596285597, 'e2': 6.691820543188876, 'e3': 4.8553888008837776, 'e4': 9.148032345765667, 'e5': 7.464992627721819},\n",
       " {'e1': 6.249717376157493, 'e2': 8.712791710100769, 'e3': 7.507943325885049, 'e4': 7.284920973517966, 'e5': 7.096241696072042},\n",
       " {'e1': 6.579640406933164, 'e2': 6.602171004199445, 'e3': 8.004706667670847, 'e4': 7.285184488996923, 'e5': 7.4682652950709585},\n",
       " {'e1': 7.01242105468053, 'e2': 5.562999250289153, 'e3': 9.996167700701246, 'e4': 6.619476690655729, 'e5': 6.190357470615788},\n",
       " {'e1': 7.471043339236659, 'e2': 4.705363092506108, 'e3': 6.023153447609932, 'e4': 9.816986083616849, 'e5': 7.547830150634508},\n",
       " {'e1': 6.397863359352168, 'e2': 6.63753472288751, 'e3': 6.394908069772175, 'e4': 6.41831454994371, 'e5': 8.01061619556961},\n",
       " {'e1': 7.311856691091755, 'e2': 8.074993874364264, 'e3': 7.669767252739513, 'e4': 5.2777842322721416, 'e5': 7.398044709078683},\n",
       " {'e1': 6.201764487056437, 'e2': 7.559857518341192, 'e3': 5.698585314002997, 'e4': 5.628059654241269, 'e5': 7.2326153600461325},\n",
       " {'e1': 8.075557502256533, 'e2': 7.30306825397833, 'e3': 7.455060630070639, 'e4': 5.754939977431515, 'e5': 7.2950504823730355},\n",
       " {'e1': 5.876668735699713, 'e2': 7.916634941879892, 'e3': 7.207277876242733, 'e4': 7.652330071503777, 'e5': 7.00775024647684},\n",
       " {'e1': 8.043985654757202, 'e2': 5.8734390698775405, 'e3': 8.201490152526134, 'e4': 7.189003920481666, 'e5': 5.917868081877084},\n",
       " {'e1': 7.853083311943871, 'e2': 7.418726410140649, 'e3': 7.050830337800386, 'e4': 7.914589917680754, 'e5': 6.007630587563738},\n",
       " {'e1': 7.214319065025858, 'e2': 8.906842374915236, 'e3': 8.487081618345997, 'e4': 6.133612157668376, 'e5': 8.042093599438008},\n",
       " {'e1': 6.368474237055512, 'e2': 7.105518923268134, 'e3': 6.905351702098925, 'e4': 8.742492146628773, 'e5': 7.448656171541129},\n",
       " {'e1': 6.246067198885524, 'e2': 5.568800895944841, 'e3': 5.761041860463551, 'e4': 5.689358941088053, 'e5': 7.754372298362629},\n",
       " {'e1': 7.743240566899626, 'e2': 7.409280443740977, 'e3': 8.359531076434177, 'e4': 7.619803601059228, 'e5': 6.437172956973679},\n",
       " {'e1': 7.463764481450336, 'e2': 6.5941640776872905, 'e3': 7.391281035257316, 'e4': 6.760978436915957, 'e5': 7.212986418474219},\n",
       " {'e1': 6.7423878637034935, 'e2': 7.535201788085928, 'e3': 8.179071750245525, 'e4': 9.236431507803145, 'e5': 8.11039140820301},\n",
       " {'e1': 7.596755747977867, 'e2': 5.721235851593537, 'e3': 5.7200002015306834, 'e4': 6.254670329188773, 'e5': 5.36836492200965},\n",
       " {'e1': 8.273542138297392, 'e2': 8.408827962868878, 'e3': 6.212820908922955, 'e4': 9.34896879076149, 'e5': 5.30361974563515},\n",
       " {'e1': 6.176214796972223, 'e2': 7.168379404155765, 'e3': 5.596142056693123, 'e4': 8.764994754676794, 'e5': 6.128932885383961},\n",
       " {'e1': 7.0721688261669495, 'e2': 6.6634548127791415, 'e3': 6.284640115129604, 'e4': 7.487841508622894, 'e5': 6.196736754020815},\n",
       " {'e1': 6.972422829853631, 'e2': 6.709615141530398, 'e3': 7.809683860140974, 'e4': 7.674603719707686, 'e5': 8.872199049407168},\n",
       " {'e1': 7.23080932814922, 'e2': 5.559235398446674, 'e3': 6.80664594327954, 'e4': 6.930791000299269, 'e5': 6.698328383050997},\n",
       " {'e1': 7.711940204325844, 'e2': 6.186075323009326, 'e3': 5.8420579683737, 'e4': 6.917979182738848, 'e5': 7.213284214823525},\n",
       " {'e1': 8.55878859461826, 'e2': 6.464544803754792, 'e3': 7.94466091718994, 'e4': 6.357806678000442, 'e5': 6.812301657106687},\n",
       " {'e1': 7.060836585812888, 'e2': 7.080227251851109, 'e3': 5.292599962467349, 'e4': 7.395178903155553, 'e5': 7.394698408352148},\n",
       " {'e1': 7.686380041186234, 'e2': 6.913339207448396, 'e3': 7.245846304804422, 'e4': 7.319003446141832, 'e5': 6.8731678563910235},\n",
       " {'e1': 7.247541683670994, 'e2': 6.917174591911282, 'e3': 7.384965303645392, 'e4': 6.4852268630984735, 'e5': 8.785053250289938},\n",
       " {'e1': 5.723022453490033, 'e2': 6.630996168974632, 'e3': 8.442243404788448, 'e4': 7.75289733871087, 'e5': 6.090603532231005},\n",
       " {'e1': 4.897571646182401, 'e2': 6.264812386762731, 'e3': 5.645115817036568, 'e4': 6.787432196807383, 'e5': 7.504711687451498},\n",
       " {'e1': 5.833996001627315, 'e2': 8.647117114034025, 'e3': 7.885884285275143, 'e4': 7.40662406168737, 'e5': 6.286560509796233},\n",
       " {'e1': 7.4410100923595, 'e2': 6.038703204795246, 'e3': 8.169249532518808, 'e4': 4.763727749076354, 'e5': 7.436290407285726},\n",
       " {'e1': 5.232845064989327, 'e2': 8.642677744653483, 'e3': 8.697788277661886, 'e4': 6.547694106377599, 'e5': 6.426691230734081},\n",
       " {'e1': 8.033916647618398, 'e2': 8.321331991515512, 'e3': 6.833411905546546, 'e4': 7.01148599795134, 'e5': 6.065906284101862},\n",
       " {'e1': 7.82901331039248, 'e2': 6.784482163964945, 'e3': 4.399350965671651, 'e4': 8.598488707271624, 'e5': 8.171122590289318},\n",
       " {'e1': 7.58649676927655, 'e2': 7.170168977706205, 'e3': 5.110391732702816, 'e4': 7.16161691159894, 'e5': 7.409828287907898},\n",
       " {'e1': 5.9791134855614665, 'e2': 7.486053928196995, 'e3': 7.4948323096213105, 'e4': 6.978496089355416, 'e5': 5.327259245715113},\n",
       " {'e1': 8.856352021531592, 'e2': 9.109720031346633, 'e3': 5.8097335714779, 'e4': 5.297735128676491, 'e5': 7.393462250742209},\n",
       " {'e1': 6.642116241622208, 'e2': 6.576450434304286, 'e3': 7.1575239221442795, 'e4': 7.496485855936331, 'e5': 6.144146940297892},\n",
       " {'e1': 6.933187426802766, 'e2': 6.204220542232332, 'e3': 6.738234974453682, 'e4': 7.8726913098151, 'e5': 7.849077690472767},\n",
       " {'e1': 7.665119591306653, 'e2': 7.269761612203607, 'e3': 5.677655281843763, 'e4': 6.631943845359415, 'e5': 6.684384099351646},\n",
       " {'e1': 5.74939378106112, 'e2': 5.903962725776138, 'e3': 8.258879828384039, 'e4': 6.042626702274889, 'e5': 7.62655998697759},\n",
       " {'e1': 6.600436321123744, 'e2': 8.946072666679978, 'e3': 8.026983396928559, 'e4': 7.777051954341933, 'e5': 5.982275059688198},\n",
       " {'e1': 7.4209503714767155, 'e2': 8.070637854142607, 'e3': 6.136978020443679, 'e4': 6.334344184132618, 'e5': 7.287420945827536},\n",
       " {'e1': 6.8750440639644985, 'e2': 6.096628674023442, 'e3': 4.615193521082372, 'e4': 5.621934963366848, 'e5': 8.093551964192944},\n",
       " {'e1': 5.775532918645149, 'e2': 7.189267197434248, 'e3': 8.026657898020419, 'e4': 8.386940443054808, 'e5': 7.868587815452652},\n",
       " {'e1': 8.650699814213562, 'e2': 8.217912020234126, 'e3': 8.523651531360732, 'e4': 7.748654124053858, 'e5': 8.013781734041096},\n",
       " {'e1': 6.639031194521689, 'e2': 6.661769006468224, 'e3': 6.91088177860998, 'e4': 7.125826909509783, 'e5': 6.63604975719572},\n",
       " {'e1': 7.244470887014628, 'e2': 5.5359450896054065, 'e3': 6.578248388324625, 'e4': 5.751374444158027, 'e5': 5.468381640071775},\n",
       " {'e1': 9.970697716318654, 'e2': 6.897161010148312, 'e3': 7.416801908342855, 'e4': 8.858242053767182, 'e5': 8.2353390779304},\n",
       " {'e1': 5.9845845292857565, 'e2': 6.328613012790519, 'e3': 7.6948901392536015, 'e4': 6.338394730625084, 'e5': 6.090141381640967},\n",
       " {'e1': 6.916905536660835, 'e2': 8.409644533361252, 'e3': 7.094213901581042, 'e4': 4.405868496513027, 'e5': 8.400039248622369},\n",
       " {'e1': 8.342945189776033, 'e2': 8.219239413116277, 'e3': 5.806506319517391, 'e4': 9.621684710250173, 'e5': 8.778498859902548},\n",
       " {'e1': 6.097963055026026, 'e2': 6.49505158620616, 'e3': 7.354147190875327, 'e4': 5.7027203005862965, 'e5': 6.095251126332085},\n",
       " {'e1': 6.304487911694392, 'e2': 6.349044980507046, 'e3': 6.621349798964609, 'e4': 6.422366816379742, 'e5': 7.220907192790561},\n",
       " {'e1': 8.362122238256008, 'e2': 7.046812449615961, 'e3': 8.346044111998426, 'e4': 7.474053817524993, 'e5': 6.848660685664576},\n",
       " {'e1': 4.801557538984437, 'e2': 4.9302361540799, 'e3': 6.212930014793994, 'e4': 7.230042570158003, 'e5': 7.539983235489718},\n",
       " {'e1': 7.156863927008357, 'e2': 8.851877988540588, 'e3': 6.200967333533558, 'e4': 6.948924619097544, 'e5': 6.797930349787889},\n",
       " {'e1': 6.384590113513935, 'e2': 7.270810572010471, 'e3': 7.468761434335503, 'e4': 7.266424875638299, 'e5': 6.315197911909284},\n",
       " {'e1': 7.517378158590306, 'e2': 6.996781424082263, 'e3': 6.405470112236424, 'e4': 6.826822026396352, 'e5': 7.533124050286308},\n",
       " {'e1': 7.38111737349655, 'e2': 5.441799777552241, 'e3': 8.773725165128226, 'e4': 5.502038997418864, 'e5': 7.62121379222043},\n",
       " {'e1': 7.18797728854106, 'e2': 6.521773386391886, 'e3': 7.869119564054003, 'e4': 5.561292992954484, 'e5': 6.2944711767481865},\n",
       " {'e1': 4.820327503537776, 'e2': 6.450662316293551, 'e3': 7.9203826692881165, 'e4': 6.683958111623503, 'e5': 8.579739004953378},\n",
       " {'e1': 7.3845638994908835, 'e2': 5.714794820919978, 'e3': 7.321325355240808, 'e4': 6.667930090254713, 'e5': 7.879191894471425},\n",
       " {'e1': 8.026391234972959, 'e2': 6.919607373392294, 'e3': 5.804659787267719, 'e4': 7.306529679306109, 'e5': 9.345982193800264},\n",
       " {'e1': 4.781029242559654, 'e2': 4.6451921784785, 'e3': 7.301018830133172, 'e4': 8.48064107409199, 'e5': 6.11433207131032},\n",
       " {'e1': 7.406122281006474, 'e2': 8.836656155744532, 'e3': 6.913260774333777, 'e4': 8.598625869264028, 'e5': 6.57196505046077},\n",
       " {'e1': 6.472121171232981, 'e2': 9.011509349751279, 'e3': 6.940950135422883, 'e4': 6.107932380036017, 'e5': 5.5550466254743105},\n",
       " {'e1': 7.653052220108269, 'e2': 9.19149699486367, 'e3': 6.868375570236973, 'e4': 4.530254729732583, 'e5': 6.067739409998109},\n",
       " {'e1': 6.9138518676181, 'e2': 6.64427522079758, 'e3': 7.595626549729532, 'e4': 6.040184711670867, 'e5': 8.378273292814084},\n",
       " {'e1': 8.020719056344738, 'e2': 7.005632145470417, 'e3': 7.546590343855524, 'e4': 8.170580526269122, 'e5': 7.361641661188968},\n",
       " {'e1': 8.61216785400308, 'e2': 7.554404503593464, 'e3': 7.656205317058271, 'e4': 6.220817927164573, 'e5': 7.803723039690004},\n",
       " {'e1': 6.427929855595403, 'e2': 7.1458727839765, 'e3': 6.550133171704378, 'e4': 6.404000370515651, 'e5': 7.833177775091675},\n",
       " {'e1': 7.790477861253997, 'e2': 8.376799182957624, 'e3': 6.240434701249824, 'e4': 6.245424863938821, 'e5': 5.011440192369842},\n",
       " {'e1': 5.565273940165085, 'e2': 5.928138640038347, 'e3': 7.994341269982005, 'e4': 6.8640587719288355, 'e5': 5.828939049187651},\n",
       " {'e1': 5.852247249204421, 'e2': 6.534380972926781, 'e3': 7.4332037104723545, 'e4': 7.063860980901716, 'e5': 7.9266111491329045},\n",
       " {'e1': 5.1829275082206365, 'e2': 7.677081636705355, 'e3': 5.37112070080566, 'e4': 6.510680976608395, 'e5': 4.607677037110134},\n",
       " {'e1': 7.6590998613678165, 'e2': 7.731253901974954, 'e3': 7.405071391884627, 'e4': 5.181110922316785, 'e5': 8.143925236192299},\n",
       " {'e1': 8.042345377899784, 'e2': 5.438523492884563, 'e3': 7.657834376055251, 'e4': 8.974461614891236, 'e5': 6.209094402569996},\n",
       " {'e1': 6.099287527150738, 'e2': 6.737460891338504, 'e3': 6.765791054858718, 'e4': 9.102085579696235, 'e5': 8.686900635130893},\n",
       " {'e1': 7.313653011630972, 'e2': 9.811589671722784, 'e3': 6.323197378972283, 'e4': 6.5489472406450355, 'e5': 5.902711483268335},\n",
       " {'e1': 7.1039414027294185, 'e2': 8.167759822320344, 'e3': 7.504001952784234, 'e4': 8.712361589427351, 'e5': 8.384349597354362},\n",
       " {'e1': 7.823882513913846, 'e2': 6.551846483751475, 'e3': 6.027776177078125, 'e4': 7.8312056886079935, 'e5': 7.417927284787791},\n",
       " {'e1': 6.1547152472204925, 'e2': 7.855495969219014, 'e3': 5.586652458899812, 'e4': 5.832773293082165, 'e5': 7.104921191007159},\n",
       " {'e1': 6.7095870613976585, 'e2': 6.398973390303718, 'e3': 8.247306640455495, 'e4': 4.8868528192967755, 'e5': 5.938155652828403},\n",
       " {'e1': 8.151065458308713, 'e2': 5.325930083534191, 'e3': 6.909849033950144, 'e4': 7.103439267875318, 'e5': 6.188642202359215},\n",
       " {'e1': 5.322657674118602, 'e2': 8.647134286872786, 'e3': 9.074260522737251, 'e4': 5.869490680858178, 'e5': 9.314837718978968}]"
      ]
     },
     "execution_count": 70,
     "metadata": {},
     "output_type": "execute_result"
    }
   ],
   "source": [
    "%%kql -pw \n",
    "    let randn = () {rand() + rand() + rand() + rand() + rand() + rand() + rand() + rand() + rand() + rand() + rand() + rand() + rand() + rand()};\n",
    "range c from 1 to 1000 step 1 \n",
    "    | limit 1000\n",
    "    | extend e1 = randn()\n",
    "    | extend e2 = randn()\n",
    "    | extend e3 = randn()\n",
    "    | extend e4 = randn()\n",
    "    | extend e5 = randn()\n",
    "    | project e1,e2,e3,e4,e5\n",
    "    | render scatterchart title=\"Michael's chart\""
   ]
  },
  {
   "cell_type": "markdown",
   "metadata": {},
   "source": [
    "  - ### <span style=\"color:#82CAFA\">*Note: popup_window option (abbr: pw) cause the result to be displayed in a popup window*</span>"
   ]
  },
  {
   "cell_type": "markdown",
   "metadata": {},
   "source": [
    "## Empty table"
   ]
  },
  {
   "cell_type": "code",
   "execution_count": 71,
   "metadata": {},
   "outputs": [
    {
     "data": {
      "text/html": [
       "<html>\n",
       "        <head>\n",
       "        \n",
       "        </head>\n",
       "        <body>\n",
       "        <div><p style='padding: 10px; color: #3a87ad; background-color: #d9edf7; border-color: #bce9f1'>&nbsp*&nbspSamples@help</p></div>\n",
       "        </body>\n",
       "        </html>"
      ],
      "text/plain": [
       "<IPython.core.display.HTML object>"
      ]
     },
     "metadata": {},
     "output_type": "display_data"
    },
    {
     "data": {
      "text/html": [
       "<html>\n",
       "        <head>\n",
       "        \n",
       "        </head>\n",
       "        <body>\n",
       "        <table>\n",
       "    <tr>\n",
       "        <th>State</th>\n",
       "        <th>count_</th>\n",
       "        <th>count2</th>\n",
       "    </tr>\n",
       "</table>\n",
       "        </body>\n",
       "        </html>"
      ],
      "text/plain": [
       "<IPython.core.display.HTML object>"
      ]
     },
     "metadata": {},
     "output_type": "display_data"
    },
    {
     "data": {
      "text/html": [
       "<html>\n",
       "        <head>\n",
       "        \n",
       "        </head>\n",
       "        <body>\n",
       "        <div><p style='padding: 10px; color: #3a87ad; background-color: #d9edf7; border-color: #bce9f1'>Done&nbsp(00:00.831):&nbsp0&nbsprecords</p></div>\n",
       "        </body>\n",
       "        </html>"
      ],
      "text/plain": [
       "<IPython.core.display.HTML object>"
      ]
     },
     "metadata": {},
     "output_type": "display_data"
    },
    {
     "data": {
      "text/html": [],
      "text/plain": [
       "[]"
      ]
     },
     "execution_count": 71,
     "metadata": {},
     "output_type": "execute_result"
    }
   ],
   "source": [
    "%kql StormEvents | summarize count() by State | sort by count_ | extend count2 = count_*count_ | limit 0"
   ]
  },
  {
   "cell_type": "code",
   "execution_count": 72,
   "metadata": {},
   "outputs": [
    {
     "data": {
      "text/html": [
       "<html>\n",
       "        <head>\n",
       "        \n",
       "        </head>\n",
       "        <body>\n",
       "        <div><p style='padding: 10px; color: #3a87ad; background-color: #d9edf7; border-color: #bce9f1'>&nbsp*&nbspSamples@help</p></div>\n",
       "        </body>\n",
       "        </html>"
      ],
      "text/plain": [
       "<IPython.core.display.HTML object>"
      ]
     },
     "metadata": {},
     "output_type": "display_data"
    },
    {
     "data": {
      "text/html": [
       "<html>\n",
       "        <head>\n",
       "        <style>#uuid-91675c3464374341a0ceaa325ad36bbc {\n",
       "                display: block; \n",
       "                font-style:italic;\n",
       "                font-size:300%;\n",
       "                text-align:center;\n",
       "            } </style>\n",
       "        </head>\n",
       "        <body>\n",
       "        <div id=\"uuid-91675c3464374341a0ceaa325ad36bbc\"><br><br>EMPTY CHART (no data)<br><br>.</div>\n",
       "        </body>\n",
       "        </html>"
      ],
      "text/plain": [
       "<IPython.core.display.HTML object>"
      ]
     },
     "metadata": {},
     "output_type": "display_data"
    },
    {
     "data": {
      "text/html": [
       "<html>\n",
       "        <head>\n",
       "        \n",
       "        </head>\n",
       "        <body>\n",
       "        <div><p style='padding: 10px; color: #3a87ad; background-color: #d9edf7; border-color: #bce9f1'>Done&nbsp(00:00.761):&nbsp0&nbsprecords</p></div>\n",
       "        </body>\n",
       "        </html>"
      ],
      "text/plain": [
       "<IPython.core.display.HTML object>"
      ]
     },
     "metadata": {},
     "output_type": "display_data"
    },
    {
     "data": {
      "text/html": [],
      "text/plain": [
       "[]"
      ]
     },
     "execution_count": 72,
     "metadata": {},
     "output_type": "execute_result"
    }
   ],
   "source": [
    "%%kql \n",
    "    StormEvents\n",
    "    | summarize count() by State\n",
    "    | sort by count_ \n",
    "    | extend count2 = count_ * count_ \n",
    "    | limit 0 \n",
    "    | render piechart title='my chart'"
   ]
  },
  {
   "cell_type": "code",
   "execution_count": 73,
   "metadata": {},
   "outputs": [
    {
     "data": {
      "text/plain": [
       "0"
      ]
     },
     "execution_count": 73,
     "metadata": {},
     "output_type": "execute_result"
    }
   ],
   "source": [
    "len(_kql_raw_result_)"
   ]
  },
  {
   "cell_type": "code",
   "execution_count": 74,
   "metadata": {},
   "outputs": [
    {
     "data": {
      "text/html": [
       "<!DOCTYPE html>\n",
       "            <html><body>\n",
       "\n",
       "            <button onclick=\"this.style.visibility='hidden';kql_MagicLaunchWindowFunction('Kqlmagic_temp_files/61015633454a444ab808d0dd09014d2d.html','fullscreen=no,directories=no,location=no,menubar=no,resizable=yes,scrollbars=yes,status=no,titlebar=no,toolbar=no,','61015633454a444ab808d0dd09014d2d','')\">popup piechart - my chart </button>\n",
       "\n",
       "            <script>\n",
       "\n",
       "            function kql_MagicLaunchWindowFunction(file_path, window_params, window_name, notebooks_host) {\n",
       "                var url;\n",
       "                if (file_path.startsWith('http')) {\n",
       "                    url = file_path;\n",
       "                } else {\n",
       "                    var base_url = '';\n",
       "\n",
       "                    // check if azure notebook\n",
       "                    var azure_host = (notebooks_host == null || notebooks_host.length == 0) ? 'https://notebooks.azure.com' : notebooks_host;\n",
       "                    var start = azure_host.search('//');\n",
       "                    var azure_host_suffix = '.' + azure_host.substring(start+2);\n",
       "\n",
       "                    var loc = String(window.location);\n",
       "                    var end = loc.search(azure_host_suffix);\n",
       "                    start = loc.search('//');\n",
       "                    if (start > 0 && end > 0) {\n",
       "                        var parts = loc.substring(start+2, end).split('-');\n",
       "                        if (parts.length == 2) {\n",
       "                            var library = parts[0];\n",
       "                            var user = parts[1];\n",
       "                            base_url = azure_host + '/api/user/' +user+ '/library/' +library+ '/html/';\n",
       "                        }\n",
       "                    }\n",
       "\n",
       "                    // check if local jupyter lab\n",
       "                    if (base_url.length == 0) {\n",
       "                        var configDataScipt  = document.getElementById('jupyter-config-data');\n",
       "                        if (configDataScipt != null) {\n",
       "                            var jupyterConfigData = JSON.parse(configDataScipt.textContent);\n",
       "                            if (jupyterConfigData['appName'] == 'JupyterLab' && jupyterConfigData['serverRoot'] != null &&  jupyterConfigData['treeUrl'] != null) {\n",
       "                                var basePath = 'c:/My Projects/jupyter-Kqlmagic-microsoft-vsc/notebooks' + '/';\n",
       "                                if (basePath.startsWith(jupyterConfigData['serverRoot'])) {\n",
       "                                    base_url = '/files/' + basePath.substring(jupyterConfigData['serverRoot'].length+1);\n",
       "                                }\n",
       "                            } \n",
       "                        }\n",
       "                    }\n",
       "\n",
       "                    // assume local jupyter notebook\n",
       "                    if (base_url.length == 0) {\n",
       "\n",
       "                        var parts = loc.split('/');\n",
       "                        parts.pop();\n",
       "                        base_url = parts.join('/') + '/';\n",
       "                    }\n",
       "                    url = base_url + file_path;\n",
       "                }\n",
       "\n",
       "                window.focus();\n",
       "                var w = screen.width / 2;\n",
       "                var h = screen.height / 2;\n",
       "                params = 'width='+w+',height='+h;\n",
       "                kql_Magic_61015633454a444ab808d0dd09014d2d = window.open(url, window_name, window_params + params);\n",
       "            }\n",
       "            </script>\n",
       "\n",
       "            </body></html>"
      ],
      "text/plain": [
       "<IPython.core.display.HTML object>"
      ]
     },
     "metadata": {},
     "output_type": "display_data"
    }
   ],
   "source": [
    "_kql_raw_result_.popup()"
   ]
  },
  {
   "cell_type": "code",
   "execution_count": 75,
   "metadata": {},
   "outputs": [
    {
     "data": {
      "text/html": [
       "<html>\n",
       "        <head>\n",
       "        \n",
       "        </head>\n",
       "        <body>\n",
       "        <table>\n",
       "    <tr>\n",
       "        <th>State</th>\n",
       "        <th>count_</th>\n",
       "        <th>count2</th>\n",
       "    </tr>\n",
       "</table>\n",
       "        </body>\n",
       "        </html>"
      ],
      "text/plain": [
       "<IPython.core.display.HTML object>"
      ]
     },
     "metadata": {},
     "output_type": "display_data"
    }
   ],
   "source": [
    "_kql_raw_result_.show_table()"
   ]
  },
  {
   "cell_type": "code",
   "execution_count": 76,
   "metadata": {},
   "outputs": [
    {
     "data": {
      "text/html": [
       "<div>\n",
       "<style scoped>\n",
       "    .dataframe tbody tr th:only-of-type {\n",
       "        vertical-align: middle;\n",
       "    }\n",
       "\n",
       "    .dataframe tbody tr th {\n",
       "        vertical-align: top;\n",
       "    }\n",
       "\n",
       "    .dataframe thead th {\n",
       "        text-align: right;\n",
       "    }\n",
       "</style>\n",
       "<table border=\"1\" class=\"dataframe\">\n",
       "  <thead>\n",
       "    <tr style=\"text-align: right;\">\n",
       "      <th></th>\n",
       "      <th>State</th>\n",
       "      <th>count_</th>\n",
       "      <th>count2</th>\n",
       "    </tr>\n",
       "  </thead>\n",
       "  <tbody>\n",
       "  </tbody>\n",
       "</table>\n",
       "</div>"
      ],
      "text/plain": [
       "Empty DataFrame\n",
       "Columns: [State, count_, count2]\n",
       "Index: []"
      ]
     },
     "execution_count": 76,
     "metadata": {},
     "output_type": "execute_result"
    }
   ],
   "source": [
    "df = _kql_raw_result_.to_dataframe()\n",
    "df"
   ]
  },
  {
   "cell_type": "code",
   "execution_count": 77,
   "metadata": {},
   "outputs": [
    {
     "data": {
      "text/plain": [
       "'{\"State\":{},\"count_\":{},\"count2\":{}}'"
      ]
     },
     "execution_count": 77,
     "metadata": {},
     "output_type": "execute_result"
    }
   ],
   "source": [
    "df.to_json()"
   ]
  },
  {
   "cell_type": "code",
   "execution_count": 78,
   "metadata": {
    "scrolled": true
   },
   "outputs": [
    {
     "data": {
      "text/plain": [
       "[\n",
       "    {\n",
       "        \u001b[34;01m\"FrameType\"\u001b[39;49;00m: \u001b[33m\"DataSetHeader\"\u001b[39;49;00m,\n",
       "        \u001b[34;01m\"IsProgressive\"\u001b[39;49;00m: \u001b[34mfalse\u001b[39;49;00m,\n",
       "        \u001b[34;01m\"Version\"\u001b[39;49;00m: \u001b[33m\"v2.0\"\u001b[39;49;00m\n",
       "    },\n",
       "    {\n",
       "        \u001b[34;01m\"Columns\"\u001b[39;49;00m: [\n",
       "            {\n",
       "                \u001b[34;01m\"ColumnName\"\u001b[39;49;00m: \u001b[33m\"TableId\"\u001b[39;49;00m,\n",
       "                \u001b[34;01m\"ColumnType\"\u001b[39;49;00m: \u001b[33m\"int\"\u001b[39;49;00m\n",
       "            },\n",
       "            {\n",
       "                \u001b[34;01m\"ColumnName\"\u001b[39;49;00m: \u001b[33m\"Key\"\u001b[39;49;00m,\n",
       "                \u001b[34;01m\"ColumnType\"\u001b[39;49;00m: \u001b[33m\"string\"\u001b[39;49;00m\n",
       "            },\n",
       "            {\n",
       "                \u001b[34;01m\"ColumnName\"\u001b[39;49;00m: \u001b[33m\"Value\"\u001b[39;49;00m,\n",
       "                \u001b[34;01m\"ColumnType\"\u001b[39;49;00m: \u001b[33m\"dynamic\"\u001b[39;49;00m\n",
       "            }\n",
       "        ],\n",
       "        \u001b[34;01m\"FrameType\"\u001b[39;49;00m: \u001b[33m\"DataTable\"\u001b[39;49;00m,\n",
       "        \u001b[34;01m\"Rows\"\u001b[39;49;00m: [\n",
       "            [\n",
       "                \u001b[34m1\u001b[39;49;00m,\n",
       "                \u001b[33m\"Visualization\"\u001b[39;49;00m,\n",
       "                \u001b[33m\"{\\\"Visualization\\\":\\\"piechart\\\",\\\"Title\\\":\\\"my chart\\\",\\\"XColumn\\\":null,\\\"Series\\\":null,\\\"YColumns\\\":null,\\\"XTitle\\\":null,\\\"YTitle\\\":null,\\\"XAxis\\\":null,\\\"YAxis\\\":null,\\\"Legend\\\":null,\\\"YSplit\\\":null,\\\"Accumulate\\\":false,\\\"IsQuerySorted\\\":true,\\\"Kind\\\":null}\"\u001b[39;49;00m\n",
       "            ]\n",
       "        ],\n",
       "        \u001b[34;01m\"TableId\"\u001b[39;49;00m: \u001b[34m0\u001b[39;49;00m,\n",
       "        \u001b[34;01m\"TableKind\"\u001b[39;49;00m: \u001b[33m\"QueryProperties\"\u001b[39;49;00m,\n",
       "        \u001b[34;01m\"TableName\"\u001b[39;49;00m: \u001b[33m\"@ExtendedProperties\"\u001b[39;49;00m\n",
       "    },\n",
       "    {\n",
       "        \u001b[34;01m\"Columns\"\u001b[39;49;00m: [\n",
       "            {\n",
       "                \u001b[34;01m\"ColumnName\"\u001b[39;49;00m: \u001b[33m\"State\"\u001b[39;49;00m,\n",
       "                \u001b[34;01m\"ColumnType\"\u001b[39;49;00m: \u001b[33m\"string\"\u001b[39;49;00m\n",
       "            },\n",
       "            {\n",
       "                \u001b[34;01m\"ColumnName\"\u001b[39;49;00m: \u001b[33m\"count_\"\u001b[39;49;00m,\n",
       "                \u001b[34;01m\"ColumnType\"\u001b[39;49;00m: \u001b[33m\"long\"\u001b[39;49;00m\n",
       "            },\n",
       "            {\n",
       "                \u001b[34;01m\"ColumnName\"\u001b[39;49;00m: \u001b[33m\"count2\"\u001b[39;49;00m,\n",
       "                \u001b[34;01m\"ColumnType\"\u001b[39;49;00m: \u001b[33m\"long\"\u001b[39;49;00m\n",
       "            }\n",
       "        ],\n",
       "        \u001b[34;01m\"FrameType\"\u001b[39;49;00m: \u001b[33m\"DataTable\"\u001b[39;49;00m,\n",
       "        \u001b[34;01m\"Rows\"\u001b[39;49;00m: [],\n",
       "        \u001b[34;01m\"TableId\"\u001b[39;49;00m: \u001b[34m1\u001b[39;49;00m,\n",
       "        \u001b[34;01m\"TableKind\"\u001b[39;49;00m: \u001b[33m\"PrimaryResult\"\u001b[39;49;00m,\n",
       "        \u001b[34;01m\"TableName\"\u001b[39;49;00m: \u001b[33m\"PrimaryResult\"\u001b[39;49;00m\n",
       "    },\n",
       "    {\n",
       "        \u001b[34;01m\"Columns\"\u001b[39;49;00m: [\n",
       "            {\n",
       "                \u001b[34;01m\"ColumnName\"\u001b[39;49;00m: \u001b[33m\"Timestamp\"\u001b[39;49;00m,\n",
       "                \u001b[34;01m\"ColumnType\"\u001b[39;49;00m: \u001b[33m\"datetime\"\u001b[39;49;00m\n",
       "            },\n",
       "            {\n",
       "                \u001b[34;01m\"ColumnName\"\u001b[39;49;00m: \u001b[33m\"ClientRequestId\"\u001b[39;49;00m,\n",
       "                \u001b[34;01m\"ColumnType\"\u001b[39;49;00m: \u001b[33m\"string\"\u001b[39;49;00m\n",
       "            },\n",
       "            {\n",
       "                \u001b[34;01m\"ColumnName\"\u001b[39;49;00m: \u001b[33m\"ActivityId\"\u001b[39;49;00m,\n",
       "                \u001b[34;01m\"ColumnType\"\u001b[39;49;00m: \u001b[33m\"guid\"\u001b[39;49;00m\n",
       "            },\n",
       "            {\n",
       "                \u001b[34;01m\"ColumnName\"\u001b[39;49;00m: \u001b[33m\"SubActivityId\"\u001b[39;49;00m,\n",
       "                \u001b[34;01m\"ColumnType\"\u001b[39;49;00m: \u001b[33m\"guid\"\u001b[39;49;00m\n",
       "            },\n",
       "            {\n",
       "                \u001b[34;01m\"ColumnName\"\u001b[39;49;00m: \u001b[33m\"ParentActivityId\"\u001b[39;49;00m,\n",
       "                \u001b[34;01m\"ColumnType\"\u001b[39;49;00m: \u001b[33m\"guid\"\u001b[39;49;00m\n",
       "            },\n",
       "            {\n",
       "                \u001b[34;01m\"ColumnName\"\u001b[39;49;00m: \u001b[33m\"Level\"\u001b[39;49;00m,\n",
       "                \u001b[34;01m\"ColumnType\"\u001b[39;49;00m: \u001b[33m\"int\"\u001b[39;49;00m\n",
       "            },\n",
       "            {\n",
       "                \u001b[34;01m\"ColumnName\"\u001b[39;49;00m: \u001b[33m\"LevelName\"\u001b[39;49;00m,\n",
       "                \u001b[34;01m\"ColumnType\"\u001b[39;49;00m: \u001b[33m\"string\"\u001b[39;49;00m\n",
       "            },\n",
       "            {\n",
       "                \u001b[34;01m\"ColumnName\"\u001b[39;49;00m: \u001b[33m\"StatusCode\"\u001b[39;49;00m,\n",
       "                \u001b[34;01m\"ColumnType\"\u001b[39;49;00m: \u001b[33m\"int\"\u001b[39;49;00m\n",
       "            },\n",
       "            {\n",
       "                \u001b[34;01m\"ColumnName\"\u001b[39;49;00m: \u001b[33m\"StatusCodeName\"\u001b[39;49;00m,\n",
       "                \u001b[34;01m\"ColumnType\"\u001b[39;49;00m: \u001b[33m\"string\"\u001b[39;49;00m\n",
       "            },\n",
       "            {\n",
       "                \u001b[34;01m\"ColumnName\"\u001b[39;49;00m: \u001b[33m\"EventType\"\u001b[39;49;00m,\n",
       "                \u001b[34;01m\"ColumnType\"\u001b[39;49;00m: \u001b[33m\"int\"\u001b[39;49;00m\n",
       "            },\n",
       "            {\n",
       "                \u001b[34;01m\"ColumnName\"\u001b[39;49;00m: \u001b[33m\"EventTypeName\"\u001b[39;49;00m,\n",
       "                \u001b[34;01m\"ColumnType\"\u001b[39;49;00m: \u001b[33m\"string\"\u001b[39;49;00m\n",
       "            },\n",
       "            {\n",
       "                \u001b[34;01m\"ColumnName\"\u001b[39;49;00m: \u001b[33m\"Payload\"\u001b[39;49;00m,\n",
       "                \u001b[34;01m\"ColumnType\"\u001b[39;49;00m: \u001b[33m\"string\"\u001b[39;49;00m\n",
       "            }\n",
       "        ],\n",
       "        \u001b[34;01m\"FrameType\"\u001b[39;49;00m: \u001b[33m\"DataTable\"\u001b[39;49;00m,\n",
       "        \u001b[34;01m\"Rows\"\u001b[39;49;00m: [\n",
       "            [\n",
       "                \u001b[33m\"2018-10-21T17:03:25.5803013Z\"\u001b[39;49;00m,\n",
       "                \u001b[33m\"KPC.execute;ee185bb2-19c6-464a-91f5-a51e2bce16b5\"\u001b[39;49;00m,\n",
       "                \u001b[33m\"15db3162-865f-4d43-82b3-27fb4a09873a\"\u001b[39;49;00m,\n",
       "                \u001b[33m\"a1882779-3d09-4886-ac68-740865625924\"\u001b[39;49;00m,\n",
       "                \u001b[33m\"b0b3f8fc-a9e1-4b9a-ab42-fa4c450d5846\"\u001b[39;49;00m,\n",
       "                \u001b[34m4\u001b[39;49;00m,\n",
       "                \u001b[33m\"Info\"\u001b[39;49;00m,\n",
       "                \u001b[34m0\u001b[39;49;00m,\n",
       "                \u001b[33m\"S_OK (0)\"\u001b[39;49;00m,\n",
       "                \u001b[34m4\u001b[39;49;00m,\n",
       "                \u001b[33m\"QueryInfo\"\u001b[39;49;00m,\n",
       "                \u001b[33m\"{\\\"Count\\\":1,\\\"Text\\\":\\\"Query completed successfully\\\"}\"\u001b[39;49;00m\n",
       "            ],\n",
       "            [\n",
       "                \u001b[33m\"2018-10-21T17:03:25.5788162Z\"\u001b[39;49;00m,\n",
       "                \u001b[33m\"KPC.execute;ee185bb2-19c6-464a-91f5-a51e2bce16b5\"\u001b[39;49;00m,\n",
       "                \u001b[33m\"15db3162-865f-4d43-82b3-27fb4a09873a\"\u001b[39;49;00m,\n",
       "                \u001b[33m\"a1882779-3d09-4886-ac68-740865625924\"\u001b[39;49;00m,\n",
       "                \u001b[33m\"b0b3f8fc-a9e1-4b9a-ab42-fa4c450d5846\"\u001b[39;49;00m,\n",
       "                \u001b[34m6\u001b[39;49;00m,\n",
       "                \u001b[33m\"Stats\"\u001b[39;49;00m,\n",
       "                \u001b[34m0\u001b[39;49;00m,\n",
       "                \u001b[33m\"S_OK (0)\"\u001b[39;49;00m,\n",
       "                \u001b[34m0\u001b[39;49;00m,\n",
       "                \u001b[33m\"QueryResourceConsumption\"\u001b[39;49;00m,\n",
       "                \u001b[33m\"{\\\"ExecutionTime\\\":0.0156121,\\\"resource_usage\\\":{\\\"cache\\\":{\\\"memory\\\":{\\\"hits\\\":71,\\\"misses\\\":0,\\\"total\\\":71},\\\"disk\\\":{\\\"hits\\\":0,\\\"misses\\\":0,\\\"total\\\":0}},\\\"cpu\\\":{\\\"user\\\":\\\"00:00:00\\\",\\\"kernel\\\":\\\"00:00:00\\\",\\\"total cpu\\\":\\\"00:00:00\\\"},\\\"memory\\\":{\\\"peak_per_node\\\":0}},\\\"input_dataset_statistics\\\":{\\\"extents\\\":{\\\"total\\\":1,\\\"scanned\\\":1},\\\"rows\\\":{\\\"total\\\":59066,\\\"scanned\\\":59066},\\\"rowstores\\\":{\\\"scanned_rows\\\":0}},\\\"dataset_statistics\\\":[{\\\"table_row_count\\\":0,\\\"table_size\\\":0}]}\"\u001b[39;49;00m\n",
       "            ]\n",
       "        ],\n",
       "        \u001b[34;01m\"TableId\"\u001b[39;49;00m: \u001b[34m2\u001b[39;49;00m,\n",
       "        \u001b[34;01m\"TableKind\"\u001b[39;49;00m: \u001b[33m\"QueryCompletionInformation\"\u001b[39;49;00m,\n",
       "        \u001b[34;01m\"TableName\"\u001b[39;49;00m: \u001b[33m\"QueryCompletionInformation\"\u001b[39;49;00m\n",
       "    },\n",
       "    {\n",
       "        \u001b[34;01m\"Cancelled\"\u001b[39;49;00m: \u001b[34mfalse\u001b[39;49;00m,\n",
       "        \u001b[34;01m\"FrameType\"\u001b[39;49;00m: \u001b[33m\"DataSetCompletion\"\u001b[39;49;00m,\n",
       "        \u001b[34;01m\"HasErrors\"\u001b[39;49;00m: \u001b[34mfalse\u001b[39;49;00m\n",
       "    }\n",
       "]"
      ]
     },
     "execution_count": 78,
     "metadata": {},
     "output_type": "execute_result"
    }
   ],
   "source": [
    "_kql_raw_result_.raw_json"
   ]
  },
  {
   "cell_type": "markdown",
   "metadata": {},
   "source": [
    "## Kql request with fork - return multiple tables"
   ]
  },
  {
   "cell_type": "code",
   "execution_count": 79,
   "metadata": {},
   "outputs": [
    {
     "data": {
      "text/html": [
       "<html>\n",
       "        <head>\n",
       "        \n",
       "        </head>\n",
       "        <body>\n",
       "        <div><p style='padding: 10px; color: #3a87ad; background-color: #d9edf7; border-color: #bce9f1'>&nbsp*&nbspSamples@help</p></div>\n",
       "        </body>\n",
       "        </html>"
      ],
      "text/plain": [
       "<IPython.core.display.HTML object>"
      ]
     },
     "metadata": {},
     "output_type": "display_data"
    },
    {
     "data": {
      "text/html": [
       "<html>\n",
       "        <head>\n",
       "        \n",
       "        </head>\n",
       "        <body>\n",
       "        <table>\n",
       "    <tr>\n",
       "        <th>State</th>\n",
       "        <th>count_</th>\n",
       "        <th>count2</th>\n",
       "    </tr>\n",
       "    <tr>\n",
       "        <td>TEXAS</td>\n",
       "        <td>4701</td>\n",
       "        <td>22099401</td>\n",
       "    </tr>\n",
       "    <tr>\n",
       "        <td>KANSAS</td>\n",
       "        <td>3166</td>\n",
       "        <td>10023556</td>\n",
       "    </tr>\n",
       "    <tr>\n",
       "        <td>IOWA</td>\n",
       "        <td>2337</td>\n",
       "        <td>5461569</td>\n",
       "    </tr>\n",
       "    <tr>\n",
       "        <td>ILLINOIS</td>\n",
       "        <td>2022</td>\n",
       "        <td>4088484</td>\n",
       "    </tr>\n",
       "    <tr>\n",
       "        <td>MISSOURI</td>\n",
       "        <td>2016</td>\n",
       "        <td>4064256</td>\n",
       "    </tr>\n",
       "    <tr>\n",
       "        <td>GEORGIA</td>\n",
       "        <td>1983</td>\n",
       "        <td>3932289</td>\n",
       "    </tr>\n",
       "    <tr>\n",
       "        <td>MINNESOTA</td>\n",
       "        <td>1881</td>\n",
       "        <td>3538161</td>\n",
       "    </tr>\n",
       "    <tr>\n",
       "        <td>WISCONSIN</td>\n",
       "        <td>1850</td>\n",
       "        <td>3422500</td>\n",
       "    </tr>\n",
       "    <tr>\n",
       "        <td>NEBRASKA</td>\n",
       "        <td>1766</td>\n",
       "        <td>3118756</td>\n",
       "    </tr>\n",
       "    <tr>\n",
       "        <td>NEW YORK</td>\n",
       "        <td>1750</td>\n",
       "        <td>3062500</td>\n",
       "    </tr>\n",
       "</table>\n",
       "        </body>\n",
       "        </html>"
      ],
      "text/plain": [
       "<IPython.core.display.HTML object>"
      ]
     },
     "metadata": {},
     "output_type": "display_data"
    },
    {
     "data": {
      "text/html": [
       "<html>\n",
       "        <head>\n",
       "        \n",
       "        </head>\n",
       "        <body>\n",
       "        <div><p style='padding: 10px; color: #3a87ad; background-color: #d9edf7; border-color: #bce9f1'>Done&nbsp(00:00.763):&nbsp10&nbsprecords</p></div>\n",
       "        </body>\n",
       "        </html>"
      ],
      "text/plain": [
       "<IPython.core.display.HTML object>"
      ]
     },
     "metadata": {},
     "output_type": "display_data"
    },
    {
     "data": {
      "text/html": [],
      "text/plain": [
       "[{'State': 'TEXAS', 'count_': 4701, 'count2': 22099401},\n",
       " {'State': 'KANSAS', 'count_': 3166, 'count2': 10023556},\n",
       " {'State': 'IOWA', 'count_': 2337, 'count2': 5461569},\n",
       " {'State': 'ILLINOIS', 'count_': 2022, 'count2': 4088484},\n",
       " {'State': 'MISSOURI', 'count_': 2016, 'count2': 4064256},\n",
       " {'State': 'GEORGIA', 'count_': 1983, 'count2': 3932289},\n",
       " {'State': 'MINNESOTA', 'count_': 1881, 'count2': 3538161},\n",
       " {'State': 'WISCONSIN', 'count_': 1850, 'count2': 3422500},\n",
       " {'State': 'NEBRASKA', 'count_': 1766, 'count2': 3118756},\n",
       " {'State': 'NEW YORK', 'count_': 1750, 'count2': 3062500}]"
      ]
     },
     "execution_count": 79,
     "metadata": {},
     "output_type": "execute_result"
    }
   ],
   "source": [
    "%%kql \n",
    "    StormEvents\n",
    "    | summarize count() by State\n",
    "    | sort by count_ \n",
    "    | extend count2 = count_ * count_ \n",
    "    | fork (limit 10) (project State | limit 5)"
   ]
  },
  {
   "cell_type": "code",
   "execution_count": 80,
   "metadata": {},
   "outputs": [
    {
     "data": {
      "text/html": [
       "<html>\n",
       "        <head>\n",
       "        \n",
       "        </head>\n",
       "        <body>\n",
       "        <div><p style='padding: 10px; color: #3a87ad; background-color: #d9edf7; border-color: #bce9f1'>&nbsp*&nbspSamples@help</p></div>\n",
       "        </body>\n",
       "        </html>"
      ],
      "text/plain": [
       "<IPython.core.display.HTML object>"
      ]
     },
     "metadata": {},
     "output_type": "display_data"
    },
    {
     "data": {
      "text/html": [
       "<html>\n",
       "        <head>\n",
       "        \n",
       "        </head>\n",
       "        <body>\n",
       "        <table>\n",
       "    <tr>\n",
       "        <th>State</th>\n",
       "    </tr>\n",
       "    <tr>\n",
       "        <td>TEXAS</td>\n",
       "    </tr>\n",
       "    <tr>\n",
       "        <td>KANSAS</td>\n",
       "    </tr>\n",
       "    <tr>\n",
       "        <td>IOWA</td>\n",
       "    </tr>\n",
       "    <tr>\n",
       "        <td>ILLINOIS</td>\n",
       "    </tr>\n",
       "    <tr>\n",
       "        <td>MISSOURI</td>\n",
       "    </tr>\n",
       "</table>\n",
       "        </body>\n",
       "        </html>"
      ],
      "text/plain": [
       "<IPython.core.display.HTML object>"
      ]
     },
     "metadata": {},
     "output_type": "display_data"
    },
    {
     "data": {
      "text/html": [
       "<html>\n",
       "        <head>\n",
       "        \n",
       "        </head>\n",
       "        <body>\n",
       "        <div><p style='padding: 10px; color: #3a87ad; background-color: #d9edf7; border-color: #bce9f1'>Done&nbsp(00:00.763):&nbsp5&nbsprecords</p></div>\n",
       "        </body>\n",
       "        </html>"
      ],
      "text/plain": [
       "<IPython.core.display.HTML object>"
      ]
     },
     "metadata": {},
     "output_type": "display_data"
    },
    {
     "data": {
      "text/html": [],
      "text/plain": [
       "[{'State': 'TEXAS'},\n",
       " {'State': 'KANSAS'},\n",
       " {'State': 'IOWA'},\n",
       " {'State': 'ILLINOIS'},\n",
       " {'State': 'MISSOURI'}]"
      ]
     },
     "execution_count": 80,
     "metadata": {},
     "output_type": "execute_result"
    }
   ],
   "source": [
    "_kql_raw_result_.fork_result(1)"
   ]
  },
  {
   "cell_type": "markdown",
   "metadata": {},
   "source": [
    "## Submit same query"
   ]
  },
  {
   "cell_type": "code",
   "execution_count": 81,
   "metadata": {
    "scrolled": false
   },
   "outputs": [
    {
     "data": {
      "text/html": [
       "<html>\n",
       "        <head>\n",
       "        \n",
       "        </head>\n",
       "        <body>\n",
       "        <div><p style='padding: 10px; color: #3a87ad; background-color: #d9edf7; border-color: #bce9f1'>&nbsp*&nbspSamples@help</p></div>\n",
       "        </body>\n",
       "        </html>"
      ],
      "text/plain": [
       "<IPython.core.display.HTML object>"
      ]
     },
     "metadata": {},
     "output_type": "display_data"
    },
    {
     "data": {
      "text/html": [
       "<html>\n",
       "        <head>\n",
       "        \n",
       "        </head>\n",
       "        <body>\n",
       "        <table>\n",
       "    <tr>\n",
       "        <th>State</th>\n",
       "        <th>count_</th>\n",
       "        <th>count2</th>\n",
       "    </tr>\n",
       "    <tr>\n",
       "        <td>TEXAS</td>\n",
       "        <td>4701</td>\n",
       "        <td>22099401</td>\n",
       "    </tr>\n",
       "    <tr>\n",
       "        <td>KANSAS</td>\n",
       "        <td>3166</td>\n",
       "        <td>10023556</td>\n",
       "    </tr>\n",
       "    <tr>\n",
       "        <td>IOWA</td>\n",
       "        <td>2337</td>\n",
       "        <td>5461569</td>\n",
       "    </tr>\n",
       "    <tr>\n",
       "        <td>ILLINOIS</td>\n",
       "        <td>2022</td>\n",
       "        <td>4088484</td>\n",
       "    </tr>\n",
       "    <tr>\n",
       "        <td>MISSOURI</td>\n",
       "        <td>2016</td>\n",
       "        <td>4064256</td>\n",
       "    </tr>\n",
       "    <tr>\n",
       "        <td>GEORGIA</td>\n",
       "        <td>1983</td>\n",
       "        <td>3932289</td>\n",
       "    </tr>\n",
       "    <tr>\n",
       "        <td>MINNESOTA</td>\n",
       "        <td>1881</td>\n",
       "        <td>3538161</td>\n",
       "    </tr>\n",
       "    <tr>\n",
       "        <td>WISCONSIN</td>\n",
       "        <td>1850</td>\n",
       "        <td>3422500</td>\n",
       "    </tr>\n",
       "    <tr>\n",
       "        <td>NEBRASKA</td>\n",
       "        <td>1766</td>\n",
       "        <td>3118756</td>\n",
       "    </tr>\n",
       "    <tr>\n",
       "        <td>NEW YORK</td>\n",
       "        <td>1750</td>\n",
       "        <td>3062500</td>\n",
       "    </tr>\n",
       "</table>\n",
       "        </body>\n",
       "        </html>"
      ],
      "text/plain": [
       "<IPython.core.display.HTML object>"
      ]
     },
     "metadata": {},
     "output_type": "display_data"
    },
    {
     "data": {
      "text/html": [
       "<html>\n",
       "        <head>\n",
       "        \n",
       "        </head>\n",
       "        <body>\n",
       "        <div><p style='padding: 10px; color: #3a87ad; background-color: #d9edf7; border-color: #bce9f1'>Done&nbsp(00:00.785):&nbsp10&nbsprecords</p></div>\n",
       "        </body>\n",
       "        </html>"
      ],
      "text/plain": [
       "<IPython.core.display.HTML object>"
      ]
     },
     "metadata": {},
     "output_type": "display_data"
    },
    {
     "data": {
      "text/html": [],
      "text/plain": [
       "[{'State': 'TEXAS', 'count_': 4701, 'count2': 22099401},\n",
       " {'State': 'KANSAS', 'count_': 3166, 'count2': 10023556},\n",
       " {'State': 'IOWA', 'count_': 2337, 'count2': 5461569},\n",
       " {'State': 'ILLINOIS', 'count_': 2022, 'count2': 4088484},\n",
       " {'State': 'MISSOURI', 'count_': 2016, 'count2': 4064256},\n",
       " {'State': 'GEORGIA', 'count_': 1983, 'count2': 3932289},\n",
       " {'State': 'MINNESOTA', 'count_': 1881, 'count2': 3538161},\n",
       " {'State': 'WISCONSIN', 'count_': 1850, 'count2': 3422500},\n",
       " {'State': 'NEBRASKA', 'count_': 1766, 'count2': 3118756},\n",
       " {'State': 'NEW YORK', 'count_': 1750, 'count2': 3062500}]"
      ]
     },
     "execution_count": 81,
     "metadata": {},
     "output_type": "execute_result"
    }
   ],
   "source": [
    " _kql_raw_result_.submit()"
   ]
  },
  {
   "cell_type": "code",
   "execution_count": 82,
   "metadata": {},
   "outputs": [
    {
     "data": {
      "text/html": [
       "<html>\n",
       "        <head>\n",
       "        \n",
       "        </head>\n",
       "        <body>\n",
       "        <div><p style='padding: 10px; color: #3a87ad; background-color: #d9edf7; border-color: #bce9f1'>&nbsp*&nbspSamples@help</p></div>\n",
       "        </body>\n",
       "        </html>"
      ],
      "text/plain": [
       "<IPython.core.display.HTML object>"
      ]
     },
     "metadata": {},
     "output_type": "display_data"
    },
    {
     "data": {
      "text/html": [
       "<html>\n",
       "        <head>\n",
       "        \n",
       "        </head>\n",
       "        <body>\n",
       "        <table>\n",
       "    <tr>\n",
       "        <th>State</th>\n",
       "    </tr>\n",
       "    <tr>\n",
       "        <td>TEXAS</td>\n",
       "    </tr>\n",
       "    <tr>\n",
       "        <td>KANSAS</td>\n",
       "    </tr>\n",
       "    <tr>\n",
       "        <td>IOWA</td>\n",
       "    </tr>\n",
       "    <tr>\n",
       "        <td>ILLINOIS</td>\n",
       "    </tr>\n",
       "    <tr>\n",
       "        <td>MISSOURI</td>\n",
       "    </tr>\n",
       "</table>\n",
       "        </body>\n",
       "        </html>"
      ],
      "text/plain": [
       "<IPython.core.display.HTML object>"
      ]
     },
     "metadata": {},
     "output_type": "display_data"
    },
    {
     "data": {
      "text/html": [
       "<html>\n",
       "        <head>\n",
       "        \n",
       "        </head>\n",
       "        <body>\n",
       "        <div><p style='padding: 10px; color: #3a87ad; background-color: #d9edf7; border-color: #bce9f1'>Done&nbsp(00:00.785):&nbsp5&nbsprecords</p></div>\n",
       "        </body>\n",
       "        </html>"
      ],
      "text/plain": [
       "<IPython.core.display.HTML object>"
      ]
     },
     "metadata": {},
     "output_type": "display_data"
    },
    {
     "data": {
      "text/html": [],
      "text/plain": [
       "[{'State': 'TEXAS'},\n",
       " {'State': 'KANSAS'},\n",
       " {'State': 'IOWA'},\n",
       " {'State': 'ILLINOIS'},\n",
       " {'State': 'MISSOURI'}]"
      ]
     },
     "execution_count": 82,
     "metadata": {},
     "output_type": "execute_result"
    }
   ],
   "source": [
    " _kql_raw_result_.fork_result(1)"
   ]
  },
  {
   "cell_type": "markdown",
   "metadata": {},
   "source": [
    "## Refresh query"
   ]
  },
  {
   "cell_type": "code",
   "execution_count": 83,
   "metadata": {},
   "outputs": [
    {
     "data": {
      "text/html": [
       "<html>\n",
       "        <head>\n",
       "        \n",
       "        </head>\n",
       "        <body>\n",
       "        <div><p style='padding: 10px; color: #3a87ad; background-color: #d9edf7; border-color: #bce9f1'>&nbsp*&nbspSamples@help</p></div>\n",
       "        </body>\n",
       "        </html>"
      ],
      "text/plain": [
       "<IPython.core.display.HTML object>"
      ]
     },
     "metadata": {},
     "output_type": "display_data"
    },
    {
     "data": {
      "text/html": [
       "<html>\n",
       "        <head>\n",
       "        \n",
       "        </head>\n",
       "        <body>\n",
       "        <table>\n",
       "    <tr>\n",
       "        <th>State</th>\n",
       "    </tr>\n",
       "    <tr>\n",
       "        <td>TEXAS</td>\n",
       "    </tr>\n",
       "    <tr>\n",
       "        <td>KANSAS</td>\n",
       "    </tr>\n",
       "    <tr>\n",
       "        <td>IOWA</td>\n",
       "    </tr>\n",
       "    <tr>\n",
       "        <td>ILLINOIS</td>\n",
       "    </tr>\n",
       "    <tr>\n",
       "        <td>MISSOURI</td>\n",
       "    </tr>\n",
       "</table>\n",
       "        </body>\n",
       "        </html>"
      ],
      "text/plain": [
       "<IPython.core.display.HTML object>"
      ]
     },
     "metadata": {},
     "output_type": "display_data"
    },
    {
     "data": {
      "text/html": [
       "<html>\n",
       "        <head>\n",
       "        \n",
       "        </head>\n",
       "        <body>\n",
       "        <div><p style='padding: 10px; color: #3a87ad; background-color: #d9edf7; border-color: #bce9f1'>Done&nbsp(00:00.780):&nbsp5&nbsprecords</p></div>\n",
       "        </body>\n",
       "        </html>"
      ],
      "text/plain": [
       "<IPython.core.display.HTML object>"
      ]
     },
     "metadata": {},
     "output_type": "display_data"
    },
    {
     "data": {
      "text/html": [],
      "text/plain": [
       "[{'State': 'TEXAS'},\n",
       " {'State': 'KANSAS'},\n",
       " {'State': 'IOWA'},\n",
       " {'State': 'ILLINOIS'},\n",
       " {'State': 'MISSOURI'}]"
      ]
     },
     "execution_count": 83,
     "metadata": {},
     "output_type": "execute_result"
    }
   ],
   "source": [
    "_kql_raw_result_.fork_result(1).refresh()"
   ]
  },
  {
   "cell_type": "code",
   "execution_count": 84,
   "metadata": {},
   "outputs": [
    {
     "data": {
      "text/html": [
       "<html>\n",
       "        <head>\n",
       "        \n",
       "        </head>\n",
       "        <body>\n",
       "        <div><p style='padding: 10px; color: #3a87ad; background-color: #d9edf7; border-color: #bce9f1'>&nbsp*&nbspSamples@help</p></div>\n",
       "        </body>\n",
       "        </html>"
      ],
      "text/plain": [
       "<IPython.core.display.HTML object>"
      ]
     },
     "metadata": {},
     "output_type": "display_data"
    },
    {
     "data": {
      "text/html": [
       "<html>\n",
       "        <head>\n",
       "        \n",
       "        </head>\n",
       "        <body>\n",
       "        <table>\n",
       "    <tr>\n",
       "        <th>State</th>\n",
       "        <th>count_</th>\n",
       "        <th>count2</th>\n",
       "    </tr>\n",
       "    <tr>\n",
       "        <td>TEXAS</td>\n",
       "        <td>4701</td>\n",
       "        <td>22099401</td>\n",
       "    </tr>\n",
       "    <tr>\n",
       "        <td>KANSAS</td>\n",
       "        <td>3166</td>\n",
       "        <td>10023556</td>\n",
       "    </tr>\n",
       "    <tr>\n",
       "        <td>IOWA</td>\n",
       "        <td>2337</td>\n",
       "        <td>5461569</td>\n",
       "    </tr>\n",
       "    <tr>\n",
       "        <td>ILLINOIS</td>\n",
       "        <td>2022</td>\n",
       "        <td>4088484</td>\n",
       "    </tr>\n",
       "    <tr>\n",
       "        <td>MISSOURI</td>\n",
       "        <td>2016</td>\n",
       "        <td>4064256</td>\n",
       "    </tr>\n",
       "    <tr>\n",
       "        <td>GEORGIA</td>\n",
       "        <td>1983</td>\n",
       "        <td>3932289</td>\n",
       "    </tr>\n",
       "    <tr>\n",
       "        <td>MINNESOTA</td>\n",
       "        <td>1881</td>\n",
       "        <td>3538161</td>\n",
       "    </tr>\n",
       "    <tr>\n",
       "        <td>WISCONSIN</td>\n",
       "        <td>1850</td>\n",
       "        <td>3422500</td>\n",
       "    </tr>\n",
       "    <tr>\n",
       "        <td>NEBRASKA</td>\n",
       "        <td>1766</td>\n",
       "        <td>3118756</td>\n",
       "    </tr>\n",
       "    <tr>\n",
       "        <td>NEW YORK</td>\n",
       "        <td>1750</td>\n",
       "        <td>3062500</td>\n",
       "    </tr>\n",
       "</table>\n",
       "        </body>\n",
       "        </html>"
      ],
      "text/plain": [
       "<IPython.core.display.HTML object>"
      ]
     },
     "metadata": {},
     "output_type": "display_data"
    },
    {
     "data": {
      "text/html": [
       "<html>\n",
       "        <head>\n",
       "        \n",
       "        </head>\n",
       "        <body>\n",
       "        <div><p style='padding: 10px; color: #3a87ad; background-color: #d9edf7; border-color: #bce9f1'>Done&nbsp(00:00.780):&nbsp10&nbsprecords</p></div>\n",
       "        </body>\n",
       "        </html>"
      ],
      "text/plain": [
       "<IPython.core.display.HTML object>"
      ]
     },
     "metadata": {},
     "output_type": "display_data"
    },
    {
     "data": {
      "text/html": [],
      "text/plain": [
       "[{'State': 'TEXAS', 'count_': 4701, 'count2': 22099401},\n",
       " {'State': 'KANSAS', 'count_': 3166, 'count2': 10023556},\n",
       " {'State': 'IOWA', 'count_': 2337, 'count2': 5461569},\n",
       " {'State': 'ILLINOIS', 'count_': 2022, 'count2': 4088484},\n",
       " {'State': 'MISSOURI', 'count_': 2016, 'count2': 4064256},\n",
       " {'State': 'GEORGIA', 'count_': 1983, 'count2': 3932289},\n",
       " {'State': 'MINNESOTA', 'count_': 1881, 'count2': 3538161},\n",
       " {'State': 'WISCONSIN', 'count_': 1850, 'count2': 3422500},\n",
       " {'State': 'NEBRASKA', 'count_': 1766, 'count2': 3118756},\n",
       " {'State': 'NEW YORK', 'count_': 1750, 'count2': 3062500}]"
      ]
     },
     "execution_count": 84,
     "metadata": {},
     "output_type": "execute_result"
    }
   ],
   "source": [
    "_kql_raw_result_.fork_result(0)"
   ]
  },
  {
   "cell_type": "code",
   "execution_count": 85,
   "metadata": {},
   "outputs": [
    {
     "data": {
      "text/html": [
       "<html>\n",
       "        <head>\n",
       "        \n",
       "        </head>\n",
       "        <body>\n",
       "        <table>\n",
       "    <tr>\n",
       "        <th>State</th>\n",
       "        <th>count_</th>\n",
       "        <th>count2</th>\n",
       "    </tr>\n",
       "    <tr>\n",
       "        <td>TEXAS</td>\n",
       "        <td>4701</td>\n",
       "        <td>22099401</td>\n",
       "    </tr>\n",
       "    <tr>\n",
       "        <td>KANSAS</td>\n",
       "        <td>3166</td>\n",
       "        <td>10023556</td>\n",
       "    </tr>\n",
       "    <tr>\n",
       "        <td>IOWA</td>\n",
       "        <td>2337</td>\n",
       "        <td>5461569</td>\n",
       "    </tr>\n",
       "    <tr>\n",
       "        <td>ILLINOIS</td>\n",
       "        <td>2022</td>\n",
       "        <td>4088484</td>\n",
       "    </tr>\n",
       "    <tr>\n",
       "        <td>MISSOURI</td>\n",
       "        <td>2016</td>\n",
       "        <td>4064256</td>\n",
       "    </tr>\n",
       "    <tr>\n",
       "        <td>GEORGIA</td>\n",
       "        <td>1983</td>\n",
       "        <td>3932289</td>\n",
       "    </tr>\n",
       "    <tr>\n",
       "        <td>MINNESOTA</td>\n",
       "        <td>1881</td>\n",
       "        <td>3538161</td>\n",
       "    </tr>\n",
       "    <tr>\n",
       "        <td>WISCONSIN</td>\n",
       "        <td>1850</td>\n",
       "        <td>3422500</td>\n",
       "    </tr>\n",
       "    <tr>\n",
       "        <td>NEBRASKA</td>\n",
       "        <td>1766</td>\n",
       "        <td>3118756</td>\n",
       "    </tr>\n",
       "    <tr>\n",
       "        <td>NEW YORK</td>\n",
       "        <td>1750</td>\n",
       "        <td>3062500</td>\n",
       "    </tr>\n",
       "</table>\n",
       "        </body>\n",
       "        </html>"
      ],
      "text/plain": [
       "<IPython.core.display.HTML object>"
      ]
     },
     "metadata": {},
     "output_type": "display_data"
    },
    {
     "data": {
      "text/html": [],
      "text/plain": [
       "[{'State': 'TEXAS', 'count_': 4701, 'count2': 22099401},\n",
       " {'State': 'KANSAS', 'count_': 3166, 'count2': 10023556},\n",
       " {'State': 'IOWA', 'count_': 2337, 'count2': 5461569},\n",
       " {'State': 'ILLINOIS', 'count_': 2022, 'count2': 4088484},\n",
       " {'State': 'MISSOURI', 'count_': 2016, 'count2': 4064256},\n",
       " {'State': 'GEORGIA', 'count_': 1983, 'count2': 3932289},\n",
       " {'State': 'MINNESOTA', 'count_': 1881, 'count2': 3538161},\n",
       " {'State': 'WISCONSIN', 'count_': 1850, 'count2': 3422500},\n",
       " {'State': 'NEBRASKA', 'count_': 1766, 'count2': 3118756},\n",
       " {'State': 'NEW YORK', 'count_': 1750, 'count2': 3062500}]"
      ]
     },
     "execution_count": 85,
     "metadata": {},
     "output_type": "execute_result"
    }
   ],
   "source": [
    "_kql_raw_result_"
   ]
  },
  {
   "cell_type": "code",
   "execution_count": null,
   "metadata": {},
   "outputs": [],
   "source": []
  }
 ],
 "metadata": {
  "kernelspec": {
   "display_name": "Python 3",
   "language": "python",
   "name": "python3"
  },
  "language_info": {
   "codemirror_mode": {
    "name": "ipython",
    "version": 3
   },
   "file_extension": ".py",
   "mimetype": "text/x-python",
   "name": "python",
   "nbconvert_exporter": "python",
   "pygments_lexer": "ipython3",
   "version": "3.6.1"
  }
 },
 "nbformat": 4,
 "nbformat_minor": 2
}
