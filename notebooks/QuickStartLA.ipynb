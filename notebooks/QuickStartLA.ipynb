{
 "cells": [
  {
   "cell_type": "markdown",
   "metadata": {},
   "source": [
    "![alt text](images/Kusto.jpg \"Kusto Magic\")"
   ]
  },
  {
   "cell_type": "markdown",
   "metadata": {},
   "source": [
    "# Kqlmagic Quick Start\n",
    "1. Press F11 to switch browser to full screen mode  \n",
    "2. If in running jupyter lab, in View tab, select 'Single-Document Mode' and 'Presentation Mode' or  (Ctrl + Shift + D)  \n",
    "3. In Kernel tab, select 'Restart Kernel and Clear All Outputs...', to start from fresh\n",
    "4. Repeat: press Shift+Enter to run cells sequentially"
   ]
  },
  {
   "cell_type": "markdown",
   "metadata": {},
   "source": [
    "## Make sure that you have the lastest version of  Kqlmagic\n",
    "Download Kqlmagic from github and install/update\n",
    "(if latest version is already installed you can skip this step)"
   ]
  },
  {
   "cell_type": "code",
   "execution_count": null,
   "metadata": {},
   "outputs": [],
   "source": [
    "#!pip install Kqlmagic --upgrade"
   ]
  },
  {
   "cell_type": "markdown",
   "metadata": {},
   "source": [
    "## If you want to pre-set defaults, set environment varaible, before activation notebook, or within notebook\n",
    "- **KQLMAGIC_NOTEBOOK_APP** - set the notebook application (default **jupyternotebook**)\n",
    "- **KQLMAGIC_LOAD_MODE** - set the kqlmagic load mode (default **verbose**). If silent, it will load without welcome output\n",
    "- **KQLMAGIC_CONFIGURATION** - modify the default configuration, key=value pairs must be separated by a **semicolon**\n",
    "\n",
    "- **KQLMAGIC_CONNECTION_STR** - set the default connection string (default **None**). If set it will connect to it on Kqlmagic load"
   ]
  },
  {
   "cell_type": "code",
   "execution_count": 1,
   "metadata": {},
   "outputs": [],
   "source": [
    "# you can try it within the notebook, by setting the environment variable using %env magic\n",
    "\n",
    "#%env KQLMAGIC_NOTEBOOK_APP=jupyterlab\n",
    "#%env KQLMAGIC_LOAD_MODE=silent\n",
    "#%env KQLMAGIC_CONFIGURATION=\"show_query_time=False;plot_package='plotly';display_limit=100\"\n",
    "\n",
    "#%env KQLMAGIC_CONNECTION_STR=loganalytics://tenant='<your-tenat-id>';clientid='<your-aad-appid>';clientsecret='<your-aad-key>';workspace='<your-workspace-id>';alias='<your-workspace-friendly-name>'"
   ]
  },
  {
   "cell_type": "markdown",
   "metadata": {},
   "source": [
    "## Add Kqlmagic to notebook magics"
   ]
  },
  {
   "cell_type": "code",
   "execution_count": 2,
   "metadata": {
    "scrolled": false
   },
   "outputs": [
    {
     "data": {
      "text/html": [
       "<html>\n",
       "            <head>\n",
       "            <style>\n",
       "            .kql-magic-banner {\n",
       "                display: flex; \n",
       "                background-color: #d9edf7;\n",
       "            }\n",
       "            .kql-magic-banner > div {\n",
       "                margin: 10px; \n",
       "                padding: 20px; \n",
       "                color: #3a87ad; \n",
       "                font-size: 13px;\n",
       "            }\n",
       "            </style>\n",
       "            </head>\n",
       "            <body>\n",
       "                <div class='kql-magic-banner'>\n",
       "                    <div><img src='data:image/png;base64,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'></div>\n",
       "                    <div>\n",
       "                        <p>Kusto is a log analytics cloud platform optimized for ad-hoc big data queries. Read more about it here: http://aka.ms/kdocs</p>\n",
       "                        <p>   &bull; kql language reference: Click on 'Help' tab > and Select 'kql referece'<br>\n",
       "                          &bull; Kqlmagic configuarion: Run in cell '%config Kqlmagic'<br>\n",
       "                          &bull; Kqlmagic syntax: Run in cell '%kql?'<br>\n",
       "                          &bull; Kqlmagic upgrate syntax: Run in cell '!pip install Kqlmagic --upgrade'<br>\n",
       "                    </div>\n",
       "                </div>\n",
       "            </body>\n",
       "            </html>"
      ],
      "text/plain": [
       "<IPython.core.display.HTML object>"
      ]
     },
     "metadata": {},
     "output_type": "display_data"
    },
    {
     "data": {
      "text/html": [
       "<html>\n",
       "        <head>\n",
       "        \n",
       "        </head>\n",
       "        <body>\n",
       "        <div><p style='padding: 10px; color: #3a87ad; background-color: #d9edf7; border-color: #bce9f1'>Kqlmagic&nbsppackage&nbspis&nbspupdated&nbspfrequently.&nbspRun&nbsp&apos;!pip&nbspinstall&nbspKqlmagic&nbsp--upgrade&apos;&nbspto&nbspuse&nbspthe&nbsplatest&nbspversion.<br>Kqlmagic&nbspversion:&nbsp0.1.53,&nbspsource:&nbsphttps://github.com/Microsoft/jupyter-Kqlmagic</p></div>\n",
       "        </body>\n",
       "        </html>"
      ],
      "text/plain": [
       "<IPython.core.display.HTML object>"
      ]
     },
     "metadata": {},
     "output_type": "display_data"
    },
    {
     "data": {
      "text/html": [
       "<html>\n",
       "        <head>\n",
       "        \n",
       "        </head>\n",
       "        <body>\n",
       "        <div><p style='padding: 10px; color: #8a6d3b; background-color: #fcf8e3; border-color: #faebcc'>Kqlmagic&nbspversion&nbsp0.1.57&nbspwas&nbspfound&nbspin&nbspPyPI,&nbspconsider&nbspto&nbspupgrade&nbspbefore&nbspyou&nbspcontinue.&nbspRun&nbsp&apos;!pip&nbspinstall&nbspKqlmagic&nbsp--upgrade&apos;</p></div>\n",
       "        </body>\n",
       "        </html>"
      ],
      "text/plain": [
       "<IPython.core.display.HTML object>"
      ]
     },
     "metadata": {},
     "output_type": "display_data"
    },
    {
     "data": {
      "application/javascript": [
       "IPython.notebook.kernel.reconnect();"
      ],
      "text/plain": [
       "<IPython.core.display.Javascript object>"
      ]
     },
     "metadata": {},
     "output_type": "display_data"
    },
    {
     "data": {
      "application/javascript": [
       "IPython.notebook.kernel.execute(\"NOTEBOOK_URL = '\" + window.location + \"'\");"
      ],
      "text/plain": [
       "<IPython.core.display.Javascript object>"
      ]
     },
     "metadata": {},
     "output_type": "display_data"
    }
   ],
   "source": [
    "#%pushd C:\\My Projects\\jupyter-Kqlmagic-microsoft\\azure\n",
    "%reload_ext Kqlmagic\n",
    "#%popd"
   ]
  },
  {
   "cell_type": "markdown",
   "metadata": {},
   "source": [
    "  - ### <span style=\"color:#82CAFA\">*Note: information is included in the Kqlmagic banner, and in the note below it, with version and location of the open source code*</span>\n",
    "  - ### <span style=\"color:#82CAFA\">*Note: after Kqlmagic was loaded, kql reference was added to Help menu (Help tab)*</span>"
   ]
  },
  {
   "cell_type": "markdown",
   "metadata": {},
   "source": [
    "## Connect to workspace@loganalytics\n",
    "there are few options to authenticate with Log Analytics:<br>\n",
    "- **loganalytics://code&semi;workspace=&apos;&lt;workspace-id&gt;&apos;&semi;alias=&apos;&lt;workspace-friendly-name&gt;&apos;**<br>\n",
    "- **loganalytics://tenant=&apos;&lt;tenant-id&gt;&apos;&semi;clientid=&apos;&lt;aad-appid&gt;&apos;&semi;clientsecret=&apos;&lt;aad-appkey&gt;&apos;&semi;workspace=&apos;&lt;workspace-id&gt;&apos;&semi;alias=&apos;&lt;workspace-friendly-name&gt;&apos;**<br>\n",
    "- **loganalytics://username=&apos;&lt;username&gt;&apos;&semi;password=&apos;&lt;password&gt;&apos;&semi;workspace=&apos;&lt;workspace-id&gt;&apos;&semi;alias=&apos;&lt;workspace-friendly-name&gt;&apos;**<br><br>\n",
    "Notes:<br>\n",
    "(1) authentication with appkey works only for the demo.<br>\n",
    "(2) username/password works only on corporate network.<br>\n",
    "(3) alias is optional.<br>\n",
    "(4) if credentials are missing, and a previous connection was established the credentials will be inherited.<br>\n",
    "(5) if secret (password / clientsecret) is missing, user will be prompted to provide it.<br>\n",
    "(6) if tenant is missing, and a previous connection was established the tenant will be inherited."
   ]
  },
  {
   "cell_type": "code",
   "execution_count": 84,
   "metadata": {
    "scrolled": false
   },
   "outputs": [],
   "source": [
    "%kql loganalytics://workspace='DEMO_WORKSPACE';appkey='DEMO_KEY';alias='myworkspace'"
   ]
  },
  {
   "cell_type": "markdown",
   "metadata": {},
   "source": [
    "  - ### <span style=\"color:#82CAFA\">*Note - popup window that opened with the database@cluster schema*</span>\n",
    "  - ### <span style=\"color:#82CAFA\">*Note - Help menu contains the databse@cluster schema*</span>"
   ]
  },
  {
   "cell_type": "markdown",
   "metadata": {},
   "source": [
    "## Once connected you can query the current database@cluster"
   ]
  },
  {
   "cell_type": "code",
   "execution_count": 4,
   "metadata": {
    "scrolled": false
   },
   "outputs": [
    {
     "data": {
      "text/html": [
       "<html>\n",
       "        <head>\n",
       "        \n",
       "        </head>\n",
       "        <body>\n",
       "        <div><p style='padding: 10px; color: #3a87ad; background-color: #d9edf7; border-color: #bce9f1'>&nbsp*&nbspmyworkspace@loganalytics</p></div>\n",
       "        </body>\n",
       "        </html>"
      ],
      "text/plain": [
       "<IPython.core.display.HTML object>"
      ]
     },
     "metadata": {},
     "output_type": "display_data"
    },
    {
     "data": {
      "text/html": [
       "<html>\n",
       "        <head>\n",
       "        \n",
       "        </head>\n",
       "        <body>\n",
       "        <table>\n",
       "    <tr>\n",
       "        <th>ResourceGroup</th>\n",
       "        <th>count_</th>\n",
       "    </tr>\n",
       "    <tr>\n",
       "        <td>contosoazurehq</td>\n",
       "        <td>2446369</td>\n",
       "    </tr>\n",
       "    <tr>\n",
       "        <td>contosoonpremhq</td>\n",
       "        <td>950419</td>\n",
       "    </tr>\n",
       "    <tr>\n",
       "        <td>contosoautomation</td>\n",
       "        <td>566454</td>\n",
       "    </tr>\n",
       "    <tr>\n",
       "        <td>aztest</td>\n",
       "        <td>339832</td>\n",
       "    </tr>\n",
       "    <tr>\n",
       "        <td>contosoretail100</td>\n",
       "        <td>266503</td>\n",
       "    </tr>\n",
       "    <tr>\n",
       "        <td>contosovma6ab</td>\n",
       "        <td>250005</td>\n",
       "    </tr>\n",
       "    <tr>\n",
       "        <td>ContosoRetailDev1</td>\n",
       "        <td>247542</td>\n",
       "    </tr>\n",
       "    <tr>\n",
       "        <td>contosoiis</td>\n",
       "        <td>233345</td>\n",
       "    </tr>\n",
       "    <tr>\n",
       "        <td>contosoa2ademo2</td>\n",
       "        <td>231644</td>\n",
       "    </tr>\n",
       "    <tr>\n",
       "        <td>kncon</td>\n",
       "        <td>220846</td>\n",
       "    </tr>\n",
       "</table>\n",
       "        </body>\n",
       "        </html>"
      ],
      "text/plain": [
       "<IPython.core.display.HTML object>"
      ]
     },
     "metadata": {},
     "output_type": "display_data"
    },
    {
     "data": {
      "text/html": [
       "<html>\n",
       "        <head>\n",
       "        \n",
       "        </head>\n",
       "        <body>\n",
       "        <div><p style='padding: 10px; color: #3a87ad; background-color: #d9edf7; border-color: #bce9f1'>Done&nbsp(00:02.025):&nbsp10&nbsprecords</p></div>\n",
       "        </body>\n",
       "        </html>"
      ],
      "text/plain": [
       "<IPython.core.display.HTML object>"
      ]
     },
     "metadata": {},
     "output_type": "display_data"
    },
    {
     "data": {
      "text/html": [],
      "text/plain": [
       "[{'ResourceGroup': 'contosoazurehq', 'count_': 2446369},\n",
       " {'ResourceGroup': 'contosoonpremhq', 'count_': 950419},\n",
       " {'ResourceGroup': 'contosoautomation', 'count_': 566454},\n",
       " {'ResourceGroup': 'aztest', 'count_': 339832},\n",
       " {'ResourceGroup': 'contosoretail100', 'count_': 266503},\n",
       " {'ResourceGroup': 'contosovma6ab', 'count_': 250005},\n",
       " {'ResourceGroup': 'ContosoRetailDev1', 'count_': 247542},\n",
       " {'ResourceGroup': 'contosoiis', 'count_': 233345},\n",
       " {'ResourceGroup': 'contosoa2ademo2', 'count_': 231644},\n",
       " {'ResourceGroup': 'kncon', 'count_': 220846}]"
      ]
     },
     "execution_count": 4,
     "metadata": {},
     "output_type": "execute_result"
    }
   ],
   "source": [
    "%kql Heartbeat | where ResourceGroup != '' | summarize count() by ResourceGroup | sort by count_ | limit 10"
   ]
  },
  {
   "cell_type": "markdown",
   "metadata": {},
   "source": [
    "## Python code can access the result by the \\_ variable"
   ]
  },
  {
   "cell_type": "code",
   "execution_count": 5,
   "metadata": {},
   "outputs": [
    {
     "data": {
      "text/html": [
       "<html>\n",
       "        <head>\n",
       "        \n",
       "        </head>\n",
       "        <body>\n",
       "        <table>\n",
       "    <tr>\n",
       "        <th>ResourceGroup</th>\n",
       "        <th>count_</th>\n",
       "    </tr>\n",
       "    <tr>\n",
       "        <td>contosoazurehq</td>\n",
       "        <td>2446369</td>\n",
       "    </tr>\n",
       "    <tr>\n",
       "        <td>contosoonpremhq</td>\n",
       "        <td>950419</td>\n",
       "    </tr>\n",
       "    <tr>\n",
       "        <td>contosoautomation</td>\n",
       "        <td>566454</td>\n",
       "    </tr>\n",
       "    <tr>\n",
       "        <td>aztest</td>\n",
       "        <td>339832</td>\n",
       "    </tr>\n",
       "    <tr>\n",
       "        <td>contosoretail100</td>\n",
       "        <td>266503</td>\n",
       "    </tr>\n",
       "    <tr>\n",
       "        <td>contosovma6ab</td>\n",
       "        <td>250005</td>\n",
       "    </tr>\n",
       "    <tr>\n",
       "        <td>ContosoRetailDev1</td>\n",
       "        <td>247542</td>\n",
       "    </tr>\n",
       "    <tr>\n",
       "        <td>contosoiis</td>\n",
       "        <td>233345</td>\n",
       "    </tr>\n",
       "    <tr>\n",
       "        <td>contosoa2ademo2</td>\n",
       "        <td>231644</td>\n",
       "    </tr>\n",
       "    <tr>\n",
       "        <td>kncon</td>\n",
       "        <td>220846</td>\n",
       "    </tr>\n",
       "</table>\n",
       "        </body>\n",
       "        </html>"
      ],
      "text/plain": [
       "<IPython.core.display.HTML object>"
      ]
     },
     "metadata": {},
     "output_type": "display_data"
    },
    {
     "data": {
      "text/html": [],
      "text/plain": [
       "[{'ResourceGroup': 'contosoazurehq', 'count_': 2446369},\n",
       " {'ResourceGroup': 'contosoonpremhq', 'count_': 950419},\n",
       " {'ResourceGroup': 'contosoautomation', 'count_': 566454},\n",
       " {'ResourceGroup': 'aztest', 'count_': 339832},\n",
       " {'ResourceGroup': 'contosoretail100', 'count_': 266503},\n",
       " {'ResourceGroup': 'contosovma6ab', 'count_': 250005},\n",
       " {'ResourceGroup': 'ContosoRetailDev1', 'count_': 247542},\n",
       " {'ResourceGroup': 'contosoiis', 'count_': 233345},\n",
       " {'ResourceGroup': 'contosoa2ademo2', 'count_': 231644},\n",
       " {'ResourceGroup': 'kncon', 'count_': 220846}]"
      ]
     },
     "execution_count": 5,
     "metadata": {},
     "output_type": "execute_result"
    }
   ],
   "source": [
    "_"
   ]
  },
  {
   "cell_type": "markdown",
   "metadata": {},
   "source": [
    "## Converts result data to a dataframe"
   ]
  },
  {
   "cell_type": "code",
   "execution_count": 6,
   "metadata": {},
   "outputs": [
    {
     "data": {
      "text/html": [
       "<div>\n",
       "<style scoped>\n",
       "    .dataframe tbody tr th:only-of-type {\n",
       "        vertical-align: middle;\n",
       "    }\n",
       "\n",
       "    .dataframe tbody tr th {\n",
       "        vertical-align: top;\n",
       "    }\n",
       "\n",
       "    .dataframe thead th {\n",
       "        text-align: right;\n",
       "    }\n",
       "</style>\n",
       "<table border=\"1\" class=\"dataframe\">\n",
       "  <thead>\n",
       "    <tr style=\"text-align: right;\">\n",
       "      <th></th>\n",
       "      <th>ResourceGroup</th>\n",
       "      <th>count_</th>\n",
       "    </tr>\n",
       "  </thead>\n",
       "  <tbody>\n",
       "    <tr>\n",
       "      <th>0</th>\n",
       "      <td>contosoazurehq</td>\n",
       "      <td>2446369</td>\n",
       "    </tr>\n",
       "    <tr>\n",
       "      <th>1</th>\n",
       "      <td>contosoonpremhq</td>\n",
       "      <td>950419</td>\n",
       "    </tr>\n",
       "    <tr>\n",
       "      <th>2</th>\n",
       "      <td>contosoautomation</td>\n",
       "      <td>566454</td>\n",
       "    </tr>\n",
       "    <tr>\n",
       "      <th>3</th>\n",
       "      <td>aztest</td>\n",
       "      <td>339832</td>\n",
       "    </tr>\n",
       "    <tr>\n",
       "      <th>4</th>\n",
       "      <td>contosoretail100</td>\n",
       "      <td>266503</td>\n",
       "    </tr>\n",
       "    <tr>\n",
       "      <th>5</th>\n",
       "      <td>contosovma6ab</td>\n",
       "      <td>250005</td>\n",
       "    </tr>\n",
       "    <tr>\n",
       "      <th>6</th>\n",
       "      <td>ContosoRetailDev1</td>\n",
       "      <td>247542</td>\n",
       "    </tr>\n",
       "    <tr>\n",
       "      <th>7</th>\n",
       "      <td>contosoiis</td>\n",
       "      <td>233345</td>\n",
       "    </tr>\n",
       "    <tr>\n",
       "      <th>8</th>\n",
       "      <td>contosoa2ademo2</td>\n",
       "      <td>231644</td>\n",
       "    </tr>\n",
       "    <tr>\n",
       "      <th>9</th>\n",
       "      <td>kncon</td>\n",
       "      <td>220846</td>\n",
       "    </tr>\n",
       "  </tbody>\n",
       "</table>\n",
       "</div>"
      ],
      "text/plain": [
       "       ResourceGroup   count_\n",
       "0     contosoazurehq  2446369\n",
       "1    contosoonpremhq   950419\n",
       "2  contosoautomation   566454\n",
       "3             aztest   339832\n",
       "4   contosoretail100   266503\n",
       "5      contosovma6ab   250005\n",
       "6  ContosoRetailDev1   247542\n",
       "7         contosoiis   233345\n",
       "8    contosoa2ademo2   231644\n",
       "9              kncon   220846"
      ]
     },
     "execution_count": 6,
     "metadata": {},
     "output_type": "execute_result"
    }
   ],
   "source": [
    "df = _.to_dataframe()\n",
    "df"
   ]
  },
  {
   "cell_type": "code",
   "execution_count": 7,
   "metadata": {},
   "outputs": [
    {
     "data": {
      "text/html": [
       "<div>\n",
       "<style scoped>\n",
       "    .dataframe tbody tr th:only-of-type {\n",
       "        vertical-align: middle;\n",
       "    }\n",
       "\n",
       "    .dataframe tbody tr th {\n",
       "        vertical-align: top;\n",
       "    }\n",
       "\n",
       "    .dataframe thead th {\n",
       "        text-align: right;\n",
       "    }\n",
       "</style>\n",
       "<table border=\"1\" class=\"dataframe\">\n",
       "  <thead>\n",
       "    <tr style=\"text-align: right;\">\n",
       "      <th></th>\n",
       "      <th>ResourceGroup</th>\n",
       "      <th>count_</th>\n",
       "    </tr>\n",
       "  </thead>\n",
       "  <tbody>\n",
       "    <tr>\n",
       "      <th>0</th>\n",
       "      <td>contosoazurehq</td>\n",
       "      <td>2446369</td>\n",
       "    </tr>\n",
       "    <tr>\n",
       "      <th>1</th>\n",
       "      <td>contosoonpremhq</td>\n",
       "      <td>950419</td>\n",
       "    </tr>\n",
       "    <tr>\n",
       "      <th>2</th>\n",
       "      <td>contosoautomation</td>\n",
       "      <td>566454</td>\n",
       "    </tr>\n",
       "    <tr>\n",
       "      <th>3</th>\n",
       "      <td>aztest</td>\n",
       "      <td>339832</td>\n",
       "    </tr>\n",
       "    <tr>\n",
       "      <th>4</th>\n",
       "      <td>contosoretail100</td>\n",
       "      <td>266503</td>\n",
       "    </tr>\n",
       "  </tbody>\n",
       "</table>\n",
       "</div>"
      ],
      "text/plain": [
       "       ResourceGroup   count_\n",
       "0     contosoazurehq  2446369\n",
       "1    contosoonpremhq   950419\n",
       "2  contosoautomation   566454\n",
       "3             aztest   339832\n",
       "4   contosoretail100   266503"
      ]
     },
     "execution_count": 7,
     "metadata": {},
     "output_type": "execute_result"
    }
   ],
   "source": [
    "df.head()"
   ]
  },
  {
   "cell_type": "code",
   "execution_count": 10,
   "metadata": {},
   "outputs": [
    {
     "data": {
      "text/plain": [
       "0       contosoazurehq\n",
       "1      contosoonpremhq\n",
       "2    contosoautomation\n",
       "3               aztest\n",
       "4     contosoretail100\n",
       "5        contosovma6ab\n",
       "6    ContosoRetailDev1\n",
       "7           contosoiis\n",
       "8      contosoa2ademo2\n",
       "9                kncon\n",
       "Name: ResourceGroup, dtype: object"
      ]
     },
     "execution_count": 10,
     "metadata": {},
     "output_type": "execute_result"
    }
   ],
   "source": [
    "df.ResourceGroup"
   ]
  },
  {
   "cell_type": "code",
   "execution_count": 11,
   "metadata": {},
   "outputs": [
    {
     "data": {
      "text/plain": [
       "ResourceGroup    ContosoRetailDev1\n",
       "count_                      220846\n",
       "dtype: object"
      ]
     },
     "execution_count": 11,
     "metadata": {},
     "output_type": "execute_result"
    }
   ],
   "source": [
    "df.min()"
   ]
  },
  {
   "cell_type": "code",
   "execution_count": 12,
   "metadata": {},
   "outputs": [
    {
     "data": {
      "text/plain": [
       "'{\"ResourceGroup\":{\"0\":\"contosoazurehq\",\"1\":\"contosoonpremhq\",\"2\":\"contosoautomation\",\"3\":\"aztest\",\"4\":\"contosoretail100\",\"5\":\"contosovma6ab\",\"6\":\"ContosoRetailDev1\",\"7\":\"contosoiis\",\"8\":\"contosoa2ademo2\",\"9\":\"kncon\"},\"count_\":{\"0\":2446369,\"1\":950419,\"2\":566454,\"3\":339832,\"4\":266503,\"5\":250005,\"6\":247542,\"7\":233345,\"8\":231644,\"9\":220846}}'"
      ]
     },
     "execution_count": 12,
     "metadata": {},
     "output_type": "execute_result"
    }
   ],
   "source": [
    "df.to_json()"
   ]
  },
  {
   "cell_type": "code",
   "execution_count": 13,
   "metadata": {},
   "outputs": [
    {
     "data": {
      "text/plain": [
       "Index(['ResourceGroup', 'count_'], dtype='object')"
      ]
     },
     "execution_count": 13,
     "metadata": {},
     "output_type": "execute_result"
    }
   ],
   "source": [
    "df.columns"
   ]
  },
  {
   "cell_type": "markdown",
   "metadata": {},
   "source": [
    "## Excution of another cell overrides \\_ , However,  \\_kql\\_raw\\_result\\_ python variable holds last kql query result "
   ]
  },
  {
   "cell_type": "code",
   "execution_count": 14,
   "metadata": {},
   "outputs": [
    {
     "data": {
      "text/plain": [
       "Index(['ResourceGroup', 'count_'], dtype='object')"
      ]
     },
     "execution_count": 14,
     "metadata": {},
     "output_type": "execute_result"
    }
   ],
   "source": [
    "_"
   ]
  },
  {
   "cell_type": "code",
   "execution_count": 15,
   "metadata": {},
   "outputs": [
    {
     "data": {
      "text/html": [
       "<html>\n",
       "        <head>\n",
       "        \n",
       "        </head>\n",
       "        <body>\n",
       "        <table>\n",
       "    <tr>\n",
       "        <th>ResourceGroup</th>\n",
       "        <th>count_</th>\n",
       "    </tr>\n",
       "    <tr>\n",
       "        <td>contosoazurehq</td>\n",
       "        <td>2446369</td>\n",
       "    </tr>\n",
       "    <tr>\n",
       "        <td>contosoonpremhq</td>\n",
       "        <td>950419</td>\n",
       "    </tr>\n",
       "    <tr>\n",
       "        <td>contosoautomation</td>\n",
       "        <td>566454</td>\n",
       "    </tr>\n",
       "    <tr>\n",
       "        <td>aztest</td>\n",
       "        <td>339832</td>\n",
       "    </tr>\n",
       "    <tr>\n",
       "        <td>contosoretail100</td>\n",
       "        <td>266503</td>\n",
       "    </tr>\n",
       "    <tr>\n",
       "        <td>contosovma6ab</td>\n",
       "        <td>250005</td>\n",
       "    </tr>\n",
       "    <tr>\n",
       "        <td>ContosoRetailDev1</td>\n",
       "        <td>247542</td>\n",
       "    </tr>\n",
       "    <tr>\n",
       "        <td>contosoiis</td>\n",
       "        <td>233345</td>\n",
       "    </tr>\n",
       "    <tr>\n",
       "        <td>contosoa2ademo2</td>\n",
       "        <td>231644</td>\n",
       "    </tr>\n",
       "    <tr>\n",
       "        <td>kncon</td>\n",
       "        <td>220846</td>\n",
       "    </tr>\n",
       "</table>\n",
       "        </body>\n",
       "        </html>"
      ],
      "text/plain": [
       "<IPython.core.display.HTML object>"
      ]
     },
     "metadata": {},
     "output_type": "display_data"
    },
    {
     "data": {
      "text/html": [],
      "text/plain": [
       "[{'ResourceGroup': 'contosoazurehq', 'count_': 2446369},\n",
       " {'ResourceGroup': 'contosoonpremhq', 'count_': 950419},\n",
       " {'ResourceGroup': 'contosoautomation', 'count_': 566454},\n",
       " {'ResourceGroup': 'aztest', 'count_': 339832},\n",
       " {'ResourceGroup': 'contosoretail100', 'count_': 266503},\n",
       " {'ResourceGroup': 'contosovma6ab', 'count_': 250005},\n",
       " {'ResourceGroup': 'ContosoRetailDev1', 'count_': 247542},\n",
       " {'ResourceGroup': 'contosoiis', 'count_': 233345},\n",
       " {'ResourceGroup': 'contosoa2ademo2', 'count_': 231644},\n",
       " {'ResourceGroup': 'kncon', 'count_': 220846}]"
      ]
     },
     "execution_count": 15,
     "metadata": {},
     "output_type": "execute_result"
    }
   ],
   "source": [
    "_kql_raw_result_"
   ]
  },
  {
   "cell_type": "code",
   "execution_count": 16,
   "metadata": {},
   "outputs": [
    {
     "data": {
      "text/html": [
       "<html>\n",
       "        <head>\n",
       "        \n",
       "        </head>\n",
       "        <body>\n",
       "        <table>\n",
       "    <tr>\n",
       "        <th>ResourceGroup</th>\n",
       "        <th>count_</th>\n",
       "    </tr>\n",
       "    <tr>\n",
       "        <td>contosoazurehq</td>\n",
       "        <td>2446369</td>\n",
       "    </tr>\n",
       "    <tr>\n",
       "        <td>contosoonpremhq</td>\n",
       "        <td>950419</td>\n",
       "    </tr>\n",
       "    <tr>\n",
       "        <td>contosoautomation</td>\n",
       "        <td>566454</td>\n",
       "    </tr>\n",
       "    <tr>\n",
       "        <td>aztest</td>\n",
       "        <td>339832</td>\n",
       "    </tr>\n",
       "    <tr>\n",
       "        <td>contosoretail100</td>\n",
       "        <td>266503</td>\n",
       "    </tr>\n",
       "    <tr>\n",
       "        <td>contosovma6ab</td>\n",
       "        <td>250005</td>\n",
       "    </tr>\n",
       "    <tr>\n",
       "        <td>ContosoRetailDev1</td>\n",
       "        <td>247542</td>\n",
       "    </tr>\n",
       "    <tr>\n",
       "        <td>contosoiis</td>\n",
       "        <td>233345</td>\n",
       "    </tr>\n",
       "    <tr>\n",
       "        <td>contosoa2ademo2</td>\n",
       "        <td>231644</td>\n",
       "    </tr>\n",
       "    <tr>\n",
       "        <td>kncon</td>\n",
       "        <td>220846</td>\n",
       "    </tr>\n",
       "</table>\n",
       "        </body>\n",
       "        </html>"
      ],
      "text/plain": [
       "<IPython.core.display.HTML object>"
      ]
     },
     "metadata": {},
     "output_type": "display_data"
    },
    {
     "data": {
      "text/html": [],
      "text/plain": [
       "[{'ResourceGroup': 'contosoazurehq', 'count_': 2446369},\n",
       " {'ResourceGroup': 'contosoonpremhq', 'count_': 950419},\n",
       " {'ResourceGroup': 'contosoautomation', 'count_': 566454},\n",
       " {'ResourceGroup': 'aztest', 'count_': 339832},\n",
       " {'ResourceGroup': 'contosoretail100', 'count_': 266503},\n",
       " {'ResourceGroup': 'contosovma6ab', 'count_': 250005},\n",
       " {'ResourceGroup': 'ContosoRetailDev1', 'count_': 247542},\n",
       " {'ResourceGroup': 'contosoiis', 'count_': 233345},\n",
       " {'ResourceGroup': 'contosoa2ademo2', 'count_': 231644},\n",
       " {'ResourceGroup': 'kncon', 'count_': 220846}]"
      ]
     },
     "execution_count": 16,
     "metadata": {},
     "output_type": "execute_result"
    }
   ],
   "source": [
    "_"
   ]
  },
  {
   "cell_type": "markdown",
   "metadata": {},
   "source": [
    "## Show a chart, render the query to the proper chart"
   ]
  },
  {
   "cell_type": "code",
   "execution_count": 17,
   "metadata": {},
   "outputs": [
    {
     "data": {
      "text/html": [
       "<html>\n",
       "        <head>\n",
       "        \n",
       "        </head>\n",
       "        <body>\n",
       "        <div><p style='padding: 10px; color: #3a87ad; background-color: #d9edf7; border-color: #bce9f1'>&nbsp*&nbspmyworkspace@loganalytics</p></div>\n",
       "        </body>\n",
       "        </html>"
      ],
      "text/plain": [
       "<IPython.core.display.HTML object>"
      ]
     },
     "metadata": {},
     "output_type": "display_data"
    },
    {
     "data": {
      "application/vnd.jupyter.widget-view+json": {
       "model_id": "6d5458e3a0a14034932aba0e10a139be",
       "version_major": 2,
       "version_minor": 0
      },
      "text/plain": [
       "FigureWidget({\n",
       "    'data': [{'domain': {'x': [0.0, 1.0], 'y': [0.0, 1.0]},\n",
       "              'labels': [contosoazu…"
      ]
     },
     "metadata": {},
     "output_type": "display_data"
    },
    {
     "data": {
      "text/html": [
       "<html>\n",
       "        <head>\n",
       "        \n",
       "        </head>\n",
       "        <body>\n",
       "        <div><p style='padding: 10px; color: #3a87ad; background-color: #d9edf7; border-color: #bce9f1'>Done&nbsp(00:02.590):&nbsp10&nbsprecords</p></div>\n",
       "        </body>\n",
       "        </html>"
      ],
      "text/plain": [
       "<IPython.core.display.HTML object>"
      ]
     },
     "metadata": {},
     "output_type": "display_data"
    },
    {
     "data": {
      "text/html": [],
      "text/plain": [
       "[{'ResourceGroup': 'contosoazurehq', 'count_': 2446381},\n",
       " {'ResourceGroup': 'contosoonpremhq', 'count_': 950419},\n",
       " {'ResourceGroup': 'contosoautomation', 'count_': 566454},\n",
       " {'ResourceGroup': 'aztest', 'count_': 339832},\n",
       " {'ResourceGroup': 'contosoretail100', 'count_': 266503},\n",
       " {'ResourceGroup': 'contosovma6ab', 'count_': 250005},\n",
       " {'ResourceGroup': 'ContosoRetailDev1', 'count_': 247553},\n",
       " {'ResourceGroup': 'contosoiis', 'count_': 233345},\n",
       " {'ResourceGroup': 'contosoa2ademo2', 'count_': 231644},\n",
       " {'ResourceGroup': 'kncon', 'count_': 220846}]"
      ]
     },
     "execution_count": 17,
     "metadata": {},
     "output_type": "execute_result"
    }
   ],
   "source": [
    "%kql Heartbeat | where ResourceGroup != '' | summarize count() by ResourceGroup | sort by count_ | limit 10 | render piechart title='my apple pie' "
   ]
  },
  {
   "cell_type": "markdown",
   "metadata": {},
   "source": [
    "  - ### <span style=\"color:#82CAFA\">*Note: the chart is interactive, hoover to the right upper corner to get the menu, click on the legend to toggle facets, hoover on the chart to get value and percentage*</span>"
   ]
  },
  {
   "cell_type": "markdown",
   "metadata": {},
   "source": [
    "## Assign kql query result to a python variable"
   ]
  },
  {
   "cell_type": "code",
   "execution_count": 18,
   "metadata": {},
   "outputs": [],
   "source": [
    "%kql my_bar_chart << Heartbeat | where ResourceGroup != '' | summarize count() by ResourceGroup | sort by count_ | limit 10 | render barchart title='my bar chart'"
   ]
  },
  {
   "cell_type": "markdown",
   "metadata": {},
   "source": [
    "  - ### <span style=\"color:#82CAFA\">*Note: nothing is displayed when the result is assigtned to a variable*</span>"
   ]
  },
  {
   "cell_type": "markdown",
   "metadata": {},
   "source": [
    "## Display kql result object"
   ]
  },
  {
   "cell_type": "code",
   "execution_count": 19,
   "metadata": {},
   "outputs": [
    {
     "data": {
      "application/vnd.jupyter.widget-view+json": {
       "model_id": "75c6269cc076432881cbb97aeb0e81eb",
       "version_major": 2,
       "version_minor": 0
      },
      "text/plain": [
       "FigureWidget({\n",
       "    'data': [{'marker': {'color': 'rgb(31, 118, 179)'},\n",
       "              'name': 'count_',\n",
       "       …"
      ]
     },
     "metadata": {},
     "output_type": "display_data"
    },
    {
     "data": {
      "text/html": [],
      "text/plain": [
       "[{'ResourceGroup': 'contosoazurehq', 'count_': 2446381},\n",
       " {'ResourceGroup': 'contosoonpremhq', 'count_': 950419},\n",
       " {'ResourceGroup': 'contosoautomation', 'count_': 566454},\n",
       " {'ResourceGroup': 'aztest', 'count_': 339832},\n",
       " {'ResourceGroup': 'contosoretail100', 'count_': 266503},\n",
       " {'ResourceGroup': 'contosovma6ab', 'count_': 250005},\n",
       " {'ResourceGroup': 'ContosoRetailDev1', 'count_': 247553},\n",
       " {'ResourceGroup': 'contosoiis', 'count_': 233345},\n",
       " {'ResourceGroup': 'contosoa2ademo2', 'count_': 231644},\n",
       " {'ResourceGroup': 'kncon', 'count_': 220846}]"
      ]
     },
     "execution_count": 19,
     "metadata": {},
     "output_type": "execute_result"
    }
   ],
   "source": [
    "my_bar_chart"
   ]
  },
  {
   "cell_type": "markdown",
   "metadata": {},
   "source": [
    "## Access table data"
   ]
  },
  {
   "cell_type": "code",
   "execution_count": 20,
   "metadata": {},
   "outputs": [
    {
     "data": {
      "text/html": [
       "<html>\n",
       "        <head>\n",
       "        \n",
       "        </head>\n",
       "        <body>\n",
       "        <table>\n",
       "    <tr>\n",
       "        <th>ResourceGroup</th>\n",
       "        <th>count_</th>\n",
       "    </tr>\n",
       "    <tr>\n",
       "        <td>contosoazurehq</td>\n",
       "        <td>2446381</td>\n",
       "    </tr>\n",
       "    <tr>\n",
       "        <td>contosoonpremhq</td>\n",
       "        <td>950419</td>\n",
       "    </tr>\n",
       "    <tr>\n",
       "        <td>contosoautomation</td>\n",
       "        <td>566454</td>\n",
       "    </tr>\n",
       "    <tr>\n",
       "        <td>aztest</td>\n",
       "        <td>339832</td>\n",
       "    </tr>\n",
       "    <tr>\n",
       "        <td>contosoretail100</td>\n",
       "        <td>266503</td>\n",
       "    </tr>\n",
       "    <tr>\n",
       "        <td>contosovma6ab</td>\n",
       "        <td>250005</td>\n",
       "    </tr>\n",
       "    <tr>\n",
       "        <td>ContosoRetailDev1</td>\n",
       "        <td>247553</td>\n",
       "    </tr>\n",
       "    <tr>\n",
       "        <td>contosoiis</td>\n",
       "        <td>233345</td>\n",
       "    </tr>\n",
       "    <tr>\n",
       "        <td>contosoa2ademo2</td>\n",
       "        <td>231644</td>\n",
       "    </tr>\n",
       "    <tr>\n",
       "        <td>kncon</td>\n",
       "        <td>220846</td>\n",
       "    </tr>\n",
       "</table>\n",
       "        </body>\n",
       "        </html>"
      ],
      "text/plain": [
       "<IPython.core.display.HTML object>"
      ]
     },
     "metadata": {},
     "output_type": "display_data"
    }
   ],
   "source": [
    "my_bar_chart.show_table()"
   ]
  },
  {
   "cell_type": "code",
   "execution_count": 21,
   "metadata": {},
   "outputs": [
    {
     "data": {
      "text/plain": [
       "{'ResourceGroup': 'contosoonpremhq', 'count_': 950419}"
      ]
     },
     "execution_count": 21,
     "metadata": {},
     "output_type": "execute_result"
    }
   ],
   "source": [
    "my_bar_chart[1]"
   ]
  },
  {
   "cell_type": "code",
   "execution_count": 22,
   "metadata": {},
   "outputs": [
    {
     "data": {
      "text/plain": [
       "{'count_': 950419}"
      ]
     },
     "execution_count": 22,
     "metadata": {},
     "output_type": "execute_result"
    }
   ],
   "source": [
    "my_bar_chart[1][1:]"
   ]
  },
  {
   "cell_type": "code",
   "execution_count": 24,
   "metadata": {},
   "outputs": [
    {
     "data": {
      "text/plain": [
       "'contosoonpremhq'"
      ]
     },
     "execution_count": 24,
     "metadata": {},
     "output_type": "execute_result"
    }
   ],
   "source": [
    "my_bar_chart[1]['ResourceGroup']"
   ]
  },
  {
   "cell_type": "code",
   "execution_count": 25,
   "metadata": {},
   "outputs": [
    {
     "data": {
      "text/plain": [
       "[{'ResourceGroup': 'contosoonpremhq', 'count_': 950419},\n",
       " {'ResourceGroup': 'contosoautomation', 'count_': 566454},\n",
       " {'ResourceGroup': 'aztest', 'count_': 339832},\n",
       " {'ResourceGroup': 'contosoretail100', 'count_': 266503}]"
      ]
     },
     "execution_count": 25,
     "metadata": {},
     "output_type": "execute_result"
    }
   ],
   "source": [
    "my_bar_chart[1:5]"
   ]
  },
  {
   "cell_type": "markdown",
   "metadata": {},
   "source": [
    "## Cell mixed with single line kql queries "
   ]
  },
  {
   "cell_type": "code",
   "execution_count": 26,
   "metadata": {},
   "outputs": [
    {
     "name": "stdout",
     "output_type": "stream",
     "text": [
      "+-------------------+---------+\n",
      "|   ResourceGroup   |  count_ |\n",
      "+-------------------+---------+\n",
      "|   contosoazurehq  | 2446381 |\n",
      "|  contosoonpremhq  |  950419 |\n",
      "| contosoautomation |  566454 |\n",
      "|       aztest      |  339832 |\n",
      "|  contosoretail100 |  266503 |\n",
      "|   contosovma6ab   |  250005 |\n",
      "| ContosoRetailDev1 |  247553 |\n",
      "|     contosoiis    |  233345 |\n",
      "|  contosoa2ademo2  |  231644 |\n",
      "|       kncon       |  220846 |\n",
      "+-------------------+---------+\n"
     ]
    },
    {
     "data": {
      "application/vnd.jupyter.widget-view+json": {
       "model_id": "3086e4bde5e443818a7f8fe5274d964f",
       "version_major": 2,
       "version_minor": 0
      },
      "text/plain": [
       "FigureWidget({\n",
       "    'data': [{'marker': {'color': 'rgb(31, 118, 179)'},\n",
       "              'name': 'count_',\n",
       "       …"
      ]
     },
     "metadata": {},
     "output_type": "display_data"
    },
    {
     "data": {
      "text/html": [],
      "text/plain": [
       "[{'ResourceGroup': 'contosoazurehq', 'count_': 2446381},\n",
       " {'ResourceGroup': 'contosoonpremhq', 'count_': 950419},\n",
       " {'ResourceGroup': 'contosoautomation', 'count_': 566454},\n",
       " {'ResourceGroup': 'aztest', 'count_': 339832},\n",
       " {'ResourceGroup': 'contosoretail100', 'count_': 266503},\n",
       " {'ResourceGroup': 'contosovma6ab', 'count_': 250005},\n",
       " {'ResourceGroup': 'ContosoRetailDev1', 'count_': 247553},\n",
       " {'ResourceGroup': 'contosoiis', 'count_': 233345},\n",
       " {'ResourceGroup': 'contosoa2ademo2', 'count_': 231644},\n",
       " {'ResourceGroup': 'kncon', 'count_': 220846}]"
      ]
     },
     "metadata": {},
     "output_type": "display_data"
    },
    {
     "data": {
      "application/vnd.jupyter.widget-view+json": {
       "model_id": "049fa0e5187d4a9cbe664c6aeda6f10d",
       "version_major": 2,
       "version_minor": 0
      },
      "text/plain": [
       "FigureWidget({\n",
       "    'data': [{'domain': {'x': [0.0, 1.0], 'y': [0.0, 1.0]},\n",
       "              'labels': [contosoazu…"
      ]
     },
     "metadata": {},
     "output_type": "display_data"
    },
    {
     "data": {
      "text/html": [],
      "text/plain": [
       "[{'ResourceGroup': 'contosoazurehq', 'count_': 2446393},\n",
       " {'ResourceGroup': 'contosoonpremhq', 'count_': 950419},\n",
       " {'ResourceGroup': 'contosoautomation', 'count_': 566454},\n",
       " {'ResourceGroup': 'aztest', 'count_': 339832},\n",
       " {'ResourceGroup': 'contosoretail100', 'count_': 266503},\n",
       " {'ResourceGroup': 'contosovma6ab', 'count_': 250005},\n",
       " {'ResourceGroup': 'ContosoRetailDev1', 'count_': 247566},\n",
       " {'ResourceGroup': 'contosoiis', 'count_': 233345},\n",
       " {'ResourceGroup': 'contosoa2ademo2', 'count_': 231644},\n",
       " {'ResourceGroup': 'kncon', 'count_': 220846}]"
      ]
     },
     "metadata": {},
     "output_type": "display_data"
    }
   ],
   "source": [
    "%kql bar_chart << Heartbeat | where ResourceGroup != '' | summarize count() by ResourceGroup | sort by count_ | limit 10 | render barchart title='my bar chart'\n",
    "print(bar_chart)\n",
    "%kql pie_chart << Heartbeat | where ResourceGroup != '' | summarize count() by ResourceGroup | sort by count_ | limit 10 | render piechart title='my pie chart'\n",
    "display(bar_chart)\n",
    "display(pie_chart)"
   ]
  },
  {
   "cell_type": "markdown",
   "metadata": {},
   "source": [
    "  - ### <span style=\"color:#82CAFA\">*Note: single line magics (starts with only one \\%) can share the same cell with python code*</span>"
   ]
  },
  {
   "cell_type": "markdown",
   "metadata": {},
   "source": [
    "## Multiline query "
   ]
  },
  {
   "cell_type": "code",
   "execution_count": 27,
   "metadata": {},
   "outputs": [
    {
     "data": {
      "text/html": [
       "<html>\n",
       "        <head>\n",
       "        \n",
       "        </head>\n",
       "        <body>\n",
       "        <div><p style='padding: 10px; color: #3a87ad; background-color: #d9edf7; border-color: #bce9f1'>&nbsp*&nbspmyworkspace@loganalytics</p></div>\n",
       "        </body>\n",
       "        </html>"
      ],
      "text/plain": [
       "<IPython.core.display.HTML object>"
      ]
     },
     "metadata": {},
     "output_type": "display_data"
    },
    {
     "data": {
      "application/vnd.jupyter.widget-view+json": {
       "model_id": "84b1f7227a5642da8114e772d4c7a727",
       "version_major": 2,
       "version_minor": 0
      },
      "text/plain": [
       "FigureWidget({\n",
       "    'data': [{'marker': {'color': 'rgb(31, 118, 179)'},\n",
       "              'name': 'count_',\n",
       "       …"
      ]
     },
     "metadata": {},
     "output_type": "display_data"
    },
    {
     "data": {
      "text/html": [
       "<html>\n",
       "        <head>\n",
       "        \n",
       "        </head>\n",
       "        <body>\n",
       "        <div><p style='padding: 10px; color: #3a87ad; background-color: #d9edf7; border-color: #bce9f1'>Done&nbsp(00:03.710):&nbsp10&nbsprecords</p></div>\n",
       "        </body>\n",
       "        </html>"
      ],
      "text/plain": [
       "<IPython.core.display.HTML object>"
      ]
     },
     "metadata": {},
     "output_type": "display_data"
    },
    {
     "data": {
      "text/html": [],
      "text/plain": [
       "[{'ResourceGroup': 'contosoazurehq', 'count_': 2446393},\n",
       " {'ResourceGroup': 'contosoonpremhq', 'count_': 950419},\n",
       " {'ResourceGroup': 'contosoautomation', 'count_': 566454},\n",
       " {'ResourceGroup': 'aztest', 'count_': 339832},\n",
       " {'ResourceGroup': 'contosoretail100', 'count_': 266503},\n",
       " {'ResourceGroup': 'contosovma6ab', 'count_': 250005},\n",
       " {'ResourceGroup': 'ContosoRetailDev1', 'count_': 247566},\n",
       " {'ResourceGroup': 'contosoiis', 'count_': 233345},\n",
       " {'ResourceGroup': 'contosoa2ademo2', 'count_': 231644},\n",
       " {'ResourceGroup': 'kncon', 'count_': 220846}]"
      ]
     },
     "execution_count": 27,
     "metadata": {},
     "output_type": "execute_result"
    }
   ],
   "source": [
    "%%kql \n",
    "    Heartbeat \n",
    "    | where ResourceGroup != '' \n",
    "    | summarize count() by ResourceGroup \n",
    "    | sort by count_ \n",
    "    | limit 10\n",
    "    | render columnchart title='my column chart' "
   ]
  },
  {
   "cell_type": "markdown",
   "metadata": {},
   "source": [
    "  - ### <span style=\"color:#82CAFA\">*Note: that this is a multiline magic, it starts with \\%\\%. It can include only kql code*</span>"
   ]
  },
  {
   "cell_type": "markdown",
   "metadata": {},
   "source": [
    "## Show last chart result as a table"
   ]
  },
  {
   "cell_type": "code",
   "execution_count": 28,
   "metadata": {},
   "outputs": [
    {
     "data": {
      "text/html": [
       "<html>\n",
       "        <head>\n",
       "        \n",
       "        </head>\n",
       "        <body>\n",
       "        <table>\n",
       "    <tr>\n",
       "        <th>ResourceGroup</th>\n",
       "        <th>count_</th>\n",
       "    </tr>\n",
       "    <tr>\n",
       "        <td>contosoazurehq</td>\n",
       "        <td>2446393</td>\n",
       "    </tr>\n",
       "    <tr>\n",
       "        <td>contosoonpremhq</td>\n",
       "        <td>950419</td>\n",
       "    </tr>\n",
       "    <tr>\n",
       "        <td>contosoautomation</td>\n",
       "        <td>566454</td>\n",
       "    </tr>\n",
       "    <tr>\n",
       "        <td>aztest</td>\n",
       "        <td>339832</td>\n",
       "    </tr>\n",
       "    <tr>\n",
       "        <td>contosoretail100</td>\n",
       "        <td>266503</td>\n",
       "    </tr>\n",
       "    <tr>\n",
       "        <td>contosovma6ab</td>\n",
       "        <td>250005</td>\n",
       "    </tr>\n",
       "    <tr>\n",
       "        <td>ContosoRetailDev1</td>\n",
       "        <td>247566</td>\n",
       "    </tr>\n",
       "    <tr>\n",
       "        <td>contosoiis</td>\n",
       "        <td>233345</td>\n",
       "    </tr>\n",
       "    <tr>\n",
       "        <td>contosoa2ademo2</td>\n",
       "        <td>231644</td>\n",
       "    </tr>\n",
       "    <tr>\n",
       "        <td>kncon</td>\n",
       "        <td>220846</td>\n",
       "    </tr>\n",
       "</table>\n",
       "        </body>\n",
       "        </html>"
      ],
      "text/plain": [
       "<IPython.core.display.HTML object>"
      ]
     },
     "metadata": {},
     "output_type": "display_data"
    }
   ],
   "source": [
    "_.show_table()"
   ]
  },
  {
   "cell_type": "markdown",
   "metadata": {},
   "source": [
    "## Show last result in a popup window"
   ]
  },
  {
   "cell_type": "code",
   "execution_count": 29,
   "metadata": {},
   "outputs": [
    {
     "data": {
      "text/html": [
       "<!DOCTYPE html>\n",
       "            <html><body>\n",
       "\n",
       "            <button onclick=\"this.style.visibility='hidden';kql_MagicLaunchWindowFunction('Kqlmagic_temp_files/5b7d149a6a0f4213a34d0b77a22786e7.html','fullscreen=no,directories=no,location=no,menubar=no,resizable=yes,scrollbars=yes,status=no,titlebar=no,toolbar=no,','5b7d149a6a0f4213a34d0b77a22786e7','')\">popup columnchart - my column chart </button>\n",
       "\n",
       "            <script>\n",
       "\n",
       "            function kql_MagicLaunchWindowFunction(file_path, window_params, window_name, notebooks_host) {\n",
       "                var url;\n",
       "                if (file_path.startsWith('http')) {\n",
       "                    url = file_path;\n",
       "                } else {\n",
       "                    var base_url = '';\n",
       "\n",
       "                    // check if azure notebook\n",
       "                    var azure_host = (notebooks_host == null || notebooks_host.length == 0) ? 'https://notebooks.azure.com' : notebooks_host;\n",
       "                    var start = azure_host.search('//');\n",
       "                    var azure_host_suffix = '.' + azure_host.substring(start+2);\n",
       "\n",
       "                    var loc = String(window.location);\n",
       "                    var end = loc.search(azure_host_suffix);\n",
       "                    start = loc.search('//');\n",
       "                    if (start > 0 && end > 0) {\n",
       "                        var parts = loc.substring(start+2, end).split('-');\n",
       "                        if (parts.length == 2) {\n",
       "                            var library = parts[0];\n",
       "                            var user = parts[1];\n",
       "                            base_url = azure_host + '/api/user/' +user+ '/library/' +library+ '/html/';\n",
       "                        }\n",
       "                    }\n",
       "\n",
       "                    // check if local jupyter lab\n",
       "                    if (base_url.length == 0) {\n",
       "                        var configDataScipt  = document.getElementById('jupyter-config-data');\n",
       "                        if (configDataScipt != null) {\n",
       "                            var jupyterConfigData = JSON.parse(configDataScipt.textContent);\n",
       "                            if (jupyterConfigData['appName'] == 'JupyterLab' && jupyterConfigData['serverRoot'] != null &&  jupyterConfigData['treeUrl'] != null) {\n",
       "                                var basePath = 'C:/My Projects/jupyter-Kqlmagic-microsoft/notebooks' + '/';\n",
       "                                if (basePath.startsWith(jupyterConfigData['serverRoot'])) {\n",
       "                                    base_url = '/files/' + basePath.substring(jupyterConfigData['serverRoot'].length+1);\n",
       "                                }\n",
       "                            } \n",
       "                        }\n",
       "                    }\n",
       "\n",
       "                    // assume local jupyter notebook\n",
       "                    if (base_url.length == 0) {\n",
       "\n",
       "                        var parts = loc.split('/');\n",
       "                        parts.pop();\n",
       "                        base_url = parts.join('/') + '/';\n",
       "                    }\n",
       "                    url = base_url + file_path;\n",
       "                }\n",
       "\n",
       "                window.focus();\n",
       "                var w = screen.width / 2;\n",
       "                var h = screen.height / 2;\n",
       "                params = 'width='+w+',height='+h;\n",
       "                kql_Magic_5b7d149a6a0f4213a34d0b77a22786e7 = window.open(url, window_name, window_params + params);\n",
       "            }\n",
       "            </script>\n",
       "\n",
       "            </body></html>"
      ],
      "text/plain": [
       "<IPython.core.display.HTML object>"
      ]
     },
     "metadata": {},
     "output_type": "display_data"
    }
   ],
   "source": [
    "_.popup()"
   ]
  },
  {
   "cell_type": "markdown",
   "metadata": {},
   "source": [
    "## Resize poup window, and to adjust the chart inside the window press F5"
   ]
  },
  {
   "cell_type": "markdown",
   "metadata": {},
   "source": [
    "  - ### <span style=\"color:#82CAFA\">*Note: when you F5, you loose the latest chart display state*</span>"
   ]
  },
  {
   "cell_type": "markdown",
   "metadata": {},
   "source": [
    "## Show last chart result as a table in a popup window"
   ]
  },
  {
   "cell_type": "code",
   "execution_count": 30,
   "metadata": {},
   "outputs": [
    {
     "data": {
      "text/html": [
       "<!DOCTYPE html>\n",
       "            <html><body>\n",
       "\n",
       "            <button onclick=\"this.style.visibility='hidden';kql_MagicLaunchWindowFunction('Kqlmagic_temp_files/b25d6901dc644f60971e2381d83d8da0.html','fullscreen=no,directories=no,location=no,menubar=no,resizable=yes,scrollbars=yes,status=no,titlebar=no,toolbar=no,','b25d6901dc644f60971e2381d83d8da0','')\">popup table - my column chart </button>\n",
       "\n",
       "            <script>\n",
       "\n",
       "            function kql_MagicLaunchWindowFunction(file_path, window_params, window_name, notebooks_host) {\n",
       "                var url;\n",
       "                if (file_path.startsWith('http')) {\n",
       "                    url = file_path;\n",
       "                } else {\n",
       "                    var base_url = '';\n",
       "\n",
       "                    // check if azure notebook\n",
       "                    var azure_host = (notebooks_host == null || notebooks_host.length == 0) ? 'https://notebooks.azure.com' : notebooks_host;\n",
       "                    var start = azure_host.search('//');\n",
       "                    var azure_host_suffix = '.' + azure_host.substring(start+2);\n",
       "\n",
       "                    var loc = String(window.location);\n",
       "                    var end = loc.search(azure_host_suffix);\n",
       "                    start = loc.search('//');\n",
       "                    if (start > 0 && end > 0) {\n",
       "                        var parts = loc.substring(start+2, end).split('-');\n",
       "                        if (parts.length == 2) {\n",
       "                            var library = parts[0];\n",
       "                            var user = parts[1];\n",
       "                            base_url = azure_host + '/api/user/' +user+ '/library/' +library+ '/html/';\n",
       "                        }\n",
       "                    }\n",
       "\n",
       "                    // check if local jupyter lab\n",
       "                    if (base_url.length == 0) {\n",
       "                        var configDataScipt  = document.getElementById('jupyter-config-data');\n",
       "                        if (configDataScipt != null) {\n",
       "                            var jupyterConfigData = JSON.parse(configDataScipt.textContent);\n",
       "                            if (jupyterConfigData['appName'] == 'JupyterLab' && jupyterConfigData['serverRoot'] != null &&  jupyterConfigData['treeUrl'] != null) {\n",
       "                                var basePath = 'C:/My Projects/jupyter-Kqlmagic-microsoft/notebooks' + '/';\n",
       "                                if (basePath.startsWith(jupyterConfigData['serverRoot'])) {\n",
       "                                    base_url = '/files/' + basePath.substring(jupyterConfigData['serverRoot'].length+1);\n",
       "                                }\n",
       "                            } \n",
       "                        }\n",
       "                    }\n",
       "\n",
       "                    // assume local jupyter notebook\n",
       "                    if (base_url.length == 0) {\n",
       "\n",
       "                        var parts = loc.split('/');\n",
       "                        parts.pop();\n",
       "                        base_url = parts.join('/') + '/';\n",
       "                    }\n",
       "                    url = base_url + file_path;\n",
       "                }\n",
       "\n",
       "                window.focus();\n",
       "                var w = screen.width / 2;\n",
       "                var h = screen.height / 2;\n",
       "                params = 'width='+w+',height='+h;\n",
       "                kql_Magic_b25d6901dc644f60971e2381d83d8da0 = window.open(url, window_name, window_params + params);\n",
       "            }\n",
       "            </script>\n",
       "\n",
       "            </body></html>"
      ],
      "text/plain": [
       "<IPython.core.display.HTML object>"
      ]
     },
     "metadata": {},
     "output_type": "display_data"
    }
   ],
   "source": [
    "_kql_raw_result_.popup_table()"
   ]
  },
  {
   "cell_type": "markdown",
   "metadata": {},
   "source": [
    "## More complex chart"
   ]
  },
  {
   "cell_type": "code",
   "execution_count": 31,
   "metadata": {},
   "outputs": [
    {
     "data": {
      "text/html": [
       "<html>\n",
       "        <head>\n",
       "        \n",
       "        </head>\n",
       "        <body>\n",
       "        <div><p style='padding: 10px; color: #3a87ad; background-color: #d9edf7; border-color: #bce9f1'>&nbsp*&nbspmyworkspace@loganalytics</p></div>\n",
       "        </body>\n",
       "        </html>"
      ],
      "text/plain": [
       "<IPython.core.display.HTML object>"
      ]
     },
     "metadata": {},
     "output_type": "display_data"
    },
    {
     "data": {
      "application/vnd.jupyter.widget-view+json": {
       "model_id": "5b3608a3017c481ca55303dc2e9e0e64",
       "version_major": 2,
       "version_minor": 0
      },
      "text/plain": [
       "FigureWidget({\n",
       "    'data': [{'domain': {'x': [0.0, 0.475], 'y': [0.0, 1.0]},\n",
       "              'labels': [contosoa…"
      ]
     },
     "metadata": {},
     "output_type": "display_data"
    },
    {
     "data": {
      "text/html": [
       "<html>\n",
       "        <head>\n",
       "        \n",
       "        </head>\n",
       "        <body>\n",
       "        <div><p style='padding: 10px; color: #3a87ad; background-color: #d9edf7; border-color: #bce9f1'>Done&nbsp(00:03.726):&nbsp10&nbsprecords</p></div>\n",
       "        </body>\n",
       "        </html>"
      ],
      "text/plain": [
       "<IPython.core.display.HTML object>"
      ]
     },
     "metadata": {},
     "output_type": "display_data"
    },
    {
     "data": {
      "text/html": [],
      "text/plain": [
       "[{'ResourceGroup': 'contosoazurehq', 'count_': 2446407, 'count2': 5984907209649},\n",
       " {'ResourceGroup': 'contosoonpremhq', 'count_': 950419, 'count2': 903296275561},\n",
       " {'ResourceGroup': 'contosoautomation', 'count_': 566455, 'count2': 320871267025},\n",
       " {'ResourceGroup': 'aztest', 'count_': 339832, 'count2': 115485788224},\n",
       " {'ResourceGroup': 'contosoretail100', 'count_': 266503, 'count2': 71023849009},\n",
       " {'ResourceGroup': 'contosovma6ab', 'count_': 250005, 'count2': 62502500025},\n",
       " {'ResourceGroup': 'ContosoRetailDev1', 'count_': 247576, 'count2': 61293875776},\n",
       " {'ResourceGroup': 'contosoiis', 'count_': 233345, 'count2': 54449889025},\n",
       " {'ResourceGroup': 'contosoa2ademo2', 'count_': 231644, 'count2': 53658942736},\n",
       " {'ResourceGroup': 'kncon', 'count_': 220846, 'count2': 48772955716}]"
      ]
     },
     "execution_count": 31,
     "metadata": {},
     "output_type": "execute_result"
    }
   ],
   "source": [
    "%%kql \n",
    "    Heartbeat \n",
    "    | where ResourceGroup != '' \n",
    "    | summarize count() by ResourceGroup \n",
    "    | sort by count_ \n",
    "    | limit 10\n",
    "    | extend count2 = count_*count_ \n",
    "    | limit 10 \n",
    "    | render piechart title='my pie chart #2' "
   ]
  },
  {
   "cell_type": "markdown",
   "metadata": {},
   "source": [
    "## Convert result data to dictionary of columns"
   ]
  },
  {
   "cell_type": "code",
   "execution_count": 32,
   "metadata": {},
   "outputs": [
    {
     "name": "stdout",
     "output_type": "stream",
     "text": [
      "{'ResourceGroup': ('contosoazurehq', 'contosoonpremhq', 'contosoautomation', 'aztest', 'contosoretail100', 'contosovma6ab', 'ContosoRetailDev1', 'contosoiis', 'contosoa2ademo2', 'kncon'), 'count_': (2446407, 950419, 566455, 339832, 266503, 250005, 247576, 233345, 231644, 220846), 'count2': (5984907209649, 903296275561, 320871267025, 115485788224, 71023849009, 62502500025, 61293875776, 54449889025, 53658942736, 48772955716)}\n"
     ]
    }
   ],
   "source": [
    "dict_of_columns = _kql_raw_result_.to_dict()\n",
    "print(dict_of_columns)"
   ]
  },
  {
   "cell_type": "code",
   "execution_count": 33,
   "metadata": {},
   "outputs": [
    {
     "data": {
      "text/html": [
       "<a href=\".\\files\\csv_file.csv\" download>csv results</a>"
      ],
      "text/plain": [
       "csv results at C:\\My Projects\\jupyter-Kqlmagic-microsoft\\notebooks\\csv_file.csv"
      ]
     },
     "execution_count": 33,
     "metadata": {},
     "output_type": "execute_result"
    }
   ],
   "source": [
    "_kql_raw_result_.to_csv('csv_file.csv')\n",
    "#%cat csv_file.csv"
   ]
  },
  {
   "cell_type": "markdown",
   "metadata": {},
   "source": [
    "# Get last kql query attributes "
   ]
  },
  {
   "cell_type": "markdown",
   "metadata": {},
   "source": [
    "## Query string"
   ]
  },
  {
   "cell_type": "code",
   "execution_count": 34,
   "metadata": {},
   "outputs": [
    {
     "data": {
      "text/plain": [
       "\"Heartbeat \\n    | where ResourceGroup != '' \\n    | summarize count() by ResourceGroup \\n    | sort by count_ \\n    | limit 10\\n    | extend count2 = count_*count_ \\n    | limit 10 \\n    | render piechart title='my pie chart #2'\""
      ]
     },
     "execution_count": 34,
     "metadata": {},
     "output_type": "execute_result"
    }
   ],
   "source": [
    "_kql_raw_result_.query"
   ]
  },
  {
   "cell_type": "markdown",
   "metadata": {},
   "source": [
    "## Query render title"
   ]
  },
  {
   "cell_type": "code",
   "execution_count": 35,
   "metadata": {},
   "outputs": [
    {
     "data": {
      "text/plain": [
       "'my pie chart #2'"
      ]
     },
     "execution_count": 35,
     "metadata": {},
     "output_type": "execute_result"
    }
   ],
   "source": [
    "_kql_raw_result_.title"
   ]
  },
  {
   "cell_type": "markdown",
   "metadata": {},
   "source": [
    "## Query render visualization"
   ]
  },
  {
   "cell_type": "code",
   "execution_count": 36,
   "metadata": {},
   "outputs": [
    {
     "data": {
      "text/plain": [
       "'piechart'"
      ]
     },
     "execution_count": 36,
     "metadata": {},
     "output_type": "execute_result"
    }
   ],
   "source": [
    "_kql_raw_result_.visualization"
   ]
  },
  {
   "cell_type": "markdown",
   "metadata": {},
   "source": [
    "## Number of records in query response "
   ]
  },
  {
   "cell_type": "code",
   "execution_count": 37,
   "metadata": {},
   "outputs": [
    {
     "data": {
      "text/plain": [
       "10"
      ]
     },
     "execution_count": 37,
     "metadata": {},
     "output_type": "execute_result"
    }
   ],
   "source": [
    "_kql_raw_result_.records_count"
   ]
  },
  {
   "cell_type": "markdown",
   "metadata": {},
   "source": [
    "## List of columns in query table response"
   ]
  },
  {
   "cell_type": "code",
   "execution_count": 38,
   "metadata": {},
   "outputs": [
    {
     "data": {
      "text/plain": [
       "['ResourceGroup', 'count_', 'count2']"
      ]
     },
     "execution_count": 38,
     "metadata": {},
     "output_type": "execute_result"
    }
   ],
   "source": [
    "_kql_raw_result_.columns_name"
   ]
  },
  {
   "cell_type": "markdown",
   "metadata": {},
   "source": [
    "## Kqlmagic time metric (in seconds)"
   ]
  },
  {
   "cell_type": "code",
   "execution_count": 39,
   "metadata": {},
   "outputs": [
    {
     "data": {
      "text/plain": [
       "1539856772.9746506"
      ]
     },
     "execution_count": 39,
     "metadata": {},
     "output_type": "execute_result"
    }
   ],
   "source": [
    "_kql_raw_result_.start_time"
   ]
  },
  {
   "cell_type": "code",
   "execution_count": 40,
   "metadata": {},
   "outputs": [
    {
     "data": {
      "text/plain": [
       "1539856776.7007174"
      ]
     },
     "execution_count": 40,
     "metadata": {},
     "output_type": "execute_result"
    }
   ],
   "source": [
    "_kql_raw_result_.end_time"
   ]
  },
  {
   "cell_type": "code",
   "execution_count": 41,
   "metadata": {},
   "outputs": [
    {
     "data": {
      "text/plain": [
       "3.726066827774048"
      ]
     },
     "execution_count": 41,
     "metadata": {},
     "output_type": "execute_result"
    }
   ],
   "source": [
    "_kql_raw_result_.elapsed_timespan"
   ]
  },
  {
   "cell_type": "markdown",
   "metadata": {},
   "source": [
    "## Query connection database@cluster"
   ]
  },
  {
   "cell_type": "code",
   "execution_count": 42,
   "metadata": {},
   "outputs": [
    {
     "data": {
      "text/plain": [
       "'myworkspace@loganalytics'"
      ]
     },
     "execution_count": 42,
     "metadata": {},
     "output_type": "execute_result"
    }
   ],
   "source": [
    "_kql_raw_result_.connection"
   ]
  },
  {
   "cell_type": "markdown",
   "metadata": {},
   "source": [
    "## Query Options (settings) "
   ]
  },
  {
   "cell_type": "code",
   "execution_count": 43,
   "metadata": {},
   "outputs": [
    {
     "data": {
      "text/plain": [
       "{'auto_dataframe': False,\n",
       " 'short_errors': True,\n",
       " 'feedback': True,\n",
       " 'show_conn_info': 'current',\n",
       " 'columns_to_local_vars': False,\n",
       " 'show_query_time': True,\n",
       " 'enable_suppress_result': True,\n",
       " 'plotly_fs_includejs': False,\n",
       " 'popup_window': False,\n",
       " 'auto_limit': 0,\n",
       " 'display_limit': None,\n",
       " 'prettytable_style': 'DEFAULT',\n",
       " 'last_raw_result_var': '_kql_raw_result_',\n",
       " 'table_package': 'prettytable',\n",
       " 'plot_package': 'plotly',\n",
       " 'dsn_filename': 'odbc.ini',\n",
       " 'validate_connection_string': True,\n",
       " 'auto_popup_schema': True,\n",
       " 'json_display': 'formatted',\n",
       " 'popup_help': False,\n",
       " 'popup_schema': False,\n",
       " 'palette_colors': 10,\n",
       " 'palette_desaturation': 1.0,\n",
       " 'params_dict': None,\n",
       " 'palette_name': 'tab10',\n",
       " 'temp_folder_name': 'Kqlmagic_temp_files',\n",
       " 'cache_folder_name': 'Kqlmagic_cache_files',\n",
       " 'export_folder_name': 'Kqlmagic_exported_files',\n",
       " 'notebook_app': 'jupyternotebook',\n",
       " 'add_kql_ref_to_help': True,\n",
       " 'add_schema_to_help': True,\n",
       " 'cache': False,\n",
       " 'use_cache': False,\n",
       " 'version': False,\n",
       " 'palette': False,\n",
       " 'popup_palettes': False,\n",
       " 'palette_reverse': False,\n",
       " 'save_as': None}"
      ]
     },
     "execution_count": 43,
     "metadata": {},
     "output_type": "execute_result"
    }
   ],
   "source": [
    "_kql_raw_result_.options"
   ]
  },
  {
   "cell_type": "markdown",
   "metadata": {},
   "source": [
    "## Completion query information (query metadata)"
   ]
  },
  {
   "cell_type": "code",
   "execution_count": 44,
   "metadata": {},
   "outputs": [
    {
     "data": {
      "text/plain": [
       "{\n",
       "    \u001b[34;01m\"Count\"\u001b[39;49;00m: \u001b[34m11\u001b[39;49;00m,\n",
       "    \u001b[34;01m\"StatusCode\"\u001b[39;49;00m: \u001b[34m0\u001b[39;49;00m,\n",
       "    \u001b[34;01m\"StatusDescription\"\u001b[39;49;00m: \u001b[33m\"Query completed successfully\"\u001b[39;49;00m\n",
       "}"
      ]
     },
     "execution_count": 44,
     "metadata": {},
     "output_type": "execute_result"
    }
   ],
   "source": [
    "_kql_raw_result_.completion_query_info"
   ]
  },
  {
   "cell_type": "markdown",
   "metadata": {},
   "source": [
    "## Completion query resource consumption (query metadata)"
   ]
  },
  {
   "cell_type": "code",
   "execution_count": 45,
   "metadata": {},
   "outputs": [
    {
     "data": {
      "text/plain": [
       "{\n",
       "    \u001b[34;01m\"ExecutionTime\"\u001b[39;49;00m: \u001b[34m0.0625049\u001b[39;49;00m,\n",
       "    \u001b[34;01m\"dataset_statistics\"\u001b[39;49;00m: [\n",
       "        {\n",
       "            \u001b[34;01m\"table_row_count\"\u001b[39;49;00m: \u001b[34m10\u001b[39;49;00m,\n",
       "            \u001b[34;01m\"table_size\"\u001b[39;49;00m: \u001b[34m308\u001b[39;49;00m\n",
       "        }\n",
       "    ],\n",
       "    \u001b[34;01m\"input_dataset_statistics\"\u001b[39;49;00m: {\n",
       "        \u001b[34;01m\"extents\"\u001b[39;49;00m: {\n",
       "            \u001b[34;01m\"scanned\"\u001b[39;49;00m: \u001b[34m151\u001b[39;49;00m,\n",
       "            \u001b[34;01m\"total\"\u001b[39;49;00m: \u001b[34m151\u001b[39;49;00m\n",
       "        },\n",
       "        \u001b[34;01m\"rows\"\u001b[39;49;00m: {\n",
       "            \u001b[34;01m\"scanned\"\u001b[39;49;00m: \u001b[34m10881003\u001b[39;49;00m,\n",
       "            \u001b[34;01m\"total\"\u001b[39;49;00m: \u001b[34m10881003\u001b[39;49;00m\n",
       "        },\n",
       "        \u001b[34;01m\"rowstores\"\u001b[39;49;00m: {\n",
       "            \u001b[34;01m\"scanned_rows\"\u001b[39;49;00m: \u001b[34m0\u001b[39;49;00m\n",
       "        }\n",
       "    },\n",
       "    \u001b[34;01m\"resource_usage\"\u001b[39;49;00m: {\n",
       "        \u001b[34;01m\"cache\"\u001b[39;49;00m: {\n",
       "            \u001b[34;01m\"disk\"\u001b[39;49;00m: {\n",
       "                \u001b[34;01m\"hits\"\u001b[39;49;00m: \u001b[34m0\u001b[39;49;00m,\n",
       "                \u001b[34;01m\"misses\"\u001b[39;49;00m: \u001b[34m0\u001b[39;49;00m,\n",
       "                \u001b[34;01m\"total\"\u001b[39;49;00m: \u001b[34m0\u001b[39;49;00m\n",
       "            },\n",
       "            \u001b[34;01m\"memory\"\u001b[39;49;00m: {\n",
       "                \u001b[34;01m\"hits\"\u001b[39;49;00m: \u001b[34m24979\u001b[39;49;00m,\n",
       "                \u001b[34;01m\"misses\"\u001b[39;49;00m: \u001b[34m0\u001b[39;49;00m,\n",
       "                \u001b[34;01m\"total\"\u001b[39;49;00m: \u001b[34m24979\u001b[39;49;00m\n",
       "            }\n",
       "        },\n",
       "        \u001b[34;01m\"cpu\"\u001b[39;49;00m: {\n",
       "            \u001b[34;01m\"kernel\"\u001b[39;49;00m: \u001b[33m\"00:00:00.1250000\"\u001b[39;49;00m,\n",
       "            \u001b[34;01m\"total cpu\"\u001b[39;49;00m: \u001b[33m\"00:00:01.2968750\"\u001b[39;49;00m,\n",
       "            \u001b[34;01m\"user\"\u001b[39;49;00m: \u001b[33m\"00:00:01.1718750\"\u001b[39;49;00m\n",
       "        },\n",
       "        \u001b[34;01m\"memory\"\u001b[39;49;00m: {\n",
       "            \u001b[34;01m\"peak_per_node\"\u001b[39;49;00m: \u001b[34m234882368\u001b[39;49;00m\n",
       "        }\n",
       "    }\n",
       "}"
      ]
     },
     "execution_count": 45,
     "metadata": {},
     "output_type": "execute_result"
    }
   ],
   "source": [
    "_kql_raw_result_.completion_query_resource_consumption"
   ]
  },
  {
   "cell_type": "code",
   "execution_count": 46,
   "metadata": {},
   "outputs": [
    {
     "data": {
      "text/plain": [
       "24979"
      ]
     },
     "execution_count": 46,
     "metadata": {},
     "output_type": "execute_result"
    }
   ],
   "source": [
    "_kql_raw_result_.completion_query_resource_consumption['resource_usage']['cache']['memory']['hits']"
   ]
  },
  {
   "cell_type": "markdown",
   "metadata": {},
   "source": [
    "## Query raw json response"
   ]
  },
  {
   "cell_type": "code",
   "execution_count": 47,
   "metadata": {
    "scrolled": true
   },
   "outputs": [
    {
     "data": {
      "text/plain": [
       "{\n",
       "    \u001b[34;01m\"Tables\"\u001b[39;49;00m: [\n",
       "        {\n",
       "            \u001b[34;01m\"Columns\"\u001b[39;49;00m: [\n",
       "                {\n",
       "                    \u001b[34;01m\"ColumnName\"\u001b[39;49;00m: \u001b[33m\"ResourceGroup\"\u001b[39;49;00m,\n",
       "                    \u001b[34;01m\"ColumnType\"\u001b[39;49;00m: \u001b[33m\"string\"\u001b[39;49;00m,\n",
       "                    \u001b[34;01m\"DataType\"\u001b[39;49;00m: \u001b[33m\"String\"\u001b[39;49;00m\n",
       "                },\n",
       "                {\n",
       "                    \u001b[34;01m\"ColumnName\"\u001b[39;49;00m: \u001b[33m\"count_\"\u001b[39;49;00m,\n",
       "                    \u001b[34;01m\"ColumnType\"\u001b[39;49;00m: \u001b[33m\"long\"\u001b[39;49;00m,\n",
       "                    \u001b[34;01m\"DataType\"\u001b[39;49;00m: \u001b[33m\"Int64\"\u001b[39;49;00m\n",
       "                },\n",
       "                {\n",
       "                    \u001b[34;01m\"ColumnName\"\u001b[39;49;00m: \u001b[33m\"count2\"\u001b[39;49;00m,\n",
       "                    \u001b[34;01m\"ColumnType\"\u001b[39;49;00m: \u001b[33m\"long\"\u001b[39;49;00m,\n",
       "                    \u001b[34;01m\"DataType\"\u001b[39;49;00m: \u001b[33m\"Int64\"\u001b[39;49;00m\n",
       "                }\n",
       "            ],\n",
       "            \u001b[34;01m\"Rows\"\u001b[39;49;00m: [\n",
       "                [\n",
       "                    \u001b[33m\"contosoazurehq\"\u001b[39;49;00m,\n",
       "                    \u001b[34m2446407\u001b[39;49;00m,\n",
       "                    \u001b[34m5984907209649\u001b[39;49;00m\n",
       "                ],\n",
       "                [\n",
       "                    \u001b[33m\"contosoonpremhq\"\u001b[39;49;00m,\n",
       "                    \u001b[34m950419\u001b[39;49;00m,\n",
       "                    \u001b[34m903296275561\u001b[39;49;00m\n",
       "                ],\n",
       "                [\n",
       "                    \u001b[33m\"contosoautomation\"\u001b[39;49;00m,\n",
       "                    \u001b[34m566455\u001b[39;49;00m,\n",
       "                    \u001b[34m320871267025\u001b[39;49;00m\n",
       "                ],\n",
       "                [\n",
       "                    \u001b[33m\"aztest\"\u001b[39;49;00m,\n",
       "                    \u001b[34m339832\u001b[39;49;00m,\n",
       "                    \u001b[34m115485788224\u001b[39;49;00m\n",
       "                ],\n",
       "                [\n",
       "                    \u001b[33m\"contosoretail100\"\u001b[39;49;00m,\n",
       "                    \u001b[34m266503\u001b[39;49;00m,\n",
       "                    \u001b[34m71023849009\u001b[39;49;00m\n",
       "                ],\n",
       "                [\n",
       "                    \u001b[33m\"contosovma6ab\"\u001b[39;49;00m,\n",
       "                    \u001b[34m250005\u001b[39;49;00m,\n",
       "                    \u001b[34m62502500025\u001b[39;49;00m\n",
       "                ],\n",
       "                [\n",
       "                    \u001b[33m\"ContosoRetailDev1\"\u001b[39;49;00m,\n",
       "                    \u001b[34m247576\u001b[39;49;00m,\n",
       "                    \u001b[34m61293875776\u001b[39;49;00m\n",
       "                ],\n",
       "                [\n",
       "                    \u001b[33m\"contosoiis\"\u001b[39;49;00m,\n",
       "                    \u001b[34m233345\u001b[39;49;00m,\n",
       "                    \u001b[34m54449889025\u001b[39;49;00m\n",
       "                ],\n",
       "                [\n",
       "                    \u001b[33m\"contosoa2ademo2\"\u001b[39;49;00m,\n",
       "                    \u001b[34m231644\u001b[39;49;00m,\n",
       "                    \u001b[34m53658942736\u001b[39;49;00m\n",
       "                ],\n",
       "                [\n",
       "                    \u001b[33m\"kncon\"\u001b[39;49;00m,\n",
       "                    \u001b[34m220846\u001b[39;49;00m,\n",
       "                    \u001b[34m48772955716\u001b[39;49;00m\n",
       "                ]\n",
       "            ],\n",
       "            \u001b[34;01m\"TableName\"\u001b[39;49;00m: \u001b[33m\"Table_0\"\u001b[39;49;00m\n",
       "        },\n",
       "        {\n",
       "            \u001b[34;01m\"Columns\"\u001b[39;49;00m: [\n",
       "                {\n",
       "                    \u001b[34;01m\"ColumnName\"\u001b[39;49;00m: \u001b[33m\"Value\"\u001b[39;49;00m,\n",
       "                    \u001b[34;01m\"ColumnType\"\u001b[39;49;00m: \u001b[33m\"string\"\u001b[39;49;00m,\n",
       "                    \u001b[34;01m\"DataType\"\u001b[39;49;00m: \u001b[33m\"String\"\u001b[39;49;00m\n",
       "                }\n",
       "            ],\n",
       "            \u001b[34;01m\"Rows\"\u001b[39;49;00m: [\n",
       "                [\n",
       "                    \u001b[33m\"{\\\"Visualization\\\":\\\"piechart\\\",\\\"Title\\\":\\\"my pie chart #2\\\",\\\"XColumn\\\":null,\\\"Series\\\":null,\\\"YColumns\\\":null,\\\"XTitle\\\":null,\\\"YTitle\\\":null,\\\"XAxis\\\":null,\\\"YAxis\\\":null,\\\"Legend\\\":null,\\\"YSplit\\\":null,\\\"Accumulate\\\":false,\\\"IsQuerySorted\\\":true,\\\"Kind\\\":null}\"\u001b[39;49;00m\n",
       "                ]\n",
       "            ],\n",
       "            \u001b[34;01m\"TableName\"\u001b[39;49;00m: \u001b[33m\"Table_1\"\u001b[39;49;00m\n",
       "        },\n",
       "        {\n",
       "            \u001b[34;01m\"Columns\"\u001b[39;49;00m: [\n",
       "                {\n",
       "                    \u001b[34;01m\"ColumnName\"\u001b[39;49;00m: \u001b[33m\"Timestamp\"\u001b[39;49;00m,\n",
       "                    \u001b[34;01m\"ColumnType\"\u001b[39;49;00m: \u001b[33m\"datetime\"\u001b[39;49;00m,\n",
       "                    \u001b[34;01m\"DataType\"\u001b[39;49;00m: \u001b[33m\"DateTime\"\u001b[39;49;00m\n",
       "                },\n",
       "                {\n",
       "                    \u001b[34;01m\"ColumnName\"\u001b[39;49;00m: \u001b[33m\"Severity\"\u001b[39;49;00m,\n",
       "                    \u001b[34;01m\"ColumnType\"\u001b[39;49;00m: \u001b[33m\"int\"\u001b[39;49;00m,\n",
       "                    \u001b[34;01m\"DataType\"\u001b[39;49;00m: \u001b[33m\"Int32\"\u001b[39;49;00m\n",
       "                },\n",
       "                {\n",
       "                    \u001b[34;01m\"ColumnName\"\u001b[39;49;00m: \u001b[33m\"SeverityName\"\u001b[39;49;00m,\n",
       "                    \u001b[34;01m\"ColumnType\"\u001b[39;49;00m: \u001b[33m\"string\"\u001b[39;49;00m,\n",
       "                    \u001b[34;01m\"DataType\"\u001b[39;49;00m: \u001b[33m\"String\"\u001b[39;49;00m\n",
       "                },\n",
       "                {\n",
       "                    \u001b[34;01m\"ColumnName\"\u001b[39;49;00m: \u001b[33m\"StatusCode\"\u001b[39;49;00m,\n",
       "                    \u001b[34;01m\"ColumnType\"\u001b[39;49;00m: \u001b[33m\"int\"\u001b[39;49;00m,\n",
       "                    \u001b[34;01m\"DataType\"\u001b[39;49;00m: \u001b[33m\"Int32\"\u001b[39;49;00m\n",
       "                },\n",
       "                {\n",
       "                    \u001b[34;01m\"ColumnName\"\u001b[39;49;00m: \u001b[33m\"StatusDescription\"\u001b[39;49;00m,\n",
       "                    \u001b[34;01m\"ColumnType\"\u001b[39;49;00m: \u001b[33m\"string\"\u001b[39;49;00m,\n",
       "                    \u001b[34;01m\"DataType\"\u001b[39;49;00m: \u001b[33m\"String\"\u001b[39;49;00m\n",
       "                },\n",
       "                {\n",
       "                    \u001b[34;01m\"ColumnName\"\u001b[39;49;00m: \u001b[33m\"Count\"\u001b[39;49;00m,\n",
       "                    \u001b[34;01m\"ColumnType\"\u001b[39;49;00m: \u001b[33m\"int\"\u001b[39;49;00m,\n",
       "                    \u001b[34;01m\"DataType\"\u001b[39;49;00m: \u001b[33m\"Int32\"\u001b[39;49;00m\n",
       "                },\n",
       "                {\n",
       "                    \u001b[34;01m\"ColumnName\"\u001b[39;49;00m: \u001b[33m\"RequestId\"\u001b[39;49;00m,\n",
       "                    \u001b[34;01m\"ColumnType\"\u001b[39;49;00m: \u001b[33m\"guid\"\u001b[39;49;00m,\n",
       "                    \u001b[34;01m\"DataType\"\u001b[39;49;00m: \u001b[33m\"Guid\"\u001b[39;49;00m\n",
       "                },\n",
       "                {\n",
       "                    \u001b[34;01m\"ColumnName\"\u001b[39;49;00m: \u001b[33m\"ActivityId\"\u001b[39;49;00m,\n",
       "                    \u001b[34;01m\"ColumnType\"\u001b[39;49;00m: \u001b[33m\"guid\"\u001b[39;49;00m,\n",
       "                    \u001b[34;01m\"DataType\"\u001b[39;49;00m: \u001b[33m\"Guid\"\u001b[39;49;00m\n",
       "                },\n",
       "                {\n",
       "                    \u001b[34;01m\"ColumnName\"\u001b[39;49;00m: \u001b[33m\"SubActivityId\"\u001b[39;49;00m,\n",
       "                    \u001b[34;01m\"ColumnType\"\u001b[39;49;00m: \u001b[33m\"guid\"\u001b[39;49;00m,\n",
       "                    \u001b[34;01m\"DataType\"\u001b[39;49;00m: \u001b[33m\"Guid\"\u001b[39;49;00m\n",
       "                },\n",
       "                {\n",
       "                    \u001b[34;01m\"ColumnName\"\u001b[39;49;00m: \u001b[33m\"ClientActivityId\"\u001b[39;49;00m,\n",
       "                    \u001b[34;01m\"ColumnType\"\u001b[39;49;00m: \u001b[33m\"string\"\u001b[39;49;00m,\n",
       "                    \u001b[34;01m\"DataType\"\u001b[39;49;00m: \u001b[33m\"String\"\u001b[39;49;00m\n",
       "                }\n",
       "            ],\n",
       "            \u001b[34;01m\"Rows\"\u001b[39;49;00m: [\n",
       "                [\n",
       "                    \u001b[33m\"2018-10-18T09:59:36.5629045Z\"\u001b[39;49;00m,\n",
       "                    \u001b[34m4\u001b[39;49;00m,\n",
       "                    \u001b[33m\"Info\"\u001b[39;49;00m,\n",
       "                    \u001b[34m0\u001b[39;49;00m,\n",
       "                    \u001b[33m\"Query completed successfully\"\u001b[39;49;00m,\n",
       "                    \u001b[34m11\u001b[39;49;00m,\n",
       "                    \u001b[33m\"2fcf622c-756f-4489-a991-55225ae7c55d\"\u001b[39;49;00m,\n",
       "                    \u001b[33m\"2fcf622c-756f-4489-a991-55225ae7c55d\"\u001b[39;49;00m,\n",
       "                    \u001b[33m\"13715033-4ef8-40ad-b985-00d8511e5cde\"\u001b[39;49;00m,\n",
       "                    \u001b[33m\"c005a7ed-59a5-4f5d-adeb-76d0e2581edc\"\u001b[39;49;00m\n",
       "                ],\n",
       "                [\n",
       "                    \u001b[33m\"2018-10-18T09:59:36.5925241Z\"\u001b[39;49;00m,\n",
       "                    \u001b[34m6\u001b[39;49;00m,\n",
       "                    \u001b[33m\"Stats\"\u001b[39;49;00m,\n",
       "                    \u001b[34m0\u001b[39;49;00m,\n",
       "                    \u001b[33m\"{\\\"ExecutionTime\\\":0.0625049,\\\"resource_usage\\\":{\\\"cache\\\":{\\\"memory\\\":{\\\"hits\\\":24979,\\\"misses\\\":0,\\\"total\\\":24979},\\\"disk\\\":{\\\"hits\\\":0,\\\"misses\\\":0,\\\"total\\\":0}},\\\"cpu\\\":{\\\"user\\\":\\\"00:00:01.1718750\\\",\\\"kernel\\\":\\\"00:00:00.1250000\\\",\\\"total cpu\\\":\\\"00:00:01.2968750\\\"},\\\"memory\\\":{\\\"peak_per_node\\\":234882368}},\\\"input_dataset_statistics\\\":{\\\"extents\\\":{\\\"total\\\":151,\\\"scanned\\\":151},\\\"rows\\\":{\\\"total\\\":10881003,\\\"scanned\\\":10881003},\\\"rowstores\\\":{\\\"scanned_rows\\\":0}},\\\"dataset_statistics\\\":[{\\\"table_row_count\\\":10,\\\"table_size\\\":308}]}\"\u001b[39;49;00m,\n",
       "                    \u001b[34m1\u001b[39;49;00m,\n",
       "                    \u001b[33m\"2fcf622c-756f-4489-a991-55225ae7c55d\"\u001b[39;49;00m,\n",
       "                    \u001b[33m\"2fcf622c-756f-4489-a991-55225ae7c55d\"\u001b[39;49;00m,\n",
       "                    \u001b[33m\"13715033-4ef8-40ad-b985-00d8511e5cde\"\u001b[39;49;00m,\n",
       "                    \u001b[33m\"c005a7ed-59a5-4f5d-adeb-76d0e2581edc\"\u001b[39;49;00m\n",
       "                ]\n",
       "            ],\n",
       "            \u001b[34;01m\"TableName\"\u001b[39;49;00m: \u001b[33m\"Table_2\"\u001b[39;49;00m\n",
       "        },\n",
       "        {\n",
       "            \u001b[34;01m\"Columns\"\u001b[39;49;00m: [\n",
       "                {\n",
       "                    \u001b[34;01m\"ColumnName\"\u001b[39;49;00m: \u001b[33m\"Ordinal\"\u001b[39;49;00m,\n",
       "                    \u001b[34;01m\"ColumnType\"\u001b[39;49;00m: \u001b[33m\"long\"\u001b[39;49;00m,\n",
       "                    \u001b[34;01m\"DataType\"\u001b[39;49;00m: \u001b[33m\"Int64\"\u001b[39;49;00m\n",
       "                },\n",
       "                {\n",
       "                    \u001b[34;01m\"ColumnName\"\u001b[39;49;00m: \u001b[33m\"Kind\"\u001b[39;49;00m,\n",
       "                    \u001b[34;01m\"ColumnType\"\u001b[39;49;00m: \u001b[33m\"string\"\u001b[39;49;00m,\n",
       "                    \u001b[34;01m\"DataType\"\u001b[39;49;00m: \u001b[33m\"String\"\u001b[39;49;00m\n",
       "                },\n",
       "                {\n",
       "                    \u001b[34;01m\"ColumnName\"\u001b[39;49;00m: \u001b[33m\"Name\"\u001b[39;49;00m,\n",
       "                    \u001b[34;01m\"ColumnType\"\u001b[39;49;00m: \u001b[33m\"string\"\u001b[39;49;00m,\n",
       "                    \u001b[34;01m\"DataType\"\u001b[39;49;00m: \u001b[33m\"String\"\u001b[39;49;00m\n",
       "                },\n",
       "                {\n",
       "                    \u001b[34;01m\"ColumnName\"\u001b[39;49;00m: \u001b[33m\"Id\"\u001b[39;49;00m,\n",
       "                    \u001b[34;01m\"ColumnType\"\u001b[39;49;00m: \u001b[33m\"string\"\u001b[39;49;00m,\n",
       "                    \u001b[34;01m\"DataType\"\u001b[39;49;00m: \u001b[33m\"String\"\u001b[39;49;00m\n",
       "                },\n",
       "                {\n",
       "                    \u001b[34;01m\"ColumnName\"\u001b[39;49;00m: \u001b[33m\"PrettyName\"\u001b[39;49;00m,\n",
       "                    \u001b[34;01m\"ColumnType\"\u001b[39;49;00m: \u001b[33m\"string\"\u001b[39;49;00m,\n",
       "                    \u001b[34;01m\"DataType\"\u001b[39;49;00m: \u001b[33m\"String\"\u001b[39;49;00m\n",
       "                }\n",
       "            ],\n",
       "            \u001b[34;01m\"Rows\"\u001b[39;49;00m: [\n",
       "                [\n",
       "                    \u001b[34m0\u001b[39;49;00m,\n",
       "                    \u001b[33m\"QueryResult\"\u001b[39;49;00m,\n",
       "                    \u001b[33m\"PrimaryResult\"\u001b[39;49;00m,\n",
       "                    \u001b[33m\"f9c68a7b-ab38-49f5-9619-a9555affd5ea\"\u001b[39;49;00m,\n",
       "                    \u001b[33m\"\"\u001b[39;49;00m\n",
       "                ],\n",
       "                [\n",
       "                    \u001b[34m1\u001b[39;49;00m,\n",
       "                    \u001b[33m\"QueryProperties\"\u001b[39;49;00m,\n",
       "                    \u001b[33m\"@ExtendedProperties\"\u001b[39;49;00m,\n",
       "                    \u001b[33m\"618a6b00-f203-43ea-9b12-016e2c78a358\"\u001b[39;49;00m,\n",
       "                    \u001b[33m\"\"\u001b[39;49;00m\n",
       "                ],\n",
       "                [\n",
       "                    \u001b[34m2\u001b[39;49;00m,\n",
       "                    \u001b[33m\"QueryStatus\"\u001b[39;49;00m,\n",
       "                    \u001b[33m\"QueryStatus\"\u001b[39;49;00m,\n",
       "                    \u001b[33m\"00000000-0000-0000-0000-000000000000\"\u001b[39;49;00m,\n",
       "                    \u001b[33m\"\"\u001b[39;49;00m\n",
       "                ]\n",
       "            ],\n",
       "            \u001b[34;01m\"TableName\"\u001b[39;49;00m: \u001b[33m\"Table_3\"\u001b[39;49;00m\n",
       "        }\n",
       "    ]\n",
       "}"
      ]
     },
     "execution_count": 47,
     "metadata": {},
     "output_type": "execute_result"
    }
   ],
   "source": [
    "_kql_raw_result_.raw_json"
   ]
  },
  {
   "cell_type": "code",
   "execution_count": 48,
   "metadata": {},
   "outputs": [
    {
     "data": {
      "text/plain": [
       "'Table_1'"
      ]
     },
     "execution_count": 48,
     "metadata": {},
     "output_type": "execute_result"
    }
   ],
   "source": [
    "_kql_raw_result_.raw_json['Tables'][1]['TableName']"
   ]
  },
  {
   "cell_type": "code",
   "execution_count": 49,
   "metadata": {},
   "outputs": [
    {
     "data": {
      "text/plain": [
       "'Value'"
      ]
     },
     "execution_count": 49,
     "metadata": {},
     "output_type": "execute_result"
    }
   ],
   "source": [
    "_kql_raw_result_.raw_json['Tables'][1]['Columns'][0]['ColumnName']"
   ]
  },
  {
   "cell_type": "code",
   "execution_count": 50,
   "metadata": {},
   "outputs": [
    {
     "data": {
      "text/plain": [
       "'QueryResult'"
      ]
     },
     "execution_count": 50,
     "metadata": {},
     "output_type": "execute_result"
    }
   ],
   "source": [
    "_kql_raw_result_.raw_json['Tables'][3]['Rows'][0][1]"
   ]
  },
  {
   "cell_type": "markdown",
   "metadata": {},
   "source": [
    "# Advanced part"
   ]
  },
  {
   "cell_type": "markdown",
   "metadata": {},
   "source": [
    "## Kql query with option -c2lv (-columns_to_local_vars)"
   ]
  },
  {
   "cell_type": "code",
   "execution_count": 51,
   "metadata": {},
   "outputs": [],
   "source": [
    "%%kql -c2lv \n",
    "    Heartbeat \n",
    "    | where ResourceGroup != '' \n",
    "    | summarize count() by ResourceGroup \n",
    "    | sort by count_ | limit 10\n",
    "    | render columnchart title='my column chart' "
   ]
  },
  {
   "cell_type": "markdown",
   "metadata": {},
   "source": [
    "  - ### <span style=\"color:#82CAFA\">*Note: option are specified before the query*</span>\n",
    "  - ### <span style=\"color:#82CAFA\">*Note: c2lv is abbreviation of columns_to_local_vars options*</span>\n",
    "  - ### <span style=\"color:#82CAFA\">*Note: columns_to_local_vars option returns data result in local variables from column names*</span>"
   ]
  },
  {
   "cell_type": "markdown",
   "metadata": {},
   "source": [
    "### result data is assigned to local variables with columns names"
   ]
  },
  {
   "cell_type": "code",
   "execution_count": 52,
   "metadata": {},
   "outputs": [
    {
     "data": {
      "text/plain": [
       "('contosoazurehq',\n",
       " 'contosoonpremhq',\n",
       " 'contosoautomation',\n",
       " 'aztest',\n",
       " 'contosoretail100',\n",
       " 'contosovma6ab',\n",
       " 'ContosoRetailDev1',\n",
       " 'contosoiis',\n",
       " 'contosoa2ademo2',\n",
       " 'kncon')"
      ]
     },
     "execution_count": 52,
     "metadata": {},
     "output_type": "execute_result"
    }
   ],
   "source": [
    "ResourceGroup"
   ]
  },
  {
   "cell_type": "code",
   "execution_count": 53,
   "metadata": {},
   "outputs": [
    {
     "data": {
      "text/plain": [
       "(2446420,\n",
       " 950419,\n",
       " 566455,\n",
       " 339832,\n",
       " 266503,\n",
       " 250005,\n",
       " 247591,\n",
       " 233345,\n",
       " 231644,\n",
       " 220846)"
      ]
     },
     "execution_count": 53,
     "metadata": {},
     "output_type": "execute_result"
    }
   ],
   "source": [
    "count_"
   ]
  },
  {
   "cell_type": "markdown",
   "metadata": {},
   "source": [
    "## Kql query with option -ph (-popup_help)"
   ]
  },
  {
   "cell_type": "code",
   "execution_count": 54,
   "metadata": {},
   "outputs": [
    {
     "data": {
      "text/html": [
       "<!DOCTYPE html>\n",
       "            <html><body>\n",
       "\n",
       "            <button onclick=\"this.style.visibility='visible';kql_MagicLaunchWindowFunction('http://aka.ms/kdocs','fullscreen=no,directories=no,location=no,menubar=no,resizable=yes,scrollbars=yes,status=no,titlebar=no,toolbar=no,','KustoQueryLanguage','')\">popup kql help </button>\n",
       "\n",
       "            <script>\n",
       "\n",
       "            function kql_MagicLaunchWindowFunction(file_path, window_params, window_name, notebooks_host) {\n",
       "                var url;\n",
       "                if (file_path.startsWith('http')) {\n",
       "                    url = file_path;\n",
       "                } else {\n",
       "                    var base_url = '';\n",
       "\n",
       "                    // check if azure notebook\n",
       "                    var azure_host = (notebooks_host == null || notebooks_host.length == 0) ? 'https://notebooks.azure.com' : notebooks_host;\n",
       "                    var start = azure_host.search('//');\n",
       "                    var azure_host_suffix = '.' + azure_host.substring(start+2);\n",
       "\n",
       "                    var loc = String(window.location);\n",
       "                    var end = loc.search(azure_host_suffix);\n",
       "                    start = loc.search('//');\n",
       "                    if (start > 0 && end > 0) {\n",
       "                        var parts = loc.substring(start+2, end).split('-');\n",
       "                        if (parts.length == 2) {\n",
       "                            var library = parts[0];\n",
       "                            var user = parts[1];\n",
       "                            base_url = azure_host + '/api/user/' +user+ '/library/' +library+ '/html/';\n",
       "                        }\n",
       "                    }\n",
       "\n",
       "                    // check if local jupyter lab\n",
       "                    if (base_url.length == 0) {\n",
       "                        var configDataScipt  = document.getElementById('jupyter-config-data');\n",
       "                        if (configDataScipt != null) {\n",
       "                            var jupyterConfigData = JSON.parse(configDataScipt.textContent);\n",
       "                            if (jupyterConfigData['appName'] == 'JupyterLab' && jupyterConfigData['serverRoot'] != null &&  jupyterConfigData['treeUrl'] != null) {\n",
       "                                var basePath = 'C:/My Projects/jupyter-Kqlmagic-microsoft/notebooks' + '/';\n",
       "                                if (basePath.startsWith(jupyterConfigData['serverRoot'])) {\n",
       "                                    base_url = '/files/' + basePath.substring(jupyterConfigData['serverRoot'].length+1);\n",
       "                                }\n",
       "                            } \n",
       "                        }\n",
       "                    }\n",
       "\n",
       "                    // assume local jupyter notebook\n",
       "                    if (base_url.length == 0) {\n",
       "\n",
       "                        var parts = loc.split('/');\n",
       "                        parts.pop();\n",
       "                        base_url = parts.join('/') + '/';\n",
       "                    }\n",
       "                    url = base_url + file_path;\n",
       "                }\n",
       "\n",
       "                window.focus();\n",
       "                var w = screen.width / 2;\n",
       "                var h = screen.height / 2;\n",
       "                params = 'width='+w+',height='+h;\n",
       "                kql_Magic_KustoQueryLanguage = window.open(url, window_name, window_params + params);\n",
       "            }\n",
       "            </script>\n",
       "\n",
       "            </body></html>"
      ],
      "text/plain": [
       "<IPython.core.display.HTML object>"
      ]
     },
     "metadata": {},
     "output_type": "display_data"
    }
   ],
   "source": [
    "%kql -ph"
   ]
  },
  {
   "cell_type": "markdown",
   "metadata": {},
   "source": [
    "  - ### <span style=\"color:#82CAFA\">*Note - current database@cluster is always shown*</span>"
   ]
  },
  {
   "cell_type": "markdown",
   "metadata": {},
   "source": [
    "## Kql query with negated option -f (-feedback)"
   ]
  },
  {
   "cell_type": "code",
   "execution_count": 56,
   "metadata": {},
   "outputs": [
    {
     "data": {
      "text/html": [
       "<html>\n",
       "        <head>\n",
       "        \n",
       "        </head>\n",
       "        <body>\n",
       "        <div><p style='padding: 10px; color: #3a87ad; background-color: #d9edf7; border-color: #bce9f1'>&nbsp*&nbspmyworkspace@loganalytics</p></div>\n",
       "        </body>\n",
       "        </html>"
      ],
      "text/plain": [
       "<IPython.core.display.HTML object>"
      ]
     },
     "metadata": {},
     "output_type": "display_data"
    },
    {
     "data": {
      "application/vnd.jupyter.widget-view+json": {
       "model_id": "0717714dfdca4d48aabb010360bb9c8a",
       "version_major": 2,
       "version_minor": 0
      },
      "text/plain": [
       "FigureWidget({\n",
       "    'data': [{'marker': {'color': 'rgb(31, 118, 179)'},\n",
       "              'name': 'count_',\n",
       "       …"
      ]
     },
     "metadata": {},
     "output_type": "display_data"
    },
    {
     "data": {
      "text/html": [
       "<html>\n",
       "        <head>\n",
       "        \n",
       "        </head>\n",
       "        <body>\n",
       "        \n",
       "        </body>\n",
       "        </html>"
      ],
      "text/plain": [
       "<IPython.core.display.HTML object>"
      ]
     },
     "metadata": {},
     "output_type": "display_data"
    },
    {
     "data": {
      "text/html": [],
      "text/plain": [
       "[{'ResourceGroup': 'contosoazurehq', 'count_': 2446420},\n",
       " {'ResourceGroup': 'contosoonpremhq', 'count_': 950419},\n",
       " {'ResourceGroup': 'contosoautomation', 'count_': 566455},\n",
       " {'ResourceGroup': 'aztest', 'count_': 339832},\n",
       " {'ResourceGroup': 'contosoretail100', 'count_': 266503},\n",
       " {'ResourceGroup': 'contosovma6ab', 'count_': 250005},\n",
       " {'ResourceGroup': 'ContosoRetailDev1', 'count_': 247591},\n",
       " {'ResourceGroup': 'contosoiis', 'count_': 233345},\n",
       " {'ResourceGroup': 'contosoa2ademo2', 'count_': 231644},\n",
       " {'ResourceGroup': 'kncon', 'count_': 220846}]"
      ]
     },
     "execution_count": 56,
     "metadata": {},
     "output_type": "execute_result"
    }
   ],
   "source": [
    "%%kql -!feedback \n",
    "    Heartbeat \n",
    "    | where ResourceGroup != '' \n",
    "    | summarize count() by ResourceGroup \n",
    "    | sort by count_ | limit 10\n",
    "    | render columnchart title='my bar chart'"
   ]
  },
  {
   "cell_type": "markdown",
   "metadata": {},
   "source": [
    "  - ### <span style=\"color:#82CAFA\">*Note: the feedback message 'Done..... records' was not displayed because of the negated feedback option*</span>\n",
    "  - ### <span style=\"color:#82CAFA\">*Note: option is negated by adding \\! before the option*</span>\n",
    "  - ### <span style=\"color:#82CAFA\">*Note: full option name instead of abbreviation can be used too*</span>\n",
    "  - ### <span style=\"color:#82CAFA\">*Note: feedback option is on by default, so to turn it off, it must be negated*</span>"
   ]
  },
  {
   "cell_type": "markdown",
   "metadata": {},
   "source": [
    "## Get default value of optionfeedback (f)"
   ]
  },
  {
   "cell_type": "code",
   "execution_count": 57,
   "metadata": {},
   "outputs": [
    {
     "data": {
      "text/plain": [
       "True"
      ]
     },
     "execution_count": 57,
     "metadata": {},
     "output_type": "execute_result"
    }
   ],
   "source": [
    "%config Kqlmagic.feedback"
   ]
  },
  {
   "cell_type": "markdown",
   "metadata": {},
   "source": [
    "  - ### <span style=\"color:#82CAFA\">*Note: options have defaults, and can be accessed to read or modify using %config magic*</span>"
   ]
  },
  {
   "cell_type": "markdown",
   "metadata": {},
   "source": [
    "## Set default value of option feedback (f) to False"
   ]
  },
  {
   "cell_type": "code",
   "execution_count": 59,
   "metadata": {},
   "outputs": [
    {
     "data": {
      "text/plain": [
       "False"
      ]
     },
     "execution_count": 59,
     "metadata": {},
     "output_type": "execute_result"
    }
   ],
   "source": [
    "%config Kqlmagic.feedback=False\n",
    "%config Kqlmagic.feedback"
   ]
  },
  {
   "cell_type": "code",
   "execution_count": 60,
   "metadata": {},
   "outputs": [
    {
     "data": {
      "text/html": [
       "<html>\n",
       "        <head>\n",
       "        \n",
       "        </head>\n",
       "        <body>\n",
       "        <div><p style='padding: 10px; color: #3a87ad; background-color: #d9edf7; border-color: #bce9f1'>&nbsp*&nbspmyworkspace@loganalytics</p></div>\n",
       "        </body>\n",
       "        </html>"
      ],
      "text/plain": [
       "<IPython.core.display.HTML object>"
      ]
     },
     "metadata": {},
     "output_type": "display_data"
    },
    {
     "data": {
      "text/html": [
       "<html>\n",
       "        <head>\n",
       "        \n",
       "        </head>\n",
       "        <body>\n",
       "        <table>\n",
       "    <tr>\n",
       "        <th>ResourceGroup</th>\n",
       "        <th>count_</th>\n",
       "        <th>count2</th>\n",
       "    </tr>\n",
       "    <tr>\n",
       "        <td>contosoazurehq</td>\n",
       "        <td>2446430</td>\n",
       "        <td>5985019744900</td>\n",
       "    </tr>\n",
       "    <tr>\n",
       "        <td>contosoonpremhq</td>\n",
       "        <td>950419</td>\n",
       "        <td>903296275561</td>\n",
       "    </tr>\n",
       "    <tr>\n",
       "        <td>contosoautomation</td>\n",
       "        <td>566455</td>\n",
       "        <td>320871267025</td>\n",
       "    </tr>\n",
       "    <tr>\n",
       "        <td>aztest</td>\n",
       "        <td>339832</td>\n",
       "        <td>115485788224</td>\n",
       "    </tr>\n",
       "    <tr>\n",
       "        <td>contosoretail100</td>\n",
       "        <td>266503</td>\n",
       "        <td>71023849009</td>\n",
       "    </tr>\n",
       "</table>\n",
       "        </body>\n",
       "        </html>"
      ],
      "text/plain": [
       "<IPython.core.display.HTML object>"
      ]
     },
     "metadata": {},
     "output_type": "display_data"
    },
    {
     "data": {
      "text/html": [
       "<html>\n",
       "        <head>\n",
       "        \n",
       "        </head>\n",
       "        <body>\n",
       "        \n",
       "        </body>\n",
       "        </html>"
      ],
      "text/plain": [
       "<IPython.core.display.HTML object>"
      ]
     },
     "metadata": {},
     "output_type": "display_data"
    },
    {
     "data": {
      "text/html": [],
      "text/plain": [
       "[{'ResourceGroup': 'contosoazurehq', 'count_': 2446430, 'count2': 5985019744900},\n",
       " {'ResourceGroup': 'contosoonpremhq', 'count_': 950419, 'count2': 903296275561},\n",
       " {'ResourceGroup': 'contosoautomation', 'count_': 566455, 'count2': 320871267025},\n",
       " {'ResourceGroup': 'aztest', 'count_': 339832, 'count2': 115485788224},\n",
       " {'ResourceGroup': 'contosoretail100', 'count_': 266503, 'count2': 71023849009}]"
      ]
     },
     "execution_count": 60,
     "metadata": {},
     "output_type": "execute_result"
    }
   ],
   "source": [
    "%%kql \n",
    "    Heartbeat \n",
    "    | where ResourceGroup != '' \n",
    "    | summarize count() by ResourceGroup \n",
    "    | sort by count_ | limit 10\n",
    "    | extend count2 = count_*count_ \n",
    "    | limit 5"
   ]
  },
  {
   "cell_type": "markdown",
   "metadata": {},
   "source": [
    "  - ### <span style=\"color:#82CAFA\">*Note: feedback message was not displayed, because the default feedback option was set to False*</span>"
   ]
  },
  {
   "cell_type": "code",
   "execution_count": 61,
   "metadata": {},
   "outputs": [
    {
     "data": {
      "text/plain": [
       "True"
      ]
     },
     "execution_count": 61,
     "metadata": {},
     "output_type": "execute_result"
    }
   ],
   "source": [
    "%config Kqlmagic.feedback=True\n",
    "%config Kqlmagic.feedback"
   ]
  },
  {
   "cell_type": "markdown",
   "metadata": {},
   "source": [
    "## Kql query with option -version (print kqlmagic version)"
   ]
  },
  {
   "cell_type": "code",
   "execution_count": 62,
   "metadata": {},
   "outputs": [
    {
     "name": "stdout",
     "output_type": "stream",
     "text": [
      "Kqlmagic version: 0.1.53\n"
     ]
    }
   ],
   "source": [
    "%kql -version"
   ]
  },
  {
   "cell_type": "markdown",
   "metadata": {},
   "source": [
    "## Show all option defaults with help"
   ]
  },
  {
   "cell_type": "code",
   "execution_count": 63,
   "metadata": {},
   "outputs": [
    {
     "name": "stdout",
     "output_type": "stream",
     "text": [
      "Kqlmagic options\n",
      "--------------\n",
      "Kqlmagic.add_kql_ref_to_help=<Bool>\n",
      "    Current: True\n",
      "    On Kqlmagic load auto add kql reference to Help menu.\n",
      "Kqlmagic.add_schema_to_help=<Bool>\n",
      "    Current: True\n",
      "    On connection to database@cluster add  schema to Help menu.\n",
      "Kqlmagic.auto_dataframe=<Bool>\n",
      "    Current: False\n",
      "    Return Pandas dataframe instead of regular result sets. Abbreviation: ad\n",
      "Kqlmagic.auto_limit=<Int>\n",
      "    Current: 0\n",
      "    Automatically limit the size of the returned result sets. Abbreviation: al\n",
      "Kqlmagic.auto_popup_schema=<Bool>\n",
      "    Current: True\n",
      "    Popup schema when connecting to a new database. Abbreviation: aps\n",
      "Kqlmagic.cache=<Bool>\n",
      "    Current: False\n",
      "    Cache query results.\n",
      "Kqlmagic.cache_folder_name=<Unicode>\n",
      "    Current: 'Kqlmagic_cache_files'\n",
      "    Set the folder name for cache files\n",
      "Kqlmagic.columns_to_local_vars=<Bool>\n",
      "    Current: False\n",
      "    Return data into local variables from column names. Abbreviation: c2lv\n",
      "Kqlmagic.display_limit=<Int>\n",
      "    Current: None\n",
      "    Automatically limit the number of rows displayed (full result set is still\n",
      "    stored). Abbreviation: dl\n",
      "Kqlmagic.dsn_filename=<Unicode>\n",
      "    Current: 'odbc.ini'\n",
      "    Path to DSN file. When the first argument is of the form [section], a kql\n",
      "    connection string is formed from the matching section in the DSN file.\n",
      "    Abbreviation: dl\n",
      "Kqlmagic.enable_suppress_result=<Bool>\n",
      "    Current: True\n",
      "    Suppress result when magic ends with a semicolon ;. Abbreviation: esr\n",
      "Kqlmagic.export_folder_name=<Unicode>\n",
      "    Current: 'Kqlmagic_exported_files'\n",
      "    Set the folder name  for exported files\n",
      "Kqlmagic.feedback=<Bool>\n",
      "    Current: True\n",
      "    Show number of records returned, and assigned variables. Abbreviation: f\n",
      "Kqlmagic.json_display=<Enum>\n",
      "    Current: 'formatted'\n",
      "    Choices: ['raw', 'native', 'formatted']\n",
      "    Set json/dict display format. Abbreviation: jd\n",
      "Kqlmagic.last_raw_result_var=<Unicode>\n",
      "    Current: '_kql_raw_result_'\n",
      "    Set the name of the variable that will contain last raw result.\n",
      "    Abbreviation: var\n",
      "Kqlmagic.notebook_app=<Enum>\n",
      "    Current: 'jupyternotebook'\n",
      "    Choices: ['jupyterlab', 'jupyternotebook']\n",
      "    Set notebook application used.\n",
      "Kqlmagic.palette_colors=<Int>\n",
      "    Current: 10\n",
      "    Set pallete number of colors to be used for charts. Abbreviation: pc\n",
      "Kqlmagic.palette_desaturation=<Float>\n",
      "    Current: 1.0\n",
      "    Set pallete desaturation to be used for charts. Abbreviation: pd\n",
      "Kqlmagic.palette_name=<Unicode>\n",
      "    Current: 'tab10'\n",
      "    Set pallete by name to be used for charts. Abbreviation: pn\n",
      "Kqlmagic.params_dict=<Unicode>\n",
      "    Current: None\n",
      "    paremeters dictionary name, if None, python shell user namespace will be\n",
      "    used.\n",
      "Kqlmagic.plot_package=<Enum>\n",
      "    Current: 'plotly'\n",
      "    Choices: ['matplotlib', 'plotly']\n",
      "    Set the plot package. Abbreviation: pp\n",
      "Kqlmagic.plotly_fs_includejs=<Bool>\n",
      "    Current: False\n",
      "    Include plotly javascript code in popup window. If set to False (default),\n",
      "    it download the script from https://cdn.plot.ly/plotly-latest.min.js.\n",
      "    Abbreviation: pfi\n",
      "Kqlmagic.prettytable_style=<Enum>\n",
      "    Current: 'DEFAULT'\n",
      "    Choices: ['DEFAULT', 'MSWORD_FRIENDLY', 'PLAIN_COLUMNS', 'RANDOM']\n",
      "    Set the table printing style to any of prettytable's defined styles.\n",
      "    Abbreviation: ptst\n",
      "Kqlmagic.short_errors=<Bool>\n",
      "    Current: True\n",
      "    Don't display the full traceback on KQL Programming Error. Abbreviation: se\n",
      "Kqlmagic.show_conn_info=<Enum>\n",
      "    Current: 'current'\n",
      "    Choices: ['list', 'current', 'None']\n",
      "    Show connection info, either current, the whole list, or None. Abbreviation:\n",
      "    sci\n",
      "Kqlmagic.show_query_time=<Bool>\n",
      "    Current: True\n",
      "    Print query execution elapsed time. Abbreviation: sqt\n",
      "Kqlmagic.table_package=<Enum>\n",
      "    Current: 'prettytable'\n",
      "    Choices: ['prettytable', 'pandas', 'plotly', 'qgrid']\n",
      "    Set the table display package. Abbreviation: tp\n",
      "Kqlmagic.temp_folder_name=<Unicode>\n",
      "    Current: 'Kqlmagic_temp_files'\n",
      "    Set the folder name for temporary files\n",
      "Kqlmagic.use_cache=<Bool>\n",
      "    Current: False\n",
      "    use cached query results, instead of executing the query.\n",
      "Kqlmagic.validate_connection_string=<Bool>\n",
      "    Current: True\n",
      "    Validate connectionString with an implicit query, when query statement is\n",
      "    missing. Abbreviation: vc\n"
     ]
    }
   ],
   "source": [
    "%config Kqlmagic"
   ]
  },
  {
   "cell_type": "markdown",
   "metadata": {},
   "source": [
    "## Show query results in a popup window"
   ]
  },
  {
   "cell_type": "code",
   "execution_count": 64,
   "metadata": {},
   "outputs": [
    {
     "data": {
      "text/html": [
       "<html>\n",
       "        <head>\n",
       "        \n",
       "        </head>\n",
       "        <body>\n",
       "        <div><p style='padding: 10px; color: #3a87ad; background-color: #d9edf7; border-color: #bce9f1'>&nbsp*&nbspmyworkspace@loganalytics</p></div>\n",
       "        </body>\n",
       "        </html>"
      ],
      "text/plain": [
       "<IPython.core.display.HTML object>"
      ]
     },
     "metadata": {},
     "output_type": "display_data"
    },
    {
     "data": {
      "text/html": [
       "<!DOCTYPE html>\n",
       "            <html><body>\n",
       "\n",
       "            <button onclick=\"this.style.visibility='hidden';kql_MagicLaunchWindowFunction('Kqlmagic_temp_files/08da908e89c946a5b57d63565c0453b7.html','fullscreen=no,directories=no,location=no,menubar=no,resizable=yes,scrollbars=yes,status=no,titlebar=no,toolbar=no,','08da908e89c946a5b57d63565c0453b7','')\">popup scatterchart - Michael's chart </button>\n",
       "\n",
       "            <script>\n",
       "\n",
       "            function kql_MagicLaunchWindowFunction(file_path, window_params, window_name, notebooks_host) {\n",
       "                var url;\n",
       "                if (file_path.startsWith('http')) {\n",
       "                    url = file_path;\n",
       "                } else {\n",
       "                    var base_url = '';\n",
       "\n",
       "                    // check if azure notebook\n",
       "                    var azure_host = (notebooks_host == null || notebooks_host.length == 0) ? 'https://notebooks.azure.com' : notebooks_host;\n",
       "                    var start = azure_host.search('//');\n",
       "                    var azure_host_suffix = '.' + azure_host.substring(start+2);\n",
       "\n",
       "                    var loc = String(window.location);\n",
       "                    var end = loc.search(azure_host_suffix);\n",
       "                    start = loc.search('//');\n",
       "                    if (start > 0 && end > 0) {\n",
       "                        var parts = loc.substring(start+2, end).split('-');\n",
       "                        if (parts.length == 2) {\n",
       "                            var library = parts[0];\n",
       "                            var user = parts[1];\n",
       "                            base_url = azure_host + '/api/user/' +user+ '/library/' +library+ '/html/';\n",
       "                        }\n",
       "                    }\n",
       "\n",
       "                    // check if local jupyter lab\n",
       "                    if (base_url.length == 0) {\n",
       "                        var configDataScipt  = document.getElementById('jupyter-config-data');\n",
       "                        if (configDataScipt != null) {\n",
       "                            var jupyterConfigData = JSON.parse(configDataScipt.textContent);\n",
       "                            if (jupyterConfigData['appName'] == 'JupyterLab' && jupyterConfigData['serverRoot'] != null &&  jupyterConfigData['treeUrl'] != null) {\n",
       "                                var basePath = 'C:/My Projects/jupyter-Kqlmagic-microsoft/notebooks' + '/';\n",
       "                                if (basePath.startsWith(jupyterConfigData['serverRoot'])) {\n",
       "                                    base_url = '/files/' + basePath.substring(jupyterConfigData['serverRoot'].length+1);\n",
       "                                }\n",
       "                            } \n",
       "                        }\n",
       "                    }\n",
       "\n",
       "                    // assume local jupyter notebook\n",
       "                    if (base_url.length == 0) {\n",
       "\n",
       "                        var parts = loc.split('/');\n",
       "                        parts.pop();\n",
       "                        base_url = parts.join('/') + '/';\n",
       "                    }\n",
       "                    url = base_url + file_path;\n",
       "                }\n",
       "\n",
       "                window.focus();\n",
       "                var w = screen.width / 2;\n",
       "                var h = screen.height / 2;\n",
       "                params = 'width='+w+',height='+h;\n",
       "                kql_Magic_08da908e89c946a5b57d63565c0453b7 = window.open(url, window_name, window_params + params);\n",
       "            }\n",
       "            </script>\n",
       "\n",
       "            </body></html>"
      ],
      "text/plain": [
       "<IPython.core.display.HTML object>"
      ]
     },
     "metadata": {},
     "output_type": "display_data"
    },
    {
     "data": {
      "text/html": [
       "<html>\n",
       "        <head>\n",
       "        \n",
       "        </head>\n",
       "        <body>\n",
       "        <div><p style='padding: 10px; color: #3a87ad; background-color: #d9edf7; border-color: #bce9f1'>Done&nbsp(00:02.267):&nbsp1000&nbsprecords</p></div>\n",
       "        </body>\n",
       "        </html>"
      ],
      "text/plain": [
       "<IPython.core.display.HTML object>"
      ]
     },
     "metadata": {},
     "output_type": "display_data"
    },
    {
     "data": {
      "text/html": [],
      "text/plain": [
       "[{'e1': 7.715426411694385, 'e2': 9.020223891779965, 'e3': 4.651603075934262, 'e4': 5.7542297104299855, 'e5': 7.076409120583515},\n",
       " {'e1': 6.5790183559429884, 'e2': 7.323987783602865, 'e3': 6.649535529403654, 'e4': 6.169280675630285, 'e5': 4.560413719297979},\n",
       " {'e1': 7.156471318664143, 'e2': 8.013427984073015, 'e3': 7.778543082213131, 'e4': 5.3581441424116125, 'e5': 5.30375960426671},\n",
       " {'e1': 4.907667125865018, 'e2': 8.391088005097084, 'e3': 8.37237222177425, 'e4': 7.3152501171385245, 'e5': 7.965817637971469},\n",
       " {'e1': 6.810420431463384, 'e2': 6.547580431190244, 'e3': 7.688342532933562, 'e4': 8.704448026122442, 'e5': 7.531749578491575},\n",
       " {'e1': 6.732247046920501, 'e2': 9.042456623200893, 'e3': 5.472918383313912, 'e4': 7.21465549442976, 'e5': 5.7858354260177345},\n",
       " {'e1': 6.007843524143091, 'e2': 7.931338733631265, 'e3': 5.986003334418363, 'e4': 6.183312318663864, 'e5': 7.947840224563537},\n",
       " {'e1': 6.31524739283309, 'e2': 7.776672735247059, 'e3': 7.6350452767979, 'e4': 5.254903547791052, 'e5': 6.655691917632664},\n",
       " {'e1': 7.15479895271782, 'e2': 6.883979596736852, 'e3': 7.5302592523675385, 'e4': 6.899295920892229, 'e5': 5.453866678297867},\n",
       " {'e1': 4.622380528383094, 'e2': 6.741483011573497, 'e3': 8.469570134376607, 'e4': 6.622510334046199, 'e5': 10.348556548120335},\n",
       " {'e1': 8.27171545288308, 'e2': 6.295896388284877, 'e3': 6.750918446044733, 'e4': 6.633959258829769, 'e5': 5.543251736412134},\n",
       " {'e1': 7.709524969702034, 'e2': 6.528833076574842, 'e3': 7.583112090155009, 'e4': 6.445806074584885, 'e5': 6.938880352643252},\n",
       " {'e1': 5.914943018815657, 'e2': 9.071130145749809, 'e3': 6.255080828481582, 'e4': 9.001467428266864, 'e5': 7.616090993507474},\n",
       " {'e1': 5.92198714437883, 'e2': 7.052411794928838, 'e3': 6.904413136054808, 'e4': 5.524010148722217, 'e5': 5.853300886558183},\n",
       " {'e1': 6.688187922929363, 'e2': 5.980213272738129, 'e3': 6.751570650781511, 'e4': 6.52989766390715, 'e5': 7.185872119693236},\n",
       " {'e1': 7.9798070524402185, 'e2': 6.755103587020957, 'e3': 6.99844595236602, 'e4': 6.808447080768399, 'e5': 6.866811811048338},\n",
       " {'e1': 5.737306014733538, 'e2': 7.764366767310066, 'e3': 7.602982676161123, 'e4': 6.775447030073124, 'e5': 6.237502670545021},\n",
       " {'e1': 7.317232856639463, 'e2': 7.2975484859152715, 'e3': 6.377536482862384, 'e4': 6.757299691122783, 'e5': 7.15931197552699},\n",
       " {'e1': 3.201229942604347, 'e2': 7.1175700153350805, 'e3': 8.367772862970751, 'e4': 7.848369498674888, 'e5': 8.600143484141842},\n",
       " {'e1': 6.780591079226902, 'e2': 6.825484763591917, 'e3': 7.188823238692747, 'e4': 5.811844574021519, 'e5': 6.126347462839798},\n",
       " {'e1': 7.121774785441089, 'e2': 5.559721728818848, 'e3': 7.716816331406988, 'e4': 5.356444208724361, 'e5': 8.523050443913494},\n",
       " {'e1': 6.873402968713259, 'e2': 6.8173182519602245, 'e3': 8.673174886186612, 'e4': 5.716484872301804, 'e5': 6.987349219827699},\n",
       " {'e1': 9.109499299812988, 'e2': 7.3710938397332795, 'e3': 6.12687061439461, 'e4': 6.352622615293698, 'e5': 7.004116387692255},\n",
       " {'e1': 7.2557583010828095, 'e2': 6.751374528766862, 'e3': 7.334141335704197, 'e4': 8.1379711487082, 'e5': 7.777077543767249},\n",
       " {'e1': 8.729102818059488, 'e2': 6.3048012958108774, 'e3': 6.507198261668386, 'e4': 7.543130974611475, 'e5': 6.817001808194685},\n",
       " {'e1': 6.427614152829603, 'e2': 6.950884683092517, 'e3': 7.2837823650125895, 'e4': 7.29321477462156, 'e5': 7.7034105892963},\n",
       " {'e1': 6.521907524691359, 'e2': 7.491560826855648, 'e3': 6.502740775869643, 'e4': 5.309126668154703, 'e5': 9.00217538501575},\n",
       " {'e1': 7.789414164893974, 'e2': 8.702465541739919, 'e3': 6.064602913572186, 'e4': 6.57730474800845, 'e5': 4.922717379787597},\n",
       " {'e1': 6.503960004911614, 'e2': 7.737828062292309, 'e3': 4.7730516094311515, 'e4': 7.615565611853567, 'e5': 7.3936750436910215},\n",
       " {'e1': 7.727498263168636, 'e2': 8.82028651929333, 'e3': 6.316101350513051, 'e4': 6.6401958326479935, 'e5': 7.3442706265985604},\n",
       " {'e1': 6.668757252709848, 'e2': 6.861013946790052, 'e3': 6.257317494880085, 'e4': 7.197402913041238, 'e5': 6.545564555694485},\n",
       " {'e1': 6.747872938470961, 'e2': 7.7415968944104465, 'e3': 6.93093052768802, 'e4': 7.692028684979596, 'e5': 8.365154743881865},\n",
       " {'e1': 5.845745958779118, 'e2': 6.229812042411885, 'e3': 8.255131829428557, 'e4': 7.580658984202636, 'e5': 8.571457974421929},\n",
       " {'e1': 8.793090724575599, 'e2': 7.420723865657969, 'e3': 6.472565732166911, 'e4': 7.932218739621341, 'e5': 7.3756893645050585},\n",
       " {'e1': 6.632047619336714, 'e2': 7.240378422498316, 'e3': 8.002234984349446, 'e4': 7.6231042031120175, 'e5': 6.955762072380316},\n",
       " {'e1': 5.9951128131848535, 'e2': 7.431652683722065, 'e3': 6.066920432578928, 'e4': 6.5059301504805305, 'e5': 5.844489276464974},\n",
       " {'e1': 5.023349201941341, 'e2': 6.204719474167425, 'e3': 8.158373264648324, 'e4': 7.66459640804281, 'e5': 7.108782774415135},\n",
       " {'e1': 6.88962501595057, 'e2': 6.402237327756277, 'e3': 7.417116506591676, 'e4': 7.998905510039697, 'e5': 8.072333517717427},\n",
       " {'e1': 6.809052590082375, 'e2': 8.61446794772229, 'e3': 8.280918780728268, 'e4': 6.470536700575575, 'e5': 3.288059674080456},\n",
       " {'e1': 7.284550789448645, 'e2': 5.66851656651471, 'e3': 6.3136537283310865, 'e4': 8.05320805649071, 'e5': 6.201206829754233},\n",
       " {'e1': 7.57368147540996, 'e2': 6.458969659415799, 'e3': 7.644518593535623, 'e4': 5.209646057897525, 'e5': 7.5093766709560335},\n",
       " {'e1': 7.243292060414772, 'e2': 6.898145867026385, 'e3': 6.194563912829922, 'e4': 6.713432655162909, 'e5': 5.7544619240528},\n",
       " {'e1': 5.6583719643234796, 'e2': 7.367784432035351, 'e3': 6.621113114316506, 'e4': 7.176812416504145, 'e5': 6.52241665271991},\n",
       " {'e1': 7.021638332926912, 'e2': 7.967023680034243, 'e3': 6.666225932548862, 'e4': 7.411452028533064, 'e5': 6.656091915820901},\n",
       " {'e1': 6.7604008622777485, 'e2': 6.183193233366148, 'e3': 7.499559466367384, 'e4': 5.675748396858252, 'e5': 6.495934861850993},\n",
       " {'e1': 7.595731294789555, 'e2': 5.410370284762246, 'e3': 7.595738206158637, 'e4': 8.402148159393846, 'e5': 5.326996245608904},\n",
       " {'e1': 6.584669561263165, 'e2': 5.234890498449704, 'e3': 5.471683456658182, 'e4': 6.3912279842814455, 'e5': 8.123756660911289},\n",
       " {'e1': 6.331119710164633, 'e2': 6.981952614575445, 'e3': 6.346497742237862, 'e4': 9.894168409404493, 'e5': 5.409909128775719},\n",
       " {'e1': 6.437705845936509, 'e2': 7.758278598647018, 'e3': 8.411998783195848, 'e4': 7.885905398442732, 'e5': 7.487774494811367},\n",
       " {'e1': 7.311259275749269, 'e2': 7.868769066143464, 'e3': 7.370357950627348, 'e4': 7.756640286840673, 'e5': 7.28935839002755},\n",
       " {'e1': 7.936563233445716, 'e2': 8.114963328232225, 'e3': 7.3698612420341085, 'e4': 7.846651593507609, 'e5': 7.130275636405724},\n",
       " {'e1': 7.297109063883002, 'e2': 5.13237435884259, 'e3': 6.715756366195618, 'e4': 5.319604079365779, 'e5': 6.124181792201867},\n",
       " {'e1': 8.57298765671388, 'e2': 7.78817602046284, 'e3': 5.9011228189737315, 'e4': 5.917221144059187, 'e5': 6.697556131759206},\n",
       " {'e1': 7.353787641424895, 'e2': 8.200089883122937, 'e3': 6.65735199594175, 'e4': 7.4560048405213974, 'e5': 6.026369582388827},\n",
       " {'e1': 7.080276626964227, 'e2': 6.713374962730163, 'e3': 5.937808032288561, 'e4': 5.802231321057405, 'e5': 8.894332280345864},\n",
       " {'e1': 5.825561271846912, 'e2': 6.112395430500021, 'e3': 6.587391882135034, 'e4': 7.422523521499303, 'e5': 7.216644272378507},\n",
       " {'e1': 7.472152480570804, 'e2': 6.808610576560094, 'e3': 9.008143031061051, 'e4': 5.767622808974166, 'e5': 6.770741204900025},\n",
       " {'e1': 7.706724655203513, 'e2': 6.700943408898386, 'e3': 6.920419529283696, 'e4': 7.608555095929836, 'e5': 7.839182355172671},\n",
       " {'e1': 6.883136062284459, 'e2': 4.404197770189778, 'e3': 7.002749535568625, 'e4': 7.158261264581512, 'e5': 6.424092828744143},\n",
       " {'e1': 6.460059717963377, 'e2': 7.03589740145923, 'e3': 5.765390582259378, 'e4': 9.480911652699525, 'e5': 6.6033867690862955},\n",
       " {'e1': 7.734046550053514, 'e2': 7.0959840010883, 'e3': 7.618025028467383, 'e4': 5.914250725617997, 'e5': 7.543584145436695},\n",
       " {'e1': 8.194752237536669, 'e2': 5.013013805489212, 'e3': 7.338792262910948, 'e4': 5.74633493204213, 'e5': 5.754451042135621},\n",
       " {'e1': 6.106512289392786, 'e2': 7.045472484150616, 'e3': 6.346763794774719, 'e4': 6.5410879724160615, 'e5': 7.098403359782877},\n",
       " {'e1': 7.082455120356718, 'e2': 6.952733251282468, 'e3': 8.36383926177078, 'e4': 6.261146069003431, 'e5': 6.504695241762021},\n",
       " {'e1': 6.921082501164651, 'e2': 5.3596836568866495, 'e3': 7.158618905897454, 'e4': 5.375779489049364, 'e5': 6.8493294702616865},\n",
       " {'e1': 6.782746430794901, 'e2': 7.963028061632792, 'e3': 6.426051485161861, 'e4': 5.254321907657624, 'e5': 8.88781229736846},\n",
       " {'e1': 6.322657749891398, 'e2': 8.458436741910544, 'e3': 6.254879450580414, 'e4': 6.827273815978056, 'e5': 6.036673350423547},\n",
       " {'e1': 5.684388780447821, 'e2': 6.545367051170525, 'e3': 6.688264563932562, 'e4': 8.78064174748771, 'e5': 6.831489691827466},\n",
       " {'e1': 5.604608104550642, 'e2': 7.401290601560564, 'e3': 8.406390197404193, 'e4': 5.936163779809926, 'e5': 6.7805222564879895},\n",
       " {'e1': 7.027533151726962, 'e2': 5.405073414391637, 'e3': 7.444498116902644, 'e4': 5.822347940371159, 'e5': 6.444927240567021},\n",
       " {'e1': 7.5627858328457185, 'e2': 5.2312835256720875, 'e3': 4.857004468775807, 'e4': 6.497867467667521, 'e5': 6.82466681082039},\n",
       " {'e1': 5.808077445291266, 'e2': 6.757037120007573, 'e3': 7.078699541748645, 'e4': 6.406194917145575, 'e5': 6.10076704925032},\n",
       " {'e1': 7.891326457098311, 'e2': 6.970706387648196, 'e3': 6.649755399824054, 'e4': 7.681642280901818, 'e5': 5.900423985993496},\n",
       " {'e1': 7.597559833654209, 'e2': 7.1813674198522435, 'e3': 7.072820460165893, 'e4': 6.956935282953021, 'e5': 7.642280164980277},\n",
       " {'e1': 7.153028003366194, 'e2': 7.362100127612352, 'e3': 8.71994199138474, 'e4': 5.653402026928008, 'e5': 6.7358485457461486},\n",
       " {'e1': 7.886209414007807, 'e2': 7.267575201493847, 'e3': 8.820738826325163, 'e4': 5.164178968838718, 'e5': 6.830551425024171},\n",
       " {'e1': 8.00252997284729, 'e2': 7.74385595735373, 'e3': 5.138516916929127, 'e4': 6.7132157345971075, 'e5': 6.496313057492391},\n",
       " {'e1': 7.478108317181805, 'e2': 7.894099780557099, 'e3': 7.557959690582319, 'e4': 6.0247005422993345, 'e5': 7.367681003490501},\n",
       " {'e1': 6.26999892920007, 'e2': 6.928061848608465, 'e3': 6.5025736974310755, 'e4': 6.881240619745378, 'e5': 6.324726623524377},\n",
       " {'e1': 7.591621098905252, 'e2': 7.363256282518582, 'e3': 8.314629987655763, 'e4': 6.4104243081462755, 'e5': 6.667313768154749},\n",
       " {'e1': 8.282039301072974, 'e2': 6.243075950967411, 'e3': 6.250730169922281, 'e4': 7.962244421086085, 'e5': 6.057903151622804},\n",
       " {'e1': 7.960038355102262, 'e2': 9.245438887366223, 'e3': 7.9952937359515035, 'e4': 6.791738939788643, 'e5': 5.725018537031409},\n",
       " {'e1': 7.322027735222513, 'e2': 5.487927833669017, 'e3': 8.490555875461784, 'e4': 7.626207113586735, 'e5': 8.240076568027934},\n",
       " {'e1': 8.123848868299639, 'e2': 7.582131151806939, 'e3': 8.09387827318519, 'e4': 8.182794498122673, 'e5': 6.817548470924249},\n",
       " {'e1': 5.352635348151066, 'e2': 8.110563231297034, 'e3': 8.181862049680511, 'e4': 6.205854214129029, 'e5': 4.762449963278837},\n",
       " {'e1': 8.89686500468272, 'e2': 7.686498611194266, 'e3': 6.742673086410178, 'e4': 5.724349845343667, 'e5': 7.797308346046684},\n",
       " {'e1': 7.605814088046551, 'e2': 5.245947504865589, 'e3': 6.882293705834546, 'e4': 8.13601178449353, 'e5': 4.779826777110635},\n",
       " {'e1': 7.468585577054978, 'e2': 5.786015801088881, 'e3': 7.8250270211565205, 'e4': 5.178633997322314, 'e5': 7.422108937396526},\n",
       " {'e1': 7.085068027447698, 'e2': 7.175574168984676, 'e3': 5.239059315747209, 'e4': 7.7455337089617755, 'e5': 5.928986416457365},\n",
       " {'e1': 5.780247186389274, 'e2': 5.691179620618445, 'e3': 6.64779345769474, 'e4': 6.984527156805728, 'e5': 5.832748581665786},\n",
       " {'e1': 5.906387727406571, 'e2': 7.028372813212664, 'e3': 6.994974897504951, 'e4': 7.953515644546424, 'e5': 5.2318874764412096},\n",
       " {'e1': 5.907608934608646, 'e2': 6.32513605438548, 'e3': 7.276597316728847, 'e4': 7.192971596970862, 'e5': 6.788482671483696},\n",
       " {'e1': 7.2496320640047704, 'e2': 7.476705018487856, 'e3': 5.752183759182439, 'e4': 6.491319315891052, 'e5': 5.390473174345028},\n",
       " {'e1': 8.474271922771798, 'e2': 6.409085565485895, 'e3': 8.534957143000495, 'e4': 8.240051062071739, 'e5': 6.332437970077808},\n",
       " {'e1': 8.361892645241868, 'e2': 7.478784558358842, 'e3': 6.511196611508682, 'e4': 7.555086425410449, 'e5': 7.405024191624258},\n",
       " {'e1': 6.984087021880383, 'e2': 7.823178992318288, 'e3': 6.614779137936183, 'e4': 7.320341180973212, 'e5': 7.719231354149086},\n",
       " {'e1': 7.288030057713615, 'e2': 5.7498425066690775, 'e3': 5.419722416382542, 'e4': 7.466730124858206, 'e5': 8.336991731200674},\n",
       " {'e1': 6.7070883837414055, 'e2': 5.634866661498732, 'e3': 6.311377284916158, 'e4': 6.879450403399935, 'e5': 5.47466722294729},\n",
       " {'e1': 6.9898219967464, 'e2': 8.56338336858541, 'e3': 6.3846339522854, 'e4': 6.49601175745998, 'e5': 4.793800527440246},\n",
       " {'e1': 6.844905282398561, 'e2': 6.723899139487553, 'e3': 5.305642507742924, 'e4': 6.437714746205353, 'e5': 6.528215474070025},\n",
       " {'e1': 8.392081471815258, 'e2': 5.672207641981742, 'e3': 6.341336595400682, 'e4': 7.982918660778832, 'e5': 8.740044081063502},\n",
       " {'e1': 8.147508602694602, 'e2': 7.9334021825905525, 'e3': 8.444937986975823, 'e4': 6.272114080877836, 'e5': 6.393258775622713},\n",
       " {'e1': 5.57382495866353, 'e2': 7.4609705333788465, 'e3': 6.24671926729015, 'e4': 5.438086860820179, 'e5': 6.508141965628156},\n",
       " {'e1': 7.680470018269611, 'e2': 7.854554014755568, 'e3': 7.672401265632979, 'e4': 5.461974034419291, 'e5': 7.386631568074746},\n",
       " {'e1': 7.556318285886743, 'e2': 6.437306058240855, 'e3': 7.007664052562978, 'e4': 7.603092231760419, 'e5': 8.644139073744485},\n",
       " {'e1': 6.205436252760311, 'e2': 7.25072320615405, 'e3': 6.462659887559743, 'e4': 7.223556762506357, 'e5': 8.035242910997516},\n",
       " {'e1': 5.621382260100326, 'e2': 7.7112752523930235, 'e3': 7.244528091710439, 'e4': 7.564536401590884, 'e5': 8.668083324149872},\n",
       " {'e1': 6.806596669381207, 'e2': 6.67021658173671, 'e3': 8.27082579949919, 'e4': 6.390387024361315, 'e5': 6.364742636068217},\n",
       " {'e1': 7.359627866003185, 'e2': 7.918596823590227, 'e3': 6.966489976109958, 'e4': 9.601920657874269, 'e5': 6.981984418566351},\n",
       " {'e1': 7.307222594367423, 'e2': 6.976200569564195, 'e3': 7.43073024906571, 'e4': 7.629194014783142, 'e5': 5.980932092378022},\n",
       " {'e1': 5.943350611598226, 'e2': 6.8645598111279025, 'e3': 7.35239138166693, 'e4': 5.89467835377183, 'e5': 5.309087979814354},\n",
       " {'e1': 8.469531545381132, 'e2': 5.753179675000321, 'e3': 4.70785362289235, 'e4': 7.510000985535906, 'e5': 9.130305658643863},\n",
       " {'e1': 10.064106223950736, 'e2': 7.132679898446745, 'e3': 8.543514988915737, 'e4': 5.953252498508459, 'e5': 5.289114894113198},\n",
       " {'e1': 6.700969337253969, 'e2': 7.360308071290609, 'e3': 4.733895555606709, 'e4': 8.63919803658877, 'e5': 7.884647365611534},\n",
       " {'e1': 6.535367597176305, 'e2': 4.178625754673529, 'e3': 7.0002251751721465, 'e4': 6.687748708408888, 'e5': 7.380988416050781},\n",
       " {'e1': 6.766383196244256, 'e2': 6.701747176814802, 'e3': 7.200421662102631, 'e4': 5.969367379542924, 'e5': 9.010444550329678},\n",
       " {'e1': 5.26905791110761, 'e2': 7.045623374416666, 'e3': 7.2868862267353585, 'e4': 6.141560088080738, 'e5': 6.462251513940362},\n",
       " {'e1': 6.514864882991509, 'e2': 6.45097992663118, 'e3': 9.331426986064251, 'e4': 6.94338095981451, 'e5': 7.331362533149063},\n",
       " {'e1': 7.872432625927409, 'e2': 6.667135694189753, 'e3': 8.379404325673324, 'e4': 6.714502039641477, 'e5': 7.714974559066148},\n",
       " {'e1': 8.549331270443938, 'e2': 6.675267115298458, 'e3': 7.791998363199515, 'e4': 8.672052493066808, 'e5': 6.821742566904847},\n",
       " {'e1': 6.103855770391221, 'e2': 7.909872529359622, 'e3': 8.73010552748326, 'e4': 9.772900783371634, 'e5': 6.477844349806097},\n",
       " {'e1': 8.146958151169345, 'e2': 8.60268986274679, 'e3': 6.0043012381403305, 'e4': 7.519625586439155, 'e5': 9.02952808129135},\n",
       " {'e1': 8.54468322854161, 'e2': 6.8514599832397, 'e3': 8.476137859356605, 'e4': 7.163344452513569, 'e5': 7.968465409776079},\n",
       " {'e1': 6.2908549452629785, 'e2': 5.109061986262835, 'e3': 7.003531229401783, 'e4': 6.2913602395493635, 'e5': 9.184785779289134},\n",
       " {'e1': 6.230864879786974, 'e2': 6.840306169612859, 'e3': 7.109870760742826, 'e4': 6.619859337953285, 'e5': 9.043993484271082},\n",
       " {'e1': 8.231299204463722, 'e2': 4.996410004520552, 'e3': 7.973905488588598, 'e4': 6.0202140112011415, 'e5': 6.279347863602275},\n",
       " {'e1': 7.540336442536531, 'e2': 8.799089928147616, 'e3': 8.520951106896675, 'e4': 7.433715222557657, 'e5': 7.353646823385703},\n",
       " {'e1': 6.650675087804486, 'e2': 8.667109251263545, 'e3': 5.943568927311215, 'e4': 5.238307801043535, 'e5': 5.688980193685615},\n",
       " {'e1': 7.1296477140454515, 'e2': 7.846919131135376, 'e3': 5.991764415869664, 'e4': 7.333112014125908, 'e5': 7.011710534452707},\n",
       " {'e1': 4.464407308252521, 'e2': 8.47370952571469, 'e3': 4.612130613451738, 'e4': 4.90421731185225, 'e5': 8.80208126729223},\n",
       " {'e1': 6.063607194999327, 'e2': 7.223300623547713, 'e3': 6.71349247820702, 'e4': 7.2484558837098945, 'e5': 6.284346551051286},\n",
       " {'e1': 6.778672934415373, 'e2': 6.872939873226247, 'e3': 8.046690154757227, 'e4': 7.266119511136662, 'e5': 7.447260356520061},\n",
       " {'e1': 7.442254964998429, 'e2': 6.536835530664418, 'e3': 6.024182943659076, 'e4': 6.1128195312109, 'e5': 8.100384006046962},\n",
       " {'e1': 7.679482243283176, 'e2': 7.729864935483078, 'e3': 6.371893133366719, 'e4': 6.30364693728494, 'e5': 5.908247416469233},\n",
       " {'e1': 7.942789267323176, 'e2': 6.329668240228943, 'e3': 7.986484658002322, 'e4': 5.496085739481, 'e5': 5.568405692644781},\n",
       " {'e1': 8.371299651405709, 'e2': 6.6188080289538505, 'e3': 8.230360946954454, 'e4': 7.3763499595910815, 'e5': 7.463558211649227},\n",
       " {'e1': 8.785243239220273, 'e2': 9.063909668948188, 'e3': 6.831651198458313, 'e4': 7.329231733484184, 'e5': 6.660467572433461},\n",
       " {'e1': 6.595584568591846, 'e2': 6.948125750039671, 'e3': 6.2553141692519025, 'e4': 6.8023231671852615, 'e5': 7.926734661670516},\n",
       " {'e1': 7.133651735874421, 'e2': 6.825184109577215, 'e3': 5.6957126157397635, 'e4': 7.03503386504941, 'e5': 7.957494419696735},\n",
       " {'e1': 5.476901170418873, 'e2': 6.786080931775507, 'e3': 8.316052115362549, 'e4': 6.261879477866879, 'e5': 7.550055822157446},\n",
       " {'e1': 8.91929461905738, 'e2': 7.636561590900808, 'e3': 5.655893371183755, 'e4': 6.330929522370539, 'e5': 7.221396127510221},\n",
       " {'e1': 7.481178900731104, 'e2': 7.929092219453354, 'e3': 6.9151761268408825, 'e4': 7.295755487927124, 'e5': 6.238729569983118},\n",
       " {'e1': 8.034113154909695, 'e2': 7.099761669038843, 'e3': 7.924391984324242, 'e4': 8.462718533257501, 'e5': 7.042006486821297},\n",
       " {'e1': 5.657669352583815, 'e2': 6.740213249848883, 'e3': 5.5095750187464105, 'e4': 8.377627830434358, 'e5': 7.415383199785757},\n",
       " {'e1': 6.919945969534322, 'e2': 6.815882018141864, 'e3': 5.738288352982482, 'e4': 6.3236692910383185, 'e5': 5.1168548143317905},\n",
       " {'e1': 7.457439820415408, 'e2': 6.375290132463821, 'e3': 5.699444012005972, 'e4': 6.396650081613075, 'e5': 7.4428267121266405},\n",
       " {'e1': 6.8608446603127256, 'e2': 7.036027503890255, 'e3': 9.13028339568384, 'e4': 5.0280198011968995, 'e5': 7.0115499950203075},\n",
       " {'e1': 6.952293739763837, 'e2': 8.147320450910287, 'e3': 7.100055153748787, 'e4': 7.279877945174068, 'e5': 6.81405213178152},\n",
       " {'e1': 7.309619674995233, 'e2': 6.729585661923217, 'e3': 5.903592809655424, 'e4': 6.851382576512903, 'e5': 8.488791903527996},\n",
       " {'e1': 6.149449834732827, 'e2': 3.668347940896857, 'e3': 8.977048006765214, 'e4': 8.501125839094557, 'e5': 7.608232808981372},\n",
       " {'e1': 8.059447483388642, 'e2': 5.8102393456049555, 'e3': 6.562495075479618, 'e4': 6.571544092721578, 'e5': 5.487688695925667},\n",
       " {'e1': 6.7561030884877376, 'e2': 6.361069087461747, 'e3': 6.655657401579513, 'e4': 6.759632399523725, 'e5': 4.884007223701402},\n",
       " {'e1': 8.416272007744228, 'e2': 7.024241757722719, 'e3': 6.654822739143626, 'e4': 7.177015418988172, 'e5': 6.088236803546632},\n",
       " {'e1': 6.194438256329013, 'e2': 7.993203703010977, 'e3': 8.143989789615432, 'e4': 5.697584213495109, 'e5': 7.435968992942517},\n",
       " {'e1': 8.992734541372858, 'e2': 6.407697091054927, 'e3': 6.982236698813643, 'e4': 5.441098254711152, 'e5': 4.718492956644177},\n",
       " {'e1': 5.340261005579412, 'e2': 7.060561163211342, 'e3': 5.034057340594401, 'e4': 6.987873444509571, 'e5': 5.604691787271935},\n",
       " {'e1': 9.65016947678188, 'e2': 8.231693765237157, 'e3': 6.700768947322356, 'e4': 8.180047883492533, 'e5': 5.728224571342875},\n",
       " {'e1': 7.874072877888827, 'e2': 6.518886282245094, 'e3': 8.162950389110478, 'e4': 7.089230116402123, 'e5': 5.444675885698304},\n",
       " {'e1': 7.527145798682119, 'e2': 6.633278217651601, 'e3': 8.16515386669464, 'e4': 7.379425255023987, 'e5': 8.031815022690505},\n",
       " {'e1': 6.679242904356875, 'e2': 6.2051461059671285, 'e3': 7.313180946817342, 'e4': 8.240188987338817, 'e5': 7.118395534128215},\n",
       " {'e1': 6.5071718402637995, 'e2': 7.3918243862598745, 'e3': 8.25795169998974, 'e4': 8.328431100938674, 'e5': 5.5984593779901894},\n",
       " {'e1': 6.375855512672702, 'e2': 6.992201497596779, 'e3': 6.988682114582869, 'e4': 8.849271027369127, 'e5': 7.860733048192506},\n",
       " {'e1': 6.758298138114301, 'e2': 7.4940492957459, 'e3': 6.048732616961853, 'e4': 8.16278577243478, 'e5': 5.858740889439281},\n",
       " {'e1': 7.922166811814178, 'e2': 7.936946201750606, 'e3': 5.507178403841306, 'e4': 7.540066311629016, 'e5': 6.049062729605537},\n",
       " {'e1': 9.2001139570255, 'e2': 7.688385794572213, 'e3': 7.738026609894309, 'e4': 6.775455711489164, 'e5': 6.87934507280806},\n",
       " {'e1': 6.387324272109354, 'e2': 6.508148842743551, 'e3': 7.080854348886039, 'e4': 5.302898827234922, 'e5': 5.728459269254449},\n",
       " {'e1': 6.605965145128089, 'e2': 7.568897781363876, 'e3': 4.494687139035192, 'e4': 8.099908970519497, 'e5': 4.924532179594774},\n",
       " {'e1': 7.406016377897267, 'e2': 6.755333989237462, 'e3': 5.803712016285556, 'e4': 6.89591893965009, 'e5': 9.85157837843273},\n",
       " {'e1': 4.490477265070372, 'e2': 6.876682195542322, 'e3': 6.771424157742411, 'e4': 7.752581531659147, 'e5': 7.23009528419758},\n",
       " {'e1': 6.5086712779158935, 'e2': 8.45148124757091, 'e3': 6.112840568894385, 'e4': 7.7021826940425235, 'e5': 7.273336172153981},\n",
       " {'e1': 6.7697728952640706, 'e2': 7.140923210721554, 'e3': 6.240987624013879, 'e4': 6.850652081122296, 'e5': 5.599330875377648},\n",
       " {'e1': 6.01510353503488, 'e2': 7.110979824208244, 'e3': 7.015827937650292, 'e4': 6.141028027951702, 'e5': 5.856527361849194},\n",
       " {'e1': 6.7096005203381335, 'e2': 7.2832400523127045, 'e3': 7.144103743577775, 'e4': 7.547534147197885, 'e5': 6.203216541612298},\n",
       " {'e1': 7.215398769711125, 'e2': 7.585778954220906, 'e3': 7.476043225821634, 'e4': 5.962149269181135, 'e5': 6.393766194076687},\n",
       " {'e1': 4.352928650266884, 'e2': 6.04864571373091, 'e3': 6.045702228374535, 'e4': 5.626178499219394, 'e5': 5.851897093656554},\n",
       " {'e1': 6.416970670216798, 'e2': 6.8832786915567965, 'e3': 6.928382246470006, 'e4': 5.710355189346187, 'e5': 6.911804197199483},\n",
       " {'e1': 5.476312309740343, 'e2': 6.882745542363371, 'e3': 7.605799359593997, 'e4': 5.089185878571022, 'e5': 7.269864598250699},\n",
       " {'e1': 7.670387836092049, 'e2': 8.129414938123025, 'e3': 8.626069701289115, 'e4': 8.719221624205542, 'e5': 6.3277311376294305},\n",
       " {'e1': 8.249669133725021, 'e2': 6.659824795539438, 'e3': 7.398453167764887, 'e4': 6.144759895655914, 'e5': 8.116706531416577},\n",
       " {'e1': 8.275401593411317, 'e2': 5.492252781175301, 'e3': 6.234012549539074, 'e4': 7.344834872842006, 'e5': 8.283630838410122},\n",
       " {'e1': 7.41960911144964, 'e2': 7.121847170825018, 'e3': 6.636132551113822, 'e4': 8.324430546745585, 'e5': 5.921047787149342},\n",
       " {'e1': 6.796467343569693, 'e2': 6.182437889523313, 'e3': 6.738539333737043, 'e4': 6.5416932678523825, 'e5': 8.297862459054132},\n",
       " {'e1': 8.996155667428035, 'e2': 8.126381236975826, 'e3': 8.637616669597264, 'e4': 6.311892882226164, 'e5': 8.611582315840742},\n",
       " {'e1': 7.624331662061116, 'e2': 7.586453794283402, 'e3': 7.269305075677726, 'e4': 6.352196867192394, 'e5': 8.882238642145936},\n",
       " {'e1': 8.72262942620588, 'e2': 7.150314849609404, 'e3': 6.01643010631401, 'e4': 7.74242029681422, 'e5': 5.5873521532677755},\n",
       " {'e1': 6.996146475089632, 'e2': 7.834731591071056, 'e3': 7.207211731663054, 'e4': 7.440850150974969, 'e5': 8.738919421564836},\n",
       " {'e1': 7.861706677723132, 'e2': 8.769425172225613, 'e3': 6.517404290350654, 'e4': 6.021740478477494, 'e5': 7.299842466950619},\n",
       " {'e1': 8.280347529747011, 'e2': 6.298353887838189, 'e3': 6.831050518232205, 'e4': 6.458653127074194, 'e5': 5.051679551105097},\n",
       " {'e1': 8.482820049825035, 'e2': 8.985528240504074, 'e3': 8.945413861867351, 'e4': 6.743132982799646, 'e5': 5.895731278364506},\n",
       " {'e1': 9.230339168640267, 'e2': 7.090822148846781, 'e3': 6.6981136895534865, 'e4': 7.308942402635978, 'e5': 6.246868654841589},\n",
       " {'e1': 5.411132573227035, 'e2': 6.724589603793958, 'e3': 7.028156248719489, 'e4': 9.404807790178454, 'e5': 8.504547568081573},\n",
       " {'e1': 7.338581542389849, 'e2': 5.906217730040656, 'e3': 7.963164802823904, 'e4': 8.796291011573814, 'e5': 7.478558860254055},\n",
       " {'e1': 7.437954965492746, 'e2': 6.5813300610994085, 'e3': 6.1186256406866795, 'e4': 7.612864900891641, 'e5': 6.743831724064767},\n",
       " {'e1': 8.248511985507363, 'e2': 7.420076965526326, 'e3': 6.080549287933699, 'e4': 6.07138304030229, 'e5': 8.254705222060494},\n",
       " {'e1': 5.538152493440651, 'e2': 7.078215127660834, 'e3': 8.136957759369606, 'e4': 5.3886126217538814, 'e5': 8.326080407539276},\n",
       " {'e1': 5.777776252907129, 'e2': 8.588426509999664, 'e3': 7.8654038374478, 'e4': 6.950573869379722, 'e5': 5.059084105864362},\n",
       " {'e1': 7.184430043325109, 'e2': 8.628390221520016, 'e3': 6.798288956455373, 'e4': 7.031243304486642, 'e5': 5.432507591734558},\n",
       " {'e1': 6.040106915137308, 'e2': 8.095144189044754, 'e3': 5.162234943493059, 'e4': 7.622277663504071, 'e5': 6.499301949952884},\n",
       " {'e1': 6.721281334485451, 'e2': 6.684675427824331, 'e3': 8.367675967386475, 'e4': 7.662652622088503, 'e5': 7.161795611088334},\n",
       " {'e1': 7.370662812859155, 'e2': 5.394895152063102, 'e3': 7.864142445452081, 'e4': 8.176382537061787, 'e5': 6.713553580341074},\n",
       " {'e1': 7.0132625143713145, 'e2': 7.765694639350118, 'e3': 7.436682819881857, 'e4': 5.748003142145565, 'e5': 6.235971207965793},\n",
       " {'e1': 6.500922371852919, 'e2': 6.18989328306418, 'e3': 9.232729026248167, 'e4': 5.630034532498042, 'e5': 7.078419048165163},\n",
       " {'e1': 6.797656721922079, 'e2': 8.12100487473074, 'e3': 6.206710788597247, 'e4': 7.655075701000114, 'e5': 7.136459444126589},\n",
       " {'e1': 6.486175389961101, 'e2': 5.928485595699064, 'e3': 8.058100665733999, 'e4': 7.7077186661544035, 'e5': 6.942359383245683},\n",
       " {'e1': 5.690111403590283, 'e2': 6.701387083527729, 'e3': 7.452729113958019, 'e4': 7.578188135106904, 'e5': 5.707032045205641},\n",
       " {'e1': 9.354031024956521, 'e2': 7.052660595032758, 'e3': 6.566364172150902, 'e4': 7.160897170908396, 'e5': 6.5040743638183836},\n",
       " {'e1': 7.04095259746785, 'e2': 7.374245297465194, 'e3': 6.322429700402348, 'e4': 7.648885557008109, 'e5': 5.700932884741143},\n",
       " {'e1': 7.439335389531864, 'e2': 7.195628392345696, 'e3': 5.329846132383947, 'e4': 8.252459546005843, 'e5': 6.577481220418291},\n",
       " {'e1': 5.627705605187372, 'e2': 6.057178912284585, 'e3': 6.736600052282946, 'e4': 7.431587670701782, 'e5': 5.312786032592408},\n",
       " {'e1': 6.124098742463815, 'e2': 8.192046671918108, 'e3': 6.006416088235451, 'e4': 5.871535363492844, 'e5': 6.0511830493583245},\n",
       " {'e1': 8.04353689367461, 'e2': 8.685251962233218, 'e3': 7.435920359997085, 'e4': 8.5782617656663, 'e5': 6.344668053412599},\n",
       " {'e1': 6.1636138172148245, 'e2': 7.722568826798349, 'e3': 6.019727770562201, 'e4': 7.968128445467802, 'e5': 7.381846667080418},\n",
       " {'e1': 6.3100759308266925, 'e2': 8.303990150899354, 'e3': 6.880583707069965, 'e4': 8.494260749929921, 'e5': 6.053276643192418},\n",
       " {'e1': 5.716989810363393, 'e2': 8.235847616189362, 'e3': 8.550050954000065, 'e4': 8.656467310735923, 'e5': 6.027730853776005},\n",
       " {'e1': 6.011484718086049, 'e2': 7.174624325984665, 'e3': 8.093296793012653, 'e4': 6.616201958566149, 'e5': 7.5762237394379985},\n",
       " {'e1': 6.140780250445392, 'e2': 8.23052136693451, 'e3': 6.612727448081117, 'e4': 8.109217207049285, 'e5': 7.680933275472614},\n",
       " {'e1': 7.885185972475684, 'e2': 6.4444082837535275, 'e3': 5.660841784398789, 'e4': 7.1836121229092935, 'e5': 6.237717918202032},\n",
       " {'e1': 4.882199785740279, 'e2': 5.052684319571032, 'e3': 8.025387061471747, 'e4': 8.504353720647487, 'e5': 8.035825233729513},\n",
       " {'e1': 8.091289305629594, 'e2': 7.053683783971067, 'e3': 6.818840866809294, 'e4': 7.001198273046028, 'e5': 4.996343600720689},\n",
       " {'e1': 7.178306856525791, 'e2': 6.374890173810074, 'e3': 6.918156844725431, 'e4': 6.67163340865095, 'e5': 8.318019368044345},\n",
       " {'e1': 7.339014966031658, 'e2': 6.799624776476253, 'e3': 6.494353193397752, 'e4': 6.5934907956216025, 'e5': 7.836732214047092},\n",
       " {'e1': 5.5430089461717875, 'e2': 5.484150217863047, 'e3': 6.780533708914506, 'e4': 5.550007611549978, 'e5': 7.745328858511145},\n",
       " {'e1': 8.500893053568216, 'e2': 7.572179473811075, 'e3': 6.091820356358223, 'e4': 6.9195401490082, 'e5': 7.649186755437643},\n",
       " {'e1': 6.617606665481013, 'e2': 6.306847052863186, 'e3': 7.006602238411242, 'e4': 5.971784285726127, 'e5': 7.71736589739957},\n",
       " {'e1': 7.803802441473208, 'e2': 6.757064189406316, 'e3': 6.319494025541247, 'e4': 5.659655251089307, 'e5': 8.407212461663537},\n",
       " {'e1': 6.627244879988594, 'e2': 6.592839225807542, 'e3': 6.825688252162019, 'e4': 7.5198832480578135, 'e5': 7.969199708293127},\n",
       " {'e1': 6.947411728939011, 'e2': 6.9325422387855, 'e3': 6.21881366911792, 'e4': 8.291415406747646, 'e5': 6.962857458471078},\n",
       " {'e1': 5.311495308799476, 'e2': 6.839630433035767, 'e3': 6.069597712925229, 'e4': 5.681029038218299, 'e5': 7.580606279215811},\n",
       " {'e1': 6.305663801071863, 'e2': 7.287592240998918, 'e3': 6.677803442570908, 'e4': 7.188659854140935, 'e5': 4.742925817088163},\n",
       " {'e1': 7.537189787031385, 'e2': 8.609789165494993, 'e3': 7.380543876195473, 'e4': 8.528035868025963, 'e5': 7.556628577594325},\n",
       " {'e1': 7.320352231874137, 'e2': 6.5620076819305435, 'e3': 7.871304092707324, 'e4': 6.61631508040195, 'e5': 6.137173902205564},\n",
       " {'e1': 7.114238486216369, 'e2': 7.771353887087561, 'e3': 5.903587830605442, 'e4': 7.7050233435033615, 'e5': 8.4360862121304},\n",
       " {'e1': 5.61573148092142, 'e2': 5.962857288136009, 'e3': 5.793837950318734, 'e4': 5.73854957561544, 'e5': 7.3864682205768},\n",
       " {'e1': 7.911397543223412, 'e2': 7.550450271765261, 'e3': 5.241733699882315, 'e4': 7.332805476005705, 'e5': 8.560810171233465},\n",
       " {'e1': 8.052803781813324, 'e2': 7.442028394618648, 'e3': 5.643110489401252, 'e4': 8.496649267595359, 'e5': 7.6811986711529245},\n",
       " {'e1': 6.158030564887609, 'e2': 6.495082863364285, 'e3': 8.541583194552835, 'e4': 6.665870436107682, 'e5': 8.735591938610495},\n",
       " {'e1': 5.424790175941794, 'e2': 6.51586730922048, 'e3': 6.464690605359099, 'e4': 7.403641802089048, 'e5': 9.510822994670255},\n",
       " {'e1': 4.892967628087347, 'e2': 8.051444366171447, 'e3': 7.861524736254572, 'e4': 6.8135176112210045, 'e5': 6.060841926449714},\n",
       " {'e1': 8.241282169318959, 'e2': 7.076934398622355, 'e3': 7.038905081378152, 'e4': 7.354626736283816, 'e5': 7.545363466101975},\n",
       " {'e1': 6.500540979208904, 'e2': 7.408409579133941, 'e3': 6.879178111726655, 'e4': 7.8618081339385775, 'e5': 7.73280350528049},\n",
       " {'e1': 4.818712236659485, 'e2': 6.8759326766761655, 'e3': 6.2724053532590816, 'e4': 6.540659015616134, 'e5': 7.626243577387562},\n",
       " {'e1': 6.874599291052884, 'e2': 6.601795832602179, 'e3': 5.953378625814008, 'e4': 6.318743762097488, 'e5': 6.194830790535424},\n",
       " {'e1': 8.208133387694838, 'e2': 7.4293989283670125, 'e3': 6.44071697828424, 'e4': 7.852539014996749, 'e5': 8.461821250700053},\n",
       " {'e1': 5.912600466753304, 'e2': 7.199676756591202, 'e3': 6.216276683455774, 'e4': 7.1540186351685575, 'e5': 8.119614479525577},\n",
       " {'e1': 8.709621390082438, 'e2': 7.6234253970092265, 'e3': 7.001095517666038, 'e4': 6.244770688317111, 'e5': 4.242483313897268},\n",
       " {'e1': 6.159813621343906, 'e2': 8.160838130647193, 'e3': 7.404909876784941, 'e4': 8.172660511627434, 'e5': 6.361036147671322},\n",
       " {'e1': 8.246216328267872, 'e2': 6.529682062239329, 'e3': 9.364699731767395, 'e4': 6.707794948107357, 'e5': 7.788446741861993},\n",
       " {'e1': 7.5346156359942, 'e2': 6.344134241061288, 'e3': 7.885911886135755, 'e4': 8.026319475201582, 'e5': 5.132647675062854},\n",
       " {'e1': 8.078154177945317, 'e2': 7.854592933074237, 'e3': 7.057882092103617, 'e4': 6.413561289900204, 'e5': 5.891377138205507},\n",
       " {'e1': 6.504101959122382, 'e2': 5.900047710899849, 'e3': 5.490646986766277, 'e4': 6.854010468391758, 'e5': 7.405044053414367},\n",
       " {'e1': 6.802361160625222, 'e2': 8.127988710268854, 'e3': 8.251105550284421, 'e4': 6.604017338394899, 'e5': 6.123422858080062},\n",
       " {'e1': 5.286135234799169, 'e2': 6.671044680933326, 'e3': 7.603915018942145, 'e4': 6.303972572839658, 'e5': 5.702292481479425},\n",
       " {'e1': 7.518075842948582, 'e2': 7.556331939910658, 'e3': 7.77085912994313, 'e4': 6.271976258224644, 'e5': 5.577750462126975},\n",
       " {'e1': 8.121696871117159, 'e2': 8.066521068479586, 'e3': 6.935210367366681, 'e4': 6.139572006823059, 'e5': 5.411850642441663},\n",
       " {'e1': 5.239092926137044, 'e2': 6.051080745251936, 'e3': 6.499550223341652, 'e4': 7.45886284091516, 'e5': 7.481007081040868},\n",
       " {'e1': 7.853061028274544, 'e2': 8.159381047927386, 'e3': 6.802704063804832, 'e4': 5.9184632282876235, 'e5': 7.189733386091742},\n",
       " {'e1': 6.615248033186222, 'e2': 6.578701133424645, 'e3': 9.029068870742082, 'e4': 6.904354374119994, 'e5': 7.330353706693937},\n",
       " {'e1': 4.635092754107195, 'e2': 6.56864790812523, 'e3': 5.68588065313423, 'e4': 7.820424607142921, 'e5': 7.032922830713537},\n",
       " {'e1': 8.470753827927233, 'e2': 8.177998629717921, 'e3': 8.420089198558943, 'e4': 7.425402774855606, 'e5': 7.038700283283873},\n",
       " {'e1': 7.299516322380165, 'e2': 7.985785857804358, 'e3': 6.276561468000704, 'e4': 7.613721135089134, 'e5': 7.887195495085403},\n",
       " {'e1': 5.5948508485056365, 'e2': 7.371603914586304, 'e3': 8.92314290474852, 'e4': 7.738315539484531, 'e5': 7.166448149975022},\n",
       " {'e1': 5.632488088213622, 'e2': 7.09304985822176, 'e3': 6.013833958034876, 'e4': 7.05708030589442, 'e5': 8.00932748427714},\n",
       " {'e1': 8.335479697042778, 'e2': 5.377128006360288, 'e3': 7.79546789441935, 'e4': 7.512039703952459, 'e5': 6.1009024023469705},\n",
       " {'e1': 8.642168085945926, 'e2': 5.3219660857854185, 'e3': 8.913076182638925, 'e4': 5.151843823323023, 'e5': 8.12551315355225},\n",
       " {'e1': 6.421053779941117, 'e2': 9.368079952572268, 'e3': 6.6545434169507995, 'e4': 8.079091845780603, 'e5': 5.397242572557285},\n",
       " {'e1': 8.941726823470137, 'e2': 7.256062853896802, 'e3': 4.890868447228095, 'e4': 6.65545947690803, 'e5': 8.316116312562805},\n",
       " {'e1': 5.424319539461795, 'e2': 6.68228922784507, 'e3': 5.87414235975395, 'e4': 6.360470797162695, 'e5': 6.6638293320111135},\n",
       " {'e1': 6.213369194717874, 'e2': 9.19613217309541, 'e3': 6.841277236391351, 'e4': 7.01175636049977, 'e5': 8.314091159235238},\n",
       " {'e1': 5.298143834071382, 'e2': 5.876955368282614, 'e3': 7.50168920825279, 'e4': 7.788293579229273, 'e5': 6.177348635073378},\n",
       " {'e1': 6.873898458157772, 'e2': 4.556237811870763, 'e3': 6.711029308905143, 'e4': 8.037597843785894, 'e5': 7.1831057925101724},\n",
       " {'e1': 6.851948813445667, 'e2': 6.366879718256758, 'e3': 6.749214550705288, 'e4': 8.514752129276955, 'e5': 6.20272416089665},\n",
       " {'e1': 6.776348617074806, 'e2': 7.497703663004926, 'e3': 7.892403827130479, 'e4': 6.433190757744546, 'e5': 6.584993644436305},\n",
       " {'e1': 7.200369763865119, 'e2': 6.494291411630751, 'e3': 8.834917274469252, 'e4': 7.745261658252631, 'e5': 7.383288659694987},\n",
       " {'e1': 6.465794298536681, 'e2': 7.568056320298207, 'e3': 5.317821112932448, 'e4': 6.3514466842850625, 'e5': 7.48137097639557},\n",
       " {'e1': 8.997868753506756, 'e2': 7.238566746792685, 'e3': 8.381255847981405, 'e4': 6.897137121599966, 'e5': 6.4637479340533535},\n",
       " {'e1': 7.751816657494293, 'e2': 5.620785419636029, 'e3': 7.110224365736968, 'e4': 7.273966377400579, 'e5': 7.286378111627255},\n",
       " {'e1': 9.027120634619305, 'e2': 8.039867336767616, 'e3': 7.338730320757127, 'e4': 7.216973211098933, 'e5': 6.227285239993338},\n",
       " {'e1': 7.721658437087141, 'e2': 8.003353553174913, 'e3': 7.551391400413193, 'e4': 5.529539462396731, 'e5': 7.157750136061467},\n",
       " {'e1': 5.216406327870261, 'e2': 7.300250987100292, 'e3': 7.225047718906337, 'e4': 7.24695114976387, 'e5': 6.9919999539408435},\n",
       " {'e1': 8.166704358343887, 'e2': 6.635067636189661, 'e3': 6.892813911909958, 'e4': 7.414714248564482, 'e5': 6.15366937809714},\n",
       " {'e1': 7.52130232751323, 'e2': 6.488639889067026, 'e3': 7.969705951538776, 'e4': 8.2879735731984, 'e5': 6.634437023378668},\n",
       " {'e1': 7.314551059304527, 'e2': 7.620459613953294, 'e3': 7.943264576491756, 'e4': 6.461614057732039, 'e5': 8.184834478401683},\n",
       " {'e1': 6.49533985909706, 'e2': 8.837422174869317, 'e3': 8.079357372264099, 'e4': 6.459917881850965, 'e5': 7.077964304106622},\n",
       " {'e1': 7.070835008103828, 'e2': 8.4688035629087, 'e3': 8.795868314048565, 'e4': 7.544373595510293, 'e5': 7.525610676512944},\n",
       " {'e1': 6.922896603323522, 'e2': 6.663794131560778, 'e3': 7.665597381495304, 'e4': 6.982802985427682, 'e5': 6.841653501551039},\n",
       " {'e1': 5.492763340691055, 'e2': 4.979484819635635, 'e3': 6.301709438574235, 'e4': 7.3243445633925965, 'e5': 6.569101626375347},\n",
       " {'e1': 7.167687936299309, 'e2': 7.335717283888541, 'e3': 6.973321465873009, 'e4': 6.8863433329511, 'e5': 7.280447957156302},\n",
       " {'e1': 5.566272506740289, 'e2': 6.269346660447984, 'e3': 7.211631524703929, 'e4': 6.494858845201179, 'e5': 5.540861896770914},\n",
       " {'e1': 6.512677667142206, 'e2': 6.17954332195115, 'e3': 9.205684084366819, 'e4': 4.269401124497407, 'e5': 7.750004500754395},\n",
       " {'e1': 7.958025191000861, 'e2': 7.840556716396446, 'e3': 5.110666844227047, 'e4': 6.0865660056941495, 'e5': 8.01633032803225},\n",
       " {'e1': 6.9135750794147635, 'e2': 6.904026078383859, 'e3': 8.62056794927047, 'e4': 7.588306399830248, 'e5': 9.739535175249603},\n",
       " {'e1': 8.879139778553204, 'e2': 8.663118062786014, 'e3': 7.408495088178289, 'e4': 8.111998419102113, 'e5': 4.38569596655052},\n",
       " {'e1': 6.107726897771214, 'e2': 6.16520185659773, 'e3': 8.253000141977935, 'e4': 8.968294188407352, 'e5': 5.4087036030267885},\n",
       " {'e1': 6.718874375843477, 'e2': 8.614715901184839, 'e3': 8.732859275368197, 'e4': 6.957038392169477, 'e5': 6.927948888856346},\n",
       " {'e1': 7.049125668926998, 'e2': 8.883827092175284, 'e3': 8.520595246643135, 'e4': 8.150897178572011, 'e5': 7.45693568870619},\n",
       " {'e1': 6.0528082765678475, 'e2': 7.379255497022501, 'e3': 7.451286275793323, 'e4': 6.163902060326077, 'e5': 5.071224610498489},\n",
       " {'e1': 6.897632886655565, 'e2': 7.226784137737936, 'e3': 6.014864160127296, 'e4': 6.527020298229754, 'e5': 8.381206555296655},\n",
       " {'e1': 5.922707294796481, 'e2': 6.925116522850517, 'e3': 7.896854069296699, 'e4': 6.642220074994743, 'e5': 5.3546057634207225},\n",
       " {'e1': 10.083125518254409, 'e2': 7.838609445590623, 'e3': 6.944826046119793, 'e4': 6.0981971916234485, 'e5': 6.386628988233198},\n",
       " {'e1': 6.064410226264427, 'e2': 6.437538711802843, 'e3': 7.4803476175485155, 'e4': 8.89769425902228, 'e5': 6.751340985432083},\n",
       " {'e1': 7.0833516393315685, 'e2': 7.656584237830396, 'e3': 7.78899688007793, 'e4': 8.306307213560773, 'e5': 7.1077483880609265},\n",
       " {'e1': 8.538958700505537, 'e2': 6.9591948635662835, 'e3': 6.2507968162738, 'e4': 6.100667115222693, 'e5': 6.6644479063197855},\n",
       " {'e1': 5.992773641195646, 'e2': 7.9617157285744105, 'e3': 6.618336355984048, 'e4': 7.082060351141213, 'e5': 5.269775315847491},\n",
       " {'e1': 8.938259162587405, 'e2': 7.226895259074416, 'e3': 8.10671684230645, 'e4': 4.971983853878259, 'e5': 7.260288649561082},\n",
       " {'e1': 4.604016173479404, 'e2': 5.847269093115756, 'e3': 9.77852069876808, 'e4': 5.0362672913618765, 'e5': 5.998091223121122},\n",
       " {'e1': 6.005321496333294, 'e2': 6.874426118469134, 'e3': 5.890470786934463, 'e4': 6.097614414086515, 'e5': 8.161393133328023},\n",
       " {'e1': 5.668114483603312, 'e2': 7.108309196343939, 'e3': 8.175088536897436, 'e4': 6.521335940603175, 'e5': 5.85730055463009},\n",
       " {'e1': 6.777212059785733, 'e2': 4.609110835786492, 'e3': 7.884953716849068, 'e4': 8.674962068140932, 'e5': 6.476162149225977},\n",
       " {'e1': 7.390361724569012, 'e2': 6.09439560582087, 'e3': 7.895055311020716, 'e4': 6.888123296424591, 'e5': 7.729398980732462},\n",
       " {'e1': 7.125696877689448, 'e2': 7.649895636023023, 'e3': 6.200764181370061, 'e4': 5.856072815011412, 'e5': 9.240173580159222},\n",
       " {'e1': 7.392274965367621, 'e2': 7.715349100099024, 'e3': 6.1995412536594605, 'e4': 6.635800605535571, 'e5': 6.567868707202916},\n",
       " {'e1': 5.680361807614501, 'e2': 6.358082021180866, 'e3': 6.582943120209049, 'e4': 8.488734770173007, 'e5': 8.646078947720314},\n",
       " {'e1': 7.194446260095884, 'e2': 5.823715446581743, 'e3': 6.6983769850833275, 'e4': 7.212270169536539, 'e5': 7.2354673791304505},\n",
       " {'e1': 6.0736176143720035, 'e2': 6.697432571427641, 'e3': 6.912725057719577, 'e4': 8.270086377578382, 'e5': 6.782480920752191},\n",
       " {'e1': 6.453308821876958, 'e2': 7.735418818452242, 'e3': 8.678759472603307, 'e4': 6.647037368959092, 'e5': 8.190013929017772},\n",
       " {'e1': 8.778129100062142, 'e2': 7.728303761695011, 'e3': 7.98303364709516, 'e4': 7.346174272654633, 'e5': 6.35095820011434},\n",
       " {'e1': 7.373675354235241, 'e2': 7.628754386546462, 'e3': 7.630524375570722, 'e4': 7.354917886703248, 'e5': 8.452043779779059},\n",
       " {'e1': 6.6305030322095115, 'e2': 7.78709457583106, 'e3': 7.382276233240826, 'e4': 7.142100790250355, 'e5': 7.5190246327096695},\n",
       " {'e1': 7.78488328627125, 'e2': 5.909178507333191, 'e3': 8.118980280465294, 'e4': 6.936518569154291, 'e5': 8.101338851397333},\n",
       " {'e1': 5.27663250299264, 'e2': 5.475804182185783, 'e3': 9.357706860292083, 'e4': 7.1236604324530015, 'e5': 5.785785012199666},\n",
       " {'e1': 6.304703822318137, 'e2': 6.854020633399293, 'e3': 8.117606495508808, 'e4': 7.653755748180276, 'e5': 7.324219647766884},\n",
       " {'e1': 7.054178075838243, 'e2': 7.181937351527999, 'e3': 6.636599432211741, 'e4': 7.5306097187842225, 'e5': 7.732086033019903},\n",
       " {'e1': 5.885557124482235, 'e2': 8.408900088033874, 'e3': 5.785567629700763, 'e4': 6.600163317862918, 'e5': 7.130924138905735},\n",
       " {'e1': 7.620502015169123, 'e2': 5.321452724991954, 'e3': 6.914758400215963, 'e4': 8.917510760227044, 'e5': 7.0516301862989685},\n",
       " {'e1': 6.247889269132948, 'e2': 5.7959217716568885, 'e3': 7.133125932009108, 'e4': 5.190220993718156, 'e5': 6.576598186193006},\n",
       " {'e1': 8.472693806028099, 'e2': 7.050858031175381, 'e3': 7.5613606482777245, 'e4': 7.225578706856099, 'e5': 7.974129552038686},\n",
       " {'e1': 7.620514923881013, 'e2': 8.465736725640935, 'e3': 7.864600560259998, 'e4': 5.8741795548457585, 'e5': 6.922130825904152},\n",
       " {'e1': 7.022915947588478, 'e2': 7.574156910152442, 'e3': 6.555777170889675, 'e4': 6.050952934719846, 'e5': 6.267457841091495},\n",
       " {'e1': 7.073613820509776, 'e2': 6.480287168618353, 'e3': 7.88973781519378, 'e4': 7.3311292963219366, 'e5': 3.8368799874123463},\n",
       " {'e1': 7.645454766145366, 'e2': 8.062000907773347, 'e3': 6.076048521925049, 'e4': 6.102327538879813, 'e5': 5.897207726044728},\n",
       " {'e1': 6.577107965359748, 'e2': 7.613024370643997, 'e3': 7.384097818791899, 'e4': 6.890562048628037, 'e5': 6.592086303200883},\n",
       " {'e1': 7.615103725109648, 'e2': 4.671636800280006, 'e3': 7.484555352511638, 'e4': 6.280952278000329, 'e5': 9.23655831576343},\n",
       " {'e1': 6.738409252464827, 'e2': 6.8021188925985765, 'e3': 6.695013331998043, 'e4': 5.884938608304831, 'e5': 6.350233187259692},\n",
       " {'e1': 10.02327890734235, 'e2': 5.9871143676832315, 'e3': 7.151317517482751, 'e4': 6.109131916270299, 'e5': 8.066582105461308},\n",
       " {'e1': 6.432392726876376, 'e2': 7.340328267729129, 'e3': 4.929412267879781, 'e4': 5.34584997808735, 'e5': 5.5993073236724555},\n",
       " {'e1': 5.497185976081653, 'e2': 8.71473690701291, 'e3': 6.176093545153183, 'e4': 6.684960499702592, 'e5': 8.74179112295751},\n",
       " {'e1': 6.418126923619167, 'e2': 7.343533760637856, 'e3': 6.660879724943112, 'e4': 8.105603255859345, 'e5': 8.800896967890482},\n",
       " {'e1': 7.415499274043104, 'e2': 7.733227048616781, 'e3': 6.8785212966992555, 'e4': 7.03251907239535, 'e5': 6.381368353594279},\n",
       " {'e1': 8.336433377807783, 'e2': 6.948596231395849, 'e3': 7.483338424420312, 'e4': 7.297487980031792, 'e5': 6.764230486543618},\n",
       " {'e1': 5.756453407773833, 'e2': 4.651053982131845, 'e3': 6.775768243598952, 'e4': 7.561629875768915, 'e5': 6.286936878565712},\n",
       " {'e1': 6.781076450497602, 'e2': 5.735093715107169, 'e3': 5.40345075709683, 'e4': 5.559379072567013, 'e5': 8.10824577507393},\n",
       " {'e1': 8.204180084930595, 'e2': 7.82499506962454, 'e3': 5.8612059022359455, 'e4': 7.798871477336562, 'e5': 8.016423691447315},\n",
       " {'e1': 5.666527437523437, 'e2': 7.315490016713263, 'e3': 8.069662146005625, 'e4': 6.334387855376776, 'e5': 8.052519473774863},\n",
       " {'e1': 6.967196673554523, 'e2': 5.462787603354841, 'e3': 6.544134044355056, 'e4': 6.305095530050485, 'e5': 7.1954911376171555},\n",
       " {'e1': 7.750166119574938, 'e2': 8.071196265269641, 'e3': 8.222270452205892, 'e4': 6.809163669051047, 'e5': 7.7577190978619655},\n",
       " {'e1': 6.950081600381218, 'e2': 7.6320698598592855, 'e3': 6.632955160020347, 'e4': 6.269652213449529, 'e5': 7.093146577685882},\n",
       " {'e1': 7.067199190660705, 'e2': 5.922502423564778, 'e3': 7.282284478109642, 'e4': 7.467666660018745, 'e5': 6.516863464772616},\n",
       " {'e1': 6.267614856689439, 'e2': 7.997847259170889, 'e3': 8.141990050079386, 'e4': 7.009344924199206, 'e5': 7.33743289440603},\n",
       " {'e1': 7.118249225289501, 'e2': 6.9367101987826105, 'e3': 5.842464009053067, 'e4': 7.164045437785859, 'e5': 6.975865887948123},\n",
       " {'e1': 6.554198147607161, 'e2': 6.322889334311593, 'e3': 6.667003827129776, 'e4': 8.184367554789178, 'e5': 8.03369103815209},\n",
       " {'e1': 6.824577521637724, 'e2': 6.316910872883852, 'e3': 7.3909445964833385, 'e4': 7.900289508127971, 'e5': 5.955394791285165},\n",
       " {'e1': 7.390050684935262, 'e2': 6.800524797665771, 'e3': 7.268088607970072, 'e4': 6.730297355800804, 'e5': 5.113276699721075},\n",
       " {'e1': 7.2206593836228485, 'e2': 8.053793872422206, 'e3': 6.355535202247961, 'e4': 6.614107679383306, 'e5': 6.21839953572561},\n",
       " {'e1': 6.733396155122039, 'e2': 6.314107542583024, 'e3': 7.8922574010879005, 'e4': 6.488665639834703, 'e5': 5.699732048656691},\n",
       " {'e1': 6.650125864574477, 'e2': 7.548906976608098, 'e3': 5.202758311263719, 'e4': 6.175998744643642, 'e5': 4.937973188702035},\n",
       " {'e1': 7.6734310014495675, 'e2': 5.374015542443993, 'e3': 6.1832349951195305, 'e4': 7.66235452347519, 'e5': 6.087822079371548},\n",
       " {'e1': 7.535485918814607, 'e2': 7.042568406632082, 'e3': 7.565455340434001, 'e4': 6.8175499215193165, 'e5': 5.153236530323491},\n",
       " {'e1': 5.373021026460775, 'e2': 6.981642774207847, 'e3': 7.132328761962093, 'e4': 6.5286751834158325, 'e5': 7.0257230721246655},\n",
       " {'e1': 4.5217760286119075, 'e2': 8.217030687063374, 'e3': 6.9754688955770074, 'e4': 6.003161688244194, 'e5': 7.634025362087724},\n",
       " {'e1': 6.16809065016629, 'e2': 8.73696295805192, 'e3': 6.819909140793158, 'e4': 7.358714888576776, 'e5': 7.113884169583281},\n",
       " {'e1': 8.024408462002093, 'e2': 7.933313107452851, 'e3': 4.669803829578764, 'e4': 8.668757889521148, 'e5': 6.365993881861889},\n",
       " {'e1': 6.780215583860505, 'e2': 5.119311980383686, 'e3': 8.398209356030016, 'e4': 8.67214770822587, 'e5': 7.862153842576526},\n",
       " {'e1': 5.571152032237316, 'e2': 8.112391027637484, 'e3': 6.256184918635256, 'e4': 8.190248345737484, 'e5': 7.33511264993654},\n",
       " {'e1': 5.083378434770471, 'e2': 7.2518090770103045, 'e3': 6.816850935702239, 'e4': 8.541016202980629, 'e5': 7.153750354486557},\n",
       " {'e1': 7.0104169655989566, 'e2': 7.7964530347996766, 'e3': 7.034948237607306, 'e4': 6.910080452106922, 'e5': 7.973499786362041},\n",
       " {'e1': 7.219211224686995, 'e2': 6.532644813337054, 'e3': 6.213573795028667, 'e4': 6.202609394681966, 'e5': 5.411014723517885},\n",
       " {'e1': 5.872157820027646, 'e2': 7.922595700487526, 'e3': 7.236594085421202, 'e4': 7.873287894907546, 'e5': 5.419076165179524},\n",
       " {'e1': 3.0900866699209963, 'e2': 8.611751196178849, 'e3': 7.8895770533520615, 'e4': 7.6026615219303375, 'e5': 5.941039549883747},\n",
       " {'e1': 7.31015092084223, 'e2': 5.544233432148937, 'e3': 9.265165474676898, 'e4': 5.670647394802346, 'e5': 6.08754258936228},\n",
       " {'e1': 5.335708481871748, 'e2': 6.856159602428404, 'e3': 6.239322917593456, 'e4': 5.025715174449141, 'e5': 7.359126905422903},\n",
       " {'e1': 7.991491769390137, 'e2': 8.415194434657876, 'e3': 5.466163109944249, 'e4': 6.872804691309014, 'e5': 7.68179571404701},\n",
       " {'e1': 7.0195505306063435, 'e2': 7.510424052870806, 'e3': 7.286574108835865, 'e4': 7.306454886992542, 'e5': 4.211694325172295},\n",
       " {'e1': 6.771244121772884, 'e2': 7.571742613960471, 'e3': 6.36428037317712, 'e4': 6.594423505703258, 'e5': 6.963050859945996},\n",
       " {'e1': 6.175324167726663, 'e2': 6.528772519841176, 'e3': 4.474832667638873, 'e4': 6.722045038452368, 'e5': 7.109927367592102},\n",
       " {'e1': 7.501855107704761, 'e2': 7.43965032475508, 'e3': 7.352048916852974, 'e4': 6.402071547525274, 'e5': 7.422145853979601},\n",
       " {'e1': 8.085059953528173, 'e2': 6.869549248231691, 'e3': 7.965801918540886, 'e4': 6.99565886309317, 'e5': 5.990351358094807},\n",
       " {'e1': 6.440469229643111, 'e2': 5.894024786325389, 'e3': 6.704955972072187, 'e4': 7.909212521153097, 'e5': 7.011303766282906},\n",
       " {'e1': 6.445155341184555, 'e2': 6.9964237741779485, 'e3': 6.674833437406936, 'e4': 7.3564569757991585, 'e5': 6.370571923636342},\n",
       " {'e1': 8.662050724522437, 'e2': 7.099149944619405, 'e3': 8.017618123028038, 'e4': 7.474447630087953, 'e5': 6.87313635087577},\n",
       " {'e1': 7.691869408708087, 'e2': 6.003903890912706, 'e3': 6.063829826073536, 'e4': 9.706340925895885, 'e5': 5.289792155896818},\n",
       " {'e1': 10.00563555861107, 'e2': 8.297296401830629, 'e3': 4.641039700823005, 'e4': 7.315421856239453, 'e5': 7.794968402896693},\n",
       " {'e1': 7.096804452430732, 'e2': 4.82760312258021, 'e3': 7.975591170906488, 'e4': 7.611877536236757, 'e5': 8.270044871908759},\n",
       " {'e1': 5.492267681912239, 'e2': 8.651089103877032, 'e3': 4.984053075572078, 'e4': 3.85956455840337, 'e5': 6.733708490196949},\n",
       " {'e1': 7.458169847629009, 'e2': 7.225013005784837, 'e3': 7.615821202489431, 'e4': 7.577616044994477, 'e5': 5.93138421492387},\n",
       " {'e1': 7.040421184799076, 'e2': 8.60391424764787, 'e3': 6.400485704542181, 'e4': 7.316440433879958, 'e5': 8.299684097843693},\n",
       " {'e1': 7.354662929710784, 'e2': 7.090713745722382, 'e3': 5.924892702036443, 'e4': 7.131855560157106, 'e5': 5.782625569462219},\n",
       " {'e1': 6.281083721975771, 'e2': 4.404281807197771, 'e3': 8.275653287059775, 'e4': 6.96198750112586, 'e5': 9.03914602869237},\n",
       " {'e1': 8.07457839630871, 'e2': 5.984135441412902, 'e3': 7.913339551965851, 'e4': 7.480713478080822, 'e5': 6.673658073060347},\n",
       " {'e1': 5.867044385505552, 'e2': 6.496985734523975, 'e3': 7.553744839450159, 'e4': 8.467314738195153, 'e5': 6.786214307559698},\n",
       " {'e1': 8.01895277279632, 'e2': 6.719861144455776, 'e3': 7.190322137902756, 'e4': 7.2219750380208785, 'e5': 5.5913920118141975},\n",
       " {'e1': 5.794402266921012, 'e2': 5.994018092330198, 'e3': 5.246373635261559, 'e4': 6.254959004462071, 'e5': 5.756558539539969},\n",
       " {'e1': 7.020883128333625, 'e2': 6.9769742966636334, 'e3': 8.121946471923312, 'e4': 9.432576666716097, 'e5': 7.883914433787141},\n",
       " {'e1': 5.923444632777757, 'e2': 6.831912830170101, 'e3': 8.172521590704026, 'e4': 6.454752405270739, 'e5': 7.8298389411286315},\n",
       " {'e1': 5.817231715863246, 'e2': 7.070669874272373, 'e3': 5.712146297914733, 'e4': 7.170991789854744, 'e5': 7.598770663926073},\n",
       " {'e1': 5.418994571141301, 'e2': 6.868446394816804, 'e3': 5.837420459806276, 'e4': 6.1528246761512095, 'e5': 6.502290913212914},\n",
       " {'e1': 5.970174009160119, 'e2': 6.3871845754919905, 'e3': 7.2593108871510745, 'e4': 7.2522797781403785, 'e5': 5.682317917934443},\n",
       " {'e1': 7.757293554197993, 'e2': 5.826396227919409, 'e3': 6.877642116972576, 'e4': 8.286476598736424, 'e5': 6.083041927814931},\n",
       " {'e1': 8.382469098553639, 'e2': 8.422983973078276, 'e3': 5.815706507390306, 'e4': 5.456160062321395, 'e5': 5.935270948381994},\n",
       " {'e1': 8.923799126139428, 'e2': 6.655876857678437, 'e3': 7.766756286335545, 'e4': 7.3070369349356215, 'e5': 4.903329607215923},\n",
       " {'e1': 6.719980438161787, 'e2': 7.355441684882617, 'e3': 7.452034340774166, 'e4': 8.684873823382393, 'e5': 7.245164761848098},\n",
       " {'e1': 6.758434405390925, 'e2': 5.485127167417369, 'e3': 6.006010423947463, 'e4': 6.919813944903624, 'e5': 7.5771478671979775},\n",
       " {'e1': 6.874856646896891, 'e2': 6.478284845620358, 'e3': 8.181039847671387, 'e4': 7.606827448600378, 'e5': 4.963757111655099},\n",
       " {'e1': 8.90274056473001, 'e2': 6.9773487024441865, 'e3': 6.051050855879499, 'e4': 6.223247573381848, 'e5': 7.556381966858891},\n",
       " {'e1': 4.7488652211176, 'e2': 7.152844079986183, 'e3': 7.117163138168269, 'e4': 7.209158913388114, 'e5': 5.224529154905542},\n",
       " {'e1': 5.35324466697758, 'e2': 6.176392462434548, 'e3': 5.655381962711696, 'e4': 7.518658042863678, 'e5': 7.822986253001042},\n",
       " {'e1': 8.431579803873312, 'e2': 6.30134922980322, 'e3': 5.951349371159805, 'e4': 5.87222118930527, 'e5': 7.600437783576772},\n",
       " {'e1': 6.042460662938684, 'e2': 6.23680553918659, 'e3': 7.138534703798563, 'e4': 7.149978406111324, 'e5': 6.487010360755586},\n",
       " {'e1': 6.171868894345775, 'e2': 7.7768801744244, 'e3': 9.319302531001709, 'e4': 6.32278688720605, 'e5': 6.090423539714897},\n",
       " {'e1': 8.581904180559356, 'e2': 5.774244497733484, 'e3': 6.587552311332686, 'e4': 8.50094794278192, 'e5': 5.826929841752126},\n",
       " {'e1': 5.539517781812858, 'e2': 6.476784379883828, 'e3': 6.499693433196313, 'e4': 4.67464514501974, 'e5': 7.630452971295188},\n",
       " {'e1': 6.350708450865126, 'e2': 7.642855744386969, 'e3': 4.97281870045444, 'e4': 6.528516538685245, 'e5': 6.778287347713851},\n",
       " {'e1': 8.38675179602081, 'e2': 8.61691471344798, 'e3': 6.644683090291288, 'e4': 5.759519484845076, 'e5': 9.332886509448452},\n",
       " {'e1': 7.304976733135952, 'e2': 5.933077329863771, 'e3': 6.737251210927713, 'e4': 6.461651054080205, 'e5': 7.6123677759041515},\n",
       " {'e1': 6.188954417011883, 'e2': 5.401516748473044, 'e3': 5.596582354676767, 'e4': 5.90836723831361, 'e5': 7.379610645596008},\n",
       " {'e1': 7.41293808744935, 'e2': 8.15885259549486, 'e3': 6.7292307251931005, 'e4': 6.782935902757931, 'e5': 4.233566131513388},\n",
       " {'e1': 5.972436861039033, 'e2': 6.016807207163283, 'e3': 6.220892733206604, 'e4': 7.8530254973097655, 'e5': 5.812959838982767},\n",
       " {'e1': 5.524953727113405, 'e2': 8.274133237531279, 'e3': 5.320617323824662, 'e4': 9.389256091006603, 'e5': 7.966855937130566},\n",
       " {'e1': 7.829884749038001, 'e2': 5.857008272495709, 'e3': 5.396539355964623, 'e4': 7.942412018523282, 'e5': 6.198020871025154},\n",
       " {'e1': 6.512102763203726, 'e2': 6.002338759615986, 'e3': 7.211935391947459, 'e4': 6.196937105004006, 'e5': 6.076085195690105},\n",
       " {'e1': 7.375938907621849, 'e2': 7.2700844147796415, 'e3': 7.834730712301904, 'e4': 8.027272971920446, 'e5': 6.05056552891475},\n",
       " {'e1': 7.546012418790364, 'e2': 6.730887359682262, 'e3': 7.808784942165762, 'e4': 7.592862878923649, 'e5': 7.388592354120389},\n",
       " {'e1': 6.26539389724403, 'e2': 5.114023497751349, 'e3': 5.420622140473268, 'e4': 7.3839839628016355, 'e5': 7.859707507855675},\n",
       " {'e1': 6.651571489765342, 'e2': 7.269998546302881, 'e3': 9.653565823158436, 'e4': 9.113435912910132, 'e5': 6.750808399191184},\n",
       " {'e1': 5.391983569844591, 'e2': 7.839833010264797, 'e3': 7.9161035866276634, 'e4': 5.91120430706936, 'e5': 6.053835096602381},\n",
       " {'e1': 4.941483164725642, 'e2': 6.948166652126893, 'e3': 5.635396848737251, 'e4': 6.430720230017686, 'e5': 6.288887471041309},\n",
       " {'e1': 8.481182633004929, 'e2': 5.835804597552467, 'e3': 7.118185441287242, 'e4': 6.176270116445302, 'e5': 9.249976870321195},\n",
       " {'e1': 7.7727784624026, 'e2': 7.098357855387714, 'e3': 6.370227108425687, 'e4': 6.109621717928706, 'e5': 6.912142618802415},\n",
       " {'e1': 7.619620258186869, 'e2': 5.334291871599179, 'e3': 7.990214382892039, 'e4': 7.923708631472879, 'e5': 7.882896117426721},\n",
       " {'e1': 4.54081248809594, 'e2': 5.753663824507628, 'e3': 7.167851112966127, 'e4': 6.471500083729539, 'e5': 7.840648352020738},\n",
       " {'e1': 8.732152943784767, 'e2': 6.950374655221134, 'e3': 7.178724344527595, 'e4': 5.994437927625609, 'e5': 9.378650345342312},\n",
       " {'e1': 8.504143691490903, 'e2': 6.0707728154012175, 'e3': 7.985404368481484, 'e4': 7.734116995705591, 'e5': 6.611424602527206},\n",
       " {'e1': 7.911591080825294, 'e2': 6.592020802465988, 'e3': 6.190072284509509, 'e4': 6.657851337859446, 'e5': 8.162689190710546},\n",
       " {'e1': 7.133906998675434, 'e2': 8.059144975392691, 'e3': 5.816607040234459, 'e4': 8.258860458396333, 'e5': 7.044832727901111},\n",
       " {'e1': 5.54558147412137, 'e2': 6.8270793344933915, 'e3': 7.849286815805224, 'e4': 8.062770369810568, 'e5': 7.299838430394173},\n",
       " {'e1': 6.743482454424412, 'e2': 7.935282765315387, 'e3': 7.089714248762704, 'e4': 7.083445513817928, 'e5': 5.582847262485152},\n",
       " {'e1': 5.854799511524539, 'e2': 6.399689870377323, 'e3': 5.935257711053479, 'e4': 6.521492928948101, 'e5': 6.895271508638675},\n",
       " {'e1': 6.623916014623962, 'e2': 6.651222424664288, 'e3': 8.151289321803738, 'e4': 8.411713819080266, 'e5': 5.708828726077938},\n",
       " {'e1': 4.3958983066855035, 'e2': 6.48298699466285, 'e3': 8.744373464204982, 'e4': 5.329891934295209, 'e5': 6.566958574133429},\n",
       " {'e1': 5.256337386745331, 'e2': 6.930045542294936, 'e3': 7.733691075803434, 'e4': 6.9414065281416715, 'e5': 7.2879905701053564},\n",
       " {'e1': 6.233144057124877, 'e2': 6.463850617876619, 'e3': 6.9489222576436145, 'e4': 5.4885991292566, 'e5': 7.48043291021165},\n",
       " {'e1': 8.069889467409707, 'e2': 6.149819972467103, 'e3': 8.80402079646608, 'e4': 7.656450354154912, 'e5': 6.78228975953219},\n",
       " {'e1': 7.5565094218768225, 'e2': 6.093310284418869, 'e3': 7.107469130238188, 'e4': 5.271345195735889, 'e5': 7.8149165107872065},\n",
       " {'e1': 6.252291655358042, 'e2': 6.7256543038144025, 'e3': 5.09062112444543, 'e4': 7.006863359911278, 'e5': 5.311858828534852},\n",
       " {'e1': 7.669832493945634, 'e2': 8.076439470489673, 'e3': 7.714684406803685, 'e4': 8.295762871869687, 'e5': 8.766012132501713},\n",
       " {'e1': 7.384167816731689, 'e2': 6.748285303499473, 'e3': 7.4625492078145985, 'e4': 7.910087054371414, 'e5': 7.23769671791633},\n",
       " {'e1': 7.035795706246652, 'e2': 7.3878622364576305, 'e3': 5.381631625678183, 'e4': 5.939972675461773, 'e5': 8.248780928937254},\n",
       " {'e1': 7.903261008543543, 'e2': 7.11607985031506, 'e3': 8.18295470990101, 'e4': 6.6315599757228965, 'e5': 6.408953793188152},\n",
       " {'e1': 9.931865116311315, 'e2': 7.935080787266106, 'e3': 7.011386829176466, 'e4': 5.3504421959518575, 'e5': 6.030675644787427},\n",
       " {'e1': 8.506471871988941, 'e2': 6.4011421785925116, 'e3': 8.221966747513074, 'e4': 6.2274182372907045, 'e5': 6.687530211024736},\n",
       " {'e1': 6.923432269630453, 'e2': 9.339983649999265, 'e3': 5.444483342344366, 'e4': 9.3621889586788, 'e5': 8.75368996548146},\n",
       " {'e1': 7.401934173305975, 'e2': 8.336440109900716, 'e3': 7.360918203521821, 'e4': 7.681404462489537, 'e5': 6.877266578983902},\n",
       " {'e1': 7.346419404091326, 'e2': 6.7852322925995, 'e3': 5.962351733378981, 'e4': 6.383834906204924, 'e5': 7.022578349294699},\n",
       " {'e1': 6.35861295285019, 'e2': 6.682663993385322, 'e3': 6.729498960682241, 'e4': 6.42275543868813, 'e5': 8.306960944701196},\n",
       " {'e1': 5.810043729790003, 'e2': 8.036006475078699, 'e3': 7.7948050144214855, 'e4': 6.803688584848241, 'e5': 6.951936061178911},\n",
       " {'e1': 7.344246711221665, 'e2': 7.7526573435181145, 'e3': 5.051750908264264, 'e4': 8.050484611298655, 'e5': 6.446212689742092},\n",
       " {'e1': 7.810080154551775, 'e2': 7.715938155016883, 'e3': 7.4960974008562875, 'e4': 7.03155694885752, 'e5': 8.1388358609833},\n",
       " {'e1': 6.855384983128001, 'e2': 7.83461477340172, 'e3': 5.4729212122770585, 'e4': 7.0358895229361895, 'e5': 7.600264751150232},\n",
       " {'e1': 6.78796154934464, 'e2': 3.801742287725954, 'e3': 6.406204678690788, 'e4': 6.589766339824744, 'e5': 5.948351856462939},\n",
       " {'e1': 7.996925591310655, 'e2': 7.7698882225828205, 'e3': 6.979364073005381, 'e4': 7.668342459002783, 'e5': 6.936091869509984},\n",
       " {'e1': 8.277728282976891, 'e2': 8.619991258223651, 'e3': 8.471304389199553, 'e4': 7.638727902758836, 'e5': 6.417006632919207},\n",
       " {'e1': 5.586814371341738, 'e2': 5.235441587150418, 'e3': 7.450683106002068, 'e4': 6.533779491492377, 'e5': 8.472842648280215},\n",
       " {'e1': 6.996393440289596, 'e2': 6.723323530798707, 'e3': 6.286336105364922, 'e4': 6.453471904525623, 'e5': 6.489316257777752},\n",
       " {'e1': 6.977485759018393, 'e2': 6.314102981357225, 'e3': 6.727467406856078, 'e4': 7.222020912078135, 'e5': 4.868600485524392},\n",
       " {'e1': 5.657382904994142, 'e2': 5.094109026716014, 'e3': 5.438514904545051, 'e4': 7.252040572732668, 'e5': 7.50609429641591},\n",
       " {'e1': 7.575570334681167, 'e2': 8.143894459489351, 'e3': 7.334828154496993, 'e4': 6.260924092491835, 'e5': 6.111856780437126},\n",
       " {'e1': 7.465780873985361, 'e2': 7.853186623504203, 'e3': 6.637692313237574, 'e4': 7.502450961476994, 'e5': 8.529094535815604},\n",
       " {'e1': 5.503614263502283, 'e2': 5.968549901510085, 'e3': 7.09551305600713, 'e4': 5.758562740825726, 'e5': 5.775960509818766},\n",
       " {'e1': 7.6168411072610755, 'e2': 6.57756855343117, 'e3': 6.352170508975888, 'e4': 4.091726881323707, 'e5': 7.0452026196709046},\n",
       " {'e1': 7.585450744746388, 'e2': 6.39027021355596, 'e3': 9.877938625477306, 'e4': 6.313497059859035, 'e5': 6.91376710693871},\n",
       " {'e1': 8.142721592605309, 'e2': 6.5665602047560085, 'e3': 8.21469747612338, 'e4': 9.307286229641976, 'e5': 6.225341207431486},\n",
       " {'e1': 7.05134176080736, 'e2': 7.557415531722404, 'e3': 7.489148848457261, 'e4': 4.997347036591151, 'e5': 7.635176744851607},\n",
       " {'e1': 6.844343722427323, 'e2': 6.260577580123524, 'e3': 7.424893522356743, 'e4': 6.0793117847797955, 'e5': 8.704470545129391},\n",
       " {'e1': 7.630930576731826, 'e2': 6.297558800813333, 'e3': 5.346552459476371, 'e4': 7.793942363216416, 'e5': 7.786063633682288},\n",
       " {'e1': 8.796406456560796, 'e2': 6.389027921228136, 'e3': 5.6954733955072445, 'e4': 6.021238130830902, 'e5': 6.94435828175056},\n",
       " {'e1': 7.447643837818021, 'e2': 4.421174037882197, 'e3': 7.306570613888082, 'e4': 6.803297772732922, 'e5': 7.448803637352782},\n",
       " {'e1': 8.274794409716288, 'e2': 7.647591280157214, 'e3': 6.995839003271996, 'e4': 5.8157657469816915, 'e5': 8.284207465065508},\n",
       " {'e1': 9.004355923842805, 'e2': 4.530883917610501, 'e3': 6.985059466850618, 'e4': 6.420697979300039, 'e5': 5.687912517563124},\n",
       " {'e1': 6.431073369274921, 'e2': 4.911219174521433, 'e3': 5.64576574112301, 'e4': 8.809864595441024, 'e5': 6.361851104446469},\n",
       " {'e1': 8.082475151630051, 'e2': 6.748325037733129, 'e3': 5.660297978179256, 'e4': 6.466504404103092, 'e5': 7.661189022718363},\n",
       " {'e1': 7.932476483162544, 'e2': 4.615480938413328, 'e3': 6.412346296887543, 'e4': 6.96648818649104, 'e5': 7.627829013195948},\n",
       " {'e1': 6.654249136006258, 'e2': 7.968116482161774, 'e3': 7.8938424110091185, 'e4': 7.430682587402058, 'e5': 6.03598948274723},\n",
       " {'e1': 5.7915701610658035, 'e2': 8.121158960773721, 'e3': 8.04631121918729, 'e4': 6.824246427447782, 'e5': 7.1514161363927595},\n",
       " {'e1': 6.27540465744955, 'e2': 7.813757736022325, 'e3': 8.19075007482574, 'e4': 6.873129161037987, 'e5': 7.6022610118657346},\n",
       " {'e1': 7.826492684523616, 'e2': 6.93377220033634, 'e3': 6.401988723641806, 'e4': 5.554884534925341, 'e5': 7.464143017676273},\n",
       " {'e1': 6.24296405460443, 'e2': 5.097063742291895, 'e3': 6.212155493676532, 'e4': 7.617659591684966, 'e5': 4.933089521116802},\n",
       " {'e1': 7.320308772127245, 'e2': 5.86669311793766, 'e3': 6.621284775876276, 'e4': 6.227229729774914, 'e5': 7.176051959794939},\n",
       " {'e1': 6.8095269750684135, 'e2': 6.3866714007452865, 'e3': 7.0349979713827215, 'e4': 7.562860957788442, 'e5': 7.755430359750172},\n",
       " {'e1': 6.722100266970879, 'e2': 8.81890248709636, 'e3': 5.678670018607896, 'e4': 7.7021585383945235, 'e5': 6.564496672751204},\n",
       " {'e1': 7.51751897350338, 'e2': 6.626486087765155, 'e3': 7.145349759932765, 'e4': 7.405934108606635, 'e5': 7.126848477372468},\n",
       " {'e1': 7.244394626706997, 'e2': 7.696361256216348, 'e3': 7.332791796872261, 'e4': 7.668752991444236, 'e5': 8.133755800028872},\n",
       " {'e1': 6.026104179452531, 'e2': 8.487019684136163, 'e3': 6.078525202085849, 'e4': 7.778955843377759, 'e5': 9.438638882380499},\n",
       " {'e1': 7.432388184717325, 'e2': 4.860581230566075, 'e3': 7.549651233083843, 'e4': 6.587182756405724, 'e5': 7.361872314311561},\n",
       " {'e1': 8.565568682581278, 'e2': 5.954652608449644, 'e3': 7.36097288091596, 'e4': 8.103260054254852, 'e5': 6.330916719919329},\n",
       " {'e1': 7.329780198697008, 'e2': 4.869113825575512, 'e3': 5.6775857805830805, 'e4': 7.580249270173233, 'e5': 7.262130163559772},\n",
       " {'e1': 6.639088784046066, 'e2': 8.082397824156315, 'e3': 7.255766451571439, 'e4': 8.179942583722537, 'e5': 7.1920013671498575},\n",
       " {'e1': 7.122537666312266, 'e2': 5.373661763721571, 'e3': 6.056467488492141, 'e4': 5.023628090019518, 'e5': 6.89115069951428},\n",
       " {'e1': 7.504392787303396, 'e2': 5.739620951473221, 'e3': 7.885584752040488, 'e4': 5.844750749805021, 'e5': 8.614815843527133},\n",
       " {'e1': 5.831665571685417, 'e2': 8.831151905942079, 'e3': 8.960629556455473, 'e4': 8.233450301206599, 'e5': 6.906194064624735},\n",
       " {'e1': 8.125038531521835, 'e2': 7.375088494014197, 'e3': 7.245627981881354, 'e4': 6.402422263951829, 'e5': 7.431665532961085},\n",
       " {'e1': 6.853939115530239, 'e2': 8.871624199507592, 'e3': 9.102486506503693, 'e4': 7.185952404990839, 'e5': 8.185235971156983},\n",
       " {'e1': 8.413452012113556, 'e2': 5.650502992196641, 'e3': 5.92930197743804, 'e4': 6.643985075542866, 'e5': 7.8790504767841085},\n",
       " {'e1': 6.186302263503338, 'e2': 6.271524343541605, 'e3': 5.345351025589981, 'e4': 6.440701901850924, 'e5': 7.314813028164032},\n",
       " {'e1': 8.962562749790616, 'e2': 5.726208959576742, 'e3': 7.092040538891268, 'e4': 7.234977928485315, 'e5': 7.370910748690979},\n",
       " {'e1': 5.559082473365986, 'e2': 7.604753871752286, 'e3': 7.136218234029125, 'e4': 6.492719223773953, 'e5': 7.413938753353971},\n",
       " {'e1': 6.713139509788959, 'e2': 8.813415744640805, 'e3': 7.72912968358161, 'e4': 6.776754058960439, 'e5': 6.655692078265115},\n",
       " {'e1': 7.514779760542753, 'e2': 7.086961652044598, 'e3': 7.194795443027731, 'e4': 6.7807726369431816, 'e5': 7.993754387725025},\n",
       " {'e1': 6.445590329321398, 'e2': 7.8662592334710695, 'e3': 8.42964108303186, 'e4': 9.343039720881846, 'e5': 5.579133899820003},\n",
       " {'e1': 4.844436344991914, 'e2': 5.5238170434108165, 'e3': 6.434705097815017, 'e4': 7.230591210206086, 'e5': 7.484136501252458},\n",
       " {'e1': 6.548212135548113, 'e2': 8.970287371641588, 'e3': 7.6760187614259, 'e4': 7.006411141093202, 'e5': 5.5787691524653535},\n",
       " {'e1': 6.166126886653863, 'e2': 5.619581982857595, 'e3': 5.359238506931579, 'e4': 8.550443534963115, 'e5': 7.928292220415266},\n",
       " {'e1': 4.980242578907995, 'e2': 4.537382756244014, 'e3': 5.549506597445509, 'e4': 7.352118082799546, 'e5': 7.415352816234823},\n",
       " {'e1': 7.118361473018201, 'e2': 8.369730061658908, 'e3': 8.036050762886118, 'e4': 7.327905827691709, 'e5': 6.192661221806096},\n",
       " {'e1': 7.201531139420638, 'e2': 7.671878331122955, 'e3': 6.473915645271091, 'e4': 7.1304027322235495, 'e5': 6.421086358838261},\n",
       " {'e1': 6.822280418926615, 'e2': 8.475708108698399, 'e3': 7.502536386704618, 'e4': 6.780173835918482, 'e5': 7.505750774032071},\n",
       " {'e1': 7.082671275147315, 'e2': 7.801853160285076, 'e3': 7.844667077138857, 'e4': 7.549406544864612, 'e5': 6.920921804271921},\n",
       " {'e1': 8.152092705360857, 'e2': 6.3177779708516395, 'e3': 6.2656078322991355, 'e4': 7.011487481809928, 'e5': 7.007488807833762},\n",
       " {'e1': 8.490129798375557, 'e2': 6.512640933122297, 'e3': 6.335815097336101, 'e4': 7.269179598668923, 'e5': 6.126766788249792},\n",
       " {'e1': 7.995010325950274, 'e2': 9.187401471398253, 'e3': 6.444503145407522, 'e4': 7.452935764240612, 'e5': 7.680042232499944},\n",
       " {'e1': 7.9204903753328475, 'e2': 6.861409749896195, 'e3': 8.467489636167548, 'e4': 7.375199927458819, 'e5': 7.34624661956578},\n",
       " {'e1': 5.780692393548519, 'e2': 6.653661327831227, 'e3': 6.22728159964438, 'e4': 6.2241455413419775, 'e5': 7.5138897714238695},\n",
       " {'e1': 5.743112143056339, 'e2': 7.4042761385622855, 'e3': 5.285174262817429, 'e4': 5.84986013034895, 'e5': 9.465857150295362},\n",
       " {'e1': 5.557619484338648, 'e2': 6.866898708085641, 'e3': 5.663438071949471, 'e4': 7.8819748497084205, 'e5': 7.147761425439584},\n",
       " {'e1': 6.7271964892093035, 'e2': 5.330533451618979, 'e3': 6.893886119232246, 'e4': 6.9859384063686765, 'e5': 8.93353999465442},\n",
       " {'e1': 6.805086172737426, 'e2': 5.352389418461772, 'e3': 6.359659076934586, 'e4': 5.920977778958522, 'e5': 6.344670451084807},\n",
       " {'e1': 4.710420920623937, 'e2': 7.178783763525928, 'e3': 7.829510112883744, 'e4': 7.824694016504291, 'e5': 8.64703412524773},\n",
       " {'e1': 8.071672053398911, 'e2': 8.359271477196275, 'e3': 5.215267867322152, 'e4': 7.339036333595501, 'e5': 9.390851777044409},\n",
       " {'e1': 7.544442131878019, 'e2': 6.047085962218844, 'e3': 7.112670621596745, 'e4': 6.524007957105123, 'e5': 8.846465494664942},\n",
       " {'e1': 5.355924374296988, 'e2': 6.21526441045977, 'e3': 6.4834152512055745, 'e4': 8.384561109333106, 'e5': 8.091250662014046},\n",
       " {'e1': 5.04023323652775, 'e2': 7.691318554228364, 'e3': 5.939653545777657, 'e4': 7.008659717157838, 'e5': 5.456517631134862},\n",
       " {'e1': 8.247232363798057, 'e2': 5.822257897186141, 'e3': 5.0113037055067124, 'e4': 7.106280080136708, 'e5': 6.402685331510417},\n",
       " {'e1': 6.926611547871339, 'e2': 6.923069204682619, 'e3': 8.644940193468049, 'e4': 7.030811872126411, 'e5': 6.972810280718292},\n",
       " {'e1': 6.459175479993923, 'e2': 8.367412236770653, 'e3': 5.060993595272266, 'e4': 7.59709078183959, 'e5': 5.538513758248765},\n",
       " {'e1': 6.799033683591233, 'e2': 7.078666412343993, 'e3': 8.133199336810666, 'e4': 6.874840907136407, 'e5': 7.971635557164006},\n",
       " {'e1': 8.785877792569165, 'e2': 8.01941240270266, 'e3': 9.292630748039265, 'e4': 8.16945687855704, 'e5': 6.715156850216554},\n",
       " {'e1': 6.895053050185058, 'e2': 5.347401473153887, 'e3': 6.9554866105101105, 'e4': 6.4105859348466865, 'e5': 7.100968321152493},\n",
       " {'e1': 6.987828741724495, 'e2': 5.703772386372312, 'e3': 5.280053939909547, 'e4': 8.466603176136651, 'e5': 7.299394727294293},\n",
       " {'e1': 4.9051037874846415, 'e2': 6.692908782916419, 'e3': 5.653107461719748, 'e4': 7.553759034692811, 'e5': 4.7791959022622335},\n",
       " {'e1': 5.938809299432043, 'e2': 6.62917805607632, 'e3': 8.750377807828785, 'e4': 5.133823544159599, 'e5': 6.557660374590189},\n",
       " {'e1': 5.666931668016351, 'e2': 6.733768732786592, 'e3': 7.3675873510084715, 'e4': 6.247172500853212, 'e5': 7.18993834753718},\n",
       " {'e1': 9.816345146941968, 'e2': 8.542629236508448, 'e3': 6.9970048984834925, 'e4': 6.606144819403206, 'e5': 6.580809318448381},\n",
       " {'e1': 7.196149641628877, 'e2': 8.006854914291523, 'e3': 7.882927000715361, 'e4': 8.686961192017565, 'e5': 7.638265928329177},\n",
       " {'e1': 6.057792398181293, 'e2': 7.114755659789008, 'e3': 6.240647640767444, 'e4': 9.232709055255306, 'e5': 6.750794488658849},\n",
       " {'e1': 7.129708557533524, 'e2': 7.2210949423714395, 'e3': 7.648417333989348, 'e4': 5.49514378006595, 'e5': 6.72729795073975},\n",
       " {'e1': 7.246013682440076, 'e2': 6.756987277640851, 'e3': 6.395346497458077, 'e4': 7.234018905603922, 'e5': 6.073503994019919},\n",
       " {'e1': 7.128538905233076, 'e2': 6.6540972064943285, 'e3': 5.269354351855511, 'e4': 7.70996329210675, 'e5': 5.92046950439922},\n",
       " {'e1': 5.976406994312411, 'e2': 6.546020700513024, 'e3': 6.1015150233581545, 'e4': 6.060653814635234, 'e5': 5.936637803358592},\n",
       " {'e1': 7.62535356465232, 'e2': 6.773007813129904, 'e3': 8.004282583667369, 'e4': 4.888885287607122, 'e5': 6.750416870446177},\n",
       " {'e1': 6.492347409231907, 'e2': 6.862183317859738, 'e3': 9.207976260831417, 'e4': 7.392671692433517, 'e5': 5.864236078457402},\n",
       " {'e1': 6.3974420718113025, 'e2': 6.652159104991029, 'e3': 5.250838332756745, 'e4': 7.4295610095072, 'e5': 7.410595709069951},\n",
       " {'e1': 8.953715943244298, 'e2': 7.66552367983088, 'e3': 5.7574819819293, 'e4': 6.461093174784685, 'e5': 5.514663383087185},\n",
       " {'e1': 6.440745794493019, 'e2': 7.496467892918151, 'e3': 9.515022889589137, 'e4': 6.577239668702997, 'e5': 9.5897969124508},\n",
       " {'e1': 7.374245324786611, 'e2': 8.98929289581612, 'e3': 8.008510506869772, 'e4': 8.077078905271895, 'e5': 7.909850961629249},\n",
       " {'e1': 8.03877810262679, 'e2': 7.321636308385087, 'e3': 5.615320773313829, 'e4': 5.822604419498559, 'e5': 8.10385881851018},\n",
       " {'e1': 6.635359771949506, 'e2': 7.016206182480341, 'e3': 7.886770529868114, 'e4': 8.05015370392701, 'e5': 6.571264769203173},\n",
       " {'e1': 8.643956768554625, 'e2': 8.46775897714771, 'e3': 6.227136491588739, 'e4': 5.874115083081127, 'e5': 5.792224112039296},\n",
       " {'e1': 7.626804116990224, 'e2': 5.762676160443946, 'e3': 8.67580398304947, 'e4': 6.967024813452102, 'e5': 9.373373142986416},\n",
       " {'e1': 4.681510110435925, 'e2': 6.823897562422801, 'e3': 7.232134606681064, 'e4': 6.85401044402639, 'e5': 6.7630209471679},\n",
       " {'e1': 8.16036720612951, 'e2': 6.124765878831237, 'e3': 7.70284340861981, 'e4': 5.3412899724097125, 'e5': 8.406069064794773},\n",
       " {'e1': 7.68206734220173, 'e2': 4.130697150321409, 'e3': 7.920169091748573, 'e4': 5.851290489925432, 'e5': 6.773573104054663},\n",
       " {'e1': 8.103425019950894, 'e2': 5.889478622940122, 'e3': 7.417975336233786, 'e4': 7.57095008599956, 'e5': 6.045803690728359},\n",
       " {'e1': 6.942053429395255, 'e2': 5.258730014601405, 'e3': 7.697345306010144, 'e4': 5.745479130793514, 'e5': 4.691302317145963},\n",
       " {'e1': 5.018209480492729, 'e2': 7.842044916258488, 'e3': 6.3381576132168185, 'e4': 5.691176557044371, 'e5': 7.188671131510712},\n",
       " {'e1': 6.132589162209131, 'e2': 8.768214913836337, 'e3': 7.24694391407386, 'e4': 6.0345491699081455, 'e5': 8.186047534556716},\n",
       " {'e1': 7.758560082028547, 'e2': 7.3070056050745515, 'e3': 9.387929404364542, 'e4': 7.308657864486632, 'e5': 6.28239496218457},\n",
       " {'e1': 7.246222769960042, 'e2': 6.773445152455611, 'e3': 8.825278042828216, 'e4': 7.525719638052992, 'e5': 7.316501793298534},\n",
       " {'e1': 4.860867275971712, 'e2': 8.198558879141574, 'e3': 7.666017036876889, 'e4': 7.0770533846419745, 'e5': 8.036103893267176},\n",
       " {'e1': 7.35741062294222, 'e2': 5.727009213441031, 'e3': 8.167988774833399, 'e4': 6.507237728201132, 'e5': 6.850392706398932},\n",
       " {'e1': 7.7764665749533055, 'e2': 6.923873525640509, 'e3': 7.13177376825947, 'e4': 5.3157830867835605, 'e5': 7.488337360494556},\n",
       " {'e1': 7.017232303075323, 'e2': 7.04778960042028, 'e3': 7.2872824513088315, 'e4': 7.273424867657113, 'e5': 6.452385735337601},\n",
       " {'e1': 5.622986612843006, 'e2': 6.880741679745402, 'e3': 9.165080715159274, 'e4': 4.973950785259428, 'e5': 8.94068010302611},\n",
       " {'e1': 8.799899288672641, 'e2': 8.071904756636258, 'e3': 8.096204190231063, 'e4': 7.140974846164007, 'e5': 6.135131527486761},\n",
       " {'e1': 8.653251548576735, 'e2': 6.758709816385503, 'e3': 8.111121422491276, 'e4': 8.11873048601709, 'e5': 6.7903692430955696},\n",
       " {'e1': 8.67548570455117, 'e2': 6.468082270627384, 'e3': 7.270697318980457, 'e4': 5.858321980413493, 'e5': 7.409629935266671},\n",
       " {'e1': 8.744164970197414, 'e2': 8.07644364114561, 'e3': 5.873315177597491, 'e4': 7.969105710478605, 'e5': 8.386533817768411},\n",
       " {'e1': 7.452611980344762, 'e2': 7.084057122998291, 'e3': 6.379668232413957, 'e4': 6.66235524940279, 'e5': 6.157922643112411},\n",
       " {'e1': 7.632015055108181, 'e2': 6.2827135536854595, 'e3': 7.72443586426918, 'e4': 8.470339618774318, 'e5': 6.633734859262512},\n",
       " {'e1': 5.470314337764451, 'e2': 8.90667633710277, 'e3': 4.795011547132728, 'e4': 5.558607819922444, 'e5': 5.2593073775809485},\n",
       " {'e1': 6.938237177956134, 'e2': 6.441668195760257, 'e3': 6.111134167406984, 'e4': 6.412311965919206, 'e5': 7.185860832960977},\n",
       " {'e1': 4.833979443110652, 'e2': 6.473095815390799, 'e3': 6.658095538463925, 'e4': 7.54908292510438, 'e5': 8.703983247297044},\n",
       " {'e1': 6.095205698176394, 'e2': 7.750638316534861, 'e3': 6.657573354189224, 'e4': 6.360166774701144, 'e5': 6.120515133462316},\n",
       " {'e1': 7.175242320035864, 'e2': 7.760695277682485, 'e3': 8.053700834889415, 'e4': 5.795612775652495, 'e5': 7.4962501260035035},\n",
       " {'e1': 7.611169682744916, 'e2': 8.831846445701215, 'e3': 7.408859169698802, 'e4': 6.328199156543574, 'e5': 6.27004637929246},\n",
       " {'e1': 6.315592912398391, 'e2': 6.614051735610086, 'e3': 7.23279090458199, 'e4': 7.444651487166403, 'e5': 5.840574605860041},\n",
       " {'e1': 7.776091622320502, 'e2': 6.1576412955940425, 'e3': 7.00385243902651, 'e4': 6.406883672488936, 'e5': 6.773441183942054},\n",
       " {'e1': 8.781581374930294, 'e2': 6.114267413771654, 'e3': 6.34915905662791, 'e4': 6.521007658439714, 'e5': 6.810623272432964},\n",
       " {'e1': 6.333051810677064, 'e2': 7.982654095902344, 'e3': 7.1984371996415835, 'e4': 5.217606160878075, 'e5': 7.802500851246811},\n",
       " {'e1': 7.579441001923596, 'e2': 7.874937437698045, 'e3': 6.983515767271443, 'e4': 5.30216383114332, 'e5': 9.498295906876667},\n",
       " {'e1': 6.468589066230787, 'e2': 9.101281851319667, 'e3': 7.548450336647206, 'e4': 6.7198770722745795, 'e5': 4.711881355603828},\n",
       " {'e1': 7.815502153589956, 'e2': 7.530420729279738, 'e3': 8.960094639906728, 'e4': 6.341431013107344, 'e5': 7.250208633463154},\n",
       " {'e1': 5.7123416523786705, 'e2': 7.227670638362745, 'e3': 6.722007547300969, 'e4': 5.582177248334656, 'e5': 7.204786220772866},\n",
       " {'e1': 5.967493719899431, 'e2': 6.267079290722501, 'e3': 6.152112373439773, 'e4': 7.194722465369417, 'e5': 7.939195710275419},\n",
       " {'e1': 6.144541589271243, 'e2': 5.178744629100611, 'e3': 6.741862711520499, 'e4': 6.124874028330122, 'e5': 8.286984515903619},\n",
       " {'e1': 6.865732160418332, 'e2': 7.2498687685025605, 'e3': 7.536233444637421, 'e4': 6.294068983848758, 'e5': 6.231979103090119},\n",
       " {'e1': 7.241676271623761, 'e2': 6.77664365423562, 'e3': 7.763101277558395, 'e4': 8.335593867109178, 'e5': 7.283573097302152},\n",
       " {'e1': 8.051614280274155, 'e2': 8.199576027018733, 'e3': 7.561267464628839, 'e4': 8.901277838056437, 'e5': 7.605492143751547},\n",
       " {'e1': 8.092798886343715, 'e2': 6.537801479712948, 'e3': 6.957688885389669, 'e4': 6.700705945558, 'e5': 6.881443609069588},\n",
       " {'e1': 7.188953863825172, 'e2': 6.327138567740975, 'e3': 4.262463444764638, 'e4': 7.652573722929681, 'e5': 8.125444019799465},\n",
       " {'e1': 6.292565939139969, 'e2': 7.7614232839851365, 'e3': 4.9615870793441905, 'e4': 7.035218748137604, 'e5': 7.377258279867437},\n",
       " {'e1': 7.183973864767489, 'e2': 6.7649549005624525, 'e3': 8.583329957025432, 'e4': 8.632616603801587, 'e5': 5.183594948206221},\n",
       " {'e1': 6.079034738770305, 'e2': 7.506029847658704, 'e3': 7.125201730166367, 'e4': 7.164403659467897, 'e5': 6.034626231808581},\n",
       " {'e1': 8.374411640956481, 'e2': 5.063221399673377, 'e3': 7.228935149846338, 'e4': 6.9729446942265145, 'e5': 6.921387983696131},\n",
       " {'e1': 9.552607447521396, 'e2': 7.5986408200204005, 'e3': 6.959526377093922, 'e4': 7.553292969177612, 'e5': 7.076253653233827},\n",
       " {'e1': 7.027714177343714, 'e2': 7.380605166194911, 'e3': 5.993610307201806, 'e4': 6.951820476812982, 'e5': 7.470576897907332},\n",
       " {'e1': 4.866846226970001, 'e2': 6.538008084154334, 'e3': 7.741528696461263, 'e4': 4.944413967512629, 'e5': 6.166063800768685},\n",
       " {'e1': 6.986709711481114, 'e2': 5.563958396456595, 'e3': 7.274265337946882, 'e4': 5.753369053694586, 'e5': 6.607624779932171},\n",
       " {'e1': 5.730814821331842, 'e2': 6.078304702395912, 'e3': 9.44257994197331, 'e4': 6.39890703762301, 'e5': 6.884090699774972},\n",
       " {'e1': 6.956207621160312, 'e2': 5.569606027958774, 'e3': 6.109690238565265, 'e4': 8.898876084627794, 'e5': 7.9770362554324405},\n",
       " {'e1': 6.949105054429026, 'e2': 5.103169963416762, 'e3': 8.2669869699193, 'e4': 6.308162321629444, 'e5': 5.414079447191715},\n",
       " {'e1': 6.723810248141852, 'e2': 6.544548676217995, 'e3': 6.999691485885706, 'e4': 5.304731503439545, 'e5': 7.591508167078025},\n",
       " {'e1': 6.744754455359213, 'e2': 7.947934301207973, 'e3': 6.654220434964014, 'e4': 5.689537037289084, 'e5': 7.107143097696938},\n",
       " {'e1': 6.460548876215769, 'e2': 7.026665581398405, 'e3': 6.456817000516064, 'e4': 6.714021233262044, 'e5': 8.577765870786994},\n",
       " {'e1': 8.890855630217315, 'e2': 8.684057194780879, 'e3': 4.6360059366076865, 'e4': 7.853776906005573, 'e5': 6.090222160760162},\n",
       " {'e1': 7.219909744803377, 'e2': 5.891191051443042, 'e3': 5.878406497258236, 'e4': 6.7236248676279144, 'e5': 8.631994919761727},\n",
       " {'e1': 6.505167590891104, 'e2': 6.376017462284585, 'e3': 6.304956357336743, 'e4': 6.127338964052438, 'e5': 6.053585329311176},\n",
       " {'e1': 9.01163829814332, 'e2': 6.376864103652262, 'e3': 5.335252160439114, 'e4': 5.395807644738976, 'e5': 8.036862100187978},\n",
       " {'e1': 6.195355317773158, 'e2': 5.6265646923123604, 'e3': 6.880373355783602, 'e4': 8.955959128483661, 'e5': 5.7633125087714525},\n",
       " {'e1': 8.626768586249003, 'e2': 7.496893939476275, 'e3': 6.843770714852345, 'e4': 8.304743821713188, 'e5': 9.249391566711958},\n",
       " {'e1': 7.411532057719807, 'e2': 7.002081674958411, 'e3': 6.902863846735942, 'e4': 6.172964899362792, 'e5': 6.365662113189491},\n",
       " {'e1': 6.214378418825077, 'e2': 7.153937436607757, 'e3': 7.220289004779545, 'e4': 6.5883674053389125, 'e5': 7.92976425013005},\n",
       " {'e1': 6.59665800372337, 'e2': 8.488135538604542, 'e3': 6.904285295952965, 'e4': 8.155953764587474, 'e5': 8.26989271666411},\n",
       " {'e1': 7.357778980976811, 'e2': 6.586239014547632, 'e3': 6.667643313793586, 'e4': 8.399352152610698, 'e5': 4.849456163791706},\n",
       " {'e1': 7.839574775749459, 'e2': 6.936571223191536, 'e3': 9.299774629908859, 'e4': 8.890575504349517, 'e5': 6.564898664086552},\n",
       " {'e1': 6.314426488058249, 'e2': 5.7658670163610015, 'e3': 7.6294184806049135, 'e4': 6.308301560268985, 'e5': 7.180902594467527},\n",
       " {'e1': 5.485828650356066, 'e2': 5.974057145346284, 'e3': 8.060378327938343, 'e4': 7.710752844757808, 'e5': 8.884436732676885},\n",
       " {'e1': 7.616750981195901, 'e2': 5.368433445084815, 'e3': 6.485989269562549, 'e4': 8.334324710003823, 'e5': 6.757569436325184},\n",
       " {'e1': 7.287667853194775, 'e2': 5.758189256701465, 'e3': 5.664731696903681, 'e4': 4.507496527289732, 'e5': 7.792544937474214},\n",
       " {'e1': 5.109747315553887, 'e2': 7.854131086915534, 'e3': 6.410086756493774, 'e4': 7.400601840905164, 'e5': 6.611565260273144},\n",
       " {'e1': 7.572990894946816, 'e2': 6.302403115490189, 'e3': 8.814918862394608, 'e4': 7.563020790361527, 'e5': 7.534085404146861},\n",
       " {'e1': 7.377345729192243, 'e2': 6.219137492523777, 'e3': 5.741237997590377, 'e4': 7.224666241541802, 'e5': 6.749378719648844},\n",
       " {'e1': 5.291381450566442, 'e2': 8.131142925438276, 'e3': 7.749449019422501, 'e4': 6.551083679571749, 'e5': 7.807930203889751},\n",
       " {'e1': 6.141606182467773, 'e2': 7.53977927557591, 'e3': 6.243915025963102, 'e4': 6.818262185992707, 'e5': 4.203337111985867},\n",
       " {'e1': 6.430606761773841, 'e2': 6.501654146731828, 'e3': 5.788497928128747, 'e4': 8.050982095287443, 'e5': 7.308660532760962},\n",
       " {'e1': 7.390250961758543, 'e2': 7.417399944911585, 'e3': 6.7208628613019, 'e4': 6.360663770850458, 'e5': 7.649834130723564},\n",
       " {'e1': 5.636108467129187, 'e2': 8.178670388322082, 'e3': 5.824605723828941, 'e4': 5.188212521650899, 'e5': 8.831752777547463},\n",
       " {'e1': 5.845084355997909, 'e2': 9.083696671189264, 'e3': 6.95109228707517, 'e4': 7.226480752604444, 'e5': 6.838241468716484},\n",
       " {'e1': 7.979834605165893, 'e2': 7.852838280663295, 'e3': 4.5446512719461465, 'e4': 6.952630656915827, 'e5': 7.462074467119476},\n",
       " {'e1': 9.161522079480406, 'e2': 8.539711069334423, 'e3': 7.670583517086824, 'e4': 5.938598249524929, 'e5': 7.161519184765857},\n",
       " {'e1': 7.2638571630218145, 'e2': 8.950829828617618, 'e3': 6.423249268573436, 'e4': 6.214787203326354, 'e5': 6.163371436283792},\n",
       " {'e1': 7.484167141575345, 'e2': 8.55209145725544, 'e3': 7.707161907928312, 'e4': 7.4843575541309555, 'e5': 5.020501618152812},\n",
       " {'e1': 5.2678248760786985, 'e2': 6.764094576473826, 'e3': 7.9440767110042145, 'e4': 8.898584722950266, 'e5': 5.90252100334688},\n",
       " {'e1': 6.5224420325823225, 'e2': 7.143961300814051, 'e3': 7.816429477727486, 'e4': 9.06371852655977, 'e5': 6.75832111689017},\n",
       " {'e1': 6.347260474671773, 'e2': 6.476927687305099, 'e3': 8.703533300411744, 'e4': 5.4508256856965955, 'e5': 7.790816436540907},\n",
       " {'e1': 6.671670059721166, 'e2': 6.369403732404313, 'e3': 5.705912148546052, 'e4': 7.161335362206641, 'e5': 8.64052935588171},\n",
       " {'e1': 8.876125296511045, 'e2': 8.494097722259133, 'e3': 4.450837667156996, 'e4': 7.759196014199538, 'e5': 7.402548659082377},\n",
       " {'e1': 6.707618792653848, 'e2': 5.3662482761461385, 'e3': 8.192820409536173, 'e4': 6.920377711952258, 'e5': 7.018783005695052},\n",
       " {'e1': 7.076267064165379, 'e2': 6.499293574955019, 'e3': 6.54959646832272, 'e4': 6.764635684576112, 'e5': 7.168545329311524},\n",
       " {'e1': 7.917375639959731, 'e2': 6.158206095244731, 'e3': 6.6078257725424985, 'e4': 7.6435218804447835, 'e5': 5.9692401273763815},\n",
       " {'e1': 8.024022362934229, 'e2': 6.602913105583995, 'e3': 4.203394971032647, 'e4': 5.296794710335498, 'e5': 8.858590266136979},\n",
       " {'e1': 5.07188265070341, 'e2': 4.306242174836364, 'e3': 6.396677762907505, 'e4': 5.832647989030015, 'e5': 5.345055808459178},\n",
       " {'e1': 7.389611382442389, 'e2': 6.643723615361762, 'e3': 10.395995548928235, 'e4': 7.193016800415648, 'e5': 8.095287337596213},\n",
       " {'e1': 6.154681722900443, 'e2': 7.0266792952252235, 'e3': 6.949783226067568, 'e4': 4.551156399914066, 'e5': 6.897690581512458},\n",
       " {'e1': 5.472831790846537, 'e2': 8.37157540418468, 'e3': 8.661626313113203, 'e4': 7.962110957723546, 'e5': 6.8568124098164756},\n",
       " {'e1': 7.156676203420813, 'e2': 7.0793950259615475, 'e3': 5.566080929812719, 'e4': 6.390571731284738, 'e5': 6.414901248227352},\n",
       " {'e1': 6.847669765529484, 'e2': 8.151207468330956, 'e3': 8.434223415158904, 'e4': 6.091858547198733, 'e5': 6.73386481668949},\n",
       " {'e1': 5.638354552287682, 'e2': 6.703052465719571, 'e3': 7.103763919875162, 'e4': 6.225223708319481, 'e5': 8.204184758458155},\n",
       " {'e1': 7.782500831144788, 'e2': 6.528090479140276, 'e3': 5.457720170992289, 'e4': 7.043838426983016, 'e5': 7.068602300061302},\n",
       " {'e1': 5.593129235719937, 'e2': 5.463885845666616, 'e3': 8.092065652654481, 'e4': 7.735988041809449, 'e5': 4.88677873192536},\n",
       " {'e1': 5.358006836246486, 'e2': 5.200692157378615, 'e3': 5.04103053638632, 'e4': 7.296799513774444, 'e5': 6.979277911826636},\n",
       " {'e1': 7.416203453849246, 'e2': 6.572705613524918, 'e3': 8.835081213778649, 'e4': 5.94328778785912, 'e5': 6.014197479962023},\n",
       " {'e1': 4.961512230429261, 'e2': 7.180463235967635, 'e3': 6.608845716059534, 'e4': 7.092340240715448, 'e5': 6.772604000956724},\n",
       " {'e1': 9.656492625260764, 'e2': 6.678918412554213, 'e3': 7.7793754085828795, 'e4': 7.889505975658698, 'e5': 8.438174072829845},\n",
       " {'e1': 8.081133564030644, 'e2': 8.572320398462573, 'e3': 6.614405477871801, 'e4': 9.472279742693278, 'e5': 5.9732024763153575},\n",
       " {'e1': 8.313329019888403, 'e2': 7.626519463171075, 'e3': 7.627805861094869, 'e4': 5.198450585474289, 'e5': 8.395247865427036},\n",
       " {'e1': 7.944908388668228, 'e2': 4.164763941939985, 'e3': 7.4826031759928435, 'e4': 7.102803201244331, 'e5': 7.894696480492168},\n",
       " {'e1': 7.91471407842206, 'e2': 7.244337410145333, 'e3': 7.968929741432968, 'e4': 8.5036974611997, 'e5': 5.721027818726165},\n",
       " {'e1': 7.624611858387126, 'e2': 8.237841177099082, 'e3': 6.330399709163885, 'e4': 7.213676436219949, 'e5': 7.004217553575052},\n",
       " {'e1': 7.4197072036170715, 'e2': 6.9833702756498734, 'e3': 8.496512207242374, 'e4': 9.578011209052312, 'e5': 6.17009761430867},\n",
       " {'e1': 7.569856050747664, 'e2': 6.900977199399245, 'e3': 6.053553014347739, 'e4': 6.87420949673819, 'e5': 4.584652639963761},\n",
       " {'e1': 6.775548220626501, 'e2': 6.559155111460064, 'e3': 6.637978895050592, 'e4': 8.002982236266504, 'e5': 9.467685339652848},\n",
       " {'e1': 5.76776042606979, 'e2': 7.841845265287358, 'e3': 6.611559958308043, 'e4': 6.843655191894491, 'e5': 6.299350341502611},\n",
       " {'e1': 7.444443019694198, 'e2': 8.755602614783673, 'e3': 6.2206885099907, 'e4': 5.889436238715514, 'e5': 5.509803453167071},\n",
       " {'e1': 5.564543509036807, 'e2': 6.719876002663361, 'e3': 7.1254323530138, 'e4': 6.633093074428083, 'e5': 9.366540093879095},\n",
       " {'e1': 8.99176684334109, 'e2': 6.919158833719994, 'e3': 6.943089960894047, 'e4': 5.540495467228931, 'e5': 7.487442315807845},\n",
       " {'e1': 7.431592732259894, 'e2': 7.1121619799066025, 'e3': 6.616796263022333, 'e4': 5.156122509972627, 'e5': 7.917295087271344},\n",
       " {'e1': 8.846318378369347, 'e2': 5.742780393669797, 'e3': 8.485719067417072, 'e4': 8.930102486213714, 'e5': 8.612051999983906},\n",
       " {'e1': 6.8247356548271165, 'e2': 7.618820177776957, 'e3': 5.454518219054665, 'e4': 8.655341908776332, 'e5': 8.218029948981867},\n",
       " {'e1': 6.626655304457721, 'e2': 6.706343626344148, 'e3': 5.386583912301731, 'e4': 8.218876190417374, 'e5': 6.812509465956543},\n",
       " {'e1': 8.466687168970434, 'e2': 8.123913741655311, 'e3': 5.436211401958187, 'e4': 7.396392473313724, 'e5': 6.193090551467696},\n",
       " {'e1': 6.096138805060879, 'e2': 6.365720321303239, 'e3': 7.155756825128001, 'e4': 5.153736325060125, 'e5': 4.895918969400367},\n",
       " {'e1': 7.355832418622077, 'e2': 7.349013070635107, 'e3': 5.64375303856208, 'e4': 6.68110856299033, 'e5': 7.270689903518868},\n",
       " {'e1': 5.722454532211353, 'e2': 5.841897027372113, 'e3': 6.073994675562734, 'e4': 8.574178653215688, 'e5': 8.574960674239048},\n",
       " {'e1': 7.2814644708020895, 'e2': 7.090151332055566, 'e3': 7.0182690517789865, 'e4': 8.166462673534566, 'e5': 6.018993189900661},\n",
       " {'e1': 7.4752433242400995, 'e2': 8.411797347015055, 'e3': 7.730867080743555, 'e4': 7.304863541227909, 'e5': 6.832699815071655},\n",
       " {'e1': 7.704346817868767, 'e2': 5.749204016571168, 'e3': 7.31976018588419, 'e4': 8.191233062983605, 'e5': 7.56462216078036},\n",
       " {'e1': 6.888980405948287, 'e2': 7.352093517757815, 'e3': 7.909676082285061, 'e4': 5.892849753186415, 'e5': 6.079702930702167},\n",
       " {'e1': 7.7635679953997485, 'e2': 7.779838122795434, 'e3': 5.108181697226962, 'e4': 6.440193584620562, 'e5': 6.066264205676997},\n",
       " {'e1': 6.049272569197601, 'e2': 6.949114096250024, 'e3': 8.13323923868028, 'e4': 8.223862381008114, 'e5': 5.78893132371115},\n",
       " {'e1': 7.324951927845556, 'e2': 6.656063910888269, 'e3': 7.284846394508026, 'e4': 6.314178355453073, 'e5': 7.096825963651705},\n",
       " {'e1': 7.750888200001586, 'e2': 8.783651649493839, 'e3': 7.507906770005702, 'e4': 7.33218686196598, 'e5': 7.343445690028751},\n",
       " {'e1': 8.110373787535298, 'e2': 7.411244049060564, 'e3': 9.015993744740468, 'e4': 7.8148830304966825, 'e5': 6.475975134487887},\n",
       " {'e1': 6.656994893719359, 'e2': 6.974250712499867, 'e3': 6.661856896068311, 'e4': 6.780676963515374, 'e5': 5.091301869914199},\n",
       " {'e1': 7.854633401586945, 'e2': 6.563938949114151, 'e3': 6.883044750007674, 'e4': 4.273707156732877, 'e5': 7.057305818630323},\n",
       " {'e1': 6.494474513489703, 'e2': 7.377320612451266, 'e3': 7.180662279639577, 'e4': 8.919306372193253, 'e5': 8.44855209994854},\n",
       " {'e1': 6.7997850876626655, 'e2': 8.78718796375936, 'e3': 7.217514576657294, 'e4': 6.79502593514646, 'e5': 6.207046401343454},\n",
       " {'e1': 6.658924191166233, 'e2': 10.922858913846463, 'e3': 8.007300506201155, 'e4': 6.795075115158785, 'e5': 5.209910428566458},\n",
       " {'e1': 6.300414805934807, 'e2': 5.351145540214119, 'e3': 8.158832616813651, 'e4': 7.2072144827383635, 'e5': 6.676913128294645},\n",
       " {'e1': 7.600149592369951, 'e2': 5.749520255566486, 'e3': 6.716250272903494, 'e4': 6.179086044293788, 'e5': 7.382867223365818},\n",
       " {'e1': 6.6450796707149555, 'e2': 7.37963280181432, 'e3': 6.839946260561553, 'e4': 8.57509624631882, 'e5': 7.082606234453773},\n",
       " {'e1': 5.772811720605301, 'e2': 5.451170067482649, 'e3': 8.549794460959273, 'e4': 8.2589223091339, 'e5': 8.81853838564264},\n",
       " {'e1': 6.020395107870762, 'e2': 6.136260527775251, 'e3': 7.176679985310047, 'e4': 5.643073007635065, 'e5': 7.528856468089764},\n",
       " {'e1': 6.95855995231017, 'e2': 6.581146483844687, 'e3': 6.762517427612182, 'e4': 6.102708670864679, 'e5': 6.828599633764278},\n",
       " {'e1': 8.964851535046325, 'e2': 7.023788316714093, 'e3': 8.709272863389037, 'e4': 8.08915530044118, 'e5': 8.211084610374618},\n",
       " {'e1': 7.834566063909641, 'e2': 6.553020265329351, 'e3': 8.018937815357862, 'e4': 7.347713788263784, 'e5': 5.8112177128537175},\n",
       " {'e1': 8.439613975681723, 'e2': 7.50610302839073, 'e3': 8.398540897184693, 'e4': 6.089138386828319, 'e5': 5.188200944953709},\n",
       " {'e1': 6.17934593881636, 'e2': 6.59685122373057, 'e3': 8.34615164847028, 'e4': 5.405184837097004, 'e5': 7.30619271504761},\n",
       " {'e1': 7.117489597883054, 'e2': 6.1552978828855425, 'e3': 6.94337257593731, 'e4': 9.50026882766055, 'e5': 7.996176866390821},\n",
       " {'e1': 6.166151154374469, 'e2': 7.7837298407349245, 'e3': 8.674471075697832, 'e4': 4.131526191284215, 'e5': 5.683054604725631},\n",
       " {'e1': 4.867065778994592, 'e2': 6.168258726284909, 'e3': 6.52749497103874, 'e4': 7.6989755470202965, 'e5': 8.338960710801077},\n",
       " {'e1': 7.902287280237142, 'e2': 6.793110156819117, 'e3': 8.581588032542466, 'e4': 8.085678475470823, 'e5': 5.68789950312432},\n",
       " {'e1': 6.7538413213443755, 'e2': 6.157853887101154, 'e3': 6.1432953582281575, 'e4': 5.681722872522266, 'e5': 7.090304863587236},\n",
       " {'e1': 8.130346241064462, 'e2': 7.543888043069188, 'e3': 7.172711723413661, 'e4': 8.468265774427234, 'e5': 8.247932541162193},\n",
       " {'e1': 5.509716030578107, 'e2': 7.00783130337571, 'e3': 8.15505686418276, 'e4': 6.681334789527417, 'e5': 7.1386337880832045},\n",
       " {'e1': 5.456929267491699, 'e2': 8.620578441317175, 'e3': 6.33010981472713, 'e4': 7.28742954696243, 'e5': 6.876039151907101},\n",
       " {'e1': 8.225540637021076, 'e2': 6.313358784046203, 'e3': 8.59696262026047, 'e4': 7.948826374847815, 'e5': 5.1628269761658006},\n",
       " {'e1': 6.988601321184573, 'e2': 7.239426981412842, 'e3': 6.3309580232966, 'e4': 7.503517808241856, 'e5': 6.986912424771226},\n",
       " {'e1': 7.092303817705178, 'e2': 6.365281309261304, 'e3': 7.195876502536824, 'e4': 8.511895259400395, 'e5': 7.72842481821119},\n",
       " {'e1': 7.589388340480787, 'e2': 6.4681747593685, 'e3': 5.544928416742419, 'e4': 5.516182709930715, 'e5': 6.08930202464453},\n",
       " {'e1': 6.415145463942189, 'e2': 6.41612386785725, 'e3': 7.860081127964596, 'e4': 6.796671116645999, 'e5': 6.877814090263056},\n",
       " {'e1': 8.375932674064217, 'e2': 7.046253050981295, 'e3': 3.8546823791984965, 'e4': 6.977893078908828, 'e5': 8.334566203724108},\n",
       " {'e1': 8.840446863935911, 'e2': 7.444664651885446, 'e3': 7.547316233584581, 'e4': 7.656468759039061, 'e5': 6.8547809906771935},\n",
       " {'e1': 8.74839909015639, 'e2': 6.477419341598571, 'e3': 7.813571498678656, 'e4': 7.378883836605299, 'e5': 6.525462552568666},\n",
       " {'e1': 6.73282271862357, 'e2': 5.99977074311539, 'e3': 7.510447882409654, 'e4': 7.157035188634126, 'e5': 5.456408343620019},\n",
       " {'e1': 7.042414404152955, 'e2': 5.133624492791086, 'e3': 8.272770161117725, 'e4': 7.453916437418319, 'e5': 7.5048356714492614},\n",
       " {'e1': 8.109181159509088, 'e2': 8.274690717887749, 'e3': 5.755940556253361, 'e4': 7.491441995100885, 'e5': 6.800742717459685},\n",
       " {'e1': 6.680314815456192, 'e2': 5.18936796928055, 'e3': 6.220129972122746, 'e4': 7.674878020954334, 'e5': 5.797876986193922},\n",
       " {'e1': 7.093129371911615, 'e2': 7.710708968189606, 'e3': 7.0683495622031, 'e4': 7.551149202674334, 'e5': 6.631481387205089},\n",
       " {'e1': 9.154814025032895, 'e2': 7.101691622971138, 'e3': 6.400484906538418, 'e4': 7.076219731460486, 'e5': 5.773720766810465},\n",
       " {'e1': 6.444911681200399, 'e2': 8.780553032996695, 'e3': 8.667265335186604, 'e4': 8.66723418147572, 'e5': 7.263587000488131},\n",
       " {'e1': 6.85709025947911, 'e2': 6.991192333346142, 'e3': 9.223728060470307, 'e4': 5.052571797773286, 'e5': 7.975749336405072},\n",
       " {'e1': 6.6108739858957355, 'e2': 6.920419988585223, 'e3': 6.643518497386445, 'e4': 6.957274288236643, 'e5': 6.772776890456461},\n",
       " {'e1': 8.754091334190258, 'e2': 6.162096785518899, 'e3': 6.852262376466135, 'e4': 9.314059977454862, 'e5': 7.211465862808844},\n",
       " {'e1': 5.371681835631737, 'e2': 7.521658766743055, 'e3': 6.9721700670778075, 'e4': 7.090291505873375, 'e5': 8.7704111709057},\n",
       " {'e1': 5.466367386656868, 'e2': 7.395876403300983, 'e3': 5.771928119712166, 'e4': 6.584886908293254, 'e5': 8.04198993308011},\n",
       " {'e1': 7.667969160031506, 'e2': 5.541247769709709, 'e3': 5.80855206320983, 'e4': 5.60150065251846, 'e5': 8.132878707823627},\n",
       " {'e1': 7.803182079649374, 'e2': 6.113926028246333, 'e3': 6.794067370522293, 'e4': 7.155584316665766, 'e5': 6.4000450460094624},\n",
       " {'e1': 6.238284360480985, 'e2': 8.425937317894126, 'e3': 7.459104366710166, 'e4': 5.369639170220943, 'e5': 9.90311168406712},\n",
       " {'e1': 7.452645292144502, 'e2': 7.560069851696498, 'e3': 7.742393197463052, 'e4': 5.78066330750061, 'e5': 6.298157383183678},\n",
       " {'e1': 7.740606407873087, 'e2': 7.904683184934373, 'e3': 7.185674311522056, 'e4': 6.943917762377604, 'e5': 6.333324131327137},\n",
       " {'e1': 4.817444837076644, 'e2': 7.621475915966182, 'e3': 5.191611079050269, 'e4': 6.545980747881287, 'e5': 9.086000573951587},\n",
       " {'e1': 8.459943808359727, 'e2': 6.7295788177863916, 'e3': 6.88273597875497, 'e4': 6.073086180753444, 'e5': 7.520041419747585},\n",
       " {'e1': 6.150495188310692, 'e2': 5.190485290127258, 'e3': 6.907130332054255, 'e4': 7.6453820835704995, 'e5': 7.505635095824837},\n",
       " {'e1': 7.5124644296059815, 'e2': 6.1828106702855905, 'e3': 6.302306708697872, 'e4': 5.758543383399438, 'e5': 6.574543261868687},\n",
       " {'e1': 7.500581719563309, 'e2': 8.067593543191686, 'e3': 7.011575499120098, 'e4': 7.586517223743212, 'e5': 7.245548716556183},\n",
       " {'e1': 4.051178266551566, 'e2': 7.971262799425885, 'e3': 9.018791390919267, 'e4': 7.654572756536949, 'e5': 6.244182686681181},\n",
       " {'e1': 7.681493588677993, 'e2': 6.031547327292477, 'e3': 6.9876266114673005, 'e4': 6.701476131364235, 'e5': 7.32974800493046},\n",
       " {'e1': 6.835218502562912, 'e2': 7.43945032389821, 'e3': 5.887093887104346, 'e4': 6.240715964179549, 'e5': 7.4415186636062245},\n",
       " {'e1': 8.88333812775976, 'e2': 6.737219620450003, 'e3': 5.973976444134889, 'e4': 7.3811190916741305, 'e5': 7.296425623448139},\n",
       " {'e1': 8.57274698053061, 'e2': 10.282650510492628, 'e3': 7.578917189888948, 'e4': 6.08209314684963, 'e5': 7.131067160197494},\n",
       " {'e1': 7.832433561493905, 'e2': 6.755895544914834, 'e3': 6.334530449801132, 'e4': 6.365788408064782, 'e5': 4.194075798139565},\n",
       " {'e1': 8.624647722445342, 'e2': 9.083909793578872, 'e3': 7.412050012057959, 'e4': 7.573091013989655, 'e5': 6.136119420114458},\n",
       " {'e1': 5.309697619230673, 'e2': 7.231607307004639, 'e3': 6.357274617506392, 'e4': 6.941642526933215, 'e5': 7.696497148725017},\n",
       " {'e1': 5.822334730475207, 'e2': 7.918901343503515, 'e3': 7.33840311254756, 'e4': 7.84706235192035, 'e5': 7.197098073711117},\n",
       " {'e1': 8.596213182036358, 'e2': 8.610787958109498, 'e3': 6.955165495463457, 'e4': 5.900743365678969, 'e5': 7.88768333370625},\n",
       " {'e1': 7.1988579207305445, 'e2': 5.0614338628687126, 'e3': 6.591572490582091, 'e4': 5.505295485056975, 'e5': 8.44426282460188},\n",
       " {'e1': 8.412100563963996, 'e2': 6.6341893577124385, 'e3': 7.0205836602407405, 'e4': 6.424782156967881, 'e5': 6.706978657507969},\n",
       " {'e1': 8.36369435191757, 'e2': 5.3515479474873, 'e3': 7.545488538303425, 'e4': 6.335477856960324, 'e5': 7.272193325917137},\n",
       " {'e1': 6.064310737315445, 'e2': 4.797906447155956, 'e3': 6.840978095488605, 'e4': 6.904808648297651, 'e5': 8.707949846497444},\n",
       " {'e1': 6.837727362211198, 'e2': 5.72149707441005, 'e3': 4.690400186550231, 'e4': 8.388023597913548, 'e5': 8.136573740611903},\n",
       " {'e1': 5.45519439902314, 'e2': 7.343958074319524, 'e3': 7.017959270032088, 'e4': 6.712094142723239, 'e5': 6.349935609161115},\n",
       " {'e1': 8.980814882609808, 'e2': 6.54968984373021, 'e3': 6.5759211998499145, 'e4': 8.619223053664028, 'e5': 8.503696067567574},\n",
       " {'e1': 6.8042323112792324, 'e2': 7.243712862356756, 'e3': 8.083741924332175, 'e4': 6.950143634812036, 'e5': 7.1477345641496015},\n",
       " {'e1': 7.272243761726605, 'e2': 6.984509034117882, 'e3': 7.764926769434814, 'e4': 6.490443134914319, 'e5': 7.078461919290583},\n",
       " {'e1': 8.115249604810945, 'e2': 6.07812691429141, 'e3': 6.734839558667142, 'e4': 4.518556658738307, 'e5': 8.888387246789476},\n",
       " {'e1': 5.82123324176464, 'e2': 6.759025402839883, 'e3': 6.356461465594878, 'e4': 7.123701867439699, 'e5': 6.94929723819227},\n",
       " {'e1': 8.864356967701688, 'e2': 7.0947523483740795, 'e3': 6.029418144517284, 'e4': 6.865832581858975, 'e5': 7.146199666772551},\n",
       " {'e1': 8.040044185027499, 'e2': 6.545719950276091, 'e3': 6.794592512968359, 'e4': 8.23650479380506, 'e5': 5.290870834060751},\n",
       " {'e1': 6.399009824500293, 'e2': 7.42279399582344, 'e3': 6.87015585168493, 'e4': 7.159743178224619, 'e5': 7.375371346196694},\n",
       " {'e1': 8.885487661549083, 'e2': 6.31047816101575, 'e3': 8.50678505861362, 'e4': 8.665096553608475, 'e5': 7.905813920182825},\n",
       " {'e1': 4.9660051251594055, 'e2': 6.436092569739619, 'e3': 7.65824857421829, 'e4': 6.37317356755072, 'e5': 6.678154292982076},\n",
       " {'e1': 5.727647281384355, 'e2': 6.806651498363835, 'e3': 6.0122008048253495, 'e4': 4.9548863638656275, 'e5': 7.73647158996161},\n",
       " {'e1': 5.856571922918848, 'e2': 8.520247830647007, 'e3': 7.6184280906444295, 'e4': 7.3512922031259755, 'e5': 7.198336291737076},\n",
       " {'e1': 6.356711574598391, 'e2': 6.806961346008597, 'e3': 6.783807219439216, 'e4': 8.678170153392424, 'e5': 7.208212649632497},\n",
       " {'e1': 5.309038435589342, 'e2': 7.259956687344118, 'e3': 6.268977368723518, 'e4': 7.631791359116761, 'e5': 10.67624259718238},\n",
       " {'e1': 5.600000464587951, 'e2': 8.0744060125131, 'e3': 7.302075676512014, 'e4': 5.13987972456745, 'e5': 6.74383783846776},\n",
       " {'e1': 7.303211166617604, 'e2': 7.357713448501172, 'e3': 8.538034588146017, 'e4': 6.113007773112075, 'e5': 6.977833836317542},\n",
       " {'e1': 6.421556551125556, 'e2': 6.0240512518975855, 'e3': 8.339748335206387, 'e4': 6.973489446578683, 'e5': 4.021444253030045},\n",
       " {'e1': 7.639120591575265, 'e2': 7.2540793454517445, 'e3': 8.419942204459288, 'e4': 8.354837033134155, 'e5': 7.224404473166508},\n",
       " {'e1': 7.400966416645799, 'e2': 7.1483398855825335, 'e3': 5.438970119042974, 'e4': 6.109307529920617, 'e5': 7.806742301069312},\n",
       " {'e1': 5.623196334963572, 'e2': 5.310704077036677, 'e3': 7.362983793114177, 'e4': 7.679524008832391, 'e5': 8.015195265094714},\n",
       " {'e1': 6.977646086846941, 'e2': 6.17374131841369, 'e3': 7.140060578267117, 'e4': 5.957929266117886, 'e5': 7.168987620349345},\n",
       " {'e1': 5.1153451602955275, 'e2': 8.42866802020534, 'e3': 7.265085557476449, 'e4': 6.847627322315224, 'e5': 8.095440220433064},\n",
       " {'e1': 8.379720417991257, 'e2': 6.787738270226604, 'e3': 7.199933552177435, 'e4': 7.920801370526334, 'e5': 7.572603125735056},\n",
       " {'e1': 7.289009808541019, 'e2': 7.009694308425563, 'e3': 5.669643853815391, 'e4': 8.520106487543153, 'e5': 7.657159090821256},\n",
       " {'e1': 7.317293868098479, 'e2': 7.906629223224482, 'e3': 5.411691965527816, 'e4': 5.025909430486481, 'e5': 8.492754641390894},\n",
       " {'e1': 5.424926766366207, 'e2': 6.03198549987158, 'e3': 7.938104554092673, 'e4': 5.683315341975001, 'e5': 5.40447514755145},\n",
       " {'e1': 6.039651584889279, 'e2': 8.06044729893007, 'e3': 8.08411446896531, 'e4': 5.942412941503219, 'e5': 6.323360629504122},\n",
       " {'e1': 7.919804565659111, 'e2': 8.226464745377454, 'e3': 6.74213258787073, 'e4': 7.052405661503132, 'e5': 7.5504756898627825},\n",
       " {'e1': 5.746024060134698, 'e2': 7.159368482690287, 'e3': 7.3223586950803305, 'e4': 6.563737979456717, 'e5': 6.547070902858039},\n",
       " {'e1': 7.798201512796523, 'e2': 6.674772272928692, 'e3': 6.56964496867316, 'e4': 6.077624548313723, 'e5': 5.961049539802124},\n",
       " {'e1': 5.275029021430266, 'e2': 6.178852682034165, 'e3': 6.910365383760256, 'e4': 6.603431795050358, 'e5': 7.156062045775442},\n",
       " {'e1': 6.885225551352628, 'e2': 4.904795100205942, 'e3': 6.575586024910266, 'e4': 7.06892019101493, 'e5': 6.144470329980502},\n",
       " {'e1': 6.655425700325366, 'e2': 6.684171306440255, 'e3': 6.129221706371482, 'e4': 7.065100299902724, 'e5': 6.623487055061738},\n",
       " {'e1': 6.835894036806742, 'e2': 7.822040207223783, 'e3': 5.697710860018221, 'e4': 4.783990593246696, 'e5': 5.807128596735619},\n",
       " {'e1': 5.3910955392371145, 'e2': 7.0175501733274945, 'e3': 9.271128562823442, 'e4': 7.922205536892585, 'e5': 9.685379471804463},\n",
       " {'e1': 6.1803289007588775, 'e2': 5.605262377466022, 'e3': 5.993778352898265, 'e4': 6.194508617618482, 'e5': 8.282198823755676},\n",
       " {'e1': 7.6345715229396625, 'e2': 7.342969552897298, 'e3': 7.531503828184275, 'e4': 8.95866066384264, 'e5': 5.013081813185402},\n",
       " {'e1': 7.264272840216788, 'e2': 7.0499288948687235, 'e3': 5.627384937661862, 'e4': 7.211049134340985, 'e5': 7.757415838952266},\n",
       " {'e1': 5.7534160235048475, 'e2': 6.196717160996235, 'e3': 8.823597245635858, 'e4': 9.26631138730486, 'e5': 7.284051934637478},\n",
       " {'e1': 5.6559954776520165, 'e2': 5.618535887554144, 'e3': 4.378938790209044, 'e4': 6.875798814789146, 'e5': 7.5649439828266765},\n",
       " {'e1': 6.891514482908067, 'e2': 5.880983643922303, 'e3': 7.582726729255126, 'e4': 5.276435617680082, 'e5': 7.5330698793424515},\n",
       " {'e1': 7.525925423040051, 'e2': 7.054816574017494, 'e3': 5.671493498624462, 'e4': 6.393171039499748, 'e5': 6.518130717631951},\n",
       " {'e1': 5.006325807608559, 'e2': 8.572202049728343, 'e3': 6.706795690370543, 'e4': 7.240659867458709, 'e5': 7.940465693516889},\n",
       " {'e1': 4.684852565239336, 'e2': 5.899575391381997, 'e3': 7.71155752185032, 'e4': 7.760577624753417, 'e5': 8.196246538089294},\n",
       " {'e1': 7.102192835451303, 'e2': 5.695046001820694, 'e3': 7.243481643088129, 'e4': 8.085027169114989, 'e5': 7.854563720172645},\n",
       " {'e1': 7.420732425951141, 'e2': 6.821127875816017, 'e3': 7.222040710544812, 'e4': 7.147658673543223, 'e5': 8.59300425074046},\n",
       " {'e1': 7.599898073539459, 'e2': 6.627499616837664, 'e3': 7.5668363731935555, 'e4': 7.866754475266149, 'e5': 7.358239214471058},\n",
       " {'e1': 7.727982387423108, 'e2': 7.192213758426926, 'e3': 5.6231118226113725, 'e4': 7.658301852874084, 'e5': 7.061242923700853},\n",
       " {'e1': 7.81816896302742, 'e2': 7.5122956767523075, 'e3': 6.513565663709098, 'e4': 6.244230405486319, 'e5': 8.333985123201684},\n",
       " {'e1': 7.598080236988412, 'e2': 5.140515588741602, 'e3': 6.307139054538855, 'e4': 7.775162916762236, 'e5': 8.337320438553505},\n",
       " {'e1': 5.078308254884855, 'e2': 6.818827523123952, 'e3': 7.676862778524699, 'e4': 7.0246500780358545, 'e5': 6.325273348797461},\n",
       " {'e1': 8.393257817468738, 'e2': 7.913793634591796, 'e3': 7.510232814971428, 'e4': 6.247637821656676, 'e5': 4.854097586038978},\n",
       " {'e1': 9.692532410504787, 'e2': 7.54048805833289, 'e3': 6.427681917270841, 'e4': 7.690807855923248, 'e5': 7.242117152210662},\n",
       " {'e1': 7.793132732395874, 'e2': 7.25931040297961, 'e3': 7.708247443543135, 'e4': 6.638170209684987, 'e5': 6.421214645598443},\n",
       " {'e1': 8.198595662770272, 'e2': 7.633810151264069, 'e3': 7.516555209462327, 'e4': 7.7011419496885605, 'e5': 8.195259321162867},\n",
       " {'e1': 6.115765020725324, 'e2': 6.6199248231167935, 'e3': 7.109067412193014, 'e4': 7.526317405384259, 'e5': 5.419256918124815},\n",
       " {'e1': 6.8749768493264956, 'e2': 6.2145268647413054, 'e3': 4.24379548237093, 'e4': 6.698850410991677, 'e5': 5.191276662004265},\n",
       " {'e1': 8.447998408913184, 'e2': 8.47225738937479, 'e3': 7.111375912872481, 'e4': 6.92046026802105, 'e5': 6.607806925810507},\n",
       " {'e1': 5.958469311541636, 'e2': 9.617343666148571, 'e3': 5.89136734247576, 'e4': 8.822689456908309, 'e5': 9.095546598803518},\n",
       " {'e1': 8.531795758434376, 'e2': 7.112224339056785, 'e3': 6.69261677535852, 'e4': 4.95474546920157, 'e5': 6.494428094656537},\n",
       " {'e1': 5.895156237761007, 'e2': 6.893039270589131, 'e3': 6.6732545277952475, 'e4': 8.46492657523313, 'e5': 7.743534524053806},\n",
       " {'e1': 6.442353694998808, 'e2': 5.926427453345615, 'e3': 7.529304608399532, 'e4': 7.121100341220683, 'e5': 8.816532920254419},\n",
       " {'e1': 7.948610450283358, 'e2': 6.077117016081665, 'e3': 6.300187831787401, 'e4': 6.991020699394923, 'e5': 7.8141674491131115},\n",
       " {'e1': 4.813743212261292, 'e2': 6.404546179923962, 'e3': 6.322465429961031, 'e4': 6.689672428185425, 'e5': 4.412014401052956},\n",
       " {'e1': 5.964457833150553, 'e2': 7.538198993396946, 'e3': 7.964836768023038, 'e4': 7.413527518542863, 'e5': 7.66809591515857},\n",
       " {'e1': 7.450159402340601, 'e2': 8.025049768331803, 'e3': 6.047532281032122, 'e4': 7.525552385719779, 'e5': 6.82608967451046},\n",
       " {'e1': 8.352817860686525, 'e2': 7.167337432769664, 'e3': 9.076394519022623, 'e4': 7.143367982232988, 'e5': 7.233487650972559},\n",
       " {'e1': 5.814818336597082, 'e2': 7.448461704959889, 'e3': 6.757195333532359, 'e4': 6.449892460717774, 'e5': 4.426630455873295},\n",
       " {'e1': 6.347038829792048, 'e2': 7.021889116557969, 'e3': 8.018427723939224, 'e4': 7.753365571547453, 'e5': 7.672421592385299},\n",
       " {'e1': 8.638905099573932, 'e2': 7.376664531031103, 'e3': 7.195638313004995, 'e4': 5.745114209803415, 'e5': 5.738420948100319},\n",
       " {'e1': 6.238444969152549, 'e2': 7.490937697629548, 'e3': 8.123104301238653, 'e4': 6.585738732974882, 'e5': 5.613919272205122},\n",
       " {'e1': 7.675252756534232, 'e2': 6.1051232221859015, 'e3': 7.3708294018036975, 'e4': 7.06830505677296, 'e5': 8.423191951867945},\n",
       " {'e1': 8.48077709711047, 'e2': 6.349831677791776, 'e3': 5.845680857944082, 'e4': 5.325688977281523, 'e5': 8.245511079218485},\n",
       " {'e1': 7.800921864901898, 'e2': 5.131066448814002, 'e3': 7.522062799594302, 'e4': 4.820663957907642, 'e5': 6.70643076435396},\n",
       " {'e1': 8.716651623213927, 'e2': 5.6467694562394275, 'e3': 5.853455054340388, 'e4': 7.661726309963161, 'e5': 9.123278056565738},\n",
       " {'e1': 6.7343771575625535, 'e2': 7.208260430717413, 'e3': 7.586969133846453, 'e4': 6.302879761905982, 'e5': 8.165033827849363},\n",
       " {'e1': 7.11933015714779, 'e2': 6.039496890088746, 'e3': 7.992919801579194, 'e4': 7.6977435095918985, 'e5': 9.479319493025105},\n",
       " {'e1': 6.066642997649743, 'e2': 8.654380469502902, 'e3': 6.478746022181388, 'e4': 6.146834945257763, 'e5': 7.383435022948191},\n",
       " {'e1': 5.904564912473237, 'e2': 6.436684242755914, 'e3': 7.488175861956442, 'e4': 7.747565040588672, 'e5': 6.520261777463854},\n",
       " {'e1': 7.505503047760603, 'e2': 6.787685079707387, 'e3': 7.51677574561835, 'e4': 6.600904537954441, 'e5': 8.006094975247102},\n",
       " {'e1': 5.739443534671866, 'e2': 7.638178892679299, 'e3': 8.486336249222925, 'e4': 5.57397702277135, 'e5': 8.297448907242947},\n",
       " {'e1': 7.773537481443371, 'e2': 6.066354731602479, 'e3': 5.4711161730618425, 'e4': 6.866723127621708, 'e5': 6.037770073281619},\n",
       " {'e1': 7.172595166145239, 'e2': 8.003341168617599, 'e3': 8.565840976768907, 'e4': 6.643065140034427, 'e5': 6.0078980196796135},\n",
       " {'e1': 6.350607385360944, 'e2': 6.437641981713465, 'e3': 5.709027125488615, 'e4': 6.9114811208438205, 'e5': 6.952059622809141},\n",
       " {'e1': 4.763884871812274, 'e2': 5.946518845704831, 'e3': 7.727473929988044, 'e4': 8.398115559604856, 'e5': 6.408447016385331},\n",
       " {'e1': 6.923992227611241, 'e2': 5.119819026329294, 'e3': 9.195458922117584, 'e4': 7.200039848070505, 'e5': 6.245238569728684},\n",
       " {'e1': 8.424519605386056, 'e2': 8.532010132918272, 'e3': 7.697400704108353, 'e4': 6.2954437190132, 'e5': 7.935959172109626},\n",
       " {'e1': 7.3954143655305336, 'e2': 7.016623885617209, 'e3': 6.909292302057958, 'e4': 6.5928758609358145, 'e5': 6.476093853967436},\n",
       " {'e1': 7.190609377569927, 'e2': 7.132184303802159, 'e3': 6.940064623170028, 'e4': 8.731784300668025, 'e5': 6.103948343399402},\n",
       " {'e1': 7.168509294844303, 'e2': 9.225046727394437, 'e3': 6.870105547319971, 'e4': 9.36212977122044, 'e5': 6.20458048336922},\n",
       " {'e1': 7.74846620174169, 'e2': 5.459693407000681, 'e3': 7.025670030590926, 'e4': 6.915483523199848, 'e5': 8.393553559185015},\n",
       " {'e1': 7.834131916608693, 'e2': 7.74644973057813, 'e3': 7.9596541521763555, 'e4': 6.503262459605603, 'e5': 4.866617388765181},\n",
       " {'e1': 5.819217746799055, 'e2': 6.625129804195605, 'e3': 6.763356289587533, 'e4': 6.577148011238905, 'e5': 6.8876528823519685},\n",
       " {'e1': 5.493180247181401, 'e2': 8.009140251577955, 'e3': 7.023281886712544, 'e4': 5.506068898161768, 'e5': 6.8895766299013905},\n",
       " {'e1': 8.10081662699087, 'e2': 7.293217553212112, 'e3': 7.650479774747564, 'e4': 7.73623003249095, 'e5': 7.748822105257606},\n",
       " {'e1': 6.090708285001154, 'e2': 4.951193368353387, 'e3': 6.0140128950565, 'e4': 5.920240668075222, 'e5': 10.38761570303481},\n",
       " {'e1': 5.417850567565258, 'e2': 6.815117648244792, 'e3': 5.495165636122383, 'e4': 10.034530059736412, 'e5': 6.64688976204349},\n",
       " {'e1': 8.210109908108105, 'e2': 7.3751803809175, 'e3': 9.142502775237231, 'e4': 4.618407892641991, 'e5': 5.6115161472435915},\n",
       " {'e1': 5.148097056027388, 'e2': 4.495742286865535, 'e3': 8.550626257450343, 'e4': 5.860121591056656, 'e5': 6.503776416033365},\n",
       " {'e1': 7.8665368858365055, 'e2': 7.387884157250485, 'e3': 6.199212821739189, 'e4': 7.347078721771878, 'e5': 7.230495813446289},\n",
       " {'e1': 8.861528506836478, 'e2': 7.507792295065961, 'e3': 6.1055842160962275, 'e4': 5.77045121138042, 'e5': 6.23150415154018},\n",
       " {'e1': 5.280269155359894, 'e2': 7.5083680880662405, 'e3': 6.234389751544092, 'e4': 6.791840201313323, 'e5': 7.625916737326594},\n",
       " {'e1': 6.585434202049624, 'e2': 7.3258994553796635, 'e3': 7.3679922566810125, 'e4': 8.65009516745986, 'e5': 6.242095465963485},\n",
       " {'e1': 7.07415847322732, 'e2': 7.631722695656637, 'e3': 5.691981002219255, 'e4': 7.583647016311282, 'e5': 6.576244443451334},\n",
       " {'e1': 7.2945709129665035, 'e2': 7.447341685415841, 'e3': 7.187604000215252, 'e4': 8.073616811676976, 'e5': 7.607224545160987},\n",
       " {'e1': 6.008678491091378, 'e2': 7.099816209914153, 'e3': 7.650320452377673, 'e4': 6.184770530723576, 'e5': 6.6787636667991945},\n",
       " {'e1': 7.806089789626436, 'e2': 6.686318294287464, 'e3': 9.29916639366391, 'e4': 6.114460072611455, 'e5': 6.5428059397629035},\n",
       " {'e1': 5.718493809688197, 'e2': 8.041107896325343, 'e3': 8.025231609168081, 'e4': 7.793900186201142, 'e5': 8.324263433156757},\n",
       " {'e1': 6.210058181423556, 'e2': 7.066763315066781, 'e3': 5.635114825543209, 'e4': 8.940508301895054, 'e5': 7.330448596629882},\n",
       " {'e1': 5.117939191855254, 'e2': 6.884201250973769, 'e3': 7.328084598090252, 'e4': 5.88028707829759, 'e5': 6.873438715273218},\n",
       " {'e1': 6.878147081871259, 'e2': 9.506169992434334, 'e3': 9.117492760728204, 'e4': 5.315965972682451, 'e5': 6.377260933610242},\n",
       " {'e1': 5.9755878768192225, 'e2': 7.784130410888308, 'e3': 7.126978342835308, 'e4': 7.560647706449421, 'e5': 7.754971719191254},\n",
       " {'e1': 7.042271559718219, 'e2': 8.654369641034323, 'e3': 5.758734919298662, 'e4': 6.182820881239703, 'e5': 7.403695916539869},\n",
       " {'e1': 8.336735679205049, 'e2': 6.063912447607365, 'e3': 5.235952536042495, 'e4': 7.168974013588964, 'e5': 4.411825893595028},\n",
       " {'e1': 3.983521929557332, 'e2': 6.774876671141107, 'e3': 6.666924731926276, 'e4': 7.148499924166978, 'e5': 6.6621516208316525},\n",
       " {'e1': 6.175814942084033, 'e2': 7.156168038709056, 'e3': 4.775530540257466, 'e4': 7.974028808736112, 'e5': 7.104131216647987},\n",
       " {'e1': 5.7471843129696385, 'e2': 7.03158029257627, 'e3': 6.311437339357186, 'e4': 6.212117751126466, 'e5': 6.716614132897381},\n",
       " {'e1': 5.7726112621758245, 'e2': 7.558273334124947, 'e3': 7.052123497506477, 'e4': 4.995972668765748, 'e5': 6.422282066483474},\n",
       " {'e1': 7.770063967578983, 'e2': 5.644815798061604, 'e3': 7.522516151246483, 'e4': 8.452628067003657, 'e5': 5.515162789321548},\n",
       " {'e1': 6.430359088535745, 'e2': 5.171211863504602, 'e3': 7.757826050365485, 'e4': 6.378365733814623, 'e5': 7.661344018519571},\n",
       " {'e1': 7.173377871590171, 'e2': 5.884316507189407, 'e3': 6.949111460506027, 'e4': 7.938443565397086, 'e5': 6.427249539542497},\n",
       " {'e1': 7.010148053713077, 'e2': 6.995662128587495, 'e3': 7.092003288805588, 'e4': 7.961109350091015, 'e5': 7.2468857527542365},\n",
       " {'e1': 7.623787824029248, 'e2': 7.338392988541941, 'e3': 6.929843730807192, 'e4': 6.260667694485283, 'e5': 7.853265226421151},\n",
       " {'e1': 4.719340679326302, 'e2': 8.718796846325763, 'e3': 6.70560691060342, 'e4': 6.082837176339132, 'e5': 5.351980004733624},\n",
       " {'e1': 8.000862447282492, 'e2': 5.835973731536967, 'e3': 5.517895698499576, 'e4': 6.688825537908526, 'e5': 6.5336749234106986},\n",
       " {'e1': 6.46582671528405, 'e2': 5.663063008182922, 'e3': 6.649500902243989, 'e4': 6.433800847818205, 'e5': 7.279379641967373},\n",
       " {'e1': 5.75856650540485, 'e2': 7.627529170389676, 'e3': 6.184229966857571, 'e4': 7.035116166265311, 'e5': 6.427640144289638},\n",
       " {'e1': 6.731413895591376, 'e2': 6.234340615931614, 'e3': 6.982073733768296, 'e4': 8.250829269896771, 'e5': 7.291381281531289},\n",
       " {'e1': 8.262498080621754, 'e2': 8.639807723734117, 'e3': 6.632625623815994, 'e4': 9.112757237124963, 'e5': 6.333804921727795},\n",
       " {'e1': 9.115878211543057, 'e2': 4.239093572581623, 'e3': 4.645932613023109, 'e4': 6.696602823568657, 'e5': 7.703214742610455},\n",
       " {'e1': 7.416010240532934, 'e2': 6.698069854648224, 'e3': 7.968322897405944, 'e4': 7.753674350553464, 'e5': 7.501357764824714},\n",
       " {'e1': 7.078247712198219, 'e2': 6.672309033002194, 'e3': 6.033947231418011, 'e4': 5.909742482548621, 'e5': 5.276100394880643},\n",
       " {'e1': 5.0281926496279485, 'e2': 4.508838735442271, 'e3': 8.303428444341762, 'e4': 7.610229086411441, 'e5': 7.154470503429379},\n",
       " {'e1': 6.9418367329686, 'e2': 6.450163365803055, 'e3': 5.411294388487657, 'e4': 9.59912006874848, 'e5': 4.999340333481504},\n",
       " {'e1': 7.7685783311557595, 'e2': 8.713668429416257, 'e3': 7.385993734941912, 'e4': 6.120010008694986, 'e5': 6.139944001186959},\n",
       " {'e1': 6.418400254514116, 'e2': 7.301412821205802, 'e3': 5.153077317177119, 'e4': 7.703455021614972, 'e5': 6.401059172858906},\n",
       " {'e1': 6.368538143697253, 'e2': 5.925535041851609, 'e3': 7.132170486735154, 'e4': 6.352669887082193, 'e5': 6.617496075613849},\n",
       " {'e1': 9.514439026613292, 'e2': 8.565817387420283, 'e3': 6.680396475900858, 'e4': 7.986263311128411, 'e5': 8.458600205286066},\n",
       " {'e1': 8.679651283935867, 'e2': 6.817019528385029, 'e3': 8.396912083348044, 'e4': 7.155526345251923, 'e5': 7.953609452654011},\n",
       " {'e1': 8.501715243150581, 'e2': 6.1739633037440536, 'e3': 7.075487070866268, 'e4': 7.054334781838616, 'e5': 4.751491478658554},\n",
       " {'e1': 6.169162613662983, 'e2': 7.865383557547591, 'e3': 7.204032858063326, 'e4': 5.845927828775443, 'e5': 5.905614012170521},\n",
       " {'e1': 6.9957394879237125, 'e2': 6.4946984865896455, 'e3': 5.64267751844156, 'e4': 6.152653552542749, 'e5': 7.0427335116310665},\n",
       " {'e1': 7.687415237611613, 'e2': 6.537682411591222, 'e3': 8.116421059219707, 'e4': 6.777882107767837, 'e5': 6.20320705880485},\n",
       " {'e1': 6.696383332293538, 'e2': 8.124537562818285, 'e3': 7.775055620102444, 'e4': 6.316754655052625, 'e5': 7.7167897864998345},\n",
       " {'e1': 8.603752890490158, 'e2': 7.511725765568545, 'e3': 7.386657902474788, 'e4': 6.234585734187531, 'e5': 6.16060219865976},\n",
       " {'e1': 6.917160052737408, 'e2': 5.548264881097595, 'e3': 3.84175055868013, 'e4': 6.772587486269222, 'e5': 7.054244554398358},\n",
       " {'e1': 7.08690595310041, 'e2': 7.302096997380538, 'e3': 6.29338276431817, 'e4': 7.082748037438001, 'e5': 5.66182402197226},\n",
       " {'e1': 7.392167345767313, 'e2': 6.411633711367217, 'e3': 6.046788862509451, 'e4': 6.848167393212632, 'e5': 6.821239443316022},\n",
       " {'e1': 6.200354468303862, 'e2': 10.1873469438959, 'e3': 6.616835686854457, 'e4': 8.720702761786628, 'e5': 7.266162646631848},\n",
       " {'e1': 6.9253803176267175, 'e2': 8.113251669409486, 'e3': 5.104720515344113, 'e4': 5.939408694038677, 'e5': 8.829176438530398},\n",
       " {'e1': 8.039124490032751, 'e2': 7.316847179015077, 'e3': 8.752422688843469, 'e4': 7.009007760300923, 'e5': 7.450565826629935},\n",
       " {'e1': 7.229534055394979, 'e2': 7.522223220540274, 'e3': 5.405638597150324, 'e4': 8.487777400723134, 'e5': 6.625331319530308},\n",
       " {'e1': 8.1487163800596, 'e2': 5.214356411840566, 'e3': 6.7917564078509045, 'e4': 7.8488470048793255, 'e5': 8.600090982943513},\n",
       " {'e1': 7.3776283465148795, 'e2': 6.491175275388213, 'e3': 7.275322242782931, 'e4': 7.619278769539814, 'e5': 7.746695586930689},\n",
       " {'e1': 7.8832042621190626, 'e2': 7.480100884016538, 'e3': 8.091718412338267, 'e4': 7.024314168748098, 'e5': 6.4712914789306355},\n",
       " {'e1': 5.396278100490108, 'e2': 7.308867186430355, 'e3': 7.449194648975078, 'e4': 5.929498780415244, 'e5': 5.329089745937528},\n",
       " {'e1': 6.827648666740164, 'e2': 6.778086107770404, 'e3': 7.082075688041144, 'e4': 5.839105038720569, 'e5': 5.116620438630185},\n",
       " {'e1': 6.730340690549505, 'e2': 6.228220068950592, 'e3': 8.046496473821204, 'e4': 7.235597065415736, 'e5': 6.239965626797178},\n",
       " {'e1': 6.826700852087659, 'e2': 6.432560130552292, 'e3': 7.851231518199039, 'e4': 5.77682286456731, 'e5': 8.194793883491068},\n",
       " {'e1': 7.361979627181718, 'e2': 9.121247261626465, 'e3': 7.469762065112619, 'e4': 7.218250269560682, 'e5': 8.813190934346622},\n",
       " {'e1': 7.464220611219526, 'e2': 7.166606403919797, 'e3': 7.688242635622357, 'e4': 6.846255503362148, 'e5': 9.229827805690995},\n",
       " {'e1': 6.917891238850844, 'e2': 7.1532776166138845, 'e3': 6.644996895936754, 'e4': 9.110864521266157, 'e5': 8.327827679180063},\n",
       " {'e1': 6.208230499204275, 'e2': 7.371300717125564, 'e3': 7.501428380815524, 'e4': 6.132747489569908, 'e5': 6.602501900118546},\n",
       " {'e1': 7.066827699435347, 'e2': 7.113653806631823, 'e3': 5.3695871912239745, 'e4': 8.973292376849184, 'e5': 8.006480078907925},\n",
       " {'e1': 8.45921954672318, 'e2': 5.996396523017532, 'e3': 8.0011563504016, 'e4': 6.369306629160259, 'e5': 8.681486069801982},\n",
       " {'e1': 6.666952488808186, 'e2': 7.502397686220851, 'e3': 5.808469411805323, 'e4': 7.941561567838745, 'e5': 7.667822736762639},\n",
       " {'e1': 8.63243149963062, 'e2': 6.854484160594028, 'e3': 6.748537829111107, 'e4': 6.703347563324737, 'e5': 6.16647123488133},\n",
       " {'e1': 4.952225593409554, 'e2': 6.7069910206593715, 'e3': 6.448177538315646, 'e4': 7.863019758999611, 'e5': 6.757355386477629},\n",
       " {'e1': 7.19503592291672, 'e2': 7.402479206420617, 'e3': 6.856568666495432, 'e4': 6.881492625829761, 'e5': 8.511380958619437},\n",
       " {'e1': 7.083997253988012, 'e2': 7.4043753182617165, 'e3': 8.557867980810279, 'e4': 6.997928937362971, 'e5': 8.323649984388132},\n",
       " {'e1': 9.189414362635647, 'e2': 6.958834544792329, 'e3': 7.531232024974739, 'e4': 9.008287947486362, 'e5': 5.341255845953158},\n",
       " {'e1': 6.976278168850793, 'e2': 6.282828149163815, 'e3': 8.077093352554213, 'e4': 6.675443193770524, 'e5': 7.52743138873787},\n",
       " {'e1': 7.61973581514778, 'e2': 6.107628463124944, 'e3': 8.7691679410817, 'e4': 4.930791545694484, 'e5': 7.784804393760263},\n",
       " {'e1': 8.044263373155124, 'e2': 6.086603032640427, 'e3': 6.726313766811254, 'e4': 8.39232718362006, 'e5': 5.729833056762974},\n",
       " {'e1': 7.175896045247794, 'e2': 6.178901752044296, 'e3': 5.9015125647713536, 'e4': 7.977115669734103, 'e5': 6.647690258793951},\n",
       " {'e1': 6.453151726522331, 'e2': 9.19843205514055, 'e3': 7.506978878010622, 'e4': 6.653210677964689, 'e5': 8.845116414668217},\n",
       " {'e1': 4.668685419379236, 'e2': 7.4234744869946345, 'e3': 5.71216492480089, 'e4': 6.252483238963481, 'e5': 8.58275498599845},\n",
       " {'e1': 7.094260942255508, 'e2': 6.619028032459216, 'e3': 9.29854651427511, 'e4': 3.3998915422385863, 'e5': 6.8196348519225},\n",
       " {'e1': 7.585225350417996, 'e2': 7.43736079137788, 'e3': 6.440744711009114, 'e4': 6.7643265171005975, 'e5': 5.074532916877039},\n",
       " {'e1': 6.813499627294987, 'e2': 6.590256986777644, 'e3': 5.304512016082126, 'e4': 9.164155302404934, 'e5': 5.30285843824551},\n",
       " {'e1': 7.915532039221068, 'e2': 5.931615005792106, 'e3': 4.9825565415762245, 'e4': 6.7865222379235295, 'e5': 8.76009485095639},\n",
       " {'e1': 5.600347625770037, 'e2': 6.659558565921684, 'e3': 7.27215420582182, 'e4': 6.035987742711706, 'e5': 5.958358350916373},\n",
       " {'e1': 7.794136181683767, 'e2': 7.38103000891869, 'e3': 6.1245530876885725, 'e4': 5.807301337327965, 'e5': 5.635692901722412},\n",
       " {'e1': 7.832722885277946, 'e2': 6.482704206983546, 'e3': 6.516646948987294, 'e4': 7.926639246896236, 'e5': 6.407819756221005},\n",
       " {'e1': 7.218739921779517, 'e2': 7.710453823817209, 'e3': 6.964824264165851, 'e4': 5.920714840078973, 'e5': 7.4177999232156315},\n",
       " {'e1': 7.47283190469946, 'e2': 6.872547013070035, 'e3': 7.223966723513262, 'e4': 7.528670966481764, 'e5': 6.664232073424871},\n",
       " {'e1': 8.80822466018666, 'e2': 5.890999531815641, 'e3': 6.515608064682269, 'e4': 6.716166328386422, 'e5': 6.788405852737208},\n",
       " {'e1': 5.429823695654154, 'e2': 8.644036018380433, 'e3': 6.045306535847178, 'e4': 4.455296443551414, 'e5': 7.812094886593243},\n",
       " {'e1': 6.675784761989184, 'e2': 5.331885153164865, 'e3': 8.022011233739347, 'e4': 7.13943415320238, 'e5': 6.168512254812362},\n",
       " {'e1': 8.030482416786182, 'e2': 5.019780038430511, 'e3': 7.039038044549703, 'e4': 7.169426019311232, 'e5': 6.384020958613871},\n",
       " {'e1': 8.234812970461542, 'e2': 6.964093536584073, 'e3': 6.211445074611787, 'e4': 7.000410485351171, 'e5': 4.272585098129153},\n",
       " {'e1': 5.937405922411242, 'e2': 7.672790210651117, 'e3': 7.895876100971357, 'e4': 6.484571835310959, 'e5': 6.714129040405335},\n",
       " {'e1': 6.706061761382812, 'e2': 6.589208274216168, 'e3': 6.604914514526389, 'e4': 6.035232499883984, 'e5': 8.046725678683037},\n",
       " {'e1': 8.413028914036476, 'e2': 7.080729028645953, 'e3': 4.2845226965814724, 'e4': 6.749673271050713, 'e5': 5.097218485278883},\n",
       " {'e1': 6.549108573158938, 'e2': 5.903698467698799, 'e3': 7.0094464641480965, 'e4': 5.978328813653877, 'e5': 8.46240197067997},\n",
       " {'e1': 8.916682695768896, 'e2': 8.776535023090569, 'e3': 7.000159285099317, 'e4': 6.0730615812600135, 'e5': 6.778060172914369},\n",
       " {'e1': 9.071065661791334, 'e2': 7.496350362675426, 'e3': 6.562245554512068, 'e4': 6.496665187779781, 'e5': 8.049712856111586},\n",
       " {'e1': 7.235237009383036, 'e2': 6.7674604119676856, 'e3': 7.721888172762011, 'e4': 6.14704909714149, 'e5': 5.474989574909056},\n",
       " {'e1': 5.631757354834852, 'e2': 5.143138349387055, 'e3': 5.666856468011345, 'e4': 6.2730205141437025, 'e5': 7.442517191546508},\n",
       " {'e1': 4.455579053326026, 'e2': 7.585286203294964, 'e3': 7.494026977926508, 'e4': 7.372766928544703, 'e5': 9.352287487195305},\n",
       " {'e1': 6.0574361800856975, 'e2': 7.934650005412357, 'e3': 6.293610088894332, 'e4': 8.167300826590122, 'e5': 7.030164919662257},\n",
       " {'e1': 8.166928121538751, 'e2': 5.908203520505159, 'e3': 6.980263379485314, 'e4': 7.342863653045739, 'e5': 6.901673667937691},\n",
       " {'e1': 5.320204265031709, 'e2': 6.8906297050498795, 'e3': 4.9720821914616895, 'e4': 7.131108261491082, 'e5': 7.617100684601136},\n",
       " {'e1': 7.258377541755839, 'e2': 5.786333614163926, 'e3': 6.918648947602616, 'e4': 7.252561917416707, 'e5': 6.784909283520055},\n",
       " {'e1': 7.870520433984185, 'e2': 6.664760016122326, 'e3': 7.274666576690994, 'e4': 8.00242774674888, 'e5': 8.656686318044182},\n",
       " {'e1': 7.614723983585872, 'e2': 4.5028263993708615, 'e3': 7.533786519102364, 'e4': 7.130739227266739, 'e5': 7.167822215030684},\n",
       " {'e1': 7.802966149843337, 'e2': 6.435091687066045, 'e3': 5.119370015150287, 'e4': 5.562752765296451, 'e5': 7.32554979651562},\n",
       " {'e1': 6.251127955320382, 'e2': 7.640065496427615, 'e3': 7.1165409854885775, 'e4': 7.4854514309968, 'e5': 6.676606349516321},\n",
       " {'e1': 7.506311451567524, 'e2': 7.312423247146376, 'e3': 6.632237087852863, 'e4': 6.859463313334716, 'e5': 7.089469439390582},\n",
       " {'e1': 7.132662201895437, 'e2': 8.718184046514915, 'e3': 6.892883464911952, 'e4': 8.06607322620483, 'e5': 6.065208228780308},\n",
       " {'e1': 7.89487822723224, 'e2': 6.820889276043253, 'e3': 7.195939726902632, 'e4': 7.62728758435508, 'e5': 8.382026673998228},\n",
       " {'e1': 7.345986172308577, 'e2': 8.352657882112583, 'e3': 9.465674969490754, 'e4': 5.392468060883989, 'e5': 7.8502862684941155},\n",
       " {'e1': 8.092102290466194, 'e2': 6.899605970648676, 'e3': 7.46440413634657, 'e4': 7.351249513282403, 'e5': 6.152471551574304},\n",
       " {'e1': 6.987407748906704, 'e2': 6.0657850429558575, 'e3': 6.383118437610732, 'e4': 6.611504810683485, 'e5': 6.668267510781397},\n",
       " {'e1': 7.682484417184726, 'e2': 6.099756002165582, 'e3': 7.0683845625795225, 'e4': 7.989720796061449, 'e5': 6.985030369692511},\n",
       " {'e1': 7.251854542279389, 'e2': 8.125482130995449, 'e3': 7.1746919073901845, 'e4': 7.5620381973391675, 'e5': 4.938271518906517},\n",
       " {'e1': 8.294042033643331, 'e2': 8.60470984310765, 'e3': 8.192771619654144, 'e4': 5.543713702537394, 'e5': 7.120496855983806},\n",
       " {'e1': 6.4398651923194175, 'e2': 7.545719940649246, 'e3': 8.32377648541899, 'e4': 7.1026371146145415, 'e5': 4.279568747210312},\n",
       " {'e1': 5.248581306769727, 'e2': 7.51714934415974, 'e3': 8.951766600470307, 'e4': 6.5361823324699015, 'e5': 6.024282754154502},\n",
       " {'e1': 6.963762481128558, 'e2': 6.938045925337749, 'e3': 6.964597588960832, 'e4': 6.711472903569905, 'e5': 6.853283565083795},\n",
       " {'e1': 9.028425952054304, 'e2': 8.36052484781041, 'e3': 7.085376890653746, 'e4': 7.155427070153753, 'e5': 7.51576407164128},\n",
       " {'e1': 7.805660102681692, 'e2': 7.625707668609822, 'e3': 6.764972336676782, 'e4': 7.015147111007743, 'e5': 6.908799604280749},\n",
       " {'e1': 8.103462116049824, 'e2': 8.707788357369708, 'e3': 6.649427975599321, 'e4': 7.619975684879704, 'e5': 8.274438984726315},\n",
       " {'e1': 6.103016732688125, 'e2': 7.023538899630849, 'e3': 8.266480007162246, 'e4': 8.829973109827476, 'e5': 6.322189774915919},\n",
       " {'e1': 6.042276784393201, 'e2': 5.771558541599133, 'e3': 6.162236918615513, 'e4': 5.607026629403783, 'e5': 8.033342919665735},\n",
       " {'e1': 5.318733126896266, 'e2': 5.872583838489729, 'e3': 8.276989766806102, 'e4': 8.831088263720297, 'e5': 7.569135708238929},\n",
       " {'e1': 5.437070050880504, 'e2': 8.128682175305684, 'e3': 7.52468361858494, 'e4': 7.302620677181322, 'e5': 7.490060656904275},\n",
       " {'e1': 8.265465820453755, 'e2': 7.230023567501985, 'e3': 7.765126821396208, 'e4': 7.097905114744407, 'e5': 5.935610716972568},\n",
       " {'e1': 8.143753892237386, 'e2': 7.051912464781648, 'e3': 6.544754790527338, 'e4': 8.068278246528422, 'e5': 7.249658389580026},\n",
       " {'e1': 6.402166955668281, 'e2': 6.860720056087675, 'e3': 7.579572871583336, 'e4': 7.445921971014262, 'e5': 6.9711384287295814},\n",
       " {'e1': 8.368885884655457, 'e2': 8.303756332584731, 'e3': 7.579916814874946, 'e4': 7.220977945775803, 'e5': 8.144556706638793},\n",
       " {'e1': 4.398715124426071, 'e2': 7.532361733909571, 'e3': 7.490374292891106, 'e4': 6.083330737781509, 'e5': 5.681230540997008},\n",
       " {'e1': 7.762611708412654, 'e2': 6.822023978678976, 'e3': 8.523937280243603, 'e4': 6.746757003128436, 'e5': 7.114665692391666},\n",
       " {'e1': 8.152297975166789, 'e2': 5.4504552910723305, 'e3': 5.719466819805544, 'e4': 5.811267327349653, 'e5': 5.8858568452726425},\n",
       " {'e1': 6.936179823582952, 'e2': 7.2282704741962585, 'e3': 7.254467948615797, 'e4': 8.072379691189377, 'e5': 5.9747354782325965},\n",
       " {'e1': 6.803472434017355, 'e2': 7.2548552164378695, 'e3': 7.183774840762236, 'e4': 7.703042424637299, 'e5': 8.342994789380867},\n",
       " {'e1': 6.918729500224638, 'e2': 7.05956611038271, 'e3': 9.046989246124934, 'e4': 6.806707067437921, 'e5': 7.4628580970748875},\n",
       " {'e1': 7.738642517556899, 'e2': 4.96169585769937, 'e3': 7.059978364054735, 'e4': 6.258862950688159, 'e5': 6.845492068030646},\n",
       " {'e1': 5.438840362154588, 'e2': 7.08949910387904, 'e3': 7.11308669795717, 'e4': 5.786031839283636, 'e5': 6.70017154412136},\n",
       " {'e1': 4.680040476188625, 'e2': 10.5285564414353, 'e3': 8.637549362259328, 'e4': 7.777239247394606, 'e5': 7.14500671590063},\n",
       " {'e1': 6.262790595402823, 'e2': 6.071261380605265, 'e3': 7.865253548539401, 'e4': 7.53264855579736, 'e5': 9.351766548980507}]"
      ]
     },
     "execution_count": 64,
     "metadata": {},
     "output_type": "execute_result"
    }
   ],
   "source": [
    "%%kql -pw \n",
    "    let randn = () {rand() + rand() + rand() + rand() + rand() + rand() + rand() + rand() + rand() + rand() + rand() + rand() + rand() + rand()};\n",
    "range c from 1 to 1000 step 1 \n",
    "    | limit 1000\n",
    "    | extend e1 = randn()\n",
    "    | extend e2 = randn()\n",
    "    | extend e3 = randn()\n",
    "    | extend e4 = randn()\n",
    "    | extend e5 = randn()\n",
    "    | project e1,e2,e3,e4,e5\n",
    "    | render scatterchart title=\"Michael's chart\""
   ]
  },
  {
   "cell_type": "markdown",
   "metadata": {},
   "source": [
    "  - ### <span style=\"color:#82CAFA\">*Note: popup_window option (abbr: pw) cause the result to be displayed in a popup window*</span>"
   ]
  },
  {
   "cell_type": "markdown",
   "metadata": {},
   "source": [
    "## Empty table"
   ]
  },
  {
   "cell_type": "code",
   "execution_count": 65,
   "metadata": {},
   "outputs": [
    {
     "data": {
      "text/html": [
       "<html>\n",
       "        <head>\n",
       "        \n",
       "        </head>\n",
       "        <body>\n",
       "        <div><p style='padding: 10px; color: #3a87ad; background-color: #d9edf7; border-color: #bce9f1'>&nbsp*&nbspmyworkspace@loganalytics</p></div>\n",
       "        </body>\n",
       "        </html>"
      ],
      "text/plain": [
       "<IPython.core.display.HTML object>"
      ]
     },
     "metadata": {},
     "output_type": "display_data"
    },
    {
     "data": {
      "text/html": [
       "<html>\n",
       "        <head>\n",
       "        \n",
       "        </head>\n",
       "        <body>\n",
       "        <table>\n",
       "    <tr>\n",
       "        <th>ResourceGroup</th>\n",
       "        <th>count_</th>\n",
       "        <th>count2</th>\n",
       "    </tr>\n",
       "</table>\n",
       "        </body>\n",
       "        </html>"
      ],
      "text/plain": [
       "<IPython.core.display.HTML object>"
      ]
     },
     "metadata": {},
     "output_type": "display_data"
    },
    {
     "data": {
      "text/html": [
       "<html>\n",
       "        <head>\n",
       "        \n",
       "        </head>\n",
       "        <body>\n",
       "        <div><p style='padding: 10px; color: #3a87ad; background-color: #d9edf7; border-color: #bce9f1'>Done&nbsp(00:01.723):&nbsp0&nbsprecords</p></div>\n",
       "        </body>\n",
       "        </html>"
      ],
      "text/plain": [
       "<IPython.core.display.HTML object>"
      ]
     },
     "metadata": {},
     "output_type": "display_data"
    },
    {
     "data": {
      "text/html": [],
      "text/plain": [
       "[]"
      ]
     },
     "execution_count": 65,
     "metadata": {},
     "output_type": "execute_result"
    }
   ],
   "source": [
    "%%kql \n",
    "    Heartbeat \n",
    "    | where ResourceGroup != '' \n",
    "    | summarize count() by ResourceGroup \n",
    "    | sort by count_ | limit 10\n",
    "    | extend count2 = count_*count_ \n",
    "    | limit 0"
   ]
  },
  {
   "cell_type": "code",
   "execution_count": 66,
   "metadata": {},
   "outputs": [
    {
     "data": {
      "text/html": [
       "<html>\n",
       "        <head>\n",
       "        \n",
       "        </head>\n",
       "        <body>\n",
       "        <div><p style='padding: 10px; color: #3a87ad; background-color: #d9edf7; border-color: #bce9f1'>&nbsp*&nbspmyworkspace@loganalytics</p></div>\n",
       "        </body>\n",
       "        </html>"
      ],
      "text/plain": [
       "<IPython.core.display.HTML object>"
      ]
     },
     "metadata": {},
     "output_type": "display_data"
    },
    {
     "data": {
      "text/html": [
       "<html>\n",
       "        <head>\n",
       "        <style>#uuid-9c64577650f041dd8e299a1cfea8edd7 {\n",
       "                display: block; \n",
       "                font-style:italic;\n",
       "                font-size:300%;\n",
       "                text-align:center;\n",
       "            } </style>\n",
       "        </head>\n",
       "        <body>\n",
       "        <div id=\"uuid-9c64577650f041dd8e299a1cfea8edd7\"><br><br>EMPTY CHART (no data)<br><br>.</div>\n",
       "        </body>\n",
       "        </html>"
      ],
      "text/plain": [
       "<IPython.core.display.HTML object>"
      ]
     },
     "metadata": {},
     "output_type": "display_data"
    },
    {
     "data": {
      "text/html": [
       "<html>\n",
       "        <head>\n",
       "        \n",
       "        </head>\n",
       "        <body>\n",
       "        <div><p style='padding: 10px; color: #3a87ad; background-color: #d9edf7; border-color: #bce9f1'>Done&nbsp(00:02.309):&nbsp0&nbsprecords</p></div>\n",
       "        </body>\n",
       "        </html>"
      ],
      "text/plain": [
       "<IPython.core.display.HTML object>"
      ]
     },
     "metadata": {},
     "output_type": "display_data"
    },
    {
     "data": {
      "text/html": [],
      "text/plain": [
       "[]"
      ]
     },
     "execution_count": 66,
     "metadata": {},
     "output_type": "execute_result"
    }
   ],
   "source": [
    "%%kql \n",
    "    Heartbeat \n",
    "    | where ResourceGroup != '' \n",
    "    | summarize count() by ResourceGroup \n",
    "    | sort by count_ | limit 10\n",
    "    | extend count2 = count_*count_ \n",
    "    | limit 0\n",
    "    | render piechart title='my chart'"
   ]
  },
  {
   "cell_type": "code",
   "execution_count": 67,
   "metadata": {},
   "outputs": [
    {
     "data": {
      "text/plain": [
       "0"
      ]
     },
     "execution_count": 67,
     "metadata": {},
     "output_type": "execute_result"
    }
   ],
   "source": [
    "len(_kql_raw_result_)"
   ]
  },
  {
   "cell_type": "code",
   "execution_count": 68,
   "metadata": {},
   "outputs": [
    {
     "data": {
      "text/html": [
       "<!DOCTYPE html>\n",
       "            <html><body>\n",
       "\n",
       "            <button onclick=\"this.style.visibility='hidden';kql_MagicLaunchWindowFunction('Kqlmagic_temp_files/e6f1bcdead2b4e44b0fc32e2c17a1082.html','fullscreen=no,directories=no,location=no,menubar=no,resizable=yes,scrollbars=yes,status=no,titlebar=no,toolbar=no,','e6f1bcdead2b4e44b0fc32e2c17a1082','')\">popup piechart - my chart </button>\n",
       "\n",
       "            <script>\n",
       "\n",
       "            function kql_MagicLaunchWindowFunction(file_path, window_params, window_name, notebooks_host) {\n",
       "                var url;\n",
       "                if (file_path.startsWith('http')) {\n",
       "                    url = file_path;\n",
       "                } else {\n",
       "                    var base_url = '';\n",
       "\n",
       "                    // check if azure notebook\n",
       "                    var azure_host = (notebooks_host == null || notebooks_host.length == 0) ? 'https://notebooks.azure.com' : notebooks_host;\n",
       "                    var start = azure_host.search('//');\n",
       "                    var azure_host_suffix = '.' + azure_host.substring(start+2);\n",
       "\n",
       "                    var loc = String(window.location);\n",
       "                    var end = loc.search(azure_host_suffix);\n",
       "                    start = loc.search('//');\n",
       "                    if (start > 0 && end > 0) {\n",
       "                        var parts = loc.substring(start+2, end).split('-');\n",
       "                        if (parts.length == 2) {\n",
       "                            var library = parts[0];\n",
       "                            var user = parts[1];\n",
       "                            base_url = azure_host + '/api/user/' +user+ '/library/' +library+ '/html/';\n",
       "                        }\n",
       "                    }\n",
       "\n",
       "                    // check if local jupyter lab\n",
       "                    if (base_url.length == 0) {\n",
       "                        var configDataScipt  = document.getElementById('jupyter-config-data');\n",
       "                        if (configDataScipt != null) {\n",
       "                            var jupyterConfigData = JSON.parse(configDataScipt.textContent);\n",
       "                            if (jupyterConfigData['appName'] == 'JupyterLab' && jupyterConfigData['serverRoot'] != null &&  jupyterConfigData['treeUrl'] != null) {\n",
       "                                var basePath = 'C:/My Projects/jupyter-Kqlmagic-microsoft/notebooks' + '/';\n",
       "                                if (basePath.startsWith(jupyterConfigData['serverRoot'])) {\n",
       "                                    base_url = '/files/' + basePath.substring(jupyterConfigData['serverRoot'].length+1);\n",
       "                                }\n",
       "                            } \n",
       "                        }\n",
       "                    }\n",
       "\n",
       "                    // assume local jupyter notebook\n",
       "                    if (base_url.length == 0) {\n",
       "\n",
       "                        var parts = loc.split('/');\n",
       "                        parts.pop();\n",
       "                        base_url = parts.join('/') + '/';\n",
       "                    }\n",
       "                    url = base_url + file_path;\n",
       "                }\n",
       "\n",
       "                window.focus();\n",
       "                var w = screen.width / 2;\n",
       "                var h = screen.height / 2;\n",
       "                params = 'width='+w+',height='+h;\n",
       "                kql_Magic_e6f1bcdead2b4e44b0fc32e2c17a1082 = window.open(url, window_name, window_params + params);\n",
       "            }\n",
       "            </script>\n",
       "\n",
       "            </body></html>"
      ],
      "text/plain": [
       "<IPython.core.display.HTML object>"
      ]
     },
     "metadata": {},
     "output_type": "display_data"
    }
   ],
   "source": [
    "_kql_raw_result_.popup()"
   ]
  },
  {
   "cell_type": "code",
   "execution_count": 69,
   "metadata": {},
   "outputs": [
    {
     "data": {
      "text/html": [
       "<html>\n",
       "        <head>\n",
       "        \n",
       "        </head>\n",
       "        <body>\n",
       "        <table>\n",
       "    <tr>\n",
       "        <th>ResourceGroup</th>\n",
       "        <th>count_</th>\n",
       "        <th>count2</th>\n",
       "    </tr>\n",
       "</table>\n",
       "        </body>\n",
       "        </html>"
      ],
      "text/plain": [
       "<IPython.core.display.HTML object>"
      ]
     },
     "metadata": {},
     "output_type": "display_data"
    }
   ],
   "source": [
    "_kql_raw_result_.show_table()"
   ]
  },
  {
   "cell_type": "code",
   "execution_count": 70,
   "metadata": {},
   "outputs": [
    {
     "data": {
      "text/html": [
       "<div>\n",
       "<style scoped>\n",
       "    .dataframe tbody tr th:only-of-type {\n",
       "        vertical-align: middle;\n",
       "    }\n",
       "\n",
       "    .dataframe tbody tr th {\n",
       "        vertical-align: top;\n",
       "    }\n",
       "\n",
       "    .dataframe thead th {\n",
       "        text-align: right;\n",
       "    }\n",
       "</style>\n",
       "<table border=\"1\" class=\"dataframe\">\n",
       "  <thead>\n",
       "    <tr style=\"text-align: right;\">\n",
       "      <th></th>\n",
       "      <th>ResourceGroup</th>\n",
       "      <th>count_</th>\n",
       "      <th>count2</th>\n",
       "    </tr>\n",
       "  </thead>\n",
       "  <tbody>\n",
       "  </tbody>\n",
       "</table>\n",
       "</div>"
      ],
      "text/plain": [
       "Empty DataFrame\n",
       "Columns: [ResourceGroup, count_, count2]\n",
       "Index: []"
      ]
     },
     "execution_count": 70,
     "metadata": {},
     "output_type": "execute_result"
    }
   ],
   "source": [
    "df = _kql_raw_result_.to_dataframe()\n",
    "df"
   ]
  },
  {
   "cell_type": "code",
   "execution_count": 71,
   "metadata": {},
   "outputs": [
    {
     "data": {
      "text/plain": [
       "'{\"ResourceGroup\":{},\"count_\":{},\"count2\":{}}'"
      ]
     },
     "execution_count": 71,
     "metadata": {},
     "output_type": "execute_result"
    }
   ],
   "source": [
    "df.to_json()"
   ]
  },
  {
   "cell_type": "code",
   "execution_count": 72,
   "metadata": {
    "scrolled": true
   },
   "outputs": [
    {
     "data": {
      "text/plain": [
       "{\n",
       "    \u001b[34;01m\"Tables\"\u001b[39;49;00m: [\n",
       "        {\n",
       "            \u001b[34;01m\"Columns\"\u001b[39;49;00m: [\n",
       "                {\n",
       "                    \u001b[34;01m\"ColumnName\"\u001b[39;49;00m: \u001b[33m\"ResourceGroup\"\u001b[39;49;00m,\n",
       "                    \u001b[34;01m\"ColumnType\"\u001b[39;49;00m: \u001b[33m\"string\"\u001b[39;49;00m,\n",
       "                    \u001b[34;01m\"DataType\"\u001b[39;49;00m: \u001b[33m\"String\"\u001b[39;49;00m\n",
       "                },\n",
       "                {\n",
       "                    \u001b[34;01m\"ColumnName\"\u001b[39;49;00m: \u001b[33m\"count_\"\u001b[39;49;00m,\n",
       "                    \u001b[34;01m\"ColumnType\"\u001b[39;49;00m: \u001b[33m\"long\"\u001b[39;49;00m,\n",
       "                    \u001b[34;01m\"DataType\"\u001b[39;49;00m: \u001b[33m\"Int64\"\u001b[39;49;00m\n",
       "                },\n",
       "                {\n",
       "                    \u001b[34;01m\"ColumnName\"\u001b[39;49;00m: \u001b[33m\"count2\"\u001b[39;49;00m,\n",
       "                    \u001b[34;01m\"ColumnType\"\u001b[39;49;00m: \u001b[33m\"long\"\u001b[39;49;00m,\n",
       "                    \u001b[34;01m\"DataType\"\u001b[39;49;00m: \u001b[33m\"Int64\"\u001b[39;49;00m\n",
       "                }\n",
       "            ],\n",
       "            \u001b[34;01m\"Rows\"\u001b[39;49;00m: [],\n",
       "            \u001b[34;01m\"TableName\"\u001b[39;49;00m: \u001b[33m\"Table_0\"\u001b[39;49;00m\n",
       "        },\n",
       "        {\n",
       "            \u001b[34;01m\"Columns\"\u001b[39;49;00m: [\n",
       "                {\n",
       "                    \u001b[34;01m\"ColumnName\"\u001b[39;49;00m: \u001b[33m\"Value\"\u001b[39;49;00m,\n",
       "                    \u001b[34;01m\"ColumnType\"\u001b[39;49;00m: \u001b[33m\"string\"\u001b[39;49;00m,\n",
       "                    \u001b[34;01m\"DataType\"\u001b[39;49;00m: \u001b[33m\"String\"\u001b[39;49;00m\n",
       "                }\n",
       "            ],\n",
       "            \u001b[34;01m\"Rows\"\u001b[39;49;00m: [\n",
       "                [\n",
       "                    \u001b[33m\"{\\\"Visualization\\\":\\\"piechart\\\",\\\"Title\\\":\\\"my chart\\\",\\\"XColumn\\\":null,\\\"Series\\\":null,\\\"YColumns\\\":null,\\\"XTitle\\\":null,\\\"YTitle\\\":null,\\\"XAxis\\\":null,\\\"YAxis\\\":null,\\\"Legend\\\":null,\\\"YSplit\\\":null,\\\"Accumulate\\\":false,\\\"IsQuerySorted\\\":true,\\\"Kind\\\":null}\"\u001b[39;49;00m\n",
       "                ]\n",
       "            ],\n",
       "            \u001b[34;01m\"TableName\"\u001b[39;49;00m: \u001b[33m\"Table_1\"\u001b[39;49;00m\n",
       "        },\n",
       "        {\n",
       "            \u001b[34;01m\"Columns\"\u001b[39;49;00m: [\n",
       "                {\n",
       "                    \u001b[34;01m\"ColumnName\"\u001b[39;49;00m: \u001b[33m\"Timestamp\"\u001b[39;49;00m,\n",
       "                    \u001b[34;01m\"ColumnType\"\u001b[39;49;00m: \u001b[33m\"datetime\"\u001b[39;49;00m,\n",
       "                    \u001b[34;01m\"DataType\"\u001b[39;49;00m: \u001b[33m\"DateTime\"\u001b[39;49;00m\n",
       "                },\n",
       "                {\n",
       "                    \u001b[34;01m\"ColumnName\"\u001b[39;49;00m: \u001b[33m\"Severity\"\u001b[39;49;00m,\n",
       "                    \u001b[34;01m\"ColumnType\"\u001b[39;49;00m: \u001b[33m\"int\"\u001b[39;49;00m,\n",
       "                    \u001b[34;01m\"DataType\"\u001b[39;49;00m: \u001b[33m\"Int32\"\u001b[39;49;00m\n",
       "                },\n",
       "                {\n",
       "                    \u001b[34;01m\"ColumnName\"\u001b[39;49;00m: \u001b[33m\"SeverityName\"\u001b[39;49;00m,\n",
       "                    \u001b[34;01m\"ColumnType\"\u001b[39;49;00m: \u001b[33m\"string\"\u001b[39;49;00m,\n",
       "                    \u001b[34;01m\"DataType\"\u001b[39;49;00m: \u001b[33m\"String\"\u001b[39;49;00m\n",
       "                },\n",
       "                {\n",
       "                    \u001b[34;01m\"ColumnName\"\u001b[39;49;00m: \u001b[33m\"StatusCode\"\u001b[39;49;00m,\n",
       "                    \u001b[34;01m\"ColumnType\"\u001b[39;49;00m: \u001b[33m\"int\"\u001b[39;49;00m,\n",
       "                    \u001b[34;01m\"DataType\"\u001b[39;49;00m: \u001b[33m\"Int32\"\u001b[39;49;00m\n",
       "                },\n",
       "                {\n",
       "                    \u001b[34;01m\"ColumnName\"\u001b[39;49;00m: \u001b[33m\"StatusDescription\"\u001b[39;49;00m,\n",
       "                    \u001b[34;01m\"ColumnType\"\u001b[39;49;00m: \u001b[33m\"string\"\u001b[39;49;00m,\n",
       "                    \u001b[34;01m\"DataType\"\u001b[39;49;00m: \u001b[33m\"String\"\u001b[39;49;00m\n",
       "                },\n",
       "                {\n",
       "                    \u001b[34;01m\"ColumnName\"\u001b[39;49;00m: \u001b[33m\"Count\"\u001b[39;49;00m,\n",
       "                    \u001b[34;01m\"ColumnType\"\u001b[39;49;00m: \u001b[33m\"int\"\u001b[39;49;00m,\n",
       "                    \u001b[34;01m\"DataType\"\u001b[39;49;00m: \u001b[33m\"Int32\"\u001b[39;49;00m\n",
       "                },\n",
       "                {\n",
       "                    \u001b[34;01m\"ColumnName\"\u001b[39;49;00m: \u001b[33m\"RequestId\"\u001b[39;49;00m,\n",
       "                    \u001b[34;01m\"ColumnType\"\u001b[39;49;00m: \u001b[33m\"guid\"\u001b[39;49;00m,\n",
       "                    \u001b[34;01m\"DataType\"\u001b[39;49;00m: \u001b[33m\"Guid\"\u001b[39;49;00m\n",
       "                },\n",
       "                {\n",
       "                    \u001b[34;01m\"ColumnName\"\u001b[39;49;00m: \u001b[33m\"ActivityId\"\u001b[39;49;00m,\n",
       "                    \u001b[34;01m\"ColumnType\"\u001b[39;49;00m: \u001b[33m\"guid\"\u001b[39;49;00m,\n",
       "                    \u001b[34;01m\"DataType\"\u001b[39;49;00m: \u001b[33m\"Guid\"\u001b[39;49;00m\n",
       "                },\n",
       "                {\n",
       "                    \u001b[34;01m\"ColumnName\"\u001b[39;49;00m: \u001b[33m\"SubActivityId\"\u001b[39;49;00m,\n",
       "                    \u001b[34;01m\"ColumnType\"\u001b[39;49;00m: \u001b[33m\"guid\"\u001b[39;49;00m,\n",
       "                    \u001b[34;01m\"DataType\"\u001b[39;49;00m: \u001b[33m\"Guid\"\u001b[39;49;00m\n",
       "                },\n",
       "                {\n",
       "                    \u001b[34;01m\"ColumnName\"\u001b[39;49;00m: \u001b[33m\"ClientActivityId\"\u001b[39;49;00m,\n",
       "                    \u001b[34;01m\"ColumnType\"\u001b[39;49;00m: \u001b[33m\"string\"\u001b[39;49;00m,\n",
       "                    \u001b[34;01m\"DataType\"\u001b[39;49;00m: \u001b[33m\"String\"\u001b[39;49;00m\n",
       "                }\n",
       "            ],\n",
       "            \u001b[34;01m\"Rows\"\u001b[39;49;00m: [\n",
       "                [\n",
       "                    \u001b[33m\"2018-10-18T10:04:25.8357631Z\"\u001b[39;49;00m,\n",
       "                    \u001b[34m4\u001b[39;49;00m,\n",
       "                    \u001b[33m\"Info\"\u001b[39;49;00m,\n",
       "                    \u001b[34m0\u001b[39;49;00m,\n",
       "                    \u001b[33m\"Query completed successfully\"\u001b[39;49;00m,\n",
       "                    \u001b[34m1\u001b[39;49;00m,\n",
       "                    \u001b[33m\"86b3d1a0-3cd1-476c-ad88-b0fd433aafdc\"\u001b[39;49;00m,\n",
       "                    \u001b[33m\"86b3d1a0-3cd1-476c-ad88-b0fd433aafdc\"\u001b[39;49;00m,\n",
       "                    \u001b[33m\"161d0840-a636-4931-9fa8-94d541eba47e\"\u001b[39;49;00m,\n",
       "                    \u001b[33m\"6112eb25-c332-4d59-a818-8802eb7b7084\"\u001b[39;49;00m\n",
       "                ],\n",
       "                [\n",
       "                    \u001b[33m\"2018-10-18T10:04:25.8357631Z\"\u001b[39;49;00m,\n",
       "                    \u001b[34m6\u001b[39;49;00m,\n",
       "                    \u001b[33m\"Stats\"\u001b[39;49;00m,\n",
       "                    \u001b[34m0\u001b[39;49;00m,\n",
       "                    \u001b[33m\"{\\\"ExecutionTime\\\":0.0,\\\"resource_usage\\\":{\\\"cache\\\":{\\\"memory\\\":{\\\"hits\\\":0,\\\"misses\\\":0,\\\"total\\\":0},\\\"disk\\\":{\\\"hits\\\":0,\\\"misses\\\":0,\\\"total\\\":0}},\\\"cpu\\\":{\\\"user\\\":\\\"00:00:00\\\",\\\"kernel\\\":\\\"00:00:00\\\",\\\"total cpu\\\":\\\"00:00:00\\\"},\\\"memory\\\":{\\\"peak_per_node\\\":0}},\\\"input_dataset_statistics\\\":{\\\"extents\\\":{\\\"total\\\":0,\\\"scanned\\\":0},\\\"rows\\\":{\\\"total\\\":0,\\\"scanned\\\":0},\\\"rowstores\\\":{\\\"scanned_rows\\\":0}},\\\"dataset_statistics\\\":[{\\\"table_row_count\\\":0,\\\"table_size\\\":0}]}\"\u001b[39;49;00m,\n",
       "                    \u001b[34m1\u001b[39;49;00m,\n",
       "                    \u001b[33m\"86b3d1a0-3cd1-476c-ad88-b0fd433aafdc\"\u001b[39;49;00m,\n",
       "                    \u001b[33m\"86b3d1a0-3cd1-476c-ad88-b0fd433aafdc\"\u001b[39;49;00m,\n",
       "                    \u001b[33m\"161d0840-a636-4931-9fa8-94d541eba47e\"\u001b[39;49;00m,\n",
       "                    \u001b[33m\"6112eb25-c332-4d59-a818-8802eb7b7084\"\u001b[39;49;00m\n",
       "                ]\n",
       "            ],\n",
       "            \u001b[34;01m\"TableName\"\u001b[39;49;00m: \u001b[33m\"Table_2\"\u001b[39;49;00m\n",
       "        },\n",
       "        {\n",
       "            \u001b[34;01m\"Columns\"\u001b[39;49;00m: [\n",
       "                {\n",
       "                    \u001b[34;01m\"ColumnName\"\u001b[39;49;00m: \u001b[33m\"Ordinal\"\u001b[39;49;00m,\n",
       "                    \u001b[34;01m\"ColumnType\"\u001b[39;49;00m: \u001b[33m\"long\"\u001b[39;49;00m,\n",
       "                    \u001b[34;01m\"DataType\"\u001b[39;49;00m: \u001b[33m\"Int64\"\u001b[39;49;00m\n",
       "                },\n",
       "                {\n",
       "                    \u001b[34;01m\"ColumnName\"\u001b[39;49;00m: \u001b[33m\"Kind\"\u001b[39;49;00m,\n",
       "                    \u001b[34;01m\"ColumnType\"\u001b[39;49;00m: \u001b[33m\"string\"\u001b[39;49;00m,\n",
       "                    \u001b[34;01m\"DataType\"\u001b[39;49;00m: \u001b[33m\"String\"\u001b[39;49;00m\n",
       "                },\n",
       "                {\n",
       "                    \u001b[34;01m\"ColumnName\"\u001b[39;49;00m: \u001b[33m\"Name\"\u001b[39;49;00m,\n",
       "                    \u001b[34;01m\"ColumnType\"\u001b[39;49;00m: \u001b[33m\"string\"\u001b[39;49;00m,\n",
       "                    \u001b[34;01m\"DataType\"\u001b[39;49;00m: \u001b[33m\"String\"\u001b[39;49;00m\n",
       "                },\n",
       "                {\n",
       "                    \u001b[34;01m\"ColumnName\"\u001b[39;49;00m: \u001b[33m\"Id\"\u001b[39;49;00m,\n",
       "                    \u001b[34;01m\"ColumnType\"\u001b[39;49;00m: \u001b[33m\"string\"\u001b[39;49;00m,\n",
       "                    \u001b[34;01m\"DataType\"\u001b[39;49;00m: \u001b[33m\"String\"\u001b[39;49;00m\n",
       "                },\n",
       "                {\n",
       "                    \u001b[34;01m\"ColumnName\"\u001b[39;49;00m: \u001b[33m\"PrettyName\"\u001b[39;49;00m,\n",
       "                    \u001b[34;01m\"ColumnType\"\u001b[39;49;00m: \u001b[33m\"string\"\u001b[39;49;00m,\n",
       "                    \u001b[34;01m\"DataType\"\u001b[39;49;00m: \u001b[33m\"String\"\u001b[39;49;00m\n",
       "                }\n",
       "            ],\n",
       "            \u001b[34;01m\"Rows\"\u001b[39;49;00m: [\n",
       "                [\n",
       "                    \u001b[34m0\u001b[39;49;00m,\n",
       "                    \u001b[33m\"QueryResult\"\u001b[39;49;00m,\n",
       "                    \u001b[33m\"PrimaryResult\"\u001b[39;49;00m,\n",
       "                    \u001b[33m\"a01c8438-bd4f-43a3-a873-349f0b03ac80\"\u001b[39;49;00m,\n",
       "                    \u001b[33m\"\"\u001b[39;49;00m\n",
       "                ],\n",
       "                [\n",
       "                    \u001b[34m1\u001b[39;49;00m,\n",
       "                    \u001b[33m\"QueryProperties\"\u001b[39;49;00m,\n",
       "                    \u001b[33m\"@ExtendedProperties\"\u001b[39;49;00m,\n",
       "                    \u001b[33m\"b91c016c-495f-408c-8d60-65bbd525553a\"\u001b[39;49;00m,\n",
       "                    \u001b[33m\"\"\u001b[39;49;00m\n",
       "                ],\n",
       "                [\n",
       "                    \u001b[34m2\u001b[39;49;00m,\n",
       "                    \u001b[33m\"QueryStatus\"\u001b[39;49;00m,\n",
       "                    \u001b[33m\"QueryStatus\"\u001b[39;49;00m,\n",
       "                    \u001b[33m\"00000000-0000-0000-0000-000000000000\"\u001b[39;49;00m,\n",
       "                    \u001b[33m\"\"\u001b[39;49;00m\n",
       "                ]\n",
       "            ],\n",
       "            \u001b[34;01m\"TableName\"\u001b[39;49;00m: \u001b[33m\"Table_3\"\u001b[39;49;00m\n",
       "        }\n",
       "    ]\n",
       "}"
      ]
     },
     "execution_count": 72,
     "metadata": {},
     "output_type": "execute_result"
    }
   ],
   "source": [
    "_kql_raw_result_.raw_json"
   ]
  },
  {
   "cell_type": "markdown",
   "metadata": {},
   "source": [
    "## Kql request with fork - return multiple tables"
   ]
  },
  {
   "cell_type": "code",
   "execution_count": 76,
   "metadata": {},
   "outputs": [
    {
     "data": {
      "text/html": [
       "<html>\n",
       "        <head>\n",
       "        \n",
       "        </head>\n",
       "        <body>\n",
       "        <div><p style='padding: 10px; color: #3a87ad; background-color: #d9edf7; border-color: #bce9f1'>&nbsp*&nbspmyworkspace@loganalytics</p></div>\n",
       "        </body>\n",
       "        </html>"
      ],
      "text/plain": [
       "<IPython.core.display.HTML object>"
      ]
     },
     "metadata": {},
     "output_type": "display_data"
    },
    {
     "data": {
      "text/html": [
       "<html>\n",
       "        <head>\n",
       "        \n",
       "        </head>\n",
       "        <body>\n",
       "        <table>\n",
       "    <tr>\n",
       "        <th>ResourceGroup</th>\n",
       "        <th>count_</th>\n",
       "        <th>count2</th>\n",
       "    </tr>\n",
       "    <tr>\n",
       "        <td>contosoazurehq</td>\n",
       "        <td>2446445</td>\n",
       "        <td>5985093138025</td>\n",
       "    </tr>\n",
       "    <tr>\n",
       "        <td>contosoonpremhq</td>\n",
       "        <td>950419</td>\n",
       "        <td>903296275561</td>\n",
       "    </tr>\n",
       "    <tr>\n",
       "        <td>contosoautomation</td>\n",
       "        <td>566456</td>\n",
       "        <td>320872399936</td>\n",
       "    </tr>\n",
       "    <tr>\n",
       "        <td>aztest</td>\n",
       "        <td>339832</td>\n",
       "        <td>115485788224</td>\n",
       "    </tr>\n",
       "    <tr>\n",
       "        <td>contosoretail100</td>\n",
       "        <td>266503</td>\n",
       "        <td>71023849009</td>\n",
       "    </tr>\n",
       "    <tr>\n",
       "        <td>contosovma6ab</td>\n",
       "        <td>250005</td>\n",
       "        <td>62502500025</td>\n",
       "    </tr>\n",
       "    <tr>\n",
       "        <td>ContosoRetailDev1</td>\n",
       "        <td>247615</td>\n",
       "        <td>61313188225</td>\n",
       "    </tr>\n",
       "    <tr>\n",
       "        <td>contosoiis</td>\n",
       "        <td>233345</td>\n",
       "        <td>54449889025</td>\n",
       "    </tr>\n",
       "    <tr>\n",
       "        <td>contosoa2ademo2</td>\n",
       "        <td>231644</td>\n",
       "        <td>53658942736</td>\n",
       "    </tr>\n",
       "    <tr>\n",
       "        <td>kncon</td>\n",
       "        <td>220846</td>\n",
       "        <td>48772955716</td>\n",
       "    </tr>\n",
       "</table>\n",
       "        </body>\n",
       "        </html>"
      ],
      "text/plain": [
       "<IPython.core.display.HTML object>"
      ]
     },
     "metadata": {},
     "output_type": "display_data"
    },
    {
     "data": {
      "text/html": [
       "<html>\n",
       "        <head>\n",
       "        \n",
       "        </head>\n",
       "        <body>\n",
       "        <div><p style='padding: 10px; color: #3a87ad; background-color: #d9edf7; border-color: #bce9f1'>Done&nbsp(00:01.665):&nbsp10&nbsprecords</p></div>\n",
       "        </body>\n",
       "        </html>"
      ],
      "text/plain": [
       "<IPython.core.display.HTML object>"
      ]
     },
     "metadata": {},
     "output_type": "display_data"
    },
    {
     "data": {
      "text/html": [],
      "text/plain": [
       "[{'ResourceGroup': 'contosoazurehq', 'count_': 2446445, 'count2': 5985093138025},\n",
       " {'ResourceGroup': 'contosoonpremhq', 'count_': 950419, 'count2': 903296275561},\n",
       " {'ResourceGroup': 'contosoautomation', 'count_': 566456, 'count2': 320872399936},\n",
       " {'ResourceGroup': 'aztest', 'count_': 339832, 'count2': 115485788224},\n",
       " {'ResourceGroup': 'contosoretail100', 'count_': 266503, 'count2': 71023849009},\n",
       " {'ResourceGroup': 'contosovma6ab', 'count_': 250005, 'count2': 62502500025},\n",
       " {'ResourceGroup': 'ContosoRetailDev1', 'count_': 247615, 'count2': 61313188225},\n",
       " {'ResourceGroup': 'contosoiis', 'count_': 233345, 'count2': 54449889025},\n",
       " {'ResourceGroup': 'contosoa2ademo2', 'count_': 231644, 'count2': 53658942736},\n",
       " {'ResourceGroup': 'kncon', 'count_': 220846, 'count2': 48772955716}]"
      ]
     },
     "execution_count": 76,
     "metadata": {},
     "output_type": "execute_result"
    }
   ],
   "source": [
    "%%kql \n",
    "    Heartbeat \n",
    "    | where ResourceGroup != '' \n",
    "    | summarize count() by ResourceGroup \n",
    "    | sort by count_ | limit 10\n",
    "    | extend count2 = count_*count_ \n",
    "    | fork (limit 10) (project ResourceGroup \n",
    "                       | limit 5)"
   ]
  },
  {
   "cell_type": "code",
   "execution_count": 77,
   "metadata": {},
   "outputs": [
    {
     "data": {
      "text/html": [
       "<html>\n",
       "        <head>\n",
       "        \n",
       "        </head>\n",
       "        <body>\n",
       "        <div><p style='padding: 10px; color: #3a87ad; background-color: #d9edf7; border-color: #bce9f1'>&nbsp*&nbspmyworkspace@loganalytics</p></div>\n",
       "        </body>\n",
       "        </html>"
      ],
      "text/plain": [
       "<IPython.core.display.HTML object>"
      ]
     },
     "metadata": {},
     "output_type": "display_data"
    },
    {
     "data": {
      "text/html": [
       "<html>\n",
       "        <head>\n",
       "        \n",
       "        </head>\n",
       "        <body>\n",
       "        <table>\n",
       "    <tr>\n",
       "        <th>ResourceGroup</th>\n",
       "    </tr>\n",
       "    <tr>\n",
       "        <td>contosoazurehq</td>\n",
       "    </tr>\n",
       "    <tr>\n",
       "        <td>contosoonpremhq</td>\n",
       "    </tr>\n",
       "    <tr>\n",
       "        <td>contosoautomation</td>\n",
       "    </tr>\n",
       "    <tr>\n",
       "        <td>aztest</td>\n",
       "    </tr>\n",
       "    <tr>\n",
       "        <td>contosoretail100</td>\n",
       "    </tr>\n",
       "</table>\n",
       "        </body>\n",
       "        </html>"
      ],
      "text/plain": [
       "<IPython.core.display.HTML object>"
      ]
     },
     "metadata": {},
     "output_type": "display_data"
    },
    {
     "data": {
      "text/html": [
       "<html>\n",
       "        <head>\n",
       "        \n",
       "        </head>\n",
       "        <body>\n",
       "        <div><p style='padding: 10px; color: #3a87ad; background-color: #d9edf7; border-color: #bce9f1'>Done&nbsp(00:01.665):&nbsp5&nbsprecords</p></div>\n",
       "        </body>\n",
       "        </html>"
      ],
      "text/plain": [
       "<IPython.core.display.HTML object>"
      ]
     },
     "metadata": {},
     "output_type": "display_data"
    },
    {
     "data": {
      "text/html": [],
      "text/plain": [
       "[{'ResourceGroup': 'contosoazurehq'},\n",
       " {'ResourceGroup': 'contosoonpremhq'},\n",
       " {'ResourceGroup': 'contosoautomation'},\n",
       " {'ResourceGroup': 'aztest'},\n",
       " {'ResourceGroup': 'contosoretail100'}]"
      ]
     },
     "execution_count": 77,
     "metadata": {},
     "output_type": "execute_result"
    }
   ],
   "source": [
    "_kql_raw_result_.fork_result(1)"
   ]
  },
  {
   "cell_type": "markdown",
   "metadata": {},
   "source": [
    "## Submit same query"
   ]
  },
  {
   "cell_type": "code",
   "execution_count": 78,
   "metadata": {
    "scrolled": false
   },
   "outputs": [
    {
     "data": {
      "text/html": [
       "<html>\n",
       "        <head>\n",
       "        \n",
       "        </head>\n",
       "        <body>\n",
       "        <div><p style='padding: 10px; color: #3a87ad; background-color: #d9edf7; border-color: #bce9f1'>&nbsp*&nbspmyworkspace@loganalytics</p></div>\n",
       "        </body>\n",
       "        </html>"
      ],
      "text/plain": [
       "<IPython.core.display.HTML object>"
      ]
     },
     "metadata": {},
     "output_type": "display_data"
    },
    {
     "data": {
      "text/html": [
       "<html>\n",
       "        <head>\n",
       "        \n",
       "        </head>\n",
       "        <body>\n",
       "        <table>\n",
       "    <tr>\n",
       "        <th>ResourceGroup</th>\n",
       "        <th>count_</th>\n",
       "        <th>count2</th>\n",
       "    </tr>\n",
       "    <tr>\n",
       "        <td>contosoazurehq</td>\n",
       "        <td>2446445</td>\n",
       "        <td>5985093138025</td>\n",
       "    </tr>\n",
       "    <tr>\n",
       "        <td>contosoonpremhq</td>\n",
       "        <td>950419</td>\n",
       "        <td>903296275561</td>\n",
       "    </tr>\n",
       "    <tr>\n",
       "        <td>contosoautomation</td>\n",
       "        <td>566456</td>\n",
       "        <td>320872399936</td>\n",
       "    </tr>\n",
       "    <tr>\n",
       "        <td>aztest</td>\n",
       "        <td>339832</td>\n",
       "        <td>115485788224</td>\n",
       "    </tr>\n",
       "    <tr>\n",
       "        <td>contosoretail100</td>\n",
       "        <td>266503</td>\n",
       "        <td>71023849009</td>\n",
       "    </tr>\n",
       "    <tr>\n",
       "        <td>contosovma6ab</td>\n",
       "        <td>250005</td>\n",
       "        <td>62502500025</td>\n",
       "    </tr>\n",
       "    <tr>\n",
       "        <td>ContosoRetailDev1</td>\n",
       "        <td>247615</td>\n",
       "        <td>61313188225</td>\n",
       "    </tr>\n",
       "    <tr>\n",
       "        <td>contosoiis</td>\n",
       "        <td>233345</td>\n",
       "        <td>54449889025</td>\n",
       "    </tr>\n",
       "    <tr>\n",
       "        <td>contosoa2ademo2</td>\n",
       "        <td>231644</td>\n",
       "        <td>53658942736</td>\n",
       "    </tr>\n",
       "    <tr>\n",
       "        <td>kncon</td>\n",
       "        <td>220846</td>\n",
       "        <td>48772955716</td>\n",
       "    </tr>\n",
       "</table>\n",
       "        </body>\n",
       "        </html>"
      ],
      "text/plain": [
       "<IPython.core.display.HTML object>"
      ]
     },
     "metadata": {},
     "output_type": "display_data"
    },
    {
     "data": {
      "text/html": [
       "<html>\n",
       "        <head>\n",
       "        \n",
       "        </head>\n",
       "        <body>\n",
       "        <div><p style='padding: 10px; color: #3a87ad; background-color: #d9edf7; border-color: #bce9f1'>Done&nbsp(00:01.852):&nbsp10&nbsprecords</p></div>\n",
       "        </body>\n",
       "        </html>"
      ],
      "text/plain": [
       "<IPython.core.display.HTML object>"
      ]
     },
     "metadata": {},
     "output_type": "display_data"
    },
    {
     "data": {
      "text/html": [],
      "text/plain": [
       "[{'ResourceGroup': 'contosoazurehq', 'count_': 2446445, 'count2': 5985093138025},\n",
       " {'ResourceGroup': 'contosoonpremhq', 'count_': 950419, 'count2': 903296275561},\n",
       " {'ResourceGroup': 'contosoautomation', 'count_': 566456, 'count2': 320872399936},\n",
       " {'ResourceGroup': 'aztest', 'count_': 339832, 'count2': 115485788224},\n",
       " {'ResourceGroup': 'contosoretail100', 'count_': 266503, 'count2': 71023849009},\n",
       " {'ResourceGroup': 'contosovma6ab', 'count_': 250005, 'count2': 62502500025},\n",
       " {'ResourceGroup': 'ContosoRetailDev1', 'count_': 247615, 'count2': 61313188225},\n",
       " {'ResourceGroup': 'contosoiis', 'count_': 233345, 'count2': 54449889025},\n",
       " {'ResourceGroup': 'contosoa2ademo2', 'count_': 231644, 'count2': 53658942736},\n",
       " {'ResourceGroup': 'kncon', 'count_': 220846, 'count2': 48772955716}]"
      ]
     },
     "execution_count": 78,
     "metadata": {},
     "output_type": "execute_result"
    }
   ],
   "source": [
    " _kql_raw_result_.submit()"
   ]
  },
  {
   "cell_type": "code",
   "execution_count": 79,
   "metadata": {},
   "outputs": [
    {
     "data": {
      "text/html": [
       "<html>\n",
       "        <head>\n",
       "        \n",
       "        </head>\n",
       "        <body>\n",
       "        <div><p style='padding: 10px; color: #3a87ad; background-color: #d9edf7; border-color: #bce9f1'>&nbsp*&nbspmyworkspace@loganalytics</p></div>\n",
       "        </body>\n",
       "        </html>"
      ],
      "text/plain": [
       "<IPython.core.display.HTML object>"
      ]
     },
     "metadata": {},
     "output_type": "display_data"
    },
    {
     "data": {
      "text/html": [
       "<html>\n",
       "        <head>\n",
       "        \n",
       "        </head>\n",
       "        <body>\n",
       "        <table>\n",
       "    <tr>\n",
       "        <th>ResourceGroup</th>\n",
       "    </tr>\n",
       "    <tr>\n",
       "        <td>contosoazurehq</td>\n",
       "    </tr>\n",
       "    <tr>\n",
       "        <td>contosoonpremhq</td>\n",
       "    </tr>\n",
       "    <tr>\n",
       "        <td>contosoautomation</td>\n",
       "    </tr>\n",
       "    <tr>\n",
       "        <td>aztest</td>\n",
       "    </tr>\n",
       "    <tr>\n",
       "        <td>contosoretail100</td>\n",
       "    </tr>\n",
       "</table>\n",
       "        </body>\n",
       "        </html>"
      ],
      "text/plain": [
       "<IPython.core.display.HTML object>"
      ]
     },
     "metadata": {},
     "output_type": "display_data"
    },
    {
     "data": {
      "text/html": [
       "<html>\n",
       "        <head>\n",
       "        \n",
       "        </head>\n",
       "        <body>\n",
       "        <div><p style='padding: 10px; color: #3a87ad; background-color: #d9edf7; border-color: #bce9f1'>Done&nbsp(00:01.852):&nbsp5&nbsprecords</p></div>\n",
       "        </body>\n",
       "        </html>"
      ],
      "text/plain": [
       "<IPython.core.display.HTML object>"
      ]
     },
     "metadata": {},
     "output_type": "display_data"
    },
    {
     "data": {
      "text/html": [],
      "text/plain": [
       "[{'ResourceGroup': 'contosoazurehq'},\n",
       " {'ResourceGroup': 'contosoonpremhq'},\n",
       " {'ResourceGroup': 'contosoautomation'},\n",
       " {'ResourceGroup': 'aztest'},\n",
       " {'ResourceGroup': 'contosoretail100'}]"
      ]
     },
     "execution_count": 79,
     "metadata": {},
     "output_type": "execute_result"
    }
   ],
   "source": [
    " _kql_raw_result_.fork_result(1)"
   ]
  },
  {
   "cell_type": "markdown",
   "metadata": {},
   "source": [
    "## Refresh query"
   ]
  },
  {
   "cell_type": "code",
   "execution_count": 80,
   "metadata": {},
   "outputs": [
    {
     "data": {
      "text/html": [
       "<html>\n",
       "        <head>\n",
       "        \n",
       "        </head>\n",
       "        <body>\n",
       "        <div><p style='padding: 10px; color: #3a87ad; background-color: #d9edf7; border-color: #bce9f1'>&nbsp*&nbspmyworkspace@loganalytics</p></div>\n",
       "        </body>\n",
       "        </html>"
      ],
      "text/plain": [
       "<IPython.core.display.HTML object>"
      ]
     },
     "metadata": {},
     "output_type": "display_data"
    },
    {
     "data": {
      "text/html": [
       "<html>\n",
       "        <head>\n",
       "        \n",
       "        </head>\n",
       "        <body>\n",
       "        <table>\n",
       "    <tr>\n",
       "        <th>ResourceGroup</th>\n",
       "    </tr>\n",
       "    <tr>\n",
       "        <td>contosoazurehq</td>\n",
       "    </tr>\n",
       "    <tr>\n",
       "        <td>contosoonpremhq</td>\n",
       "    </tr>\n",
       "    <tr>\n",
       "        <td>contosoautomation</td>\n",
       "    </tr>\n",
       "    <tr>\n",
       "        <td>aztest</td>\n",
       "    </tr>\n",
       "    <tr>\n",
       "        <td>contosoretail100</td>\n",
       "    </tr>\n",
       "</table>\n",
       "        </body>\n",
       "        </html>"
      ],
      "text/plain": [
       "<IPython.core.display.HTML object>"
      ]
     },
     "metadata": {},
     "output_type": "display_data"
    },
    {
     "data": {
      "text/html": [
       "<html>\n",
       "        <head>\n",
       "        \n",
       "        </head>\n",
       "        <body>\n",
       "        <div><p style='padding: 10px; color: #3a87ad; background-color: #d9edf7; border-color: #bce9f1'>Done&nbsp(00:01.476):&nbsp5&nbsprecords</p></div>\n",
       "        </body>\n",
       "        </html>"
      ],
      "text/plain": [
       "<IPython.core.display.HTML object>"
      ]
     },
     "metadata": {},
     "output_type": "display_data"
    },
    {
     "data": {
      "text/html": [],
      "text/plain": [
       "[{'ResourceGroup': 'contosoazurehq'},\n",
       " {'ResourceGroup': 'contosoonpremhq'},\n",
       " {'ResourceGroup': 'contosoautomation'},\n",
       " {'ResourceGroup': 'aztest'},\n",
       " {'ResourceGroup': 'contosoretail100'}]"
      ]
     },
     "execution_count": 80,
     "metadata": {},
     "output_type": "execute_result"
    }
   ],
   "source": [
    "_kql_raw_result_.fork_result(1).refresh()"
   ]
  },
  {
   "cell_type": "code",
   "execution_count": 81,
   "metadata": {},
   "outputs": [
    {
     "data": {
      "text/html": [
       "<html>\n",
       "        <head>\n",
       "        \n",
       "        </head>\n",
       "        <body>\n",
       "        <div><p style='padding: 10px; color: #3a87ad; background-color: #d9edf7; border-color: #bce9f1'>&nbsp*&nbspmyworkspace@loganalytics</p></div>\n",
       "        </body>\n",
       "        </html>"
      ],
      "text/plain": [
       "<IPython.core.display.HTML object>"
      ]
     },
     "metadata": {},
     "output_type": "display_data"
    },
    {
     "data": {
      "text/html": [
       "<html>\n",
       "        <head>\n",
       "        \n",
       "        </head>\n",
       "        <body>\n",
       "        <table>\n",
       "    <tr>\n",
       "        <th>ResourceGroup</th>\n",
       "        <th>count_</th>\n",
       "        <th>count2</th>\n",
       "    </tr>\n",
       "    <tr>\n",
       "        <td>contosoazurehq</td>\n",
       "        <td>2446459</td>\n",
       "        <td>5985161638681</td>\n",
       "    </tr>\n",
       "    <tr>\n",
       "        <td>contosoonpremhq</td>\n",
       "        <td>950419</td>\n",
       "        <td>903296275561</td>\n",
       "    </tr>\n",
       "    <tr>\n",
       "        <td>contosoautomation</td>\n",
       "        <td>566456</td>\n",
       "        <td>320872399936</td>\n",
       "    </tr>\n",
       "    <tr>\n",
       "        <td>aztest</td>\n",
       "        <td>339832</td>\n",
       "        <td>115485788224</td>\n",
       "    </tr>\n",
       "    <tr>\n",
       "        <td>contosoretail100</td>\n",
       "        <td>266503</td>\n",
       "        <td>71023849009</td>\n",
       "    </tr>\n",
       "    <tr>\n",
       "        <td>contosovma6ab</td>\n",
       "        <td>250005</td>\n",
       "        <td>62502500025</td>\n",
       "    </tr>\n",
       "    <tr>\n",
       "        <td>ContosoRetailDev1</td>\n",
       "        <td>247628</td>\n",
       "        <td>61319626384</td>\n",
       "    </tr>\n",
       "    <tr>\n",
       "        <td>contosoiis</td>\n",
       "        <td>233345</td>\n",
       "        <td>54449889025</td>\n",
       "    </tr>\n",
       "    <tr>\n",
       "        <td>contosoa2ademo2</td>\n",
       "        <td>231644</td>\n",
       "        <td>53658942736</td>\n",
       "    </tr>\n",
       "    <tr>\n",
       "        <td>kncon</td>\n",
       "        <td>220846</td>\n",
       "        <td>48772955716</td>\n",
       "    </tr>\n",
       "</table>\n",
       "        </body>\n",
       "        </html>"
      ],
      "text/plain": [
       "<IPython.core.display.HTML object>"
      ]
     },
     "metadata": {},
     "output_type": "display_data"
    },
    {
     "data": {
      "text/html": [
       "<html>\n",
       "        <head>\n",
       "        \n",
       "        </head>\n",
       "        <body>\n",
       "        <div><p style='padding: 10px; color: #3a87ad; background-color: #d9edf7; border-color: #bce9f1'>Done&nbsp(00:01.476):&nbsp10&nbsprecords</p></div>\n",
       "        </body>\n",
       "        </html>"
      ],
      "text/plain": [
       "<IPython.core.display.HTML object>"
      ]
     },
     "metadata": {},
     "output_type": "display_data"
    },
    {
     "data": {
      "text/html": [],
      "text/plain": [
       "[{'ResourceGroup': 'contosoazurehq', 'count_': 2446459, 'count2': 5985161638681},\n",
       " {'ResourceGroup': 'contosoonpremhq', 'count_': 950419, 'count2': 903296275561},\n",
       " {'ResourceGroup': 'contosoautomation', 'count_': 566456, 'count2': 320872399936},\n",
       " {'ResourceGroup': 'aztest', 'count_': 339832, 'count2': 115485788224},\n",
       " {'ResourceGroup': 'contosoretail100', 'count_': 266503, 'count2': 71023849009},\n",
       " {'ResourceGroup': 'contosovma6ab', 'count_': 250005, 'count2': 62502500025},\n",
       " {'ResourceGroup': 'ContosoRetailDev1', 'count_': 247628, 'count2': 61319626384},\n",
       " {'ResourceGroup': 'contosoiis', 'count_': 233345, 'count2': 54449889025},\n",
       " {'ResourceGroup': 'contosoa2ademo2', 'count_': 231644, 'count2': 53658942736},\n",
       " {'ResourceGroup': 'kncon', 'count_': 220846, 'count2': 48772955716}]"
      ]
     },
     "execution_count": 81,
     "metadata": {},
     "output_type": "execute_result"
    }
   ],
   "source": [
    "_kql_raw_result_.fork_result(0)"
   ]
  },
  {
   "cell_type": "code",
   "execution_count": 82,
   "metadata": {},
   "outputs": [
    {
     "data": {
      "text/html": [
       "<html>\n",
       "        <head>\n",
       "        \n",
       "        </head>\n",
       "        <body>\n",
       "        <table>\n",
       "    <tr>\n",
       "        <th>ResourceGroup</th>\n",
       "        <th>count_</th>\n",
       "        <th>count2</th>\n",
       "    </tr>\n",
       "    <tr>\n",
       "        <td>contosoazurehq</td>\n",
       "        <td>2446459</td>\n",
       "        <td>5985161638681</td>\n",
       "    </tr>\n",
       "    <tr>\n",
       "        <td>contosoonpremhq</td>\n",
       "        <td>950419</td>\n",
       "        <td>903296275561</td>\n",
       "    </tr>\n",
       "    <tr>\n",
       "        <td>contosoautomation</td>\n",
       "        <td>566456</td>\n",
       "        <td>320872399936</td>\n",
       "    </tr>\n",
       "    <tr>\n",
       "        <td>aztest</td>\n",
       "        <td>339832</td>\n",
       "        <td>115485788224</td>\n",
       "    </tr>\n",
       "    <tr>\n",
       "        <td>contosoretail100</td>\n",
       "        <td>266503</td>\n",
       "        <td>71023849009</td>\n",
       "    </tr>\n",
       "    <tr>\n",
       "        <td>contosovma6ab</td>\n",
       "        <td>250005</td>\n",
       "        <td>62502500025</td>\n",
       "    </tr>\n",
       "    <tr>\n",
       "        <td>ContosoRetailDev1</td>\n",
       "        <td>247628</td>\n",
       "        <td>61319626384</td>\n",
       "    </tr>\n",
       "    <tr>\n",
       "        <td>contosoiis</td>\n",
       "        <td>233345</td>\n",
       "        <td>54449889025</td>\n",
       "    </tr>\n",
       "    <tr>\n",
       "        <td>contosoa2ademo2</td>\n",
       "        <td>231644</td>\n",
       "        <td>53658942736</td>\n",
       "    </tr>\n",
       "    <tr>\n",
       "        <td>kncon</td>\n",
       "        <td>220846</td>\n",
       "        <td>48772955716</td>\n",
       "    </tr>\n",
       "</table>\n",
       "        </body>\n",
       "        </html>"
      ],
      "text/plain": [
       "<IPython.core.display.HTML object>"
      ]
     },
     "metadata": {},
     "output_type": "display_data"
    },
    {
     "data": {
      "text/html": [],
      "text/plain": [
       "[{'ResourceGroup': 'contosoazurehq', 'count_': 2446459, 'count2': 5985161638681},\n",
       " {'ResourceGroup': 'contosoonpremhq', 'count_': 950419, 'count2': 903296275561},\n",
       " {'ResourceGroup': 'contosoautomation', 'count_': 566456, 'count2': 320872399936},\n",
       " {'ResourceGroup': 'aztest', 'count_': 339832, 'count2': 115485788224},\n",
       " {'ResourceGroup': 'contosoretail100', 'count_': 266503, 'count2': 71023849009},\n",
       " {'ResourceGroup': 'contosovma6ab', 'count_': 250005, 'count2': 62502500025},\n",
       " {'ResourceGroup': 'ContosoRetailDev1', 'count_': 247628, 'count2': 61319626384},\n",
       " {'ResourceGroup': 'contosoiis', 'count_': 233345, 'count2': 54449889025},\n",
       " {'ResourceGroup': 'contosoa2ademo2', 'count_': 231644, 'count2': 53658942736},\n",
       " {'ResourceGroup': 'kncon', 'count_': 220846, 'count2': 48772955716}]"
      ]
     },
     "execution_count": 82,
     "metadata": {},
     "output_type": "execute_result"
    }
   ],
   "source": [
    "_kql_raw_result_"
   ]
  },
  {
   "cell_type": "code",
   "execution_count": null,
   "metadata": {},
   "outputs": [],
   "source": []
  },
  {
   "cell_type": "code",
   "execution_count": null,
   "metadata": {},
   "outputs": [],
   "source": []
  }
 ],
 "metadata": {
  "kernelspec": {
   "display_name": "Python 3",
   "language": "python",
   "name": "python3"
  },
  "language_info": {
   "codemirror_mode": {
    "name": "ipython",
    "version": 3
   },
   "file_extension": ".py",
   "mimetype": "text/x-python",
   "name": "python",
   "nbconvert_exporter": "python",
   "pygments_lexer": "ipython3",
   "version": "3.6.1"
  }
 },
 "nbformat": 4,
 "nbformat_minor": 2
}
