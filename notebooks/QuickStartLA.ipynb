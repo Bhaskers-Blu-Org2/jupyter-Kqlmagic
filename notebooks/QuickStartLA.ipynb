{
 "cells": [
  {
   "cell_type": "markdown",
   "metadata": {},
   "source": [
    "![alt text](images/Kusto.jpg \"Kusto Magic\")"
   ]
  },
  {
   "cell_type": "markdown",
   "metadata": {},
   "source": [
    "# Kqlmagic Quick Start\n",
    "1. Press F11 to switch browser to full screen mode  \n",
    "2. If in running jupyter lab, in View tab, select 'Single-Document Mode' and 'Presentation Mode' or  (Ctrl + Shift + D)  \n",
    "3. In Kernel tab, select 'Restart Kernel and Clear All Outputs...', to start from fresh\n",
    "4. Repeat: press Shift+Enter to run cells sequentially"
   ]
  },
  {
   "cell_type": "markdown",
   "metadata": {},
   "source": [
    "## Make sure that you have the lastest version of  Kqlmagic\n",
    "Download Kqlmagic from PyPI and install/update\n",
    "(if latest version is already installed you can skip this step)"
   ]
  },
  {
   "cell_type": "code",
   "execution_count": null,
   "metadata": {},
   "outputs": [],
   "source": [
    "#!pip install Kqlmagic --upgrade"
   ]
  },
  {
   "cell_type": "markdown",
   "metadata": {},
   "source": [
    "## If you want to pre-set defaults, set environment varaible, before activation notebook, or within notebook\n",
    "- **KQLMAGIC_NOTEBOOK_APP** - set the notebook application (default **jupyternotebook**)\n",
    "- **KQLMAGIC_LOAD_MODE** - set the kqlmagic load mode (default **verbose**). If silent, it will load without welcome output\n",
    "- **KQLMAGIC_CONFIGURATION** - modify the default configuration, key=value pairs must be separated by a **semicolon**\n",
    "\n",
    "- **KQLMAGIC_CONNECTION_STR** - set the default connection string (default **None**). If set it will connect to it on Kqlmagic load"
   ]
  },
  {
   "cell_type": "code",
   "execution_count": null,
   "metadata": {},
   "outputs": [],
   "source": [
    "# you can try it within the notebook, by setting the environment variable using %env magic\n",
    "\n",
    "#%env KQLMAGIC_NOTEBOOK_APP=jupyterlab\n",
    "#%env KQLMAGIC_LOAD_MODE=silent\n",
    "#%env KQLMAGIC_CONFIGURATION=\"show_query_time=False;plot_package='plotly';display_limit=100\"\n",
    "\n",
    "#%env KQLMAGIC_CONNECTION_STR=loganalytics://tenant='<your-tenat-id>';clientid='<your-aad-appid>';clientsecret='<your-aad-key>';workspace='<your-workspace-id>';alias='<your-workspace-friendly-name>'"
   ]
  },
  {
   "cell_type": "markdown",
   "metadata": {},
   "source": [
    "## Add Kqlmagic to notebook magics"
   ]
  },
  {
   "cell_type": "code",
   "execution_count": 1,
   "metadata": {
    "scrolled": false
   },
   "outputs": [
    {
     "name": "stdout",
     "output_type": "stream",
     "text": [
      "C:\\My Projects\\jupyter-Kqlmagic-microsoft-vsc\\azure\n"
     ]
    },
    {
     "data": {
      "text/html": [
       "<html>\n",
       "            <head>\n",
       "            <style>\n",
       "            .kql-magic-banner {\n",
       "                display: flex; \n",
       "                background-color: #d9edf7;\n",
       "            }\n",
       "            .kql-magic-banner > div {\n",
       "                margin: 10px; \n",
       "                padding: 20px; \n",
       "                color: #3a87ad; \n",
       "                font-size: 13px;\n",
       "            }\n",
       "            </style>\n",
       "            </head>\n",
       "            <body>\n",
       "                <div class='kql-magic-banner'>\n",
       "                    <div><img src='data:image/png;base64,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'></div>\n",
       "                    <div>\n",
       "                        <p>Kusto is a log analytics cloud platform optimized for ad-hoc big data queries. Read more about it here: http://aka.ms/kdocs</p>\n",
       "                        <p>   &bull; kql language reference: Click on 'Help' tab > and Select 'kql referece'<br>\n",
       "                          &bull; Kqlmagic configuarion: Run in cell '%config Kqlmagic'<br>\n",
       "                          &bull; Kqlmagic syntax: Run in cell '%kql?'<br>\n",
       "                          &bull; Kqlmagic upgrate syntax: Run in cell '!pip install Kqlmagic --no-cache-dir --upgrade'<br>\n",
       "                    </div>\n",
       "                </div>\n",
       "            </body>\n",
       "            </html>"
      ],
      "text/plain": [
       "<IPython.core.display.HTML object>"
      ]
     },
     "metadata": {},
     "output_type": "display_data"
    },
    {
     "data": {
      "text/html": [
       "<html>\n",
       "        <head>\n",
       "        \n",
       "        </head>\n",
       "        <body>\n",
       "        <div><p style='padding: 10px; color: #3a87ad; background-color: #d9edf7; border-color: #bce9f1'>Kqlmagic&nbsppackage&nbspis&nbspupdated&nbspfrequently.&nbspRun&nbsp&apos;!pip&nbspinstall&nbspKqlmagic&nbsp--no-cache-dir&nbsp--upgrade&apos;&nbspto&nbspuse&nbspthe&nbsplatest&nbspversion.<br>Kqlmagic&nbspversion:&nbsp0.1.61,&nbspsource:&nbsphttps://github.com/Microsoft/jupyter-Kqlmagic</p></div>\n",
       "        </body>\n",
       "        </html>"
      ],
      "text/plain": [
       "<IPython.core.display.HTML object>"
      ]
     },
     "metadata": {},
     "output_type": "display_data"
    },
    {
     "data": {
      "application/javascript": [
       "IPython.notebook.kernel.reconnect();"
      ],
      "text/plain": [
       "<IPython.core.display.Javascript object>"
      ]
     },
     "metadata": {},
     "output_type": "display_data"
    },
    {
     "data": {
      "application/javascript": [
       "IPython.notebook.kernel.execute(\"NOTEBOOK_URL = '\" + window.location + \"'\");"
      ],
      "text/plain": [
       "<IPython.core.display.Javascript object>"
      ]
     },
     "metadata": {},
     "output_type": "display_data"
    },
    {
     "name": "stdout",
     "output_type": "stream",
     "text": [
      "c:\\My Projects\\jupyter-Kqlmagic-microsoft-vsc\\notebooks\n",
      "popd -> c:\\My Projects\\jupyter-Kqlmagic-microsoft-vsc\\notebooks\n"
     ]
    }
   ],
   "source": [
    "%pushd C:\\My Projects\\jupyter-Kqlmagic-microsoft-vsc\\azure\n",
    "%reload_ext Kqlmagic\n",
    "%popd"
   ]
  },
  {
   "cell_type": "markdown",
   "metadata": {},
   "source": [
    "  - ### <span style=\"color:#82CAFA\">*Note: information is included in the Kqlmagic banner, and in the note below it, with version and location of the open source code*</span>\n",
    "  - ### <span style=\"color:#82CAFA\">*Note: after Kqlmagic was loaded, kql reference was added to Help menu (Help tab)*</span>"
   ]
  },
  {
   "cell_type": "markdown",
   "metadata": {},
   "source": [
    "## Connect to workspace@loganalytics\n",
    "there are few options to authenticate with Log Analytics:<br>\n",
    "```python\n",
    "%kql loganalytics://code;workspace='<workspace-id>';alias='<workspace-friendly-name>'\n",
    "```\n",
    "```python\n",
    "%kql loganalytics://tenant='<tenant-id>';clientid='<aad-appid>';clientsecret='<aad-appkey>';workspace='<workspace-id>';alias='<workspace-friendly-name>'\n",
    "```\n",
    "```python\n",
    "%kql loganalytics://username='<username>';password='<password>';workspace='<workspace-id>';alias='<workspace-friendly-name>'\n",
    "```\n",
    "\n",
    "Notes:<br>\n",
    "(1) authentication with appkey works only for the demo.<br>\n",
    "(2) username/password works only on corporate network.<br>\n",
    "(3) alias is optional.<br>\n",
    "(4) if credentials are missing, and a previous connection was established the credentials will be inherited.<br>\n",
    "(5) if secret (password / clientsecret) is missing, user will be prompted to provide it.<br>\n",
    "(6) if tenant is missing, and a previous connection was established the tenant will be inherited."
   ]
  },
  {
   "cell_type": "code",
   "execution_count": 2,
   "metadata": {
    "scrolled": false
   },
   "outputs": [
    {
     "data": {
      "text/html": [
       "<!DOCTYPE html>\n",
       "            <html><body>\n",
       "\n",
       "            <button onclick=\"this.style.visibility='visible';kql_MagicLaunchWindowFunction('Kqlmagic_temp_files/_myworkspace_at_loganalytics_schema.html','fullscreen=no,directories=no,location=no,menubar=no,resizable=yes,scrollbars=yes,status=no,titlebar=no,toolbar=no,','_myworkspace_at_loganalytics_schema','')\">popup schema myworkspace@loganalytics</button>\n",
       "\n",
       "            <script>\n",
       "\n",
       "            function kql_MagicLaunchWindowFunction(file_path, window_params, window_name, notebooks_host) {\n",
       "                var url;\n",
       "                if (file_path.startsWith('http')) {\n",
       "                    url = file_path;\n",
       "                } else {\n",
       "                    var base_url = '';\n",
       "\n",
       "                    // check if azure notebook\n",
       "                    var azure_host = (notebooks_host == null || notebooks_host.length == 0) ? 'https://notebooks.azure.com' : notebooks_host;\n",
       "                    var start = azure_host.search('//');\n",
       "                    var azure_host_suffix = '.' + azure_host.substring(start+2);\n",
       "\n",
       "                    var loc = String(window.location);\n",
       "                    var end = loc.search(azure_host_suffix);\n",
       "                    start = loc.search('//');\n",
       "                    if (start > 0 && end > 0) {\n",
       "                        var parts = loc.substring(start+2, end).split('-');\n",
       "                        if (parts.length == 2) {\n",
       "                            var library = parts[0];\n",
       "                            var user = parts[1];\n",
       "                            base_url = azure_host + '/api/user/' +user+ '/library/' +library+ '/html/';\n",
       "                        }\n",
       "                    }\n",
       "\n",
       "                    // check if local jupyter lab\n",
       "                    if (base_url.length == 0) {\n",
       "                        var configDataScipt  = document.getElementById('jupyter-config-data');\n",
       "                        if (configDataScipt != null) {\n",
       "                            var jupyterConfigData = JSON.parse(configDataScipt.textContent);\n",
       "                            if (jupyterConfigData['appName'] == 'JupyterLab' && jupyterConfigData['serverRoot'] != null &&  jupyterConfigData['treeUrl'] != null) {\n",
       "                                var basePath = 'c:/My Projects/jupyter-Kqlmagic-microsoft-vsc/notebooks' + '/';\n",
       "                                if (basePath.startsWith(jupyterConfigData['serverRoot'])) {\n",
       "                                    base_url = '/files/' + basePath.substring(jupyterConfigData['serverRoot'].length+1);\n",
       "                                }\n",
       "                            } \n",
       "                        }\n",
       "                    }\n",
       "\n",
       "                    // assume local jupyter notebook\n",
       "                    if (base_url.length == 0) {\n",
       "\n",
       "                        var parts = loc.split('/');\n",
       "                        parts.pop();\n",
       "                        base_url = parts.join('/') + '/';\n",
       "                    }\n",
       "                    url = base_url + file_path;\n",
       "                }\n",
       "\n",
       "                window.focus();\n",
       "                var w = screen.width / 2;\n",
       "                var h = screen.height / 2;\n",
       "                params = 'width='+w+',height='+h;\n",
       "                kql_Magic__myworkspace_at_loganalytics_schema = window.open(url, window_name, window_params + params);\n",
       "            }\n",
       "            </script>\n",
       "\n",
       "            </body></html>"
      ],
      "text/plain": [
       "<IPython.core.display.HTML object>"
      ]
     },
     "metadata": {},
     "output_type": "display_data"
    },
    {
     "data": {
      "application/javascript": [
       "IPython.notebook.kernel.reconnect();"
      ],
      "text/plain": [
       "<IPython.core.display.Javascript object>"
      ]
     },
     "metadata": {},
     "output_type": "display_data"
    }
   ],
   "source": [
    "%kql loganalytics://workspace='DEMO_WORKSPACE';appkey='DEMO_KEY';alias='myworkspace'"
   ]
  },
  {
   "cell_type": "markdown",
   "metadata": {},
   "source": [
    "  - ### <span style=\"color:#82CAFA\">*Note - popup window that opened with the database@cluster schema*</span>\n",
    "  - ### <span style=\"color:#82CAFA\">*Note - Help menu contains the databse@cluster schema*</span>"
   ]
  },
  {
   "cell_type": "markdown",
   "metadata": {},
   "source": [
    "## Once connected you can query the current workspace@loganalytics"
   ]
  },
  {
   "cell_type": "code",
   "execution_count": 3,
   "metadata": {
    "scrolled": false
   },
   "outputs": [
    {
     "data": {
      "text/html": [
       "<html>\n",
       "        <head>\n",
       "        \n",
       "        </head>\n",
       "        <body>\n",
       "        <div><p style='padding: 10px; color: #3a87ad; background-color: #d9edf7; border-color: #bce9f1'>&nbsp*&nbspmyworkspace@loganalytics</p></div>\n",
       "        </body>\n",
       "        </html>"
      ],
      "text/plain": [
       "<IPython.core.display.HTML object>"
      ]
     },
     "metadata": {},
     "output_type": "display_data"
    },
    {
     "data": {
      "text/html": [
       "<html>\n",
       "        <head>\n",
       "        \n",
       "        </head>\n",
       "        <body>\n",
       "        <table>\n",
       "    <tr>\n",
       "        <th>ResourceGroup</th>\n",
       "        <th>count_</th>\n",
       "    </tr>\n",
       "    <tr>\n",
       "        <td>contosoazurehq</td>\n",
       "        <td>2476785</td>\n",
       "    </tr>\n",
       "    <tr>\n",
       "        <td>contosoonpremhq</td>\n",
       "        <td>950419</td>\n",
       "    </tr>\n",
       "    <tr>\n",
       "        <td>contosoautomation</td>\n",
       "        <td>567402</td>\n",
       "    </tr>\n",
       "    <tr>\n",
       "        <td>aztest</td>\n",
       "        <td>339832</td>\n",
       "    </tr>\n",
       "    <tr>\n",
       "        <td>ContosoRetailDev1</td>\n",
       "        <td>268794</td>\n",
       "    </tr>\n",
       "    <tr>\n",
       "        <td>contosoretail100</td>\n",
       "        <td>266503</td>\n",
       "    </tr>\n",
       "    <tr>\n",
       "        <td>contosovma6ab</td>\n",
       "        <td>250005</td>\n",
       "    </tr>\n",
       "    <tr>\n",
       "        <td>contoso</td>\n",
       "        <td>242173</td>\n",
       "    </tr>\n",
       "    <tr>\n",
       "        <td>contosoiis</td>\n",
       "        <td>233345</td>\n",
       "    </tr>\n",
       "    <tr>\n",
       "        <td>contosoa2ademo2</td>\n",
       "        <td>231644</td>\n",
       "    </tr>\n",
       "</table>\n",
       "        </body>\n",
       "        </html>"
      ],
      "text/plain": [
       "<IPython.core.display.HTML object>"
      ]
     },
     "metadata": {},
     "output_type": "display_data"
    },
    {
     "data": {
      "text/html": [
       "<html>\n",
       "        <head>\n",
       "        \n",
       "        </head>\n",
       "        <body>\n",
       "        <div><p style='padding: 10px; color: #3a87ad; background-color: #d9edf7; border-color: #bce9f1'>Done&nbsp(00:01.334):&nbsp10&nbsprecords</p></div>\n",
       "        </body>\n",
       "        </html>"
      ],
      "text/plain": [
       "<IPython.core.display.HTML object>"
      ]
     },
     "metadata": {},
     "output_type": "display_data"
    },
    {
     "data": {
      "text/html": [],
      "text/plain": [
       "[{'ResourceGroup': 'contosoazurehq', 'count_': 2476785},\n",
       " {'ResourceGroup': 'contosoonpremhq', 'count_': 950419},\n",
       " {'ResourceGroup': 'contosoautomation', 'count_': 567402},\n",
       " {'ResourceGroup': 'aztest', 'count_': 339832},\n",
       " {'ResourceGroup': 'ContosoRetailDev1', 'count_': 268794},\n",
       " {'ResourceGroup': 'contosoretail100', 'count_': 266503},\n",
       " {'ResourceGroup': 'contosovma6ab', 'count_': 250005},\n",
       " {'ResourceGroup': 'contoso', 'count_': 242173},\n",
       " {'ResourceGroup': 'contosoiis', 'count_': 233345},\n",
       " {'ResourceGroup': 'contosoa2ademo2', 'count_': 231644}]"
      ]
     },
     "execution_count": 3,
     "metadata": {},
     "output_type": "execute_result"
    }
   ],
   "source": [
    "%kql Heartbeat | where ResourceGroup != '' | summarize count() by ResourceGroup | sort by count_ | limit 10"
   ]
  },
  {
   "cell_type": "markdown",
   "metadata": {},
   "source": [
    "## Python code can access the result by the \\_ variable"
   ]
  },
  {
   "cell_type": "code",
   "execution_count": 4,
   "metadata": {},
   "outputs": [
    {
     "data": {
      "text/html": [
       "<html>\n",
       "        <head>\n",
       "        \n",
       "        </head>\n",
       "        <body>\n",
       "        <table>\n",
       "    <tr>\n",
       "        <th>ResourceGroup</th>\n",
       "        <th>count_</th>\n",
       "    </tr>\n",
       "    <tr>\n",
       "        <td>contosoazurehq</td>\n",
       "        <td>2476785</td>\n",
       "    </tr>\n",
       "    <tr>\n",
       "        <td>contosoonpremhq</td>\n",
       "        <td>950419</td>\n",
       "    </tr>\n",
       "    <tr>\n",
       "        <td>contosoautomation</td>\n",
       "        <td>567402</td>\n",
       "    </tr>\n",
       "    <tr>\n",
       "        <td>aztest</td>\n",
       "        <td>339832</td>\n",
       "    </tr>\n",
       "    <tr>\n",
       "        <td>ContosoRetailDev1</td>\n",
       "        <td>268794</td>\n",
       "    </tr>\n",
       "    <tr>\n",
       "        <td>contosoretail100</td>\n",
       "        <td>266503</td>\n",
       "    </tr>\n",
       "    <tr>\n",
       "        <td>contosovma6ab</td>\n",
       "        <td>250005</td>\n",
       "    </tr>\n",
       "    <tr>\n",
       "        <td>contoso</td>\n",
       "        <td>242173</td>\n",
       "    </tr>\n",
       "    <tr>\n",
       "        <td>contosoiis</td>\n",
       "        <td>233345</td>\n",
       "    </tr>\n",
       "    <tr>\n",
       "        <td>contosoa2ademo2</td>\n",
       "        <td>231644</td>\n",
       "    </tr>\n",
       "</table>\n",
       "        </body>\n",
       "        </html>"
      ],
      "text/plain": [
       "<IPython.core.display.HTML object>"
      ]
     },
     "metadata": {},
     "output_type": "display_data"
    },
    {
     "data": {
      "text/html": [],
      "text/plain": [
       "[{'ResourceGroup': 'contosoazurehq', 'count_': 2476785},\n",
       " {'ResourceGroup': 'contosoonpremhq', 'count_': 950419},\n",
       " {'ResourceGroup': 'contosoautomation', 'count_': 567402},\n",
       " {'ResourceGroup': 'aztest', 'count_': 339832},\n",
       " {'ResourceGroup': 'ContosoRetailDev1', 'count_': 268794},\n",
       " {'ResourceGroup': 'contosoretail100', 'count_': 266503},\n",
       " {'ResourceGroup': 'contosovma6ab', 'count_': 250005},\n",
       " {'ResourceGroup': 'contoso', 'count_': 242173},\n",
       " {'ResourceGroup': 'contosoiis', 'count_': 233345},\n",
       " {'ResourceGroup': 'contosoa2ademo2', 'count_': 231644}]"
      ]
     },
     "execution_count": 4,
     "metadata": {},
     "output_type": "execute_result"
    }
   ],
   "source": [
    "_"
   ]
  },
  {
   "cell_type": "markdown",
   "metadata": {},
   "source": [
    "## Converts result data to a dataframe"
   ]
  },
  {
   "cell_type": "code",
   "execution_count": 5,
   "metadata": {},
   "outputs": [
    {
     "data": {
      "text/html": [
       "<div>\n",
       "<style scoped>\n",
       "    .dataframe tbody tr th:only-of-type {\n",
       "        vertical-align: middle;\n",
       "    }\n",
       "\n",
       "    .dataframe tbody tr th {\n",
       "        vertical-align: top;\n",
       "    }\n",
       "\n",
       "    .dataframe thead th {\n",
       "        text-align: right;\n",
       "    }\n",
       "</style>\n",
       "<table border=\"1\" class=\"dataframe\">\n",
       "  <thead>\n",
       "    <tr style=\"text-align: right;\">\n",
       "      <th></th>\n",
       "      <th>ResourceGroup</th>\n",
       "      <th>count_</th>\n",
       "    </tr>\n",
       "  </thead>\n",
       "  <tbody>\n",
       "    <tr>\n",
       "      <th>0</th>\n",
       "      <td>contosoazurehq</td>\n",
       "      <td>2476785</td>\n",
       "    </tr>\n",
       "    <tr>\n",
       "      <th>1</th>\n",
       "      <td>contosoonpremhq</td>\n",
       "      <td>950419</td>\n",
       "    </tr>\n",
       "    <tr>\n",
       "      <th>2</th>\n",
       "      <td>contosoautomation</td>\n",
       "      <td>567402</td>\n",
       "    </tr>\n",
       "    <tr>\n",
       "      <th>3</th>\n",
       "      <td>aztest</td>\n",
       "      <td>339832</td>\n",
       "    </tr>\n",
       "    <tr>\n",
       "      <th>4</th>\n",
       "      <td>ContosoRetailDev1</td>\n",
       "      <td>268794</td>\n",
       "    </tr>\n",
       "    <tr>\n",
       "      <th>5</th>\n",
       "      <td>contosoretail100</td>\n",
       "      <td>266503</td>\n",
       "    </tr>\n",
       "    <tr>\n",
       "      <th>6</th>\n",
       "      <td>contosovma6ab</td>\n",
       "      <td>250005</td>\n",
       "    </tr>\n",
       "    <tr>\n",
       "      <th>7</th>\n",
       "      <td>contoso</td>\n",
       "      <td>242173</td>\n",
       "    </tr>\n",
       "    <tr>\n",
       "      <th>8</th>\n",
       "      <td>contosoiis</td>\n",
       "      <td>233345</td>\n",
       "    </tr>\n",
       "    <tr>\n",
       "      <th>9</th>\n",
       "      <td>contosoa2ademo2</td>\n",
       "      <td>231644</td>\n",
       "    </tr>\n",
       "  </tbody>\n",
       "</table>\n",
       "</div>"
      ],
      "text/plain": [
       "       ResourceGroup   count_\n",
       "0     contosoazurehq  2476785\n",
       "1    contosoonpremhq   950419\n",
       "2  contosoautomation   567402\n",
       "3             aztest   339832\n",
       "4  ContosoRetailDev1   268794\n",
       "5   contosoretail100   266503\n",
       "6      contosovma6ab   250005\n",
       "7            contoso   242173\n",
       "8         contosoiis   233345\n",
       "9    contosoa2ademo2   231644"
      ]
     },
     "execution_count": 5,
     "metadata": {},
     "output_type": "execute_result"
    }
   ],
   "source": [
    "df = _.to_dataframe()\n",
    "df"
   ]
  },
  {
   "cell_type": "code",
   "execution_count": 6,
   "metadata": {},
   "outputs": [
    {
     "data": {
      "text/html": [
       "<div>\n",
       "<style scoped>\n",
       "    .dataframe tbody tr th:only-of-type {\n",
       "        vertical-align: middle;\n",
       "    }\n",
       "\n",
       "    .dataframe tbody tr th {\n",
       "        vertical-align: top;\n",
       "    }\n",
       "\n",
       "    .dataframe thead th {\n",
       "        text-align: right;\n",
       "    }\n",
       "</style>\n",
       "<table border=\"1\" class=\"dataframe\">\n",
       "  <thead>\n",
       "    <tr style=\"text-align: right;\">\n",
       "      <th></th>\n",
       "      <th>ResourceGroup</th>\n",
       "      <th>count_</th>\n",
       "    </tr>\n",
       "  </thead>\n",
       "  <tbody>\n",
       "    <tr>\n",
       "      <th>0</th>\n",
       "      <td>contosoazurehq</td>\n",
       "      <td>2476785</td>\n",
       "    </tr>\n",
       "    <tr>\n",
       "      <th>1</th>\n",
       "      <td>contosoonpremhq</td>\n",
       "      <td>950419</td>\n",
       "    </tr>\n",
       "    <tr>\n",
       "      <th>2</th>\n",
       "      <td>contosoautomation</td>\n",
       "      <td>567402</td>\n",
       "    </tr>\n",
       "    <tr>\n",
       "      <th>3</th>\n",
       "      <td>aztest</td>\n",
       "      <td>339832</td>\n",
       "    </tr>\n",
       "    <tr>\n",
       "      <th>4</th>\n",
       "      <td>ContosoRetailDev1</td>\n",
       "      <td>268794</td>\n",
       "    </tr>\n",
       "  </tbody>\n",
       "</table>\n",
       "</div>"
      ],
      "text/plain": [
       "       ResourceGroup   count_\n",
       "0     contosoazurehq  2476785\n",
       "1    contosoonpremhq   950419\n",
       "2  contosoautomation   567402\n",
       "3             aztest   339832\n",
       "4  ContosoRetailDev1   268794"
      ]
     },
     "execution_count": 6,
     "metadata": {},
     "output_type": "execute_result"
    }
   ],
   "source": [
    "df.head()"
   ]
  },
  {
   "cell_type": "code",
   "execution_count": 7,
   "metadata": {},
   "outputs": [
    {
     "data": {
      "text/plain": [
       "0       contosoazurehq\n",
       "1      contosoonpremhq\n",
       "2    contosoautomation\n",
       "3               aztest\n",
       "4    ContosoRetailDev1\n",
       "5     contosoretail100\n",
       "6        contosovma6ab\n",
       "7              contoso\n",
       "8           contosoiis\n",
       "9      contosoa2ademo2\n",
       "Name: ResourceGroup, dtype: object"
      ]
     },
     "execution_count": 7,
     "metadata": {},
     "output_type": "execute_result"
    }
   ],
   "source": [
    "df.ResourceGroup"
   ]
  },
  {
   "cell_type": "code",
   "execution_count": 8,
   "metadata": {},
   "outputs": [
    {
     "data": {
      "text/plain": [
       "ResourceGroup    ContosoRetailDev1\n",
       "count_                      231644\n",
       "dtype: object"
      ]
     },
     "execution_count": 8,
     "metadata": {},
     "output_type": "execute_result"
    }
   ],
   "source": [
    "df.min()"
   ]
  },
  {
   "cell_type": "code",
   "execution_count": 9,
   "metadata": {},
   "outputs": [
    {
     "data": {
      "text/plain": [
       "'{\"ResourceGroup\":{\"0\":\"contosoazurehq\",\"1\":\"contosoonpremhq\",\"2\":\"contosoautomation\",\"3\":\"aztest\",\"4\":\"ContosoRetailDev1\",\"5\":\"contosoretail100\",\"6\":\"contosovma6ab\",\"7\":\"contoso\",\"8\":\"contosoiis\",\"9\":\"contosoa2ademo2\"},\"count_\":{\"0\":2476785,\"1\":950419,\"2\":567402,\"3\":339832,\"4\":268794,\"5\":266503,\"6\":250005,\"7\":242173,\"8\":233345,\"9\":231644}}'"
      ]
     },
     "execution_count": 9,
     "metadata": {},
     "output_type": "execute_result"
    }
   ],
   "source": [
    "df.to_json()"
   ]
  },
  {
   "cell_type": "code",
   "execution_count": 10,
   "metadata": {},
   "outputs": [
    {
     "data": {
      "text/plain": [
       "Index(['ResourceGroup', 'count_'], dtype='object')"
      ]
     },
     "execution_count": 10,
     "metadata": {},
     "output_type": "execute_result"
    }
   ],
   "source": [
    "df.columns"
   ]
  },
  {
   "cell_type": "markdown",
   "metadata": {},
   "source": [
    "## Excution of another cell overrides \\_ , However,  \\_kql\\_raw\\_result\\_ python variable holds last kql query result "
   ]
  },
  {
   "cell_type": "code",
   "execution_count": 11,
   "metadata": {},
   "outputs": [
    {
     "data": {
      "text/plain": [
       "Index(['ResourceGroup', 'count_'], dtype='object')"
      ]
     },
     "execution_count": 11,
     "metadata": {},
     "output_type": "execute_result"
    }
   ],
   "source": [
    "_"
   ]
  },
  {
   "cell_type": "code",
   "execution_count": 12,
   "metadata": {},
   "outputs": [
    {
     "data": {
      "text/html": [
       "<html>\n",
       "        <head>\n",
       "        \n",
       "        </head>\n",
       "        <body>\n",
       "        <table>\n",
       "    <tr>\n",
       "        <th>ResourceGroup</th>\n",
       "        <th>count_</th>\n",
       "    </tr>\n",
       "    <tr>\n",
       "        <td>contosoazurehq</td>\n",
       "        <td>2476785</td>\n",
       "    </tr>\n",
       "    <tr>\n",
       "        <td>contosoonpremhq</td>\n",
       "        <td>950419</td>\n",
       "    </tr>\n",
       "    <tr>\n",
       "        <td>contosoautomation</td>\n",
       "        <td>567402</td>\n",
       "    </tr>\n",
       "    <tr>\n",
       "        <td>aztest</td>\n",
       "        <td>339832</td>\n",
       "    </tr>\n",
       "    <tr>\n",
       "        <td>ContosoRetailDev1</td>\n",
       "        <td>268794</td>\n",
       "    </tr>\n",
       "    <tr>\n",
       "        <td>contosoretail100</td>\n",
       "        <td>266503</td>\n",
       "    </tr>\n",
       "    <tr>\n",
       "        <td>contosovma6ab</td>\n",
       "        <td>250005</td>\n",
       "    </tr>\n",
       "    <tr>\n",
       "        <td>contoso</td>\n",
       "        <td>242173</td>\n",
       "    </tr>\n",
       "    <tr>\n",
       "        <td>contosoiis</td>\n",
       "        <td>233345</td>\n",
       "    </tr>\n",
       "    <tr>\n",
       "        <td>contosoa2ademo2</td>\n",
       "        <td>231644</td>\n",
       "    </tr>\n",
       "</table>\n",
       "        </body>\n",
       "        </html>"
      ],
      "text/plain": [
       "<IPython.core.display.HTML object>"
      ]
     },
     "metadata": {},
     "output_type": "display_data"
    },
    {
     "data": {
      "text/html": [],
      "text/plain": [
       "[{'ResourceGroup': 'contosoazurehq', 'count_': 2476785},\n",
       " {'ResourceGroup': 'contosoonpremhq', 'count_': 950419},\n",
       " {'ResourceGroup': 'contosoautomation', 'count_': 567402},\n",
       " {'ResourceGroup': 'aztest', 'count_': 339832},\n",
       " {'ResourceGroup': 'ContosoRetailDev1', 'count_': 268794},\n",
       " {'ResourceGroup': 'contosoretail100', 'count_': 266503},\n",
       " {'ResourceGroup': 'contosovma6ab', 'count_': 250005},\n",
       " {'ResourceGroup': 'contoso', 'count_': 242173},\n",
       " {'ResourceGroup': 'contosoiis', 'count_': 233345},\n",
       " {'ResourceGroup': 'contosoa2ademo2', 'count_': 231644}]"
      ]
     },
     "execution_count": 12,
     "metadata": {},
     "output_type": "execute_result"
    }
   ],
   "source": [
    "_kql_raw_result_"
   ]
  },
  {
   "cell_type": "code",
   "execution_count": 13,
   "metadata": {},
   "outputs": [
    {
     "data": {
      "text/html": [
       "<html>\n",
       "        <head>\n",
       "        \n",
       "        </head>\n",
       "        <body>\n",
       "        <table>\n",
       "    <tr>\n",
       "        <th>ResourceGroup</th>\n",
       "        <th>count_</th>\n",
       "    </tr>\n",
       "    <tr>\n",
       "        <td>contosoazurehq</td>\n",
       "        <td>2476785</td>\n",
       "    </tr>\n",
       "    <tr>\n",
       "        <td>contosoonpremhq</td>\n",
       "        <td>950419</td>\n",
       "    </tr>\n",
       "    <tr>\n",
       "        <td>contosoautomation</td>\n",
       "        <td>567402</td>\n",
       "    </tr>\n",
       "    <tr>\n",
       "        <td>aztest</td>\n",
       "        <td>339832</td>\n",
       "    </tr>\n",
       "    <tr>\n",
       "        <td>ContosoRetailDev1</td>\n",
       "        <td>268794</td>\n",
       "    </tr>\n",
       "    <tr>\n",
       "        <td>contosoretail100</td>\n",
       "        <td>266503</td>\n",
       "    </tr>\n",
       "    <tr>\n",
       "        <td>contosovma6ab</td>\n",
       "        <td>250005</td>\n",
       "    </tr>\n",
       "    <tr>\n",
       "        <td>contoso</td>\n",
       "        <td>242173</td>\n",
       "    </tr>\n",
       "    <tr>\n",
       "        <td>contosoiis</td>\n",
       "        <td>233345</td>\n",
       "    </tr>\n",
       "    <tr>\n",
       "        <td>contosoa2ademo2</td>\n",
       "        <td>231644</td>\n",
       "    </tr>\n",
       "</table>\n",
       "        </body>\n",
       "        </html>"
      ],
      "text/plain": [
       "<IPython.core.display.HTML object>"
      ]
     },
     "metadata": {},
     "output_type": "display_data"
    },
    {
     "data": {
      "text/html": [],
      "text/plain": [
       "[{'ResourceGroup': 'contosoazurehq', 'count_': 2476785},\n",
       " {'ResourceGroup': 'contosoonpremhq', 'count_': 950419},\n",
       " {'ResourceGroup': 'contosoautomation', 'count_': 567402},\n",
       " {'ResourceGroup': 'aztest', 'count_': 339832},\n",
       " {'ResourceGroup': 'ContosoRetailDev1', 'count_': 268794},\n",
       " {'ResourceGroup': 'contosoretail100', 'count_': 266503},\n",
       " {'ResourceGroup': 'contosovma6ab', 'count_': 250005},\n",
       " {'ResourceGroup': 'contoso', 'count_': 242173},\n",
       " {'ResourceGroup': 'contosoiis', 'count_': 233345},\n",
       " {'ResourceGroup': 'contosoa2ademo2', 'count_': 231644}]"
      ]
     },
     "execution_count": 13,
     "metadata": {},
     "output_type": "execute_result"
    }
   ],
   "source": [
    "_"
   ]
  },
  {
   "cell_type": "markdown",
   "metadata": {},
   "source": [
    "## Show a chart, render the query to the proper chart"
   ]
  },
  {
   "cell_type": "code",
   "execution_count": 14,
   "metadata": {},
   "outputs": [
    {
     "data": {
      "text/html": [
       "<html>\n",
       "        <head>\n",
       "        \n",
       "        </head>\n",
       "        <body>\n",
       "        <div><p style='padding: 10px; color: #3a87ad; background-color: #d9edf7; border-color: #bce9f1'>&nbsp*&nbspmyworkspace@loganalytics</p></div>\n",
       "        </body>\n",
       "        </html>"
      ],
      "text/plain": [
       "<IPython.core.display.HTML object>"
      ]
     },
     "metadata": {},
     "output_type": "display_data"
    },
    {
     "data": {
      "application/vnd.jupyter.widget-view+json": {
       "model_id": "0aae7eb8cb954bdc9a4dea3f3b50fe6e",
       "version_major": 2,
       "version_minor": 0
      },
      "text/plain": [
       "FigureWidget({\n",
       "    'data': [{'domain': {'x': [0.0, 1.0], 'y': [0.0, 1.0]},\n",
       "              'labels': [contosoazu…"
      ]
     },
     "metadata": {},
     "output_type": "display_data"
    },
    {
     "data": {
      "text/html": [
       "<html>\n",
       "        <head>\n",
       "        \n",
       "        </head>\n",
       "        <body>\n",
       "        <div><p style='padding: 10px; color: #3a87ad; background-color: #d9edf7; border-color: #bce9f1'>Done&nbsp(00:06.484):&nbsp10&nbsprecords</p></div>\n",
       "        </body>\n",
       "        </html>"
      ],
      "text/plain": [
       "<IPython.core.display.HTML object>"
      ]
     },
     "metadata": {},
     "output_type": "display_data"
    },
    {
     "data": {
      "text/html": [],
      "text/plain": [
       "[{'ResourceGroup': 'contosoazurehq', 'count_': 2476785},\n",
       " {'ResourceGroup': 'contosoonpremhq', 'count_': 950419},\n",
       " {'ResourceGroup': 'contosoautomation', 'count_': 567402},\n",
       " {'ResourceGroup': 'aztest', 'count_': 339832},\n",
       " {'ResourceGroup': 'ContosoRetailDev1', 'count_': 268794},\n",
       " {'ResourceGroup': 'contosoretail100', 'count_': 266503},\n",
       " {'ResourceGroup': 'contosovma6ab', 'count_': 250005},\n",
       " {'ResourceGroup': 'contoso', 'count_': 242173},\n",
       " {'ResourceGroup': 'contosoiis', 'count_': 233345},\n",
       " {'ResourceGroup': 'contosoa2ademo2', 'count_': 231644}]"
      ]
     },
     "execution_count": 14,
     "metadata": {},
     "output_type": "execute_result"
    }
   ],
   "source": [
    "%kql Heartbeat | where ResourceGroup != '' | summarize count() by ResourceGroup | sort by count_ | limit 10 | render piechart title='my apple pie' "
   ]
  },
  {
   "cell_type": "markdown",
   "metadata": {},
   "source": [
    "  - ### <span style=\"color:#82CAFA\">*Note: the chart is interactive, hoover to the right upper corner to get the menu, click on the legend to toggle facets, hoover on the chart to get value and percentage*</span>"
   ]
  },
  {
   "cell_type": "markdown",
   "metadata": {},
   "source": [
    "## Assign kql query result to a python variable"
   ]
  },
  {
   "cell_type": "code",
   "execution_count": 15,
   "metadata": {},
   "outputs": [],
   "source": [
    "%kql my_bar_chart << Heartbeat | where ResourceGroup != '' | summarize count() by ResourceGroup | sort by count_ | limit 10 | render barchart title='my bar chart'"
   ]
  },
  {
   "cell_type": "markdown",
   "metadata": {},
   "source": [
    "  - ### <span style=\"color:#82CAFA\">*Note: nothing is displayed when the result is assigtned to a variable*</span>"
   ]
  },
  {
   "cell_type": "markdown",
   "metadata": {},
   "source": [
    "## Display kql result object"
   ]
  },
  {
   "cell_type": "code",
   "execution_count": 16,
   "metadata": {},
   "outputs": [
    {
     "data": {
      "application/vnd.jupyter.widget-view+json": {
       "model_id": "4ff0b6473dfe48f89b2d1b3598807bfd",
       "version_major": 2,
       "version_minor": 0
      },
      "text/plain": [
       "FigureWidget({\n",
       "    'data': [{'marker': {'color': 'rgb(31, 118, 179)'},\n",
       "              'name': 'count_',\n",
       "       …"
      ]
     },
     "metadata": {},
     "output_type": "display_data"
    },
    {
     "data": {
      "text/html": [],
      "text/plain": [
       "[{'ResourceGroup': 'contosoazurehq', 'count_': 2476785},\n",
       " {'ResourceGroup': 'contosoonpremhq', 'count_': 950419},\n",
       " {'ResourceGroup': 'contosoautomation', 'count_': 567402},\n",
       " {'ResourceGroup': 'aztest', 'count_': 339832},\n",
       " {'ResourceGroup': 'ContosoRetailDev1', 'count_': 268794},\n",
       " {'ResourceGroup': 'contosoretail100', 'count_': 266503},\n",
       " {'ResourceGroup': 'contosovma6ab', 'count_': 250005},\n",
       " {'ResourceGroup': 'contoso', 'count_': 242173},\n",
       " {'ResourceGroup': 'contosoiis', 'count_': 233345},\n",
       " {'ResourceGroup': 'contosoa2ademo2', 'count_': 231644}]"
      ]
     },
     "execution_count": 16,
     "metadata": {},
     "output_type": "execute_result"
    }
   ],
   "source": [
    "my_bar_chart"
   ]
  },
  {
   "cell_type": "markdown",
   "metadata": {},
   "source": [
    "## Access table data"
   ]
  },
  {
   "cell_type": "code",
   "execution_count": 17,
   "metadata": {},
   "outputs": [
    {
     "data": {
      "text/html": [
       "<html>\n",
       "        <head>\n",
       "        \n",
       "        </head>\n",
       "        <body>\n",
       "        <table>\n",
       "    <tr>\n",
       "        <th>ResourceGroup</th>\n",
       "        <th>count_</th>\n",
       "    </tr>\n",
       "    <tr>\n",
       "        <td>contosoazurehq</td>\n",
       "        <td>2476785</td>\n",
       "    </tr>\n",
       "    <tr>\n",
       "        <td>contosoonpremhq</td>\n",
       "        <td>950419</td>\n",
       "    </tr>\n",
       "    <tr>\n",
       "        <td>contosoautomation</td>\n",
       "        <td>567402</td>\n",
       "    </tr>\n",
       "    <tr>\n",
       "        <td>aztest</td>\n",
       "        <td>339832</td>\n",
       "    </tr>\n",
       "    <tr>\n",
       "        <td>ContosoRetailDev1</td>\n",
       "        <td>268794</td>\n",
       "    </tr>\n",
       "    <tr>\n",
       "        <td>contosoretail100</td>\n",
       "        <td>266503</td>\n",
       "    </tr>\n",
       "    <tr>\n",
       "        <td>contosovma6ab</td>\n",
       "        <td>250005</td>\n",
       "    </tr>\n",
       "    <tr>\n",
       "        <td>contoso</td>\n",
       "        <td>242173</td>\n",
       "    </tr>\n",
       "    <tr>\n",
       "        <td>contosoiis</td>\n",
       "        <td>233345</td>\n",
       "    </tr>\n",
       "    <tr>\n",
       "        <td>contosoa2ademo2</td>\n",
       "        <td>231644</td>\n",
       "    </tr>\n",
       "</table>\n",
       "        </body>\n",
       "        </html>"
      ],
      "text/plain": [
       "<IPython.core.display.HTML object>"
      ]
     },
     "metadata": {},
     "output_type": "display_data"
    }
   ],
   "source": [
    "my_bar_chart.show_table()"
   ]
  },
  {
   "cell_type": "code",
   "execution_count": 18,
   "metadata": {},
   "outputs": [
    {
     "data": {
      "text/plain": [
       "{'ResourceGroup': 'contosoonpremhq', 'count_': 950419}"
      ]
     },
     "execution_count": 18,
     "metadata": {},
     "output_type": "execute_result"
    }
   ],
   "source": [
    "my_bar_chart[1]"
   ]
  },
  {
   "cell_type": "code",
   "execution_count": 19,
   "metadata": {},
   "outputs": [
    {
     "data": {
      "text/plain": [
       "{'count_': 950419}"
      ]
     },
     "execution_count": 19,
     "metadata": {},
     "output_type": "execute_result"
    }
   ],
   "source": [
    "my_bar_chart[1][1:]"
   ]
  },
  {
   "cell_type": "code",
   "execution_count": 20,
   "metadata": {},
   "outputs": [
    {
     "data": {
      "text/plain": [
       "'contosoonpremhq'"
      ]
     },
     "execution_count": 20,
     "metadata": {},
     "output_type": "execute_result"
    }
   ],
   "source": [
    "my_bar_chart[1]['ResourceGroup']"
   ]
  },
  {
   "cell_type": "code",
   "execution_count": 21,
   "metadata": {},
   "outputs": [
    {
     "data": {
      "text/plain": [
       "[{'ResourceGroup': 'contosoonpremhq', 'count_': 950419},\n",
       " {'ResourceGroup': 'contosoautomation', 'count_': 567402},\n",
       " {'ResourceGroup': 'aztest', 'count_': 339832},\n",
       " {'ResourceGroup': 'ContosoRetailDev1', 'count_': 268794}]"
      ]
     },
     "execution_count": 21,
     "metadata": {},
     "output_type": "execute_result"
    }
   ],
   "source": [
    "my_bar_chart[1:5]"
   ]
  },
  {
   "cell_type": "markdown",
   "metadata": {},
   "source": [
    "## Cell mixed with single line kql queries "
   ]
  },
  {
   "cell_type": "code",
   "execution_count": 22,
   "metadata": {},
   "outputs": [
    {
     "name": "stdout",
     "output_type": "stream",
     "text": [
      "+-------------------+---------+\n",
      "|   ResourceGroup   |  count_ |\n",
      "+-------------------+---------+\n",
      "|   contosoazurehq  | 2476785 |\n",
      "|  contosoonpremhq  |  950419 |\n",
      "| contosoautomation |  567402 |\n",
      "|       aztest      |  339832 |\n",
      "| ContosoRetailDev1 |  268794 |\n",
      "|  contosoretail100 |  266503 |\n",
      "|   contosovma6ab   |  250005 |\n",
      "|      contoso      |  242173 |\n",
      "|     contosoiis    |  233345 |\n",
      "|  contosoa2ademo2  |  231644 |\n",
      "+-------------------+---------+\n"
     ]
    },
    {
     "data": {
      "application/vnd.jupyter.widget-view+json": {
       "model_id": "48ae674b967640a1a15a3c4460db1f5c",
       "version_major": 2,
       "version_minor": 0
      },
      "text/plain": [
       "FigureWidget({\n",
       "    'data': [{'marker': {'color': 'rgb(31, 118, 179)'},\n",
       "              'name': 'count_',\n",
       "       …"
      ]
     },
     "metadata": {},
     "output_type": "display_data"
    },
    {
     "data": {
      "text/html": [],
      "text/plain": [
       "[{'ResourceGroup': 'contosoazurehq', 'count_': 2476785},\n",
       " {'ResourceGroup': 'contosoonpremhq', 'count_': 950419},\n",
       " {'ResourceGroup': 'contosoautomation', 'count_': 567402},\n",
       " {'ResourceGroup': 'aztest', 'count_': 339832},\n",
       " {'ResourceGroup': 'ContosoRetailDev1', 'count_': 268794},\n",
       " {'ResourceGroup': 'contosoretail100', 'count_': 266503},\n",
       " {'ResourceGroup': 'contosovma6ab', 'count_': 250005},\n",
       " {'ResourceGroup': 'contoso', 'count_': 242173},\n",
       " {'ResourceGroup': 'contosoiis', 'count_': 233345},\n",
       " {'ResourceGroup': 'contosoa2ademo2', 'count_': 231644}]"
      ]
     },
     "metadata": {},
     "output_type": "display_data"
    },
    {
     "data": {
      "application/vnd.jupyter.widget-view+json": {
       "model_id": "8e8c7c131bad4fafb16214c1e4e4ce40",
       "version_major": 2,
       "version_minor": 0
      },
      "text/plain": [
       "FigureWidget({\n",
       "    'data': [{'domain': {'x': [0.0, 1.0], 'y': [0.0, 1.0]},\n",
       "              'labels': [contosoazu…"
      ]
     },
     "metadata": {},
     "output_type": "display_data"
    },
    {
     "data": {
      "text/html": [],
      "text/plain": [
       "[{'ResourceGroup': 'contosoazurehq', 'count_': 2476785},\n",
       " {'ResourceGroup': 'contosoonpremhq', 'count_': 950419},\n",
       " {'ResourceGroup': 'contosoautomation', 'count_': 567402},\n",
       " {'ResourceGroup': 'aztest', 'count_': 339832},\n",
       " {'ResourceGroup': 'ContosoRetailDev1', 'count_': 268794},\n",
       " {'ResourceGroup': 'contosoretail100', 'count_': 266503},\n",
       " {'ResourceGroup': 'contosovma6ab', 'count_': 250005},\n",
       " {'ResourceGroup': 'contoso', 'count_': 242173},\n",
       " {'ResourceGroup': 'contosoiis', 'count_': 233345},\n",
       " {'ResourceGroup': 'contosoa2ademo2', 'count_': 231644}]"
      ]
     },
     "metadata": {},
     "output_type": "display_data"
    }
   ],
   "source": [
    "%kql bar_chart << Heartbeat | where ResourceGroup != '' | summarize count() by ResourceGroup | sort by count_ | limit 10 | render barchart title='my bar chart'\n",
    "print(bar_chart)\n",
    "%kql pie_chart << Heartbeat | where ResourceGroup != '' | summarize count() by ResourceGroup | sort by count_ | limit 10 | render piechart title='my pie chart'\n",
    "display(bar_chart)\n",
    "display(pie_chart)"
   ]
  },
  {
   "cell_type": "markdown",
   "metadata": {},
   "source": [
    "  - ### <span style=\"color:#82CAFA\">*Note: single line magics (starts with only one \\%) can share the same cell with python code*</span>"
   ]
  },
  {
   "cell_type": "markdown",
   "metadata": {},
   "source": [
    "## Multiline query "
   ]
  },
  {
   "cell_type": "code",
   "execution_count": 23,
   "metadata": {},
   "outputs": [
    {
     "data": {
      "text/html": [
       "<html>\n",
       "        <head>\n",
       "        \n",
       "        </head>\n",
       "        <body>\n",
       "        <div><p style='padding: 10px; color: #3a87ad; background-color: #d9edf7; border-color: #bce9f1'>&nbsp*&nbspmyworkspace@loganalytics</p></div>\n",
       "        </body>\n",
       "        </html>"
      ],
      "text/plain": [
       "<IPython.core.display.HTML object>"
      ]
     },
     "metadata": {},
     "output_type": "display_data"
    },
    {
     "data": {
      "application/vnd.jupyter.widget-view+json": {
       "model_id": "74ebbb1770f24410ac2ed31b3e4dafac",
       "version_major": 2,
       "version_minor": 0
      },
      "text/plain": [
       "FigureWidget({\n",
       "    'data': [{'marker': {'color': 'rgb(31, 118, 179)'},\n",
       "              'name': 'count_',\n",
       "       …"
      ]
     },
     "metadata": {},
     "output_type": "display_data"
    },
    {
     "data": {
      "text/html": [
       "<html>\n",
       "        <head>\n",
       "        \n",
       "        </head>\n",
       "        <body>\n",
       "        <div><p style='padding: 10px; color: #3a87ad; background-color: #d9edf7; border-color: #bce9f1'>Done&nbsp(00:04.818):&nbsp10&nbsprecords</p></div>\n",
       "        </body>\n",
       "        </html>"
      ],
      "text/plain": [
       "<IPython.core.display.HTML object>"
      ]
     },
     "metadata": {},
     "output_type": "display_data"
    },
    {
     "data": {
      "text/html": [],
      "text/plain": [
       "[{'ResourceGroup': 'contosoazurehq', 'count_': 2476785},\n",
       " {'ResourceGroup': 'contosoonpremhq', 'count_': 950419},\n",
       " {'ResourceGroup': 'contosoautomation', 'count_': 567402},\n",
       " {'ResourceGroup': 'aztest', 'count_': 339832},\n",
       " {'ResourceGroup': 'ContosoRetailDev1', 'count_': 268794},\n",
       " {'ResourceGroup': 'contosoretail100', 'count_': 266503},\n",
       " {'ResourceGroup': 'contosovma6ab', 'count_': 250005},\n",
       " {'ResourceGroup': 'contoso', 'count_': 242173},\n",
       " {'ResourceGroup': 'contosoiis', 'count_': 233345},\n",
       " {'ResourceGroup': 'contosoa2ademo2', 'count_': 231644}]"
      ]
     },
     "execution_count": 23,
     "metadata": {},
     "output_type": "execute_result"
    }
   ],
   "source": [
    "%%kql \n",
    "    Heartbeat \n",
    "    | where ResourceGroup != '' \n",
    "    | summarize count() by ResourceGroup \n",
    "    | sort by count_ \n",
    "    | limit 10\n",
    "    | render columnchart title='my column chart' "
   ]
  },
  {
   "cell_type": "markdown",
   "metadata": {},
   "source": [
    "  - ### <span style=\"color:#82CAFA\">*Note: that this is a multiline magic, it starts with \\%\\%. It can include only kql code*</span>"
   ]
  },
  {
   "cell_type": "markdown",
   "metadata": {},
   "source": [
    "## Show last chart result as a table"
   ]
  },
  {
   "cell_type": "code",
   "execution_count": 24,
   "metadata": {},
   "outputs": [
    {
     "data": {
      "text/html": [
       "<html>\n",
       "        <head>\n",
       "        \n",
       "        </head>\n",
       "        <body>\n",
       "        <table>\n",
       "    <tr>\n",
       "        <th>ResourceGroup</th>\n",
       "        <th>count_</th>\n",
       "    </tr>\n",
       "    <tr>\n",
       "        <td>contosoazurehq</td>\n",
       "        <td>2476785</td>\n",
       "    </tr>\n",
       "    <tr>\n",
       "        <td>contosoonpremhq</td>\n",
       "        <td>950419</td>\n",
       "    </tr>\n",
       "    <tr>\n",
       "        <td>contosoautomation</td>\n",
       "        <td>567402</td>\n",
       "    </tr>\n",
       "    <tr>\n",
       "        <td>aztest</td>\n",
       "        <td>339832</td>\n",
       "    </tr>\n",
       "    <tr>\n",
       "        <td>ContosoRetailDev1</td>\n",
       "        <td>268794</td>\n",
       "    </tr>\n",
       "    <tr>\n",
       "        <td>contosoretail100</td>\n",
       "        <td>266503</td>\n",
       "    </tr>\n",
       "    <tr>\n",
       "        <td>contosovma6ab</td>\n",
       "        <td>250005</td>\n",
       "    </tr>\n",
       "    <tr>\n",
       "        <td>contoso</td>\n",
       "        <td>242173</td>\n",
       "    </tr>\n",
       "    <tr>\n",
       "        <td>contosoiis</td>\n",
       "        <td>233345</td>\n",
       "    </tr>\n",
       "    <tr>\n",
       "        <td>contosoa2ademo2</td>\n",
       "        <td>231644</td>\n",
       "    </tr>\n",
       "</table>\n",
       "        </body>\n",
       "        </html>"
      ],
      "text/plain": [
       "<IPython.core.display.HTML object>"
      ]
     },
     "metadata": {},
     "output_type": "display_data"
    }
   ],
   "source": [
    "_.show_table()"
   ]
  },
  {
   "cell_type": "markdown",
   "metadata": {},
   "source": [
    "## Show last result in a popup window"
   ]
  },
  {
   "cell_type": "code",
   "execution_count": 25,
   "metadata": {},
   "outputs": [
    {
     "data": {
      "text/html": [
       "<!DOCTYPE html>\n",
       "            <html><body>\n",
       "\n",
       "            <button onclick=\"this.style.visibility='hidden';kql_MagicLaunchWindowFunction('Kqlmagic_temp_files/51df889e64644f08a9c590eedf99b6ee.html','fullscreen=no,directories=no,location=no,menubar=no,resizable=yes,scrollbars=yes,status=no,titlebar=no,toolbar=no,','51df889e64644f08a9c590eedf99b6ee','')\">popup columnchart - my column chart </button>\n",
       "\n",
       "            <script>\n",
       "\n",
       "            function kql_MagicLaunchWindowFunction(file_path, window_params, window_name, notebooks_host) {\n",
       "                var url;\n",
       "                if (file_path.startsWith('http')) {\n",
       "                    url = file_path;\n",
       "                } else {\n",
       "                    var base_url = '';\n",
       "\n",
       "                    // check if azure notebook\n",
       "                    var azure_host = (notebooks_host == null || notebooks_host.length == 0) ? 'https://notebooks.azure.com' : notebooks_host;\n",
       "                    var start = azure_host.search('//');\n",
       "                    var azure_host_suffix = '.' + azure_host.substring(start+2);\n",
       "\n",
       "                    var loc = String(window.location);\n",
       "                    var end = loc.search(azure_host_suffix);\n",
       "                    start = loc.search('//');\n",
       "                    if (start > 0 && end > 0) {\n",
       "                        var parts = loc.substring(start+2, end).split('-');\n",
       "                        if (parts.length == 2) {\n",
       "                            var library = parts[0];\n",
       "                            var user = parts[1];\n",
       "                            base_url = azure_host + '/api/user/' +user+ '/library/' +library+ '/html/';\n",
       "                        }\n",
       "                    }\n",
       "\n",
       "                    // check if local jupyter lab\n",
       "                    if (base_url.length == 0) {\n",
       "                        var configDataScipt  = document.getElementById('jupyter-config-data');\n",
       "                        if (configDataScipt != null) {\n",
       "                            var jupyterConfigData = JSON.parse(configDataScipt.textContent);\n",
       "                            if (jupyterConfigData['appName'] == 'JupyterLab' && jupyterConfigData['serverRoot'] != null &&  jupyterConfigData['treeUrl'] != null) {\n",
       "                                var basePath = 'c:/My Projects/jupyter-Kqlmagic-microsoft-vsc/notebooks' + '/';\n",
       "                                if (basePath.startsWith(jupyterConfigData['serverRoot'])) {\n",
       "                                    base_url = '/files/' + basePath.substring(jupyterConfigData['serverRoot'].length+1);\n",
       "                                }\n",
       "                            } \n",
       "                        }\n",
       "                    }\n",
       "\n",
       "                    // assume local jupyter notebook\n",
       "                    if (base_url.length == 0) {\n",
       "\n",
       "                        var parts = loc.split('/');\n",
       "                        parts.pop();\n",
       "                        base_url = parts.join('/') + '/';\n",
       "                    }\n",
       "                    url = base_url + file_path;\n",
       "                }\n",
       "\n",
       "                window.focus();\n",
       "                var w = screen.width / 2;\n",
       "                var h = screen.height / 2;\n",
       "                params = 'width='+w+',height='+h;\n",
       "                kql_Magic_51df889e64644f08a9c590eedf99b6ee = window.open(url, window_name, window_params + params);\n",
       "            }\n",
       "            </script>\n",
       "\n",
       "            </body></html>"
      ],
      "text/plain": [
       "<IPython.core.display.HTML object>"
      ]
     },
     "metadata": {},
     "output_type": "display_data"
    }
   ],
   "source": [
    "_.popup()"
   ]
  },
  {
   "cell_type": "markdown",
   "metadata": {},
   "source": [
    "## Resize poup window, and to adjust the chart inside the window press F5"
   ]
  },
  {
   "cell_type": "markdown",
   "metadata": {},
   "source": [
    "  - ### <span style=\"color:#82CAFA\">*Note: when you F5, you loose the latest chart display state*</span>"
   ]
  },
  {
   "cell_type": "markdown",
   "metadata": {},
   "source": [
    "## Show last chart result as a table in a popup window"
   ]
  },
  {
   "cell_type": "code",
   "execution_count": 26,
   "metadata": {},
   "outputs": [
    {
     "data": {
      "text/html": [
       "<!DOCTYPE html>\n",
       "            <html><body>\n",
       "\n",
       "            <button onclick=\"this.style.visibility='hidden';kql_MagicLaunchWindowFunction('Kqlmagic_temp_files/c7e902a52163429bbe89583e9887e18e.html','fullscreen=no,directories=no,location=no,menubar=no,resizable=yes,scrollbars=yes,status=no,titlebar=no,toolbar=no,','c7e902a52163429bbe89583e9887e18e','')\">popup table - my column chart </button>\n",
       "\n",
       "            <script>\n",
       "\n",
       "            function kql_MagicLaunchWindowFunction(file_path, window_params, window_name, notebooks_host) {\n",
       "                var url;\n",
       "                if (file_path.startsWith('http')) {\n",
       "                    url = file_path;\n",
       "                } else {\n",
       "                    var base_url = '';\n",
       "\n",
       "                    // check if azure notebook\n",
       "                    var azure_host = (notebooks_host == null || notebooks_host.length == 0) ? 'https://notebooks.azure.com' : notebooks_host;\n",
       "                    var start = azure_host.search('//');\n",
       "                    var azure_host_suffix = '.' + azure_host.substring(start+2);\n",
       "\n",
       "                    var loc = String(window.location);\n",
       "                    var end = loc.search(azure_host_suffix);\n",
       "                    start = loc.search('//');\n",
       "                    if (start > 0 && end > 0) {\n",
       "                        var parts = loc.substring(start+2, end).split('-');\n",
       "                        if (parts.length == 2) {\n",
       "                            var library = parts[0];\n",
       "                            var user = parts[1];\n",
       "                            base_url = azure_host + '/api/user/' +user+ '/library/' +library+ '/html/';\n",
       "                        }\n",
       "                    }\n",
       "\n",
       "                    // check if local jupyter lab\n",
       "                    if (base_url.length == 0) {\n",
       "                        var configDataScipt  = document.getElementById('jupyter-config-data');\n",
       "                        if (configDataScipt != null) {\n",
       "                            var jupyterConfigData = JSON.parse(configDataScipt.textContent);\n",
       "                            if (jupyterConfigData['appName'] == 'JupyterLab' && jupyterConfigData['serverRoot'] != null &&  jupyterConfigData['treeUrl'] != null) {\n",
       "                                var basePath = 'c:/My Projects/jupyter-Kqlmagic-microsoft-vsc/notebooks' + '/';\n",
       "                                if (basePath.startsWith(jupyterConfigData['serverRoot'])) {\n",
       "                                    base_url = '/files/' + basePath.substring(jupyterConfigData['serverRoot'].length+1);\n",
       "                                }\n",
       "                            } \n",
       "                        }\n",
       "                    }\n",
       "\n",
       "                    // assume local jupyter notebook\n",
       "                    if (base_url.length == 0) {\n",
       "\n",
       "                        var parts = loc.split('/');\n",
       "                        parts.pop();\n",
       "                        base_url = parts.join('/') + '/';\n",
       "                    }\n",
       "                    url = base_url + file_path;\n",
       "                }\n",
       "\n",
       "                window.focus();\n",
       "                var w = screen.width / 2;\n",
       "                var h = screen.height / 2;\n",
       "                params = 'width='+w+',height='+h;\n",
       "                kql_Magic_c7e902a52163429bbe89583e9887e18e = window.open(url, window_name, window_params + params);\n",
       "            }\n",
       "            </script>\n",
       "\n",
       "            </body></html>"
      ],
      "text/plain": [
       "<IPython.core.display.HTML object>"
      ]
     },
     "metadata": {},
     "output_type": "display_data"
    }
   ],
   "source": [
    "_kql_raw_result_.popup_table()"
   ]
  },
  {
   "cell_type": "markdown",
   "metadata": {},
   "source": [
    "## More complex chart"
   ]
  },
  {
   "cell_type": "code",
   "execution_count": 27,
   "metadata": {},
   "outputs": [
    {
     "data": {
      "text/html": [
       "<html>\n",
       "        <head>\n",
       "        \n",
       "        </head>\n",
       "        <body>\n",
       "        <div><p style='padding: 10px; color: #3a87ad; background-color: #d9edf7; border-color: #bce9f1'>&nbsp*&nbspmyworkspace@loganalytics</p></div>\n",
       "        </body>\n",
       "        </html>"
      ],
      "text/plain": [
       "<IPython.core.display.HTML object>"
      ]
     },
     "metadata": {},
     "output_type": "display_data"
    },
    {
     "data": {
      "application/vnd.jupyter.widget-view+json": {
       "model_id": "55298c11291a4ee191eba115a73808be",
       "version_major": 2,
       "version_minor": 0
      },
      "text/plain": [
       "FigureWidget({\n",
       "    'data': [{'domain': {'x': [0.0, 0.475], 'y': [0.0, 1.0]},\n",
       "              'labels': [contosoa…"
      ]
     },
     "metadata": {},
     "output_type": "display_data"
    },
    {
     "data": {
      "text/html": [
       "<html>\n",
       "        <head>\n",
       "        \n",
       "        </head>\n",
       "        <body>\n",
       "        <div><p style='padding: 10px; color: #3a87ad; background-color: #d9edf7; border-color: #bce9f1'>Done&nbsp(00:02.371):&nbsp10&nbsprecords</p></div>\n",
       "        </body>\n",
       "        </html>"
      ],
      "text/plain": [
       "<IPython.core.display.HTML object>"
      ]
     },
     "metadata": {},
     "output_type": "display_data"
    },
    {
     "data": {
      "text/html": [],
      "text/plain": [
       "[{'ResourceGroup': 'contosoazurehq', 'count_': 2476785, 'count2': 6134463936225},\n",
       " {'ResourceGroup': 'contosoonpremhq', 'count_': 950419, 'count2': 903296275561},\n",
       " {'ResourceGroup': 'contosoautomation', 'count_': 567402, 'count2': 321945029604},\n",
       " {'ResourceGroup': 'aztest', 'count_': 339832, 'count2': 115485788224},\n",
       " {'ResourceGroup': 'ContosoRetailDev1', 'count_': 268794, 'count2': 72250214436},\n",
       " {'ResourceGroup': 'contosoretail100', 'count_': 266503, 'count2': 71023849009},\n",
       " {'ResourceGroup': 'contosovma6ab', 'count_': 250005, 'count2': 62502500025},\n",
       " {'ResourceGroup': 'contoso', 'count_': 242173, 'count2': 58647761929},\n",
       " {'ResourceGroup': 'contosoiis', 'count_': 233345, 'count2': 54449889025},\n",
       " {'ResourceGroup': 'contosoa2ademo2', 'count_': 231644, 'count2': 53658942736}]"
      ]
     },
     "execution_count": 27,
     "metadata": {},
     "output_type": "execute_result"
    }
   ],
   "source": [
    "%%kql \n",
    "    Heartbeat \n",
    "    | where ResourceGroup != '' \n",
    "    | summarize count() by ResourceGroup \n",
    "    | sort by count_ \n",
    "    | limit 10\n",
    "    | extend count2 = count_*count_ \n",
    "    | limit 10 \n",
    "    | render piechart title='my pie chart #2' "
   ]
  },
  {
   "cell_type": "markdown",
   "metadata": {},
   "source": [
    "## Convert result data to dictionary of columns"
   ]
  },
  {
   "cell_type": "code",
   "execution_count": 28,
   "metadata": {},
   "outputs": [
    {
     "name": "stdout",
     "output_type": "stream",
     "text": [
      "{'ResourceGroup': ('contosoazurehq', 'contosoonpremhq', 'contosoautomation', 'aztest', 'ContosoRetailDev1', 'contosoretail100', 'contosovma6ab', 'contoso', 'contosoiis', 'contosoa2ademo2'), 'count_': (2476785, 950419, 567402, 339832, 268794, 266503, 250005, 242173, 233345, 231644), 'count2': (6134463936225, 903296275561, 321945029604, 115485788224, 72250214436, 71023849009, 62502500025, 58647761929, 54449889025, 53658942736)}\n"
     ]
    }
   ],
   "source": [
    "dict_of_columns = _kql_raw_result_.to_dict()\n",
    "print(dict_of_columns)"
   ]
  },
  {
   "cell_type": "code",
   "execution_count": 29,
   "metadata": {},
   "outputs": [
    {
     "data": {
      "text/html": [
       "<a href=\".\\files\\csv_file.csv\" download>csv results</a>"
      ],
      "text/plain": [
       "csv results at c:\\My Projects\\jupyter-Kqlmagic-microsoft-vsc\\notebooks\\csv_file.csv"
      ]
     },
     "execution_count": 29,
     "metadata": {},
     "output_type": "execute_result"
    }
   ],
   "source": [
    "_kql_raw_result_.to_csv('csv_file.csv')\n",
    "#%cat csv_file.csv"
   ]
  },
  {
   "cell_type": "markdown",
   "metadata": {},
   "source": [
    "# Get last kql query attributes "
   ]
  },
  {
   "cell_type": "markdown",
   "metadata": {},
   "source": [
    "## Query string"
   ]
  },
  {
   "cell_type": "code",
   "execution_count": 30,
   "metadata": {},
   "outputs": [
    {
     "data": {
      "text/plain": [
       "\"Heartbeat \\n    | where ResourceGroup != '' \\n    | summarize count() by ResourceGroup \\n    | sort by count_ \\n    | limit 10\\n    | extend count2 = count_*count_ \\n    | limit 10 \\n    | render piechart title='my pie chart #2'\""
      ]
     },
     "execution_count": 30,
     "metadata": {},
     "output_type": "execute_result"
    }
   ],
   "source": [
    "_kql_raw_result_.query"
   ]
  },
  {
   "cell_type": "markdown",
   "metadata": {},
   "source": [
    "## Query render title"
   ]
  },
  {
   "cell_type": "code",
   "execution_count": 31,
   "metadata": {},
   "outputs": [
    {
     "data": {
      "text/plain": [
       "'my pie chart #2'"
      ]
     },
     "execution_count": 31,
     "metadata": {},
     "output_type": "execute_result"
    }
   ],
   "source": [
    "_kql_raw_result_.title"
   ]
  },
  {
   "cell_type": "markdown",
   "metadata": {},
   "source": [
    "## Query render visualization"
   ]
  },
  {
   "cell_type": "code",
   "execution_count": 32,
   "metadata": {},
   "outputs": [
    {
     "data": {
      "text/plain": [
       "'piechart'"
      ]
     },
     "execution_count": 32,
     "metadata": {},
     "output_type": "execute_result"
    }
   ],
   "source": [
    "_kql_raw_result_.visualization"
   ]
  },
  {
   "cell_type": "markdown",
   "metadata": {},
   "source": [
    "## Number of records in query response "
   ]
  },
  {
   "cell_type": "code",
   "execution_count": 33,
   "metadata": {},
   "outputs": [
    {
     "data": {
      "text/plain": [
       "10"
      ]
     },
     "execution_count": 33,
     "metadata": {},
     "output_type": "execute_result"
    }
   ],
   "source": [
    "_kql_raw_result_.records_count"
   ]
  },
  {
   "cell_type": "markdown",
   "metadata": {},
   "source": [
    "## List of columns in query table response"
   ]
  },
  {
   "cell_type": "code",
   "execution_count": 34,
   "metadata": {},
   "outputs": [
    {
     "data": {
      "text/plain": [
       "['ResourceGroup', 'count_', 'count2']"
      ]
     },
     "execution_count": 34,
     "metadata": {},
     "output_type": "execute_result"
    }
   ],
   "source": [
    "_kql_raw_result_.columns_name"
   ]
  },
  {
   "cell_type": "markdown",
   "metadata": {},
   "source": [
    "## Kqlmagic time metric (in seconds)"
   ]
  },
  {
   "cell_type": "code",
   "execution_count": 35,
   "metadata": {},
   "outputs": [
    {
     "data": {
      "text/plain": [
       "1540141659.2288158"
      ]
     },
     "execution_count": 35,
     "metadata": {},
     "output_type": "execute_result"
    }
   ],
   "source": [
    "_kql_raw_result_.start_time"
   ]
  },
  {
   "cell_type": "code",
   "execution_count": 36,
   "metadata": {},
   "outputs": [
    {
     "data": {
      "text/plain": [
       "1540141661.5997086"
      ]
     },
     "execution_count": 36,
     "metadata": {},
     "output_type": "execute_result"
    }
   ],
   "source": [
    "_kql_raw_result_.end_time"
   ]
  },
  {
   "cell_type": "code",
   "execution_count": 37,
   "metadata": {},
   "outputs": [
    {
     "data": {
      "text/plain": [
       "2.3708927631378174"
      ]
     },
     "execution_count": 37,
     "metadata": {},
     "output_type": "execute_result"
    }
   ],
   "source": [
    "_kql_raw_result_.elapsed_timespan"
   ]
  },
  {
   "cell_type": "markdown",
   "metadata": {},
   "source": [
    "## Query connection database@cluster"
   ]
  },
  {
   "cell_type": "code",
   "execution_count": 38,
   "metadata": {},
   "outputs": [
    {
     "data": {
      "text/plain": [
       "'myworkspace@loganalytics'"
      ]
     },
     "execution_count": 38,
     "metadata": {},
     "output_type": "execute_result"
    }
   ],
   "source": [
    "_kql_raw_result_.connection"
   ]
  },
  {
   "cell_type": "markdown",
   "metadata": {},
   "source": [
    "## Query Options (settings) "
   ]
  },
  {
   "cell_type": "code",
   "execution_count": 39,
   "metadata": {},
   "outputs": [
    {
     "data": {
      "text/plain": [
       "{'auto_dataframe': False,\n",
       " 'short_errors': True,\n",
       " 'feedback': True,\n",
       " 'show_conn_info': 'current',\n",
       " 'columns_to_local_vars': False,\n",
       " 'show_query_time': True,\n",
       " 'enable_suppress_result': True,\n",
       " 'plotly_fs_includejs': False,\n",
       " 'popup_window': False,\n",
       " 'auto_limit': 0,\n",
       " 'display_limit': None,\n",
       " 'prettytable_style': 'DEFAULT',\n",
       " 'last_raw_result_var': '_kql_raw_result_',\n",
       " 'table_package': 'prettytable',\n",
       " 'plot_package': 'plotly',\n",
       " 'dsn_filename': 'odbc.ini',\n",
       " 'validate_connection_string': True,\n",
       " 'auto_popup_schema': True,\n",
       " 'json_display': 'formatted',\n",
       " 'popup_help': False,\n",
       " 'popup_schema': False,\n",
       " 'palette_colors': 10,\n",
       " 'palette_desaturation': 1.0,\n",
       " 'params_dict': None,\n",
       " 'palette_name': 'tab10',\n",
       " 'temp_folder_name': 'Kqlmagic_temp_files',\n",
       " 'cache_folder_name': 'Kqlmagic_cache_files',\n",
       " 'export_folder_name': 'Kqlmagic_exported_files',\n",
       " 'notebook_app': 'jupyternotebook',\n",
       " 'add_kql_ref_to_help': True,\n",
       " 'add_schema_to_help': True,\n",
       " 'cache': False,\n",
       " 'use_cache': False,\n",
       " 'version': False,\n",
       " 'palette': False,\n",
       " 'popup_palettes': False,\n",
       " 'palette_reverse': False,\n",
       " 'save_as': None}"
      ]
     },
     "execution_count": 39,
     "metadata": {},
     "output_type": "execute_result"
    }
   ],
   "source": [
    "_kql_raw_result_.options"
   ]
  },
  {
   "cell_type": "markdown",
   "metadata": {},
   "source": [
    "## Completion query information (query metadata)"
   ]
  },
  {
   "cell_type": "code",
   "execution_count": 40,
   "metadata": {},
   "outputs": [
    {
     "data": {
      "text/plain": [
       "{\n",
       "    \u001b[34;01m\"Count\"\u001b[39;49;00m: \u001b[34m19\u001b[39;49;00m,\n",
       "    \u001b[34;01m\"StatusCode\"\u001b[39;49;00m: \u001b[34m0\u001b[39;49;00m,\n",
       "    \u001b[34;01m\"StatusDescription\"\u001b[39;49;00m: \u001b[33m\"Query completed successfully\"\u001b[39;49;00m\n",
       "}"
      ]
     },
     "execution_count": 40,
     "metadata": {},
     "output_type": "execute_result"
    }
   ],
   "source": [
    "_kql_raw_result_.completion_query_info"
   ]
  },
  {
   "cell_type": "markdown",
   "metadata": {},
   "source": [
    "## Completion query resource consumption (query metadata)"
   ]
  },
  {
   "cell_type": "code",
   "execution_count": 41,
   "metadata": {},
   "outputs": [
    {
     "data": {
      "text/plain": [
       "{\n",
       "    \u001b[34;01m\"ExecutionTime\"\u001b[39;49;00m: \u001b[34m0.2187521\u001b[39;49;00m,\n",
       "    \u001b[34;01m\"dataset_statistics\"\u001b[39;49;00m: [\n",
       "        {\n",
       "            \u001b[34;01m\"table_row_count\"\u001b[39;49;00m: \u001b[34m10\u001b[39;49;00m,\n",
       "            \u001b[34;01m\"table_size\"\u001b[39;49;00m: \u001b[34m310\u001b[39;49;00m\n",
       "        }\n",
       "    ],\n",
       "    \u001b[34;01m\"input_dataset_statistics\"\u001b[39;49;00m: {\n",
       "        \u001b[34;01m\"extents\"\u001b[39;49;00m: {\n",
       "            \u001b[34;01m\"scanned\"\u001b[39;49;00m: \u001b[34m149\u001b[39;49;00m,\n",
       "            \u001b[34;01m\"total\"\u001b[39;49;00m: \u001b[34m149\u001b[39;49;00m\n",
       "        },\n",
       "        \u001b[34;01m\"rows\"\u001b[39;49;00m: {\n",
       "            \u001b[34;01m\"scanned\"\u001b[39;49;00m: \u001b[34m11065018\u001b[39;49;00m,\n",
       "            \u001b[34;01m\"total\"\u001b[39;49;00m: \u001b[34m11065018\u001b[39;49;00m\n",
       "        },\n",
       "        \u001b[34;01m\"rowstores\"\u001b[39;49;00m: {\n",
       "            \u001b[34;01m\"scanned_rows\"\u001b[39;49;00m: \u001b[34m0\u001b[39;49;00m\n",
       "        }\n",
       "    },\n",
       "    \u001b[34;01m\"resource_usage\"\u001b[39;49;00m: {\n",
       "        \u001b[34;01m\"cache\"\u001b[39;49;00m: {\n",
       "            \u001b[34;01m\"disk\"\u001b[39;49;00m: {\n",
       "                \u001b[34;01m\"hits\"\u001b[39;49;00m: \u001b[34m0\u001b[39;49;00m,\n",
       "                \u001b[34;01m\"misses\"\u001b[39;49;00m: \u001b[34m0\u001b[39;49;00m,\n",
       "                \u001b[34;01m\"total\"\u001b[39;49;00m: \u001b[34m0\u001b[39;49;00m\n",
       "            },\n",
       "            \u001b[34;01m\"memory\"\u001b[39;49;00m: {\n",
       "                \u001b[34;01m\"hits\"\u001b[39;49;00m: \u001b[34m25340\u001b[39;49;00m,\n",
       "                \u001b[34;01m\"misses\"\u001b[39;49;00m: \u001b[34m0\u001b[39;49;00m,\n",
       "                \u001b[34;01m\"total\"\u001b[39;49;00m: \u001b[34m25340\u001b[39;49;00m\n",
       "            }\n",
       "        },\n",
       "        \u001b[34;01m\"cpu\"\u001b[39;49;00m: {\n",
       "            \u001b[34;01m\"kernel\"\u001b[39;49;00m: \u001b[33m\"00:00:00.2968750\"\u001b[39;49;00m,\n",
       "            \u001b[34;01m\"total cpu\"\u001b[39;49;00m: \u001b[33m\"00:00:01.2968750\"\u001b[39;49;00m,\n",
       "            \u001b[34;01m\"user\"\u001b[39;49;00m: \u001b[33m\"00:00:01\"\u001b[39;49;00m\n",
       "        },\n",
       "        \u001b[34;01m\"memory\"\u001b[39;49;00m: {\n",
       "            \u001b[34;01m\"peak_per_node\"\u001b[39;49;00m: \u001b[34m234882432\u001b[39;49;00m\n",
       "        }\n",
       "    }\n",
       "}"
      ]
     },
     "execution_count": 41,
     "metadata": {},
     "output_type": "execute_result"
    }
   ],
   "source": [
    "_kql_raw_result_.completion_query_resource_consumption"
   ]
  },
  {
   "cell_type": "code",
   "execution_count": 42,
   "metadata": {},
   "outputs": [
    {
     "data": {
      "text/plain": [
       "25340"
      ]
     },
     "execution_count": 42,
     "metadata": {},
     "output_type": "execute_result"
    }
   ],
   "source": [
    "_kql_raw_result_.completion_query_resource_consumption['resource_usage']['cache']['memory']['hits']"
   ]
  },
  {
   "cell_type": "markdown",
   "metadata": {},
   "source": [
    "## Query raw json response"
   ]
  },
  {
   "cell_type": "code",
   "execution_count": 43,
   "metadata": {
    "scrolled": true
   },
   "outputs": [
    {
     "data": {
      "text/plain": [
       "{\n",
       "    \u001b[34;01m\"Tables\"\u001b[39;49;00m: [\n",
       "        {\n",
       "            \u001b[34;01m\"Columns\"\u001b[39;49;00m: [\n",
       "                {\n",
       "                    \u001b[34;01m\"ColumnName\"\u001b[39;49;00m: \u001b[33m\"ResourceGroup\"\u001b[39;49;00m,\n",
       "                    \u001b[34;01m\"ColumnType\"\u001b[39;49;00m: \u001b[33m\"string\"\u001b[39;49;00m,\n",
       "                    \u001b[34;01m\"DataType\"\u001b[39;49;00m: \u001b[33m\"String\"\u001b[39;49;00m\n",
       "                },\n",
       "                {\n",
       "                    \u001b[34;01m\"ColumnName\"\u001b[39;49;00m: \u001b[33m\"count_\"\u001b[39;49;00m,\n",
       "                    \u001b[34;01m\"ColumnType\"\u001b[39;49;00m: \u001b[33m\"long\"\u001b[39;49;00m,\n",
       "                    \u001b[34;01m\"DataType\"\u001b[39;49;00m: \u001b[33m\"Int64\"\u001b[39;49;00m\n",
       "                },\n",
       "                {\n",
       "                    \u001b[34;01m\"ColumnName\"\u001b[39;49;00m: \u001b[33m\"count2\"\u001b[39;49;00m,\n",
       "                    \u001b[34;01m\"ColumnType\"\u001b[39;49;00m: \u001b[33m\"long\"\u001b[39;49;00m,\n",
       "                    \u001b[34;01m\"DataType\"\u001b[39;49;00m: \u001b[33m\"Int64\"\u001b[39;49;00m\n",
       "                }\n",
       "            ],\n",
       "            \u001b[34;01m\"Rows\"\u001b[39;49;00m: [\n",
       "                [\n",
       "                    \u001b[33m\"contosoazurehq\"\u001b[39;49;00m,\n",
       "                    \u001b[34m2476785\u001b[39;49;00m,\n",
       "                    \u001b[34m6134463936225\u001b[39;49;00m\n",
       "                ],\n",
       "                [\n",
       "                    \u001b[33m\"contosoonpremhq\"\u001b[39;49;00m,\n",
       "                    \u001b[34m950419\u001b[39;49;00m,\n",
       "                    \u001b[34m903296275561\u001b[39;49;00m\n",
       "                ],\n",
       "                [\n",
       "                    \u001b[33m\"contosoautomation\"\u001b[39;49;00m,\n",
       "                    \u001b[34m567402\u001b[39;49;00m,\n",
       "                    \u001b[34m321945029604\u001b[39;49;00m\n",
       "                ],\n",
       "                [\n",
       "                    \u001b[33m\"aztest\"\u001b[39;49;00m,\n",
       "                    \u001b[34m339832\u001b[39;49;00m,\n",
       "                    \u001b[34m115485788224\u001b[39;49;00m\n",
       "                ],\n",
       "                [\n",
       "                    \u001b[33m\"ContosoRetailDev1\"\u001b[39;49;00m,\n",
       "                    \u001b[34m268794\u001b[39;49;00m,\n",
       "                    \u001b[34m72250214436\u001b[39;49;00m\n",
       "                ],\n",
       "                [\n",
       "                    \u001b[33m\"contosoretail100\"\u001b[39;49;00m,\n",
       "                    \u001b[34m266503\u001b[39;49;00m,\n",
       "                    \u001b[34m71023849009\u001b[39;49;00m\n",
       "                ],\n",
       "                [\n",
       "                    \u001b[33m\"contosovma6ab\"\u001b[39;49;00m,\n",
       "                    \u001b[34m250005\u001b[39;49;00m,\n",
       "                    \u001b[34m62502500025\u001b[39;49;00m\n",
       "                ],\n",
       "                [\n",
       "                    \u001b[33m\"contoso\"\u001b[39;49;00m,\n",
       "                    \u001b[34m242173\u001b[39;49;00m,\n",
       "                    \u001b[34m58647761929\u001b[39;49;00m\n",
       "                ],\n",
       "                [\n",
       "                    \u001b[33m\"contosoiis\"\u001b[39;49;00m,\n",
       "                    \u001b[34m233345\u001b[39;49;00m,\n",
       "                    \u001b[34m54449889025\u001b[39;49;00m\n",
       "                ],\n",
       "                [\n",
       "                    \u001b[33m\"contosoa2ademo2\"\u001b[39;49;00m,\n",
       "                    \u001b[34m231644\u001b[39;49;00m,\n",
       "                    \u001b[34m53658942736\u001b[39;49;00m\n",
       "                ]\n",
       "            ],\n",
       "            \u001b[34;01m\"TableName\"\u001b[39;49;00m: \u001b[33m\"Table_0\"\u001b[39;49;00m\n",
       "        },\n",
       "        {\n",
       "            \u001b[34;01m\"Columns\"\u001b[39;49;00m: [\n",
       "                {\n",
       "                    \u001b[34;01m\"ColumnName\"\u001b[39;49;00m: \u001b[33m\"Value\"\u001b[39;49;00m,\n",
       "                    \u001b[34;01m\"ColumnType\"\u001b[39;49;00m: \u001b[33m\"string\"\u001b[39;49;00m,\n",
       "                    \u001b[34;01m\"DataType\"\u001b[39;49;00m: \u001b[33m\"String\"\u001b[39;49;00m\n",
       "                }\n",
       "            ],\n",
       "            \u001b[34;01m\"Rows\"\u001b[39;49;00m: [\n",
       "                [\n",
       "                    \u001b[33m\"{\\\"Visualization\\\":\\\"piechart\\\",\\\"Title\\\":\\\"my pie chart #2\\\",\\\"XColumn\\\":null,\\\"Series\\\":null,\\\"YColumns\\\":null,\\\"XTitle\\\":null,\\\"YTitle\\\":null,\\\"XAxis\\\":null,\\\"YAxis\\\":null,\\\"Legend\\\":null,\\\"YSplit\\\":null,\\\"Accumulate\\\":false,\\\"IsQuerySorted\\\":true,\\\"Kind\\\":null}\"\u001b[39;49;00m\n",
       "                ]\n",
       "            ],\n",
       "            \u001b[34;01m\"TableName\"\u001b[39;49;00m: \u001b[33m\"Table_1\"\u001b[39;49;00m\n",
       "        },\n",
       "        {\n",
       "            \u001b[34;01m\"Columns\"\u001b[39;49;00m: [\n",
       "                {\n",
       "                    \u001b[34;01m\"ColumnName\"\u001b[39;49;00m: \u001b[33m\"Timestamp\"\u001b[39;49;00m,\n",
       "                    \u001b[34;01m\"ColumnType\"\u001b[39;49;00m: \u001b[33m\"datetime\"\u001b[39;49;00m,\n",
       "                    \u001b[34;01m\"DataType\"\u001b[39;49;00m: \u001b[33m\"DateTime\"\u001b[39;49;00m\n",
       "                },\n",
       "                {\n",
       "                    \u001b[34;01m\"ColumnName\"\u001b[39;49;00m: \u001b[33m\"Severity\"\u001b[39;49;00m,\n",
       "                    \u001b[34;01m\"ColumnType\"\u001b[39;49;00m: \u001b[33m\"int\"\u001b[39;49;00m,\n",
       "                    \u001b[34;01m\"DataType\"\u001b[39;49;00m: \u001b[33m\"Int32\"\u001b[39;49;00m\n",
       "                },\n",
       "                {\n",
       "                    \u001b[34;01m\"ColumnName\"\u001b[39;49;00m: \u001b[33m\"SeverityName\"\u001b[39;49;00m,\n",
       "                    \u001b[34;01m\"ColumnType\"\u001b[39;49;00m: \u001b[33m\"string\"\u001b[39;49;00m,\n",
       "                    \u001b[34;01m\"DataType\"\u001b[39;49;00m: \u001b[33m\"String\"\u001b[39;49;00m\n",
       "                },\n",
       "                {\n",
       "                    \u001b[34;01m\"ColumnName\"\u001b[39;49;00m: \u001b[33m\"StatusCode\"\u001b[39;49;00m,\n",
       "                    \u001b[34;01m\"ColumnType\"\u001b[39;49;00m: \u001b[33m\"int\"\u001b[39;49;00m,\n",
       "                    \u001b[34;01m\"DataType\"\u001b[39;49;00m: \u001b[33m\"Int32\"\u001b[39;49;00m\n",
       "                },\n",
       "                {\n",
       "                    \u001b[34;01m\"ColumnName\"\u001b[39;49;00m: \u001b[33m\"StatusDescription\"\u001b[39;49;00m,\n",
       "                    \u001b[34;01m\"ColumnType\"\u001b[39;49;00m: \u001b[33m\"string\"\u001b[39;49;00m,\n",
       "                    \u001b[34;01m\"DataType\"\u001b[39;49;00m: \u001b[33m\"String\"\u001b[39;49;00m\n",
       "                },\n",
       "                {\n",
       "                    \u001b[34;01m\"ColumnName\"\u001b[39;49;00m: \u001b[33m\"Count\"\u001b[39;49;00m,\n",
       "                    \u001b[34;01m\"ColumnType\"\u001b[39;49;00m: \u001b[33m\"int\"\u001b[39;49;00m,\n",
       "                    \u001b[34;01m\"DataType\"\u001b[39;49;00m: \u001b[33m\"Int32\"\u001b[39;49;00m\n",
       "                },\n",
       "                {\n",
       "                    \u001b[34;01m\"ColumnName\"\u001b[39;49;00m: \u001b[33m\"RequestId\"\u001b[39;49;00m,\n",
       "                    \u001b[34;01m\"ColumnType\"\u001b[39;49;00m: \u001b[33m\"guid\"\u001b[39;49;00m,\n",
       "                    \u001b[34;01m\"DataType\"\u001b[39;49;00m: \u001b[33m\"Guid\"\u001b[39;49;00m\n",
       "                },\n",
       "                {\n",
       "                    \u001b[34;01m\"ColumnName\"\u001b[39;49;00m: \u001b[33m\"ActivityId\"\u001b[39;49;00m,\n",
       "                    \u001b[34;01m\"ColumnType\"\u001b[39;49;00m: \u001b[33m\"guid\"\u001b[39;49;00m,\n",
       "                    \u001b[34;01m\"DataType\"\u001b[39;49;00m: \u001b[33m\"Guid\"\u001b[39;49;00m\n",
       "                },\n",
       "                {\n",
       "                    \u001b[34;01m\"ColumnName\"\u001b[39;49;00m: \u001b[33m\"SubActivityId\"\u001b[39;49;00m,\n",
       "                    \u001b[34;01m\"ColumnType\"\u001b[39;49;00m: \u001b[33m\"guid\"\u001b[39;49;00m,\n",
       "                    \u001b[34;01m\"DataType\"\u001b[39;49;00m: \u001b[33m\"Guid\"\u001b[39;49;00m\n",
       "                },\n",
       "                {\n",
       "                    \u001b[34;01m\"ColumnName\"\u001b[39;49;00m: \u001b[33m\"ClientActivityId\"\u001b[39;49;00m,\n",
       "                    \u001b[34;01m\"ColumnType\"\u001b[39;49;00m: \u001b[33m\"string\"\u001b[39;49;00m,\n",
       "                    \u001b[34;01m\"DataType\"\u001b[39;49;00m: \u001b[33m\"String\"\u001b[39;49;00m\n",
       "                }\n",
       "            ],\n",
       "            \u001b[34;01m\"Rows\"\u001b[39;49;00m: [\n",
       "                [\n",
       "                    \u001b[33m\"2018-10-21T17:07:41.3454225Z\"\u001b[39;49;00m,\n",
       "                    \u001b[34m4\u001b[39;49;00m,\n",
       "                    \u001b[33m\"Info\"\u001b[39;49;00m,\n",
       "                    \u001b[34m0\u001b[39;49;00m,\n",
       "                    \u001b[33m\"Query completed successfully\"\u001b[39;49;00m,\n",
       "                    \u001b[34m19\u001b[39;49;00m,\n",
       "                    \u001b[33m\"5bc017d8-6ae0-4290-a4e8-77f63a6136b4\"\u001b[39;49;00m,\n",
       "                    \u001b[33m\"5bc017d8-6ae0-4290-a4e8-77f63a6136b4\"\u001b[39;49;00m,\n",
       "                    \u001b[33m\"a65ccdc8-4f3a-4abf-a3ac-c8b28781fcb0\"\u001b[39;49;00m,\n",
       "                    \u001b[33m\"3a6e1328-6d17-4ecb-bb1a-2c748a5b1922\"\u001b[39;49;00m\n",
       "                ],\n",
       "                [\n",
       "                    \u001b[33m\"2018-10-21T17:07:41.5200904Z\"\u001b[39;49;00m,\n",
       "                    \u001b[34m6\u001b[39;49;00m,\n",
       "                    \u001b[33m\"Stats\"\u001b[39;49;00m,\n",
       "                    \u001b[34m0\u001b[39;49;00m,\n",
       "                    \u001b[33m\"{\\\"ExecutionTime\\\":0.2187521,\\\"resource_usage\\\":{\\\"cache\\\":{\\\"memory\\\":{\\\"hits\\\":25340,\\\"misses\\\":0,\\\"total\\\":25340},\\\"disk\\\":{\\\"hits\\\":0,\\\"misses\\\":0,\\\"total\\\":0}},\\\"cpu\\\":{\\\"user\\\":\\\"00:00:01\\\",\\\"kernel\\\":\\\"00:00:00.2968750\\\",\\\"total cpu\\\":\\\"00:00:01.2968750\\\"},\\\"memory\\\":{\\\"peak_per_node\\\":234882432}},\\\"input_dataset_statistics\\\":{\\\"extents\\\":{\\\"total\\\":149,\\\"scanned\\\":149},\\\"rows\\\":{\\\"total\\\":11065018,\\\"scanned\\\":11065018},\\\"rowstores\\\":{\\\"scanned_rows\\\":0}},\\\"dataset_statistics\\\":[{\\\"table_row_count\\\":10,\\\"table_size\\\":310}]}\"\u001b[39;49;00m,\n",
       "                    \u001b[34m1\u001b[39;49;00m,\n",
       "                    \u001b[33m\"5bc017d8-6ae0-4290-a4e8-77f63a6136b4\"\u001b[39;49;00m,\n",
       "                    \u001b[33m\"5bc017d8-6ae0-4290-a4e8-77f63a6136b4\"\u001b[39;49;00m,\n",
       "                    \u001b[33m\"a65ccdc8-4f3a-4abf-a3ac-c8b28781fcb0\"\u001b[39;49;00m,\n",
       "                    \u001b[33m\"3a6e1328-6d17-4ecb-bb1a-2c748a5b1922\"\u001b[39;49;00m\n",
       "                ]\n",
       "            ],\n",
       "            \u001b[34;01m\"TableName\"\u001b[39;49;00m: \u001b[33m\"Table_2\"\u001b[39;49;00m\n",
       "        },\n",
       "        {\n",
       "            \u001b[34;01m\"Columns\"\u001b[39;49;00m: [\n",
       "                {\n",
       "                    \u001b[34;01m\"ColumnName\"\u001b[39;49;00m: \u001b[33m\"Ordinal\"\u001b[39;49;00m,\n",
       "                    \u001b[34;01m\"ColumnType\"\u001b[39;49;00m: \u001b[33m\"long\"\u001b[39;49;00m,\n",
       "                    \u001b[34;01m\"DataType\"\u001b[39;49;00m: \u001b[33m\"Int64\"\u001b[39;49;00m\n",
       "                },\n",
       "                {\n",
       "                    \u001b[34;01m\"ColumnName\"\u001b[39;49;00m: \u001b[33m\"Kind\"\u001b[39;49;00m,\n",
       "                    \u001b[34;01m\"ColumnType\"\u001b[39;49;00m: \u001b[33m\"string\"\u001b[39;49;00m,\n",
       "                    \u001b[34;01m\"DataType\"\u001b[39;49;00m: \u001b[33m\"String\"\u001b[39;49;00m\n",
       "                },\n",
       "                {\n",
       "                    \u001b[34;01m\"ColumnName\"\u001b[39;49;00m: \u001b[33m\"Name\"\u001b[39;49;00m,\n",
       "                    \u001b[34;01m\"ColumnType\"\u001b[39;49;00m: \u001b[33m\"string\"\u001b[39;49;00m,\n",
       "                    \u001b[34;01m\"DataType\"\u001b[39;49;00m: \u001b[33m\"String\"\u001b[39;49;00m\n",
       "                },\n",
       "                {\n",
       "                    \u001b[34;01m\"ColumnName\"\u001b[39;49;00m: \u001b[33m\"Id\"\u001b[39;49;00m,\n",
       "                    \u001b[34;01m\"ColumnType\"\u001b[39;49;00m: \u001b[33m\"string\"\u001b[39;49;00m,\n",
       "                    \u001b[34;01m\"DataType\"\u001b[39;49;00m: \u001b[33m\"String\"\u001b[39;49;00m\n",
       "                },\n",
       "                {\n",
       "                    \u001b[34;01m\"ColumnName\"\u001b[39;49;00m: \u001b[33m\"PrettyName\"\u001b[39;49;00m,\n",
       "                    \u001b[34;01m\"ColumnType\"\u001b[39;49;00m: \u001b[33m\"string\"\u001b[39;49;00m,\n",
       "                    \u001b[34;01m\"DataType\"\u001b[39;49;00m: \u001b[33m\"String\"\u001b[39;49;00m\n",
       "                }\n",
       "            ],\n",
       "            \u001b[34;01m\"Rows\"\u001b[39;49;00m: [\n",
       "                [\n",
       "                    \u001b[34m0\u001b[39;49;00m,\n",
       "                    \u001b[33m\"QueryResult\"\u001b[39;49;00m,\n",
       "                    \u001b[33m\"PrimaryResult\"\u001b[39;49;00m,\n",
       "                    \u001b[33m\"006f55d7-a3d6-4d5c-ab89-02befb120302\"\u001b[39;49;00m,\n",
       "                    \u001b[33m\"\"\u001b[39;49;00m\n",
       "                ],\n",
       "                [\n",
       "                    \u001b[34m1\u001b[39;49;00m,\n",
       "                    \u001b[33m\"QueryProperties\"\u001b[39;49;00m,\n",
       "                    \u001b[33m\"@ExtendedProperties\"\u001b[39;49;00m,\n",
       "                    \u001b[33m\"38f7ce2a-65b6-4aed-b032-29675d870260\"\u001b[39;49;00m,\n",
       "                    \u001b[33m\"\"\u001b[39;49;00m\n",
       "                ],\n",
       "                [\n",
       "                    \u001b[34m2\u001b[39;49;00m,\n",
       "                    \u001b[33m\"QueryStatus\"\u001b[39;49;00m,\n",
       "                    \u001b[33m\"QueryStatus\"\u001b[39;49;00m,\n",
       "                    \u001b[33m\"00000000-0000-0000-0000-000000000000\"\u001b[39;49;00m,\n",
       "                    \u001b[33m\"\"\u001b[39;49;00m\n",
       "                ]\n",
       "            ],\n",
       "            \u001b[34;01m\"TableName\"\u001b[39;49;00m: \u001b[33m\"Table_3\"\u001b[39;49;00m\n",
       "        }\n",
       "    ]\n",
       "}"
      ]
     },
     "execution_count": 43,
     "metadata": {},
     "output_type": "execute_result"
    }
   ],
   "source": [
    "_kql_raw_result_.raw_json"
   ]
  },
  {
   "cell_type": "code",
   "execution_count": 44,
   "metadata": {},
   "outputs": [
    {
     "data": {
      "text/plain": [
       "'Table_1'"
      ]
     },
     "execution_count": 44,
     "metadata": {},
     "output_type": "execute_result"
    }
   ],
   "source": [
    "_kql_raw_result_.raw_json['Tables'][1]['TableName']"
   ]
  },
  {
   "cell_type": "code",
   "execution_count": 45,
   "metadata": {},
   "outputs": [
    {
     "data": {
      "text/plain": [
       "'Value'"
      ]
     },
     "execution_count": 45,
     "metadata": {},
     "output_type": "execute_result"
    }
   ],
   "source": [
    "_kql_raw_result_.raw_json['Tables'][1]['Columns'][0]['ColumnName']"
   ]
  },
  {
   "cell_type": "code",
   "execution_count": 46,
   "metadata": {},
   "outputs": [
    {
     "data": {
      "text/plain": [
       "'QueryResult'"
      ]
     },
     "execution_count": 46,
     "metadata": {},
     "output_type": "execute_result"
    }
   ],
   "source": [
    "_kql_raw_result_.raw_json['Tables'][3]['Rows'][0][1]"
   ]
  },
  {
   "cell_type": "markdown",
   "metadata": {},
   "source": [
    "# Advanced part"
   ]
  },
  {
   "cell_type": "markdown",
   "metadata": {},
   "source": [
    "## Kql query with option -c2lv (-columns_to_local_vars)"
   ]
  },
  {
   "cell_type": "code",
   "execution_count": 47,
   "metadata": {},
   "outputs": [],
   "source": [
    "%%kql -c2lv \n",
    "    Heartbeat \n",
    "    | where ResourceGroup != '' \n",
    "    | summarize count() by ResourceGroup \n",
    "    | sort by count_ | limit 10\n",
    "    | render columnchart title='my column chart' "
   ]
  },
  {
   "cell_type": "markdown",
   "metadata": {},
   "source": [
    "  - ### <span style=\"color:#82CAFA\">*Note: option are specified before the query*</span>\n",
    "  - ### <span style=\"color:#82CAFA\">*Note: c2lv is abbreviation of columns_to_local_vars options*</span>\n",
    "  - ### <span style=\"color:#82CAFA\">*Note: columns_to_local_vars option returns data result in local variables from column names*</span>"
   ]
  },
  {
   "cell_type": "markdown",
   "metadata": {},
   "source": [
    "### result data is assigned to local variables with columns names"
   ]
  },
  {
   "cell_type": "code",
   "execution_count": 48,
   "metadata": {},
   "outputs": [
    {
     "data": {
      "text/plain": [
       "('contosoazurehq',\n",
       " 'contosoonpremhq',\n",
       " 'contosoautomation',\n",
       " 'aztest',\n",
       " 'ContosoRetailDev1',\n",
       " 'contosoretail100',\n",
       " 'contosovma6ab',\n",
       " 'contoso',\n",
       " 'contosoiis',\n",
       " 'contosoa2ademo2')"
      ]
     },
     "execution_count": 48,
     "metadata": {},
     "output_type": "execute_result"
    }
   ],
   "source": [
    "ResourceGroup"
   ]
  },
  {
   "cell_type": "code",
   "execution_count": 49,
   "metadata": {},
   "outputs": [
    {
     "data": {
      "text/plain": [
       "(2476785,\n",
       " 950419,\n",
       " 567402,\n",
       " 339832,\n",
       " 268794,\n",
       " 266503,\n",
       " 250005,\n",
       " 242173,\n",
       " 233345,\n",
       " 231644)"
      ]
     },
     "execution_count": 49,
     "metadata": {},
     "output_type": "execute_result"
    }
   ],
   "source": [
    "count_"
   ]
  },
  {
   "cell_type": "markdown",
   "metadata": {},
   "source": [
    "## Kql query with option -ph (-popup_help)"
   ]
  },
  {
   "cell_type": "code",
   "execution_count": 50,
   "metadata": {},
   "outputs": [
    {
     "data": {
      "text/html": [
       "<!DOCTYPE html>\n",
       "            <html><body>\n",
       "\n",
       "            <button onclick=\"this.style.visibility='visible';kql_MagicLaunchWindowFunction('http://aka.ms/kdocs','fullscreen=no,directories=no,location=no,menubar=no,resizable=yes,scrollbars=yes,status=no,titlebar=no,toolbar=no,','KustoQueryLanguage','')\">popup kql help </button>\n",
       "\n",
       "            <script>\n",
       "\n",
       "            function kql_MagicLaunchWindowFunction(file_path, window_params, window_name, notebooks_host) {\n",
       "                var url;\n",
       "                if (file_path.startsWith('http')) {\n",
       "                    url = file_path;\n",
       "                } else {\n",
       "                    var base_url = '';\n",
       "\n",
       "                    // check if azure notebook\n",
       "                    var azure_host = (notebooks_host == null || notebooks_host.length == 0) ? 'https://notebooks.azure.com' : notebooks_host;\n",
       "                    var start = azure_host.search('//');\n",
       "                    var azure_host_suffix = '.' + azure_host.substring(start+2);\n",
       "\n",
       "                    var loc = String(window.location);\n",
       "                    var end = loc.search(azure_host_suffix);\n",
       "                    start = loc.search('//');\n",
       "                    if (start > 0 && end > 0) {\n",
       "                        var parts = loc.substring(start+2, end).split('-');\n",
       "                        if (parts.length == 2) {\n",
       "                            var library = parts[0];\n",
       "                            var user = parts[1];\n",
       "                            base_url = azure_host + '/api/user/' +user+ '/library/' +library+ '/html/';\n",
       "                        }\n",
       "                    }\n",
       "\n",
       "                    // check if local jupyter lab\n",
       "                    if (base_url.length == 0) {\n",
       "                        var configDataScipt  = document.getElementById('jupyter-config-data');\n",
       "                        if (configDataScipt != null) {\n",
       "                            var jupyterConfigData = JSON.parse(configDataScipt.textContent);\n",
       "                            if (jupyterConfigData['appName'] == 'JupyterLab' && jupyterConfigData['serverRoot'] != null &&  jupyterConfigData['treeUrl'] != null) {\n",
       "                                var basePath = 'c:/My Projects/jupyter-Kqlmagic-microsoft-vsc/notebooks' + '/';\n",
       "                                if (basePath.startsWith(jupyterConfigData['serverRoot'])) {\n",
       "                                    base_url = '/files/' + basePath.substring(jupyterConfigData['serverRoot'].length+1);\n",
       "                                }\n",
       "                            } \n",
       "                        }\n",
       "                    }\n",
       "\n",
       "                    // assume local jupyter notebook\n",
       "                    if (base_url.length == 0) {\n",
       "\n",
       "                        var parts = loc.split('/');\n",
       "                        parts.pop();\n",
       "                        base_url = parts.join('/') + '/';\n",
       "                    }\n",
       "                    url = base_url + file_path;\n",
       "                }\n",
       "\n",
       "                window.focus();\n",
       "                var w = screen.width / 2;\n",
       "                var h = screen.height / 2;\n",
       "                params = 'width='+w+',height='+h;\n",
       "                kql_Magic_KustoQueryLanguage = window.open(url, window_name, window_params + params);\n",
       "            }\n",
       "            </script>\n",
       "\n",
       "            </body></html>"
      ],
      "text/plain": [
       "<IPython.core.display.HTML object>"
      ]
     },
     "metadata": {},
     "output_type": "display_data"
    }
   ],
   "source": [
    "%kql -ph"
   ]
  },
  {
   "cell_type": "markdown",
   "metadata": {},
   "source": [
    "  - ### <span style=\"color:#82CAFA\">*Note - current workspace@loganalytics is always shown*</span>"
   ]
  },
  {
   "cell_type": "markdown",
   "metadata": {},
   "source": [
    "## Kql query with negated option -f (-feedback)"
   ]
  },
  {
   "cell_type": "code",
   "execution_count": 51,
   "metadata": {},
   "outputs": [
    {
     "data": {
      "text/html": [
       "<html>\n",
       "        <head>\n",
       "        \n",
       "        </head>\n",
       "        <body>\n",
       "        <div><p style='padding: 10px; color: #3a87ad; background-color: #d9edf7; border-color: #bce9f1'>&nbsp*&nbspmyworkspace@loganalytics</p></div>\n",
       "        </body>\n",
       "        </html>"
      ],
      "text/plain": [
       "<IPython.core.display.HTML object>"
      ]
     },
     "metadata": {},
     "output_type": "display_data"
    },
    {
     "data": {
      "application/vnd.jupyter.widget-view+json": {
       "model_id": "2b175096ddb3458c922e0772f3e735f6",
       "version_major": 2,
       "version_minor": 0
      },
      "text/plain": [
       "FigureWidget({\n",
       "    'data': [{'marker': {'color': 'rgb(31, 118, 179)'},\n",
       "              'name': 'count_',\n",
       "       …"
      ]
     },
     "metadata": {},
     "output_type": "display_data"
    },
    {
     "data": {
      "text/html": [
       "<html>\n",
       "        <head>\n",
       "        \n",
       "        </head>\n",
       "        <body>\n",
       "        \n",
       "        </body>\n",
       "        </html>"
      ],
      "text/plain": [
       "<IPython.core.display.HTML object>"
      ]
     },
     "metadata": {},
     "output_type": "display_data"
    },
    {
     "data": {
      "text/html": [],
      "text/plain": [
       "[{'ResourceGroup': 'contosoazurehq', 'count_': 2476785},\n",
       " {'ResourceGroup': 'contosoonpremhq', 'count_': 950419},\n",
       " {'ResourceGroup': 'contosoautomation', 'count_': 567402},\n",
       " {'ResourceGroup': 'aztest', 'count_': 339832},\n",
       " {'ResourceGroup': 'ContosoRetailDev1', 'count_': 268794},\n",
       " {'ResourceGroup': 'contosoretail100', 'count_': 266503},\n",
       " {'ResourceGroup': 'contosovma6ab', 'count_': 250005},\n",
       " {'ResourceGroup': 'contoso', 'count_': 242173},\n",
       " {'ResourceGroup': 'contosoiis', 'count_': 233345},\n",
       " {'ResourceGroup': 'contosoa2ademo2', 'count_': 231644}]"
      ]
     },
     "execution_count": 51,
     "metadata": {},
     "output_type": "execute_result"
    }
   ],
   "source": [
    "%%kql -!feedback \n",
    "    Heartbeat \n",
    "    | where ResourceGroup != '' \n",
    "    | summarize count() by ResourceGroup \n",
    "    | sort by count_ | limit 10\n",
    "    | render columnchart title='my bar chart'"
   ]
  },
  {
   "cell_type": "markdown",
   "metadata": {},
   "source": [
    "  - ### <span style=\"color:#82CAFA\">*Note: the feedback message 'Done..... records' was not displayed because of the negated feedback option*</span>\n",
    "  - ### <span style=\"color:#82CAFA\">*Note: option is negated by adding \\! before the option*</span>\n",
    "  - ### <span style=\"color:#82CAFA\">*Note: full option name instead of abbreviation can be used too*</span>\n",
    "  - ### <span style=\"color:#82CAFA\">*Note: feedback option is on by default, so to turn it off, it must be negated*</span>"
   ]
  },
  {
   "cell_type": "markdown",
   "metadata": {},
   "source": [
    "## Get default value of optionfeedback (f)"
   ]
  },
  {
   "cell_type": "code",
   "execution_count": 52,
   "metadata": {},
   "outputs": [
    {
     "data": {
      "text/plain": [
       "True"
      ]
     },
     "execution_count": 52,
     "metadata": {},
     "output_type": "execute_result"
    }
   ],
   "source": [
    "%config Kqlmagic.feedback"
   ]
  },
  {
   "cell_type": "markdown",
   "metadata": {},
   "source": [
    "  - ### <span style=\"color:#82CAFA\">*Note: options have defaults, and can be accessed to read or modify using %config magic*</span>"
   ]
  },
  {
   "cell_type": "markdown",
   "metadata": {},
   "source": [
    "## Set default value of option feedback (f) to False"
   ]
  },
  {
   "cell_type": "code",
   "execution_count": 53,
   "metadata": {},
   "outputs": [
    {
     "data": {
      "text/plain": [
       "False"
      ]
     },
     "execution_count": 53,
     "metadata": {},
     "output_type": "execute_result"
    }
   ],
   "source": [
    "%config Kqlmagic.feedback=False\n",
    "%config Kqlmagic.feedback"
   ]
  },
  {
   "cell_type": "code",
   "execution_count": 54,
   "metadata": {},
   "outputs": [
    {
     "data": {
      "text/html": [
       "<html>\n",
       "        <head>\n",
       "        \n",
       "        </head>\n",
       "        <body>\n",
       "        <div><p style='padding: 10px; color: #3a87ad; background-color: #d9edf7; border-color: #bce9f1'>&nbsp*&nbspmyworkspace@loganalytics</p></div>\n",
       "        </body>\n",
       "        </html>"
      ],
      "text/plain": [
       "<IPython.core.display.HTML object>"
      ]
     },
     "metadata": {},
     "output_type": "display_data"
    },
    {
     "data": {
      "text/html": [
       "<html>\n",
       "        <head>\n",
       "        \n",
       "        </head>\n",
       "        <body>\n",
       "        <table>\n",
       "    <tr>\n",
       "        <th>ResourceGroup</th>\n",
       "        <th>count_</th>\n",
       "        <th>count2</th>\n",
       "    </tr>\n",
       "    <tr>\n",
       "        <td>contosoazurehq</td>\n",
       "        <td>2476785</td>\n",
       "        <td>6134463936225</td>\n",
       "    </tr>\n",
       "    <tr>\n",
       "        <td>contosoonpremhq</td>\n",
       "        <td>950419</td>\n",
       "        <td>903296275561</td>\n",
       "    </tr>\n",
       "    <tr>\n",
       "        <td>contosoautomation</td>\n",
       "        <td>567402</td>\n",
       "        <td>321945029604</td>\n",
       "    </tr>\n",
       "    <tr>\n",
       "        <td>aztest</td>\n",
       "        <td>339832</td>\n",
       "        <td>115485788224</td>\n",
       "    </tr>\n",
       "    <tr>\n",
       "        <td>ContosoRetailDev1</td>\n",
       "        <td>268794</td>\n",
       "        <td>72250214436</td>\n",
       "    </tr>\n",
       "</table>\n",
       "        </body>\n",
       "        </html>"
      ],
      "text/plain": [
       "<IPython.core.display.HTML object>"
      ]
     },
     "metadata": {},
     "output_type": "display_data"
    },
    {
     "data": {
      "text/html": [
       "<html>\n",
       "        <head>\n",
       "        \n",
       "        </head>\n",
       "        <body>\n",
       "        \n",
       "        </body>\n",
       "        </html>"
      ],
      "text/plain": [
       "<IPython.core.display.HTML object>"
      ]
     },
     "metadata": {},
     "output_type": "display_data"
    },
    {
     "data": {
      "text/html": [],
      "text/plain": [
       "[{'ResourceGroup': 'contosoazurehq', 'count_': 2476785, 'count2': 6134463936225},\n",
       " {'ResourceGroup': 'contosoonpremhq', 'count_': 950419, 'count2': 903296275561},\n",
       " {'ResourceGroup': 'contosoautomation', 'count_': 567402, 'count2': 321945029604},\n",
       " {'ResourceGroup': 'aztest', 'count_': 339832, 'count2': 115485788224},\n",
       " {'ResourceGroup': 'ContosoRetailDev1', 'count_': 268794, 'count2': 72250214436}]"
      ]
     },
     "execution_count": 54,
     "metadata": {},
     "output_type": "execute_result"
    }
   ],
   "source": [
    "%%kql \n",
    "    Heartbeat \n",
    "    | where ResourceGroup != '' \n",
    "    | summarize count() by ResourceGroup \n",
    "    | sort by count_ | limit 10\n",
    "    | extend count2 = count_*count_ \n",
    "    | limit 5"
   ]
  },
  {
   "cell_type": "markdown",
   "metadata": {},
   "source": [
    "  - ### <span style=\"color:#82CAFA\">*Note: feedback message was not displayed, because the default feedback option was set to False*</span>"
   ]
  },
  {
   "cell_type": "code",
   "execution_count": 55,
   "metadata": {},
   "outputs": [
    {
     "data": {
      "text/plain": [
       "True"
      ]
     },
     "execution_count": 55,
     "metadata": {},
     "output_type": "execute_result"
    }
   ],
   "source": [
    "%config Kqlmagic.feedback=True\n",
    "%config Kqlmagic.feedback"
   ]
  },
  {
   "cell_type": "markdown",
   "metadata": {},
   "source": [
    "## Kql query with option -version (print kqlmagic version)"
   ]
  },
  {
   "cell_type": "code",
   "execution_count": 56,
   "metadata": {},
   "outputs": [
    {
     "name": "stdout",
     "output_type": "stream",
     "text": [
      "Kqlmagic version: 0.1.61\n"
     ]
    }
   ],
   "source": [
    "%kql -version"
   ]
  },
  {
   "cell_type": "markdown",
   "metadata": {},
   "source": [
    "## Show all option defaults with help"
   ]
  },
  {
   "cell_type": "code",
   "execution_count": 57,
   "metadata": {},
   "outputs": [
    {
     "name": "stdout",
     "output_type": "stream",
     "text": [
      "Kqlmagic options\n",
      "--------------\n",
      "Kqlmagic.add_kql_ref_to_help=<Bool>\n",
      "    Current: True\n",
      "    On Kqlmagic load auto add kql reference to Help menu.\n",
      "Kqlmagic.add_schema_to_help=<Bool>\n",
      "    Current: True\n",
      "    On connection to database@cluster add  schema to Help menu.\n",
      "Kqlmagic.auto_dataframe=<Bool>\n",
      "    Current: False\n",
      "    Return Pandas dataframe instead of regular result sets. Abbreviation: ad\n",
      "Kqlmagic.auto_limit=<Int>\n",
      "    Current: 0\n",
      "    Automatically limit the size of the returned result sets. Abbreviation: al\n",
      "Kqlmagic.auto_popup_schema=<Bool>\n",
      "    Current: True\n",
      "    Popup schema when connecting to a new database. Abbreviation: aps\n",
      "Kqlmagic.cache=<Bool>\n",
      "    Current: False\n",
      "    Cache query results.\n",
      "Kqlmagic.cache_folder_name=<Unicode>\n",
      "    Current: 'Kqlmagic_cache_files'\n",
      "    Set the folder name for cache files\n",
      "Kqlmagic.columns_to_local_vars=<Bool>\n",
      "    Current: False\n",
      "    Return data into local variables from column names. Abbreviation: c2lv\n",
      "Kqlmagic.display_limit=<Int>\n",
      "    Current: None\n",
      "    Automatically limit the number of rows displayed (full result set is still\n",
      "    stored). Abbreviation: dl\n",
      "Kqlmagic.dsn_filename=<Unicode>\n",
      "    Current: 'odbc.ini'\n",
      "    Path to DSN file. When the first argument is of the form [section], a kql\n",
      "    connection string is formed from the matching section in the DSN file.\n",
      "    Abbreviation: dl\n",
      "Kqlmagic.enable_suppress_result=<Bool>\n",
      "    Current: True\n",
      "    Suppress result when magic ends with a semicolon ;. Abbreviation: esr\n",
      "Kqlmagic.export_folder_name=<Unicode>\n",
      "    Current: 'Kqlmagic_exported_files'\n",
      "    Set the folder name  for exported files\n",
      "Kqlmagic.feedback=<Bool>\n",
      "    Current: True\n",
      "    Show number of records returned, and assigned variables. Abbreviation: f\n",
      "Kqlmagic.json_display=<Enum>\n",
      "    Current: 'formatted'\n",
      "    Choices: ['raw', 'native', 'formatted']\n",
      "    Set json/dict display format. Abbreviation: jd\n",
      "Kqlmagic.last_raw_result_var=<Unicode>\n",
      "    Current: '_kql_raw_result_'\n",
      "    Set the name of the variable that will contain last raw result.\n",
      "    Abbreviation: var\n",
      "Kqlmagic.notebook_app=<Enum>\n",
      "    Current: 'jupyternotebook'\n",
      "    Choices: ['jupyterlab', 'jupyternotebook']\n",
      "    Set notebook application used.\n",
      "Kqlmagic.palette_colors=<Int>\n",
      "    Current: 10\n",
      "    Set pallete number of colors to be used for charts. Abbreviation: pc\n",
      "Kqlmagic.palette_desaturation=<Float>\n",
      "    Current: 1.0\n",
      "    Set pallete desaturation to be used for charts. Abbreviation: pd\n",
      "Kqlmagic.palette_name=<Unicode>\n",
      "    Current: 'tab10'\n",
      "    Set pallete by name to be used for charts. Abbreviation: pn\n",
      "Kqlmagic.params_dict=<Unicode>\n",
      "    Current: None\n",
      "    paremeters dictionary name, if None, python shell user namespace will be\n",
      "    used.\n",
      "Kqlmagic.plot_package=<Enum>\n",
      "    Current: 'plotly'\n",
      "    Choices: ['matplotlib', 'plotly']\n",
      "    Set the plot package. Abbreviation: pp\n",
      "Kqlmagic.plotly_fs_includejs=<Bool>\n",
      "    Current: False\n",
      "    Include plotly javascript code in popup window. If set to False (default),\n",
      "    it download the script from https://cdn.plot.ly/plotly-latest.min.js.\n",
      "    Abbreviation: pfi\n",
      "Kqlmagic.prettytable_style=<Enum>\n",
      "    Current: 'DEFAULT'\n",
      "    Choices: ['DEFAULT', 'MSWORD_FRIENDLY', 'PLAIN_COLUMNS', 'RANDOM']\n",
      "    Set the table printing style to any of prettytable's defined styles.\n",
      "    Abbreviation: ptst\n",
      "Kqlmagic.short_errors=<Bool>\n",
      "    Current: True\n",
      "    Don't display the full traceback on KQL Programming Error. Abbreviation: se\n",
      "Kqlmagic.show_conn_info=<Enum>\n",
      "    Current: 'current'\n",
      "    Choices: ['list', 'current', 'None']\n",
      "    Show connection info, either current, the whole list, or None. Abbreviation:\n",
      "    sci\n",
      "Kqlmagic.show_query_time=<Bool>\n",
      "    Current: True\n",
      "    Print query execution elapsed time. Abbreviation: sqt\n",
      "Kqlmagic.table_package=<Enum>\n",
      "    Current: 'prettytable'\n",
      "    Choices: ['prettytable', 'pandas', 'plotly', 'qgrid']\n",
      "    Set the table display package. Abbreviation: tp\n",
      "Kqlmagic.temp_folder_name=<Unicode>\n",
      "    Current: 'Kqlmagic_temp_files'\n",
      "    Set the folder name for temporary files\n",
      "Kqlmagic.use_cache=<Bool>\n",
      "    Current: False\n",
      "    use cached query results, instead of executing the query.\n",
      "Kqlmagic.validate_connection_string=<Bool>\n",
      "    Current: True\n",
      "    Validate connectionString with an implicit query, when query statement is\n",
      "    missing. Abbreviation: vc\n"
     ]
    }
   ],
   "source": [
    "%config Kqlmagic"
   ]
  },
  {
   "cell_type": "markdown",
   "metadata": {},
   "source": [
    "## Show query results in a popup window"
   ]
  },
  {
   "cell_type": "code",
   "execution_count": 58,
   "metadata": {},
   "outputs": [
    {
     "data": {
      "text/html": [
       "<html>\n",
       "        <head>\n",
       "        \n",
       "        </head>\n",
       "        <body>\n",
       "        <div><p style='padding: 10px; color: #3a87ad; background-color: #d9edf7; border-color: #bce9f1'>&nbsp*&nbspmyworkspace@loganalytics</p></div>\n",
       "        </body>\n",
       "        </html>"
      ],
      "text/plain": [
       "<IPython.core.display.HTML object>"
      ]
     },
     "metadata": {},
     "output_type": "display_data"
    },
    {
     "data": {
      "text/html": [
       "<!DOCTYPE html>\n",
       "            <html><body>\n",
       "\n",
       "            <button onclick=\"this.style.visibility='hidden';kql_MagicLaunchWindowFunction('Kqlmagic_temp_files/9dc5e7186cb8430e9e17615938131b2f.html','fullscreen=no,directories=no,location=no,menubar=no,resizable=yes,scrollbars=yes,status=no,titlebar=no,toolbar=no,','9dc5e7186cb8430e9e17615938131b2f','')\">popup scatterchart - Michael's chart </button>\n",
       "\n",
       "            <script>\n",
       "\n",
       "            function kql_MagicLaunchWindowFunction(file_path, window_params, window_name, notebooks_host) {\n",
       "                var url;\n",
       "                if (file_path.startsWith('http')) {\n",
       "                    url = file_path;\n",
       "                } else {\n",
       "                    var base_url = '';\n",
       "\n",
       "                    // check if azure notebook\n",
       "                    var azure_host = (notebooks_host == null || notebooks_host.length == 0) ? 'https://notebooks.azure.com' : notebooks_host;\n",
       "                    var start = azure_host.search('//');\n",
       "                    var azure_host_suffix = '.' + azure_host.substring(start+2);\n",
       "\n",
       "                    var loc = String(window.location);\n",
       "                    var end = loc.search(azure_host_suffix);\n",
       "                    start = loc.search('//');\n",
       "                    if (start > 0 && end > 0) {\n",
       "                        var parts = loc.substring(start+2, end).split('-');\n",
       "                        if (parts.length == 2) {\n",
       "                            var library = parts[0];\n",
       "                            var user = parts[1];\n",
       "                            base_url = azure_host + '/api/user/' +user+ '/library/' +library+ '/html/';\n",
       "                        }\n",
       "                    }\n",
       "\n",
       "                    // check if local jupyter lab\n",
       "                    if (base_url.length == 0) {\n",
       "                        var configDataScipt  = document.getElementById('jupyter-config-data');\n",
       "                        if (configDataScipt != null) {\n",
       "                            var jupyterConfigData = JSON.parse(configDataScipt.textContent);\n",
       "                            if (jupyterConfigData['appName'] == 'JupyterLab' && jupyterConfigData['serverRoot'] != null &&  jupyterConfigData['treeUrl'] != null) {\n",
       "                                var basePath = 'c:/My Projects/jupyter-Kqlmagic-microsoft-vsc/notebooks' + '/';\n",
       "                                if (basePath.startsWith(jupyterConfigData['serverRoot'])) {\n",
       "                                    base_url = '/files/' + basePath.substring(jupyterConfigData['serverRoot'].length+1);\n",
       "                                }\n",
       "                            } \n",
       "                        }\n",
       "                    }\n",
       "\n",
       "                    // assume local jupyter notebook\n",
       "                    if (base_url.length == 0) {\n",
       "\n",
       "                        var parts = loc.split('/');\n",
       "                        parts.pop();\n",
       "                        base_url = parts.join('/') + '/';\n",
       "                    }\n",
       "                    url = base_url + file_path;\n",
       "                }\n",
       "\n",
       "                window.focus();\n",
       "                var w = screen.width / 2;\n",
       "                var h = screen.height / 2;\n",
       "                params = 'width='+w+',height='+h;\n",
       "                kql_Magic_9dc5e7186cb8430e9e17615938131b2f = window.open(url, window_name, window_params + params);\n",
       "            }\n",
       "            </script>\n",
       "\n",
       "            </body></html>"
      ],
      "text/plain": [
       "<IPython.core.display.HTML object>"
      ]
     },
     "metadata": {},
     "output_type": "display_data"
    },
    {
     "data": {
      "text/html": [
       "<html>\n",
       "        <head>\n",
       "        \n",
       "        </head>\n",
       "        <body>\n",
       "        <div><p style='padding: 10px; color: #3a87ad; background-color: #d9edf7; border-color: #bce9f1'>Done&nbsp(00:01.324):&nbsp1000&nbsprecords</p></div>\n",
       "        </body>\n",
       "        </html>"
      ],
      "text/plain": [
       "<IPython.core.display.HTML object>"
      ]
     },
     "metadata": {},
     "output_type": "display_data"
    },
    {
     "data": {
      "text/html": [],
      "text/plain": [
       "[{'e1': 7.133871427886839, 'e2': 7.701320217309875, 'e3': 6.3280265743656585, 'e4': 6.404083881604019, 'e5': 6.264006168024003},\n",
       " {'e1': 7.555774112030726, 'e2': 6.37921122739974, 'e3': 5.9239801066817455, 'e4': 7.216784835743375, 'e5': 5.845551668724475},\n",
       " {'e1': 7.514653930771082, 'e2': 6.8170476997292075, 'e3': 7.0352086683421975, 'e4': 6.2776005356470845, 'e5': 6.621415119948084},\n",
       " {'e1': 9.307328247480125, 'e2': 7.301430238607333, 'e3': 5.454077029587342, 'e4': 9.219409933096278, 'e5': 5.832139587726443},\n",
       " {'e1': 7.15653468731456, 'e2': 6.835731186562698, 'e3': 6.707218080105417, 'e4': 8.964056565499689, 'e5': 8.031649708869097},\n",
       " {'e1': 6.649902753129092, 'e2': 6.438238733156642, 'e3': 7.275133059223739, 'e4': 9.114615539446172, 'e5': 6.807081501102899},\n",
       " {'e1': 6.695123736276268, 'e2': 6.00223567300796, 'e3': 7.730129388823656, 'e4': 5.992222917331015, 'e5': 7.880736330912702},\n",
       " {'e1': 7.33259073070534, 'e2': 6.896372500455968, 'e3': 7.263878261674496, 'e4': 8.167288650795745, 'e5': 4.527319510282001},\n",
       " {'e1': 5.5249539080724235, 'e2': 6.31856530512211, 'e3': 9.088153239647394, 'e4': 6.437149770195861, 'e5': 7.808291364775713},\n",
       " {'e1': 6.454363796725342, 'e2': 8.720029584595322, 'e3': 6.421732677329755, 'e4': 5.818349319901225, 'e5': 7.72479863572221},\n",
       " {'e1': 6.638087894375783, 'e2': 6.312690486761871, 'e3': 6.8870472356211865, 'e4': 6.868264199878058, 'e5': 7.055186315844095},\n",
       " {'e1': 7.990607792729874, 'e2': 5.350310094682758, 'e3': 7.294898169939405, 'e4': 6.135149609676173, 'e5': 7.491111236445575},\n",
       " {'e1': 6.625257717374943, 'e2': 7.961996679261407, 'e3': 8.742467727779058, 'e4': 4.728300510525902, 'e5': 6.629470341348724},\n",
       " {'e1': 6.30174985263429, 'e2': 5.313238387293864, 'e3': 6.607059608630162, 'e4': 5.085531116852872, 'e5': 5.3484440362611165},\n",
       " {'e1': 8.664605585121242, 'e2': 6.6032376523418295, 'e3': 7.27171523503315, 'e4': 6.617635034902749, 'e5': 8.401139613505928},\n",
       " {'e1': 7.985645020213601, 'e2': 9.500463158832822, 'e3': 7.062581532263929, 'e4': 6.623203629250173, 'e5': 6.432793601650891},\n",
       " {'e1': 6.836393661972722, 'e2': 7.672311020547267, 'e3': 8.678129997577956, 'e4': 7.560243744481786, 'e5': 7.046931683724679},\n",
       " {'e1': 6.300225552732282, 'e2': 5.345109890627645, 'e3': 7.3217142039280425, 'e4': 5.627648139585921, 'e5': 7.347284390205516},\n",
       " {'e1': 7.029680909322032, 'e2': 8.698663080118518, 'e3': 7.507151430197952, 'e4': 5.514319669489247, 'e5': 7.542059510977481},\n",
       " {'e1': 7.7844364268018325, 'e2': 6.832638386615748, 'e3': 7.939866478114502, 'e4': 6.972502011325902, 'e5': 6.114582917540599},\n",
       " {'e1': 7.274456957511006, 'e2': 7.417104588556561, 'e3': 6.547177998471057, 'e4': 6.405749073872681, 'e5': 7.0126451671648615},\n",
       " {'e1': 7.116577123887413, 'e2': 7.537724438729287, 'e3': 6.906061832594961, 'e4': 6.104524316637022, 'e5': 5.508841719901696},\n",
       " {'e1': 7.7409615090160475, 'e2': 7.067806551743247, 'e3': 6.390528714209461, 'e4': 8.251976855824234, 'e5': 8.064346876114447},\n",
       " {'e1': 7.966431546591292, 'e2': 6.691776065335272, 'e3': 6.708493999182151, 'e4': 5.745128776240715, 'e5': 5.3818689241496385},\n",
       " {'e1': 6.3126204809941155, 'e2': 6.454713237054617, 'e3': 5.416005254240406, 'e4': 9.063009503087267, 'e5': 7.260429253390629},\n",
       " {'e1': 6.146563410956732, 'e2': 5.957563259568297, 'e3': 5.597606577797105, 'e4': 6.076230076075563, 'e5': 7.904892181302644},\n",
       " {'e1': 6.14667519401393, 'e2': 7.699082270588707, 'e3': 6.416896686918645, 'e4': 6.170109262645883, 'e5': 7.483994500470801},\n",
       " {'e1': 7.526479460995537, 'e2': 4.831369339874526, 'e3': 6.356807223545241, 'e4': 7.8928989583967715, 'e5': 5.838029603147746},\n",
       " {'e1': 5.0259429758854335, 'e2': 6.547384529848355, 'e3': 6.663854259326593, 'e4': 7.729003516283239, 'e5': 6.783046447164937},\n",
       " {'e1': 6.297629901377992, 'e2': 7.732806037984228, 'e3': 8.618236134508612, 'e4': 7.661108431935769, 'e5': 6.735161735443564},\n",
       " {'e1': 5.55162023064419, 'e2': 6.1080730487381825, 'e3': 7.220696281037627, 'e4': 6.446374320505239, 'e5': 7.099307094399429},\n",
       " {'e1': 6.209847911528857, 'e2': 5.065970659360465, 'e3': 5.841076405355447, 'e4': 7.392232726811574, 'e5': 7.411815964224168},\n",
       " {'e1': 8.63376359432508, 'e2': 8.877030824447953, 'e3': 8.309609922721364, 'e4': 8.235748765929097, 'e5': 8.033436590231911},\n",
       " {'e1': 7.110053274691101, 'e2': 7.1914070369261465, 'e3': 7.4011272299986235, 'e4': 6.8287631257310935, 'e5': 5.173756980687344},\n",
       " {'e1': 4.7718346876199815, 'e2': 7.531631927199932, 'e3': 7.079063468930428, 'e4': 6.595143604251323, 'e5': 6.48375917698357},\n",
       " {'e1': 6.359438020525573, 'e2': 7.525181415576811, 'e3': 9.437012131027469, 'e4': 6.5923934281602765, 'e5': 6.104199381626028},\n",
       " {'e1': 7.084825733890796, 'e2': 8.152165878882718, 'e3': 7.9220872600941785, 'e4': 7.138433050276623, 'e5': 6.087256649873086},\n",
       " {'e1': 8.948700929759731, 'e2': 6.392133370417501, 'e3': 6.19287684361856, 'e4': 6.912378344676896, 'e5': 6.874723856821772},\n",
       " {'e1': 7.491313026861325, 'e2': 7.2619736940004955, 'e3': 5.208425434726868, 'e4': 6.122136354154184, 'e5': 7.3505663175083065},\n",
       " {'e1': 8.32432100828009, 'e2': 7.634269473031649, 'e3': 7.797273562459994, 'e4': 7.372389819377934, 'e5': 6.558274839709218},\n",
       " {'e1': 8.546185181156964, 'e2': 7.779082597166727, 'e3': 7.450951133922756, 'e4': 7.935743753798022, 'e5': 6.872162138066234},\n",
       " {'e1': 7.745762042243091, 'e2': 8.276030215288142, 'e3': 5.880921719017235, 'e4': 5.520236995947477, 'e5': 6.935489619484056},\n",
       " {'e1': 7.099590991604433, 'e2': 4.332693665699053, 'e3': 7.544694591099992, 'e4': 6.749875800266624, 'e5': 6.94136511985907},\n",
       " {'e1': 6.393179620684105, 'e2': 8.245476180000622, 'e3': 6.612323756245211, 'e4': 9.54890944700043, 'e5': 8.097373560531212},\n",
       " {'e1': 7.859683636080387, 'e2': 6.720838052673362, 'e3': 6.404919858553975, 'e4': 9.621137924483344, 'e5': 6.892143727852738},\n",
       " {'e1': 8.613783099101282, 'e2': 6.251685246717467, 'e3': 7.857602600155599, 'e4': 6.649637250463728, 'e5': 7.392456116099034},\n",
       " {'e1': 7.207286493029717, 'e2': 8.11471194700162, 'e3': 7.396596723831648, 'e4': 7.044612587638543, 'e5': 8.113067150009858},\n",
       " {'e1': 9.10041012416887, 'e2': 5.926861957228119, 'e3': 5.994382423381859, 'e4': 7.0008668330050075, 'e5': 6.3700829643124495},\n",
       " {'e1': 7.997620214755751, 'e2': 6.415609494525854, 'e3': 6.286240567455724, 'e4': 6.196450885843126, 'e5': 8.02580737488678},\n",
       " {'e1': 4.436813660403587, 'e2': 6.521846171994815, 'e3': 7.819551869005341, 'e4': 8.778729999376058, 'e5': 7.166341734805035},\n",
       " {'e1': 5.7386033061628945, 'e2': 5.911224825384319, 'e3': 7.025331435305867, 'e4': 8.404182873050383, 'e5': 8.598774638793644},\n",
       " {'e1': 7.619268012669024, 'e2': 7.259614377384113, 'e3': 7.800302912979762, 'e4': 6.9047290614777275, 'e5': 7.641042108124654},\n",
       " {'e1': 7.7059452056538325, 'e2': 5.590367454709979, 'e3': 7.391210400524909, 'e4': 7.0054902474947625, 'e5': 6.23446532865027},\n",
       " {'e1': 6.61351280642196, 'e2': 8.492524126819859, 'e3': 7.697081168937677, 'e4': 7.0270617654062955, 'e5': 8.219141599751318},\n",
       " {'e1': 7.571222151424758, 'e2': 7.548456903749262, 'e3': 4.791479340083624, 'e4': 7.3863371877248225, 'e5': 5.824795182494838},\n",
       " {'e1': 6.89434504091013, 'e2': 5.759986790571352, 'e3': 6.353007126925802, 'e4': 5.861478067806202, 'e5': 5.734742531064132},\n",
       " {'e1': 5.219258954536589, 'e2': 5.985327244041799, 'e3': 8.478906341321094, 'e4': 6.573367564803031, 'e5': 7.504184683742187},\n",
       " {'e1': 8.680062046878735, 'e2': 4.239225473822843, 'e3': 7.586105790969631, 'e4': 6.969747713216503, 'e5': 6.542836510003912},\n",
       " {'e1': 8.15126926980852, 'e2': 5.1401673641385575, 'e3': 6.870904714722383, 'e4': 6.2101549456997445, 'e5': 6.372965034494004},\n",
       " {'e1': 7.522932123679879, 'e2': 6.8044747326703305, 'e3': 9.12052292245693, 'e4': 8.322300072711677, 'e5': 7.648713598701464},\n",
       " {'e1': 6.0772565372236915, 'e2': 8.71294181070843, 'e3': 7.648874674347615, 'e4': 7.009123604806115, 'e5': 6.133811558093353},\n",
       " {'e1': 8.14102227246889, 'e2': 8.01938390382137, 'e3': 5.3429068034044755, 'e4': 6.809053760776095, 'e5': 6.603864934841429},\n",
       " {'e1': 7.003407447731827, 'e2': 7.193653991208571, 'e3': 6.352874890173681, 'e4': 7.399826500432359, 'e5': 8.749440961934878},\n",
       " {'e1': 8.508393361109345, 'e2': 8.29724147612355, 'e3': 8.198940951264536, 'e4': 6.811908277705697, 'e5': 7.365332464211167},\n",
       " {'e1': 7.677487750652119, 'e2': 5.086729569375588, 'e3': 5.015089649405919, 'e4': 5.932819048748057, 'e5': 7.952023524063779},\n",
       " {'e1': 6.841819624387211, 'e2': 7.152687556286566, 'e3': 7.24801969732147, 'e4': 6.565544120955036, 'e5': 7.499351444951321},\n",
       " {'e1': 5.596109698443074, 'e2': 8.486460415206498, 'e3': 7.790486976234552, 'e4': 7.483049525831328, 'e5': 5.176057325888802},\n",
       " {'e1': 7.33588163067776, 'e2': 6.169089873705201, 'e3': 6.088477838426263, 'e4': 7.567119720023511, 'e5': 6.561211165743259},\n",
       " {'e1': 7.293043407136475, 'e2': 6.593169818806174, 'e3': 8.657639897697852, 'e4': 8.537162352550753, 'e5': 8.235620650722904},\n",
       " {'e1': 7.3106095322180105, 'e2': 6.723080770395149, 'e3': 7.252709979357716, 'e4': 6.818726548631173, 'e5': 7.213290253899859},\n",
       " {'e1': 6.7619174833545115, 'e2': 6.235286311885304, 'e3': 6.618274424767144, 'e4': 5.139628153305639, 'e5': 7.058976506872679},\n",
       " {'e1': 8.402460878127071, 'e2': 8.852679889618894, 'e3': 8.76870381111522, 'e4': 4.799490060514222, 'e5': 8.402876442425388},\n",
       " {'e1': 8.053416477526255, 'e2': 7.219564273065508, 'e3': 6.861557327361446, 'e4': 7.918486930695238, 'e5': 6.813838348984209},\n",
       " {'e1': 6.539246137884571, 'e2': 7.78669255971502, 'e3': 9.202103614650612, 'e4': 6.375996554221726, 'e5': 5.739049424562922},\n",
       " {'e1': 6.978891383669371, 'e2': 8.848061850278821, 'e3': 7.227639480162686, 'e4': 7.341304402466978, 'e5': 7.87572306470319},\n",
       " {'e1': 7.880822132468327, 'e2': 6.560478850869064, 'e3': 9.238833940732277, 'e4': 6.150965413131647, 'e5': 7.792036462691991},\n",
       " {'e1': 6.842603489636565, 'e2': 5.698241686952046, 'e3': 7.336995793949193, 'e4': 6.231346734561388, 'e5': 7.456717542368777},\n",
       " {'e1': 9.644949122187551, 'e2': 7.487813928161576, 'e3': 6.317099262229351, 'e4': 5.737232633655148, 'e5': 5.825593465964927},\n",
       " {'e1': 5.9997982570864785, 'e2': 6.232737258534559, 'e3': 6.223921942211355, 'e4': 8.822385600545287, 'e5': 6.091880233177548},\n",
       " {'e1': 5.779971601194166, 'e2': 7.455779453431129, 'e3': 6.280351221637246, 'e4': 8.738463561497614, 'e5': 7.285866966313062},\n",
       " {'e1': 6.764479350187229, 'e2': 8.360411874495393, 'e3': 6.836018770339355, 'e4': 7.25190904312761, 'e5': 7.172188676183076},\n",
       " {'e1': 8.343779534240259, 'e2': 5.255931846630479, 'e3': 8.246681885527767, 'e4': 5.407316825026816, 'e5': 9.02111361234782},\n",
       " {'e1': 7.663436211798139, 'e2': 8.721969395260539, 'e3': 6.0790377635429405, 'e4': 7.1870589803837435, 'e5': 6.494150827039786},\n",
       " {'e1': 7.414411053355047, 'e2': 5.767359228995108, 'e3': 8.587106425031376, 'e4': 8.159407836946302, 'e5': 6.828868553116044},\n",
       " {'e1': 5.662110035110347, 'e2': 7.665543813727048, 'e3': 6.842842435797176, 'e4': 8.26163190587194, 'e5': 6.962456691776893},\n",
       " {'e1': 6.075474597218357, 'e2': 7.901342428469037, 'e3': 8.019058613870166, 'e4': 6.824591003547451, 'e5': 6.612919395027552},\n",
       " {'e1': 4.595918251476299, 'e2': 7.119194721445819, 'e3': 6.3524580976665606, 'e4': 9.932347931602308, 'e5': 8.322402790923233},\n",
       " {'e1': 8.013535278946897, 'e2': 6.931592586108995, 'e3': 7.616904293842657, 'e4': 8.538590779564945, 'e5': 8.117209855288454},\n",
       " {'e1': 6.301950284290556, 'e2': 6.3976817402957575, 'e3': 7.632225437294355, 'e4': 6.4897929057136485, 'e5': 6.988816818221215},\n",
       " {'e1': 7.182940498789733, 'e2': 8.667669902548912, 'e3': 7.299986790905812, 'e4': 5.663138228531711, 'e5': 6.861566859005691},\n",
       " {'e1': 6.097028567614494, 'e2': 7.944704877958118, 'e3': 7.589443747062499, 'e4': 7.111395489748209, 'e5': 5.721157385309589},\n",
       " {'e1': 5.1772996641220494, 'e2': 6.462357917343867, 'e3': 5.355412675810927, 'e4': 7.897573742146459, 'e5': 6.421157705992386},\n",
       " {'e1': 6.500661830434664, 'e2': 7.47324628686079, 'e3': 6.884116427027221, 'e4': 7.698558912002852, 'e5': 7.295097143856658},\n",
       " {'e1': 6.650070243716417, 'e2': 8.112832154137354, 'e3': 7.999225153563751, 'e4': 8.66226983555229, 'e5': 6.326411661800918},\n",
       " {'e1': 4.810095338832991, 'e2': 7.542075791635386, 'e3': 6.364033376787293, 'e4': 6.7712199115300935, 'e5': 6.850841062019553},\n",
       " {'e1': 6.721274525765687, 'e2': 6.9742705711140625, 'e3': 7.550493350847266, 'e4': 7.134364955503949, 'e5': 6.770687829495398},\n",
       " {'e1': 7.239865430897636, 'e2': 6.715948746729582, 'e3': 7.117382221624737, 'e4': 6.443567384794264, 'e5': 7.220254057230963},\n",
       " {'e1': 7.383475204716922, 'e2': 8.449664035878515, 'e3': 6.508020956134626, 'e4': 7.274871024322089, 'e5': 8.747284310694459},\n",
       " {'e1': 7.735943470973844, 'e2': 5.182815343791618, 'e3': 6.835789237732049, 'e4': 6.01460648517121, 'e5': 8.733806665070897},\n",
       " {'e1': 8.423948336188936, 'e2': 5.8060298218645, 'e3': 7.520730938028195, 'e4': 5.110922491499631, 'e5': 7.277092401464781},\n",
       " {'e1': 5.818653671313257, 'e2': 8.018729406501881, 'e3': 5.539150595694246, 'e4': 5.670322222105293, 'e5': 5.75596077318988},\n",
       " {'e1': 8.043276390205053, 'e2': 6.748554579112846, 'e3': 5.813655393229425, 'e4': 7.544256441392774, 'e5': 5.944109039329909},\n",
       " {'e1': 6.691260879057667, 'e2': 8.574137720889885, 'e3': 5.185466219228033, 'e4': 8.083311462463662, 'e5': 7.157479492099289},\n",
       " {'e1': 6.853698859108453, 'e2': 5.344222549601744, 'e3': 7.1995792694045315, 'e4': 6.56746137791893, 'e5': 7.9813940228812745},\n",
       " {'e1': 7.410947361876429, 'e2': 6.911851026178238, 'e3': 7.0547486527843075, 'e4': 9.121271281149166, 'e5': 8.620697633154407},\n",
       " {'e1': 7.054548810363494, 'e2': 7.1680696652995435, 'e3': 5.567145369094102, 'e4': 7.074435534870563, 'e5': 7.272530844590544},\n",
       " {'e1': 7.411734110703082, 'e2': 6.66249328547324, 'e3': 7.396249900401882, 'e4': 6.492506913965511, 'e5': 7.615673098987815},\n",
       " {'e1': 5.994875608746919, 'e2': 6.997373237115964, 'e3': 6.750359201154423, 'e4': 8.549141246619884, 'e5': 7.7521755636200425},\n",
       " {'e1': 9.43666408720725, 'e2': 7.279959210795349, 'e3': 6.292449117854539, 'e4': 8.677846218777864, 'e5': 7.428556817104983},\n",
       " {'e1': 5.9738899663447596, 'e2': 8.330739095199084, 'e3': 6.786681736989892, 'e4': 8.20434711680509, 'e5': 6.718219843695921},\n",
       " {'e1': 7.849483512132103, 'e2': 7.401675348564592, 'e3': 6.305243291269332, 'e4': 6.335630093655899, 'e5': 6.6072498724792705},\n",
       " {'e1': 6.119270591202795, 'e2': 9.727913022289458, 'e3': 8.614866189972748, 'e4': 5.079372046494862, 'e5': 8.709816407805903},\n",
       " {'e1': 9.398459563401282, 'e2': 5.557966801419606, 'e3': 7.117694034718129, 'e4': 7.421783497793916, 'e5': 5.577498712807223},\n",
       " {'e1': 6.43766615535344, 'e2': 7.861688196149026, 'e3': 5.521884793460367, 'e4': 8.264051092944017, 'e5': 6.81274933026074},\n",
       " {'e1': 4.812105082480394, 'e2': 5.64562543005371, 'e3': 6.890741488008259, 'e4': 6.559053625049353, 'e5': 4.846040762258565},\n",
       " {'e1': 7.991638689812816, 'e2': 5.071482716345729, 'e3': 7.174536878471594, 'e4': 7.440130869598821, 'e5': 5.1843356159865515},\n",
       " {'e1': 4.926164652230551, 'e2': 6.618011064804137, 'e3': 5.817400016139006, 'e4': 6.339662683887168, 'e5': 6.647733868513118},\n",
       " {'e1': 6.480441106195652, 'e2': 6.972874299542288, 'e3': 5.3431122920989615, 'e4': 6.880710186261419, 'e5': 5.5745590682785755},\n",
       " {'e1': 8.104995696775996, 'e2': 7.315202312844246, 'e3': 8.10328831766774, 'e4': 5.444831863223255, 'e5': 10.17229085755832},\n",
       " {'e1': 8.101815681509953, 'e2': 4.969167617912906, 'e3': 7.997092830218101, 'e4': 6.972887244313704, 'e5': 7.500030806784357},\n",
       " {'e1': 6.752182485163855, 'e2': 6.802671973142136, 'e3': 7.51080777258831, 'e4': 5.917765550531514, 'e5': 6.8359735789233875},\n",
       " {'e1': 5.638585835154762, 'e2': 7.43062030527304, 'e3': 4.723822048045978, 'e4': 7.335988831041287, 'e5': 7.880790762114333},\n",
       " {'e1': 6.979403641431247, 'e2': 7.38728049167345, 'e3': 7.9593331620701715, 'e4': 5.239980921202079, 'e5': 6.831622185050175},\n",
       " {'e1': 6.221029021686266, 'e2': 6.164744794500067, 'e3': 6.933115419317606, 'e4': 6.815057445615815, 'e5': 7.753088017072289},\n",
       " {'e1': 6.258713881019598, 'e2': 7.756818728076461, 'e3': 4.943055860360366, 'e4': 6.29419836547179, 'e5': 7.240431795826057},\n",
       " {'e1': 6.924978654503635, 'e2': 4.283847743607546, 'e3': 6.629411426297892, 'e4': 7.661961075472954, 'e5': 4.541108423203039},\n",
       " {'e1': 7.6376904671133605, 'e2': 6.514165288003319, 'e3': 8.003140139238244, 'e4': 7.1697753990335125, 'e5': 7.42656389323175},\n",
       " {'e1': 6.32852443436515, 'e2': 6.862034860232925, 'e3': 5.765158405316725, 'e4': 9.829188932753606, 'e5': 6.548624380105053},\n",
       " {'e1': 8.170101359866306, 'e2': 7.816430150015271, 'e3': 6.191752951368992, 'e4': 6.133079582920542, 'e5': 7.069879673505405},\n",
       " {'e1': 7.879830770048779, 'e2': 7.703834285607277, 'e3': 6.772581162566193, 'e4': 4.319073898868913, 'e5': 5.767875312987066},\n",
       " {'e1': 6.071678320742401, 'e2': 8.181058766231562, 'e3': 6.950090795492672, 'e4': 8.913907215408715, 'e5': 8.635487611894586},\n",
       " {'e1': 7.831209635901018, 'e2': 5.732302503955424, 'e3': 4.917403966229592, 'e4': 8.367064919730181, 'e5': 6.3228858700991015},\n",
       " {'e1': 6.950791732404772, 'e2': 7.442546951130274, 'e3': 7.20243727697674, 'e4': 8.050230743595463, 'e5': 6.298777169405067},\n",
       " {'e1': 7.009447921881162, 'e2': 7.150750447878454, 'e3': 5.113477258234437, 'e4': 6.568354023936007, 'e5': 6.885698222292714},\n",
       " {'e1': 5.491332691624833, 'e2': 6.92104335131094, 'e3': 6.59210447860719, 'e4': 8.599681977101673, 'e5': 7.199647447051203},\n",
       " {'e1': 7.399231440123327, 'e2': 7.153799269657779, 'e3': 7.773617183558326, 'e4': 8.72737259869583, 'e5': 6.818938183202197},\n",
       " {'e1': 7.094437398246742, 'e2': 7.170049959634273, 'e3': 6.398935350065207, 'e4': 6.10296208558891, 'e5': 7.031744784114561},\n",
       " {'e1': 6.90812595471718, 'e2': 5.561875033767588, 'e3': 6.240329146280899, 'e4': 6.403651495441062, 'e5': 7.38329815994517},\n",
       " {'e1': 7.911909201164818, 'e2': 5.320687769059856, 'e3': 7.14549678174595, 'e4': 8.81194825538713, 'e5': 6.6436419268467315},\n",
       " {'e1': 8.036124443378885, 'e2': 7.635406307812565, 'e3': 6.5765342885377915, 'e4': 6.940017449321852, 'e5': 8.881628489621804},\n",
       " {'e1': 8.515686732313254, 'e2': 6.261907556247329, 'e3': 7.205950874468583, 'e4': 5.189835073213926, 'e5': 8.273157410843748},\n",
       " {'e1': 6.197636117457447, 'e2': 7.656355114345457, 'e3': 8.149155384255609, 'e4': 9.106950692855555, 'e5': 5.530212247154601},\n",
       " {'e1': 5.179502663305311, 'e2': 8.584088074768905, 'e3': 8.325794063683182, 'e4': 6.688676079277668, 'e5': 6.617929926649266},\n",
       " {'e1': 6.330013788943184, 'e2': 6.202063842955013, 'e3': 7.554276668128633, 'e4': 5.969724076298404, 'e5': 6.311074907022069},\n",
       " {'e1': 8.350595199611169, 'e2': 6.895542205403014, 'e3': 6.411627140987151, 'e4': 5.401051610643883, 'e5': 7.576009082749228},\n",
       " {'e1': 7.399188452590567, 'e2': 7.765801484156189, 'e3': 7.393875768214979, 'e4': 6.013671278573908, 'e5': 8.512438007655312},\n",
       " {'e1': 6.2321354739756, 'e2': 7.058945531655261, 'e3': 6.637514687133073, 'e4': 6.578734502989812, 'e5': 7.380104811032114},\n",
       " {'e1': 9.294834447792667, 'e2': 8.071272671494087, 'e3': 8.177537924403856, 'e4': 6.792109319738244, 'e5': 6.402356048380516},\n",
       " {'e1': 6.676582801135367, 'e2': 7.01205205032229, 'e3': 7.100935453785552, 'e4': 7.4825516531604075, 'e5': 5.576532461984467},\n",
       " {'e1': 9.3720952812143, 'e2': 6.798731062143991, 'e3': 7.535334109725286, 'e4': 8.268403788158196, 'e5': 7.628259305751485},\n",
       " {'e1': 9.038789084013331, 'e2': 5.652894700555441, 'e3': 7.590349731556675, 'e4': 6.062680015514543, 'e5': 6.814012673955795},\n",
       " {'e1': 5.624982576763355, 'e2': 7.034624158722772, 'e3': 6.592015290380445, 'e4': 7.105735921422145, 'e5': 6.444899083678468},\n",
       " {'e1': 7.280763358592603, 'e2': 10.02253348886714, 'e3': 9.56847921876389, 'e4': 5.061610568981756, 'e5': 7.881455406883764},\n",
       " {'e1': 7.248110938535849, 'e2': 6.290684121429452, 'e3': 7.955128289466971, 'e4': 8.618834978590044, 'e5': 8.408852985522085},\n",
       " {'e1': 6.493037332522695, 'e2': 8.80626097717158, 'e3': 4.3445122402129694, 'e4': 4.618533569935307, 'e5': 7.597197481089101},\n",
       " {'e1': 6.895900123927636, 'e2': 8.562871606023531, 'e3': 7.245597151653435, 'e4': 5.117877687803901, 'e5': 7.196309936850212},\n",
       " {'e1': 8.452816628332378, 'e2': 8.792673737336662, 'e3': 6.5659102752936045, 'e4': 8.16886589360182, 'e5': 7.495742761587723},\n",
       " {'e1': 6.9216738039525225, 'e2': 5.525258650037583, 'e3': 8.967364423522232, 'e4': 6.677821874735595, 'e5': 8.372112153516735},\n",
       " {'e1': 4.888989702504689, 'e2': 7.431495561052578, 'e3': 5.773363334170455, 'e4': 6.303990489786617, 'e5': 6.728270740999908},\n",
       " {'e1': 6.513479841187329, 'e2': 7.826404814385107, 'e3': 5.582186222814663, 'e4': 5.475594088407461, 'e5': 6.775450352231092},\n",
       " {'e1': 6.542992328889528, 'e2': 7.457660317414509, 'e3': 6.358816072391864, 'e4': 8.358612812511039, 'e5': 5.54627804984512},\n",
       " {'e1': 7.511974821359707, 'e2': 7.368429572999139, 'e3': 6.834184925652751, 'e4': 6.263965883199862, 'e5': 6.883655032175708},\n",
       " {'e1': 7.275354029233434, 'e2': 7.111829011020752, 'e3': 6.110893190760286, 'e4': 6.21411637300869, 'e5': 5.511893439795954},\n",
       " {'e1': 6.810713087287759, 'e2': 7.865540662888114, 'e3': 5.54734469204289, 'e4': 7.689708130847481, 'e5': 6.197124350052112},\n",
       " {'e1': 6.717104462008646, 'e2': 8.19348899942837, 'e3': 6.794511678196668, 'e4': 5.2224645740134, 'e5': 6.0485216858095345},\n",
       " {'e1': 7.509817674112897, 'e2': 4.807716929070826, 'e3': 5.983054734354961, 'e4': 5.9680838381823165, 'e5': 5.399620525255271},\n",
       " {'e1': 8.574809295726817, 'e2': 7.399841254061658, 'e3': 6.556607048103969, 'e4': 6.763205566492397, 'e5': 7.624951037865188},\n",
       " {'e1': 7.1603235254309405, 'e2': 6.479266685701294, 'e3': 8.103570245538949, 'e4': 9.030603832059969, 'e5': 7.475056402058817},\n",
       " {'e1': 7.409564065069123, 'e2': 8.284932486493663, 'e3': 7.957173286766373, 'e4': 8.704266805157348, 'e5': 5.237727287256935},\n",
       " {'e1': 6.688350164516829, 'e2': 5.904745467008143, 'e3': 6.300208417301039, 'e4': 6.5261863681835335, 'e5': 10.07417984396},\n",
       " {'e1': 6.875392819444303, 'e2': 7.7734884148528485, 'e3': 4.815757623418428, 'e4': 5.341478475465351, 'e5': 6.837098056294347},\n",
       " {'e1': 7.437719113816119, 'e2': 7.059242148727759, 'e3': 6.287739054545592, 'e4': 7.883861145786368, 'e5': 6.8832274933055135},\n",
       " {'e1': 5.71199606445223, 'e2': 8.05239540579316, 'e3': 7.195356733387656, 'e4': 6.006386300331796, 'e5': 6.823542748165187},\n",
       " {'e1': 5.0562716424160365, 'e2': 9.418829348551009, 'e3': 5.1651261074689545, 'e4': 7.917369641326047, 'e5': 8.45662758804818},\n",
       " {'e1': 6.759495114375997, 'e2': 8.127884113028426, 'e3': 4.5336188525744925, 'e4': 5.304877587710485, 'e5': 5.6658368812334565},\n",
       " {'e1': 5.055066597699973, 'e2': 6.316616569199786, 'e3': 6.913977953726554, 'e4': 5.935638289883052, 'e5': 8.025312407594756},\n",
       " {'e1': 6.676381282112441, 'e2': 6.203359676335655, 'e3': 7.561856428437847, 'e4': 4.182195971847544, 'e5': 6.343749274874536},\n",
       " {'e1': 7.4219897114159075, 'e2': 6.786763683695845, 'e3': 6.5569862882577326, 'e4': 8.3148485490915, 'e5': 7.971746489001254},\n",
       " {'e1': 7.295330917244122, 'e2': 6.633652734713701, 'e3': 5.654720165637761, 'e4': 6.1265170796040325, 'e5': 6.672701893276662},\n",
       " {'e1': 7.1106941967871276, 'e2': 6.908650847094264, 'e3': 6.594343824512364, 'e4': 6.552015667598125, 'e5': 6.162130697035117},\n",
       " {'e1': 6.901387799618542, 'e2': 7.393898939225679, 'e3': 7.094302322496803, 'e4': 6.7157418629821635, 'e5': 5.249700620609881},\n",
       " {'e1': 6.69507474328246, 'e2': 6.280229810385416, 'e3': 6.441378716556508, 'e4': 9.463844068631511, 'e5': 6.7054408819838525},\n",
       " {'e1': 7.499945098635228, 'e2': 6.694788781158197, 'e3': 7.795283034079238, 'e4': 6.667353272369627, 'e5': 8.554884743400715},\n",
       " {'e1': 5.640234264524014, 'e2': 6.96129041171777, 'e3': 7.258363184892394, 'e4': 5.907590925777596, 'e5': 8.538282071662392},\n",
       " {'e1': 7.073694643165454, 'e2': 7.5856954831475685, 'e3': 7.532947607437791, 'e4': 7.106160986974949, 'e5': 5.364901910943096},\n",
       " {'e1': 5.699479898725621, 'e2': 6.539972253465577, 'e3': 5.500195423156432, 'e4': 5.259240408039824, 'e5': 8.671823241856758},\n",
       " {'e1': 6.706167200979949, 'e2': 6.8020496076559365, 'e3': 8.966215927530657, 'e4': 8.950774893476765, 'e5': 6.120155995384733},\n",
       " {'e1': 7.527167341275085, 'e2': 7.2115398977530045, 'e3': 4.9132993321462735, 'e4': 7.559958868327941, 'e5': 9.013988211091394},\n",
       " {'e1': 7.227482031854602, 'e2': 5.690695467337649, 'e3': 7.014160263502616, 'e4': 6.062031224609099, 'e5': 7.894338402500373},\n",
       " {'e1': 8.688420980532108, 'e2': 6.427129003932475, 'e3': 4.550483002580714, 'e4': 5.586667337127501, 'e5': 4.837608381751256},\n",
       " {'e1': 8.098772470444574, 'e2': 7.6054241737104, 'e3': 7.244169455529897, 'e4': 7.833246136073682, 'e5': 6.252541406471815},\n",
       " {'e1': 6.107239438151493, 'e2': 7.930662958521294, 'e3': 6.972835509893894, 'e4': 8.551946797154377, 'e5': 9.080815217514122},\n",
       " {'e1': 8.65836118904855, 'e2': 6.345568943729002, 'e3': 7.0322334740102, 'e4': 8.47864186226009, 'e5': 7.198302548629235},\n",
       " {'e1': 5.719467445420252, 'e2': 7.26371146516634, 'e3': 7.36868858747124, 'e4': 7.574440747924058, 'e5': 8.111915911946772},\n",
       " {'e1': 8.848453461535716, 'e2': 8.337057410361517, 'e3': 6.433817660538125, 'e4': 7.630214381234342, 'e5': 6.7224441634240275},\n",
       " {'e1': 5.8211238336936555, 'e2': 7.648139860284519, 'e3': 6.929688827405114, 'e4': 7.495654735611159, 'e5': 5.47968346441812},\n",
       " {'e1': 7.742342395241042, 'e2': 7.460144360859051, 'e3': 6.158196280200885, 'e4': 7.330192420179166, 'e5': 7.477010835213125},\n",
       " {'e1': 5.656745475814869, 'e2': 7.16436291316556, 'e3': 7.395236604836997, 'e4': 7.255949269614452, 'e5': 5.274363577222187},\n",
       " {'e1': 7.815102131179268, 'e2': 5.162440173893569, 'e3': 7.8388023173508286, 'e4': 8.589426422105577, 'e5': 6.312324565681469},\n",
       " {'e1': 7.46243428152224, 'e2': 7.485021493733298, 'e3': 8.829589504212604, 'e4': 7.318248883066176, 'e5': 7.696476124898905},\n",
       " {'e1': 7.203892679241128, 'e2': 5.884226854637135, 'e3': 7.0721081922058895, 'e4': 7.380417540055052, 'e5': 8.2239065313487},\n",
       " {'e1': 6.978042903283847, 'e2': 7.007414202007187, 'e3': 7.259750131870088, 'e4': 7.419733529658121, 'e5': 6.054604355422758},\n",
       " {'e1': 5.024981764802087, 'e2': 6.326083252217984, 'e3': 6.334479187217639, 'e4': 8.170675431408675, 'e5': 6.776138740186038},\n",
       " {'e1': 5.084961848976295, 'e2': 8.066895262257711, 'e3': 5.315797778368778, 'e4': 7.636340366671149, 'e5': 5.370366879810418},\n",
       " {'e1': 8.256283194140439, 'e2': 6.224167776882072, 'e3': 6.034849118783757, 'e4': 4.6172084720445845, 'e5': 7.23534965653465},\n",
       " {'e1': 7.814033092193365, 'e2': 5.835988282263502, 'e3': 7.030160423741594, 'e4': 5.138342924794111, 'e5': 5.986923080191889},\n",
       " {'e1': 9.538158825084295, 'e2': 7.899811097682712, 'e3': 7.2177971111024535, 'e4': 6.079920621980188, 'e5': 6.7318745903125174},\n",
       " {'e1': 6.40492799814603, 'e2': 6.898705864209181, 'e3': 8.021124413177594, 'e4': 7.539335085483097, 'e5': 6.603445688650376},\n",
       " {'e1': 8.508164230460011, 'e2': 5.544261970166919, 'e3': 7.426795596423371, 'e4': 6.656829878844841, 'e5': 6.712871285158471},\n",
       " {'e1': 8.059212697553503, 'e2': 4.510891342796416, 'e3': 6.823028650636251, 'e4': 5.137189509693129, 'e5': 5.833502862260304},\n",
       " {'e1': 7.226585343844339, 'e2': 5.984182456589417, 'e3': 6.402949463376904, 'e4': 5.978517391735852, 'e5': 6.965994545405349},\n",
       " {'e1': 5.620673437430603, 'e2': 7.371366108638117, 'e3': 5.4391764803887215, 'e4': 7.16384686566276, 'e5': 7.424177117849963},\n",
       " {'e1': 8.046386605596076, 'e2': 6.896848892191301, 'e3': 6.925622226458502, 'e4': 7.125013086110736, 'e5': 6.9945899422164635},\n",
       " {'e1': 8.387306144532106, 'e2': 8.342351295948845, 'e3': 6.845618846008452, 'e4': 4.40098420905906, 'e5': 5.92494520882749},\n",
       " {'e1': 8.247905539162929, 'e2': 8.044110447048743, 'e3': 6.671173498713994, 'e4': 7.023330878733631, 'e5': 6.845608216687561},\n",
       " {'e1': 5.032791470287331, 'e2': 6.568262779135553, 'e3': 8.351609199312444, 'e4': 5.307455629553129, 'e5': 6.869911219515327},\n",
       " {'e1': 4.988598754658747, 'e2': 6.278192322962986, 'e3': 5.440082218295356, 'e4': 7.428261399794642, 'e5': 6.607069893805289},\n",
       " {'e1': 6.93551778136087, 'e2': 6.649652844801966, 'e3': 5.758187541067839, 'e4': 6.569157977958444, 'e5': 8.011503627872585},\n",
       " {'e1': 8.040505701468673, 'e2': 6.863944945297285, 'e3': 6.34989468533037, 'e4': 5.721019621819789, 'e5': 5.4172368134426},\n",
       " {'e1': 7.635641599368923, 'e2': 6.9884884779254115, 'e3': 6.606800687474662, 'e4': 7.719784264903438, 'e5': 7.661460941161195},\n",
       " {'e1': 6.594319084990262, 'e2': 6.9745929254413985, 'e3': 6.649778467274381, 'e4': 6.017383752033616, 'e5': 6.793368107805451},\n",
       " {'e1': 8.399976226773108, 'e2': 6.7060207273755, 'e3': 7.268976609432847, 'e4': 6.102716062452786, 'e5': 8.19026122532582},\n",
       " {'e1': 7.197040084913371, 'e2': 6.26539973874597, 'e3': 7.4847370211744035, 'e4': 8.522582436287763, 'e5': 6.994169794196159},\n",
       " {'e1': 6.121921953155477, 'e2': 6.750540980493253, 'e3': 8.493295081701394, 'e4': 8.13569253962972, 'e5': 7.423347405111745},\n",
       " {'e1': 6.866039360598152, 'e2': 7.418605266556588, 'e3': 7.585475767301922, 'e4': 7.329333485931808, 'e5': 4.9592182982480235},\n",
       " {'e1': 7.607828996108724, 'e2': 8.413294061123079, 'e3': 6.4855145204653395, 'e4': 7.321948273605255, 'e5': 7.1469655333883315},\n",
       " {'e1': 5.634272600311245, 'e2': 8.160622414794263, 'e3': 7.436955264654497, 'e4': 7.720614607129244, 'e5': 7.283249942468374},\n",
       " {'e1': 5.942938339908186, 'e2': 6.244221478614818, 'e3': 6.458207916040694, 'e4': 6.437101777587722, 'e5': 7.236967820895092},\n",
       " {'e1': 5.684179028616192, 'e2': 9.346142460981847, 'e3': 7.395219605632721, 'e4': 7.446681055231827, 'e5': 5.288189374986436},\n",
       " {'e1': 6.386521076262261, 'e2': 8.031957350700209, 'e3': 8.8883837009964, 'e4': 7.080340833818843, 'e5': 6.528238257826706},\n",
       " {'e1': 6.237124219348503, 'e2': 5.619615175884209, 'e3': 7.349097668346315, 'e4': 7.307416856752607, 'e5': 7.709487722454534},\n",
       " {'e1': 5.669504386665711, 'e2': 6.877189890925734, 'e3': 6.479902833040746, 'e4': 5.898922524487801, 'e5': 6.61255476330097},\n",
       " {'e1': 7.207539498032042, 'e2': 7.807356680256783, 'e3': 5.63212270736719, 'e4': 8.80854433520954, 'e5': 4.783360990560962},\n",
       " {'e1': 6.429430514947491, 'e2': 5.59861783807736, 'e3': 5.192159806870979, 'e4': 6.16282283792042, 'e5': 7.870648829110678},\n",
       " {'e1': 7.792878641576582, 'e2': 6.271143428200693, 'e3': 7.663557850162191, 'e4': 5.467133876115715, 'e5': 6.717646679951938},\n",
       " {'e1': 6.242119665439578, 'e2': 7.920218314113084, 'e3': 7.877801382987941, 'e4': 4.843859476034436, 'e5': 6.7409300765661655},\n",
       " {'e1': 5.706511174211428, 'e2': 7.951228978724565, 'e3': 5.76219834795024, 'e4': 5.763857427646791, 'e5': 7.581789795946791},\n",
       " {'e1': 5.081986058114187, 'e2': 7.979269722252191, 'e3': 5.314609378992944, 'e4': 6.68402840099438, 'e5': 7.525176249078619},\n",
       " {'e1': 7.478267840675754, 'e2': 6.138948839597288, 'e3': 7.185413492840334, 'e4': 7.719554052833528, 'e5': 6.250383209664732},\n",
       " {'e1': 5.313177595411809, 'e2': 6.966807845421108, 'e3': 6.746897125558065, 'e4': 6.34743154981532, 'e5': 6.919710612977585},\n",
       " {'e1': 7.535179415241815, 'e2': 7.265989827357753, 'e3': 6.790408724782959, 'e4': 9.58306749944906, 'e5': 4.834272456269566},\n",
       " {'e1': 6.09535384941393, 'e2': 8.139875336129766, 'e3': 7.010737127304111, 'e4': 7.256738172131668, 'e5': 5.437126923000236},\n",
       " {'e1': 7.28578681186794, 'e2': 7.567062302049036, 'e3': 6.0096806022652, 'e4': 8.253532737054067, 'e5': 6.225523270225155},\n",
       " {'e1': 7.017632527697185, 'e2': 5.722463289961866, 'e3': 9.211201292298384, 'e4': 4.905890348188852, 'e5': 6.9079976482869325},\n",
       " {'e1': 7.611483468227667, 'e2': 8.594678664182906, 'e3': 6.909711320785385, 'e4': 7.332764336922126, 'e5': 6.645754859332704},\n",
       " {'e1': 4.838573462407079, 'e2': 6.756882569799477, 'e3': 7.8898863426028685, 'e4': 8.209629972772378, 'e5': 5.331436802695458},\n",
       " {'e1': 5.8095899740773715, 'e2': 5.784556974469084, 'e3': 6.598543059528858, 'e4': 5.9009045030282, 'e5': 7.737062581284636},\n",
       " {'e1': 5.55535293387622, 'e2': 6.485038903703297, 'e3': 7.315563976827435, 'e4': 6.1967261470681425, 'e5': 7.095545898284331},\n",
       " {'e1': 7.24926088363181, 'e2': 5.929675689133553, 'e3': 7.6548613785395885, 'e4': 8.119044098824919, 'e5': 5.602226687357381},\n",
       " {'e1': 4.741483578624337, 'e2': 8.171589255026891, 'e3': 7.4135072524997, 'e4': 6.523734115476456, 'e5': 6.9473339761185775},\n",
       " {'e1': 7.833415057529235, 'e2': 7.784504866202985, 'e3': 7.807116595393439, 'e4': 6.3978404729238285, 'e5': 6.875595983752877},\n",
       " {'e1': 6.893848252840994, 'e2': 6.865989151629988, 'e3': 8.398349632430339, 'e4': 7.372368152731753, 'e5': 7.0669603802761145},\n",
       " {'e1': 5.568819542305653, 'e2': 7.898136646004837, 'e3': 7.339569757361665, 'e4': 6.797646543485994, 'e5': 7.119777209031266},\n",
       " {'e1': 8.221191776113978, 'e2': 6.388787581370181, 'e3': 7.4656274450967315, 'e4': 7.110861956964948, 'e5': 6.478066187587284},\n",
       " {'e1': 5.613064849324855, 'e2': 10.111790207227711, 'e3': 7.594317754307646, 'e4': 5.957497469618946, 'e5': 5.7486659959750765},\n",
       " {'e1': 6.928963835346945, 'e2': 6.404144576065949, 'e3': 6.642753606105024, 'e4': 5.027396433798103, 'e5': 7.96065386271657},\n",
       " {'e1': 9.668935388091457, 'e2': 5.949694161653955, 'e3': 7.017812190062867, 'e4': 5.836798907936221, 'e5': 6.34691227077791},\n",
       " {'e1': 5.667979115936934, 'e2': 6.160331220101639, 'e3': 6.125844688229191, 'e4': 7.017090875344158, 'e5': 7.231298960532701},\n",
       " {'e1': 7.993042924593384, 'e2': 6.891483792990651, 'e3': 5.416628394070338, 'e4': 7.936429144563399, 'e5': 6.352730480086395},\n",
       " {'e1': 7.044333920581688, 'e2': 6.3855063062941975, 'e3': 5.784118452498604, 'e4': 8.84862063949142, 'e5': 5.861952896311664},\n",
       " {'e1': 3.517044252002154, 'e2': 7.353850692431293, 'e3': 5.274313334897479, 'e4': 6.247450828494722, 'e5': 6.343636878059799},\n",
       " {'e1': 6.9948745933544965, 'e2': 8.048291853266601, 'e3': 6.870742490406163, 'e4': 8.198202409145358, 'e5': 7.086762090335019},\n",
       " {'e1': 7.4172091824557125, 'e2': 5.578791711562414, 'e3': 8.303782165597264, 'e4': 7.3585164262100395, 'e5': 6.812129555539536},\n",
       " {'e1': 7.199320615635942, 'e2': 5.896696604335046, 'e3': 7.654362544919885, 'e4': 7.292436889575504, 'e5': 8.65642087551074},\n",
       " {'e1': 6.942261293847367, 'e2': 4.653828061185928, 'e3': 8.268733618813123, 'e4': 5.690532551232549, 'e5': 8.301673612050791},\n",
       " {'e1': 6.7587817575902065, 'e2': 7.47979015163982, 'e3': 7.69199758625756, 'e4': 7.536183544882901, 'e5': 5.701204327835078},\n",
       " {'e1': 4.660163841517828, 'e2': 7.762343777727077, 'e3': 8.896603550347926, 'e4': 7.93857955413053, 'e5': 9.196467267610892},\n",
       " {'e1': 6.7724965247885764, 'e2': 8.458936148252054, 'e3': 5.75265452098318, 'e4': 6.264834715688412, 'e5': 8.58276899080442},\n",
       " {'e1': 8.118541174543823, 'e2': 8.305228418686983, 'e3': 7.397272358374215, 'e4': 6.905613326142548, 'e5': 6.900155391589917},\n",
       " {'e1': 6.508310663680233, 'e2': 8.035070702150552, 'e3': 7.0791215113749, 'e4': 8.354292848711616, 'e5': 8.191584591258172},\n",
       " {'e1': 8.361235117558916, 'e2': 6.937792779465442, 'e3': 8.435671444734192, 'e4': 7.0322771573233664, 'e5': 6.898805025672712},\n",
       " {'e1': 5.311809878561332, 'e2': 7.66225338563431, 'e3': 5.313009157829663, 'e4': 5.595278680487872, 'e5': 5.6324546944853},\n",
       " {'e1': 7.4476390697795845, 'e2': 6.94263293064792, 'e3': 5.063376458150351, 'e4': 6.507696856737091, 'e5': 5.556133244169597},\n",
       " {'e1': 7.805361447053071, 'e2': 7.271549692092771, 'e3': 7.373034988106539, 'e4': 6.891337971306521, 'e5': 6.095035236539345},\n",
       " {'e1': 8.064454924740948, 'e2': 6.421925498962264, 'e3': 6.3217612875412525, 'e4': 5.590437242884054, 'e5': 8.884221911702632},\n",
       " {'e1': 6.699250728448597, 'e2': 7.114973318412279, 'e3': 7.8404901419735085, 'e4': 6.199063659782264, 'e5': 5.542081922419614},\n",
       " {'e1': 9.499371701208108, 'e2': 7.423691467874446, 'e3': 7.620446066279329, 'e4': 6.936131505837279, 'e5': 6.98813219754944},\n",
       " {'e1': 7.362497902229704, 'e2': 6.689226093963647, 'e3': 6.591425040104214, 'e4': 7.251772743408211, 'e5': 6.683856327695241},\n",
       " {'e1': 7.416598851818429, 'e2': 8.042582500515081, 'e3': 6.478144702991551, 'e4': 5.564866902471017, 'e5': 6.92558913334644},\n",
       " {'e1': 9.284895612559707, 'e2': 8.369326853557364, 'e3': 6.896452019064165, 'e4': 6.002319644232619, 'e5': 7.251790202558158},\n",
       " {'e1': 5.84989435834948, 'e2': 6.762631097723967, 'e3': 7.307262268853225, 'e4': 6.146998988708382, 'e5': 5.272768864552994},\n",
       " {'e1': 8.945185046005065, 'e2': 7.497955545925633, 'e3': 7.6684386431093765, 'e4': 5.23865850571734, 'e5': 8.64995380612526},\n",
       " {'e1': 5.956922600601598, 'e2': 4.343457830735662, 'e3': 7.216837365220769, 'e4': 6.563334108285913, 'e5': 6.524055719872922},\n",
       " {'e1': 8.87014074547351, 'e2': 6.454142732324316, 'e3': 7.228827029118418, 'e4': 7.899915987129175, 'e5': 7.63692729971808},\n",
       " {'e1': 7.201662244680009, 'e2': 8.070605060902542, 'e3': 6.665502971817256, 'e4': 7.044891754663909, 'e5': 6.341180824174695},\n",
       " {'e1': 7.1349571172894874, 'e2': 7.8516115259601555, 'e3': 9.155883121862793, 'e4': 6.276245030869923, 'e5': 8.379207443264974},\n",
       " {'e1': 7.688736366217196, 'e2': 6.033146216986027, 'e3': 6.835058700895292, 'e4': 7.7717275160007135, 'e5': 6.797004290574053},\n",
       " {'e1': 8.10590570047464, 'e2': 5.972292871460089, 'e3': 8.23574924571724, 'e4': 8.188884477179363, 'e5': 9.24831211323725},\n",
       " {'e1': 6.395844119425313, 'e2': 3.730417054561711, 'e3': 7.357171823672063, 'e4': 6.090114330688542, 'e5': 5.656307813847934},\n",
       " {'e1': 7.95054820630596, 'e2': 6.6683971640885655, 'e3': 7.983997355722475, 'e4': 6.2247653947879105, 'e5': 8.16246745868607},\n",
       " {'e1': 7.609050198639553, 'e2': 6.959082845232356, 'e3': 6.71090560597402, 'e4': 6.342947687113995, 'e5': 6.689580937444895},\n",
       " {'e1': 6.831936351654353, 'e2': 7.990934452798951, 'e3': 6.584381383430298, 'e4': 6.5833061263150485, 'e5': 6.678176809151184},\n",
       " {'e1': 6.4810319621453605, 'e2': 8.311100335862102, 'e3': 6.92455516257255, 'e4': 7.62187912836982, 'e5': 6.92708388015541},\n",
       " {'e1': 6.442239858690806, 'e2': 5.797025896760285, 'e3': 5.8996412984566176, 'e4': 5.335770891855465, 'e5': 8.325503178323821},\n",
       " {'e1': 6.38566919819488, 'e2': 8.237716366822813, 'e3': 7.26385662073995, 'e4': 7.173174739248463, 'e5': 4.535386849108812},\n",
       " {'e1': 6.587634471929483, 'e2': 7.423875320920341, 'e3': 6.368144807565797, 'e4': 7.733037082795683, 'e5': 7.168580468028834},\n",
       " {'e1': 8.89265552738285, 'e2': 6.974619351762734, 'e3': 7.240221634092163, 'e4': 6.426232274027623, 'e5': 5.618964470622836},\n",
       " {'e1': 8.576001742565635, 'e2': 7.526084103541431, 'e3': 7.133197030641994, 'e4': 6.736001095558218, 'e5': 8.583056204448123},\n",
       " {'e1': 6.895497795180207, 'e2': 6.859089507669304, 'e3': 8.474077005239526, 'e4': 8.030893437228519, 'e5': 6.179595777356105},\n",
       " {'e1': 7.788944544777585, 'e2': 6.368780381438207, 'e3': 7.307636469812412, 'e4': 6.539720846984253, 'e5': 8.54955987533841},\n",
       " {'e1': 8.662620455837772, 'e2': 6.989894788893567, 'e3': 7.679228980790062, 'e4': 5.174785115387581, 'e5': 6.139267412736714},\n",
       " {'e1': 7.580246052094199, 'e2': 6.224094044707964, 'e3': 7.2955544692911545, 'e4': 6.456821664210751, 'e5': 6.717255845712286},\n",
       " {'e1': 5.70534415365698, 'e2': 5.493510532733536, 'e3': 7.99001850558951, 'e4': 8.159031577196155, 'e5': 8.132661604345747},\n",
       " {'e1': 6.918316939222949, 'e2': 7.7381509554503705, 'e3': 6.53584190801314, 'e4': 8.635546837595502, 'e5': 7.542124281673125},\n",
       " {'e1': 8.112192059957222, 'e2': 6.295913959878161, 'e3': 7.9446478780200405, 'e4': 7.9059822106821125, 'e5': 5.0402118601618096},\n",
       " {'e1': 6.908218236937758, 'e2': 7.059509666012555, 'e3': 6.561415739577684, 'e4': 7.881095414369912, 'e5': 7.0508636009659424},\n",
       " {'e1': 7.1797793432773815, 'e2': 6.938388194173624, 'e3': 7.266170117247547, 'e4': 7.292297478348017, 'e5': 5.818233599629528},\n",
       " {'e1': 8.009093582869326, 'e2': 6.864150211023849, 'e3': 5.720577534369393, 'e4': 5.839428321354406, 'e5': 7.751207908342733},\n",
       " {'e1': 7.4307521597602015, 'e2': 7.104240479369458, 'e3': 9.735635901158112, 'e4': 6.979114865808569, 'e5': 9.25402526239243},\n",
       " {'e1': 6.2346058411336145, 'e2': 6.907344690283698, 'e3': 4.8508922169432624, 'e4': 7.048400210122356, 'e5': 6.643314534633064},\n",
       " {'e1': 7.061243655720563, 'e2': 5.410187455606715, 'e3': 7.340154001123856, 'e4': 6.716185468332713, 'e5': 7.398382102399774},\n",
       " {'e1': 6.771438973795519, 'e2': 8.208158052407615, 'e3': 6.767161865391408, 'e4': 6.301326003739501, 'e5': 5.327628505048226},\n",
       " {'e1': 6.308187775096481, 'e2': 7.6417032036477055, 'e3': 7.428745651680165, 'e4': 6.646233505074235, 'e5': 6.77865807069903},\n",
       " {'e1': 6.960179073471427, 'e2': 4.696451788875693, 'e3': 6.998869006915914, 'e4': 8.096560191184393, 'e5': 7.3239194591527905},\n",
       " {'e1': 6.091056516219325, 'e2': 6.703420326595325, 'e3': 7.392529248408244, 'e4': 5.740608934375041, 'e5': 6.474369380026404},\n",
       " {'e1': 8.583499942402147, 'e2': 7.255998924729768, 'e3': 6.494466973033416, 'e4': 5.265357514698399, 'e5': 7.373156327240564},\n",
       " {'e1': 8.69220677281214, 'e2': 5.006933144237222, 'e3': 8.572180753631654, 'e4': 6.6461224544578394, 'e5': 6.22220846276214},\n",
       " {'e1': 6.717012376822056, 'e2': 6.421732288849928, 'e3': 6.895350427494062, 'e4': 7.299602793612298, 'e5': 5.831770908227389},\n",
       " {'e1': 7.729188142262414, 'e2': 7.754697041510237, 'e3': 7.597365076353849, 'e4': 7.089375217940165, 'e5': 8.51281726535006},\n",
       " {'e1': 8.029203190598505, 'e2': 6.586202951818503, 'e3': 9.088939004218323, 'e4': 6.5982349660906205, 'e5': 6.681980148623305},\n",
       " {'e1': 6.261645220209349, 'e2': 6.91848328815002, 'e3': 6.173812295083908, 'e4': 8.557356143672973, 'e5': 6.586753508155995},\n",
       " {'e1': 8.11790065297807, 'e2': 7.3065476673337155, 'e3': 8.366489082082383, 'e4': 6.715965656961989, 'e5': 7.818052936336674},\n",
       " {'e1': 6.611563447163221, 'e2': 8.072667432369741, 'e3': 7.8432111115744645, 'e4': 5.116105007594471, 'e5': 6.5299599071102215},\n",
       " {'e1': 9.650627657094033, 'e2': 5.948822828028195, 'e3': 7.504753221697022, 'e4': 5.911791013077124, 'e5': 6.238044519198798},\n",
       " {'e1': 6.0701956217511714, 'e2': 5.859304422322898, 'e3': 7.967495174354729, 'e4': 7.879393999917546, 'e5': 7.616100470534091},\n",
       " {'e1': 5.432472683894618, 'e2': 7.997969823470268, 'e3': 7.558823515311862, 'e4': 7.23546582429015, 'e5': 8.44408949410343},\n",
       " {'e1': 8.380930374121128, 'e2': 5.577052567218146, 'e3': 6.9549910127958094, 'e4': 6.016890015388803, 'e5': 9.509744566219085},\n",
       " {'e1': 5.937426173537885, 'e2': 6.69487420941793, 'e3': 8.000079971411415, 'e4': 6.73321191585897, 'e5': 7.838649718132223},\n",
       " {'e1': 6.57122412543487, 'e2': 7.213049447225326, 'e3': 7.831223577922077, 'e4': 7.03150103581789, 'e5': 5.978387039270476},\n",
       " {'e1': 6.909559741431773, 'e2': 6.648519959691238, 'e3': 6.736664181748037, 'e4': 5.4656389749074155, 'e5': 7.155465332568569},\n",
       " {'e1': 5.010575541835686, 'e2': 8.785314037444767, 'e3': 6.717361910910973, 'e4': 5.895818124270123, 'e5': 7.586417686884338},\n",
       " {'e1': 7.1384176286506005, 'e2': 6.6921009068745, 'e3': 7.741837492935697, 'e4': 6.347713037437027, 'e5': 7.192453465851643},\n",
       " {'e1': 6.234523502257672, 'e2': 6.039031845474028, 'e3': 7.143472347607271, 'e4': 5.921270845320644, 'e5': 6.105197069839443},\n",
       " {'e1': 7.896696576021293, 'e2': 5.976615283672762, 'e3': 5.770913421626563, 'e4': 8.074149620897236, 'e5': 7.255589606293443},\n",
       " {'e1': 5.922087485107146, 'e2': 6.161579401911329, 'e3': 5.379729077329013, 'e4': 7.220951609374144, 'e5': 5.885459967870159},\n",
       " {'e1': 6.022343596704403, 'e2': 7.600192203542913, 'e3': 7.152159102934553, 'e4': 6.3657616168225815, 'e5': 4.93836203238906},\n",
       " {'e1': 7.223144268991062, 'e2': 5.497852589784109, 'e3': 6.145312529338527, 'e4': 8.032148039745566, 'e5': 5.963647876098035},\n",
       " {'e1': 7.100005153111931, 'e2': 5.979986532141352, 'e3': 6.774856789330483, 'e4': 5.995303196002877, 'e5': 4.927503834675227},\n",
       " {'e1': 6.884375317658483, 'e2': 6.439449232373807, 'e3': 9.374929860511546, 'e4': 7.590034370186688, 'e5': 8.032697037295653},\n",
       " {'e1': 5.434537488948487, 'e2': 8.228295864770903, 'e3': 7.167213161353842, 'e4': 5.810765011918822, 'e5': 7.417303665316339},\n",
       " {'e1': 7.211123042112683, 'e2': 8.178062767028555, 'e3': 5.541340280514752, 'e4': 8.23143043566315, 'e5': 7.68410183216612},\n",
       " {'e1': 5.617459181839093, 'e2': 6.792845429192845, 'e3': 7.749102424488576, 'e4': 8.981708421701454, 'e5': 4.162874074946255},\n",
       " {'e1': 7.927448651850435, 'e2': 6.908594065784883, 'e3': 7.732192118476968, 'e4': 6.276992191703791, 'e5': 6.773206949219342},\n",
       " {'e1': 6.343011070943098, 'e2': 7.872143784949526, 'e3': 6.38137471078856, 'e4': 7.617538283623448, 'e5': 5.224257233166083},\n",
       " {'e1': 7.124965125988411, 'e2': 6.428098976119798, 'e3': 5.68707015149963, 'e4': 6.164021073854416, 'e5': 7.864390263966239},\n",
       " {'e1': 6.0988554041196394, 'e2': 7.289332402994831, 'e3': 6.337708661668744, 'e4': 6.381811231013511, 'e5': 7.133801458540369},\n",
       " {'e1': 6.323330400155678, 'e2': 5.892513337228708, 'e3': 6.866753551954913, 'e4': 7.112222999038126, 'e5': 6.027210294223806},\n",
       " {'e1': 6.627971280612806, 'e2': 6.688198262875526, 'e3': 6.524934933194574, 'e4': 5.596103614246182, 'e5': 6.6983019445211704},\n",
       " {'e1': 6.767574423742317, 'e2': 6.60716637346935, 'e3': 8.419747437423748, 'e4': 7.148624670027499, 'e5': 4.784302056666695},\n",
       " {'e1': 7.66187958830704, 'e2': 5.977864971940184, 'e3': 5.597601601805401, 'e4': 5.536582660568666, 'e5': 7.1650027843813975},\n",
       " {'e1': 6.442293832084647, 'e2': 7.397917691857696, 'e3': 8.215256336964844, 'e4': 8.269225878303732, 'e5': 7.048535730640904},\n",
       " {'e1': 4.949798435711537, 'e2': 5.6731577627775565, 'e3': 7.722813601249568, 'e4': 7.973748101462221, 'e5': 7.547751740694753},\n",
       " {'e1': 5.534266140373927, 'e2': 5.261538815625391, 'e3': 6.714549776719953, 'e4': 6.1581982856736275, 'e5': 6.21959756214847},\n",
       " {'e1': 9.123697180329332, 'e2': 8.167526729879395, 'e3': 7.176558914732403, 'e4': 6.493626758348573, 'e5': 9.120282426755864},\n",
       " {'e1': 5.591015502753535, 'e2': 5.603187083645468, 'e3': 8.24745285581213, 'e4': 7.513614217308401, 'e5': 7.214734838175266},\n",
       " {'e1': 5.821993984004381, 'e2': 6.810734265871394, 'e3': 6.215129940380513, 'e4': 7.487059795973616, 'e5': 8.013601694803471},\n",
       " {'e1': 7.108286893293387, 'e2': 6.939628100765185, 'e3': 7.311753630942147, 'e4': 6.191132516751745, 'e5': 7.847087575349642},\n",
       " {'e1': 7.498890816566328, 'e2': 7.39460013848646, 'e3': 8.359598117788732, 'e4': 7.953725173905212, 'e5': 7.977033847845653},\n",
       " {'e1': 8.76912293717326, 'e2': 6.522582246224669, 'e3': 6.501706647602641, 'e4': 8.11578136073676, 'e5': 8.098937362069805},\n",
       " {'e1': 6.003821597256241, 'e2': 7.790575353222036, 'e3': 7.719933263453987, 'e4': 8.440134966024472, 'e5': 6.3092427969528275},\n",
       " {'e1': 7.148169873226842, 'e2': 8.990282330551196, 'e3': 6.232251389856646, 'e4': 7.6239774398026965, 'e5': 6.725226296513095},\n",
       " {'e1': 7.3090031502895005, 'e2': 7.844632611958457, 'e3': 7.142334618970947, 'e4': 7.253770857494272, 'e5': 6.042713345229382},\n",
       " {'e1': 5.4031272653622, 'e2': 7.1593208812242715, 'e3': 5.312434836200177, 'e4': 6.603841628067088, 'e5': 6.074092881827897},\n",
       " {'e1': 9.072435826699843, 'e2': 6.035402045546349, 'e3': 6.659859222381964, 'e4': 5.862864382602453, 'e5': 7.1530709331449165},\n",
       " {'e1': 7.7162136189306905, 'e2': 8.357674719377812, 'e3': 7.913334936347757, 'e4': 7.079885731824359, 'e5': 6.7762550204640934},\n",
       " {'e1': 7.634962582693758, 'e2': 5.444855172359421, 'e3': 6.549343308907699, 'e4': 7.275826103353365, 'e5': 5.966599856612768},\n",
       " {'e1': 5.78404885914234, 'e2': 8.351793578042276, 'e3': 7.294786981632996, 'e4': 6.254265411539542, 'e5': 5.739343084017038},\n",
       " {'e1': 7.19681771378456, 'e2': 6.372155460882677, 'e3': 8.210676542412328, 'e4': 6.085265736703265, 'e5': 5.788552443418737},\n",
       " {'e1': 9.739817943343619, 'e2': 7.914306702347731, 'e3': 7.988148306833295, 'e4': 8.48077152073948, 'e5': 6.311176207885309},\n",
       " {'e1': 7.364059242034029, 'e2': 6.744317566487253, 'e3': 8.209111383122174, 'e4': 6.8566398398077695, 'e5': 7.523029989201543},\n",
       " {'e1': 7.525221880627432, 'e2': 6.595914249139919, 'e3': 7.883059683201412, 'e4': 6.481401575826274, 'e5': 6.948553406914354},\n",
       " {'e1': 5.363666746000887, 'e2': 7.862461220809978, 'e3': 4.474273667328227, 'e4': 5.428815985926722, 'e5': 6.866761161056525},\n",
       " {'e1': 7.716877746774834, 'e2': 5.5045775871760805, 'e3': 7.830309834754158, 'e4': 6.974047764352099, 'e5': 7.089410853565084},\n",
       " {'e1': 5.081476560054078, 'e2': 7.692982164458326, 'e3': 7.452446592191073, 'e4': 5.841455954483128, 'e5': 6.476389266283184},\n",
       " {'e1': 6.420939110588787, 'e2': 5.896646572572595, 'e3': 7.068938311450325, 'e4': 7.039019528943365, 'e5': 7.30582701765895},\n",
       " {'e1': 7.003062350022385, 'e2': 8.133536131305643, 'e3': 7.184855355576239, 'e4': 6.92834992916863, 'e5': 6.721893536493791},\n",
       " {'e1': 9.073374533193466, 'e2': 6.734882927189879, 'e3': 6.8081989083489605, 'e4': 6.557860594599657, 'e5': 6.506215983693626},\n",
       " {'e1': 7.765959343561239, 'e2': 8.374849077982278, 'e3': 7.420610405747416, 'e4': 5.375011829015398, 'e5': 6.787349065924072},\n",
       " {'e1': 8.143344011519455, 'e2': 7.817107114598712, 'e3': 6.319847348178426, 'e4': 7.030898846082534, 'e5': 7.129532904248503},\n",
       " {'e1': 7.233689713081378, 'e2': 7.475386943485332, 'e3': 4.889879441832994, 'e4': 5.277530406740122, 'e5': 5.614269359672316},\n",
       " {'e1': 7.3693643926057595, 'e2': 7.154432743262949, 'e3': 6.043458578170435, 'e4': 6.887815960162575, 'e5': 8.263001245442668},\n",
       " {'e1': 5.940884949443255, 'e2': 7.152950864945026, 'e3': 8.264880878110608, 'e4': 7.127753846952411, 'e5': 8.213389434024363},\n",
       " {'e1': 6.982733880498962, 'e2': 5.65457098740281, 'e3': 6.811375768074373, 'e4': 8.927269369642447, 'e5': 5.644790648526318},\n",
       " {'e1': 6.155812567300854, 'e2': 6.634122323849434, 'e3': 9.095699745522946, 'e4': 5.1079335802409105, 'e5': 9.032808307343895},\n",
       " {'e1': 6.543301688801103, 'e2': 5.269297941862994, 'e3': 8.313316529987432, 'e4': 5.659682105201013, 'e5': 7.105413777674748},\n",
       " {'e1': 8.544069526546059, 'e2': 5.1129027160392715, 'e3': 6.224512198573349, 'e4': 4.845720072401219, 'e5': 5.744492807574686},\n",
       " {'e1': 6.1989788804204276, 'e2': 9.20344441328967, 'e3': 5.348584500779847, 'e4': 6.892958460673164, 'e5': 7.731529110936945},\n",
       " {'e1': 8.125127650270832, 'e2': 7.868935186255588, 'e3': 7.57985696140956, 'e4': 8.247007589126893, 'e5': 9.252465876948358},\n",
       " {'e1': 5.817822070424561, 'e2': 4.759992618296882, 'e3': 6.276758112907149, 'e4': 6.7441629860767955, 'e5': 7.2398327217409175},\n",
       " {'e1': 7.796028608694149, 'e2': 7.528878993969815, 'e3': 7.931844262376122, 'e4': 7.01704138840187, 'e5': 7.588710806177108},\n",
       " {'e1': 7.5537714800601865, 'e2': 6.7282793364024185, 'e3': 6.522527426416044, 'e4': 7.512640466230236, 'e5': 6.855869674194889},\n",
       " {'e1': 5.350213361974487, 'e2': 6.348356821806073, 'e3': 7.5733199344680315, 'e4': 8.04022065367676, 'e5': 5.506277455466624},\n",
       " {'e1': 7.427487922073694, 'e2': 6.8050486922263875, 'e3': 6.995070908708083, 'e4': 5.563049940613473, 'e5': 8.125570500215689},\n",
       " {'e1': 6.530430596401875, 'e2': 6.059195191230213, 'e3': 6.175185745729305, 'e4': 9.055601153699811, 'e5': 6.009401760502281},\n",
       " {'e1': 7.478792759774754, 'e2': 7.82780770680973, 'e3': 7.6993612041764745, 'e4': 5.657258522118319, 'e5': 5.7555797503432595},\n",
       " {'e1': 7.692167674535903, 'e2': 5.096219623388839, 'e3': 6.701683498826581, 'e4': 6.434046619237788, 'e5': 7.504865565649909},\n",
       " {'e1': 6.315882847975135, 'e2': 5.401495683615868, 'e3': 7.577576152425051, 'e4': 7.88382609274747, 'e5': 6.715385905761862},\n",
       " {'e1': 6.149012185484884, 'e2': 7.276804329606103, 'e3': 6.6345271580753575, 'e4': 7.000181539935297, 'e5': 7.3254396364346945},\n",
       " {'e1': 7.0546853138798875, 'e2': 7.527298335080508, 'e3': 7.062552358749938, 'e4': 8.380689955874075, 'e5': 7.908950371823773},\n",
       " {'e1': 5.357581751275757, 'e2': 6.814309407568856, 'e3': 6.319200049280033, 'e4': 7.317029035684987, 'e5': 5.191381158703725},\n",
       " {'e1': 6.48867217291282, 'e2': 9.014913404485078, 'e3': 7.3041988843556425, 'e4': 6.855367171834203, 'e5': 5.811392738353669},\n",
       " {'e1': 5.992421466784451, 'e2': 8.245865268286849, 'e3': 7.0948666864675145, 'e4': 8.442737801248427, 'e5': 7.048114901480025},\n",
       " {'e1': 5.197831692934178, 'e2': 8.472114102517528, 'e3': 7.815830834332927, 'e4': 6.712500722780466, 'e5': 7.283562664272438},\n",
       " {'e1': 8.469004297536335, 'e2': 8.407801390500534, 'e3': 8.159347480453132, 'e4': 6.768491771284453, 'e5': 5.523643978904814},\n",
       " {'e1': 5.240713452944461, 'e2': 7.166428072026734, 'e3': 6.326375846582839, 'e4': 5.885507659721967, 'e5': 7.102580457170919},\n",
       " {'e1': 8.88574488973947, 'e2': 8.13596817604373, 'e3': 7.269161887701179, 'e4': 7.56822140256522, 'e5': 6.545062893007842},\n",
       " {'e1': 5.7690831510783465, 'e2': 7.050037435081896, 'e3': 5.496618763852427, 'e4': 5.9550130706891755, 'e5': 7.338986060163059},\n",
       " {'e1': 6.4836277201839225, 'e2': 6.482771812534145, 'e3': 8.12706386275389, 'e4': 7.104700750751206, 'e5': 8.308108291360657},\n",
       " {'e1': 6.184578483597395, 'e2': 7.149167691635069, 'e3': 5.978137202353826, 'e4': 7.110089536376547, 'e5': 7.073530379523344},\n",
       " {'e1': 8.119429508547451, 'e2': 8.21838378509975, 'e3': 5.845205754386449, 'e4': 7.58761425180971, 'e5': 6.563895383176814},\n",
       " {'e1': 6.455831605471174, 'e2': 6.59484369960736, 'e3': 4.333050706366993, 'e4': 8.606704661702341, 'e5': 8.095858564041245},\n",
       " {'e1': 8.012887995467036, 'e2': 8.060881741508581, 'e3': 6.139587492419934, 'e4': 8.06347073085082, 'e5': 8.971249226290304},\n",
       " {'e1': 7.23322044842134, 'e2': 4.772881272400605, 'e3': 6.160367595339349, 'e4': 8.594760838201045, 'e5': 6.736810551371259},\n",
       " {'e1': 7.46918408020535, 'e2': 6.473016645257404, 'e3': 7.929913925118854, 'e4': 7.320371196129119, 'e5': 6.648989847912044},\n",
       " {'e1': 10.086396316829461, 'e2': 8.080109906724157, 'e3': 10.129357716845146, 'e4': 9.014826084446579, 'e5': 7.898640929456673},\n",
       " {'e1': 8.070311404015087, 'e2': 5.462104117897869, 'e3': 9.535210539013967, 'e4': 4.764355194751513, 'e5': 7.223569326763465},\n",
       " {'e1': 6.091084934962093, 'e2': 7.449485567943193, 'e3': 7.093238925587083, 'e4': 7.717833422726308, 'e5': 7.2186503321401085},\n",
       " {'e1': 7.79937886855212, 'e2': 8.676488775945854, 'e3': 5.704902111171329, 'e4': 7.312372285531156, 'e5': 8.394050709373513},\n",
       " {'e1': 5.844382270026089, 'e2': 7.652148778767454, 'e3': 6.065411288070752, 'e4': 6.686057138829607, 'e5': 8.199927706658903},\n",
       " {'e1': 5.83493685341449, 'e2': 6.062150053469023, 'e3': 5.979122533997067, 'e4': 4.953643745512971, 'e5': 7.423670572187238},\n",
       " {'e1': 6.3319752041379935, 'e2': 5.263143043779923, 'e3': 7.206459209376881, 'e4': 8.795461735703999, 'e5': 7.553837473168816},\n",
       " {'e1': 5.704357015155097, 'e2': 7.3667802470732955, 'e3': 6.34378304875545, 'e4': 6.9489235111282674, 'e5': 4.303993076295842},\n",
       " {'e1': 8.129473746498194, 'e2': 8.82661015356273, 'e3': 7.5217884808027105, 'e4': 3.7766170781337176, 'e5': 6.7834146436138925},\n",
       " {'e1': 6.768401957544229, 'e2': 8.045665752991319, 'e3': 6.878680449559287, 'e4': 5.611742635961381, 'e5': 9.350922841384065},\n",
       " {'e1': 7.37021516940831, 'e2': 5.9566130938060375, 'e3': 6.6812212761005645, 'e4': 4.841996958904698, 'e5': 6.467072734016306},\n",
       " {'e1': 7.559623854253897, 'e2': 7.006924925358919, 'e3': 6.331069851345102, 'e4': 7.659367042043336, 'e5': 7.281737983434947},\n",
       " {'e1': 5.106659709983805, 'e2': 6.4389492377447475, 'e3': 7.706823175335995, 'e4': 7.016603933178136, 'e5': 8.583269471982966},\n",
       " {'e1': 7.425065250706817, 'e2': 5.578838272967827, 'e3': 5.774694858581914, 'e4': 5.521173239622929, 'e5': 4.559813648857725},\n",
       " {'e1': 6.657068060439693, 'e2': 7.390792047691067, 'e3': 5.145794747626105, 'e4': 5.741683916878424, 'e5': 7.057903140851814},\n",
       " {'e1': 6.961535308420492, 'e2': 6.997727879531151, 'e3': 7.172557588621892, 'e4': 8.604483442118795, 'e5': 7.132252673876059},\n",
       " {'e1': 6.706678772920872, 'e2': 6.819870851321518, 'e3': 7.392493197393218, 'e4': 8.29522229806478, 'e5': 4.5672761989588295},\n",
       " {'e1': 7.0828151094443665, 'e2': 6.749919942444835, 'e3': 6.312025517709273, 'e4': 6.129845541073517, 'e5': 8.18095850707761},\n",
       " {'e1': 7.323862104979083, 'e2': 4.79944705497604, 'e3': 7.696448219828744, 'e4': 7.150747696443962, 'e5': 6.557133985641951},\n",
       " {'e1': 7.261456744479353, 'e2': 7.978545839349339, 'e3': 7.025618080503584, 'e4': 7.060809071137136, 'e5': 5.901289893238592},\n",
       " {'e1': 6.82742936088219, 'e2': 5.567798999446305, 'e3': 7.679309387978236, 'e4': 7.665977983830373, 'e5': 6.828620820334672},\n",
       " {'e1': 7.392714456880087, 'e2': 6.384488120887443, 'e3': 6.227428328631965, 'e4': 8.246543846952253, 'e5': 7.167387237072424},\n",
       " {'e1': 6.251064326984328, 'e2': 7.264098460627972, 'e3': 6.196891067905165, 'e4': 5.138446551327136, 'e5': 3.6546546264519555},\n",
       " {'e1': 6.410409788520114, 'e2': 7.215585845842538, 'e3': 7.320980173798375, 'e4': 8.341932666101922, 'e5': 8.104457836651994},\n",
       " {'e1': 8.21275921582923, 'e2': 6.798282793956936, 'e3': 7.04804086929332, 'e4': 6.53522479392878, 'e5': 5.4440364123902425},\n",
       " {'e1': 6.836658014963154, 'e2': 6.384438547173621, 'e3': 7.215903706688128, 'e4': 6.851430190587642, 'e5': 5.097057314717177},\n",
       " {'e1': 6.871805078171433, 'e2': 7.682133005068634, 'e3': 6.042024217896605, 'e4': 7.929035431720211, 'e5': 5.7324883960682245},\n",
       " {'e1': 8.893199416884398, 'e2': 7.467068097133146, 'e3': 7.30437669269731, 'e4': 8.044550022213953, 'e5': 6.899652686571893},\n",
       " {'e1': 3.8260606507187394, 'e2': 4.22241821593853, 'e3': 7.052531298721303, 'e4': 8.663276084964087, 'e5': 6.23739238513012},\n",
       " {'e1': 7.342612056947607, 'e2': 6.850334163209992, 'e3': 7.946248425766107, 'e4': 7.05161454030476, 'e5': 7.942655568331254},\n",
       " {'e1': 6.500476423676899, 'e2': 8.847439168634327, 'e3': 6.393565372417095, 'e4': 9.039121958298002, 'e5': 6.1215744064425825},\n",
       " {'e1': 8.033037963084094, 'e2': 7.6075836505769585, 'e3': 6.6774018709746485, 'e4': 7.288960058336185, 'e5': 6.812696243919923},\n",
       " {'e1': 6.264046767031635, 'e2': 5.582472862051531, 'e3': 6.938103372965495, 'e4': 6.073051132909731, 'e5': 7.163651767221957},\n",
       " {'e1': 6.835099413615222, 'e2': 8.838096896776731, 'e3': 7.257765858636375, 'e4': 8.293439903836743, 'e5': 5.457600595084453},\n",
       " {'e1': 7.21663077607133, 'e2': 6.050256607059439, 'e3': 7.264687086782962, 'e4': 8.022939066575397, 'e5': 7.666121979797061},\n",
       " {'e1': 8.633071240711258, 'e2': 7.0180017173396525, 'e3': 7.396765510419352, 'e4': 8.104258144265465, 'e5': 7.683628502445015},\n",
       " {'e1': 6.743828317463747, 'e2': 7.9890611237169695, 'e3': 7.773905914682227, 'e4': 7.622495009682112, 'e5': 6.805239005707652},\n",
       " {'e1': 6.579794375709893, 'e2': 6.80182437351292, 'e3': 7.8221180468858265, 'e4': 7.0685561111987125, 'e5': 5.667863692204846},\n",
       " {'e1': 6.244510317399991, 'e2': 8.02042599341661, 'e3': 7.611141419864298, 'e4': 5.925064629456691, 'e5': 6.750939983671378},\n",
       " {'e1': 7.066781186704364, 'e2': 8.93338013174728, 'e3': 9.515750776808028, 'e4': 6.320990889457583, 'e5': 6.86388417279941},\n",
       " {'e1': 7.017725527197781, 'e2': 4.355936751882571, 'e3': 6.859395182588666, 'e4': 5.292922875513133, 'e5': 5.673193926063081},\n",
       " {'e1': 7.60319505214913, 'e2': 7.232328622574403, 'e3': 6.805518390392326, 'e4': 5.687183559028061, 'e5': 6.154979161432838},\n",
       " {'e1': 8.06393166338146, 'e2': 8.891791876203195, 'e3': 6.461920783988634, 'e4': 7.61936956506627, 'e5': 7.653505736040806},\n",
       " {'e1': 5.214828064496035, 'e2': 6.554562631672452, 'e3': 6.508263890057354, 'e4': 4.394490123610687, 'e5': 9.286515970174966},\n",
       " {'e1': 7.536362497927177, 'e2': 6.250855140102004, 'e3': 6.553690690259911, 'e4': 8.796556587964329, 'e5': 9.280208822455563},\n",
       " {'e1': 7.232204582782909, 'e2': 6.456551805666079, 'e3': 7.985012676587346, 'e4': 6.333373387931029, 'e5': 7.312859083658336},\n",
       " {'e1': 6.313027404037053, 'e2': 6.019755441972894, 'e3': 7.067902353040702, 'e4': 6.977027340821548, 'e5': 6.002338549036575},\n",
       " {'e1': 6.267481844354295, 'e2': 7.310734799614188, 'e3': 7.454420292487646, 'e4': 6.220440427288772, 'e5': 5.13038966379583},\n",
       " {'e1': 8.272420717494152, 'e2': 7.65117474664481, 'e3': 6.170923433706024, 'e4': 7.488130008766154, 'e5': 7.610211705057571},\n",
       " {'e1': 6.0398689158628915, 'e2': 7.713922220263293, 'e3': 6.359547185508731, 'e4': 5.6226860810592045, 'e5': 8.573734013411434},\n",
       " {'e1': 7.733579786495399, 'e2': 7.90221269731499, 'e3': 4.756410501870267, 'e4': 6.762700069130376, 'e5': 7.540468133841733},\n",
       " {'e1': 7.749728178342361, 'e2': 7.912992359013153, 'e3': 7.7396107600006, 'e4': 6.650897457996225, 'e5': 7.470457611493179},\n",
       " {'e1': 6.99293201515973, 'e2': 6.160318305560997, 'e3': 6.506229509125744, 'e4': 6.453360718080706, 'e5': 8.563825507805221},\n",
       " {'e1': 7.908644423492783, 'e2': 5.699181845520219, 'e3': 7.033851958799019, 'e4': 7.885406999948507, 'e5': 6.941058682954196},\n",
       " {'e1': 7.664906086339528, 'e2': 8.494858923899786, 'e3': 8.064992250483629, 'e4': 7.372957935289741, 'e5': 6.797768790030865},\n",
       " {'e1': 6.773739957492765, 'e2': 5.497306229262441, 'e3': 7.50092898439021, 'e4': 5.476461035145667, 'e5': 5.428581437271996},\n",
       " {'e1': 7.20366303828759, 'e2': 9.459710671166418, 'e3': 8.010553607661874, 'e4': 7.700668795169662, 'e5': 6.084552240423747},\n",
       " {'e1': 8.779178827980468, 'e2': 7.71362561880967, 'e3': 6.677154606887427, 'e4': 9.101896404239339, 'e5': 6.21020499688021},\n",
       " {'e1': 9.47912636965724, 'e2': 6.704887054997349, 'e3': 7.983281923487635, 'e4': 5.252725705289404, 'e5': 6.836089177312611},\n",
       " {'e1': 9.15408538847636, 'e2': 7.639117031531108, 'e3': 6.8200318989164375, 'e4': 6.3910792166383965, 'e5': 7.491995054064271},\n",
       " {'e1': 8.275128772430481, 'e2': 5.888828685350942, 'e3': 7.624007693661819, 'e4': 7.438906921962746, 'e5': 6.839441570834646},\n",
       " {'e1': 6.716096915397117, 'e2': 6.928312039264467, 'e3': 6.202824104511995, 'e4': 6.046920823111535, 'e5': 6.29360824602612},\n",
       " {'e1': 6.793672802147075, 'e2': 5.972347584138941, 'e3': 7.347052732492249, 'e4': 5.628788166634942, 'e5': 7.425439368428116},\n",
       " {'e1': 7.333272579085585, 'e2': 7.543601432710269, 'e3': 7.13387848284691, 'e4': 8.69978243997707, 'e5': 7.283540085621386},\n",
       " {'e1': 6.926708714760917, 'e2': 5.93021176309191, 'e3': 6.807862660174064, 'e4': 8.175646597315168, 'e5': 6.717408131607322},\n",
       " {'e1': 6.126300087721711, 'e2': 6.324236206922123, 'e3': 7.190696725740453, 'e4': 7.174544558804273, 'e5': 8.109753521730346},\n",
       " {'e1': 5.696492366462289, 'e2': 6.406260692048263, 'e3': 8.063398126788755, 'e4': 7.853390153128353, 'e5': 6.3104424950013325},\n",
       " {'e1': 6.1175301919480995, 'e2': 8.061058909624112, 'e3': 9.718207808769721, 'e4': 8.998427122085182, 'e5': 7.721224812620768},\n",
       " {'e1': 6.831868705516343, 'e2': 7.614960853088382, 'e3': 7.17309168981351, 'e4': 7.889667926312135, 'e5': 6.9225306729969},\n",
       " {'e1': 6.041624979291275, 'e2': 7.611764905214235, 'e3': 6.6341512863803835, 'e4': 7.83472342702658, 'e5': 7.305332310752576},\n",
       " {'e1': 6.5690787396388455, 'e2': 7.931420875365252, 'e3': 7.6939404936406355, 'e4': 5.3434285644922355, 'e5': 6.491697546981617},\n",
       " {'e1': 7.7745047345918, 'e2': 4.967589474782795, 'e3': 5.907552842722143, 'e4': 5.494669196267116, 'e5': 6.551737114037936},\n",
       " {'e1': 8.161803165419013, 'e2': 7.73554417397412, 'e3': 5.325719503951703, 'e4': 6.269025117441837, 'e5': 6.584919691235157},\n",
       " {'e1': 6.737472932925141, 'e2': 7.51938292561421, 'e3': 7.478475546856415, 'e4': 8.154247109935561, 'e5': 8.107132722486465},\n",
       " {'e1': 4.815595200077699, 'e2': 6.7990048063924595, 'e3': 7.133213425105524, 'e4': 7.935711777179342, 'e5': 4.840129150646152},\n",
       " {'e1': 6.578408608160688, 'e2': 7.8745536977018755, 'e3': 8.758533623348189, 'e4': 7.153161655518466, 'e5': 8.805712721841333},\n",
       " {'e1': 7.648688986477508, 'e2': 7.38097512675721, 'e3': 7.485661642911996, 'e4': 4.85630548462272, 'e5': 7.474046974339189},\n",
       " {'e1': 5.353737107213499, 'e2': 6.347036553460662, 'e3': 6.845498864920926, 'e4': 8.506027820461595, 'e5': 7.461680783448299},\n",
       " {'e1': 5.2309945219566485, 'e2': 8.224501301934108, 'e3': 7.887603686047486, 'e4': 5.999389411158986, 'e5': 7.5737724597085965},\n",
       " {'e1': 7.739708255204484, 'e2': 8.059181348331695, 'e3': 7.815323047146563, 'e4': 5.689319394896197, 'e5': 7.215934222063516},\n",
       " {'e1': 7.73375481243311, 'e2': 6.059215515973432, 'e3': 7.571645200183465, 'e4': 7.402809826779501, 'e5': 6.824551820619162},\n",
       " {'e1': 6.169595323996564, 'e2': 8.82882773113621, 'e3': 6.908441276047926, 'e4': 6.42572449439564, 'e5': 7.248815327421705},\n",
       " {'e1': 7.626394165842216, 'e2': 4.889589869695218, 'e3': 7.175679252700853, 'e4': 7.701455181095806, 'e5': 7.492334943005994},\n",
       " {'e1': 6.9716732247403765, 'e2': 6.815775686198093, 'e3': 7.935239618899866, 'e4': 8.39209192797584, 'e5': 8.503355625822447},\n",
       " {'e1': 8.00371661640478, 'e2': 5.339828320530416, 'e3': 7.331689347404946, 'e4': 5.720205460683096, 'e5': 5.836433174411402},\n",
       " {'e1': 6.58682794141388, 'e2': 6.639107450482274, 'e3': 6.338887880359719, 'e4': 9.711628087616607, 'e5': 7.617695513839846},\n",
       " {'e1': 6.049686511300458, 'e2': 3.0885696557186675, 'e3': 7.427935639652701, 'e4': 5.8474954769454905, 'e5': 6.963558555263764},\n",
       " {'e1': 8.26521438094753, 'e2': 6.959928148980809, 'e3': 5.8466459559955695, 'e4': 6.02577186491418, 'e5': 5.885072550224601},\n",
       " {'e1': 6.621710284294748, 'e2': 4.375609029451586, 'e3': 9.579642004505262, 'e4': 6.913446937435613, 'e5': 7.306459281230294},\n",
       " {'e1': 5.404891075331972, 'e2': 5.909005372225824, 'e3': 7.138933211263077, 'e4': 7.19930471590241, 'e5': 5.680513232608021},\n",
       " {'e1': 5.090457715062607, 'e2': 6.279464276997633, 'e3': 7.969370346385402, 'e4': 7.738572239702756, 'e5': 7.524543181336783},\n",
       " {'e1': 7.577258900228938, 'e2': 6.397945309285653, 'e3': 6.729287337344822, 'e4': 7.179453328038835, 'e5': 8.83581820062003},\n",
       " {'e1': 6.92259207770236, 'e2': 6.880601794637815, 'e3': 8.467918906468869, 'e4': 7.9874495100452565, 'e5': 8.361372652929099},\n",
       " {'e1': 6.062903030002259, 'e2': 6.956539574768721, 'e3': 7.6024042972385075, 'e4': 5.867941704773205, 'e5': 6.572163464181711},\n",
       " {'e1': 7.24776179497321, 'e2': 7.97900996129819, 'e3': 5.858011244371542, 'e4': 8.230533026961579, 'e5': 8.293572183415357},\n",
       " {'e1': 7.938051935472583, 'e2': 5.304232239924906, 'e3': 6.451749250169184, 'e4': 7.09485105740057, 'e5': 6.7456854024376876},\n",
       " {'e1': 9.11409455931817, 'e2': 4.274962882376171, 'e3': 7.022257856252505, 'e4': 9.988350799532334, 'e5': 8.437925925105478},\n",
       " {'e1': 7.5211635404868815, 'e2': 5.386134357774263, 'e3': 6.219995153192191, 'e4': 6.635194927762112, 'e5': 5.301117640654901},\n",
       " {'e1': 6.510675937935261, 'e2': 6.756344475312777, 'e3': 5.682718809146698, 'e4': 6.565736170339286, 'e5': 8.438176307928062},\n",
       " {'e1': 7.573278145465566, 'e2': 6.809754986598357, 'e3': 5.7684157184557225, 'e4': 6.565874452025013, 'e5': 6.444866778332691},\n",
       " {'e1': 8.67904782024425, 'e2': 9.274948670107388, 'e3': 5.932675183708253, 'e4': 8.030507306064084, 'e5': 8.697521872453413},\n",
       " {'e1': 8.019572045372023, 'e2': 6.728359177774523, 'e3': 7.717576395917445, 'e4': 5.34960700712395, 'e5': 7.306825296953982},\n",
       " {'e1': 9.434309258494991, 'e2': 6.650927129350547, 'e3': 6.760024852595439, 'e4': 6.013690580529158, 'e5': 7.099853914507766},\n",
       " {'e1': 7.766000386430769, 'e2': 9.209024450706266, 'e3': 6.976329012337121, 'e4': 7.716135115187256, 'e5': 7.445455479635719},\n",
       " {'e1': 8.265296860400491, 'e2': 8.278461169537383, 'e3': 8.644983668168528, 'e4': 6.428095413984635, 'e5': 8.103737351231233},\n",
       " {'e1': 6.4385140162082175, 'e2': 7.260803597835828, 'e3': 6.020770670680595, 'e4': 8.286835786153375, 'e5': 6.689141499025164},\n",
       " {'e1': 6.718544918517927, 'e2': 6.744064715132942, 'e3': 7.091778901959044, 'e4': 7.6786358668730745, 'e5': 7.046504664692697},\n",
       " {'e1': 7.414222585823054, 'e2': 7.3038860355215744, 'e3': 6.4490151402782985, 'e4': 8.154546036570189, 'e5': 7.2727688067028335},\n",
       " {'e1': 6.232199848650225, 'e2': 7.783013020013901, 'e3': 5.65766667381473, 'e4': 6.021471298072238, 'e5': 7.250774447070823},\n",
       " {'e1': 7.3245686219607045, 'e2': 5.483790945875277, 'e3': 6.6201213379004304, 'e4': 7.894274601112958, 'e5': 7.662145810779454},\n",
       " {'e1': 7.339171763078459, 'e2': 6.490892871681538, 'e3': 6.370653041867748, 'e4': 8.223144804079002, 'e5': 6.141882060367963},\n",
       " {'e1': 6.792840914035223, 'e2': 7.698217201199532, 'e3': 8.616282645560814, 'e4': 7.531726542397821, 'e5': 7.043987318499748},\n",
       " {'e1': 5.832859129212267, 'e2': 7.043303966616906, 'e3': 5.608950822175677, 'e4': 7.156292084811201, 'e5': 6.133127482211255},\n",
       " {'e1': 6.855520431825778, 'e2': 6.825164824380158, 'e3': 6.742059090235363, 'e4': 7.00418265165553, 'e5': 7.854079282116315},\n",
       " {'e1': 6.127425675698345, 'e2': 7.863288052670644, 'e3': 8.359486611690304, 'e4': 7.23412169717819, 'e5': 8.518927971835563},\n",
       " {'e1': 8.182024142079179, 'e2': 6.407347806469689, 'e3': 7.096243379085277, 'e4': 8.949919780457753, 'e5': 6.843426581471681},\n",
       " {'e1': 7.229249205152848, 'e2': 6.204732906069265, 'e3': 7.388716797110525, 'e4': 6.755881336883043, 'e5': 6.782341660176509},\n",
       " {'e1': 5.601451502464106, 'e2': 6.066012592854403, 'e3': 6.818117251003967, 'e4': 8.955125781536786, 'e5': 7.389272150937222},\n",
       " {'e1': 7.068066499311319, 'e2': 5.434710084668142, 'e3': 6.368038102175636, 'e4': 7.288133080434027, 'e5': 6.926637185432971},\n",
       " {'e1': 6.289280451343844, 'e2': 5.75527347972311, 'e3': 6.173098284119416, 'e4': 8.795142905927019, 'e5': 5.2037423150481645},\n",
       " {'e1': 6.141171401653475, 'e2': 5.630375364013977, 'e3': 5.976212186414503, 'e4': 8.614606496180087, 'e5': 6.495463784666536},\n",
       " {'e1': 8.302841830819226, 'e2': 8.044479443550685, 'e3': 5.829205819539154, 'e4': 6.474234708446367, 'e5': 4.611500196153892},\n",
       " {'e1': 7.551572109131704, 'e2': 6.932192980073054, 'e3': 6.644198832107735, 'e4': 6.716172161148471, 'e5': 7.973222655972112},\n",
       " {'e1': 6.138886397698486, 'e2': 6.504799838882634, 'e3': 7.680230606976916, 'e4': 7.552227542906094, 'e5': 8.589697002777633},\n",
       " {'e1': 8.306507024368784, 'e2': 5.824633269691369, 'e3': 6.695467543704126, 'e4': 9.002903703207899, 'e5': 6.753602339570529},\n",
       " {'e1': 6.4667561685602255, 'e2': 8.14625245211555, 'e3': 6.817493133337251, 'e4': 7.649050745313792, 'e5': 6.921634846590617},\n",
       " {'e1': 4.995420072247967, 'e2': 8.614391399825926, 'e3': 7.706864739262429, 'e4': 9.305119279814283, 'e5': 6.95183248509804},\n",
       " {'e1': 8.07417917310898, 'e2': 6.3960189248746335, 'e3': 6.387008870390279, 'e4': 8.090930029194528, 'e5': 5.962362068979339},\n",
       " {'e1': 4.046716564531999, 'e2': 6.231549295015764, 'e3': 7.869685196147032, 'e4': 6.918506225341789, 'e5': 7.312285548816694},\n",
       " {'e1': 7.292072414277888, 'e2': 5.371575192046348, 'e3': 8.522405311986123, 'e4': 6.767709190764702, 'e5': 7.735757369259086},\n",
       " {'e1': 6.856894964288423, 'e2': 6.761325830835852, 'e3': 6.484898055736028, 'e4': 7.716621122599346, 'e5': 8.93855516520824},\n",
       " {'e1': 7.82811417845403, 'e2': 7.281855018518714, 'e3': 6.408459422125895, 'e4': 7.597329502435261, 'e5': 8.074496794486496},\n",
       " {'e1': 5.3782974659405305, 'e2': 9.603087238232948, 'e3': 6.813786382144041, 'e4': 6.701140995785034, 'e5': 7.979312128724944},\n",
       " {'e1': 8.528961746415312, 'e2': 6.834048447801036, 'e3': 8.163091732316913, 'e4': 7.29893266392719, 'e5': 5.798487800428117},\n",
       " {'e1': 5.380297461300638, 'e2': 7.988107656295285, 'e3': 7.81769674027363, 'e4': 8.013331427762045, 'e5': 8.506698889646325},\n",
       " {'e1': 7.953046141468673, 'e2': 5.4779217014013195, 'e3': 7.678941887407067, 'e4': 7.776615320944452, 'e5': 7.405453707527384},\n",
       " {'e1': 8.545942316074969, 'e2': 5.013535222708301, 'e3': 8.274118045699968, 'e4': 4.253464143945275, 'e5': 7.091481653449378},\n",
       " {'e1': 7.8165557000333425, 'e2': 7.289991022837009, 'e3': 6.4980977574500605, 'e4': 5.509551236479563, 'e5': 7.948343512690903},\n",
       " {'e1': 8.72636991787988, 'e2': 8.403210780441192, 'e3': 9.022864986277545, 'e4': 6.118243936578884, 'e5': 8.418908656468146},\n",
       " {'e1': 5.9390690221431885, 'e2': 6.54240996704871, 'e3': 6.996027470471539, 'e4': 6.52003319200179, 'e5': 6.475352869894672},\n",
       " {'e1': 7.757420121411574, 'e2': 7.637855218821064, 'e3': 7.74270784042366, 'e4': 5.4167724895532015, 'e5': 5.801525529045821},\n",
       " {'e1': 8.706664337542403, 'e2': 6.437211838883329, 'e3': 6.748287620814213, 'e4': 6.148970179786347, 'e5': 7.684518829934112},\n",
       " {'e1': 6.898275911852462, 'e2': 6.435308807330214, 'e3': 6.977073809073739, 'e4': 5.739851391257458, 'e5': 5.452860585423311},\n",
       " {'e1': 5.712996959509851, 'e2': 7.643885734930494, 'e3': 6.917196242145146, 'e4': 6.420203296145534, 'e5': 6.828902093599787},\n",
       " {'e1': 6.702091828367372, 'e2': 7.628493777901943, 'e3': 6.659114608877565, 'e4': 7.205519428549875, 'e5': 6.262878530614792},\n",
       " {'e1': 9.137662864983698, 'e2': 6.432470201469954, 'e3': 7.437369453759792, 'e4': 6.2322723662816095, 'e5': 7.366104462668154},\n",
       " {'e1': 6.918709741375816, 'e2': 7.3446483798015185, 'e3': 6.238240396587162, 'e4': 6.290170212199472, 'e5': 7.985252545970252},\n",
       " {'e1': 7.591388386966782, 'e2': 5.11598080748149, 'e3': 4.490646726842891, 'e4': 5.902481640362643, 'e5': 6.638510371936969},\n",
       " {'e1': 8.219645852150053, 'e2': 7.96365498978675, 'e3': 5.3436999325385, 'e4': 6.5608797008452155, 'e5': 8.479566784152125},\n",
       " {'e1': 5.779687163193515, 'e2': 8.555619524933674, 'e3': 6.414997166345887, 'e4': 9.931518084820008, 'e5': 6.141373455195029},\n",
       " {'e1': 7.745487024415531, 'e2': 6.569119404882128, 'e3': 6.463556536614338, 'e4': 7.613702089616564, 'e5': 5.427164399381279},\n",
       " {'e1': 7.54854361431523, 'e2': 8.308784381872425, 'e3': 7.843740987161284, 'e4': 6.8061030592842435, 'e5': 7.177229541601562},\n",
       " {'e1': 8.141330107864643, 'e2': 8.863342729991905, 'e3': 7.660728598265683, 'e4': 6.277259941879913, 'e5': 7.289890509638712},\n",
       " {'e1': 7.784812923858695, 'e2': 7.902241169800719, 'e3': 7.427506264444018, 'e4': 4.935657229782061, 'e5': 8.457148727040092},\n",
       " {'e1': 5.758641145028919, 'e2': 7.92525029716047, 'e3': 7.9016626501514775, 'e4': 7.6670290391306, 'e5': 5.176573821919258},\n",
       " {'e1': 7.433323852565363, 'e2': 7.327726965215309, 'e3': 6.795899775421605, 'e4': 7.564145433657955, 'e5': 8.694743525275863},\n",
       " {'e1': 5.694807741443168, 'e2': 8.042003444678143, 'e3': 5.574820951424977, 'e4': 6.243770145527648, 'e5': 6.120229423942622},\n",
       " {'e1': 5.472362542499052, 'e2': 4.275702177498283, 'e3': 8.910588948992404, 'e4': 8.0449260325359, 'e5': 6.704179813463525},\n",
       " {'e1': 9.814359942730198, 'e2': 6.146721942293073, 'e3': 6.391449529118589, 'e4': 6.4057964341712825, 'e5': 8.015335613953791},\n",
       " {'e1': 5.472211000937429, 'e2': 6.593340692444991, 'e3': 6.954767768062118, 'e4': 7.663805813100704, 'e5': 7.533694506165826},\n",
       " {'e1': 5.928163455261846, 'e2': 7.246758712086948, 'e3': 7.906348569288455, 'e4': 6.523250983777998, 'e5': 5.574107216311013},\n",
       " {'e1': 8.616327478286344, 'e2': 7.791634325463697, 'e3': 7.783270240924658, 'e4': 5.5540319077211135, 'e5': 6.898735244618374},\n",
       " {'e1': 7.7200933544958295, 'e2': 6.968129376078805, 'e3': 9.00208746278386, 'e4': 7.172714432958346, 'e5': 7.102111227958933},\n",
       " {'e1': 8.396650034764708, 'e2': 6.610476730633915, 'e3': 5.631675495926739, 'e4': 8.170232848280227, 'e5': 5.669011206316407},\n",
       " {'e1': 7.457187979517942, 'e2': 7.599676124418764, 'e3': 5.185059541960691, 'e4': 6.479765082120894, 'e5': 5.187549301996363},\n",
       " {'e1': 6.330261345378597, 'e2': 5.897701928450971, 'e3': 5.4043021385340335, 'e4': 7.382102198656821, 'e5': 6.912735277047223},\n",
       " {'e1': 6.2820188856270285, 'e2': 6.781877647349564, 'e3': 8.312061349370016, 'e4': 7.074088142496352, 'e5': 6.954548621538706},\n",
       " {'e1': 7.878471504909518, 'e2': 8.002310856793848, 'e3': 7.904175719457465, 'e4': 8.61911092045152, 'e5': 7.42727102213923},\n",
       " {'e1': 7.221698699810903, 'e2': 7.086414370541344, 'e3': 7.332736590874494, 'e4': 6.995193263469272, 'e5': 8.190005631791},\n",
       " {'e1': 6.203972977559854, 'e2': 7.07505800353645, 'e3': 6.437558452562872, 'e4': 6.245366655961558, 'e5': 5.02510968192481},\n",
       " {'e1': 7.077826508574031, 'e2': 7.1656044121896745, 'e3': 5.003583916705413, 'e4': 6.026348624237577, 'e5': 5.828771955799343},\n",
       " {'e1': 6.914557637518113, 'e2': 9.042529358772041, 'e3': 6.025031818553989, 'e4': 5.091049592707784, 'e5': 5.90608148500127},\n",
       " {'e1': 8.60919586543851, 'e2': 5.99869184053601, 'e3': 5.611401102779966, 'e4': 8.380002255782772, 'e5': 6.300026401852245},\n",
       " {'e1': 6.267116977443917, 'e2': 7.804983008736398, 'e3': 7.241990486044878, 'e4': 8.495172700146613, 'e5': 9.284862450897544},\n",
       " {'e1': 7.037374654883468, 'e2': 5.59527289723694, 'e3': 5.127873634968747, 'e4': 8.896810464546329, 'e5': 6.60831558738917},\n",
       " {'e1': 5.902991865044596, 'e2': 6.883994984672414, 'e3': 6.428719477556918, 'e4': 6.914747908994292, 'e5': 8.62127291668221},\n",
       " {'e1': 7.592798844945123, 'e2': 7.1332042528478095, 'e3': 7.496110163618252, 'e4': 8.974426065239664, 'e5': 6.4842862822734},\n",
       " {'e1': 7.665221715009221, 'e2': 5.6544340688032655, 'e3': 7.077541511413329, 'e4': 8.506784787489652, 'e5': 6.998282154149691},\n",
       " {'e1': 6.8853472302972225, 'e2': 6.513993968035215, 'e3': 6.716826921826153, 'e4': 7.221490487582253, 'e5': 7.120722245344082},\n",
       " {'e1': 8.563980388587167, 'e2': 7.438612642314032, 'e3': 5.624009598423483, 'e4': 6.146966427865788, 'e5': 8.210968285240625},\n",
       " {'e1': 6.097444101472223, 'e2': 7.3121301858911805, 'e3': 7.011605621242221, 'e4': 8.239429865952832, 'e5': 7.382117433001135},\n",
       " {'e1': 8.01555427839448, 'e2': 6.703293526414409, 'e3': 7.4637943780853275, 'e4': 5.464697404588534, 'e5': 6.438589870514221},\n",
       " {'e1': 6.322471324588076, 'e2': 7.884680208256004, 'e3': 7.723058849936596, 'e4': 8.165051670027236, 'e5': 7.459220347603354},\n",
       " {'e1': 7.171017934890721, 'e2': 4.389755795019075, 'e3': 8.561978498940704, 'e4': 6.385589285041151, 'e5': 7.292212731955346},\n",
       " {'e1': 7.444498813992257, 'e2': 6.27072398090307, 'e3': 5.629163335111739, 'e4': 8.688787390832738, 'e5': 5.067196702853922},\n",
       " {'e1': 7.697396516141815, 'e2': 8.921527416852841, 'e3': 8.445627662329947, 'e4': 6.0642509036041305, 'e5': 6.149873696470626},\n",
       " {'e1': 7.055496114416712, 'e2': 7.931644164684482, 'e3': 7.441041787984346, 'e4': 7.440490088822609, 'e5': 6.456988869073232},\n",
       " {'e1': 6.745457477964516, 'e2': 5.734099182600587, 'e3': 6.891143192614001, 'e4': 6.370335087393649, 'e5': 6.1825145162068385},\n",
       " {'e1': 8.386273683321186, 'e2': 7.680667567411619, 'e3': 8.612781705804094, 'e4': 8.664329283395453, 'e5': 6.87451593246906},\n",
       " {'e1': 6.930025155949972, 'e2': 6.4570360806649205, 'e3': 7.243584847718657, 'e4': 6.815664632247589, 'e5': 6.749765777375388},\n",
       " {'e1': 7.221292006192078, 'e2': 9.144924393020682, 'e3': 4.8637630936395855, 'e4': 7.796401642515833, 'e5': 7.413540550976806},\n",
       " {'e1': 7.0689666060983045, 'e2': 6.061816742308286, 'e3': 7.819086776229592, 'e4': 6.268826417118749, 'e5': 7.166218156205997},\n",
       " {'e1': 7.612678239280035, 'e2': 6.936747411591175, 'e3': 7.6469933107959225, 'e4': 6.558433429533575, 'e5': 5.443012562828713},\n",
       " {'e1': 10.206539186198462, 'e2': 7.104879887210951, 'e3': 5.611197654448159, 'e4': 5.895600427296349, 'e5': 7.400003401434055},\n",
       " {'e1': 6.566629199223401, 'e2': 7.146804217946187, 'e3': 5.972454157831506, 'e4': 6.5219271383758075, 'e5': 6.864430780763798},\n",
       " {'e1': 7.294067195517078, 'e2': 6.101492896468961, 'e3': 7.3404244103423, 'e4': 7.530026388274516, 'e5': 6.120962934600354},\n",
       " {'e1': 8.615230417964897, 'e2': 5.834265412139393, 'e3': 6.682303141294328, 'e4': 8.243074957507499, 'e5': 7.178460788687939},\n",
       " {'e1': 8.44244565006175, 'e2': 6.184846093074881, 'e3': 6.417260650705892, 'e4': 7.358864371749946, 'e5': 8.296704586579658},\n",
       " {'e1': 6.9490186537067435, 'e2': 7.715129383760718, 'e3': 6.6125884466578775, 'e4': 6.542446178741515, 'e5': 5.273903757697},\n",
       " {'e1': 5.506472439947569, 'e2': 6.669885246303482, 'e3': 6.71911263563939, 'e4': 7.990644605949968, 'e5': 6.491783657452965},\n",
       " {'e1': 7.350559121627509, 'e2': 9.223001026090488, 'e3': 6.967410073288313, 'e4': 5.5771734877520736, 'e5': 4.742007279443598},\n",
       " {'e1': 7.425201572605263, 'e2': 4.280822347055829, 'e3': 7.061669555165991, 'e4': 7.4796273472095685, 'e5': 9.03852635524839},\n",
       " {'e1': 7.470442600249278, 'e2': 7.117183387715012, 'e3': 7.748650295989954, 'e4': 7.0211491963456965, 'e5': 7.1011155229975},\n",
       " {'e1': 7.153132846484114, 'e2': 6.14287190281817, 'e3': 7.885834742180987, 'e4': 7.949798365855419, 'e5': 7.919155119187632},\n",
       " {'e1': 7.343874430869855, 'e2': 7.597860049751149, 'e3': 5.878622223328654, 'e4': 7.94884783853166, 'e5': 5.13466950555857},\n",
       " {'e1': 7.033548358399991, 'e2': 6.753499053399595, 'e3': 5.508239727812227, 'e4': 4.623654153937358, 'e5': 6.14518316862786},\n",
       " {'e1': 7.373287314422526, 'e2': 9.330635664330064, 'e3': 7.533784853770214, 'e4': 5.7747717163160495, 'e5': 7.633036334810084},\n",
       " {'e1': 5.838198975040135, 'e2': 7.087423230662297, 'e3': 7.110043172663329, 'e4': 7.447016225680847, 'e5': 6.761348715407207},\n",
       " {'e1': 6.413437092504648, 'e2': 7.347676827012915, 'e3': 7.860208561196229, 'e4': 7.763731022405186, 'e5': 6.902451334696688},\n",
       " {'e1': 7.576070817933156, 'e2': 7.113396661093789, 'e3': 6.41713094323242, 'e4': 6.67049057343409, 'e5': 7.188360847364705},\n",
       " {'e1': 6.592449929921894, 'e2': 7.718592518437643, 'e3': 6.224752904898699, 'e4': 5.138065770675446, 'e5': 5.850809341056411},\n",
       " {'e1': 7.707891373171399, 'e2': 7.9237328945420025, 'e3': 8.234795762493633, 'e4': 7.878853288040378, 'e5': 7.6701921901636},\n",
       " {'e1': 8.207544601937037, 'e2': 6.12191048577964, 'e3': 6.920189830550175, 'e4': 8.239150568744009, 'e5': 7.287273352772157},\n",
       " {'e1': 7.614245186358723, 'e2': 6.736068581732694, 'e3': 5.180289444059842, 'e4': 7.06806710729043, 'e5': 8.148068836269085},\n",
       " {'e1': 8.511358716559867, 'e2': 8.296708371068235, 'e3': 6.71650472085905, 'e4': 8.055245293127122, 'e5': 6.479154545598382},\n",
       " {'e1': 5.835097643001051, 'e2': 6.9398454884347425, 'e3': 7.740334599775474, 'e4': 7.366691755061135, 'e5': 6.423502957790974},\n",
       " {'e1': 6.486353396111686, 'e2': 6.932900929694384, 'e3': 7.852146993520608, 'e4': 5.571466259066588, 'e5': 6.520190855213149},\n",
       " {'e1': 5.940832991184243, 'e2': 7.12317142294164, 'e3': 4.525359332017252, 'e4': 7.324588285201856, 'e5': 6.579400045612828},\n",
       " {'e1': 6.884584556805149, 'e2': 7.209641300297158, 'e3': 8.897332117041877, 'e4': 6.259461632263364, 'e5': 7.098120560938435},\n",
       " {'e1': 8.038637223792508, 'e2': 8.326115084056676, 'e3': 6.802091696095173, 'e4': 6.235212680073522, 'e5': 10.244170157794393},\n",
       " {'e1': 8.92351943851248, 'e2': 5.844195355563444, 'e3': 5.8653132083963895, 'e4': 5.922911378349849, 'e5': 7.935579364592554},\n",
       " {'e1': 7.752798715990592, 'e2': 6.19118467646033, 'e3': 9.10256302606058, 'e4': 7.807901258797683, 'e5': 9.037298479591078},\n",
       " {'e1': 6.563471517863196, 'e2': 6.276806377984549, 'e3': 9.400259709594552, 'e4': 5.304521262290689, 'e5': 8.490506819939075},\n",
       " {'e1': 6.727989676939153, 'e2': 7.803589126460549, 'e3': 8.755269156442614, 'e4': 10.040672140975433, 'e5': 7.110368195089827},\n",
       " {'e1': 5.070463647812304, 'e2': 6.465586537672125, 'e3': 7.659475720616616, 'e4': 4.940477712376004, 'e5': 6.265994669205632},\n",
       " {'e1': 7.037124843954521, 'e2': 5.528315966008203, 'e3': 5.987899379888359, 'e4': 6.97211572040259, 'e5': 7.838578915252195},\n",
       " {'e1': 6.238442421729739, 'e2': 7.628006393508202, 'e3': 7.782818963298754, 'e4': 5.856732504554053, 'e5': 7.668590649007972},\n",
       " {'e1': 5.518551885979798, 'e2': 8.672632400102051, 'e3': 8.040399635008898, 'e4': 5.847142734664237, 'e5': 6.545511014370305},\n",
       " {'e1': 5.447943821363012, 'e2': 7.320670089584745, 'e3': 7.094242597165341, 'e4': 6.467256997088652, 'e5': 6.404761036858573},\n",
       " {'e1': 7.259330438248771, 'e2': 7.627922636798214, 'e3': 7.790814275239981, 'e4': 7.217001233368692, 'e5': 6.995541663316552},\n",
       " {'e1': 7.3064144167954685, 'e2': 6.591928502966471, 'e3': 7.7435148676925545, 'e4': 6.360708808283772, 'e5': 5.967198886684402},\n",
       " {'e1': 8.430993708180097, 'e2': 5.204344044347797, 'e3': 6.386598901773523, 'e4': 6.388405751205486, 'e5': 9.109767576197079},\n",
       " {'e1': 5.440037615292168, 'e2': 6.467862998374428, 'e3': 8.017560329247205, 'e4': 7.629568712856819, 'e5': 8.055376604972627},\n",
       " {'e1': 5.486447262532088, 'e2': 6.756084234380602, 'e3': 5.230658478951322, 'e4': 6.667462881876678, 'e5': 5.882252199826592},\n",
       " {'e1': 6.978708279371274, 'e2': 5.944371308490978, 'e3': 7.592447690148351, 'e4': 6.220030542291763, 'e5': 4.5302096925075395},\n",
       " {'e1': 6.936978944507819, 'e2': 8.254261120594196, 'e3': 7.627240152322373, 'e4': 6.08772987413035, 'e5': 8.136079341167168},\n",
       " {'e1': 6.485549628990879, 'e2': 6.105477741748532, 'e3': 7.502374305637795, 'e4': 7.617854453474838, 'e5': 6.957066625233616},\n",
       " {'e1': 8.064857943032733, 'e2': 7.2226174333098285, 'e3': 6.657999208833441, 'e4': 5.888390991714592, 'e5': 7.55415171199378},\n",
       " {'e1': 7.150211765447376, 'e2': 5.239326634746593, 'e3': 7.318226473557028, 'e4': 7.802136863462453, 'e5': 8.224827006470958},\n",
       " {'e1': 6.159208843355099, 'e2': 7.734978735804931, 'e3': 8.870155311741952, 'e4': 8.838172919341547, 'e5': 6.945768808710446},\n",
       " {'e1': 8.278316751778894, 'e2': 8.042646734553916, 'e3': 6.865447239514471, 'e4': 7.193790364711118, 'e5': 5.68881563522688},\n",
       " {'e1': 8.666451932226781, 'e2': 6.206758350547017, 'e3': 8.291404342986413, 'e4': 4.473670085236073, 'e5': 7.242141501823718},\n",
       " {'e1': 7.190040406890056, 'e2': 7.121693650969141, 'e3': 9.188343195069539, 'e4': 7.752552714935027, 'e5': 5.588295547935192},\n",
       " {'e1': 7.453184043275516, 'e2': 8.923981766286177, 'e3': 5.821081684584758, 'e4': 8.292220057196229, 'e5': 7.207271784486602},\n",
       " {'e1': 6.571237529696811, 'e2': 6.880119742720712, 'e3': 7.013499014919151, 'e4': 8.103049655806, 'e5': 6.711664752545392},\n",
       " {'e1': 6.31039146463459, 'e2': 5.92071730797575, 'e3': 7.756266120166272, 'e4': 6.295436736656488, 'e5': 8.101951763513876},\n",
       " {'e1': 5.718333884406084, 'e2': 4.728421215411141, 'e3': 8.386387380770424, 'e4': 9.001020484109045, 'e5': 6.419316489692062},\n",
       " {'e1': 7.953838076950661, 'e2': 7.350545330907782, 'e3': 6.964711154199568, 'e4': 7.378733265689379, 'e5': 6.443699374239424},\n",
       " {'e1': 7.274308788860154, 'e2': 7.221014523814336, 'e3': 7.758891659435632, 'e4': 6.775005655037462, 'e5': 4.564517200718968},\n",
       " {'e1': 6.180025625873881, 'e2': 4.543900242100535, 'e3': 5.45909308593543, 'e4': 6.26285223370371, 'e5': 8.333148942996571},\n",
       " {'e1': 5.856371233331438, 'e2': 6.51343649234981, 'e3': 7.216782823141291, 'e4': 5.737190616953355, 'e5': 7.7668163517010935},\n",
       " {'e1': 5.768957536329533, 'e2': 8.513934091284021, 'e3': 7.280713506840909, 'e4': 9.270711933260797, 'e5': 7.906175379218537},\n",
       " {'e1': 7.181803506085526, 'e2': 7.686569800189233, 'e3': 7.054535442240668, 'e4': 8.042008858549226, 'e5': 7.04498445726842},\n",
       " {'e1': 7.994016546176062, 'e2': 7.486337938957619, 'e3': 8.04933782611113, 'e4': 6.721055969723268, 'e5': 6.353615227282116},\n",
       " {'e1': 7.388945967690515, 'e2': 9.68465947680392, 'e3': 3.844582672917353, 'e4': 7.112626657724042, 'e5': 5.8822092107081545},\n",
       " {'e1': 5.5554165639367685, 'e2': 7.201357243770819, 'e3': 6.879534849597685, 'e4': 5.672788044506199, 'e5': 6.840210147620422},\n",
       " {'e1': 7.6973568250902495, 'e2': 8.83221953518978, 'e3': 7.471645069465807, 'e4': 7.029643049573467, 'e5': 5.092389179091762},\n",
       " {'e1': 6.0133447871575525, 'e2': 8.849490799771681, 'e3': 6.263106288456184, 'e4': 7.624121330736272, 'e5': 5.793007668414678},\n",
       " {'e1': 8.171975073893044, 'e2': 9.107816500110642, 'e3': 4.735473292842848, 'e4': 6.712514418366978, 'e5': 6.428564999455055},\n",
       " {'e1': 8.230526191701665, 'e2': 7.889285243091804, 'e3': 6.462587295435224, 'e4': 7.87761948781253, 'e5': 5.678574231484589},\n",
       " {'e1': 6.775422546160147, 'e2': 6.5833111929435, 'e3': 6.282007399396474, 'e4': 7.590361267289303, 'e5': 7.843877212229636},\n",
       " {'e1': 9.70857457029542, 'e2': 5.267467950375341, 'e3': 9.05591181184921, 'e4': 7.472431562562112, 'e5': 7.7085521036588025},\n",
       " {'e1': 7.8843985602250815, 'e2': 7.078621971730467, 'e3': 7.641200633751705, 'e4': 7.55721001799562, 'e5': 9.238150799307444},\n",
       " {'e1': 7.550229483781174, 'e2': 7.1553963884729574, 'e3': 7.581772455762679, 'e4': 6.744168251577026, 'e5': 5.951768476314777},\n",
       " {'e1': 7.13539107396201, 'e2': 5.601246845191864, 'e3': 6.996656437273582, 'e4': 6.793579823513038, 'e5': 6.6281323022704015},\n",
       " {'e1': 6.910262166783806, 'e2': 7.266875159716254, 'e3': 5.294138024372252, 'e4': 7.648289138051486, 'e5': 5.538879346073922},\n",
       " {'e1': 7.962409860475545, 'e2': 6.807207241534528, 'e3': 5.9647869026077425, 'e4': 6.149391773313188, 'e5': 5.339081121732645},\n",
       " {'e1': 8.358741836394094, 'e2': 5.400593350700032, 'e3': 6.537626410889868, 'e4': 8.45467064028226, 'e5': 6.895572090073281},\n",
       " {'e1': 5.005602203400219, 'e2': 8.149230461957396, 'e3': 8.24323764054552, 'e4': 6.598914835057746, 'e5': 7.079427058036165},\n",
       " {'e1': 8.637602225631605, 'e2': 5.991329385924728, 'e3': 6.876360502413696, 'e4': 7.114540396453765, 'e5': 7.728871166450462},\n",
       " {'e1': 7.927419623796022, 'e2': 7.276404554117637, 'e3': 6.243493261064009, 'e4': 6.914826976065054, 'e5': 5.806228976801317},\n",
       " {'e1': 5.2286457350081434, 'e2': 7.325051296940743, 'e3': 7.543308046380156, 'e4': 7.298757958393834, 'e5': 7.998413870106803},\n",
       " {'e1': 7.818879358187137, 'e2': 6.637235753266981, 'e3': 7.487033657596037, 'e4': 7.949021526210904, 'e5': 6.7466574286063885},\n",
       " {'e1': 6.37295891239536, 'e2': 8.63859060338634, 'e3': 7.1526245590006665, 'e4': 4.073618968708225, 'e5': 5.677625142585364},\n",
       " {'e1': 8.629388780594159, 'e2': 7.971925805225002, 'e3': 5.694228805680429, 'e4': 7.0758713936661755, 'e5': 8.293152609365858},\n",
       " {'e1': 5.1572079533610005, 'e2': 7.521048828395837, 'e3': 8.114151060628204, 'e4': 7.6364182196364085, 'e5': 10.153565523286202},\n",
       " {'e1': 7.167848479783078, 'e2': 9.675562773295384, 'e3': 5.467691533549644, 'e4': 7.039571784116206, 'e5': 7.4102522064684795},\n",
       " {'e1': 8.910911396314248, 'e2': 6.089916990203987, 'e3': 6.618038013386239, 'e4': 6.296684680871674, 'e5': 5.921969562213767},\n",
       " {'e1': 8.818873210552196, 'e2': 7.014264567804109, 'e3': 9.042001879490948, 'e4': 6.58249549653574, 'e5': 7.561922404118283},\n",
       " {'e1': 6.837201546966557, 'e2': 5.542162477443727, 'e3': 7.97382405548087, 'e4': 6.863072125650222, 'e5': 5.550321108543346},\n",
       " {'e1': 6.355566629696774, 'e2': 6.834275962331407, 'e3': 6.711337438776409, 'e4': 6.484931633473629, 'e5': 6.994428242762294},\n",
       " {'e1': 6.49166547586111, 'e2': 6.485541580409625, 'e3': 7.30309456326073, 'e4': 8.266080363209586, 'e5': 7.088187451702438},\n",
       " {'e1': 7.411507226979353, 'e2': 6.0514080250901845, 'e3': 7.7482930806434664, 'e4': 6.848592793195573, 'e5': 8.115276910604452},\n",
       " {'e1': 5.4895849342629, 'e2': 6.751226179415249, 'e3': 6.237080733916795, 'e4': 8.141016506470532, 'e5': 6.071039285273123},\n",
       " {'e1': 7.783110480811179, 'e2': 7.950777973393376, 'e3': 7.136190549097247, 'e4': 5.829305925129404, 'e5': 6.736295517154815},\n",
       " {'e1': 7.543316622476667, 'e2': 7.023871160483814, 'e3': 5.921902892066001, 'e4': 7.64502264563012, 'e5': 8.130239098432568},\n",
       " {'e1': 8.8594678185841, 'e2': 6.249470667082695, 'e3': 7.203061562449427, 'e4': 7.236491704843379, 'e5': 7.0721626799555395},\n",
       " {'e1': 7.288004208257363, 'e2': 8.145061807900776, 'e3': 7.339413892016173, 'e4': 7.412591060909617, 'e5': 6.620819524252142},\n",
       " {'e1': 8.095489183802888, 'e2': 5.698537077488518, 'e3': 7.117824124164672, 'e4': 6.94242309531551, 'e5': 7.812281258415283},\n",
       " {'e1': 5.112900250198476, 'e2': 6.847586274789037, 'e3': 6.020233044026606, 'e4': 8.427191461186318, 'e5': 7.479440916982097},\n",
       " {'e1': 6.740127686902031, 'e2': 6.0739214395258205, 'e3': 7.5029929225812815, 'e4': 5.439238120738352, 'e5': 7.748287124511336},\n",
       " {'e1': 6.63040858993251, 'e2': 9.347219478008459, 'e3': 7.625614936473672, 'e4': 8.249155963452859, 'e5': 8.01034913887138},\n",
       " {'e1': 8.807106038091685, 'e2': 5.56929573399375, 'e3': 7.03511497178158, 'e4': 7.156531703813259, 'e5': 7.207797902694031},\n",
       " {'e1': 7.080498976330362, 'e2': 9.295263620063011, 'e3': 5.587470433498229, 'e4': 6.317014671029509, 'e5': 6.429440584980946},\n",
       " {'e1': 5.678823881770255, 'e2': 7.766752965889772, 'e3': 7.14525473376721, 'e4': 5.85138707604071, 'e5': 8.113907907123158},\n",
       " {'e1': 7.494721088027012, 'e2': 7.980955514930696, 'e3': 7.141640879868964, 'e4': 7.587244788495416, 'e5': 7.120604848081993},\n",
       " {'e1': 6.569875049909787, 'e2': 6.826825873301378, 'e3': 7.963741032162337, 'e4': 7.8022840539824365, 'e5': 7.056207827008166},\n",
       " {'e1': 6.713546846780745, 'e2': 6.241251939829383, 'e3': 6.802991505246214, 'e4': 5.149829759079279, 'e5': 7.317944858318625},\n",
       " {'e1': 7.447360103526288, 'e2': 4.662928610511372, 'e3': 5.574495664930252, 'e4': 6.514084812174585, 'e5': 8.917496719648131},\n",
       " {'e1': 7.194011594599285, 'e2': 5.748018136839134, 'e3': 6.94967817617455, 'e4': 7.722367829998623, 'e5': 6.177696787473387},\n",
       " {'e1': 7.714598360217647, 'e2': 6.451620092447642, 'e3': 6.920581717879093, 'e4': 7.230032999339274, 'e5': 7.071186037377887},\n",
       " {'e1': 8.33260070460486, 'e2': 7.31634357421325, 'e3': 6.868278485049169, 'e4': 6.407680210317226, 'e5': 5.4470652229355325},\n",
       " {'e1': 7.04264181341747, 'e2': 7.333846915667027, 'e3': 8.022068914230415, 'e4': 8.038046626493246, 'e5': 6.3109436368389265},\n",
       " {'e1': 7.828465241889736, 'e2': 7.778605684371402, 'e3': 8.965702689748541, 'e4': 6.289008938026537, 'e5': 8.046674120599198},\n",
       " {'e1': 6.4167207091526075, 'e2': 8.512846250607268, 'e3': 7.100067661029444, 'e4': 7.169814606802538, 'e5': 6.510368692226854},\n",
       " {'e1': 4.44626079261579, 'e2': 6.582469230389612, 'e3': 9.05883260835996, 'e4': 6.607007827244027, 'e5': 9.252722060740522},\n",
       " {'e1': 8.376134446349637, 'e2': 5.489064445614719, 'e3': 5.8060777748024535, 'e4': 7.1643807117211376, 'e5': 6.3375313238564726},\n",
       " {'e1': 7.868785627836293, 'e2': 5.924525312855664, 'e3': 7.047066721072599, 'e4': 6.073522937755382, 'e5': 6.017982621325256},\n",
       " {'e1': 8.015981659707624, 'e2': 6.79293468296912, 'e3': 7.714310520053742, 'e4': 6.313555500607943, 'e5': 7.543103542062071},\n",
       " {'e1': 6.579233492265317, 'e2': 7.432679177203653, 'e3': 8.026774746255814, 'e4': 8.117062903521813, 'e5': 6.384303270970425},\n",
       " {'e1': 6.1343234562846, 'e2': 7.160098015695052, 'e3': 8.14438630538299, 'e4': 6.655980805730796, 'e5': 6.728859413059157},\n",
       " {'e1': 7.690401785741352, 'e2': 7.50848605262491, 'e3': 8.462252820309795, 'e4': 7.976393082587861, 'e5': 8.217010098391334},\n",
       " {'e1': 9.862493840065735, 'e2': 7.4050559046297915, 'e3': 7.8430099860428495, 'e4': 6.868669146299071, 'e5': 8.45658793377472},\n",
       " {'e1': 6.889795706978675, 'e2': 8.09803992478852, 'e3': 5.911309605338841, 'e4': 7.854457933005776, 'e5': 5.929281935575412},\n",
       " {'e1': 8.393372679775586, 'e2': 7.118019847721286, 'e3': 5.216949255100442, 'e4': 7.49635318662374, 'e5': 8.958344636076431},\n",
       " {'e1': 7.048726700088821, 'e2': 6.762148239639572, 'e3': 4.932533938280866, 'e4': 8.025925100073344, 'e5': 6.863142458059862},\n",
       " {'e1': 7.720587568312011, 'e2': 5.721172028169791, 'e3': 6.1672976508883615, 'e4': 6.086503342462774, 'e5': 5.985394561264903},\n",
       " {'e1': 6.501256124647934, 'e2': 5.5970086356270645, 'e3': 7.6276311914708685, 'e4': 7.814596747232764, 'e5': 7.8011023386011304},\n",
       " {'e1': 8.329771280675153, 'e2': 7.455736492843328, 'e3': 8.301108664323303, 'e4': 7.347968545483076, 'e5': 8.02236163990943},\n",
       " {'e1': 8.358266567587386, 'e2': 7.149608227584771, 'e3': 6.152127673498202, 'e4': 6.238654453067733, 'e5': 6.9300435789024775},\n",
       " {'e1': 7.545864132323272, 'e2': 7.365991333792468, 'e3': 6.37240171235374, 'e4': 4.930207767738081, 'e5': 7.187741615619484},\n",
       " {'e1': 8.112940964961858, 'e2': 7.5279732481390695, 'e3': 8.694639924533549, 'e4': 8.0436537649096, 'e5': 6.330625565564459},\n",
       " {'e1': 9.639967854399222, 'e2': 7.594166208177175, 'e3': 7.015639267727977, 'e4': 7.493129752239156, 'e5': 5.759927391885686},\n",
       " {'e1': 5.752992596762809, 'e2': 8.486649231844801, 'e3': 6.919415304653529, 'e4': 7.851452433987185, 'e5': 4.756101121505931},\n",
       " {'e1': 6.462686916207065, 'e2': 7.49563725658805, 'e3': 7.166238129525722, 'e4': 8.074292781859366, 'e5': 6.795662360516461},\n",
       " {'e1': 7.496183276046223, 'e2': 7.354495753652925, 'e3': 6.719253159300208, 'e4': 5.946574793597696, 'e5': 7.06990956918059},\n",
       " {'e1': 6.0568536405653965, 'e2': 7.997724391963991, 'e3': 6.094459138336227, 'e4': 5.638447147905212, 'e5': 7.967657851534013},\n",
       " {'e1': 5.93045526454169, 'e2': 5.4364554797505384, 'e3': 6.79501115730906, 'e4': 8.626805965472892, 'e5': 7.245638227039392},\n",
       " {'e1': 7.702950630241063, 'e2': 6.4986261090616, 'e3': 5.839591578099224, 'e4': 5.0460704133227035, 'e5': 6.966849070746338},\n",
       " {'e1': 6.862634254471636, 'e2': 6.087680271647219, 'e3': 6.6881461434588685, 'e4': 6.85671150762, 'e5': 6.831263362800413},\n",
       " {'e1': 8.352391968046431, 'e2': 5.96593809330545, 'e3': 9.011602929092499, 'e4': 4.944256578228733, 'e5': 5.328678857115132},\n",
       " {'e1': 6.996329975934797, 'e2': 9.107418160836858, 'e3': 7.755164188589032, 'e4': 8.778444682781679, 'e5': 6.844745290084922},\n",
       " {'e1': 6.564996044435575, 'e2': 6.851628417090898, 'e3': 6.642756369097522, 'e4': 8.558422850046814, 'e5': 8.133650944992622},\n",
       " {'e1': 5.911816353391244, 'e2': 4.944154580326208, 'e3': 7.0166463844376, 'e4': 7.055516659524812, 'e5': 8.231019379879939},\n",
       " {'e1': 6.903115780037176, 'e2': 6.993369868304522, 'e3': 9.662830578879609, 'e4': 7.067452780893731, 'e5': 7.89389208723394},\n",
       " {'e1': 5.097982858534241, 'e2': 7.031974812641566, 'e3': 6.695748728918015, 'e4': 6.601052943438931, 'e5': 7.713787913388602},\n",
       " {'e1': 6.940640103027496, 'e2': 5.873323631449502, 'e3': 7.006339953111296, 'e4': 5.595024272985765, 'e5': 4.946106495197607},\n",
       " {'e1': 7.465334139949035, 'e2': 5.235069830186893, 'e3': 7.195664980258615, 'e4': 7.451291502609029, 'e5': 6.755993284905682},\n",
       " {'e1': 7.157030194749769, 'e2': 6.947055110972479, 'e3': 7.424102762098031, 'e4': 7.907870269975928, 'e5': 7.694652794860506},\n",
       " {'e1': 5.874267420377655, 'e2': 6.8016569193297665, 'e3': 6.735357111980842, 'e4': 7.066873341758844, 'e5': 5.361182137587773},\n",
       " {'e1': 8.319381130825931, 'e2': 8.268957936076033, 'e3': 8.809361187830339, 'e4': 6.976157644354999, 'e5': 8.121263327487016},\n",
       " {'e1': 6.336981306826873, 'e2': 7.792609099962987, 'e3': 7.025454330357843, 'e4': 7.5131829760438835, 'e5': 7.41068550531217},\n",
       " {'e1': 6.203501554418573, 'e2': 7.662136177800184, 'e3': 6.593339429569879, 'e4': 5.939970871384386, 'e5': 8.426662002340782},\n",
       " {'e1': 7.792548573458408, 'e2': 5.8009753077127115, 'e3': 6.792227050005688, 'e4': 7.05669526522944, 'e5': 6.452787976501997},\n",
       " {'e1': 7.152292287150511, 'e2': 5.734249389068763, 'e3': 7.605821988254537, 'e4': 6.632700713666352, 'e5': 6.168535416350715},\n",
       " {'e1': 6.099502976615725, 'e2': 6.578347018043192, 'e3': 7.471419760107322, 'e4': 6.619440415738218, 'e5': 7.889789238284731},\n",
       " {'e1': 6.601003903527636, 'e2': 7.807795782217898, 'e3': 8.94517559959212, 'e4': 5.184894710577836, 'e5': 8.637921714369462},\n",
       " {'e1': 6.687491858915698, 'e2': 4.740973195872403, 'e3': 7.79324129788848, 'e4': 7.261890791834411, 'e5': 7.134950402157992},\n",
       " {'e1': 7.568427952093663, 'e2': 7.419600600078847, 'e3': 6.908228870234973, 'e4': 7.847278504510887, 'e5': 5.437515225121377},\n",
       " {'e1': 7.0463052283273635, 'e2': 6.235315699699813, 'e3': 6.687224764201065, 'e4': 5.9328718852935936, 'e5': 6.773883381080914},\n",
       " {'e1': 7.597062747663591, 'e2': 7.891762164885763, 'e3': 4.570783595635701, 'e4': 6.139749281211626, 'e5': 6.801464434448126},\n",
       " {'e1': 6.454237774006181, 'e2': 6.891402081523, 'e3': 5.954479280260095, 'e4': 4.895590515644396, 'e5': 6.449912088775022},\n",
       " {'e1': 8.524873933252374, 'e2': 7.667462507453961, 'e3': 7.067084932233299, 'e4': 7.1403443831828355, 'e5': 8.258855145220984},\n",
       " {'e1': 6.194267643431598, 'e2': 6.206827946243066, 'e3': 7.278091346378863, 'e4': 7.774284462575106, 'e5': 6.705583066830023},\n",
       " {'e1': 5.650516917384418, 'e2': 9.616631966142732, 'e3': 4.794312685502393, 'e4': 7.398843307585857, 'e5': 4.493991595922565},\n",
       " {'e1': 6.8723462103019965, 'e2': 5.241588932320239, 'e3': 5.823077557501739, 'e4': 6.069698076749171, 'e5': 5.968978430792639},\n",
       " {'e1': 6.463484013595922, 'e2': 6.645148219617305, 'e3': 7.029382157066816, 'e4': 8.135497870355199, 'e5': 6.086288612335282},\n",
       " {'e1': 7.038649320692748, 'e2': 6.5967998484051, 'e3': 6.724645828601778, 'e4': 7.223122656768766, 'e5': 7.856149815597922},\n",
       " {'e1': 6.283534640009267, 'e2': 6.114305521830803, 'e3': 6.8860082046155835, 'e4': 8.441953675658269, 'e5': 8.533863297783762},\n",
       " {'e1': 6.018137021141768, 'e2': 6.224452411292463, 'e3': 5.394095136778825, 'e4': 9.70844452028571, 'e5': 3.8477235635196076},\n",
       " {'e1': 6.803228741769498, 'e2': 7.92049408276649, 'e3': 6.115509281867854, 'e4': 7.70798978865657, 'e5': 5.776038540769506},\n",
       " {'e1': 6.145568544630873, 'e2': 5.5126754659693615, 'e3': 6.353910843845668, 'e4': 9.294645625775793, 'e5': 5.530855447300961},\n",
       " {'e1': 6.701241077089262, 'e2': 6.831119299231611, 'e3': 7.183659896961265, 'e4': 5.982992335277966, 'e5': 6.708957711108882},\n",
       " {'e1': 7.000406760710504, 'e2': 6.175685933174998, 'e3': 6.185309572943928, 'e4': 8.912643484641576, 'e5': 6.4760601659010755},\n",
       " {'e1': 6.33605059857851, 'e2': 6.830402157937019, 'e3': 5.91624814384854, 'e4': 8.34768661744249, 'e5': 7.066938971357009},\n",
       " {'e1': 7.090707345609659, 'e2': 7.175728459948957, 'e3': 6.665114711959189, 'e4': 5.615080784280676, 'e5': 7.203297033111584},\n",
       " {'e1': 6.647351980092075, 'e2': 8.840031011049994, 'e3': 6.075248984577105, 'e4': 4.921447412387082, 'e5': 6.987226318796355},\n",
       " {'e1': 7.256089652705818, 'e2': 6.686730407617459, 'e3': 6.588084687520827, 'e4': 6.861473744148855, 'e5': 7.560719780218586},\n",
       " {'e1': 8.03527896090747, 'e2': 7.22655252357264, 'e3': 7.257848595319582, 'e4': 7.334328173978677, 'e5': 7.648638131137647},\n",
       " {'e1': 6.251474116564016, 'e2': 8.767623020116618, 'e3': 6.2894036909479425, 'e4': 7.43284491094233, 'e5': 6.990851045771811},\n",
       " {'e1': 7.15879083908272, 'e2': 7.62153565444466, 'e3': 7.472389979120534, 'e4': 5.158865611058094, 'e5': 5.431718687923358},\n",
       " {'e1': 6.760375993219356, 'e2': 7.247873130664971, 'e3': 7.23568906958452, 'e4': 8.393368896995916, 'e5': 6.009467842502857},\n",
       " {'e1': 6.918379033957652, 'e2': 7.02033657707635, 'e3': 6.321740767026926, 'e4': 7.618108525390326, 'e5': 5.579325287309129},\n",
       " {'e1': 6.027290528203617, 'e2': 6.068579020003469, 'e3': 7.197560271606122, 'e4': 7.625277883305192, 'e5': 6.510974642455027},\n",
       " {'e1': 6.230341804802747, 'e2': 8.328262953432796, 'e3': 7.403546242397852, 'e4': 6.603362820240472, 'e5': 8.989348745238901},\n",
       " {'e1': 8.396750198014848, 'e2': 7.369928259281609, 'e3': 7.731689648471795, 'e4': 4.4725370304513214, 'e5': 9.570055282006168},\n",
       " {'e1': 6.530545296910994, 'e2': 7.602695962311025, 'e3': 7.197048211806372, 'e4': 6.002130475990198, 'e5': 6.3495829324745525},\n",
       " {'e1': 6.243195492992107, 'e2': 7.965232021212355, 'e3': 6.647286689890379, 'e4': 5.441035268669765, 'e5': 7.46388448169674},\n",
       " {'e1': 6.785718867040368, 'e2': 5.9634119241744425, 'e3': 8.285000256105212, 'e4': 8.579409492042952, 'e5': 6.399200449132241},\n",
       " {'e1': 8.101222406942911, 'e2': 7.423340936734888, 'e3': 7.10062833454411, 'e4': 7.579277464691172, 'e5': 7.952467139986605},\n",
       " {'e1': 8.629744935660973, 'e2': 7.669763441545406, 'e3': 8.77526820981179, 'e4': 7.533171059912529, 'e5': 7.338188076749834},\n",
       " {'e1': 7.052562837997329, 'e2': 6.293764262356304, 'e3': 8.169029644451127, 'e4': 7.151560621837064, 'e5': 7.268880272599508},\n",
       " {'e1': 6.59930888910843, 'e2': 7.988238537164703, 'e3': 7.321786913321198, 'e4': 6.5069647944458255, 'e5': 7.382661133772216},\n",
       " {'e1': 8.820358998320891, 'e2': 9.253694473270416, 'e3': 6.1137344635676945, 'e4': 6.697974257360212, 'e5': 4.686959932077464},\n",
       " {'e1': 5.134400039158794, 'e2': 6.622216340974591, 'e3': 6.659121948369736, 'e4': 5.2554578750270124, 'e5': 8.597084147252657},\n",
       " {'e1': 5.366739319383975, 'e2': 8.58644307765151, 'e3': 7.984881980460981, 'e4': 8.250412663440851, 'e5': 6.790951726245485},\n",
       " {'e1': 6.59822773105602, 'e2': 6.667845260404522, 'e3': 7.048581056704386, 'e4': 6.000580025470597, 'e5': 8.846020401366259},\n",
       " {'e1': 6.499130770536481, 'e2': 6.196336215439302, 'e3': 7.665306271317172, 'e4': 8.17248781133005, 'e5': 8.0056700851879},\n",
       " {'e1': 6.98315499136311, 'e2': 6.589179659520486, 'e3': 7.296509957911976, 'e4': 8.283844387239466, 'e5': 8.587182944441057},\n",
       " {'e1': 6.669800393561504, 'e2': 5.826087965380612, 'e3': 7.645606706188003, 'e4': 5.778163933388707, 'e5': 6.213248166307078},\n",
       " {'e1': 5.618675317726043, 'e2': 8.625064379989281, 'e3': 4.539386538366179, 'e4': 8.401760126479832, 'e5': 6.612197990530722},\n",
       " {'e1': 5.0205627781489035, 'e2': 6.375213471582061, 'e3': 8.041490093207234, 'e4': 8.491373639932451, 'e5': 6.767967412846637},\n",
       " {'e1': 6.840377956987713, 'e2': 8.546658444923374, 'e3': 6.049963259131773, 'e4': 6.9153804910311845, 'e5': 6.744759518307433},\n",
       " {'e1': 6.864254937886116, 'e2': 6.44847887993811, 'e3': 6.6256431925218475, 'e4': 8.79996314098689, 'e5': 6.681271848724413},\n",
       " {'e1': 8.165381537720279, 'e2': 8.301370764303936, 'e3': 7.9499267279132555, 'e4': 5.852765316772506, 'e5': 7.074048426380596},\n",
       " {'e1': 8.65026713909824, 'e2': 5.869609594503761, 'e3': 8.963121214108016, 'e4': 9.536441524580027, 'e5': 6.108217582871558},\n",
       " {'e1': 5.975293246649423, 'e2': 6.302540504836924, 'e3': 7.617135194355413, 'e4': 5.646187518554745, 'e5': 6.656992218550146},\n",
       " {'e1': 7.732412635981225, 'e2': 5.48988914705657, 'e3': 5.028012568908031, 'e4': 7.003827149203691, 'e5': 7.087082854118553},\n",
       " {'e1': 7.417182072150534, 'e2': 8.472833071723874, 'e3': 8.377734438652016, 'e4': 5.204042604364645, 'e5': 6.292724645123808},\n",
       " {'e1': 7.157436883272444, 'e2': 7.659098857718474, 'e3': 6.981491241661959, 'e4': 5.299759290318581, 'e5': 6.396888910737007},\n",
       " {'e1': 7.001488614914875, 'e2': 4.9802988764400995, 'e3': 7.353991495471058, 'e4': 8.735151149348647, 'e5': 7.164803669586847},\n",
       " {'e1': 7.661966204529898, 'e2': 4.579052153587146, 'e3': 5.010503862294577, 'e4': 7.801786701745285, 'e5': 6.527489462134596},\n",
       " {'e1': 5.899038320690967, 'e2': 6.968083270032122, 'e3': 5.457967609032782, 'e4': 9.10828249187738, 'e5': 6.605302433109616},\n",
       " {'e1': 6.40339875104046, 'e2': 6.7920446287482505, 'e3': 7.475921496643122, 'e4': 8.593365267263172, 'e5': 6.30157271126526},\n",
       " {'e1': 6.129039103479083, 'e2': 6.437616864645247, 'e3': 6.573789360174415, 'e4': 5.661352099475012, 'e5': 4.71541193640457},\n",
       " {'e1': 6.7462328130094535, 'e2': 7.777234996188932, 'e3': 7.176760619773446, 'e4': 7.19173724611403, 'e5': 6.656226212692732},\n",
       " {'e1': 6.389676784809706, 'e2': 7.523883692923328, 'e3': 8.352788904012206, 'e4': 5.896221540904838, 'e5': 6.912022937274061},\n",
       " {'e1': 5.3541442623099575, 'e2': 9.350201332945538, 'e3': 6.7395381972199155, 'e4': 6.018032313657808, 'e5': 7.970678248423395},\n",
       " {'e1': 8.82290644994571, 'e2': 4.1417855729549995, 'e3': 4.160564828802567, 'e4': 7.600901815640605, 'e5': 7.4117019444032195},\n",
       " {'e1': 6.3716567853744825, 'e2': 6.302278399916929, 'e3': 5.937143031967764, 'e4': 6.61487457984422, 'e5': 9.038863917014503},\n",
       " {'e1': 6.7040473021978295, 'e2': 6.544479430870863, 'e3': 3.998516853202238, 'e4': 6.109902376326911, 'e5': 6.123143215609695},\n",
       " {'e1': 8.16951746290551, 'e2': 6.659639813273629, 'e3': 7.553574412569309, 'e4': 5.318758934168327, 'e5': 8.166401534543137},\n",
       " {'e1': 6.803168367165428, 'e2': 5.307977480595346, 'e3': 5.17878139004907, 'e4': 7.302241961654101, 'e5': 5.794645980488363},\n",
       " {'e1': 8.267754066906267, 'e2': 7.608961070277001, 'e3': 7.417518648608298, 'e4': 8.190495524122575, 'e5': 4.6865715566165616},\n",
       " {'e1': 7.623135387218893, 'e2': 8.785299770066842, 'e3': 6.9118799273758125, 'e4': 6.735087146443153, 'e5': 6.065580502572826},\n",
       " {'e1': 6.67140946608288, 'e2': 6.15550843885825, 'e3': 7.689974105794933, 'e4': 5.279664013830772, 'e5': 6.801730945881362},\n",
       " {'e1': 7.439647972939382, 'e2': 6.055845250301495, 'e3': 6.363285406770878, 'e4': 7.414756786980861, 'e5': 6.547611558268662},\n",
       " {'e1': 4.695486751757001, 'e2': 6.360396784867627, 'e3': 4.802947589055618, 'e4': 8.547363550090521, 'e5': 6.828969266732257},\n",
       " {'e1': 6.848840814176061, 'e2': 8.494615223296638, 'e3': 7.048085036826729, 'e4': 6.7673360472585085, 'e5': 5.991714676393522},\n",
       " {'e1': 4.471996863437941, 'e2': 6.941956113731605, 'e3': 6.215295602502916, 'e4': 6.891678661174153, 'e5': 5.8948669826709725},\n",
       " {'e1': 8.092855724949406, 'e2': 7.292558587017797, 'e3': 6.158362517755064, 'e4': 7.618917342679348, 'e5': 6.804886679517981},\n",
       " {'e1': 7.353972118212843, 'e2': 6.565354701167898, 'e3': 7.49832497269168, 'e4': 6.393242708359904, 'e5': 7.596783892486824},\n",
       " {'e1': 6.1158896559417775, 'e2': 4.930612248075654, 'e3': 5.287856383922517, 'e4': 6.2746426473712695, 'e5': 7.390371211250637},\n",
       " {'e1': 8.328148053739305, 'e2': 8.377900805556017, 'e3': 8.359700116031638, 'e4': 8.665238596460833, 'e5': 6.653374412674466},\n",
       " {'e1': 4.629681401949915, 'e2': 8.402212688887095, 'e3': 6.6979392947037955, 'e4': 8.77868392403389, 'e5': 5.004654241754747},\n",
       " {'e1': 6.350058366360642, 'e2': 5.300848158461313, 'e3': 6.931467534869059, 'e4': 7.497283591563476, 'e5': 7.08384488354444},\n",
       " {'e1': 6.075448130158341, 'e2': 7.218036154991645, 'e3': 7.712795232936617, 'e4': 7.367803257104316, 'e5': 6.602994402781196},\n",
       " {'e1': 6.942850732002021, 'e2': 6.186491890548028, 'e3': 7.292698528771692, 'e4': 4.390990105817897, 'e5': 7.8699604487719075},\n",
       " {'e1': 5.946236072048007, 'e2': 6.146575056078174, 'e3': 9.235672074394701, 'e4': 7.665194054961457, 'e5': 8.394104688397922},\n",
       " {'e1': 8.654791208760182, 'e2': 8.04712906989775, 'e3': 8.285531772335425, 'e4': 4.273094353177634, 'e5': 6.131254814190875},\n",
       " {'e1': 6.941085319450544, 'e2': 6.70180179893243, 'e3': 9.334860390033178, 'e4': 8.209612445345217, 'e5': 6.822498964292973},\n",
       " {'e1': 5.744554572933646, 'e2': 8.311243875606376, 'e3': 6.668271589691622, 'e4': 6.249096290750343, 'e5': 6.335521989131033},\n",
       " {'e1': 7.99729680499253, 'e2': 8.515738699075637, 'e3': 9.334314679668239, 'e4': 6.072586404548082, 'e5': 5.44284403409055},\n",
       " {'e1': 6.53318404785113, 'e2': 6.552292710643992, 'e3': 5.392600779348547, 'e4': 7.353281697937441, 'e5': 5.664737034485737},\n",
       " {'e1': 6.216331822652331, 'e2': 5.767570300415549, 'e3': 8.269633381417865, 'e4': 5.9780921384703785, 'e5': 8.598941870679914},\n",
       " {'e1': 6.243786381683863, 'e2': 7.323543805893409, 'e3': 5.406768511932523, 'e4': 6.275870053748427, 'e5': 6.291488559441201},\n",
       " {'e1': 6.376650718257917, 'e2': 5.706068264868746, 'e3': 8.1621198577263, 'e4': 7.890109334208511, 'e5': 6.32589626505362},\n",
       " {'e1': 5.742352430594629, 'e2': 6.4145948165811255, 'e3': 7.578097589353319, 'e4': 6.936312437259965, 'e5': 5.044432477498234},\n",
       " {'e1': 6.128557942087833, 'e2': 6.208805776136375, 'e3': 9.046840116830712, 'e4': 8.095472656723706, 'e5': 5.039395310440403},\n",
       " {'e1': 6.452164875724029, 'e2': 7.129449092542134, 'e3': 5.613411166909281, 'e4': 9.485460190536608, 'e5': 6.496381898314976},\n",
       " {'e1': 6.980696793512349, 'e2': 5.429810222382873, 'e3': 7.296664466299244, 'e4': 8.415435875701636, 'e5': 7.400635228397135},\n",
       " {'e1': 5.987413597661959, 'e2': 7.872117477525665, 'e3': 7.759171630635311, 'e4': 5.739649355895042, 'e5': 7.377412645171278},\n",
       " {'e1': 7.431816748414023, 'e2': 8.86905665352696, 'e3': 5.928298139998453, 'e4': 7.807165696915176, 'e5': 6.407175092366189},\n",
       " {'e1': 4.717958009463963, 'e2': 7.66659010720169, 'e3': 5.969196616702554, 'e4': 5.139896084806596, 'e5': 6.48234117108088},\n",
       " {'e1': 5.107229155868046, 'e2': 7.6765619173814175, 'e3': 6.8878200930149545, 'e4': 6.886608861183469, 'e5': 6.635215258943177},\n",
       " {'e1': 6.613388205388001, 'e2': 7.182896691286671, 'e3': 2.9953720887316484, 'e4': 6.504874261144017, 'e5': 6.517151657498552},\n",
       " {'e1': 5.3506464032972865, 'e2': 6.806239284624983, 'e3': 7.876183261696023, 'e4': 5.407616837159298, 'e5': 5.940792385538271},\n",
       " {'e1': 7.622788447168436, 'e2': 6.401455598244491, 'e3': 6.49982432324953, 'e4': 7.0087546105465455, 'e5': 5.7523528819822145},\n",
       " {'e1': 7.43678294748053, 'e2': 8.379141559720342, 'e3': 6.344070425524508, 'e4': 5.426899851595126, 'e5': 6.051173128376435},\n",
       " {'e1': 6.849308381215051, 'e2': 7.050806818152054, 'e3': 6.890815080390782, 'e4': 9.075954536096265, 'e5': 8.391145766346593},\n",
       " {'e1': 7.747943269958305, 'e2': 7.038193249530827, 'e3': 5.245714669566899, 'e4': 8.463454799299038, 'e5': 6.987162603672502},\n",
       " {'e1': 5.073368023989105, 'e2': 7.10086287075397, 'e3': 6.182818181472728, 'e4': 6.561103689632683, 'e5': 8.46845978300334},\n",
       " {'e1': 7.583784819082247, 'e2': 5.3496286872938175, 'e3': 4.964312069628098, 'e4': 6.0043824346147066, 'e5': 6.424200949542642},\n",
       " {'e1': 6.563715345086104, 'e2': 6.2069244007098066, 'e3': 5.576636350310456, 'e4': 5.082972235009251, 'e5': 6.130370605096273},\n",
       " {'e1': 8.029219550501173, 'e2': 8.231554970706044, 'e3': 6.332606762736769, 'e4': 8.786807059723138, 'e5': 7.67492234653849},\n",
       " {'e1': 6.670112947416767, 'e2': 7.667687958875944, 'e3': 6.090733076502294, 'e4': 8.21660522742945, 'e5': 5.893805510514908},\n",
       " {'e1': 8.264678884652854, 'e2': 7.803968145910276, 'e3': 7.86143741507529, 'e4': 7.3323780879212315, 'e5': 6.306173280171178},\n",
       " {'e1': 5.394078271978078, 'e2': 7.533443300137707, 'e3': 6.693353282110842, 'e4': 6.7670311130518295, 'e5': 7.51399101658127},\n",
       " {'e1': 7.110993985799135, 'e2': 6.902875120917029, 'e3': 8.249534197270314, 'e4': 6.274551473201509, 'e5': 6.7225917077482515},\n",
       " {'e1': 8.087512109185479, 'e2': 5.6356636118207835, 'e3': 6.28222446964693, 'e4': 6.7304991706363015, 'e5': 7.748837982547624},\n",
       " {'e1': 8.329230976566018, 'e2': 8.832374700849313, 'e3': 8.415637041710857, 'e4': 6.486210428903169, 'e5': 9.016409579258497},\n",
       " {'e1': 6.29827033533064, 'e2': 6.726090030131693, 'e3': 5.013044804861506, 'e4': 6.766569772563989, 'e5': 5.978957410841813},\n",
       " {'e1': 7.657579853173044, 'e2': 8.656062800917345, 'e3': 7.6927962862313155, 'e4': 7.113313686825753, 'e5': 7.880971965664547},\n",
       " {'e1': 5.662140063818559, 'e2': 9.761330738740398, 'e3': 8.165976926545461, 'e4': 8.34286257086049, 'e5': 7.749787208502777},\n",
       " {'e1': 9.022542202170442, 'e2': 5.976683212054204, 'e3': 6.825741720551516, 'e4': 7.44199647871775, 'e5': 7.997970591032508},\n",
       " {'e1': 8.75879381280303, 'e2': 6.87319076185802, 'e3': 9.057463439675466, 'e4': 7.639322877970407, 'e5': 7.528274804056541},\n",
       " {'e1': 7.501602122710121, 'e2': 6.411207390401728, 'e3': 5.463471438409691, 'e4': 5.347653723093542, 'e5': 6.354204180315321},\n",
       " {'e1': 7.042833177757345, 'e2': 5.6107586957049795, 'e3': 6.428686815589934, 'e4': 6.4598733710345515, 'e5': 5.43475884563354},\n",
       " {'e1': 7.912477932707009, 'e2': 6.590222268264022, 'e3': 6.797449846495958, 'e4': 8.355163089258793, 'e5': 6.665546476945373},\n",
       " {'e1': 4.984048208461578, 'e2': 6.393926994221708, 'e3': 7.737835655622816, 'e4': 8.702681177887971, 'e5': 5.765764386873162},\n",
       " {'e1': 5.814229630272429, 'e2': 6.988704349556351, 'e3': 6.259661076519921, 'e4': 8.048184653188267, 'e5': 7.161380714853236},\n",
       " {'e1': 6.952339580151533, 'e2': 6.754717894199302, 'e3': 6.198693568936578, 'e4': 7.18188976701738, 'e5': 6.059501994465098},\n",
       " {'e1': 7.82385104436812, 'e2': 8.297661470146052, 'e3': 5.870298334613925, 'e4': 6.496809374637337, 'e5': 6.67401831718061},\n",
       " {'e1': 6.416792040056519, 'e2': 7.868369936730993, 'e3': 5.950071888677443, 'e4': 8.755653712619678, 'e5': 9.843299973310183},\n",
       " {'e1': 6.146534433213755, 'e2': 7.417136681867875, 'e3': 5.767313548892673, 'e4': 6.023524936992009, 'e5': 6.748302912774216},\n",
       " {'e1': 9.672904776349442, 'e2': 5.328497505267866, 'e3': 6.201418898848735, 'e4': 7.579572986938078, 'e5': 7.664722304657938},\n",
       " {'e1': 6.9059522085083955, 'e2': 6.710762728107245, 'e3': 7.199534941784904, 'e4': 6.980209327707137, 'e5': 6.479518745648576},\n",
       " {'e1': 7.591112215761826, 'e2': 6.689790458641011, 'e3': 6.373159967302942, 'e4': 5.881325013310137, 'e5': 6.2974077227893135},\n",
       " {'e1': 8.503715352728817, 'e2': 6.902487198595502, 'e3': 6.305019054267707, 'e4': 7.361993601810939, 'e5': 5.342515713390649},\n",
       " {'e1': 8.533319399748466, 'e2': 8.072594623808417, 'e3': 5.238635451196005, 'e4': 7.129891423967428, 'e5': 8.176849350487783},\n",
       " {'e1': 8.890738731729108, 'e2': 7.209165546524799, 'e3': 8.866947476734495, 'e4': 8.088565888211509, 'e5': 6.873591526792327},\n",
       " {'e1': 6.567647480574546, 'e2': 6.616705567728929, 'e3': 7.551554858692294, 'e4': 7.890685211672354, 'e5': 7.487520227184875},\n",
       " {'e1': 4.959117271137625, 'e2': 5.871608108617654, 'e3': 6.741976917995842, 'e4': 9.281960628732872, 'e5': 7.247415450337674},\n",
       " {'e1': 7.022500499876825, 'e2': 7.861292184861539, 'e3': 4.746810777309744, 'e4': 7.194871571741686, 'e5': 5.532544655860526},\n",
       " {'e1': 7.984333227723025, 'e2': 6.472574873226183, 'e3': 6.551290464645117, 'e4': 6.315401366189583, 'e5': 7.546283529171697},\n",
       " {'e1': 6.8835156884536755, 'e2': 7.256025782355306, 'e3': 5.525431243788625, 'e4': 6.630976180935448, 'e5': 6.175924587523742},\n",
       " {'e1': 5.056033394998271, 'e2': 5.177981482775993, 'e3': 5.396735758680307, 'e4': 6.60894374086887, 'e5': 8.767965162481564},\n",
       " {'e1': 7.169990331957262, 'e2': 7.646666935344401, 'e3': 6.964816521813997, 'e4': 6.886311652700956, 'e5': 5.966885243882649},\n",
       " {'e1': 8.925536024103478, 'e2': 7.711243856339362, 'e3': 6.909757194471931, 'e4': 7.254439770778941, 'e5': 7.137627155103769},\n",
       " {'e1': 6.037336799263428, 'e2': 6.340504153023932, 'e3': 10.385958646022553, 'e4': 7.393564316923692, 'e5': 5.994966512613936},\n",
       " {'e1': 6.455210586122418, 'e2': 5.728750111601939, 'e3': 7.3431585341996, 'e4': 7.641913498927486, 'e5': 9.27740832166328},\n",
       " {'e1': 8.629429763934914, 'e2': 7.255218592100626, 'e3': 7.324646513338059, 'e4': 6.847047224763474, 'e5': 8.29181313174067},\n",
       " {'e1': 7.374982995730474, 'e2': 5.249214669603053, 'e3': 7.636451739491564, 'e4': 6.829427739303975, 'e5': 7.686666931772039},\n",
       " {'e1': 6.2741226555779, 'e2': 7.400719260036548, 'e3': 6.619656807022985, 'e4': 7.444640539601191, 'e5': 6.602377178932669},\n",
       " {'e1': 6.8056851888318795, 'e2': 6.042569329275684, 'e3': 5.736594659542168, 'e4': 7.80315225139754, 'e5': 8.360924556888293},\n",
       " {'e1': 8.078945510576958, 'e2': 8.76364003484883, 'e3': 8.972260562553464, 'e4': 5.375052203842045, 'e5': 7.623167209156339},\n",
       " {'e1': 9.545566646660323, 'e2': 7.218102408608914, 'e3': 7.644989167631946, 'e4': 6.741258878937447, 'e5': 7.448145388267072},\n",
       " {'e1': 5.052136871720032, 'e2': 7.013046131382071, 'e3': 7.5993002424742855, 'e4': 6.9941835615009476, 'e5': 4.722473167503418},\n",
       " {'e1': 7.100125548842184, 'e2': 5.739613573613533, 'e3': 5.757899546022206, 'e4': 6.7533817102098475, 'e5': 6.3711909669019295},\n",
       " {'e1': 6.160243697228343, 'e2': 6.91301045690976, 'e3': 7.366987507353094, 'e4': 5.1373718220028834, 'e5': 7.373062597523081},\n",
       " {'e1': 7.7230758109346045, 'e2': 6.9947470428645735, 'e3': 8.206546048910818, 'e4': 5.7802515069561275, 'e5': 6.646876741349137},\n",
       " {'e1': 7.488502788654458, 'e2': 7.38787601152879, 'e3': 6.562692249560258, 'e4': 3.458513078806853, 'e5': 4.667144541786721},\n",
       " {'e1': 7.536998336419583, 'e2': 7.86224432792955, 'e3': 7.340806015767327, 'e4': 5.734886672975791, 'e5': 6.785431407031561},\n",
       " {'e1': 6.362781922695412, 'e2': 8.4452203033894, 'e3': 6.344841859635736, 'e4': 6.45254274594086, 'e5': 7.06526913277968},\n",
       " {'e1': 7.001425953226933, 'e2': 4.67317671298966, 'e3': 5.973374366057297, 'e4': 5.00774471910537, 'e5': 9.325848244247702},\n",
       " {'e1': 7.969000699533079, 'e2': 5.672355421647517, 'e3': 8.01341224553213, 'e4': 8.517328706602305, 'e5': 7.3396151836530645},\n",
       " {'e1': 5.951001873863862, 'e2': 5.3964423875908665, 'e3': 5.436443300099589, 'e4': 6.6601721836935734, 'e5': 7.2253051433279385},\n",
       " {'e1': 6.935362967374344, 'e2': 7.605108194627169, 'e3': 7.811871826220407, 'e4': 7.106380227015558, 'e5': 6.626457512909758},\n",
       " {'e1': 6.571970998349436, 'e2': 6.9714344381843825, 'e3': 6.734179334364976, 'e4': 8.017260816513039, 'e5': 7.717816245077349},\n",
       " {'e1': 7.712180137735427, 'e2': 8.044372035428003, 'e3': 6.61967482351827, 'e4': 7.997057399128636, 'e5': 7.296673694211896},\n",
       " {'e1': 7.712771795853499, 'e2': 7.249507597680618, 'e3': 8.238235216341357, 'e4': 7.145358411191209, 'e5': 7.1906520436176375},\n",
       " {'e1': 9.28803684671129, 'e2': 6.413079009379645, 'e3': 6.291144875646221, 'e4': 7.422240570478132, 'e5': 5.923750225954859},\n",
       " {'e1': 4.859404851109218, 'e2': 8.05485783931394, 'e3': 8.151294005031602, 'e4': 6.375937741179438, 'e5': 5.213572165450008},\n",
       " {'e1': 5.247530803082762, 'e2': 6.895314977640409, 'e3': 7.6988176282625185, 'e4': 7.315036999805143, 'e5': 6.421299101714945},\n",
       " {'e1': 7.903302644198675, 'e2': 6.076741539398674, 'e3': 6.803654137881048, 'e4': 7.189690261244523, 'e5': 8.07995288042361},\n",
       " {'e1': 7.22263482101152, 'e2': 8.620901363726254, 'e3': 6.797364389469743, 'e4': 5.564642924085314, 'e5': 9.00847480707093},\n",
       " {'e1': 8.797560546371878, 'e2': 8.277830394139398, 'e3': 6.861583700866485, 'e4': 6.114994058446527, 'e5': 7.576995459552371},\n",
       " {'e1': 6.945260731481204, 'e2': 6.009598263671569, 'e3': 8.486706087529907, 'e4': 8.228858935934722, 'e5': 5.539323562840113},\n",
       " {'e1': 7.900387609261391, 'e2': 8.751754350554807, 'e3': 10.067547658413387, 'e4': 6.726417761932016, 'e5': 6.289612844637755},\n",
       " {'e1': 7.042833248908871, 'e2': 7.770557888479077, 'e3': 8.1505695859622, 'e4': 7.148928062593496, 'e5': 6.715520095186098},\n",
       " {'e1': 7.120447662980408, 'e2': 5.119433193590778, 'e3': 7.291801558877639, 'e4': 8.254464371218848, 'e5': 6.472863534412123},\n",
       " {'e1': 8.971287849807716, 'e2': 8.583283334331515, 'e3': 5.651132312152431, 'e4': 7.384046516606066, 'e5': 6.200247237234877},\n",
       " {'e1': 8.14554435278223, 'e2': 8.306868620590542, 'e3': 4.663328899817249, 'e4': 6.657884955694825, 'e5': 8.071594232017372},\n",
       " {'e1': 7.394607798680329, 'e2': 6.24469569154967, 'e3': 7.531863760649688, 'e4': 6.666624848243578, 'e5': 5.861310911965311},\n",
       " {'e1': 8.001801279964592, 'e2': 6.945411553620651, 'e3': 7.8859062332408945, 'e4': 6.021774146744386, 'e5': 5.514805047004917},\n",
       " {'e1': 7.988389433258814, 'e2': 5.6120439075943995, 'e3': 8.057577516801064, 'e4': 6.0496691315355084, 'e5': 7.12373948034235},\n",
       " {'e1': 7.55747685420574, 'e2': 6.395344219584023, 'e3': 6.624029525438691, 'e4': 7.785936720815337, 'e5': 5.988732201951685},\n",
       " {'e1': 7.684651331286976, 'e2': 5.844518048032513, 'e3': 6.8320515820091785, 'e4': 5.984550234502432, 'e5': 7.4960429657504},\n",
       " {'e1': 7.315937038414376, 'e2': 9.194385038041034, 'e3': 8.147036609664722, 'e4': 7.806760721322341, 'e5': 7.958350523938176},\n",
       " {'e1': 7.051189232458548, 'e2': 5.640344853993074, 'e3': 6.839559057866062, 'e4': 8.314492031293272, 'e5': 6.129597898888251},\n",
       " {'e1': 4.893440330696405, 'e2': 5.541450134730594, 'e3': 6.52976174537682, 'e4': 8.683169245140588, 'e5': 7.953826667525341},\n",
       " {'e1': 6.4561004506621655, 'e2': 7.18975975071766, 'e3': 7.902250577613266, 'e4': 7.205620652161545, 'e5': 7.00373788541247},\n",
       " {'e1': 5.803381302304721, 'e2': 6.5467183571279, 'e3': 5.336461495764705, 'e4': 7.575686053778843, 'e5': 8.49322805622537},\n",
       " {'e1': 7.485597553359771, 'e2': 5.857769038933176, 'e3': 5.514749211300766, 'e4': 8.733004249101745, 'e5': 8.841077561770874},\n",
       " {'e1': 6.2843975532155545, 'e2': 7.888460974826752, 'e3': 7.152198629031229, 'e4': 6.941431077501669, 'e5': 5.397272615259652},\n",
       " {'e1': 7.316857889852164, 'e2': 5.7540701029540084, 'e3': 5.708770918343712, 'e4': 7.170927971483158, 'e5': 7.565726841211056},\n",
       " {'e1': 6.724824676139653, 'e2': 8.041337492127912, 'e3': 6.8060856921105035, 'e4': 8.01222295523228, 'e5': 7.273896962447138},\n",
       " {'e1': 6.1567645597354534, 'e2': 6.688670269522495, 'e3': 5.033577076716416, 'e4': 6.9745882302356055, 'e5': 6.405008811506361},\n",
       " {'e1': 5.967762486989804, 'e2': 4.773273685596764, 'e3': 8.608184913281589, 'e4': 4.8635329489118755, 'e5': 8.338340138246776},\n",
       " {'e1': 7.619826352309754, 'e2': 8.97417233067444, 'e3': 6.986712841290788, 'e4': 6.421267672983349, 'e5': 8.203112356571172},\n",
       " {'e1': 5.44011372211612, 'e2': 7.91855053843056, 'e3': 5.2950268508775515, 'e4': 6.612557881672278, 'e5': 6.339156861288217},\n",
       " {'e1': 7.1500597528712015, 'e2': 9.203692086163146, 'e3': 8.176418679838264, 'e4': 5.490354974122858, 'e5': 8.081857552983541},\n",
       " {'e1': 7.342650663486277, 'e2': 6.702023010743754, 'e3': 7.440720976905696, 'e4': 6.7959579706190745, 'e5': 6.372365690395029},\n",
       " {'e1': 7.972277224482691, 'e2': 6.772761891869336, 'e3': 5.760376684892656, 'e4': 7.315615506493733, 'e5': 8.110784720980881},\n",
       " {'e1': 7.973348456799713, 'e2': 7.749979422878166, 'e3': 6.515361662451722, 'e4': 6.677824193991954, 'e5': 6.510046080721625},\n",
       " {'e1': 5.683853082687995, 'e2': 8.332124618748361, 'e3': 6.6044496119405816, 'e4': 8.029653306757195, 'e5': 7.515958023623499},\n",
       " {'e1': 7.826747897155047, 'e2': 6.892639844024235, 'e3': 7.2094297902527025, 'e4': 7.319814119805614, 'e5': 6.315333694778872},\n",
       " {'e1': 7.320587064714026, 'e2': 6.293457392016187, 'e3': 6.1450919547849585, 'e4': 6.885594110370286, 'e5': 5.69710055672703},\n",
       " {'e1': 10.03681736793328, 'e2': 5.384320582274189, 'e3': 8.445747536917832, 'e4': 5.807483649802497, 'e5': 6.741786444772109},\n",
       " {'e1': 6.272502087860908, 'e2': 6.0432685141858355, 'e3': 6.209520124385641, 'e4': 6.073074358912095, 'e5': 7.512082702182684},\n",
       " {'e1': 7.726714245250832, 'e2': 9.461225896099396, 'e3': 6.873685511718464, 'e4': 9.161226670483483, 'e5': 5.342231623085648},\n",
       " {'e1': 6.796913022501499, 'e2': 6.459922635623558, 'e3': 6.677141264670176, 'e4': 6.735663318521226, 'e5': 6.472589475177477},\n",
       " {'e1': 7.587067605476992, 'e2': 6.752297170425557, 'e3': 7.701876575193071, 'e4': 6.630890124056783, 'e5': 7.273633775206406},\n",
       " {'e1': 6.029883170374918, 'e2': 6.657591944302705, 'e3': 5.522041744157972, 'e4': 5.143219713146879, 'e5': 6.77245897220977},\n",
       " {'e1': 8.228216536965292, 'e2': 6.959450249283332, 'e3': 6.124895176270258, 'e4': 7.521845977309661, 'e5': 8.717924952833897},\n",
       " {'e1': 6.95712418674928, 'e2': 7.817362078117553, 'e3': 6.7125414603099, 'e4': 5.823085086494624, 'e5': 6.580223906927217},\n",
       " {'e1': 7.16480276940958, 'e2': 6.5243486811417855, 'e3': 5.170538957937201, 'e4': 5.317253511448297, 'e5': 8.170335982860616},\n",
       " {'e1': 7.48387845417393, 'e2': 6.817809205375165, 'e3': 5.967790077473836, 'e4': 7.301907959488018, 'e5': 7.4933568862255},\n",
       " {'e1': 8.437987151124599, 'e2': 5.551242996938692, 'e3': 5.882830654412594, 'e4': 6.5423140920855, 'e5': 5.740618780077714},\n",
       " {'e1': 6.38733951802467, 'e2': 6.6413164647476, 'e3': 7.040871584686116, 'e4': 6.05242586321588, 'e5': 7.245201315025085},\n",
       " {'e1': 8.261410883596724, 'e2': 7.945369760011892, 'e3': 8.531882488451867, 'e4': 7.673443089286908, 'e5': 5.979000345692668},\n",
       " {'e1': 5.755422426588709, 'e2': 6.529409439363509, 'e3': 6.788301326388783, 'e4': 5.873423627727302, 'e5': 6.443433091512299},\n",
       " {'e1': 8.414162231642518, 'e2': 7.5219420246414606, 'e3': 5.191279776552982, 'e4': 4.597602162854837, 'e5': 7.312743893080251},\n",
       " {'e1': 8.408425434496923, 'e2': 7.882264967024769, 'e3': 6.62080565239185, 'e4': 7.011198999836834, 'e5': 6.171846879422347},\n",
       " {'e1': 8.051121415697283, 'e2': 7.04751092858424, 'e3': 6.949061781618344, 'e4': 9.03648761707824, 'e5': 6.311817422616568},\n",
       " {'e1': 5.437212723793315, 'e2': 7.218633023279868, 'e3': 6.429150010870919, 'e4': 8.313365252685943, 'e5': 7.42735560641938},\n",
       " {'e1': 4.978973602802846, 'e2': 8.729680602777618, 'e3': 7.014698840246573, 'e4': 5.631263785001672, 'e5': 6.551529211644463},\n",
       " {'e1': 4.614001695690333, 'e2': 7.598576901781018, 'e3': 8.435630342677916, 'e4': 4.942125300623016, 'e5': 8.500393708824157},\n",
       " {'e1': 9.008846956926265, 'e2': 6.7744887273496435, 'e3': 7.3074033175501665, 'e4': 6.230002743555453, 'e5': 7.235018746601744},\n",
       " {'e1': 4.968744428773166, 'e2': 8.055915159602764, 'e3': 6.557937787216043, 'e4': 8.541884701927856, 'e5': 9.748235344433134},\n",
       " {'e1': 7.738762103086043, 'e2': 8.226724081460949, 'e3': 5.836079610486904, 'e4': 5.9904205037810705, 'e5': 5.929300429189563},\n",
       " {'e1': 6.014437585179072, 'e2': 6.377362329936724, 'e3': 6.562587112580514, 'e4': 4.554175092702785, 'e5': 8.070738393873414},\n",
       " {'e1': 7.194425063754274, 'e2': 6.42967309468538, 'e3': 8.206047885196085, 'e4': 7.496237844896931, 'e5': 6.059420057015559},\n",
       " {'e1': 7.6331445427881235, 'e2': 8.212401359942907, 'e3': 7.099577812961127, 'e4': 6.72998000897935, 'e5': 7.660589360113946},\n",
       " {'e1': 8.653637389076653, 'e2': 5.385865648203994, 'e3': 6.321175689549325, 'e4': 7.785968680239655, 'e5': 5.954220843600799},\n",
       " {'e1': 6.1158071994543555, 'e2': 7.014647145517811, 'e3': 7.887402689450639, 'e4': 7.021877002108349, 'e5': 7.341651186504793},\n",
       " {'e1': 7.667406137730153, 'e2': 6.61558538545951, 'e3': 7.225169498660612, 'e4': 5.73631334290516, 'e5': 6.622224767771818},\n",
       " {'e1': 5.7160772825920505, 'e2': 6.594176858193046, 'e3': 6.618920824947709, 'e4': 7.260208077856857, 'e5': 5.465078348682677},\n",
       " {'e1': 6.834004783035823, 'e2': 7.887668498856607, 'e3': 6.116435448469968, 'e4': 6.362928840552537, 'e5': 6.757495158542087},\n",
       " {'e1': 5.475227355038021, 'e2': 8.319098420799445, 'e3': 7.646813445797846, 'e4': 7.628317489725844, 'e5': 8.096219708494312},\n",
       " {'e1': 6.795827593836034, 'e2': 7.107534465772074, 'e3': 8.178771906043888, 'e4': 6.757584968606624, 'e5': 8.610455615045572},\n",
       " {'e1': 8.036324788529367, 'e2': 7.320704141276232, 'e3': 5.386875331006035, 'e4': 7.330414898273903, 'e5': 7.136080686520815},\n",
       " {'e1': 6.898590556776171, 'e2': 6.110238039866501, 'e3': 7.299197683988191, 'e4': 6.568165948080672, 'e5': 8.071089243982021},\n",
       " {'e1': 6.124443179518753, 'e2': 8.452603044299655, 'e3': 7.674689714141588, 'e4': 7.922665467372971, 'e5': 5.966216572893859},\n",
       " {'e1': 8.821971104002444, 'e2': 7.574165901786233, 'e3': 6.5282853177596145, 'e4': 6.232840730534003, 'e5': 7.6519292746680545},\n",
       " {'e1': 8.317214004787639, 'e2': 8.270393279487674, 'e3': 7.287408683712154, 'e4': 5.807612932561498, 'e5': 8.470091001236824}]"
      ]
     },
     "execution_count": 58,
     "metadata": {},
     "output_type": "execute_result"
    }
   ],
   "source": [
    "%%kql -pw \n",
    "    let randn = () {rand() + rand() + rand() + rand() + rand() + rand() + rand() + rand() + rand() + rand() + rand() + rand() + rand() + rand()};\n",
    "range c from 1 to 1000 step 1 \n",
    "    | limit 1000\n",
    "    | extend e1 = randn()\n",
    "    | extend e2 = randn()\n",
    "    | extend e3 = randn()\n",
    "    | extend e4 = randn()\n",
    "    | extend e5 = randn()\n",
    "    | project e1,e2,e3,e4,e5\n",
    "    | render scatterchart title=\"Michael's chart\""
   ]
  },
  {
   "cell_type": "markdown",
   "metadata": {},
   "source": [
    "  - ### <span style=\"color:#82CAFA\">*Note: popup_window option (abbr: pw) cause the result to be displayed in a popup window*</span>"
   ]
  },
  {
   "cell_type": "markdown",
   "metadata": {},
   "source": [
    "## Empty table"
   ]
  },
  {
   "cell_type": "code",
   "execution_count": 59,
   "metadata": {},
   "outputs": [
    {
     "data": {
      "text/html": [
       "<html>\n",
       "        <head>\n",
       "        \n",
       "        </head>\n",
       "        <body>\n",
       "        <div><p style='padding: 10px; color: #3a87ad; background-color: #d9edf7; border-color: #bce9f1'>&nbsp*&nbspmyworkspace@loganalytics</p></div>\n",
       "        </body>\n",
       "        </html>"
      ],
      "text/plain": [
       "<IPython.core.display.HTML object>"
      ]
     },
     "metadata": {},
     "output_type": "display_data"
    },
    {
     "data": {
      "text/html": [
       "<html>\n",
       "        <head>\n",
       "        \n",
       "        </head>\n",
       "        <body>\n",
       "        <table>\n",
       "    <tr>\n",
       "        <th>ResourceGroup</th>\n",
       "        <th>count_</th>\n",
       "        <th>count2</th>\n",
       "    </tr>\n",
       "</table>\n",
       "        </body>\n",
       "        </html>"
      ],
      "text/plain": [
       "<IPython.core.display.HTML object>"
      ]
     },
     "metadata": {},
     "output_type": "display_data"
    },
    {
     "data": {
      "text/html": [
       "<html>\n",
       "        <head>\n",
       "        \n",
       "        </head>\n",
       "        <body>\n",
       "        <div><p style='padding: 10px; color: #3a87ad; background-color: #d9edf7; border-color: #bce9f1'>Done&nbsp(00:06.341):&nbsp0&nbsprecords</p></div>\n",
       "        </body>\n",
       "        </html>"
      ],
      "text/plain": [
       "<IPython.core.display.HTML object>"
      ]
     },
     "metadata": {},
     "output_type": "display_data"
    },
    {
     "data": {
      "text/html": [],
      "text/plain": [
       "[]"
      ]
     },
     "execution_count": 59,
     "metadata": {},
     "output_type": "execute_result"
    }
   ],
   "source": [
    "%%kql \n",
    "    Heartbeat \n",
    "    | where ResourceGroup != '' \n",
    "    | summarize count() by ResourceGroup \n",
    "    | sort by count_ | limit 10\n",
    "    | extend count2 = count_*count_ \n",
    "    | limit 0"
   ]
  },
  {
   "cell_type": "code",
   "execution_count": 60,
   "metadata": {},
   "outputs": [
    {
     "data": {
      "text/html": [
       "<html>\n",
       "        <head>\n",
       "        \n",
       "        </head>\n",
       "        <body>\n",
       "        <div><p style='padding: 10px; color: #3a87ad; background-color: #d9edf7; border-color: #bce9f1'>&nbsp*&nbspmyworkspace@loganalytics</p></div>\n",
       "        </body>\n",
       "        </html>"
      ],
      "text/plain": [
       "<IPython.core.display.HTML object>"
      ]
     },
     "metadata": {},
     "output_type": "display_data"
    },
    {
     "data": {
      "text/html": [
       "<html>\n",
       "        <head>\n",
       "        <style>#uuid-b39910c70c284341bcaed0b1fd5ff3f8 {\n",
       "                display: block; \n",
       "                font-style:italic;\n",
       "                font-size:300%;\n",
       "                text-align:center;\n",
       "            } </style>\n",
       "        </head>\n",
       "        <body>\n",
       "        <div id=\"uuid-b39910c70c284341bcaed0b1fd5ff3f8\"><br><br>EMPTY CHART (no data)<br><br>.</div>\n",
       "        </body>\n",
       "        </html>"
      ],
      "text/plain": [
       "<IPython.core.display.HTML object>"
      ]
     },
     "metadata": {},
     "output_type": "display_data"
    },
    {
     "data": {
      "text/html": [
       "<html>\n",
       "        <head>\n",
       "        \n",
       "        </head>\n",
       "        <body>\n",
       "        <div><p style='padding: 10px; color: #3a87ad; background-color: #d9edf7; border-color: #bce9f1'>Done&nbsp(00:02.497):&nbsp0&nbsprecords</p></div>\n",
       "        </body>\n",
       "        </html>"
      ],
      "text/plain": [
       "<IPython.core.display.HTML object>"
      ]
     },
     "metadata": {},
     "output_type": "display_data"
    },
    {
     "data": {
      "text/html": [],
      "text/plain": [
       "[]"
      ]
     },
     "execution_count": 60,
     "metadata": {},
     "output_type": "execute_result"
    }
   ],
   "source": [
    "%%kql \n",
    "    Heartbeat \n",
    "    | where ResourceGroup != '' \n",
    "    | summarize count() by ResourceGroup \n",
    "    | sort by count_ | limit 10\n",
    "    | extend count2 = count_*count_ \n",
    "    | limit 0\n",
    "    | render piechart title='my chart'"
   ]
  },
  {
   "cell_type": "code",
   "execution_count": 61,
   "metadata": {},
   "outputs": [
    {
     "data": {
      "text/plain": [
       "0"
      ]
     },
     "execution_count": 61,
     "metadata": {},
     "output_type": "execute_result"
    }
   ],
   "source": [
    "len(_kql_raw_result_)"
   ]
  },
  {
   "cell_type": "code",
   "execution_count": 62,
   "metadata": {},
   "outputs": [
    {
     "data": {
      "text/html": [
       "<!DOCTYPE html>\n",
       "            <html><body>\n",
       "\n",
       "            <button onclick=\"this.style.visibility='hidden';kql_MagicLaunchWindowFunction('Kqlmagic_temp_files/ef99249a2e054bdfbd9f0c58e1566dc6.html','fullscreen=no,directories=no,location=no,menubar=no,resizable=yes,scrollbars=yes,status=no,titlebar=no,toolbar=no,','ef99249a2e054bdfbd9f0c58e1566dc6','')\">popup piechart - my chart </button>\n",
       "\n",
       "            <script>\n",
       "\n",
       "            function kql_MagicLaunchWindowFunction(file_path, window_params, window_name, notebooks_host) {\n",
       "                var url;\n",
       "                if (file_path.startsWith('http')) {\n",
       "                    url = file_path;\n",
       "                } else {\n",
       "                    var base_url = '';\n",
       "\n",
       "                    // check if azure notebook\n",
       "                    var azure_host = (notebooks_host == null || notebooks_host.length == 0) ? 'https://notebooks.azure.com' : notebooks_host;\n",
       "                    var start = azure_host.search('//');\n",
       "                    var azure_host_suffix = '.' + azure_host.substring(start+2);\n",
       "\n",
       "                    var loc = String(window.location);\n",
       "                    var end = loc.search(azure_host_suffix);\n",
       "                    start = loc.search('//');\n",
       "                    if (start > 0 && end > 0) {\n",
       "                        var parts = loc.substring(start+2, end).split('-');\n",
       "                        if (parts.length == 2) {\n",
       "                            var library = parts[0];\n",
       "                            var user = parts[1];\n",
       "                            base_url = azure_host + '/api/user/' +user+ '/library/' +library+ '/html/';\n",
       "                        }\n",
       "                    }\n",
       "\n",
       "                    // check if local jupyter lab\n",
       "                    if (base_url.length == 0) {\n",
       "                        var configDataScipt  = document.getElementById('jupyter-config-data');\n",
       "                        if (configDataScipt != null) {\n",
       "                            var jupyterConfigData = JSON.parse(configDataScipt.textContent);\n",
       "                            if (jupyterConfigData['appName'] == 'JupyterLab' && jupyterConfigData['serverRoot'] != null &&  jupyterConfigData['treeUrl'] != null) {\n",
       "                                var basePath = 'c:/My Projects/jupyter-Kqlmagic-microsoft-vsc/notebooks' + '/';\n",
       "                                if (basePath.startsWith(jupyterConfigData['serverRoot'])) {\n",
       "                                    base_url = '/files/' + basePath.substring(jupyterConfigData['serverRoot'].length+1);\n",
       "                                }\n",
       "                            } \n",
       "                        }\n",
       "                    }\n",
       "\n",
       "                    // assume local jupyter notebook\n",
       "                    if (base_url.length == 0) {\n",
       "\n",
       "                        var parts = loc.split('/');\n",
       "                        parts.pop();\n",
       "                        base_url = parts.join('/') + '/';\n",
       "                    }\n",
       "                    url = base_url + file_path;\n",
       "                }\n",
       "\n",
       "                window.focus();\n",
       "                var w = screen.width / 2;\n",
       "                var h = screen.height / 2;\n",
       "                params = 'width='+w+',height='+h;\n",
       "                kql_Magic_ef99249a2e054bdfbd9f0c58e1566dc6 = window.open(url, window_name, window_params + params);\n",
       "            }\n",
       "            </script>\n",
       "\n",
       "            </body></html>"
      ],
      "text/plain": [
       "<IPython.core.display.HTML object>"
      ]
     },
     "metadata": {},
     "output_type": "display_data"
    }
   ],
   "source": [
    "_kql_raw_result_.popup()"
   ]
  },
  {
   "cell_type": "code",
   "execution_count": 63,
   "metadata": {},
   "outputs": [
    {
     "data": {
      "text/html": [
       "<html>\n",
       "        <head>\n",
       "        \n",
       "        </head>\n",
       "        <body>\n",
       "        <table>\n",
       "    <tr>\n",
       "        <th>ResourceGroup</th>\n",
       "        <th>count_</th>\n",
       "        <th>count2</th>\n",
       "    </tr>\n",
       "</table>\n",
       "        </body>\n",
       "        </html>"
      ],
      "text/plain": [
       "<IPython.core.display.HTML object>"
      ]
     },
     "metadata": {},
     "output_type": "display_data"
    }
   ],
   "source": [
    "_kql_raw_result_.show_table()"
   ]
  },
  {
   "cell_type": "code",
   "execution_count": 64,
   "metadata": {},
   "outputs": [
    {
     "data": {
      "text/html": [
       "<div>\n",
       "<style scoped>\n",
       "    .dataframe tbody tr th:only-of-type {\n",
       "        vertical-align: middle;\n",
       "    }\n",
       "\n",
       "    .dataframe tbody tr th {\n",
       "        vertical-align: top;\n",
       "    }\n",
       "\n",
       "    .dataframe thead th {\n",
       "        text-align: right;\n",
       "    }\n",
       "</style>\n",
       "<table border=\"1\" class=\"dataframe\">\n",
       "  <thead>\n",
       "    <tr style=\"text-align: right;\">\n",
       "      <th></th>\n",
       "      <th>ResourceGroup</th>\n",
       "      <th>count_</th>\n",
       "      <th>count2</th>\n",
       "    </tr>\n",
       "  </thead>\n",
       "  <tbody>\n",
       "  </tbody>\n",
       "</table>\n",
       "</div>"
      ],
      "text/plain": [
       "Empty DataFrame\n",
       "Columns: [ResourceGroup, count_, count2]\n",
       "Index: []"
      ]
     },
     "execution_count": 64,
     "metadata": {},
     "output_type": "execute_result"
    }
   ],
   "source": [
    "df = _kql_raw_result_.to_dataframe()\n",
    "df"
   ]
  },
  {
   "cell_type": "code",
   "execution_count": 65,
   "metadata": {},
   "outputs": [
    {
     "data": {
      "text/plain": [
       "'{\"ResourceGroup\":{},\"count_\":{},\"count2\":{}}'"
      ]
     },
     "execution_count": 65,
     "metadata": {},
     "output_type": "execute_result"
    }
   ],
   "source": [
    "df.to_json()"
   ]
  },
  {
   "cell_type": "code",
   "execution_count": 66,
   "metadata": {
    "scrolled": true
   },
   "outputs": [
    {
     "data": {
      "text/plain": [
       "{\n",
       "    \u001b[34;01m\"Tables\"\u001b[39;49;00m: [\n",
       "        {\n",
       "            \u001b[34;01m\"Columns\"\u001b[39;49;00m: [\n",
       "                {\n",
       "                    \u001b[34;01m\"ColumnName\"\u001b[39;49;00m: \u001b[33m\"ResourceGroup\"\u001b[39;49;00m,\n",
       "                    \u001b[34;01m\"ColumnType\"\u001b[39;49;00m: \u001b[33m\"string\"\u001b[39;49;00m,\n",
       "                    \u001b[34;01m\"DataType\"\u001b[39;49;00m: \u001b[33m\"String\"\u001b[39;49;00m\n",
       "                },\n",
       "                {\n",
       "                    \u001b[34;01m\"ColumnName\"\u001b[39;49;00m: \u001b[33m\"count_\"\u001b[39;49;00m,\n",
       "                    \u001b[34;01m\"ColumnType\"\u001b[39;49;00m: \u001b[33m\"long\"\u001b[39;49;00m,\n",
       "                    \u001b[34;01m\"DataType\"\u001b[39;49;00m: \u001b[33m\"Int64\"\u001b[39;49;00m\n",
       "                },\n",
       "                {\n",
       "                    \u001b[34;01m\"ColumnName\"\u001b[39;49;00m: \u001b[33m\"count2\"\u001b[39;49;00m,\n",
       "                    \u001b[34;01m\"ColumnType\"\u001b[39;49;00m: \u001b[33m\"long\"\u001b[39;49;00m,\n",
       "                    \u001b[34;01m\"DataType\"\u001b[39;49;00m: \u001b[33m\"Int64\"\u001b[39;49;00m\n",
       "                }\n",
       "            ],\n",
       "            \u001b[34;01m\"Rows\"\u001b[39;49;00m: [],\n",
       "            \u001b[34;01m\"TableName\"\u001b[39;49;00m: \u001b[33m\"Table_0\"\u001b[39;49;00m\n",
       "        },\n",
       "        {\n",
       "            \u001b[34;01m\"Columns\"\u001b[39;49;00m: [\n",
       "                {\n",
       "                    \u001b[34;01m\"ColumnName\"\u001b[39;49;00m: \u001b[33m\"Value\"\u001b[39;49;00m,\n",
       "                    \u001b[34;01m\"ColumnType\"\u001b[39;49;00m: \u001b[33m\"string\"\u001b[39;49;00m,\n",
       "                    \u001b[34;01m\"DataType\"\u001b[39;49;00m: \u001b[33m\"String\"\u001b[39;49;00m\n",
       "                }\n",
       "            ],\n",
       "            \u001b[34;01m\"Rows\"\u001b[39;49;00m: [\n",
       "                [\n",
       "                    \u001b[33m\"{\\\"Visualization\\\":\\\"piechart\\\",\\\"Title\\\":\\\"my chart\\\",\\\"XColumn\\\":null,\\\"Series\\\":null,\\\"YColumns\\\":null,\\\"XTitle\\\":null,\\\"YTitle\\\":null,\\\"XAxis\\\":null,\\\"YAxis\\\":null,\\\"Legend\\\":null,\\\"YSplit\\\":null,\\\"Accumulate\\\":false,\\\"IsQuerySorted\\\":true,\\\"Kind\\\":null}\"\u001b[39;49;00m\n",
       "                ]\n",
       "            ],\n",
       "            \u001b[34;01m\"TableName\"\u001b[39;49;00m: \u001b[33m\"Table_1\"\u001b[39;49;00m\n",
       "        },\n",
       "        {\n",
       "            \u001b[34;01m\"Columns\"\u001b[39;49;00m: [\n",
       "                {\n",
       "                    \u001b[34;01m\"ColumnName\"\u001b[39;49;00m: \u001b[33m\"Timestamp\"\u001b[39;49;00m,\n",
       "                    \u001b[34;01m\"ColumnType\"\u001b[39;49;00m: \u001b[33m\"datetime\"\u001b[39;49;00m,\n",
       "                    \u001b[34;01m\"DataType\"\u001b[39;49;00m: \u001b[33m\"DateTime\"\u001b[39;49;00m\n",
       "                },\n",
       "                {\n",
       "                    \u001b[34;01m\"ColumnName\"\u001b[39;49;00m: \u001b[33m\"Severity\"\u001b[39;49;00m,\n",
       "                    \u001b[34;01m\"ColumnType\"\u001b[39;49;00m: \u001b[33m\"int\"\u001b[39;49;00m,\n",
       "                    \u001b[34;01m\"DataType\"\u001b[39;49;00m: \u001b[33m\"Int32\"\u001b[39;49;00m\n",
       "                },\n",
       "                {\n",
       "                    \u001b[34;01m\"ColumnName\"\u001b[39;49;00m: \u001b[33m\"SeverityName\"\u001b[39;49;00m,\n",
       "                    \u001b[34;01m\"ColumnType\"\u001b[39;49;00m: \u001b[33m\"string\"\u001b[39;49;00m,\n",
       "                    \u001b[34;01m\"DataType\"\u001b[39;49;00m: \u001b[33m\"String\"\u001b[39;49;00m\n",
       "                },\n",
       "                {\n",
       "                    \u001b[34;01m\"ColumnName\"\u001b[39;49;00m: \u001b[33m\"StatusCode\"\u001b[39;49;00m,\n",
       "                    \u001b[34;01m\"ColumnType\"\u001b[39;49;00m: \u001b[33m\"int\"\u001b[39;49;00m,\n",
       "                    \u001b[34;01m\"DataType\"\u001b[39;49;00m: \u001b[33m\"Int32\"\u001b[39;49;00m\n",
       "                },\n",
       "                {\n",
       "                    \u001b[34;01m\"ColumnName\"\u001b[39;49;00m: \u001b[33m\"StatusDescription\"\u001b[39;49;00m,\n",
       "                    \u001b[34;01m\"ColumnType\"\u001b[39;49;00m: \u001b[33m\"string\"\u001b[39;49;00m,\n",
       "                    \u001b[34;01m\"DataType\"\u001b[39;49;00m: \u001b[33m\"String\"\u001b[39;49;00m\n",
       "                },\n",
       "                {\n",
       "                    \u001b[34;01m\"ColumnName\"\u001b[39;49;00m: \u001b[33m\"Count\"\u001b[39;49;00m,\n",
       "                    \u001b[34;01m\"ColumnType\"\u001b[39;49;00m: \u001b[33m\"int\"\u001b[39;49;00m,\n",
       "                    \u001b[34;01m\"DataType\"\u001b[39;49;00m: \u001b[33m\"Int32\"\u001b[39;49;00m\n",
       "                },\n",
       "                {\n",
       "                    \u001b[34;01m\"ColumnName\"\u001b[39;49;00m: \u001b[33m\"RequestId\"\u001b[39;49;00m,\n",
       "                    \u001b[34;01m\"ColumnType\"\u001b[39;49;00m: \u001b[33m\"guid\"\u001b[39;49;00m,\n",
       "                    \u001b[34;01m\"DataType\"\u001b[39;49;00m: \u001b[33m\"Guid\"\u001b[39;49;00m\n",
       "                },\n",
       "                {\n",
       "                    \u001b[34;01m\"ColumnName\"\u001b[39;49;00m: \u001b[33m\"ActivityId\"\u001b[39;49;00m,\n",
       "                    \u001b[34;01m\"ColumnType\"\u001b[39;49;00m: \u001b[33m\"guid\"\u001b[39;49;00m,\n",
       "                    \u001b[34;01m\"DataType\"\u001b[39;49;00m: \u001b[33m\"Guid\"\u001b[39;49;00m\n",
       "                },\n",
       "                {\n",
       "                    \u001b[34;01m\"ColumnName\"\u001b[39;49;00m: \u001b[33m\"SubActivityId\"\u001b[39;49;00m,\n",
       "                    \u001b[34;01m\"ColumnType\"\u001b[39;49;00m: \u001b[33m\"guid\"\u001b[39;49;00m,\n",
       "                    \u001b[34;01m\"DataType\"\u001b[39;49;00m: \u001b[33m\"Guid\"\u001b[39;49;00m\n",
       "                },\n",
       "                {\n",
       "                    \u001b[34;01m\"ColumnName\"\u001b[39;49;00m: \u001b[33m\"ClientActivityId\"\u001b[39;49;00m,\n",
       "                    \u001b[34;01m\"ColumnType\"\u001b[39;49;00m: \u001b[33m\"string\"\u001b[39;49;00m,\n",
       "                    \u001b[34;01m\"DataType\"\u001b[39;49;00m: \u001b[33m\"String\"\u001b[39;49;00m\n",
       "                }\n",
       "            ],\n",
       "            \u001b[34;01m\"Rows\"\u001b[39;49;00m: [\n",
       "                [\n",
       "                    \u001b[33m\"2018-10-21T17:07:59.6922734Z\"\u001b[39;49;00m,\n",
       "                    \u001b[34m4\u001b[39;49;00m,\n",
       "                    \u001b[33m\"Info\"\u001b[39;49;00m,\n",
       "                    \u001b[34m0\u001b[39;49;00m,\n",
       "                    \u001b[33m\"Query completed successfully\"\u001b[39;49;00m,\n",
       "                    \u001b[34m1\u001b[39;49;00m,\n",
       "                    \u001b[33m\"29bf6149-8b4a-4f27-a7f7-87d204137b5e\"\u001b[39;49;00m,\n",
       "                    \u001b[33m\"29bf6149-8b4a-4f27-a7f7-87d204137b5e\"\u001b[39;49;00m,\n",
       "                    \u001b[33m\"867e6503-e959-41ff-800f-3988104893fd\"\u001b[39;49;00m,\n",
       "                    \u001b[33m\"5fdf476e-1bc7-4f29-a057-e86ae8e0b8d3\"\u001b[39;49;00m\n",
       "                ],\n",
       "                [\n",
       "                    \u001b[33m\"2018-10-21T17:07:59.6922734Z\"\u001b[39;49;00m,\n",
       "                    \u001b[34m6\u001b[39;49;00m,\n",
       "                    \u001b[33m\"Stats\"\u001b[39;49;00m,\n",
       "                    \u001b[34m0\u001b[39;49;00m,\n",
       "                    \u001b[33m\"{\\\"ExecutionTime\\\":0.0,\\\"resource_usage\\\":{\\\"cache\\\":{\\\"memory\\\":{\\\"hits\\\":0,\\\"misses\\\":0,\\\"total\\\":0},\\\"disk\\\":{\\\"hits\\\":0,\\\"misses\\\":0,\\\"total\\\":0}},\\\"cpu\\\":{\\\"user\\\":\\\"00:00:00\\\",\\\"kernel\\\":\\\"00:00:00\\\",\\\"total cpu\\\":\\\"00:00:00\\\"},\\\"memory\\\":{\\\"peak_per_node\\\":16777312}},\\\"input_dataset_statistics\\\":{\\\"extents\\\":{\\\"total\\\":0,\\\"scanned\\\":0},\\\"rows\\\":{\\\"total\\\":0,\\\"scanned\\\":0},\\\"rowstores\\\":{\\\"scanned_rows\\\":0}},\\\"dataset_statistics\\\":[{\\\"table_row_count\\\":0,\\\"table_size\\\":0}]}\"\u001b[39;49;00m,\n",
       "                    \u001b[34m1\u001b[39;49;00m,\n",
       "                    \u001b[33m\"29bf6149-8b4a-4f27-a7f7-87d204137b5e\"\u001b[39;49;00m,\n",
       "                    \u001b[33m\"29bf6149-8b4a-4f27-a7f7-87d204137b5e\"\u001b[39;49;00m,\n",
       "                    \u001b[33m\"867e6503-e959-41ff-800f-3988104893fd\"\u001b[39;49;00m,\n",
       "                    \u001b[33m\"5fdf476e-1bc7-4f29-a057-e86ae8e0b8d3\"\u001b[39;49;00m\n",
       "                ]\n",
       "            ],\n",
       "            \u001b[34;01m\"TableName\"\u001b[39;49;00m: \u001b[33m\"Table_2\"\u001b[39;49;00m\n",
       "        },\n",
       "        {\n",
       "            \u001b[34;01m\"Columns\"\u001b[39;49;00m: [\n",
       "                {\n",
       "                    \u001b[34;01m\"ColumnName\"\u001b[39;49;00m: \u001b[33m\"Ordinal\"\u001b[39;49;00m,\n",
       "                    \u001b[34;01m\"ColumnType\"\u001b[39;49;00m: \u001b[33m\"long\"\u001b[39;49;00m,\n",
       "                    \u001b[34;01m\"DataType\"\u001b[39;49;00m: \u001b[33m\"Int64\"\u001b[39;49;00m\n",
       "                },\n",
       "                {\n",
       "                    \u001b[34;01m\"ColumnName\"\u001b[39;49;00m: \u001b[33m\"Kind\"\u001b[39;49;00m,\n",
       "                    \u001b[34;01m\"ColumnType\"\u001b[39;49;00m: \u001b[33m\"string\"\u001b[39;49;00m,\n",
       "                    \u001b[34;01m\"DataType\"\u001b[39;49;00m: \u001b[33m\"String\"\u001b[39;49;00m\n",
       "                },\n",
       "                {\n",
       "                    \u001b[34;01m\"ColumnName\"\u001b[39;49;00m: \u001b[33m\"Name\"\u001b[39;49;00m,\n",
       "                    \u001b[34;01m\"ColumnType\"\u001b[39;49;00m: \u001b[33m\"string\"\u001b[39;49;00m,\n",
       "                    \u001b[34;01m\"DataType\"\u001b[39;49;00m: \u001b[33m\"String\"\u001b[39;49;00m\n",
       "                },\n",
       "                {\n",
       "                    \u001b[34;01m\"ColumnName\"\u001b[39;49;00m: \u001b[33m\"Id\"\u001b[39;49;00m,\n",
       "                    \u001b[34;01m\"ColumnType\"\u001b[39;49;00m: \u001b[33m\"string\"\u001b[39;49;00m,\n",
       "                    \u001b[34;01m\"DataType\"\u001b[39;49;00m: \u001b[33m\"String\"\u001b[39;49;00m\n",
       "                },\n",
       "                {\n",
       "                    \u001b[34;01m\"ColumnName\"\u001b[39;49;00m: \u001b[33m\"PrettyName\"\u001b[39;49;00m,\n",
       "                    \u001b[34;01m\"ColumnType\"\u001b[39;49;00m: \u001b[33m\"string\"\u001b[39;49;00m,\n",
       "                    \u001b[34;01m\"DataType\"\u001b[39;49;00m: \u001b[33m\"String\"\u001b[39;49;00m\n",
       "                }\n",
       "            ],\n",
       "            \u001b[34;01m\"Rows\"\u001b[39;49;00m: [\n",
       "                [\n",
       "                    \u001b[34m0\u001b[39;49;00m,\n",
       "                    \u001b[33m\"QueryResult\"\u001b[39;49;00m,\n",
       "                    \u001b[33m\"PrimaryResult\"\u001b[39;49;00m,\n",
       "                    \u001b[33m\"6119d596-2b78-467e-8585-a1795e9e6109\"\u001b[39;49;00m,\n",
       "                    \u001b[33m\"\"\u001b[39;49;00m\n",
       "                ],\n",
       "                [\n",
       "                    \u001b[34m1\u001b[39;49;00m,\n",
       "                    \u001b[33m\"QueryProperties\"\u001b[39;49;00m,\n",
       "                    \u001b[33m\"@ExtendedProperties\"\u001b[39;49;00m,\n",
       "                    \u001b[33m\"9c79b35e-7c50-41de-8c8e-11607fb1a12f\"\u001b[39;49;00m,\n",
       "                    \u001b[33m\"\"\u001b[39;49;00m\n",
       "                ],\n",
       "                [\n",
       "                    \u001b[34m2\u001b[39;49;00m,\n",
       "                    \u001b[33m\"QueryStatus\"\u001b[39;49;00m,\n",
       "                    \u001b[33m\"QueryStatus\"\u001b[39;49;00m,\n",
       "                    \u001b[33m\"00000000-0000-0000-0000-000000000000\"\u001b[39;49;00m,\n",
       "                    \u001b[33m\"\"\u001b[39;49;00m\n",
       "                ]\n",
       "            ],\n",
       "            \u001b[34;01m\"TableName\"\u001b[39;49;00m: \u001b[33m\"Table_3\"\u001b[39;49;00m\n",
       "        }\n",
       "    ]\n",
       "}"
      ]
     },
     "execution_count": 66,
     "metadata": {},
     "output_type": "execute_result"
    }
   ],
   "source": [
    "_kql_raw_result_.raw_json"
   ]
  },
  {
   "cell_type": "markdown",
   "metadata": {},
   "source": [
    "## Kql request with fork - return multiple tables"
   ]
  },
  {
   "cell_type": "code",
   "execution_count": 67,
   "metadata": {},
   "outputs": [
    {
     "data": {
      "text/html": [
       "<html>\n",
       "        <head>\n",
       "        \n",
       "        </head>\n",
       "        <body>\n",
       "        <div><p style='padding: 10px; color: #3a87ad; background-color: #d9edf7; border-color: #bce9f1'>&nbsp*&nbspmyworkspace@loganalytics</p></div>\n",
       "        </body>\n",
       "        </html>"
      ],
      "text/plain": [
       "<IPython.core.display.HTML object>"
      ]
     },
     "metadata": {},
     "output_type": "display_data"
    },
    {
     "data": {
      "text/html": [
       "<html>\n",
       "        <head>\n",
       "        \n",
       "        </head>\n",
       "        <body>\n",
       "        <table>\n",
       "    <tr>\n",
       "        <th>ResourceGroup</th>\n",
       "        <th>count_</th>\n",
       "        <th>count2</th>\n",
       "    </tr>\n",
       "    <tr>\n",
       "        <td>contosoazurehq</td>\n",
       "        <td>2476785</td>\n",
       "        <td>6134463936225</td>\n",
       "    </tr>\n",
       "    <tr>\n",
       "        <td>contosoonpremhq</td>\n",
       "        <td>950419</td>\n",
       "        <td>903296275561</td>\n",
       "    </tr>\n",
       "    <tr>\n",
       "        <td>contosoautomation</td>\n",
       "        <td>567402</td>\n",
       "        <td>321945029604</td>\n",
       "    </tr>\n",
       "    <tr>\n",
       "        <td>aztest</td>\n",
       "        <td>339832</td>\n",
       "        <td>115485788224</td>\n",
       "    </tr>\n",
       "    <tr>\n",
       "        <td>ContosoRetailDev1</td>\n",
       "        <td>268794</td>\n",
       "        <td>72250214436</td>\n",
       "    </tr>\n",
       "    <tr>\n",
       "        <td>contosoretail100</td>\n",
       "        <td>266503</td>\n",
       "        <td>71023849009</td>\n",
       "    </tr>\n",
       "    <tr>\n",
       "        <td>contosovma6ab</td>\n",
       "        <td>250005</td>\n",
       "        <td>62502500025</td>\n",
       "    </tr>\n",
       "    <tr>\n",
       "        <td>contoso</td>\n",
       "        <td>242173</td>\n",
       "        <td>58647761929</td>\n",
       "    </tr>\n",
       "    <tr>\n",
       "        <td>contosoiis</td>\n",
       "        <td>233345</td>\n",
       "        <td>54449889025</td>\n",
       "    </tr>\n",
       "    <tr>\n",
       "        <td>contosoa2ademo2</td>\n",
       "        <td>231644</td>\n",
       "        <td>53658942736</td>\n",
       "    </tr>\n",
       "</table>\n",
       "        </body>\n",
       "        </html>"
      ],
      "text/plain": [
       "<IPython.core.display.HTML object>"
      ]
     },
     "metadata": {},
     "output_type": "display_data"
    },
    {
     "data": {
      "text/html": [
       "<html>\n",
       "        <head>\n",
       "        \n",
       "        </head>\n",
       "        <body>\n",
       "        <div><p style='padding: 10px; color: #3a87ad; background-color: #d9edf7; border-color: #bce9f1'>Done&nbsp(00:04.577):&nbsp10&nbsprecords</p></div>\n",
       "        </body>\n",
       "        </html>"
      ],
      "text/plain": [
       "<IPython.core.display.HTML object>"
      ]
     },
     "metadata": {},
     "output_type": "display_data"
    },
    {
     "data": {
      "text/html": [],
      "text/plain": [
       "[{'ResourceGroup': 'contosoazurehq', 'count_': 2476785, 'count2': 6134463936225},\n",
       " {'ResourceGroup': 'contosoonpremhq', 'count_': 950419, 'count2': 903296275561},\n",
       " {'ResourceGroup': 'contosoautomation', 'count_': 567402, 'count2': 321945029604},\n",
       " {'ResourceGroup': 'aztest', 'count_': 339832, 'count2': 115485788224},\n",
       " {'ResourceGroup': 'ContosoRetailDev1', 'count_': 268794, 'count2': 72250214436},\n",
       " {'ResourceGroup': 'contosoretail100', 'count_': 266503, 'count2': 71023849009},\n",
       " {'ResourceGroup': 'contosovma6ab', 'count_': 250005, 'count2': 62502500025},\n",
       " {'ResourceGroup': 'contoso', 'count_': 242173, 'count2': 58647761929},\n",
       " {'ResourceGroup': 'contosoiis', 'count_': 233345, 'count2': 54449889025},\n",
       " {'ResourceGroup': 'contosoa2ademo2', 'count_': 231644, 'count2': 53658942736}]"
      ]
     },
     "execution_count": 67,
     "metadata": {},
     "output_type": "execute_result"
    }
   ],
   "source": [
    "%%kql \n",
    "    Heartbeat \n",
    "    | where ResourceGroup != '' \n",
    "    | summarize count() by ResourceGroup \n",
    "    | sort by count_ | limit 10\n",
    "    | extend count2 = count_*count_ \n",
    "    | fork (limit 10) (project ResourceGroup \n",
    "                       | limit 5)"
   ]
  },
  {
   "cell_type": "code",
   "execution_count": 68,
   "metadata": {},
   "outputs": [
    {
     "data": {
      "text/html": [
       "<html>\n",
       "        <head>\n",
       "        \n",
       "        </head>\n",
       "        <body>\n",
       "        <div><p style='padding: 10px; color: #3a87ad; background-color: #d9edf7; border-color: #bce9f1'>&nbsp*&nbspmyworkspace@loganalytics</p></div>\n",
       "        </body>\n",
       "        </html>"
      ],
      "text/plain": [
       "<IPython.core.display.HTML object>"
      ]
     },
     "metadata": {},
     "output_type": "display_data"
    },
    {
     "data": {
      "text/html": [
       "<html>\n",
       "        <head>\n",
       "        \n",
       "        </head>\n",
       "        <body>\n",
       "        <table>\n",
       "    <tr>\n",
       "        <th>ResourceGroup</th>\n",
       "    </tr>\n",
       "    <tr>\n",
       "        <td>contosoazurehq</td>\n",
       "    </tr>\n",
       "    <tr>\n",
       "        <td>contosoonpremhq</td>\n",
       "    </tr>\n",
       "    <tr>\n",
       "        <td>contosoautomation</td>\n",
       "    </tr>\n",
       "    <tr>\n",
       "        <td>aztest</td>\n",
       "    </tr>\n",
       "    <tr>\n",
       "        <td>ContosoRetailDev1</td>\n",
       "    </tr>\n",
       "</table>\n",
       "        </body>\n",
       "        </html>"
      ],
      "text/plain": [
       "<IPython.core.display.HTML object>"
      ]
     },
     "metadata": {},
     "output_type": "display_data"
    },
    {
     "data": {
      "text/html": [
       "<html>\n",
       "        <head>\n",
       "        \n",
       "        </head>\n",
       "        <body>\n",
       "        <div><p style='padding: 10px; color: #3a87ad; background-color: #d9edf7; border-color: #bce9f1'>Done&nbsp(00:04.577):&nbsp5&nbsprecords</p></div>\n",
       "        </body>\n",
       "        </html>"
      ],
      "text/plain": [
       "<IPython.core.display.HTML object>"
      ]
     },
     "metadata": {},
     "output_type": "display_data"
    },
    {
     "data": {
      "text/html": [],
      "text/plain": [
       "[{'ResourceGroup': 'contosoazurehq'},\n",
       " {'ResourceGroup': 'contosoonpremhq'},\n",
       " {'ResourceGroup': 'contosoautomation'},\n",
       " {'ResourceGroup': 'aztest'},\n",
       " {'ResourceGroup': 'ContosoRetailDev1'}]"
      ]
     },
     "execution_count": 68,
     "metadata": {},
     "output_type": "execute_result"
    }
   ],
   "source": [
    "_kql_raw_result_.fork_result(1)"
   ]
  },
  {
   "cell_type": "markdown",
   "metadata": {},
   "source": [
    "## Submit same query"
   ]
  },
  {
   "cell_type": "code",
   "execution_count": 69,
   "metadata": {
    "scrolled": false
   },
   "outputs": [
    {
     "data": {
      "text/html": [
       "<html>\n",
       "        <head>\n",
       "        \n",
       "        </head>\n",
       "        <body>\n",
       "        <div><p style='padding: 10px; color: #3a87ad; background-color: #d9edf7; border-color: #bce9f1'>&nbsp*&nbspmyworkspace@loganalytics</p></div>\n",
       "        </body>\n",
       "        </html>"
      ],
      "text/plain": [
       "<IPython.core.display.HTML object>"
      ]
     },
     "metadata": {},
     "output_type": "display_data"
    },
    {
     "data": {
      "text/html": [
       "<html>\n",
       "        <head>\n",
       "        \n",
       "        </head>\n",
       "        <body>\n",
       "        <table>\n",
       "    <tr>\n",
       "        <th>ResourceGroup</th>\n",
       "        <th>count_</th>\n",
       "        <th>count2</th>\n",
       "    </tr>\n",
       "    <tr>\n",
       "        <td>contosoazurehq</td>\n",
       "        <td>2476785</td>\n",
       "        <td>6134463936225</td>\n",
       "    </tr>\n",
       "    <tr>\n",
       "        <td>contosoonpremhq</td>\n",
       "        <td>950419</td>\n",
       "        <td>903296275561</td>\n",
       "    </tr>\n",
       "    <tr>\n",
       "        <td>contosoautomation</td>\n",
       "        <td>567402</td>\n",
       "        <td>321945029604</td>\n",
       "    </tr>\n",
       "    <tr>\n",
       "        <td>aztest</td>\n",
       "        <td>339832</td>\n",
       "        <td>115485788224</td>\n",
       "    </tr>\n",
       "    <tr>\n",
       "        <td>ContosoRetailDev1</td>\n",
       "        <td>268794</td>\n",
       "        <td>72250214436</td>\n",
       "    </tr>\n",
       "    <tr>\n",
       "        <td>contosoretail100</td>\n",
       "        <td>266503</td>\n",
       "        <td>71023849009</td>\n",
       "    </tr>\n",
       "    <tr>\n",
       "        <td>contosovma6ab</td>\n",
       "        <td>250005</td>\n",
       "        <td>62502500025</td>\n",
       "    </tr>\n",
       "    <tr>\n",
       "        <td>contoso</td>\n",
       "        <td>242173</td>\n",
       "        <td>58647761929</td>\n",
       "    </tr>\n",
       "    <tr>\n",
       "        <td>contosoiis</td>\n",
       "        <td>233345</td>\n",
       "        <td>54449889025</td>\n",
       "    </tr>\n",
       "    <tr>\n",
       "        <td>contosoa2ademo2</td>\n",
       "        <td>231644</td>\n",
       "        <td>53658942736</td>\n",
       "    </tr>\n",
       "</table>\n",
       "        </body>\n",
       "        </html>"
      ],
      "text/plain": [
       "<IPython.core.display.HTML object>"
      ]
     },
     "metadata": {},
     "output_type": "display_data"
    },
    {
     "data": {
      "text/html": [
       "<html>\n",
       "        <head>\n",
       "        \n",
       "        </head>\n",
       "        <body>\n",
       "        <div><p style='padding: 10px; color: #3a87ad; background-color: #d9edf7; border-color: #bce9f1'>Done&nbsp(00:01.127):&nbsp10&nbsprecords</p></div>\n",
       "        </body>\n",
       "        </html>"
      ],
      "text/plain": [
       "<IPython.core.display.HTML object>"
      ]
     },
     "metadata": {},
     "output_type": "display_data"
    },
    {
     "data": {
      "text/html": [],
      "text/plain": [
       "[{'ResourceGroup': 'contosoazurehq', 'count_': 2476785, 'count2': 6134463936225},\n",
       " {'ResourceGroup': 'contosoonpremhq', 'count_': 950419, 'count2': 903296275561},\n",
       " {'ResourceGroup': 'contosoautomation', 'count_': 567402, 'count2': 321945029604},\n",
       " {'ResourceGroup': 'aztest', 'count_': 339832, 'count2': 115485788224},\n",
       " {'ResourceGroup': 'ContosoRetailDev1', 'count_': 268794, 'count2': 72250214436},\n",
       " {'ResourceGroup': 'contosoretail100', 'count_': 266503, 'count2': 71023849009},\n",
       " {'ResourceGroup': 'contosovma6ab', 'count_': 250005, 'count2': 62502500025},\n",
       " {'ResourceGroup': 'contoso', 'count_': 242173, 'count2': 58647761929},\n",
       " {'ResourceGroup': 'contosoiis', 'count_': 233345, 'count2': 54449889025},\n",
       " {'ResourceGroup': 'contosoa2ademo2', 'count_': 231644, 'count2': 53658942736}]"
      ]
     },
     "execution_count": 69,
     "metadata": {},
     "output_type": "execute_result"
    }
   ],
   "source": [
    " _kql_raw_result_.submit()"
   ]
  },
  {
   "cell_type": "code",
   "execution_count": 70,
   "metadata": {},
   "outputs": [
    {
     "data": {
      "text/html": [
       "<html>\n",
       "        <head>\n",
       "        \n",
       "        </head>\n",
       "        <body>\n",
       "        <div><p style='padding: 10px; color: #3a87ad; background-color: #d9edf7; border-color: #bce9f1'>&nbsp*&nbspmyworkspace@loganalytics</p></div>\n",
       "        </body>\n",
       "        </html>"
      ],
      "text/plain": [
       "<IPython.core.display.HTML object>"
      ]
     },
     "metadata": {},
     "output_type": "display_data"
    },
    {
     "data": {
      "text/html": [
       "<html>\n",
       "        <head>\n",
       "        \n",
       "        </head>\n",
       "        <body>\n",
       "        <table>\n",
       "    <tr>\n",
       "        <th>ResourceGroup</th>\n",
       "    </tr>\n",
       "    <tr>\n",
       "        <td>contosoazurehq</td>\n",
       "    </tr>\n",
       "    <tr>\n",
       "        <td>contosoonpremhq</td>\n",
       "    </tr>\n",
       "    <tr>\n",
       "        <td>contosoautomation</td>\n",
       "    </tr>\n",
       "    <tr>\n",
       "        <td>aztest</td>\n",
       "    </tr>\n",
       "    <tr>\n",
       "        <td>ContosoRetailDev1</td>\n",
       "    </tr>\n",
       "</table>\n",
       "        </body>\n",
       "        </html>"
      ],
      "text/plain": [
       "<IPython.core.display.HTML object>"
      ]
     },
     "metadata": {},
     "output_type": "display_data"
    },
    {
     "data": {
      "text/html": [
       "<html>\n",
       "        <head>\n",
       "        \n",
       "        </head>\n",
       "        <body>\n",
       "        <div><p style='padding: 10px; color: #3a87ad; background-color: #d9edf7; border-color: #bce9f1'>Done&nbsp(00:01.127):&nbsp5&nbsprecords</p></div>\n",
       "        </body>\n",
       "        </html>"
      ],
      "text/plain": [
       "<IPython.core.display.HTML object>"
      ]
     },
     "metadata": {},
     "output_type": "display_data"
    },
    {
     "data": {
      "text/html": [],
      "text/plain": [
       "[{'ResourceGroup': 'contosoazurehq'},\n",
       " {'ResourceGroup': 'contosoonpremhq'},\n",
       " {'ResourceGroup': 'contosoautomation'},\n",
       " {'ResourceGroup': 'aztest'},\n",
       " {'ResourceGroup': 'ContosoRetailDev1'}]"
      ]
     },
     "execution_count": 70,
     "metadata": {},
     "output_type": "execute_result"
    }
   ],
   "source": [
    " _kql_raw_result_.fork_result(1)"
   ]
  },
  {
   "cell_type": "markdown",
   "metadata": {},
   "source": [
    "## Refresh query"
   ]
  },
  {
   "cell_type": "code",
   "execution_count": 71,
   "metadata": {},
   "outputs": [
    {
     "data": {
      "text/html": [
       "<html>\n",
       "        <head>\n",
       "        \n",
       "        </head>\n",
       "        <body>\n",
       "        <div><p style='padding: 10px; color: #3a87ad; background-color: #d9edf7; border-color: #bce9f1'>&nbsp*&nbspmyworkspace@loganalytics</p></div>\n",
       "        </body>\n",
       "        </html>"
      ],
      "text/plain": [
       "<IPython.core.display.HTML object>"
      ]
     },
     "metadata": {},
     "output_type": "display_data"
    },
    {
     "data": {
      "text/html": [
       "<html>\n",
       "        <head>\n",
       "        \n",
       "        </head>\n",
       "        <body>\n",
       "        <table>\n",
       "    <tr>\n",
       "        <th>ResourceGroup</th>\n",
       "    </tr>\n",
       "    <tr>\n",
       "        <td>contosoazurehq</td>\n",
       "    </tr>\n",
       "    <tr>\n",
       "        <td>contosoonpremhq</td>\n",
       "    </tr>\n",
       "    <tr>\n",
       "        <td>contosoautomation</td>\n",
       "    </tr>\n",
       "    <tr>\n",
       "        <td>aztest</td>\n",
       "    </tr>\n",
       "    <tr>\n",
       "        <td>ContosoRetailDev1</td>\n",
       "    </tr>\n",
       "</table>\n",
       "        </body>\n",
       "        </html>"
      ],
      "text/plain": [
       "<IPython.core.display.HTML object>"
      ]
     },
     "metadata": {},
     "output_type": "display_data"
    },
    {
     "data": {
      "text/html": [
       "<html>\n",
       "        <head>\n",
       "        \n",
       "        </head>\n",
       "        <body>\n",
       "        <div><p style='padding: 10px; color: #3a87ad; background-color: #d9edf7; border-color: #bce9f1'>Done&nbsp(00:02.307):&nbsp5&nbsprecords</p></div>\n",
       "        </body>\n",
       "        </html>"
      ],
      "text/plain": [
       "<IPython.core.display.HTML object>"
      ]
     },
     "metadata": {},
     "output_type": "display_data"
    },
    {
     "data": {
      "text/html": [],
      "text/plain": [
       "[{'ResourceGroup': 'contosoazurehq'},\n",
       " {'ResourceGroup': 'contosoonpremhq'},\n",
       " {'ResourceGroup': 'contosoautomation'},\n",
       " {'ResourceGroup': 'aztest'},\n",
       " {'ResourceGroup': 'ContosoRetailDev1'}]"
      ]
     },
     "execution_count": 71,
     "metadata": {},
     "output_type": "execute_result"
    }
   ],
   "source": [
    "_kql_raw_result_.fork_result(1).refresh()"
   ]
  },
  {
   "cell_type": "code",
   "execution_count": 72,
   "metadata": {},
   "outputs": [
    {
     "data": {
      "text/html": [
       "<html>\n",
       "        <head>\n",
       "        \n",
       "        </head>\n",
       "        <body>\n",
       "        <div><p style='padding: 10px; color: #3a87ad; background-color: #d9edf7; border-color: #bce9f1'>&nbsp*&nbspmyworkspace@loganalytics</p></div>\n",
       "        </body>\n",
       "        </html>"
      ],
      "text/plain": [
       "<IPython.core.display.HTML object>"
      ]
     },
     "metadata": {},
     "output_type": "display_data"
    },
    {
     "data": {
      "text/html": [
       "<html>\n",
       "        <head>\n",
       "        \n",
       "        </head>\n",
       "        <body>\n",
       "        <table>\n",
       "    <tr>\n",
       "        <th>ResourceGroup</th>\n",
       "        <th>count_</th>\n",
       "        <th>count2</th>\n",
       "    </tr>\n",
       "    <tr>\n",
       "        <td>contosoazurehq</td>\n",
       "        <td>2476785</td>\n",
       "        <td>6134463936225</td>\n",
       "    </tr>\n",
       "    <tr>\n",
       "        <td>contosoonpremhq</td>\n",
       "        <td>950419</td>\n",
       "        <td>903296275561</td>\n",
       "    </tr>\n",
       "    <tr>\n",
       "        <td>contosoautomation</td>\n",
       "        <td>567402</td>\n",
       "        <td>321945029604</td>\n",
       "    </tr>\n",
       "    <tr>\n",
       "        <td>aztest</td>\n",
       "        <td>339832</td>\n",
       "        <td>115485788224</td>\n",
       "    </tr>\n",
       "    <tr>\n",
       "        <td>ContosoRetailDev1</td>\n",
       "        <td>268794</td>\n",
       "        <td>72250214436</td>\n",
       "    </tr>\n",
       "    <tr>\n",
       "        <td>contosoretail100</td>\n",
       "        <td>266503</td>\n",
       "        <td>71023849009</td>\n",
       "    </tr>\n",
       "    <tr>\n",
       "        <td>contosovma6ab</td>\n",
       "        <td>250005</td>\n",
       "        <td>62502500025</td>\n",
       "    </tr>\n",
       "    <tr>\n",
       "        <td>contoso</td>\n",
       "        <td>242173</td>\n",
       "        <td>58647761929</td>\n",
       "    </tr>\n",
       "    <tr>\n",
       "        <td>contosoiis</td>\n",
       "        <td>233345</td>\n",
       "        <td>54449889025</td>\n",
       "    </tr>\n",
       "    <tr>\n",
       "        <td>contosoa2ademo2</td>\n",
       "        <td>231644</td>\n",
       "        <td>53658942736</td>\n",
       "    </tr>\n",
       "</table>\n",
       "        </body>\n",
       "        </html>"
      ],
      "text/plain": [
       "<IPython.core.display.HTML object>"
      ]
     },
     "metadata": {},
     "output_type": "display_data"
    },
    {
     "data": {
      "text/html": [
       "<html>\n",
       "        <head>\n",
       "        \n",
       "        </head>\n",
       "        <body>\n",
       "        <div><p style='padding: 10px; color: #3a87ad; background-color: #d9edf7; border-color: #bce9f1'>Done&nbsp(00:02.307):&nbsp10&nbsprecords</p></div>\n",
       "        </body>\n",
       "        </html>"
      ],
      "text/plain": [
       "<IPython.core.display.HTML object>"
      ]
     },
     "metadata": {},
     "output_type": "display_data"
    },
    {
     "data": {
      "text/html": [],
      "text/plain": [
       "[{'ResourceGroup': 'contosoazurehq', 'count_': 2476785, 'count2': 6134463936225},\n",
       " {'ResourceGroup': 'contosoonpremhq', 'count_': 950419, 'count2': 903296275561},\n",
       " {'ResourceGroup': 'contosoautomation', 'count_': 567402, 'count2': 321945029604},\n",
       " {'ResourceGroup': 'aztest', 'count_': 339832, 'count2': 115485788224},\n",
       " {'ResourceGroup': 'ContosoRetailDev1', 'count_': 268794, 'count2': 72250214436},\n",
       " {'ResourceGroup': 'contosoretail100', 'count_': 266503, 'count2': 71023849009},\n",
       " {'ResourceGroup': 'contosovma6ab', 'count_': 250005, 'count2': 62502500025},\n",
       " {'ResourceGroup': 'contoso', 'count_': 242173, 'count2': 58647761929},\n",
       " {'ResourceGroup': 'contosoiis', 'count_': 233345, 'count2': 54449889025},\n",
       " {'ResourceGroup': 'contosoa2ademo2', 'count_': 231644, 'count2': 53658942736}]"
      ]
     },
     "execution_count": 72,
     "metadata": {},
     "output_type": "execute_result"
    }
   ],
   "source": [
    "_kql_raw_result_.fork_result(0)"
   ]
  },
  {
   "cell_type": "code",
   "execution_count": 73,
   "metadata": {},
   "outputs": [
    {
     "data": {
      "text/html": [
       "<html>\n",
       "        <head>\n",
       "        \n",
       "        </head>\n",
       "        <body>\n",
       "        <table>\n",
       "    <tr>\n",
       "        <th>ResourceGroup</th>\n",
       "        <th>count_</th>\n",
       "        <th>count2</th>\n",
       "    </tr>\n",
       "    <tr>\n",
       "        <td>contosoazurehq</td>\n",
       "        <td>2476785</td>\n",
       "        <td>6134463936225</td>\n",
       "    </tr>\n",
       "    <tr>\n",
       "        <td>contosoonpremhq</td>\n",
       "        <td>950419</td>\n",
       "        <td>903296275561</td>\n",
       "    </tr>\n",
       "    <tr>\n",
       "        <td>contosoautomation</td>\n",
       "        <td>567402</td>\n",
       "        <td>321945029604</td>\n",
       "    </tr>\n",
       "    <tr>\n",
       "        <td>aztest</td>\n",
       "        <td>339832</td>\n",
       "        <td>115485788224</td>\n",
       "    </tr>\n",
       "    <tr>\n",
       "        <td>ContosoRetailDev1</td>\n",
       "        <td>268794</td>\n",
       "        <td>72250214436</td>\n",
       "    </tr>\n",
       "    <tr>\n",
       "        <td>contosoretail100</td>\n",
       "        <td>266503</td>\n",
       "        <td>71023849009</td>\n",
       "    </tr>\n",
       "    <tr>\n",
       "        <td>contosovma6ab</td>\n",
       "        <td>250005</td>\n",
       "        <td>62502500025</td>\n",
       "    </tr>\n",
       "    <tr>\n",
       "        <td>contoso</td>\n",
       "        <td>242173</td>\n",
       "        <td>58647761929</td>\n",
       "    </tr>\n",
       "    <tr>\n",
       "        <td>contosoiis</td>\n",
       "        <td>233345</td>\n",
       "        <td>54449889025</td>\n",
       "    </tr>\n",
       "    <tr>\n",
       "        <td>contosoa2ademo2</td>\n",
       "        <td>231644</td>\n",
       "        <td>53658942736</td>\n",
       "    </tr>\n",
       "</table>\n",
       "        </body>\n",
       "        </html>"
      ],
      "text/plain": [
       "<IPython.core.display.HTML object>"
      ]
     },
     "metadata": {},
     "output_type": "display_data"
    },
    {
     "data": {
      "text/html": [],
      "text/plain": [
       "[{'ResourceGroup': 'contosoazurehq', 'count_': 2476785, 'count2': 6134463936225},\n",
       " {'ResourceGroup': 'contosoonpremhq', 'count_': 950419, 'count2': 903296275561},\n",
       " {'ResourceGroup': 'contosoautomation', 'count_': 567402, 'count2': 321945029604},\n",
       " {'ResourceGroup': 'aztest', 'count_': 339832, 'count2': 115485788224},\n",
       " {'ResourceGroup': 'ContosoRetailDev1', 'count_': 268794, 'count2': 72250214436},\n",
       " {'ResourceGroup': 'contosoretail100', 'count_': 266503, 'count2': 71023849009},\n",
       " {'ResourceGroup': 'contosovma6ab', 'count_': 250005, 'count2': 62502500025},\n",
       " {'ResourceGroup': 'contoso', 'count_': 242173, 'count2': 58647761929},\n",
       " {'ResourceGroup': 'contosoiis', 'count_': 233345, 'count2': 54449889025},\n",
       " {'ResourceGroup': 'contosoa2ademo2', 'count_': 231644, 'count2': 53658942736}]"
      ]
     },
     "execution_count": 73,
     "metadata": {},
     "output_type": "execute_result"
    }
   ],
   "source": [
    "_kql_raw_result_"
   ]
  },
  {
   "cell_type": "code",
   "execution_count": null,
   "metadata": {},
   "outputs": [],
   "source": []
  },
  {
   "cell_type": "code",
   "execution_count": null,
   "metadata": {},
   "outputs": [],
   "source": []
  }
 ],
 "metadata": {
  "kernelspec": {
   "display_name": "Python 3",
   "language": "python",
   "name": "python3"
  },
  "language_info": {
   "codemirror_mode": {
    "name": "ipython",
    "version": 3
   },
   "file_extension": ".py",
   "mimetype": "text/x-python",
   "name": "python",
   "nbconvert_exporter": "python",
   "pygments_lexer": "ipython3",
   "version": "3.6.1"
  }
 },
 "nbformat": 4,
 "nbformat_minor": 2
}
